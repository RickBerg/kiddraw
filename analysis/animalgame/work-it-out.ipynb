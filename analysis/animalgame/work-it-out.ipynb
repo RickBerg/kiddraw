{
 "cells": [
  {
   "cell_type": "code",
   "execution_count": 1,
   "metadata": {
    "collapsed": true
   },
   "outputs": [],
   "source": [
    "## remember to run conn_cocolab from the terminal before running cells in this notebook!\n",
    "import os\n",
    "import urllib, cStringIO\n",
    "\n",
    "import pymongo as pm\n",
    "\n",
    "import matplotlib\n",
    "from matplotlib import pylab, mlab, pyplot\n",
    "%matplotlib inline\n",
    "from IPython.core.pylabtools import figsize, getfigs\n",
    "plt = pyplot\n",
    "import seaborn as sns\n",
    "sns.set_context('poster')\n",
    "sns.set_style('white')\n",
    "\n",
    "import numpy as np\n",
    "from __future__ import division\n",
    "import scipy.stats as stats\n",
    "import pandas as pd\n",
    "import json\n",
    "import re\n",
    "\n",
    "from PIL import Image\n",
    "import base64\n",
    "import datetime\n",
    "\n",
    "# import svg_render_helpers as rdh\n",
    "from scipy.spatial import distance"
   ]
  },
  {
   "cell_type": "markdown",
   "metadata": {},
   "source": [
    "### file hierarchy and database connection vars"
   ]
  },
  {
   "cell_type": "code",
   "execution_count": 3,
   "metadata": {
    "collapsed": true
   },
   "outputs": [],
   "source": [
    "## directory & file hierarchy\n",
    "\n",
    "iterationName = 'animalgame_run_pilot'\n",
    "exp_path = 'animalgame'\n",
    "analysis_dir = os.getcwd()\n"
   ]
  },
  {
   "cell_type": "code",
   "execution_count": 9,
   "metadata": {
    "collapsed": true
   },
   "outputs": [],
   "source": [
    "# set vars \n",
    "auth = pd.read_csv('auth.txt', header = None) # this auth.txt file contains the password for the sketchloop user\n",
    "pswd = auth.values[0][0]\n",
    "user = 'sketchloop'\n",
    "host = 'rxdhawkins.me' ## cocolab ip address\n",
    "\n",
    "# have to fix this to be able to analyze from local\n",
    "import pymongo as pm\n",
    "conn = pm.MongoClient('mongodb://sketchloop:' + pswd + '@127.0.0.1')\n",
    "db = conn['kiddraw']\n",
    "# coll = db['animalgame_run_v1']\n",
    "coll = db['animalgame_run_pilot']\n",
    "this_collection = coll"
   ]
  },
  {
   "cell_type": "markdown",
   "metadata": {},
   "source": [
    "### Preprocessing data "
   ]
  },
  {
   "cell_type": "markdown",
   "metadata": {},
   "source": [
    "Notes:\n",
    "There are two types of records in the database: 'guessData' and 'surveyData'; guessData is the main data and surveyData is optional.\n",
    "The session identifier is called \"sessionId\".\n",
    "\n",
    "\n"
   ]
  },
  {
   "cell_type": "code",
   "execution_count": 10,
   "metadata": {},
   "outputs": [
    {
     "name": "stdout",
     "output_type": "stream",
     "text": [
      "We currently have 32 total sessions.\n"
     ]
    }
   ],
   "source": [
    "total_sessions = coll.find().distinct('sessionId') ## this returns ALL sessions in this collection.\n",
    "print 'We currently have {} total sessions.'.format(len(total_sessions))"
   ]
  },
  {
   "cell_type": "code",
   "execution_count": 17,
   "metadata": {
    "collapsed": true
   },
   "outputs": [],
   "source": [
    "### Open variables\n",
    "clicked_category = []\n",
    "intended_category = []\n",
    "producer_age = []\n",
    "recognizer_age = []\n",
    "sessionId = []\n",
    "sketch_path = []\n",
    "RT = []\n",
    "trial_num = []"
   ]
  },
  {
   "cell_type": "code",
   "execution_count": 23,
   "metadata": {},
   "outputs": [
    {
     "ename": "KeyError",
     "evalue": "'recognizer_age'",
     "output_type": "error",
     "traceback": [
      "\u001b[0;31m---------------------------------------------------------------------------\u001b[0m",
      "\u001b[0;31mKeyError\u001b[0m                                  Traceback (most recent call last)",
      "\u001b[0;32m<ipython-input-23-3c64fbd26a8a>\u001b[0m in \u001b[0;36m<module>\u001b[0;34m()\u001b[0m\n\u001b[1;32m      8\u001b[0m         \u001b[0mintended_category\u001b[0m\u001b[0;34m.\u001b[0m\u001b[0mappend\u001b[0m\u001b[0;34m(\u001b[0m\u001b[0mguess\u001b[0m\u001b[0;34m[\u001b[0m\u001b[0;34m'intended_category'\u001b[0m\u001b[0;34m]\u001b[0m\u001b[0;34m)\u001b[0m\u001b[0;34m\u001b[0m\u001b[0m\n\u001b[1;32m      9\u001b[0m         \u001b[0mproducer_age\u001b[0m\u001b[0;34m.\u001b[0m\u001b[0mappend\u001b[0m\u001b[0;34m(\u001b[0m\u001b[0mguess\u001b[0m\u001b[0;34m[\u001b[0m\u001b[0;34m'producer_age'\u001b[0m\u001b[0;34m]\u001b[0m\u001b[0;34m)\u001b[0m\u001b[0;34m\u001b[0m\u001b[0m\n\u001b[0;32m---> 10\u001b[0;31m         \u001b[0mrecognizer_age\u001b[0m\u001b[0;34m.\u001b[0m\u001b[0mappend\u001b[0m\u001b[0;34m(\u001b[0m\u001b[0mguess\u001b[0m\u001b[0;34m[\u001b[0m\u001b[0;34m'recognizer_age'\u001b[0m\u001b[0;34m]\u001b[0m\u001b[0;34m)\u001b[0m\u001b[0;34m\u001b[0m\u001b[0m\n\u001b[0m\u001b[1;32m     11\u001b[0m         \u001b[0msessionId\u001b[0m\u001b[0;34m.\u001b[0m\u001b[0mappend\u001b[0m\u001b[0;34m(\u001b[0m\u001b[0mguess\u001b[0m\u001b[0;34m[\u001b[0m\u001b[0;34m'sessionId'\u001b[0m\u001b[0;34m]\u001b[0m\u001b[0;34m)\u001b[0m\u001b[0;34m\u001b[0m\u001b[0m\n\u001b[1;32m     12\u001b[0m         \u001b[0msketch_path\u001b[0m\u001b[0;34m.\u001b[0m\u001b[0mappend\u001b[0m\u001b[0;34m(\u001b[0m\u001b[0mguess\u001b[0m\u001b[0;34m[\u001b[0m\u001b[0;34m'sketch_path'\u001b[0m\u001b[0;34m]\u001b[0m\u001b[0;34m)\u001b[0m\u001b[0;34m\u001b[0m\u001b[0m\n",
      "\u001b[0;31mKeyError\u001b[0m: 'recognizer_age'"
     ]
    }
   ],
   "source": [
    "s = total_sessions[29]\n",
    "\n",
    "# for s in total_sessions:\n",
    "guesses = this_collection.find({'$and': [{'sessionId':s}, {'dataType':'guessData'}]}).sort('time')  \n",
    "if guesses.count()>5: ## did we get past practice trials\n",
    "    for guess in guesses:\n",
    "        clicked_category.append(guess['clicked_category'])\n",
    "        intended_category.append(guess['intended_category'])\n",
    "        producer_age.append(guess['producer_age'])\n",
    "        recognizer_age.append(guess['recognizer_age'])\n",
    "        sessionId.append(guess['sessionId'])\n",
    "        sketch_path.append(guess['sketch_path'])\n",
    "        trial_num.append(guess['trialNum'])\n",
    "\n",
    "        this_RT = guess['endTrialTime'] - guess['startTrialTime']\n",
    "        RT.append(this_RT)"
   ]
  },
  {
   "cell_type": "code",
   "execution_count": 25,
   "metadata": {},
   "outputs": [
    {
     "data": {
      "text/plain": [
       "{u'_id': ObjectId('5c748e3758688d23a545477a'),\n",
       " u'clicked_category': u'dog',\n",
       " u'dataType': u'guessData',\n",
       " u'date': u'2019-02-26T00:54:15.258Z',\n",
       " u'endTrialTime': 1551142455258.0,\n",
       " u'intended_category': u'dog',\n",
       " u'location': u'CDM',\n",
       " u'producer_age': u'photo',\n",
       " u'sessionId': u'animalgame_run_pilot1551142433084',\n",
       " u'sketch_path': [u'photos/dog_1.png'],\n",
       " u'startTrialTime': 1551142450707.0,\n",
       " u'trialNum': 1}"
      ]
     },
     "execution_count": 25,
     "metadata": {},
     "output_type": "execute_result"
    }
   ],
   "source": [
    "guess"
   ]
  },
  {
   "cell_type": "code",
   "execution_count": 11,
   "metadata": {},
   "outputs": [
    {
     "name": "stdout",
     "output_type": "stream",
     "text": [
      "We currently have 95 total subIDs after exclusions/tests.\n"
     ]
    }
   ],
   "source": []
  },
  {
   "cell_type": "code",
   "execution_count": null,
   "metadata": {
    "collapsed": true
   },
   "outputs": [],
   "source": []
  },
  {
   "cell_type": "code",
   "execution_count": null,
   "metadata": {},
   "outputs": [],
   "source": []
  },
  {
   "cell_type": "code",
   "execution_count": 32,
   "metadata": {
    "collapsed": true
   },
   "outputs": [],
   "source": [
    "really_run_this = 1\n",
    "if really_run_this:\n",
    "    \n",
    "    ## img writing parameters\n",
    "    imsize = 224\n",
    "    \n",
    "    ## desired output: a dataframe that has trials on the rows, and the following columns:\n",
    "    ## category, age, number of strokes, mean_pixel_intensity, bounding_box_coordinates_LTRB, list of strokes, \n",
    "    ## PNG string, submission_time, submission_date\n",
    "    ## to be saved out as a nice tidy CSV\n",
    "    session_id = []\n",
    "    trial_num = []\n",
    "    category = []\n",
    "    num_strokes = []\n",
    "    mean_pixel_intensity = []\n",
    "    bounding_box_coords = []\n",
    "    svg = []\n",
    "    svg_times = []\n",
    "    png = []\n",
    "    submit_time = []\n",
    "    submit_date = []\n",
    "    draw_duration = []\n",
    "    draw_duration_strokes = []\n",
    "    filename = []\n",
    "    age=[]\n",
    "    countErr = 0\n",
    "    condition=[]\n",
    "    readadble_date = []\n",
    "    exclude_session_id = []\n",
    "    include_age = ['age4']\n",
    "\n",
    "    for s in total_sessions:\n",
    "        this_collection = coll\n",
    "        image_recs = this_collection.find({'$and': [{'sessionId':s}, {'dataType':'finalImage'}]}).sort('time')  \n",
    "        \n",
    "        for imrec in image_recs:  \n",
    "                stroke_recs = this_collection.find({'$and': [ \n",
    "                                                  {'sessionId':s}, \n",
    "                                                  {'dataType':'stroke'},\n",
    "                                                  {'category': imrec['category']}]}).sort('time')   \n",
    "\n",
    "                if stroke_recs.count() > 0: ## only include trials if the drawings are not blank            \n",
    "                    session_id.append(imrec['sessionId'])        \n",
    "                    trial_num.append(imrec['trialNum']) \n",
    "                    category.append(imrec['category'])\n",
    "\n",
    "                    try:    \n",
    "                        png.append(imrec['imgData'])\n",
    "                        submit_time.append(imrec['endTrialTime'])\n",
    "                        submit_date.append(imrec['date'])\n",
    "                        age.append(imrec['age'])\n",
    "                        condition.append(imrec['condition'])\n",
    "                        filename.append(os.path.join(sketch_dir,'{}_sketch_{}_{}_{}.png'.format(imrec['category'], imrec['sessionId'], imrec['condition'], imrec['age'])))\n",
    "                        num_strokes.append(stroke_recs.count())\n",
    "                        draw_duration.append(imrec['endTrialTime'] - imrec['startTrialTime'])\n",
    "\n",
    "                        _svg = [] # this keeps track of the strokes from THIS final image\n",
    "                        _svg_times = []\n",
    "                        for strec in stroke_recs:\n",
    "                            _svg.append(strec['svg'])\n",
    "                            _svg_times.append(strec['endStrokeTime'])\n",
    "                        draw_duration_strokes.append((_svg_times[-1] - _svg_times[0])/1000) ## in seconds\n",
    "\n",
    "                        ## and write out image data here too\n",
    "                        imgData = imrec['imgData'];\n",
    "                        filestr = base64.b64decode(imgData)\n",
    "                        child_dir = os.path.join(sketch_dir,imrec['sessionId'])\n",
    "                        if not os.path.exists(child_dir):\n",
    "                            os.makedirs(child_dir)\n",
    "                        fname = os.path.join(child_dir,'{}_sketch_{}_{}_{}.png'.format(imrec['category'],imrec['sessionId'],imrec['condition'], imrec['age']))\n",
    "                        with open(fname, \"wb\") as fh:\n",
    "                            fh.write(imgData.decode('base64'))  \n",
    "\n",
    "                    except Exception as e:\n",
    "                        print('something went wrong with an image')\n",
    "                        print e\n",
    "                        countErr = countErr + 1\n",
    "                        print imrec['category']\n",
    "                        child_dir = os.path.join(sketch_dir,'noname')\n",
    "                        if not os.path.exists(child_dir):\n",
    "                            os.makedirs(child_dir)\n",
    "                        fname = os.path.join(child_dir,'{}_sketch_{}_{}.png'.format(imrec['category'], 'noname',imrec['sessionId']))\n",
    "                        with open(fname, \"wb\") as fh:\n",
    "                            fh.write(imgData.decode('base64'))                   "
   ]
  },
  {
   "cell_type": "code",
   "execution_count": null,
   "metadata": {
    "collapsed": true
   },
   "outputs": [],
   "source": [
    "## How many session IDs do we have?\n",
    "count_subs = np.size(np.unique(session_id))\n",
    "print 'We have {}  subjects after exclusions.'.format(count_subs)"
   ]
  },
  {
   "cell_type": "code",
   "execution_count": null,
   "metadata": {
    "collapsed": true
   },
   "outputs": [],
   "source": [
    "## How many drawings do we have in each condition?  \n",
    "print 'We have {} semantic drawings.'.format(condition.count(\"S\"))\n",
    "print 'We have {} perception drawings.'.format(condition.count(\"P\")"
   ]
  },
  {
   "cell_type": "markdown",
   "metadata": {},
   "source": [
    "## Save out data into a dataframe"
   ]
  },
  {
   "cell_type": "code",
   "execution_count": null,
   "metadata": {
    "collapsed": true
   },
   "outputs": [],
   "source": [
    "really_run_this = 1 \n",
    "## compile data\n",
    "if really_run_this:\n",
    "    X = pd.DataFrame([session_id,age,trial_num,condition,category,submit_time,submit_date,num_strokes,svg,svg_times,png,draw_duration,avg_stroke_length,filename])\n",
    "    X = X.transpose()\n",
    "    X.columns = ['session_id','age','trial_num','condition','category','submit_time','submit_date','num_strokes','svg','svg_times','png','draw_duration', 'avg_stroke_length','filename']"
   ]
  }
 ],
 "metadata": {
  "kernelspec": {
   "display_name": "Python 2",
   "language": "python",
   "name": "python2"
  },
  "language_info": {
   "codemirror_mode": {
    "name": "ipython",
    "version": 2
   },
   "file_extension": ".py",
   "mimetype": "text/x-python",
   "name": "python",
   "nbconvert_exporter": "python",
   "pygments_lexer": "ipython2",
   "version": "2.7.14"
  }
 },
 "nbformat": 4,
 "nbformat_minor": 1
}
