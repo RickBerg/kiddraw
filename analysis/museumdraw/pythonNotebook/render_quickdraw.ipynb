{
 "cells": [
  {
   "cell_type": "code",
   "execution_count": 1,
   "metadata": {
    "collapsed": true
   },
   "outputs": [],
   "source": [
    "import os\n",
    "import urllib, cStringIO\n",
    "\n",
    "import pymongo as pm\n",
    "\n",
    "import matplotlib\n",
    "from matplotlib import pylab, mlab, pyplot\n",
    "%matplotlib inline\n",
    "from IPython.core.pylabtools import figsize, getfigs\n",
    "plt = pyplot\n",
    "import seaborn as sns\n",
    "sns.set_context('poster')\n",
    "sns.set_style('white')\n",
    "\n",
    "import numpy as np\n",
    "from __future__ import division\n",
    "import scipy.stats as stats\n",
    "import pandas as pd\n",
    "import json\n",
    "import re\n",
    "\n",
    "from PIL import Image\n",
    "import base64\n",
    "\n",
    "from matplotlib.path import Path\n",
    "import matplotlib.patches as patches"
   ]
  },
  {
   "cell_type": "code",
   "execution_count": 51,
   "metadata": {
    "collapsed": true
   },
   "outputs": [],
   "source": [
    "def strokes_to_lines(strokes):\n",
    "    \"\"\"\n",
    "    Convert stroke-3 format to polyline format.\n",
    "    List contains sublist of continuous line segments (strokes).    \n",
    "    \"\"\"\n",
    "    x = 0\n",
    "    y = 0\n",
    "    lines = []\n",
    "    line = []\n",
    "    for i in range(len(strokes)):\n",
    "        if strokes[i, 2] == 1:\n",
    "            x += float(strokes[i, 0])\n",
    "            y += float(strokes[i, 1])\n",
    "            line.append([x, y])\n",
    "            lines.append(line)\n",
    "            line = []\n",
    "        else:\n",
    "            x += float(strokes[i, 0])\n",
    "            y += float(strokes[i, 1])\n",
    "            line.append([x, y])\n",
    "    return lines\n",
    "\n",
    "def polyline_pathmaker(lines):\n",
    "    x = []\n",
    "    y = []\n",
    "\n",
    "    codes = [Path.MOVETO] # start with moveto command always\n",
    "    for i,l in enumerate(lines):\n",
    "        for _i,_l in enumerate(l):\n",
    "            x.append(_l[0])\n",
    "            y.append(_l[1])\n",
    "            if _i<len(l)-1:\n",
    "                codes.append(Path.LINETO) # keep pen on page\n",
    "            else:\n",
    "                if i != len(lines)-1: # final vertex\n",
    "                    codes.append(Path.MOVETO)\n",
    "    verts = zip(x,y)            \n",
    "    return verts, codes\n",
    "\n",
    "def path_renderer(verts, codes, save_path):\n",
    "    fig = plt.figure(figsize=(6,6))    \n",
    "    ax = plt.subplot(111)    \n",
    "    padding = 10\n",
    "    xlb = min([x for (x,y) in verts]) - padding\n",
    "    xub = max([x for (x,y) in verts]) + padding\n",
    "    ylb = min([y for (x,y) in verts]) - padding\n",
    "    yub = max([y for (x,y) in verts]) + padding\n",
    "    lb = min(xlb,ylb)\n",
    "    ub = max(xub,yub)\n",
    "    ax.axis('off')\n",
    "    \n",
    "    ax.set_xlim(lb,ub)\n",
    "    ax.set_ylim(lb,ub)     \n",
    "    \n",
    "    if len(verts)>0:\n",
    "        path = Path(verts, codes)\n",
    "        patch = patches.PathPatch(path, facecolor='none', lw=5)\n",
    "        ax.add_patch(patch)\n",
    "        plt.gca().invert_yaxis() # y values increase as you go down in image\n",
    "#         plt.show() \n",
    "    \n",
    "    if len(save_path)>0:\n",
    "        print save_path\n",
    "        fig.savefig(save_path,bbox_inches='tight')\n",
    "        # load, resize, then resave\n",
    "        im = Image.open(save_path)\n",
    "        im = im.resize((224,224), Image.ANTIALIAS)\n",
    "        im.save(save_path)          "
   ]
  },
  {
   "cell_type": "code",
   "execution_count": 52,
   "metadata": {
    "collapsed": true
   },
   "outputs": [],
   "source": [
    "# path to npz files\n",
    "path_npz = '/data2/jefan/quickDraw/npz'\n",
    "path_png = '/data2/jefan/quickDraw/png'\n",
    "\n",
    "# how many drawings from each category to include\n",
    "sample_size = 1000"
   ]
  },
  {
   "cell_type": "code",
   "execution_count": 53,
   "metadata": {
    "collapsed": true
   },
   "outputs": [],
   "source": [
    "# sorted list of all categories\n",
    "paths = [os.path.join(path_npz,i) for i in sorted(os.listdir(path_npz))]"
   ]
  },
  {
   "cell_type": "code",
   "execution_count": 57,
   "metadata": {},
   "outputs": [],
   "source": [
    "# loop through paths and render out\n",
    "for path in paths:\n",
    "    print path\n",
    "    category = path.split('F')[1].split('.')[0]\n",
    "    x = np.load(path)\n",
    "    y = x['train']\n",
    "    for i in np.arange(sample_size):    \n",
    "        lines = strokes_to_lines(y[i])\n",
    "        verts,codes = polyline_pathmaker(lines)\n",
    "        save_path = os.path.join(path_png,category,'{:04d}.png'.format(i))   \n",
    "        if not os.path.exists(os.path.join(path_png,category)):\n",
    "            os.makedirs(os.path.join(path_png,category))\n",
    "        path_renderer(verts, codes,save_path)\n",
    "        plt.close('all')\n",
    "\n"
   ]
  },
  {
   "cell_type": "code",
   "execution_count": null,
   "metadata": {
    "collapsed": true
   },
   "outputs": [],
   "source": []
  },
  {
   "cell_type": "code",
   "execution_count": null,
   "metadata": {
    "collapsed": true
   },
   "outputs": [],
   "source": []
  },
  {
   "cell_type": "code",
   "execution_count": null,
   "metadata": {
    "collapsed": true
   },
   "outputs": [],
   "source": []
  },
  {
   "cell_type": "code",
   "execution_count": null,
   "metadata": {
    "collapsed": true
   },
   "outputs": [],
   "source": []
  },
  {
   "cell_type": "code",
   "execution_count": null,
   "metadata": {
    "collapsed": true
   },
   "outputs": [],
   "source": []
  },
  {
   "cell_type": "code",
   "execution_count": null,
   "metadata": {
    "collapsed": true
   },
   "outputs": [],
   "source": []
  }
 ],
 "metadata": {
  "kernelspec": {
   "display_name": "Python 2",
   "language": "python",
   "name": "python2"
  },
  "language_info": {
   "codemirror_mode": {
    "name": "ipython",
    "version": 2
   },
   "file_extension": ".py",
   "mimetype": "text/x-python",
   "name": "python",
   "nbconvert_exporter": "python",
   "pygments_lexer": "ipython2",
   "version": "2.7.12"
  }
 },
 "nbformat": 4,
 "nbformat_minor": 2
}
