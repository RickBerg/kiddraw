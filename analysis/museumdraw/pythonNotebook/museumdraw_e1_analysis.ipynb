{
 "cells": [
  {
   "cell_type": "code",
   "execution_count": 224,
   "metadata": {
    "collapsed": true
   },
   "outputs": [],
   "source": [
    "## remember to run conn_cocolab from the terminal before running cells in this notebook!\n",
    "\n",
    "import os\n",
    "import urllib, cStringIO\n",
    "\n",
    "import pymongo as pm\n",
    "\n",
    "import matplotlib\n",
    "from matplotlib import pylab, mlab, pyplot\n",
    "%matplotlib inline\n",
    "from IPython.core.pylabtools import figsize, getfigs\n",
    "plt = pyplot\n",
    "import seaborn as sns\n",
    "sns.set_context('poster')\n",
    "sns.set_style('white')\n",
    "\n",
    "import numpy as np\n",
    "from __future__ import division\n",
    "import scipy.stats as stats\n",
    "import pandas as pd\n",
    "import json\n",
    "import re\n",
    "\n",
    "from PIL import Image\n",
    "import base64"
   ]
  },
  {
   "cell_type": "markdown",
   "metadata": {},
   "source": [
    "### file hierarchy and database connection vars"
   ]
  },
  {
   "cell_type": "code",
   "execution_count": null,
   "metadata": {
    "collapsed": true
   },
   "outputs": [],
   "source": [
    "# directory & file hierarchy\n",
    "iterationName = 'e1'\n",
    "exp_path = 'museumdraw'\n",
    "analysis_dir = os.getcwd()\n",
    "exp_dir = os.path.abspath(os.path.join(os.getcwd(),'../..','experiments'))\n",
    "##\n",
    "sketch_dir = os.path.join(analysis_dir,'sketches')\n",
    "if not os.path.exists(sketch_dir):\n",
    "    os.makedirs(sketch_dir)\n",
    "## dir where we can keep all sketches not binned by category    \n"
   ]
  },
  {
   "cell_type": "code",
   "execution_count": null,
   "metadata": {
    "collapsed": true
   },
   "outputs": [],
   "source": [
    "# set vars \n",
    "auth = pd.read_csv('auth.txt', header = None) # this auth.txt file contains the password for the sketchloop user\n",
    "pswd = auth.values[0][0]\n",
    "user = 'sketchloop'\n",
    "host = 'rxdhawkins.me' ## cocolab ip address\n",
    "\n",
    "# have to fix this to be able to analyze from local\n",
    "import pymongo as pm\n",
    "conn = pm.MongoClient('mongodb://sketchloop:' + pswd + '@127.0.0.1')\n",
    "db = conn['kiddraw']\n",
    "coll = db['E1c']\n",
    "coll2 = db['E1d']"
   ]
  },
  {
   "cell_type": "code",
   "execution_count": null,
   "metadata": {
    "collapsed": true
   },
   "outputs": [],
   "source": []
  },
  {
   "cell_type": "markdown",
   "metadata": {},
   "source": [
    "### render out all pngs you can find!"
   ]
  },
  {
   "cell_type": "code",
   "execution_count": null,
   "metadata": {
    "collapsed": true
   },
   "outputs": [],
   "source": [
    "really_run = 1\n",
    "if really_run:\n",
    "    \n",
    "    ## render out first batch: E1c\n",
    "    final_images = coll.find({'dataType':'finalImage'}).sort('time')\n",
    "    imsize = 224\n",
    "    for rec in final_images:\n",
    "        imgData = rec['imgData'];\n",
    "        filestr = base64.b64decode(imgData)\n",
    "        if rec['time']> 1510252452134: ## this is the timepoint after which real data started getting collected\n",
    "            if 'age' in rec.keys():\n",
    "                category_dir = os.path.join(sketch_dir,rec['category'])\n",
    "                if not os.path.exists(category_dir):\n",
    "                    os.makedirs(category_dir)\n",
    "                fname = os.path.join(category_dir,'{}_sketch_{}_{}.png'.format(rec['category'], rec['age'],rec['sessionId']))\n",
    "                with open(fname, \"wb\") as fh:\n",
    "                    fh.write(imgData.decode('base64'))\n",
    "                \n",
    "    ## render out second batch: E1d\n",
    "    final_images = coll2.find({'dataType':'finalImage'}).sort('time')\n",
    "    imsize = 224\n",
    "    for rec in final_images:\n",
    "        imgData = rec['imgData'];\n",
    "        filestr = base64.b64decode(imgData)\n",
    "        if rec['time']> 1510252452134: ## this is the timepoint after which real data started getting collected\n",
    "            if 'age' in rec.keys():\n",
    "                category_dir = os.path.join(sketch_dir,rec['category'])\n",
    "                if not os.path.exists(category_dir):\n",
    "                    os.makedirs(category_dir)\n",
    "                fname = os.path.join(category_dir,'{}_sketch_{}_{}.png'.format(rec['category'], rec['age'],rec['sessionId']))\n",
    "                with open(fname, \"wb\") as fh:\n",
    "                    fh.write(imgData.decode('base64'))                    \n"
   ]
  },
  {
   "cell_type": "markdown",
   "metadata": {},
   "source": [
    "### Preprocessing data"
   ]
  },
  {
   "cell_type": "markdown",
   "metadata": {},
   "source": [
    "Notes:\n",
    "\n",
    "The collection that contains the data we will analyze for VSS is called 'E1c'. There were 16 categories in this set. \n",
    "\n",
    "12/19/17: We expanded the set of classes from 16 classes to 22 classes. These are saved under the experiment name 'E1d.'\n",
    "\n",
    "There are two types of records in the database: 'stroke' and 'finalImage'. This is stored under the key: 'dataType'.\n",
    "The 'stroke'-type of record contains the svg string information. Every stroke event is stored as a separate record.\n",
    "The session identifier is called \"sessionId\".\n",
    "\n",
    "\n"
   ]
  },
  {
   "cell_type": "code",
   "execution_count": null,
   "metadata": {
    "collapsed": true
   },
   "outputs": [],
   "source": [
    "# wave 1 of data collection (16 classes)\n",
    "experiment_name = 'E1c'\n",
    "time_threshold = 1510252452134 ## this is the timepoint after which real data started getting collected\n",
    "all_sessions = coll.distinct('sessionId') ## this returns ALL sessions in this collection. we will then filter on time_threshold\n",
    "valid_sessions = coll.find({'time':{'$gt': time_threshold}}).distinct('sessionId')\n",
    "practice_categories = ['circle','triangle']\n",
    "print 'We currently have {} valid sessions from {}.'.format(len(valid_sessions), experiment_name)\n",
    "\n",
    "# wave 2 of data collection (22 classes) \n",
    "experiment_name = 'E1d'\n",
    "valid_sessions += coll2.find({'time':{'$gt': time_threshold}}).distinct('sessionId')\n",
    "print 'We currently have {} valid sessions, including {}.'.format(len(valid_sessions), experiment_name)"
   ]
  },
  {
   "cell_type": "code",
   "execution_count": null,
   "metadata": {
    "collapsed": true
   },
   "outputs": [],
   "source": []
  },
  {
   "cell_type": "code",
   "execution_count": null,
   "metadata": {
    "collapsed": true
   },
   "outputs": [],
   "source": [
    "really_run_this = 1\n",
    "if really_run_this:\n",
    "    ## desired output: a dataframe that has trials on the rows, and the following columns:\n",
    "    ## category, age, number of strokes, mean_pixel_intensity, bounding_box_coordinates_LTRB, list of strokes, \n",
    "    ## PNG string, submission_time, submission_date\n",
    "    ## to be saved out as a nice tidy CSV\n",
    "    session_id = []\n",
    "    trial_num = []\n",
    "    category = []\n",
    "    age = []\n",
    "    num_strokes = []\n",
    "    mean_pixel_intensity = []\n",
    "    bounding_box_coords = []\n",
    "    svg = []\n",
    "    svg_times = []\n",
    "    png = []\n",
    "    submit_time = []\n",
    "    submit_date = []\n",
    "    draw_duration = []\n",
    "    filename = []\n",
    "    for s in valid_sessions:\n",
    "        if s.split('_')[0]!='stationPilot0': ## ignore if data comes from station pilot\n",
    "            print 'Analyzing {}'.format(s)\n",
    "            if s.split('_')[0]=='E1c':\n",
    "                this_collection = coll\n",
    "            elif s.split('_')[0]=='E1d':\n",
    "                this_collection = coll2\n",
    "            image_recs = this_collection.find({'$and': [{'time': {'$gt': time_threshold}}, {'sessionId':s}, {'dataType':'finalImage'}]}).sort('time')    \n",
    "            for imrec in image_recs:\n",
    "                if imrec['category'] not in practice_categories: ## don't save practice category trials\n",
    "                    stroke_recs = this_collection.find({'$and': [{'time': {'$gt': time_threshold}}, \n",
    "                                                      {'sessionId':s}, \n",
    "                                                      {'dataType':'stroke'},\n",
    "                                                      {'trialNum': imrec['trialNum']}]}).sort('time')   \n",
    "                    if stroke_recs.count() > 0: ## only include trials if the drawings are not blank            \n",
    "                        session_id.append(imrec['sessionId'])        \n",
    "                        trial_num.append(imrec['trialNum']) \n",
    "                        category.append(imrec['category'])\n",
    "                        age.append(imrec['age'])\n",
    "                        png.append(imrec['imgData'])\n",
    "                        submit_time.append(imrec['time'])\n",
    "                        submit_date.append(imrec['date'])\n",
    "                        filename.append(os.path.join(sketch_dir,'{}_sketch_{}_{}.png'.format(imrec['category'], imrec['age'],imrec['sessionId'])))\n",
    "                        num_strokes.append(stroke_recs.count())\n",
    "                        _svg = [] # this keeps track of the strokes from THIS final image\n",
    "                        _svg_times = []\n",
    "                        for strec in stroke_recs:\n",
    "                            _svg.append(strec['svg'])\n",
    "                            _svg_times.append(strec['time'])\n",
    "                        draw_duration.append((_svg_times[-1] - _svg_times[0])/1000) ## in seconds\n",
    "                        svg.append(_svg)\n",
    "                        svg_times.append(_svg_times)"
   ]
  },
  {
   "cell_type": "code",
   "execution_count": null,
   "metadata": {
    "collapsed": true
   },
   "outputs": [],
   "source": []
  },
  {
   "cell_type": "code",
   "execution_count": null,
   "metadata": {
    "collapsed": true
   },
   "outputs": [],
   "source": [
    "if really_run_this:\n",
    "    X = pd.DataFrame([session_id,trial_num,category,age,submit_time,submit_date,num_strokes,svg,svg_times,png,draw_duration,filename])\n",
    "    X = X.transpose()\n",
    "    X.columns = ['session_id','trial_num','category','age','submit_time','submit_date','num_strokes','svg','svg_times','png','draw_duration', 'filename']"
   ]
  },
  {
   "cell_type": "code",
   "execution_count": null,
   "metadata": {
    "collapsed": true
   },
   "outputs": [],
   "source": [
    "def get_bounding_box(img):\n",
    "    rows = np.any(img, axis=1)\n",
    "    cols = np.any(img, axis=0)\n",
    "    rmin, rmax = np.where(rows)[0][[0, -1]]\n",
    "    cmin, cmax = np.where(cols)[0][[0, -1]]\n",
    "    return rmin, rmax, cmin, cmax\n",
    "\n",
    "merged_experiment_name = 'E1cd'\n",
    "\n",
    "if really_run_this:\n",
    "\n",
    "    ## add mean pixel intensity (amount of ink spilled) & bounding box coords \n",
    "    mean_intensity = []\n",
    "    bounding_box = []\n",
    "    imsize = 100\n",
    "    numpix = imsize**2\n",
    "    thresh = 250\n",
    "    for i,_d in X.iterrows():\n",
    "        imgData = _d['png']\n",
    "        filestr = base64.b64decode(imgData)\n",
    "        fname = os.path.join('sketch.png')\n",
    "        with open(fname, \"wb\") as fh:\n",
    "            fh.write(imgData.decode('base64'))\n",
    "        im = Image.open(fname).resize((imsize,imsize))\n",
    "        _im = np.array(im)\n",
    "        mean_intensity.append(len(np.where(_im[:,:,3].flatten()>thresh)[0])/numpix)\n",
    "        # bounding box part\n",
    "        rmin, rmax, cmin, cmax = get_bounding_box(np.array(Image.open(fname)))\n",
    "        bounding_box.append(tuple((rmin, rmax, cmin, cmax)))\n",
    "\n",
    "    ## add to dataframe    \n",
    "    X = X.assign(mean_intensity=pd.Series(mean_intensity).values)\n",
    "    X = X.assign(bounding_box=pd.Series(bounding_box).values)\n",
    "    \n",
    "    # save out csv\n",
    "    X.to_csv('../preprocessed_data/museumdraw_{}_data.csv'.format(merged_experiment_name))\n"
   ]
  },
  {
   "cell_type": "code",
   "execution_count": null,
   "metadata": {
    "collapsed": true
   },
   "outputs": [],
   "source": [
    "X.shape"
   ]
  },
  {
   "cell_type": "markdown",
   "metadata": {},
   "source": [
    "### load drawing metadata csv back in"
   ]
  },
  {
   "cell_type": "code",
   "execution_count": 142,
   "metadata": {
    "collapsed": true
   },
   "outputs": [],
   "source": [
    "data_path = '../preprocessed_data/museumdraw_E1cd_imageData.csv'\n",
    "X = pd.read_csv(data_path)"
   ]
  },
  {
   "cell_type": "markdown",
   "metadata": {},
   "source": [
    "### Basic visualizations"
   ]
  },
  {
   "cell_type": "code",
   "execution_count": null,
   "metadata": {
    "collapsed": true
   },
   "outputs": [],
   "source": []
  },
  {
   "cell_type": "code",
   "execution_count": null,
   "metadata": {
    "collapsed": true
   },
   "outputs": [],
   "source": [
    "fig = plt.figure(figsize=(4,4))\n",
    "h = plt.hist(X.num_strokes.values,normed=True)\n",
    "plt.ylabel('proportion')\n",
    "plt.xlabel('number of strokes')"
   ]
  },
  {
   "cell_type": "code",
   "execution_count": null,
   "metadata": {
    "collapsed": true
   },
   "outputs": [],
   "source": [
    "fig = plt.figure(figsize=(4,4))\n",
    "h = plt.hist(X.draw_duration.values,normed=True)\n",
    "plt.ylabel('proportion')\n",
    "plt.xlabel('draw duration')"
   ]
  },
  {
   "cell_type": "code",
   "execution_count": null,
   "metadata": {
    "collapsed": true
   },
   "outputs": [],
   "source": [
    "plt.figure(figsize=(14,4))\n",
    "\n",
    "plt.subplot(1,3,1)\n",
    "seq = np.arange(4,10)\n",
    "sns.barplot(data=X,x='age',y='num_strokes',order=seq,palette=\"Greens_d\")\n",
    "plt.ylabel('number of strokes')\n",
    "\n",
    "plt.subplot(1,3,2)\n",
    "seq = np.arange(4,10)\n",
    "\n",
    "sns.barplot(data=X,x='age',y='draw_duration',order=seq, palette=\"Greens_d\")\n",
    "plt.ylabel('draw duration (s)')\n",
    "\n",
    "plt.subplot(1,3,3)\n",
    "seq = np.arange(4,10)\n",
    "sns.barplot(data=X,x='age',y='mean_intensity',order=seq,palette=\"Greens_d\")\n",
    "plt.ylabel('mean pixel intensity')\n",
    "\n",
    "plt.tight_layout()"
   ]
  },
  {
   "cell_type": "markdown",
   "metadata": {},
   "source": [
    "### vgg feature analysis "
   ]
  },
  {
   "cell_type": "code",
   "execution_count": 225,
   "metadata": {
    "collapsed": true
   },
   "outputs": [],
   "source": [
    "import torch\n",
    "import torchvision.models as models\n",
    "import torch.nn as nn\n",
    "import torchvision.transforms as transforms\n",
    "import torch.nn.functional as F\n",
    "from torch.autograd import Variable\n",
    "\n",
    "import scipy.stats as stats\n",
    "from scipy.stats import norm\n",
    "import sklearn\n",
    "from sklearn.model_selection import train_test_split, cross_val_score\n",
    "from sklearn import svm\n",
    "from sklearn import linear_model, datasets, neighbors\n",
    "\n",
    "from glob import glob\n",
    "import os\n",
    "\n",
    "import embedding as emb\n",
    "reload(emb)\n",
    "from embedding import *"
   ]
  },
  {
   "cell_type": "code",
   "execution_count": 226,
   "metadata": {
    "collapsed": true
   },
   "outputs": [],
   "source": [
    "# retrieve sketch paths\n",
    "def list_files(path, ext='png'):\n",
    "    result = [y for x in os.walk(path) for y in glob(os.path.join(x[0], '*.%s' % ext))]\n",
    "    return result\n",
    "\n",
    "def get_label_from_path(path):\n",
    "    return path.split('.')[-2].split('_')[-1]    \n",
    "\n",
    "def get_trial_from_path(path):\n",
    "    return path.split('_')[-2]\n",
    "\n",
    "def get_subj_from_path(path):\n",
    "    return path.split('/')[1]\n",
    "\n",
    "# extract metadata\n",
    "path_to_sketches = '../sketches'\n",
    "sketch_paths = sorted(list_files(path_to_sketches))"
   ]
  },
  {
   "cell_type": "code",
   "execution_count": 227,
   "metadata": {},
   "outputs": [
    {
     "name": "stdout",
     "output_type": "stream",
     "text": [
      "Number of sketch paths = 532\n"
     ]
    }
   ],
   "source": [
    "## number of sketch paths \n",
    "print 'Number of sketch paths = {}'.format(len(sketch_paths))"
   ]
  },
  {
   "cell_type": "markdown",
   "metadata": {},
   "source": [
    "#### extract features"
   ]
  },
  {
   "cell_type": "code",
   "execution_count": 196,
   "metadata": {},
   "outputs": [
    {
     "name": "stdout",
     "output_type": "stream",
     "text": [
      "Batch 1\n",
      "Batch 2\n",
      "Batch 3\n",
      "Batch 4\n",
      "Batch 5\n",
      "Batch 6\n",
      "Batch 7\n",
      "Batch 8\n",
      "Batch 9\n",
      "stopped!\n"
     ]
    }
   ],
   "source": [
    "## extract features\n",
    "layers = ['P1','P2','P3','P4','P5','FC6','FC7']\n",
    "layer_ind = 6 ### fc6 = 5, fc7 = 6\n",
    "extractor = FeatureExtractor(sketch_paths,layer=layer_ind)\n",
    "Features, Labels, Ages, Sessions = extractor.extract_feature_matrix()"
   ]
  },
  {
   "cell_type": "code",
   "execution_count": null,
   "metadata": {
    "collapsed": true
   },
   "outputs": [],
   "source": []
  },
  {
   "cell_type": "code",
   "execution_count": 153,
   "metadata": {
    "collapsed": true
   },
   "outputs": [],
   "source": [
    "## handle trials where we didn't have age information\n",
    "def convert_age(Ages):\n",
    "    ages = []\n",
    "    for a in Ages:\n",
    "        if len(a)>0:\n",
    "            ages.append(int(a))\n",
    "        else:\n",
    "            ages.append(-1)\n",
    "    return ages\n",
    "Ages = convert_age(Ages)"
   ]
  },
  {
   "cell_type": "code",
   "execution_count": 154,
   "metadata": {
    "collapsed": true
   },
   "outputs": [],
   "source": [
    "# organize metadata into dataframe\n",
    "Y = pd.DataFrame([Labels,Ages,Sessions])\n",
    "Y = Y.transpose()\n",
    "Y.columns = ['label','age','session']\n",
    "Y.to_csv('METADATA_{}.csv'.format(layers[layer_ind]))"
   ]
  },
  {
   "cell_type": "code",
   "execution_count": null,
   "metadata": {
    "collapsed": true
   },
   "outputs": [],
   "source": []
  },
  {
   "cell_type": "code",
   "execution_count": null,
   "metadata": {
    "collapsed": true
   },
   "outputs": [],
   "source": []
  },
  {
   "cell_type": "markdown",
   "metadata": {},
   "source": [
    "#### preprocessing"
   ]
  },
  {
   "cell_type": "code",
   "execution_count": 170,
   "metadata": {
    "collapsed": true
   },
   "outputs": [],
   "source": [
    "# z-score normalization to \"center\" the sketch embeddings\n",
    "def normalize(X):\n",
    "    X = X - X.mean(0)\n",
    "    X = X / np.maximum(X.std(0), 1e-5)\n",
    "    return X\n",
    "\n",
    "def preprocess_features(Features, Y):\n",
    "    # normalize feature vectors & plot full image-level similarity matrix\n",
    "    _Y = Y.sort_values(['label','age','session'])\n",
    "    inds = np.array(_Y.index)\n",
    "    _Features = normalize(Features[inds])\n",
    "    return _Features, _Y\n",
    "\n",
    "def save_features(Features, Labels, X, layer_num):\n",
    "    layers = ['P1','P2','P3','P4','P5','FC6','FC7']\n",
    "    np.save('FEATURES_{}.npy'.format(layers[layer_num]), Features)\n",
    "    np.save('LABELS.npy', Labels)\n",
    "    X.to_csv('METADATA.csv')\n",
    "    return layers[layer_num]\n",
    "\n",
    "def get_class_means(X, labels):    \n",
    "    # load in and normalize features \n",
    "    _mu = np.zeros((len(np.unique(labels)), np.shape(X)[1]))        \n",
    "    X = normalize(X)\n",
    "    for vi, v in enumerate(np.unique(np.asarray(labels))):\n",
    "        Xv = X[labels == v]\n",
    "        nv = float(Xv.shape[0])\n",
    "        if nv > 0:\n",
    "            _mu[vi] = Xv.mean(0)\n",
    "    return _mu\n",
    "\n",
    "def normalize_RDM(MAT):\n",
    "    X = MAT - MAT.mean(0).mean(0)\n",
    "    X = X / np.maximum(MAT.std(0).std(0), 1e-5)\n",
    "    return X\n",
    "\n",
    "def plot_rdm_by_class(Features,X,layer_num):\n",
    "    layers = ['P1','P2','P3','P4','P5','FC6','FC7']        \n",
    "    sns.set_style('white')\n",
    "    fig = plt.figure(figsize=(6,6))\n",
    "    labels = X.label.values\n",
    "    means = get_class_means(Features, labels)\n",
    "    CORRMAT = np.corrcoef(means)\n",
    "    plt.matshow(CORRMAT)\n",
    "    plt.colorbar()\n",
    "    if not os.path.exists('./plots'):\n",
    "        os.makedirs('./plots')\n",
    "    plt.savefig('./plots/RDM_by_view_{}.pdf'.format(layers[layer_num]))\n",
    "#     plt.close()        "
   ]
  },
  {
   "cell_type": "code",
   "execution_count": null,
   "metadata": {
    "collapsed": true
   },
   "outputs": [],
   "source": []
  },
  {
   "cell_type": "code",
   "execution_count": null,
   "metadata": {
    "collapsed": true
   },
   "outputs": [],
   "source": []
  },
  {
   "cell_type": "markdown",
   "metadata": {},
   "source": [
    "### preprocess features"
   ]
  },
  {
   "cell_type": "code",
   "execution_count": 164,
   "metadata": {
    "collapsed": true
   },
   "outputs": [],
   "source": [
    "## preprocess\n",
    "_Features, _Y = preprocess_features(Features, Y)\n",
    "\n",
    "## remove data where you dont have age information\n",
    "def remove_nans(Features, Y):\n",
    "    ind = Y.index[(Y['age'] > 0)]\n",
    "    _Y = Y.loc[ind]\n",
    "    _Features = Features[ind.tolist()]\n",
    "    return _Features, _Y\n",
    "\n",
    "_Features, _Y = remove_nans(_Features, _Y)\n",
    "\n",
    "# reset pandas dataframe index\n",
    "_Y = _Y.reset_index()\n",
    "\n",
    "# save out features & metadata\n",
    "_Labels = _Y.label.values\n",
    "layer = save_features(_Features, Labels, _Y, 6)"
   ]
  },
  {
   "cell_type": "code",
   "execution_count": null,
   "metadata": {
    "collapsed": true
   },
   "outputs": [],
   "source": []
  },
  {
   "cell_type": "code",
   "execution_count": null,
   "metadata": {
    "collapsed": true
   },
   "outputs": [],
   "source": []
  },
  {
   "cell_type": "markdown",
   "metadata": {},
   "source": [
    "### quick classification test"
   ]
  },
  {
   "cell_type": "code",
   "execution_count": 157,
   "metadata": {},
   "outputs": [
    {
     "name": "stdout",
     "output_type": "stream",
     "text": [
      "0.3828125\n"
     ]
    }
   ],
   "source": [
    "#### Quick classification test\n",
    "FEAT = _Features\n",
    "LABELS = _Y.label.values\n",
    "AGES = _Y.age.values\n",
    "\n",
    "# single train/test split\n",
    "X_train, X_test, y_train, y_test = train_test_split(\n",
    "    FEAT, LABELS, test_size=0.25, random_state=0)\n",
    "clf = svm.SVC(kernel='linear', C=1).fit(X_train, y_train)\n",
    "print clf.score(X_test, y_test)\n",
    "\n",
    "run_this = 0\n",
    "if run_this:\n",
    "    # cross-validated\n",
    "    clf = linear_model.LogisticRegression(penalty='l2')\n",
    "    scores = cross_val_score(clf, FEAT, LABELS, cv=5)\n",
    "    print(\"Accuracy: %0.2f (+/- %0.2f)\" % (scores.mean(), scores.std() * 2))"
   ]
  },
  {
   "cell_type": "code",
   "execution_count": null,
   "metadata": {
    "collapsed": true
   },
   "outputs": [],
   "source": []
  },
  {
   "cell_type": "code",
   "execution_count": 158,
   "metadata": {},
   "outputs": [
    {
     "name": "stdout",
     "output_type": "stream",
     "text": [
      "3-4y 75 0.233333333333\n",
      "4-5y 150 0.25\n",
      "5-6y 167 0.402985074627\n",
      "6-7y 160 0.4375\n",
      "7-8y 188 0.407894736842\n",
      "8-9y 122 0.408163265306\n",
      "9-10y 82 0.0909090909091\n"
     ]
    }
   ],
   "source": [
    "## see how recognizability changes with age?\n",
    "\n",
    "scores = []\n",
    "num_samples = []\n",
    "age_range = np.arange(4,11)\n",
    "\n",
    "\n",
    "# width of moving window in # of trials    \n",
    "window_size = 2\n",
    "lb = int(min(_Y.age.values))\n",
    "ub = int(max(_Y.age.values))\n",
    "num_windows = ub-lb-window_size+2 ##     \n",
    "\n",
    "for n in np.arange(num_windows):\n",
    "    start = lb + n\n",
    "    end = lb + n + window_size\n",
    "    ind = _Y.index[(_Y['age'] >= start) & (_Y['age'] < end)]\n",
    "    meta = _Y.loc[ind]\n",
    "    subFeat = _Features[ind.tolist()]\n",
    "\n",
    "    FEAT = subFeat\n",
    "    LABELS = meta.label.values\n",
    "\n",
    "    # single train/test split\n",
    "    X_train, X_test, y_train, y_test = train_test_split(\n",
    "        FEAT, LABELS, test_size=0.4, random_state=0)\n",
    "    clf = svm.SVC(kernel='linear', C=1).fit(X_train, y_train)\n",
    "    print '{}-{}y'.format(start, end-1), len(LABELS),clf.score(X_test, y_test)\n",
    "    num_samples.append(len(LABELS))\n",
    "    scores.append(clf.score(X_test, y_test))\n",
    "    "
   ]
  },
  {
   "cell_type": "code",
   "execution_count": null,
   "metadata": {
    "collapsed": true
   },
   "outputs": [],
   "source": []
  },
  {
   "cell_type": "code",
   "execution_count": 159,
   "metadata": {},
   "outputs": [
    {
     "data": {
      "text/plain": [
       "<matplotlib.colorbar.Colorbar at 0x7f04605ad350>"
      ]
     },
     "execution_count": 159,
     "metadata": {},
     "output_type": "execute_result"
    },
    {
     "data": {
      "text/plain": [
       "<matplotlib.figure.Figure at 0x7f04605adc90>"
      ]
     },
     "metadata": {},
     "output_type": "display_data"
    },
    {
     "data": {
      "image/png": "[encoded data removed]",
      "text/plain": [
       "<matplotlib.figure.Figure at 0x7f04603027d0>"
      ]
     },
     "metadata": {},
     "output_type": "display_data"
    }
   ],
   "source": [
    "sns.set_style('white')\n",
    "fig = plt.figure(figsize=(6,6))\n",
    "labels = _Y.label.values\n",
    "means = get_class_means(_Features, labels)\n",
    "CORRMAT = np.corrcoef(means)\n",
    "plt.matshow(CORRMAT)\n",
    "plt.colorbar()"
   ]
  },
  {
   "cell_type": "code",
   "execution_count": null,
   "metadata": {
    "collapsed": true
   },
   "outputs": [],
   "source": []
  },
  {
   "cell_type": "code",
   "execution_count": null,
   "metadata": {
    "collapsed": true
   },
   "outputs": [],
   "source": []
  },
  {
   "cell_type": "code",
   "execution_count": null,
   "metadata": {
    "collapsed": true
   },
   "outputs": [],
   "source": []
  },
  {
   "cell_type": "code",
   "execution_count": 160,
   "metadata": {},
   "outputs": [
    {
     "data": {
      "text/plain": [
       "<matplotlib.figure.Figure at 0x7f04606ed050>"
      ]
     },
     "metadata": {},
     "output_type": "display_data"
    },
    {
     "data": {
      "image/png": "[encoded data removed]",
      "text/plain": [
       "<matplotlib.figure.Figure at 0x7f04600cda90>"
      ]
     },
     "metadata": {},
     "output_type": "display_data"
    }
   ],
   "source": [
    "## get RDM for older kids (7,8,9,10)\n",
    "\n",
    "ind = _Y.index[_Y['age'] > 6]\n",
    "subY = _Y.loc[ind]\n",
    "subFeat = _Features[ind.tolist()]\n",
    "\n",
    "meta = subY\n",
    "feat = subFeat\n",
    "sns.set_style('white')\n",
    "fig = plt.figure(figsize=(6,6))\n",
    "labels = meta.label.values\n",
    "means = get_class_means(feat, labels)\n",
    "CORRMAT = np.corrcoef(means)\n",
    "plt.matshow(CORRMAT)\n",
    "plt.colorbar()\n",
    "CORRMAT1 = CORRMAT"
   ]
  },
  {
   "cell_type": "code",
   "execution_count": null,
   "metadata": {
    "collapsed": true
   },
   "outputs": [],
   "source": []
  },
  {
   "cell_type": "code",
   "execution_count": 161,
   "metadata": {},
   "outputs": [
    {
     "data": {
      "text/plain": [
       "<matplotlib.figure.Figure at 0x7f04604e2350>"
      ]
     },
     "metadata": {},
     "output_type": "display_data"
    },
    {
     "data": {
      "image/png": "[encoded data removed]",
      "text/plain": [
       "<matplotlib.figure.Figure at 0x7f045be8a990>"
      ]
     },
     "metadata": {},
     "output_type": "display_data"
    }
   ],
   "source": [
    "## get RDM for young kids (3,4,5,6)\n",
    "ind = _Y.index[_Y['age'] <= 6]\n",
    "subY = _Y.loc[ind]\n",
    "subFeat = _Features[ind.tolist()]\n",
    "\n",
    "meta = subY\n",
    "feat = subFeat\n",
    "sns.set_style('white')\n",
    "fig = plt.figure(figsize=(6,6))\n",
    "labels = meta.label.values\n",
    "means = get_class_means(feat, labels)\n",
    "CORRMAT = np.corrcoef(means)\n",
    "plt.matshow(CORRMAT)\n",
    "plt.colorbar()\n",
    "CORRMAT2 = CORRMAT"
   ]
  },
  {
   "cell_type": "code",
   "execution_count": null,
   "metadata": {
    "collapsed": true
   },
   "outputs": [],
   "source": []
  },
  {
   "cell_type": "code",
   "execution_count": 184,
   "metadata": {
    "collapsed": true
   },
   "outputs": [],
   "source": [
    "# import scipy.stats as stats\n",
    "# stats.spearmanr(np.ravel(CORRMAT1),np.ravel(CORRMAT2))"
   ]
  },
  {
   "cell_type": "markdown",
   "metadata": {
    "collapsed": true
   },
   "source": [
    "### Extract adult drawing features"
   ]
  },
  {
   "cell_type": "code",
   "execution_count": 228,
   "metadata": {
    "collapsed": true
   },
   "outputs": [],
   "source": [
    "import embedding as emb\n",
    "reload(emb)\n",
    "from embedding import *"
   ]
  },
  {
   "cell_type": "code",
   "execution_count": 233,
   "metadata": {
    "collapsed": true
   },
   "outputs": [],
   "source": [
    "## get list of paths to adult quickdraw drawings\n",
    "path_png = '/data2/jefan/quickDraw/png'\n",
    "adult_paths = sorted(list_files(path_png))"
   ]
  },
  {
   "cell_type": "code",
   "execution_count": 231,
   "metadata": {
    "collapsed": true
   },
   "outputs": [],
   "source": []
  },
  {
   "cell_type": "code",
   "execution_count": null,
   "metadata": {
    "scrolled": true
   },
   "outputs": [
    {
     "name": "stdout",
     "output_type": "stream",
     "text": [
      "Batch 1\n",
      "Batch 2\n",
      "Batch 3\n",
      "Batch 4\n",
      "Batch 5\n",
      "Batch 6\n",
      "Batch 7\n",
      "Batch 8\n",
      "Batch 9\n",
      "Batch 10\n",
      "Batch 11\n",
      "Batch 12\n",
      "Batch 13\n",
      "Batch 14\n",
      "Batch 15\n",
      "Batch 16\n",
      "Batch 17\n",
      "Batch 18\n",
      "Batch 19\n",
      "Batch 20\n",
      "Batch 21\n",
      "Batch 22\n",
      "Batch 23\n",
      "Batch 24\n",
      "Batch 25\n",
      "Batch 26\n",
      "Batch 27\n",
      "Batch 28\n",
      "Batch 29\n",
      "Batch 30\n",
      "Batch 31\n",
      "Batch 32\n",
      "Batch 33\n",
      "Batch 34\n",
      "Batch 35\n",
      "Batch 36\n",
      "Batch 37\n",
      "Batch 38\n",
      "Batch 39\n",
      "Batch 40\n",
      "Batch 41\n",
      "Batch 42\n",
      "Batch 43\n",
      "Batch 44\n",
      "Batch 45\n",
      "Batch 46\n",
      "Batch 47\n",
      "Batch 48\n",
      "Batch 49\n",
      "Batch 50\n",
      "Batch 51\n",
      "Batch 52\n",
      "Batch 53\n",
      "Batch 54\n",
      "Batch 55\n",
      "Batch 56\n",
      "Batch 57\n",
      "Batch 58\n",
      "Batch 59\n",
      "Batch 60\n",
      "Batch 61\n",
      "Batch 62\n",
      "Batch 63\n",
      "Batch 64\n",
      "Batch 65\n",
      "Batch 66\n",
      "Batch 67\n",
      "Batch 68\n",
      "Batch 69\n",
      "Batch 70\n",
      "Batch 71\n",
      "Batch 72\n",
      "Batch 73\n",
      "Batch 74\n",
      "Batch 75\n",
      "Batch 76\n",
      "Batch 77\n",
      "Batch 78\n",
      "Batch 79\n",
      "Batch 80\n",
      "Batch 81\n",
      "Batch 82\n",
      "Batch 83\n",
      "Batch 84\n",
      "Batch 85\n",
      "Batch 86\n",
      "Batch 87\n",
      "Batch 88\n",
      "Batch 89\n",
      "Batch 90\n",
      "Batch 91\n",
      "Batch 92\n",
      "Batch 93\n",
      "Batch 94\n",
      "Batch 95\n",
      "Batch 96\n",
      "Batch 97\n",
      "Batch 98\n",
      "Batch 99\n",
      "Batch 100\n",
      "Batch 101\n",
      "Batch 102\n",
      "Batch 103\n",
      "Batch 104\n",
      "Batch 105\n",
      "Batch 106\n",
      "Batch 107\n",
      "Batch 108\n",
      "Batch 109\n",
      "Batch 110\n",
      "Batch 111\n",
      "Batch 112\n",
      "Batch 113\n",
      "Batch 114\n",
      "Batch 115\n",
      "Batch 116\n",
      "Batch 117\n",
      "Batch 118\n",
      "Batch 119\n",
      "Batch 120\n",
      "Batch 121\n",
      "Batch 122\n",
      "Batch 123\n",
      "Batch 124\n",
      "Batch 125\n",
      "Batch 126\n",
      "Batch 127\n",
      "Batch 128\n",
      "Batch 129\n",
      "Batch 130\n",
      "Batch 131\n",
      "Batch 132\n",
      "Batch 133\n",
      "Batch 134\n",
      "Batch 135\n",
      "Batch 136\n",
      "Batch 137\n",
      "Batch 138\n",
      "Batch 139\n",
      "Batch 140\n",
      "Batch 141\n",
      "Batch 142\n",
      "Batch 143\n",
      "Batch 144\n",
      "Batch 145\n",
      "Batch 146\n",
      "Batch 147\n",
      "Batch 148\n",
      "Batch 149\n",
      "Batch 150\n",
      "Batch 151\n",
      "Batch 152\n",
      "Batch 153\n",
      "Batch 154\n",
      "Batch 155\n",
      "Batch 156\n",
      "Batch 157\n",
      "Batch 158\n",
      "Batch 159\n",
      "Batch 160\n",
      "Batch 161\n",
      "Batch 162\n",
      "Batch 163\n",
      "Batch 164\n",
      "Batch 165\n",
      "Batch 166\n",
      "Batch 167\n",
      "Batch 168\n",
      "Batch 169\n",
      "Batch 170\n",
      "Batch 171\n",
      "Batch 172\n",
      "Batch 173\n",
      "Batch 174\n",
      "Batch 175\n",
      "Batch 176\n",
      "Batch 177\n",
      "Batch 178\n",
      "Batch 179\n",
      "Batch 180\n",
      "Batch 181\n",
      "Batch 182\n",
      "Batch 183\n",
      "Batch 184\n",
      "Batch 185\n",
      "Batch 186\n",
      "Batch 187\n",
      "Batch 188\n",
      "Batch 189\n",
      "Batch 190\n",
      "Batch 191\n",
      "Batch 192\n",
      "Batch 193\n",
      "Batch 194\n",
      "Batch 195\n",
      "Batch 196\n",
      "Batch 197\n",
      "Batch 198\n",
      "Batch 199\n",
      "Batch 200\n",
      "Batch 201\n",
      "Batch 202\n",
      "Batch 203\n",
      "Batch 204\n",
      "Batch 205\n",
      "Batch 206\n",
      "Batch 207\n",
      "Batch 208\n",
      "Batch 209\n",
      "Batch 210\n",
      "Batch 211\n",
      "Batch 212\n",
      "Batch 213\n",
      "Batch 214\n",
      "Batch 215\n",
      "Batch 216\n",
      "Batch 217\n",
      "Batch 218\n",
      "Batch 219\n",
      "Batch 220\n",
      "Batch 221\n",
      "Batch 222\n",
      "Batch 223\n",
      "Batch 224\n",
      "Batch 225\n",
      "Batch 226\n",
      "Batch 227\n",
      "Batch 228\n",
      "Batch 229\n",
      "Batch 230\n",
      "Batch 231\n",
      "Batch 232\n",
      "Batch 233\n",
      "Batch 234\n",
      "Batch 235\n",
      "Batch 236\n",
      "Batch 237\n",
      "Batch 238\n",
      "Batch 239\n",
      "Batch 240\n",
      "Batch 241\n",
      "Batch 242\n",
      "Batch 243\n",
      "Batch 244\n",
      "Batch 245\n",
      "Batch 246\n",
      "Batch 247\n",
      "Batch 248\n",
      "Batch 249\n",
      "Batch 250\n",
      "Batch 251\n",
      "Batch 252\n",
      "Batch 253\n",
      "Batch 254\n",
      "Batch 255\n",
      "Batch 256\n",
      "Batch 257\n",
      "Batch 258\n",
      "Batch 259\n",
      "Batch 260\n",
      "Batch 261\n",
      "Batch 262\n"
     ]
    }
   ],
   "source": [
    "## extract features\n",
    "layers = ['P1','P2','P3','P4','P5','FC6','FC7']\n",
    "layer_ind = 6 ### fc6 = 5, fc7 = 6\n",
    "adult_extractor = FeatureExtractor(adult_paths,layer=layer_ind,cohort='adult')\n",
    "Features, Labels, Ages, Sessions = adult_extractor.extract_feature_matrix()"
   ]
  },
  {
   "cell_type": "code",
   "execution_count": 214,
   "metadata": {
    "collapsed": true
   },
   "outputs": [],
   "source": []
  },
  {
   "cell_type": "code",
   "execution_count": null,
   "metadata": {},
   "outputs": [],
   "source": []
  },
  {
   "cell_type": "code",
   "execution_count": null,
   "metadata": {
    "collapsed": true
   },
   "outputs": [],
   "source": []
  },
  {
   "cell_type": "code",
   "execution_count": null,
   "metadata": {
    "collapsed": true
   },
   "outputs": [],
   "source": []
  },
  {
   "cell_type": "code",
   "execution_count": null,
   "metadata": {
    "collapsed": true
   },
   "outputs": [],
   "source": []
  },
  {
   "cell_type": "code",
   "execution_count": null,
   "metadata": {
    "collapsed": true
   },
   "outputs": [],
   "source": []
  },
  {
   "cell_type": "code",
   "execution_count": null,
   "metadata": {
    "collapsed": true
   },
   "outputs": [],
   "source": []
  }
 ],
 "metadata": {
  "kernelspec": {
   "display_name": "Python 2",
   "language": "python",
   "name": "python2"
  },
  "language_info": {
   "codemirror_mode": {
    "name": "ipython",
    "version": 2
   },
   "file_extension": ".py",
   "mimetype": "text/x-python",
   "name": "python",
   "nbconvert_exporter": "python",
   "pygments_lexer": "ipython2",
   "version": "2.7.12"
  }
 },
 "nbformat": 4,
 "nbformat_minor": 1
}
