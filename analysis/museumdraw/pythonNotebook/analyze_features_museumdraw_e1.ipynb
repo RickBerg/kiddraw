{
 "cells": [
  {
   "cell_type": "code",
   "execution_count": 112,
   "metadata": {
    "collapsed": true
   },
   "outputs": [],
   "source": [
    "## remember to run conn_cocolab from the terminal before running cells in this notebook!\n",
    "import os\n",
    "import urllib, cStringIO\n",
    "\n",
    "import pymongo as pm\n",
    "\n",
    "import matplotlib\n",
    "from matplotlib import pylab, mlab, pyplot\n",
    "%matplotlib inline\n",
    "from IPython.core.pylabtools import figsize, getfigs\n",
    "plt = pyplot\n",
    "import seaborn as sns\n",
    "sns.set_context('poster')\n",
    "sns.set_style('white')\n",
    "\n",
    "import numpy as np\n",
    "from __future__ import division\n",
    "import scipy.stats as stats\n",
    "import pandas as pd\n",
    "import json\n",
    "import re\n",
    "\n",
    "from PIL import Image\n",
    "import base64"
   ]
  },
  {
   "cell_type": "markdown",
   "metadata": {},
   "source": [
    "### vgg feature analysis "
   ]
  },
  {
   "cell_type": "code",
   "execution_count": 113,
   "metadata": {
    "collapsed": true
   },
   "outputs": [],
   "source": [
    "import torch\n",
    "import torchvision.models as models\n",
    "import torch.nn as nn\n",
    "import torchvision.transforms as transforms\n",
    "import torch.nn.functional as F\n",
    "from torch.autograd import Variable\n",
    "\n",
    "import scipy.stats as stats\n",
    "from scipy.stats import norm\n",
    "import sklearn\n",
    "from sklearn.model_selection import train_test_split, cross_val_score\n",
    "from sklearn import svm\n",
    "from sklearn import linear_model, datasets, neighbors\n",
    "\n",
    "from glob import glob\n",
    "import os\n",
    "\n",
    "import embedding as emb\n",
    "reload(emb)\n",
    "from embedding import *"
   ]
  },
  {
   "cell_type": "code",
   "execution_count": 114,
   "metadata": {
    "collapsed": true
   },
   "outputs": [],
   "source": [
    "# retrieve sketch paths\n",
    "def list_files(path, ext='png'):\n",
    "    result = [y for x in os.walk(path) for y in glob(os.path.join(x[0], '*.%s' % ext))]\n",
    "    return result\n",
    "\n",
    "# extract metadata\n",
    "# path_to_sketches = '../sketches'\n",
    "path_to_sketches = 'sketches'\n",
    "sketch_paths = sorted(list_files(path_to_sketches))"
   ]
  },
  {
   "cell_type": "code",
   "execution_count": 115,
   "metadata": {},
   "outputs": [
    {
     "name": "stdout",
     "output_type": "stream",
     "text": [
      "Number of sketch paths = 569\n"
     ]
    }
   ],
   "source": [
    "## number of sketch paths \n",
    "print 'Number of sketch paths = {}'.format(len(sketch_paths))"
   ]
  },
  {
   "cell_type": "markdown",
   "metadata": {},
   "source": [
    "## extract features"
   ]
  },
  {
   "cell_type": "markdown",
   "metadata": {},
   "source": [
    "**Dec 28 2017:** <br>\n",
    " - From command line, extract features using `extract_features.py`. The default arguments are for the kid's drawings. <br>\n",
    " - To extract kid's drawings, just run: `python extract_features.py` <br>\n",
    " - To extract adult drawings, run: `python extract_features.py --data='/data2/jefan/quickDraw/png' --layer_ind=6 --cohort='adult'`"
   ]
  },
  {
   "cell_type": "code",
   "execution_count": 116,
   "metadata": {
    "collapsed": true
   },
   "outputs": [],
   "source": [
    "# z-score normalization to \"center\" the sketch embeddings\n",
    "def normalize(X):\n",
    "    X = X - X.mean(0)\n",
    "    X = X / np.maximum(X.std(0), 1e-5)\n",
    "    return X\n",
    "\n",
    "def get_class_means(X, labels):    \n",
    "    # load in and normalize features \n",
    "    _mu = np.zeros((len(np.unique(labels)), np.shape(X)[1]))        \n",
    "    X = normalize(X)\n",
    "    for vi, v in enumerate(np.unique(np.asarray(labels))):\n",
    "        Xv = X[labels == v]\n",
    "        nv = float(Xv.shape[0])\n",
    "        if nv > 0:\n",
    "            _mu[vi] = Xv.mean(0)\n",
    "    return _mu\n",
    "\n",
    "def normalize_RDM(MAT):\n",
    "    X = MAT - MAT.mean(0).mean(0)\n",
    "    X = X / np.maximum(MAT.std(0).std(0), 1e-5)\n",
    "    return X\n",
    "\n",
    "def plot_rdm_by_class(Features,X,layer_num):\n",
    "    layers = ['P1','P2','P3','P4','P5','FC6','FC7']        \n",
    "    sns.set_style('white')\n",
    "    fig = plt.figure(figsize=(6,6))\n",
    "    labels = X.label.values\n",
    "    means = get_class_means(Features, labels)\n",
    "    CORRMAT = np.corrcoef(means)\n",
    "    plt.matshow(CORRMAT)\n",
    "    plt.colorbar()\n",
    "    if not os.path.exists('./plots'):\n",
    "        os.makedirs('./plots')\n",
    "    plt.savefig('./plots/RDM_by_view_{}.pdf'.format(layers[layer_num]))"
   ]
  },
  {
   "cell_type": "code",
   "execution_count": null,
   "metadata": {
    "collapsed": true
   },
   "outputs": [],
   "source": []
  },
  {
   "cell_type": "code",
   "execution_count": 117,
   "metadata": {},
   "outputs": [
    {
     "name": "stdout",
     "output_type": "stream",
     "text": [
      "(387, 4096)\n"
     ]
    }
   ],
   "source": [
    "def load_features(cohort, layer_num):\n",
    "    layers = ['P1','P2','P3','P4','P5','FC6','FC7']            \n",
    "    F = np.load('./features/FEATURES_{}_{}.npy'.format(layers[layer_num],cohort))\n",
    "    M = pd.read_csv('./features/METADATA_{}.csv'.format(cohort)) \n",
    "    M = M[['label','age','session']]\n",
    "    return F, M\n",
    "\n",
    "def remove_practice_trials(KF,KM):\n",
    "    '''\n",
    "    remove \"circle\" and \"triangle\" trials from dataset\n",
    "    '''\n",
    "    practice_objects = ['circle','triangle']\n",
    "    _KF = KF[~KM['label'].isin(practice_objects),:]\n",
    "    _KM = KM[~KM['label'].isin(practice_objects)]\n",
    "    return _KF, _KM\n",
    "\n",
    "## load in kid features\n",
    "KF, KM = load_features('kid',6)\n",
    "KF, KM = remove_practice_trials(KF, KM)\n",
    "KM = KM.reset_index(drop=True)\n",
    "\n",
    "print np.shape(KF)"
   ]
  },
  {
   "cell_type": "code",
   "execution_count": null,
   "metadata": {
    "collapsed": true
   },
   "outputs": [],
   "source": []
  },
  {
   "cell_type": "markdown",
   "metadata": {},
   "source": [
    "### quick classification test"
   ]
  },
  {
   "cell_type": "code",
   "execution_count": 119,
   "metadata": {},
   "outputs": [
    {
     "name": "stdout",
     "output_type": "stream",
     "text": [
      "0.319587628866\n"
     ]
    }
   ],
   "source": [
    "#### Quick classification test\n",
    "FEAT = KF\n",
    "LABELS = KM.label.values\n",
    "AGES = KM.age.values\n",
    "\n",
    "# single train/test split\n",
    "X_train, X_test, y_train, y_test = train_test_split(\n",
    "    FEAT, LABELS, test_size=0.25, random_state=0)\n",
    "# clf = svm.SVC(kernel='linear', C=1).fit(X_train, y_train)\n",
    "clf = linear_model.LogisticRegression(penalty='l2',C=1).fit(X_train, y_train)\n",
    "print clf.score(X_test, y_test)\n",
    "\n",
    "run_this = 0\n",
    "if run_this:\n",
    "    # cross-validated\n",
    "    clf = linear_model.LogisticRegression(penalty='l2')\n",
    "    scores = cross_val_score(clf, FEAT, LABELS, cv=3)\n",
    "    print(\"Accuracy: %0.2f (+/- %0.2f)\" % (scores.mean(), scores.std() * 2))"
   ]
  },
  {
   "cell_type": "code",
   "execution_count": null,
   "metadata": {
    "collapsed": true
   },
   "outputs": [],
   "source": []
  },
  {
   "cell_type": "code",
   "execution_count": 120,
   "metadata": {},
   "outputs": [
    {
     "ename": "NameError",
     "evalue": "name '_Y' is not defined",
     "output_type": "error",
     "traceback": [
      "\u001b[0;31m---------------------------------------------------------------------------\u001b[0m",
      "\u001b[0;31mNameError\u001b[0m                                 Traceback (most recent call last)",
      "\u001b[0;32m<ipython-input-120-8ee5cee707ba>\u001b[0m in \u001b[0;36m<module>\u001b[0;34m()\u001b[0m\n\u001b[1;32m      8\u001b[0m \u001b[0;31m# width of moving window in # of trials\u001b[0m\u001b[0;34m\u001b[0m\u001b[0;34m\u001b[0m\u001b[0m\n\u001b[1;32m      9\u001b[0m \u001b[0mwindow_size\u001b[0m \u001b[0;34m=\u001b[0m \u001b[0;36m2\u001b[0m\u001b[0;34m\u001b[0m\u001b[0m\n\u001b[0;32m---> 10\u001b[0;31m \u001b[0mlb\u001b[0m \u001b[0;34m=\u001b[0m \u001b[0mint\u001b[0m\u001b[0;34m(\u001b[0m\u001b[0mmin\u001b[0m\u001b[0;34m(\u001b[0m\u001b[0m_Y\u001b[0m\u001b[0;34m.\u001b[0m\u001b[0mage\u001b[0m\u001b[0;34m.\u001b[0m\u001b[0mvalues\u001b[0m\u001b[0;34m)\u001b[0m\u001b[0;34m)\u001b[0m\u001b[0;34m\u001b[0m\u001b[0m\n\u001b[0m\u001b[1;32m     11\u001b[0m \u001b[0mub\u001b[0m \u001b[0;34m=\u001b[0m \u001b[0mint\u001b[0m\u001b[0;34m(\u001b[0m\u001b[0mmax\u001b[0m\u001b[0;34m(\u001b[0m\u001b[0m_Y\u001b[0m\u001b[0;34m.\u001b[0m\u001b[0mage\u001b[0m\u001b[0;34m.\u001b[0m\u001b[0mvalues\u001b[0m\u001b[0;34m)\u001b[0m\u001b[0;34m)\u001b[0m\u001b[0;34m\u001b[0m\u001b[0m\n\u001b[1;32m     12\u001b[0m \u001b[0mnum_windows\u001b[0m \u001b[0;34m=\u001b[0m \u001b[0mub\u001b[0m\u001b[0;34m-\u001b[0m\u001b[0mlb\u001b[0m\u001b[0;34m-\u001b[0m\u001b[0mwindow_size\u001b[0m\u001b[0;34m+\u001b[0m\u001b[0;36m2\u001b[0m \u001b[0;31m##\u001b[0m\u001b[0;34m\u001b[0m\u001b[0m\n",
      "\u001b[0;31mNameError\u001b[0m: name '_Y' is not defined"
     ]
    }
   ],
   "source": [
    "# ## see how recognizability changes with age?\n",
    "# scores = []\n",
    "# num_samples = []\n",
    "# age_range = np.arange(4,11)\n",
    "\n",
    "\n",
    "# # width of moving window in # of trials    \n",
    "# window_size = 2\n",
    "# lb = int(min(_Y.age.values))\n",
    "# ub = int(max(_Y.age.values))\n",
    "# num_windows = ub-lb-window_size+2 ##     \n",
    "\n",
    "# for n in np.arange(num_windows):\n",
    "#     start = lb + n\n",
    "#     end = lb + n + window_size\n",
    "#     ind = _Y.index[(_Y['age'] >= start) & (_Y['age'] < end)]\n",
    "#     meta = _Y.loc[ind]\n",
    "#     subFeat = _Features[ind.tolist()]\n",
    "\n",
    "#     FEAT = subFeat\n",
    "#     LABELS = meta.label.values\n",
    "\n",
    "#     # single train/test split\n",
    "#     X_train, X_test, y_train, y_test = train_test_split(\n",
    "#         FEAT, LABELS, test_size=0.5, random_state=0)\n",
    "# #     clf = svm.SVC(kernel='linear', C=1).fit(X_train, y_train)\n",
    "#     clf = linear_model.LogisticRegression(penalty='l2',C=1).fit(X_train, y_train)\n",
    "#     print '{}-{}y'.format(start, end-1), len(LABELS),clf.score(X_test, y_test)\n",
    "#     num_samples.append(len(LABELS))\n",
    "#     scores.append(clf.score(X_test, y_test))\n",
    "    "
   ]
  },
  {
   "cell_type": "code",
   "execution_count": 122,
   "metadata": {},
   "outputs": [
    {
     "name": "stdout",
     "output_type": "stream",
     "text": [
      "3 yr olds made 6 drawings\n",
      "4 yr olds made 44 drawings\n",
      "5 yr olds made 67 drawings\n",
      "6 yr olds made 60 drawings\n",
      "7 yr olds made 62 drawings\n",
      "8 yr olds made 87 drawings\n",
      "9 yr olds made 8 drawings\n",
      "10 yr olds made 53 drawings\n"
     ]
    }
   ],
   "source": [
    "print \"3 yr olds made %s drawings\" % (sum(KM['age'] == 3 ))\n",
    "print \"4 yr olds made %s drawings\" % (sum(KM['age'] == 4 ))\n",
    "print \"5 yr olds made %s drawings\" % (sum(KM['age'] == 5 ))\n",
    "print \"6 yr olds made %s drawings\" % (sum(KM['age'] == 6 ))\n",
    "print \"7 yr olds made %s drawings\" % (sum(KM['age'] == 7 ))\n",
    "print \"8 yr olds made %s drawings\" % (sum(KM['age'] == 8 ))\n",
    "print \"9 yr olds made %s drawings\" % (sum(KM['age'] == 9 ))\n",
    "print \"10 yr olds made %s drawings\" % (sum(KM['age'] == 10 ))\n"
   ]
  },
  {
   "cell_type": "code",
   "execution_count": 123,
   "metadata": {},
   "outputs": [
    {
     "name": "stdout",
     "output_type": "stream",
     "text": [
      "younger kids made 177 drawings\n",
      "older kids made 210 drawings\n"
     ]
    }
   ],
   "source": [
    "## add additional column that coarse grains age\n",
    "def coarse_grain_age(row):\n",
    "    if row['age'] > 6:\n",
    "        val = 'older'\n",
    "    elif row['age'] <= 6:\n",
    "        val = 'younger'\n",
    "    return val\n",
    "\n",
    "KM['coarse_age'] = KM.apply(coarse_grain_age, axis=1)\n",
    "\n",
    "\n",
    "print \"younger kids made %s drawings\" % (sum(KM['coarse_age'] == 'younger' ))\n",
    "print \"older kids made %s drawings\" % (sum(KM['coarse_age'] == 'older' ))"
   ]
  },
  {
   "cell_type": "code",
   "execution_count": null,
   "metadata": {
    "collapsed": true
   },
   "outputs": [],
   "source": []
  },
  {
   "cell_type": "code",
   "execution_count": 126,
   "metadata": {},
   "outputs": [],
   "source": [
    "## subset labels that have at least some drawings of them from each age category\n",
    "younger_labels = KM[KM['coarse_age'] == 'younger']['label'].values\n",
    "older_labels = KM[KM['coarse_age'] == 'older']['label'].values\n",
    "\n",
    "## list of labels that are in both younger and older age categories\n",
    "common_labels = list(np.intersect1d(younger_labels,older_labels))\n",
    "\n",
    "def subset_common_labels(F,M, common_labels):\n",
    "    '''\n",
    "    only include labels that are common to younger and older cohort\n",
    "    '''\n",
    "    _F = F[M['label'].isin(common_labels),:]\n",
    "    _M = M[M['label'].isin(common_labels)]\n",
    "    return _F, _M\n",
    "\n",
    "KF, KM = subset_common_labels(KF, KM, common_labels)\n",
    "KM = KM.reset_index(drop=True)"
   ]
  },
  {
   "cell_type": "code",
   "execution_count": 127,
   "metadata": {},
   "outputs": [
    {
     "name": "stdout",
     "output_type": "stream",
     "text": [
      "airplane -- 5 drawings\n",
      "apple -- 4 drawings\n",
      "banana -- 17 drawings\n",
      "bear -- 8 drawings\n",
      "bed -- 4 drawings\n",
      "bike -- 5 drawings\n",
      "bird -- 8 drawings\n",
      "boat -- 18 drawings\n",
      "bus -- 7 drawings\n",
      "car -- 18 drawings\n",
      "carrot -- 17 drawings\n",
      "cat -- 16 drawings\n",
      "chair -- 20 drawings\n",
      "cookie -- 5 drawings\n",
      "couch -- 16 drawings\n",
      "cup -- 17 drawings\n",
      "dog -- 4 drawings\n",
      "door -- 2 drawings\n",
      "duck -- 2 drawings\n",
      "fish -- 8 drawings\n",
      "flower -- 20 drawings\n",
      "foot -- 16 drawings\n",
      "fork -- 4 drawings\n",
      "frog -- 15 drawings\n",
      "hat -- 6 drawings\n",
      "ice cream -- 17 drawings\n",
      "keys -- 5 drawings\n",
      "phone -- 18 drawings\n",
      "piano -- 5 drawings\n",
      "rabbit -- 21 drawings\n",
      "shark -- 4 drawings\n",
      "sheep -- 5 drawings\n",
      "shoe -- 18 drawings\n",
      "table -- 6 drawings\n",
      "train -- 23 drawings\n"
     ]
    }
   ],
   "source": [
    "np.shape(common_labels)\n",
    "for l in common_labels:\n",
    "    print \"%s -- %d drawings\" % (l,sum(KM['label'] == l ))"
   ]
  },
  {
   "cell_type": "code",
   "execution_count": 128,
   "metadata": {},
   "outputs": [
    {
     "name": "stdout",
     "output_type": "stream",
     "text": [
      "banana\n",
      "boat\n",
      "car\n",
      "carrot\n",
      "chair\n",
      "couch\n",
      "cup\n",
      "foot\n",
      "frog\n",
      "ice cream\n",
      "phone\n",
      "rabbit\n",
      "shoe\n",
      "train\n"
     ]
    }
   ],
   "source": [
    "younger_labels = KM[KM['coarse_age'] == 'younger']['label'].values\n",
    "older_labels = KM[KM['coarse_age'] == 'older']['label'].values\n",
    "thres=4\n",
    "high_number_labels=[]\n",
    "for label in common_labels:\n",
    "    if sum(older_labels == label)>thres:\n",
    "        if sum(younger_labels == label)>thres:\n",
    "            print label\n",
    "            high_number_labels.append(label)\n",
    "\n",
    "KFS, KMS = subset_common_labels(KF, KM, high_number_labels)\n",
    "KMS = KMS.reset_index(drop=True)"
   ]
  },
  {
   "cell_type": "code",
   "execution_count": 47,
   "metadata": {},
   "outputs": [
    {
     "data": {
      "text/html": [
       "<div>\n",
       "<style>\n",
       "    .dataframe thead tr:only-child th {\n",
       "        text-align: right;\n",
       "    }\n",
       "\n",
       "    .dataframe thead th {\n",
       "        text-align: left;\n",
       "    }\n",
       "\n",
       "    .dataframe tbody tr th {\n",
       "        vertical-align: top;\n",
       "    }\n",
       "</style>\n",
       "<table border=\"1\" class=\"dataframe\">\n",
       "  <thead>\n",
       "    <tr style=\"text-align: right;\">\n",
       "      <th></th>\n",
       "      <th>label</th>\n",
       "      <th>age</th>\n",
       "      <th>session</th>\n",
       "      <th>coarse_age</th>\n",
       "    </tr>\n",
       "  </thead>\n",
       "  <tbody>\n",
       "    <tr>\n",
       "      <th>0</th>\n",
       "      <td>banana</td>\n",
       "      <td>4</td>\n",
       "      <td>E1c_1510691847400</td>\n",
       "      <td>younger</td>\n",
       "    </tr>\n",
       "    <tr>\n",
       "      <th>1</th>\n",
       "      <td>banana</td>\n",
       "      <td>5</td>\n",
       "      <td>E1c_1510253748384</td>\n",
       "      <td>younger</td>\n",
       "    </tr>\n",
       "    <tr>\n",
       "      <th>2</th>\n",
       "      <td>banana</td>\n",
       "      <td>5</td>\n",
       "      <td>E1c_1510786719020</td>\n",
       "      <td>younger</td>\n",
       "    </tr>\n",
       "    <tr>\n",
       "      <th>3</th>\n",
       "      <td>banana</td>\n",
       "      <td>5</td>\n",
       "      <td>E1c_1511301440421</td>\n",
       "      <td>younger</td>\n",
       "    </tr>\n",
       "    <tr>\n",
       "      <th>4</th>\n",
       "      <td>banana</td>\n",
       "      <td>6</td>\n",
       "      <td>E1c_1510782034963</td>\n",
       "      <td>younger</td>\n",
       "    </tr>\n",
       "    <tr>\n",
       "      <th>5</th>\n",
       "      <td>banana</td>\n",
       "      <td>6</td>\n",
       "      <td>E1c_1511292022297</td>\n",
       "      <td>younger</td>\n",
       "    </tr>\n",
       "    <tr>\n",
       "      <th>6</th>\n",
       "      <td>banana</td>\n",
       "      <td>6</td>\n",
       "      <td>E1c_1511292286803</td>\n",
       "      <td>younger</td>\n",
       "    </tr>\n",
       "    <tr>\n",
       "      <th>7</th>\n",
       "      <td>banana</td>\n",
       "      <td>6</td>\n",
       "      <td>E1c_1511293092153</td>\n",
       "      <td>younger</td>\n",
       "    </tr>\n",
       "    <tr>\n",
       "      <th>8</th>\n",
       "      <td>banana</td>\n",
       "      <td>7</td>\n",
       "      <td>E1c_1511301009480</td>\n",
       "      <td>older</td>\n",
       "    </tr>\n",
       "    <tr>\n",
       "      <th>9</th>\n",
       "      <td>banana</td>\n",
       "      <td>8</td>\n",
       "      <td>E1c_1510254933095</td>\n",
       "      <td>older</td>\n",
       "    </tr>\n",
       "    <tr>\n",
       "      <th>10</th>\n",
       "      <td>banana</td>\n",
       "      <td>8</td>\n",
       "      <td>E1c_1510787010922</td>\n",
       "      <td>older</td>\n",
       "    </tr>\n",
       "    <tr>\n",
       "      <th>11</th>\n",
       "      <td>banana</td>\n",
       "      <td>8</td>\n",
       "      <td>E1c_1510870628731</td>\n",
       "      <td>older</td>\n",
       "    </tr>\n",
       "    <tr>\n",
       "      <th>12</th>\n",
       "      <td>banana</td>\n",
       "      <td>8</td>\n",
       "      <td>E1c_1511292658766</td>\n",
       "      <td>older</td>\n",
       "    </tr>\n",
       "    <tr>\n",
       "      <th>13</th>\n",
       "      <td>banana</td>\n",
       "      <td>8</td>\n",
       "      <td>E1c_1511300355318</td>\n",
       "      <td>older</td>\n",
       "    </tr>\n",
       "    <tr>\n",
       "      <th>14</th>\n",
       "      <td>banana</td>\n",
       "      <td>9</td>\n",
       "      <td>E1c_1510686242527</td>\n",
       "      <td>older</td>\n",
       "    </tr>\n",
       "    <tr>\n",
       "      <th>15</th>\n",
       "      <td>banana</td>\n",
       "      <td>10</td>\n",
       "      <td>E1c_1510684833991</td>\n",
       "      <td>older</td>\n",
       "    </tr>\n",
       "    <tr>\n",
       "      <th>16</th>\n",
       "      <td>banana</td>\n",
       "      <td>10</td>\n",
       "      <td>E1c_1511293452162</td>\n",
       "      <td>older</td>\n",
       "    </tr>\n",
       "    <tr>\n",
       "      <th>17</th>\n",
       "      <td>boat</td>\n",
       "      <td>4</td>\n",
       "      <td>E1c_1510263067113</td>\n",
       "      <td>younger</td>\n",
       "    </tr>\n",
       "    <tr>\n",
       "      <th>18</th>\n",
       "      <td>boat</td>\n",
       "      <td>5</td>\n",
       "      <td>E1c_1510253748384</td>\n",
       "      <td>younger</td>\n",
       "    </tr>\n",
       "    <tr>\n",
       "      <th>19</th>\n",
       "      <td>boat</td>\n",
       "      <td>5</td>\n",
       "      <td>E1c_1510258311547</td>\n",
       "      <td>younger</td>\n",
       "    </tr>\n",
       "    <tr>\n",
       "      <th>20</th>\n",
       "      <td>boat</td>\n",
       "      <td>5</td>\n",
       "      <td>E1c_1510786719020</td>\n",
       "      <td>younger</td>\n",
       "    </tr>\n",
       "    <tr>\n",
       "      <th>21</th>\n",
       "      <td>boat</td>\n",
       "      <td>6</td>\n",
       "      <td>E1c_1510695588717</td>\n",
       "      <td>younger</td>\n",
       "    </tr>\n",
       "    <tr>\n",
       "      <th>22</th>\n",
       "      <td>boat</td>\n",
       "      <td>6</td>\n",
       "      <td>E1c_1510700570912</td>\n",
       "      <td>younger</td>\n",
       "    </tr>\n",
       "    <tr>\n",
       "      <th>23</th>\n",
       "      <td>boat</td>\n",
       "      <td>6</td>\n",
       "      <td>E1c_1510783818788</td>\n",
       "      <td>younger</td>\n",
       "    </tr>\n",
       "    <tr>\n",
       "      <th>24</th>\n",
       "      <td>boat</td>\n",
       "      <td>6</td>\n",
       "      <td>E1c_1511292286803</td>\n",
       "      <td>younger</td>\n",
       "    </tr>\n",
       "    <tr>\n",
       "      <th>25</th>\n",
       "      <td>boat</td>\n",
       "      <td>7</td>\n",
       "      <td>E1c_1511301009480</td>\n",
       "      <td>older</td>\n",
       "    </tr>\n",
       "    <tr>\n",
       "      <th>26</th>\n",
       "      <td>boat</td>\n",
       "      <td>8</td>\n",
       "      <td>E1c_1510787010922</td>\n",
       "      <td>older</td>\n",
       "    </tr>\n",
       "    <tr>\n",
       "      <th>27</th>\n",
       "      <td>boat</td>\n",
       "      <td>8</td>\n",
       "      <td>E1c_1510870628731</td>\n",
       "      <td>older</td>\n",
       "    </tr>\n",
       "    <tr>\n",
       "      <th>28</th>\n",
       "      <td>boat</td>\n",
       "      <td>8</td>\n",
       "      <td>E1c_1511292658766</td>\n",
       "      <td>older</td>\n",
       "    </tr>\n",
       "    <tr>\n",
       "      <th>29</th>\n",
       "      <td>boat</td>\n",
       "      <td>8</td>\n",
       "      <td>E1c_1511293924452</td>\n",
       "      <td>older</td>\n",
       "    </tr>\n",
       "    <tr>\n",
       "      <th>...</th>\n",
       "      <td>...</td>\n",
       "      <td>...</td>\n",
       "      <td>...</td>\n",
       "      <td>...</td>\n",
       "    </tr>\n",
       "    <tr>\n",
       "      <th>221</th>\n",
       "      <td>shoe</td>\n",
       "      <td>8</td>\n",
       "      <td>E1c_1510787010922</td>\n",
       "      <td>older</td>\n",
       "    </tr>\n",
       "    <tr>\n",
       "      <th>222</th>\n",
       "      <td>shoe</td>\n",
       "      <td>8</td>\n",
       "      <td>E1c_1510870628731</td>\n",
       "      <td>older</td>\n",
       "    </tr>\n",
       "    <tr>\n",
       "      <th>223</th>\n",
       "      <td>shoe</td>\n",
       "      <td>8</td>\n",
       "      <td>E1c_1511300355318</td>\n",
       "      <td>older</td>\n",
       "    </tr>\n",
       "    <tr>\n",
       "      <th>224</th>\n",
       "      <td>shoe</td>\n",
       "      <td>10</td>\n",
       "      <td>E1c_1510255462419</td>\n",
       "      <td>older</td>\n",
       "    </tr>\n",
       "    <tr>\n",
       "      <th>225</th>\n",
       "      <td>shoe</td>\n",
       "      <td>10</td>\n",
       "      <td>E1c_1510684833991</td>\n",
       "      <td>older</td>\n",
       "    </tr>\n",
       "    <tr>\n",
       "      <th>226</th>\n",
       "      <td>shoe</td>\n",
       "      <td>10</td>\n",
       "      <td>E1c_1511293452162</td>\n",
       "      <td>older</td>\n",
       "    </tr>\n",
       "    <tr>\n",
       "      <th>227</th>\n",
       "      <td>shoe</td>\n",
       "      <td>10</td>\n",
       "      <td>E1c_1511301807087</td>\n",
       "      <td>older</td>\n",
       "    </tr>\n",
       "    <tr>\n",
       "      <th>228</th>\n",
       "      <td>train</td>\n",
       "      <td>4</td>\n",
       "      <td>E1c_1510268275436</td>\n",
       "      <td>younger</td>\n",
       "    </tr>\n",
       "    <tr>\n",
       "      <th>229</th>\n",
       "      <td>train</td>\n",
       "      <td>5</td>\n",
       "      <td>E1c_1510253748384</td>\n",
       "      <td>younger</td>\n",
       "    </tr>\n",
       "    <tr>\n",
       "      <th>230</th>\n",
       "      <td>train</td>\n",
       "      <td>5</td>\n",
       "      <td>E1c_1510258311547</td>\n",
       "      <td>younger</td>\n",
       "    </tr>\n",
       "    <tr>\n",
       "      <th>231</th>\n",
       "      <td>train</td>\n",
       "      <td>5</td>\n",
       "      <td>E1c_1510786719020</td>\n",
       "      <td>younger</td>\n",
       "    </tr>\n",
       "    <tr>\n",
       "      <th>232</th>\n",
       "      <td>train</td>\n",
       "      <td>5</td>\n",
       "      <td>E1c_1510870384576</td>\n",
       "      <td>younger</td>\n",
       "    </tr>\n",
       "    <tr>\n",
       "      <th>233</th>\n",
       "      <td>train</td>\n",
       "      <td>6</td>\n",
       "      <td>E1c_1510253415559</td>\n",
       "      <td>younger</td>\n",
       "    </tr>\n",
       "    <tr>\n",
       "      <th>234</th>\n",
       "      <td>train</td>\n",
       "      <td>6</td>\n",
       "      <td>E1c_1510690510319</td>\n",
       "      <td>younger</td>\n",
       "    </tr>\n",
       "    <tr>\n",
       "      <th>235</th>\n",
       "      <td>train</td>\n",
       "      <td>6</td>\n",
       "      <td>E1c_1510700570912</td>\n",
       "      <td>younger</td>\n",
       "    </tr>\n",
       "    <tr>\n",
       "      <th>236</th>\n",
       "      <td>train</td>\n",
       "      <td>6</td>\n",
       "      <td>E1c_1510782034963</td>\n",
       "      <td>younger</td>\n",
       "    </tr>\n",
       "    <tr>\n",
       "      <th>237</th>\n",
       "      <td>train</td>\n",
       "      <td>6</td>\n",
       "      <td>E1c_1510783818788</td>\n",
       "      <td>younger</td>\n",
       "    </tr>\n",
       "    <tr>\n",
       "      <th>238</th>\n",
       "      <td>train</td>\n",
       "      <td>6</td>\n",
       "      <td>E1c_1511292022297</td>\n",
       "      <td>younger</td>\n",
       "    </tr>\n",
       "    <tr>\n",
       "      <th>239</th>\n",
       "      <td>train</td>\n",
       "      <td>6</td>\n",
       "      <td>E1c_1511292286803</td>\n",
       "      <td>younger</td>\n",
       "    </tr>\n",
       "    <tr>\n",
       "      <th>240</th>\n",
       "      <td>train</td>\n",
       "      <td>6</td>\n",
       "      <td>E1c_1511293092153</td>\n",
       "      <td>younger</td>\n",
       "    </tr>\n",
       "    <tr>\n",
       "      <th>241</th>\n",
       "      <td>train</td>\n",
       "      <td>7</td>\n",
       "      <td>E1c_1510263944688</td>\n",
       "      <td>older</td>\n",
       "    </tr>\n",
       "    <tr>\n",
       "      <th>242</th>\n",
       "      <td>train</td>\n",
       "      <td>7</td>\n",
       "      <td>E1c_1510783353272</td>\n",
       "      <td>older</td>\n",
       "    </tr>\n",
       "    <tr>\n",
       "      <th>243</th>\n",
       "      <td>train</td>\n",
       "      <td>7</td>\n",
       "      <td>E1c_1510870100423</td>\n",
       "      <td>older</td>\n",
       "    </tr>\n",
       "    <tr>\n",
       "      <th>244</th>\n",
       "      <td>train</td>\n",
       "      <td>8</td>\n",
       "      <td>E1c_1510787010922</td>\n",
       "      <td>older</td>\n",
       "    </tr>\n",
       "    <tr>\n",
       "      <th>245</th>\n",
       "      <td>train</td>\n",
       "      <td>8</td>\n",
       "      <td>E1c_1510870628731</td>\n",
       "      <td>older</td>\n",
       "    </tr>\n",
       "    <tr>\n",
       "      <th>246</th>\n",
       "      <td>train</td>\n",
       "      <td>8</td>\n",
       "      <td>E1c_1511300355318</td>\n",
       "      <td>older</td>\n",
       "    </tr>\n",
       "    <tr>\n",
       "      <th>247</th>\n",
       "      <td>train</td>\n",
       "      <td>9</td>\n",
       "      <td>E1c_1510689458884</td>\n",
       "      <td>older</td>\n",
       "    </tr>\n",
       "    <tr>\n",
       "      <th>248</th>\n",
       "      <td>train</td>\n",
       "      <td>10</td>\n",
       "      <td>E1c_1510684833991</td>\n",
       "      <td>older</td>\n",
       "    </tr>\n",
       "    <tr>\n",
       "      <th>249</th>\n",
       "      <td>train</td>\n",
       "      <td>10</td>\n",
       "      <td>E1c_1511293452162</td>\n",
       "      <td>older</td>\n",
       "    </tr>\n",
       "    <tr>\n",
       "      <th>250</th>\n",
       "      <td>train</td>\n",
       "      <td>10</td>\n",
       "      <td>E1c_1511301807087</td>\n",
       "      <td>older</td>\n",
       "    </tr>\n",
       "  </tbody>\n",
       "</table>\n",
       "<p>251 rows × 4 columns</p>\n",
       "</div>"
      ],
      "text/plain": [
       "      label  age            session coarse_age\n",
       "0    banana    4  E1c_1510691847400    younger\n",
       "1    banana    5  E1c_1510253748384    younger\n",
       "2    banana    5  E1c_1510786719020    younger\n",
       "3    banana    5  E1c_1511301440421    younger\n",
       "4    banana    6  E1c_1510782034963    younger\n",
       "5    banana    6  E1c_1511292022297    younger\n",
       "6    banana    6  E1c_1511292286803    younger\n",
       "7    banana    6  E1c_1511293092153    younger\n",
       "8    banana    7  E1c_1511301009480      older\n",
       "9    banana    8  E1c_1510254933095      older\n",
       "10   banana    8  E1c_1510787010922      older\n",
       "11   banana    8  E1c_1510870628731      older\n",
       "12   banana    8  E1c_1511292658766      older\n",
       "13   banana    8  E1c_1511300355318      older\n",
       "14   banana    9  E1c_1510686242527      older\n",
       "15   banana   10  E1c_1510684833991      older\n",
       "16   banana   10  E1c_1511293452162      older\n",
       "17     boat    4  E1c_1510263067113    younger\n",
       "18     boat    5  E1c_1510253748384    younger\n",
       "19     boat    5  E1c_1510258311547    younger\n",
       "20     boat    5  E1c_1510786719020    younger\n",
       "21     boat    6  E1c_1510695588717    younger\n",
       "22     boat    6  E1c_1510700570912    younger\n",
       "23     boat    6  E1c_1510783818788    younger\n",
       "24     boat    6  E1c_1511292286803    younger\n",
       "25     boat    7  E1c_1511301009480      older\n",
       "26     boat    8  E1c_1510787010922      older\n",
       "27     boat    8  E1c_1510870628731      older\n",
       "28     boat    8  E1c_1511292658766      older\n",
       "29     boat    8  E1c_1511293924452      older\n",
       "..      ...  ...                ...        ...\n",
       "221    shoe    8  E1c_1510787010922      older\n",
       "222    shoe    8  E1c_1510870628731      older\n",
       "223    shoe    8  E1c_1511300355318      older\n",
       "224    shoe   10  E1c_1510255462419      older\n",
       "225    shoe   10  E1c_1510684833991      older\n",
       "226    shoe   10  E1c_1511293452162      older\n",
       "227    shoe   10  E1c_1511301807087      older\n",
       "228   train    4  E1c_1510268275436    younger\n",
       "229   train    5  E1c_1510253748384    younger\n",
       "230   train    5  E1c_1510258311547    younger\n",
       "231   train    5  E1c_1510786719020    younger\n",
       "232   train    5  E1c_1510870384576    younger\n",
       "233   train    6  E1c_1510253415559    younger\n",
       "234   train    6  E1c_1510690510319    younger\n",
       "235   train    6  E1c_1510700570912    younger\n",
       "236   train    6  E1c_1510782034963    younger\n",
       "237   train    6  E1c_1510783818788    younger\n",
       "238   train    6  E1c_1511292022297    younger\n",
       "239   train    6  E1c_1511292286803    younger\n",
       "240   train    6  E1c_1511293092153    younger\n",
       "241   train    7  E1c_1510263944688      older\n",
       "242   train    7  E1c_1510783353272      older\n",
       "243   train    7  E1c_1510870100423      older\n",
       "244   train    8  E1c_1510787010922      older\n",
       "245   train    8  E1c_1510870628731      older\n",
       "246   train    8  E1c_1511300355318      older\n",
       "247   train    9  E1c_1510689458884      older\n",
       "248   train   10  E1c_1510684833991      older\n",
       "249   train   10  E1c_1511293452162      older\n",
       "250   train   10  E1c_1511301807087      older\n",
       "\n",
       "[251 rows x 4 columns]"
      ]
     },
     "execution_count": 47,
     "metadata": {},
     "output_type": "execute_result"
    }
   ],
   "source": [
    "KMS"
   ]
  },
  {
   "cell_type": "code",
   "execution_count": 68,
   "metadata": {},
   "outputs": [
    {
     "data": {
      "text/plain": [
       "<matplotlib.colorbar.Colorbar at 0x7ff499d7d250>"
      ]
     },
     "execution_count": 68,
     "metadata": {},
     "output_type": "execute_result"
    },
    {
     "data": {
      "text/plain": [
       "<matplotlib.figure.Figure at 0x7ff49a5a13d0>"
      ]
     },
     "metadata": {},
     "output_type": "display_data"
    },
    {
     "data": {
      "image/png": "[encoded data removed]",
      "text/plain": [
       "<matplotlib.figure.Figure at 0x7ff4a3e2be90>"
      ]
     },
     "metadata": {},
     "output_type": "display_data"
    }
   ],
   "source": [
    "## plot RDM collapsing across all ages\n",
    "sns.set_style('white')\n",
    "fig = plt.figure(figsize=(6,6))\n",
    "labels = KM.label.values\n",
    "means = get_class_means(KF, labels)\n",
    "CORRMAT = np.corrcoef(means)\n",
    "plt.matshow(CORRMAT)\n",
    "plt.colorbar()"
   ]
  },
  {
   "cell_type": "code",
   "execution_count": 129,
   "metadata": {},
   "outputs": [
    {
     "data": {
      "text/plain": [
       "<matplotlib.colorbar.Colorbar at 0x7ff4681ec150>"
      ]
     },
     "execution_count": 129,
     "metadata": {},
     "output_type": "execute_result"
    },
    {
     "data": {
      "text/plain": [
       "<matplotlib.figure.Figure at 0x7ff49a237cd0>"
      ]
     },
     "metadata": {},
     "output_type": "display_data"
    },
    {
     "data": {
      "image/png": "[encoded data removed]",
      "text/plain": [
       "<matplotlib.figure.Figure at 0x7ff46827add0>"
      ]
     },
     "metadata": {},
     "output_type": "display_data"
    }
   ],
   "source": [
    "## plot RDM collapsing across all ages -- subset\n",
    "sns.set_style('white')\n",
    "fig = plt.figure(figsize=(6,6))\n",
    "labels = KMS.label.values\n",
    "means = get_class_means(KFS, labels)\n",
    "CORRMAT = np.corrcoef(means)\n",
    "plt.matshow(CORRMAT)\n",
    "plt.colorbar()"
   ]
  },
  {
   "cell_type": "code",
   "execution_count": 70,
   "metadata": {},
   "outputs": [
    {
     "name": "stdout",
     "output_type": "stream",
     "text": [
      "(35, 35)\n"
     ]
    },
    {
     "data": {
      "text/plain": [
       "<matplotlib.figure.Figure at 0x7ff49a263210>"
      ]
     },
     "metadata": {},
     "output_type": "display_data"
    },
    {
     "data": {
      "image/png": "[encoded data removed]",
      "text/plain": [
       "<matplotlib.figure.Figure at 0x7ff499e86e50>"
      ]
     },
     "metadata": {},
     "output_type": "display_data"
    }
   ],
   "source": [
    "## get RDM for older kids (7,8,9,10)\n",
    "ind = KM.index[KM['coarse_age'] == 'older']\n",
    "meta = KM.loc[ind]\n",
    "feat = KF[ind.tolist()]\n",
    "sns.set_style('white')\n",
    "fig = plt.figure(figsize=(6,6))\n",
    "labels = meta.label.values\n",
    "means = get_class_means(feat, labels)\n",
    "CORRMAT = np.corrcoef(means)\n",
    "print(CORRMAT.shape)\n",
    "plt.matshow(CORRMAT)\n",
    "plt.colorbar()\n",
    "olderKidsFull = CORRMAT"
   ]
  },
  {
   "cell_type": "code",
   "execution_count": 71,
   "metadata": {},
   "outputs": [
    {
     "name": "stdout",
     "output_type": "stream",
     "text": [
      "(14, 14)\n"
     ]
    },
    {
     "data": {
      "text/plain": [
       "<matplotlib.figure.Figure at 0x7ff49a263c50>"
      ]
     },
     "metadata": {},
     "output_type": "display_data"
    },
    {
     "data": {
      "image/png": "[encoded data removed]",
      "text/plain": [
       "<matplotlib.figure.Figure at 0x7ff49a263750>"
      ]
     },
     "metadata": {},
     "output_type": "display_data"
    }
   ],
   "source": [
    "## get RDM for older kids (7,8,9,10) -- subset\n",
    "ind = KMS.index[KMS['coarse_age'] == 'older']\n",
    "meta = KMS.loc[ind]\n",
    "feat = KFS[ind.tolist()]\n",
    "sns.set_style('white')\n",
    "fig = plt.figure(figsize=(6,6))\n",
    "labels = meta.label.values\n",
    "means = get_class_means(feat, labels)\n",
    "CORRMAT = np.corrcoef(means)\n",
    "print(CORRMAT.shape)\n",
    "plt.matshow(CORRMAT)\n",
    "plt.colorbar()\n",
    "olderKidsSubset=CORRMAT"
   ]
  },
  {
   "cell_type": "code",
   "execution_count": null,
   "metadata": {
    "collapsed": true
   },
   "outputs": [],
   "source": []
  },
  {
   "cell_type": "code",
   "execution_count": 72,
   "metadata": {},
   "outputs": [
    {
     "name": "stdout",
     "output_type": "stream",
     "text": [
      "(35, 35)\n"
     ]
    },
    {
     "data": {
      "text/plain": [
       "<matplotlib.figure.Figure at 0x7ff4a3fe0a10>"
      ]
     },
     "metadata": {},
     "output_type": "display_data"
    },
    {
     "data": {
      "image/png": "[encoded data removed]",
      "text/plain": [
       "<matplotlib.figure.Figure at 0x7ff499fd7910>"
      ]
     },
     "metadata": {},
     "output_type": "display_data"
    }
   ],
   "source": [
    "## get RDM for young kids (3,4,5,6)\n",
    "ind = KM.index[KM['coarse_age'] == 'younger']\n",
    "subY = KM.loc[ind]\n",
    "subFeat = KF[ind.tolist()]\n",
    "\n",
    "meta = subY\n",
    "feat = subFeat\n",
    "sns.set_style('white')\n",
    "fig = plt.figure(figsize=(6,6))\n",
    "labels = meta.label.values\n",
    "means = get_class_means(feat, labels)\n",
    "CORRMAT = np.corrcoef(means)\n",
    "print(CORRMAT.shape)\n",
    "plt.matshow(CORRMAT)\n",
    "plt.colorbar()\n",
    "youngerKidsFull = CORRMAT"
   ]
  },
  {
   "cell_type": "code",
   "execution_count": 73,
   "metadata": {},
   "outputs": [
    {
     "name": "stdout",
     "output_type": "stream",
     "text": [
      "(14, 14)\n"
     ]
    },
    {
     "data": {
      "text/plain": [
       "<matplotlib.figure.Figure at 0x7ff499fd7d10>"
      ]
     },
     "metadata": {},
     "output_type": "display_data"
    },
    {
     "data": {
      "image/png": "[encoded data removed]",
      "text/plain": [
       "<matplotlib.figure.Figure at 0x7ff499e86a10>"
      ]
     },
     "metadata": {},
     "output_type": "display_data"
    }
   ],
   "source": [
    "## get RDM for young kids (3,4,5,6) - subset\n",
    "ind = KMS.index[KMS['coarse_age'] == 'younger']\n",
    "subY = KMS.loc[ind]\n",
    "subFeat = KFS[ind.tolist()]\n",
    "\n",
    "meta = subY\n",
    "feat = subFeat\n",
    "sns.set_style('white')\n",
    "fig = plt.figure(figsize=(6,6))\n",
    "labels = meta.label.values\n",
    "means = get_class_means(feat, labels)\n",
    "CORRMAT = np.corrcoef(means)\n",
    "print(CORRMAT.shape)\n",
    "plt.matshow(CORRMAT)\n",
    "plt.colorbar()\n",
    "youngerKidsSubset=CORRMAT"
   ]
  },
  {
   "cell_type": "code",
   "execution_count": 74,
   "metadata": {},
   "outputs": [
    {
     "data": {
      "text/plain": [
       "SpearmanrResult(correlation=0.50616302716794281, pvalue=1.1166425470723263e-80)"
      ]
     },
     "execution_count": 74,
     "metadata": {},
     "output_type": "execute_result"
    }
   ],
   "source": [
    "import scipy.stats as stats\n",
    "stats.spearmanr(np.ravel(youngerKidsFull),np.ravel(olderKidsFull))"
   ]
  },
  {
   "cell_type": "code",
   "execution_count": 75,
   "metadata": {},
   "outputs": [
    {
     "data": {
      "text/plain": [
       "SpearmanrResult(correlation=0.48088799259607601, pvalue=9.7574063753580303e-13)"
      ]
     },
     "execution_count": 75,
     "metadata": {},
     "output_type": "execute_result"
    }
   ],
   "source": [
    "stats.spearmanr(np.ravel(youngerKidsSubset),np.ravel(olderKidsSubset))"
   ]
  },
  {
   "cell_type": "code",
   "execution_count": null,
   "metadata": {
    "collapsed": true
   },
   "outputs": [],
   "source": []
  },
  {
   "cell_type": "markdown",
   "metadata": {
    "collapsed": true
   },
   "source": [
    "### Extract adult drawing features"
   ]
  },
  {
   "cell_type": "code",
   "execution_count": 130,
   "metadata": {},
   "outputs": [
    {
     "name": "stdout",
     "output_type": "stream",
     "text": [
      "(38000, 4096)\n"
     ]
    }
   ],
   "source": [
    "## load in adult features\n",
    "AF, AM = load_features('adult',6)\n",
    "AF, AM = remove_practice_trials(AF, AM)\n",
    "AM = AM.reset_index(drop=True)\n",
    "print np.shape(AF)"
   ]
  },
  {
   "cell_type": "code",
   "execution_count": 131,
   "metadata": {
    "collapsed": true
   },
   "outputs": [],
   "source": [
    "## set up lookup table to cover discrepancies in category label assignments\n",
    "lookup = dict(zip(common_labels,common_labels))\n",
    "lookup['bike'] = 'bicycle'"
   ]
  },
  {
   "cell_type": "code",
   "execution_count": 132,
   "metadata": {
    "collapsed": true
   },
   "outputs": [],
   "source": [
    "AF, AM = subset_common_labels(AF, AM, [lookup[i] for i in common_labels])\n",
    "AM = AM.reset_index(drop=True)\n",
    "\n",
    "AFS, AMS = subset_common_labels(AF, AM, [lookup[i] for i in high_number_labels])\n",
    "AMS = AMS.reset_index(drop=True)"
   ]
  },
  {
   "cell_type": "code",
   "execution_count": 133,
   "metadata": {},
   "outputs": [
    {
     "data": {
      "text/plain": [
       "['banana',\n",
       " 'boat',\n",
       " 'car',\n",
       " 'carrot',\n",
       " 'chair',\n",
       " 'couch',\n",
       " 'cup',\n",
       " 'foot',\n",
       " 'frog',\n",
       " 'ice cream',\n",
       " 'phone',\n",
       " 'rabbit',\n",
       " 'shoe',\n",
       " 'train']"
      ]
     },
     "execution_count": 133,
     "metadata": {},
     "output_type": "execute_result"
    }
   ],
   "source": [
    "high_number_labels"
   ]
  },
  {
   "cell_type": "code",
   "execution_count": 138,
   "metadata": {},
   "outputs": [
    {
     "name": "stdout",
     "output_type": "stream",
     "text": [
      "(14, 14)\n"
     ]
    },
    {
     "data": {
      "image/png": "[encoded data removed]",
      "text/plain": [
       "<matplotlib.figure.Figure at 0x7ff468197650>"
      ]
     },
     "metadata": {},
     "output_type": "display_data"
    }
   ],
   "source": [
    "## sorted adult RDMs\n",
    "# labels = AM.label.values\n",
    "# adult_means = get_class_means(AF, labels)\n",
    "# ordered_means = adult_means[sort_inds,:]\n",
    "# sns.set_style('white')\n",
    "# CORRMAT = np.corrcoef(ordered_means)\n",
    "\n",
    "labels = AMS.label.values\n",
    "adult_means = get_class_means(AFS, labels)\n",
    "sns.set_style('white')\n",
    "CORRMAT = np.corrcoef(adult_means)\n",
    "print(CORRMAT.shape)\n",
    "plt.matshow(CORRMAT)\n",
    "plt.colorbar()\n",
    "adultsSubset=CORRMAT\n",
    "\n",
    "## retrieve alpha sorted labels from meta\n",
    "# _labels = np.unique(AM.label.values)\n",
    "_labels = np.unique(AMS.label.values)"
   ]
  },
  {
   "cell_type": "code",
   "execution_count": 135,
   "metadata": {
    "collapsed": true
   },
   "outputs": [],
   "source": [
    "def flatten(x):\n",
    "    return [item for sublist in x for item in sublist]\n",
    "\n",
    "from sklearn.cluster import AffinityPropagation\n",
    "from sklearn import metrics\n",
    "\n",
    "af = AffinityPropagation(damping=0.5).fit(adult_means)"
   ]
  },
  {
   "cell_type": "code",
   "execution_count": 136,
   "metadata": {},
   "outputs": [
    {
     "name": "stdout",
     "output_type": "stream",
     "text": [
      "Clusters\n",
      "['carrot' 'chair']\n",
      "['banana' 'car' 'frog' 'rabbit']\n",
      "['phone']\n",
      "['boat' 'couch' 'cup' 'foot' 'ice cream' 'shoe']\n",
      "['train']\n"
     ]
    }
   ],
   "source": [
    "labels = af.labels_\n",
    "cluster_centers_indices = af.cluster_centers_indices_\n",
    "n_clusters_ = len(cluster_centers_indices)\n",
    "\n",
    "ordered_objs = []\n",
    "print('Clusters')\n",
    "for k in range(n_clusters_):\n",
    "    class_members = labels == k\n",
    "    print _labels[class_members]\n",
    "    ordered_objs.append(list(_labels[class_members]))\n",
    "    \n",
    "ordered_objs = np.array(flatten(ordered_objs))\n",
    "\n",
    "## index for sorting the alphabetical list of labels INTO the order specified by ordered_objs (clustered)\n",
    "sort_inds = [np.where(_labels==ordered_objs[i])[0][0] for i in np.arange(len(ordered_objs))]"
   ]
  },
  {
   "cell_type": "code",
   "execution_count": 141,
   "metadata": {},
   "outputs": [
    {
     "data": {
      "text/plain": [
       "SpearmanrResult(correlation=0.53372420381764951, pvalue=7.9544443203310691e-16)"
      ]
     },
     "execution_count": 141,
     "metadata": {},
     "output_type": "execute_result"
    }
   ],
   "source": [
    "stats.spearmanr(np.ravel(adultsSubset),np.ravel(olderKidsSubset))\n",
    "stats.spearmanr(np.ravel(adultsSubset),np.ravel(youngerKidsSubset))"
   ]
  },
  {
   "cell_type": "code",
   "execution_count": 165,
   "metadata": {},
   "outputs": [
    {
     "data": {
      "text/plain": [
       "<matplotlib.figure.Figure at 0x7ff49a189890>"
      ]
     },
     "metadata": {},
     "output_type": "display_data"
    },
    {
     "data": {
      "image/png": "[encoded data removed]",
      "text/plain": [
       "<matplotlib.figure.Figure at 0x7ff499fa63d0>"
      ]
     },
     "metadata": {},
     "output_type": "display_data"
    }
   ],
   "source": [
    "sns.set_context('paper')\n",
    "fig = plt.figure(figsize=(24,24))\n",
    "CORRMAT = np.corrcoef(adult_means[sort_inds,:])\n",
    "plt.matshow(CORRMAT)\n",
    "\n",
    "plt.xticks(range(len(ordered_objs)), ordered_objs, rotation=90);\n",
    "plt.yticks(range(len(ordered_objs)), ordered_objs); \n",
    "plt.colorbar()\n",
    "for tick in pylab.gca().xaxis.iter_ticks():\n",
    "    tick[0].label2On = True\n",
    "    tick[0].label1On = False\n",
    "    tick[0].label2.set_rotation('vertical')\n",
    "    tick[0].tick1On = False\n",
    "    tick[0].tick2On = False\n",
    "for tick in pylab.gca().yaxis.iter_ticks():\n",
    "    tick[0].tick1On = False\n",
    "    tick[0].tick2On = False  \n",
    "ARDM = CORRMAT"
   ]
  },
  {
   "cell_type": "code",
   "execution_count": 166,
   "metadata": {},
   "outputs": [
    {
     "data": {
      "text/plain": [
       "<matplotlib.figure.Figure at 0x7ff47781a210>"
      ]
     },
     "metadata": {},
     "output_type": "display_data"
    },
    {
     "data": {
      "image/png": "[encoded data removed]",
      "text/plain": [
       "<matplotlib.figure.Figure at 0x7ff47781a190>"
      ]
     },
     "metadata": {},
     "output_type": "display_data"
    }
   ],
   "source": [
    "## plot sorted kid RDM collapsing across all ages\n",
    "sns.set_style('white')\n",
    "fig = plt.figure(figsize=(6,6))\n",
    "labels = KM.label.values\n",
    "kid_means = get_class_means(KF, labels)\n",
    "ordered_means = kid_means[sort_inds,:]\n",
    "CORRMAT = np.corrcoef(ordered_means)\n",
    "plt.matshow(CORRMAT)\n",
    "plt.xticks(range(len(ordered_objs)), ordered_objs, rotation=90);\n",
    "plt.yticks(range(len(ordered_objs)), ordered_objs); \n",
    "plt.colorbar()\n",
    "for tick in pylab.gca().xaxis.iter_ticks():\n",
    "    tick[0].label2On = True\n",
    "    tick[0].label1On = False\n",
    "    tick[0].label2.set_rotation('vertical')\n",
    "    tick[0].tick1On = False\n",
    "    tick[0].tick2On = False\n",
    "for tick in pylab.gca().yaxis.iter_ticks():\n",
    "    tick[0].tick1On = False\n",
    "    tick[0].tick2On = False  \n",
    "KRDM = CORRMAT"
   ]
  },
  {
   "cell_type": "code",
   "execution_count": null,
   "metadata": {
    "collapsed": true
   },
   "outputs": [],
   "source": []
  },
  {
   "cell_type": "code",
   "execution_count": 159,
   "metadata": {},
   "outputs": [
    {
     "data": {
      "text/plain": [
       "SpearmanrResult(correlation=0.4090767761648465, pvalue=1.2863875329655047e-50)"
      ]
     },
     "execution_count": 159,
     "metadata": {},
     "output_type": "execute_result"
    }
   ],
   "source": [
    "import scipy.stats as stats\n",
    "stats.spearmanr(np.ravel(ARDM),np.ravel(KRDM))"
   ]
  },
  {
   "cell_type": "code",
   "execution_count": 160,
   "metadata": {},
   "outputs": [
    {
     "data": {
      "text/plain": [
       "<matplotlib.figure.Figure at 0x7ff477528050>"
      ]
     },
     "metadata": {},
     "output_type": "display_data"
    },
    {
     "data": {
      "image/png": "[encoded data removed]",
      "text/plain": [
       "<matplotlib.figure.Figure at 0x7ff4680bdf10>"
      ]
     },
     "metadata": {},
     "output_type": "display_data"
    }
   ],
   "source": [
    "## get RDM for older kids (7,8,9,10)\n",
    "ind = KM.index[KM['coarse_age'] == 'older']\n",
    "meta = KM.loc[ind]\n",
    "feat = KF[ind.tolist()]\n",
    "sns.set_style('white')\n",
    "fig = plt.figure(figsize=(6,6))\n",
    "labels = meta.label.values\n",
    "older_means = get_class_means(feat, labels)\n",
    "ordered_means = older_means[sort_inds,:]\n",
    "CORRMAT = np.corrcoef(ordered_means)\n",
    "plt.matshow(CORRMAT)\n",
    "plt.xticks(range(len(ordered_objs)), ordered_objs, rotation=90);\n",
    "plt.yticks(range(len(ordered_objs)), ordered_objs); \n",
    "plt.colorbar()\n",
    "for tick in pylab.gca().xaxis.iter_ticks():\n",
    "    tick[0].label2On = True\n",
    "    tick[0].label1On = False\n",
    "    tick[0].label2.set_rotation('vertical')\n",
    "    tick[0].tick1On = False\n",
    "    tick[0].tick2On = False\n",
    "for tick in pylab.gca().yaxis.iter_ticks():\n",
    "    tick[0].tick1On = False\n",
    "    tick[0].tick2On = False  \n",
    "ORDM = CORRMAT"
   ]
  },
  {
   "cell_type": "code",
   "execution_count": 164,
   "metadata": {},
   "outputs": [
    {
     "data": {
      "text/plain": [
       "<matplotlib.figure.Figure at 0x7ff49a033ed0>"
      ]
     },
     "metadata": {},
     "output_type": "display_data"
    },
    {
     "data": {
      "image/png": "[encoded data removed]",
      "text/plain": [
       "<matplotlib.figure.Figure at 0x7ff4778094d0>"
      ]
     },
     "metadata": {},
     "output_type": "display_data"
    }
   ],
   "source": [
    "## get RDM for older kids (7,8,9,10)\n",
    "ind = KM.index[KM['coarse_age'] == 'younger']\n",
    "meta = KM.loc[ind]\n",
    "feat = KF[ind.tolist()]\n",
    "sns.set_style('white')\n",
    "fig = plt.figure(figsize=(6,6))\n",
    "labels = meta.label.values\n",
    "younger_means = get_class_means(feat, labels)\n",
    "ordered_means = younger_means[sort_inds,:]\n",
    "CORRMAT = np.corrcoef(ordered_means)\n",
    "plt.matshow(CORRMAT)\n",
    "plt.xticks(range(len(ordered_objs)), ordered_objs, rotation=90);\n",
    "plt.yticks(range(len(ordered_objs)), ordered_objs); \n",
    "plt.colorbar()\n",
    "for tick in pylab.gca().xaxis.iter_ticks():\n",
    "    tick[0].label2On = True\n",
    "    tick[0].label1On = False\n",
    "    tick[0].label2.set_rotation('vertical')\n",
    "    tick[0].tick1On = False\n",
    "    tick[0].tick2On = False\n",
    "for tick in pylab.gca().yaxis.iter_ticks():\n",
    "    tick[0].tick1On = False\n",
    "    tick[0].tick2On = False  \n",
    "YRDM = CORRMAT"
   ]
  }
 ],
 "metadata": {
  "kernelspec": {
   "display_name": "Python 2",
   "language": "python",
   "name": "python2"
  },
  "language_info": {
   "codemirror_mode": {
    "name": "ipython",
    "version": 2
   },
   "file_extension": ".py",
   "mimetype": "text/x-python",
   "name": "python",
   "nbconvert_exporter": "python",
   "pygments_lexer": "ipython2",
   "version": "2.7.12"
  }
 },
 "nbformat": 4,
 "nbformat_minor": 1
}
