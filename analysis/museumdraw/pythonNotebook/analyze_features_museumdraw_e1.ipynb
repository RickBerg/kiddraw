{
 "cells": [
  {
   "cell_type": "code",
   "execution_count": 154,
   "metadata": {
    "collapsed": true
   },
   "outputs": [],
   "source": [
    "## remember to run conn_cocolab from the terminal before running cells in this notebook!\n",
    "import os\n",
    "import urllib, cStringIO\n",
    "\n",
    "import pymongo as pm\n",
    "\n",
    "import matplotlib\n",
    "from matplotlib import pylab, mlab, pyplot\n",
    "%matplotlib inline\n",
    "from IPython.core.pylabtools import figsize, getfigs\n",
    "plt = pyplot\n",
    "import seaborn as sns\n",
    "sns.set_context('poster')\n",
    "sns.set_style('white')\n",
    "\n",
    "import numpy as np\n",
    "from __future__ import division\n",
    "import scipy.stats as stats\n",
    "import pandas as pd\n",
    "import json\n",
    "import re\n",
    "\n",
    "from PIL import Image\n",
    "import base64"
   ]
  },
  {
   "cell_type": "markdown",
   "metadata": {},
   "source": [
    "### vgg feature analysis "
   ]
  },
  {
   "cell_type": "code",
   "execution_count": 2,
   "metadata": {
    "collapsed": true
   },
   "outputs": [],
   "source": [
    "import torch\n",
    "import torchvision.models as models\n",
    "import torch.nn as nn\n",
    "import torchvision.transforms as transforms\n",
    "import torch.nn.functional as F\n",
    "from torch.autograd import Variable\n",
    "\n",
    "import scipy.stats as stats\n",
    "from scipy.stats import norm\n",
    "import sklearn\n",
    "from sklearn.model_selection import train_test_split, cross_val_score\n",
    "from sklearn import svm\n",
    "from sklearn import linear_model, datasets, neighbors\n",
    "\n",
    "from glob import glob\n",
    "import os\n",
    "\n",
    "import embedding as emb\n",
    "reload(emb)\n",
    "from embedding import *"
   ]
  },
  {
   "cell_type": "code",
   "execution_count": 3,
   "metadata": {
    "collapsed": true
   },
   "outputs": [],
   "source": [
    "# retrieve sketch paths\n",
    "def list_files(path, ext='png'):\n",
    "    result = [y for x in os.walk(path) for y in glob(os.path.join(x[0], '*.%s' % ext))]\n",
    "    return result\n",
    "\n",
    "# extract metadata\n",
    "path_to_sketches = '../sketches'\n",
    "sketch_paths = sorted(list_files(path_to_sketches))"
   ]
  },
  {
   "cell_type": "code",
   "execution_count": 4,
   "metadata": {},
   "outputs": [
    {
     "name": "stdout",
     "output_type": "stream",
     "text": [
      "Number of sketch paths = 532\n"
     ]
    }
   ],
   "source": [
    "## number of sketch paths \n",
    "print 'Number of sketch paths = {}'.format(len(sketch_paths))"
   ]
  },
  {
   "cell_type": "markdown",
   "metadata": {},
   "source": [
    "## extract features"
   ]
  },
  {
   "cell_type": "markdown",
   "metadata": {},
   "source": [
    "**Dec 28 2017:** <br>\n",
    " - From command line, extract features using `extract_features.py`. The default arguments are for the kid's drawings. <br>\n",
    " - To extract kid's drawings, just run: `python extract_features.py` <br>\n",
    " - To extract adult drawings, run: `python extract_features.py --data='/data2/jefan/quickDraw/png' --layer_ind=6 --cohort='adult'`"
   ]
  },
  {
   "cell_type": "code",
   "execution_count": 280,
   "metadata": {
    "collapsed": true
   },
   "outputs": [],
   "source": [
    "# z-score normalization to \"center\" the sketch embeddings\n",
    "def normalize(X):\n",
    "    X = X - X.mean(0)\n",
    "    X = X / np.maximum(X.std(0), 1e-5)\n",
    "    return X\n",
    "\n",
    "def get_class_means(X, labels):    \n",
    "    # load in and normalize features \n",
    "    _mu = np.zeros((len(np.unique(labels)), np.shape(X)[1]))        \n",
    "    X = normalize(X)\n",
    "    for vi, v in enumerate(np.unique(np.asarray(labels))):\n",
    "        Xv = X[labels == v]\n",
    "        nv = float(Xv.shape[0])\n",
    "        if nv > 0:\n",
    "            _mu[vi] = Xv.mean(0)\n",
    "    return _mu\n",
    "\n",
    "def normalize_RDM(MAT):\n",
    "    X = MAT - MAT.mean(0).mean(0)\n",
    "    X = X / np.maximum(MAT.std(0).std(0), 1e-5)\n",
    "    return X\n",
    "\n",
    "def plot_rdm_by_class(Features,X,layer_num):\n",
    "    layers = ['P1','P2','P3','P4','P5','FC6','FC7']        \n",
    "    sns.set_style('white')\n",
    "    fig = plt.figure(figsize=(6,6))\n",
    "    labels = X.label.values\n",
    "    means = get_class_means(Features, labels)\n",
    "    CORRMAT = np.corrcoef(means)\n",
    "    plt.matshow(CORRMAT)\n",
    "    plt.colorbar()\n",
    "    if not os.path.exists('./plots'):\n",
    "        os.makedirs('./plots')\n",
    "    plt.savefig('./plots/RDM_by_view_{}.pdf'.format(layers[layer_num]))\n",
    "    \n",
    "def load_features(cohort, layer_num):\n",
    "    layers = ['P1','P2','P3','P4','P5','FC6','FC7']            \n",
    "    F = np.load('./features/FEATURES_{}_{}.npy'.format(layers[layer_num],cohort))\n",
    "    M = pd.read_csv('./features/METADATA_{}.csv'.format(cohort)) \n",
    "    M = M[['label','age','session']]\n",
    "    return F, M\n",
    "\n",
    "def remove_practice_trials(KF,KM):\n",
    "    '''\n",
    "    remove \"circle\" and \"triangle\" trials from dataset\n",
    "    '''\n",
    "    practice_objects = ['circle','triangle']\n",
    "    _KF = KF[~KM['label'].isin(practice_objects),:]\n",
    "    _KM = KM[~KM['label'].isin(practice_objects)]\n",
    "    return _KF, _KM"
   ]
  },
  {
   "cell_type": "code",
   "execution_count": null,
   "metadata": {
    "collapsed": true
   },
   "outputs": [],
   "source": []
  },
  {
   "cell_type": "code",
   "execution_count": 281,
   "metadata": {},
   "outputs": [
    {
     "name": "stdout",
     "output_type": "stream",
     "text": [
      "(387, 4096)\n"
     ]
    }
   ],
   "source": [
    "## load in kid features\n",
    "KF, KM = load_features('kid',6)\n",
    "KF, KM = remove_practice_trials(KF, KM)\n",
    "KM = KM.reset_index(drop=True)\n",
    "\n",
    "print np.shape(KF)"
   ]
  },
  {
   "cell_type": "code",
   "execution_count": null,
   "metadata": {
    "collapsed": true
   },
   "outputs": [],
   "source": []
  },
  {
   "cell_type": "markdown",
   "metadata": {},
   "source": [
    "### quick classification test"
   ]
  },
  {
   "cell_type": "code",
   "execution_count": null,
   "metadata": {},
   "outputs": [],
   "source": []
  },
  {
   "cell_type": "code",
   "execution_count": 283,
   "metadata": {},
   "outputs": [
    {
     "name": "stdout",
     "output_type": "stream",
     "text": [
      "We have 35 labels that are common to both younger and older kid cohorts.\n",
      "We have 16 classes with sufficient data.\n"
     ]
    }
   ],
   "source": [
    "## add additional column that coarse grains age\n",
    "def coarse_grain_age(row):\n",
    "    if row['age'] > 6:\n",
    "        val = 'older'\n",
    "    elif row['age'] <= 6:\n",
    "        val = 'younger'\n",
    "    return val\n",
    "\n",
    "KM['coarse_age'] = KM.apply(coarse_grain_age, axis=1)\n",
    "\n",
    "## subset labels that have at least some drawings of them from each age category\n",
    "younger_labels = KM[KM['coarse_age'] == 'younger']['label'].values\n",
    "older_labels = KM[KM['coarse_age'] == 'older']['label'].values\n",
    "## list of labels that are in both younger and older age categories\n",
    "common_labels = list(np.intersect1d(younger_labels,older_labels))\n",
    "\n",
    "print 'We have {} labels that are common to both younger and older kid cohorts.'.format(len(common_labels))\n",
    "\n",
    "def subset_labels(F,M, labels):\n",
    "    '''\n",
    "    if labels == common_labels, then only include labels that are common to younger and older cohort\n",
    "    if labels == sufficient_data_labels, then subset by list of labels in which we have 'sufficient data', i.e., have >=thresh drawings/class\n",
    "    '''\n",
    "    _F = F[M['label'].isin(labels),:]\n",
    "    _M = M[M['label'].isin(labels)]\n",
    "    return _F, _M\n",
    "\n",
    "## get list of labels in which we have 'sufficient data', i.e., have >=5 drawings/class\n",
    "thresh = 3\n",
    "sufficient_data_labels = [] \n",
    "for cl in common_labels:\n",
    "    num_young_sketches = len(np.where(KM[KM.label==cl]['coarse_age'].values=='younger')[0])\n",
    "    num_older_sketches = len(np.where(KM[KM.label==cl]['coarse_age'].values=='older')[0])\n",
    "    if (num_young_sketches>=thresh) & (num_older_sketches>=thresh):\n",
    "        sufficient_data_labels.append(cl)\n",
    "        \n",
    "print 'We have {} classes with sufficient data.'.format(len(sufficient_data_labels))"
   ]
  },
  {
   "cell_type": "code",
   "execution_count": 284,
   "metadata": {
    "collapsed": true
   },
   "outputs": [],
   "source": [
    "## subset to only use the labels with either COMMON LABELS or SUFFICIENT DATA (see cell above)\n",
    "KF, KM = subset_labels(KF, KM, sufficient_data_labels)\n",
    "KM = KM.reset_index(drop=True)"
   ]
  },
  {
   "cell_type": "code",
   "execution_count": null,
   "metadata": {
    "collapsed": true
   },
   "outputs": [],
   "source": []
  },
  {
   "cell_type": "markdown",
   "metadata": {},
   "source": [
    "#### quick classification tests"
   ]
  },
  {
   "cell_type": "code",
   "execution_count": 290,
   "metadata": {},
   "outputs": [
    {
     "name": "stdout",
     "output_type": "stream",
     "text": [
      "0.442857142857\n"
     ]
    }
   ],
   "source": [
    "#### Quick classification test\n",
    "FEAT = KF\n",
    "LABELS = KM.label.values\n",
    "AGES = KM.age.values\n",
    "\n",
    "# single train/test split\n",
    "X_train, X_test, y_train, y_test = train_test_split(\n",
    "    FEAT, LABELS, test_size=0.25, random_state=0)\n",
    "# clf = svm.SVC(kernel='linear', C=1).fit(X_train, y_train)\n",
    "clf = linear_model.LogisticRegression(penalty='l2',C=1).fit(X_train, y_train)\n",
    "print clf.score(X_test, y_test)\n",
    "\n",
    "run_this = 0\n",
    "if run_this:\n",
    "    # cross-validated\n",
    "    clf = linear_model.LogisticRegression(penalty='l2')\n",
    "    scores = cross_val_score(clf, FEAT, LABELS, cv=3)\n",
    "    print(\"Accuracy: %0.2f (+/- %0.2f)\" % (scores.mean(), scores.std() * 2))"
   ]
  },
  {
   "cell_type": "code",
   "execution_count": null,
   "metadata": {},
   "outputs": [],
   "source": []
  },
  {
   "cell_type": "code",
   "execution_count": 307,
   "metadata": {},
   "outputs": [
    {
     "name": "stdout",
     "output_type": "stream",
     "text": [
      "4-5y 63 0.4375\n",
      "5-6y 99 0.28\n",
      "6-7y 86 0.181818181818\n",
      "7-8y 110 0.321428571429\n",
      "8-9y 87 0.272727272727\n",
      "9-10y 51 0.230769230769\n"
     ]
    }
   ],
   "source": [
    "## see how recognizability changes with age?\n",
    "scores = []\n",
    "num_samples = []\n",
    "age_range = np.arange(4,11)\n",
    "\n",
    "# width of moving window in # of trials    \n",
    "window_size = 2\n",
    "lb = int(min(KM.age.values))\n",
    "ub = int(max(KM.age.values))\n",
    "num_windows = ub-lb-window_size+2 ##     \n",
    "\n",
    "for n in np.arange(num_windows):\n",
    "    start = lb + n\n",
    "    end = lb + n + window_size\n",
    "    ind = KM.index[(KM['age'] >= start) & (KM['age'] < end)]\n",
    "    meta = KM.loc[ind]\n",
    "    subFeat = KF[ind.tolist()]\n",
    "\n",
    "    FEAT = subFeat\n",
    "    LABELS = meta.label.values\n",
    "\n",
    "    # single train/test split\n",
    "    X_train, X_test, y_train, y_test = train_test_split(\n",
    "        FEAT, LABELS, test_size=0.25, random_state=3)\n",
    "    clf = svm.SVC(kernel='linear', C=1).fit(X_train, y_train)\n",
    "#     clf = linear_model.LogisticRegression(penalty='l2',C=1).fit(X_train, y_train)\n",
    "    print '{}-{}y'.format(start, end-1), len(LABELS),clf.score(X_test, y_test)\n",
    "    num_samples.append(len(LABELS))\n",
    "    scores.append(clf.score(X_test, y_test))\n",
    "    "
   ]
  },
  {
   "cell_type": "code",
   "execution_count": 322,
   "metadata": {
    "collapsed": true
   },
   "outputs": [],
   "source": []
  },
  {
   "cell_type": "code",
   "execution_count": null,
   "metadata": {
    "collapsed": true
   },
   "outputs": [],
   "source": []
  },
  {
   "cell_type": "markdown",
   "metadata": {
    "collapsed": true
   },
   "source": [
    "### Extract adult drawing features"
   ]
  },
  {
   "cell_type": "code",
   "execution_count": 245,
   "metadata": {},
   "outputs": [
    {
     "name": "stdout",
     "output_type": "stream",
     "text": [
      "(38000, 4096)\n"
     ]
    }
   ],
   "source": [
    "## load in adult features\n",
    "AF, AM = load_features('adult',6)\n",
    "AF, AM = remove_practice_trials(AF, AM)\n",
    "AM = AM.reset_index(drop=True)\n",
    "print np.shape(AF)"
   ]
  },
  {
   "cell_type": "code",
   "execution_count": 246,
   "metadata": {
    "collapsed": true
   },
   "outputs": [],
   "source": [
    "## which label set are we using? common_labels or sufficient_data_labels\n",
    "these_labels = sufficient_data_labels\n",
    "## set up lookup table to cover discrepancies in category label assignments\n",
    "lookup = dict(zip(these_labels,these_labels))\n",
    "if 'bike' in lookup.keys():\n",
    "    lookup['bike'] = 'bicycle'"
   ]
  },
  {
   "cell_type": "code",
   "execution_count": 247,
   "metadata": {},
   "outputs": [],
   "source": [
    "## subset adult feature matrix and metadata matrix by appropriate labelset\n",
    "AF, AM = subset_labels(AF, AM, [lookup[i] for i in these_labels])\n",
    "AM = AM.reset_index(drop=True)"
   ]
  },
  {
   "cell_type": "code",
   "execution_count": 253,
   "metadata": {},
   "outputs": [
    {
     "name": "stdout",
     "output_type": "stream",
     "text": [
      "Clusters\n",
      "['boat' 'car' 'rabbit' 'train']\n",
      "['banana' 'bird' 'carrot' 'chair' 'couch' 'cup' 'flower' 'foot' 'frog'\n",
      " 'ice cream' 'shoe']\n",
      "['phone']\n"
     ]
    }
   ],
   "source": [
    "## apply clustering to organize RDM so that we can see some block diagonal structure\n",
    "def flatten(x):\n",
    "    return [item for sublist in x for item in sublist]\n",
    "\n",
    "from sklearn.cluster import AffinityPropagation\n",
    "from sklearn import metrics\n",
    "\n",
    "_labels = np.unique(AM.label.values)\n",
    "af = AffinityPropagation(damping=0.5).fit(means)\n",
    "labels = af.labels_\n",
    "cluster_centers_indices = af.cluster_centers_indices_\n",
    "n_clusters_ = len(cluster_centers_indices)\n",
    "\n",
    "ordered_objs = []\n",
    "print('Clusters')\n",
    "for k in range(n_clusters_):\n",
    "    class_members = labels == k\n",
    "    print _labels[class_members]\n",
    "    ordered_objs.append(list(_labels[class_members]))\n",
    "    \n",
    "ordered_objs = np.array(flatten(ordered_objs))"
   ]
  },
  {
   "cell_type": "code",
   "execution_count": null,
   "metadata": {},
   "outputs": [],
   "source": []
  },
  {
   "cell_type": "code",
   "execution_count": 254,
   "metadata": {
    "collapsed": true
   },
   "outputs": [],
   "source": [
    "## retrieve alpha sorted labels from meta\n",
    "_labels = np.unique(AM.label.values)\n",
    "## index for sorting the alphabetical list of labels INTO the order specified by ordered_objs (clustered)\n",
    "sort_inds = [np.where(_labels==ordered_objs[i])[0][0] for i in np.arange(len(ordered_objs))]"
   ]
  },
  {
   "cell_type": "code",
   "execution_count": 314,
   "metadata": {
    "collapsed": true
   },
   "outputs": [],
   "source": [
    "def get_and_plot_RDM(M,F):\n",
    "    ## sorted adult RDMs\n",
    "    labels = M.label.values\n",
    "    means = get_class_means(F, labels)\n",
    "    ordered_means = means[sort_inds,:]\n",
    "    sns.set_style('white')\n",
    "    CORRMAT = np.corrcoef(ordered_means)\n",
    "\n",
    "    sns.set_context('paper')\n",
    "    fig = plt.figure(figsize=(24,24))\n",
    "    plt.matshow(CORRMAT)\n",
    "    plt.xticks(range(len(ordered_objs)), ordered_objs, rotation=90);\n",
    "    plt.yticks(range(len(ordered_objs)), ordered_objs); \n",
    "    plt.colorbar(ax)\n",
    "    for tick in pylab.gca().xaxis.iter_ticks():\n",
    "        tick[0].label2On = True\n",
    "        tick[0].label1On = False\n",
    "        tick[0].label2.set_rotation('vertical')\n",
    "        tick[0].tick1On = False\n",
    "        tick[0].tick2On = False\n",
    "    for tick in pylab.gca().yaxis.iter_ticks():\n",
    "        tick[0].tick1On = False\n",
    "        tick[0].tick2On = False  \n",
    "    RDM = CORRMAT\n",
    "    return RDM\n"
   ]
  },
  {
   "cell_type": "code",
   "execution_count": 313,
   "metadata": {},
   "outputs": [
    {
     "data": {
      "text/plain": [
       "<matplotlib.figure.Figure at 0x7f4e6c039f90>"
      ]
     },
     "metadata": {},
     "output_type": "display_data"
    },
    {
     "data": {
      "image/png": "[encoded data removed]",
      "text/plain": [
       "<matplotlib.figure.Figure at 0x7f4e6c34a8d0>"
      ]
     },
     "metadata": {},
     "output_type": "display_data"
    }
   ],
   "source": [
    "## sorted adult RDMs\n",
    "labels = AM.label.values\n",
    "adult_means = get_class_means(AF, labels)\n",
    "ordered_means = adult_means[sort_inds,:]\n",
    "sns.set_style('white')\n",
    "CORRMAT = np.corrcoef(ordered_means)\n",
    "\n",
    "sns.set_context('paper')\n",
    "fig = plt.figure(figsize=(24,24))\n",
    "plt.matshow(CORRMAT)\n",
    "plt.xticks(range(len(ordered_objs)), ordered_objs, rotation=90);\n",
    "plt.yticks(range(len(ordered_objs)), ordered_objs); \n",
    "plt.colorbar(ax)\n",
    "for tick in pylab.gca().xaxis.iter_ticks():\n",
    "    tick[0].label2On = True\n",
    "    tick[0].label1On = False\n",
    "    tick[0].label2.set_rotation('vertical')\n",
    "    tick[0].tick1On = False\n",
    "    tick[0].tick2On = False\n",
    "for tick in pylab.gca().yaxis.iter_ticks():\n",
    "    tick[0].tick1On = False\n",
    "    tick[0].tick2On = False  \n",
    "ARDM = CORRMAT"
   ]
  },
  {
   "cell_type": "code",
   "execution_count": 315,
   "metadata": {},
   "outputs": [
    {
     "data": {
      "text/plain": [
       "<matplotlib.figure.Figure at 0x7f4e6c2f12d0>"
      ]
     },
     "metadata": {},
     "output_type": "display_data"
    },
    {
     "data": {
      "image/png": "[encoded data removed]",
      "text/plain": [
       "<matplotlib.figure.Figure at 0x7f4e6e1eff90>"
      ]
     },
     "metadata": {},
     "output_type": "display_data"
    }
   ],
   "source": [
    "ARDM = get_and_plot_RDM(AM, AF)"
   ]
  },
  {
   "cell_type": "code",
   "execution_count": null,
   "metadata": {},
   "outputs": [],
   "source": []
  },
  {
   "cell_type": "code",
   "execution_count": null,
   "metadata": {
    "collapsed": true
   },
   "outputs": [],
   "source": []
  },
  {
   "cell_type": "code",
   "execution_count": 257,
   "metadata": {},
   "outputs": [
    {
     "data": {
      "text/plain": [
       "<matplotlib.figure.Figure at 0x7f4e6dcfd7d0>"
      ]
     },
     "metadata": {},
     "output_type": "display_data"
    },
    {
     "data": {
      "image/png": "[encoded data removed]",
      "text/plain": [
       "<matplotlib.figure.Figure at 0x7f4e6dcfd750>"
      ]
     },
     "metadata": {},
     "output_type": "display_data"
    }
   ],
   "source": [
    "## plot sorted kid RDM collapsing across all ages\n",
    "sns.set_style('white')\n",
    "fig = plt.figure(figsize=(6,6))\n",
    "labels = KM.label.values\n",
    "kid_means = get_class_means(KF, labels)\n",
    "ordered_means = kid_means[sort_inds,:]\n",
    "CORRMAT = np.corrcoef(ordered_means)\n",
    "plt.matshow(CORRMAT)\n",
    "plt.xticks(range(len(ordered_objs)), ordered_objs, rotation=90);\n",
    "plt.yticks(range(len(ordered_objs)), ordered_objs); \n",
    "plt.colorbar(ax)\n",
    "for tick in pylab.gca().xaxis.iter_ticks():\n",
    "    tick[0].label2On = True\n",
    "    tick[0].label1On = False\n",
    "    tick[0].label2.set_rotation('vertical')\n",
    "    tick[0].tick1On = False\n",
    "    tick[0].tick2On = False\n",
    "for tick in pylab.gca().yaxis.iter_ticks():\n",
    "    tick[0].tick1On = False\n",
    "    tick[0].tick2On = False  \n",
    "KRDM = CORRMAT"
   ]
  },
  {
   "cell_type": "code",
   "execution_count": 278,
   "metadata": {},
   "outputs": [
    {
     "name": "stdout",
     "output_type": "stream",
     "text": [
      "Correlation between adult and overall kid RDM: 0.735683033544\n"
     ]
    }
   ],
   "source": []
  },
  {
   "cell_type": "code",
   "execution_count": 259,
   "metadata": {},
   "outputs": [
    {
     "data": {
      "text/plain": [
       "<matplotlib.figure.Figure at 0x7f4e6e2c5dd0>"
      ]
     },
     "metadata": {},
     "output_type": "display_data"
    },
    {
     "data": {
      "image/png": "[encoded data removed]",
      "text/plain": [
       "<matplotlib.figure.Figure at 0x7f4e6dcfded0>"
      ]
     },
     "metadata": {},
     "output_type": "display_data"
    }
   ],
   "source": [
    "## get RDM for older kids (7,8,9,10)\n",
    "ind = KM.index[KM['coarse_age'] == 'older']\n",
    "meta = KM.loc[ind]\n",
    "feat = KF[ind.tolist()]\n",
    "sns.set_style('white')\n",
    "fig = plt.figure(figsize=(6,6))\n",
    "labels = meta.label.values\n",
    "older_means = get_class_means(feat, labels)\n",
    "ordered_means = older_means[sort_inds,:]\n",
    "CORRMAT = np.corrcoef(ordered_means)\n",
    "plt.matshow(CORRMAT)\n",
    "plt.xticks(range(len(ordered_objs)), ordered_objs, rotation=90);\n",
    "plt.yticks(range(len(ordered_objs)), ordered_objs); \n",
    "plt.colorbar(ax)\n",
    "for tick in pylab.gca().xaxis.iter_ticks():\n",
    "    tick[0].label2On = True\n",
    "    tick[0].label1On = False\n",
    "    tick[0].label2.set_rotation('vertical')\n",
    "    tick[0].tick1On = False\n",
    "    tick[0].tick2On = False\n",
    "for tick in pylab.gca().yaxis.iter_ticks():\n",
    "    tick[0].tick1On = False\n",
    "    tick[0].tick2On = False  \n",
    "ORDM = CORRMAT"
   ]
  },
  {
   "cell_type": "code",
   "execution_count": 261,
   "metadata": {},
   "outputs": [
    {
     "data": {
      "text/plain": [
       "<matplotlib.figure.Figure at 0x7f4e6e2c5c90>"
      ]
     },
     "metadata": {},
     "output_type": "display_data"
    },
    {
     "data": {
      "image/png": "[encoded data removed]",
      "text/plain": [
       "<matplotlib.figure.Figure at 0x7f4e67c1a050>"
      ]
     },
     "metadata": {},
     "output_type": "display_data"
    }
   ],
   "source": [
    "## get RDM for younger kids (3,4,5,6)\n",
    "ind = KM.index[KM['coarse_age'] == 'younger']\n",
    "meta = KM.loc[ind]\n",
    "feat = KF[ind.tolist()]\n",
    "sns.set_style('white')\n",
    "fig = plt.figure(figsize=(6,6))\n",
    "labels = meta.label.values\n",
    "younger_means = get_class_means(feat, labels)\n",
    "ordered_means = younger_means[sort_inds,:]\n",
    "CORRMAT = np.corrcoef(ordered_means)\n",
    "plt.matshow(CORRMAT)\n",
    "plt.colorbar()\n",
    "YRDM = CORRMAT"
   ]
  },
  {
   "cell_type": "code",
   "execution_count": 312,
   "metadata": {},
   "outputs": [
    {
     "name": "stdout",
     "output_type": "stream",
     "text": [
      "Correlation between adult and overall kid RDM: 0.735683033544\n",
      " \n",
      "Correlation between adult and OLDER kid RDM: 0.730453503716\n",
      " \n",
      "Correlation between adult and YOUNGER kid RDM: 0.49349954858\n",
      " \n",
      "Correlation between OLDER and YOUNGER kid RDM: 0.418473505105\n"
     ]
    }
   ],
   "source": [
    "## print fc7 cross-cohort correlations\n",
    "\n",
    "dim = KRDM.shape[0]\n",
    "cor = stats.spearmanr(np.ravel(KRDM[np.triu_indices(dim,k=1)]),np.ravel(ARDM[np.triu_indices(dim,k=1)]))[0]\n",
    "print 'Correlation between adult and overall kid RDM: {}'.format(cor)\n",
    "print ' '\n",
    "dim = ORDM.shape[0]\n",
    "cor = stats.spearmanr(np.ravel(ORDM[np.triu_indices(dim,k=1)]),np.ravel(ARDM[np.triu_indices(dim,k=1)]))[0]\n",
    "print 'Correlation between adult and OLDER kid RDM: {}'.format(cor)\n",
    "print ' '\n",
    "dim = YRDM.shape[0]\n",
    "cor = stats.spearmanr(np.ravel(YRDM[np.triu_indices(dim,k=1)]),np.ravel(ARDM[np.triu_indices(dim,k=1)]))[0]\n",
    "print 'Correlation between adult and YOUNGER kid RDM: {}'.format(cor)\n",
    "print ' '\n",
    "dim = YRDM.shape[0]\n",
    "cor = stats.spearmanr(np.ravel(YRDM[np.triu_indices(dim,k=1)]),np.ravel(ORDM[np.triu_indices(dim,k=1)]))[0]\n",
    "print 'Correlation between OLDER and YOUNGER kid RDM: {}'.format(cor)"
   ]
  },
  {
   "cell_type": "code",
   "execution_count": null,
   "metadata": {},
   "outputs": [],
   "source": []
  },
  {
   "cell_type": "markdown",
   "metadata": {},
   "source": [
    "### generalize across layers"
   ]
  },
  {
   "cell_type": "code",
   "execution_count": null,
   "metadata": {},
   "outputs": [],
   "source": []
  },
  {
   "cell_type": "code",
   "execution_count": null,
   "metadata": {
    "collapsed": true
   },
   "outputs": [],
   "source": []
  },
  {
   "cell_type": "code",
   "execution_count": null,
   "metadata": {
    "collapsed": true
   },
   "outputs": [],
   "source": []
  },
  {
   "cell_type": "code",
   "execution_count": null,
   "metadata": {
    "collapsed": true
   },
   "outputs": [],
   "source": []
  },
  {
   "cell_type": "code",
   "execution_count": null,
   "metadata": {
    "collapsed": true
   },
   "outputs": [],
   "source": []
  },
  {
   "cell_type": "code",
   "execution_count": null,
   "metadata": {
    "collapsed": true
   },
   "outputs": [],
   "source": []
  },
  {
   "cell_type": "code",
   "execution_count": null,
   "metadata": {
    "collapsed": true
   },
   "outputs": [],
   "source": []
  }
 ],
 "metadata": {
  "kernelspec": {
   "display_name": "Python 2",
   "language": "python",
   "name": "python2"
  },
  "language_info": {
   "codemirror_mode": {
    "name": "ipython",
    "version": 2
   },
   "file_extension": ".py",
   "mimetype": "text/x-python",
   "name": "python",
   "nbconvert_exporter": "python",
   "pygments_lexer": "ipython2",
   "version": "2.7.12"
  }
 },
 "nbformat": 4,
 "nbformat_minor": 1
}
