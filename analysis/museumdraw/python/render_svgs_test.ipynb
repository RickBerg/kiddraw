{
 "cells": [
  {
   "cell_type": "code",
   "execution_count": 1,
   "metadata": {},
   "outputs": [],
   "source": [
    "## remember to run conn_cocolab from the terminal before running cells in this notebook!\n",
    "from __future__ import division\n",
    "import os\n",
    "import urllib, cStringIO\n",
    "\n",
    "import pymongo as pm\n",
    "from PIL import Image\n",
    "import base64\n",
    "\n",
    "import numpy as np\n",
    "from numpy import *\n",
    "import os\n",
    "import PIL\n",
    "from PIL import Image\n",
    "import base64\n",
    "import matplotlib\n",
    "from matplotlib import pylab, mlab, pyplot\n",
    "%matplotlib inline\n",
    "from IPython.core.pylabtools import figsize, getfigs\n",
    "plt = pyplot\n",
    "import seaborn as sns\n",
    "sns.set_context('poster')\n",
    "sns.set_style('white')\n",
    "from matplotlib.path import Path\n",
    "import matplotlib.patches as patches\n",
    "\n",
    "\n",
    "import cStringIO\n",
    "import pandas as pd\n",
    "import pymongo as pm ## first establish ssh tunnel to server where database is running\n",
    "from matplotlib.path import Path\n",
    "import matplotlib.patches as patches\n",
    "from svgpathtools import parse_path"
   ]
  },
  {
   "cell_type": "code",
   "execution_count": 2,
   "metadata": {
    "collapsed": true
   },
   "outputs": [],
   "source": [
    "# directory & file hierarchy\n",
    "exp_path = 'museumdraw'\n",
    "analysis_dir = os.getcwd()\n",
    "exp_dir = os.path.abspath(os.path.join(os.getcwd(),'../..','experiments'))\n",
    "##\n",
    "sketch_dir = os.path.join(analysis_dir,'sketches')\n",
    "if not os.path.exists(sketch_dir):\n",
    "    os.makedirs(sketch_dir)\n",
    "## dir where we can keep all sketches not binned by category    \n"
   ]
  },
  {
   "cell_type": "code",
   "execution_count": 3,
   "metadata": {
    "collapsed": true
   },
   "outputs": [],
   "source": [
    "# set vars \n",
    "auth = pd.read_csv('auth.txt', header = None) # this auth.txt file contains the password for the sketchloop user\n",
    "pswd = auth.values[0][0]\n",
    "user = 'sketchloop'\n",
    "host = 'rxdhawkins.me' ## cocolab ip address\n",
    "\n",
    "# have to fix this to be able to analyze from local\n",
    "import pymongo as pm\n",
    "conn = pm.MongoClient('mongodb://sketchloop:' + pswd + '@127.0.0.1')\n",
    "db = conn['kiddraw']\n",
    "coll = db['cdm_run_v3']\n"
   ]
  },
  {
   "cell_type": "code",
   "execution_count": 4,
   "metadata": {},
   "outputs": [
    {
     "name": "stdout",
     "output_type": "stream",
     "text": [
      "We currently have 512 valid sessions from cdm_run_v2.\n"
     ]
    },
    {
     "ename": "NameError",
     "evalue": "name 'coll2' is not defined",
     "output_type": "error",
     "traceback": [
      "\u001b[0;31m----------------------------------------------------\u001b[0m",
      "\u001b[0;31mNameError\u001b[0m          Traceback (most recent call last)",
      "\u001b[0;32m<ipython-input-4-802ad013b6bc>\u001b[0m in \u001b[0;36m<module>\u001b[0;34m()\u001b[0m\n\u001b[1;32m      9\u001b[0m \u001b[0;31m# wave 2 of data collection (22 classes)\u001b[0m\u001b[0;34m\u001b[0m\u001b[0;34m\u001b[0m\u001b[0m\n\u001b[1;32m     10\u001b[0m \u001b[0mexperiment_name\u001b[0m \u001b[0;34m=\u001b[0m \u001b[0;34m'cdm_run_v3'\u001b[0m\u001b[0;34m\u001b[0m\u001b[0m\n\u001b[0;32m---> 11\u001b[0;31m \u001b[0mvalid_sessions\u001b[0m \u001b[0;34m+=\u001b[0m \u001b[0mcoll2\u001b[0m\u001b[0;34m.\u001b[0m\u001b[0mfind\u001b[0m\u001b[0;34m(\u001b[0m\u001b[0;34m{\u001b[0m\u001b[0;34m'time'\u001b[0m\u001b[0;34m:\u001b[0m\u001b[0;34m{\u001b[0m\u001b[0;34m'$gt'\u001b[0m\u001b[0;34m:\u001b[0m \u001b[0mtime_threshold\u001b[0m\u001b[0;34m}\u001b[0m\u001b[0;34m}\u001b[0m\u001b[0;34m)\u001b[0m\u001b[0;34m.\u001b[0m\u001b[0mdistinct\u001b[0m\u001b[0;34m(\u001b[0m\u001b[0;34m'sessionId'\u001b[0m\u001b[0;34m)\u001b[0m\u001b[0;34m\u001b[0m\u001b[0m\n\u001b[0m\u001b[1;32m     12\u001b[0m \u001b[0;32mprint\u001b[0m \u001b[0;34m'We currently have {} valid sessions, including {}.'\u001b[0m\u001b[0;34m.\u001b[0m\u001b[0mformat\u001b[0m\u001b[0;34m(\u001b[0m\u001b[0mlen\u001b[0m\u001b[0;34m(\u001b[0m\u001b[0mvalid_sessions\u001b[0m\u001b[0;34m)\u001b[0m\u001b[0;34m,\u001b[0m \u001b[0mexperiment_name\u001b[0m\u001b[0;34m)\u001b[0m\u001b[0;34m\u001b[0m\u001b[0m\n",
      "\u001b[0;31mNameError\u001b[0m: name 'coll2' is not defined"
     ]
    }
   ],
   "source": [
    "# wave 1 of data collection (16 classes)\n",
    "experiment_name = 'cdm_run_v2'\n",
    "time_threshold = 1510252452134 ## this is the timepoint after which real data started getting collected\n",
    "all_sessions = coll.distinct('sessionId') ## this returns ALL sessions in this collection. we will then filter on time_threshold\n",
    "valid_sessions = coll.find({'time':{'$gt': time_threshold}}).distinct('sessionId')\n",
    "practice_categories = ['square','shape','circle']\n",
    "print 'We currently have {} valid sessions from {}.'.format(len(valid_sessions), experiment_name)\n",
    "\n",
    "# wave 2 of data collection (22 classes) \n",
    "experiment_name = 'cdm_run_v3'\n",
    "valid_sessions += coll2.find({'time':{'$gt': time_threshold}}).distinct('sessionId')\n",
    "print 'We currently have {} valid sessions, including {}.'.format(len(valid_sessions), experiment_name)"
   ]
  },
  {
   "cell_type": "code",
   "execution_count": null,
   "metadata": {
    "collapsed": true
   },
   "outputs": [],
   "source": []
  },
  {
   "cell_type": "code",
   "execution_count": null,
   "metadata": {},
   "outputs": [],
   "source": [
    "image_recs = coll.find({'$and': [{'time': {'$gt': time_threshold}}, {'sessionId':s}, {'dataType':'finalImage'}]}).sort('time')    "
   ]
  },
  {
   "cell_type": "code",
   "execution_count": null,
   "metadata": {},
   "outputs": [],
   "source": []
  },
  {
   "cell_type": "code",
   "execution_count": null,
   "metadata": {},
   "outputs": [],
   "source": []
  },
  {
   "cell_type": "code",
   "execution_count": null,
   "metadata": {},
   "outputs": [],
   "source": []
  },
  {
   "cell_type": "markdown",
   "metadata": {},
   "source": [
    "#### helper functions for svg rendering"
   ]
  },
  {
   "cell_type": "code",
   "execution_count": 5,
   "metadata": {
    "collapsed": true
   },
   "outputs": [],
   "source": [
    "def polyline_pathmaker(lines):\n",
    "    x = []\n",
    "    y = []\n",
    "\n",
    "    codes = [Path.MOVETO] # start with moveto command always\n",
    "    for i,l in enumerate(lines):\n",
    "        for _i,_l in enumerate(l):\n",
    "            x.append(_l[0])\n",
    "            y.append(_l[1])\n",
    "            if _i<len(l)-1:\n",
    "                codes.append(Path.LINETO) # keep pen on page\n",
    "            else:\n",
    "                if i != len(lines)-1: # final vertex\n",
    "                    codes.append(Path.MOVETO)\n",
    "    verts = zip(x,y)            \n",
    "    return verts, codes\n",
    "\n",
    "def path_renderer(verts, codes):\n",
    "    fig = plt.figure(figsize=(6,6))\n",
    "    ax = fig.add_subplot(111)\n",
    "    if len(verts)>0:\n",
    "        path = Path(verts, codes)\n",
    "        patch = patches.PathPatch(path, facecolor='none', lw=2)\n",
    "        ax.add_patch(patch)\n",
    "        ax.set_xlim(0,500)\n",
    "        ax.set_ylim(0,500) \n",
    "        ax.axis('off')\n",
    "        plt.gca().invert_yaxis() # y values increase as you go down in image\n",
    "        plt.show()\n",
    "    else:\n",
    "        ax.set_xlim(0,500)\n",
    "        ax.set_ylim(0,500)        \n",
    "        ax.axis('off')\n",
    "        plt.show()\n",
    "    plt.savefig()\n",
    "    plt.close()\n",
    "    \n",
    "def flatten(x):\n",
    "    return [val for sublist in x for val in sublist]"
   ]
  },
  {
   "cell_type": "code",
   "execution_count": 14,
   "metadata": {},
   "outputs": [],
   "source": [
    "def get_verts_and_codes(svg_list):\n",
    "    '''\n",
    "    parse into x,y coordinates and output list of lists of coordinates\n",
    "    \n",
    "    '''    \n",
    "    lines = []\n",
    "    Verts = []\n",
    "    Codes = []\n",
    "    for stroke_ind,stroke in enumerate(svg_list):\n",
    "        x = []\n",
    "        y = []\n",
    "        parsed = parse_path(stroke)\n",
    "        for i,p in enumerate(parsed):\n",
    "            if i!=len(parsed)-1: # last line segment\n",
    "                x.append(p.start.real)\n",
    "                y.append(p.start.imag)    \n",
    "            else:\n",
    "                x.append(p.start.real)\n",
    "                y.append(p.start.imag)     \n",
    "                x.append(p.end.real)\n",
    "                y.append(p.end.imag)\n",
    "        lines.append(zip(x,y))\n",
    "        verts, codes = polyline_pathmaker(lines)\n",
    "        Verts.append(verts)\n",
    "        Codes.append(codes)                  \n",
    "    return Verts, Codes\n",
    "    \n",
    "def make_svg_list(stroke_recs):\n",
    "    '''\n",
    "    grab sample drawing's strokes and make a list of svg strings from it\n",
    "    '''\n",
    "    svg_list = []\n",
    "    for single_stroke in stroke_recs:\n",
    "        svg_string = single_stroke['svg']\n",
    "        svg_list.append(svg_string)  \n",
    "        \n",
    "    return svg_list\n",
    "    \n",
    "    \n",
    "def render_and_save(Verts,\n",
    "                    Codes,\n",
    "                    line_width=5,\n",
    "                    imsize=8,\n",
    "                    canvas_size=600,\n",
    "                    session_id='SESSION_ID',\n",
    "                    age='AGE',\n",
    "                    trial_num='TRIAL_NUM',\n",
    "                    category='CATEGORY'):\n",
    "    \n",
    "    '''\n",
    "    input: \n",
    "        line_width: how wide of strokes do we want? (int)\n",
    "        imsize: how big of a picture do we want? (setting the size of the figure) \n",
    "        canvas_size: original canvas size on tablet?\n",
    "        out_path: where do you want to save your images? currently hardcoded below.        \n",
    "    output:\n",
    "        rendered sketches into nested directories\n",
    "    \n",
    "    '''\n",
    "    ## where do you want to save your cumulative drawings?\n",
    "    out_path = os.path.join('./cumulative_drawings','{}_{}'.format(session_id,age),'{}_{}'.format(trial_num,category))\n",
    "    if not os.path.exists('./cumulative_drawings'):\n",
    "        os.makedirs('./cumulative_drawings')\n",
    "    if not os.path.exists(os.path.join('cumulative_drawings','{}_{}'.format(session_id,age))):\n",
    "        os.makedirs(os.path.join('cumulative_drawings','{}_{}'.format(session_id,age)))\n",
    "\n",
    "    verts = Verts[0]\n",
    "    codes = Codes[0]\n",
    "    for i,verts in enumerate(Verts):\n",
    "        codes = Codes[i]\n",
    "        fig = plt.figure(figsize=(imsize,imsize))    \n",
    "        ax = plt.subplot(111)\n",
    "        ax.axis('off')\n",
    "        ax.set_xlim(0,canvas_size)\n",
    "        ax.set_ylim(0,canvas_size)\n",
    "        ### render sketch so far\n",
    "        if len(verts)>0:\n",
    "            path = Path(verts, codes)\n",
    "            patch = patches.PathPatch(path, facecolor='none', lw=line_width)\n",
    "            ax.add_patch(patch)\n",
    "            plt.gca().invert_yaxis() # y values increase as you go down in image\n",
    "#             plt.show()\n",
    "\n",
    "\n",
    "        ## save out as png \n",
    "        ## maybe to make it not render every single thing, use plt.ioff\n",
    "        if not os.path.exists(out_path):\n",
    "            os.makedirs(out_path)\n",
    "        fname = '{}_{}_{}_{}.png'.format(session_id,trial_num,category,i)\n",
    "        filepath = os.path.join(out_path,fname)\n",
    "        print filepath\n",
    "        fig.savefig(filepath,bbox_inches='tight')\n",
    "        plt.close(fig)        "
   ]
  },
  {
   "cell_type": "code",
   "execution_count": null,
   "metadata": {},
   "outputs": [],
   "source": []
  },
  {
   "cell_type": "code",
   "execution_count": null,
   "metadata": {
    "scrolled": false
   },
   "outputs": [
    {
     "name": "stdout",
     "output_type": "stream",
     "text": [
      "Great! Number of drawings made by this person: 8\n",
      "./cumulative_drawings/cdm_run_v31525887854758_age6/2_this circle/cdm_run_v31525887854758_2_this circle_0.png\n",
      "./cumulative_drawings/cdm_run_v31525887854758_age6/3_a cup/cdm_run_v31525887854758_3_a cup_0.png\n",
      "./cumulative_drawings/cdm_run_v31525887854758_age6/3_a cup/cdm_run_v31525887854758_3_a cup_1.png\n",
      "./cumulative_drawings/cdm_run_v31525887854758_age6/3_a cup/cdm_run_v31525887854758_3_a cup_2.png\n",
      "./cumulative_drawings/cdm_run_v31525887854758_age6/3_a cup/cdm_run_v31525887854758_3_a cup_3.png\n",
      "./cumulative_drawings/cdm_run_v31525887854758_age6/4_a tree/cdm_run_v31525887854758_4_a tree_0.png\n",
      "./cumulative_drawings/cdm_run_v31525887854758_age6/4_a tree/cdm_run_v31525887854758_4_a tree_1.png\n",
      "./cumulative_drawings/cdm_run_v31525887854758_age6/4_a tree/cdm_run_v31525887854758_4_a tree_2.png\n",
      "./cumulative_drawings/cdm_run_v31525887854758_age6/5_a fish/cdm_run_v31525887854758_5_a fish_0.png\n",
      "./cumulative_drawings/cdm_run_v31525887854758_age6/5_a fish/cdm_run_v31525887854758_5_a fish_1.png\n",
      "./cumulative_drawings/cdm_run_v31525887854758_age6/5_a fish/cdm_run_v31525887854758_5_a fish_2.png\n",
      "Oops, something went wrong! Here is the error:\n",
      "'codes' must be a 1D list or array with the same length of 'vertices'\n",
      "Great! Number of drawings made by this person: 8\n",
      "Oops, something went wrong! Here is the error:\n",
      "\n"
     ]
    }
   ],
   "source": [
    "for i,s in enumerate(valid_sessions):    \n",
    "    image_recs = coll.find({'$and': [{'time': {'$gt': time_threshold}}, {'sessionId':s}, {'dataType':'finalImage'}]}).sort('time')    \n",
    "    num_drawings = image_recs.count()\n",
    "    if num_drawings > 3:\n",
    "        print 'Great! Number of drawings made by this person: {}'.format(image_recs.count())        \n",
    "        ### now try looping through all images made during this session and render out\n",
    "        try:\n",
    "            image_recs = coll.find({'$and': [{'time': {'$gt': time_threshold}}, {'sessionId':s}, {'dataType':'finalImage'}]}).sort('time')    \n",
    "            for imrec in image_recs:         \n",
    "                if imrec['category'] not in practice_categories: ## don't save practice category trials\n",
    "                    stroke_recs = coll.find({'$and': [{'time': {'$gt': time_threshold}}, \n",
    "                                                      {'sessionId':s}, \n",
    "                                                      {'dataType':'stroke'},\n",
    "                                                      {'trialNum': imrec['trialNum']}]}).sort('time')  \n",
    "                    ## check to make sure that there is at least one stroke! \n",
    "                    assert stroke_recs.count()>0\n",
    "\n",
    "                    ## some handy metadata for writing out the sketch PNG filename\n",
    "                    trial_num = stroke_recs[0]['trialNum']\n",
    "                    category = stroke_recs[0]['category']\n",
    "                    session_id = stroke_recs[0]['sessionId']\n",
    "                    age = stroke_recs[0]['age']\n",
    "\n",
    "                    ## now make an svg list!\n",
    "                    svg_list = make_svg_list(stroke_recs)\n",
    "\n",
    "                    ## now get me some verts and codes!\n",
    "                    Verts, Codes = get_verts_and_codes(svg_list)\n",
    "\n",
    "                    ## now render out your cumulative sketches and save out as pngs!\n",
    "                    render_and_save(Verts,\n",
    "                                    Codes,\n",
    "                                    line_width=5,\n",
    "                                    imsize=8,\n",
    "                                    canvas_size=600,\n",
    "                                    session_id=session_id,\n",
    "                                    age=age,\n",
    "                                    trial_num=trial_num,\n",
    "                                    category=category)\n",
    "\n",
    "        except Exception as e:\n",
    "            print 'Oops, something went wrong! Here is the error:'  \n",
    "            print e\n",
    "            pass\n"
   ]
  },
  {
   "cell_type": "code",
   "execution_count": null,
   "metadata": {},
   "outputs": [],
   "source": []
  },
  {
   "cell_type": "code",
   "execution_count": null,
   "metadata": {
    "scrolled": false
   },
   "outputs": [],
   "source": []
  },
  {
   "cell_type": "code",
   "execution_count": null,
   "metadata": {},
   "outputs": [],
   "source": []
  },
  {
   "cell_type": "code",
   "execution_count": null,
   "metadata": {},
   "outputs": [],
   "source": []
  },
  {
   "cell_type": "code",
   "execution_count": null,
   "metadata": {},
   "outputs": [],
   "source": []
  },
  {
   "cell_type": "code",
   "execution_count": null,
   "metadata": {},
   "outputs": [],
   "source": []
  },
  {
   "cell_type": "code",
   "execution_count": null,
   "metadata": {},
   "outputs": [],
   "source": []
  },
  {
   "cell_type": "code",
   "execution_count": null,
   "metadata": {
    "scrolled": false
   },
   "outputs": [],
   "source": []
  },
  {
   "cell_type": "code",
   "execution_count": null,
   "metadata": {},
   "outputs": [],
   "source": []
  },
  {
   "cell_type": "code",
   "execution_count": null,
   "metadata": {},
   "outputs": [],
   "source": []
  },
  {
   "cell_type": "code",
   "execution_count": null,
   "metadata": {
    "collapsed": true
   },
   "outputs": [],
   "source": []
  }
 ],
 "metadata": {
  "kernelspec": {
   "display_name": "Python 2",
   "language": "python",
   "name": "python2"
  },
  "language_info": {
   "codemirror_mode": {
    "name": "ipython",
    "version": 2
   },
   "file_extension": ".py",
   "mimetype": "text/x-python",
   "name": "python",
   "nbconvert_exporter": "python",
   "pygments_lexer": "ipython2",
   "version": "2.7.14"
  }
 },
 "nbformat": 4,
 "nbformat_minor": 1
}
