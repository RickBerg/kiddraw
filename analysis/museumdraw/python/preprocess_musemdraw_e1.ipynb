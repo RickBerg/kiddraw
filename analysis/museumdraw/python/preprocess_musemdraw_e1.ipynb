{
 "cells": [
  {
   "cell_type": "code",
   "execution_count": 1,
   "metadata": {
    "collapsed": true
   },
   "outputs": [],
   "source": [
    "## remember to run conn_cocolab from the terminal before running cells in this notebook!\n",
    "import os\n",
    "import urllib, cStringIO\n",
    "\n",
    "import pymongo as pm\n",
    "\n",
    "import matplotlib\n",
    "from matplotlib import pylab, mlab, pyplot\n",
    "%matplotlib inline\n",
    "from IPython.core.pylabtools import figsize, getfigs\n",
    "plt = pyplot\n",
    "import seaborn as sns\n",
    "sns.set_context('poster')\n",
    "sns.set_style('white')\n",
    "\n",
    "import numpy as np\n",
    "from __future__ import division\n",
    "import scipy.stats as stats\n",
    "import pandas as pd\n",
    "import json\n",
    "import re\n",
    "\n",
    "from PIL import Image\n",
    "import base64"
   ]
  },
  {
   "cell_type": "markdown",
   "metadata": {},
   "source": [
    "### file hierarchy and database connection vars"
   ]
  },
  {
   "cell_type": "code",
   "execution_count": 2,
   "metadata": {
    "collapsed": true
   },
   "outputs": [],
   "source": [
    "# directory & file hierarchy\n",
    "iterationName = 'e1'\n",
    "exp_path = 'museumdraw'\n",
    "analysis_dir = os.getcwd()\n",
    "exp_dir = os.path.abspath(os.path.join(os.getcwd(),'../..','experiments'))\n",
    "##\n",
    "sketch_dir = os.path.join(analysis_dir,'sketches')\n",
    "if not os.path.exists(sketch_dir):\n",
    "    os.makedirs(sketch_dir)\n",
    "## dir where we can keep all sketches not binned by category    \n"
   ]
  },
  {
   "cell_type": "code",
   "execution_count": 3,
   "metadata": {
    "collapsed": false
   },
   "outputs": [],
   "source": [
    "# set vars \n",
    "auth = pd.read_csv('auth.txt', header = None) # this auth.txt file contains the password for the sketchloop user\n",
    "pswd = auth.values[0][0]\n",
    "user = 'sketchloop'\n",
    "host = 'rxdhawkins.me' ## cocolab ip address\n",
    "\n",
    "# have to fix this to be able to analyze from local\n",
    "import pymongo as pm\n",
    "conn = pm.MongoClient('mongodb://sketchloop:' + pswd + '@127.0.0.1')\n",
    "db = conn['kiddraw']\n",
    "coll = db['E1c']\n",
    "coll2 = db['E1d']"
   ]
  },
  {
   "cell_type": "code",
   "execution_count": 4,
   "metadata": {
    "collapsed": false
   },
   "outputs": [],
   "source": [
    "conn = pm.MongoClient('mongodb://sketchloop:' + pswd + '@127.0.0.1')\n",
    "db = conn['kiddraw']\n",
    "coll = db['E1c']\n",
    "coll2 = db['E1d']"
   ]
  },
  {
   "cell_type": "code",
   "execution_count": null,
   "metadata": {
    "collapsed": false
   },
   "outputs": [],
   "source": []
  },
  {
   "cell_type": "markdown",
   "metadata": {},
   "source": [
    "### Preprocessing data and rendering images"
   ]
  },
  {
   "cell_type": "markdown",
   "metadata": {},
   "source": [
    "Notes:\n",
    "\n",
    "The collection that contains the data we will analyze for VSS is called 'E1c'. There were 16 categories in this set. \n",
    "\n",
    "12/19/17: We expanded the set of classes from 16 classes to 22 classes. These are saved under the experiment name 'E1d.'\n",
    "\n",
    "There are two types of records in the database: 'stroke' and 'finalImage'. This is stored under the key: 'dataType'.\n",
    "The 'stroke'-type of record contains the svg string information. Every stroke event is stored as a separate record.\n",
    "The session identifier is called \"sessionId\".\n",
    "\n",
    "\n"
   ]
  },
  {
   "cell_type": "code",
   "execution_count": 13,
   "metadata": {
    "collapsed": false
   },
   "outputs": [
    {
     "name": "stdout",
     "output_type": "stream",
     "text": [
      "We currently have 56 valid sessions from E1c.\n",
      "We currently have 79 valid sessions, including E1d.\n"
     ]
    }
   ],
   "source": [
    "# wave 1 of data collection (16 classes)\n",
    "experiment_name = 'E1c'\n",
    "time_threshold = 1510252452134 ## this is the timepoint after which real data started getting collected\n",
    "all_sessions = coll.distinct('sessionId') ## this returns ALL sessions in this collection. we will then filter on time_threshold\n",
    "valid_sessions = coll.find({'time':{'$gt': time_threshold}}).distinct('sessionId')\n",
    "practice_categories = ['circle','triangle']\n",
    "print 'We currently have {} valid sessions from {}.'.format(len(valid_sessions), experiment_name)\n",
    "\n",
    "# wave 2 of data collection (22 classes) \n",
    "experiment_name = 'E1d'\n",
    "valid_sessions += coll2.find({'time':{'$gt': time_threshold}}).distinct('sessionId')\n",
    "print 'We currently have {} valid sessions, including {}.'.format(len(valid_sessions), experiment_name)"
   ]
  },
  {
   "cell_type": "code",
   "execution_count": null,
   "metadata": {
    "collapsed": false
   },
   "outputs": [],
   "source": []
  },
  {
   "cell_type": "code",
   "execution_count": 45,
   "metadata": {
    "collapsed": false
   },
   "outputs": [
    {
     "name": "stdout",
     "output_type": "stream",
     "text": [
      "Analyzing E1c_1510252568116\n",
      "/Users/judithfan/kiddraw/analysis/museumdraw/python/sketches/foot\n",
      "/Users/judithfan/kiddraw/analysis/museumdraw/python/sketches/phone\n",
      "/Users/judithfan/kiddraw/analysis/museumdraw/python/sketches/chair\n",
      "Analyzing E1c_1510253415559\n",
      "/Users/judithfan/kiddraw/analysis/museumdraw/python/sketches/train\n",
      "/Users/judithfan/kiddraw/analysis/museumdraw/python/sketches/car\n",
      "/Users/judithfan/kiddraw/analysis/museumdraw/python/sketches/rabbit\n",
      "Analyzing E1c_1510253748384\n",
      "/Users/judithfan/kiddraw/analysis/museumdraw/python/sketches/boat\n",
      "/Users/judithfan/kiddraw/analysis/museumdraw/python/sketches/banana\n",
      "/Users/judithfan/kiddraw/analysis/museumdraw/python/sketches/ice cream\n",
      "/Users/judithfan/kiddraw/analysis/museumdraw/python/sketches/flower\n",
      "/Users/judithfan/kiddraw/analysis/museumdraw/python/sketches/train\n",
      "/Users/judithfan/kiddraw/analysis/museumdraw/python/sketches/chair\n",
      "Analyzing E1c_1510254933095\n",
      "/Users/judithfan/kiddraw/analysis/museumdraw/python/sketches/banana\n",
      "/Users/judithfan/kiddraw/analysis/museumdraw/python/sketches/carrot\n",
      "/Users/judithfan/kiddraw/analysis/museumdraw/python/sketches/phone\n",
      "/Users/judithfan/kiddraw/analysis/museumdraw/python/sketches/shoe\n",
      "/Users/judithfan/kiddraw/analysis/museumdraw/python/sketches/car\n",
      "/Users/judithfan/kiddraw/analysis/museumdraw/python/sketches/ice cream\n",
      "/Users/judithfan/kiddraw/analysis/museumdraw/python/sketches/flower\n",
      "/Users/judithfan/kiddraw/analysis/museumdraw/python/sketches/foot\n",
      "/Users/judithfan/kiddraw/analysis/museumdraw/python/sketches/chair\n",
      "/Users/judithfan/kiddraw/analysis/museumdraw/python/sketches/rabbit\n",
      "/Users/judithfan/kiddraw/analysis/museumdraw/python/sketches/couch\n",
      "/Users/judithfan/kiddraw/analysis/museumdraw/python/sketches/cup\n",
      "/Users/judithfan/kiddraw/analysis/museumdraw/python/sketches/cat\n",
      "Analyzing E1c_1510255462419\n",
      "/Users/judithfan/kiddraw/analysis/museumdraw/python/sketches/carrot\n",
      "/Users/judithfan/kiddraw/analysis/museumdraw/python/sketches/shoe\n",
      "/Users/judithfan/kiddraw/analysis/museumdraw/python/sketches/cup\n",
      "/Users/judithfan/kiddraw/analysis/museumdraw/python/sketches/frog\n",
      "Analyzing E1c_1510256904834\n",
      "/Users/judithfan/kiddraw/analysis/museumdraw/python/sketches/couch\n",
      "/Users/judithfan/kiddraw/analysis/museumdraw/python/sketches/shoe\n",
      "/Users/judithfan/kiddraw/analysis/museumdraw/python/sketches/foot\n",
      "/Users/judithfan/kiddraw/analysis/museumdraw/python/sketches/rabbit\n",
      "/Users/judithfan/kiddraw/analysis/museumdraw/python/sketches/frog\n",
      "Analyzing E1c_1510258311547\n",
      "/Users/judithfan/kiddraw/analysis/museumdraw/python/sketches/boat\n",
      "/Users/judithfan/kiddraw/analysis/museumdraw/python/sketches/cup\n",
      "/Users/judithfan/kiddraw/analysis/museumdraw/python/sketches/frog\n",
      "/Users/judithfan/kiddraw/analysis/museumdraw/python/sketches/couch\n",
      "/Users/judithfan/kiddraw/analysis/museumdraw/python/sketches/foot\n",
      "/Users/judithfan/kiddraw/analysis/museumdraw/python/sketches/train\n",
      "Analyzing E1c_1510262448790\n",
      "/Users/judithfan/kiddraw/analysis/museumdraw/python/sketches/foot\n",
      "/Users/judithfan/kiddraw/analysis/museumdraw/python/sketches/ice cream\n",
      "/Users/judithfan/kiddraw/analysis/museumdraw/python/sketches/shoe\n",
      "/Users/judithfan/kiddraw/analysis/museumdraw/python/sketches/flower\n",
      "/Users/judithfan/kiddraw/analysis/museumdraw/python/sketches/frog\n",
      "Analyzing E1c_1510263067113\n",
      "/Users/judithfan/kiddraw/analysis/museumdraw/python/sketches/rabbit\n",
      "/Users/judithfan/kiddraw/analysis/museumdraw/python/sketches/carrot\n",
      "/Users/judithfan/kiddraw/analysis/museumdraw/python/sketches/car\n",
      "/Users/judithfan/kiddraw/analysis/museumdraw/python/sketches/boat\n",
      "Analyzing E1c_1510263944688\n",
      "/Users/judithfan/kiddraw/analysis/museumdraw/python/sketches/cat\n",
      "/Users/judithfan/kiddraw/analysis/museumdraw/python/sketches/shoe\n",
      "/Users/judithfan/kiddraw/analysis/museumdraw/python/sketches/carrot\n",
      "/Users/judithfan/kiddraw/analysis/museumdraw/python/sketches/train\n",
      "/Users/judithfan/kiddraw/analysis/museumdraw/python/sketches/phone\n",
      "/Users/judithfan/kiddraw/analysis/museumdraw/python/sketches/frog\n",
      "Analyzing E1c_1510268275436\n",
      "/Users/judithfan/kiddraw/analysis/museumdraw/python/sketches/train\n",
      "/Users/judithfan/kiddraw/analysis/museumdraw/python/sketches/carrot\n",
      "/Users/judithfan/kiddraw/analysis/museumdraw/python/sketches/chair\n",
      "/Users/judithfan/kiddraw/analysis/museumdraw/python/sketches/couch\n",
      "Analyzing E1c_1510274316900\n",
      "Analyzing E1c_1510684683444\n",
      "Analyzing E1c_1510684833991\n",
      "/Users/judithfan/kiddraw/analysis/museumdraw/python/sketches/flower\n",
      "/Users/judithfan/kiddraw/analysis/museumdraw/python/sketches/train\n",
      "/Users/judithfan/kiddraw/analysis/museumdraw/python/sketches/frog\n",
      "/Users/judithfan/kiddraw/analysis/museumdraw/python/sketches/car\n",
      "/Users/judithfan/kiddraw/analysis/museumdraw/python/sketches/cat\n",
      "/Users/judithfan/kiddraw/analysis/museumdraw/python/sketches/ice cream\n",
      "/Users/judithfan/kiddraw/analysis/museumdraw/python/sketches/cup\n",
      "/Users/judithfan/kiddraw/analysis/museumdraw/python/sketches/chair\n",
      "/Users/judithfan/kiddraw/analysis/museumdraw/python/sketches/boat\n",
      "/Users/judithfan/kiddraw/analysis/museumdraw/python/sketches/rabbit\n",
      "/Users/judithfan/kiddraw/analysis/museumdraw/python/sketches/phone\n",
      "/Users/judithfan/kiddraw/analysis/museumdraw/python/sketches/couch\n",
      "/Users/judithfan/kiddraw/analysis/museumdraw/python/sketches/banana\n",
      "/Users/judithfan/kiddraw/analysis/museumdraw/python/sketches/foot\n",
      "/Users/judithfan/kiddraw/analysis/museumdraw/python/sketches/carrot\n",
      "Analyzing E1c_1510686211416\n",
      "Analyzing E1c_1510686242527\n",
      "/Users/judithfan/kiddraw/analysis/museumdraw/python/sketches/rabbit\n",
      "/Users/judithfan/kiddraw/analysis/museumdraw/python/sketches/banana\n",
      "/Users/judithfan/kiddraw/analysis/museumdraw/python/sketches/carrot\n",
      "/Users/judithfan/kiddraw/analysis/museumdraw/python/sketches/boat\n",
      "Analyzing E1c_1510686354409\n",
      "Analyzing E1c_1510689458884\n",
      "/Users/judithfan/kiddraw/analysis/museumdraw/python/sketches/carrot\n",
      "/Users/judithfan/kiddraw/analysis/museumdraw/python/sketches/flower\n",
      "/Users/judithfan/kiddraw/analysis/museumdraw/python/sketches/cup\n",
      "/Users/judithfan/kiddraw/analysis/museumdraw/python/sketches/train\n",
      "Analyzing E1c_1510690264523\n",
      "/Users/judithfan/kiddraw/analysis/museumdraw/python/sketches/foot\n",
      "/Users/judithfan/kiddraw/analysis/museumdraw/python/sketches/phone\n",
      "/Users/judithfan/kiddraw/analysis/museumdraw/python/sketches/cat\n",
      "/Users/judithfan/kiddraw/analysis/museumdraw/python/sketches/chair\n",
      "/Users/judithfan/kiddraw/analysis/museumdraw/python/sketches/cup\n",
      "/Users/judithfan/kiddraw/analysis/museumdraw/python/sketches/frog\n",
      "/Users/judithfan/kiddraw/analysis/museumdraw/python/sketches/rabbit\n",
      "Analyzing E1c_1510690510319\n",
      "/Users/judithfan/kiddraw/analysis/museumdraw/python/sketches/cup\n",
      "/Users/judithfan/kiddraw/analysis/museumdraw/python/sketches/phone\n",
      "/Users/judithfan/kiddraw/analysis/museumdraw/python/sketches/car\n",
      "/Users/judithfan/kiddraw/analysis/museumdraw/python/sketches/chair\n",
      "/Users/judithfan/kiddraw/analysis/museumdraw/python/sketches/train\n",
      "/Users/judithfan/kiddraw/analysis/museumdraw/python/sketches/ice cream\n",
      "Analyzing E1c_1510691847400\n",
      "/Users/judithfan/kiddraw/analysis/museumdraw/python/sketches/banana\n",
      "/Users/judithfan/kiddraw/analysis/museumdraw/python/sketches/foot\n",
      "/Users/judithfan/kiddraw/analysis/museumdraw/python/sketches/rabbit\n",
      "/Users/judithfan/kiddraw/analysis/museumdraw/python/sketches/flower\n",
      "/Users/judithfan/kiddraw/analysis/museumdraw/python/sketches/cup\n",
      "/Users/judithfan/kiddraw/analysis/museumdraw/python/sketches/ice cream\n",
      "Analyzing E1c_1510695588717\n",
      "/Users/judithfan/kiddraw/analysis/museumdraw/python/sketches/cup\n",
      "/Users/judithfan/kiddraw/analysis/museumdraw/python/sketches/shoe\n",
      "/Users/judithfan/kiddraw/analysis/museumdraw/python/sketches/boat\n",
      "/Users/judithfan/kiddraw/analysis/museumdraw/python/sketches/couch\n",
      "/Users/judithfan/kiddraw/analysis/museumdraw/python/sketches/car\n",
      "/Users/judithfan/kiddraw/analysis/museumdraw/python/sketches/carrot\n",
      "Analyzing E1c_1510700570912\n",
      "/Users/judithfan/kiddraw/analysis/museumdraw/python/sketches/ice cream\n",
      "/Users/judithfan/kiddraw/analysis/museumdraw/python/sketches/shoe\n",
      "/Users/judithfan/kiddraw/analysis/museumdraw/python/sketches/boat\n",
      "/Users/judithfan/kiddraw/analysis/museumdraw/python/sketches/train\n",
      "/Users/judithfan/kiddraw/analysis/museumdraw/python/sketches/flower\n",
      "/Users/judithfan/kiddraw/analysis/museumdraw/python/sketches/cat\n",
      "/Users/judithfan/kiddraw/analysis/museumdraw/python/sketches/frog\n",
      "Analyzing E1c_1510782034963\n",
      "/Users/judithfan/kiddraw/analysis/museumdraw/python/sketches/phone\n",
      "/Users/judithfan/kiddraw/analysis/museumdraw/python/sketches/frog\n",
      "/Users/judithfan/kiddraw/analysis/museumdraw/python/sketches/foot\n",
      "/Users/judithfan/kiddraw/analysis/museumdraw/python/sketches/train\n",
      "/Users/judithfan/kiddraw/analysis/museumdraw/python/sketches/car\n",
      "/Users/judithfan/kiddraw/analysis/museumdraw/python/sketches/banana\n",
      "Analyzing E1c_1510783353272\n",
      "/Users/judithfan/kiddraw/analysis/museumdraw/python/sketches/flower\n",
      "/Users/judithfan/kiddraw/analysis/museumdraw/python/sketches/chair\n",
      "/Users/judithfan/kiddraw/analysis/museumdraw/python/sketches/car\n",
      "/Users/judithfan/kiddraw/analysis/museumdraw/python/sketches/train\n",
      "/Users/judithfan/kiddraw/analysis/museumdraw/python/sketches/phone\n",
      "Analyzing E1c_1510783638074\n",
      "/Users/judithfan/kiddraw/analysis/museumdraw/python/sketches/foot\n",
      "/Users/judithfan/kiddraw/analysis/museumdraw/python/sketches/phone\n",
      "/Users/judithfan/kiddraw/analysis/museumdraw/python/sketches/car\n",
      "/Users/judithfan/kiddraw/analysis/museumdraw/python/sketches/flower\n",
      "/Users/judithfan/kiddraw/analysis/museumdraw/python/sketches/ice cream\n",
      "/Users/judithfan/kiddraw/analysis/museumdraw/python/sketches/cat\n",
      "Analyzing E1c_1510783818788\n",
      "/Users/judithfan/kiddraw/analysis/museumdraw/python/sketches/boat\n",
      "/Users/judithfan/kiddraw/analysis/museumdraw/python/sketches/rabbit\n",
      "/Users/judithfan/kiddraw/analysis/museumdraw/python/sketches/couch\n",
      "/Users/judithfan/kiddraw/analysis/museumdraw/python/sketches/chair\n",
      "/Users/judithfan/kiddraw/analysis/museumdraw/python/sketches/train\n",
      "/Users/judithfan/kiddraw/analysis/museumdraw/python/sketches/phone\n",
      "Analyzing E1c_1510786719020\n",
      "/Users/judithfan/kiddraw/analysis/museumdraw/python/sketches/shoe\n",
      "/Users/judithfan/kiddraw/analysis/museumdraw/python/sketches/chair\n",
      "/Users/judithfan/kiddraw/analysis/museumdraw/python/sketches/cat\n",
      "/Users/judithfan/kiddraw/analysis/museumdraw/python/sketches/foot\n",
      "/Users/judithfan/kiddraw/analysis/museumdraw/python/sketches/flower\n",
      "/Users/judithfan/kiddraw/analysis/museumdraw/python/sketches/train\n",
      "/Users/judithfan/kiddraw/analysis/museumdraw/python/sketches/car\n",
      "/Users/judithfan/kiddraw/analysis/museumdraw/python/sketches/banana\n",
      "/Users/judithfan/kiddraw/analysis/museumdraw/python/sketches/couch\n",
      "/Users/judithfan/kiddraw/analysis/museumdraw/python/sketches/boat\n",
      "/Users/judithfan/kiddraw/analysis/museumdraw/python/sketches/carrot\n",
      "/Users/judithfan/kiddraw/analysis/museumdraw/python/sketches/rabbit\n",
      "Analyzing E1c_1510787010922\n",
      "/Users/judithfan/kiddraw/analysis/museumdraw/python/sketches/rabbit\n",
      "/Users/judithfan/kiddraw/analysis/museumdraw/python/sketches/ice cream\n",
      "/Users/judithfan/kiddraw/analysis/museumdraw/python/sketches/flower\n",
      "/Users/judithfan/kiddraw/analysis/museumdraw/python/sketches/banana\n",
      "/Users/judithfan/kiddraw/analysis/museumdraw/python/sketches/car\n",
      "/Users/judithfan/kiddraw/analysis/museumdraw/python/sketches/chair\n",
      "/Users/judithfan/kiddraw/analysis/museumdraw/python/sketches/frog\n",
      "/Users/judithfan/kiddraw/analysis/museumdraw/python/sketches/boat\n",
      "/Users/judithfan/kiddraw/analysis/museumdraw/python/sketches/foot\n",
      "/Users/judithfan/kiddraw/analysis/museumdraw/python/sketches/shoe\n",
      "/Users/judithfan/kiddraw/analysis/museumdraw/python/sketches/couch\n",
      "/Users/judithfan/kiddraw/analysis/museumdraw/python/sketches/cup\n",
      "/Users/judithfan/kiddraw/analysis/museumdraw/python/sketches/cat\n",
      "/Users/judithfan/kiddraw/analysis/museumdraw/python/sketches/train\n",
      "Analyzing E1c_1510855958411\n",
      "Analyzing E1c_1510870100423\n",
      "/Users/judithfan/kiddraw/analysis/museumdraw/python/sketches/rabbit\n",
      "/Users/judithfan/kiddraw/analysis/museumdraw/python/sketches/chair\n",
      "/Users/judithfan/kiddraw/analysis/museumdraw/python/sketches/flower\n",
      "/Users/judithfan/kiddraw/analysis/museumdraw/python/sketches/carrot\n",
      "/Users/judithfan/kiddraw/analysis/museumdraw/python/sketches/train\n",
      "/Users/judithfan/kiddraw/analysis/museumdraw/python/sketches/ice cream\n",
      "/Users/judithfan/kiddraw/analysis/museumdraw/python/sketches/phone\n",
      "/Users/judithfan/kiddraw/analysis/museumdraw/python/sketches/cat\n",
      "Analyzing E1c_1510870384576\n",
      "/Users/judithfan/kiddraw/analysis/museumdraw/python/sketches/train\n",
      "/Users/judithfan/kiddraw/analysis/museumdraw/python/sketches/car\n",
      "/Users/judithfan/kiddraw/analysis/museumdraw/python/sketches/shoe\n",
      "/Users/judithfan/kiddraw/analysis/museumdraw/python/sketches/ice cream\n",
      "/Users/judithfan/kiddraw/analysis/museumdraw/python/sketches/cup\n",
      "/Users/judithfan/kiddraw/analysis/museumdraw/python/sketches/chair\n",
      "Analyzing E1c_1510894558208\n",
      "Analyzing E1c_1510870628731\n",
      "/Users/judithfan/kiddraw/analysis/museumdraw/python/sketches/boat\n",
      "/Users/judithfan/kiddraw/analysis/museumdraw/python/sketches/banana\n",
      "/Users/judithfan/kiddraw/analysis/museumdraw/python/sketches/phone\n",
      "/Users/judithfan/kiddraw/analysis/museumdraw/python/sketches/cup\n",
      "/Users/judithfan/kiddraw/analysis/museumdraw/python/sketches/chair\n",
      "/Users/judithfan/kiddraw/analysis/museumdraw/python/sketches/flower\n",
      "/Users/judithfan/kiddraw/analysis/museumdraw/python/sketches/frog\n",
      "/Users/judithfan/kiddraw/analysis/museumdraw/python/sketches/cat\n",
      "/Users/judithfan/kiddraw/analysis/museumdraw/python/sketches/shoe\n",
      "/Users/judithfan/kiddraw/analysis/museumdraw/python/sketches/train\n",
      "/Users/judithfan/kiddraw/analysis/museumdraw/python/sketches/couch\n",
      "/Users/judithfan/kiddraw/analysis/museumdraw/python/sketches/rabbit\n",
      "Analyzing E1c_1511292022297\n",
      "/Users/judithfan/kiddraw/analysis/museumdraw/python/sketches/foot\n",
      "/Users/judithfan/kiddraw/analysis/museumdraw/python/sketches/car\n",
      "/Users/judithfan/kiddraw/analysis/museumdraw/python/sketches/rabbit\n",
      "/Users/judithfan/kiddraw/analysis/museumdraw/python/sketches/couch\n",
      "/Users/judithfan/kiddraw/analysis/museumdraw/python/sketches/train\n",
      "/Users/judithfan/kiddraw/analysis/museumdraw/python/sketches/shoe\n",
      "/Users/judithfan/kiddraw/analysis/museumdraw/python/sketches/banana\n",
      "Analyzing E1c_1511292286803\n",
      "/Users/judithfan/kiddraw/analysis/museumdraw/python/sketches/train\n",
      "/Users/judithfan/kiddraw/analysis/museumdraw/python/sketches/banana\n",
      "/Users/judithfan/kiddraw/analysis/museumdraw/python/sketches/ice cream\n",
      "/Users/judithfan/kiddraw/analysis/museumdraw/python/sketches/shoe\n",
      "/Users/judithfan/kiddraw/analysis/museumdraw/python/sketches/chair\n",
      "/Users/judithfan/kiddraw/analysis/museumdraw/python/sketches/rabbit\n",
      "/Users/judithfan/kiddraw/analysis/museumdraw/python/sketches/foot\n",
      "/Users/judithfan/kiddraw/analysis/museumdraw/python/sketches/boat\n",
      "Analyzing E1c_1511292658766\n",
      "/Users/judithfan/kiddraw/analysis/museumdraw/python/sketches/banana\n",
      "/Users/judithfan/kiddraw/analysis/museumdraw/python/sketches/flower\n",
      "/Users/judithfan/kiddraw/analysis/museumdraw/python/sketches/boat\n",
      "/Users/judithfan/kiddraw/analysis/museumdraw/python/sketches/cat\n",
      "Analyzing E1c_1511293092153\n",
      "/Users/judithfan/kiddraw/analysis/museumdraw/python/sketches/banana\n",
      "/Users/judithfan/kiddraw/analysis/museumdraw/python/sketches/chair\n",
      "/Users/judithfan/kiddraw/analysis/museumdraw/python/sketches/train\n",
      "/Users/judithfan/kiddraw/analysis/museumdraw/python/sketches/couch\n",
      "/Users/judithfan/kiddraw/analysis/museumdraw/python/sketches/rabbit\n",
      "/Users/judithfan/kiddraw/analysis/museumdraw/python/sketches/car\n",
      "/Users/judithfan/kiddraw/analysis/museumdraw/python/sketches/frog\n",
      "Analyzing E1c_1511293452162\n",
      "/Users/judithfan/kiddraw/analysis/museumdraw/python/sketches/phone\n",
      "/Users/judithfan/kiddraw/analysis/museumdraw/python/sketches/frog\n",
      "/Users/judithfan/kiddraw/analysis/museumdraw/python/sketches/boat\n",
      "/Users/judithfan/kiddraw/analysis/museumdraw/python/sketches/banana\n",
      "/Users/judithfan/kiddraw/analysis/museumdraw/python/sketches/shoe\n",
      "/Users/judithfan/kiddraw/analysis/museumdraw/python/sketches/cat\n",
      "/Users/judithfan/kiddraw/analysis/museumdraw/python/sketches/train\n",
      "/Users/judithfan/kiddraw/analysis/museumdraw/python/sketches/cup\n",
      "/Users/judithfan/kiddraw/analysis/museumdraw/python/sketches/chair\n",
      "/Users/judithfan/kiddraw/analysis/museumdraw/python/sketches/rabbit\n",
      "/Users/judithfan/kiddraw/analysis/museumdraw/python/sketches/flower\n",
      "/Users/judithfan/kiddraw/analysis/museumdraw/python/sketches/carrot\n",
      "Analyzing E1c_1511293733184\n",
      "Analyzing E1c_1511293754661\n",
      "/Users/judithfan/kiddraw/analysis/museumdraw/python/sketches/frog\n",
      "/Users/judithfan/kiddraw/analysis/museumdraw/python/sketches/car\n",
      "/Users/judithfan/kiddraw/analysis/museumdraw/python/sketches/ice cream\n",
      "/Users/judithfan/kiddraw/analysis/museumdraw/python/sketches/flower\n",
      "/Users/judithfan/kiddraw/analysis/museumdraw/python/sketches/couch\n",
      "/Users/judithfan/kiddraw/analysis/museumdraw/python/sketches/carrot\n",
      "/Users/judithfan/kiddraw/analysis/museumdraw/python/sketches/foot\n",
      "Analyzing E1c_1511293924452\n",
      "/Users/judithfan/kiddraw/analysis/museumdraw/python/sketches/chair\n",
      "/Users/judithfan/kiddraw/analysis/museumdraw/python/sketches/rabbit\n",
      "/Users/judithfan/kiddraw/analysis/museumdraw/python/sketches/cup\n",
      "/Users/judithfan/kiddraw/analysis/museumdraw/python/sketches/flower\n",
      "/Users/judithfan/kiddraw/analysis/museumdraw/python/sketches/boat\n",
      "/Users/judithfan/kiddraw/analysis/museumdraw/python/sketches/cat\n",
      "/Users/judithfan/kiddraw/analysis/museumdraw/python/sketches/frog\n",
      "/Users/judithfan/kiddraw/analysis/museumdraw/python/sketches/phone\n",
      "/Users/judithfan/kiddraw/analysis/museumdraw/python/sketches/car\n",
      "Analyzing E1c_1511300355318\n",
      "/Users/judithfan/kiddraw/analysis/museumdraw/python/sketches/train\n",
      "/Users/judithfan/kiddraw/analysis/museumdraw/python/sketches/flower\n",
      "/Users/judithfan/kiddraw/analysis/museumdraw/python/sketches/shoe\n",
      "/Users/judithfan/kiddraw/analysis/museumdraw/python/sketches/cup\n",
      "/Users/judithfan/kiddraw/analysis/museumdraw/python/sketches/couch\n",
      "/Users/judithfan/kiddraw/analysis/museumdraw/python/sketches/ice cream\n",
      "/Users/judithfan/kiddraw/analysis/museumdraw/python/sketches/cat\n",
      "/Users/judithfan/kiddraw/analysis/museumdraw/python/sketches/banana\n",
      "/Users/judithfan/kiddraw/analysis/museumdraw/python/sketches/rabbit\n",
      "/Users/judithfan/kiddraw/analysis/museumdraw/python/sketches/boat\n",
      "Analyzing E1c_1511300850043\n",
      "/Users/judithfan/kiddraw/analysis/museumdraw/python/sketches/rabbit\n",
      "/Users/judithfan/kiddraw/analysis/museumdraw/python/sketches/flower\n",
      "/Users/judithfan/kiddraw/analysis/museumdraw/python/sketches/carrot\n",
      "/Users/judithfan/kiddraw/analysis/museumdraw/python/sketches/ice cream\n",
      "/Users/judithfan/kiddraw/analysis/museumdraw/python/sketches/phone\n",
      "/Users/judithfan/kiddraw/analysis/museumdraw/python/sketches/cat\n",
      "Analyzing E1c_1511301009480\n",
      "/Users/judithfan/kiddraw/analysis/museumdraw/python/sketches/car\n",
      "/Users/judithfan/kiddraw/analysis/museumdraw/python/sketches/banana\n",
      "/Users/judithfan/kiddraw/analysis/museumdraw/python/sketches/flower\n",
      "/Users/judithfan/kiddraw/analysis/museumdraw/python/sketches/boat\n",
      "/Users/judithfan/kiddraw/analysis/museumdraw/python/sketches/phone\n",
      "/Users/judithfan/kiddraw/analysis/museumdraw/python/sketches/rabbit\n",
      "Analyzing E1c_1511301440421\n",
      "/Users/judithfan/kiddraw/analysis/museumdraw/python/sketches/carrot\n",
      "/Users/judithfan/kiddraw/analysis/museumdraw/python/sketches/chair\n",
      "/Users/judithfan/kiddraw/analysis/museumdraw/python/sketches/ice cream\n",
      "/Users/judithfan/kiddraw/analysis/museumdraw/python/sketches/foot\n",
      "/Users/judithfan/kiddraw/analysis/museumdraw/python/sketches/banana\n",
      "/Users/judithfan/kiddraw/analysis/museumdraw/python/sketches/car\n",
      "/Users/judithfan/kiddraw/analysis/museumdraw/python/sketches/phone\n",
      "Analyzing E1c_1511301634355\n",
      "/Users/judithfan/kiddraw/analysis/museumdraw/python/sketches/couch\n",
      "/Users/judithfan/kiddraw/analysis/museumdraw/python/sketches/carrot\n",
      "/Users/judithfan/kiddraw/analysis/museumdraw/python/sketches/phone\n",
      "/Users/judithfan/kiddraw/analysis/museumdraw/python/sketches/cat\n",
      "/Users/judithfan/kiddraw/analysis/museumdraw/python/sketches/ice cream\n",
      "/Users/judithfan/kiddraw/analysis/museumdraw/python/sketches/cup\n",
      "/Users/judithfan/kiddraw/analysis/museumdraw/python/sketches/shoe\n",
      "Analyzing E1c_1511301807087\n",
      "/Users/judithfan/kiddraw/analysis/museumdraw/python/sketches/couch\n",
      "/Users/judithfan/kiddraw/analysis/museumdraw/python/sketches/carrot\n",
      "/Users/judithfan/kiddraw/analysis/museumdraw/python/sketches/chair\n",
      "/Users/judithfan/kiddraw/analysis/museumdraw/python/sketches/train\n",
      "/Users/judithfan/kiddraw/analysis/museumdraw/python/sketches/shoe\n",
      "/Users/judithfan/kiddraw/analysis/museumdraw/python/sketches/boat\n",
      "/Users/judithfan/kiddraw/analysis/museumdraw/python/sketches/cup\n",
      "Analyzing E1c_1511806224001\n",
      "Analyzing E1c_1511893702789\n",
      "Analyzing E1c_1511893790038\n",
      "Analyzing E1c_1512535494867\n",
      "Analyzing E1c_1512535575598\n",
      "Analyzing E1c_1512535600366\n",
      "Analyzing E1d_1512536288731\n",
      "Analyzing E1d_1512688408708\n",
      "/Users/judithfan/kiddraw/analysis/museumdraw/python/sketches/bike\n",
      "Analyzing E1d_1512688483655\n",
      "/Users/judithfan/kiddraw/analysis/museumdraw/python/sketches/hat\n",
      "/Users/judithfan/kiddraw/analysis/museumdraw/python/sketches/table\n",
      "/Users/judithfan/kiddraw/analysis/museumdraw/python/sketches/cookie\n",
      "/Users/judithfan/kiddraw/analysis/museumdraw/python/sketches/piano\n",
      "Analyzing E1d_1512688988142\n",
      "Analyzing E1d_1513115119771\n",
      "/Users/judithfan/kiddraw/analysis/museumdraw/python/sketches/bear\n",
      "/Users/judithfan/kiddraw/analysis/museumdraw/python/sketches/table\n",
      "/Users/judithfan/kiddraw/analysis/museumdraw/python/sketches/airplane\n",
      "/Users/judithfan/kiddraw/analysis/museumdraw/python/sketches/fish\n",
      "Analyzing E1d_1513116523884\n",
      "/Users/judithfan/kiddraw/analysis/museumdraw/python/sketches/bus\n",
      "/Users/judithfan/kiddraw/analysis/museumdraw/python/sketches/bear\n",
      "Analyzing E1d_1513116902655\n",
      "/Users/judithfan/kiddraw/analysis/museumdraw/python/sketches/bike\n",
      "/Users/judithfan/kiddraw/analysis/museumdraw/python/sketches/sheep\n",
      "/Users/judithfan/kiddraw/analysis/museumdraw/python/sketches/shark\n",
      "/Users/judithfan/kiddraw/analysis/museumdraw/python/sketches/table\n",
      "/Users/judithfan/kiddraw/analysis/museumdraw/python/sketches/fish\n",
      "/Users/judithfan/kiddraw/analysis/museumdraw/python/sketches/bus\n",
      "/Users/judithfan/kiddraw/analysis/museumdraw/python/sketches/bird\n",
      "/Users/judithfan/kiddraw/analysis/museumdraw/python/sketches/piano\n",
      "Analyzing E1d_1513201166943\n",
      "/Users/judithfan/kiddraw/analysis/museumdraw/python/sketches/apple\n",
      "Analyzing E1d_1513204550632\n",
      "/Users/judithfan/kiddraw/analysis/museumdraw/python/sketches/bear\n",
      "/Users/judithfan/kiddraw/analysis/museumdraw/python/sketches/hat\n",
      "/Users/judithfan/kiddraw/analysis/museumdraw/python/sketches/duck\n",
      "/Users/judithfan/kiddraw/analysis/museumdraw/python/sketches/keys\n",
      "/Users/judithfan/kiddraw/analysis/museumdraw/python/sketches/cookie\n",
      "Analyzing E1d_1513204910948\n",
      "/Users/judithfan/kiddraw/analysis/museumdraw/python/sketches/fish\n",
      "/Users/judithfan/kiddraw/analysis/museumdraw/python/sketches/sheep\n",
      "/Users/judithfan/kiddraw/analysis/museumdraw/python/sketches/dog\n",
      "/Users/judithfan/kiddraw/analysis/museumdraw/python/sketches/bike\n",
      "/Users/judithfan/kiddraw/analysis/museumdraw/python/sketches/cookie\n",
      "/Users/judithfan/kiddraw/analysis/museumdraw/python/sketches/airplane\n",
      "Analyzing E1d_1513364307492\n",
      "/Users/judithfan/kiddraw/analysis/museumdraw/python/sketches/apple\n",
      "/Users/judithfan/kiddraw/analysis/museumdraw/python/sketches/bed\n",
      "/Users/judithfan/kiddraw/analysis/museumdraw/python/sketches/piano\n",
      "/Users/judithfan/kiddraw/analysis/museumdraw/python/sketches/table\n",
      "/Users/judithfan/kiddraw/analysis/museumdraw/python/sketches/door\n",
      "/Users/judithfan/kiddraw/analysis/museumdraw/python/sketches/hat\n",
      "/Users/judithfan/kiddraw/analysis/museumdraw/python/sketches/keys\n",
      "/Users/judithfan/kiddraw/analysis/museumdraw/python/sketches/bear\n",
      "/Users/judithfan/kiddraw/analysis/museumdraw/python/sketches/bus\n",
      "/Users/judithfan/kiddraw/analysis/museumdraw/python/sketches/bird\n",
      "Analyzing E1d_1513364945016\n",
      "/Users/judithfan/kiddraw/analysis/museumdraw/python/sketches/apple\n",
      "/Users/judithfan/kiddraw/analysis/museumdraw/python/sketches/fish\n",
      "/Users/judithfan/kiddraw/analysis/museumdraw/python/sketches/bird\n",
      "/Users/judithfan/kiddraw/analysis/museumdraw/python/sketches/cookie\n",
      "/Users/judithfan/kiddraw/analysis/museumdraw/python/sketches/bear\n",
      "/Users/judithfan/kiddraw/analysis/museumdraw/python/sketches/airplane\n",
      "/Users/judithfan/kiddraw/analysis/museumdraw/python/sketches/fork\n",
      "Analyzing E1d_1513365381928\n",
      "Analyzing E1d_1513367044649\n",
      "/Users/judithfan/kiddraw/analysis/museumdraw/python/sketches/bed\n",
      "/Users/judithfan/kiddraw/analysis/museumdraw/python/sketches/fork\n",
      "/Users/judithfan/kiddraw/analysis/museumdraw/python/sketches/shark\n",
      "/Users/judithfan/kiddraw/analysis/museumdraw/python/sketches/bird\n",
      "/Users/judithfan/kiddraw/analysis/museumdraw/python/sketches/sheep\n",
      "/Users/judithfan/kiddraw/analysis/museumdraw/python/sketches/fish\n",
      "Analyzing E1d_1513368898350\n",
      "/Users/judithfan/kiddraw/analysis/museumdraw/python/sketches/table\n",
      "/Users/judithfan/kiddraw/analysis/museumdraw/python/sketches/shark\n",
      "/Users/judithfan/kiddraw/analysis/museumdraw/python/sketches/bird\n",
      "/Users/judithfan/kiddraw/analysis/museumdraw/python/sketches/bus\n",
      "/Users/judithfan/kiddraw/analysis/museumdraw/python/sketches/sheep\n",
      "/Users/judithfan/kiddraw/analysis/museumdraw/python/sketches/fork\n",
      "/Users/judithfan/kiddraw/analysis/museumdraw/python/sketches/keys\n",
      "/Users/judithfan/kiddraw/analysis/museumdraw/python/sketches/hat\n",
      "Analyzing E1d_1513369498187\n",
      "/Users/judithfan/kiddraw/analysis/museumdraw/python/sketches/fish\n",
      "/Users/judithfan/kiddraw/analysis/museumdraw/python/sketches/dog\n",
      "/Users/judithfan/kiddraw/analysis/museumdraw/python/sketches/airplane\n",
      "/Users/judithfan/kiddraw/analysis/museumdraw/python/sketches/bus\n",
      "Analyzing E1d_1513724694943\n",
      "/Users/judithfan/kiddraw/analysis/museumdraw/python/sketches/bear\n",
      "/Users/judithfan/kiddraw/analysis/museumdraw/python/sketches/fish\n",
      "/Users/judithfan/kiddraw/analysis/museumdraw/python/sketches/keys\n",
      "/Users/judithfan/kiddraw/analysis/museumdraw/python/sketches/dog\n",
      "/Users/judithfan/kiddraw/analysis/museumdraw/python/sketches/bike\n",
      "Analyzing E1d_1513725674858\n",
      "/Users/judithfan/kiddraw/analysis/museumdraw/python/sketches/sheep\n",
      "/Users/judithfan/kiddraw/analysis/museumdraw/python/sketches/dog\n",
      "/Users/judithfan/kiddraw/analysis/museumdraw/python/sketches/table\n",
      "/Users/judithfan/kiddraw/analysis/museumdraw/python/sketches/hat\n",
      "/Users/judithfan/kiddraw/analysis/museumdraw/python/sketches/keys\n",
      "/Users/judithfan/kiddraw/analysis/museumdraw/python/sketches/spider\n",
      "/Users/judithfan/kiddraw/analysis/museumdraw/python/sketches/bear\n",
      "/Users/judithfan/kiddraw/analysis/museumdraw/python/sketches/bus\n",
      "/Users/judithfan/kiddraw/analysis/museumdraw/python/sketches/cookie\n",
      "/Users/judithfan/kiddraw/analysis/museumdraw/python/sketches/apple\n",
      "/Users/judithfan/kiddraw/analysis/museumdraw/python/sketches/fork\n",
      "/Users/judithfan/kiddraw/analysis/museumdraw/python/sketches/piano\n",
      "/Users/judithfan/kiddraw/analysis/museumdraw/python/sketches/fish\n",
      "/Users/judithfan/kiddraw/analysis/museumdraw/python/sketches/duck\n",
      "/Users/judithfan/kiddraw/analysis/museumdraw/python/sketches/door\n",
      "/Users/judithfan/kiddraw/analysis/museumdraw/python/sketches/mushroom\n",
      "/Users/judithfan/kiddraw/analysis/museumdraw/python/sketches/bed\n",
      "/Users/judithfan/kiddraw/analysis/museumdraw/python/sketches/bird\n",
      "/Users/judithfan/kiddraw/analysis/museumdraw/python/sketches/shark\n",
      "/Users/judithfan/kiddraw/analysis/museumdraw/python/sketches/airplane\n",
      "/Users/judithfan/kiddraw/analysis/museumdraw/python/sketches/horse\n",
      "/Users/judithfan/kiddraw/analysis/museumdraw/python/sketches/bike\n",
      "Analyzing E1d_1513803579645\n",
      "/Users/judithfan/kiddraw/analysis/museumdraw/python/sketches/shark\n",
      "/Users/judithfan/kiddraw/analysis/museumdraw/python/sketches/apple\n",
      "/Users/judithfan/kiddraw/analysis/museumdraw/python/sketches/airplane\n",
      "/Users/judithfan/kiddraw/analysis/museumdraw/python/sketches/keys\n",
      "/Users/judithfan/kiddraw/analysis/museumdraw/python/sketches/dog\n",
      "/Users/judithfan/kiddraw/analysis/museumdraw/python/sketches/bear\n",
      "/Users/judithfan/kiddraw/analysis/museumdraw/python/sketches/cookie\n",
      "/Users/judithfan/kiddraw/analysis/museumdraw/python/sketches/bike\n",
      "/Users/judithfan/kiddraw/analysis/museumdraw/python/sketches/bus\n",
      "/Users/judithfan/kiddraw/analysis/museumdraw/python/sketches/duck\n",
      "/Users/judithfan/kiddraw/analysis/museumdraw/python/sketches/sheep\n",
      "/Users/judithfan/kiddraw/analysis/museumdraw/python/sketches/fork\n",
      "Analyzing E1d_1513803835049\n",
      "/Users/judithfan/kiddraw/analysis/museumdraw/python/sketches/bike\n",
      "/Users/judithfan/kiddraw/analysis/museumdraw/python/sketches/mushroom\n",
      "/Users/judithfan/kiddraw/analysis/museumdraw/python/sketches/door\n",
      "/Users/judithfan/kiddraw/analysis/museumdraw/python/sketches/keys\n",
      "/Users/judithfan/kiddraw/analysis/museumdraw/python/sketches/apple\n",
      "/Users/judithfan/kiddraw/analysis/museumdraw/python/sketches/fork\n",
      "/Users/judithfan/kiddraw/analysis/museumdraw/python/sketches/cookie\n",
      "/Users/judithfan/kiddraw/analysis/museumdraw/python/sketches/fish\n",
      "/Users/judithfan/kiddraw/analysis/museumdraw/python/sketches/horse\n",
      "Analyzing E1d_1513812859685\n",
      "/Users/judithfan/kiddraw/analysis/museumdraw/python/sketches/cookie\n",
      "/Users/judithfan/kiddraw/analysis/museumdraw/python/sketches/sheep\n",
      "/Users/judithfan/kiddraw/analysis/museumdraw/python/sketches/dog\n",
      "/Users/judithfan/kiddraw/analysis/museumdraw/python/sketches/bird\n",
      "/Users/judithfan/kiddraw/analysis/museumdraw/python/sketches/table\n",
      "/Users/judithfan/kiddraw/analysis/museumdraw/python/sketches/apple\n",
      "/Users/judithfan/kiddraw/analysis/museumdraw/python/sketches/hat\n",
      "Analyzing E1d_1513813324932\n",
      "/Users/judithfan/kiddraw/analysis/museumdraw/python/sketches/bird\n",
      "Analyzing E1d_1518479787043\n"
     ]
    }
   ],
   "source": [
    "really_run_this = 1\n",
    "if really_run_this:\n",
    "    ## img writing parameters\n",
    "    imsize = 224\n",
    "    \n",
    "    ## desired output: a dataframe that has trials on the rows, and the following columns:\n",
    "    ## category, age, number of strokes, mean_pixel_intensity, bounding_box_coordinates_LTRB, list of strokes, \n",
    "    ## PNG string, submission_time, submission_date\n",
    "    ## to be saved out as a nice tidy CSV\n",
    "    session_id = []\n",
    "    trial_num = []\n",
    "    category = []\n",
    "    age = []\n",
    "    num_strokes = []\n",
    "    mean_pixel_intensity = []\n",
    "    bounding_box_coords = []\n",
    "    svg = []\n",
    "    svg_times = []\n",
    "    png = []\n",
    "    submit_time = []\n",
    "    submit_date = []\n",
    "    draw_duration = []\n",
    "    filename = []\n",
    "    for s in valid_sessions:\n",
    "        if s.split('_')[0]!='stationPilot0': ## ignore if data comes from station pilot\n",
    "            print 'Analyzing {}'.format(s)\n",
    "            if s.split('_')[0]=='E1c':\n",
    "                this_collection = coll\n",
    "            elif s.split('_')[0]=='E1d':\n",
    "                this_collection = coll2\n",
    "            image_recs = this_collection.find({'$and': [{'time': {'$gt': time_threshold}}, {'sessionId':s}, {'dataType':'finalImage'}]}).sort('time')    \n",
    "            for imrec in image_recs:                                                            \n",
    "                if imrec['category'] not in practice_categories: ## don't save practice category trials\n",
    "                    stroke_recs = this_collection.find({'$and': [{'time': {'$gt': time_threshold}}, \n",
    "                                                      {'sessionId':s}, \n",
    "                                                      {'dataType':'stroke'},\n",
    "                                                      {'trialNum': imrec['trialNum']}]}).sort('time')   \n",
    "                    \n",
    "                    if 'age' in imrec.keys():\n",
    "                        if imrec['age']:\n",
    "                            if stroke_recs.count() > 0: ## only include trials if the drawings are not blank            \n",
    "                                session_id.append(imrec['sessionId'])        \n",
    "                                trial_num.append(imrec['trialNum']) \n",
    "                                category.append(imrec['category'])\n",
    "                                age.append(imrec['age'])\n",
    "                                png.append(imrec['imgData'])\n",
    "                                submit_time.append(imrec['time'])\n",
    "                                submit_date.append(imrec['date'])\n",
    "                                filename.append(os.path.join(sketch_dir,'{}_sketch_{}_{}.png'.format(imrec['category'], imrec['age'],imrec['sessionId'])))\n",
    "                                num_strokes.append(stroke_recs.count())\n",
    "                                _svg = [] # this keeps track of the strokes from THIS final image\n",
    "                                _svg_times = []\n",
    "                                for strec in stroke_recs:\n",
    "                                    _svg.append(strec['svg'])\n",
    "                                    _svg_times.append(strec['time'])\n",
    "                                draw_duration.append((_svg_times[-1] - _svg_times[0])/1000) ## in seconds\n",
    "                                svg.append(_svg)\n",
    "                                svg_times.append(_svg_times)\n",
    "\n",
    "                                ## and write out image data here too\n",
    "                                imgData = imrec['imgData'];\n",
    "                                filestr = base64.b64decode(imgData)\n",
    "                                category_dir = os.path.join(sketch_dir,imrec['category'])\n",
    "                                if not os.path.exists(category_dir):\n",
    "                                    os.makedirs(category_dir)\n",
    "                                fname = os.path.join(category_dir,'{}_sketch_{}_{}.png'.format(imrec['category'], imrec['age'],imrec['sessionId']))\n",
    "                                with open(fname, \"wb\") as fh:\n",
    "                                    fh.write(imgData.decode('base64'))  \n",
    "                        "
   ]
  },
  {
   "cell_type": "code",
   "execution_count": null,
   "metadata": {
    "collapsed": false
   },
   "outputs": [],
   "source": []
  },
  {
   "cell_type": "code",
   "execution_count": 46,
   "metadata": {
    "collapsed": true
   },
   "outputs": [],
   "source": [
    "if really_run_this:\n",
    "    X = pd.DataFrame([session_id,trial_num,category,age,submit_time,submit_date,num_strokes,svg,svg_times,png,draw_duration,filename])\n",
    "    X = X.transpose()\n",
    "    X.columns = ['session_id','trial_num','category','age','submit_time','submit_date','num_strokes','svg','svg_times','png','draw_duration', 'filename']"
   ]
  },
  {
   "cell_type": "code",
   "execution_count": 47,
   "metadata": {
    "collapsed": false
   },
   "outputs": [],
   "source": [
    "def get_bounding_box(img):\n",
    "    rows = np.any(img, axis=1)\n",
    "    cols = np.any(img, axis=0)\n",
    "    rmin, rmax = np.where(rows)[0][[0, -1]]\n",
    "    cmin, cmax = np.where(cols)[0][[0, -1]]\n",
    "    return rmin, rmax, cmin, cmax\n",
    "\n",
    "merged_experiment_name = 'E1cd'\n",
    "\n",
    "if really_run_this:\n",
    "\n",
    "    ## add mean pixel intensity (amount of ink spilled) & bounding box coords \n",
    "    mean_intensity = []\n",
    "    bounding_box = []\n",
    "    imsize = 100\n",
    "    numpix = imsize**2\n",
    "    thresh = 250\n",
    "    for i,_d in X.iterrows():\n",
    "        imgData = _d['png']\n",
    "        filestr = base64.b64decode(imgData)\n",
    "        fname = os.path.join('sketch.png')\n",
    "        with open(fname, \"wb\") as fh:\n",
    "            fh.write(imgData.decode('base64'))\n",
    "        im = Image.open(fname).resize((imsize,imsize))\n",
    "        _im = np.array(im)\n",
    "        mean_intensity.append(len(np.where(_im[:,:,3].flatten()>thresh)[0])/numpix)\n",
    "        # bounding box part\n",
    "        rmin, rmax, cmin, cmax = get_bounding_box(np.array(Image.open(fname)))\n",
    "        bounding_box.append(tuple((rmin, rmax, cmin, cmax)))\n",
    "\n",
    "    ## add to dataframe    \n",
    "    X = X.assign(mean_intensity=pd.Series(mean_intensity).values)\n",
    "    X = X.assign(bounding_box=pd.Series(bounding_box).values)\n",
    "    \n",
    "    # save out csv\n",
    "    if not os.path.exists('../preprocessed_data'):\n",
    "        os.makedirs('../preprocessed_data')\n",
    "    X.to_csv('../preprocessed_data/museumdraw_{}_data.csv'.format(merged_experiment_name))\n"
   ]
  },
  {
   "cell_type": "code",
   "execution_count": 48,
   "metadata": {
    "collapsed": false
   },
   "outputs": [
    {
     "data": {
      "text/plain": [
       "(408, 14)"
      ]
     },
     "execution_count": 48,
     "metadata": {},
     "output_type": "execute_result"
    }
   ],
   "source": [
    "X.shape"
   ]
  },
  {
   "cell_type": "markdown",
   "metadata": {},
   "source": [
    "### load drawing metadata csv back in"
   ]
  },
  {
   "cell_type": "code",
   "execution_count": 49,
   "metadata": {
    "collapsed": false
   },
   "outputs": [],
   "source": [
    "data_path = '../preprocessed_data/museumdraw_E1cd_data.csv'\n",
    "X = pd.read_csv(data_path)"
   ]
  },
  {
   "cell_type": "markdown",
   "metadata": {},
   "source": [
    "### Basic visualizations"
   ]
  },
  {
   "cell_type": "code",
   "execution_count": null,
   "metadata": {
    "collapsed": true
   },
   "outputs": [],
   "source": []
  },
  {
   "cell_type": "code",
   "execution_count": 50,
   "metadata": {
    "collapsed": false
   },
   "outputs": [
    {
     "data": {
      "text/plain": [
       "Text(0.5,0,u'number of strokes')"
      ]
     },
     "execution_count": 50,
     "metadata": {},
     "output_type": "execute_result"
    },
    {
     "data": {
      "image/png": "[encoded data removed]",
      "text/plain": [
       "<matplotlib.figure.Figure at 0x111732bd0>"
      ]
     },
     "metadata": {},
     "output_type": "display_data"
    }
   ],
   "source": [
    "fig = plt.figure(figsize=(4,4))\n",
    "h = plt.hist(X.num_strokes.values,normed=True)\n",
    "plt.ylabel('proportion')\n",
    "plt.xlabel('number of strokes')"
   ]
  },
  {
   "cell_type": "code",
   "execution_count": 51,
   "metadata": {
    "collapsed": false
   },
   "outputs": [
    {
     "data": {
      "text/plain": [
       "Text(0.5,0,u'draw duration')"
      ]
     },
     "execution_count": 51,
     "metadata": {},
     "output_type": "execute_result"
    },
    {
     "data": {
      "image/png": "[encoded data removed]",
      "text/plain": [
       "<matplotlib.figure.Figure at 0x1116af3d0>"
      ]
     },
     "metadata": {},
     "output_type": "display_data"
    }
   ],
   "source": [
    "fig = plt.figure(figsize=(4,4))\n",
    "h = plt.hist(X.draw_duration.values,normed=True)\n",
    "plt.ylabel('proportion')\n",
    "plt.xlabel('draw duration')"
   ]
  },
  {
   "cell_type": "code",
   "execution_count": 52,
   "metadata": {
    "collapsed": false
   },
   "outputs": [
    {
     "data": {
      "image/png": "[encoded data removed]",
      "text/plain": [
       "<matplotlib.figure.Figure at 0x10b476190>"
      ]
     },
     "metadata": {},
     "output_type": "display_data"
    }
   ],
   "source": [
    "plt.figure(figsize=(14,4))\n",
    "\n",
    "plt.subplot(1,3,1)\n",
    "seq = np.arange(4,10)\n",
    "sns.barplot(data=X,x='age',y='num_strokes',order=seq,palette=\"Greens_d\")\n",
    "plt.ylabel('number of strokes')\n",
    "\n",
    "plt.subplot(1,3,2)\n",
    "seq = np.arange(4,10)\n",
    "\n",
    "sns.barplot(data=X,x='age',y='draw_duration',order=seq, palette=\"Greens_d\")\n",
    "plt.ylabel('draw duration (s)')\n",
    "\n",
    "plt.subplot(1,3,3)\n",
    "seq = np.arange(4,10)\n",
    "sns.barplot(data=X,x='age',y='mean_intensity',order=seq,palette=\"Greens_d\")\n",
    "plt.ylabel('mean pixel intensity')\n",
    "\n",
    "plt.tight_layout()"
   ]
  },
  {
   "cell_type": "code",
   "execution_count": null,
   "metadata": {
    "collapsed": true
   },
   "outputs": [],
   "source": []
  },
  {
   "cell_type": "code",
   "execution_count": null,
   "metadata": {
    "collapsed": false
   },
   "outputs": [],
   "source": []
  },
  {
   "cell_type": "code",
   "execution_count": null,
   "metadata": {
    "collapsed": true
   },
   "outputs": [],
   "source": []
  },
  {
   "cell_type": "code",
   "execution_count": 53,
   "metadata": {
    "collapsed": false
   },
   "outputs": [],
   "source": []
  },
  {
   "cell_type": "code",
   "execution_count": 54,
   "metadata": {
    "collapsed": false
   },
   "outputs": [
    {
     "name": "stdout",
     "output_type": "stream",
     "text": [
      "408\n"
     ]
    }
   ],
   "source": [
    "# categories = [i for i in os.listdir('sketches') if i != '.DS_Store']\n",
    "# num_ims = 0\n",
    "# ims_per_cat = []\n",
    "# for c in categories:\n",
    "#     num_ims += len([i for i in os.listdir(os.path.join('sketches',c)) if i != '.DS_Store'])\n",
    "#     ims_per_cat.append(len([i for i in os.listdir(os.path.join('sketches',c)) if i != '.DS_Store']))\n",
    "    \n",
    "# print num_ims"
   ]
  },
  {
   "cell_type": "code",
   "execution_count": null,
   "metadata": {
    "collapsed": false
   },
   "outputs": [],
   "source": []
  },
  {
   "cell_type": "code",
   "execution_count": null,
   "metadata": {
    "collapsed": false
   },
   "outputs": [],
   "source": []
  },
  {
   "cell_type": "code",
   "execution_count": null,
   "metadata": {
    "collapsed": false
   },
   "outputs": [],
   "source": []
  },
  {
   "cell_type": "code",
   "execution_count": null,
   "metadata": {
    "collapsed": false
   },
   "outputs": [],
   "source": []
  },
  {
   "cell_type": "code",
   "execution_count": null,
   "metadata": {
    "collapsed": false
   },
   "outputs": [],
   "source": []
  },
  {
   "cell_type": "code",
   "execution_count": null,
   "metadata": {
    "collapsed": true
   },
   "outputs": [],
   "source": []
  }
 ],
 "metadata": {
  "kernelspec": {
   "display_name": "Python 2",
   "language": "python",
   "name": "python2"
  },
  "language_info": {
   "codemirror_mode": {
    "name": "ipython",
    "version": 2
   },
   "file_extension": ".py",
   "mimetype": "text/x-python",
   "name": "python",
   "nbconvert_exporter": "python",
   "pygments_lexer": "ipython2",
   "version": "2.7.13"
  }
 },
 "nbformat": 4,
 "nbformat_minor": 1
}
