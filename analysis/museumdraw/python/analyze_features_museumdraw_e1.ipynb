{
 "cells": [
  {
   "cell_type": "code",
   "execution_count": 23,
   "metadata": {
    "collapsed": true
   },
   "outputs": [],
   "source": [
    "## remember to run conn_cocolab from the terminal before running cells in this notebook!\n",
    "import os\n",
    "import urllib, cStringIO\n",
    "\n",
    "import pymongo as pm\n",
    "\n",
    "import matplotlib\n",
    "from matplotlib import pylab, mlab, pyplot\n",
    "%matplotlib inline\n",
    "from IPython.core.pylabtools import figsize, getfigs\n",
    "plt = pyplot\n",
    "import seaborn as sns\n",
    "sns.set_context('poster')\n",
    "sns.set_style('white')\n",
    "\n",
    "import numpy as np\n",
    "from __future__ import division\n",
    "import scipy.stats as stats\n",
    "\n",
    "import pandas as pd\n",
    "import json\n",
    "import re\n",
    "\n",
    "from PIL import Image\n",
    "import base64"
   ]
  },
  {
   "cell_type": "code",
   "execution_count": null,
   "metadata": {
    "collapsed": true
   },
   "outputs": [],
   "source": []
  },
  {
   "cell_type": "markdown",
   "metadata": {},
   "source": [
    "### retrieve preprocessed drawing session metadata"
   ]
  },
  {
   "cell_type": "code",
   "execution_count": 24,
   "metadata": {
    "collapsed": true
   },
   "outputs": [],
   "source": [
    "## define some paths\n",
    "top_level_dir = '/home/jefan/kiddraw'\n",
    "path_to_preprocessed_data = 'analysis/museumdraw/preprocessed_data/museumdraw_E1cd_data.csv'\n",
    "\n",
    "## load in preprocessed csv\n",
    "x = pd.read_csv(os.path.join(top_level_dir,path_to_preprocessed_data))\n",
    "x = x.drop(['Unnamed: 0'], axis=1)\n",
    "#x.head()"
   ]
  },
  {
   "cell_type": "code",
   "execution_count": 25,
   "metadata": {},
   "outputs": [
    {
     "data": {
      "text/plain": [
       "(467, 14)"
      ]
     },
     "execution_count": 25,
     "metadata": {},
     "output_type": "execute_result"
    }
   ],
   "source": [
    "x.shape"
   ]
  },
  {
   "cell_type": "code",
   "execution_count": null,
   "metadata": {
    "collapsed": true
   },
   "outputs": [],
   "source": []
  },
  {
   "cell_type": "code",
   "execution_count": null,
   "metadata": {
    "collapsed": true
   },
   "outputs": [],
   "source": []
  },
  {
   "cell_type": "markdown",
   "metadata": {},
   "source": [
    "### vgg feature analysis "
   ]
  },
  {
   "cell_type": "code",
   "execution_count": 26,
   "metadata": {
    "collapsed": true
   },
   "outputs": [],
   "source": [
    "import torch\n",
    "import torchvision.models as models\n",
    "import torch.nn as nn\n",
    "import torchvision.transforms as transforms\n",
    "import torch.nn.functional as F\n",
    "from torch.autograd import Variable\n",
    "\n",
    "import scipy.stats as stats\n",
    "from scipy.stats import norm\n",
    "import sklearn\n",
    "from sklearn.model_selection import train_test_split, cross_val_score\n",
    "from sklearn import svm\n",
    "from sklearn import linear_model, datasets, neighbors\n",
    "\n",
    "from sklearn.cluster import AffinityPropagation\n",
    "from sklearn import metrics\n",
    "\n",
    "from glob import glob\n",
    "import os\n",
    "\n",
    "import embedding as emb\n",
    "reload(emb)\n",
    "from embedding import *"
   ]
  },
  {
   "cell_type": "code",
   "execution_count": 27,
   "metadata": {
    "collapsed": true
   },
   "outputs": [],
   "source": [
    "# retrieve sketch paths\n",
    "def list_files(path, ext='png'):\n",
    "    result = [y for x in os.walk(path) for y in glob(os.path.join(x[0], '*.%s' % ext))]\n",
    "    return result\n",
    "\n",
    "# extract metadata\n",
    "#path_to_sketches = '../sketches'\n",
    "path_to_sketches = '/home/jefan/kiddraw/analysis/museumdraw/sketches'\n",
    "\n",
    "sketch_paths = sorted(list_files(path_to_sketches))"
   ]
  },
  {
   "cell_type": "code",
   "execution_count": 28,
   "metadata": {},
   "outputs": [
    {
     "name": "stdout",
     "output_type": "stream",
     "text": [
      "Number of sketch paths = 467\n"
     ]
    }
   ],
   "source": [
    "## number of sketch paths \n",
    "print 'Number of sketch paths = {}'.format(len(sketch_paths))"
   ]
  },
  {
   "cell_type": "code",
   "execution_count": null,
   "metadata": {
    "collapsed": true
   },
   "outputs": [],
   "source": []
  },
  {
   "cell_type": "markdown",
   "metadata": {},
   "source": [
    "## extract features"
   ]
  },
  {
   "cell_type": "markdown",
   "metadata": {},
   "source": [
    "**Dec 28 2017 (updated Jan 14 2018):** <br>\n",
    " - From command line, extract features using `extract_features.py`. The default arguments are for the kid's drawings. <br>\n",
    " - To extract kid's drawings, just run: `python extract_features.py` <br>\n",
    " - To extract (mini verison of) adult drawings, run: `python extract_features.py --data='/data2/jefan/quickDraw/png_mini' --layer_ind=6 --cohort='adult' --spatial_avg=True`"
   ]
  },
  {
   "cell_type": "code",
   "execution_count": 29,
   "metadata": {
    "collapsed": true
   },
   "outputs": [],
   "source": [
    "# z-score normalization to \"center\" the sketch embeddings\n",
    "def normalize(X):\n",
    "    X = X - X.mean(0)\n",
    "    X = X / np.maximum(X.std(0), 1e-5)\n",
    "    return X\n",
    "\n",
    "def get_class_means(X, labels):    \n",
    "    # load in and normalize features \n",
    "    _mu = np.zeros((len(np.unique(labels)), np.shape(X)[1]))        \n",
    "    X = normalize(X)\n",
    "    for vi, v in enumerate(np.unique(np.asarray(labels))):\n",
    "        Xv = X[labels == v]\n",
    "        nv = float(Xv.shape[0])\n",
    "        if nv > 0:\n",
    "            _mu[vi] = Xv.mean(0)\n",
    "    return _mu\n",
    "\n",
    "def normalize_RDM(MAT):\n",
    "    X = MAT - MAT.mean(0).mean(0)\n",
    "    X = X / np.maximum(MAT.std(0).std(0), 1e-5)\n",
    "    return X\n",
    "\n",
    "def plot_rdm_by_class(Features,X,layer_num):\n",
    "    layers = ['P1','P2','P3','P4','P5','FC6','FC7']        \n",
    "    sns.set_style('white')\n",
    "    fig = plt.figure(figsize=(6,6))\n",
    "    labels = X.label.values\n",
    "    means = get_class_means(Features, labels)\n",
    "    CORRMAT = np.corrcoef(means)\n",
    "    plt.matshow(CORRMAT)\n",
    "    plt.colorbar()\n",
    "    if not os.path.exists('./plots'):\n",
    "        os.makedirs('./plots')\n",
    "    plt.savefig('./plots/RDM_by_view_{}.pdf'.format(layers[layer_num]))\n",
    "    \n",
    "def load_features(cohort, layer_num):\n",
    "    layers = ['P1','P2','P3','P4','P5','FC6','FC7']            \n",
    "    F = np.load('/data2/jefan/kiddraw/features/FEATURES_{}_{}.npy'.format(layers[layer_num],cohort))\n",
    "    M = pd.read_csv('/data2/jefan/kiddraw/features/METADATA_{}.csv'.format(cohort)) \n",
    "    M = M[['label','age','session']]\n",
    "    return F, M\n",
    "\n",
    "def remove_practice_trials(KF,KM):\n",
    "    '''\n",
    "    remove \"circle\" and \"triangle\" trials from dataset\n",
    "    '''\n",
    "    practice_objects = ['circle','triangle']\n",
    "    _KF = KF[~KM['label'].isin(practice_objects),:]\n",
    "    _KM = KM[~KM['label'].isin(practice_objects)]\n",
    "    return _KF, _KM"
   ]
  },
  {
   "cell_type": "code",
   "execution_count": null,
   "metadata": {
    "collapsed": true
   },
   "outputs": [],
   "source": []
  },
  {
   "cell_type": "code",
   "execution_count": 30,
   "metadata": {},
   "outputs": [
    {
     "name": "stdout",
     "output_type": "stream",
     "text": [
      "(462, 4096)\n"
     ]
    }
   ],
   "source": [
    "## load in kid features\n",
    "KF, KM = load_features('kid',6)\n",
    "KF, KM = remove_practice_trials(KF, KM)\n",
    "KM = KM.reset_index(drop=True)\n",
    "\n",
    "print np.shape(KF)"
   ]
  },
  {
   "cell_type": "code",
   "execution_count": null,
   "metadata": {
    "collapsed": true
   },
   "outputs": [],
   "source": []
  },
  {
   "cell_type": "markdown",
   "metadata": {},
   "source": [
    "### quick classification test"
   ]
  },
  {
   "cell_type": "code",
   "execution_count": null,
   "metadata": {
    "collapsed": true
   },
   "outputs": [],
   "source": []
  },
  {
   "cell_type": "code",
   "execution_count": 31,
   "metadata": {},
   "outputs": [
    {
     "name": "stdout",
     "output_type": "stream",
     "text": [
      "We have 37 labels that are common to both younger and older kid cohorts.\n",
      "We have 27 classes with sufficient data.\n"
     ]
    }
   ],
   "source": [
    "## add additional column that coarse grains age\n",
    "def coarse_grain_age(row):\n",
    "    if row['age'] > 6:\n",
    "        val = 'older'\n",
    "    elif row['age'] <= 6:\n",
    "        val = 'younger'\n",
    "    return val\n",
    "\n",
    "KM['coarse_age'] = KM.apply(coarse_grain_age, axis=1)\n",
    "\n",
    "## subset labels that have at least some drawings of them from each age category\n",
    "younger_labels = KM[KM['coarse_age'] == 'younger']['label'].values\n",
    "older_labels = KM[KM['coarse_age'] == 'older']['label'].values\n",
    "## list of labels that are in both younger and older age categories\n",
    "common_labels = list(np.intersect1d(younger_labels,older_labels))\n",
    "\n",
    "print 'We have {} labels that are common to both younger and older kid cohorts.'.format(len(common_labels))\n",
    "\n",
    "def subset_labels(F,M, labels):\n",
    "    '''\n",
    "    if labels == common_labels, then only include labels that are common to younger and older cohort\n",
    "    if labels == sufficient_data_labels, then subset by list of labels in which we have 'sufficient data', i.e., have >=thresh drawings/class\n",
    "    '''\n",
    "    _F = F[M['label'].isin(labels),:]\n",
    "    _M = M[M['label'].isin(labels)]\n",
    "    return _F, _M\n",
    "\n",
    "## get list of labels in which we have 'sufficient data', i.e., have >=5 drawings/class\n",
    "thresh = 3\n",
    "sufficient_data_labels = [] \n",
    "for cl in common_labels:\n",
    "    num_young_sketches = len(np.where(KM[KM.label==cl]['coarse_age'].values=='younger')[0])\n",
    "    num_older_sketches = len(np.where(KM[KM.label==cl]['coarse_age'].values=='older')[0])\n",
    "    if (num_young_sketches>=thresh) & (num_older_sketches>=thresh):\n",
    "        sufficient_data_labels.append(cl)        \n",
    "\n",
    "### Feb 1 2018: debug -- hand restrict to what we have adult labels for\n",
    "# sufficient_data_labels = ['banana', 'boat', 'car', 'carrot', 'chair', 'couch', 'cup', 'flower', 'foot', 'frog', 'ice cream', 'phone', 'rabbit', 'shoe', 'train']\n",
    "        \n",
    "print 'We have {} classes with sufficient data.'.format(len(sufficient_data_labels))\n"
   ]
  },
  {
   "cell_type": "code",
   "execution_count": null,
   "metadata": {
    "collapsed": true
   },
   "outputs": [],
   "source": []
  },
  {
   "cell_type": "code",
   "execution_count": 32,
   "metadata": {},
   "outputs": [
    {
     "name": "stdout",
     "output_type": "stream",
     "text": [
      "We have 205 drawings in the older cohort\n",
      "We have 191 drawings in the younger cohort\n"
     ]
    }
   ],
   "source": [
    "## subset to only use the labels with either COMMON LABELS or SUFFICIENT DATA (see cell above)\n",
    "KF, KM = subset_labels(KF, KM, sufficient_data_labels)\n",
    "KM = KM.reset_index(drop=True)\n",
    "\n",
    "## output final number of drawings\n",
    "older=KM[KM['coarse_age'] == 'older']\n",
    "younger=KM[KM['coarse_age'] == 'younger']\n",
    "\n",
    "print 'We have {} drawings in the older cohort'.format(np.shape(older)[0])\n",
    "print 'We have {} drawings in the younger cohort'.format(np.shape(younger)[0])\n"
   ]
  },
  {
   "cell_type": "code",
   "execution_count": 33,
   "metadata": {
    "collapsed": true
   },
   "outputs": [],
   "source": [
    "## Load sets for older vs. younger children\n",
    "ind = KM.index[KM['coarse_age'] == 'older']\n",
    "KM_older = KM.loc[ind]\n",
    "KF_older = KF[ind.tolist()]\n",
    "\n",
    "ind2 = KM.index[KM['coarse_age'] == 'younger']\n",
    "KM_younger = KM.loc[ind2]\n",
    "KF_younger = KF[ind2.tolist()]"
   ]
  },
  {
   "cell_type": "markdown",
   "metadata": {},
   "source": [
    "#### Get distribution of drawings across label and coarse age category "
   ]
  },
  {
   "cell_type": "code",
   "execution_count": 34,
   "metadata": {},
   "outputs": [
    {
     "data": {
      "image/png": "[encoded data removed]",
      "text/plain": [
       "<matplotlib.figure.Figure at 0x7eff36410110>"
      ]
     },
     "metadata": {},
     "output_type": "display_data"
    }
   ],
   "source": [
    "sns.set_context('poster')\n",
    "plt.figure(figsize=(20,6))\n",
    "sns.countplot(data=KM,\n",
    "           x='label',\n",
    "           hue='coarse_age')\n",
    "labels = np.unique(KM.label.values)\n",
    "h = plt.xticks(range(len(labels)), labels, fontsize=16,rotation='vertical')\n",
    "plt.axhline(3,linestyle='dashed',color='black')\n",
    "plt.axhline(5,linestyle='dashed',color='gray')\n",
    "plt.ylim(0,18)\n",
    "if not os.path.exists('./plots'):\n",
    "    os.makedirs('./plots')\n",
    "plt.savefig('./plots/drawing_counts_by_label_and_coarse_age.pdf')"
   ]
  },
  {
   "cell_type": "code",
   "execution_count": 781,
   "metadata": {},
   "outputs": [],
   "source": [
    "## print list of classes for which we have \n",
    "## \"fewer than X\" drawings in each age cohort\n",
    "thresh = 3\n",
    "labels = np.unique(KM.label.values)\n",
    "age_bins = ['younger','older']\n",
    "labels_in_need = []\n",
    "y_counter = []\n",
    "o_counter = []\n",
    "for lab in labels:\n",
    "    y_count = sum(KM[KM['label']==lab]['coarse_age'] == 'younger')\n",
    "    o_count = sum(KM[KM['label']==lab]['coarse_age'] == 'older')\n",
    "    if (y_count<=thresh) | (o_count<=thresh):\n",
    "        labels_in_need.append(lab)\n",
    "        y_counter.append(y_count)\n",
    "        o_counter.append(o_count)\n",
    "o = pd.DataFrame([labels_in_need,y_counter,o_counter])\n",
    "o = o.transpose()\n",
    "o.columns = ['label','younger','older']\n",
    "o = o.sort_values(by=['younger','older'],ascending=False)\n"
   ]
  },
  {
   "cell_type": "code",
   "execution_count": 21,
   "metadata": {},
   "outputs": [
    {
     "data": {
      "text/html": [
       "<div>\n",
       "<style>\n",
       "    .dataframe thead tr:only-child th {\n",
       "        text-align: right;\n",
       "    }\n",
       "\n",
       "    .dataframe thead th {\n",
       "        text-align: left;\n",
       "    }\n",
       "\n",
       "    .dataframe tbody tr th {\n",
       "        vertical-align: top;\n",
       "    }\n",
       "</style>\n",
       "<table border=\"1\" class=\"dataframe\">\n",
       "  <thead>\n",
       "    <tr style=\"text-align: right;\">\n",
       "      <th></th>\n",
       "      <th>label</th>\n",
       "      <th>younger</th>\n",
       "      <th>older</th>\n",
       "    </tr>\n",
       "  </thead>\n",
       "  <tbody>\n",
       "    <tr>\n",
       "      <th>3</th>\n",
       "      <td>hat</td>\n",
       "      <td>7</td>\n",
       "      <td>3</td>\n",
       "    </tr>\n",
       "    <tr>\n",
       "      <th>0</th>\n",
       "      <td>apple</td>\n",
       "      <td>6</td>\n",
       "      <td>3</td>\n",
       "    </tr>\n",
       "    <tr>\n",
       "      <th>1</th>\n",
       "      <td>bike</td>\n",
       "      <td>5</td>\n",
       "      <td>3</td>\n",
       "    </tr>\n",
       "    <tr>\n",
       "      <th>2</th>\n",
       "      <td>fork</td>\n",
       "      <td>5</td>\n",
       "      <td>3</td>\n",
       "    </tr>\n",
       "  </tbody>\n",
       "</table>\n",
       "</div>"
      ],
      "text/plain": [
       "   label younger older\n",
       "3    hat       7     3\n",
       "0  apple       6     3\n",
       "1   bike       5     3\n",
       "2   fork       5     3"
      ]
     },
     "execution_count": 21,
     "metadata": {},
     "output_type": "execute_result"
    }
   ],
   "source": [
    "o"
   ]
  },
  {
   "cell_type": "code",
   "execution_count": null,
   "metadata": {
    "collapsed": true
   },
   "outputs": [],
   "source": []
  },
  {
   "cell_type": "markdown",
   "metadata": {},
   "source": [
    "#### Analysis 1:  Classification tests"
   ]
  },
  {
   "cell_type": "code",
   "execution_count": 35,
   "metadata": {},
   "outputs": [
    {
     "name": "stdout",
     "output_type": "stream",
     "text": [
      "0.3333333333333333\n"
     ]
    }
   ],
   "source": [
    "####  Classification test -- all children\n",
    "FEAT = KF\n",
    "LABELS = KM.label.values\n",
    "AGES = KM.age.values\n",
    "\n",
    "# single train/test split\n",
    "X_train, X_test, y_train, y_test = train_test_split(\n",
    "    FEAT, LABELS, test_size=0.25, random_state=0)\n",
    "# clf = svm.SVC(kernel='linear', C=1).fit(X_train, y_train) # ? not used, leaving for future use\n",
    "clf = linear_model.LogisticRegression(penalty='l2',C=1).fit(X_train, y_train)\n",
    "print clf.score(X_test, y_test)\n",
    "\n",
    "run_this = 0\n",
    "if run_this:\n",
    "    # cross-validated\n",
    "    clf = linear_model.LogisticRegression(penalty='l2')\n",
    "    scores = cross_val_score(clf, FEAT, LABELS, cv=3)\n",
    "    print(\"All children accuracy: %0.2f (SD = %0.2f)\" % (scores.mean(), scores.std())) # not sure why multiplying by 2, reporting just SD for now\n",
    "    \n"
   ]
  },
  {
   "cell_type": "code",
   "execution_count": 36,
   "metadata": {},
   "outputs": [
    {
     "name": "stdout",
     "output_type": "stream",
     "text": [
      "0.36538461538461536\n"
     ]
    }
   ],
   "source": [
    "####  Classification test -- older children\n",
    "FEAT = KF_older\n",
    "LABELS = KM_older.label.values\n",
    "AGES = KM_older.age.values\n",
    "\n",
    "# single train/test split\n",
    "X_train, X_test, y_train, y_test = train_test_split(\n",
    "    FEAT, LABELS, test_size=0.25, random_state=0)\n",
    "clf = linear_model.LogisticRegression(penalty='l2',C=1).fit(X_train, y_train)\n",
    "print clf.score(X_test, y_test)\n",
    "\n",
    "run_this = 0\n",
    "if run_this:\n",
    "    # cross-validated\n",
    "    clf = linear_model.LogisticRegression(penalty='l2')\n",
    "    scores = cross_val_score(clf, FEAT, LABELS, cv=3)\n",
    "    print(\"Older children: accuracy: %0.2f (SD = %0.2f)\" % (scores.mean(), scores.std())) # not sure why multiplying by 2, reporting just SD for now\n",
    "    "
   ]
  },
  {
   "cell_type": "code",
   "execution_count": 37,
   "metadata": {},
   "outputs": [
    {
     "name": "stdout",
     "output_type": "stream",
     "text": [
      "0.22916666666666666\n"
     ]
    }
   ],
   "source": [
    "#### Quick classification test -- younger children\n",
    "FEAT = KF_younger\n",
    "LABELS = KM_younger.label.values\n",
    "AGES = KM_younger.age.values\n",
    "\n",
    "# single train/test split\n",
    "X_train, X_test, y_train, y_test = train_test_split(\n",
    "    FEAT, LABELS, test_size=0.25, random_state=0)\n",
    "clf = linear_model.LogisticRegression(penalty='l2',C=1).fit(X_train, y_train)\n",
    "print clf.score(X_test, y_test)\n",
    "\n",
    "run_this = 0\n",
    "if run_this:\n",
    "    # cross-validated\n",
    "    clf = linear_model.LogisticRegression(penalty='l2')\n",
    "    scores = cross_val_score(clf, FEAT, LABELS, cv=3)\n",
    "    print(\"Younger children: accuracy: %0.2f (SD = %0.2f)\" % (scores.mean(), scores.std())) # not sure why multiplying by 2, reporting just SD for now\n",
    "    \n"
   ]
  },
  {
   "cell_type": "code",
   "execution_count": null,
   "metadata": {
    "collapsed": true
   },
   "outputs": [],
   "source": [
    "## Classification tests -- older vs. younger"
   ]
  },
  {
   "cell_type": "code",
   "execution_count": 29,
   "metadata": {
    "collapsed": true
   },
   "outputs": [],
   "source": [
    "# ## see how recognizability changes with age?\n",
    "# scores = []\n",
    "# num_samples = []\n",
    "# age_range = np.arange(4,11)\n",
    "\n",
    "# # width of moving window in # of trials    \n",
    "# window_size = 4\n",
    "# lb = int(min(KM.age.values))\n",
    "# ub = int(max(KM.age.values))\n",
    "# num_windows = ub-lb-window_size+2 ##     \n",
    "\n",
    "# for n in np.arange(num_windows):\n",
    "#     start = lb + n\n",
    "#     end = lb + n + window_size\n",
    "#     ind = KM.index[(KM['age'] >= start) & (KM['age'] < end)]\n",
    "#     meta = KM.loc[ind]\n",
    "#     subFeat = KF[ind.tolist()]\n",
    "\n",
    "#     FEAT = subFeat\n",
    "#     LABELS = meta.label.values\n",
    "\n",
    "#     # single train/test split\n",
    "#     X_train, X_test, y_train, y_test = train_test_split(\n",
    "#         FEAT, LABELS, test_size=0.25, random_state=3)\n",
    "#     clf = svm.SVC(kernel='linear', C=1).fit(X_train, y_train)\n",
    "# #     clf = linear_model.LogisticRegression(penalty='l2',C=1).fit(X_train, y_train)\n",
    "#     print '{}-{}y'.format(start, end-1), len(LABELS),clf.score(X_test, y_test)\n",
    "#     num_samples.append(len(LABELS))\n",
    "#     scores.append(clf.score(X_test, y_test))\n",
    "    "
   ]
  },
  {
   "cell_type": "markdown",
   "metadata": {
    "collapsed": true
   },
   "source": [
    "### Extract adult drawing features"
   ]
  },
  {
   "cell_type": "code",
   "execution_count": 782,
   "metadata": {
    "collapsed": true
   },
   "outputs": [],
   "source": [
    "## load in adult features\n",
    "AF, AM = load_features('adult',6)\n",
    "AF, AM = remove_practice_trials(AF, AM)\n",
    "AM = AM.reset_index(drop=True)\n",
    "numSampled=10 # how many exemplars per class\n",
    "numClasses=np.shape(np.unique(AM.label.values))[0]\n",
    "\n",
    "## which label set are we using? common_labels or sufficient_data_labels\n",
    "these_labels = sufficient_data_labels\n",
    "\n",
    "## set up lookup table to cover discrepancies in category label assignments\n",
    "lookup = dict(zip(these_labels,these_labels))\n",
    "if 'bike' in lookup.keys():\n",
    "    lookup['bike'] = 'bicycle'\n",
    "    \n",
    "## subset adult feature matrix and metadata matrix by appropriate labelset\n",
    "AF, AM = subset_labels(AF, AM, [lookup[i] for i in these_labels])\n",
    "AM = AM.reset_index(drop=True)  "
   ]
  },
  {
   "cell_type": "code",
   "execution_count": null,
   "metadata": {
    "collapsed": true
   },
   "outputs": [],
   "source": []
  },
  {
   "cell_type": "code",
   "execution_count": null,
   "metadata": {
    "collapsed": true
   },
   "outputs": [],
   "source": [
    "## not finished -- want to get subsample to get comparable classification\n",
    "\n",
    "# categoryFeaturesOut=np.zeros((numSampled*numClasses,np.shape(AF)[1])) \n",
    "# np.shape(categoryFeaturesOut[0:10,:])\n",
    "# def get_adult_subsample(AF,AM):\n",
    "#     uniqueLabels=np.unique(AM.label.values)\n",
    "#     labels=AM.label.values\n",
    "#     categoryFeaturesOut=np.zeros((numSampled*numClasses,np.shape(AF)[1])) \n",
    "#     print np.shape(categoryFeaturesOut)\n",
    "#     for vi, v in enumerate(np.asarray(uniqueLabels)):\n",
    "#         categoryFeatures # clear to be sure\n",
    "#         catIndexStart=(vi)*numSampled\n",
    "#         catIndexEnd=catIndexStart+numSampled\n",
    "#         print catIndexStart\n",
    "#         print catIndexEnd\n",
    "#         randImageInd=np.random.randint(500,size=numSampled)\n",
    "#         categoryFeatures=AF[labels == v,:]\n",
    "#         categoryFeaturesSelected=categoryFeatures[randImageInd,:]\n",
    "        \n",
    "#         np.shape(categoryFeatures)\n",
    "#         return categoryFeatures\n",
    "#         del categoryFeatures category       \n",
    "\n",
    "# categoryFeatures=get_adult_subsample(AF,AM)\n",
    "# categoryFeatures\n"
   ]
  },
  {
   "cell_type": "code",
   "execution_count": 109,
   "metadata": {
    "collapsed": true
   },
   "outputs": [],
   "source": [
    "### Correlations between features in FC7 each class (e.g., object category)"
   ]
  },
  {
   "cell_type": "code",
   "execution_count": 40,
   "metadata": {},
   "outputs": [],
   "source": [
    "reallyRun = 0\n",
    "if reallyRun:\n",
    "    # make general function\n",
    "    def corr_cohort_classes(cohort1,cohort2,uniqueLabels):\n",
    "        if  np.shape(cohort1)==np.shape(cohort2): ## make sure same shape\n",
    "            classCor=np.zeros(np.shape(uniqueLabels)[0]) # open variable\n",
    "            for vi, v in enumerate(np.asarray(uniqueLabels)):\n",
    "                cohort1Vec = cohort1[uniqueLabels == v,:]\n",
    "                cohort2Vec = cohort2[uniqueLabels == v,:]\n",
    "                cohort1Vec=np.reshape(cohort1Vec,np.shape(cohort1Vec)[1],np.shape(cohort1Vec)[0]) # resahpe for corr\n",
    "                cohort2Vec=np.reshape(cohort2Vec,np.shape(cohort2Vec)[1],np.shape(cohort2Vec)[0])# resahpe for corr\n",
    "                classCor[vi]=stats.pearsonr(cohort1Vec,cohort2Vec)[0]\n",
    "            return classCor\n",
    "\n",
    "    uniqueLabels=np.unique(KM.label.values)\n",
    "    means_adult = get_class_means(AF, AM.label.values)\n",
    "    means_kid = get_class_means(KF, KM.label.values)\n",
    "    classCor=corr_cohort_classes(means_adult,means_kid,np.unique(KM.label.values))\n",
    "    sortInd=np.argsort(classCor)\n",
    "    print uniqueLabels[sortInd]\n",
    "    print classCor[sortInd]\n",
    "    \n",
    "    means_older = get_class_means(KF_older, KM_older.label.values)\n",
    "    means_younger = get_class_means(KF_younger, KM_younger.label.values)    \n",
    "    \n",
    "    classCor_Younger=corr_cohort_classes(means_adult,means_younger,np.unique(KM.label.values))\n",
    "    sortIndYounger=np.argsort(classCor_Younger)\n",
    "\n",
    "    classCor_Older=corr_cohort_classes(means_adult,means_older,np.unique(KM.label.values))\n",
    "    sortIndOlder=np.argsort(classCor_Older)\n",
    "\n",
    "    df = pd.DataFrame({\n",
    "        'Labels-Older':  uniqueLabels[sortIndOlder],\n",
    "        'Correlations-Older': classCor_Older[sortIndOlder],\n",
    "        'Labels-Younger': uniqueLabels[sortIndYounger],\n",
    "        'Correlations-Younger': classCor_Younger[sortIndYounger],\n",
    "        'Labels-AllKids':uniqueLabels[sortInd],\n",
    "        'Correlations-AllKids':classCor[sortInd],\n",
    "    })\n",
    "    df.to_csv('FeatureCorrelationsByClass.csv') # save for me to load into R!    "
   ]
  },
  {
   "cell_type": "code",
   "execution_count": 588,
   "metadata": {
    "collapsed": true
   },
   "outputs": [],
   "source": []
  },
  {
   "cell_type": "markdown",
   "metadata": {
    "collapsed": true
   },
   "source": [
    "### Representational Similarity Analyses"
   ]
  },
  {
   "cell_type": "code",
   "execution_count": 693,
   "metadata": {},
   "outputs": [
    {
     "name": "stdout",
     "output_type": "stream",
     "text": [
      "Clusters\n",
      "['carrot' 'chair' 'ice cream']\n",
      "['banana' 'car' 'flower' 'frog' 'rabbit' 'train']\n",
      "['boat' 'couch' 'cup' 'foot' 'phone' 'shoe']\n"
     ]
    }
   ],
   "source": [
    "## apply clustering to organize RDM so that we can see some block diagonal structure\n",
    "def flatten(x):\n",
    "    return [item for sublist in x for item in sublist]\n",
    "\n",
    "## retrieve alpha sorted labels from meta\n",
    "_labels = np.unique(AM.label.values)\n",
    "means = get_class_means(AF, AM.label.values)\n",
    "af = AffinityPropagation(damping=0.9).fit(means)\n",
    "labels = af.labels_\n",
    "cluster_centers_indices = af.cluster_centers_indices_\n",
    "n_clusters_ = len(cluster_centers_indices)\n",
    "\n",
    "ordered_objs = []\n",
    "print('Clusters')\n",
    "for k in range(n_clusters_):\n",
    "    class_members = labels == k\n",
    "    print _labels[class_members]\n",
    "    ordered_objs.append(list(_labels[class_members]))\n",
    "    \n",
    "ordered_objs = np.array(flatten(ordered_objs))\n",
    "\n",
    "# define standard order to be used for RDM's across layers\n",
    "standard_order = ordered_objs\n",
    "\n",
    "## index for sorting the alphabetical list of labels INTO the order specified by ordered_objs (clustered)\n",
    "sort_inds = [np.where(_labels==ordered_objs[i])[0][0] for i in np.arange(len(ordered_objs))]"
   ]
  },
  {
   "cell_type": "code",
   "execution_count": null,
   "metadata": {
    "collapsed": true
   },
   "outputs": [],
   "source": []
  },
  {
   "cell_type": "code",
   "execution_count": null,
   "metadata": {
    "collapsed": true
   },
   "outputs": [],
   "source": []
  },
  {
   "cell_type": "code",
   "execution_count": null,
   "metadata": {
    "collapsed": true
   },
   "outputs": [],
   "source": []
  },
  {
   "cell_type": "code",
   "execution_count": 632,
   "metadata": {
    "collapsed": true
   },
   "outputs": [],
   "source": [
    "def get_and_plot_RDM(M,F,cohort,sort_inds):\n",
    "    ## sorted adult RDMs\n",
    "    labels = M.label.values\n",
    "    means = get_class_means(F, labels)\n",
    "    ordered_means = means[sort_inds,:]\n",
    "    sns.set_style('white')\n",
    "    CORRMAT = np.corrcoef(ordered_means)\n",
    "\n",
    "    sns.set_context('paper')\n",
    "    fig = plt.figure(figsize=(30,30))\n",
    "    plt.matshow(1-CORRMAT, vmin=0, vmax=2)\n",
    "    plt.xticks(range(len(ordered_objs)), ordered_objs, rotation=90);\n",
    "    plt.yticks(range(len(ordered_objs)), ordered_objs); \n",
    "    plt.colorbar()\n",
    "    for tick in pylab.gca().xaxis.iter_ticks():\n",
    "        tick[0].label2On = True\n",
    "        tick[0].label1On = False\n",
    "        tick[0].label2.set_rotation('vertical')\n",
    "        tick[0].tick1On = False\n",
    "        tick[0].tick2On = False\n",
    "    for tick in pylab.gca().yaxis.iter_ticks():\n",
    "        tick[0].tick1On = False\n",
    "        tick[0].tick2On = False  \n",
    "    RDM = CORRMAT\n",
    "    plt.gcf().subplots_adjust(left=0.5) \n",
    "#     plt.tight_layout()    \n",
    "    plt.savefig('./plots/RDM_{}.pdf'.format(cohort))\n",
    "    return RDM\n",
    "\n",
    "def get_RDM(M,F,sort_inds):\n",
    "    ## sorted adult RDMs\n",
    "    labels = M.label.values\n",
    "    means = get_class_means(F, labels)\n",
    "    ordered_means = means[sort_inds,:]    \n",
    "    RDM = np.corrcoef(ordered_means)\n",
    "    return RDM"
   ]
  },
  {
   "cell_type": "code",
   "execution_count": 694,
   "metadata": {},
   "outputs": [
    {
     "data": {
      "text/plain": [
       "<matplotlib.figure.Figure at 0x7fce60e6d250>"
      ]
     },
     "metadata": {},
     "output_type": "display_data"
    },
    {
     "data": {
      "image/png": "[encoded data removed]",
      "text/plain": [
       "<matplotlib.figure.Figure at 0x7fce61173b50>"
      ]
     },
     "metadata": {},
     "output_type": "display_data"
    }
   ],
   "source": [
    "## get and plot sorted adult RDM\n",
    "ARDM = get_and_plot_RDM(AM, AF,'adult',sort_inds)"
   ]
  },
  {
   "cell_type": "code",
   "execution_count": 695,
   "metadata": {},
   "outputs": [
    {
     "data": {
      "text/plain": [
       "<matplotlib.figure.Figure at 0x7fce60f2e1d0>"
      ]
     },
     "metadata": {},
     "output_type": "display_data"
    },
    {
     "data": {
      "image/png": "[encoded data removed]",
      "text/plain": [
       "<matplotlib.figure.Figure at 0x7fce61945550>"
      ]
     },
     "metadata": {},
     "output_type": "display_data"
    }
   ],
   "source": [
    "## get and plot sorted kid RDM collapsing across all ages\n",
    "KRDM = get_and_plot_RDM(KM, KF,'kid',sort_inds)"
   ]
  },
  {
   "cell_type": "code",
   "execution_count": 696,
   "metadata": {},
   "outputs": [
    {
     "data": {
      "text/plain": [
       "<matplotlib.figure.Figure at 0x7fce60f1ea10>"
      ]
     },
     "metadata": {},
     "output_type": "display_data"
    },
    {
     "data": {
      "image/png": "[encoded data removed]",
      "text/plain": [
       "<matplotlib.figure.Figure at 0x7fce61668150>"
      ]
     },
     "metadata": {},
     "output_type": "display_data"
    }
   ],
   "source": [
    "## get RDM for older kids (7,8,9,10)\n",
    "ind = KM.index[KM['coarse_age'] == 'older']\n",
    "meta = KM.loc[ind]\n",
    "feat = KF[ind.tolist()]\n",
    "ORDM = get_and_plot_RDM(meta, feat,'older',sort_inds)"
   ]
  },
  {
   "cell_type": "code",
   "execution_count": 697,
   "metadata": {},
   "outputs": [
    {
     "data": {
      "text/plain": [
       "<matplotlib.figure.Figure at 0x7fce60982490>"
      ]
     },
     "metadata": {},
     "output_type": "display_data"
    },
    {
     "data": {
      "image/png": "[encoded data removed]",
      "text/plain": [
       "<matplotlib.figure.Figure at 0x7fce60f91550>"
      ]
     },
     "metadata": {},
     "output_type": "display_data"
    }
   ],
   "source": [
    "## get RDM for younger kids (3,4,5,6)\n",
    "ind = KM.index[KM['coarse_age'] == 'younger']\n",
    "meta = KM.loc[ind]\n",
    "feat = KF[ind.tolist()]\n",
    "YRDM = get_and_plot_RDM(meta, feat,'younger',sort_inds)"
   ]
  },
  {
   "cell_type": "code",
   "execution_count": 698,
   "metadata": {},
   "outputs": [
    {
     "name": "stdout",
     "output_type": "stream",
     "text": [
      "Correlation between adult and overall kid RDM: 0.729919137466\n",
      " \n",
      "Correlation between adult and OLDER kid RDM: 0.689778146382\n",
      " \n",
      "Correlation between adult and YOUNGER kid RDM: 0.541955214597\n",
      " \n",
      "Correlation between OLDER and YOUNGER kid RDM: 0.437818784989\n"
     ]
    }
   ],
   "source": [
    "## print fc7 cross-cohort correlations\n",
    "\n",
    "dim = KRDM.shape[0]\n",
    "cor = stats.spearmanr(np.ravel(KRDM[np.triu_indices(dim,k=1)]),np.ravel(ARDM[np.triu_indices(dim,k=1)]))[0]\n",
    "print 'Correlation between adult and overall kid RDM: {}'.format(cor)\n",
    "print ' '\n",
    "dim = ORDM.shape[0]\n",
    "cor = stats.spearmanr(np.ravel(ORDM[np.triu_indices(dim,k=1)]),np.ravel(ARDM[np.triu_indices(dim,k=1)]))[0]\n",
    "print 'Correlation between adult and OLDER kid RDM: {}'.format(cor)\n",
    "print ' '\n",
    "dim = YRDM.shape[0]\n",
    "cor = stats.spearmanr(np.ravel(YRDM[np.triu_indices(dim,k=1)]),np.ravel(ARDM[np.triu_indices(dim,k=1)]))[0]\n",
    "print 'Correlation between adult and YOUNGER kid RDM: {}'.format(cor)\n",
    "print ' '\n",
    "dim = YRDM.shape[0]\n",
    "cor = stats.spearmanr(np.ravel(YRDM[np.triu_indices(dim,k=1)]),np.ravel(ORDM[np.triu_indices(dim,k=1)]))[0]\n",
    "print 'Correlation between OLDER and YOUNGER kid RDM: {}'.format(cor)"
   ]
  },
  {
   "cell_type": "code",
   "execution_count": null,
   "metadata": {
    "collapsed": true
   },
   "outputs": [],
   "source": []
  },
  {
   "cell_type": "markdown",
   "metadata": {},
   "source": [
    "### generalize across layers"
   ]
  },
  {
   "cell_type": "code",
   "execution_count": 699,
   "metadata": {
    "collapsed": true
   },
   "outputs": [],
   "source": [
    "## which label set are we using? common_labels or sufficient_data_labels\n",
    "these_labels = sufficient_data_labels\n",
    "\n",
    "## function to apply various cleanup operations to adult feat/meta, including deborkifying and subsetting by appropriate labelset\n",
    "def adult_preproc(AF, AM, these_labels):\n",
    "    ## set up lookup table to cover discrepancies in category label assignments\n",
    "    lookup = dict(zip(these_labels,these_labels))\n",
    "    if 'bike' in lookup.keys():\n",
    "        lookup['bike'] = 'bicycle'\n",
    "\n",
    "    ## subset adult feature matrix and metadata matrix by appropriate labelset\n",
    "    AF, AM = subset_labels(AF, AM, [lookup[i] for i in these_labels])\n",
    "    AM = AM.reset_index(drop=True)    \n",
    "    return AF, AM\n",
    "\n",
    "## function to add coarse grain age and subset according to proper labelset\n",
    "def preproc_kid(KF, KM,these_labels):    \n",
    "    KM['coarse_age'] = KM.apply(coarse_grain_age, axis=1)\n",
    "    ## subset labels that have at least some drawings of them from each age category\n",
    "    younger_labels = KM[KM['coarse_age'] == 'younger']['label'].values\n",
    "    older_labels = KM[KM['coarse_age'] == 'older']['label'].values\n",
    "    \n",
    "    ## subset to only use the labels with either COMMON LABELS or SUFFICIENT DATA (see cell above)\n",
    "    KF, KM = subset_labels(KF, KM, these_labels)\n",
    "    KM = KM.reset_index(drop=True)    \n",
    "    return KF, KM\n",
    "\n",
    "## make sure directory for RDM exists\n",
    "if not os.path.exists('./rdm'):\n",
    "    os.makedirs('./rdm')"
   ]
  },
  {
   "cell_type": "markdown",
   "metadata": {},
   "source": [
    "##### generate and save out RDMs as separate npy files"
   ]
  },
  {
   "cell_type": "code",
   "execution_count": null,
   "metadata": {},
   "outputs": [
    {
     "name": "stdout",
     "output_type": "stream",
     "text": [
      "Loading in adult features for layer 0...\n",
      "Shape of adult feature tensor: (7500, 100000)\n",
      "Getting and saving RDM...\n",
      "Loading in adult features for layer 1...\n"
     ]
    }
   ],
   "source": [
    "## subsampling on or off?\n",
    "subsample_on = 1\n",
    "\n",
    "## load in adult features\n",
    "really_run = 1\n",
    "if really_run:\n",
    "    for layer_num in np.arange(7):\n",
    "        print 'Loading in adult features for layer {}...'.format(layer_num)\n",
    "        AF, AM = load_features('adult',layer_num)\n",
    "        AF, AM = remove_practice_trials(AF, AM)\n",
    "        AM = AM.reset_index(drop=True)\n",
    "        AF, AM = adult_preproc(AF, AM, these_labels)\n",
    "        ## subsample features especially for lower layers\n",
    "        if subsample_on:\n",
    "            num_features = AF.shape[1]\n",
    "            size_subsample = 100000\n",
    "            if num_features>size_subsample:\n",
    "                feat_inds = np.random.RandomState(0).permutation(num_features)[:size_subsample]\n",
    "                AF = AF[:,feat_inds]         \n",
    "        \n",
    "        print 'Shape of adult feature tensor: {}'.format(np.shape(AF))\n",
    "\n",
    "        ## get RDM\n",
    "        cohort = 'adult'\n",
    "        print 'Getting and saving RDM...'\n",
    "        RDM = get_RDM(AM, AF,sort_inds)\n",
    "        ## save out RDM as npy\n",
    "        np.save('./rdm/RDM_{}_{}.npy'.format(cohort,layer_num),ARDM)\n",
    "        \n",
    "    print 'All done!'"
   ]
  },
  {
   "cell_type": "code",
   "execution_count": 648,
   "metadata": {},
   "outputs": [
    {
     "name": "stdout",
     "output_type": "stream",
     "text": [
      "Shape of kid feature tensor: (270, 100000)\n",
      "Getting and saving RDM...\n",
      "Saved OVERALL KID RDMs for layer 0!\n",
      "Shape of kid feature tensor: (270, 100000)\n",
      "Getting and saving RDM...\n",
      "Saved OVERALL KID RDMs for layer 1!\n",
      "Shape of kid feature tensor: (270, 100000)\n",
      "Getting and saving RDM...\n",
      "Saved OVERALL KID RDMs for layer 2!\n",
      "Shape of kid feature tensor: (270, 100000)\n",
      "Getting and saving RDM...\n",
      "Saved OVERALL KID RDMs for layer 3!\n",
      "Shape of kid feature tensor: (270, 25088)\n",
      "Getting and saving RDM...\n",
      "Saved OVERALL KID RDMs for layer 4!\n",
      "Shape of kid feature tensor: (270, 4096)\n",
      "Getting and saving RDM...\n",
      "Saved OVERALL KID RDMs for layer 5!\n",
      "Shape of kid feature tensor: (270, 4096)\n",
      "Getting and saving RDM...\n",
      "Saved OVERALL KID RDMs for layer 6!\n",
      "Shape of older kid feature tensor: (157, 100000)\n",
      "Saved OLDER KID RDMs for layer 0!\n",
      "Shape of older kid feature tensor: (157, 100000)\n",
      "Saved OLDER KID RDMs for layer 1!\n",
      "Shape of older kid feature tensor: (157, 100000)\n",
      "Saved OLDER KID RDMs for layer 2!\n",
      "Shape of older kid feature tensor: (157, 100000)\n",
      "Saved OLDER KID RDMs for layer 3!\n",
      "Shape of older kid feature tensor: (157, 25088)\n",
      "Saved OLDER KID RDMs for layer 4!\n",
      "Shape of older kid feature tensor: (157, 4096)\n",
      "Saved OLDER KID RDMs for layer 5!\n",
      "Shape of older kid feature tensor: (157, 4096)\n",
      "Saved OLDER KID RDMs for layer 6!\n",
      "Shape of younger kid feature tensor: (113, 100000)\n",
      "Saved YOUNGER KID RDMs for layer 0!\n",
      "Shape of younger kid feature tensor: (113, 100000)\n",
      "Saved YOUNGER KID RDMs for layer 1!\n",
      "Shape of younger kid feature tensor: (113, 100000)\n",
      "Saved YOUNGER KID RDMs for layer 2!\n",
      "Shape of younger kid feature tensor: (113, 100000)\n",
      "Saved YOUNGER KID RDMs for layer 3!\n",
      "Shape of younger kid feature tensor: (113, 25088)\n",
      "Saved YOUNGER KID RDMs for layer 4!\n",
      "Shape of younger kid feature tensor: (113, 4096)\n",
      "Saved YOUNGER KID RDMs for layer 5!\n",
      "Shape of younger kid feature tensor: (113, 4096)\n",
      "Saved YOUNGER KID RDMs for layer 6!\n"
     ]
    }
   ],
   "source": [
    "## subsampling on or off?\n",
    "subsample_on = 1\n",
    "subsample_size = 100000\n",
    "\n",
    "really_run = 1\n",
    "lb = 0\n",
    "ub = 7\n",
    "if really_run:\n",
    "    ## loop through all kid layers and save out their RDM\n",
    "    for layer_num in np.arange(lb,ub):\n",
    "        ## load in kid features\n",
    "        KF, KM = load_features('kid',layer_num)\n",
    "        KF, KM = remove_practice_trials(KF, KM)\n",
    "        KM = KM.reset_index(drop=True)\n",
    "        KF, KM = preproc_kid(KF, KM, these_labels)\n",
    "        ## subsample features especially for lower layers\n",
    "        if subsample_on:        \n",
    "            num_features = KF.shape[1]\n",
    "            size_subsample = subsample_size\n",
    "            if num_features>size_subsample:\n",
    "                feat_inds = np.random.RandomState(0).permutation(num_features)[:size_subsample]\n",
    "                KF = KF[:,feat_inds]           \n",
    "        print 'Shape of kid feature tensor: {}'.format(np.shape(KF))\n",
    "        \n",
    "        ## get RDM\n",
    "        print 'Getting and saving RDM...'\n",
    "        cohort = 'kid'\n",
    "        KRDM = get_RDM(KM, KF,sort_inds)\n",
    "        ## save out RDM as npy\n",
    "        np.save('./rdm/RDM_{}_{}.npy'.format(cohort,layer_num),KRDM)\n",
    "        \n",
    "        print 'Saved OVERALL KID RDMs for layer {}!'.format(layer_num)        \n",
    "                \n",
    "    ## loop through all kid layers and save out their RDM\n",
    "    for layer_num in np.arange(lb,ub):\n",
    "        ## load in kid features\n",
    "        KF, KM = load_features('kid',layer_num)\n",
    "        KF, KM = remove_practice_trials(KF, KM)\n",
    "        KM = KM.reset_index(drop=True)\n",
    "        KF, KM = preproc_kid(KF, KM, these_labels)\n",
    "        ## subsample features especially for lower layers\n",
    "        if subsample_on:\n",
    "            num_features = KF.shape[1]\n",
    "            size_subsample = subsample_size\n",
    "            if num_features>size_subsample:\n",
    "                feat_inds = np.random.RandomState(0).permutation(num_features)[:size_subsample]\n",
    "                KF = KF[:,feat_inds]              \n",
    "        \n",
    "        ## get RDM for older kids (7,8,9,10)\n",
    "        ind = KM.index[KM['coarse_age'] == 'older']\n",
    "        meta = KM.loc[ind]\n",
    "        feat = KF[ind.tolist()]\n",
    "        print 'Shape of older kid feature tensor: {}'.format(np.shape(feat))        \n",
    "        ORDM = get_RDM(meta, feat,sort_inds)\n",
    "        np.save('./rdm/RDM_{}_{}.npy'.format('older',layer_num),ORDM)            \n",
    "        print 'Saved OLDER KID RDMs for layer {}!'.format(layer_num)        \n",
    "            \n",
    "    for layer_num in np.arange(lb,ub):\n",
    "        ## load in kid features\n",
    "        KF, KM = load_features('kid',layer_num)\n",
    "        KF, KM = remove_practice_trials(KF, KM)\n",
    "        KM = KM.reset_index(drop=True)\n",
    "        KF, KM = preproc_kid(KF, KM, these_labels)\n",
    "        ## subsample features especially for lower layers\n",
    "        if subsample_on:\n",
    "            num_features = KF.shape[1]\n",
    "            size_subsample = subsample_size\n",
    "            if num_features>size_subsample:\n",
    "                feat_inds = np.random.RandomState(0).permutation(num_features)[:size_subsample]\n",
    "                KF = KF[:,feat_inds]         \n",
    "                        \n",
    "        ## get RDM for younger kids (3,4,5,6)            \n",
    "        ind = KM.index[KM['coarse_age'] == 'younger']\n",
    "        meta = KM.loc[ind]\n",
    "        feat = KF[ind.tolist()]\n",
    "        print 'Shape of younger kid feature tensor: {}'.format(np.shape(feat))                \n",
    "        YRDM = get_RDM(meta, feat,sort_inds)\n",
    "        np.save('./rdm/RDM_{}_{}.npy'.format('younger',layer_num),YRDM)             \n",
    "        print 'Saved YOUNGER KID RDMs for layer {}!'.format(layer_num)\n",
    "                "
   ]
  },
  {
   "cell_type": "markdown",
   "metadata": {},
   "source": [
    "##### plot layer-wise cross-cohort similarity"
   ]
  },
  {
   "cell_type": "code",
   "execution_count": null,
   "metadata": {
    "collapsed": true
   },
   "outputs": [],
   "source": [
    "corOA = []\n",
    "corYA = []\n",
    "corKA = []\n",
    "\n",
    "for layer_num in np.arange(7):\n",
    "    Y = np.load('./rdm/RDM_younger_{}.npy'.format(layer_num))\n",
    "    O = np.load('./rdm/RDM_older_{}.npy'.format(layer_num))\n",
    "    A = np.load('./rdm/RDM_adult_{}.npy'.format(layer_num))\n",
    "    K = np.load('./rdm/RDM_kid_{}.npy'.format(layer_num))\n",
    "    \n",
    "    dim = O.shape[0]\n",
    "    rOA = stats.spearmanr(np.ravel(O[np.triu_indices(dim,k=1)]),np.ravel(A[np.triu_indices(dim,k=1)]))[0]\n",
    "    rYA = stats.spearmanr(np.ravel(Y[np.triu_indices(dim,k=1)]),np.ravel(A[np.triu_indices(dim,k=1)]))[0]\n",
    "    rKA = stats.spearmanr(np.ravel(K[np.triu_indices(dim,k=1)]),np.ravel(A[np.triu_indices(dim,k=1)]))[0]\n",
    "    \n",
    "    corOA.append(rOA)\n",
    "    corYA.append(rYA)\n",
    "    corKA.append(rKA)\n",
    "\n",
    "import seaborn as sns\n",
    "sns.set_context('talk')\n",
    "sns.set_style('white')\n",
    "plt.figure(figsize=(6,6))\n",
    "plt.plot(np.arange(1,8),corYA,label='younger vs. adult',color=(0.6,0.6,0.6))\n",
    "plt.plot(np.arange(1,8),corOA,label='older vs. adult',color=(0.2,0.2,0.2))\n",
    "# plt.plot(np.arange(1,8),corKA,label='all kids vs. adult',color=(0.6,0.2,0.2))\n",
    "plt.xlabel('model layer')\n",
    "plt.ylabel('between-cohort similarity')\n",
    "plt.legend()\n",
    "plt.savefig('./plots/btw_cohort_similarity.pdf')"
   ]
  },
  {
   "cell_type": "code",
   "execution_count": null,
   "metadata": {
    "collapsed": true
   },
   "outputs": [],
   "source": []
  },
  {
   "cell_type": "markdown",
   "metadata": {
    "collapsed": true
   },
   "source": [
    "### get errorbars for cross-cohort similarity plot (jackknife resampling over classes)"
   ]
  },
  {
   "cell_type": "code",
   "execution_count": 703,
   "metadata": {
    "collapsed": true
   },
   "outputs": [],
   "source": [
    "def get_RDM_resampled(M,F,sort_inds,iteration):\n",
    "    ## sorted adult RDMs\n",
    "    labels = M.label.values\n",
    "    means = get_class_means(F, labels)\n",
    "    ordered_means = means[sort_inds,:] \n",
    "    ### JACKKNIFE RESAMPLING OVER CLASSES (https://en.wikipedia.org/wiki/Jackknife_resampling)    \n",
    "    # 1: exhaustively subset 15 of 16 categories, and compute cross-domain similarity in each case\n",
    "    # 2: variance estimate = (n-1)/n  *   Sum([xi - x.i]^2)\n",
    "    #          where x.i = (1/n) * Sum(xi), the average of all subsamples    \n",
    "    jacks = np.roll(range(ordered_means.shape[0]),iteration)[:ordered_means.shape[0]-1]\n",
    "    ordered_means = ordered_means[jacks,:]\n",
    "    RDM = np.corrcoef(ordered_means)\n",
    "    return RDM\n",
    "\n",
    "def get_rdm_similarity(A,B):\n",
    "    '''\n",
    "    A is RDM for one population\n",
    "    B is RDM for another population, of same dimensionality\n",
    "    '''\n",
    "    dim = A.shape[0]\n",
    "    return stats.spearmanr(np.ravel(A[np.triu_indices(dim,k=1)]),np.ravel(B[np.triu_indices(dim,k=1)]))[0]"
   ]
  },
  {
   "cell_type": "code",
   "execution_count": 714,
   "metadata": {
    "collapsed": true
   },
   "outputs": [],
   "source": [
    "## temporary function to load only nonbird features\n",
    "def load_features_nonbird(cohort, layer_num):\n",
    "    layers = ['P1','P2','P3','P4','P5','FC6','FC7']            \n",
    "    F = np.load('/home/jefan/kiddraw/analysis/museumdraw/python/features/FEATURES_{}_{}_nonbird.npy'.format(layers[layer_num],cohort))\n",
    "    M = pd.read_csv('/home/jefan/kiddraw/analysis/museumdraw/python/features/METADATA_{}_nonbird.csv'.format(cohort)) \n",
    "    M = M[['label','age','session']]\n",
    "    return F, M\n"
   ]
  },
  {
   "cell_type": "code",
   "execution_count": null,
   "metadata": {},
   "outputs": [
    {
     "name": "stdout",
     "output_type": "stream",
     "text": [
      "Loading in kid features for layer 0...\n",
      "Shape of kid feature tensor: (270, 100000)\n",
      "Loading in adult features for layer 0...\n",
      "Shape of adult feature tensor: (7500, 100000)\n",
      "Getting and saving kid and adult RDMs ...\n",
      "Iteration 0 of 15\n",
      "Iteration 1 of 15\n",
      "Iteration 2 of 15\n",
      "Iteration 3 of 15\n",
      "Iteration 4 of 15\n",
      "Iteration 5 of 15\n",
      "Iteration 6 of 15\n",
      "Iteration 7 of 15\n",
      "Iteration 8 of 15\n",
      "Iteration 9 of 15\n",
      "Iteration 10 of 15\n",
      "Iteration 11 of 15\n",
      "Iteration 12 of 15\n",
      "Iteration 13 of 15\n",
      "Iteration 14 of 15\n",
      "Loading in kid features for layer 1...\n",
      "Shape of kid feature tensor: (270, 100000)\n",
      "Loading in adult features for layer 1...\n",
      "Shape of adult feature tensor: (7500, 100000)\n",
      "Getting and saving kid and adult RDMs ...\n",
      "Iteration 0 of 15\n",
      "Iteration 1 of 15\n",
      "Iteration 2 of 15\n",
      "Iteration 3 of 15\n",
      "Iteration 5 of 15\n",
      "Iteration 6 of 15\n",
      "Iteration 7 of 15\n",
      "Iteration 8 of 15\n",
      "Iteration 9 of 15\n",
      "Iteration 10 of 15\n",
      "Iteration 11 of 15\n"
     ]
    }
   ],
   "source": [
    "## subsampling on or off?\n",
    "subsample_on = 1\n",
    "\n",
    "## which layers\n",
    "lb = 0\n",
    "ub = 3\n",
    "nIter = len(these_labels)\n",
    "\n",
    "cohorts = ['younger','older']\n",
    "CORMAT = []\n",
    "for cohort in cohorts:\n",
    "    ## loop through all kid layers and save out their RDM\n",
    "    Cormat = [] ## cohort-level grouping of cross-cohort similarity\n",
    "    for layer_num in np.arange(lb,ub):\n",
    "        print 'Loading in kid features for layer {}...'.format(layer_num)    \n",
    "        ## load in kid features\n",
    "        KF, KM = load_features('kid',layer_num)\n",
    "        KF, KM = remove_practice_trials(KF, KM)\n",
    "        KM = KM.reset_index(drop=True)\n",
    "        KF, KM = preproc_kid(KF, KM, these_labels)\n",
    "        ## subsample features especially for lower layers\n",
    "        if subsample_on:        \n",
    "            num_features = KF.shape[1]\n",
    "            size_subsample = 100000\n",
    "            if num_features>size_subsample:\n",
    "                feat_inds = np.random.RandomState(0).permutation(num_features)[:size_subsample]\n",
    "                KF = KF[:,feat_inds]         \n",
    "        \n",
    "        print 'Shape of kid feature tensor: {}'.format(np.shape(KF))    \n",
    "\n",
    "        print 'Loading in adult features for layer {}...'.format(layer_num)\n",
    "#         AF, AM = load_features('adult',layer_num)\n",
    "############# TEMPORARILY LOADING IN NONBIRD FEATURES FOR THIS ANALYSIS\n",
    "        AF, AM = load_features_nonbird('adult',layer_num)\n",
    "        AF, AM = remove_practice_trials(AF, AM)\n",
    "        AM = AM.reset_index(drop=True)\n",
    "        AF, AM = adult_preproc(AF, AM, these_labels)\n",
    "        ## subsample features especially for lower layers\n",
    "        if subsample_on:\n",
    "            num_features = AF.shape[1]\n",
    "            size_subsample = 100000\n",
    "            if num_features>size_subsample:\n",
    "                feat_inds = np.random.RandomState(0).permutation(num_features)[:size_subsample]\n",
    "                AF = AF[:,feat_inds]         \n",
    "        \n",
    "        print 'Shape of adult feature tensor: {}'.format(np.shape(AF)) \n",
    "\n",
    "        ## get older kid RDM\n",
    "        print 'Getting and saving kid and adult RDMs ...'\n",
    "        KRDM = []\n",
    "        ARDM = []\n",
    "        cormat = [] ## layer-level grouping of cross-cohort similarity\n",
    "        for i in range(nIter):\n",
    "            print 'Iteration {} of {}'.format(i,nIter)\n",
    "            ## get RDM for this cohort, i.e., {'older', 'younger'}\n",
    "            ind = KM.index[KM['coarse_age'] == cohort]\n",
    "            meta = KM.loc[ind]\n",
    "            feat = KF[ind.tolist()]                    \n",
    "            krdm = get_RDM_resampled(meta, feat,sort_inds,i)\n",
    "            ## get RDM adult for adults, aggregate across iterations\n",
    "            ardm = get_RDM_resampled(AM, AF,sort_inds,i)        \n",
    "            if len(KRDM)==0:\n",
    "                KRDM = krdm\n",
    "                ARDM = ardm\n",
    "            else:\n",
    "                KRDM = np.dstack((KRDM,krdm))\n",
    "                ARDM = np.dstack((ARDM,ardm))                                  \n",
    "            ## compute similarity between RDMs\n",
    "            cormat.append(get_rdm_similarity(krdm,ardm))\n",
    "        ## layer level aggregation    \n",
    "        Cormat.append(cormat)\n",
    "        KRDM = np.array(KRDM)\n",
    "        ARDM = np.array(ARDM)\n",
    "        np.save('./rdm/RDM_jackknife_{}_{}.npy'.format(cohort,layer_num),KRDM)             \n",
    "        np.save('./rdm/RDM_jackknife_{}_{}.npy'.format('adult',layer_num),ARDM)         \n",
    "    ## cohort level aggregation    \n",
    "    CORMAT.append(Cormat)\n",
    "                      "
   ]
  },
  {
   "cell_type": "code",
   "execution_count": 722,
   "metadata": {
    "collapsed": true
   },
   "outputs": [],
   "source": []
  },
  {
   "cell_type": "code",
   "execution_count": 723,
   "metadata": {},
   "outputs": [
    {
     "data": {
      "text/plain": [
       "(2, 3, 15)"
      ]
     },
     "execution_count": 723,
     "metadata": {},
     "output_type": "execute_result"
    }
   ],
   "source": []
  },
  {
   "cell_type": "code",
   "execution_count": null,
   "metadata": {
    "collapsed": true
   },
   "outputs": [],
   "source": [
    "# ## save CORMAT \n",
    "# CORMAT = np.array(CORMAT)\n",
    "# np.save('./rdm/CORMAT.npy',CORMAT)"
   ]
  },
  {
   "cell_type": "code",
   "execution_count": null,
   "metadata": {
    "collapsed": true
   },
   "outputs": [],
   "source": [
    "## CORMAT has dimensionality: num_cohorts x num_layers x num_objects\n",
    "np.shape(np.array(CORMAT))\n",
    "### JACKKNIFE RESAMPLING OVER CLASSES (https://en.wikipedia.org/wiki/Jackknife_resampling)    \n",
    "# 1: exhaustively subset 15 of 16 categories, and compute cross-domain similarity in each case\n",
    "# 2: variance estimate = (n-1)/n  *   Sum([xi - x.i]^2)\n",
    "#          where x.i = (1/n) * Sum(xi), the average of all subsamples \n",
    "cohorts = ['younger','older']\n",
    "SEM_JACK = []\n",
    "for c,cohort in enumerate(cohorts):\n",
    "    sem_jack = []\n",
    "    for layer_num in np.arange(7):\n",
    "        jackvals = CORMAT[c,layer_num,:]\n",
    "        jackmean = np.mean(jackvals)\n",
    "        sem_jack.append(np.sqrt((15/16) * np.array([(i-jackmean)**2 for i in jackvals]).sum()))\n",
    "    SEM_JACK.append(sem_jack)\n",
    "SEM_JACK = np.array(SEM_JACK)"
   ]
  },
  {
   "cell_type": "code",
   "execution_count": null,
   "metadata": {
    "collapsed": true
   },
   "outputs": [],
   "source": [
    "## dimensionality of SEM_JACK is num_cohorts x num_layers\n",
    "sem_ya = SEM_JACK[0,:]\n",
    "sem_oa = SEM_JACK[1,:]\n",
    "import seaborn as sns\n",
    "sns.set_context('talk')\n",
    "sns.set_style('white')\n",
    "plt.figure(figsize=(6,6))\n",
    "h = plt.errorbar(np.arange(1,8),corYA,yerr=[sem_ya,sem_ya], color=[0.6, 0.6, 0.6], ecolor=[0.6, 0.6, 0.6],label='younger vs. adult')\n",
    "h = plt.errorbar(np.arange(1,8),corOA,yerr=[sem_oa,sem_oa], color=[0.2, 0.2, 0.2], ecolor=[0.2, 0.2, 0.2],label='older vs. adult')\n",
    "plt.xlabel('model layer')\n",
    "plt.ylabel('between-cohort similarity')\n",
    "plt.legend()\n",
    "# plt.savefig('./plots/btw_cohort_similarity.pdf')"
   ]
  },
  {
   "cell_type": "code",
   "execution_count": null,
   "metadata": {
    "collapsed": true
   },
   "outputs": [],
   "source": []
  },
  {
   "cell_type": "code",
   "execution_count": null,
   "metadata": {
    "collapsed": true
   },
   "outputs": [],
   "source": []
  },
  {
   "cell_type": "code",
   "execution_count": null,
   "metadata": {
    "collapsed": true
   },
   "outputs": [],
   "source": [
    "## save out cohort similarity csv\n",
    "df = pd.DataFrame({\n",
    "    'CorrYoungAdult':  corYA,\n",
    "    'SEMYoungAdult':sem_ya,\n",
    "    'CorrOldAdult':  corOA,\n",
    "    'SEMOldAdult':  sem_oa,\n",
    "})\n",
    "df.to_csv('./rdm/CohortSimilarity.csv') "
   ]
  },
  {
   "cell_type": "code",
   "execution_count": null,
   "metadata": {
    "collapsed": true
   },
   "outputs": [],
   "source": []
  },
  {
   "cell_type": "code",
   "execution_count": null,
   "metadata": {
    "collapsed": true
   },
   "outputs": [],
   "source": [
    "### notes 1/22/18:\n",
    "## preprocessing -- bounding box, remove drawings that have 0 mean pixel intensity, have text in them\n",
    "  ## make invalid sketches file\n",
    "## make human vs. model confusion matrix?\n",
    "## make adult -- grab 5 per class \"split-half\" reliability -- but can actually just take two wholes, and correlate them\n",
    "## estimate kids' variability -- within-class as well as across class."
   ]
  },
  {
   "cell_type": "code",
   "execution_count": 462,
   "metadata": {
    "collapsed": true
   },
   "outputs": [],
   "source": []
  },
  {
   "cell_type": "code",
   "execution_count": null,
   "metadata": {
    "collapsed": true
   },
   "outputs": [],
   "source": []
  },
  {
   "cell_type": "code",
   "execution_count": null,
   "metadata": {
    "collapsed": true
   },
   "outputs": [],
   "source": []
  },
  {
   "cell_type": "code",
   "execution_count": null,
   "metadata": {
    "collapsed": true
   },
   "outputs": [],
   "source": []
  },
  {
   "cell_type": "code",
   "execution_count": 651,
   "metadata": {},
   "outputs": [
    {
     "name": "stdout",
     "output_type": "stream",
     "text": [
      "Layer 0 of 7\n",
      "Iteration 0 of 10\n",
      "Iteration 5 of 10\n",
      "Layer 1 of 7\n",
      "Iteration 0 of 10\n",
      "Iteration 5 of 10\n",
      "Layer 2 of 7\n",
      "Iteration 0 of 10\n",
      "Iteration 5 of 10\n",
      "Layer 3 of 7\n",
      "Iteration 0 of 10\n",
      "Iteration 5 of 10\n",
      "Layer 4 of 7\n",
      "Iteration 0 of 10\n",
      "Iteration 5 of 10\n",
      "Layer 5 of 7\n",
      "Iteration 0 of 10\n",
      "Iteration 5 of 10\n",
      "Layer 6 of 7\n",
      "Iteration 0 of 10\n",
      "Iteration 5 of 10\n"
     ]
    }
   ],
   "source": [
    "## How many sketches do we have from each class in kids? Take this number, divide by 2, to get approx number \n",
    "## in adults for consistency analysis. Divide by 2, because we already are dividing kid drawing dataset\n",
    "## into younger and older subcategories.\n",
    "\n",
    "## edit Jan 30 2018: Bria asked about estimating adult-adult consistency in a way that is \n",
    "## directly comparable in terms of dataset size to the kid-adult RDM correlations.\n",
    "## so to do this, we will estimate an RDM based on correlating noisy sub-sampled adult with \n",
    "## same rock-solid adult RDM on every go.\n",
    "\n",
    "## load in rock-solid RDM estimated on 1000 drawings per class\n",
    "adult_rock_RDM = np.load('./rdm/RDM_adult_6.npy') \n",
    "\n",
    "## load in kid dataset in order to get num kid drawings per class\n",
    "YF, YM = load_features('kid',6)\n",
    "kid_num_per_class = zip(np.unique(YM.label.values),np.round(YM.groupby('label').count()['age'].values/2))\n",
    "knpc = dict(kid_num_per_class)\n",
    "\n",
    "## load in adult features by layer and get internal consistency\n",
    "CORR = [] ## overall \n",
    "CORR2 = []\n",
    "first_layer = 0\n",
    "num_layers = 7\n",
    "for layer_num in np.arange(first_layer,num_layers):\n",
    "    print('Layer {} of {}'.format(layer_num,num_layers))\n",
    "    AF, AM = load_features('adult',layer_num)    \n",
    "    AF, AM = remove_practice_trials(AF, AM)\n",
    "    AM = AM.reset_index(drop=True)\n",
    "    AF, AM = adult_preproc(AF, AM, these_labels)    \n",
    "    \n",
    "    ## subsample features especially for lower layers\n",
    "    num_features = AF.shape[1]\n",
    "    size_subsample = 50000\n",
    "    if num_features>size_subsample:\n",
    "        feat_inds = np.random.RandomState(0).permutation(num_features)[:size_subsample]\n",
    "        AF = AF[:,feat_inds]    \n",
    "\n",
    "    qats = np.unique(AM.label.values)\n",
    "    nIter = 10\n",
    "\n",
    "    Cor = [] ## correlation between split RDM's\n",
    "    Cor2 = []\n",
    "    for it in np.arange(nIter):\n",
    "        Meta = [] # initialize adult subsampled metadata csv -- same for both halves\n",
    "        Feat1 = [] # initialize adult subsampled feature matrix -- constitutes first half\n",
    "        Feat2 = [] # initialize adult subsampled feature matrix -- constitutes second half\n",
    "        if it%5==0:\n",
    "            print('Iteration {} of {}'.format(it,nIter))\n",
    "        for q in qats:\n",
    "            ind = AM.index[AM['label'] == q]\n",
    "            meta = AM.loc[ind]\n",
    "            meta = meta.reset_index(drop=True)\n",
    "            feat = AF[ind.tolist()]\n",
    "\n",
    "            how_many = int(knpc[q]) ## look up approx(!) how many younger/older kid sketches we have from this class\n",
    "            row_inds = np.random.RandomState(it).permutation(meta.shape[0])[:how_many]\n",
    "            metasamp = meta.loc[row_inds]\n",
    "            featsamp = feat[row_inds.tolist()] ## subsample first \"split-half\" feature mat\n",
    "\n",
    "            row_inds_2 = np.random.RandomState(it).permutation(meta.shape[0])[how_many*2:how_many*3] ## get the next drawings in the permuted list\n",
    "            featsamp2 = feat[row_inds_2.tolist()] ## subsample second \"split-half\" feature mat\n",
    "\n",
    "            if len(Meta)==0:        \n",
    "                Meta = metasamp\n",
    "                Feat1 = featsamp\n",
    "                Feat2 = featsamp2\n",
    "            else:\n",
    "                Meta = pd.concat((Meta,metasamp))\n",
    "                Feat1 = np.vstack((Feat1,featsamp)) \n",
    "                Feat2 = np.vstack((Feat2,featsamp2))\n",
    "\n",
    "        ## get class means        \n",
    "        Meta = Meta.reset_index(drop=True)\n",
    "        means1 = get_class_means(Feat1, Meta.label.values)\n",
    "        means2 = get_class_means(Feat2, Meta.label.values)\n",
    "\n",
    "        ## get RDM for each half\n",
    "        rdm1 = get_RDM(Meta,Feat1,sort_inds)\n",
    "        rdm2 = get_RDM(Meta,Feat2,sort_inds)\n",
    "                \n",
    "        dim = rdm1.shape[0]\n",
    "        cor = stats.spearmanr(np.ravel(rdm1[np.triu_indices(dim,k=1)]), \\\n",
    "                              np.ravel(adult_rock_RDM[np.triu_indices(dim,k=1)]))[0]\n",
    "        cor2 = stats.spearmanr(np.ravel(rdm1[np.triu_indices(dim,k=1)]), \\\n",
    "                              np.ravel(rdm2[np.triu_indices(dim,k=1)]))[0]\n",
    "        Cor.append(cor)\n",
    "        Cor2.append(cor2)\n",
    "    CORR.append(Cor)\n",
    "    CORR2.append(Cor2)"
   ]
  },
  {
   "cell_type": "code",
   "execution_count": 653,
   "metadata": {
    "collapsed": true
   },
   "outputs": [],
   "source": [
    "CORR2 = np.array(CORR2)\n",
    "np.save('./rdm/adult_split_reliability_by_layer_nIter{}.npy'.format(nIter),CORR2)"
   ]
  },
  {
   "cell_type": "code",
   "execution_count": 654,
   "metadata": {
    "collapsed": true
   },
   "outputs": [],
   "source": [
    "CORR = np.array(CORR)\n",
    "np.save('./rdm/adult_noisy-vs-rock_reliability_by_layer_nIter{}.npy'.format(nIter),CORR)"
   ]
  },
  {
   "cell_type": "code",
   "execution_count": null,
   "metadata": {
    "collapsed": true
   },
   "outputs": [],
   "source": []
  },
  {
   "cell_type": "code",
   "execution_count": 658,
   "metadata": {
    "collapsed": true
   },
   "outputs": [],
   "source": [
    "# print CORR2.mean(1)\n",
    "# print CORR.mean(1)"
   ]
  },
  {
   "cell_type": "code",
   "execution_count": null,
   "metadata": {
    "collapsed": true
   },
   "outputs": [],
   "source": []
  },
  {
   "cell_type": "code",
   "execution_count": null,
   "metadata": {
    "collapsed": true
   },
   "outputs": [],
   "source": [
    "# CORR2.mean(1)\n",
    "# array([ 0.39874491,  0.43497382,  0.44523647,  0.52166678,  0.60330551,\n",
    "#         0.62480381,  0.64736579])\n",
    "# CORR.mean(1)\n",
    "# array([ 0.1454201 ,  0.16539968,  0.20519897,  0.33762497,  0.51146982,\n",
    "#         0.67240697,  0.70965234])"
   ]
  },
  {
   "cell_type": "code",
   "execution_count": 563,
   "metadata": {},
   "outputs": [
    {
     "data": {
      "text/plain": [
       "<matplotlib.legend.Legend at 0x7fce61b4ca10>"
      ]
     },
     "execution_count": 563,
     "metadata": {},
     "output_type": "execute_result"
    },
    {
     "data": {
      "image/png": "[encoded data removed]",
      "text/plain": [
       "<matplotlib.figure.Figure at 0x7fce61d39e90>"
      ]
     },
     "metadata": {},
     "output_type": "display_data"
    }
   ],
   "source": [
    "## dimensionality of SEM_JACK is num_cohorts x num_layers\n",
    "sem_ya = SEM_JACK[0,:]\n",
    "sem_oa = SEM_JACK[1,:]\n",
    "import seaborn as sns\n",
    "sns.set_context('talk')\n",
    "sns.set_style('white')\n",
    "plt.figure(figsize=(6,6))\n",
    "h = plt.errorbar(np.arange(1,8),corYA,yerr=[sem_ya,sem_ya], color=[0.6, 0.6, 0.6], ecolor=[0.6, 0.6, 0.6],label='younger vs. rock-solid adult')\n",
    "h = plt.errorbar(np.arange(1,8),corOA,yerr=[sem_oa,sem_oa], color=[0.2, 0.2, 0.2], ecolor=[0.2, 0.2, 0.2],label='older vs. rock-solid adult')\n",
    "h = plt.errorbar(np.arange(1,8),np.mean(CORR2,1),yerr=np.std(CORR2,1),linewidth=5,label='noisy adult vs. noisy-adult')\n",
    "plt.xlabel('model layer')\n",
    "plt.ylabel('between-cohort similarity')\n",
    "plt.legend()"
   ]
  },
  {
   "cell_type": "markdown",
   "metadata": {},
   "source": [
    "### Jackknife resampling on class for noisy adult"
   ]
  },
  {
   "cell_type": "code",
   "execution_count": 546,
   "metadata": {},
   "outputs": [
    {
     "name": "stdout",
     "output_type": "stream",
     "text": [
      "Loading in adult features for layer 0...\n",
      "Shape of adult feature tensor: (1600, 802816)\n",
      "Iteration 0 of 1\n",
      "Shape of adult feature tensor: (136, 50000)\n",
      "Performing jackknife resampling ...\n",
      "Iteration 0 of 16\n",
      "Iteration 4 of 16\n",
      "Iteration 8 of 16\n",
      "Iteration 12 of 16\n",
      "Loading in adult features for layer 1...\n",
      "Shape of adult feature tensor: (1600, 401408)\n",
      "Iteration 0 of 1\n",
      "Shape of adult feature tensor: (136, 50000)\n",
      "Performing jackknife resampling ...\n",
      "Iteration 0 of 16\n",
      "Iteration 4 of 16\n",
      "Iteration 8 of 16\n",
      "Iteration 12 of 16\n",
      "Loading in adult features for layer 2...\n",
      "Shape of adult feature tensor: (1600, 200704)\n",
      "Iteration 0 of 1\n",
      "Shape of adult feature tensor: (136, 50000)\n",
      "Performing jackknife resampling ...\n",
      "Iteration 0 of 16\n",
      "Iteration 4 of 16\n",
      "Iteration 8 of 16\n",
      "Iteration 12 of 16\n",
      "Loading in adult features for layer 3...\n",
      "Shape of adult feature tensor: (1600, 100352)\n",
      "Iteration 0 of 1\n",
      "Shape of adult feature tensor: (136, 50000)\n",
      "Performing jackknife resampling ...\n",
      "Iteration 0 of 16\n",
      "Iteration 4 of 16\n",
      "Iteration 8 of 16\n",
      "Iteration 12 of 16\n",
      "Loading in adult features for layer 4...\n",
      "Shape of adult feature tensor: (1600, 25088)\n",
      "Iteration 0 of 1\n",
      "Shape of adult feature tensor: (136, 25088)\n",
      "Performing jackknife resampling ...\n",
      "Iteration 0 of 16\n",
      "Iteration 4 of 16\n",
      "Iteration 8 of 16\n",
      "Iteration 12 of 16\n",
      "Loading in adult features for layer 5...\n",
      "Shape of adult feature tensor: (1600, 4096)\n",
      "Iteration 0 of 1\n",
      "Shape of adult feature tensor: (136, 4096)\n",
      "Performing jackknife resampling ...\n",
      "Iteration 0 of 16\n",
      "Iteration 4 of 16\n",
      "Iteration 8 of 16\n",
      "Iteration 12 of 16\n",
      "Loading in adult features for layer 6...\n",
      "Shape of adult feature tensor: (1600, 4096)\n",
      "Iteration 0 of 1\n",
      "Shape of adult feature tensor: (136, 4096)\n",
      "Performing jackknife resampling ...\n",
      "Iteration 0 of 16\n",
      "Iteration 4 of 16\n",
      "Iteration 8 of 16\n",
      "Iteration 12 of 16\n"
     ]
    }
   ],
   "source": [
    "###### jackknife resampling on class for noisy adult -- rock-solid adult RDM similarity\n",
    "\n",
    "## load in rock-solid RDM estimated on 1000 drawings per class\n",
    "adult_rock_RDM = np.load('./rdm/RDM_adult_6.npy') \n",
    "\n",
    "lb = 0\n",
    "ub = 7\n",
    "nIter = len(these_labels)\n",
    "\n",
    "\n",
    "\n",
    "## loop through all kid layers and save out their RDM\n",
    "Cormat = [] ## cohort-level grouping of cross-cohort similarity\n",
    "for layer_num in np.arange(lb,ub):\n",
    "\n",
    "    ### loading in all adult features\n",
    "    print 'Loading in adult features for layer {}...'.format(layer_num)\n",
    "    AF, AM = load_features('adult',layer_num)\n",
    "    AF, AM = remove_practice_trials(AF, AM)\n",
    "    AM = AM.reset_index(drop=True)\n",
    "    AF, AM = adult_preproc(AF, AM, these_labels)\n",
    "    print 'Shape of adult feature tensor: {}'.format(np.shape(AF)) \n",
    "    \n",
    "    ## subsample features especially for lower layers\n",
    "    num_features = AF.shape[1]\n",
    "    size_subsample = 50000\n",
    "    if num_features>size_subsample:\n",
    "        feat_inds = np.random.RandomState(0).permutation(num_features)[:size_subsample]\n",
    "        AF = AF[:,feat_inds]\n",
    "\n",
    "    qats = np.unique(AM.label.values)\n",
    "    nIter = 1\n",
    "\n",
    "    ## getting subsampled noisy adult features\n",
    "    Cor = [] ## correlation between split RDM's\n",
    "    for it in np.arange(nIter):\n",
    "        Meta = [] # initialize adult subsampled metadata csv -- same for both halves\n",
    "        Feat1 = [] # initialize adult subsampled feature matrix -- constitutes first half\n",
    "        Feat2 = [] # initialize adult subsampled feature matrix -- constitutes second half\n",
    "        if it%5==0:\n",
    "            print('Iteration {} of {}'.format(it,nIter))\n",
    "        for q in qats:\n",
    "            ind = AM.index[AM['label'] == q]\n",
    "            meta = AM.loc[ind]\n",
    "            meta = meta.reset_index(drop=True)\n",
    "            feat = AF[ind.tolist()]\n",
    "\n",
    "            how_many = int(knpc[q]) ## look up approx(!) how many younger/older kid sketches we have from this class\n",
    "            row_inds = np.random.RandomState(it).permutation(meta.shape[0])[:how_many]\n",
    "            metasamp = meta.loc[row_inds]\n",
    "            featsamp = feat[row_inds.tolist()] ## subsample first \"split-half\" feature mat\n",
    "\n",
    "            if len(Meta)==0:\n",
    "                Meta = metasamp\n",
    "                Feat1 = featsamp\n",
    "            else:\n",
    "                Meta = pd.concat((Meta,metasamp))\n",
    "                Feat1 = np.vstack((Feat1,featsamp)) \n",
    "\n",
    "        ## define feature matrix and metadata         \n",
    "        NAM = Meta.reset_index(drop=True)\n",
    "        NAF = Feat1\n",
    "        print 'Shape of adult feature tensor: {}'.format(np.shape(NAF)) \n",
    "\n",
    "        ## jackknife resample through classes\n",
    "        print 'Performing jackknife resampling ...'\n",
    "        ARDM = []\n",
    "        NARDM = []\n",
    "        cormat = [] ## layer-level grouping of cross-cohort similarity\n",
    "        num_cats = 16\n",
    "        for i in range(num_cats):\n",
    "            if i%4==0:\n",
    "                print 'Iteration {} of {}'.format(i,num_cats)\n",
    "\n",
    "            ## get RDM adult for adults, aggregate across iterations\n",
    "            nardm = get_RDM_resampled(NAM, NAF,sort_inds,i) \n",
    "            ardm = get_RDM_resampled(AM,AF,sort_inds,i)\n",
    "            if len(ARDM)==0:\n",
    "                ARDM = ardm\n",
    "                NARDM = nardm\n",
    "            else:\n",
    "                ARDM = np.dstack((ARDM,ardm))   \n",
    "                NARDM = np.dstack((NARDM,nardm)) \n",
    "            ## compute similarity between noisy-adult RDM and rock-solid RDM                                                \n",
    "            cormat.append(get_rdm_similarity(nardm,ardm))\n",
    "        ## layer level aggregation    \n",
    "        Cormat.append(cormat)\n",
    "        ARDM = np.array(ARDM)  \n",
    "        NARDM = np.array(NARDM)            \n",
    "        ## save out jackknifed RDM        \n",
    "        np.save('./rdm/RDM_jackknife_{}_{}.npy'.format('noisy_adult',layer_num),NARDM)  \n",
    "        np.save('./rdm/RDM_jackknife_{}_{}.npy'.format('adult_micro',layer_num),ARDM)\n",
    "\n",
    "Cormat = np.array(Cormat)                      "
   ]
  },
  {
   "cell_type": "code",
   "execution_count": 652,
   "metadata": {},
   "outputs": [
    {
     "ename": "AttributeError",
     "evalue": "'list' object has no attribute 'mean'",
     "output_type": "error",
     "traceback": [
      "\u001b[0;31m---------------------------------------------------------------------------\u001b[0m",
      "\u001b[0;31mAttributeError\u001b[0m                            Traceback (most recent call last)",
      "\u001b[0;32m<ipython-input-652-34d01d88fa23>\u001b[0m in \u001b[0;36m<module>\u001b[0;34m()\u001b[0m\n\u001b[0;32m----> 1\u001b[0;31m \u001b[0mCormat\u001b[0m\u001b[0;34m.\u001b[0m\u001b[0mmean\u001b[0m\u001b[0;34m(\u001b[0m\u001b[0;36m1\u001b[0m\u001b[0;34m)\u001b[0m\u001b[0;34m\u001b[0m\u001b[0m\n\u001b[0m",
      "\u001b[0;31mAttributeError\u001b[0m: 'list' object has no attribute 'mean'"
     ]
    }
   ],
   "source": [
    "Cormat.mean(1)"
   ]
  },
  {
   "cell_type": "code",
   "execution_count": null,
   "metadata": {
    "collapsed": true
   },
   "outputs": [],
   "source": []
  },
  {
   "cell_type": "code",
   "execution_count": null,
   "metadata": {
    "collapsed": true
   },
   "outputs": [],
   "source": []
  },
  {
   "cell_type": "code",
   "execution_count": 505,
   "metadata": {
    "collapsed": true
   },
   "outputs": [],
   "source": []
  },
  {
   "cell_type": "code",
   "execution_count": 508,
   "metadata": {
    "collapsed": true
   },
   "outputs": [],
   "source": [
    "noisy_adult_6 = np.load('./rdm/RDM_jackknife_noisy_adult_6.npy')"
   ]
  },
  {
   "cell_type": "code",
   "execution_count": null,
   "metadata": {
    "collapsed": true
   },
   "outputs": [],
   "source": []
  },
  {
   "cell_type": "code",
   "execution_count": 511,
   "metadata": {},
   "outputs": [
    {
     "data": {
      "text/plain": [
       "16"
      ]
     },
     "execution_count": 511,
     "metadata": {},
     "output_type": "execute_result"
    }
   ],
   "source": []
  },
  {
   "cell_type": "code",
   "execution_count": null,
   "metadata": {
    "collapsed": true
   },
   "outputs": [],
   "source": [
    "def subsample_rdm(RDM,i):\n",
    "    '''\n",
    "    If you have a 16 objects x 16 objects RDM, and want to remove one of the objects,\n",
    "    yielding a 15x15 RDM, in order to compare to a jackknife RDM, apply this function.\n",
    "    \n",
    "    Generally speaking, it removes the i-th colum and row from the RDM.\n",
    "\n",
    "    '''\n",
    "    num_obj = RDM.shape[0]\n",
    "    keep = sorted(np.roll(range(num_obj),i)[:num_obj-1])\n",
    "    tmp = RDM[keep,:]\n",
    "    tmp = tmp[:,keep]   \n",
    "    return tmp\n",
    "\n"
   ]
  },
  {
   "cell_type": "code",
   "execution_count": 531,
   "metadata": {
    "collapsed": true
   },
   "outputs": [],
   "source": []
  },
  {
   "cell_type": "code",
   "execution_count": 544,
   "metadata": {
    "collapsed": true
   },
   "outputs": [],
   "source": [
    "\n"
   ]
  },
  {
   "cell_type": "code",
   "execution_count": 545,
   "metadata": {},
   "outputs": [
    {
     "data": {
      "text/plain": [
       "802816"
      ]
     },
     "execution_count": 545,
     "metadata": {},
     "output_type": "execute_result"
    }
   ],
   "source": []
  },
  {
   "cell_type": "code",
   "execution_count": 542,
   "metadata": {},
   "outputs": [
    {
     "data": {
      "text/plain": [
       "(15, 15)"
      ]
     },
     "execution_count": 542,
     "metadata": {},
     "output_type": "execute_result"
    }
   ],
   "source": [
    "nardm.shape"
   ]
  },
  {
   "cell_type": "code",
   "execution_count": null,
   "metadata": {
    "collapsed": true
   },
   "outputs": [],
   "source": []
  },
  {
   "cell_type": "code",
   "execution_count": null,
   "metadata": {
    "collapsed": true
   },
   "outputs": [],
   "source": []
  },
  {
   "cell_type": "code",
   "execution_count": null,
   "metadata": {
    "collapsed": true
   },
   "outputs": [],
   "source": []
  },
  {
   "cell_type": "code",
   "execution_count": null,
   "metadata": {
    "collapsed": true
   },
   "outputs": [],
   "source": []
  },
  {
   "cell_type": "code",
   "execution_count": null,
   "metadata": {
    "collapsed": true
   },
   "outputs": [],
   "source": []
  },
  {
   "cell_type": "code",
   "execution_count": null,
   "metadata": {
    "collapsed": true
   },
   "outputs": [],
   "source": []
  },
  {
   "cell_type": "code",
   "execution_count": null,
   "metadata": {
    "collapsed": true
   },
   "outputs": [],
   "source": []
  },
  {
   "cell_type": "code",
   "execution_count": 414,
   "metadata": {
    "collapsed": true
   },
   "outputs": [],
   "source": [
    "# ## load in kid features by layer and get consistency\n",
    "# CORR = [] ## overall \n",
    "# first_layer = 0\n",
    "# num_layers = 7\n",
    "# cohorts = ['younger','older']\n",
    "\n",
    "# for cohort in cohorts:\n",
    "#     for layer_num in np.arange(first_layer,num_layers):\n",
    "#         print('Layer {} of {}'.format(layer_num,num_layers))\n",
    "#         KF, KM = load_features('kid',layer_num)\n",
    "\n",
    "#         qats = np.unique(KM.label.values)\n",
    "#         Meta = [] # initialize adult subsampled metadata csv -- same for both halves\n",
    "#         Feat1 = [] # initialize adult subsampled feature matrix -- constitutes first half\n",
    "#         Feat2 = [] # initialize adult subsampled feature matrix -- constitutes second half\n",
    "\n",
    "#         nIter = 10\n",
    "\n",
    "#         Cor = [] ## correlation between split RDM's\n",
    "#         for it in np.arange(nIter):\n",
    "#             if it%5==0:\n",
    "#                 print('Iteration {} of {}'.format(it,nIter))\n",
    "#             for q in qats:\n",
    "#                 ind = KM.index[(KM['label'] == q) & (KM['coarse_age']==cohort)]\n",
    "#                 meta = KM.loc[ind]\n",
    "#                 meta = meta.reset_index(drop=True)\n",
    "#                 feat = KF[ind.tolist()]\n",
    "\n",
    "#                 how_many = np.floor(meta.shape[0]/2)\n",
    "\n",
    "#                 row_inds = np.random.RandomState(it).permutation(meta.shape[0])[:how_many]\n",
    "#                 metasamp = meta.loc[row_inds]\n",
    "#                 featsamp = feat[row_inds.tolist()] ## subsample first \"split-half\" feature mat\n",
    "\n",
    "#                 row_inds_2 = np.random.RandomState(it).permutation(meta.shape[0])[how_many:how_many*2] ## get the next drawings in the permuted list\n",
    "#                 featsamp2 = feat[row_inds_2.tolist()] ## subsample second \"split-half\" feature mat\n",
    "\n",
    "#                 if len(Meta)==0:\n",
    "#                     Meta = metasamp\n",
    "#                     Feat1 = featsamp\n",
    "#                     Feat2 = featsamp2\n",
    "#                 else:\n",
    "#                     Meta = pd.concat((Meta,metasamp))\n",
    "#                     Feat1 = np.vstack((Feat1,featsamp)) \n",
    "#                     Feat2 = np.vstack((Feat2,featsamp2))\n",
    "\n",
    "#             ## get class means        \n",
    "#             Meta = Meta.reset_index(drop=True)\n",
    "#             means1 = get_class_means(Feat1, Meta.label.values)\n",
    "#             means2 = get_class_means(Feat2, Meta.label.values)\n",
    "\n",
    "#             ## get RDM for each half\n",
    "#             rdm1 = get_RDM(Meta,Feat1,sort_inds)\n",
    "#             rdm2 = get_RDM(Meta,Feat2,sort_inds)\n",
    "\n",
    "#             dim = rdm1.shape[0]\n",
    "#             cor = stats.spearmanr(np.ravel(rdm1[np.triu_indices(dim,k=1)]),np.ravel(rdm2[np.triu_indices(dim,k=1)]))[0]\n",
    "#             Cor.append(cor)\n",
    "#         CORR.append(Cor)"
   ]
  },
  {
   "cell_type": "code",
   "execution_count": null,
   "metadata": {
    "collapsed": true
   },
   "outputs": [],
   "source": [
    "# CORR = np.array(CORR)\n",
    "# np.save('./rdm/kid_split_reliability_by_layer.npy',CORR)"
   ]
  },
  {
   "cell_type": "code",
   "execution_count": null,
   "metadata": {
    "collapsed": true
   },
   "outputs": [],
   "source": []
  },
  {
   "cell_type": "code",
   "execution_count": 415,
   "metadata": {
    "collapsed": true
   },
   "outputs": [],
   "source": [
    "## this is a (7,10) matrix that is num_layers x numIterations\n",
    "x = np.load('./rdm/adult_split_reliability_by_layer.npy')"
   ]
  },
  {
   "cell_type": "code",
   "execution_count": 432,
   "metadata": {
    "collapsed": true
   },
   "outputs": [],
   "source": [
    "y = x.mean(1)"
   ]
  },
  {
   "cell_type": "code",
   "execution_count": null,
   "metadata": {
    "collapsed": true
   },
   "outputs": [],
   "source": []
  },
  {
   "cell_type": "code",
   "execution_count": null,
   "metadata": {
    "collapsed": true
   },
   "outputs": [],
   "source": [
    "### check preprocessing on images\n",
    "### older-younger consistency\n",
    "### pixel rdm similarity\n",
    "### variance within classes \n"
   ]
  }
 ],
 "metadata": {
  "kernelspec": {
   "display_name": "Python 2",
   "language": "python",
   "name": "python2"
  },
  "language_info": {
   "codemirror_mode": {
    "name": "ipython",
    "version": 2
   },
   "file_extension": ".py",
   "mimetype": "text/x-python",
   "name": "python",
   "nbconvert_exporter": "python",
   "pygments_lexer": "ipython2",
   "version": "2.7.12"
  }
 },
 "nbformat": 4,
 "nbformat_minor": 1
}
