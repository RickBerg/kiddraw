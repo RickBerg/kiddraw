{
 "cells": [
  {
   "cell_type": "code",
   "execution_count": 9,
   "metadata": {
    "collapsed": true
   },
   "outputs": [],
   "source": [
    "## remember to run conn_cocolab from the terminal before running cells in this notebook!\n",
    "import os\n",
    "import urllib, cStringIO\n",
    "\n",
    "import pymongo as pm\n",
    "\n",
    "import matplotlib\n",
    "from matplotlib import pylab, mlab, pyplot\n",
    "%matplotlib inline\n",
    "from IPython.core.pylabtools import figsize, getfigs\n",
    "plt = pyplot\n",
    "import seaborn as sns\n",
    "sns.set_context('poster')\n",
    "sns.set_style('white')\n",
    "\n",
    "import numpy as np\n",
    "from __future__ import division\n",
    "import scipy.stats as stats\n",
    "\n",
    "import pandas as pd\n",
    "import json\n",
    "import re\n",
    "\n",
    "from PIL import Image\n",
    "import base64"
   ]
  },
  {
   "cell_type": "markdown",
   "metadata": {},
   "source": [
    "### vgg feature analysis "
   ]
  },
  {
   "cell_type": "code",
   "execution_count": 10,
   "metadata": {
    "collapsed": true
   },
   "outputs": [],
   "source": [
    "import torch\n",
    "import torchvision.models as models\n",
    "import torch.nn as nn\n",
    "import torchvision.transforms as transforms\n",
    "import torch.nn.functional as F\n",
    "from torch.autograd import Variable\n",
    "\n",
    "import scipy.stats as stats\n",
    "from scipy.stats import norm\n",
    "import sklearn\n",
    "from sklearn.model_selection import train_test_split, cross_val_score\n",
    "from sklearn import svm\n",
    "from sklearn import linear_model, datasets, neighbors\n",
    "\n",
    "from sklearn.cluster import AffinityPropagation\n",
    "from sklearn import metrics\n",
    "\n",
    "from glob import glob\n",
    "import os\n",
    "\n",
    "import embedding as emb\n",
    "reload(emb)\n",
    "from embedding import *"
   ]
  },
  {
   "cell_type": "code",
   "execution_count": 3,
   "metadata": {
    "collapsed": true
   },
   "outputs": [],
   "source": [
    "# retrieve sketch paths\n",
    "def list_files(path, ext='png'):\n",
    "    result = [y for x in os.walk(path) for y in glob(os.path.join(x[0], '*.%s' % ext))]\n",
    "    return result\n",
    "\n",
    "# extract metadata\n",
    "#path_to_sketches = '../sketches'\n",
    "path_to_sketches = '/home/jefan/kiddraw/analysis/museumdraw/sketches'\n",
    "\n",
    "sketch_paths = sorted(list_files(path_to_sketches))"
   ]
  },
  {
   "cell_type": "code",
   "execution_count": 4,
   "metadata": {},
   "outputs": [
    {
     "name": "stdout",
     "output_type": "stream",
     "text": [
      "Number of sketch paths = 395\n"
     ]
    }
   ],
   "source": [
    "## number of sketch paths \n",
    "print 'Number of sketch paths = {}'.format(len(sketch_paths)) ## includes some drawings we want to exclude (e.g. tests)"
   ]
  },
  {
   "cell_type": "code",
   "execution_count": 15,
   "metadata": {},
   "outputs": [
    {
     "data": {
      "text/plain": [
       "['/home/jefan/kiddraw/analysis/museumdraw/sketches/airplane/airplane_sketch_3_E1d_1513115119771.png',\n",
       " '/home/jefan/kiddraw/analysis/museumdraw/sketches/airplane/airplane_sketch_4_E1d_1513364945016.png',\n",
       " '/home/jefan/kiddraw/analysis/museumdraw/sketches/airplane/airplane_sketch_4_E1d_1513369498187.png',\n",
       " '/home/jefan/kiddraw/analysis/museumdraw/sketches/airplane/airplane_sketch_5_E1d_1513204910948.png',\n",
       " '/home/jefan/kiddraw/analysis/museumdraw/sketches/airplane/airplane_sketch_7_E1d_1513725674858.png',\n",
       " '/home/jefan/kiddraw/analysis/museumdraw/sketches/apple/apple_sketch_4_E1d_1513364307492.png',\n",
       " '/home/jefan/kiddraw/analysis/museumdraw/sketches/apple/apple_sketch_4_E1d_1513364945016.png',\n",
       " '/home/jefan/kiddraw/analysis/museumdraw/sketches/apple/apple_sketch_5_E1d_1513201166943.png',\n",
       " '/home/jefan/kiddraw/analysis/museumdraw/sketches/apple/apple_sketch_7_E1d_1513725674858.png',\n",
       " '/home/jefan/kiddraw/analysis/museumdraw/sketches/banana/banana_sketch_10_E1c_1510684833991.png',\n",
       " '/home/jefan/kiddraw/analysis/museumdraw/sketches/banana/banana_sketch_10_E1c_1511293452162.png',\n",
       " '/home/jefan/kiddraw/analysis/museumdraw/sketches/banana/banana_sketch_4_E1c_1510691847400.png',\n",
       " '/home/jefan/kiddraw/analysis/museumdraw/sketches/banana/banana_sketch_5_E1c_1510253748384.png',\n",
       " '/home/jefan/kiddraw/analysis/museumdraw/sketches/banana/banana_sketch_5_E1c_1510786719020.png',\n",
       " '/home/jefan/kiddraw/analysis/museumdraw/sketches/banana/banana_sketch_5_E1c_1511301440421.png',\n",
       " '/home/jefan/kiddraw/analysis/museumdraw/sketches/banana/banana_sketch_6_E1c_1510782034963.png',\n",
       " '/home/jefan/kiddraw/analysis/museumdraw/sketches/banana/banana_sketch_6_E1c_1511292022297.png',\n",
       " '/home/jefan/kiddraw/analysis/museumdraw/sketches/banana/banana_sketch_6_E1c_1511292286803.png',\n",
       " '/home/jefan/kiddraw/analysis/museumdraw/sketches/banana/banana_sketch_6_E1c_1511293092153.png',\n",
       " '/home/jefan/kiddraw/analysis/museumdraw/sketches/banana/banana_sketch_7_E1c_1511301009480.png',\n",
       " '/home/jefan/kiddraw/analysis/museumdraw/sketches/banana/banana_sketch_8_E1c_1510254933095.png',\n",
       " '/home/jefan/kiddraw/analysis/museumdraw/sketches/banana/banana_sketch_8_E1c_1510787010922.png',\n",
       " '/home/jefan/kiddraw/analysis/museumdraw/sketches/banana/banana_sketch_8_E1c_1510870628731.png',\n",
       " '/home/jefan/kiddraw/analysis/museumdraw/sketches/banana/banana_sketch_8_E1c_1511292658766.png',\n",
       " '/home/jefan/kiddraw/analysis/museumdraw/sketches/banana/banana_sketch_8_E1c_1511300355318.png',\n",
       " '/home/jefan/kiddraw/analysis/museumdraw/sketches/banana/banana_sketch_9_E1c_1510686242527.png',\n",
       " '/home/jefan/kiddraw/analysis/museumdraw/sketches/banana/banana_sketch__E1c_1511806224001.png',\n",
       " '/home/jefan/kiddraw/analysis/museumdraw/sketches/bear/bear_sketch_3_E1d_1513115119771.png',\n",
       " '/home/jefan/kiddraw/analysis/museumdraw/sketches/bear/bear_sketch_3_E1d_1513116523884.png',\n",
       " '/home/jefan/kiddraw/analysis/museumdraw/sketches/bear/bear_sketch_4_E1d_1513204550632.png',\n",
       " '/home/jefan/kiddraw/analysis/museumdraw/sketches/bear/bear_sketch_4_E1d_1513364307492.png',\n",
       " '/home/jefan/kiddraw/analysis/museumdraw/sketches/bear/bear_sketch_4_E1d_1513364945016.png',\n",
       " '/home/jefan/kiddraw/analysis/museumdraw/sketches/bear/bear_sketch_5_E1d_1513116902655.png',\n",
       " '/home/jefan/kiddraw/analysis/museumdraw/sketches/bear/bear_sketch_7_E1d_1513724694943.png',\n",
       " '/home/jefan/kiddraw/analysis/museumdraw/sketches/bear/bear_sketch_7_E1d_1513725674858.png',\n",
       " '/home/jefan/kiddraw/analysis/museumdraw/sketches/bed/bed_sketch_4_E1d_1513364307492.png',\n",
       " '/home/jefan/kiddraw/analysis/museumdraw/sketches/bed/bed_sketch_5_E1d_1513367044649.png',\n",
       " '/home/jefan/kiddraw/analysis/museumdraw/sketches/bed/bed_sketch_7_E1d_1512688408708.png',\n",
       " '/home/jefan/kiddraw/analysis/museumdraw/sketches/bed/bed_sketch_7_E1d_1513725674858.png',\n",
       " '/home/jefan/kiddraw/analysis/museumdraw/sketches/bike/bike_sketch_5_E1d_1513116902655.png',\n",
       " '/home/jefan/kiddraw/analysis/museumdraw/sketches/bike/bike_sketch_5_E1d_1513204910948.png',\n",
       " '/home/jefan/kiddraw/analysis/museumdraw/sketches/bike/bike_sketch_7_E1d_1512688408708.png',\n",
       " '/home/jefan/kiddraw/analysis/museumdraw/sketches/bike/bike_sketch_7_E1d_1513724694943.png',\n",
       " '/home/jefan/kiddraw/analysis/museumdraw/sketches/bike/bike_sketch_7_E1d_1513725674858.png',\n",
       " '/home/jefan/kiddraw/analysis/museumdraw/sketches/bird/bird_sketch_10_E1d_1513368898350.png',\n",
       " '/home/jefan/kiddraw/analysis/museumdraw/sketches/bird/bird_sketch_4_E1d_1513364307492.png',\n",
       " '/home/jefan/kiddraw/analysis/museumdraw/sketches/bird/bird_sketch_4_E1d_1513364945016.png',\n",
       " '/home/jefan/kiddraw/analysis/museumdraw/sketches/bird/bird_sketch_5_E1d_1513116902655.png',\n",
       " '/home/jefan/kiddraw/analysis/museumdraw/sketches/bird/bird_sketch_5_E1d_1513201166943.png',\n",
       " '/home/jefan/kiddraw/analysis/museumdraw/sketches/bird/bird_sketch_5_E1d_1513367044649.png',\n",
       " '/home/jefan/kiddraw/analysis/museumdraw/sketches/bird/bird_sketch_7_E1d_1513724694943.png',\n",
       " '/home/jefan/kiddraw/analysis/museumdraw/sketches/bird/bird_sketch_7_E1d_1513725674858.png',\n",
       " '/home/jefan/kiddraw/analysis/museumdraw/sketches/boat/boat_sketch_10_E1c_1510684833991.png',\n",
       " '/home/jefan/kiddraw/analysis/museumdraw/sketches/boat/boat_sketch_10_E1c_1511293452162.png',\n",
       " '/home/jefan/kiddraw/analysis/museumdraw/sketches/boat/boat_sketch_10_E1c_1511301807087.png',\n",
       " '/home/jefan/kiddraw/analysis/museumdraw/sketches/boat/boat_sketch_4_E1c_1510263067113.png',\n",
       " '/home/jefan/kiddraw/analysis/museumdraw/sketches/boat/boat_sketch_5_E1c_1510253748384.png',\n",
       " '/home/jefan/kiddraw/analysis/museumdraw/sketches/boat/boat_sketch_5_E1c_1510258311547.png',\n",
       " '/home/jefan/kiddraw/analysis/museumdraw/sketches/boat/boat_sketch_5_E1c_1510786719020.png',\n",
       " '/home/jefan/kiddraw/analysis/museumdraw/sketches/boat/boat_sketch_6_E1c_1510695588717.png',\n",
       " '/home/jefan/kiddraw/analysis/museumdraw/sketches/boat/boat_sketch_6_E1c_1510700570912.png',\n",
       " '/home/jefan/kiddraw/analysis/museumdraw/sketches/boat/boat_sketch_6_E1c_1510783818788.png',\n",
       " '/home/jefan/kiddraw/analysis/museumdraw/sketches/boat/boat_sketch_6_E1c_1511292286803.png',\n",
       " '/home/jefan/kiddraw/analysis/museumdraw/sketches/boat/boat_sketch_7_E1c_1511301009480.png',\n",
       " '/home/jefan/kiddraw/analysis/museumdraw/sketches/boat/boat_sketch_8_E1c_1510787010922.png',\n",
       " '/home/jefan/kiddraw/analysis/museumdraw/sketches/boat/boat_sketch_8_E1c_1510870628731.png',\n",
       " '/home/jefan/kiddraw/analysis/museumdraw/sketches/boat/boat_sketch_8_E1c_1511292658766.png',\n",
       " '/home/jefan/kiddraw/analysis/museumdraw/sketches/boat/boat_sketch_8_E1c_1511293924452.png',\n",
       " '/home/jefan/kiddraw/analysis/museumdraw/sketches/boat/boat_sketch_8_E1c_1511300355318.png',\n",
       " '/home/jefan/kiddraw/analysis/museumdraw/sketches/boat/boat_sketch_9_E1c_1510686242527.png',\n",
       " '/home/jefan/kiddraw/analysis/museumdraw/sketches/boat/boat_sketch__E1c_1510855958411.png',\n",
       " '/home/jefan/kiddraw/analysis/museumdraw/sketches/boat/boat_sketch__E1c_1510894558208.png',\n",
       " '/home/jefan/kiddraw/analysis/museumdraw/sketches/bus/bus_sketch_10_E1d_1513368898350.png',\n",
       " '/home/jefan/kiddraw/analysis/museumdraw/sketches/bus/bus_sketch_3_E1d_1513116523884.png',\n",
       " '/home/jefan/kiddraw/analysis/museumdraw/sketches/bus/bus_sketch_4_E1d_1513364307492.png',\n",
       " '/home/jefan/kiddraw/analysis/museumdraw/sketches/bus/bus_sketch_4_E1d_1513369498187.png',\n",
       " '/home/jefan/kiddraw/analysis/museumdraw/sketches/bus/bus_sketch_5_E1d_1513116902655.png',\n",
       " '/home/jefan/kiddraw/analysis/museumdraw/sketches/bus/bus_sketch_5_E1d_1513201166943.png',\n",
       " '/home/jefan/kiddraw/analysis/museumdraw/sketches/bus/bus_sketch_7_E1d_1513725674858.png',\n",
       " '/home/jefan/kiddraw/analysis/museumdraw/sketches/car/car_sketch_10_E1c_1510684833991.png',\n",
       " '/home/jefan/kiddraw/analysis/museumdraw/sketches/car/car_sketch_10_E1c_1510783638074.png',\n",
       " '/home/jefan/kiddraw/analysis/museumdraw/sketches/car/car_sketch_4_E1c_1510263067113.png',\n",
       " '/home/jefan/kiddraw/analysis/museumdraw/sketches/car/car_sketch_5_E1c_1510786719020.png',\n",
       " '/home/jefan/kiddraw/analysis/museumdraw/sketches/car/car_sketch_5_E1c_1510870384576.png',\n",
       " '/home/jefan/kiddraw/analysis/museumdraw/sketches/car/car_sketch_5_E1c_1511301440421.png',\n",
       " '/home/jefan/kiddraw/analysis/museumdraw/sketches/car/car_sketch_6_E1c_1510253415559.png',\n",
       " '/home/jefan/kiddraw/analysis/museumdraw/sketches/car/car_sketch_6_E1c_1510690510319.png',\n",
       " '/home/jefan/kiddraw/analysis/museumdraw/sketches/car/car_sketch_6_E1c_1510695588717.png',\n",
       " '/home/jefan/kiddraw/analysis/museumdraw/sketches/car/car_sketch_6_E1c_1510782034963.png',\n",
       " '/home/jefan/kiddraw/analysis/museumdraw/sketches/car/car_sketch_6_E1c_1511292022297.png',\n",
       " '/home/jefan/kiddraw/analysis/museumdraw/sketches/car/car_sketch_6_E1c_1511293092153.png',\n",
       " '/home/jefan/kiddraw/analysis/museumdraw/sketches/car/car_sketch_7_E1c_1510783353272.png',\n",
       " '/home/jefan/kiddraw/analysis/museumdraw/sketches/car/car_sketch_7_E1c_1511301009480.png',\n",
       " '/home/jefan/kiddraw/analysis/museumdraw/sketches/car/car_sketch_8_E1c_1510254933095.png',\n",
       " '/home/jefan/kiddraw/analysis/museumdraw/sketches/car/car_sketch_8_E1c_1510787010922.png',\n",
       " '/home/jefan/kiddraw/analysis/museumdraw/sketches/car/car_sketch_8_E1c_1511293754661.png',\n",
       " '/home/jefan/kiddraw/analysis/museumdraw/sketches/car/car_sketch_8_E1c_1511293924452.png',\n",
       " '/home/jefan/kiddraw/analysis/museumdraw/sketches/car/car_sketch__E1c_1511806224001.png',\n",
       " '/home/jefan/kiddraw/analysis/museumdraw/sketches/carrot/carrot_sketch_10_E1c_1510255462419.png',\n",
       " '/home/jefan/kiddraw/analysis/museumdraw/sketches/carrot/carrot_sketch_10_E1c_1510684833991.png',\n",
       " '/home/jefan/kiddraw/analysis/museumdraw/sketches/carrot/carrot_sketch_10_E1c_1511293452162.png',\n",
       " '/home/jefan/kiddraw/analysis/museumdraw/sketches/carrot/carrot_sketch_10_E1c_1511301807087.png',\n",
       " '/home/jefan/kiddraw/analysis/museumdraw/sketches/carrot/carrot_sketch_4_E1c_1510263067113.png',\n",
       " '/home/jefan/kiddraw/analysis/museumdraw/sketches/carrot/carrot_sketch_4_E1c_1510268275436.png',\n",
       " '/home/jefan/kiddraw/analysis/museumdraw/sketches/carrot/carrot_sketch_5_E1c_1510786719020.png',\n",
       " '/home/jefan/kiddraw/analysis/museumdraw/sketches/carrot/carrot_sketch_5_E1c_1511301440421.png',\n",
       " '/home/jefan/kiddraw/analysis/museumdraw/sketches/carrot/carrot_sketch_6_E1c_1510695588717.png',\n",
       " '/home/jefan/kiddraw/analysis/museumdraw/sketches/carrot/carrot_sketch_7_E1c_1510263944688.png',\n",
       " '/home/jefan/kiddraw/analysis/museumdraw/sketches/carrot/carrot_sketch_7_E1c_1510870100423.png',\n",
       " '/home/jefan/kiddraw/analysis/museumdraw/sketches/carrot/carrot_sketch_7_E1c_1511301634355.png',\n",
       " '/home/jefan/kiddraw/analysis/museumdraw/sketches/carrot/carrot_sketch_8_E1c_1510254933095.png',\n",
       " '/home/jefan/kiddraw/analysis/museumdraw/sketches/carrot/carrot_sketch_8_E1c_1511293754661.png',\n",
       " '/home/jefan/kiddraw/analysis/museumdraw/sketches/carrot/carrot_sketch_8_E1c_1511300850043.png',\n",
       " '/home/jefan/kiddraw/analysis/museumdraw/sketches/carrot/carrot_sketch_9_E1c_1510686242527.png',\n",
       " '/home/jefan/kiddraw/analysis/museumdraw/sketches/carrot/carrot_sketch_9_E1c_1510689458884.png',\n",
       " '/home/jefan/kiddraw/analysis/museumdraw/sketches/cat/cat_sketch_10_E1c_1510684833991.png',\n",
       " '/home/jefan/kiddraw/analysis/museumdraw/sketches/cat/cat_sketch_10_E1c_1510783638074.png',\n",
       " '/home/jefan/kiddraw/analysis/museumdraw/sketches/cat/cat_sketch_10_E1c_1511293452162.png',\n",
       " '/home/jefan/kiddraw/analysis/museumdraw/sketches/cat/cat_sketch_5_E1c_1510786719020.png',\n",
       " '/home/jefan/kiddraw/analysis/museumdraw/sketches/cat/cat_sketch_6_E1c_1510700570912.png',\n",
       " '/home/jefan/kiddraw/analysis/museumdraw/sketches/cat/cat_sketch_7_E1c_1510263944688.png',\n",
       " '/home/jefan/kiddraw/analysis/museumdraw/sketches/cat/cat_sketch_7_E1c_1510870100423.png',\n",
       " '/home/jefan/kiddraw/analysis/museumdraw/sketches/cat/cat_sketch_7_E1c_1511301634355.png',\n",
       " '/home/jefan/kiddraw/analysis/museumdraw/sketches/cat/cat_sketch_8_E1c_1510254933095.png',\n",
       " '/home/jefan/kiddraw/analysis/museumdraw/sketches/cat/cat_sketch_8_E1c_1510690264523.png',\n",
       " '/home/jefan/kiddraw/analysis/museumdraw/sketches/cat/cat_sketch_8_E1c_1510787010922.png',\n",
       " '/home/jefan/kiddraw/analysis/museumdraw/sketches/cat/cat_sketch_8_E1c_1510870628731.png',\n",
       " '/home/jefan/kiddraw/analysis/museumdraw/sketches/cat/cat_sketch_8_E1c_1511292658766.png',\n",
       " '/home/jefan/kiddraw/analysis/museumdraw/sketches/cat/cat_sketch_8_E1c_1511293924452.png',\n",
       " '/home/jefan/kiddraw/analysis/museumdraw/sketches/cat/cat_sketch_8_E1c_1511300355318.png',\n",
       " '/home/jefan/kiddraw/analysis/museumdraw/sketches/cat/cat_sketch_8_E1c_1511300850043.png',\n",
       " '/home/jefan/kiddraw/analysis/museumdraw/sketches/cat/cat_sketch__E1c_1511806224001.png',\n",
       " '/home/jefan/kiddraw/analysis/museumdraw/sketches/chair/chair_sketch_10_E1c_1510684833991.png',\n",
       " '/home/jefan/kiddraw/analysis/museumdraw/sketches/chair/chair_sketch_10_E1c_1511293452162.png',\n",
       " '/home/jefan/kiddraw/analysis/museumdraw/sketches/chair/chair_sketch_10_E1c_1511301807087.png',\n",
       " '/home/jefan/kiddraw/analysis/museumdraw/sketches/chair/chair_sketch_4_E1c_1510252568116.png',\n",
       " '/home/jefan/kiddraw/analysis/museumdraw/sketches/chair/chair_sketch_4_E1c_1510268275436.png',\n",
       " '/home/jefan/kiddraw/analysis/museumdraw/sketches/chair/chair_sketch_5_E1c_1510253748384.png',\n",
       " '/home/jefan/kiddraw/analysis/museumdraw/sketches/chair/chair_sketch_5_E1c_1510786719020.png',\n",
       " '/home/jefan/kiddraw/analysis/museumdraw/sketches/chair/chair_sketch_5_E1c_1510870384576.png',\n",
       " '/home/jefan/kiddraw/analysis/museumdraw/sketches/chair/chair_sketch_5_E1c_1511301440421.png',\n",
       " '/home/jefan/kiddraw/analysis/museumdraw/sketches/chair/chair_sketch_6_E1c_1510690510319.png',\n",
       " '/home/jefan/kiddraw/analysis/museumdraw/sketches/chair/chair_sketch_6_E1c_1510783818788.png',\n",
       " '/home/jefan/kiddraw/analysis/museumdraw/sketches/chair/chair_sketch_6_E1c_1511292286803.png',\n",
       " '/home/jefan/kiddraw/analysis/museumdraw/sketches/chair/chair_sketch_6_E1c_1511293092153.png',\n",
       " '/home/jefan/kiddraw/analysis/museumdraw/sketches/chair/chair_sketch_7_E1c_1510783353272.png',\n",
       " '/home/jefan/kiddraw/analysis/museumdraw/sketches/chair/chair_sketch_7_E1c_1510870100423.png',\n",
       " '/home/jefan/kiddraw/analysis/museumdraw/sketches/chair/chair_sketch_8_E1c_1510254933095.png',\n",
       " '/home/jefan/kiddraw/analysis/museumdraw/sketches/chair/chair_sketch_8_E1c_1510690264523.png',\n",
       " '/home/jefan/kiddraw/analysis/museumdraw/sketches/chair/chair_sketch_8_E1c_1510787010922.png',\n",
       " '/home/jefan/kiddraw/analysis/museumdraw/sketches/chair/chair_sketch_8_E1c_1510870628731.png',\n",
       " '/home/jefan/kiddraw/analysis/museumdraw/sketches/chair/chair_sketch_8_E1c_1511293924452.png',\n",
       " '/home/jefan/kiddraw/analysis/museumdraw/sketches/cookie/cookie_sketch_4_E1d_1513204550632.png',\n",
       " '/home/jefan/kiddraw/analysis/museumdraw/sketches/cookie/cookie_sketch_4_E1d_1513364945016.png',\n",
       " '/home/jefan/kiddraw/analysis/museumdraw/sketches/cookie/cookie_sketch_5_E1d_1513204910948.png',\n",
       " '/home/jefan/kiddraw/analysis/museumdraw/sketches/cookie/cookie_sketch_6_E1d_1512688483655.png',\n",
       " '/home/jefan/kiddraw/analysis/museumdraw/sketches/cookie/cookie_sketch_7_E1d_1513725674858.png',\n",
       " '/home/jefan/kiddraw/analysis/museumdraw/sketches/couch/couch_sketch_10_E1c_1510684833991.png',\n",
       " '/home/jefan/kiddraw/analysis/museumdraw/sketches/couch/couch_sketch_10_E1c_1511301807087.png',\n",
       " '/home/jefan/kiddraw/analysis/museumdraw/sketches/couch/couch_sketch_4_E1c_1510268275436.png',\n",
       " '/home/jefan/kiddraw/analysis/museumdraw/sketches/couch/couch_sketch_5_E1c_1510256904834.png',\n",
       " '/home/jefan/kiddraw/analysis/museumdraw/sketches/couch/couch_sketch_5_E1c_1510258311547.png',\n",
       " '/home/jefan/kiddraw/analysis/museumdraw/sketches/couch/couch_sketch_5_E1c_1510786719020.png',\n",
       " '/home/jefan/kiddraw/analysis/museumdraw/sketches/couch/couch_sketch_6_E1c_1510695588717.png',\n",
       " '/home/jefan/kiddraw/analysis/museumdraw/sketches/couch/couch_sketch_6_E1c_1510783818788.png',\n",
       " '/home/jefan/kiddraw/analysis/museumdraw/sketches/couch/couch_sketch_6_E1c_1511292022297.png',\n",
       " '/home/jefan/kiddraw/analysis/museumdraw/sketches/couch/couch_sketch_6_E1c_1511293092153.png',\n",
       " '/home/jefan/kiddraw/analysis/museumdraw/sketches/couch/couch_sketch_7_E1c_1511301634355.png',\n",
       " '/home/jefan/kiddraw/analysis/museumdraw/sketches/couch/couch_sketch_8_E1c_1510254933095.png',\n",
       " '/home/jefan/kiddraw/analysis/museumdraw/sketches/couch/couch_sketch_8_E1c_1510787010922.png',\n",
       " '/home/jefan/kiddraw/analysis/museumdraw/sketches/couch/couch_sketch_8_E1c_1510870628731.png',\n",
       " '/home/jefan/kiddraw/analysis/museumdraw/sketches/couch/couch_sketch_8_E1c_1511293754661.png',\n",
       " '/home/jefan/kiddraw/analysis/museumdraw/sketches/couch/couch_sketch_8_E1c_1511300355318.png',\n",
       " '/home/jefan/kiddraw/analysis/museumdraw/sketches/cup/cup_sketch_10_E1c_1510255462419.png',\n",
       " '/home/jefan/kiddraw/analysis/museumdraw/sketches/cup/cup_sketch_10_E1c_1510684833991.png',\n",
       " '/home/jefan/kiddraw/analysis/museumdraw/sketches/cup/cup_sketch_10_E1c_1511293452162.png',\n",
       " '/home/jefan/kiddraw/analysis/museumdraw/sketches/cup/cup_sketch_10_E1c_1511301807087.png',\n",
       " '/home/jefan/kiddraw/analysis/museumdraw/sketches/cup/cup_sketch_4_E1c_1510691847400.png',\n",
       " '/home/jefan/kiddraw/analysis/museumdraw/sketches/cup/cup_sketch_5_E1c_1510258311547.png',\n",
       " '/home/jefan/kiddraw/analysis/museumdraw/sketches/cup/cup_sketch_5_E1c_1510870384576.png',\n",
       " '/home/jefan/kiddraw/analysis/museumdraw/sketches/cup/cup_sketch_6_E1c_1510690510319.png',\n",
       " '/home/jefan/kiddraw/analysis/museumdraw/sketches/cup/cup_sketch_6_E1c_1510695588717.png',\n",
       " '/home/jefan/kiddraw/analysis/museumdraw/sketches/cup/cup_sketch_7_E1c_1511301634355.png',\n",
       " '/home/jefan/kiddraw/analysis/museumdraw/sketches/cup/cup_sketch_8_E1c_1510254933095.png',\n",
       " '/home/jefan/kiddraw/analysis/museumdraw/sketches/cup/cup_sketch_8_E1c_1510690264523.png',\n",
       " '/home/jefan/kiddraw/analysis/museumdraw/sketches/cup/cup_sketch_8_E1c_1510787010922.png',\n",
       " '/home/jefan/kiddraw/analysis/museumdraw/sketches/cup/cup_sketch_8_E1c_1510870628731.png',\n",
       " '/home/jefan/kiddraw/analysis/museumdraw/sketches/cup/cup_sketch_8_E1c_1511293924452.png',\n",
       " '/home/jefan/kiddraw/analysis/museumdraw/sketches/cup/cup_sketch_8_E1c_1511300355318.png',\n",
       " '/home/jefan/kiddraw/analysis/museumdraw/sketches/cup/cup_sketch_9_E1c_1510689458884.png',\n",
       " '/home/jefan/kiddraw/analysis/museumdraw/sketches/dog/dog_sketch_4_E1d_1513369498187.png',\n",
       " '/home/jefan/kiddraw/analysis/museumdraw/sketches/dog/dog_sketch_5_E1d_1513204910948.png',\n",
       " '/home/jefan/kiddraw/analysis/museumdraw/sketches/dog/dog_sketch_7_E1d_1513724694943.png',\n",
       " '/home/jefan/kiddraw/analysis/museumdraw/sketches/dog/dog_sketch_7_E1d_1513725674858.png',\n",
       " '/home/jefan/kiddraw/analysis/museumdraw/sketches/door/door_sketch_4_E1d_1513364307492.png',\n",
       " '/home/jefan/kiddraw/analysis/museumdraw/sketches/door/door_sketch_7_E1d_1513725674858.png',\n",
       " '/home/jefan/kiddraw/analysis/museumdraw/sketches/duck/duck_sketch_4_E1d_1513204550632.png',\n",
       " '/home/jefan/kiddraw/analysis/museumdraw/sketches/duck/duck_sketch_7_E1d_1513725674858.png',\n",
       " '/home/jefan/kiddraw/analysis/museumdraw/sketches/fish/fish_sketch_3_E1d_1513115119771.png',\n",
       " '/home/jefan/kiddraw/analysis/museumdraw/sketches/fish/fish_sketch_4_E1d_1513364945016.png',\n",
       " '/home/jefan/kiddraw/analysis/museumdraw/sketches/fish/fish_sketch_4_E1d_1513369498187.png',\n",
       " '/home/jefan/kiddraw/analysis/museumdraw/sketches/fish/fish_sketch_5_E1d_1513116902655.png',\n",
       " '/home/jefan/kiddraw/analysis/museumdraw/sketches/fish/fish_sketch_5_E1d_1513204910948.png',\n",
       " '/home/jefan/kiddraw/analysis/museumdraw/sketches/fish/fish_sketch_5_E1d_1513367044649.png',\n",
       " '/home/jefan/kiddraw/analysis/museumdraw/sketches/fish/fish_sketch_7_E1d_1513724694943.png',\n",
       " '/home/jefan/kiddraw/analysis/museumdraw/sketches/fish/fish_sketch_7_E1d_1513725674858.png',\n",
       " '/home/jefan/kiddraw/analysis/museumdraw/sketches/flower/flower_sketch_10_E1c_1510684833991.png',\n",
       " '/home/jefan/kiddraw/analysis/museumdraw/sketches/flower/flower_sketch_10_E1c_1510783638074.png',\n",
       " '/home/jefan/kiddraw/analysis/museumdraw/sketches/flower/flower_sketch_10_E1c_1511293452162.png',\n",
       " '/home/jefan/kiddraw/analysis/museumdraw/sketches/flower/flower_sketch_4_E1c_1510691847400.png',\n",
       " '/home/jefan/kiddraw/analysis/museumdraw/sketches/flower/flower_sketch_5_E1c_1510253748384.png',\n",
       " '/home/jefan/kiddraw/analysis/museumdraw/sketches/flower/flower_sketch_5_E1c_1510786719020.png',\n",
       " '/home/jefan/kiddraw/analysis/museumdraw/sketches/flower/flower_sketch_6_E1c_1510700570912.png',\n",
       " '/home/jefan/kiddraw/analysis/museumdraw/sketches/flower/flower_sketch_7_E1c_1510783353272.png',\n",
       " '/home/jefan/kiddraw/analysis/museumdraw/sketches/flower/flower_sketch_7_E1c_1510870100423.png',\n",
       " '/home/jefan/kiddraw/analysis/museumdraw/sketches/flower/flower_sketch_7_E1c_1511301009480.png',\n",
       " '/home/jefan/kiddraw/analysis/museumdraw/sketches/flower/flower_sketch_8_E1c_1510254933095.png',\n",
       " '/home/jefan/kiddraw/analysis/museumdraw/sketches/flower/flower_sketch_8_E1c_1510262448790.png',\n",
       " '/home/jefan/kiddraw/analysis/museumdraw/sketches/flower/flower_sketch_8_E1c_1510787010922.png',\n",
       " '/home/jefan/kiddraw/analysis/museumdraw/sketches/flower/flower_sketch_8_E1c_1510870628731.png',\n",
       " '/home/jefan/kiddraw/analysis/museumdraw/sketches/flower/flower_sketch_8_E1c_1511292658766.png',\n",
       " '/home/jefan/kiddraw/analysis/museumdraw/sketches/flower/flower_sketch_8_E1c_1511293754661.png',\n",
       " '/home/jefan/kiddraw/analysis/museumdraw/sketches/flower/flower_sketch_8_E1c_1511293924452.png',\n",
       " '/home/jefan/kiddraw/analysis/museumdraw/sketches/flower/flower_sketch_8_E1c_1511300355318.png',\n",
       " '/home/jefan/kiddraw/analysis/museumdraw/sketches/flower/flower_sketch_8_E1c_1511300850043.png',\n",
       " '/home/jefan/kiddraw/analysis/museumdraw/sketches/flower/flower_sketch_9_E1c_1510689458884.png',\n",
       " '/home/jefan/kiddraw/analysis/museumdraw/sketches/foot/foot_sketch_10_E1c_1510684833991.png',\n",
       " '/home/jefan/kiddraw/analysis/museumdraw/sketches/foot/foot_sketch_10_E1c_1510783638074.png',\n",
       " '/home/jefan/kiddraw/analysis/museumdraw/sketches/foot/foot_sketch_4_E1c_1510252568116.png',\n",
       " '/home/jefan/kiddraw/analysis/museumdraw/sketches/foot/foot_sketch_4_E1c_1510691847400.png',\n",
       " '/home/jefan/kiddraw/analysis/museumdraw/sketches/foot/foot_sketch_5_E1c_1510256904834.png',\n",
       " '/home/jefan/kiddraw/analysis/museumdraw/sketches/foot/foot_sketch_5_E1c_1510258311547.png',\n",
       " '/home/jefan/kiddraw/analysis/museumdraw/sketches/foot/foot_sketch_5_E1c_1510786719020.png',\n",
       " '/home/jefan/kiddraw/analysis/museumdraw/sketches/foot/foot_sketch_5_E1c_1511301440421.png',\n",
       " '/home/jefan/kiddraw/analysis/museumdraw/sketches/foot/foot_sketch_6_E1c_1510782034963.png',\n",
       " '/home/jefan/kiddraw/analysis/museumdraw/sketches/foot/foot_sketch_6_E1c_1511292022297.png',\n",
       " '/home/jefan/kiddraw/analysis/museumdraw/sketches/foot/foot_sketch_6_E1c_1511292286803.png',\n",
       " '/home/jefan/kiddraw/analysis/museumdraw/sketches/foot/foot_sketch_8_E1c_1510254933095.png',\n",
       " '/home/jefan/kiddraw/analysis/museumdraw/sketches/foot/foot_sketch_8_E1c_1510262448790.png',\n",
       " '/home/jefan/kiddraw/analysis/museumdraw/sketches/foot/foot_sketch_8_E1c_1510690264523.png',\n",
       " '/home/jefan/kiddraw/analysis/museumdraw/sketches/foot/foot_sketch_8_E1c_1510787010922.png',\n",
       " '/home/jefan/kiddraw/analysis/museumdraw/sketches/foot/foot_sketch_8_E1c_1511293754661.png',\n",
       " '/home/jefan/kiddraw/analysis/museumdraw/sketches/fork/fork_sketch_10_E1d_1513368898350.png',\n",
       " '/home/jefan/kiddraw/analysis/museumdraw/sketches/fork/fork_sketch_4_E1d_1513364945016.png',\n",
       " '/home/jefan/kiddraw/analysis/museumdraw/sketches/fork/fork_sketch_5_E1d_1513367044649.png',\n",
       " '/home/jefan/kiddraw/analysis/museumdraw/sketches/fork/fork_sketch_7_E1d_1513725674858.png',\n",
       " '/home/jefan/kiddraw/analysis/museumdraw/sketches/frog/frog_sketch_10_E1c_1510255462419.png',\n",
       " '/home/jefan/kiddraw/analysis/museumdraw/sketches/frog/frog_sketch_10_E1c_1510684833991.png',\n",
       " '/home/jefan/kiddraw/analysis/museumdraw/sketches/frog/frog_sketch_10_E1c_1511293452162.png',\n",
       " '/home/jefan/kiddraw/analysis/museumdraw/sketches/frog/frog_sketch_5_E1c_1510256904834.png',\n",
       " '/home/jefan/kiddraw/analysis/museumdraw/sketches/frog/frog_sketch_5_E1c_1510258311547.png',\n",
       " '/home/jefan/kiddraw/analysis/museumdraw/sketches/frog/frog_sketch_6_E1c_1510700570912.png',\n",
       " '/home/jefan/kiddraw/analysis/museumdraw/sketches/frog/frog_sketch_6_E1c_1510782034963.png',\n",
       " '/home/jefan/kiddraw/analysis/museumdraw/sketches/frog/frog_sketch_6_E1c_1511293092153.png',\n",
       " '/home/jefan/kiddraw/analysis/museumdraw/sketches/frog/frog_sketch_7_E1c_1510263944688.png',\n",
       " '/home/jefan/kiddraw/analysis/museumdraw/sketches/frog/frog_sketch_8_E1c_1510262448790.png',\n",
       " '/home/jefan/kiddraw/analysis/museumdraw/sketches/frog/frog_sketch_8_E1c_1510690264523.png',\n",
       " '/home/jefan/kiddraw/analysis/museumdraw/sketches/frog/frog_sketch_8_E1c_1510787010922.png',\n",
       " '/home/jefan/kiddraw/analysis/museumdraw/sketches/frog/frog_sketch_8_E1c_1510870628731.png',\n",
       " '/home/jefan/kiddraw/analysis/museumdraw/sketches/frog/frog_sketch_8_E1c_1511293754661.png',\n",
       " '/home/jefan/kiddraw/analysis/museumdraw/sketches/frog/frog_sketch_8_E1c_1511293924452.png',\n",
       " '/home/jefan/kiddraw/analysis/museumdraw/sketches/frog/frog_sketch__E1c_1511806224001.png',\n",
       " '/home/jefan/kiddraw/analysis/museumdraw/sketches/hat/hat_sketch_10_E1d_1513368898350.png',\n",
       " '/home/jefan/kiddraw/analysis/museumdraw/sketches/hat/hat_sketch_4_E1d_1513204550632.png',\n",
       " '/home/jefan/kiddraw/analysis/museumdraw/sketches/hat/hat_sketch_4_E1d_1513364307492.png',\n",
       " '/home/jefan/kiddraw/analysis/museumdraw/sketches/hat/hat_sketch_4_E1d_1513365381928.png',\n",
       " '/home/jefan/kiddraw/analysis/museumdraw/sketches/hat/hat_sketch_6_E1d_1512688483655.png',\n",
       " '/home/jefan/kiddraw/analysis/museumdraw/sketches/hat/hat_sketch_7_E1d_1513725674858.png',\n",
       " '/home/jefan/kiddraw/analysis/museumdraw/sketches/horse/horse_sketch_7_E1d_1513725674858.png',\n",
       " '/home/jefan/kiddraw/analysis/museumdraw/sketches/ice cream/ice cream_sketch_10_E1c_1510684833991.png',\n",
       " '/home/jefan/kiddraw/analysis/museumdraw/sketches/ice cream/ice cream_sketch_10_E1c_1510783638074.png',\n",
       " '/home/jefan/kiddraw/analysis/museumdraw/sketches/ice cream/ice cream_sketch_4_E1c_1510691847400.png',\n",
       " '/home/jefan/kiddraw/analysis/museumdraw/sketches/ice cream/ice cream_sketch_5_E1c_1510253748384.png',\n",
       " '/home/jefan/kiddraw/analysis/museumdraw/sketches/ice cream/ice cream_sketch_5_E1c_1510870384576.png',\n",
       " '/home/jefan/kiddraw/analysis/museumdraw/sketches/ice cream/ice cream_sketch_5_E1c_1511301440421.png',\n",
       " '/home/jefan/kiddraw/analysis/museumdraw/sketches/ice cream/ice cream_sketch_6_E1c_1510690510319.png',\n",
       " '/home/jefan/kiddraw/analysis/museumdraw/sketches/ice cream/ice cream_sketch_6_E1c_1510700570912.png',\n",
       " '/home/jefan/kiddraw/analysis/museumdraw/sketches/ice cream/ice cream_sketch_6_E1c_1511292286803.png',\n",
       " '/home/jefan/kiddraw/analysis/museumdraw/sketches/ice cream/ice cream_sketch_7_E1c_1510870100423.png',\n",
       " '/home/jefan/kiddraw/analysis/museumdraw/sketches/ice cream/ice cream_sketch_7_E1c_1511301634355.png',\n",
       " '/home/jefan/kiddraw/analysis/museumdraw/sketches/ice cream/ice cream_sketch_8_E1c_1510254933095.png',\n",
       " '/home/jefan/kiddraw/analysis/museumdraw/sketches/ice cream/ice cream_sketch_8_E1c_1510262448790.png',\n",
       " '/home/jefan/kiddraw/analysis/museumdraw/sketches/ice cream/ice cream_sketch_8_E1c_1510787010922.png',\n",
       " '/home/jefan/kiddraw/analysis/museumdraw/sketches/ice cream/ice cream_sketch_8_E1c_1511293754661.png',\n",
       " '/home/jefan/kiddraw/analysis/museumdraw/sketches/ice cream/ice cream_sketch_8_E1c_1511300355318.png',\n",
       " '/home/jefan/kiddraw/analysis/museumdraw/sketches/ice cream/ice cream_sketch_8_E1c_1511300850043.png',\n",
       " '/home/jefan/kiddraw/analysis/museumdraw/sketches/keys/keys_sketch_10_E1d_1513368898350.png',\n",
       " '/home/jefan/kiddraw/analysis/museumdraw/sketches/keys/keys_sketch_4_E1d_1513204550632.png',\n",
       " '/home/jefan/kiddraw/analysis/museumdraw/sketches/keys/keys_sketch_4_E1d_1513364307492.png',\n",
       " '/home/jefan/kiddraw/analysis/museumdraw/sketches/keys/keys_sketch_7_E1d_1513724694943.png',\n",
       " '/home/jefan/kiddraw/analysis/museumdraw/sketches/keys/keys_sketch_7_E1d_1513725674858.png',\n",
       " '/home/jefan/kiddraw/analysis/museumdraw/sketches/mushroom/mushroom_sketch_7_E1d_1513725674858.png',\n",
       " '/home/jefan/kiddraw/analysis/museumdraw/sketches/phone/phone_sketch_10_E1c_1510684833991.png',\n",
       " '/home/jefan/kiddraw/analysis/museumdraw/sketches/phone/phone_sketch_10_E1c_1510783638074.png',\n",
       " '/home/jefan/kiddraw/analysis/museumdraw/sketches/phone/phone_sketch_10_E1c_1511293452162.png',\n",
       " '/home/jefan/kiddraw/analysis/museumdraw/sketches/phone/phone_sketch_4_E1c_1510252568116.png',\n",
       " '/home/jefan/kiddraw/analysis/museumdraw/sketches/phone/phone_sketch_5_E1c_1511301440421.png',\n",
       " '/home/jefan/kiddraw/analysis/museumdraw/sketches/phone/phone_sketch_6_E1c_1510690510319.png',\n",
       " '/home/jefan/kiddraw/analysis/museumdraw/sketches/phone/phone_sketch_6_E1c_1510782034963.png',\n",
       " '/home/jefan/kiddraw/analysis/museumdraw/sketches/phone/phone_sketch_6_E1c_1510783818788.png',\n",
       " '/home/jefan/kiddraw/analysis/museumdraw/sketches/phone/phone_sketch_7_E1c_1510263944688.png',\n",
       " '/home/jefan/kiddraw/analysis/museumdraw/sketches/phone/phone_sketch_7_E1c_1510783353272.png',\n",
       " '/home/jefan/kiddraw/analysis/museumdraw/sketches/phone/phone_sketch_7_E1c_1510870100423.png',\n",
       " '/home/jefan/kiddraw/analysis/museumdraw/sketches/phone/phone_sketch_7_E1c_1511301009480.png',\n",
       " '/home/jefan/kiddraw/analysis/museumdraw/sketches/phone/phone_sketch_7_E1c_1511301634355.png',\n",
       " '/home/jefan/kiddraw/analysis/museumdraw/sketches/phone/phone_sketch_8_E1c_1510254933095.png',\n",
       " '/home/jefan/kiddraw/analysis/museumdraw/sketches/phone/phone_sketch_8_E1c_1510690264523.png',\n",
       " '/home/jefan/kiddraw/analysis/museumdraw/sketches/phone/phone_sketch_8_E1c_1510870628731.png',\n",
       " '/home/jefan/kiddraw/analysis/museumdraw/sketches/phone/phone_sketch_8_E1c_1511293924452.png',\n",
       " '/home/jefan/kiddraw/analysis/museumdraw/sketches/phone/phone_sketch_8_E1c_1511300850043.png',\n",
       " '/home/jefan/kiddraw/analysis/museumdraw/sketches/piano/piano_sketch_4_E1d_1513364307492.png',\n",
       " '/home/jefan/kiddraw/analysis/museumdraw/sketches/piano/piano_sketch_5_E1d_1513116902655.png',\n",
       " '/home/jefan/kiddraw/analysis/museumdraw/sketches/piano/piano_sketch_5_E1d_1513367044649.png',\n",
       " '/home/jefan/kiddraw/analysis/museumdraw/sketches/piano/piano_sketch_6_E1d_1512688483655.png',\n",
       " '/home/jefan/kiddraw/analysis/museumdraw/sketches/piano/piano_sketch_7_E1d_1513725674858.png',\n",
       " '/home/jefan/kiddraw/analysis/museumdraw/sketches/rabbit/rabbit_sketch_10_E1c_1510684833991.png',\n",
       " '/home/jefan/kiddraw/analysis/museumdraw/sketches/rabbit/rabbit_sketch_10_E1c_1511293452162.png',\n",
       " '/home/jefan/kiddraw/analysis/museumdraw/sketches/rabbit/rabbit_sketch_4_E1c_1510263067113.png',\n",
       " '/home/jefan/kiddraw/analysis/museumdraw/sketches/rabbit/rabbit_sketch_4_E1c_1510691847400.png',\n",
       " '/home/jefan/kiddraw/analysis/museumdraw/sketches/rabbit/rabbit_sketch_5_E1c_1510256904834.png',\n",
       " '/home/jefan/kiddraw/analysis/museumdraw/sketches/rabbit/rabbit_sketch_5_E1c_1510786719020.png',\n",
       " '/home/jefan/kiddraw/analysis/museumdraw/sketches/rabbit/rabbit_sketch_6_E1c_1510253415559.png',\n",
       " '/home/jefan/kiddraw/analysis/museumdraw/sketches/rabbit/rabbit_sketch_6_E1c_1510783818788.png',\n",
       " '/home/jefan/kiddraw/analysis/museumdraw/sketches/rabbit/rabbit_sketch_6_E1c_1511292022297.png',\n",
       " '/home/jefan/kiddraw/analysis/museumdraw/sketches/rabbit/rabbit_sketch_6_E1c_1511292286803.png',\n",
       " '/home/jefan/kiddraw/analysis/museumdraw/sketches/rabbit/rabbit_sketch_6_E1c_1511293092153.png',\n",
       " '/home/jefan/kiddraw/analysis/museumdraw/sketches/rabbit/rabbit_sketch_7_E1c_1510870100423.png',\n",
       " '/home/jefan/kiddraw/analysis/museumdraw/sketches/rabbit/rabbit_sketch_7_E1c_1511301009480.png',\n",
       " '/home/jefan/kiddraw/analysis/museumdraw/sketches/rabbit/rabbit_sketch_8_E1c_1510254933095.png',\n",
       " '/home/jefan/kiddraw/analysis/museumdraw/sketches/rabbit/rabbit_sketch_8_E1c_1510690264523.png',\n",
       " '/home/jefan/kiddraw/analysis/museumdraw/sketches/rabbit/rabbit_sketch_8_E1c_1510787010922.png',\n",
       " '/home/jefan/kiddraw/analysis/museumdraw/sketches/rabbit/rabbit_sketch_8_E1c_1510870628731.png',\n",
       " '/home/jefan/kiddraw/analysis/museumdraw/sketches/rabbit/rabbit_sketch_8_E1c_1511293924452.png',\n",
       " '/home/jefan/kiddraw/analysis/museumdraw/sketches/rabbit/rabbit_sketch_8_E1c_1511300355318.png',\n",
       " '/home/jefan/kiddraw/analysis/museumdraw/sketches/rabbit/rabbit_sketch_8_E1c_1511300850043.png',\n",
       " '/home/jefan/kiddraw/analysis/museumdraw/sketches/rabbit/rabbit_sketch_9_E1c_1510686242527.png',\n",
       " '/home/jefan/kiddraw/analysis/museumdraw/sketches/rabbit/rabbit_sketch__E1c_1510894558208.png',\n",
       " '/home/jefan/kiddraw/analysis/museumdraw/sketches/shark/shark_sketch_10_E1d_1513368898350.png',\n",
       " '/home/jefan/kiddraw/analysis/museumdraw/sketches/shark/shark_sketch_5_E1d_1513116902655.png',\n",
       " '/home/jefan/kiddraw/analysis/museumdraw/sketches/shark/shark_sketch_5_E1d_1513367044649.png',\n",
       " '/home/jefan/kiddraw/analysis/museumdraw/sketches/shark/shark_sketch_7_E1d_1513725674858.png',\n",
       " '/home/jefan/kiddraw/analysis/museumdraw/sketches/shark/shark_sketch__E1d_1512536288731.png',\n",
       " '/home/jefan/kiddraw/analysis/museumdraw/sketches/sheep/sheep_sketch_10_E1d_1513368898350.png',\n",
       " '/home/jefan/kiddraw/analysis/museumdraw/sketches/sheep/sheep_sketch_5_E1d_1513116902655.png',\n",
       " '/home/jefan/kiddraw/analysis/museumdraw/sketches/sheep/sheep_sketch_5_E1d_1513204910948.png',\n",
       " '/home/jefan/kiddraw/analysis/museumdraw/sketches/sheep/sheep_sketch_5_E1d_1513367044649.png',\n",
       " '/home/jefan/kiddraw/analysis/museumdraw/sketches/sheep/sheep_sketch_7_E1d_1513725674858.png',\n",
       " '/home/jefan/kiddraw/analysis/museumdraw/sketches/shoe/shoe_sketch_10_E1c_1510255462419.png',\n",
       " '/home/jefan/kiddraw/analysis/museumdraw/sketches/shoe/shoe_sketch_10_E1c_1510684833991.png',\n",
       " '/home/jefan/kiddraw/analysis/museumdraw/sketches/shoe/shoe_sketch_10_E1c_1511293452162.png',\n",
       " '/home/jefan/kiddraw/analysis/museumdraw/sketches/shoe/shoe_sketch_10_E1c_1511301807087.png',\n",
       " '/home/jefan/kiddraw/analysis/museumdraw/sketches/shoe/shoe_sketch_5_E1c_1510256904834.png',\n",
       " '/home/jefan/kiddraw/analysis/museumdraw/sketches/shoe/shoe_sketch_5_E1c_1510786719020.png',\n",
       " '/home/jefan/kiddraw/analysis/museumdraw/sketches/shoe/shoe_sketch_5_E1c_1510870384576.png',\n",
       " '/home/jefan/kiddraw/analysis/museumdraw/sketches/shoe/shoe_sketch_6_E1c_1510695588717.png',\n",
       " '/home/jefan/kiddraw/analysis/museumdraw/sketches/shoe/shoe_sketch_6_E1c_1510700570912.png',\n",
       " '/home/jefan/kiddraw/analysis/museumdraw/sketches/shoe/shoe_sketch_6_E1c_1511292022297.png',\n",
       " '/home/jefan/kiddraw/analysis/museumdraw/sketches/shoe/shoe_sketch_6_E1c_1511292286803.png',\n",
       " '/home/jefan/kiddraw/analysis/museumdraw/sketches/shoe/shoe_sketch_7_E1c_1510263944688.png',\n",
       " '/home/jefan/kiddraw/analysis/museumdraw/sketches/shoe/shoe_sketch_7_E1c_1511301634355.png',\n",
       " '/home/jefan/kiddraw/analysis/museumdraw/sketches/shoe/shoe_sketch_8_E1c_1510254933095.png',\n",
       " '/home/jefan/kiddraw/analysis/museumdraw/sketches/shoe/shoe_sketch_8_E1c_1510262448790.png',\n",
       " '/home/jefan/kiddraw/analysis/museumdraw/sketches/shoe/shoe_sketch_8_E1c_1510787010922.png',\n",
       " '/home/jefan/kiddraw/analysis/museumdraw/sketches/shoe/shoe_sketch_8_E1c_1510870628731.png',\n",
       " '/home/jefan/kiddraw/analysis/museumdraw/sketches/shoe/shoe_sketch_8_E1c_1511300355318.png',\n",
       " '/home/jefan/kiddraw/analysis/museumdraw/sketches/spider/spider_sketch_7_E1d_1513725674858.png',\n",
       " '/home/jefan/kiddraw/analysis/museumdraw/sketches/table/table_sketch_10_E1d_1513368898350.png',\n",
       " '/home/jefan/kiddraw/analysis/museumdraw/sketches/table/table_sketch_3_E1d_1513115119771.png',\n",
       " '/home/jefan/kiddraw/analysis/museumdraw/sketches/table/table_sketch_4_E1d_1513364307492.png',\n",
       " '/home/jefan/kiddraw/analysis/museumdraw/sketches/table/table_sketch_5_E1d_1513116902655.png',\n",
       " '/home/jefan/kiddraw/analysis/museumdraw/sketches/table/table_sketch_6_E1d_1512688483655.png',\n",
       " '/home/jefan/kiddraw/analysis/museumdraw/sketches/table/table_sketch_7_E1d_1513725674858.png',\n",
       " '/home/jefan/kiddraw/analysis/museumdraw/sketches/train/train_sketch_10_E1c_1510684833991.png',\n",
       " '/home/jefan/kiddraw/analysis/museumdraw/sketches/train/train_sketch_10_E1c_1511293452162.png',\n",
       " '/home/jefan/kiddraw/analysis/museumdraw/sketches/train/train_sketch_10_E1c_1511301807087.png',\n",
       " '/home/jefan/kiddraw/analysis/museumdraw/sketches/train/train_sketch_4_E1c_1510268275436.png',\n",
       " '/home/jefan/kiddraw/analysis/museumdraw/sketches/train/train_sketch_5_E1c_1510253748384.png',\n",
       " '/home/jefan/kiddraw/analysis/museumdraw/sketches/train/train_sketch_5_E1c_1510258311547.png',\n",
       " '/home/jefan/kiddraw/analysis/museumdraw/sketches/train/train_sketch_5_E1c_1510786719020.png',\n",
       " '/home/jefan/kiddraw/analysis/museumdraw/sketches/train/train_sketch_5_E1c_1510870384576.png',\n",
       " '/home/jefan/kiddraw/analysis/museumdraw/sketches/train/train_sketch_6_E1c_1510253415559.png',\n",
       " '/home/jefan/kiddraw/analysis/museumdraw/sketches/train/train_sketch_6_E1c_1510690510319.png',\n",
       " '/home/jefan/kiddraw/analysis/museumdraw/sketches/train/train_sketch_6_E1c_1510700570912.png',\n",
       " '/home/jefan/kiddraw/analysis/museumdraw/sketches/train/train_sketch_6_E1c_1510782034963.png',\n",
       " '/home/jefan/kiddraw/analysis/museumdraw/sketches/train/train_sketch_6_E1c_1510783818788.png',\n",
       " '/home/jefan/kiddraw/analysis/museumdraw/sketches/train/train_sketch_6_E1c_1511292022297.png',\n",
       " '/home/jefan/kiddraw/analysis/museumdraw/sketches/train/train_sketch_6_E1c_1511292286803.png',\n",
       " '/home/jefan/kiddraw/analysis/museumdraw/sketches/train/train_sketch_6_E1c_1511293092153.png',\n",
       " '/home/jefan/kiddraw/analysis/museumdraw/sketches/train/train_sketch_7_E1c_1510263944688.png',\n",
       " '/home/jefan/kiddraw/analysis/museumdraw/sketches/train/train_sketch_7_E1c_1510783353272.png',\n",
       " '/home/jefan/kiddraw/analysis/museumdraw/sketches/train/train_sketch_7_E1c_1510870100423.png',\n",
       " '/home/jefan/kiddraw/analysis/museumdraw/sketches/train/train_sketch_8_E1c_1510787010922.png',\n",
       " '/home/jefan/kiddraw/analysis/museumdraw/sketches/train/train_sketch_8_E1c_1510870628731.png',\n",
       " '/home/jefan/kiddraw/analysis/museumdraw/sketches/train/train_sketch_8_E1c_1511300355318.png',\n",
       " '/home/jefan/kiddraw/analysis/museumdraw/sketches/train/train_sketch_9_E1c_1510689458884.png']"
      ]
     },
     "execution_count": 15,
     "metadata": {},
     "output_type": "execute_result"
    }
   ],
   "source": [
    "sketch_paths"
   ]
  },
  {
   "cell_type": "markdown",
   "metadata": {},
   "source": [
    "## extract features"
   ]
  },
  {
   "cell_type": "markdown",
   "metadata": {},
   "source": [
    "**Dec 28 2017 (updated Jan 14 2018):** <br>\n",
    " - From command line, extract features using `extract_features.py`. The default arguments are for the kid's drawings. <br>\n",
    " - To extract kid's drawings, just run: `python extract_features.py` <br>\n",
    " - To extract (mini verison of) adult drawings, run: `python extract_features.py --data='/data2/jefan/quickDraw/png_mini' --layer_ind=6 --cohort='adult'`"
   ]
  },
  {
   "cell_type": "code",
   "execution_count": 11,
   "metadata": {
    "collapsed": true
   },
   "outputs": [],
   "source": [
    "# z-score normalization to \"center\" the sketch embeddings\n",
    "def normalize(X):\n",
    "    X = X - X.mean(0)\n",
    "    X = X / np.maximum(X.std(0), 1e-5)\n",
    "    return X\n",
    "\n",
    "def get_class_means(X, labels):    \n",
    "    # load in and normalize features \n",
    "    _mu = np.zeros((len(np.unique(labels)), np.shape(X)[1]))        \n",
    "    X = normalize(X)\n",
    "    for vi, v in enumerate(np.unique(np.asarray(labels))):\n",
    "        Xv = X[labels == v]\n",
    "        nv = float(Xv.shape[0])\n",
    "        if nv > 0:\n",
    "            _mu[vi] = Xv.mean(0)\n",
    "    return _mu\n",
    "\n",
    "def normalize_RDM(MAT):\n",
    "    X = MAT - MAT.mean(0).mean(0)\n",
    "    X = X / np.maximum(MAT.std(0).std(0), 1e-5)\n",
    "    return X\n",
    "\n",
    "def plot_rdm_by_class(Features,X,layer_num):\n",
    "    layers = ['P1','P2','P3','P4','P5','FC6','FC7']        \n",
    "    sns.set_style('white')\n",
    "    fig = plt.figure(figsize=(6,6))\n",
    "    labels = X.label.values\n",
    "    means = get_class_means(Features, labels)\n",
    "    CORRMAT = np.corrcoef(means)\n",
    "    plt.matshow(CORRMAT)\n",
    "    plt.colorbar()\n",
    "    if not os.path.exists('./plots'):\n",
    "        os.makedirs('./plots')\n",
    "    plt.savefig('./plots/RDM_by_view_{}.pdf'.format(layers[layer_num]))\n",
    "    \n",
    "def load_features(cohort, layer_num):\n",
    "    layers = ['P1','P2','P3','P4','P5','FC6','FC7','pixels']            \n",
    "    F = np.load('/home/jefan/kiddraw/analysis/museumdraw/python/features/FEATURES_{}_{}.npy'.format(layers[layer_num],cohort))\n",
    "    M = pd.read_csv('/home/jefan/kiddraw/analysis/museumdraw/python/features/METADATA_{}.csv'.format(cohort)) \n",
    "    M = M[['label','age','session']]\n",
    "    return F, M\n",
    "\n",
    "def remove_practice_trials(KF,KM):\n",
    "    '''\n",
    "    remove \"circle\" and \"triangle\" trials from dataset\n",
    "    '''\n",
    "    practice_objects = ['circle','triangle']\n",
    "    _KF = KF[~KM['label'].isin(practice_objects),:]\n",
    "    _KM = KM[~KM['label'].isin(practice_objects)]\n",
    "    return _KF, _KM"
   ]
  },
  {
   "cell_type": "code",
   "execution_count": null,
   "metadata": {
    "collapsed": true
   },
   "outputs": [],
   "source": []
  },
  {
   "cell_type": "code",
   "execution_count": 12,
   "metadata": {},
   "outputs": [],
   "source": [
    "## load in kid features\n",
    "KF, KM = load_features('kid',7) ## pixels\n",
    "\n",
    "KF, KM = remove_practice_trials(KF, KM)\n",
    "KM = KM.reset_index(drop=True)\n",
    "\n"
   ]
  },
  {
   "cell_type": "code",
   "execution_count": 13,
   "metadata": {},
   "outputs": [
    {
     "data": {
      "text/plain": [
       "array([[ 0.05150262,  0.05150262,  0.05150262, ...,  0.05915962,\n",
       "         0.05170473,  0.05309668],\n",
       "       [ 0.05150262,  0.05150262,  0.05150262, ...,  0.05915962,\n",
       "         0.05170473,  0.05309668],\n",
       "       [ 0.05150262,  0.05150262,  0.05150262, ...,  0.05915962,\n",
       "         0.05170473,  0.05309668],\n",
       "       ..., \n",
       "       [ 0.05150262,  0.05150262,  0.05150262, ...,  0.05915962,\n",
       "         0.05170473,  0.05309668],\n",
       "       [ 0.05150262,  0.05150262,  0.05150262, ...,  0.05915962,\n",
       "         0.05170473,  0.05309668],\n",
       "       [ 0.05150262,  0.05150262,  0.05150262, ...,  0.05915962,\n",
       "         0.05170473,  0.05309668]])"
      ]
     },
     "execution_count": 13,
     "metadata": {},
     "output_type": "execute_result"
    }
   ],
   "source": []
  },
  {
   "cell_type": "code",
   "execution_count": null,
   "metadata": {
    "collapsed": true
   },
   "outputs": [],
   "source": []
  },
  {
   "cell_type": "markdown",
   "metadata": {},
   "source": [
    "### quick classification test"
   ]
  },
  {
   "cell_type": "code",
   "execution_count": null,
   "metadata": {
    "collapsed": true
   },
   "outputs": [],
   "source": []
  },
  {
   "cell_type": "code",
   "execution_count": 14,
   "metadata": {},
   "outputs": [
    {
     "name": "stdout",
     "output_type": "stream",
     "text": [
      "We have 35 labels that are common to both younger and older kid cohorts.\n",
      "We have 15 classes with sufficient data.\n"
     ]
    }
   ],
   "source": [
    "## add additional column that coarse grains age\n",
    "def coarse_grain_age(row):\n",
    "    if row['age'] > 6:\n",
    "        val = 'older'\n",
    "    elif row['age'] <= 6:\n",
    "        val = 'younger'\n",
    "    return val\n",
    "\n",
    "KM['coarse_age'] = KM.apply(coarse_grain_age, axis=1)\n",
    "\n",
    "## subset labels that have at least some drawings of them from each age category\n",
    "younger_labels = KM[KM['coarse_age'] == 'younger']['label'].values\n",
    "older_labels = KM[KM['coarse_age'] == 'older']['label'].values\n",
    "## list of labels that are in both younger and older age categories\n",
    "common_labels = list(np.intersect1d(younger_labels,older_labels))\n",
    "\n",
    "print 'We have {} labels that are common to both younger and older kid cohorts.'.format(len(common_labels))\n",
    "\n",
    "def subset_labels(F,M, labels):\n",
    "    '''\n",
    "    if labels == common_labels, then only include labels that are common to younger and older cohort\n",
    "    if labels == sufficient_data_labels, then subset by list of labels in which we have 'sufficient data', i.e., have >=thresh drawings/class\n",
    "    '''\n",
    "    _F = F[M['label'].isin(labels),:]\n",
    "    _M = M[M['label'].isin(labels)]\n",
    "    return _F, _M\n",
    "\n",
    "## get list of labels in which we have 'sufficient data', i.e., have >=5 drawings/class\n",
    "thresh = 3\n",
    "sufficient_data_labels = [] \n",
    "for cl in common_labels:\n",
    "    num_young_sketches = len(np.where(KM[KM.label==cl]['coarse_age'].values=='younger')[0])\n",
    "    num_older_sketches = len(np.where(KM[KM.label==cl]['coarse_age'].values=='older')[0])\n",
    "    if (num_young_sketches>=thresh) & (num_older_sketches>=thresh):\n",
    "        sufficient_data_labels.append(cl)        \n",
    "        \n",
    "print 'We have {} classes with sufficient data.'.format(len(sufficient_data_labels))\n"
   ]
  },
  {
   "cell_type": "code",
   "execution_count": 15,
   "metadata": {},
   "outputs": [
    {
     "name": "stdout",
     "output_type": "stream",
     "text": [
      "We have 157 drawings in the older cohort\n",
      "We have 113 drawings in the younger cohort\n"
     ]
    }
   ],
   "source": [
    "## subset to only use the labels with either COMMON LABELS or SUFFICIENT DATA (see cell above)\n",
    "KF, KM = subset_labels(KF, KM, sufficient_data_labels)\n",
    "KM = KM.reset_index(drop=True)\n",
    "\n",
    "## output final number of drawings\n",
    "older=KM[KM['coarse_age'] == 'older']\n",
    "younger=KM[KM['coarse_age'] == 'younger']\n",
    "\n",
    "print 'We have {} drawings in the older cohort'.format(np.shape(older)[0])\n",
    "print 'We have {} drawings in the younger cohort'.format(np.shape(younger)[0])\n"
   ]
  },
  {
   "cell_type": "code",
   "execution_count": 16,
   "metadata": {
    "collapsed": true
   },
   "outputs": [],
   "source": [
    "## Load sets for older vs. younger children\n",
    "ind = KM.index[KM['coarse_age'] == 'older']\n",
    "KM_older = KM.loc[ind]\n",
    "KF_older = KF[ind.tolist()]\n",
    "\n",
    "ind2 = KM.index[KM['coarse_age'] == 'younger']\n",
    "KM_younger = KM.loc[ind2]\n",
    "KF_younger = KF[ind2.tolist()]"
   ]
  },
  {
   "cell_type": "markdown",
   "metadata": {},
   "source": [
    "#### Analysis 1:  Classification tests"
   ]
  },
  {
   "cell_type": "code",
   "execution_count": 17,
   "metadata": {},
   "outputs": [
    {
     "name": "stdout",
     "output_type": "stream",
     "text": [
      "0.147058823529\n",
      "All children accuracy: 0.13 (SD = 0.01)\n"
     ]
    }
   ],
   "source": [
    "####  Classification test -- all children\n",
    "FEAT = KF\n",
    "LABELS = KM.label.values\n",
    "AGES = KM.age.values\n",
    "\n",
    "# single train/test split\n",
    "X_train, X_test, y_train, y_test = train_test_split(\n",
    "    FEAT, LABELS, test_size=0.25, random_state=0)\n",
    "# clf = svm.SVC(kernel='linear', C=1).fit(X_train, y_train) # ? not used, leaving for future use\n",
    "clf = linear_model.LogisticRegression(penalty='l2',C=1).fit(X_train, y_train)\n",
    "print clf.score(X_test, y_test)\n",
    "\n",
    "run_this = 1\n",
    "if run_this:\n",
    "    # cross-validated\n",
    "    clf = linear_model.LogisticRegression(penalty='l2')\n",
    "    scores = cross_val_score(clf, FEAT, LABELS, cv=3)\n",
    "    print(\"All children accuracy: %0.2f (SD = %0.2f)\" % (scores.mean(), scores.std())) # not sure why multiplying by 2, reporting just SD for now\n",
    "    \n"
   ]
  },
  {
   "cell_type": "code",
   "execution_count": 25,
   "metadata": {},
   "outputs": [
    {
     "name": "stdout",
     "output_type": "stream",
     "text": [
      "0.560975609756\n",
      "Older children: accuracy: 0.51 (SD = 0.06)\n"
     ]
    }
   ],
   "source": [
    "####  Classification test -- older children\n",
    "FEAT = KF_older\n",
    "LABELS = KM_older.label.values\n",
    "AGES = KM_older.age.values\n",
    "\n",
    "# single train/test split\n",
    "X_train, X_test, y_train, y_test = train_test_split(\n",
    "    FEAT, LABELS, test_size=0.25, random_state=0)\n",
    "clf = linear_model.LogisticRegression(penalty='l2',C=1).fit(X_train, y_train)\n",
    "print clf.score(X_test, y_test)\n",
    "\n",
    "run_this = 1\n",
    "if run_this:\n",
    "    # cross-validated\n",
    "    clf = linear_model.LogisticRegression(penalty='l2')\n",
    "    scores = cross_val_score(clf, FEAT, LABELS, cv=3)\n",
    "    print(\"Older children: accuracy: %0.2f (SD = %0.2f)\" % (scores.mean(), scores.std())) # not sure why multiplying by 2, reporting just SD for now\n",
    "    \n"
   ]
  },
  {
   "cell_type": "code",
   "execution_count": 22,
   "metadata": {},
   "outputs": [
    {
     "ename": "NameError",
     "evalue": "name 'KF_younger' is not defined",
     "output_type": "error",
     "traceback": [
      "\u001b[0;31m---------------------------------------------------------------------------\u001b[0m",
      "\u001b[0;31mNameError\u001b[0m                                 Traceback (most recent call last)",
      "\u001b[0;32m<ipython-input-22-acb392380faf>\u001b[0m in \u001b[0;36m<module>\u001b[0;34m()\u001b[0m\n\u001b[1;32m      1\u001b[0m \u001b[0;31m#### Quick classification test -- younger children\u001b[0m\u001b[0;34m\u001b[0m\u001b[0;34m\u001b[0m\u001b[0m\n\u001b[0;32m----> 2\u001b[0;31m \u001b[0mFEAT\u001b[0m \u001b[0;34m=\u001b[0m \u001b[0mKF_younger\u001b[0m\u001b[0;34m\u001b[0m\u001b[0m\n\u001b[0m\u001b[1;32m      3\u001b[0m \u001b[0mLABELS\u001b[0m \u001b[0;34m=\u001b[0m \u001b[0mKM_younger\u001b[0m\u001b[0;34m.\u001b[0m\u001b[0mlabel\u001b[0m\u001b[0;34m.\u001b[0m\u001b[0mvalues\u001b[0m\u001b[0;34m\u001b[0m\u001b[0m\n\u001b[1;32m      4\u001b[0m \u001b[0mAGES\u001b[0m \u001b[0;34m=\u001b[0m \u001b[0mKM_younger\u001b[0m\u001b[0;34m.\u001b[0m\u001b[0mage\u001b[0m\u001b[0;34m.\u001b[0m\u001b[0mvalues\u001b[0m\u001b[0;34m\u001b[0m\u001b[0m\n\u001b[1;32m      5\u001b[0m \u001b[0;34m\u001b[0m\u001b[0m\n",
      "\u001b[0;31mNameError\u001b[0m: name 'KF_younger' is not defined"
     ]
    }
   ],
   "source": [
    "#### Quick classification test -- younger children\n",
    "FEAT = KF_younger\n",
    "LABELS = KM_younger.label.values\n",
    "AGES = KM_younger.age.values\n",
    "\n",
    "# single train/test split\n",
    "X_train, X_test, y_train, y_test = train_test_split(\n",
    "    FEAT, LABELS, test_size=0.25, random_state=0)\n",
    "clf = linear_model.LogisticRegression(penalty='l2',C=1).fit(X_train, y_train)\n",
    "print clf.score(X_test, y_test)\n",
    "\n",
    "run_this = 1\n",
    "if run_this:\n",
    "    # cross-validated\n",
    "    clf = linear_model.LogisticRegression(penalty='l2')\n",
    "    scores = cross_val_score(clf, FEAT, LABELS, cv=3)\n",
    "    print(\"Younger children: accuracy: %0.2f (SD = %0.2f)\" % (scores.mean(), scores.std())) # not sure why multiplying by 2, reporting just SD for now\n",
    "    \n"
   ]
  },
  {
   "cell_type": "code",
   "execution_count": null,
   "metadata": {
    "collapsed": true
   },
   "outputs": [],
   "source": [
    "## Classification tests -- older vs. younger"
   ]
  },
  {
   "cell_type": "code",
   "execution_count": 29,
   "metadata": {
    "collapsed": true
   },
   "outputs": [],
   "source": [
    "# ## see how recognizability changes with age?\n",
    "# scores = []\n",
    "# num_samples = []\n",
    "# age_range = np.arange(4,11)\n",
    "\n",
    "# # width of moving window in # of trials    \n",
    "# window_size = 4\n",
    "# lb = int(min(KM.age.values))\n",
    "# ub = int(max(KM.age.values))\n",
    "# num_windows = ub-lb-window_size+2 ##     \n",
    "\n",
    "# for n in np.arange(num_windows):\n",
    "#     start = lb + n\n",
    "#     end = lb + n + window_size\n",
    "#     ind = KM.index[(KM['age'] >= start) & (KM['age'] < end)]\n",
    "#     meta = KM.loc[ind]\n",
    "#     subFeat = KF[ind.tolist()]\n",
    "\n",
    "#     FEAT = subFeat\n",
    "#     LABELS = meta.label.values\n",
    "\n",
    "#     # single train/test split\n",
    "#     X_train, X_test, y_train, y_test = train_test_split(\n",
    "#         FEAT, LABELS, test_size=0.25, random_state=3)\n",
    "#     clf = svm.SVC(kernel='linear', C=1).fit(X_train, y_train)\n",
    "# #     clf = linear_model.LogisticRegression(penalty='l2',C=1).fit(X_train, y_train)\n",
    "#     print '{}-{}y'.format(start, end-1), len(LABELS),clf.score(X_test, y_test)\n",
    "#     num_samples.append(len(LABELS))\n",
    "#     scores.append(clf.score(X_test, y_test))\n",
    "    "
   ]
  },
  {
   "cell_type": "markdown",
   "metadata": {
    "collapsed": true
   },
   "source": [
    "### Extract adult drawing features"
   ]
  },
  {
   "cell_type": "code",
   "execution_count": 19,
   "metadata": {
    "collapsed": true
   },
   "outputs": [],
   "source": [
    "## load in adult features\n",
    "AF, AM = load_features('adult',7) # 7 = pixels\n",
    "AF, AM = remove_practice_trials(AF, AM)\n",
    "AM = AM.reset_index(drop=True)\n",
    "numSampled=10 # how many exemplars per class\n",
    "numClasses=np.shape(np.unique(AM.label.values))[0]\n",
    "\n",
    "## which label set are we using? common_labels or sufficient_data_labels\n",
    "these_labels = sufficient_data_labels\n",
    "\n",
    "## set up lookup table to cover discrepancies in category label assignments\n",
    "lookup = dict(zip(these_labels,these_labels))\n",
    "if 'bike' in lookup.keys():\n",
    "    lookup['bike'] = 'bicycle'\n",
    "    \n",
    "## subset adult feature matrix and metadata matrix by appropriate labelset\n",
    "AF, AM = subset_labels(AF, AM, [lookup[i] for i in these_labels])\n",
    "AM = AM.reset_index(drop=True)  "
   ]
  },
  {
   "cell_type": "code",
   "execution_count": 24,
   "metadata": {},
   "outputs": [
    {
     "data": {
      "text/plain": [
       "0.36202220308595617"
      ]
     },
     "execution_count": 24,
     "metadata": {},
     "output_type": "execute_result"
    }
   ],
   "source": []
  },
  {
   "cell_type": "code",
   "execution_count": null,
   "metadata": {
    "collapsed": true
   },
   "outputs": [],
   "source": [
    "## not finished -- want to get subsample to get comparable classification\n",
    "\n",
    "# categoryFeaturesOut=np.zeros((numSampled*numClasses,np.shape(AF)[1])) \n",
    "# np.shape(categoryFeaturesOut[0:10,:])\n",
    "# def get_adult_subsample(AF,AM):\n",
    "#     uniqueLabels=np.unique(AM.label.values)\n",
    "#     labels=AM.label.values\n",
    "#     categoryFeaturesOut=np.zeros((numSampled*numClasses,np.shape(AF)[1])) \n",
    "#     print np.shape(categoryFeaturesOut)\n",
    "#     for vi, v in enumerate(np.asarray(uniqueLabels)):\n",
    "#         categoryFeatures # clear to be sure\n",
    "#         catIndexStart=(vi)*numSampled\n",
    "#         catIndexEnd=catIndexStart+numSampled\n",
    "#         print catIndexStart\n",
    "#         print catIndexEnd\n",
    "#         randImageInd=np.random.randint(500,size=numSampled)\n",
    "#         categoryFeatures=AF[labels == v,:]\n",
    "#         categoryFeaturesSelected=categoryFeatures[randImageInd,:]\n",
    "        \n",
    "#         np.shape(categoryFeatures)\n",
    "#         return categoryFeatures\n",
    "#         del categoryFeatures category       \n",
    "\n",
    "# categoryFeatures=get_adult_subsample(AF,AM)\n",
    "# categoryFeatures\n"
   ]
  },
  {
   "cell_type": "code",
   "execution_count": 109,
   "metadata": {
    "collapsed": true
   },
   "outputs": [],
   "source": [
    "### Correlations between features in FC7 each class (e.g., object category)"
   ]
  },
  {
   "cell_type": "code",
   "execution_count": 24,
   "metadata": {},
   "outputs": [
    {
     "name": "stdout",
     "output_type": "stream",
     "text": [
      "['boat' 'shoe' 'cup' 'car' 'couch' 'train' 'frog' 'foot' 'carrot' 'rabbit'\n",
      " 'ice cream' 'phone' 'banana' 'flower' 'chair']\n",
      "[ 0.09165147  0.16026777  0.30934528  0.31321119  0.34329901  0.43240504\n",
      "  0.51011855  0.51139082  0.55248657  0.63200355  0.64307664  0.64705823\n",
      "  0.67628643  0.73015292  0.73327501]\n"
     ]
    }
   ],
   "source": [
    "# make general function\n",
    "def corr_cohort_classes(cohort1,cohort2,uniqueLabels):\n",
    "    if  np.shape(cohort1)==np.shape(cohort2): ## make sure same shape\n",
    "        classCor=np.zeros(np.shape(uniqueLabels)[0]) # open variable\n",
    "        for vi, v in enumerate(np.asarray(uniqueLabels)):\n",
    "            cohort1Vec = cohort1[uniqueLabels == v,:]\n",
    "            cohort2Vec = cohort2[uniqueLabels == v,:]\n",
    "            cohort1Vec=np.reshape(cohort1Vec,np.shape(cohort1Vec)[1],np.shape(cohort1Vec)[0]) # resahpe for corr\n",
    "            cohort2Vec=np.reshape(cohort2Vec,np.shape(cohort2Vec)[1],np.shape(cohort2Vec)[0])# resahpe for corr\n",
    "            classCor[vi]=stats.pearsonr(cohort1Vec,cohort2Vec)[0]\n",
    "        return classCor\n",
    "    \n",
    "uniqueLabels=np.unique(KM.label.values)\n",
    "means_adult = get_class_means(AF, AM.label.values)\n",
    "means_kid = get_class_means(KF, KM.label.values)\n",
    "classCor=corr_cohort_classes(means_adult,means_kid,np.unique(KM.label.values))\n",
    "sortInd=np.argsort(classCor)\n",
    "print uniqueLabels[sortInd]\n",
    "print classCor[sortInd]"
   ]
  },
  {
   "cell_type": "code",
   "execution_count": 60,
   "metadata": {
    "collapsed": true
   },
   "outputs": [],
   "source": [
    "means_older = get_class_means(KF_older, KM_older.label.values)\n",
    "means_younger = get_class_means(KF_younger, KM_younger.label.values)\n"
   ]
  },
  {
   "cell_type": "code",
   "execution_count": 61,
   "metadata": {
    "collapsed": true
   },
   "outputs": [],
   "source": [
    "classCor_Younger=corr_cohort_classes(means_adult,means_younger,np.unique(KM.label.values))\n",
    "sortIndYounger=np.argsort(classCor_Younger)\n",
    "\n",
    "classCor_Older=corr_cohort_classes(means_adult,means_older,np.unique(KM.label.values))\n",
    "sortIndOlder=np.argsort(classCor_Older)\n",
    "\n",
    "df = pd.DataFrame({\n",
    "    'Labels-Older':  uniqueLabels[sortIndOlder],\n",
    "    'Correlations-Older': classCor_Older[sortIndOlder],\n",
    "    'Labels-Younger': uniqueLabels[sortIndYounger],\n",
    "    'Correlations-Younger': classCor_Younger[sortIndYounger],\n",
    "    'Labels-AllKids':uniqueLabels[sortInd],\n",
    "    'Correlations-AllKids':classCor[sortInd],\n",
    "})\n",
    "df.to_csv('FeatureCorrelationsByClass.csv') # save for me to load into R!"
   ]
  },
  {
   "cell_type": "code",
   "execution_count": 63,
   "metadata": {},
   "outputs": [
    {
     "data": {
      "text/html": [
       "<div>\n",
       "<style scoped>\n",
       "    .dataframe tbody tr th:only-of-type {\n",
       "        vertical-align: middle;\n",
       "    }\n",
       "\n",
       "    .dataframe tbody tr th {\n",
       "        vertical-align: top;\n",
       "    }\n",
       "\n",
       "    .dataframe thead th {\n",
       "        text-align: right;\n",
       "    }\n",
       "</style>\n",
       "<table border=\"1\" class=\"dataframe\">\n",
       "  <thead>\n",
       "    <tr style=\"text-align: right;\">\n",
       "      <th></th>\n",
       "      <th>Correlations-AllKids</th>\n",
       "      <th>Correlations-Older</th>\n",
       "      <th>Correlations-Younger</th>\n",
       "      <th>Labels-AllKids</th>\n",
       "      <th>Labels-Older</th>\n",
       "      <th>Labels-Younger</th>\n",
       "    </tr>\n",
       "  </thead>\n",
       "  <tbody>\n",
       "    <tr>\n",
       "      <th>0</th>\n",
       "      <td>0.098041</td>\n",
       "      <td>0.195618</td>\n",
       "      <td>-0.055975</td>\n",
       "      <td>shoe</td>\n",
       "      <td>shoe</td>\n",
       "      <td>shoe</td>\n",
       "    </tr>\n",
       "    <tr>\n",
       "      <th>1</th>\n",
       "      <td>0.260849</td>\n",
       "      <td>0.217590</td>\n",
       "      <td>0.044860</td>\n",
       "      <td>boat</td>\n",
       "      <td>cup</td>\n",
       "      <td>boat</td>\n",
       "    </tr>\n",
       "    <tr>\n",
       "      <th>2</th>\n",
       "      <td>0.317210</td>\n",
       "      <td>0.278706</td>\n",
       "      <td>0.069394</td>\n",
       "      <td>bird</td>\n",
       "      <td>bird</td>\n",
       "      <td>frog</td>\n",
       "    </tr>\n",
       "    <tr>\n",
       "      <th>3</th>\n",
       "      <td>0.342855</td>\n",
       "      <td>0.374891</td>\n",
       "      <td>0.208123</td>\n",
       "      <td>cup</td>\n",
       "      <td>boat</td>\n",
       "      <td>couch</td>\n",
       "    </tr>\n",
       "    <tr>\n",
       "      <th>4</th>\n",
       "      <td>0.397598</td>\n",
       "      <td>0.410975</td>\n",
       "      <td>0.272994</td>\n",
       "      <td>couch</td>\n",
       "      <td>couch</td>\n",
       "      <td>bird</td>\n",
       "    </tr>\n",
       "    <tr>\n",
       "      <th>5</th>\n",
       "      <td>0.486277</td>\n",
       "      <td>0.418847</td>\n",
       "      <td>0.308742</td>\n",
       "      <td>train</td>\n",
       "      <td>train</td>\n",
       "      <td>carrot</td>\n",
       "    </tr>\n",
       "    <tr>\n",
       "      <th>6</th>\n",
       "      <td>0.487718</td>\n",
       "      <td>0.474007</td>\n",
       "      <td>0.349682</td>\n",
       "      <td>frog</td>\n",
       "      <td>foot</td>\n",
       "      <td>foot</td>\n",
       "    </tr>\n",
       "    <tr>\n",
       "      <th>7</th>\n",
       "      <td>0.550594</td>\n",
       "      <td>0.544457</td>\n",
       "      <td>0.423443</td>\n",
       "      <td>foot</td>\n",
       "      <td>ice cream</td>\n",
       "      <td>car</td>\n",
       "    </tr>\n",
       "    <tr>\n",
       "      <th>8</th>\n",
       "      <td>0.565374</td>\n",
       "      <td>0.573780</td>\n",
       "      <td>0.444732</td>\n",
       "      <td>car</td>\n",
       "      <td>car</td>\n",
       "      <td>banana</td>\n",
       "    </tr>\n",
       "    <tr>\n",
       "      <th>9</th>\n",
       "      <td>0.651538</td>\n",
       "      <td>0.597500</td>\n",
       "      <td>0.448650</td>\n",
       "      <td>banana</td>\n",
       "      <td>frog</td>\n",
       "      <td>flower</td>\n",
       "    </tr>\n",
       "    <tr>\n",
       "      <th>10</th>\n",
       "      <td>0.652156</td>\n",
       "      <td>0.624958</td>\n",
       "      <td>0.473744</td>\n",
       "      <td>ice cream</td>\n",
       "      <td>phone</td>\n",
       "      <td>train</td>\n",
       "    </tr>\n",
       "    <tr>\n",
       "      <th>11</th>\n",
       "      <td>0.669842</td>\n",
       "      <td>0.654235</td>\n",
       "      <td>0.480419</td>\n",
       "      <td>phone</td>\n",
       "      <td>carrot</td>\n",
       "      <td>cup</td>\n",
       "    </tr>\n",
       "    <tr>\n",
       "      <th>12</th>\n",
       "      <td>0.671561</td>\n",
       "      <td>0.679450</td>\n",
       "      <td>0.539081</td>\n",
       "      <td>carrot</td>\n",
       "      <td>banana</td>\n",
       "      <td>rabbit</td>\n",
       "    </tr>\n",
       "    <tr>\n",
       "      <th>13</th>\n",
       "      <td>0.685018</td>\n",
       "      <td>0.691436</td>\n",
       "      <td>0.599580</td>\n",
       "      <td>rabbit</td>\n",
       "      <td>rabbit</td>\n",
       "      <td>phone</td>\n",
       "    </tr>\n",
       "    <tr>\n",
       "      <th>14</th>\n",
       "      <td>0.739090</td>\n",
       "      <td>0.734501</td>\n",
       "      <td>0.604379</td>\n",
       "      <td>flower</td>\n",
       "      <td>chair</td>\n",
       "      <td>ice cream</td>\n",
       "    </tr>\n",
       "    <tr>\n",
       "      <th>15</th>\n",
       "      <td>0.780622</td>\n",
       "      <td>0.744237</td>\n",
       "      <td>0.658631</td>\n",
       "      <td>chair</td>\n",
       "      <td>flower</td>\n",
       "      <td>chair</td>\n",
       "    </tr>\n",
       "  </tbody>\n",
       "</table>\n",
       "</div>"
      ],
      "text/plain": [
       "    Correlations-AllKids  Correlations-Older  Correlations-Younger  \\\n",
       "0               0.098041            0.195618             -0.055975   \n",
       "1               0.260849            0.217590              0.044860   \n",
       "2               0.317210            0.278706              0.069394   \n",
       "3               0.342855            0.374891              0.208123   \n",
       "4               0.397598            0.410975              0.272994   \n",
       "5               0.486277            0.418847              0.308742   \n",
       "6               0.487718            0.474007              0.349682   \n",
       "7               0.550594            0.544457              0.423443   \n",
       "8               0.565374            0.573780              0.444732   \n",
       "9               0.651538            0.597500              0.448650   \n",
       "10              0.652156            0.624958              0.473744   \n",
       "11              0.669842            0.654235              0.480419   \n",
       "12              0.671561            0.679450              0.539081   \n",
       "13              0.685018            0.691436              0.599580   \n",
       "14              0.739090            0.734501              0.604379   \n",
       "15              0.780622            0.744237              0.658631   \n",
       "\n",
       "   Labels-AllKids Labels-Older Labels-Younger  \n",
       "0            shoe         shoe           shoe  \n",
       "1            boat          cup           boat  \n",
       "2            bird         bird           frog  \n",
       "3             cup         boat          couch  \n",
       "4           couch        couch           bird  \n",
       "5           train        train         carrot  \n",
       "6            frog         foot           foot  \n",
       "7            foot    ice cream            car  \n",
       "8             car          car         banana  \n",
       "9          banana         frog         flower  \n",
       "10      ice cream        phone          train  \n",
       "11          phone       carrot            cup  \n",
       "12         carrot       banana         rabbit  \n",
       "13         rabbit       rabbit          phone  \n",
       "14         flower        chair      ice cream  \n",
       "15          chair       flower          chair  "
      ]
     },
     "execution_count": 63,
     "metadata": {},
     "output_type": "execute_result"
    }
   ],
   "source": [
    "df"
   ]
  },
  {
   "cell_type": "code",
   "execution_count": 216,
   "metadata": {
    "collapsed": true
   },
   "outputs": [],
   "source": [
    "### Representational Similarity Analyses"
   ]
  },
  {
   "cell_type": "code",
   "execution_count": 28,
   "metadata": {},
   "outputs": [
    {
     "name": "stdout",
     "output_type": "stream",
     "text": [
      "Clusters\n",
      "['car' 'couch' 'train']\n",
      "['boat' 'ice cream']\n",
      "['carrot' 'flower' 'frog' 'phone' 'rabbit']\n",
      "['banana' 'chair' 'cup' 'foot' 'shoe']\n"
     ]
    }
   ],
   "source": [
    "## apply clustering to organize RDM so that we can see some block diagonal structure\n",
    "def flatten(x):\n",
    "    return [item for sublist in x for item in sublist]\n",
    "\n",
    "## retrieve alpha sorted labels from meta\n",
    "_labels = np.unique(AM.label.values)\n",
    "means = get_class_means(AF, AM.label.values)\n",
    "af = AffinityPropagation(damping=0.5).fit(means)\n",
    "labels = af.labels_\n",
    "cluster_centers_indices = af.cluster_centers_indices_\n",
    "n_clusters_ = len(cluster_centers_indices)\n",
    "\n",
    "ordered_objs = []\n",
    "print('Clusters')\n",
    "for k in range(n_clusters_):\n",
    "    class_members = labels == k\n",
    "    print _labels[class_members]\n",
    "    ordered_objs.append(list(_labels[class_members]))\n",
    "    \n",
    "ordered_objs = np.array(flatten(ordered_objs))\n",
    "\n",
    "# define standard order to be used for RDM's across layers\n",
    "standard_order = ordered_objs\n",
    "\n",
    "## index for sorting the alphabetical list of labels INTO the order specified by ordered_objs (clustered)\n",
    "sort_inds = [np.where(_labels==ordered_objs[i])[0][0] for i in np.arange(len(ordered_objs))]"
   ]
  },
  {
   "cell_type": "code",
   "execution_count": 27,
   "metadata": {},
   "outputs": [
    {
     "ename": "NameError",
     "evalue": "name 'ordered_objs' is not defined",
     "output_type": "error",
     "traceback": [
      "\u001b[0;31m---------------------------------------------------------------------------\u001b[0m",
      "\u001b[0;31mNameError\u001b[0m                                 Traceback (most recent call last)",
      "\u001b[0;32m<ipython-input-27-0d3c25d99f0a>\u001b[0m in \u001b[0;36m<module>\u001b[0;34m()\u001b[0m\n\u001b[0;32m----> 1\u001b[0;31m \u001b[0mordered_objs\u001b[0m\u001b[0;34m\u001b[0m\u001b[0m\n\u001b[0m",
      "\u001b[0;31mNameError\u001b[0m: name 'ordered_objs' is not defined"
     ]
    }
   ],
   "source": []
  },
  {
   "cell_type": "code",
   "execution_count": 31,
   "metadata": {
    "collapsed": true
   },
   "outputs": [],
   "source": [
    "def get_and_plot_RDM(M,F,cohort,sort_inds):\n",
    "    ## sorted adult RDMs\n",
    "    labels = M.label.values\n",
    "    means = get_class_means(F, labels)\n",
    "    ordered_means = means[sort_inds,:]\n",
    "    sns.set_style('white')\n",
    "    CORRMAT = np.corrcoef(ordered_means)\n",
    "\n",
    "    sns.set_context('paper')\n",
    "    fig = plt.figure(figsize=(30,30))\n",
    "    plt.matshow(1-CORRMAT, vmin=0, vmax=2)\n",
    "    plt.xticks(range(len(ordered_objs)), ordered_objs, rotation=90);\n",
    "    plt.yticks(range(len(ordered_objs)), ordered_objs); \n",
    "    plt.colorbar()\n",
    "    for tick in pylab.gca().xaxis.iter_ticks():\n",
    "        tick[0].label2On = True\n",
    "        tick[0].label1On = False\n",
    "        tick[0].label2.set_rotation('vertical')\n",
    "        tick[0].tick1On = False\n",
    "        tick[0].tick2On = False\n",
    "    for tick in pylab.gca().yaxis.iter_ticks():\n",
    "        tick[0].tick1On = False\n",
    "        tick[0].tick2On = False  \n",
    "    RDM = CORRMAT\n",
    "    plt.gcf().subplots_adjust(left=0.5)\n",
    "    plt.savefig('./plots/RDM_{}.pdf'.format(cohort))\n",
    "    \n",
    "    return RDM\n",
    "\n",
    "\n",
    "def get_RDM(M,F,sort_inds):\n",
    "    ## sorted adult RDMs\n",
    "    labels = M.label.values\n",
    "    means = get_class_means(F, labels)\n",
    "    ordered_means = means[sort_inds,:]    \n",
    "    RDM = np.corrcoef(ordered_means)\n",
    "    return RDM"
   ]
  },
  {
   "cell_type": "code",
   "execution_count": 32,
   "metadata": {},
   "outputs": [
    {
     "data": {
      "text/plain": [
       "<matplotlib.figure.Figure at 0x7f1cd8704190>"
      ]
     },
     "metadata": {},
     "output_type": "display_data"
    },
    {
     "data": {
      "image/png": "[encoded data removed]",
      "text/plain": [
       "<matplotlib.figure.Figure at 0x7f1cd8197ed0>"
      ]
     },
     "metadata": {},
     "output_type": "display_data"
    }
   ],
   "source": [
    "## get and plot sorted adult RDM\n",
    "ARDM = get_and_plot_RDM(AM, AF,'adult',sort_inds)"
   ]
  },
  {
   "cell_type": "code",
   "execution_count": 33,
   "metadata": {},
   "outputs": [
    {
     "data": {
      "text/plain": [
       "<matplotlib.figure.Figure at 0x7f1cd850ded0>"
      ]
     },
     "metadata": {},
     "output_type": "display_data"
    },
    {
     "data": {
      "image/png": "[encoded data removed]",
      "text/plain": [
       "<matplotlib.figure.Figure at 0x7f1cd84673d0>"
      ]
     },
     "metadata": {},
     "output_type": "display_data"
    }
   ],
   "source": [
    "## get and plot sorted kid RDM collapsing across all ages\n",
    "KRDM = get_and_plot_RDM(KM, KF,'kid',sort_inds)"
   ]
  },
  {
   "cell_type": "code",
   "execution_count": 35,
   "metadata": {},
   "outputs": [
    {
     "data": {
      "text/plain": [
       "<matplotlib.figure.Figure at 0x7f1cd813ac50>"
      ]
     },
     "metadata": {},
     "output_type": "display_data"
    },
    {
     "data": {
      "image/png": "[encoded data removed]",
      "text/plain": [
       "<matplotlib.figure.Figure at 0x7f1cd80d89d0>"
      ]
     },
     "metadata": {},
     "output_type": "display_data"
    }
   ],
   "source": [
    "## get RDM for older kids (7,8,9,10)\n",
    "ind = KM.index[KM['coarse_age'] == 'older']\n",
    "meta = KM.loc[ind]\n",
    "feat = KF[ind.tolist()]\n",
    "ORDM = get_and_plot_RDM(meta, feat,'older',sort_inds)"
   ]
  },
  {
   "cell_type": "code",
   "execution_count": 36,
   "metadata": {},
   "outputs": [
    {
     "data": {
      "text/plain": [
       "<matplotlib.figure.Figure at 0x7f1cd845f910>"
      ]
     },
     "metadata": {},
     "output_type": "display_data"
    },
    {
     "data": {
      "image/png": "[encoded data removed]",
      "text/plain": [
       "<matplotlib.figure.Figure at 0x7f1cd80d8490>"
      ]
     },
     "metadata": {},
     "output_type": "display_data"
    }
   ],
   "source": [
    "## get RDM for younger kids (3,4,5,6)\n",
    "ind = KM.index[KM['coarse_age'] == 'younger']\n",
    "meta = KM.loc[ind]\n",
    "feat = KF[ind.tolist()]\n",
    "YRDM = get_and_plot_RDM(meta, feat,'younger',sort_inds)"
   ]
  },
  {
   "cell_type": "code",
   "execution_count": 37,
   "metadata": {},
   "outputs": [
    {
     "name": "stdout",
     "output_type": "stream",
     "text": [
      "Correlation between adult and overall kid RDM: 0.0685154468173\n",
      " \n",
      "Correlation between adult and OLDER kid RDM: 0.0183599419448\n",
      " \n",
      "Correlation between adult and YOUNGER kid RDM: 0.0644930541157\n",
      " \n",
      "Correlation between OLDER and YOUNGER kid RDM: 0.27337756583\n"
     ]
    }
   ],
   "source": [
    "## print pixelwise cross-cohort correlations\n",
    "\n",
    "dim = KRDM.shape[0]\n",
    "cor = stats.spearmanr(np.ravel(KRDM[np.triu_indices(dim,k=1)]),np.ravel(ARDM[np.triu_indices(dim,k=1)]))[0]\n",
    "print 'Correlation between adult and overall kid RDM: {}'.format(cor)\n",
    "print ' '\n",
    "dim = ORDM.shape[0]\n",
    "cor = stats.spearmanr(np.ravel(ORDM[np.triu_indices(dim,k=1)]),np.ravel(ARDM[np.triu_indices(dim,k=1)]))[0]\n",
    "print 'Correlation between adult and OLDER kid RDM: {}'.format(cor)\n",
    "print ' '\n",
    "dim = YRDM.shape[0]\n",
    "cor = stats.spearmanr(np.ravel(YRDM[np.triu_indices(dim,k=1)]),np.ravel(ARDM[np.triu_indices(dim,k=1)]))[0]\n",
    "print 'Correlation between adult and YOUNGER kid RDM: {}'.format(cor)\n",
    "print ' '\n",
    "dim = YRDM.shape[0]\n",
    "cor = stats.spearmanr(np.ravel(YRDM[np.triu_indices(dim,k=1)]),np.ravel(ORDM[np.triu_indices(dim,k=1)]))[0]\n",
    "print 'Correlation between OLDER and YOUNGER kid RDM: {}'.format(cor)"
   ]
  },
  {
   "cell_type": "code",
   "execution_count": 39,
   "metadata": {},
   "outputs": [
    {
     "data": {
      "text/plain": [
       "0.02"
      ]
     },
     "execution_count": 39,
     "metadata": {},
     "output_type": "execute_result"
    }
   ],
   "source": [
    "round(0.0644930541157,2)\n",
    "round(0.0183599419448,2)"
   ]
  },
  {
   "cell_type": "code",
   "execution_count": null,
   "metadata": {
    "collapsed": true
   },
   "outputs": [],
   "source": []
  },
  {
   "cell_type": "code",
   "execution_count": null,
   "metadata": {
    "collapsed": true
   },
   "outputs": [],
   "source": []
  },
  {
   "cell_type": "code",
   "execution_count": null,
   "metadata": {
    "collapsed": true
   },
   "outputs": [],
   "source": []
  },
  {
   "cell_type": "code",
   "execution_count": null,
   "metadata": {
    "collapsed": true
   },
   "outputs": [],
   "source": []
  },
  {
   "cell_type": "markdown",
   "metadata": {},
   "source": [
    "### generalize across layers"
   ]
  },
  {
   "cell_type": "code",
   "execution_count": 75,
   "metadata": {
    "collapsed": true
   },
   "outputs": [],
   "source": [
    "## which label set are we using? common_labels or sufficient_data_labels\n",
    "these_labels = sufficient_data_labels\n",
    "\n",
    "## function to apply various cleanup operations to adult feat/meta, including deborkifying and subsetting by appropriate labelset\n",
    "def adult_preproc(AF, AM, these_labels):\n",
    "    ## set up lookup table to cover discrepancies in category label assignments\n",
    "    lookup = dict(zip(these_labels,these_labels))\n",
    "    if 'bike' in lookup.keys():\n",
    "        lookup['bike'] = 'bicycle'\n",
    "\n",
    "    ## subset adult feature matrix and metadata matrix by appropriate labelset\n",
    "    AF, AM = subset_labels(AF, AM, [lookup[i] for i in these_labels])\n",
    "    AM = AM.reset_index(drop=True)    \n",
    "    return AF, AM\n",
    "\n",
    "## function to add coarse grain age and subset according to proper labelset\n",
    "def preproc_kid(KF, KM,these_labels):    \n",
    "    KM['coarse_age'] = KM.apply(coarse_grain_age, axis=1)\n",
    "    ## subset labels that have at least some drawings of them from each age category\n",
    "    younger_labels = KM[KM['coarse_age'] == 'younger']['label'].values\n",
    "    older_labels = KM[KM['coarse_age'] == 'older']['label'].values\n",
    "    \n",
    "    ## subset to only use the labels with either COMMON LABELS or SUFFICIENT DATA (see cell above)\n",
    "    KF, KM = subset_labels(KF, KM, these_labels)\n",
    "    KM = KM.reset_index(drop=True)    \n",
    "    return KF, KM\n",
    "\n",
    "## make sure directory for RDM exists\n",
    "if not os.path.exists('./rdm'):\n",
    "    os.makedirs('./rdm')"
   ]
  },
  {
   "cell_type": "markdown",
   "metadata": {},
   "source": [
    "##### generate and save out RDMs as separate npy files"
   ]
  },
  {
   "cell_type": "code",
   "execution_count": 38,
   "metadata": {
    "collapsed": true
   },
   "outputs": [],
   "source": [
    "## load in adult features\n",
    "really_run = 0\n",
    "if really_run:\n",
    "    for layer_num in np.arange(7):\n",
    "        print 'Loading in adult features for layer {}...'.format(layer_num)\n",
    "        AF, AM = load_features('adult',layer_num)\n",
    "        AF, AM = remove_practice_trials(AF, AM)\n",
    "        AM = AM.reset_index(drop=True)\n",
    "        AF, AM = adult_preproc(AF, AM, these_labels)\n",
    "        print 'Shape of adult feature tensor: {}'.format(np.shape(AF))\n",
    "\n",
    "        ## get RDM\n",
    "        cohort = 'adult'\n",
    "        print 'Getting and saving RDM...'\n",
    "        RDM = get_RDM(AM, AF,sort_inds)\n",
    "        ## save out RDM as npy\n",
    "        np.save('./rdm/RDM_{}_{}.npy'.format(cohort,layer_num),ARDM)\n",
    "        \n",
    "    print 'All done!'"
   ]
  },
  {
   "cell_type": "code",
   "execution_count": 106,
   "metadata": {
    "collapsed": true
   },
   "outputs": [],
   "source": [
    "really_run = 0\n",
    "lb = 0\n",
    "ub = 7\n",
    "if really_run:\n",
    "    ## loop through all kid layers and save out their RDM\n",
    "    for layer_num in np.arange(lb,ub):\n",
    "        ## load in kid features\n",
    "        KF, KM = load_features('kid',layer_num)\n",
    "        KF, KM = remove_practice_trials(KF, KM)\n",
    "        KM = KM.reset_index(drop=True)\n",
    "        KF, KM = preproc_kid(KF, KM, these_labels)\n",
    "        print 'Shape of kid feature tensor: {}'.format(np.shape(KF))\n",
    "\n",
    "        ## get RDM\n",
    "        print 'Getting and saving RDM...'\n",
    "        cohort = 'kid'\n",
    "        KRDM = get_RDM(KM, KF,sort_inds)\n",
    "        ## save out RDM as npy\n",
    "        np.save('./rdm/RDM_{}_{}.npy'.format(cohort,layer_num),KRDM)\n",
    "        \n",
    "        print 'Saved OVERALL KID RDMs for layer {}!'.format(layer_num)        \n",
    "                \n",
    "    ## loop through all kid layers and save out their RDM\n",
    "    for layer_num in np.arange(lb,ub):\n",
    "        ## load in kid features\n",
    "        KF, KM = load_features('kid',layer_num)\n",
    "        KF, KM = remove_practice_trials(KF, KM)\n",
    "        KM = KM.reset_index(drop=True)\n",
    "        KF, KM = preproc_kid(KF, KM, these_labels)\n",
    "\n",
    "        ## get RDM for older kids (7,8,9,10)\n",
    "        ind = KM.index[KM['coarse_age'] == 'older']\n",
    "        meta = KM.loc[ind]\n",
    "        feat = KF[ind.tolist()]\n",
    "        print 'Shape of older kid feature tensor: {}'.format(np.shape(feat))        \n",
    "        ORDM = get_RDM(meta, feat,sort_inds)\n",
    "        np.save('./rdm/RDM_{}_{}.npy'.format('older',layer_num),ORDM)            \n",
    "        print 'Saved OLDER KID RDMs for layer {}!'.format(layer_num)        \n",
    "            \n",
    "    for layer_num in np.arange(lb,ub):\n",
    "        ## load in kid features\n",
    "        KF, KM = load_features('kid',layer_num)\n",
    "        KF, KM = remove_practice_trials(KF, KM)\n",
    "        KM = KM.reset_index(drop=True)\n",
    "        KF, KM = preproc_kid(KF, KM, these_labels)\n",
    "                \n",
    "        ## get RDM for younger kids (3,4,5,6)            \n",
    "        ind = KM.index[KM['coarse_age'] == 'younger']\n",
    "        meta = KM.loc[ind]\n",
    "        feat = KF[ind.tolist()]\n",
    "        print 'Shape of younger kid feature tensor: {}'.format(np.shape(feat))                \n",
    "        YRDM = get_RDM(meta, feat,sort_inds)\n",
    "        np.save('./rdm/RDM_{}_{}.npy'.format('younger',layer_num),YRDM)             \n",
    "\n",
    "        print 'Saved YOUNGER KID RDMs for layer {}!'.format(layer_num)\n",
    "                "
   ]
  },
  {
   "cell_type": "markdown",
   "metadata": {},
   "source": [
    "##### plot layer-wise cross-cohort similarity"
   ]
  },
  {
   "cell_type": "code",
   "execution_count": 425,
   "metadata": {},
   "outputs": [
    {
     "data": {
      "image/png": "[encoded data removed]",
      "text/plain": [
       "<matplotlib.figure.Figure at 0x7fce64991a90>"
      ]
     },
     "metadata": {},
     "output_type": "display_data"
    }
   ],
   "source": [
    "corOA = []\n",
    "corYA = []\n",
    "\n",
    "for layer_num in np.arange(7):\n",
    "    Y = np.load('./rdm/RDM_younger_{}.npy'.format(layer_num))\n",
    "    O = np.load('./rdm/RDM_older_{}.npy'.format(layer_num))\n",
    "    A = np.load('./rdm/RDM_adult_{}.npy'.format(layer_num))\n",
    "\n",
    "    dim = O.shape[0]\n",
    "    rOA = stats.spearmanr(np.ravel(O[np.triu_indices(dim,k=1)]),np.ravel(A[np.triu_indices(dim,k=1)]))[0]\n",
    "    rYA = stats.spearmanr(np.ravel(Y[np.triu_indices(dim,k=1)]),np.ravel(A[np.triu_indices(dim,k=1)]))[0]\n",
    "\n",
    "    corOA.append(rOA)\n",
    "    corYA.append(rYA)\n",
    "\n",
    "\n",
    "import seaborn as sns\n",
    "sns.set_context('talk')\n",
    "sns.set_style('white')\n",
    "plt.figure(figsize=(6,6))\n",
    "plt.plot(np.arange(1,8),corYA,label='younger vs. adult',color=(0.6,0.6,0.6))\n",
    "plt.plot(np.arange(1,8),corOA,label='older vs. adult',color=(0.2,0.2,0.2))\n",
    "plt.xlabel('model layer')\n",
    "plt.ylabel('between-cohort similarity')\n",
    "plt.legend()\n",
    "plt.savefig('./plots/btw_cohort_similarity.pdf')"
   ]
  },
  {
   "cell_type": "markdown",
   "metadata": {
    "collapsed": true
   },
   "source": [
    "### get errorbars for cross-cohort similarity plot (jackknife resampling over classes)"
   ]
  },
  {
   "cell_type": "code",
   "execution_count": 102,
   "metadata": {
    "collapsed": true
   },
   "outputs": [],
   "source": [
    "def get_RDM_resampled(M,F,sort_inds,iteration):\n",
    "    ## sorted adult RDMs\n",
    "    labels = M.label.values\n",
    "    means = get_class_means(F, labels)\n",
    "    ordered_means = means[sort_inds,:] \n",
    "    ### JACKKNIFE RESAMPLING OVER CLASSES (https://en.wikipedia.org/wiki/Jackknife_resampling)    \n",
    "    # 1: exhaustively subset 15 of 16 categories, and compute cross-domain similarity in each case\n",
    "    # 2: variance estimate = (n-1)/n  *   Sum([xi - x.i]^2)\n",
    "    #          where x.i = (1/n) * Sum(xi), the average of all subsamples    \n",
    "    jacks = np.roll(range(ordered_means.shape[0]),iteration)[:ordered_means.shape[0]-1]\n",
    "    ordered_means = ordered_means[jacks,:]\n",
    "    RDM = np.corrcoef(ordered_means)\n",
    "    return RDM\n",
    "\n",
    "def get_rdm_similarity(A,B):\n",
    "    '''\n",
    "    A is RDM for one population\n",
    "    B is RDM for another population, of same dimensionality\n",
    "    '''\n",
    "    dim = A.shape[0]\n",
    "    return stats.spearmanr(np.ravel(A[np.triu_indices(dim,k=1)]),np.ravel(B[np.triu_indices(dim,k=1)]))[0]"
   ]
  },
  {
   "cell_type": "code",
   "execution_count": null,
   "metadata": {
    "collapsed": true
   },
   "outputs": [],
   "source": []
  },
  {
   "cell_type": "code",
   "execution_count": null,
   "metadata": {},
   "outputs": [
    {
     "name": "stdout",
     "output_type": "stream",
     "text": [
      "Loading in kid features for layer 0...\n",
      "Shape of kid feature tensor: (279, 802816)\n",
      "Loading in adult features for layer 0...\n",
      "Shape of adult feature tensor: (8000, 802816)\n",
      "Getting and saving kid and adult RDMs ...\n",
      "Iteration 0 of 16\n",
      "Iteration 4 of 16\n",
      "Iteration 8 of 16\n",
      "Iteration 12 of 16\n",
      "Loading in kid features for layer 1...\n",
      "Shape of kid feature tensor: (279, 401408)\n",
      "Loading in adult features for layer 1...\n",
      "Shape of adult feature tensor: (8000, 401408)\n",
      "Getting and saving kid and adult RDMs ...\n",
      "Iteration 0 of 16\n",
      "Iteration 4 of 16\n",
      "Iteration 8 of 16\n"
     ]
    }
   ],
   "source": [
    "lb = 0\n",
    "ub = 7\n",
    "nIter = len(these_labels)\n",
    "\n",
    "cohorts = ['younger','older']\n",
    "CORMAT = []\n",
    "for cohort in cohorts:\n",
    "    ## loop through all kid layers and save out their RDM\n",
    "    Cormat = [] ## cohort-level grouping of cross-cohort similarity\n",
    "    for layer_num in np.arange(lb,ub):\n",
    "        print 'Loading in kid features for layer {}...'.format(layer_num)    \n",
    "        ## load in kid features\n",
    "        KF, KM = load_features('kid',layer_num)\n",
    "        KF, KM = remove_practice_trials(KF, KM)\n",
    "        KM = KM.reset_index(drop=True)\n",
    "        KF, KM = preproc_kid(KF, KM, these_labels)\n",
    "        print 'Shape of kid feature tensor: {}'.format(np.shape(KF))    \n",
    "\n",
    "        print 'Loading in adult features for layer {}...'.format(layer_num)\n",
    "        AF, AM = load_features('adult',layer_num)\n",
    "        AF, AM = remove_practice_trials(AF, AM)\n",
    "        AM = AM.reset_index(drop=True)\n",
    "        AF, AM = adult_preproc(AF, AM, these_labels)\n",
    "        print 'Shape of adult feature tensor: {}'.format(np.shape(AF)) \n",
    "\n",
    "        ## get older kid RDM\n",
    "        print 'Getting and saving kid and adult RDMs ...'\n",
    "        KRDM = []\n",
    "        ARDM = []\n",
    "        cormat = [] ## layer-level grouping of cross-cohort similarity\n",
    "        for i in range(nIter):\n",
    "            if i%4==0:\n",
    "                print 'Iteration {} of {}'.format(i,nIter)\n",
    "            ## get RDM for this cohort, i.e., {'older', 'younger'}\n",
    "            ind = KM.index[KM['coarse_age'] == cohort]\n",
    "            meta = KM.loc[ind]\n",
    "            feat = KF[ind.tolist()]                    \n",
    "            krdm = get_RDM_resampled(meta, feat,sort_inds,i)\n",
    "            ## get RDM adult for adults, aggregate across iterations\n",
    "            ardm = get_RDM_resampled(AM, AF,sort_inds,i)        \n",
    "            if len(KRDM)==0:\n",
    "                KRDM = krdm\n",
    "                ARDM = ardm\n",
    "            else:\n",
    "                KRDM = np.dstack((KRDM,krdm))\n",
    "                ARDM = np.dstack((ARDM,ardm))                                  \n",
    "            ## compute similarity between RDMs\n",
    "            cormat.append(get_rdm_similarity(krdm,ardm))\n",
    "        ## layer level aggregation    \n",
    "        Cormat.append(cormat)\n",
    "        KRDM = np.array(KRDM)\n",
    "        ARDM = np.array(ARDM)\n",
    "        np.save('./rdm/RDM_jackknife_{}_{}.npy'.format(cohort,layer_num),KRDM)             \n",
    "        np.save('./rdm/RDM_jackknife_{}_{}.npy'.format('adult',layer_num),ARDM)         \n",
    "    ## cohort level aggregation    \n",
    "    CORMAT.append(Cormat)\n",
    "                      "
   ]
  },
  {
   "cell_type": "code",
   "execution_count": 155,
   "metadata": {
    "collapsed": true
   },
   "outputs": [],
   "source": [
    "## save CORMAT \n",
    "CORMAT = np.array(CORMAT)\n",
    "np.save('./rdm/CORMAT.npy',CORMAT)"
   ]
  },
  {
   "cell_type": "code",
   "execution_count": 160,
   "metadata": {
    "collapsed": true
   },
   "outputs": [],
   "source": [
    "## CORMAT has dimensionality: num_cohorts x num_layers x num_objects\n",
    "np.shape(np.array(CORMAT))\n",
    "### JACKKNIFE RESAMPLING OVER CLASSES (https://en.wikipedia.org/wiki/Jackknife_resampling)    \n",
    "# 1: exhaustively subset 15 of 16 categories, and compute cross-domain similarity in each case\n",
    "# 2: variance estimate = (n-1)/n  *   Sum([xi - x.i]^2)\n",
    "#          where x.i = (1/n) * Sum(xi), the average of all subsamples \n",
    "cohorts = ['younger','older']\n",
    "SEM_JACK = []\n",
    "for c,cohort in enumerate(cohorts):\n",
    "    sem_jack = []\n",
    "    for layer_num in np.arange(7):\n",
    "        jackvals = CORMAT[c,layer_num,:]\n",
    "        jackmean = np.mean(jackvals)\n",
    "        sem_jack.append(np.sqrt((15/16) * np.array([(i-jackmean)**2 for i in jackvals]).sum()))\n",
    "    SEM_JACK.append(sem_jack)\n",
    "SEM_JACK = np.array(SEM_JACK)"
   ]
  },
  {
   "cell_type": "code",
   "execution_count": 164,
   "metadata": {},
   "outputs": [
    {
     "data": {
      "image/png": "[encoded data removed]",
      "text/plain": [
       "<matplotlib.figure.Figure at 0x7fce6c2c1590>"
      ]
     },
     "metadata": {},
     "output_type": "display_data"
    }
   ],
   "source": [
    "## dimensionality of SEM_JACK is num_cohorts x num_layers\n",
    "sem_ya = SEM_JACK[0,:]\n",
    "sem_oa = SEM_JACK[1,:]\n",
    "import seaborn as sns\n",
    "sns.set_context('talk')\n",
    "sns.set_style('white')\n",
    "plt.figure(figsize=(6,6))\n",
    "h = plt.errorbar(np.arange(1,8),corYA,yerr=[sem_ya,sem_ya], color=[0.6, 0.6, 0.6], ecolor=[0.6, 0.6, 0.6],label='younger vs. adult')\n",
    "h = plt.errorbar(np.arange(1,8),corOA,yerr=[sem_oa,sem_oa], color=[0.2, 0.2, 0.2], ecolor=[0.2, 0.2, 0.2],label='older vs. adult')\n",
    "plt.xlabel('model layer')\n",
    "plt.ylabel('between-cohort similarity')\n",
    "plt.legend()\n",
    "plt.savefig('./plots/btw_cohort_similarity.pdf')"
   ]
  },
  {
   "cell_type": "code",
   "execution_count": null,
   "metadata": {
    "collapsed": true
   },
   "outputs": [],
   "source": []
  },
  {
   "cell_type": "code",
   "execution_count": null,
   "metadata": {
    "collapsed": true
   },
   "outputs": [],
   "source": []
  },
  {
   "cell_type": "code",
   "execution_count": 431,
   "metadata": {
    "collapsed": true
   },
   "outputs": [],
   "source": [
    "## save out cohort similarity csv\n",
    "df = pd.DataFrame({\n",
    "    'CorrYoungAdult':  corYA,\n",
    "    'SEMYoungAdult':sem_ya,\n",
    "    'CorrOldAdult':  corOA,\n",
    "    'SEMOldAdult':  sem_oa,\n",
    "})\n",
    "df.to_csv('./rdm/CohortSimilarity.csv') "
   ]
  },
  {
   "cell_type": "code",
   "execution_count": null,
   "metadata": {
    "collapsed": true
   },
   "outputs": [],
   "source": []
  },
  {
   "cell_type": "code",
   "execution_count": null,
   "metadata": {
    "collapsed": true
   },
   "outputs": [],
   "source": [
    "### notes 1/22/18:\n",
    "## preprocessing -- bounding box, remove drawings that have 0 mean pixel intensity, have text in them\n",
    "  ## make invalid sketches file\n",
    "## make human vs. model confusion matrix?\n",
    "## make adult -- grab 5 per class \"split-half\" reliability -- but can actually just take two wholes, and correlate them\n",
    "## estimate kids' variability -- within-class as well as across class."
   ]
  },
  {
   "cell_type": "code",
   "execution_count": null,
   "metadata": {
    "collapsed": true
   },
   "outputs": [],
   "source": []
  },
  {
   "cell_type": "code",
   "execution_count": null,
   "metadata": {
    "collapsed": true
   },
   "outputs": [],
   "source": []
  },
  {
   "cell_type": "code",
   "execution_count": null,
   "metadata": {
    "collapsed": true
   },
   "outputs": [],
   "source": []
  },
  {
   "cell_type": "code",
   "execution_count": null,
   "metadata": {
    "collapsed": true
   },
   "outputs": [],
   "source": []
  },
  {
   "cell_type": "code",
   "execution_count": null,
   "metadata": {},
   "outputs": [
    {
     "name": "stdout",
     "output_type": "stream",
     "text": [
      "Layer 0 of 7\n"
     ]
    }
   ],
   "source": [
    "## How many sketches do we have from each class in kids? Take this number, divide by 2, to get approx number \n",
    "## in adults for consistency analysis. Divide by 2, because we already are dividing kid drawing dataset\n",
    "## into younger and older subcategories.\n",
    "YF, YM = load_features('kid',6)\n",
    "kid_num_per_class = zip(np.unique(YM.label.values),np.round(YM.groupby('label').count()['age'].values/2))\n",
    "knpc = dict(kid_num_per_class)\n",
    "\n",
    "## load in adult features by layer and get internal consistency\n",
    "CORR = [] ## overall \n",
    "first_layer = 0\n",
    "num_layers = 7\n",
    "for layer_num in np.arange(first_layer,num_layers):\n",
    "    print('Layer {} of {}'.format(layer_num,num_layers))\n",
    "    AF, AM = load_features('adult',layer_num)\n",
    "\n",
    "    qats = np.unique(AM.label.values)\n",
    "    Meta = [] # initialize adult subsampled metadata csv -- same for both halves\n",
    "    Feat1 = [] # initialize adult subsampled feature matrix -- constitutes first half\n",
    "    Feat2 = [] # initialize adult subsampled feature matrix -- constitutes second half\n",
    "\n",
    "    nIter = 30\n",
    "\n",
    "    Cor = [] ## correlation between split RDM's\n",
    "    for it in np.arange(nIter):\n",
    "        if it%5==0:\n",
    "            print('Iteration {} of {}'.format(it,nIter))\n",
    "        for q in qats:\n",
    "            ind = AM.index[AM['label'] == q]\n",
    "            meta = AM.loc[ind]\n",
    "            meta = meta.reset_index(drop=True)\n",
    "            feat = AF[ind.tolist()]\n",
    "\n",
    "            how_many = int(knpc[q]) ## look up approx(!) how many younger/older kid sketches we have from this class\n",
    "            row_inds = np.random.RandomState(it).permutation(meta.shape[0])[:how_many]\n",
    "            metasamp = meta.loc[row_inds]\n",
    "            featsamp = feat[row_inds.tolist()] ## subsample first \"split-half\" feature mat\n",
    "\n",
    "            row_inds_2 = np.random.RandomState(it).permutation(meta.shape[0])[how_many:how_many*2] ## get the next drawings in the permuted list\n",
    "            featsamp2 = feat[row_inds_2.tolist()] ## subsample second \"split-half\" feature mat\n",
    "\n",
    "            if len(Meta)==0:\n",
    "                Meta = metasamp\n",
    "                Feat1 = featsamp\n",
    "                Feat2 = featsamp2\n",
    "            else:\n",
    "                Meta = pd.concat((Meta,metasamp))\n",
    "                Feat1 = np.vstack((Feat1,featsamp)) \n",
    "                Feat2 = np.vstack((Feat2,featsamp2))\n",
    "\n",
    "        ## get class means        \n",
    "        Meta = Meta.reset_index(drop=True)\n",
    "        means1 = get_class_means(Feat1, Meta.label.values)\n",
    "        means2 = get_class_means(Feat2, Meta.label.values)\n",
    "\n",
    "        ## get RDM for each half\n",
    "        rdm1 = get_RDM(Meta,Feat1,sort_inds)\n",
    "        rdm2 = get_RDM(Meta,Feat2,sort_inds)\n",
    "\n",
    "        dim = rdm1.shape[0]\n",
    "        cor = stats.spearmanr(np.ravel(rdm1[np.triu_indices(dim,k=1)]),np.ravel(rdm2[np.triu_indices(dim,k=1)]))[0]\n",
    "        Cor.append(cor)\n",
    "    CORR.append(Cor)"
   ]
  },
  {
   "cell_type": "code",
   "execution_count": null,
   "metadata": {
    "collapsed": true
   },
   "outputs": [],
   "source": [
    "CORR = np.array(CORR)\n",
    "np.save('./rdm/adult_split_reliability_by_layer_nIter30.npy',CORR)"
   ]
  },
  {
   "cell_type": "code",
   "execution_count": null,
   "metadata": {
    "collapsed": true
   },
   "outputs": [],
   "source": []
  },
  {
   "cell_type": "code",
   "execution_count": null,
   "metadata": {
    "collapsed": true
   },
   "outputs": [],
   "source": []
  },
  {
   "cell_type": "code",
   "execution_count": 414,
   "metadata": {
    "collapsed": true
   },
   "outputs": [],
   "source": [
    "# ## load in adult features by layer and get internal consistency\n",
    "# CORR = [] ## overall \n",
    "# first_layer = 0\n",
    "# num_layers = 7\n",
    "# cohorts = ['younger','older']\n",
    "\n",
    "# for cohort in cohorts:\n",
    "#     for layer_num in np.arange(first_layer,num_layers):\n",
    "#         print('Layer {} of {}'.format(layer_num,num_layers))\n",
    "#         KF, KM = load_features('kid',layer_num)\n",
    "\n",
    "#         qats = np.unique(KM.label.values)\n",
    "#         Meta = [] # initialize adult subsampled metadata csv -- same for both halves\n",
    "#         Feat1 = [] # initialize adult subsampled feature matrix -- constitutes first half\n",
    "#         Feat2 = [] # initialize adult subsampled feature matrix -- constitutes second half\n",
    "\n",
    "#         nIter = 10\n",
    "\n",
    "#         Cor = [] ## correlation between split RDM's\n",
    "#         for it in np.arange(nIter):\n",
    "#             if it%5==0:\n",
    "#                 print('Iteration {} of {}'.format(it,nIter))\n",
    "#             for q in qats:\n",
    "#                 ind = KM.index[(KM['label'] == q) & (KM['coarse_age']==cohort)]\n",
    "#                 meta = KM.loc[ind]\n",
    "#                 meta = meta.reset_index(drop=True)\n",
    "#                 feat = KF[ind.tolist()]\n",
    "\n",
    "#                 how_many = np.floor(meta.shape[0]/2)\n",
    "\n",
    "#                 row_inds = np.random.RandomState(it).permutation(meta.shape[0])[:how_many]\n",
    "#                 metasamp = meta.loc[row_inds]\n",
    "#                 featsamp = feat[row_inds.tolist()] ## subsample first \"split-half\" feature mat\n",
    "\n",
    "#                 row_inds_2 = np.random.RandomState(it).permutation(meta.shape[0])[how_many:how_many*2] ## get the next drawings in the permuted list\n",
    "#                 featsamp2 = feat[row_inds_2.tolist()] ## subsample second \"split-half\" feature mat\n",
    "\n",
    "#                 if len(Meta)==0:\n",
    "#                     Meta = metasamp\n",
    "#                     Feat1 = featsamp\n",
    "#                     Feat2 = featsamp2\n",
    "#                 else:\n",
    "#                     Meta = pd.concat((Meta,metasamp))\n",
    "#                     Feat1 = np.vstack((Feat1,featsamp)) \n",
    "#                     Feat2 = np.vstack((Feat2,featsamp2))\n",
    "\n",
    "#             ## get class means        \n",
    "#             Meta = Meta.reset_index(drop=True)\n",
    "#             means1 = get_class_means(Feat1, Meta.label.values)\n",
    "#             means2 = get_class_means(Feat2, Meta.label.values)\n",
    "\n",
    "#             ## get RDM for each half\n",
    "#             rdm1 = get_RDM(Meta,Feat1,sort_inds)\n",
    "#             rdm2 = get_RDM(Meta,Feat2,sort_inds)\n",
    "\n",
    "#             dim = rdm1.shape[0]\n",
    "#             cor = stats.spearmanr(np.ravel(rdm1[np.triu_indices(dim,k=1)]),np.ravel(rdm2[np.triu_indices(dim,k=1)]))[0]\n",
    "#             Cor.append(cor)\n",
    "#         CORR.append(Cor)"
   ]
  },
  {
   "cell_type": "code",
   "execution_count": null,
   "metadata": {
    "collapsed": true
   },
   "outputs": [],
   "source": [
    "# CORR = np.array(CORR)\n",
    "# np.save('./rdm/kid_split_reliability_by_layer.npy',CORR)"
   ]
  },
  {
   "cell_type": "code",
   "execution_count": null,
   "metadata": {
    "collapsed": true
   },
   "outputs": [],
   "source": []
  },
  {
   "cell_type": "code",
   "execution_count": 415,
   "metadata": {
    "collapsed": true
   },
   "outputs": [],
   "source": [
    "## this is a (7,10) matrix that is num_layers x numIterations\n",
    "x = np.load('./rdm/adult_split_reliability_by_layer.npy')"
   ]
  },
  {
   "cell_type": "code",
   "execution_count": 421,
   "metadata": {},
   "outputs": [
    {
     "data": {
      "text/plain": [
       "array([ 0.75664004,  0.78561706,  0.76737065,  0.80238836,  0.82811584,\n",
       "        0.82625807,  0.85305299])"
      ]
     },
     "execution_count": 421,
     "metadata": {},
     "output_type": "execute_result"
    }
   ],
   "source": [
    "y = x.mean(1)"
   ]
  },
  {
   "cell_type": "code",
   "execution_count": null,
   "metadata": {
    "collapsed": true
   },
   "outputs": [],
   "source": []
  },
  {
   "cell_type": "code",
   "execution_count": null,
   "metadata": {
    "collapsed": true
   },
   "outputs": [],
   "source": []
  }
 ],
 "metadata": {
  "kernelspec": {
   "display_name": "Python 2",
   "language": "python",
   "name": "python2"
  },
  "language_info": {
   "codemirror_mode": {
    "name": "ipython",
    "version": 2
   },
   "file_extension": ".py",
   "mimetype": "text/x-python",
   "name": "python",
   "nbconvert_exporter": "python",
   "pygments_lexer": "ipython2",
   "version": "2.7.12"
  }
 },
 "nbformat": 4,
 "nbformat_minor": 1
}
