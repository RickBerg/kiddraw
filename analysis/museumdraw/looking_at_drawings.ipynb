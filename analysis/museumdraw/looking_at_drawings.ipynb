{
 "cells": [
  {
   "cell_type": "code",
   "execution_count": 138,
   "metadata": {
    "collapsed": true
   },
   "outputs": [],
   "source": [
    "## remember to run conn_cocolab from the terminal before running cells in this notebook!\n",
    "\n",
    "import os\n",
    "import urllib, cStringIO\n",
    "\n",
    "import pymongo as pm\n",
    "\n",
    "import matplotlib\n",
    "from matplotlib import pylab, mlab, pyplot\n",
    "%matplotlib inline\n",
    "from IPython.core.pylabtools import figsize, getfigs\n",
    "plt = pyplot\n",
    "import seaborn as sns\n",
    "sns.set_context('poster')\n",
    "sns.set_style('white')\n",
    "\n",
    "import numpy as np\n",
    "from __future__ import division\n",
    "import scipy.stats as stats\n",
    "import pandas as pd\n",
    "import json\n",
    "import re\n",
    "\n",
    "from PIL import Image\n",
    "import base64"
   ]
  },
  {
   "cell_type": "code",
   "execution_count": null,
   "metadata": {
    "collapsed": true
   },
   "outputs": [],
   "source": []
  },
  {
   "cell_type": "code",
   "execution_count": 139,
   "metadata": {
    "collapsed": true
   },
   "outputs": [],
   "source": [
    "# directory & file hierarchy\n",
    "iterationName = 'test'\n",
    "exp_path = 'museumdraw'\n",
    "analysis_dir = os.getcwd()\n",
    "sketch_dir = os.path.join(analysis_dir,'sketches')\n",
    "if not os.path.exists(sketch_dir):\n",
    "    os.makedirs(sketch_dir)\n",
    "exp_dir = os.path.abspath(os.path.join(os.getcwd(),'../..','experiments'))"
   ]
  },
  {
   "cell_type": "code",
   "execution_count": 140,
   "metadata": {
    "collapsed": true
   },
   "outputs": [],
   "source": [
    "# set vars \n",
    "auth = pd.read_csv('../auth.txt', header = None) # this auth.txt file contains the password for the sketchloop user\n",
    "pswd = auth.values[0][0]\n",
    "user = 'sketchloop'\n",
    "host = 'rxdhawkins.me' ## cocolab ip address\n",
    "\n",
    "# have to fix this to be able to analyze from local\n",
    "import pymongo as pm\n",
    "conn = pm.MongoClient('mongodb://sketchloop:' + pswd + '@127.0.0.1')\n",
    "db = conn['kiddraw']\n",
    "coll = db['E1b']\n",
    "collPilot = db['E1']"
   ]
  },
  {
   "cell_type": "code",
   "execution_count": 141,
   "metadata": {},
   "outputs": [
    {
     "data": {
      "text/plain": [
       "Collection(Database(MongoClient(host=['127.0.0.1:27017'], document_class=dict, tz_aware=False, connect=True), u'kiddraw'), u'E1b')"
      ]
     },
     "execution_count": 141,
     "metadata": {},
     "output_type": "execute_result"
    }
   ],
   "source": [
    "coll\n"
   ]
  },
  {
   "cell_type": "code",
   "execution_count": 142,
   "metadata": {},
   "outputs": [
    {
     "data": {
      "text/plain": [
       "Collection(Database(MongoClient(host=['127.0.0.1:27017'], document_class=dict, tz_aware=False, connect=True), u'kiddraw'), u'E1')"
      ]
     },
     "execution_count": 142,
     "metadata": {},
     "output_type": "execute_result"
    }
   ],
   "source": [
    "collPilot"
   ]
  },
  {
   "cell_type": "code",
   "execution_count": 143,
   "metadata": {},
   "outputs": [
    {
     "name": "stdout",
     "output_type": "stream",
     "text": [
      "got age and sketches\n",
      "got age and sketches\n",
      "got age and sketches\n",
      "got age and sketches\n",
      "got age and sketches\n",
      "got age and sketches\n"
     ]
    }
   ],
   "source": [
    "final_images = coll.find({'dataType':'finalImage'}).sort('time')\n",
    "\n",
    "imsize = 224\n",
    "for rec in final_images:\n",
    "    imgData = rec['imgData'];\n",
    "    filestr = base64.b64decode(imgData)\n",
    "    if 'age' in rec.keys():\n",
    "        if rec['trialNum']>0:\n",
    "            print('got age and sketches')\n",
    "            fname = os.path.join(sketch_dir,'{}_sketch_Age_{}_{}.png'.format(rec['category'],rec['age'],rec['trialNum']))\n",
    "            with open(fname, \"wb\") as fh:\n",
    "                fh.write(imgData.decode('base64'))  "
   ]
  },
  {
   "cell_type": "code",
   "execution_count": 144,
   "metadata": {},
   "outputs": [
    {
     "name": "stdout",
     "output_type": "stream",
     "text": [
      "got sketches\n",
      "got sketches\n",
      "got sketches\n",
      "got sketches\n",
      "got sketches\n",
      "got sketches\n",
      "got sketches\n",
      "got sketches\n",
      "got sketches\n",
      "got sketches\n",
      "got sketches\n",
      "got sketches\n",
      "got sketches\n",
      "got sketches\n",
      "got sketches\n",
      "got sketches\n",
      "got sketches\n",
      "got sketches\n",
      "got sketches\n",
      "got sketches\n",
      "got sketches\n",
      "got sketches\n",
      "got sketches\n",
      "got sketches\n",
      "got sketches\n",
      "got sketches\n",
      "got sketches\n",
      "got sketches\n",
      "got sketches\n",
      "got sketches\n",
      "got sketches\n",
      "got sketches\n",
      "got sketches\n",
      "got sketches\n",
      "got sketches\n",
      "got sketches\n",
      "got sketches\n",
      "got sketches\n",
      "got sketches\n",
      "got sketches\n",
      "got sketches\n",
      "got sketches\n",
      "got sketches\n",
      "got sketches\n",
      "got sketches\n",
      "got sketches\n",
      "got sketches\n",
      "got sketches\n",
      "got sketches\n",
      "got sketches\n",
      "got sketches\n",
      "got sketches\n",
      "got sketches\n",
      "got sketches\n",
      "got sketches\n",
      "got sketches\n",
      "got sketches\n",
      "got sketches\n",
      "got sketches\n",
      "got sketches\n",
      "got sketches\n",
      "got sketches\n",
      "got sketches\n",
      "got sketches\n",
      "got sketches\n",
      "got sketches\n",
      "got sketches\n",
      "got sketches\n",
      "got sketches\n",
      "got sketches\n",
      "got sketches\n",
      "got sketches\n",
      "got sketches\n",
      "got sketches\n",
      "got sketches\n",
      "got sketches\n",
      "got sketches\n",
      "got sketches\n",
      "got sketches\n",
      "got sketches\n",
      "got sketches\n",
      "got sketches\n",
      "got sketches\n",
      "got sketches\n",
      "got sketches\n",
      "got sketches\n",
      "got sketches\n",
      "got sketches\n",
      "got sketches\n"
     ]
    }
   ],
   "source": [
    "final_images = collPilot.find({'dataType':'finalImage'}).sort('time')\n",
    "imsize = 224\n",
    "for rec in final_images:\n",
    "    imgData = rec['imgData'];\n",
    "    filestr = base64.b64decode(imgData)\n",
    "    if rec['trialNum']>0:\n",
    "        print('got sketches')\n",
    "        fname = os.path.join(sketch_dir,'{}_sketch_{}.png'.format(rec['category'],rec['trialNum']))\n",
    "        with open(fname, \"wb\") as fh:\n",
    "            fh.write(imgData.decode('base64'))"
   ]
  },
  {
   "cell_type": "code",
   "execution_count": 104,
   "metadata": {},
   "outputs": [
    {
     "data": {
      "text/plain": [
       "[u'category',\n",
       " u'dataType',\n",
       " u'trialNum',\n",
       " u'sessionId',\n",
       " u'time',\n",
       " u'date',\n",
       " u'imgData',\n",
       " u'_id']"
      ]
     },
     "execution_count": 104,
     "metadata": {},
     "output_type": "execute_result"
    }
   ],
   "source": []
  },
  {
   "cell_type": "code",
   "execution_count": 53,
   "metadata": {},
   "outputs": [
    {
     "data": {
      "text/plain": [
       "224"
      ]
     },
     "execution_count": 53,
     "metadata": {},
     "output_type": "execute_result"
    }
   ],
   "source": [
    "imsize"
   ]
  },
  {
   "cell_type": "code",
   "execution_count": null,
   "metadata": {
    "collapsed": true
   },
   "outputs": [],
   "source": []
  },
  {
   "cell_type": "code",
   "execution_count": null,
   "metadata": {
    "collapsed": true
   },
   "outputs": [],
   "source": []
  },
  {
   "cell_type": "code",
   "execution_count": null,
   "metadata": {
    "collapsed": true
   },
   "outputs": [],
   "source": []
  }
 ],
 "metadata": {
  "kernelspec": {
   "display_name": "Python 2",
   "language": "python",
   "name": "python2"
  },
  "language_info": {
   "codemirror_mode": {
    "name": "ipython",
    "version": 2
   },
   "file_extension": ".py",
   "mimetype": "text/x-python",
   "name": "python",
   "nbconvert_exporter": "python",
   "pygments_lexer": "ipython2",
   "version": "2.7.14"
  }
 },
 "nbformat": 4,
 "nbformat_minor": 1
}
