{
 "cells": [
  {
   "cell_type": "code",
   "execution_count": 2,
   "metadata": {},
   "outputs": [],
   "source": [
    "## remember to run conn_cocolab from the terminal before running cells in this notebook!\n",
    "import os\n",
    "import urllib, cStringIO\n",
    "\n",
    "import pymongo as pm\n",
    "\n",
    "import matplotlib\n",
    "from matplotlib import pylab, mlab, pyplot\n",
    "%matplotlib inline\n",
    "from IPython.core.pylabtools import figsize, getfigs\n",
    "plt = pyplot\n",
    "import seaborn as sns\n",
    "sns.set_context('poster')\n",
    "sns.set_style('white')\n",
    "\n",
    "import numpy as np\n",
    "from __future__ import division\n",
    "import scipy.stats as stats\n",
    "import pandas as pd\n",
    "import json\n",
    "import re\n",
    "\n",
    "from PIL import Image\n",
    "import base64"
   ]
  },
  {
   "cell_type": "markdown",
   "metadata": {},
   "source": [
    "### file hierarchy and database connection vars"
   ]
  },
  {
   "cell_type": "code",
   "execution_count": 3,
   "metadata": {},
   "outputs": [],
   "source": [
    "# directory & file hierarchy\n",
    "iterationName = 'Bingphotodraw_e1'\n",
    "exp_path = 'photodraw'\n",
    "analysis_dir = os.getcwd()\n",
    "exp_dir = os.path.abspath(os.path.join(os.getcwd(),'../..','experiments'))\n",
    "##\n",
    "sketch_dir = os.path.join(analysis_dir,'sketches')\n",
    "if not os.path.exists(sketch_dir):\n",
    "    os.makedirs(sketch_dir)\n",
    "## dir where we can keep all sketches not binned by category    \n"
   ]
  },
  {
   "cell_type": "code",
   "execution_count": 4,
   "metadata": {},
   "outputs": [],
   "source": [
    "# set vars \n",
    "auth = pd.read_csv('auth.txt', header = None) # this auth.txt file contains the password for the sketchloop user\n",
    "pswd = auth.values[0][0]\n",
    "user = 'sketchloop'\n",
    "host = 'rxdhawkins.me' ## cocolab ip address\n",
    "\n",
    "# have to fix this to be able to analyze from local\n",
    "import pymongo as pm\n",
    "conn = pm.MongoClient('mongodb://sketchloop:' + pswd + '@127.0.0.1')\n",
    "db = conn['kiddraw']\n",
    "coll = db['Bing_photodraw_e1']\n"
   ]
  },
  {
   "cell_type": "code",
   "execution_count": null,
   "metadata": {},
   "outputs": [],
   "source": []
  },
  {
   "cell_type": "code",
   "execution_count": null,
   "metadata": {},
   "outputs": [],
   "source": []
  },
  {
   "cell_type": "markdown",
   "metadata": {},
   "source": [
    "### Preprocessing data and rendering images"
   ]
  },
  {
   "cell_type": "markdown",
   "metadata": {},
   "source": [
    "Notes:\n",
    "There are two types of records in the database: 'stroke' and 'finalImage'. This is stored under the key: 'dataType'.\n",
    "The 'stroke'-type of record contains the svg string information. Every stroke event is stored as a separate record.\n",
    "The session identifier is called \"sessionId\".\n",
    "\n",
    "\n"
   ]
  },
  {
   "cell_type": "code",
   "execution_count": 5,
   "metadata": {},
   "outputs": [
    {
     "name": "stdout",
     "output_type": "stream",
     "text": [
      "We currently have 16 valid sessions from Bing_photodraw_e1.\n"
     ]
    }
   ],
   "source": [
    "# experiment_name = 'Bingphotodraw_pilot'\n",
    "experiment_name = 'Bing_photodraw_e1'\n",
    "\n",
    "all_sessions = coll.distinct('sessionId') ## this returns ALL sessions in this collection. we will then filter on time_threshold\n",
    "valid_sessions = coll.find().distinct('sessionId')\n",
    "print 'We currently have {} valid sessions from {}.'.format(len(valid_sessions), experiment_name)\n"
   ]
  },
  {
   "cell_type": "code",
   "execution_count": null,
   "metadata": {},
   "outputs": [],
   "source": []
  },
  {
   "cell_type": "code",
   "execution_count": 14,
   "metadata": {},
   "outputs": [],
   "source": [
    "really_run_this = 1\n",
    "if really_run_this:\n",
    "    ## img writing parameters\n",
    "    imsize = 224\n",
    "    \n",
    "    ## desired output: a dataframe that has trials on the rows, and the following columns:\n",
    "    ## category, age, number of strokes, mean_pixel_intensity, bounding_box_coordinates_LTRB, list of strokes, \n",
    "    ## PNG string, submission_time, submission_date\n",
    "    ## to be saved out as a nice tidy CSV\n",
    "    session_id = []\n",
    "    trial_num = []\n",
    "    category = []\n",
    "    num_strokes = []\n",
    "    mean_pixel_intensity = []\n",
    "    bounding_box_coords = []\n",
    "    svg = []\n",
    "    kidName = []\n",
    "    svg_times = []\n",
    "    png = []\n",
    "    submit_time = []\n",
    "    submit_date = []\n",
    "    draw_duration = []\n",
    "    filename = []\n",
    "    countErr = 0\n",
    "    for s in valid_sessions:\n",
    "        this_collection = coll\n",
    "        image_recs = this_collection.find({'$and': [{'sessionId':s}, {'dataType':'finalImage'}]}).sort('time')    \n",
    "        for imrec in image_recs:                                                            \n",
    "                stroke_recs = this_collection.find({'$and': [ \n",
    "                                                  {'sessionId':s}, \n",
    "                                                  {'dataType':'stroke'},\n",
    "                                                  {'trialNum': imrec['trialNum']}]}).sort('time')   \n",
    "\n",
    "                if stroke_recs.count() > 0: ## only include trials if the drawings are not blank            \n",
    "                    session_id.append(imrec['sessionId'])        \n",
    "                    trial_num.append(imrec['trialNum']) \n",
    "                    category.append(imrec['category'])\n",
    "                    \n",
    "                    \n",
    "                    try:    \n",
    "                        png.append(imrec['imgData'])\n",
    "                        submit_time.append(imrec['time'])\n",
    "                        submit_date.append(imrec['date'])\n",
    "                        filename.append(os.path.join(sketch_dir,'{}_sketch_{}_{}_{}.png'.format(imrec['category'], imrec['subID'],imrec['sessionId'], imrec['condition'])))\n",
    "                        num_strokes.append(stroke_recs.count())\n",
    "                        _svg = [] # this keeps track of the strokes from THIS final image\n",
    "                        _svg_times = []\n",
    "                        for strec in stroke_recs:\n",
    "                            _svg.append(strec['svg'])\n",
    "                            _svg_times.append(strec['time'])\n",
    "                        draw_duration.append((_svg_times[-1] - _svg_times[0])/1000) ## in seconds\n",
    "                        svg.append(_svg)\n",
    "                        svg_times.append(_svg_times)\n",
    "\n",
    "                        ## and write out image data here too\n",
    "                        imgData = imrec['imgData'];\n",
    "                        filestr = base64.b64decode(imgData)\n",
    "                        child_dir = os.path.join(sketch_dir,imrec['subID'])\n",
    "                        if not os.path.exists(child_dir):\n",
    "                            os.makedirs(child_dir)\n",
    "                        fname = os.path.join(child_dir,'{}_sketch_{}_{}_{}.png'.format(imrec['category'], imrec['subID'],imrec['sessionId'],imrec['condition']))\n",
    "                        with open(fname, \"wb\") as fh:\n",
    "                            fh.write(imgData.decode('base64'))  \n",
    "                    except:\n",
    "                        print('something went wrong with an image')\n",
    "                        countErr = countErr + 1\n",
    "                        print imrec['category']\n",
    "                        child_dir = os.path.join(sketch_dir,'noname')\n",
    "                        if not os.path.exists(child_dir):\n",
    "                            os.makedirs(child_dir)\n",
    "                        fname = os.path.join(child_dir,'{}_sketch_{}_{}.png'.format(imrec['category'], 'noname',imrec['sessionId']))\n",
    "                        with open(fname, \"wb\") as fh:\n",
    "                            fh.write(imgData.decode('base64'))  \n",
    "                        "
   ]
  },
  {
   "cell_type": "code",
   "execution_count": 7,
   "metadata": {},
   "outputs": [
    {
     "data": {
      "text/plain": [
       "{u'_id': ObjectId('5b4e2e5e07aab50b0de2e7e7'),\n",
       " u'category': u'cat',\n",
       " u'condition': u'S',\n",
       " u'counter_balancing': u'1',\n",
       " u'dataType': u'finalImage',\n",
       " u'date': u'2018-07-17T17:58:54.022Z',\n",
       " u'imgData': u'iVBORw0KGgoAAAANSUhEUgAAAJYAAACWCAYAAAA8AXHiAAAAAXNSR0IArs4c6QAAAaFJREFUeAHt0DEBAAAAwqD1T20LL4hAYcCAAQMGDBgwYMCAAQMGDBgwYMCAAQMGDBgwYMCAAQMGDBgwYMCAAQMGDBgwYMCAAQMGDBgwYMCAAQMGDBgwYMCAAQMGDBgwYMCAAQMGDBgwYMCAAQMGDBgwYMCAAQMGDBgwYMCAAQMGDBgwYMCAAQMGDBgwYMCAAQMGDBgwYMCAAQMGDBgwYMCAAQMGDBgwYMCAAQMGDBgwYMCAAQMGDBgwYMCAAQMGDBgwYMCAAQMGDBgwYMCAAQMGDBgwYMCAAQMGDBgwYMCAAQMGDBgwYMCAAQMGDBgwYMCAAQMGDBgwYMCAAQMGDBgwYMCAAQMGDBgwYMCAAQMGDBgwYMCAAQMGDBgwYMCAAQMGDBgwYMCAAQMGDBgwYMCAAQMGDBgwYMCAAQMGDBgwYMCAAQMGDBgwYMCAAQMGDBgwYMCAAQMGDBgwYMCAAQMGDBgwYMCAAQMGDBgwYMCAAQMGDBgwYMCAAQMGDBgwYMCAAQMGDBgwYMCAAQMGDBgwYMCAAQMGDBgwYMCAAQO/gQFgNQAB6po22QAAAABJRU5ErkJggg==',\n",
       " u'kidName': u'MASON PHILLIPS ',\n",
       " u'location': u'Bing',\n",
       " u'sessionId': u'Bing_photodraw_e11531846929758',\n",
       " u'subID': u'Sub07',\n",
       " u'time': 1531850334022.0,\n",
       " u'trialNum': 17}"
      ]
     },
     "execution_count": 7,
     "metadata": {},
     "output_type": "execute_result"
    }
   ],
   "source": [
    "imrec"
   ]
  },
  {
   "cell_type": "code",
   "execution_count": 9,
   "metadata": {},
   "outputs": [],
   "source": [
    "if really_run_this:\n",
    "    X = pd.DataFrame([session_id,trial_num,category,submit_time,submit_date,num_strokes,svg,svg_times,png,draw_duration,filename])\n",
    "    X = X.transpose()\n",
    "    X.columns = ['session_id','trial_num','category','submit_time','submit_date','num_strokes','svg','svg_times','png','draw_duration', 'filename']\n",
    "\n"
   ]
  },
  {
   "cell_type": "code",
   "execution_count": null,
   "metadata": {},
   "outputs": [],
   "source": []
  },
  {
   "cell_type": "code",
   "execution_count": 10,
   "metadata": {},
   "outputs": [
    {
     "name": "stdout",
     "output_type": "stream",
     "text": [
      "190\n",
      "[12, 16, 18, 18, 17, 4, 18, 16, 14, 17, 18, 6, 16]\n"
     ]
    }
   ],
   "source": [
    "categories = [i for i in os.listdir('sketches') if i != '.DS_Store']\n",
    "num_ims = 0\n",
    "ims_per_cat = []\n",
    "for c in categories:\n",
    "    num_ims += len([i for i in os.listdir(os.path.join('sketches',c)) if i != '.DS_Store'])\n",
    "    ims_per_cat.append(len([i for i in os.listdir(os.path.join('sketches',c)) if i != '.DS_Store']))\n",
    "    \n",
    "print num_ims\n",
    "print ims_per_cat"
   ]
  },
  {
   "cell_type": "code",
   "execution_count": 11,
   "metadata": {},
   "outputs": [
    {
     "data": {
      "image/png": "[encoded data removed]",
      "text/plain": [
       "<Figure size 432x288 with 1 Axes>"
      ]
     },
     "metadata": {},
     "output_type": "display_data"
    }
   ],
   "source": [
    "plt.bar(categories,ims_per_cat)\n",
    "frame1=plt.gca()\n",
    "frame1.axes.get_xaxis().set_visible(False)\n"
   ]
  },
  {
   "cell_type": "code",
   "execution_count": null,
   "metadata": {},
   "outputs": [],
   "source": [
    "X_out.draw_duration"
   ]
  },
  {
   "cell_type": "markdown",
   "metadata": {},
   "source": [
    "### load drawing metadata csv back in"
   ]
  },
  {
   "cell_type": "code",
   "execution_count": null,
   "metadata": {},
   "outputs": [],
   "source": []
  },
  {
   "cell_type": "markdown",
   "metadata": {},
   "source": [
    "### Basic visualizations"
   ]
  },
  {
   "cell_type": "code",
   "execution_count": null,
   "metadata": {},
   "outputs": [],
   "source": []
  },
  {
   "cell_type": "code",
   "execution_count": null,
   "metadata": {},
   "outputs": [],
   "source": [
    "fig = plt.figure(figsize=(4,4))\n",
    "h = plt.hist(X.num_strokes.values,normed=True)\n",
    "plt.ylabel('proportion')\n",
    "plt.xlabel('number of strokes')"
   ]
  },
  {
   "cell_type": "code",
   "execution_count": null,
   "metadata": {},
   "outputs": [],
   "source": [
    "fig = plt.figure(figsize=(4,4))\n",
    "h = plt.hist(X.draw_duration.values,normed=True)\n",
    "plt.ylabel('proportion')\n",
    "plt.xlabel('draw duration')"
   ]
  },
  {
   "cell_type": "code",
   "execution_count": null,
   "metadata": {},
   "outputs": [],
   "source": [
    "plt.figure(figsize=(14,4))\n",
    "\n",
    "plt.subplot(1,3,1)\n",
    "seq = np.arange(4,10)\n",
    "sns.barplot(data=X,x='age',y='num_strokes',order=seq,palette=\"Greens_d\")\n",
    "plt.ylabel('number of strokes')\n",
    "\n",
    "plt.subplot(1,3,2)\n",
    "seq = np.arange(4,10)\n",
    "\n",
    "sns.barplot(data=X,x='age',y='draw_duration',order=seq, palette=\"Greens_d\")\n",
    "plt.ylabel('draw duration (s)')\n",
    "\n",
    "# plt.subplot(1,3,3)\n",
    "# seq = np.arange(4,10)\n",
    "# sns.barplot(data=X,x='age',y='mean_intensity',order=seq,palette=\"Greens_d\")\n",
    "# plt.ylabel('mean pixel intensity')\n",
    "\n",
    "plt.tight_layout()"
   ]
  },
  {
   "cell_type": "code",
   "execution_count": null,
   "metadata": {},
   "outputs": [],
   "source": [
    "X.category"
   ]
  },
  {
   "cell_type": "code",
   "execution_count": null,
   "metadata": {},
   "outputs": [],
   "source": [
    "unique = X.drop_duplicates([\"session_id\"])\n",
    "unique.count()\n",
    "# sum(unique.age != 'adult')\n",
    "sum(unique.age != 'adult')"
   ]
  },
  {
   "cell_type": "code",
   "execution_count": null,
   "metadata": {},
   "outputs": [],
   "source": [
    "X."
   ]
  },
  {
   "cell_type": "code",
   "execution_count": null,
   "metadata": {},
   "outputs": [],
   "source": [
    "unique"
   ]
  },
  {
   "cell_type": "code",
   "execution_count": null,
   "metadata": {},
   "outputs": [],
   "source": [
    "categories = [i for i in os.listdir('sketches') if i != '.DS_Store']\n",
    "num_ims = 0\n",
    "ims_per_cat = []\n",
    "for c in categories:\n",
    "    num_ims += len([i for i in os.listdir(os.path.join('sketches',c)) if i != '.DS_Store'])\n",
    "    ims_per_cat.append(len([i for i in os.listdir(os.path.join('sketches',c)) if i != '.DS_Store']))\n",
    "    \n",
    "print num_ims\n",
    "print ims_per_cat"
   ]
  },
  {
   "cell_type": "code",
   "execution_count": null,
   "metadata": {
    "collapsed": true
   },
   "outputs": [],
   "source": []
  },
  {
   "cell_type": "code",
   "execution_count": null,
   "metadata": {
    "collapsed": true
   },
   "outputs": [],
   "source": []
  },
  {
   "cell_type": "code",
   "execution_count": null,
   "metadata": {
    "collapsed": true
   },
   "outputs": [],
   "source": []
  },
  {
   "cell_type": "code",
   "execution_count": null,
   "metadata": {
    "collapsed": true
   },
   "outputs": [],
   "source": []
  },
  {
   "cell_type": "code",
   "execution_count": null,
   "metadata": {
    "collapsed": true
   },
   "outputs": [],
   "source": []
  },
  {
   "cell_type": "code",
   "execution_count": null,
   "metadata": {
    "collapsed": true
   },
   "outputs": [],
   "source": []
  }
 ],
 "metadata": {
  "kernelspec": {
   "display_name": "Python 2",
   "language": "python",
   "name": "python2"
  },
  "language_info": {
   "codemirror_mode": {
    "name": "ipython",
    "version": 2
   },
   "file_extension": ".py",
   "mimetype": "text/x-python",
   "name": "python",
   "nbconvert_exporter": "python",
   "pygments_lexer": "ipython2",
   "version": "2.7.15"
  }
 },
 "nbformat": 4,
 "nbformat_minor": 1
}
