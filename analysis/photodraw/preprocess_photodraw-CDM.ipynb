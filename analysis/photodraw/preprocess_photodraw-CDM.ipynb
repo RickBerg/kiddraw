{
 "cells": [
  {
   "cell_type": "code",
   "execution_count": 1,
   "metadata": {
    "collapsed": true
   },
   "outputs": [],
   "source": [
    "## remember to run conn_cocolab from the terminal before running cells in this notebook!\n",
    "import os\n",
    "import urllib, cStringIO\n",
    "\n",
    "import pymongo as pm\n",
    "\n",
    "import matplotlib\n",
    "from matplotlib import pylab, mlab, pyplot\n",
    "%matplotlib inline\n",
    "from IPython.core.pylabtools import figsize, getfigs\n",
    "plt = pyplot\n",
    "import seaborn as sns\n",
    "sns.set_context('poster')\n",
    "sns.set_style('white')\n",
    "\n",
    "import numpy as np\n",
    "from __future__ import division\n",
    "import scipy.stats as stats\n",
    "import pandas as pd\n",
    "import json\n",
    "import re\n",
    "\n",
    "from PIL import Image\n",
    "import base64"
   ]
  },
  {
   "cell_type": "markdown",
   "metadata": {},
   "source": [
    "### file hierarchy and database connection vars"
   ]
  },
  {
   "cell_type": "code",
   "execution_count": 2,
   "metadata": {
    "collapsed": true
   },
   "outputs": [],
   "source": [
    "# directory & file hierarchy\n",
    "iterationName = 'CDMphotodraw_pilot'\n",
    "exp_path = 'photodraw'\n",
    "analysis_dir = os.getcwd()\n",
    "exp_dir = os.path.abspath(os.path.join(os.getcwd(),'../..','experiments'))\n",
    "##\n",
    "sketch_dir = os.path.join(analysis_dir,'sketches_CDM')\n",
    "if not os.path.exists(sketch_dir):\n",
    "    os.makedirs(sketch_dir)\n",
    "## dir where we can keep all sketches not binned by category    \n"
   ]
  },
  {
   "cell_type": "code",
   "execution_count": 3,
   "metadata": {
    "collapsed": true
   },
   "outputs": [],
   "source": [
    "# set vars \n",
    "auth = pd.read_csv('auth.txt', header = None) # this auth.txt file contains the password for the sketchloop user\n",
    "pswd = auth.values[0][0]\n",
    "user = 'sketchloop'\n",
    "host = 'rxdhawkins.me' ## cocolab ip address\n",
    "\n",
    "# have to fix this to be able to analyze from local\n",
    "import pymongo as pm\n",
    "conn = pm.MongoClient('mongodb://sketchloop:' + pswd + '@127.0.0.1')\n",
    "db = conn['kiddraw']\n",
    "coll = db['CDM_photodraw_e1']\n"
   ]
  },
  {
   "cell_type": "code",
   "execution_count": null,
   "metadata": {
    "collapsed": true
   },
   "outputs": [],
   "source": []
  },
  {
   "cell_type": "code",
   "execution_count": null,
   "metadata": {
    "collapsed": true
   },
   "outputs": [],
   "source": []
  },
  {
   "cell_type": "markdown",
   "metadata": {},
   "source": [
    "### Preprocessing data and rendering images"
   ]
  },
  {
   "cell_type": "markdown",
   "metadata": {},
   "source": [
    "Notes:\n",
    "There are two types of records in the database: 'stroke' and 'finalImage'. This is stored under the key: 'dataType'.\n",
    "The 'stroke'-type of record contains the svg string information. Every stroke event is stored as a separate record.\n",
    "The session identifier is called \"sessionId\".\n",
    "\n",
    "\n"
   ]
  },
  {
   "cell_type": "code",
   "execution_count": 8,
   "metadata": {},
   "outputs": [
    {
     "name": "stdout",
     "output_type": "stream",
     "text": [
      "We currently have 9 valid sessions from CDM_photodraw_pilot.\n"
     ]
    }
   ],
   "source": [
    "# experiment_name = 'CDM_photodraw_pilot'\n",
    "experiment_name = 'CDM_photodraw_pilot'\n",
    "\n",
    "all_sessions = coll.distinct('sessionId') ## this returns ALL sessions in this collection. we will then filter on time_threshold\n",
    "valid_sessions = coll.find().distinct('sessionId')\n",
    "print 'We currently have {} valid sessions from {}.'.format(len(valid_sessions), experiment_name)\n"
   ]
  },
  {
   "cell_type": "code",
   "execution_count": 13,
   "metadata": {
    "collapsed": true
   },
   "outputs": [],
   "source": [
    "## bad session IDs:\n",
    "# bad instructions, 1st subjects, forgot to be explicit about recognizability\n",
    "#CDM_photodraw_e11532109648493 - \n",
    "#CDM_photodraw_e11532110198274\n",
    "\n",
    "# Parent kept instructing child how to draw\n",
    "# CDM_photodraw_e11532120540660"
   ]
  },
  {
   "cell_type": "code",
   "execution_count": 14,
   "metadata": {
    "collapsed": true
   },
   "outputs": [],
   "source": [
    "really_run_this = 1\n",
    "if really_run_this:\n",
    "    ## img writing parameters\n",
    "    imsize = 224\n",
    "    \n",
    "    ## desired output: a dataframe that has trials on the rows, and the following columns:\n",
    "    ## category, age, number of strokes, mean_pixel_intensity, bounding_box_coordinates_LTRB, list of strokes, \n",
    "    ## PNG string, submission_time, submission_date\n",
    "    ## to be saved out as a nice tidy CSV\n",
    "    session_id = []\n",
    "    trial_num = []\n",
    "    category = []\n",
    "    num_strokes = []\n",
    "    mean_pixel_intensity = []\n",
    "    bounding_box_coords = []\n",
    "    svg = []\n",
    "    kidName = []\n",
    "    svg_times = []\n",
    "    png = []\n",
    "    submit_time = []\n",
    "    submit_date = []\n",
    "    draw_duration = []\n",
    "    filename = []\n",
    "    age=[]\n",
    "    countErr = 0\n",
    "    for s in valid_sessions:\n",
    "        this_collection = coll\n",
    "        image_recs = this_collection.find({'$and': [{'sessionId':s}, {'dataType':'finalImage'}]}).sort('time')    \n",
    "        for imrec in image_recs:                                                            \n",
    "                stroke_recs = this_collection.find({'$and': [ \n",
    "                                                  {'sessionId':s}, \n",
    "                                                  {'dataType':'stroke'},\n",
    "                                                  {'trialNum': imrec['trialNum']}]}).sort('time')   \n",
    "                \n",
    "                if stroke_recs.count() > 0: ## only include trials if the drawings are not blank            \n",
    "                    session_id.append(imrec['sessionId'])        \n",
    "                    trial_num.append(imrec['trialNum']) \n",
    "                    category.append(imrec['category'])\n",
    "                    \n",
    "                    \n",
    "                    try:    \n",
    "                        png.append(imrec['imgData'])\n",
    "                        submit_time.append(imrec['time'])\n",
    "                        submit_date.append(imrec['date'])\n",
    "                        age.append(imrec['age'])\n",
    "                        filename.append(os.path.join(sketch_dir,'{}_sketch_{}_{}_{}.png'.format(imrec['category'], imrec['sessionId'], imrec['condition'], imrec['age'])))\n",
    "                        num_strokes.append(stroke_recs.count())\n",
    "                        _svg = [] # this keeps track of the strokes from THIS final image\n",
    "                        _svg_times = []\n",
    "                        for strec in stroke_recs:\n",
    "                            _svg.append(strec['svg'])\n",
    "                            _svg_times.append(strec['time'])\n",
    "                        draw_duration.append((_svg_times[-1] - _svg_times[0])/1000) ## in seconds\n",
    "                        svg.append(_svg)\n",
    "                        svg_times.append(_svg_times)\n",
    "\n",
    "                        ## and write out image data here too\n",
    "                        imgData = imrec['imgData'];\n",
    "                        filestr = base64.b64decode(imgData)\n",
    "                        child_dir = os.path.join(sketch_dir,imrec['sessionId'])\n",
    "                        if not os.path.exists(child_dir):\n",
    "                            os.makedirs(child_dir)\n",
    "                        fname = os.path.join(child_dir,'{}_sketch_{}_{}_{}.png'.format(imrec['category'],imrec['sessionId'],imrec['condition'], imrec['age']))\n",
    "                        with open(fname, \"wb\") as fh:\n",
    "                            fh.write(imgData.decode('base64'))  \n",
    "                    except:\n",
    "                        print('something went wrong with an image')\n",
    "                        countErr = countErr + 1\n",
    "                        print imrec['category']\n",
    "                        child_dir = os.path.join(sketch_dir,'noname')\n",
    "                        if not os.path.exists(child_dir):\n",
    "                            os.makedirs(child_dir)\n",
    "                        fname = os.path.join(child_dir,'{}_sketch_{}_{}.png'.format(imrec['category'], 'noname',imrec['sessionId']))\n",
    "                        with open(fname, \"wb\") as fh:\n",
    "                            fh.write(imgData.decode('base64'))  \n",
    "                        "
   ]
  },
  {
   "cell_type": "code",
   "execution_count": null,
   "metadata": {},
   "outputs": [],
   "source": []
  },
  {
   "cell_type": "code",
   "execution_count": null,
   "metadata": {
    "collapsed": true
   },
   "outputs": [],
   "source": []
  },
  {
   "cell_type": "code",
   "execution_count": 15,
   "metadata": {
    "collapsed": true
   },
   "outputs": [],
   "source": [
    "if really_run_this:\n",
    "    X = pd.DataFrame([session_id,age,trial_num,category,submit_time,submit_date,num_strokes,svg,svg_times,png,draw_duration,filename])\n",
    "    X = X.transpose()\n",
    "    X.columns = ['session_id','age','trial_num','category','submit_time','submit_date','num_strokes','svg','svg_times','png','draw_duration', 'filename']\n",
    "\n"
   ]
  },
  {
   "cell_type": "code",
   "execution_count": 58,
   "metadata": {},
   "outputs": [
    {
     "data": {
      "text/html": [
       "<div>\n",
       "<style scoped>\n",
       "    .dataframe tbody tr th:only-of-type {\n",
       "        vertical-align: middle;\n",
       "    }\n",
       "\n",
       "    .dataframe tbody tr th {\n",
       "        vertical-align: top;\n",
       "    }\n",
       "\n",
       "    .dataframe thead th {\n",
       "        text-align: right;\n",
       "    }\n",
       "</style>\n",
       "<table border=\"1\" class=\"dataframe\">\n",
       "  <thead>\n",
       "    <tr style=\"text-align: right;\">\n",
       "      <th></th>\n",
       "      <th>session_id</th>\n",
       "      <th>age</th>\n",
       "      <th>trial_num</th>\n",
       "      <th>category</th>\n",
       "      <th>submit_time</th>\n",
       "      <th>submit_date</th>\n",
       "      <th>num_strokes</th>\n",
       "      <th>svg</th>\n",
       "      <th>svg_times</th>\n",
       "      <th>png</th>\n",
       "      <th>draw_duration</th>\n",
       "      <th>filename</th>\n",
       "    </tr>\n",
       "  </thead>\n",
       "  <tbody>\n",
       "    <tr>\n",
       "      <th>0</th>\n",
       "      <td>CDM_photodraw_pilot1531956917458</td>\n",
       "      <td>age5</td>\n",
       "      <td>0</td>\n",
       "      <td>this square</td>\n",
       "      <td>1.53196e+12</td>\n",
       "      <td>2018-07-18T23:39:33.427Z</td>\n",
       "      <td>1</td>\n",
       "      <td>[M220.71875,194.51563l-2,-2v2l-1,1l-1,2l-1,2v2...</td>\n",
       "      <td>[1.53195717149e+12]</td>\n",
       "      <td>iVBORw0KGgoAAAANSUhEUgAAAJYAAACWCAYAAAA8AXHiAA...</td>\n",
       "      <td>0</td>\n",
       "      <td>/Users/langcogresearchassistants/Desktop/kiddr...</td>\n",
       "    </tr>\n",
       "    <tr>\n",
       "      <th>1</th>\n",
       "      <td>CDM_photodraw_pilot1531956917458</td>\n",
       "      <td>age5</td>\n",
       "      <td>1</td>\n",
       "      <td>this shape</td>\n",
       "      <td>1.53196e+12</td>\n",
       "      <td>2018-07-18T23:39:53.062Z</td>\n",
       "      <td>1</td>\n",
       "      <td>[M356.71875,26.51563v3v1v1v2v1l-1,2v1v2l-1,2l-...</td>\n",
       "      <td>[1.53195719181e+12]</td>\n",
       "      <td>iVBORw0KGgoAAAANSUhEUgAAAJYAAACWCAYAAAA8AXHiAA...</td>\n",
       "      <td>0</td>\n",
       "      <td>/Users/langcogresearchassistants/Desktop/kiddr...</td>\n",
       "    </tr>\n",
       "    <tr>\n",
       "      <th>2</th>\n",
       "      <td>CDM_photodraw_pilot1531956917458</td>\n",
       "      <td>age5</td>\n",
       "      <td>2</td>\n",
       "      <td>this circle</td>\n",
       "      <td>1.53196e+12</td>\n",
       "      <td>2018-07-18T23:40:02.623Z</td>\n",
       "      <td>1</td>\n",
       "      <td>[M367.71875,128.51563l6,-4h3h3h3l3,1l4,1l3,1l4...</td>\n",
       "      <td>[1.53195720137e+12]</td>\n",
       "      <td>iVBORw0KGgoAAAANSUhEUgAAAJYAAACWCAYAAAA8AXHiAA...</td>\n",
       "      <td>0</td>\n",
       "      <td>/Users/langcogresearchassistants/Desktop/kiddr...</td>\n",
       "    </tr>\n",
       "    <tr>\n",
       "      <th>3</th>\n",
       "      <td>CDM_photodraw_pilot1531956917458</td>\n",
       "      <td>age5</td>\n",
       "      <td>3</td>\n",
       "      <td>cup</td>\n",
       "      <td>1.53196e+12</td>\n",
       "      <td>2018-07-18T23:40:45.271Z</td>\n",
       "      <td>1</td>\n",
       "      <td>[M229.71875,190.51563l-2,5v2v3v3v3v4v4v4l-1,4v...</td>\n",
       "      <td>[1.53195722314e+12]</td>\n",
       "      <td>iVBORw0KGgoAAAANSUhEUgAAAJYAAACWCAYAAAA8AXHiAA...</td>\n",
       "      <td>0</td>\n",
       "      <td>/Users/langcogresearchassistants/Desktop/kiddr...</td>\n",
       "    </tr>\n",
       "    <tr>\n",
       "      <th>4</th>\n",
       "      <td>CDM_photodraw_pilot1531956917458</td>\n",
       "      <td>age5</td>\n",
       "      <td>4</td>\n",
       "      <td>cat</td>\n",
       "      <td>1.53196e+12</td>\n",
       "      <td>2018-07-18T23:41:05.047Z</td>\n",
       "      <td>6</td>\n",
       "      <td>[M158.71875,211.51563l1,-9v-3l3,-5l3,-6l5,-8l3...</td>\n",
       "      <td>[1.53195725607e+12, 1.53195725963e+12, 1.53195...</td>\n",
       "      <td>iVBORw0KGgoAAAANSUhEUgAAAJYAAACWCAYAAAA8AXHiAA...</td>\n",
       "      <td>7.187</td>\n",
       "      <td>/Users/langcogresearchassistants/Desktop/kiddr...</td>\n",
       "    </tr>\n",
       "    <tr>\n",
       "      <th>5</th>\n",
       "      <td>CDM_photodraw_pilot1531956917458</td>\n",
       "      <td>age5</td>\n",
       "      <td>5</td>\n",
       "      <td>rabbit</td>\n",
       "      <td>1.53196e+12</td>\n",
       "      <td>2018-07-18T23:41:28.505Z</td>\n",
       "      <td>6</td>\n",
       "      <td>[M176.71875,314.51563l-6,-7v-4l-2,-4l-1,-3l-2,...</td>\n",
       "      <td>[1.53195727781e+12, 1.53195728068e+12, 1.53195...</td>\n",
       "      <td>iVBORw0KGgoAAAANSUhEUgAAAJYAAACWCAYAAAA8AXHiAA...</td>\n",
       "      <td>9.259</td>\n",
       "      <td>/Users/langcogresearchassistants/Desktop/kiddr...</td>\n",
       "    </tr>\n",
       "    <tr>\n",
       "      <th>6</th>\n",
       "      <td>CDM_photodraw_pilot1531956917458</td>\n",
       "      <td>age5</td>\n",
       "      <td>6</td>\n",
       "      <td>train</td>\n",
       "      <td>1.53196e+12</td>\n",
       "      <td>2018-07-18T23:41:48.723Z</td>\n",
       "      <td>10</td>\n",
       "      <td>[M152.71875,267.51563l-5,2v2l-1,2l-1,2l-2,3l-1...</td>\n",
       "      <td>[1.53195729626e+12, 1.53195729779e+12, 1.53195...</td>\n",
       "      <td>iVBORw0KGgoAAAANSUhEUgAAAJYAAACWCAYAAAA8AXHiAA...</td>\n",
       "      <td>11.744</td>\n",
       "      <td>/Users/langcogresearchassistants/Desktop/kiddr...</td>\n",
       "    </tr>\n",
       "    <tr>\n",
       "      <th>7</th>\n",
       "      <td>CDM_photodraw_pilot1531956917458</td>\n",
       "      <td>age5</td>\n",
       "      <td>7</td>\n",
       "      <td>shoe</td>\n",
       "      <td>1.53196e+12</td>\n",
       "      <td>2018-07-18T23:42:06.001Z</td>\n",
       "      <td>6</td>\n",
       "      <td>[M55.71875,419.51563l3,4h3l3,1h4l4,1h4h6h5l6,-...</td>\n",
       "      <td>[1.53195731858e+12, 1.53195732118e+12, 1.53195...</td>\n",
       "      <td>iVBORw0KGgoAAAANSUhEUgAAAJYAAACWCAYAAAA8AXHiAA...</td>\n",
       "      <td>6.833</td>\n",
       "      <td>/Users/langcogresearchassistants/Desktop/kiddr...</td>\n",
       "    </tr>\n",
       "    <tr>\n",
       "      <th>8</th>\n",
       "      <td>CDM_photodraw_pilot1531957626343</td>\n",
       "      <td>age5</td>\n",
       "      <td>0</td>\n",
       "      <td>this square</td>\n",
       "      <td>1.53196e+12</td>\n",
       "      <td>2018-07-18T23:47:27.151Z</td>\n",
       "      <td>1</td>\n",
       "      <td>[M207.71875,188.51563l6,-5h1h1h1h2h2h1h2h2h2h1...</td>\n",
       "      <td>[1.53195764635e+12]</td>\n",
       "      <td>iVBORw0KGgoAAAANSUhEUgAAAJYAAACWCAYAAAA8AXHiAA...</td>\n",
       "      <td>0</td>\n",
       "      <td>/Users/langcogresearchassistants/Desktop/kiddr...</td>\n",
       "    </tr>\n",
       "    <tr>\n",
       "      <th>9</th>\n",
       "      <td>CDM_photodraw_pilot1531957626343</td>\n",
       "      <td>age5</td>\n",
       "      <td>1</td>\n",
       "      <td>this shape</td>\n",
       "      <td>1.53196e+12</td>\n",
       "      <td>2018-07-18T23:47:42.248Z</td>\n",
       "      <td>2</td>\n",
       "      <td>[M355.71875,26.51563l-5,5v2v1v2l-1,2l-1,1l-1,2...</td>\n",
       "      <td>[1.53195765744e+12, 1.53195766165e+12]</td>\n",
       "      <td>iVBORw0KGgoAAAANSUhEUgAAAJYAAACWCAYAAAA8AXHiAA...</td>\n",
       "      <td>4.209</td>\n",
       "      <td>/Users/langcogresearchassistants/Desktop/kiddr...</td>\n",
       "    </tr>\n",
       "    <tr>\n",
       "      <th>10</th>\n",
       "      <td>CDM_photodraw_pilot1531957626343</td>\n",
       "      <td>age5</td>\n",
       "      <td>2</td>\n",
       "      <td>this circle</td>\n",
       "      <td>1.53196e+12</td>\n",
       "      <td>2018-07-18T23:47:50.693Z</td>\n",
       "      <td>1</td>\n",
       "      <td>[M536.71875,272.51563l-1,8v2v2v3l1,3v4l1,3v4l1...</td>\n",
       "      <td>[1.53195767014e+12]</td>\n",
       "      <td>iVBORw0KGgoAAAANSUhEUgAAAJYAAACWCAYAAAA8AXHiAA...</td>\n",
       "      <td>0</td>\n",
       "      <td>/Users/langcogresearchassistants/Desktop/kiddr...</td>\n",
       "    </tr>\n",
       "    <tr>\n",
       "      <th>11</th>\n",
       "      <td>CDM_photodraw_pilot1531957626343</td>\n",
       "      <td>age5</td>\n",
       "      <td>3</td>\n",
       "      <td>cup</td>\n",
       "      <td>1.53196e+12</td>\n",
       "      <td>2018-07-18T23:48:07.674Z</td>\n",
       "      <td>3</td>\n",
       "      <td>[M172.71875,189.51563l10,-9l6,-2l7,-2l8,-2l9,-...</td>\n",
       "      <td>[1.53195768552e+12, 1.53195768642e+12, 1.53195...</td>\n",
       "      <td>iVBORw0KGgoAAAANSUhEUgAAAJYAAACWCAYAAAA8AXHiAA...</td>\n",
       "      <td>1.659</td>\n",
       "      <td>/Users/langcogresearchassistants/Desktop/kiddr...</td>\n",
       "    </tr>\n",
       "    <tr>\n",
       "      <th>12</th>\n",
       "      <td>CDM_photodraw_pilot1531957626343</td>\n",
       "      <td>age5</td>\n",
       "      <td>4</td>\n",
       "      <td>rabbit</td>\n",
       "      <td>1.53196e+12</td>\n",
       "      <td>2018-07-18T23:48:20.721Z</td>\n",
       "      <td>7</td>\n",
       "      <td>[M205.71875,240.51563l-9,1h-7l-5,3l-6,3l-6,4l-...</td>\n",
       "      <td>[1.53195769478e+12, 1.53195769528e+12, 1.53195...</td>\n",
       "      <td>iVBORw0KGgoAAAANSUhEUgAAAJYAAACWCAYAAAA8AXHiAA...</td>\n",
       "      <td>5.142</td>\n",
       "      <td>/Users/langcogresearchassistants/Desktop/kiddr...</td>\n",
       "    </tr>\n",
       "    <tr>\n",
       "      <th>13</th>\n",
       "      <td>CDM_photodraw_pilot1531957626343</td>\n",
       "      <td>age5</td>\n",
       "      <td>5</td>\n",
       "      <td>train</td>\n",
       "      <td>1.53196e+12</td>\n",
       "      <td>2018-07-18T23:48:37.883Z</td>\n",
       "      <td>12</td>\n",
       "      <td>[M104.71875,254.51563l-7,5v2v3v2v3l-1,4v4v4l-1...</td>\n",
       "      <td>[1.53195770789e+12, 1.53195770889e+12, 1.53195...</td>\n",
       "      <td>iVBORw0KGgoAAAANSUhEUgAAAJYAAACWCAYAAAA8AXHiAA...</td>\n",
       "      <td>9.343</td>\n",
       "      <td>/Users/langcogresearchassistants/Desktop/kiddr...</td>\n",
       "    </tr>\n",
       "    <tr>\n",
       "      <th>14</th>\n",
       "      <td>CDM_photodraw_pilot1531957626343</td>\n",
       "      <td>age5</td>\n",
       "      <td>6</td>\n",
       "      <td>shoe</td>\n",
       "      <td>1.53196e+12</td>\n",
       "      <td>2018-07-18T23:48:46.564Z</td>\n",
       "      <td>1</td>\n",
       "      <td>[M345.71875,236.51563h-5h-5l-4,1l-2,1l-1,2v3v4...</td>\n",
       "      <td>[1.53195772597e+12]</td>\n",
       "      <td>iVBORw0KGgoAAAANSUhEUgAAAJYAAACWCAYAAAA8AXHiAA...</td>\n",
       "      <td>0</td>\n",
       "      <td>/Users/langcogresearchassistants/Desktop/kiddr...</td>\n",
       "    </tr>\n",
       "    <tr>\n",
       "      <th>15</th>\n",
       "      <td>CDM_photodraw_pilot1531957626343</td>\n",
       "      <td>age5</td>\n",
       "      <td>7</td>\n",
       "      <td>cat</td>\n",
       "      <td>1.53196e+12</td>\n",
       "      <td>2018-07-18T23:49:04.935Z</td>\n",
       "      <td>15</td>\n",
       "      <td>[M123.71875,161.51563l-11,-10h-1h-1l-1,3l-1,4v...</td>\n",
       "      <td>[1.53195773546e+12, 1.53195773698e+12, 1.53195...</td>\n",
       "      <td>iVBORw0KGgoAAAANSUhEUgAAAJYAAACWCAYAAAA8AXHiAA...</td>\n",
       "      <td>8.892</td>\n",
       "      <td>/Users/langcogresearchassistants/Desktop/kiddr...</td>\n",
       "    </tr>\n",
       "    <tr>\n",
       "      <th>16</th>\n",
       "      <td>CDM_photodraw_pilot1531958176307</td>\n",
       "      <td>age7</td>\n",
       "      <td>0</td>\n",
       "      <td>this square</td>\n",
       "      <td>1.53196e+12</td>\n",
       "      <td>2018-07-19T00:07:27.232Z</td>\n",
       "      <td>4</td>\n",
       "      <td>[M213.71875,414.51563l5,-3l6,-1v0l17,-5l11,-2l...</td>\n",
       "      <td>[1.53195884673e+12, 1.53195884673e+12, 1.53195...</td>\n",
       "      <td>iVBORw0KGgoAAAANSUhEUgAAAJYAAACWCAYAAAA8AXHiAA...</td>\n",
       "      <td>0.008</td>\n",
       "      <td>/Users/langcogresearchassistants/Desktop/kiddr...</td>\n",
       "    </tr>\n",
       "    <tr>\n",
       "      <th>17</th>\n",
       "      <td>CDM_photodraw_pilot1531958176307</td>\n",
       "      <td>age7</td>\n",
       "      <td>1</td>\n",
       "      <td>this shape</td>\n",
       "      <td>1.53196e+12</td>\n",
       "      <td>2018-07-19T00:07:33.208Z</td>\n",
       "      <td>4</td>\n",
       "      <td>[M487.71875,53.51563v0l-9,5l-6,3l-6,6l-8,7l-10...</td>\n",
       "      <td>[1.53195885275e+12, 1.53195885275e+12, 1.53195...</td>\n",
       "      <td>iVBORw0KGgoAAAANSUhEUgAAAJYAAACWCAYAAAA8AXHiAA...</td>\n",
       "      <td>0.026</td>\n",
       "      <td>/Users/langcogresearchassistants/Desktop/kiddr...</td>\n",
       "    </tr>\n",
       "    <tr>\n",
       "      <th>18</th>\n",
       "      <td>CDM_photodraw_pilot1531958176307</td>\n",
       "      <td>age7</td>\n",
       "      <td>2</td>\n",
       "      <td>this circle</td>\n",
       "      <td>1.53196e+12</td>\n",
       "      <td>2018-07-19T00:07:40.080Z</td>\n",
       "      <td>12</td>\n",
       "      <td>[M432.71875,58.51563v8v6, M322.71875,55.51563l...</td>\n",
       "      <td>[1.53195885926e+12, 1.53195885926e+12, 1.53195...</td>\n",
       "      <td>iVBORw0KGgoAAAANSUhEUgAAAJYAAACWCAYAAAA8AXHiAA...</td>\n",
       "      <td>0.032</td>\n",
       "      <td>/Users/langcogresearchassistants/Desktop/kiddr...</td>\n",
       "    </tr>\n",
       "    <tr>\n",
       "      <th>19</th>\n",
       "      <td>CDM_photodraw_pilot1531958176307</td>\n",
       "      <td>age7</td>\n",
       "      <td>3</td>\n",
       "      <td>cup</td>\n",
       "      <td>1.53196e+12</td>\n",
       "      <td>2018-07-19T00:07:54.892Z</td>\n",
       "      <td>4</td>\n",
       "      <td>[M374.71875,114.51563v0, M503.71875,132.51563,...</td>\n",
       "      <td>[1.53195887403e+12, 1.53195887403e+12, 1.53195...</td>\n",
       "      <td>iVBORw0KGgoAAAANSUhEUgAAAJYAAACWCAYAAAA8AXHiAA...</td>\n",
       "      <td>0.035</td>\n",
       "      <td>/Users/langcogresearchassistants/Desktop/kiddr...</td>\n",
       "    </tr>\n",
       "    <tr>\n",
       "      <th>20</th>\n",
       "      <td>CDM_photodraw_pilot1531958176307</td>\n",
       "      <td>age7</td>\n",
       "      <td>4</td>\n",
       "      <td>shoe</td>\n",
       "      <td>1.53196e+12</td>\n",
       "      <td>2018-07-19T00:08:05.097Z</td>\n",
       "      <td>10</td>\n",
       "      <td>[M242.71875,409.51563l12,-25, M360.71875,370.5...</td>\n",
       "      <td>[1.53195888381e+12, 1.53195888381e+12, 1.53195...</td>\n",
       "      <td>iVBORw0KGgoAAAANSUhEUgAAAJYAAACWCAYAAAA8AXHiAA...</td>\n",
       "      <td>0.534</td>\n",
       "      <td>/Users/langcogresearchassistants/Desktop/kiddr...</td>\n",
       "    </tr>\n",
       "    <tr>\n",
       "      <th>21</th>\n",
       "      <td>CDM_photodraw_pilot1531958176307</td>\n",
       "      <td>age7</td>\n",
       "      <td>5</td>\n",
       "      <td>rabbit</td>\n",
       "      <td>1.53196e+12</td>\n",
       "      <td>2018-07-19T00:08:13.695Z</td>\n",
       "      <td>12</td>\n",
       "      <td>[M271.71875,92.51563v0, M412.71875,78.51563, M...</td>\n",
       "      <td>[1.53195889202e+12, 1.53195889202e+12, 1.53195...</td>\n",
       "      <td>iVBORw0KGgoAAAANSUhEUgAAAJYAAACWCAYAAAA8AXHiAA...</td>\n",
       "      <td>1.189</td>\n",
       "      <td>/Users/langcogresearchassistants/Desktop/kiddr...</td>\n",
       "    </tr>\n",
       "    <tr>\n",
       "      <th>22</th>\n",
       "      <td>CDM_photodraw_pilot1531958176307</td>\n",
       "      <td>age7</td>\n",
       "      <td>6</td>\n",
       "      <td>train</td>\n",
       "      <td>1.53196e+12</td>\n",
       "      <td>2018-07-19T00:08:21.447Z</td>\n",
       "      <td>1</td>\n",
       "      <td>[M319.71875,370.51563l-10,4l-12,6l-15,6l-13,7l...</td>\n",
       "      <td>[1.53195890086e+12]</td>\n",
       "      <td>iVBORw0KGgoAAAANSUhEUgAAAJYAAACWCAYAAAA8AXHiAA...</td>\n",
       "      <td>0</td>\n",
       "      <td>/Users/langcogresearchassistants/Desktop/kiddr...</td>\n",
       "    </tr>\n",
       "    <tr>\n",
       "      <th>23</th>\n",
       "      <td>CDM_photodraw_pilot1531958176307</td>\n",
       "      <td>age7</td>\n",
       "      <td>7</td>\n",
       "      <td>cat</td>\n",
       "      <td>1.53196e+12</td>\n",
       "      <td>2018-07-19T00:08:29.581Z</td>\n",
       "      <td>1</td>\n",
       "      <td>[M546.71875,165.51563l3,-9l4,-10l5,-10l4,-7l3,...</td>\n",
       "      <td>[1.53195890892e+12]</td>\n",
       "      <td>iVBORw0KGgoAAAANSUhEUgAAAJYAAACWCAYAAAA8AXHiAA...</td>\n",
       "      <td>0</td>\n",
       "      <td>/Users/langcogresearchassistants/Desktop/kiddr...</td>\n",
       "    </tr>\n",
       "  </tbody>\n",
       "</table>\n",
       "</div>"
      ],
      "text/plain": [
       "                          session_id   age trial_num     category  \\\n",
       "0   CDM_photodraw_pilot1531956917458  age5         0  this square   \n",
       "1   CDM_photodraw_pilot1531956917458  age5         1   this shape   \n",
       "2   CDM_photodraw_pilot1531956917458  age5         2  this circle   \n",
       "3   CDM_photodraw_pilot1531956917458  age5         3          cup   \n",
       "4   CDM_photodraw_pilot1531956917458  age5         4          cat   \n",
       "5   CDM_photodraw_pilot1531956917458  age5         5       rabbit   \n",
       "6   CDM_photodraw_pilot1531956917458  age5         6        train   \n",
       "7   CDM_photodraw_pilot1531956917458  age5         7         shoe   \n",
       "8   CDM_photodraw_pilot1531957626343  age5         0  this square   \n",
       "9   CDM_photodraw_pilot1531957626343  age5         1   this shape   \n",
       "10  CDM_photodraw_pilot1531957626343  age5         2  this circle   \n",
       "11  CDM_photodraw_pilot1531957626343  age5         3          cup   \n",
       "12  CDM_photodraw_pilot1531957626343  age5         4       rabbit   \n",
       "13  CDM_photodraw_pilot1531957626343  age5         5        train   \n",
       "14  CDM_photodraw_pilot1531957626343  age5         6         shoe   \n",
       "15  CDM_photodraw_pilot1531957626343  age5         7          cat   \n",
       "16  CDM_photodraw_pilot1531958176307  age7         0  this square   \n",
       "17  CDM_photodraw_pilot1531958176307  age7         1   this shape   \n",
       "18  CDM_photodraw_pilot1531958176307  age7         2  this circle   \n",
       "19  CDM_photodraw_pilot1531958176307  age7         3          cup   \n",
       "20  CDM_photodraw_pilot1531958176307  age7         4         shoe   \n",
       "21  CDM_photodraw_pilot1531958176307  age7         5       rabbit   \n",
       "22  CDM_photodraw_pilot1531958176307  age7         6        train   \n",
       "23  CDM_photodraw_pilot1531958176307  age7         7          cat   \n",
       "\n",
       "    submit_time               submit_date num_strokes  \\\n",
       "0   1.53196e+12  2018-07-18T23:39:33.427Z           1   \n",
       "1   1.53196e+12  2018-07-18T23:39:53.062Z           1   \n",
       "2   1.53196e+12  2018-07-18T23:40:02.623Z           1   \n",
       "3   1.53196e+12  2018-07-18T23:40:45.271Z           1   \n",
       "4   1.53196e+12  2018-07-18T23:41:05.047Z           6   \n",
       "5   1.53196e+12  2018-07-18T23:41:28.505Z           6   \n",
       "6   1.53196e+12  2018-07-18T23:41:48.723Z          10   \n",
       "7   1.53196e+12  2018-07-18T23:42:06.001Z           6   \n",
       "8   1.53196e+12  2018-07-18T23:47:27.151Z           1   \n",
       "9   1.53196e+12  2018-07-18T23:47:42.248Z           2   \n",
       "10  1.53196e+12  2018-07-18T23:47:50.693Z           1   \n",
       "11  1.53196e+12  2018-07-18T23:48:07.674Z           3   \n",
       "12  1.53196e+12  2018-07-18T23:48:20.721Z           7   \n",
       "13  1.53196e+12  2018-07-18T23:48:37.883Z          12   \n",
       "14  1.53196e+12  2018-07-18T23:48:46.564Z           1   \n",
       "15  1.53196e+12  2018-07-18T23:49:04.935Z          15   \n",
       "16  1.53196e+12  2018-07-19T00:07:27.232Z           4   \n",
       "17  1.53196e+12  2018-07-19T00:07:33.208Z           4   \n",
       "18  1.53196e+12  2018-07-19T00:07:40.080Z          12   \n",
       "19  1.53196e+12  2018-07-19T00:07:54.892Z           4   \n",
       "20  1.53196e+12  2018-07-19T00:08:05.097Z          10   \n",
       "21  1.53196e+12  2018-07-19T00:08:13.695Z          12   \n",
       "22  1.53196e+12  2018-07-19T00:08:21.447Z           1   \n",
       "23  1.53196e+12  2018-07-19T00:08:29.581Z           1   \n",
       "\n",
       "                                                  svg  \\\n",
       "0   [M220.71875,194.51563l-2,-2v2l-1,1l-1,2l-1,2v2...   \n",
       "1   [M356.71875,26.51563v3v1v1v2v1l-1,2v1v2l-1,2l-...   \n",
       "2   [M367.71875,128.51563l6,-4h3h3h3l3,1l4,1l3,1l4...   \n",
       "3   [M229.71875,190.51563l-2,5v2v3v3v3v4v4v4l-1,4v...   \n",
       "4   [M158.71875,211.51563l1,-9v-3l3,-5l3,-6l5,-8l3...   \n",
       "5   [M176.71875,314.51563l-6,-7v-4l-2,-4l-1,-3l-2,...   \n",
       "6   [M152.71875,267.51563l-5,2v2l-1,2l-1,2l-2,3l-1...   \n",
       "7   [M55.71875,419.51563l3,4h3l3,1h4l4,1h4h6h5l6,-...   \n",
       "8   [M207.71875,188.51563l6,-5h1h1h1h2h2h1h2h2h2h1...   \n",
       "9   [M355.71875,26.51563l-5,5v2v1v2l-1,2l-1,1l-1,2...   \n",
       "10  [M536.71875,272.51563l-1,8v2v2v3l1,3v4l1,3v4l1...   \n",
       "11  [M172.71875,189.51563l10,-9l6,-2l7,-2l8,-2l9,-...   \n",
       "12  [M205.71875,240.51563l-9,1h-7l-5,3l-6,3l-6,4l-...   \n",
       "13  [M104.71875,254.51563l-7,5v2v3v2v3l-1,4v4v4l-1...   \n",
       "14  [M345.71875,236.51563h-5h-5l-4,1l-2,1l-1,2v3v4...   \n",
       "15  [M123.71875,161.51563l-11,-10h-1h-1l-1,3l-1,4v...   \n",
       "16  [M213.71875,414.51563l5,-3l6,-1v0l17,-5l11,-2l...   \n",
       "17  [M487.71875,53.51563v0l-9,5l-6,3l-6,6l-8,7l-10...   \n",
       "18  [M432.71875,58.51563v8v6, M322.71875,55.51563l...   \n",
       "19  [M374.71875,114.51563v0, M503.71875,132.51563,...   \n",
       "20  [M242.71875,409.51563l12,-25, M360.71875,370.5...   \n",
       "21  [M271.71875,92.51563v0, M412.71875,78.51563, M...   \n",
       "22  [M319.71875,370.51563l-10,4l-12,6l-15,6l-13,7l...   \n",
       "23  [M546.71875,165.51563l3,-9l4,-10l5,-10l4,-7l3,...   \n",
       "\n",
       "                                            svg_times  \\\n",
       "0                                 [1.53195717149e+12]   \n",
       "1                                 [1.53195719181e+12]   \n",
       "2                                 [1.53195720137e+12]   \n",
       "3                                 [1.53195722314e+12]   \n",
       "4   [1.53195725607e+12, 1.53195725963e+12, 1.53195...   \n",
       "5   [1.53195727781e+12, 1.53195728068e+12, 1.53195...   \n",
       "6   [1.53195729626e+12, 1.53195729779e+12, 1.53195...   \n",
       "7   [1.53195731858e+12, 1.53195732118e+12, 1.53195...   \n",
       "8                                 [1.53195764635e+12]   \n",
       "9              [1.53195765744e+12, 1.53195766165e+12]   \n",
       "10                                [1.53195767014e+12]   \n",
       "11  [1.53195768552e+12, 1.53195768642e+12, 1.53195...   \n",
       "12  [1.53195769478e+12, 1.53195769528e+12, 1.53195...   \n",
       "13  [1.53195770789e+12, 1.53195770889e+12, 1.53195...   \n",
       "14                                [1.53195772597e+12]   \n",
       "15  [1.53195773546e+12, 1.53195773698e+12, 1.53195...   \n",
       "16  [1.53195884673e+12, 1.53195884673e+12, 1.53195...   \n",
       "17  [1.53195885275e+12, 1.53195885275e+12, 1.53195...   \n",
       "18  [1.53195885926e+12, 1.53195885926e+12, 1.53195...   \n",
       "19  [1.53195887403e+12, 1.53195887403e+12, 1.53195...   \n",
       "20  [1.53195888381e+12, 1.53195888381e+12, 1.53195...   \n",
       "21  [1.53195889202e+12, 1.53195889202e+12, 1.53195...   \n",
       "22                                [1.53195890086e+12]   \n",
       "23                                [1.53195890892e+12]   \n",
       "\n",
       "                                                  png draw_duration  \\\n",
       "0   iVBORw0KGgoAAAANSUhEUgAAAJYAAACWCAYAAAA8AXHiAA...             0   \n",
       "1   iVBORw0KGgoAAAANSUhEUgAAAJYAAACWCAYAAAA8AXHiAA...             0   \n",
       "2   iVBORw0KGgoAAAANSUhEUgAAAJYAAACWCAYAAAA8AXHiAA...             0   \n",
       "3   iVBORw0KGgoAAAANSUhEUgAAAJYAAACWCAYAAAA8AXHiAA...             0   \n",
       "4   iVBORw0KGgoAAAANSUhEUgAAAJYAAACWCAYAAAA8AXHiAA...         7.187   \n",
       "5   iVBORw0KGgoAAAANSUhEUgAAAJYAAACWCAYAAAA8AXHiAA...         9.259   \n",
       "6   iVBORw0KGgoAAAANSUhEUgAAAJYAAACWCAYAAAA8AXHiAA...        11.744   \n",
       "7   iVBORw0KGgoAAAANSUhEUgAAAJYAAACWCAYAAAA8AXHiAA...         6.833   \n",
       "8   iVBORw0KGgoAAAANSUhEUgAAAJYAAACWCAYAAAA8AXHiAA...             0   \n",
       "9   iVBORw0KGgoAAAANSUhEUgAAAJYAAACWCAYAAAA8AXHiAA...         4.209   \n",
       "10  iVBORw0KGgoAAAANSUhEUgAAAJYAAACWCAYAAAA8AXHiAA...             0   \n",
       "11  iVBORw0KGgoAAAANSUhEUgAAAJYAAACWCAYAAAA8AXHiAA...         1.659   \n",
       "12  iVBORw0KGgoAAAANSUhEUgAAAJYAAACWCAYAAAA8AXHiAA...         5.142   \n",
       "13  iVBORw0KGgoAAAANSUhEUgAAAJYAAACWCAYAAAA8AXHiAA...         9.343   \n",
       "14  iVBORw0KGgoAAAANSUhEUgAAAJYAAACWCAYAAAA8AXHiAA...             0   \n",
       "15  iVBORw0KGgoAAAANSUhEUgAAAJYAAACWCAYAAAA8AXHiAA...         8.892   \n",
       "16  iVBORw0KGgoAAAANSUhEUgAAAJYAAACWCAYAAAA8AXHiAA...         0.008   \n",
       "17  iVBORw0KGgoAAAANSUhEUgAAAJYAAACWCAYAAAA8AXHiAA...         0.026   \n",
       "18  iVBORw0KGgoAAAANSUhEUgAAAJYAAACWCAYAAAA8AXHiAA...         0.032   \n",
       "19  iVBORw0KGgoAAAANSUhEUgAAAJYAAACWCAYAAAA8AXHiAA...         0.035   \n",
       "20  iVBORw0KGgoAAAANSUhEUgAAAJYAAACWCAYAAAA8AXHiAA...         0.534   \n",
       "21  iVBORw0KGgoAAAANSUhEUgAAAJYAAACWCAYAAAA8AXHiAA...         1.189   \n",
       "22  iVBORw0KGgoAAAANSUhEUgAAAJYAAACWCAYAAAA8AXHiAA...             0   \n",
       "23  iVBORw0KGgoAAAANSUhEUgAAAJYAAACWCAYAAAA8AXHiAA...             0   \n",
       "\n",
       "                                             filename  \n",
       "0   /Users/langcogresearchassistants/Desktop/kiddr...  \n",
       "1   /Users/langcogresearchassistants/Desktop/kiddr...  \n",
       "2   /Users/langcogresearchassistants/Desktop/kiddr...  \n",
       "3   /Users/langcogresearchassistants/Desktop/kiddr...  \n",
       "4   /Users/langcogresearchassistants/Desktop/kiddr...  \n",
       "5   /Users/langcogresearchassistants/Desktop/kiddr...  \n",
       "6   /Users/langcogresearchassistants/Desktop/kiddr...  \n",
       "7   /Users/langcogresearchassistants/Desktop/kiddr...  \n",
       "8   /Users/langcogresearchassistants/Desktop/kiddr...  \n",
       "9   /Users/langcogresearchassistants/Desktop/kiddr...  \n",
       "10  /Users/langcogresearchassistants/Desktop/kiddr...  \n",
       "11  /Users/langcogresearchassistants/Desktop/kiddr...  \n",
       "12  /Users/langcogresearchassistants/Desktop/kiddr...  \n",
       "13  /Users/langcogresearchassistants/Desktop/kiddr...  \n",
       "14  /Users/langcogresearchassistants/Desktop/kiddr...  \n",
       "15  /Users/langcogresearchassistants/Desktop/kiddr...  \n",
       "16  /Users/langcogresearchassistants/Desktop/kiddr...  \n",
       "17  /Users/langcogresearchassistants/Desktop/kiddr...  \n",
       "18  /Users/langcogresearchassistants/Desktop/kiddr...  \n",
       "19  /Users/langcogresearchassistants/Desktop/kiddr...  \n",
       "20  /Users/langcogresearchassistants/Desktop/kiddr...  \n",
       "21  /Users/langcogresearchassistants/Desktop/kiddr...  \n",
       "22  /Users/langcogresearchassistants/Desktop/kiddr...  \n",
       "23  /Users/langcogresearchassistants/Desktop/kiddr...  "
      ]
     },
     "execution_count": 58,
     "metadata": {},
     "output_type": "execute_result"
    }
   ],
   "source": [
    "X\n"
   ]
  },
  {
   "cell_type": "code",
   "execution_count": 22,
   "metadata": {},
   "outputs": [
    {
     "name": "stdout",
     "output_type": "stream",
     "text": [
      "161\n",
      "[18, 18, 2, 18, 17, 4, 32, 16, 6, 16, 14]\n"
     ]
    }
   ],
   "source": [
    "categories = [i for i in os.listdir('sketches') if i != '.DS_Store']\n",
    "num_ims = 0\n",
    "ims_per_cat = []\n",
    "for c in categories:\n",
    "    num_ims += len([i for i in os.listdir(os.path.join('sketches',c)) if i != '.DS_Store'])\n",
    "    ims_per_cat.append(len([i for i in os.listdir(os.path.join('sketches',c)) if i != '.DS_Store']))\n",
    "    \n",
    "print num_ims\n",
    "print ims_per_cat"
   ]
  },
  {
   "cell_type": "code",
   "execution_count": 23,
   "metadata": {},
   "outputs": [
    {
     "data": {
      "image/png": "[encoded data removed]",
      "text/plain": [
       "<Figure size 432x288 with 1 Axes>"
      ]
     },
     "metadata": {},
     "output_type": "display_data"
    }
   ],
   "source": [
    "plt.bar(categories,ims_per_cat)\n",
    "frame1=plt.gca()\n",
    "frame1.axes.get_xaxis().set_visible(False)\n"
   ]
  },
  {
   "cell_type": "code",
   "execution_count": 36,
   "metadata": {},
   "outputs": [
    {
     "data": {
      "text/plain": [
       "0          0\n",
       "1          0\n",
       "2          0\n",
       "3          0\n",
       "4      7.187\n",
       "5      9.259\n",
       "6     11.744\n",
       "7      6.833\n",
       "8          0\n",
       "9      4.209\n",
       "10         0\n",
       "11     1.659\n",
       "12     5.142\n",
       "13     9.343\n",
       "14         0\n",
       "15     8.892\n",
       "16     0.008\n",
       "17     0.026\n",
       "18     0.032\n",
       "19     0.035\n",
       "20     0.534\n",
       "21     1.189\n",
       "22         0\n",
       "23         0\n",
       "Name: draw_duration, dtype: object"
      ]
     },
     "execution_count": 36,
     "metadata": {},
     "output_type": "execute_result"
    }
   ],
   "source": [
    "X.draw_duration"
   ]
  },
  {
   "cell_type": "markdown",
   "metadata": {},
   "source": [
    "### load drawing metadata csv back in"
   ]
  },
  {
   "cell_type": "code",
   "execution_count": null,
   "metadata": {
    "collapsed": true
   },
   "outputs": [],
   "source": []
  },
  {
   "cell_type": "markdown",
   "metadata": {},
   "source": [
    "### Basic visualizations"
   ]
  },
  {
   "cell_type": "code",
   "execution_count": null,
   "metadata": {
    "collapsed": true
   },
   "outputs": [],
   "source": []
  },
  {
   "cell_type": "code",
   "execution_count": 37,
   "metadata": {},
   "outputs": [
    {
     "name": "stderr",
     "output_type": "stream",
     "text": [
      "/anaconda2/lib/python2.7/site-packages/matplotlib/axes/_axes.py:6462: UserWarning: The 'normed' kwarg is deprecated, and has been replaced by the 'density' kwarg.\n",
      "  warnings.warn(\"The 'normed' kwarg is deprecated, and has been \"\n"
     ]
    },
    {
     "data": {
      "text/plain": [
       "Text(0.5,0,'number of strokes')"
      ]
     },
     "execution_count": 37,
     "metadata": {},
     "output_type": "execute_result"
    },
    {
     "data": {
      "image/png": "[encoded data removed]",
      "text/plain": [
       "<Figure size 288x288 with 1 Axes>"
      ]
     },
     "metadata": {},
     "output_type": "display_data"
    }
   ],
   "source": [
    "fig = plt.figure(figsize=(4,4))\n",
    "h = plt.hist(X.num_strokes.values,normed=True)\n",
    "plt.ylabel('proportion')\n",
    "plt.xlabel('number of strokes')"
   ]
  },
  {
   "cell_type": "code",
   "execution_count": 44,
   "metadata": {},
   "outputs": [
    {
     "name": "stderr",
     "output_type": "stream",
     "text": [
      "/anaconda2/lib/python2.7/site-packages/matplotlib/axes/_axes.py:6462: UserWarning: The 'normed' kwarg is deprecated, and has been replaced by the 'density' kwarg.\n",
      "  warnings.warn(\"The 'normed' kwarg is deprecated, and has been \"\n"
     ]
    },
    {
     "data": {
      "text/plain": [
       "Text(0.5,0,'draw duration')"
      ]
     },
     "execution_count": 44,
     "metadata": {},
     "output_type": "execute_result"
    },
    {
     "data": {
      "image/png": "[encoded data removed]",
      "text/plain": [
       "<Figure size 288x288 with 1 Axes>"
      ]
     },
     "metadata": {},
     "output_type": "display_data"
    }
   ],
   "source": [
    "fig = plt.figure(figsize=(4,4))\n",
    "h = plt.hist(X.draw_duration.values,normed=True)\n",
    "plt.ylabel('proportion')\n",
    "plt.xlabel('draw duration')"
   ]
  },
  {
   "cell_type": "code",
   "execution_count": 60,
   "metadata": {},
   "outputs": [
    {
     "data": {
      "image/png": "[encoded data removed]",
      "text/plain": [
       "<Figure size 1008x288 with 2 Axes>"
      ]
     },
     "metadata": {},
     "output_type": "display_data"
    }
   ],
   "source": [
    "plt.figure(figsize=(14,4))\n",
    "\n",
    "plt.subplot(1,3,1)\n",
    "seq = np.arange(4,10)\n",
    "sns.barplot(data=X,x='age',y='num_strokes', palette=\"Greens_d\")\n",
    "plt.ylabel('number of strokes')\n",
    "\n",
    "plt.subplot(1,3,2)\n",
    "seq = np.arange(4,10)\n",
    "\n",
    "sns.barplot(data=X,x='age',y='draw_duration', palette=\"Greens_d\")\n",
    "plt.ylabel('draw duration (s)')\n",
    "\n",
    "# plt.subplot(1,3,3)\n",
    "# seq = np.arange(4,10)\n",
    "# sns.barplot(data=X,x='age',y='mean_intensity',order=seq,palette=\"Greens_d\")\n",
    "# plt.ylabel('mean pixel intensity')\n",
    "\n",
    "plt.tight_layout()"
   ]
  },
  {
   "cell_type": "code",
   "execution_count": null,
   "metadata": {
    "collapsed": true
   },
   "outputs": [],
   "source": [
    "X.category"
   ]
  },
  {
   "cell_type": "code",
   "execution_count": null,
   "metadata": {
    "collapsed": true
   },
   "outputs": [],
   "source": [
    "unique = X.drop_duplicates([\"session_id\"])\n",
    "unique.count()\n",
    "# sum(unique.age != 'adult')\n",
    "sum(unique.age != 'adult')"
   ]
  },
  {
   "cell_type": "code",
   "execution_count": null,
   "metadata": {
    "collapsed": true
   },
   "outputs": [],
   "source": [
    "X."
   ]
  },
  {
   "cell_type": "code",
   "execution_count": null,
   "metadata": {
    "collapsed": true
   },
   "outputs": [],
   "source": [
    "unique"
   ]
  },
  {
   "cell_type": "code",
   "execution_count": null,
   "metadata": {
    "collapsed": true
   },
   "outputs": [],
   "source": [
    "categories = [i for i in os.listdir('sketches') if i != '.DS_Store']\n",
    "num_ims = 0\n",
    "ims_per_cat = []\n",
    "for c in categories:\n",
    "    num_ims += len([i for i in os.listdir(os.path.join('sketches',c)) if i != '.DS_Store'])\n",
    "    ims_per_cat.append(len([i for i in os.listdir(os.path.join('sketches',c)) if i != '.DS_Store']))\n",
    "    \n",
    "print num_ims\n",
    "print ims_per_cat"
   ]
  },
  {
   "cell_type": "code",
   "execution_count": null,
   "metadata": {
    "collapsed": true
   },
   "outputs": [],
   "source": []
  },
  {
   "cell_type": "code",
   "execution_count": null,
   "metadata": {
    "collapsed": true
   },
   "outputs": [],
   "source": []
  },
  {
   "cell_type": "code",
   "execution_count": null,
   "metadata": {
    "collapsed": true
   },
   "outputs": [],
   "source": []
  },
  {
   "cell_type": "code",
   "execution_count": null,
   "metadata": {
    "collapsed": true
   },
   "outputs": [],
   "source": []
  },
  {
   "cell_type": "code",
   "execution_count": null,
   "metadata": {
    "collapsed": true
   },
   "outputs": [],
   "source": []
  },
  {
   "cell_type": "code",
   "execution_count": null,
   "metadata": {
    "collapsed": true
   },
   "outputs": [],
   "source": []
  }
 ],
 "metadata": {
  "kernelspec": {
   "display_name": "Python 2",
   "language": "python",
   "name": "python2"
  },
  "language_info": {
   "codemirror_mode": {
    "name": "ipython",
    "version": 2
   },
   "file_extension": ".py",
   "mimetype": "text/x-python",
   "name": "python",
   "nbconvert_exporter": "python",
   "pygments_lexer": "ipython2",
   "version": "2.7.14"
  }
 },
 "nbformat": 4,
 "nbformat_minor": 1
}
