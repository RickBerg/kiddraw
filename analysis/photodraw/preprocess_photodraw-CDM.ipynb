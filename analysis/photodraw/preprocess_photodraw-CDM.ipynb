{
 "cells": [
  {
   "cell_type": "code",
   "execution_count": 1,
   "metadata": {
    "collapsed": true
   },
   "outputs": [],
   "source": [
    "## remember to run conn_cocolab from the terminal before running cells in this notebook!\n",
    "import os\n",
    "import urllib, cStringIO\n",
    "\n",
    "import pymongo as pm\n",
    "\n",
    "import matplotlib\n",
    "from matplotlib import pylab, mlab, pyplot\n",
    "%matplotlib inline\n",
    "from IPython.core.pylabtools import figsize, getfigs\n",
    "plt = pyplot\n",
    "import seaborn as sns\n",
    "sns.set_context('poster')\n",
    "sns.set_style('white')\n",
    "\n",
    "import numpy as np\n",
    "from __future__ import division\n",
    "import scipy.stats as stats\n",
    "import pandas as pd\n",
    "import json\n",
    "import re\n",
    "\n",
    "from PIL import Image\n",
    "import base64\n",
    "import datetime"
   ]
  },
  {
   "cell_type": "markdown",
   "metadata": {},
   "source": [
    "### file hierarchy and database connection vars"
   ]
  },
  {
   "cell_type": "code",
   "execution_count": 2,
   "metadata": {
    "collapsed": true
   },
   "outputs": [],
   "source": [
    "## directory & file hierarchy\n",
    "iterationName = 'CDM_photodraw_e1'\n",
    "exp_path = 'photodraw'\n",
    "analysis_dir = os.getcwd()\n",
    "exp_dir = os.path.abspath(os.path.join(os.getcwd(),'../..','experiments'))\n",
    "##\n",
    "sketch_dir = os.path.join(analysis_dir,'sketches_CDM_included_only')\n",
    "if not os.path.exists(sketch_dir):\n",
    "    os.makedirs(sketch_dir)\n",
    "\n",
    "## dir where we can keep all sketches not binned by category    "
   ]
  },
  {
   "cell_type": "code",
   "execution_count": 3,
   "metadata": {
    "collapsed": true
   },
   "outputs": [],
   "source": [
    "# set vars \n",
    "auth = pd.read_csv('auth.txt', header = None) # this auth.txt file contains the password for the sketchloop user\n",
    "pswd = auth.values[0][0]\n",
    "user = 'sketchloop'\n",
    "host = 'rxdhawkins.me' ## cocolab ip address\n",
    "\n",
    "# have to fix this to be able to analyze from local\n",
    "import pymongo as pm\n",
    "conn = pm.MongoClient('mongodb://sketchloop:' + pswd + '@127.0.0.1')\n",
    "db = conn['kiddraw']\n",
    "coll = db['CDM_photodraw_e1']\n"
   ]
  },
  {
   "cell_type": "markdown",
   "metadata": {},
   "source": [
    "### Preprocessing data and rendering images"
   ]
  },
  {
   "cell_type": "markdown",
   "metadata": {},
   "source": [
    "Notes:\n",
    "There are two types of records in the database: 'stroke' and 'finalImage'. This is stored under the key: 'dataType'.\n",
    "The 'stroke'-type of record contains the svg string information. Every stroke event is stored as a separate record.\n",
    "The session identifier is called \"sessionId\".\n",
    "\n",
    "\n"
   ]
  },
  {
   "cell_type": "code",
   "execution_count": 31,
   "metadata": {},
   "outputs": [
    {
     "name": "stdout",
     "output_type": "stream",
     "text": [
      "We currently have 87 total sessions.\n"
     ]
    }
   ],
   "source": [
    "total_sessions = coll.find().distinct('sessionId') ## this returns ALL sessions in this collection.\n",
    "print 'We currently have {} total sessions.'.format(len(total_sessions))"
   ]
  },
  {
   "cell_type": "code",
   "execution_count": 32,
   "metadata": {
    "collapsed": true
   },
   "outputs": [],
   "source": [
    "## see  https://docs.google.com/spreadsheets/d/1pZ2MFfAjoT_11ZJQcSAjdeA_ZZvRraTZRqkVBcVIXCM/edit#gid=8551646\n",
    "## for information on which \n",
    "exclude_session_id=['CDM_photodraw_e11532109648493',\n",
    "'CDM_photodraw_e11532110198274',\n",
    "'CDM_photodraw_e11532119534231',\n",
    "'CDM_photodraw_e11532120540660',\n",
    "'CDM_photodraw_e11532121593015',\n",
    "'CDM_photodraw_e11532123507785',\n",
    "'CDM_photodraw_e11532454335609',\n",
    "'CDM_photodraw_e11532455751579',\n",
    "'CDM_photodraw_e11532455837908',\n",
    "'CDM_photodraw_e11532463418268',\n",
    "'CDM_photodraw_e11532468803382',\n",
    "'CDM_photodraw_e11532472054977',\n",
    "'CDM_photodraw_e11532540831557',\n",
    "'CDM_photodraw_e11532543365329',\n",
    "'CDM_photodraw_e11532551867786',\n",
    "'CDM_photodraw_e11532556255130',\n",
    "'CDM_photodraw_e11532558764161',\n",
    "'CDM_photodraw_e11533073503103',\n",
    "'CDM_photodraw_e11533144107489',\n",
    "'CDM_photodraw_e11533147048549',\n",
    "'CDM_photodraw_e11532463825380',\n",
    "'CDM_photodraw_e11532461805013',\n",
    "'CDM_photodraw_e11532541701592']"
   ]
  },
  {
   "cell_type": "code",
   "execution_count": 37,
   "metadata": {},
   "outputs": [],
   "source": [
    "really_run_this = 1\n",
    "if really_run_this:\n",
    "    ## img writing parameters\n",
    "    imsize = 224\n",
    "    \n",
    "    ## desired output: a dataframe that has trials on the rows, and the following columns:\n",
    "    ## category, age, number of strokes, mean_pixel_intensity, bounding_box_coordinates_LTRB, list of strokes, \n",
    "    ## PNG string, submission_time, submission_date\n",
    "    ## to be saved out as a nice tidy CSV\n",
    "    session_id = []\n",
    "    trial_num = []\n",
    "    category = []\n",
    "    num_strokes = []\n",
    "    mean_pixel_intensity = []\n",
    "    bounding_box_coords = []\n",
    "    svg = []\n",
    "    kidName = []\n",
    "    svg_times = []\n",
    "    png = []\n",
    "    submit_time = []\n",
    "    submit_date = []\n",
    "    draw_duration = []\n",
    "    filename = []\n",
    "    age=[]\n",
    "    countErr = 0\n",
    "    condition=[]\n",
    "    S_num_stroke=[]\n",
    "    W_num_stroke=[]\n",
    "    P_num_stroke=[]\n",
    "    S_time=[]\n",
    "    W_time=[]\n",
    "    P_time=[]\n",
    "    readadble_date = []\n",
    "    exclude_category = ['this circle','this square','this shape']\n",
    "    exclude_age = ['age8','age9','age10']\n",
    "    for s in valid_sessions:\n",
    "        this_collection = coll\n",
    "        image_recs = this_collection.find({'$and': [{'sessionId':s}, {'dataType':'finalImage'}]}).sort('time')    \n",
    "        for imrec in image_recs:  \n",
    "                ## if you want to render all sessions\n",
    "                # if imrec['category'] not in exclude_category:\n",
    "                \n",
    "                ## exclude invalid sessions, tracing trials, and old kids just in case our filtering didn't get them.\n",
    "                if imrec['sessionId'] not in exclude_session_id and imrec['category'] not in exclude_category and imrec['age'] not in exclude_age:\n",
    "                    stroke_recs = this_collection.find({'$and': [ \n",
    "                                                      {'sessionId':s}, \n",
    "                                                      {'dataType':'stroke'},\n",
    "                                                      {'trialNum': imrec['trialNum']}]}).sort('time')   \n",
    "\n",
    "                    if stroke_recs.count() > 0: ## only include trials if the drawings are not blank            \n",
    "                        session_id.append(imrec['sessionId'])        \n",
    "                        trial_num.append(imrec['trialNum']) \n",
    "                        category.append(imrec['category'])\n",
    "\n",
    "\n",
    "                        try:    \n",
    "                            png.append(imrec['imgData'])\n",
    "                            submit_time.append(imrec['time'])\n",
    "                            submit_date.append(imrec['date'])\n",
    "                            age.append(imrec['age'])\n",
    "                            condition.append(imrec['condition'])\n",
    "                            filename.append(os.path.join(sketch_dir,'{}_sketch_{}_{}_{}.png'.format(imrec['category'], imrec['sessionId'], imrec['condition'], imrec['age'])))\n",
    "                            num_strokes.append(stroke_recs.count())\n",
    "\n",
    "                            _svg = [] # this keeps track of the strokes from THIS final image\n",
    "                            _svg_times = []\n",
    "                            for strec in stroke_recs:\n",
    "                                _svg.append(strec['svg'])\n",
    "                                _svg_times.append(strec['time'])\n",
    "                            draw_duration.append((_svg_times[-1] - _svg_times[0])/1000) ## in seconds\n",
    "                            svg.append(_svg)\n",
    "                            svg_times.append(_svg_times)\n",
    "\n",
    "                            if imrec['condition']=='S':\n",
    "                                S_num_stroke.append(stroke_recs.count())\n",
    "                                S_time.append((_svg_times[-1] - _svg_times[0])/1000)\n",
    "                            elif imrec['condition']=='W':\n",
    "                                W_num_stroke.append(stroke_recs.count())\n",
    "                                W_time.append((_svg_times[-1] - _svg_times[0])/1000)\n",
    "                            elif imrec['condition']=='P':\n",
    "                                P_num_stroke.append(stroke_recs.count())\n",
    "                                P_time.append((_svg_times[-1] - _svg_times[0])/1000)\n",
    "\n",
    "                            ## and write out image data here too\n",
    "                            imgData = imrec['imgData'];\n",
    "                            filestr = base64.b64decode(imgData)\n",
    "                            child_dir = os.path.join(sketch_dir,imrec['condition'],imrec['age'],imrec['sessionId'])\n",
    "                            if not os.path.exists(child_dir):\n",
    "                                os.makedirs(child_dir)\n",
    "                            fname = os.path.join(child_dir,'{}_sketch_{}_{}_{}.png'.format(imrec['category'],imrec['sessionId'],imrec['condition'], imrec['age']))\n",
    "                            with open(fname, \"wb\") as fh:\n",
    "                                fh.write(imgData.decode('base64'))  \n",
    "                        except:\n",
    "                            print('something went wrong with an image')\n",
    "                            countErr = countErr + 1\n",
    "                            print imrec['category']\n",
    "                            child_dir = os.path.join(sketch_dir,'noname')\n",
    "                            if not os.path.exists(child_dir):\n",
    "                                os.makedirs(child_dir)\n",
    "                            fname = os.path.join(child_dir,'{}_sketch_{}_{}.png'.format(imrec['category'], 'noname',imrec['sessionId']))\n",
    "                            with open(fname, \"wb\") as fh:\n",
    "                                fh.write(imgData.decode('base64'))  \n",
    "                        "
   ]
  },
  {
   "cell_type": "code",
   "execution_count": 26,
   "metadata": {},
   "outputs": [
    {
     "data": {
      "text/plain": [
       "90"
      ]
     },
     "execution_count": 26,
     "metadata": {},
     "output_type": "execute_result"
    }
   ],
   "source": [
    "## How many session IDs do we have?\n",
    "np.size(np.unique(session_id))\n",
    "\n",
    "## How many session IDs do we have?\n",
    "condition.count(\"W\")\n",
    "##\n",
    "condition.count(\"S\")\n",
    "##\n",
    "condition.count(\"P\")"
   ]
  },
  {
   "cell_type": "code",
   "execution_count": null,
   "metadata": {},
   "outputs": [],
   "source": []
  },
  {
   "cell_type": "code",
   "execution_count": 20,
   "metadata": {
    "collapsed": true
   },
   "outputs": [],
   "source": [
    "if really_run_this:\n",
    "    X = pd.DataFrame([session_id,age,trial_num,condition,category,submit_time,submit_date,num_strokes,svg,svg_times,png,draw_duration,filename])\n",
    "    X = X.transpose()\n",
    "    X.columns = ['session_id','age','trial_num','condition','category','submit_time','submit_date','num_strokes','svg','svg_times','png','draw_duration', 'filename']\n",
    "X.to_csv(\"photodraw_data_Aug1.csv\")\n"
   ]
  },
  {
   "cell_type": "markdown",
   "metadata": {},
   "source": [
    "### Basic visualizations of stroke numbers and time spent"
   ]
  },
  {
   "cell_type": "code",
   "execution_count": 68,
   "metadata": {},
   "outputs": [
    {
     "data": {
      "image/png": "[encoded data removed]",
      "text/plain": [
       "<Figure size 1008x288 with 2 Axes>"
      ]
     },
     "metadata": {},
     "output_type": "display_data"
    }
   ],
   "source": [
    "plt.figure(figsize=(14,4))\n",
    "\n",
    "plt.subplot(1,3,1)\n",
    "seq = np.arange(4,10)\n",
    "sns.barplot(data=X,x='age',y='num_strokes', palette=\"Greens_d\")\n",
    "plt.ylabel('number of strokes')\n",
    "\n",
    "plt.subplot(1,3,2)\n",
    "seq = np.arange(4,10)\n",
    "\n",
    "sns.barplot(data=X,x='age',y='draw_duration', palette=\"Greens_d\")\n",
    "plt.ylabel('draw duration (s)')\n",
    "\n",
    "plt.tight_layout()"
   ]
  },
  {
   "cell_type": "code",
   "execution_count": 69,
   "metadata": {},
   "outputs": [
    {
     "data": {
      "image/png": "[encoded data removed]",
      "text/plain": [
       "<Figure size 1440x288 with 2 Axes>"
      ]
     },
     "metadata": {},
     "output_type": "display_data"
    }
   ],
   "source": [
    "plt.figure(figsize=(20,4))\n",
    "\n",
    "plt.subplot(1,3,1)\n",
    "seq = np.arange(4,10)\n",
    "sns.barplot(data=X,x='category',y='num_strokes',palette=\"Greens_d\")\n",
    "plt.ylabel('number of strokes')\n",
    "\n",
    "plt.subplot(1,3,2)\n",
    "seq = np.arange(4,10)\n",
    "\n",
    "sns.barplot(data=X,x='category',y='draw_duration', palette=\"Greens_d\")\n",
    "plt.ylabel('draw duration (s)')\n",
    "\n",
    "# plt.subplot(1,3,3)\n",
    "# seq = np.arange(4,10)\n",
    "# sns.barplot(data=X,x='age',y='mean_intensity',order=seq,palette=\"Greens_d\")\n",
    "# plt.ylabel('mean pixel intensity')\n",
    "\n",
    "plt.tight_layout()"
   ]
  },
  {
   "cell_type": "code",
   "execution_count": 81,
   "metadata": {},
   "outputs": [
    {
     "data": {
      "image/png": "[encoded data removed]",
      "text/plain": [
       "<Figure size 1440x288 with 2 Axes>"
      ]
     },
     "metadata": {},
     "output_type": "display_data"
    }
   ],
   "source": [
    "plt.figure(figsize=(20,4))\n",
    "\n",
    "plt.subplot(1,3,1)\n",
    "seq = np.arange(4,10)\n",
    "sns.barplot(data=X,x='condition',y='num_strokes',palette=\"Greens_d\")\n",
    "plt.ylabel('number of strokes')\n",
    "\n",
    "plt.subplot(1,3,2)\n",
    "seq = np.arange(4,10)\n",
    "\n",
    "sns.barplot(data=X,x='condition',y='draw_duration', palette=\"Greens_d\")\n",
    "plt.ylabel('draw duration (s)')\n",
    "\n",
    "plt.tight_layout()"
   ]
  },
  {
   "cell_type": "code",
   "execution_count": null,
   "metadata": {
    "collapsed": true
   },
   "outputs": [],
   "source": [
    "# categories = [i for i in os.listdir('sketches') if i != '.DS_Store']\n",
    "# num_ims = 0\n",
    "# ims_per_cat = []\n",
    "# for c in categories:\n",
    "#     num_ims += len([i for i  in os.listdir(os.path.join('sketches',c)) if i != '.DS_Store'])\n",
    "#     ims_per_cat.append(len([i for i in os.listdir(os.path.join('sketches',c)) if i != '.DS_Store']))\n",
    "    \n",
    "# print num_ims\n",
    "# print ims_per_cat\n",
    "\n",
    "\n",
    "\n",
    "# categories = [i for i in os.listdir('sketches') if i != '.DS_Store']\n",
    "# num_ims = 0\n",
    "# ims_per_cat = []\n",
    "# for c in categories:\n",
    "#     num_ims += len([i for i in os.listdir(os.path.join('sketches',c)) if i != '.DS_Store'])\n",
    "#     ims_per_cat.append(len([i for i in os.listdir(os.path.join('sketches',c)) if i != '.DS_Store']))\n",
    "    \n",
    "# print num_ims\n",
    "# print ims_per_cat"
   ]
  }
 ],
 "metadata": {
  "kernelspec": {
   "display_name": "Python 2",
   "language": "python",
   "name": "python2"
  },
  "language_info": {
   "codemirror_mode": {
    "name": "ipython",
    "version": 2
   },
   "file_extension": ".py",
   "mimetype": "text/x-python",
   "name": "python",
   "nbconvert_exporter": "python",
   "pygments_lexer": "ipython2",
   "version": "2.7.14"
  }
 },
 "nbformat": 4,
 "nbformat_minor": 1
}
