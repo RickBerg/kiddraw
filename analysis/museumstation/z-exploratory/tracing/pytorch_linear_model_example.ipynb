{
 "cells": [
  {
   "cell_type": "code",
   "execution_count": 1,
   "metadata": {},
   "outputs": [],
   "source": [
    "## this example adapted from a linear regression example at:\n",
    "## https://www.geeksforgeeks.org/linear-regression-using-pytorch/"
   ]
  },
  {
   "cell_type": "code",
   "execution_count": 2,
   "metadata": {},
   "outputs": [],
   "source": [
    "import torch\n",
    "from torch.autograd import Variable\n",
    "from scipy.spatial import distance as dist"
   ]
  },
  {
   "cell_type": "code",
   "execution_count": 3,
   "metadata": {},
   "outputs": [],
   "source": [
    "x_data = Variable(torch.Tensor([[0.0, 0.0], [1.0, 0.0], [2.0, 0.0]])) ## \"trace\"\n",
    "y_data = Variable(torch.Tensor([[0.0, 1.0], [1.0, 1.0], [2.0, 1.0]])) ## \"reference\""
   ]
  },
  {
   "cell_type": "code",
   "execution_count": 4,
   "metadata": {},
   "outputs": [
    {
     "data": {
      "text/plain": [
       "tensor([[0., 0.],\n",
       "        [1., 0.],\n",
       "        [2., 0.]])"
      ]
     },
     "execution_count": 4,
     "metadata": {},
     "output_type": "execute_result"
    }
   ],
   "source": [
    "x_data"
   ]
  },
  {
   "cell_type": "code",
   "execution_count": 5,
   "metadata": {},
   "outputs": [
    {
     "data": {
      "text/plain": [
       "tensor([[0., 1.],\n",
       "        [1., 1.],\n",
       "        [2., 1.]])"
      ]
     },
     "execution_count": 5,
     "metadata": {},
     "output_type": "execute_result"
    }
   ],
   "source": [
    "y_data"
   ]
  },
  {
   "cell_type": "code",
   "execution_count": 29,
   "metadata": {},
   "outputs": [],
   "source": [
    "class LinearTransform(torch.nn.Module):\n",
    " \n",
    "    def __init__(self):\n",
    "        super(LinearTransform, self).__init__()\n",
    "        self.transform = torch.nn.Linear(2, 2, bias=True)  # two in and two out\n",
    "        self.transform.weight = torch.nn.Parameter( torch.tensor([[1.0,0.0],[0.0,1.0]], requires_grad=True))\n",
    "        self.transform.bias = torch.nn.Parameter( torch.tensor([0.0,0.0], requires_grad=True))\n",
    "        print 'init', self.transform.weight.data.numpy()\n",
    "        print self.transform.bias\n",
    " \n",
    "    def forward(self, x):\n",
    "        y_pred = self.transform(x)\n",
    "        return y_pred\n",
    "\n",
    "\n",
    "def custom_loss(tra_verts, ref_verts):\n",
    "    sum_dist = torch.tensor(0.0)\n",
    "    for i, v in enumerate(tra_verts):\n",
    "        rv = ref_verts[i]\n",
    "        current_dist = ((v[0] - rv[0]) ** 2 + (v[1] - rv[1]) ** 2) ** 1/2\n",
    "        sum_dist.add_(current_dist)\n",
    "        \n",
    "    return torch.tensor(sum_dist, requires_grad=True)"
   ]
  },
  {
   "cell_type": "code",
   "execution_count": 30,
   "metadata": {},
   "outputs": [
    {
     "name": "stdout",
     "output_type": "stream",
     "text": [
      "init [[1. 0.]\n",
      " [0. 1.]]\n",
      "Parameter containing:\n",
      "tensor([0., 0.], requires_grad=True)\n"
     ]
    }
   ],
   "source": [
    "# our model\n",
    "model = LinearTransform()"
   ]
  },
  {
   "cell_type": "code",
   "execution_count": 31,
   "metadata": {},
   "outputs": [],
   "source": [
    "# define a loss and optimizer\n",
    "\n",
    "## loss\n",
    "## TODO: this should perhaps be a different, to take into account the \n",
    "## \"cost\" of the transformation as measured by: (1) the \"area swept out by the stroke\n",
    "## upon being moved into place plus (2) the \"residual_area\" between the trace and reference\n",
    "# criterion = torch.nn.MSELoss(size_average=True) \n",
    "\n",
    "## optimizier\n",
    "optimizer = torch.optim.SGD(model.parameters(), lr = 0.01)"
   ]
  },
  {
   "cell_type": "code",
   "execution_count": 32,
   "metadata": {},
   "outputs": [
    {
     "name": "stderr",
     "output_type": "stream",
     "text": [
      "/Users/zixianchai/anaconda2/lib/python2.7/site-packages/ipykernel_launcher.py:18: UserWarning: invalid index of a 0-dim tensor. This will be an error in PyTorch 0.5. Use tensor.item() to convert a 0-dim tensor to a Python number\n"
     ]
    },
    {
     "name": "stdout",
     "output_type": "stream",
     "text": [
      "epoch 0, loss 1.5\n",
      "epoch 1000, loss 1.35931319534e-08\n",
      "epoch 2000, loss 3.55449003564e-12\n",
      "epoch 3000, loss 3.55449003564e-12\n",
      "epoch 4000, loss 3.55449003564e-12\n"
     ]
    }
   ],
   "source": [
    "num_train_steps = 5000\n",
    "for i,epoch in enumerate(range(num_train_steps)):\n",
    " \n",
    "    # Forward pass: Compute predicted y by passing \n",
    "    # x to the model\n",
    "    pred_y = model(x_data)\n",
    " \n",
    "    # Compute and print loss\n",
    "    loss = custom_loss(pred_y, y_data)\n",
    "    \n",
    "    # Zero gradients, perform a backward pass, \n",
    "    # and update the weights.\n",
    "    optimizer.zero_grad()\n",
    "    loss.backward()\n",
    "    optimizer.step()\n",
    "    \n",
    "    if i%1000==0:\n",
    "        print('epoch {}, loss {}'.format(epoch, loss.data[0]))\n"
   ]
  },
  {
   "cell_type": "code",
   "execution_count": 33,
   "metadata": {},
   "outputs": [
    {
     "data": {
      "text/plain": [
       "LinearTransform(\n",
       "  (transform): Linear(in_features=2, out_features=2, bias=True)\n",
       ")"
      ]
     },
     "execution_count": 33,
     "metadata": {},
     "output_type": "execute_result"
    }
   ],
   "source": [
    "## this will \"freeze\" the weights of the model so we can apply it\n",
    "model.eval()"
   ]
  },
  {
   "cell_type": "code",
   "execution_count": 34,
   "metadata": {},
   "outputs": [
    {
     "name": "stdout",
     "output_type": "stream",
     "text": [
      "weight matrix\n",
      "[[1.0000000e+00 0.0000000e+00]\n",
      " [1.4896989e-06 1.0000000e+00]]\n",
      " \n",
      "bias matrix\n",
      "[0.         0.99999756]\n"
     ]
    }
   ],
   "source": [
    "## uncomment the below to get the matrix in numpy form\n",
    "weight_matrix = model.transform.weight.data.numpy()\n",
    "print 'weight matrix'\n",
    "print weight_matrix\n",
    "print ' '\n",
    "bias_matrix = model.transform.bias.data.numpy()\n",
    "print 'bias matrix'\n",
    "print bias_matrix"
   ]
  },
  {
   "cell_type": "code",
   "execution_count": 35,
   "metadata": {},
   "outputs": [
    {
     "name": "stdout",
     "output_type": "stream",
     "text": [
      "('predict (after training)', tensor([[3.0000, 1.0000]]))\n"
     ]
    }
   ],
   "source": [
    "## does it handle a new point properly? (i.e., move it up by 1 unit along the y-axis?)\n",
    "new_var = Variable(torch.Tensor([[3.0,0.0]]))\n",
    "pred_y = model(new_var)\n",
    "print(\"predict (after training)\", model(new_var).data)"
   ]
  },
  {
   "cell_type": "code",
   "execution_count": null,
   "metadata": {},
   "outputs": [],
   "source": [
    "# try scaling\n",
    "x_data = Variable(torch.Tensor([[0.0, 0.0], [1.0, 0.0], [2.0, 0.0]])) ## \"trace\"\n",
    "y_data = Variable(torch.Tensor([[-1.0, 0.0], [1.0, 0.0], [3.0, 0.0]])) ## \"reference\"\n",
    "\n",
    "num_train_steps = 10000\n",
    "for i,epoch in enumerate(range(num_train_steps)):\n",
    " \n",
    "    # Forward pass: Compute predicted y by passing \n",
    "    # x to the model\n",
    "    pred_y = model(x_data)\n",
    " \n",
    "    # Compute and print loss\n",
    "    loss = criterion(pred_y, y_data)\n",
    " \n",
    "    # Zero gradients, perform a backward pass, \n",
    "    # and update the weights.\n",
    "    optimizer.zero_grad()\n",
    "    loss.backward()\n",
    "    optimizer.step()\n",
    "    \n",
    "    if i%1000==0:\n",
    "        print('epoch {}, loss {}'.format(epoch, loss.data[0]))"
   ]
  },
  {
   "cell_type": "code",
   "execution_count": null,
   "metadata": {},
   "outputs": [],
   "source": [
    "## does it handle a new point properly? (i.e., move it up by 1 unit along the y-axis?)\n",
    "new_var = Variable(torch.Tensor([[3.0,0.0], [5.0, 0.0], [7.0, 0.0]]))\n",
    "pred_y = model(new_var)\n",
    "print(\"predict (after training)\", model(new_var).data)"
   ]
  },
  {
   "cell_type": "code",
   "execution_count": null,
   "metadata": {},
   "outputs": [],
   "source": []
  }
 ],
 "metadata": {
  "kernelspec": {
   "display_name": "Python 2",
   "language": "python",
   "name": "python2"
  },
  "language_info": {
   "codemirror_mode": {
    "name": "ipython",
    "version": 2
   },
   "file_extension": ".py",
   "mimetype": "text/x-python",
   "name": "python",
   "nbconvert_exporter": "python",
   "pygments_lexer": "ipython2",
   "version": "2.7.14"
  }
 },
 "nbformat": 4,
 "nbformat_minor": 2
}
