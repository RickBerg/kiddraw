{
 "cells": [
  {
   "cell_type": "code",
   "execution_count": 5,
   "metadata": {
    "collapsed": false
   },
   "outputs": [
    {
     "name": "stderr",
     "output_type": "stream",
     "text": [
      "/Users/judithfan/Library/Python/2.7/lib/python/site-packages/scipy/special/__init__.py:640: RuntimeWarning: numpy.dtype size changed, may indicate binary incompatibility. Expected 96, got 88\n",
      "  from ._ufuncs import *\n",
      "/Users/judithfan/Library/Python/2.7/lib/python/site-packages/scipy/linalg/basic.py:17: RuntimeWarning: numpy.dtype size changed, may indicate binary incompatibility. Expected 96, got 88\n",
      "  from ._solve_toeplitz import levinson\n",
      "/Users/judithfan/Library/Python/2.7/lib/python/site-packages/scipy/linalg/__init__.py:207: RuntimeWarning: numpy.dtype size changed, may indicate binary incompatibility. Expected 96, got 88\n",
      "  from ._decomp_update import *\n",
      "/Users/judithfan/Library/Python/2.7/lib/python/site-packages/scipy/special/_ellip_harm.py:7: RuntimeWarning: numpy.dtype size changed, may indicate binary incompatibility. Expected 96, got 88\n",
      "  from ._ellip_harm_2 import _ellipsoid, _ellipsoid_norm\n",
      "/Users/judithfan/Library/Python/2.7/lib/python/site-packages/scipy/interpolate/_bsplines.py:10: RuntimeWarning: numpy.dtype size changed, may indicate binary incompatibility. Expected 96, got 88\n",
      "  from . import _bspl\n",
      "/Users/judithfan/Library/Python/2.7/lib/python/site-packages/scipy/sparse/lil.py:19: RuntimeWarning: numpy.dtype size changed, may indicate binary incompatibility. Expected 96, got 88\n",
      "  from . import _csparsetools\n",
      "/Users/judithfan/Library/Python/2.7/lib/python/site-packages/scipy/sparse/csgraph/__init__.py:165: RuntimeWarning: numpy.dtype size changed, may indicate binary incompatibility. Expected 96, got 88\n",
      "  from ._shortest_path import shortest_path, floyd_warshall, dijkstra,\\\n",
      "/Users/judithfan/Library/Python/2.7/lib/python/site-packages/scipy/sparse/csgraph/_validation.py:5: RuntimeWarning: numpy.dtype size changed, may indicate binary incompatibility. Expected 96, got 88\n",
      "  from ._tools import csgraph_to_dense, csgraph_from_dense,\\\n",
      "/Users/judithfan/Library/Python/2.7/lib/python/site-packages/scipy/sparse/csgraph/__init__.py:167: RuntimeWarning: numpy.dtype size changed, may indicate binary incompatibility. Expected 96, got 88\n",
      "  from ._traversal import breadth_first_order, depth_first_order, \\\n",
      "/Users/judithfan/Library/Python/2.7/lib/python/site-packages/scipy/sparse/csgraph/__init__.py:169: RuntimeWarning: numpy.dtype size changed, may indicate binary incompatibility. Expected 96, got 88\n",
      "  from ._min_spanning_tree import minimum_spanning_tree\n",
      "/Users/judithfan/Library/Python/2.7/lib/python/site-packages/scipy/sparse/csgraph/__init__.py:170: RuntimeWarning: numpy.dtype size changed, may indicate binary incompatibility. Expected 96, got 88\n",
      "  from ._reordering import reverse_cuthill_mckee, maximum_bipartite_matching, \\\n",
      "/Users/judithfan/Library/Python/2.7/lib/python/site-packages/scipy/spatial/__init__.py:95: RuntimeWarning: numpy.dtype size changed, may indicate binary incompatibility. Expected 96, got 88\n",
      "  from .ckdtree import *\n",
      "/Users/judithfan/Library/Python/2.7/lib/python/site-packages/scipy/spatial/__init__.py:96: RuntimeWarning: numpy.dtype size changed, may indicate binary incompatibility. Expected 96, got 88\n",
      "  from .qhull import *\n",
      "/Users/judithfan/Library/Python/2.7/lib/python/site-packages/scipy/spatial/_spherical_voronoi.py:18: RuntimeWarning: numpy.dtype size changed, may indicate binary incompatibility. Expected 96, got 88\n",
      "  from . import _voronoi\n",
      "/Users/judithfan/Library/Python/2.7/lib/python/site-packages/scipy/spatial/distance.py:122: RuntimeWarning: numpy.dtype size changed, may indicate binary incompatibility. Expected 96, got 88\n",
      "  from . import _hausdorff\n",
      "/Users/judithfan/Library/Python/2.7/lib/python/site-packages/scipy/optimize/_trlib/__init__.py:1: RuntimeWarning: numpy.dtype size changed, may indicate binary incompatibility. Expected 96, got 88\n",
      "  from ._trlib import TRLIBQuadraticSubproblem\n",
      "/Users/judithfan/Library/Python/2.7/lib/python/site-packages/scipy/optimize/_numdiff.py:10: RuntimeWarning: numpy.dtype size changed, may indicate binary incompatibility. Expected 96, got 88\n",
      "  from ._group_columns import group_dense, group_sparse\n",
      "/Users/judithfan/Library/Python/2.7/lib/python/site-packages/scipy/stats/_continuous_distns.py:18: RuntimeWarning: numpy.dtype size changed, may indicate binary incompatibility. Expected 96, got 88\n",
      "  from . import _stats\n",
      "/Users/judithfan/Library/Python/2.7/lib/python/site-packages/pandas/_libs/__init__.py:4: RuntimeWarning: numpy.dtype size changed, may indicate binary incompatibility. Expected 96, got 88\n",
      "  from .tslib import iNaT, NaT, Timestamp, Timedelta, OutOfBoundsDatetime\n",
      "/Users/judithfan/Library/Python/2.7/lib/python/site-packages/pandas/__init__.py:26: RuntimeWarning: numpy.dtype size changed, may indicate binary incompatibility. Expected 96, got 88\n",
      "  from pandas._libs import (hashtable as _hashtable,\n",
      "/Users/judithfan/Library/Python/2.7/lib/python/site-packages/pandas/core/dtypes/common.py:6: RuntimeWarning: numpy.dtype size changed, may indicate binary incompatibility. Expected 96, got 88\n",
      "  from pandas._libs import algos, lib\n",
      "/Users/judithfan/Library/Python/2.7/lib/python/site-packages/pandas/core/util/hashing.py:7: RuntimeWarning: numpy.dtype size changed, may indicate binary incompatibility. Expected 96, got 88\n",
      "  from pandas._libs import hashing, tslib\n",
      "/Users/judithfan/Library/Python/2.7/lib/python/site-packages/pandas/core/indexes/base.py:7: RuntimeWarning: numpy.dtype size changed, may indicate binary incompatibility. Expected 96, got 88\n",
      "  from pandas._libs import (lib, index as libindex, tslib as libts,\n",
      "/Users/judithfan/Library/Python/2.7/lib/python/site-packages/pandas/tseries/offsets.py:21: RuntimeWarning: numpy.dtype size changed, may indicate binary incompatibility. Expected 96, got 88\n",
      "  import pandas._libs.tslibs.offsets as liboffsets\n",
      "/Users/judithfan/Library/Python/2.7/lib/python/site-packages/pandas/core/ops.py:16: RuntimeWarning: numpy.dtype size changed, may indicate binary incompatibility. Expected 96, got 88\n",
      "  from pandas._libs import algos as libalgos, ops as libops\n",
      "/Users/judithfan/Library/Python/2.7/lib/python/site-packages/pandas/core/indexes/interval.py:32: RuntimeWarning: numpy.dtype size changed, may indicate binary incompatibility. Expected 96, got 88\n",
      "  from pandas._libs.interval import (\n",
      "/Users/judithfan/Library/Python/2.7/lib/python/site-packages/pandas/core/internals.py:14: RuntimeWarning: numpy.dtype size changed, may indicate binary incompatibility. Expected 96, got 88\n",
      "  from pandas._libs import internals as libinternals\n",
      "/Users/judithfan/Library/Python/2.7/lib/python/site-packages/pandas/core/sparse/array.py:33: RuntimeWarning: numpy.dtype size changed, may indicate binary incompatibility. Expected 96, got 88\n",
      "  import pandas._libs.sparse as splib\n",
      "/Users/judithfan/Library/Python/2.7/lib/python/site-packages/pandas/core/window.py:36: RuntimeWarning: numpy.dtype size changed, may indicate binary incompatibility. Expected 96, got 88\n",
      "  import pandas._libs.window as _window\n",
      "/Users/judithfan/Library/Python/2.7/lib/python/site-packages/pandas/core/groupby/groupby.py:68: RuntimeWarning: numpy.dtype size changed, may indicate binary incompatibility. Expected 96, got 88\n",
      "  from pandas._libs import (lib, reduction,\n",
      "/Users/judithfan/Library/Python/2.7/lib/python/site-packages/pandas/core/reshape/reshape.py:30: RuntimeWarning: numpy.dtype size changed, may indicate binary incompatibility. Expected 96, got 88\n",
      "  from pandas._libs import algos as _algos, reshape as _reshape\n",
      "/Users/judithfan/Library/Python/2.7/lib/python/site-packages/pandas/io/parsers.py:45: RuntimeWarning: numpy.dtype size changed, may indicate binary incompatibility. Expected 96, got 88\n",
      "  import pandas._libs.parsers as parsers\n",
      "/Users/judithfan/Library/Python/2.7/lib/python/site-packages/pandas/io/pytables.py:50: RuntimeWarning: numpy.dtype size changed, may indicate binary incompatibility. Expected 96, got 88\n",
      "  from pandas._libs import algos, lib, writers as libwriters\n",
      "/Users/judithfan/Library/Python/2.7/lib/python/site-packages/statsmodels/nonparametric/kde.py:26: RuntimeWarning: numpy.dtype size changed, may indicate binary incompatibility. Expected 96, got 88\n",
      "  from .linbin import fast_linbin\n",
      "/Users/judithfan/Library/Python/2.7/lib/python/site-packages/statsmodels/nonparametric/kde.py:26: RuntimeWarning: numpy.ufunc size changed, may indicate binary incompatibility. Expected 192, got 176\n",
      "  from .linbin import fast_linbin\n",
      "/Users/judithfan/Library/Python/2.7/lib/python/site-packages/statsmodels/nonparametric/smoothers_lowess.py:11: RuntimeWarning: numpy.dtype size changed, may indicate binary incompatibility. Expected 96, got 88\n",
      "  from ._smoothers_lowess import lowess as _lowess\n",
      "/Users/judithfan/Library/Python/2.7/lib/python/site-packages/statsmodels/nonparametric/smoothers_lowess.py:11: RuntimeWarning: numpy.ufunc size changed, may indicate binary incompatibility. Expected 192, got 176\n",
      "  from ._smoothers_lowess import lowess as _lowess\n",
      "/Users/judithfan/Library/Python/2.7/lib/python/site-packages/scipy/cluster/vq.py:78: RuntimeWarning: numpy.dtype size changed, may indicate binary incompatibility. Expected 96, got 88\n",
      "  from . import _vq\n",
      "/Users/judithfan/Library/Python/2.7/lib/python/site-packages/scipy/cluster/hierarchy.py:178: RuntimeWarning: numpy.dtype size changed, may indicate binary incompatibility. Expected 96, got 88\n",
      "  from . import _hierarchy, _optimal_leaf_ordering\n"
     ]
    }
   ],
   "source": [
    "## remember to run conn_cocolab from the terminal before running cells in this notebook!\n",
    "from __future__ import division\n",
    "import os\n",
    "import urllib, cStringIO\n",
    "\n",
    "import pymongo as pm\n",
    "from PIL import Image\n",
    "import base64\n",
    "\n",
    "import numpy as np\n",
    "from numpy import *\n",
    "import os\n",
    "import PIL\n",
    "from PIL import Image\n",
    "import base64\n",
    "import matplotlib\n",
    "from matplotlib import pylab, mlab, pyplot\n",
    "%matplotlib inline\n",
    "from IPython.core.pylabtools import figsize, getfigs\n",
    "plt = pyplot\n",
    "import seaborn as sns\n",
    "sns.set_context('poster')\n",
    "sns.set_style('white')\n",
    "from matplotlib.path import Path\n",
    "import matplotlib.patches as patches\n",
    "\n",
    "import cStringIO\n",
    "import pandas as pd\n",
    "import pymongo as pm ## first establish ssh tunnel to server where database is running\n",
    "from matplotlib.path import Path\n",
    "import matplotlib.patches as patches\n",
    "from svgpathtools import parse_path"
   ]
  },
  {
   "cell_type": "code",
   "execution_count": 6,
   "metadata": {
    "collapsed": false
   },
   "outputs": [],
   "source": [
    "# directory & file hierarchy\n",
    "exp_path = 'museumdraw'\n",
    "analysis_dir = os.getcwd()\n",
    "exp_dir = os.path.abspath(os.path.join(os.getcwd(),'../..','experiments'))\n",
    "##\n",
    "sketch_dir = os.path.join(analysis_dir,'sketches')\n",
    "if not os.path.exists(sketch_dir):\n",
    "    os.makedirs(sketch_dir)\n",
    "## dir where we can keep all sketches not binned by category    \n"
   ]
  },
  {
   "cell_type": "code",
   "execution_count": 7,
   "metadata": {
    "collapsed": false
   },
   "outputs": [],
   "source": [
    "# set vars \n",
    "auth = pd.read_csv('auth.txt', header = None) # this auth.txt file contains the password for the sketchloop user\n",
    "pswd = auth.values[0][0]\n",
    "user = 'sketchloop'\n",
    "host = 'rxdhawkins.me' ## cocolab ip address\n",
    "\n",
    "# have to fix this to be able to analyze from local\n",
    "import pymongo as pm\n",
    "experiment_name = \"cdm_run_v3\"\n",
    "conn = pm.MongoClient('mongodb://sketchloop:' + pswd + '@127.0.0.1')\n",
    "db = conn['kiddraw']\n",
    "coll = db[experiment_name]\n"
   ]
  },
  {
   "cell_type": "code",
   "execution_count": 8,
   "metadata": {
    "collapsed": false
   },
   "outputs": [
    {
     "name": "stdout",
     "output_type": "stream",
     "text": [
      "We currently have 4215 valid sessions from cdm_run_v3.\n"
     ]
    }
   ],
   "source": [
    "all_sessions = coll.distinct('sessionId') ## this returns ALL sessions in this collection. \n",
    "valid_sessions = coll.find().distinct('sessionId')\n",
    "practice_categories = ['square','shape','this circle']\n",
    "print 'We currently have {} valid sessions from {}.'.format(len(valid_sessions), experiment_name)"
   ]
  },
  {
   "cell_type": "code",
   "execution_count": 9,
   "metadata": {
    "collapsed": false
   },
   "outputs": [
    {
     "data": {
      "text/plain": [
       "[u'Bing_photodraw_e1',\n",
       " u'Bingphotodraw_pilot',\n",
       " u'Bingrun_v1',\n",
       " u'CDM_photodraw_e1',\n",
       " u'CDM_photodraw_e2_testing',\n",
       " u'CDM_photodraw_pilot',\n",
       " u'China_run_v1',\n",
       " u'E1',\n",
       " u'E1b',\n",
       " u'E1c',\n",
       " u'E1d',\n",
       " u'cdm_run_test',\n",
       " u'cdm_run_v1',\n",
       " u'cdm_run_v2',\n",
       " u'cdm_run_v3',\n",
       " u'pilot0',\n",
       " u'stationPilot0',\n",
       " u'stationPilot1',\n",
       " u'test']"
      ]
     },
     "execution_count": 9,
     "metadata": {},
     "output_type": "execute_result"
    }
   ],
   "source": [
    "sorted(db.collection_names())"
   ]
  },
  {
   "cell_type": "markdown",
   "metadata": {},
   "source": [
    "#### helper functions for svg rendering"
   ]
  },
  {
   "cell_type": "code",
   "execution_count": 10,
   "metadata": {
    "collapsed": true
   },
   "outputs": [],
   "source": [
    "def polyline_pathmaker(lines):\n",
    "    x = []\n",
    "    y = []\n",
    "\n",
    "    codes = [Path.MOVETO] # start with moveto command always\n",
    "    for i,l in enumerate(lines):\n",
    "        for _i,_l in enumerate(l):\n",
    "            x.append(_l[0])\n",
    "            y.append(_l[1])\n",
    "            if _i<len(l)-1:\n",
    "                codes.append(Path.LINETO) # keep pen on page\n",
    "            else:\n",
    "                if i != len(lines)-1: # final vertex\n",
    "                    codes.append(Path.MOVETO)\n",
    "    verts = zip(x,y) \n",
    "    return verts, codes\n",
    "\n",
    "def path_renderer(verts, codes):\n",
    "    fig = plt.figure(figsize=(6,6))\n",
    "    ax = fig.add_subplot(111)\n",
    "    if len(verts)>0:\n",
    "        path = Path(verts, codes)\n",
    "        patch = patches.PathPatch(path, facecolor='none', lw=2)\n",
    "        ax.add_patch(patch)\n",
    "        ax.set_xlim(0,1638)\n",
    "        ax.set_ylim(0,1638) \n",
    "        ax.axis('off')\n",
    "        plt.gca().invert_yaxis() # y values increase as you go down in image\n",
    "        plt.show()\n",
    "    else:\n",
    "        ax.set_xlim(0,1638)\n",
    "        ax.set_ylim(0,1638)        \n",
    "        ax.axis('off')\n",
    "        plt.show()\n",
    "    plt.savefig()\n",
    "    plt.close()\n",
    "    \n",
    "def flatten(x):\n",
    "    return [val for sublist in x for val in sublist]"
   ]
  },
  {
   "cell_type": "code",
   "execution_count": null,
   "metadata": {
    "collapsed": true
   },
   "outputs": [],
   "source": []
  },
  {
   "cell_type": "code",
   "execution_count": 11,
   "metadata": {
    "collapsed": true
   },
   "outputs": [],
   "source": [
    "def get_verts_and_codes(svg_list):\n",
    "    '''\n",
    "    parse into x,y coordinates and output list of lists of coordinates\n",
    "    \n",
    "    '''    \n",
    "    lines = []\n",
    "    Verts = []\n",
    "    Codes = []\n",
    "    for stroke_ind,stroke in enumerate(svg_list):\n",
    "        x = []\n",
    "        y = []\n",
    "        parsed = parse_path(stroke)\n",
    "        for i,p in enumerate(parsed):\n",
    "            x.append(p.start.real)\n",
    "            y.append(p.start.imag)     \n",
    "            x.append(p.end.real)\n",
    "            y.append(p.end.imag)\n",
    "        lines.append(zip(x,y))\n",
    "        verts, codes = polyline_pathmaker(lines)\n",
    "        Verts.append(verts)\n",
    "        Codes.append(codes) \n",
    "    return Verts, Codes\n",
    "    \n",
    "def make_svg_list(stroke_recs):\n",
    "    '''\n",
    "    grab sample drawing's strokes and make a list of svg strings from it\n",
    "    '''\n",
    "    svg_list = []\n",
    "    for single_stroke in stroke_recs:        \n",
    "        if len(single_stroke['svg'])>0: ## only add to svg list IFF the 'svg' field is not empty\n",
    "            svg_string = single_stroke['svg']\n",
    "            svg_list.append(svg_string)          \n",
    "    return svg_list\n",
    "    \n",
    "    \n",
    "def render_and_save(Verts,\n",
    "                    Codes,\n",
    "                    line_width=5,\n",
    "                    imsize=6,\n",
    "                    canvas_size=809,\n",
    "                    session_id='SESSION_ID',\n",
    "                    age='AGE',\n",
    "                    trial_num='TRIAL_NUM',\n",
    "                    category='CATEGORY'):\n",
    "    \n",
    "    '''\n",
    "    input: \n",
    "        line_width: how wide of strokes do we want? (int)\n",
    "        imsize: how big of a picture do we want? (setting the size of the figure) \n",
    "        canvas_size: original canvas size on tablet?\n",
    "        out_path: where do you want to save your images? currently hardcoded below.        \n",
    "    output:\n",
    "        rendered sketches into nested directories\n",
    "    \n",
    "    '''\n",
    "    ## where do you want to save your cumulative drawings?\n",
    "    out_path = os.path.join('./cumulative_drawings','{}_{}'.format(session_id,age),'{}_{}'.format(trial_num,category))\n",
    "    if not os.path.exists('./cumulative_drawings'):\n",
    "        os.makedirs('./cumulative_drawings')\n",
    "    if not os.path.exists(os.path.join('cumulative_drawings','{}_{}'.format(session_id,age))):\n",
    "        os.makedirs(os.path.join('cumulative_drawings','{}_{}'.format(session_id,age)))\n",
    "\n",
    "    verts = Verts[0]\n",
    "    codes = Codes[0]\n",
    "    for i,verts in enumerate(Verts):\n",
    "        codes = Codes[i]\n",
    "        fig = plt.figure(figsize=(imsize,imsize), frameon=False)    \n",
    "        ax = plt.subplot(111)\n",
    "        ax.axis('off')\n",
    "        ax.set_xlim(0,canvas_size)\n",
    "        ax.set_ylim(0,canvas_size)\n",
    "        \n",
    "        # remove padding for xaxis and y axis\n",
    "        ax.axes.get_xaxis().set_visible(False)\n",
    "        ax.axes.get_yaxis().set_visible(False)\n",
    "        # remove further paddings\n",
    "        plt.subplots_adjust(top = 1, bottom = 0, right = 1, left = 0, \n",
    "            hspace = 0, wspace = 0)\n",
    "        \n",
    "        ### render sketch so far\n",
    "        if len(verts)>0:\n",
    "            path = Path(verts, codes)\n",
    "            patch = patches.PathPatch(path, facecolor='none', lw=line_width)\n",
    "            ax.add_patch(patch)\n",
    "            plt.gca().invert_yaxis() # y values increase as you go down in image\n",
    "#             plt.show()\n",
    "\n",
    "\n",
    "        ## save out as png \n",
    "        ## maybe to make it not render every single thing, use plt.ioff\n",
    "        if not os.path.exists(out_path):\n",
    "            os.makedirs(out_path)\n",
    "        fname = '{}_{}_{}_{}.png'.format(session_id,trial_num,category,i)\n",
    "        filepath = os.path.join(out_path,fname)\n",
    "        print filepath\n",
    "        \n",
    "        fig.savefig(filepath, bbox_inches='tight', pad_inches=0.0)\n",
    "        plt.close(fig)        "
   ]
  },
  {
   "cell_type": "code",
   "execution_count": 12,
   "metadata": {
    "collapsed": false
   },
   "outputs": [
    {
     "data": {
      "text/plain": [
       "u'cdm_run_v31527966780680'"
      ]
     },
     "execution_count": 12,
     "metadata": {},
     "output_type": "execute_result"
    }
   ],
   "source": [
    "these_image_recs = coll.find({'$and': [{'dataType':'finalImage'},{'category':'an airplane'},{'age':'age4'}]}).sort('time')\n",
    "these_image_recs.count()\n",
    "these_image_recs[0]['sessionId']"
   ]
  },
  {
   "cell_type": "code",
   "execution_count": 34,
   "metadata": {
    "collapsed": false
   },
   "outputs": [
    {
     "name": "stdout",
     "output_type": "stream",
     "text": [
      "./cumulative_drawings/cdm_run_v31527966780680_age4/4_an airplane/cdm_run_v31527966780680_4_an airplane_0.png\n",
      "./cumulative_drawings/cdm_run_v31527966780680_age4/4_an airplane/cdm_run_v31527966780680_4_an airplane_1.png\n",
      "./cumulative_drawings/cdm_run_v31527966780680_age4/4_an airplane/cdm_run_v31527966780680_4_an airplane_2.png\n",
      "./cumulative_drawings/cdm_run_v31527966780680_age4/4_an airplane/cdm_run_v31527966780680_4_an airplane_3.png\n",
      "./cumulative_drawings/cdm_run_v31527966780680_age4/4_an airplane/cdm_run_v31527966780680_4_an airplane_4.png\n",
      "./cumulative_drawings/cdm_run_v31527969790348_age4/7_an airplane/cdm_run_v31527969790348_7_an airplane_0.png\n",
      "./cumulative_drawings/cdm_run_v31527969790348_age4/7_an airplane/cdm_run_v31527969790348_7_an airplane_1.png\n",
      "./cumulative_drawings/cdm_run_v31527969790348_age4/7_an airplane/cdm_run_v31527969790348_7_an airplane_2.png\n",
      "./cumulative_drawings/cdm_run_v31527969790348_age4/7_an airplane/cdm_run_v31527969790348_7_an airplane_3.png\n",
      "./cumulative_drawings/cdm_run_v31527969790348_age4/7_an airplane/cdm_run_v31527969790348_7_an airplane_4.png\n",
      "./cumulative_drawings/cdm_run_v31527969790348_age4/7_an airplane/cdm_run_v31527969790348_7_an airplane_5.png\n",
      "./cumulative_drawings/cdm_run_v31527969790348_age4/7_an airplane/cdm_run_v31527969790348_7_an airplane_6.png\n",
      "./cumulative_drawings/cdm_run_v31527969790348_age4/7_an airplane/cdm_run_v31527969790348_7_an airplane_7.png\n",
      "./cumulative_drawings/cdm_run_v31527969790348_age4/7_an airplane/cdm_run_v31527969790348_7_an airplane_8.png\n",
      "./cumulative_drawings/cdm_run_v31527969790348_age4/7_an airplane/cdm_run_v31527969790348_7_an airplane_9.png\n",
      "./cumulative_drawings/cdm_run_v31527969790348_age4/7_an airplane/cdm_run_v31527969790348_7_an airplane_10.png\n",
      "./cumulative_drawings/cdm_run_v31527969790348_age4/7_an airplane/cdm_run_v31527969790348_7_an airplane_11.png\n",
      "./cumulative_drawings/cdm_run_v31527969790348_age4/7_an airplane/cdm_run_v31527969790348_7_an airplane_12.png\n",
      "./cumulative_drawings/cdm_run_v31527969790348_age4/7_an airplane/cdm_run_v31527969790348_7_an airplane_13.png\n",
      "./cumulative_drawings/cdm_run_v31527970799228_age4/4_an airplane/cdm_run_v31527970799228_4_an airplane_0.png\n",
      "./cumulative_drawings/cdm_run_v31527970799228_age4/4_an airplane/cdm_run_v31527970799228_4_an airplane_1.png\n",
      "./cumulative_drawings/cdm_run_v31527970799228_age4/4_an airplane/cdm_run_v31527970799228_4_an airplane_2.png\n",
      "./cumulative_drawings/cdm_run_v31527970799228_age4/4_an airplane/cdm_run_v31527970799228_4_an airplane_3.png\n",
      "./cumulative_drawings/cdm_run_v31527970799228_age4/4_an airplane/cdm_run_v31527970799228_4_an airplane_4.png\n",
      "./cumulative_drawings/cdm_run_v31527970799228_age4/4_an airplane/cdm_run_v31527970799228_4_an airplane_5.png\n",
      "./cumulative_drawings/cdm_run_v31527970799228_age4/4_an airplane/cdm_run_v31527970799228_4_an airplane_6.png\n",
      "./cumulative_drawings/cdm_run_v31527980064618_age4/4_an airplane/cdm_run_v31527980064618_4_an airplane_0.png\n",
      "./cumulative_drawings/cdm_run_v31527980064618_age4/4_an airplane/cdm_run_v31527980064618_4_an airplane_1.png\n",
      "./cumulative_drawings/cdm_run_v31527980064618_age4/4_an airplane/cdm_run_v31527980064618_4_an airplane_2.png\n",
      "Oops, something went wrong! Here is the error:\n",
      "'codes' must be a 1D list or array with the same length of 'vertices'\n",
      "./cumulative_drawings/cdm_run_v31528052168660_age4/5_an airplane/cdm_run_v31528052168660_5_an airplane_0.png\n",
      "./cumulative_drawings/cdm_run_v31528052168660_age4/5_an airplane/cdm_run_v31528052168660_5_an airplane_1.png\n",
      "./cumulative_drawings/cdm_run_v31528052168660_age4/5_an airplane/cdm_run_v31528052168660_5_an airplane_2.png\n",
      "./cumulative_drawings/cdm_run_v31528052168660_age4/5_an airplane/cdm_run_v31528052168660_5_an airplane_3.png\n",
      "./cumulative_drawings/cdm_run_v31528052168660_age4/5_an airplane/cdm_run_v31528052168660_5_an airplane_4.png\n",
      "Oops, something went wrong! Here is the error:\n",
      "'codes' must be a 1D list or array with the same length of 'vertices'\n",
      "./cumulative_drawings/cdm_run_v31528135799225_age4/9_an airplane/cdm_run_v31528135799225_9_an airplane_0.png\n",
      "./cumulative_drawings/cdm_run_v31528135799225_age4/9_an airplane/cdm_run_v31528135799225_9_an airplane_1.png\n",
      "./cumulative_drawings/cdm_run_v31528135799225_age4/9_an airplane/cdm_run_v31528135799225_9_an airplane_2.png\n",
      "./cumulative_drawings/cdm_run_v31528135799225_age4/9_an airplane/cdm_run_v31528135799225_9_an airplane_3.png\n",
      "./cumulative_drawings/cdm_run_v31528135799225_age4/9_an airplane/cdm_run_v31528135799225_9_an airplane_4.png\n",
      "./cumulative_drawings/cdm_run_v31528316999098_age4/7_an airplane/cdm_run_v31528316999098_7_an airplane_0.png\n",
      "./cumulative_drawings/cdm_run_v31528316999098_age4/7_an airplane/cdm_run_v31528316999098_7_an airplane_1.png\n",
      "./cumulative_drawings/cdm_run_v31528316999098_age4/7_an airplane/cdm_run_v31528316999098_7_an airplane_2.png\n",
      "./cumulative_drawings/cdm_run_v31528316999098_age4/7_an airplane/cdm_run_v31528316999098_7_an airplane_3.png\n",
      "./cumulative_drawings/cdm_run_v31528316999098_age4/7_an airplane/cdm_run_v31528316999098_7_an airplane_4.png\n",
      "./cumulative_drawings/cdm_run_v31528316999098_age4/7_an airplane/cdm_run_v31528316999098_7_an airplane_5.png\n",
      "./cumulative_drawings/cdm_run_v31528324072022_age4/5_an airplane/cdm_run_v31528324072022_5_an airplane_0.png\n",
      "./cumulative_drawings/cdm_run_v31528324990435_age4/7_an airplane/cdm_run_v31528324990435_7_an airplane_0.png\n",
      "./cumulative_drawings/cdm_run_v31528324990435_age4/7_an airplane/cdm_run_v31528324990435_7_an airplane_1.png\n",
      "./cumulative_drawings/cdm_run_v31528324990435_age4/7_an airplane/cdm_run_v31528324990435_7_an airplane_2.png\n",
      "./cumulative_drawings/cdm_run_v31528324990435_age4/7_an airplane/cdm_run_v31528324990435_7_an airplane_3.png\n",
      "./cumulative_drawings/cdm_run_v31528324990435_age4/7_an airplane/cdm_run_v31528324990435_7_an airplane_4.png\n",
      "./cumulative_drawings/cdm_run_v31528324990435_age4/7_an airplane/cdm_run_v31528324990435_7_an airplane_5.png\n",
      "./cumulative_drawings/cdm_run_v31528324990435_age4/7_an airplane/cdm_run_v31528324990435_7_an airplane_6.png\n",
      "./cumulative_drawings/cdm_run_v31528324990435_age4/7_an airplane/cdm_run_v31528324990435_7_an airplane_7.png\n",
      "./cumulative_drawings/cdm_run_v31528324990435_age4/7_an airplane/cdm_run_v31528324990435_7_an airplane_8.png\n",
      "./cumulative_drawings/cdm_run_v31528324990435_age4/7_an airplane/cdm_run_v31528324990435_7_an airplane_9.png\n",
      "./cumulative_drawings/cdm_run_v31528324990435_age4/7_an airplane/cdm_run_v31528324990435_7_an airplane_10.png\n",
      "./cumulative_drawings/cdm_run_v31528324990435_age4/7_an airplane/cdm_run_v31528324990435_7_an airplane_11.png\n",
      "./cumulative_drawings/cdm_run_v31528324990435_age4/7_an airplane/cdm_run_v31528324990435_7_an airplane_12.png\n",
      "./cumulative_drawings/cdm_run_v31528324990435_age4/7_an airplane/cdm_run_v31528324990435_7_an airplane_13.png\n",
      "./cumulative_drawings/cdm_run_v31528324990435_age4/7_an airplane/cdm_run_v31528324990435_7_an airplane_14.png\n",
      "./cumulative_drawings/cdm_run_v31528324990435_age4/7_an airplane/cdm_run_v31528324990435_7_an airplane_15.png\n",
      "./cumulative_drawings/cdm_run_v31528324990435_age4/7_an airplane/cdm_run_v31528324990435_7_an airplane_16.png\n",
      "Oops, something went wrong! Here is the error:\n",
      "'codes' must be a 1D list or array with the same length of 'vertices'\n",
      "./cumulative_drawings/cdm_run_v31528494599151_age4/3_an airplane/cdm_run_v31528494599151_3_an airplane_0.png\n",
      "./cumulative_drawings/cdm_run_v31528494599151_age4/3_an airplane/cdm_run_v31528494599151_3_an airplane_1.png\n",
      "./cumulative_drawings/cdm_run_v31528494599151_age4/3_an airplane/cdm_run_v31528494599151_3_an airplane_2.png\n",
      "./cumulative_drawings/cdm_run_v31528494599151_age4/3_an airplane/cdm_run_v31528494599151_3_an airplane_3.png\n",
      "./cumulative_drawings/cdm_run_v31528494599151_age4/3_an airplane/cdm_run_v31528494599151_3_an airplane_4.png\n",
      "./cumulative_drawings/cdm_run_v31528494599151_age4/3_an airplane/cdm_run_v31528494599151_3_an airplane_5.png\n",
      "./cumulative_drawings/cdm_run_v31528494599151_age4/3_an airplane/cdm_run_v31528494599151_3_an airplane_6.png\n",
      "./cumulative_drawings/cdm_run_v31528494599151_age4/3_an airplane/cdm_run_v31528494599151_3_an airplane_7.png\n",
      "./cumulative_drawings/cdm_run_v31528494599151_age4/3_an airplane/cdm_run_v31528494599151_3_an airplane_8.png\n",
      "./cumulative_drawings/cdm_run_v31528494599151_age4/3_an airplane/cdm_run_v31528494599151_3_an airplane_9.png\n",
      "./cumulative_drawings/cdm_run_v31528499399037_age4/9_an airplane/cdm_run_v31528499399037_9_an airplane_0.png\n",
      "./cumulative_drawings/cdm_run_v31528499399037_age4/9_an airplane/cdm_run_v31528499399037_9_an airplane_1.png\n",
      "./cumulative_drawings/cdm_run_v31528499399037_age4/9_an airplane/cdm_run_v31528499399037_9_an airplane_2.png\n",
      "./cumulative_drawings/cdm_run_v31528499399037_age4/9_an airplane/cdm_run_v31528499399037_9_an airplane_3.png\n",
      "./cumulative_drawings/cdm_run_v31528499399037_age4/9_an airplane/cdm_run_v31528499399037_9_an airplane_4.png\n",
      "./cumulative_drawings/cdm_run_v31528499399037_age4/9_an airplane/cdm_run_v31528499399037_9_an airplane_5.png\n",
      "./cumulative_drawings/cdm_run_v31528499399037_age4/9_an airplane/cdm_run_v31528499399037_9_an airplane_6.png\n",
      "./cumulative_drawings/cdm_run_v31528499399037_age4/9_an airplane/cdm_run_v31528499399037_9_an airplane_7.png\n",
      "./cumulative_drawings/cdm_run_v31528499399037_age4/9_an airplane/cdm_run_v31528499399037_9_an airplane_8.png\n",
      "./cumulative_drawings/cdm_run_v31528499399037_age4/9_an airplane/cdm_run_v31528499399037_9_an airplane_9.png\n",
      "./cumulative_drawings/cdm_run_v31528572599284_age4/10_an airplane/cdm_run_v31528572599284_10_an airplane_0.png\n",
      "./cumulative_drawings/cdm_run_v31528572599284_age4/10_an airplane/cdm_run_v31528572599284_10_an airplane_1.png\n",
      "./cumulative_drawings/cdm_run_v31528572599284_age4/10_an airplane/cdm_run_v31528572599284_10_an airplane_2.png\n",
      "./cumulative_drawings/cdm_run_v31528572599284_age4/10_an airplane/cdm_run_v31528572599284_10_an airplane_3.png\n",
      "./cumulative_drawings/cdm_run_v31528572599284_age4/10_an airplane/cdm_run_v31528572599284_10_an airplane_4.png\n",
      "./cumulative_drawings/cdm_run_v31528572599284_age4/10_an airplane/cdm_run_v31528572599284_10_an airplane_5.png\n",
      "./cumulative_drawings/cdm_run_v31528572599284_age4/10_an airplane/cdm_run_v31528572599284_10_an airplane_6.png\n",
      "./cumulative_drawings/cdm_run_v31528572599284_age4/10_an airplane/cdm_run_v31528572599284_10_an airplane_7.png\n",
      "./cumulative_drawings/cdm_run_v31528572599284_age4/10_an airplane/cdm_run_v31528572599284_10_an airplane_8.png\n",
      "./cumulative_drawings/cdm_run_v31528572599284_age4/10_an airplane/cdm_run_v31528572599284_10_an airplane_9.png\n",
      "./cumulative_drawings/cdm_run_v31528572599284_age4/10_an airplane/cdm_run_v31528572599284_10_an airplane_10.png\n",
      "./cumulative_drawings/cdm_run_v31528572599284_age4/10_an airplane/cdm_run_v31528572599284_10_an airplane_11.png\n",
      "./cumulative_drawings/cdm_run_v31528572599284_age4/10_an airplane/cdm_run_v31528572599284_10_an airplane_12.png\n",
      "./cumulative_drawings/cdm_run_v31528572599284_age4/10_an airplane/cdm_run_v31528572599284_10_an airplane_13.png\n",
      "Oops, something went wrong! Here is the error:\n",
      "'codes' must be a 1D list or array with the same length of 'vertices'\n",
      "./cumulative_drawings/cdm_run_v31528580999095_age4/8_an airplane/cdm_run_v31528580999095_8_an airplane_0.png\n",
      "./cumulative_drawings/cdm_run_v31528580999095_age4/8_an airplane/cdm_run_v31528580999095_8_an airplane_1.png\n",
      "./cumulative_drawings/cdm_run_v31528580999095_age4/8_an airplane/cdm_run_v31528580999095_8_an airplane_2.png\n",
      "./cumulative_drawings/cdm_run_v31528580999095_age4/8_an airplane/cdm_run_v31528580999095_8_an airplane_3.png\n",
      "Oops, something went wrong! Here is the error:\n",
      "'codes' must be a 1D list or array with the same length of 'vertices'\n",
      "./cumulative_drawings/cdm_run_v31528581653329_age4/5_an airplane/cdm_run_v31528581653329_5_an airplane_0.png\n",
      "./cumulative_drawings/cdm_run_v31528581653329_age4/5_an airplane/cdm_run_v31528581653329_5_an airplane_1.png\n",
      "./cumulative_drawings/cdm_run_v31528581653329_age4/5_an airplane/cdm_run_v31528581653329_5_an airplane_2.png\n",
      "./cumulative_drawings/cdm_run_v31528581653329_age4/5_an airplane/cdm_run_v31528581653329_5_an airplane_3.png\n",
      "./cumulative_drawings/cdm_run_v31528581653329_age4/5_an airplane/cdm_run_v31528581653329_5_an airplane_4.png\n",
      "./cumulative_drawings/cdm_run_v31528581653329_age4/5_an airplane/cdm_run_v31528581653329_5_an airplane_5.png\n",
      "./cumulative_drawings/cdm_run_v31528581653329_age4/5_an airplane/cdm_run_v31528581653329_5_an airplane_6.png\n",
      "./cumulative_drawings/cdm_run_v31528581653329_age4/5_an airplane/cdm_run_v31528581653329_5_an airplane_7.png\n",
      "./cumulative_drawings/cdm_run_v31528581653329_age4/5_an airplane/cdm_run_v31528581653329_5_an airplane_8.png\n",
      "./cumulative_drawings/cdm_run_v31528581653329_age4/5_an airplane/cdm_run_v31528581653329_5_an airplane_9.png\n",
      "./cumulative_drawings/cdm_run_v31528585199054_age4/9_an airplane/cdm_run_v31528585199054_9_an airplane_0.png\n",
      "./cumulative_drawings/cdm_run_v31528585199054_age4/9_an airplane/cdm_run_v31528585199054_9_an airplane_1.png\n",
      "Oops, something went wrong! Here is the error:\n",
      "'codes' must be a 1D list or array with the same length of 'vertices'\n",
      "./cumulative_drawings/cdm_run_v31528843580055_age4/7_an airplane/cdm_run_v31528843580055_7_an airplane_0.png\n",
      "./cumulative_drawings/cdm_run_v31528843580055_age4/7_an airplane/cdm_run_v31528843580055_7_an airplane_1.png\n",
      "./cumulative_drawings/cdm_run_v31528843580055_age4/7_an airplane/cdm_run_v31528843580055_7_an airplane_2.png\n",
      "Oops, something went wrong! Here is the error:\n",
      "'codes' must be a 1D list or array with the same length of 'vertices'\n",
      "./cumulative_drawings/cdm_run_v31528845599021_age4/6_an airplane/cdm_run_v31528845599021_6_an airplane_0.png\n",
      "./cumulative_drawings/cdm_run_v31528845599021_age4/6_an airplane/cdm_run_v31528845599021_6_an airplane_1.png\n",
      "./cumulative_drawings/cdm_run_v31528845599021_age4/6_an airplane/cdm_run_v31528845599021_6_an airplane_2.png\n",
      "./cumulative_drawings/cdm_run_v31528845599021_age4/6_an airplane/cdm_run_v31528845599021_6_an airplane_3.png\n",
      "./cumulative_drawings/cdm_run_v31528845599021_age4/6_an airplane/cdm_run_v31528845599021_6_an airplane_4.png\n",
      "./cumulative_drawings/cdm_run_v31528845599021_age4/6_an airplane/cdm_run_v31528845599021_6_an airplane_5.png\n",
      "./cumulative_drawings/cdm_run_v31528845599021_age4/6_an airplane/cdm_run_v31528845599021_6_an airplane_6.png\n",
      "./cumulative_drawings/cdm_run_v31528845599021_age4/6_an airplane/cdm_run_v31528845599021_6_an airplane_7.png\n",
      "./cumulative_drawings/cdm_run_v31528845599021_age4/6_an airplane/cdm_run_v31528845599021_6_an airplane_8.png\n",
      "Oops, something went wrong! Here is the error:\n",
      "'codes' must be a 1D list or array with the same length of 'vertices'\n"
     ]
    },
    {
     "data": {
      "image/png": "[encoded data removed]",
      "text/plain": [
       "<matplotlib.figure.Figure at 0x1a25264cd0>"
      ]
     },
     "metadata": {},
     "output_type": "display_data"
    },
    {
     "data": {
      "image/png": "[encoded data removed]",
      "text/plain": [
       "<matplotlib.figure.Figure at 0x1a1e8ff3d0>"
      ]
     },
     "metadata": {},
     "output_type": "display_data"
    },
    {
     "data": {
      "image/png": "[encoded data removed]",
      "text/plain": [
       "<matplotlib.figure.Figure at 0x1a1b3ca810>"
      ]
     },
     "metadata": {},
     "output_type": "display_data"
    },
    {
     "data": {
      "image/png": "[encoded data removed]",
      "text/plain": [
       "<matplotlib.figure.Figure at 0x1a1d9a3950>"
      ]
     },
     "metadata": {},
     "output_type": "display_data"
    },
    {
     "data": {
      "image/png": "[encoded data removed]",
      "text/plain": [
       "<matplotlib.figure.Figure at 0x1a1c9cc290>"
      ]
     },
     "metadata": {},
     "output_type": "display_data"
    },
    {
     "data": {
      "image/png": "[encoded data removed]",
      "text/plain": [
       "<matplotlib.figure.Figure at 0x1a22da69d0>"
      ]
     },
     "metadata": {},
     "output_type": "display_data"
    },
    {
     "data": {
      "image/png": "[encoded data removed]",
      "text/plain": [
       "<matplotlib.figure.Figure at 0x1a1f62a3d0>"
      ]
     },
     "metadata": {},
     "output_type": "display_data"
    },
    {
     "data": {
      "image/png": "[encoded data removed]",
      "text/plain": [
       "<matplotlib.figure.Figure at 0x1a1eebdb90>"
      ]
     },
     "metadata": {},
     "output_type": "display_data"
    }
   ],
   "source": [
    "for imrec in these_image_recs:      \n",
    "        s = imrec['sessionId']\n",
    "        stroke_recs = coll.find({'$and': [{'sessionId':s}, \n",
    "                                          {'dataType':'stroke'},\n",
    "                                          {'trialNum': imrec['trialNum']}]}).sort('time')  \n",
    "        try:\n",
    "        ## check to make sure that there is at least one stroke! \n",
    "            if stroke_recs.count()>0:\n",
    "\n",
    "                ## some handy metadata for writing out the sketch PNG filename\n",
    "                trial_num = imrec['trialNum']\n",
    "                category = imrec['category']\n",
    "                session_id = imrec['sessionId']\n",
    "                age = imrec['age']\n",
    "\n",
    "                ## now make an svg list!\n",
    "                svg_list = make_svg_list(stroke_recs)\n",
    "\n",
    "                ## now get me some verts and codes!\n",
    "                Verts, Codes = get_verts_and_codes(svg_list)\n",
    "\n",
    "                ## now render out your cumulative sketches and save out as pngs!\n",
    "                render_and_save(Verts,\n",
    "                                Codes,\n",
    "                                line_width=5,\n",
    "                                imsize=6,\n",
    "                                canvas_size=809,\n",
    "                                session_id=session_id,\n",
    "                                age=age,\n",
    "                                trial_num=trial_num,\n",
    "                                category=category)\n",
    "\n",
    "        except Exception as e:\n",
    "            print 'Oops, something went wrong! Here is the error:'  \n",
    "            print e\n",
    "            pass\n"
   ]
  },
  {
   "cell_type": "code",
   "execution_count": 31,
   "metadata": {
    "collapsed": true,
    "scrolled": false
   },
   "outputs": [],
   "source": [
    "# for i,s in enumerate(valid_sessions):  \n",
    "#     image_recs = coll.find({'$and': [{'time': {'$gt': time_threshold}}, {'sessionId':s}, {'dataType':'finalImage'}]}).sort('time')    \n",
    "#     num_drawings = image_recs.count()\n",
    "#     if num_drawings > 2 :\n",
    "#         print 'Great! Number of drawings made by this person: {}'.format(image_recs.count())        \n",
    "#         ### now try looping through all images made during this session and render out\n",
    "#         try:\n",
    "#             image_recs = coll.find({'$and': [{'time': {'$gt': time_threshold}}, {'sessionId':s}, {'dataType':'finalImage'}]}).sort('time')    \n",
    "#             for imrec in image_recs:         \n",
    "#                 if imrec['category'] in practice_categories: # only save practice category trials\n",
    "#                     stroke_recs = coll.find({'$and': [{'time': {'$gt': time_threshold}}, \n",
    "#                                                       {'sessionId':s}, \n",
    "#                                                       {'dataType':'stroke'},\n",
    "#                                                       {'trialNum': imrec['trialNum']}]}).sort('time')  \n",
    "#                     ## check to make sure that there is at least one stroke! \n",
    "#                     assert stroke_recs.count()>0\n",
    "\n",
    "#                     ## some handy metadata for writing out the sketch PNG filename\n",
    "#                     trial_num = stroke_recs[0]['trialNum']\n",
    "#                     category = stroke_recs[0]['category']\n",
    "#                     session_id = stroke_recs[0]['sessionId']\n",
    "#                     age = stroke_recs[0]['age']\n",
    "\n",
    "#                     ## now make an svg list!\n",
    "#                     svg_list = make_svg_list(stroke_recs)\n",
    "\n",
    "#                     ## now get me some verts and codes!\n",
    "#                     Verts, Codes = get_verts_and_codes(svg_list)\n",
    "\n",
    "#                     ## now render out your cumulative sketches and save out as pngs!\n",
    "#                     render_and_save(Verts,\n",
    "#                                     Codes,\n",
    "#                                     line_width=5,\n",
    "#                                     imsize=6,\n",
    "#                                     canvas_size=809,\n",
    "#                                     session_id=session_id,\n",
    "#                                     age=age,\n",
    "#                                     trial_num=trial_num,\n",
    "#                                     category=category)\n",
    "\n",
    "#         except Exception as e:\n",
    "#             print 'Oops, something went wrong! Here is the error:'  \n",
    "#             print e\n",
    "#             pass\n"
   ]
  },
  {
   "cell_type": "code",
   "execution_count": null,
   "metadata": {
    "collapsed": true
   },
   "outputs": [],
   "source": []
  },
  {
   "cell_type": "code",
   "execution_count": null,
   "metadata": {
    "collapsed": true,
    "scrolled": false
   },
   "outputs": [],
   "source": []
  },
  {
   "cell_type": "code",
   "execution_count": null,
   "metadata": {
    "collapsed": true
   },
   "outputs": [],
   "source": [
    "# ./cumulative_drawings/cdm_run_v31528324990435_age4/7_an airplane/cdm_run_v31528324990435_7_an airplane_16.png\n",
    "# Oops, something went wrong! Here is the error:\n",
    "# 'codes' must be a 1D list or array with the same length of 'vertices'"
   ]
  },
  {
   "cell_type": "code",
   "execution_count": null,
   "metadata": {
    "collapsed": true
   },
   "outputs": [],
   "source": []
  },
  {
   "cell_type": "code",
   "execution_count": 13,
   "metadata": {
    "collapsed": false
   },
   "outputs": [],
   "source": [
    "## problematic sketch trial\n",
    "trialNum = 7\n",
    "sessionId = 'cdm_run_v31528324990435'\n",
    "recs = coll.find({'$and':[{'sessionId':sessionId}, {'dataType':'stroke'},{'trialNum':7}]})"
   ]
  },
  {
   "cell_type": "code",
   "execution_count": 14,
   "metadata": {
    "collapsed": false
   },
   "outputs": [],
   "source": [
    "## now make an svg list!\n",
    "svg_list = make_svg_list(recs)"
   ]
  },
  {
   "cell_type": "code",
   "execution_count": null,
   "metadata": {
    "collapsed": false
   },
   "outputs": [],
   "source": []
  },
  {
   "cell_type": "code",
   "execution_count": null,
   "metadata": {
    "collapsed": false
   },
   "outputs": [],
   "source": []
  },
  {
   "cell_type": "code",
   "execution_count": null,
   "metadata": {
    "collapsed": false
   },
   "outputs": [],
   "source": []
  },
  {
   "cell_type": "code",
   "execution_count": 73,
   "metadata": {
    "collapsed": true
   },
   "outputs": [],
   "source": [
    "def get_verts_and_codes(svg_list):\n",
    "    '''\n",
    "    Input: list of strokes in a single drawing, where each element contains svg string representation of a stroke\n",
    "    parse into x,y coordinates and output list of lists of coordinates\n",
    "    \n",
    "    '''    \n",
    "    lines = []\n",
    "    Verts = []\n",
    "    Codes = []\n",
    "    for stroke_ind,stroke in enumerate(svg_list):\n",
    "        x = []\n",
    "        y = []\n",
    "        parsed = parse_path(stroke)\n",
    "        for i,p in enumerate(parsed):\n",
    "            if i!=len(parsed)-1: # last line segment\n",
    "                x.append(p.start.real)\n",
    "                y.append(p.start.imag)    \n",
    "            else:\n",
    "                x.append(p.start.real)\n",
    "                y.append(p.start.imag)     \n",
    "                x.append(p.end.real)\n",
    "                y.append(p.end.imag)\n",
    "        lines.append(zip(x,y))\n",
    "        verts, codes = polyline_pathmaker(lines)\n",
    "        Verts.append(verts)\n",
    "        Codes.append(codes) \n",
    "    return Verts, Codes"
   ]
  },
  {
   "cell_type": "code",
   "execution_count": null,
   "metadata": {
    "collapsed": true
   },
   "outputs": [],
   "source": []
  },
  {
   "cell_type": "code",
   "execution_count": 74,
   "metadata": {
    "collapsed": true
   },
   "outputs": [],
   "source": [
    "## now get me some verts and codes!\n",
    "Verts, Codes = get_verts_and_codes(svg_list)"
   ]
  },
  {
   "cell_type": "code",
   "execution_count": 77,
   "metadata": {
    "collapsed": false
   },
   "outputs": [],
   "source": [
    "x = zip([len(i) for i in Verts],[len(i) for i in Codes])\n",
    "# [(i,j) for (i,j) in x if i !=j]"
   ]
  },
  {
   "cell_type": "code",
   "execution_count": null,
   "metadata": {
    "collapsed": false
   },
   "outputs": [],
   "source": []
  },
  {
   "cell_type": "code",
   "execution_count": null,
   "metadata": {
    "collapsed": false
   },
   "outputs": [],
   "source": []
  },
  {
   "cell_type": "code",
   "execution_count": 25,
   "metadata": {
    "collapsed": false
   },
   "outputs": [
    {
     "name": "stdout",
     "output_type": "stream",
     "text": [
      "0 226 226 [2] [(177.5, 358.67188)]\n",
      "1 382 382 [2] [(136.5, 255.67188)]\n",
      "2 608 608 [2] [(177.5, 358.67188)]\n",
      "3 764 764 [2] [(136.5, 255.67188)]\n",
      "4 932 932 [2] [(318.5, 609.67188)]\n",
      "5 1098 1098 [2] [(265.5, 553.67188)]\n",
      "6 1218 1218 [2] [(156.5, 310.67188)]\n",
      "7 1386 1386 [2] [(318.5, 609.67188)]\n",
      "8 1552 1552 [2] [(265.5, 553.67188)]\n",
      "9 1672 1672 [2] [(156.5, 310.67188)]\n",
      "10 1840 1840 [2] [(318.5, 609.67188)]\n",
      "11 2006 2006 [2] [(265.5, 553.67188)]\n",
      "12 2126 2126 [2] [(156.5, 310.67188)]\n",
      "13 2138 2138 [2] [(136.5, 306.67188)]\n",
      "14 2148 2148 [2] [(228.5, 510.67188)]\n",
      "15 2162 2162 [2] [(136.5, 306.67188)]\n",
      "16 2174 2174 [2] [(229.5, 511.67188)]\n",
      "17 2188 2188 [2] [(136.5, 306.67188)]\n",
      "18 2200 2200 [2] [(229.5, 511.67188)]\n",
      "20 2312 2312 [2] [(209.5, 395.67188)]\n",
      "21 2408 2408 [2] [(-71.5, 386.67188)]\n",
      "22 2462 2462 [2] [(655.5, 164.67188)]\n",
      "23 2560 2560 [2] [(734.5, 330.67188)]\n",
      "24 2616 2616 [2] [(207.5, 240.67188)]\n",
      "25 2716 2716 [2] [(-85.5, 317.67188)]\n",
      "26 2774 2774 [2] [(596.5, 181.67188)]\n",
      "27 2876 2876 [2] [(686.5, 201.67188)]\n",
      "28 2936 2936 [2] [(229.5, 346.67188)]\n",
      "29 3040 3040 [2] [(583.5, 185.67188)]\n",
      "30 3102 3102 [2] [(180.5, 311.67188)]\n",
      "31 3208 3208 [2] [(578.5, 258.67188)]\n",
      "32 3272 3272 [2] [(210.5, 350.67188)]\n",
      "33 3378 3378 [2] [(578.5, 258.67188)]\n",
      "34 3442 3442 [2] [(210.5, 350.67188)]\n",
      "35 3660 3660 [2] [(731.5, 392.67188)]\n",
      "36 3664 3664 [2] [(698.5, 382.67188)]\n",
      "37 3666 3666 [2] [(657.5, 222.67188)]\n",
      "39 3670 3670 [2] [(698.5, 382.67188)]\n",
      "40 3672 3672 [2] [(657.5, 222.67188)]\n",
      "42 3676 3676 [2] [(698.5, 382.67188)]\n",
      "43 3678 3678 [2] [(657.5, 222.67188)]\n",
      "45 4124 4124 [2] [(707.5, 370.67188)]\n",
      "46 4364 4364 [2] [(692.5, 258.67188)]\n",
      "47 4456 4456 [2] [(885.5, 287.67188)]\n",
      "48 4468 4468 [2] [(485.5, 231.67188)]\n",
      "49 4560 4560 [2] [(885.5, 287.67188)]\n",
      "50 4572 4572 [2] [(485.5, 231.67188)]\n",
      "51 4574 4574 [2] [(525.5, 240.67188)]\n",
      "52 4952 4952 [2] [(468.5, 243.67188)]\n"
     ]
    }
   ],
   "source": [
    "lines = []\n",
    "Verts = []\n",
    "Codes = []\n",
    "for stroke_ind,stroke in enumerate(svg_list):\n",
    "    x = []\n",
    "    y = []\n",
    "    parsed = parse_path(stroke)\n",
    "    for i,p in enumerate(parsed):\n",
    "        x.append(p.start.real)\n",
    "        y.append(p.start.imag)     \n",
    "        x.append(p.end.real)\n",
    "        y.append(p.end.imag)\n",
    "    lines.append(zip(x,y))\n",
    "    verts, codes = polyline_pathmaker(lines)\n",
    "    if len(verts) == len(codes):\n",
    "        print stroke_ind, len(verts),len(codes), codes[-1:], verts[-1:]\n",
    "    \n",
    "    Verts.append(verts)\n",
    "    Codes.append(codes)\n",
    "\n"
   ]
  },
  {
   "cell_type": "code",
   "execution_count": 84,
   "metadata": {
    "collapsed": false
   },
   "outputs": [
    {
     "data": {
      "text/plain": [
       "u'M742.5,466.67188'"
      ]
     },
     "execution_count": 84,
     "metadata": {},
     "output_type": "execute_result"
    }
   ],
   "source": [
    "svg_list[44]"
   ]
  },
  {
   "cell_type": "code",
   "execution_count": 88,
   "metadata": {
    "collapsed": false
   },
   "outputs": [
    {
     "data": {
      "text/plain": [
       "4952"
      ]
     },
     "execution_count": 88,
     "metadata": {},
     "output_type": "execute_result"
    }
   ],
   "source": []
  },
  {
   "cell_type": "code",
   "execution_count": null,
   "metadata": {
    "collapsed": true
   },
   "outputs": [],
   "source": []
  }
 ],
 "metadata": {
  "kernelspec": {
   "display_name": "Python 2",
   "language": "python",
   "name": "python2"
  }
 },
 "nbformat": 4,
 "nbformat_minor": 1
}
