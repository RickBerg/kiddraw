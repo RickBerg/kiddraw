{
 "cells": [
  {
   "cell_type": "code",
   "execution_count": 1,
   "metadata": {
    "collapsed": true
   },
   "outputs": [],
   "source": [
    "## remember to run conn_cocolab from the terminal before running cells in this notebook!\n",
    "\n",
    "import os\n",
    "import urllib, cStringIO\n",
    "\n",
    "import pymongo as pm\n",
    "\n",
    "import matplotlib\n",
    "from matplotlib import pylab, mlab, pyplot\n",
    "%matplotlib inline\n",
    "from IPython.core.pylabtools import figsize, getfigs\n",
    "plt = pyplot\n",
    "import seaborn as sns\n",
    "sns.set_context('poster')\n",
    "sns.set_style('white')\n",
    "\n",
    "import numpy as np\n",
    "from __future__ import division\n",
    "import scipy.stats as stats\n",
    "import pandas as pd\n",
    "import json\n",
    "import re\n",
    "\n",
    "from PIL import Image\n",
    "import base64\n",
    "import datetime"
   ]
  },
  {
   "cell_type": "code",
   "execution_count": 2,
   "metadata": {
    "collapsed": true
   },
   "outputs": [],
   "source": [
    "# categories = [i for i in os.listdir('sketches') if i != '.DS_Store']\n",
    "# num_ims = 0\n",
    "# ims_per_cat = []\n",
    "# for c in categories:\n",
    "#     num_ims += len([i for i in os.listdir(os.path.join('sketches',c)) if i != '.DS_Store'])\n",
    "#     ims_per_cat.append(len([i for i in os.listdir(os.path.join('sketches',c)) if i != '.DS_Store']))\n",
    "    \n",
    "# print num_ims\n",
    "# print ims_per_cat"
   ]
  },
  {
   "cell_type": "markdown",
   "metadata": {},
   "source": [
    "### file hierarchy and database connection vars"
   ]
  },
  {
   "cell_type": "code",
   "execution_count": 3,
   "metadata": {
    "collapsed": true
   },
   "outputs": [],
   "source": [
    "# # directory & file hierarchy\n",
    "# iterationName = 'cdm_run_v3'\n",
    "# exp_path = 'museumstation'\n",
    "# analysis_dir = os.getcwd()\n",
    "# exp_dir = os.path.abspath(os.path.join(os.getcwd(),'../..','experiments'))\n",
    "# ##\n",
    "# sketch_dir = os.path.join(analysis_dir,'sketches')\n",
    "# if not os.path.exists(sketch_dir):\n",
    "#     os.makedirs(sketch_dir)\n",
    "# ## dir where we can keep all sketches not binned by category    \n"
   ]
  },
  {
   "cell_type": "code",
   "execution_count": 5,
   "metadata": {},
   "outputs": [],
   "source": [
    "# set vars \n",
    "auth = pd.read_csv('../auth.txt', header = None) # this auth.txt file contains the password for the sketchloop user\n",
    "pswd = auth.values[0][0]\n",
    "user = 'sketchloop'\n",
    "host = 'rxdhawkins.me' ## cocolab ip address\n",
    "\n",
    "# have to fix this to be able to analyze from local\n",
    "import pymongo as pm\n",
    "conn = pm.MongoClient('mongodb://sketchloop:' + pswd + '@127.0.0.1')\n",
    "db = conn['kiddraw']\n",
    "coll = db['cdm_run_v4']"
   ]
  },
  {
   "cell_type": "markdown",
   "metadata": {},
   "source": [
    "### Preprocessing data and rendering images"
   ]
  },
  {
   "cell_type": "markdown",
   "metadata": {},
   "source": [
    "Notes:\n",
    "There are two types of records in the database: 'stroke' and 'finalImage'. This is stored under the key: 'dataType'.\n",
    "The 'stroke'-type of record contains the svg string information. Every stroke event is stored as a separate record.\n",
    "The session identifier is called \"sessionId\".\n",
    "\n",
    "\n"
   ]
  },
  {
   "cell_type": "code",
   "execution_count": 6,
   "metadata": {},
   "outputs": [
    {
     "name": "stdout",
     "output_type": "stream",
     "text": [
      "We currently have 766 valid sessions from cdm_run_v4.\n",
      "We currently have 4876 total drawings from cdm_run_v4.\n",
      "The last drawing was made at 2018-11-01T18:21:39.264Z.\n"
     ]
    }
   ],
   "source": [
    "iterationName = 'cdm_run_v4'\n",
    "all_sessions = coll.distinct('sessionId') ## this returns ALL sessions in this collection. we will then filter on time_threshold\n",
    "image_recs_all = coll.find({'$and': [{'dataType':'finalImage'}]})\n",
    "numImages = image_recs_all.count()\n",
    "lastImage = image_recs_all[numImages - 1]\n",
    "lastestDate = lastImage['date']\n",
    "\n",
    "print 'We currently have {} valid sessions from {}.'.format(len(all_sessions), iterationName)\n",
    "print 'We currently have {} total drawings from {}.'.format(numImages, iterationName)\n",
    "print 'The last drawing was made at {}.'.format(lastestDate)"
   ]
  },
  {
   "cell_type": "code",
   "execution_count": 7,
   "metadata": {},
   "outputs": [
    {
     "name": "stdout",
     "output_type": "stream",
     "text": [
      "We currently have 766 valid sessions from cdm_run_v4.\n",
      "We currently have 4876 total drawings from cdm_run_v4.\n",
      "The last drawing was made at 2018-11-01T18:21:39.264Z.\n"
     ]
    }
   ],
   "source": [
    "experiment_name = 'testing'\n",
    "iterationName = 'cdm_run_v4'\n",
    "all_sessions = coll.distinct('sessionId') ## this returns ALL sessions in this collection. we will then filter on time_threshold\n",
    "valid_sessions = coll.find().distinct('sessionId')\n",
    "image_recs_all = coll.find({'$and': [{'dataType':'finalImage'}]})\n",
    "numImages = image_recs_all.count()\n",
    "lastImage = image_recs_all[numImages - 1]\n",
    "lastestDate = lastImage['date']\n",
    "\n",
    "print 'We currently have {} valid sessions from {}.'.format(len(valid_sessions), iterationName)\n",
    "print 'We currently have {} total drawings from {}.'.format(numImages, iterationName)\n",
    "print 'The last drawing was made at {}.'.format(lastestDate)"
   ]
  },
  {
   "cell_type": "code",
   "execution_count": 28,
   "metadata": {},
   "outputs": [
    {
     "name": "stdout",
     "output_type": "stream",
     "text": [
      "We currently have 4412 valid sessions from cdm_run_v3.\n",
      "We currently have 25160 total drawings from cdm_run_v3.\n",
      "The last drawing was made at 2018-09-04T21:33:25.905Z.\n"
     ]
    }
   ],
   "source": [
    "coll = db['cdm_run_v3']\n",
    "iterationName = 'cdm_run_v3'\n",
    "all_sessions = coll.distinct('sessionId') ## this returns ALL sessions in this collection. we will then filter on time_threshold\n",
    "image_recs_all = coll.find({'$and': [{'dataType':'finalImage'}]})\n",
    "numImages = image_recs_all.count()\n",
    "lastImage = image_recs_all[numImages - 1]\n",
    "lastestDate = lastImage['date']\n",
    "\n",
    "print 'We currently have {} valid sessions from {}.'.format(len(all_sessions), iterationName)\n",
    "print 'We currently have {} total drawings from {}.'.format(numImages, iterationName)\n",
    "print 'The last drawing was made at {}.'.format(lastestDate)"
   ]
  },
  {
   "cell_type": "code",
   "execution_count": null,
   "metadata": {
    "collapsed": true
   },
   "outputs": [],
   "source": []
  },
  {
   "cell_type": "markdown",
   "metadata": {},
   "source": [
    "### How many of these drawings are from kids and not on practice trials?"
   ]
  },
  {
   "cell_type": "code",
   "execution_count": 8,
   "metadata": {},
   "outputs": [
    {
     "name": "stdout",
     "output_type": "stream",
     "text": [
      "We currently have 716 square images from kids in cdm_run_v4.\n",
      "We currently have 582 shape images from kids in cdm_run_v4.\n",
      "We currently have 510 circle images from kids in cdm_run_v4.\n",
      "We currently have 4524 TOTAL images from kids in cdm_run_v4.\n"
     ]
    }
   ],
   "source": [
    "image_recs_kids = coll.find({'$and': [{'dataType':'finalImage'},{'age':{\"$ne\": 'adult'}},{'category':'square'}]})\n",
    "print 'We currently have {} square images from kids in {}.'.format(image_recs_kids.count(), iterationName)\n",
    "\n",
    "image_recs_kids = coll.find({'$and': [{'dataType':'finalImage'},{'age':{\"$ne\": 'adult'}},{'category':'shape'}]})\n",
    "print 'We currently have {} shape images from kids in {}.'.format(image_recs_kids.count(), iterationName)\n",
    "\n",
    "image_recs_kids = coll.find({'$and': [{'dataType':'finalImage'},{'age':{\"$ne\": 'adult'}},{'category':'this square'}]})\n",
    "print 'We currently have {} circle images from kids in {}.'.format(image_recs_kids.count(), iterationName)\n",
    "\n",
    "image_recs_kids = coll.find({'$and': [{'dataType':'finalImage'},{'age':{\"$ne\": 'adult'}}]})\n",
    "print 'We currently have {} TOTAL images from kids in {}.'.format(image_recs_kids.count(), iterationName)\n"
   ]
  },
  {
   "cell_type": "code",
   "execution_count": 9,
   "metadata": {},
   "outputs": [
    {
     "name": "stdout",
     "output_type": "stream",
     "text": [
      "We currently have 3226 non-practice trials from kids in cdm_run_v4.\n"
     ]
    }
   ],
   "source": [
    "image_recs_kids_not_practice = coll.find({'$and': [{'dataType':'finalImage'},{'age':{\"$ne\": 'adult'}},{'category':{\"$nin\": ['square','this circle','shape']}}]})\n",
    "print 'We currently have {} non-practice trials from kids in {}.'.format(image_recs_kids_not_practice.count(), iterationName)"
   ]
  },
  {
   "cell_type": "code",
   "execution_count": 10,
   "metadata": {},
   "outputs": [
    {
     "name": "stdout",
     "output_type": "stream",
     "text": [
      "We currently have 265 non-practice trials from adults in cdm_run_v4.\n"
     ]
    }
   ],
   "source": [
    "image_recs_adults_not_practice = coll.find({'$and': [{'dataType':'finalImage'},{'age': 'adult'},{'category':{\"$nin\": ['square','this circle','shape']}}]})\n",
    "print 'We currently have {} non-practice trials from adults in {}.'.format(image_recs_adults_not_practice.count(), iterationName)"
   ]
  },
  {
   "cell_type": "markdown",
   "metadata": {},
   "source": [
    "### Get out number of drawings per age and class"
   ]
  },
  {
   "cell_type": "code",
   "execution_count": 21,
   "metadata": {},
   "outputs": [],
   "source": [
    "# var stimListTest = [{\"category\": \"a bear\", \"video\": \"bear.mp4\"},\n",
    "#     {\"category\": \"a cat\", \"video\": \"cat.mp4\"},\n",
    "#     {\"category\": \"a frog\", \"video\": \"frog.mp4\"},\n",
    "#     {\"category\": \"a sheep\", \"video\": \"sheep.mp4\"},\n",
    "#     {\"category\": \"a key\", \"video\": \"key.mp4\"},\n",
    "#     {\"category\": \"a phone\", \"video\": \"phone.mp4\"},\n",
    "#     {\"category\": \"a scissors\", \"video\": \"scissors.mp4\"},\n",
    "#     {\"category\": \"a train\", \"video\": \"train.mp4\"} ]\n",
    "\n",
    "ages = {'age2','age3','age4','age5','age6','age7','age8','age9','age10'}\n",
    "categories_run3 = {'a bear','a cat','a frog','a sheep','a key','a phone','a scissors','a train'}"
   ]
  },
  {
   "cell_type": "code",
   "execution_count": 22,
   "metadata": {
    "collapsed": true
   },
   "outputs": [],
   "source": [
    "# categories_run1 = {\n",
    "# 'a boat',\n",
    "# 'a car',\n",
    "# 'a cup',\n",
    "# 'a dog',\n",
    "# 'a fish',\n",
    "# 'a house',\n",
    "# 'a person',\n",
    "# 'a tree'}\n",
    "\n",
    "# categories_run2 = {'an airplane',\n",
    "# 'a bike',\n",
    "# 'a bird',\n",
    "# 'a bowl',\n",
    "# 'a chair',\n",
    "# 'a couch',\n",
    "# 'a phone',\n",
    "# 'a rabbit'}\n",
    "\n",
    "# categories = {\n",
    "# 'an airplane',\n",
    "# 'a bike',\n",
    "# 'a bird',\n",
    "# 'a bowl',\n",
    "# 'a chair',\n",
    "# 'a couch',\n",
    "# 'a phone',\n",
    "# 'a rabbit',\n",
    "# 'a boat',\n",
    "# 'a car',\n",
    "# 'a cup',\n",
    "# 'a dog',\n",
    "# 'a fish',\n",
    "# 'a house',\n",
    "# 'a person',\n",
    "# 'a tree'}\n"
   ]
  },
  {
   "cell_type": "code",
   "execution_count": 77,
   "metadata": {},
   "outputs": [
    {
     "name": "stdout",
     "output_type": "stream",
     "text": [
      "We have 11 drawings for age10 and a train \n",
      "We have 8 drawings for age9 and a train \n",
      "We have 9 drawings for age8 and a train \n",
      "We have 25 drawings for age7 and a train \n",
      "We have 34 drawings for age6 and a train \n",
      "We have 35 drawings for age5 and a train \n",
      "We have 46 drawings for age4 and a train \n",
      "We have 66 drawings for age3 and a train \n",
      "We have 79 drawings for age2 and a train \n",
      "We have 11 drawings for age10 and a scissors \n",
      "We have 9 drawings for age9 and a scissors \n",
      "We have 10 drawings for age8 and a scissors \n",
      "We have 20 drawings for age7 and a scissors \n",
      "We have 27 drawings for age6 and a scissors \n",
      "We have 36 drawings for age5 and a scissors \n",
      "We have 46 drawings for age4 and a scissors \n",
      "We have 67 drawings for age3 and a scissors \n",
      "We have 82 drawings for age2 and a scissors \n",
      "We have 11 drawings for age10 and a frog \n",
      "We have 10 drawings for age9 and a frog \n",
      "We have 11 drawings for age8 and a frog \n",
      "We have 23 drawings for age7 and a frog \n",
      "We have 33 drawings for age6 and a frog \n",
      "We have 38 drawings for age5 and a frog \n",
      "We have 52 drawings for age4 and a frog \n",
      "We have 68 drawings for age3 and a frog \n",
      "We have 82 drawings for age2 and a frog \n",
      "We have 12 drawings for age10 and a cat \n",
      "We have 7 drawings for age9 and a cat \n",
      "We have 8 drawings for age8 and a cat \n",
      "We have 22 drawings for age7 and a cat \n",
      "We have 30 drawings for age6 and a cat \n",
      "We have 38 drawings for age5 and a cat \n",
      "We have 48 drawings for age4 and a cat \n",
      "We have 67 drawings for age3 and a cat \n",
      "We have 76 drawings for age2 and a cat \n",
      "We have 10 drawings for age10 and a bear \n",
      "We have 7 drawings for age9 and a bear \n",
      "We have 9 drawings for age8 and a bear \n",
      "We have 22 drawings for age7 and a bear \n",
      "We have 35 drawings for age6 and a bear \n",
      "We have 41 drawings for age5 and a bear \n",
      "We have 54 drawings for age4 and a bear \n",
      "We have 68 drawings for age3 and a bear \n",
      "We have 83 drawings for age2 and a bear \n",
      "We have 11 drawings for age10 and a key \n",
      "We have 9 drawings for age9 and a key \n",
      "We have 9 drawings for age8 and a key \n",
      "We have 20 drawings for age7 and a key \n",
      "We have 32 drawings for age6 and a key \n",
      "We have 36 drawings for age5 and a key \n",
      "We have 51 drawings for age4 and a key \n",
      "We have 65 drawings for age3 and a key \n",
      "We have 79 drawings for age2 and a key \n",
      "We have 13 drawings for age10 and a phone \n",
      "We have 8 drawings for age9 and a phone \n",
      "We have 9 drawings for age8 and a phone \n",
      "We have 19 drawings for age7 and a phone \n",
      "We have 30 drawings for age6 and a phone \n",
      "We have 36 drawings for age5 and a phone \n",
      "We have 52 drawings for age4 and a phone \n",
      "We have 69 drawings for age3 and a phone \n",
      "We have 75 drawings for age2 and a phone \n",
      "We have 16 drawings for age10 and a sheep \n",
      "We have 8 drawings for age9 and a sheep \n",
      "We have 9 drawings for age8 and a sheep \n",
      "We have 22 drawings for age7 and a sheep \n",
      "We have 32 drawings for age6 and a sheep \n",
      "We have 35 drawings for age5 and a sheep \n",
      "We have 49 drawings for age4 and a sheep \n",
      "We have 66 drawings for age3 and a sheep \n",
      "We have 78 drawings for age2 and a sheep \n"
     ]
    }
   ],
   "source": [
    "## Counts by age and clas\n",
    "counts=[]\n",
    "category=[]\n",
    "age=[]\n",
    "categories = categories_run3\n",
    "\n",
    "for thiscat in categories:\n",
    "    for thisage in ages:\n",
    "        thissubset = coll.find({'$and': [{'dataType':'finalImage'},{'age':thisage},{'category':thiscat}]})\n",
    "        print 'We have {} drawings for {} and {} '.format(thissubset.count(),thisage, thiscat)\n",
    "        counts.append(thissubset.count())\n",
    "        category.append(thiscat)\n",
    "        age.append(thisage)"
   ]
  },
  {
   "cell_type": "code",
   "execution_count": 78,
   "metadata": {},
   "outputs": [
    {
     "name": "stdout",
     "output_type": "stream",
     "text": [
      "had 22 surveys in age10\n",
      "had 9 surveys where kids drew in age10\n",
      "had 1 surveys where parents drew in age10\n",
      "had 1 surveys where other kids drew in age10\n",
      "had 37 surveys in age9\n",
      "had 8 surveys where kids drew in age9\n",
      "had 1 surveys where parents drew in age9\n",
      "had 0 surveys where other kids drew in age9\n",
      "had 17 surveys in age8\n",
      "had 5 surveys where kids drew in age8\n",
      "had 0 surveys where parents drew in age8\n",
      "had 2 surveys where other kids drew in age8\n",
      "had 35 surveys in age7\n",
      "had 8 surveys where kids drew in age7\n",
      "had 1 surveys where parents drew in age7\n",
      "had 2 surveys where other kids drew in age7\n",
      "had 56 surveys in age6\n",
      "had 12 surveys where kids drew in age6\n",
      "had 0 surveys where parents drew in age6\n",
      "had 1 surveys where other kids drew in age6\n",
      "had 59 surveys in age5\n",
      "had 18 surveys where kids drew in age5\n",
      "had 3 surveys where parents drew in age5\n",
      "had 3 surveys where other kids drew in age5\n",
      "had 111 surveys in age4\n",
      "had 29 surveys where kids drew in age4\n",
      "had 6 surveys where parents drew in age4\n",
      "had 1 surveys where other kids drew in age4\n",
      "had 153 surveys in age3\n",
      "had 28 surveys where kids drew in age3\n",
      "had 10 surveys where parents drew in age3\n",
      "had 3 surveys where other kids drew in age3\n",
      "had 211 surveys in age2\n",
      "had 22 surveys where kids drew in age2\n",
      "had 8 surveys where parents drew in age2\n",
      "had 3 surveys where other kids drew in age2\n"
     ]
    }
   ],
   "source": [
    "for thisage in ages:\n",
    "    count_survey = coll.find({'$and': [{'dataType':'survey'},{'age':thisage}]})\n",
    "    print 'had {} surveys in {}'.format(count_survey.count(),thisage)\n",
    "    child_drew_survey = coll.find({'$and': [{'dataType':'survey'},{'age':thisage},{'child_drew':True}]})\n",
    "    other_drew_survey = coll.find({'$and': [{'dataType':'survey'},{'age':thisage},{'other_drew':True}]})\n",
    "\n",
    "    parent_drew_survey = coll.find({'$and': [{'dataType':'survey'},{'age':thisage},{'parent_drew':True}]})\n",
    "\n",
    "    print 'had {} surveys where kids drew in {}'.format(child_drew_survey.count(),thisage)\n",
    "    print 'had {} surveys where parents drew in {}'.format(parent_drew_survey.count(),thisage)\n",
    "    print 'had {} surveys where other kids drew in {}'.format(other_drew_survey.count(),thisage)\n"
   ]
  },
  {
   "cell_type": "code",
   "execution_count": 75,
   "metadata": {},
   "outputs": [
    {
     "data": {
      "text/html": [
       "<div>\n",
       "<style>\n",
       "    .dataframe thead tr:only-child th {\n",
       "        text-align: right;\n",
       "    }\n",
       "\n",
       "    .dataframe thead th {\n",
       "        text-align: left;\n",
       "    }\n",
       "\n",
       "    .dataframe tbody tr th {\n",
       "        vertical-align: top;\n",
       "    }\n",
       "</style>\n",
       "<table border=\"1\" class=\"dataframe\">\n",
       "  <thead>\n",
       "    <tr style=\"text-align: right;\">\n",
       "      <th></th>\n",
       "      <th>counts</th>\n",
       "      <th>category</th>\n",
       "      <th>age</th>\n",
       "    </tr>\n",
       "  </thead>\n",
       "  <tbody>\n",
       "    <tr>\n",
       "      <th>0</th>\n",
       "      <td>0</td>\n",
       "      <td>a train</td>\n",
       "      <td>age10</td>\n",
       "    </tr>\n",
       "    <tr>\n",
       "      <th>1</th>\n",
       "      <td>0</td>\n",
       "      <td>a train</td>\n",
       "      <td>age9</td>\n",
       "    </tr>\n",
       "    <tr>\n",
       "      <th>2</th>\n",
       "      <td>0</td>\n",
       "      <td>a train</td>\n",
       "      <td>age8</td>\n",
       "    </tr>\n",
       "    <tr>\n",
       "      <th>3</th>\n",
       "      <td>0</td>\n",
       "      <td>a train</td>\n",
       "      <td>age7</td>\n",
       "    </tr>\n",
       "    <tr>\n",
       "      <th>4</th>\n",
       "      <td>0</td>\n",
       "      <td>a train</td>\n",
       "      <td>age6</td>\n",
       "    </tr>\n",
       "    <tr>\n",
       "      <th>5</th>\n",
       "      <td>0</td>\n",
       "      <td>a train</td>\n",
       "      <td>age5</td>\n",
       "    </tr>\n",
       "    <tr>\n",
       "      <th>6</th>\n",
       "      <td>0</td>\n",
       "      <td>a train</td>\n",
       "      <td>age4</td>\n",
       "    </tr>\n",
       "    <tr>\n",
       "      <th>7</th>\n",
       "      <td>0</td>\n",
       "      <td>a train</td>\n",
       "      <td>age3</td>\n",
       "    </tr>\n",
       "    <tr>\n",
       "      <th>8</th>\n",
       "      <td>0</td>\n",
       "      <td>a train</td>\n",
       "      <td>age2</td>\n",
       "    </tr>\n",
       "    <tr>\n",
       "      <th>9</th>\n",
       "      <td>0</td>\n",
       "      <td>a scissors</td>\n",
       "      <td>age10</td>\n",
       "    </tr>\n",
       "    <tr>\n",
       "      <th>10</th>\n",
       "      <td>0</td>\n",
       "      <td>a scissors</td>\n",
       "      <td>age9</td>\n",
       "    </tr>\n",
       "    <tr>\n",
       "      <th>11</th>\n",
       "      <td>0</td>\n",
       "      <td>a scissors</td>\n",
       "      <td>age8</td>\n",
       "    </tr>\n",
       "    <tr>\n",
       "      <th>12</th>\n",
       "      <td>0</td>\n",
       "      <td>a scissors</td>\n",
       "      <td>age7</td>\n",
       "    </tr>\n",
       "    <tr>\n",
       "      <th>13</th>\n",
       "      <td>0</td>\n",
       "      <td>a scissors</td>\n",
       "      <td>age6</td>\n",
       "    </tr>\n",
       "    <tr>\n",
       "      <th>14</th>\n",
       "      <td>0</td>\n",
       "      <td>a scissors</td>\n",
       "      <td>age5</td>\n",
       "    </tr>\n",
       "    <tr>\n",
       "      <th>15</th>\n",
       "      <td>0</td>\n",
       "      <td>a scissors</td>\n",
       "      <td>age4</td>\n",
       "    </tr>\n",
       "    <tr>\n",
       "      <th>16</th>\n",
       "      <td>0</td>\n",
       "      <td>a scissors</td>\n",
       "      <td>age3</td>\n",
       "    </tr>\n",
       "    <tr>\n",
       "      <th>17</th>\n",
       "      <td>0</td>\n",
       "      <td>a scissors</td>\n",
       "      <td>age2</td>\n",
       "    </tr>\n",
       "    <tr>\n",
       "      <th>18</th>\n",
       "      <td>0</td>\n",
       "      <td>a frog</td>\n",
       "      <td>age10</td>\n",
       "    </tr>\n",
       "    <tr>\n",
       "      <th>19</th>\n",
       "      <td>0</td>\n",
       "      <td>a frog</td>\n",
       "      <td>age9</td>\n",
       "    </tr>\n",
       "    <tr>\n",
       "      <th>20</th>\n",
       "      <td>0</td>\n",
       "      <td>a frog</td>\n",
       "      <td>age8</td>\n",
       "    </tr>\n",
       "    <tr>\n",
       "      <th>21</th>\n",
       "      <td>0</td>\n",
       "      <td>a frog</td>\n",
       "      <td>age7</td>\n",
       "    </tr>\n",
       "    <tr>\n",
       "      <th>22</th>\n",
       "      <td>0</td>\n",
       "      <td>a frog</td>\n",
       "      <td>age6</td>\n",
       "    </tr>\n",
       "    <tr>\n",
       "      <th>23</th>\n",
       "      <td>0</td>\n",
       "      <td>a frog</td>\n",
       "      <td>age5</td>\n",
       "    </tr>\n",
       "    <tr>\n",
       "      <th>24</th>\n",
       "      <td>0</td>\n",
       "      <td>a frog</td>\n",
       "      <td>age4</td>\n",
       "    </tr>\n",
       "    <tr>\n",
       "      <th>25</th>\n",
       "      <td>0</td>\n",
       "      <td>a frog</td>\n",
       "      <td>age3</td>\n",
       "    </tr>\n",
       "    <tr>\n",
       "      <th>26</th>\n",
       "      <td>0</td>\n",
       "      <td>a frog</td>\n",
       "      <td>age2</td>\n",
       "    </tr>\n",
       "    <tr>\n",
       "      <th>27</th>\n",
       "      <td>0</td>\n",
       "      <td>a cat</td>\n",
       "      <td>age10</td>\n",
       "    </tr>\n",
       "    <tr>\n",
       "      <th>28</th>\n",
       "      <td>0</td>\n",
       "      <td>a cat</td>\n",
       "      <td>age9</td>\n",
       "    </tr>\n",
       "    <tr>\n",
       "      <th>29</th>\n",
       "      <td>0</td>\n",
       "      <td>a cat</td>\n",
       "      <td>age8</td>\n",
       "    </tr>\n",
       "    <tr>\n",
       "      <th>...</th>\n",
       "      <td>...</td>\n",
       "      <td>...</td>\n",
       "      <td>...</td>\n",
       "    </tr>\n",
       "    <tr>\n",
       "      <th>42</th>\n",
       "      <td>0</td>\n",
       "      <td>a bear</td>\n",
       "      <td>age4</td>\n",
       "    </tr>\n",
       "    <tr>\n",
       "      <th>43</th>\n",
       "      <td>0</td>\n",
       "      <td>a bear</td>\n",
       "      <td>age3</td>\n",
       "    </tr>\n",
       "    <tr>\n",
       "      <th>44</th>\n",
       "      <td>0</td>\n",
       "      <td>a bear</td>\n",
       "      <td>age2</td>\n",
       "    </tr>\n",
       "    <tr>\n",
       "      <th>45</th>\n",
       "      <td>0</td>\n",
       "      <td>a key</td>\n",
       "      <td>age10</td>\n",
       "    </tr>\n",
       "    <tr>\n",
       "      <th>46</th>\n",
       "      <td>0</td>\n",
       "      <td>a key</td>\n",
       "      <td>age9</td>\n",
       "    </tr>\n",
       "    <tr>\n",
       "      <th>47</th>\n",
       "      <td>0</td>\n",
       "      <td>a key</td>\n",
       "      <td>age8</td>\n",
       "    </tr>\n",
       "    <tr>\n",
       "      <th>48</th>\n",
       "      <td>0</td>\n",
       "      <td>a key</td>\n",
       "      <td>age7</td>\n",
       "    </tr>\n",
       "    <tr>\n",
       "      <th>49</th>\n",
       "      <td>0</td>\n",
       "      <td>a key</td>\n",
       "      <td>age6</td>\n",
       "    </tr>\n",
       "    <tr>\n",
       "      <th>50</th>\n",
       "      <td>0</td>\n",
       "      <td>a key</td>\n",
       "      <td>age5</td>\n",
       "    </tr>\n",
       "    <tr>\n",
       "      <th>51</th>\n",
       "      <td>0</td>\n",
       "      <td>a key</td>\n",
       "      <td>age4</td>\n",
       "    </tr>\n",
       "    <tr>\n",
       "      <th>52</th>\n",
       "      <td>0</td>\n",
       "      <td>a key</td>\n",
       "      <td>age3</td>\n",
       "    </tr>\n",
       "    <tr>\n",
       "      <th>53</th>\n",
       "      <td>0</td>\n",
       "      <td>a key</td>\n",
       "      <td>age2</td>\n",
       "    </tr>\n",
       "    <tr>\n",
       "      <th>54</th>\n",
       "      <td>0</td>\n",
       "      <td>a phone</td>\n",
       "      <td>age10</td>\n",
       "    </tr>\n",
       "    <tr>\n",
       "      <th>55</th>\n",
       "      <td>0</td>\n",
       "      <td>a phone</td>\n",
       "      <td>age9</td>\n",
       "    </tr>\n",
       "    <tr>\n",
       "      <th>56</th>\n",
       "      <td>0</td>\n",
       "      <td>a phone</td>\n",
       "      <td>age8</td>\n",
       "    </tr>\n",
       "    <tr>\n",
       "      <th>57</th>\n",
       "      <td>0</td>\n",
       "      <td>a phone</td>\n",
       "      <td>age7</td>\n",
       "    </tr>\n",
       "    <tr>\n",
       "      <th>58</th>\n",
       "      <td>0</td>\n",
       "      <td>a phone</td>\n",
       "      <td>age6</td>\n",
       "    </tr>\n",
       "    <tr>\n",
       "      <th>59</th>\n",
       "      <td>0</td>\n",
       "      <td>a phone</td>\n",
       "      <td>age5</td>\n",
       "    </tr>\n",
       "    <tr>\n",
       "      <th>60</th>\n",
       "      <td>0</td>\n",
       "      <td>a phone</td>\n",
       "      <td>age4</td>\n",
       "    </tr>\n",
       "    <tr>\n",
       "      <th>61</th>\n",
       "      <td>0</td>\n",
       "      <td>a phone</td>\n",
       "      <td>age3</td>\n",
       "    </tr>\n",
       "    <tr>\n",
       "      <th>62</th>\n",
       "      <td>0</td>\n",
       "      <td>a phone</td>\n",
       "      <td>age2</td>\n",
       "    </tr>\n",
       "    <tr>\n",
       "      <th>63</th>\n",
       "      <td>0</td>\n",
       "      <td>a sheep</td>\n",
       "      <td>age10</td>\n",
       "    </tr>\n",
       "    <tr>\n",
       "      <th>64</th>\n",
       "      <td>0</td>\n",
       "      <td>a sheep</td>\n",
       "      <td>age9</td>\n",
       "    </tr>\n",
       "    <tr>\n",
       "      <th>65</th>\n",
       "      <td>0</td>\n",
       "      <td>a sheep</td>\n",
       "      <td>age8</td>\n",
       "    </tr>\n",
       "    <tr>\n",
       "      <th>66</th>\n",
       "      <td>0</td>\n",
       "      <td>a sheep</td>\n",
       "      <td>age7</td>\n",
       "    </tr>\n",
       "    <tr>\n",
       "      <th>67</th>\n",
       "      <td>0</td>\n",
       "      <td>a sheep</td>\n",
       "      <td>age6</td>\n",
       "    </tr>\n",
       "    <tr>\n",
       "      <th>68</th>\n",
       "      <td>0</td>\n",
       "      <td>a sheep</td>\n",
       "      <td>age5</td>\n",
       "    </tr>\n",
       "    <tr>\n",
       "      <th>69</th>\n",
       "      <td>0</td>\n",
       "      <td>a sheep</td>\n",
       "      <td>age4</td>\n",
       "    </tr>\n",
       "    <tr>\n",
       "      <th>70</th>\n",
       "      <td>0</td>\n",
       "      <td>a sheep</td>\n",
       "      <td>age3</td>\n",
       "    </tr>\n",
       "    <tr>\n",
       "      <th>71</th>\n",
       "      <td>0</td>\n",
       "      <td>a sheep</td>\n",
       "      <td>age2</td>\n",
       "    </tr>\n",
       "  </tbody>\n",
       "</table>\n",
       "<p>72 rows × 3 columns</p>\n",
       "</div>"
      ],
      "text/plain": [
       "   counts    category    age\n",
       "0       0     a train  age10\n",
       "1       0     a train   age9\n",
       "2       0     a train   age8\n",
       "3       0     a train   age7\n",
       "4       0     a train   age6\n",
       "5       0     a train   age5\n",
       "6       0     a train   age4\n",
       "7       0     a train   age3\n",
       "8       0     a train   age2\n",
       "9       0  a scissors  age10\n",
       "10      0  a scissors   age9\n",
       "11      0  a scissors   age8\n",
       "12      0  a scissors   age7\n",
       "13      0  a scissors   age6\n",
       "14      0  a scissors   age5\n",
       "15      0  a scissors   age4\n",
       "16      0  a scissors   age3\n",
       "17      0  a scissors   age2\n",
       "18      0      a frog  age10\n",
       "19      0      a frog   age9\n",
       "20      0      a frog   age8\n",
       "21      0      a frog   age7\n",
       "22      0      a frog   age6\n",
       "23      0      a frog   age5\n",
       "24      0      a frog   age4\n",
       "25      0      a frog   age3\n",
       "26      0      a frog   age2\n",
       "27      0       a cat  age10\n",
       "28      0       a cat   age9\n",
       "29      0       a cat   age8\n",
       "..    ...         ...    ...\n",
       "42      0      a bear   age4\n",
       "43      0      a bear   age3\n",
       "44      0      a bear   age2\n",
       "45      0       a key  age10\n",
       "46      0       a key   age9\n",
       "47      0       a key   age8\n",
       "48      0       a key   age7\n",
       "49      0       a key   age6\n",
       "50      0       a key   age5\n",
       "51      0       a key   age4\n",
       "52      0       a key   age3\n",
       "53      0       a key   age2\n",
       "54      0     a phone  age10\n",
       "55      0     a phone   age9\n",
       "56      0     a phone   age8\n",
       "57      0     a phone   age7\n",
       "58      0     a phone   age6\n",
       "59      0     a phone   age5\n",
       "60      0     a phone   age4\n",
       "61      0     a phone   age3\n",
       "62      0     a phone   age2\n",
       "63      0     a sheep  age10\n",
       "64      0     a sheep   age9\n",
       "65      0     a sheep   age8\n",
       "66      0     a sheep   age7\n",
       "67      0     a sheep   age6\n",
       "68      0     a sheep   age5\n",
       "69      0     a sheep   age4\n",
       "70      0     a sheep   age3\n",
       "71      0     a sheep   age2\n",
       "\n",
       "[72 rows x 3 columns]"
      ]
     },
     "execution_count": 75,
     "metadata": {},
     "output_type": "execute_result"
    }
   ],
   "source": []
  },
  {
   "cell_type": "code",
   "execution_count": 79,
   "metadata": {},
   "outputs": [],
   "source": [
    "# Counts by class only\n",
    "cat_counts=[]\n",
    "for thiscat in categories:\n",
    "    thissubset = coll.find({'$and': [{'dataType':'finalImage'},{'age':{\"$ne\": 'adult'}},{'category':thiscat}]})\n",
    "    cat_counts.append(thissubset.count())"
   ]
  },
  {
   "cell_type": "code",
   "execution_count": 80,
   "metadata": {
    "collapsed": true
   },
   "outputs": [],
   "source": [
    "C = pd.DataFrame([counts,category,age])\n",
    "C = C.transpose()\n",
    "C.columns = ['counts','category','age']"
   ]
  },
  {
   "cell_type": "code",
   "execution_count": 81,
   "metadata": {},
   "outputs": [
    {
     "data": {
      "text/plain": [
       "[313, 308, 328, 308, 329, 312, 311, 315]"
      ]
     },
     "execution_count": 81,
     "metadata": {},
     "output_type": "execute_result"
    }
   ],
   "source": [
    "cat_counts"
   ]
  },
  {
   "cell_type": "markdown",
   "metadata": {},
   "source": [
    "### Make some basic plots"
   ]
  },
  {
   "cell_type": "code",
   "execution_count": 82,
   "metadata": {},
   "outputs": [
    {
     "data": {
      "image/png": "[encoded data removed]",
      "text/plain": [
       "<matplotlib.figure.Figure at 0x1a119797d0>"
      ]
     },
     "metadata": {},
     "output_type": "display_data"
    },
    {
     "data": {
      "image/png": "[encoded data removed]",
      "text/plain": [
       "<matplotlib.figure.Figure at 0x1a11ab1390>"
      ]
     },
     "metadata": {},
     "output_type": "display_data"
    }
   ],
   "source": [
    "# df.loc[df['column_name'] == some_value]\n",
    "bike = C.loc[C['category']==\"a cat\"]\n",
    "plt.figure(figsize=(14,4))\n",
    "plt.subplot(1,3,1)\n",
    "g=sns.barplot(data=bike,x='age',y='counts')\n",
    "for item in g.get_xticklabels():\n",
    "    item.set_rotation(45)\n",
    "    \n",
    "    \n",
    "couch = C.loc[C['category']==\"a frog\"]\n",
    "plt.figure(figsize=(14,4))\n",
    "plt.subplot(1,3,1)\n",
    "g=sns.barplot(data=couch,x='age',y='counts')\n",
    "for item in g.get_xticklabels():\n",
    "    item.set_rotation(45)"
   ]
  },
  {
   "cell_type": "markdown",
   "metadata": {},
   "source": [
    "### Render out images from museum station -- takes a *long* time."
   ]
  },
  {
   "cell_type": "code",
   "execution_count": null,
   "metadata": {
    "collapsed": true
   },
   "outputs": [],
   "source": [
    "### Notes: It won't write out an image if it already exists. \n",
    "# Every time I get through a certain set of the  images, I record the time threshold \n",
    "#(since images are written out in chronological order)\n",
    "\n",
    "## Time stamps every 100 images.\n",
    "# [1525899407923.0,\n",
    "#  1525980096385.0,\n",
    "#  1526061840113.0,\n",
    "#  1526072921014.0,\n",
    "#  1526152365279.0,\n",
    "#  1526160570739.0,\n",
    "#  1526239856392.0,\n",
    "#  1526251698552.0,\n",
    "#  1526254954475.0,\n",
    "#  1526418747635.0,\n",
    "#  1526495927262.0,\n",
    "#  1526503859627.0,\n",
    "#  1526581190700.0,\n",
    "#  1526593428928.0,\n",
    "#  1526666014298.0,\n",
    "#  1526680293892.0,\n",
    "#  1526760285554.0,\n",
    "#  1526766056162.0,\n",
    "#  1527018277044.0,\n",
    "#  1527793231321.0,\n",
    "#  1527881543709.0,\n",
    "#  1527960926822.0,\n",
    "#  1527970125532.0,\n",
    "#  1527977827733.0,\n",
    "#  1527982709894.0,\n",
    "#  1528059661642.0,\n",
    "#  1528064507404.0,\n",
    "#  1528068114827.0,\n",
    "#  1528140581078.0,\n",
    "#  1528225691857.0,\n",
    "#  1528238270169.0,\n",
    "#  1528321410290.0,\n",
    "#  1528396097251.0,\n",
    "#  1528409134891.0,\n",
    "#  1528482501089.0,\n",
    "#  1528492105365.0,\n",
    "#  1528501366255.0,\n",
    "#  1528579092501.0,\n",
    "#  1528584985113.0,\n",
    "#  1528661341497.0,\n",
    "#  1528741749248.0,\n",
    "#  1528747687974.0,\n",
    "#  1528761045959.0,\n",
    "#  1528835768499.0,\n",
    "#  1528841240592.0,\n",
    "#  1528916818096.0,\n",
    "#  1528923498102.0,\n",
    "#  1529005606993.0,\n",
    "#  1529015740138.0,\n",
    "#  1529092461367.0,\n",
    "#  1529102005265.0,\n",
    "#  1529178354515.0,\n",
    "#  1529183429730.0,\n",
    "#  1529190138056.0,\n",
    "#  1529272790915.0,\n",
    "#  1529351265769.0,\n",
    "#  1529360098520.0,\n",
    "#  1529435563121.0,\n",
    "#  1529443877705.0,\n",
    "#  1529518216924.0,\n",
    "#  1529529413026.0,\n",
    "#  1529690851878.0,\n",
    "#  1529705056613.0,\n",
    "#  1530311006680.0]\n"
   ]
  },
  {
   "cell_type": "code",
   "execution_count": null,
   "metadata": {
    "collapsed": true
   },
   "outputs": [],
   "source": [
    "\n",
    "# time_threshold = 1530650649659.0 ## first ~7000 images!\n",
    "time_threshold = 1533252327962.0 ## all images up until morning of Aug 3\n",
    "\n",
    "valid_sessions = coll.find({'time':{'$gt': time_threshold}}).distinct('sessionId') \n",
    "image_recs = coll.find({'$and': [{'time': {'$lt': time_threshold}}, \n",
    "                                            {'dataType':'finalImage'}]}).sort('time')    \n",
    "print('we have {} valid sessions after time threshold'.format(len(valid_sessions)))\n",
    "print('we have {} images after time threshold'.format(image_recs.count()))\n",
    "##"
   ]
  },
  {
   "cell_type": "code",
   "execution_count": null,
   "metadata": {},
   "outputs": [
    {
     "name": "stdout",
     "output_type": "stream",
     "text": [
      "In the cdm_run_v41536107048139 session we have 2 images\n",
      "In the cdm_run_v41536168964111 session we have 12 images\n",
      "In the cdm_run_v41536178424927 session we have 12 images\n",
      "In the cdm_run_v41536249599638 session we have 2 images\n",
      "In the cdm_run_v41536254744920 session we have 2 images\n",
      "In the cdm_run_v41536254851282 session we have 1 images\n",
      "In the cdm_run_v41536255042960 session we have 1 images\n",
      "In the cdm_run_v41536255458365 session we have 8 images\n",
      "In the cdm_run_v41536256584193 session we have 11 images\n",
      "Weve written 10 images...\n",
      "In the cdm_run_v41536260618874 session we have 3 images\n",
      "In the cdm_run_v41536261036082 session we have 4 images\n",
      "Weve written 20 images...\n",
      "In the cdm_run_v41536261493555 session we have 1 images\n",
      "In the cdm_run_v41536263126224 session we have 2 images\n",
      "In the cdm_run_v41536265227405 session we have 12 images\n",
      "Weve written 30 images...\n",
      "In the cdm_run_v41536265480238 session we have 1 images\n",
      "In the cdm_run_v41536265687579 session we have 10 images\n",
      "Weve written 40 images...\n",
      "In the cdm_run_v41536265852010 session we have 1 images\n",
      "In the cdm_run_v41536265924175 session we have 2 images\n",
      "In the cdm_run_v41536266012086 session we have 3 images\n",
      "In the cdm_run_v41536268212046 session we have 3 images\n",
      "In the cdm_run_v41536335999789 session we have 2 images\n",
      "In the cdm_run_v41536343158829 session we have 4 images\n",
      "In the cdm_run_v41536343509938 session we have 6 images\n",
      "In the cdm_run_v41536345766792 session we have 3 images\n",
      "In the cdm_run_v41536346618057 session we have 10 images\n",
      "Weve written 50 images...\n",
      "In the cdm_run_v41536355093788 session we have 8 images\n",
      "Weve written 60 images...\n",
      "In the cdm_run_v41536422399771 session we have 2 images\n",
      "In the cdm_run_v41536428715072 session we have 2 images\n",
      "In the cdm_run_v41536428898104 session we have 12 images\n",
      "Weve written 70 images...\n",
      "In the cdm_run_v41536429692059 session we have 8 images\n",
      "Weve written 80 images...\n",
      "In the cdm_run_v41536429828075 session we have 1 images\n",
      "In the cdm_run_v41536430458389 session we have 1 images\n",
      "In the cdm_run_v41536431562628 session we have 5 images\n",
      "In the cdm_run_v41536432019060 session we have 1 images\n",
      "In the cdm_run_v41536432290768 session we have 2 images\n",
      "In the cdm_run_v41536432351989 session we have 2 images\n",
      "In the cdm_run_v41536432549058 session we have 1 images\n",
      "In the cdm_run_v41536432614698 session we have 1 images\n",
      "In the cdm_run_v41536434314325 session we have 1 images\n",
      "In the cdm_run_v41536434661115 session we have 3 images\n",
      "In the cdm_run_v41536434749475 session we have 3 images\n",
      "In the cdm_run_v41536434832896 session we have 1 images\n",
      "In the cdm_run_v41536435787988 session we have 1 images\n",
      "In the cdm_run_v41536436515000 session we have 12 images\n",
      "Weve written 90 images...\n",
      "In the cdm_run_v41536437362046 session we have 4 images\n",
      "Weve written 100 images...\n",
      "In the cdm_run_v41536437655795 session we have 7 images\n",
      "In the cdm_run_v41536437858936 session we have 12 images\n",
      "In the cdm_run_v41536438119249 session we have 12 images\n",
      "In the cdm_run_v41536438353471 session we have 2 images\n",
      "In the cdm_run_v41536438537512 session we have 10 images\n",
      "Weve written 110 images...\n",
      "In the cdm_run_v41536440613354 session we have 1 images\n",
      "In the cdm_run_v41536441254680 session we have 6 images\n",
      "Weve written 120 images...\n",
      "In the cdm_run_v41536441455574 session we have 3 images\n",
      "In the cdm_run_v41536441714282 session we have 2 images\n",
      "In the cdm_run_v41536441896324 session we have 2 images\n",
      "In the cdm_run_v41536442442740 session we have 6 images\n",
      "In the cdm_run_v41536443471876 session we have 1 images\n",
      "In the cdm_run_v41536443703394 session we have 9 images\n",
      "Weve written 130 images...\n",
      "In the cdm_run_v41536444467020 session we have 3 images\n",
      "In the cdm_run_v41536444829745 session we have 9 images\n",
      "Weve written 140 images...\n",
      "In the cdm_run_v41536445003993 session we have 1 images\n",
      "In the cdm_run_v41536445153667 session we have 1 images\n",
      "In the cdm_run_v41536445215285 session we have 6 images\n",
      "In the cdm_run_v41536445365859 session we have 4 images\n",
      "In the cdm_run_v41536445735698 session we have 12 images\n",
      "Weve written 150 images...\n",
      "Weve written 160 images...\n",
      "In the cdm_run_v41536446273758 session we have 10 images\n",
      "Weve written 170 images...\n",
      "In the cdm_run_v41536446987764 session we have 1 images\n",
      "In the cdm_run_v41536447093595 session we have 8 images\n",
      "In the cdm_run_v41536447269937 session we have 1 images\n",
      "In the cdm_run_v41536447334042 session we have 9 images\n",
      "Weve written 180 images...\n",
      "In the cdm_run_v41536447976702 session we have 1 images\n",
      "In the cdm_run_v41536448157876 session we have 6 images\n",
      "In the cdm_run_v41536448304446 session we have 5 images\n",
      "Weve written 190 images...\n",
      "In the cdm_run_v41536449005299 session we have 1 images\n",
      "In the cdm_run_v41536449216576 session we have 12 images\n",
      "Weve written 200 images...\n",
      "In the cdm_run_v41536449673880 session we have 3 images\n",
      "In the cdm_run_v41536449839383 session we have 2 images\n",
      "In the cdm_run_v41536449916714 session we have 12 images\n",
      "Weve written 210 images...\n",
      "In the cdm_run_v41536450268022 session we have 6 images\n",
      "In the cdm_run_v41536508799962 session we have 3 images\n",
      "In the cdm_run_v41536518758194 session we have 10 images\n",
      "Weve written 220 images...\n",
      "In the cdm_run_v41536519015724 session we have 1 images\n",
      "In the cdm_run_v41536521271567 session we have 3 images\n",
      "In the cdm_run_v41536522143034 session we have 4 images\n",
      "Weve written 230 images...\n",
      "In the cdm_run_v41536522290128 session we have 12 images\n",
      "Weve written 240 images...\n",
      "In the cdm_run_v41536522624068 session we have 9 images\n",
      "Weve written 250 images...\n",
      "In the cdm_run_v41536522888691 session we have 1 images\n",
      "In the cdm_run_v41536523040650 session we have 12 images\n",
      "Weve written 260 images...\n",
      "In the cdm_run_v41536523294931 session we have 12 images\n",
      "In the cdm_run_v41536523635997 session we have 4 images\n",
      "In the cdm_run_v41536525611330 session we have 12 images\n",
      "Weve written 270 images...\n",
      "Weve written 280 images...\n",
      "In the cdm_run_v41536526059073 session we have 9 images\n",
      "In the cdm_run_v41536526441835 session we have 3 images\n",
      "In the cdm_run_v41536526815068 session we have 3 images\n",
      "In the cdm_run_v41536527051087 session we have 5 images\n"
     ]
    }
   ],
   "source": [
    "really_run_this=1\n",
    "skipCount = 0;\n",
    "writeImageCount = 0;\n",
    "timeSave = []\n",
    "\n",
    "if really_run_this:\n",
    "    imsize = 224 ## img writing size, optimized for CNN\n",
    "    for s in valid_sessions:\n",
    "        this_collection = coll\n",
    "        image_recs = this_collection.find({'$and': [{'sessionId':s}, {'dataType':'finalImage'}]}).sort('time')    \n",
    "        print('In the {} session we have {} images'.format(s,image_recs.count()))\n",
    "        if image_recs.count()>3:\n",
    "            for imrec in image_recs:                                                            \n",
    "                category_dir = os.path.join(sketch_dir,imrec['category'])\n",
    "                if not os.path.exists(category_dir):\n",
    "                    os.makedirs(category_dir)\n",
    "                fname = os.path.join(category_dir,'{}_sketch_{}_{}.png'.format(imrec['category'], imrec['age'],imrec['sessionId']))\n",
    "                if os.path.isfile(fname):\n",
    "                    ## skip this image!\n",
    "                    skipCount = skipCount + 1;\n",
    "                    if np.mod(skipCount,40)==0:\n",
    "                        print('Weve skipped {} images...'.format(skipCount))\n",
    "                        timeSave.append(imrec['time']) # we're writing out in order of time, so we can save these thresholds to be more efficeint later\n",
    "                else:\n",
    "                    stroke_recs = this_collection.find({'$and': [{'sessionId':s}, \n",
    "                                      {'dataType':'stroke'},\n",
    "                                      {'trialNum': imrec['trialNum']}]}).sort('time')   \n",
    "                    if stroke_recs.count() > 0 and imrec['age']!='adult':\n",
    "                        imgData = imrec['imgData'];\n",
    "                        writeImageCount = writeImageCount+1\n",
    "                        with open(fname, \"wb\") as fh:\n",
    "                            fh.write(imgData.decode('base64'))   \n",
    "                        if np.mod(writeImageCount,10)==0:\n",
    "                            print('Weve written {} images...'.format(writeImageCount))\n",
    "                            timeSave.append(imrec['endTrialTime'])"
   ]
  },
  {
   "cell_type": "code",
   "execution_count": null,
   "metadata": {
    "collapsed": true
   },
   "outputs": [],
   "source": []
  },
  {
   "cell_type": "code",
   "execution_count": null,
   "metadata": {
    "collapsed": true
   },
   "outputs": [],
   "source": []
  },
  {
   "cell_type": "markdown",
   "metadata": {
    "collapsed": true
   },
   "source": [
    "### Writes out images and gets other kinds of info..."
   ]
  },
  {
   "cell_type": "code",
   "execution_count": 2,
   "metadata": {
    "collapsed": true
   },
   "outputs": [],
   "source": [
    "# really_run_this =  0\n",
    "# if really_run_this:\n",
    "#     ## img writing parameters\n",
    "#     imsize = 224\n",
    "    \n",
    "#     ## desired output: a dataframe that has trials on the rows, and the following columns:\n",
    "#     ## category, age, number of strokes, mean_pixel_intensity, bounding_box_coordinates_LTRB, list of strokes, \n",
    "#     ## PNG string, submission_time, submission_date\n",
    "#     ## to be saved out as a nice tidy CSV\n",
    "#     session_id = []\n",
    "#     trial_num = []\n",
    "#     category = []\n",
    "#     age = []\n",
    "#     num_strokes = []\n",
    "#     mean_pixel_intensity = []\n",
    "#     bounding_box_coords = []\n",
    "#     svg = []\n",
    "#     svg_times = []\n",
    "#     png = []\n",
    "#     submit_time = []\n",
    "#     submit_date = []\n",
    "#     submit_date_readable = []\n",
    "#     draw_duration = []\n",
    "#     filename = []\n",
    "#     for s in valid_sessions:\n",
    "#         this_collection = coll\n",
    "#         image_recs = this_collection.find({'$and': [{'time': {'$gt': time_threshold}}, {'sessionId':s}, {'dataType':'finalImage'}]}).sort('time')    \n",
    "#         for imrec in image_recs:                                                            \n",
    "#                 stroke_recs = this_collection.find({'$and': [{'time': {'$gt': time_threshold}}, \n",
    "#                                                   {'sessionId':s}, \n",
    "#                                                   {'dataType':'stroke'},\n",
    "#                                                   {'trialNum': imrec['trialNum']}]}).sort('time')   \n",
    "\n",
    "#                 if 'age' in imrec.keys():\n",
    "#                     if imrec['age'] != 'adult':\n",
    "                        \n",
    "#                         os.path.isfile(path)\n",
    "                        \n",
    "#                         if stroke_recs.count() > 0: ## only include trials if the drawings are not blank   \n",
    "                            \n",
    "                           \n",
    "                            \n",
    "#                             session_id.append(imrec['sessionId'])        \n",
    "#                             trial_num.append(imrec['trialNum']) \n",
    "#                             category.append(imrec['category'])\n",
    "#                             age.append(imrec['age'])\n",
    "                            \n",
    "#                             png.append(imrec['imgData'])\n",
    "#                             submit_time.append(imrec['time'])\n",
    "#                             readadble_date = datetime.datetime.fromtimestamp(imrec['time']/1000.0).strftime('%Y-%m-%d %H:%M:%S.%f')\n",
    "#                             submit_date_readable.append(readadble_date)\n",
    "                        \n",
    "#                             submit_date.append(imrec['date'])\n",
    "#                             filename.append(os.path.join(sketch_dir,'{}_sketch_{}_{}.png'.format(imrec['category'], imrec['age'],imrec['sessionId'])))\n",
    "#                             num_strokes.append(stroke_recs.count())\n",
    "#                             _svg = [] # this keeps track of the strokes from THIS final image\n",
    "#                             _svg_times = []\n",
    "#                             for strec in stroke_recs:\n",
    "#                                 _svg.append(strec['svg'])\n",
    "#                                 _svg_times.append(strec['time'])\n",
    "#                             draw_duration.append((_svg_times[-1] - _svg_times[0])/1000) ## in seconds\n",
    "#                             svg.append(_svg)\n",
    "#                             svg_times.append(_svg_times)\n",
    "\n",
    "#                             ## and write out image data here too\n",
    "#                             imgData = imrec['imgData'];\n",
    "#                             filestr = base64.b64decode(imgData)\n",
    "#                             category_dir = os.path.join(sketch_dir,imrec['category'])\n",
    "#                             if not os.path.exists(category_dir):\n",
    "#                                 os.makedirs(category_dir)\n",
    "#                             fname = os.path.join(category_dir,'{}_sketch_{}_{}.png'.format(imrec['category'], imrec['age'],imrec['sessionId']))\n",
    "#                             with open(fname, \"wb\") as fh:\n",
    "#                                 fh.write(imgData.decode('base64'))  \n",
    "                        "
   ]
  },
  {
   "cell_type": "code",
   "execution_count": 61,
   "metadata": {
    "collapsed": true
   },
   "outputs": [],
   "source": [
    "# really_run_this = 1\n",
    "# if really_run_this:\n",
    "#     ## img writing parameters\n",
    "#     imsize = 224\n",
    "    \n",
    "#     ## desired output: a dataframe that has trials on the rows, and the following columns:\n",
    "#     ## category, age, number of strokes, mean_pixel_intensity, bounding_box_coordinates_LTRB, list of strokes, \n",
    "#     ## PNG string, submission_time, submission_date\n",
    "#     ## to be saved out as a nice tidy CSV\n",
    "#     session_id = []\n",
    "#     trial_num = []\n",
    "#     category = []\n",
    "#     age = []\n",
    "#     num_strokes = []\n",
    "#     mean_pixel_intensity = []\n",
    "#     bounding_box_coords = []\n",
    "#     svg = []\n",
    "#     svg_times = []\n",
    "#     png = []\n",
    "#     submit_time = []\n",
    "#     submit_date = []\n",
    "#     submit_date_readable = []\n",
    "#     draw_duration = []\n",
    "#     filename = []\n",
    "    \n",
    "#     for cat in ['a boat','a car','a cup','a dog','a fish','a house','a person','a tree']:\n",
    "#         imgcount = 0\n",
    "#         this_collection = coll\n",
    "#         image_recs = this_collection.find({'$and': [{'time': {'$gt': time_threshold}}, {'category':cat},{'dataType':'finalImage'}]}).sort('time')   \n",
    "#         for imrec in image_recs:  \n",
    "#                 if imgcount < 100:\n",
    "#                     stroke_recs = this_collection.find({'$and': [{'time': {'$gt': time_threshold}}, \n",
    "#                                                       {'sessionId':imrec['sessionId']}, \n",
    "#                                                       {'dataType':'stroke'},\n",
    "#                                                       {'trialNum': imrec['trialNum']}]}).sort('time')   \n",
    "\n",
    "#                     if 'age' in imrec.keys():\n",
    "#                         if imrec['age'] != 'adult':\n",
    "#                             if stroke_recs.count() > 0: ## only include trials if the drawings are not blank    \n",
    "#                                 imgcount += 1\n",
    "#                                 session_id.append(imrec['sessionId'])        \n",
    "#                                 trial_num.append(imrec['trialNum']) \n",
    "#                                 category.append(imrec['category'])\n",
    "#                                 age.append(imrec['age'])\n",
    "\n",
    "#                                 png.append(imrec['imgData'])\n",
    "#                                 submit_time.append(imrec['time'])\n",
    "#                                 readadble_date = datetime.datetime.fromtimestamp(imrec['time']/1000.0).strftime('%Y-%m-%d %H:%M:%S.%f')\n",
    "#                                 submit_date_readable.append(readadble_date)\n",
    "\n",
    "#                                 submit_date.append(imrec['date'])\n",
    "#                                 filename.append(os.path.join(sketch_dir,'{}_{}.png'.format(imrec['category'], imgcount)))\n",
    "#                                 num_strokes.append(stroke_recs.count())\n",
    "#                                 _svg = [] # this keeps track of the strokes from THIS final image\n",
    "#                                 _svg_times = []\n",
    "#                                 for strec in stroke_recs:\n",
    "#                                     _svg.append(strec['svg'])\n",
    "#                                     _svg_times.append(strec['time'])\n",
    "#                                 draw_duration.append((_svg_times[-1] - _svg_times[0])/1000) ## in seconds\n",
    "#                                 svg.append(_svg)\n",
    "#                                 svg_times.append(_svg_times)\n",
    "\n",
    "#                                 ## and write out image data here too\n",
    "#                                 imgData = imrec['imgData'];\n",
    "#                                 filestr = base64.b64decode(imgData)\n",
    "#                                 category_dir = os.path.join(sketch_dir,imrec['category'])\n",
    "#                                 if not os.path.exists(category_dir):\n",
    "#                                     os.makedirs(category_dir)\n",
    "#                                 fname = os.path.join(category_dir,'{}_{}.png'.format(imrec['category'],imgcount))\n",
    "#                                 with open(fname, \"wb\") as fh:\n",
    "#                                     fh.write(imgData.decode('base64'))  \n"
   ]
  },
  {
   "cell_type": "code",
   "execution_count": null,
   "metadata": {
    "collapsed": true
   },
   "outputs": [],
   "source": [
    "# submit_date_readable[-100]"
   ]
  },
  {
   "cell_type": "code",
   "execution_count": 62,
   "metadata": {
    "collapsed": true
   },
   "outputs": [],
   "source": [
    "# if really_run_this:\n",
    "#     X = pd.DataFrame([category,age,num_strokes,filename])\n",
    "#     X = X.transpose()\n",
    "#     X.columns = ['category','age','num_strokes', 'filename']\n",
    "#     X.to_csv(\"scribble_annotate.csv\")"
   ]
  },
  {
   "cell_type": "code",
   "execution_count": null,
   "metadata": {
    "collapsed": true
   },
   "outputs": [],
   "source": [
    "# if really_run_this:\n",
    "#     X_out = pd.DataFrame([session_id,trial_num,category,age,submit_time,submit_date,num_strokes,draw_duration,filename])\n",
    "#     X_out = X_out.transpose()\n",
    "#     X_out.columns = ['session_id','trial_num','category','age','submit_time','submit_date','num_strokes','draw_duration', 'filename']\n",
    "\n",
    "#     X_out.to_csv('May31th_usage.csv')"
   ]
  },
  {
   "cell_type": "code",
   "execution_count": null,
   "metadata": {
    "collapsed": true
   },
   "outputs": [],
   "source": [
    "# def get_bounding_box(img):\n",
    "#     rows = np.any(img, axis=1)\n",
    "#     cols = np.any(img, axis=0)\n",
    "#     rmin, rmax = np.where(rows)[0][[0, -1]]\n",
    "#     cmin, cmax = np.where(cols)[0][[0, -1]]\n",
    "#     return rmin, rmax, cmin, cmax\n",
    "\n",
    "# merged_experiment_name = 'E1cd'\n",
    "\n",
    "# if really_run_this:\n",
    "\n",
    "#     ## add mean pixel intensity (amount of ink spilled) & bounding box coords \n",
    "#     mean_intensity = []\n",
    "#     bounding_box = []\n",
    "#     imsize = 100\n",
    "#     numpix = imsize**2\n",
    "#     thresh = 250\n",
    "#     for i,_d in X.iterrows():\n",
    "#         imgData = _d['png']\n",
    "#         filestr = base64.b64decode(imgData)\n",
    "#         fname = os.path.join('sketch.png')\n",
    "#         with open(fname, \"wb\") as fh:\n",
    "#             fh.write(imgData.decode('base64'))\n",
    "#         im = Image.open(fname).resize((imsize,imsize))\n",
    "#         _im = np.array(im)\n",
    "#         mean_intensity.append(len(np.where(_im[:,:,3].flatten()>thresh)[0])/numpix)\n",
    "#         # bounding box part\n",
    "#         rmin, rmax, cmin, cmax = get_bounding_box(np.array(Image.open(fname)))\n",
    "#         bounding_box.append(tuple((rmin, rmax, cmin, cmax)))\n",
    "\n",
    "#     ## add to dataframe    \n",
    "#     X = X.assign(mean_intensity=pd.Series(mean_intensity).values)\n",
    "#     X = X.assign(bounding_box=pd.Series(bounding_box).values)\n",
    "    \n",
    "#     # save out csv\n",
    "#     if not os.path.exists('../preprocessed_data'):\n",
    "#         os.makedirs('../preprocessed_data')\n",
    "#     X.to_csv('../preprocessed_data/museumdraw_{}_data.csv'.format(merged_experiment_name))\n"
   ]
  },
  {
   "cell_type": "code",
   "execution_count": 33,
   "metadata": {},
   "outputs": [],
   "source": []
  },
  {
   "cell_type": "code",
   "execution_count": 38,
   "metadata": {},
   "outputs": [
    {
     "data": {
      "text/plain": [
       "()"
      ]
     },
     "execution_count": 38,
     "metadata": {},
     "output_type": "execute_result"
    }
   ],
   "source": []
  },
  {
   "cell_type": "markdown",
   "metadata": {},
   "source": [
    "### load drawing metadata csv back in"
   ]
  },
  {
   "cell_type": "code",
   "execution_count": null,
   "metadata": {
    "collapsed": true
   },
   "outputs": [],
   "source": [
    "plt.hist(X.age,normed=False)\n",
    "plt.xticks(rotation=90)\n",
    "len(X.age)\n",
    "sum(X.age != 'adult')"
   ]
  },
  {
   "cell_type": "markdown",
   "metadata": {},
   "source": [
    "### Basic visualizations"
   ]
  },
  {
   "cell_type": "code",
   "execution_count": null,
   "metadata": {
    "collapsed": true
   },
   "outputs": [],
   "source": [
    "np.sum(X.draw_duration.values>25)"
   ]
  },
  {
   "cell_type": "code",
   "execution_count": null,
   "metadata": {
    "collapsed": true
   },
   "outputs": [],
   "source": [
    "fig = plt.figure(figsize=(4,4))\n",
    "h = plt.hist(X.num_strokes.values,normed=True)\n",
    "plt.ylabel('proportion')\n",
    "plt.xlabel('number of strokes')"
   ]
  },
  {
   "cell_type": "code",
   "execution_count": null,
   "metadata": {
    "collapsed": true
   },
   "outputs": [],
   "source": [
    "fig = plt.figure(figsize=(4,4))\n",
    "h = plt.hist(X.draw_duration.values,normed=True)\n",
    "plt.ylabel('proportion')\n",
    "plt.xlabel('draw duration')"
   ]
  },
  {
   "cell_type": "code",
   "execution_count": null,
   "metadata": {
    "collapsed": true
   },
   "outputs": [],
   "source": [
    "plt.figure(figsize=(14,4))\n",
    "\n",
    "plt.subplot(1,3,1)\n",
    "seq = np.arange(4,10)\n",
    "sns.barplot(data=X,x='age',y='num_strokes',order=seq,palette=\"Greens_d\")\n",
    "plt.ylabel('number of strokes')\n",
    "\n",
    "plt.subplot(1,3,2)\n",
    "seq = np.arange(4,10)\n",
    "\n",
    "sns.barplot(data=X,x='age',y='draw_duration',order=seq, palette=\"Greens_d\")\n",
    "plt.ylabel('draw duration (s)')\n",
    "\n",
    "# plt.subplot(1,3,3)\n",
    "# seq = np.arange(4,10)\n",
    "# sns.barplot(data=X,x='age',y='mean_intensity',order=seq,palette=\"Greens_d\")\n",
    "# plt.ylabel('mean pixel intensity')\n",
    "\n",
    "plt.tight_layout()"
   ]
  },
  {
   "cell_type": "code",
   "execution_count": null,
   "metadata": {
    "collapsed": true
   },
   "outputs": [],
   "source": [
    "X.category"
   ]
  },
  {
   "cell_type": "code",
   "execution_count": null,
   "metadata": {
    "collapsed": true
   },
   "outputs": [],
   "source": [
    "unique = X.drop_duplicates([\"session_id\"])\n",
    "unique.count()\n",
    "# sum(unique.age != 'adult')\n",
    "sum(unique.age != 'adult')"
   ]
  },
  {
   "cell_type": "code",
   "execution_count": null,
   "metadata": {
    "collapsed": true
   },
   "outputs": [],
   "source": [
    "X."
   ]
  },
  {
   "cell_type": "code",
   "execution_count": null,
   "metadata": {
    "collapsed": true
   },
   "outputs": [],
   "source": [
    "unique"
   ]
  },
  {
   "cell_type": "code",
   "execution_count": 3,
   "metadata": {},
   "outputs": [
    {
     "ename": "NameError",
     "evalue": "name 'os' is not defined",
     "output_type": "error",
     "traceback": [
      "\u001b[0;31m---------------------------------------------------------------------------\u001b[0m",
      "\u001b[0;31mNameError\u001b[0m                                 Traceback (most recent call last)",
      "\u001b[0;32m<ipython-input-3-af99773bb3c3>\u001b[0m in \u001b[0;36m<module>\u001b[0;34m()\u001b[0m\n\u001b[0;32m----> 1\u001b[0;31m \u001b[0mcategories\u001b[0m \u001b[0;34m=\u001b[0m \u001b[0;34m[\u001b[0m\u001b[0mi\u001b[0m \u001b[0;32mfor\u001b[0m \u001b[0mi\u001b[0m \u001b[0;32min\u001b[0m \u001b[0mos\u001b[0m\u001b[0;34m.\u001b[0m\u001b[0mlistdir\u001b[0m\u001b[0;34m(\u001b[0m\u001b[0;34m'sketches'\u001b[0m\u001b[0;34m)\u001b[0m \u001b[0;32mif\u001b[0m \u001b[0mi\u001b[0m \u001b[0;34m!=\u001b[0m \u001b[0;34m'.DS_Store'\u001b[0m\u001b[0;34m]\u001b[0m\u001b[0;34m\u001b[0m\u001b[0m\n\u001b[0m\u001b[1;32m      2\u001b[0m \u001b[0mnum_ims\u001b[0m \u001b[0;34m=\u001b[0m \u001b[0;36m0\u001b[0m\u001b[0;34m\u001b[0m\u001b[0m\n\u001b[1;32m      3\u001b[0m \u001b[0mims_per_cat\u001b[0m \u001b[0;34m=\u001b[0m \u001b[0;34m[\u001b[0m\u001b[0;34m]\u001b[0m\u001b[0;34m\u001b[0m\u001b[0m\n\u001b[1;32m      4\u001b[0m \u001b[0;32mfor\u001b[0m \u001b[0mc\u001b[0m \u001b[0;32min\u001b[0m \u001b[0mcategories\u001b[0m\u001b[0;34m:\u001b[0m\u001b[0;34m\u001b[0m\u001b[0m\n\u001b[1;32m      5\u001b[0m     \u001b[0mnum_ims\u001b[0m \u001b[0;34m+=\u001b[0m \u001b[0mlen\u001b[0m\u001b[0;34m(\u001b[0m\u001b[0;34m[\u001b[0m\u001b[0mi\u001b[0m \u001b[0;32mfor\u001b[0m \u001b[0mi\u001b[0m \u001b[0;32min\u001b[0m \u001b[0mos\u001b[0m\u001b[0;34m.\u001b[0m\u001b[0mlistdir\u001b[0m\u001b[0;34m(\u001b[0m\u001b[0mos\u001b[0m\u001b[0;34m.\u001b[0m\u001b[0mpath\u001b[0m\u001b[0;34m.\u001b[0m\u001b[0mjoin\u001b[0m\u001b[0;34m(\u001b[0m\u001b[0;34m'sketches'\u001b[0m\u001b[0;34m,\u001b[0m\u001b[0mc\u001b[0m\u001b[0;34m)\u001b[0m\u001b[0;34m)\u001b[0m \u001b[0;32mif\u001b[0m \u001b[0mi\u001b[0m \u001b[0;34m!=\u001b[0m \u001b[0;34m'.DS_Store'\u001b[0m\u001b[0;34m]\u001b[0m\u001b[0;34m)\u001b[0m\u001b[0;34m\u001b[0m\u001b[0m\n",
      "\u001b[0;31mNameError\u001b[0m: name 'os' is not defined"
     ]
    }
   ],
   "source": []
  },
  {
   "cell_type": "code",
   "execution_count": null,
   "metadata": {
    "collapsed": true
   },
   "outputs": [],
   "source": []
  },
  {
   "cell_type": "code",
   "execution_count": null,
   "metadata": {
    "collapsed": true
   },
   "outputs": [],
   "source": []
  },
  {
   "cell_type": "code",
   "execution_count": null,
   "metadata": {
    "collapsed": true
   },
   "outputs": [],
   "source": []
  },
  {
   "cell_type": "code",
   "execution_count": null,
   "metadata": {
    "collapsed": true
   },
   "outputs": [],
   "source": []
  },
  {
   "cell_type": "code",
   "execution_count": null,
   "metadata": {
    "collapsed": true
   },
   "outputs": [],
   "source": []
  },
  {
   "cell_type": "code",
   "execution_count": null,
   "metadata": {
    "collapsed": true
   },
   "outputs": [],
   "source": []
  }
 ],
 "metadata": {
  "kernelspec": {
   "display_name": "Python 2",
   "language": "python",
   "name": "python2"
  },
  "language_info": {
   "codemirror_mode": {
    "name": "ipython",
    "version": 2
   },
   "file_extension": ".py",
   "mimetype": "text/x-python",
   "name": "python",
   "nbconvert_exporter": "python",
   "pygments_lexer": "ipython2",
   "version": "2.7.14"
  }
 },
 "nbformat": 4,
 "nbformat_minor": 1
}
