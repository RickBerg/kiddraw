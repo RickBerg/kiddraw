{
 "cells": [
  {
   "cell_type": "code",
   "execution_count": 1,
   "metadata": {
    "collapsed": true
   },
   "outputs": [],
   "source": [
    "## libraries\n",
    "from __future__ import division\n",
    "\n",
    "##\n",
    "import os\n",
    "import urllib, cStringIO\n",
    "import numpy as np\n",
    "import pandas as pd\n",
    "\n",
    "## scikit learn\n",
    "import sklearn\n",
    "from sklearn import linear_model, datasets, neighbors\n",
    "from imblearn.under_sampling import RandomUnderSampler"
   ]
  },
  {
   "cell_type": "code",
   "execution_count": 150,
   "metadata": {
    "collapsed": true
   },
   "outputs": [],
   "source": [
    "def load_features(cohort, layer_num):\n",
    "    layers = ['P1','P2','P3','P4','P5','FC6','FC7']    \n",
    "    F = np.load('srcd-features/museumstation_features/FEATURES_{}_{}_Spatial_True.npy'.format(layers[layer_num],cohort))\n",
    "    M = pd.read_csv('srcd-features/museumstation_features/METADATA_{}.csv'.format(cohort)) \n",
    "    M = M[['label','age','session']]\n",
    "    return F, M\n",
    "\n",
    "def balance_dataset(KF, KM):\n",
    "    rus = RandomUnderSampler(random_state=0) ## always have same random under sampling\n",
    "    KF_downsampled, class_labels_downsampled = rus.fit_resample(KF, KM['label'].values)\n",
    "    new_samples_ind = rus.sample_indices_\n",
    "    KM_downsampled = KM.loc[new_samples_ind]\n",
    "    X = KF_downsampled\n",
    "    Y = class_labels_downsampled\n",
    "    return(X,Y, KM_downsampled)"
   ]
  },
  {
   "cell_type": "code",
   "execution_count": 8,
   "metadata": {
    "collapsed": true
   },
   "outputs": [],
   "source": []
  },
  {
   "cell_type": "code",
   "execution_count": 151,
   "metadata": {},
   "outputs": [
    {
     "name": "stdout",
     "output_type": "stream",
     "text": [
      "(1, 4096)\n",
      "(1,)\n"
     ]
    }
   ],
   "source": [
    "test_index = np.asarray([0])\n",
    "layer_ind = 6\n",
    "\n",
    "### Load features, balance dataset\n",
    "KF, KM = load_features('kid',layer_ind)\n",
    "X, y, KM_downsampled = balance_dataset(KF,KM)\n",
    "\n",
    "## delete test index from test index array from \n",
    "train_indexes = np.asarray(range(0,np.shape(X)[0]))\n",
    "train_indexes = np.delete(train_indexes,test_index)\n",
    "\n",
    "## get train/test indexes    \n",
    "X_train, X_test = X[train_indexes], X[test_index]\n",
    "y_train, y_test = y[train_indexes], y[test_index]\n",
    "print np.shape(X_test)\n",
    "print np.shape(y_test)\n",
    "X_test = np.reshape(X_test, [1, -1])\n",
    "# np.shape(X_test)\n",
    "# print np.shape(X_test)\n",
    "# print np.shape(y_test)"
   ]
  },
  {
   "cell_type": "code",
   "execution_count": null,
   "metadata": {},
   "outputs": [],
   "source": []
  },
  {
   "cell_type": "code",
   "execution_count": 23,
   "metadata": {
    "collapsed": true
   },
   "outputs": [],
   "source": [
    "# make empty arrays for scores and probabilities\n",
    "image_scores = np.empty(np.shape(y)[0])\n",
    "image_scores[:]= np.nan\n",
    "\n",
    "class_labels_downsampled = y\n",
    "num_categories=np.shape(np.unique(class_labels_downsampled))[0]\n",
    "image_probs = np.empty([np.shape(y)[0], num_categories])\n",
    "image_probs[:]= np.nan\n",
    "\n",
    "indexes = []\n",
    "ages = []\n",
    "target_classes = []\n",
    "session_ids = []\n",
    "image_probs_2=[]\n",
    "image_scores_2 =[]\n",
    "target_label_prob=[]\n",
    "\n",
    "\n",
    "\n",
    "# higher tolerance and different solver for larger datasets; or else it takes foreverrrr.\n",
    "clf = linear_model.LogisticRegression(penalty='l2',C=1,tol=.1,solver='sag').fit(X_train, y_train)\n"
   ]
  },
  {
   "cell_type": "code",
   "execution_count": 84,
   "metadata": {},
   "outputs": [
    {
     "data": {
      "text/plain": [
       "(1, 4096)"
      ]
     },
     "execution_count": 84,
     "metadata": {},
     "output_type": "execute_result"
    }
   ],
   "source": [
    "# from sklearn.model_selection import train_test_split\n",
    "# X_train, X_test, y_train, y_test = train_test_split(KF, KM['label'].values, test_size=0.0001, random_state=0)\n",
    "# np.shape(X_test)\n",
    "# np.shape(test)"
   ]
  },
  {
   "cell_type": "code",
   "execution_count": 145,
   "metadata": {},
   "outputs": [],
   "source": [
    "# from sklearn.model_selection import LeaveOneOut\n",
    "# loo = LeaveOneOut()\n",
    "# for train, test in loo.split(y):\n",
    "#     print np.shape(test)\n",
    "#     print type(test)\n",
    "#     print np.shape(test_index)\n",
    "#     print type(test_index)\n",
    "# #     print np.shape(y[test])\n",
    "# #     print np.shape(y[test_index])\n",
    "    "
   ]
  },
  {
   "cell_type": "code",
   "execution_count": 141,
   "metadata": {},
   "outputs": [
    {
     "data": {
      "text/plain": [
       "array(0)"
      ]
     },
     "execution_count": 141,
     "metadata": {},
     "output_type": "execute_result"
    }
   ],
   "source": [
    "test_index"
   ]
  },
  {
   "cell_type": "code",
   "execution_count": 142,
   "metadata": {},
   "outputs": [
    {
     "data": {
      "text/plain": [
       "array([6111])"
      ]
     },
     "execution_count": 142,
     "metadata": {},
     "output_type": "execute_result"
    }
   ],
   "source": [
    "test"
   ]
  },
  {
   "cell_type": "code",
   "execution_count": 146,
   "metadata": {},
   "outputs": [],
   "source": [
    "y_test = np.asarray(y[test_index])\n",
    "this_image_score = clf.score(X_test, y_test)\n",
    "# image_scores_2.append(this_image_score)"
   ]
  },
  {
   "cell_type": "code",
   "execution_count": null,
   "metadata": {
    "collapsed": true
   },
   "outputs": [],
   "source": []
  },
  {
   "cell_type": "code",
   "execution_count": 163,
   "metadata": {},
   "outputs": [],
   "source": [
    "test_index_numeric = test_index[0]\n",
    "\n",
    "# probabilities\n",
    "probs = clf.predict_proba(X_test)\n",
    "image_probs[test_index,:] = probs\n",
    "\n",
    "## get metadata - index\n",
    "indexes.append(test_index)\n",
    "\n",
    "## target label\n",
    "target_label = KM_downsampled['label'][test_index[0]]\n",
    "target_classes.append(target_label)\n",
    "\n",
    "# target probability\n",
    "target_label_ind = np.where(clf.classes_==target_label)\n",
    "prob_array = probs[0,target_label_ind]\n",
    "target_label_prob.append(prob_array[0,0])\n",
    "\n",
    "# age/sessionid\n",
    "ages.append(KM_downsampled['age'][test_index_numeric])\n",
    "session_ids.append(KM_downsampled['session'][test_index_numeric])\n",
    "\n",
    "# print output just so we know what's happening.\n",
    "# print('loop index = {}, image score = {}'.format(test_index_numeric,this_image_score))\n",
    "\n",
    "# print it all out in a dataframe so we group metadata with outputs for easy reading into r \n",
    "_data = pd.DataFrame([indexes, ages, target_classes, session_ids, image_scores_2,target_label_prob])\n",
    "_data = _data.transpose()\n",
    "_data = _data.astype(object)\n",
    "_data.columns = ['indexes','ages','target_classes','session_ids','image_scores','target_label_prob']\n",
    "## append probability for allc classes to dataframe\n",
    "image_probs_2_df = pd.DataFrame(image_probs)\n",
    "image_probs_2_df.columns = clf.classes_ + \" prob\"\n",
    "out = pd.concat([_data,image_probs_2_df], axis=1)\n",
    "\n",
    "out.to_csv('classification-outputs/museumstation_subset_classification_{}.csv'.format(test_ind))"
   ]
  },
  {
   "cell_type": "code",
   "execution_count": 161,
   "metadata": {},
   "outputs": [
    {
     "data": {
      "text/plain": [
       "array([[ 0.11770293]])"
      ]
     },
     "execution_count": 161,
     "metadata": {},
     "output_type": "execute_result"
    }
   ],
   "source": [
    "target_label_ind = np.where(clf.classes_==target_label)\n",
    "probs[0,target_label_ind]"
   ]
  },
  {
   "cell_type": "code",
   "execution_count": null,
   "metadata": {
    "collapsed": true
   },
   "outputs": [],
   "source": []
  }
 ],
 "metadata": {
  "kernelspec": {
   "display_name": "Python 2",
   "language": "python",
   "name": "python2"
  },
  "language_info": {
   "codemirror_mode": {
    "name": "ipython",
    "version": 2
   },
   "file_extension": ".py",
   "mimetype": "text/x-python",
   "name": "python",
   "nbconvert_exporter": "python",
   "pygments_lexer": "ipython2",
   "version": "2.7.14"
  }
 },
 "nbformat": 4,
 "nbformat_minor": 2
}
