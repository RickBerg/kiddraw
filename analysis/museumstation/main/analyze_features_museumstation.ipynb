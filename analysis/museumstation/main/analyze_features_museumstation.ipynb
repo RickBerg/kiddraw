{
 "cells": [
  {
   "cell_type": "markdown",
   "metadata": {},
   "source": [
    "### Load required libraries"
   ]
  },
  {
   "cell_type": "code",
   "execution_count": 39,
   "metadata": {
    "collapsed": true
   },
   "outputs": [],
   "source": [
    "import os\n",
    "import urllib, cStringIO\n",
    "\n",
    "import pymongo as pm\n",
    "\n",
    "import matplotlib\n",
    "from matplotlib import pylab, mlab, pyplot\n",
    "%matplotlib inline\n",
    "from IPython.core.pylabtools import figsize, getfigs\n",
    "plt = pyplot\n",
    "import seaborn as sns\n",
    "sns.set_context('poster')\n",
    "sns.set_style('white')\n",
    "\n",
    "import numpy as np\n",
    "from __future__ import division\n",
    "import scipy.stats as stats\n",
    "\n",
    "import pandas as pd\n",
    "import json\n",
    "import re\n",
    "\n",
    "from PIL import Image\n",
    "import base64\n",
    "\n",
    "import seaborn as sns\n",
    "from glob import glob\n"
   ]
  },
  {
   "cell_type": "markdown",
   "metadata": {},
   "source": [
    "### Retrieve preprocessed drawing session metadata"
   ]
  },
  {
   "cell_type": "code",
   "execution_count": null,
   "metadata": {
    "collapsed": true
   },
   "outputs": [],
   "source": []
  },
  {
   "cell_type": "code",
   "execution_count": 28,
   "metadata": {},
   "outputs": [
    {
     "name": "stdout",
     "output_type": "stream",
     "text": [
      "found invalids file...\n"
     ]
    },
    {
     "data": {
      "text/plain": [
       "'/home/bria/kiddraw/data/museumstation_sketches/a house/a house_sketch_age10_cdm_run_v31532638309368.png'"
      ]
     },
     "execution_count": 28,
     "metadata": {},
     "output_type": "execute_result"
    }
   ],
   "source": [
    "# path='/home/bria/kiddraw/data/museumstation_sketches'\n",
    "# def list_files(path, ext='png'):\n",
    "#     result = [y for x in os.walk(path) for y in glob(os.path.join(x[0], '*.%s' % ext))]\n",
    "#     return result\n",
    "\n",
    "# filenames = list_files(path,'png')\n",
    "\n",
    "\n",
    "# def check_invalid_sketch(filenames,invalids_path='images_to_exclude.txt'):    \n",
    "#     if not os.path.exists(invalids_path):\n",
    "#         print('No file containing invalid paths at {}'.format(invalids_path))\n",
    "#         invalids = []        \n",
    "#     else:\n",
    "#         print('found invalids file...')\n",
    "#         x = pd.read_csv(invalids_path, header=None)\n",
    "#         x.columns = ['filenames']\n",
    "#         invalids = list(x.filenames.values)\n",
    "#     valids = []   \n",
    "#     # basenames = [f.split('/')[-1] for f in filenames]\n",
    "#     for i,f in enumerate(filenames):\n",
    "#         if f not in invalids:\n",
    "#             valids.append(filenames[i])\n",
    "#     return valids\n",
    "\n",
    "# valids = check_invalid_sketch(filenames)\n",
    "# invalids_path='images_to_exclude.txt'\n",
    "# x = pd.read_csv(invalids_path, header=None)\n",
    "# x.columns = ['filenames']\n",
    "# invalids = list(x.filenames.values)\n",
    "# invalids[0]\n"
   ]
  },
  {
   "cell_type": "code",
   "execution_count": 38,
   "metadata": {},
   "outputs": [
    {
     "data": {
      "text/plain": [
       "'a house_sketch_age10_cdm_run_v31532638309368.png'"
      ]
     },
     "execution_count": 38,
     "metadata": {},
     "output_type": "execute_result"
    }
   ],
   "source": [
    "# invalid_test='a house_sketch_age10_cdm_run_v31532638309368.png'\n",
    "# filenames[0]\n",
    "# for i,f in enumerate(filenames):\n",
    "#     if f not in invalid_test:\n",
    "#         valids.append(filenames[i])\n",
    "\n",
    "# basenames = [f.split('/')[-1] for f in filenames]\n",
    "# basenames[0]"
   ]
  },
  {
   "cell_type": "code",
   "execution_count": 2,
   "metadata": {},
   "outputs": [
    {
     "name": "stdout",
     "output_type": "stream",
     "text": [
      "Number of sketches in metadata = 467\n"
     ]
    }
   ],
   "source": [
    "# ## define some paths\n",
    "# top_level_dir = '/home/bria/kiddraw'\n",
    "# path_to_preprocessed_data = 'analysis/museumdraw/preprocessed_data/museumdraw_E1cd_data.csv'\n",
    "\n",
    "# ## load in preprocessed csv\n",
    "# x = pd.read_csv(os.path.join(top_level_dir,path_to_preprocessed_data))\n",
    "# x = x.drop(['Unnamed: 0'], axis=1)\n",
    "# print 'Number of sketches in metadata = {}'.format(np.shape(x)[0])\n",
    "# metadata_sketch_count = np.shape(x)[0]"
   ]
  },
  {
   "cell_type": "markdown",
   "metadata": {},
   "source": [
    "### Load VGG feature analysis libraries and scripts"
   ]
  },
  {
   "cell_type": "code",
   "execution_count": 40,
   "metadata": {
    "collapsed": true
   },
   "outputs": [],
   "source": [
    "import torch\n",
    "import torchvision.models as models\n",
    "import torch.nn as nn\n",
    "import torchvision.transforms as transforms\n",
    "import torch.nn.functional as F\n",
    "from torch.autograd import Variable\n",
    "\n",
    "import scipy.stats as stats\n",
    "from scipy.stats import norm\n",
    "import sklearn\n",
    "from sklearn.model_selection import train_test_split, cross_val_score\n",
    "from sklearn import svm\n",
    "from sklearn import linear_model, datasets, neighbors\n",
    "\n",
    "from sklearn.cluster import AffinityPropagation\n",
    "from sklearn import metrics\n",
    "\n",
    "from glob import glob\n",
    "import os\n",
    "\n",
    "import embedding as emb\n",
    "reload(emb)\n",
    "from embedding import *"
   ]
  },
  {
   "cell_type": "code",
   "execution_count": 41,
   "metadata": {},
   "outputs": [
    {
     "name": "stdout",
     "output_type": "stream",
     "text": [
      "Number of sketch paths = 8037\n"
     ]
    }
   ],
   "source": [
    "# Retrieve sketch paths -- pngs rendered out in another step\n",
    "def list_files(path, ext='png'):\n",
    "    result = [y for x in os.walk(path) for y in glob(os.path.join(x[0], '*.%s' % ext))]\n",
    "    return result\n",
    "\n",
    "# extract metadata\n",
    "path_to_sketches = '/home/bria/kiddraw/data/museumstation_sketches'\n",
    "sketch_paths = sorted(list_files(path_to_sketches))\n",
    "\n",
    "## number of sketch paths \n",
    "print 'Number of sketch paths = {}'.format(len(sketch_paths))\n",
    "\n",
    "png_sketch_count = len(sketch_paths)\n"
   ]
  },
  {
   "cell_type": "markdown",
   "metadata": {},
   "source": [
    "## extract features"
   ]
  },
  {
   "cell_type": "code",
   "execution_count": null,
   "metadata": {
    "collapsed": true
   },
   "outputs": [],
   "source": []
  },
  {
   "cell_type": "code",
   "execution_count": null,
   "metadata": {
    "collapsed": true
   },
   "outputs": [],
   "source": []
  },
  {
   "cell_type": "markdown",
   "metadata": {},
   "source": [
    "**Dec 28 2017 (updated Jan 14 2018):** <br>\n",
    " - From command line, extract features using `extract_features.py`. The default arguments are for the kid's drawings. <br>\n",
    " - To extract kid's drawings, just run: `python extract_features.py` <br>\n",
    " - To extract (mini verison of) adult drawings, run: `python extract_features.py --data='/data2/jefan/quickDraw/png_mini' --layer_ind=6 --cohort='adult' --spatial_avg=True`"
   ]
  },
  {
   "cell_type": "code",
   "execution_count": 97,
   "metadata": {
    "collapsed": true
   },
   "outputs": [],
   "source": [
    "# z-score normalization to \"center\" the sketch embeddings\n",
    "def normalize(X):\n",
    "    X = X - X.mean(0)\n",
    "    X = X / np.maximum(X.std(0), 1e-5)\n",
    "    return X\n",
    "\n",
    "def get_class_means(X, labels):    \n",
    "    # load in and normalize features \n",
    "    _mu = np.zeros((len(np.unique(labels)), np.shape(X)[1]))        \n",
    "    X = normalize(X)\n",
    "    for vi, v in enumerate(np.unique(np.asarray(labels))):\n",
    "        Xv = X[labels == v]\n",
    "        nv = float(Xv.shape[0])\n",
    "        if nv > 0:\n",
    "            _mu[vi] = Xv.mean(0)\n",
    "    return _mu\n",
    "\n",
    "def get_class_means_not_normalized(X, labels):    \n",
    "    # load in and normalize features \n",
    "    _mu = np.zeros((len(np.unique(labels)), np.shape(X)[1]))        \n",
    "    for vi, v in enumerate(np.unique(np.asarray(labels))):\n",
    "        Xv = X[labels == v]\n",
    "        nv = float(Xv.shape[0])\n",
    "        if nv > 0:\n",
    "            _mu[vi] = Xv.mean(0)\n",
    "    return _mu\n",
    "\n",
    "def normalize_RDM(MAT):\n",
    "    X = MAT - MAT.mean(0).mean(0)\n",
    "    X = X / np.maximum(MAT.std(0).std(0), 1e-5)\n",
    "    return X\n",
    "\n",
    "def plot_rdm_by_class(Features,X,layer_num):\n",
    "    layers = ['P1','P2','P3','P4','P5','FC6','FC7']        \n",
    "    sns.set_style('white')\n",
    "    fig = plt.figure(figsize=(6,6))\n",
    "    labels = X.label.values\n",
    "    means = get_class_means(Features, labels)\n",
    "    CORRMAT = np.corrcoef(means)\n",
    "    plt.matshow(CORRMAT)\n",
    "    plt.colorbar()\n",
    "    if not os.path.exists('./plots'):\n",
    "        os.makedirs('./plots')\n",
    "    plt.savefig('./plots/RDM_by_view_{}.pdf'.format(layers[layer_num]))\n",
    "    \n",
    "def load_features(cohort, layer_num):\n",
    "    layers = ['P1','P2','P3','P4','P5','FC6','FC7']    \n",
    "    F = np.load('/home/bria/kiddraw/data/museumstation_features/FEATURES_{}_{}_Spatial_True.npy'.format(layers[layer_num],cohort))\n",
    "    M = pd.read_csv('/home/bria/kiddraw/data/museumstation_features/METADATA_{}.csv'.format(cohort)) \n",
    "    M = M[['label','age','session']]\n",
    "    return F, M\n",
    "\n",
    "def remove_practice_trials(KF,KM):\n",
    "    '''\n",
    "    remove \"circle\" and \"triangle\" trials from dataset\n",
    "    '''\n",
    "    practice_objects = ['circle','triangle']\n",
    "    _KF = KF[~KM['label'].isin(practice_objects),:]\n",
    "    _KM = KM[~KM['label'].isin(practice_objects)]\n",
    "    return _KF, _KM"
   ]
  },
  {
   "cell_type": "code",
   "execution_count": 98,
   "metadata": {},
   "outputs": [
    {
     "name": "stdout",
     "output_type": "stream",
     "text": [
      "Number of unique kids who contributed drawings = 1447\n",
      "Number of features for 7326 images in layer 6 = 4096\n"
     ]
    }
   ],
   "source": [
    "## CHOOSE LAYER IND FOR PLOTTING RDMS ETC\n",
    "layer_ind = 6\n",
    "\n",
    "## load in kid features\n",
    "KF, KM = load_features('kid',layer_ind)\n",
    "KF, KM = remove_practice_trials(KF, KM)\n",
    "KM = KM.reset_index(drop=True)\n",
    "\n",
    "print 'Number of unique kids who contributed drawings = {}'.format(np.size(np.unique(KM['session'].values)))\n",
    "print 'Number of features for {} images in layer {} = {}'.format(np.shape(KF)[0], layer_ind, np.shape(KF)[1])\n",
    "feature_sketch_count = np.shape(KF)[0]"
   ]
  },
  {
   "cell_type": "code",
   "execution_count": 99,
   "metadata": {
    "collapsed": true
   },
   "outputs": [],
   "source": [
    "# ## Check that we have the right number of skethces\n",
    "# numInvalidSketches = 5 ## see invalid_sketches .txt file\n",
    "# assert(feature_sketch_count == png_sketch_count - numInvalidSketches) # features get rid of some invalid sketches\n",
    "# assert(metadata_sketch_count == png_sketch_count) # these should be the same"
   ]
  },
  {
   "cell_type": "markdown",
   "metadata": {},
   "source": [
    "### Separate drawings according to the coarse age of the child"
   ]
  },
  {
   "cell_type": "code",
   "execution_count": 48,
   "metadata": {
    "collapsed": true
   },
   "outputs": [],
   "source": [
    "## add additional column that coarse grains age\n",
    "def coarse_grain_age(row):\n",
    "    if row['age'] > 6:\n",
    "        val = 'older'\n",
    "    elif row['age'] <= 6:\n",
    "        val = 'younger'\n",
    "    return val\n",
    "\n",
    "KM['coarse_age'] = KM.apply(coarse_grain_age, axis=1)\n",
    "\n"
   ]
  },
  {
   "cell_type": "code",
   "execution_count": 85,
   "metadata": {},
   "outputs": [],
   "source": [
    "def finer_grain_age(row):\n",
    "    if row['age'] > 7: ### 8 9 10\n",
    "        val = 'oldest'\n",
    "    elif row['age'] > 5: # 6 7\n",
    "        val = 'older'\n",
    "    elif row['age'] > 3: # 4 5\n",
    "        val = 'younger'\n",
    "    elif row['age'] <= 3: # 2 3\n",
    "        val = 'youngest' \n",
    "    return val\n",
    "    \n",
    "KM['finer_age'] = KM.apply(finer_grain_age, axis=1)"
   ]
  },
  {
   "cell_type": "code",
   "execution_count": 49,
   "metadata": {},
   "outputs": [
    {
     "name": "stdout",
     "output_type": "stream",
     "text": [
      "We have 16 labels that are common to both younger and older kid cohorts.\n"
     ]
    }
   ],
   "source": [
    "## subset labels that have at least some drawings of them from each age category\n",
    "younger_labels = KM[KM['coarse_age'] == 'younger']['label'].values\n",
    "older_labels = KM[KM['coarse_age'] == 'older']['label'].values\n",
    "\n",
    "## list of labels that are in both younger and older age categories\n",
    "common_labels = list(np.intersect1d(younger_labels,older_labels))\n",
    "\n",
    "print 'We have {} labels that are common to both younger and older kid cohorts.'.format(len(common_labels))"
   ]
  },
  {
   "cell_type": "code",
   "execution_count": null,
   "metadata": {
    "collapsed": true
   },
   "outputs": [],
   "source": []
  },
  {
   "cell_type": "code",
   "execution_count": 50,
   "metadata": {},
   "outputs": [
    {
     "name": "stdout",
     "output_type": "stream",
     "text": [
      "We have 16 classes with sufficient data.\n"
     ]
    }
   ],
   "source": [
    "def subset_labels(F,M, labels):\n",
    "    '''\n",
    "    if labels == common_labels, then only include labels that are common to younger and older cohort\n",
    "    if labels == sufficient_data_labels, then subset by list of labels in which we have 'sufficient data', i.e., have >=thresh drawings/class\n",
    "    '''\n",
    "    _F = F[M['label'].isin(labels),:]\n",
    "    _M = M[M['label'].isin(labels)]\n",
    "    return _F, _M\n",
    "\n",
    "## get list of labels in which we have 'sufficient data', i.e., have >=3 drawings/class\n",
    "thresh = 3\n",
    "sufficient_data_labels = [] \n",
    "for cl in common_labels:\n",
    "    num_young_sketches = len(np.where(KM[KM.label==cl]['coarse_age'].values=='younger')[0])\n",
    "    num_older_sketches = len(np.where(KM[KM.label==cl]['coarse_age'].values=='older')[0])\n",
    "    if (num_young_sketches>=thresh) & (num_older_sketches>=thresh):\n",
    "        sufficient_data_labels.append(cl)        \n",
    "       \n",
    "print 'We have {} classes with sufficient data.'.format(len(sufficient_data_labels))\n"
   ]
  },
  {
   "cell_type": "code",
   "execution_count": 51,
   "metadata": {},
   "outputs": [
    {
     "name": "stdout",
     "output_type": "stream",
     "text": [
      "We have 2234 drawings in the older cohort\n",
      "We have 5092 drawings in the younger cohort\n"
     ]
    }
   ],
   "source": [
    "## subset to only use the labels with either COMMON LABELS or SUFFICIENT DATA (see cell above)\n",
    "KF, KM = subset_labels(KF, KM, sufficient_data_labels)\n",
    "KM = KM.reset_index(drop=True)\n",
    "\n",
    "## output final number of drawings\n",
    "older=KM[KM['coarse_age'] == 'older']\n",
    "younger=KM[KM['coarse_age'] == 'younger']\n",
    "\n",
    "print 'We have {} drawings in the older cohort'.format(np.shape(older)[0])\n",
    "print 'We have {} drawings in the younger cohort'.format(np.shape(younger)[0])\n"
   ]
  },
  {
   "cell_type": "code",
   "execution_count": null,
   "metadata": {
    "collapsed": true
   },
   "outputs": [],
   "source": []
  },
  {
   "cell_type": "code",
   "execution_count": 86,
   "metadata": {
    "collapsed": true
   },
   "outputs": [],
   "source": [
    "# ## Load sets for older vs. younger children\n",
    "# ind = KM.index[KM['coarse_age'] == 'older']\n",
    "# KM_older = KM.loc[ind]\n",
    "# KF_older = KF[ind.tolist()]\n",
    "\n",
    "# ind2 = KM.index[KM['coarse_age'] == 'younger']\n",
    "# KM_younger = KM.loc[ind2]\n",
    "# KF_younger = KF[ind2.tolist()]\n",
    "\n",
    "\n",
    "\n",
    "ind = KM.index[KM['finer_age'] == 'oldest']\n",
    "KM_oldest = KM.loc[ind]\n",
    "KF_oldest = KF[ind.tolist()]\n",
    "\n",
    "ind2 = KM.index[KM['finer_age'] == 'older']\n",
    "KM_older = KM.loc[ind2]\n",
    "KF_older = KF[ind2.tolist()]\n",
    "\n",
    "ind3 = KM.index[KM['finer_age'] == 'younger']\n",
    "KM_younger = KM.loc[ind3]\n",
    "KF_younger = KF[ind3.tolist()]\n",
    "\n",
    "ind4 = KM.index[KM['finer_age'] == 'youngest']\n",
    "KM_youngest = KM.loc[ind4]\n",
    "KF_youngest = KF[ind4.tolist()]"
   ]
  },
  {
   "cell_type": "markdown",
   "metadata": {},
   "source": [
    "#### Get distribution of drawings across label and coarse age category "
   ]
  },
  {
   "cell_type": "code",
   "execution_count": 54,
   "metadata": {},
   "outputs": [
    {
     "data": {
      "image/png": "[encoded data removed]",
      "text/plain": [
       "<matplotlib.figure.Figure at 0x7f14ac1b5d50>"
      ]
     },
     "metadata": {},
     "output_type": "display_data"
    }
   ],
   "source": [
    "sns.set_context('poster')\n",
    "plt.figure(figsize=(20,6))\n",
    "sns.countplot(data=KM,\n",
    "           x='label',\n",
    "           hue='coarse_age')\n",
    "labels = np.unique(KM.label.values)\n",
    "h = plt.xticks(range(len(labels)), labels, fontsize=16,rotation='vertical')\n",
    "plt.axhline(3,linestyle='dashed',color='black')\n",
    "plt.axhline(5,linestyle='dashed',color='gray')\n",
    "plt.ylim(0,500)\n",
    "if not os.path.exists('./plots'):\n",
    "    os.makedirs('./plots')\n",
    "plt.savefig('./plots/drawing_counts_by_label_and_coarse_age.pdf', bbox_inches=\"tight\")"
   ]
  },
  {
   "cell_type": "code",
   "execution_count": 56,
   "metadata": {},
   "outputs": [
    {
     "data": {
      "image/png": "[encoded data removed]",
      "text/plain": [
       "<matplotlib.figure.Figure at 0x7f14ab8bcdd0>"
      ]
     },
     "metadata": {},
     "output_type": "display_data"
    }
   ],
   "source": [
    "sns.set_context('poster')\n",
    "plt.figure(figsize=(20,6))\n",
    "ax = sns.barplot(x=\"label\", y=\"age\", hue='coarse_age',data=KM)\n",
    "\n",
    "labels = np.unique(KM.label.values)\n",
    "h = plt.xticks(range(len(labels)), labels, fontsize=16,rotation='vertical')\n",
    "plt.ylim(0,100)\n",
    "if not os.path.exists('./plots'):\n",
    "    os.makedirs('./plots')\n",
    "plt.savefig('./plots/distribution_of_age_by_label.pdf', bbox_inches=\"tight\")"
   ]
  },
  {
   "cell_type": "code",
   "execution_count": 57,
   "metadata": {},
   "outputs": [
    {
     "data": {
      "text/html": [
       "<div>\n",
       "<style scoped>\n",
       "    .dataframe tbody tr th:only-of-type {\n",
       "        vertical-align: middle;\n",
       "    }\n",
       "\n",
       "    .dataframe tbody tr th {\n",
       "        vertical-align: top;\n",
       "    }\n",
       "\n",
       "    .dataframe thead th {\n",
       "        text-align: right;\n",
       "    }\n",
       "</style>\n",
       "<table border=\"1\" class=\"dataframe\">\n",
       "  <thead>\n",
       "    <tr style=\"text-align: right;\">\n",
       "      <th></th>\n",
       "      <th>label</th>\n",
       "      <th>younger</th>\n",
       "      <th>older</th>\n",
       "    </tr>\n",
       "  </thead>\n",
       "  <tbody>\n",
       "  </tbody>\n",
       "</table>\n",
       "</div>"
      ],
      "text/plain": [
       "Empty DataFrame\n",
       "Columns: [label, younger, older]\n",
       "Index: []"
      ]
     },
     "execution_count": 57,
     "metadata": {},
     "output_type": "execute_result"
    }
   ],
   "source": [
    "## print list of classes for which we have \"fewer than X\" drawings in each age cohort and were thus excluded\n",
    "thresh = 3\n",
    "labels = np.unique(KM.label.values)\n",
    "age_bins = ['younger','older']\n",
    "labels_in_need = []\n",
    "y_counter = []\n",
    "o_counter = []\n",
    "for lab in labels:\n",
    "    y_count = sum(KM[KM['label']==lab]['coarse_age'] == 'younger')\n",
    "    o_count = sum(KM[KM['label']==lab]['coarse_age'] == 'older')\n",
    "    if (y_count<=thresh) | (o_count<=thresh):\n",
    "        labels_in_need.append(lab)\n",
    "        y_counter.append(y_count)\n",
    "        o_counter.append(o_count)\n",
    "o = pd.DataFrame([labels_in_need,y_counter,o_counter])\n",
    "o = o.transpose()\n",
    "o.columns = ['label','younger','older']\n",
    "o = o.sort_values(by=['younger','older'],ascending=False)\n",
    "o"
   ]
  },
  {
   "cell_type": "markdown",
   "metadata": {
    "collapsed": true
   },
   "source": [
    "### Extract adult drawing features"
   ]
  },
  {
   "cell_type": "code",
   "execution_count": 67,
   "metadata": {
    "collapsed": true
   },
   "outputs": [],
   "source": [
    "# def load_adult_features(layer_ind,sufficient_data_labels):\n",
    "#     ## load in adult features\n",
    "#     AF, AM = load_features('adult',layer_ind)\n",
    "#     AF, AM = remove_practice_trials(AF, AM)\n",
    "#     AM = AM.reset_index(drop=True)\n",
    "    \n",
    "#     ## set up lookup table to cover discrepancies in category label assignments\n",
    "#     lookup = dict(zip(sufficient_data_labels,sufficient_data_labels))\n",
    "#     if 'bike' in lookup.keys():\n",
    "#         lookup['bike'] = 'bicycle'\n",
    "\n",
    "#     ## subset adult feature matrix and metadata matrix by appropriate labelset\n",
    "#     AF, AM = subset_labels(AF, AM, [lookup[i] for i in sufficient_data_labels])\n",
    "#     AM = AM.reset_index(drop=True)  \n",
    "    \n",
    "#     return AF, AM\n",
    "\n",
    "# ## apply clustering to organize RDM so that we can see some block diagonal structure\n",
    "# def flatten(x):\n",
    "#     return [item for sublist in x for item in sublist]"
   ]
  },
  {
   "cell_type": "code",
   "execution_count": 68,
   "metadata": {
    "collapsed": true
   },
   "outputs": [],
   "source": [
    "# AF, AM = load_adult_features(layer_ind,sufficient_data_labels)"
   ]
  },
  {
   "cell_type": "markdown",
   "metadata": {},
   "source": [
    "### Get sorting indexes for ploting RMDS"
   ]
  },
  {
   "cell_type": "code",
   "execution_count": 68,
   "metadata": {},
   "outputs": [
    {
     "name": "stdout",
     "output_type": "stream",
     "text": [
      "Clusters\n",
      "['a bike' 'a bird' 'a car' 'a dog' 'a fish' 'a person' 'a rabbit' 'a tree'\n",
      " 'an airplane']\n",
      "['a chair']\n",
      "['a boat' 'a bowl' 'a couch' 'a cup' 'a phone']\n",
      "['a house']\n"
     ]
    }
   ],
   "source": [
    "# ## Load layer 6 features for adults and use these to sort\n",
    "# AF_S, AM_S = load_adult_features(6,sufficient_data_labels)\n",
    "\n",
    "# ## retrieve alpha sorted labels from meta\n",
    "# _labels = np.unique(AM_S.label.values)\n",
    "# means = get_class_means(AF_S, AM_S.label.values)\n",
    "\n",
    "def flatten(x):\n",
    "    return [item for sublist in x for item in sublist]\n",
    "\n",
    "_labels = np.unique(KM.label.values)\n",
    "means = get_class_means(KF, KM.label.values)\n",
    "af = AffinityPropagation(damping=0.5).fit(means)\n",
    "labels = af.labels_\n",
    "cluster_centers_indices = af.cluster_centers_indices_\n",
    "n_clusters_ = len(cluster_centers_indices)\n",
    "\n",
    "ordered_objs = []\n",
    "print('Clusters')\n",
    "for k in range(n_clusters_):\n",
    "    class_members = labels == k\n",
    "    print _labels[class_members]\n",
    "    ordered_objs.append(list(_labels[class_members]))\n",
    "    \n",
    "ordered_objs = np.array(flatten(ordered_objs))\n",
    "\n",
    "# define standard order to be used for RDM's across layers\n",
    "standard_order = ordered_objs\n",
    "\n",
    "## index for sorting the alphabetical list of labels INTO the order specified by ordered_objs (clustered)\n",
    "sort_inds = [np.where(_labels==ordered_objs[i])[0][0] for i in np.arange(len(ordered_objs))]"
   ]
  },
  {
   "cell_type": "code",
   "execution_count": 72,
   "metadata": {},
   "outputs": [
    {
     "data": {
      "text/plain": [
       "[0, 1, 4, 8, 9, 11, 13, 14, 15, 5, 2, 3, 6, 7, 12, 10]"
      ]
     },
     "execution_count": 72,
     "metadata": {},
     "output_type": "execute_result"
    }
   ],
   "source": [
    "[np.where(_labels==ordered_objs[i])[0][0] for i in np.arange(len(ordered_objs))]"
   ]
  },
  {
   "cell_type": "markdown",
   "metadata": {
    "collapsed": true
   },
   "source": [
    "### Representational Similarity Analyses"
   ]
  },
  {
   "cell_type": "code",
   "execution_count": 100,
   "metadata": {
    "collapsed": true
   },
   "outputs": [],
   "source": [
    "def get_and_plot_RDM(M,F,cohort,sort_inds, layer_ind):\n",
    "    ## sorted adult RDMs\n",
    "    labels = M.label.values\n",
    "    means = get_class_means_not_normalized(F, labels)\n",
    "    ordered_means = means[sort_inds,:]\n",
    "    sns.set_style('white')\n",
    "    CORRMAT = np.corrcoef(ordered_means)\n",
    "\n",
    "    sns.set_context('paper')\n",
    "    fig = plt.figure(figsize=(30,30))\n",
    "    plt.matshow(1-CORRMAT, vmin=0, vmax=2)\n",
    "    plt.xticks(range(len(ordered_objs)), ordered_objs, rotation=90);\n",
    "    plt.yticks(range(len(ordered_objs)), ordered_objs); \n",
    "    plt.colorbar()\n",
    "    for tick in pylab.gca().xaxis.iter_ticks():\n",
    "        tick[0].label2On = True\n",
    "        tick[0].label1On = False\n",
    "        tick[0].label2.set_rotation('vertical')\n",
    "        tick[0].tick1On = False\n",
    "        tick[0].tick2On = False\n",
    "    for tick in pylab.gca().yaxis.iter_ticks():\n",
    "        tick[0].tick1On = False\n",
    "        tick[0].tick2On = False  \n",
    "    RDM = CORRMAT\n",
    "    plt.gcf().subplots_adjust(left=0.5) \n",
    "    plt.savefig('./plots/RDM_{}_Layer_{}.pdf'.format(cohort, layer_ind), bbox_inches=\"tight\")\n",
    "#     plt.savefig('./outputs-cogsci/RDM_{}_Layer_{}.pdf'.format(cohort, layer_ind), bbox_inches=\"tight\")\n",
    "    return RDM\n",
    "\n",
    "def showRDM(RDM,ordered_objs):\n",
    "    sns.set_context('paper')\n",
    "    fig = plt.figure(figsize=(30,30))\n",
    "    plt.matshow(RDM, vmin=0, vmax=2)\n",
    "    plt.xticks(range(len(ordered_objs)), ordered_objs, rotation=90);\n",
    "    plt.yticks(range(len(ordered_objs)), ordered_objs); \n",
    "    plt.colorbar()\n",
    "    for tick in pylab.gca().xaxis.iter_ticks():\n",
    "        tick[0].label2On = True\n",
    "        tick[0].label1On = False\n",
    "        tick[0].label2.set_rotation('vertical')\n",
    "        tick[0].tick1On = False\n",
    "        tick[0].tick2On = False\n",
    "    for tick in pylab.gca().yaxis.iter_ticks():\n",
    "        tick[0].tick1On = False\n",
    "        tick[0].tick2On = False  \n",
    "\n",
    "def get_RDM(M,F,sort_inds):\n",
    "    ## sorted adult RDMs\n",
    "    labels = M.label.values\n",
    "    means = get_class_means(F, labels)\n",
    "    ordered_means = means[sort_inds,:]    \n",
    "    RDM = np.corrcoef(ordered_means)\n",
    "    return RDM"
   ]
  },
  {
   "cell_type": "code",
   "execution_count": 101,
   "metadata": {},
   "outputs": [],
   "source": [
    "# ## get and plot sorted adult RDM\n",
    "# ARDM = get_and_plot_RDM(AM, AF,'adult',sort_inds,layer_ind)"
   ]
  },
  {
   "cell_type": "code",
   "execution_count": 102,
   "metadata": {},
   "outputs": [
    {
     "data": {
      "text/plain": [
       "<matplotlib.figure.Figure at 0x7f14abd4f410>"
      ]
     },
     "metadata": {},
     "output_type": "display_data"
    },
    {
     "data": {
      "image/png": "[encoded data removed]",
      "text/plain": [
       "<matplotlib.figure.Figure at 0x7f14c1f91790>"
      ]
     },
     "metadata": {},
     "output_type": "display_data"
    }
   ],
   "source": [
    "## get and plot sorted kid RDM collapsing across all ages\n",
    "KRDM = get_and_plot_RDM(KM, KF,'kid',sort_inds,layer_ind)"
   ]
  },
  {
   "cell_type": "code",
   "execution_count": 107,
   "metadata": {},
   "outputs": [
    {
     "data": {
      "text/plain": [
       "<matplotlib.figure.Figure at 0x7f14c1d728d0>"
      ]
     },
     "metadata": {},
     "output_type": "display_data"
    },
    {
     "data": {
      "image/png": "[encoded data removed]",
      "text/plain": [
       "<matplotlib.figure.Figure at 0x7f14c1e5a090>"
      ]
     },
     "metadata": {},
     "output_type": "display_data"
    }
   ],
   "source": [
    "## get RDM for older kids (8,9,10)\n",
    "# ind = KM.index[KM['coarse_age'] == 'older']\n",
    "meta = KM_oldest\n",
    "feat = KF_oldest\n",
    "ORDM = get_and_plot_RDM(meta, feat,'oldest',sort_inds,layer_ind)"
   ]
  },
  {
   "cell_type": "code",
   "execution_count": 104,
   "metadata": {},
   "outputs": [
    {
     "data": {
      "text/plain": [
       "<matplotlib.figure.Figure at 0x7f14ab9bded0>"
      ]
     },
     "metadata": {},
     "output_type": "display_data"
    },
    {
     "data": {
      "image/png": "[encoded data removed]",
      "text/plain": [
       "<matplotlib.figure.Figure at 0x7f14ab9b33d0>"
      ]
     },
     "metadata": {},
     "output_type": "display_data"
    }
   ],
   "source": [
    "## get RDM for older kids (6,7)\n",
    "# ind = KM.index[KM['coarse_age'] == 'older']\n",
    "meta = KM_older\n",
    "feat = KF_older\n",
    "ORDM = get_and_plot_RDM(meta, feat,'older',sort_inds,layer_ind)"
   ]
  },
  {
   "cell_type": "code",
   "execution_count": 105,
   "metadata": {},
   "outputs": [
    {
     "data": {
      "text/plain": [
       "<matplotlib.figure.Figure at 0x7f14ab7d6610>"
      ]
     },
     "metadata": {},
     "output_type": "display_data"
    },
    {
     "data": {
      "image/png": "[encoded data removed]",
      "text/plain": [
       "<matplotlib.figure.Figure at 0x7f14c39f2c50>"
      ]
     },
     "metadata": {},
     "output_type": "display_data"
    }
   ],
   "source": [
    "## get RDM for older kids (4,5)\n",
    "# ind = KM.index[KM['coarse_age'] == 'older']\n",
    "meta = KM_younger\n",
    "feat = KF_younger\n",
    "ORDM = get_and_plot_RDM(meta, feat,'younger',sort_inds,layer_ind)"
   ]
  },
  {
   "cell_type": "code",
   "execution_count": null,
   "metadata": {},
   "outputs": [],
   "source": []
  },
  {
   "cell_type": "code",
   "execution_count": 106,
   "metadata": {},
   "outputs": [
    {
     "data": {
      "text/plain": [
       "<matplotlib.figure.Figure at 0x7f14ab5ddf50>"
      ]
     },
     "metadata": {},
     "output_type": "display_data"
    },
    {
     "data": {
      "image/png": "[encoded data removed]",
      "text/plain": [
       "<matplotlib.figure.Figure at 0x7f14c3992850>"
      ]
     },
     "metadata": {},
     "output_type": "display_data"
    }
   ],
   "source": [
    "## get RDM for older kids (4,5)\n",
    "# ind = KM.index[KM['coarse_age'] == 'older']\n",
    "meta = KM_youngest\n",
    "feat = KF_youngest\n",
    "ORDM = get_and_plot_RDM(meta, feat,'youngest',sort_inds,layer_ind)"
   ]
  },
  {
   "cell_type": "code",
   "execution_count": 81,
   "metadata": {},
   "outputs": [
    {
     "name": "stdout",
     "output_type": "stream",
     "text": [
      "Correlation between OLDER and YOUNGER kid RDM: 0.966386554622\n"
     ]
    }
   ],
   "source": [
    "# ## print fc7 cross-cohort correlations\n",
    "# dim = KRDM.shape[0]\n",
    "# cor = stats.spearmanr(np.ravel(KRDM[np.triu_indices(dim,k=1)]),np.ravel(ARDM[np.triu_indices(dim,k=1)]))[0]\n",
    "# print 'Correlation between adult and overall kid RDM: {}'.format(cor)\n",
    "# print ' '\n",
    "# dim = ORDM.shape[0]\n",
    "# cor = stats.spearmanr(np.ravel(ORDM[np.triu_indices(dim,k=1)]),np.ravel(ARDM[np.triu_indices(dim,k=1)]))[0]\n",
    "# print 'Correlation between adult and OLDER kid RDM: {}'.format(cor)\n",
    "# print ' '\n",
    "# dim = YRDM.shape[0]\n",
    "# cor = stats.spearmanr(np.ravel(YRDM[np.triu_indices(dim,k=1)]),np.ravel(ARDM[np.triu_indices(dim,k=1)]))[0]\n",
    "# print 'Correlation between adult and YOUNGER kid RDM: {}'.format(cor)\n",
    "# print ' '\n",
    "dim = YRDM.shape[0]\n",
    "cor = stats.spearmanr(np.ravel(YRDM[np.triu_indices(dim,k=1)]),np.ravel(ORDM[np.triu_indices(dim,k=1)]))[0]\n",
    "print 'Correlation between OLDER and YOUNGER kid RDM: {}'.format(cor)"
   ]
  },
  {
   "cell_type": "markdown",
   "metadata": {},
   "source": [
    "### How does similarity differ across layers?"
   ]
  },
  {
   "cell_type": "markdown",
   "metadata": {},
   "source": [
    "#### Set variables, paths, and define preprocessing functinos"
   ]
  },
  {
   "cell_type": "code",
   "execution_count": 79,
   "metadata": {
    "collapsed": true
   },
   "outputs": [],
   "source": [
    "## which label set are we using? common_labels or sufficient_data_labels\n",
    "these_labels = sufficient_data_labels\n",
    "\n",
    "## make sure directory for RDM exists\n",
    "if not os.path.exists('./rdm'):\n",
    "    os.makedirs('./rdm')\n",
    "\n",
    "## function to apply various cleanup operations to adult feat/meta, including deborkifying and subsetting by appropriate labelset\n",
    "def adult_preproc(AF, AM, these_labels):\n",
    "    ## set up lookup table to cover discrepancies in category label assignments\n",
    "    lookup = dict(zip(these_labels,these_labels))\n",
    "    if 'bike' in lookup.keys():\n",
    "        lookup['bike'] = 'bicycle'\n",
    "\n",
    "    ## subset adult feature matrix and metadata matrix by appropriate labelset\n",
    "    AF, AM = subset_labels(AF, AM, [lookup[i] for i in these_labels])\n",
    "    AM = AM.reset_index(drop=True)    \n",
    "    return AF, AM\n",
    "\n",
    "## function to add coarse grain age and subset according to proper labelset\n",
    "def preproc_kid(KF, KM,these_labels):    \n",
    "    KM['coarse_age'] = KM.apply(coarse_grain_age, axis=1)\n",
    "    ## subset labels that have at least some drawings of them from each age category\n",
    "    younger_labels = KM[KM['coarse_age'] == 'younger']['label'].values\n",
    "    older_labels = KM[KM['coarse_age'] == 'older']['label'].values\n",
    "    \n",
    "    ## subset to only use the labels with either COMMON LABELS or SUFFICIENT DATA (see cell above)\n",
    "    KF, KM = subset_labels(KF, KM, these_labels)\n",
    "    KM = KM.reset_index(drop=True)    \n",
    "    return KF, KM\n",
    "\n",
    "\n",
    "def get_RDM_resampled(M,F,sort_inds,iteration):\n",
    "    ## sorted adult RDMs\n",
    "    labels = M.label.values\n",
    "    means = get_class_means(F, labels)\n",
    "    ordered_means = means[sort_inds,:] \n",
    "    ### JACKKNIFE RESAMPLING OVER CLASSES (https://en.wikipedia.org/wiki/Jackknife_resampling)    \n",
    "    # 1: exhaustively subset 15 of 16 categories, and compute cross-domain similarity in each case\n",
    "    # 2: variance estimate = (n-1)/n  *   Sum([xi - x.i]^2)\n",
    "    #          where x.i = (1/n) * Sum(xi), the average of all subsamples    \n",
    "    jacks = np.roll(range(ordered_means.shape[0]),iteration)[:ordered_means.shape[0]-1]\n",
    "    ordered_means = ordered_means[jacks,:]\n",
    "    RDM = np.corrcoef(ordered_means)\n",
    "    return RDM\n",
    "\n",
    "def get_rdm_similarity(A,B):\n",
    "    '''\n",
    "    A is RDM for one population\n",
    "    B is RDM for another population, of same dimensionality\n",
    "    '''\n",
    "    dim = A.shape[0]\n",
    "    return stats.spearmanr(np.ravel(A[np.triu_indices(dim,k=1)]),np.ravel(B[np.triu_indices(dim,k=1)]))[0]\n",
    "\n",
    "def subsample_rdm(RDM,i):\n",
    "    '''\n",
    "    If you have a 16 objects x 16 objects RDM, and want to remove one of the objects,\n",
    "    yielding a 15x15 RDM, in order to compare to a jackknife RDM, apply this function.\n",
    "    \n",
    "    Generally speaking, it removes the i-th colum and row from the RDM.\n",
    "\n",
    "    '''\n",
    "    num_obj = RDM.shape[0]\n",
    "    keep = sorted(np.roll(range(num_obj),i)[:num_obj-1])\n",
    "    tmp = RDM[keep,:]\n",
    "    tmp = tmp[:,keep]   \n",
    "    return tmp\n",
    "\n"
   ]
  },
  {
   "cell_type": "markdown",
   "metadata": {},
   "source": [
    "### Get varilaibty across classes"
   ]
  },
  {
   "cell_type": "markdown",
   "metadata": {},
   "source": [
    "##### Generate and save out RDMs as separate npy files for adults"
   ]
  },
  {
   "cell_type": "code",
   "execution_count": 80,
   "metadata": {},
   "outputs": [
    {
     "name": "stdout",
     "output_type": "stream",
     "text": [
      "Loading in adult features for layer 0...\n",
      "Shape of adult feature tensor: (2700, 64)\n",
      "Getting and saving RDM...\n",
      "(27, 27)\n",
      "Loading in adult features for layer 1...\n",
      "Shape of adult feature tensor: (2700, 128)\n",
      "Getting and saving RDM...\n",
      "(27, 27)\n",
      "Loading in adult features for layer 2...\n",
      "Shape of adult feature tensor: (2700, 256)\n",
      "Getting and saving RDM...\n",
      "(27, 27)\n",
      "Loading in adult features for layer 3...\n",
      "Shape of adult feature tensor: (2700, 512)\n",
      "Getting and saving RDM...\n",
      "(27, 27)\n",
      "Loading in adult features for layer 4...\n",
      "Shape of adult feature tensor: (2700, 512)\n",
      "Getting and saving RDM...\n",
      "(27, 27)\n",
      "Loading in adult features for layer 5...\n",
      "Shape of adult feature tensor: (2700, 4096)\n",
      "Getting and saving RDM...\n",
      "(27, 27)\n",
      "Loading in adult features for layer 6...\n",
      "Shape of adult feature tensor: (2700, 4096)\n",
      "Getting and saving RDM...\n",
      "(27, 27)\n",
      "All done!\n"
     ]
    }
   ],
   "source": [
    "# really run or not\n",
    "really_run = 1\n",
    "\n",
    "if really_run:\n",
    "    for layer_num in np.arange(7):\n",
    "        print 'Loading in adult features for layer {}...'.format(layer_num)\n",
    "        AF, AM = load_features('adult',layer_num)\n",
    "        AF, AM = remove_practice_trials(AF, AM)\n",
    "        AM = AM.reset_index(drop=True)\n",
    "        AF, AM = adult_preproc(AF, AM, these_labels)        \n",
    "        print 'Shape of adult feature tensor: {}'.format(np.shape(AF))\n",
    "\n",
    "        ## get RDM\n",
    "        cohort = 'adult'\n",
    "        print 'Getting and saving RDM...'\n",
    "        \n",
    "        RDM = get_RDM(AM, AF,sort_inds)\n",
    "        print np.shape(RDM)\n",
    "        ## save out RDM as npy\n",
    "        np.save('./rdm/RDM_{}_{}.npy'.format(cohort,layer_num),RDM) \n",
    "        \n",
    "    print 'All done!'"
   ]
  },
  {
   "cell_type": "markdown",
   "metadata": {},
   "source": [
    "##### Generate and save out RDMs as separate npy files for KIDS"
   ]
  },
  {
   "cell_type": "code",
   "execution_count": 83,
   "metadata": {},
   "outputs": [
    {
     "name": "stdout",
     "output_type": "stream",
     "text": [
      "Shape of kid feature tensor: (396, 64)\n",
      "Getting and saving RDM...\n",
      "Saved OVERALL KID RDMs for layer 0!\n",
      "Shape of kid feature tensor: (396, 128)\n",
      "Getting and saving RDM...\n",
      "Saved OVERALL KID RDMs for layer 1!\n",
      "Shape of kid feature tensor: (396, 256)\n",
      "Getting and saving RDM...\n",
      "Saved OVERALL KID RDMs for layer 2!\n",
      "Shape of kid feature tensor: (396, 512)\n",
      "Getting and saving RDM...\n",
      "Saved OVERALL KID RDMs for layer 3!\n",
      "Shape of kid feature tensor: (396, 512)\n",
      "Getting and saving RDM...\n",
      "Saved OVERALL KID RDMs for layer 4!\n",
      "Shape of kid feature tensor: (396, 4096)\n",
      "Getting and saving RDM...\n",
      "Saved OVERALL KID RDMs for layer 5!\n",
      "Shape of kid feature tensor: (396, 4096)\n",
      "Getting and saving RDM...\n",
      "Saved OVERALL KID RDMs for layer 6!\n",
      "Shape of older kid feature tensor: (205, 64)\n",
      "Saved OLDER KID RDMs for layer 0!\n",
      "Shape of older kid feature tensor: (205, 128)\n",
      "Saved OLDER KID RDMs for layer 1!\n",
      "Shape of older kid feature tensor: (205, 256)\n",
      "Saved OLDER KID RDMs for layer 2!\n",
      "Shape of older kid feature tensor: (205, 512)\n",
      "Saved OLDER KID RDMs for layer 3!\n",
      "Shape of older kid feature tensor: (205, 512)\n",
      "Saved OLDER KID RDMs for layer 4!\n",
      "Shape of older kid feature tensor: (205, 4096)\n",
      "Saved OLDER KID RDMs for layer 5!\n",
      "Shape of older kid feature tensor: (205, 4096)\n",
      "Saved OLDER KID RDMs for layer 6!\n",
      "Shape of younger kid feature tensor: (191, 64)\n",
      "Saved YOUNGER KID RDMs for layer 0!\n",
      "Shape of younger kid feature tensor: (191, 128)\n",
      "Saved YOUNGER KID RDMs for layer 1!\n",
      "Shape of younger kid feature tensor: (191, 256)\n",
      "Saved YOUNGER KID RDMs for layer 2!\n",
      "Shape of younger kid feature tensor: (191, 512)\n",
      "Saved YOUNGER KID RDMs for layer 3!\n",
      "Shape of younger kid feature tensor: (191, 512)\n",
      "Saved YOUNGER KID RDMs for layer 4!\n",
      "Shape of younger kid feature tensor: (191, 4096)\n",
      "Saved YOUNGER KID RDMs for layer 5!\n",
      "Shape of younger kid feature tensor: (191, 4096)\n",
      "Saved YOUNGER KID RDMs for layer 6!\n"
     ]
    }
   ],
   "source": [
    "## loop through all kid layers and save out their RDM\n",
    "## if we want to run this cell\n",
    "really_run = 1\n",
    "\n",
    "if really_run:\n",
    "    for layer_num in np.arange(7):\n",
    "        ## load in kid features\n",
    "        KF, KM = load_features('kid',layer_num)\n",
    "        KF, KM = remove_practice_trials(KF, KM)\n",
    "        KM = KM.reset_index(drop=True)\n",
    "        KF, KM = preproc_kid(KF, KM, these_labels)   \n",
    "        print 'Shape of kid feature tensor: {}'.format(np.shape(KF))\n",
    "\n",
    "        ## get RDM\n",
    "        print 'Getting and saving RDM...'\n",
    "        cohort = 'kid'\n",
    "        KRDM = get_RDM(KM, KF,sort_inds)\n",
    "        ## save out RDM as npy\n",
    "        np.save('./rdm/RDM_{}_{}.npy'.format(cohort,layer_num),KRDM)\n",
    "        print 'Saved OVERALL KID RDMs for layer {}!'.format(layer_num)        \n",
    "\n",
    "    ## loop through all kid layers and save out their RDM\n",
    "for layer_num in np.arange(7):\n",
    "        ## load in kid features\n",
    "        KF, KM = load_features('kid',layer_num)\n",
    "        KF, KM = remove_practice_trials(KF, KM)\n",
    "        KM = KM.reset_index(drop=True)\n",
    "        KF, KM = preproc_kid(KF, KM, these_labels)          \n",
    "\n",
    "        ## get RDM for older kids (7,8,9,10)\n",
    "        ind = KM.index[KM['coarse_age'] == 'older']\n",
    "        meta = KM.loc[ind]\n",
    "        feat = KF[ind.tolist()]\n",
    "        print 'Shape of older kid feature tensor: {}'.format(np.shape(feat))        \n",
    "        ORDM = get_RDM(meta, feat,sort_inds)\n",
    "        np.save('./rdm/RDM_{}_{}.npy'.format('older',layer_num),ORDM)            \n",
    "        print 'Saved OLDER KID RDMs for layer {}!'.format(layer_num)        \n",
    "\n",
    "    for layer_num in np.arange(7):\n",
    "        ## load in kid features\n",
    "        KF, KM = load_features('kid',layer_num)\n",
    "        KF, KM = remove_practice_trials(KF, KM)\n",
    "        KM = KM.reset_index(drop=True)\n",
    "        KF, KM = preproc_kid(KF, KM, these_labels)       \n",
    "\n",
    "        ## get RDM for younger kids (3,4,5,6)            \n",
    "        ind = KM.index[KM['coarse_age'] == 'younger']\n",
    "        meta = KM.loc[ind]\n",
    "        feat = KF[ind.tolist()]\n",
    "        print 'Shape of younger kid feature tensor: {}'.format(np.shape(feat))                \n",
    "        YRDM = get_RDM(meta, feat,sort_inds)\n",
    "        np.save('./rdm/RDM_{}_{}.npy'.format('younger',layer_num),YRDM)             \n",
    "        print 'Saved YOUNGER KID RDMs for layer {}!'.format(layer_num)\n"
   ]
  },
  {
   "cell_type": "markdown",
   "metadata": {},
   "source": [
    "##### Compute and plot layer-wise cross-cohort similarity (first without error bars)"
   ]
  },
  {
   "cell_type": "code",
   "execution_count": 84,
   "metadata": {
    "collapsed": true
   },
   "outputs": [],
   "source": [
    "def plot_RDM(corrmat,cohort,sort_inds, layer_ind):    \n",
    "    sns.set_style('white')\n",
    "    sns.set_context('paper')\n",
    "    fig = plt.figure(figsize=(30,30))\n",
    "    plt.matshow(1-corrmat, vmin=0, vmax=2)\n",
    "    plt.xticks(range(len(ordered_objs)), ordered_objs, rotation=90);\n",
    "    plt.yticks(range(len(ordered_objs)), ordered_objs); \n",
    "    plt.colorbar()\n",
    "    for tick in pylab.gca().xaxis.iter_ticks():\n",
    "        tick[0].label2On = True\n",
    "        tick[0].label1On = False\n",
    "        tick[0].label2.set_rotation('vertical')\n",
    "        tick[0].tick1On = False\n",
    "        tick[0].tick2On = False\n",
    "    for tick in pylab.gca().yaxis.iter_ticks():\n",
    "        tick[0].tick1On = False\n",
    "        tick[0].tick2On = False  \n",
    "    plt.gcf().subplots_adjust(left=0.5) \n",
    "    plt.savefig('./plots/RDM_{}_Layer_{}_check.pdf'.format(cohort, layer_ind), bbox_inches=\"tight\")\n"
   ]
  },
  {
   "cell_type": "code",
   "execution_count": 85,
   "metadata": {
    "collapsed": true
   },
   "outputs": [],
   "source": [
    "# Load RDMs and recompute\n",
    "corYA = []\n",
    "corOA = []\n",
    "\n",
    "for layer_num in np.arange(7):\n",
    "    Y = np.load('./rdm/RDM_younger_{}.npy'.format(layer_num))\n",
    "    O = np.load('./rdm/RDM_older_{}.npy'.format(layer_num))\n",
    "    A = np.load('./rdm/RDM_adult_{}.npy'.format(layer_num))\n",
    "        \n",
    "    dim = O.shape[0]\n",
    "    rYA = stats.spearmanr(np.ravel(Y[np.triu_indices(dim,k=1)]),np.ravel(A[np.triu_indices(dim,k=1)]))[0]\n",
    "    rOA = stats.spearmanr(np.ravel(O[np.triu_indices(dim,k=1)]),np.ravel(A[np.triu_indices(dim,k=1)]))[0]\n",
    "    \n",
    "    corYA.append(rYA)\n",
    "    corOA.append(rOA)"
   ]
  },
  {
   "cell_type": "code",
   "execution_count": 86,
   "metadata": {},
   "outputs": [
    {
     "data": {
      "image/png": "[encoded data removed]",
      "text/plain": [
       "<matplotlib.figure.Figure at 0x7f19deec23d0>"
      ]
     },
     "metadata": {},
     "output_type": "display_data"
    }
   ],
   "source": [
    "## Plot it\n",
    "sns.set_context('talk')\n",
    "sns.set_style('white')\n",
    "plt.figure(figsize=(6,6))\n",
    "plt.plot(np.arange(1,8),corYA,label='younger vs. adult',color=(0.6,0.6,0.6))\n",
    "plt.plot(np.arange(1,8),corOA,label='older vs. adult',color=(0.2,0.2,0.2))\n",
    "# plt.plot(np.arange(1,8),corKA,label='all kids vs. adult',color=(0.6,0.2,0.2))\n",
    "plt.xlabel('model layer')\n",
    "plt.ylabel('between-cohort similarity')\n",
    "plt.legend()\n",
    "plt.ylim(0,1)\n",
    "plt.savefig('./plots/btw_cohort_similarity_noerrorbars.pdf')"
   ]
  },
  {
   "cell_type": "markdown",
   "metadata": {
    "collapsed": true
   },
   "source": [
    "#### Get errorbars for photo-sketch (jackknife resampling over classes) NOT DONE"
   ]
  },
  {
   "cell_type": "code",
   "execution_count": 87,
   "metadata": {},
   "outputs": [
    {
     "name": "stdout",
     "output_type": "stream",
     "text": [
      "Loading in kid features for layer 0...\n",
      "Shape of kid feature tensor: (396, 64)\n",
      "Loading in adult features for layer 0...\n",
      "Shape of adult feature tensor: (2700, 64)\n",
      "Getting and saving kid and adult RDMs ...\n",
      "Iteration 0 of 27\n",
      "Iteration 1 of 27\n",
      "Iteration 2 of 27\n",
      "Iteration 3 of 27\n",
      "Iteration 4 of 27\n",
      "Iteration 5 of 27\n",
      "Iteration 6 of 27\n",
      "Iteration 7 of 27\n",
      "Iteration 8 of 27\n",
      "Iteration 9 of 27\n",
      "Iteration 10 of 27\n",
      "Iteration 11 of 27\n",
      "Iteration 12 of 27\n",
      "Iteration 13 of 27\n",
      "Iteration 14 of 27\n",
      "Iteration 15 of 27\n",
      "Iteration 16 of 27\n",
      "Iteration 17 of 27\n",
      "Iteration 18 of 27\n",
      "Iteration 19 of 27\n",
      "Iteration 20 of 27\n",
      "Iteration 21 of 27\n",
      "Iteration 22 of 27\n",
      "Iteration 23 of 27\n",
      "Iteration 24 of 27\n",
      "Iteration 25 of 27\n",
      "Iteration 26 of 27\n",
      "Loading in kid features for layer 1...\n",
      "Shape of kid feature tensor: (396, 128)\n",
      "Loading in adult features for layer 1...\n",
      "Shape of adult feature tensor: (2700, 128)\n",
      "Getting and saving kid and adult RDMs ...\n",
      "Iteration 0 of 27\n",
      "Iteration 1 of 27\n",
      "Iteration 2 of 27\n",
      "Iteration 3 of 27\n",
      "Iteration 4 of 27\n",
      "Iteration 5 of 27\n",
      "Iteration 6 of 27\n",
      "Iteration 7 of 27\n",
      "Iteration 8 of 27\n",
      "Iteration 9 of 27\n",
      "Iteration 10 of 27\n",
      "Iteration 11 of 27\n",
      "Iteration 12 of 27\n",
      "Iteration 13 of 27\n",
      "Iteration 14 of 27\n",
      "Iteration 15 of 27\n",
      "Iteration 16 of 27\n",
      "Iteration 17 of 27\n",
      "Iteration 18 of 27\n",
      "Iteration 19 of 27\n",
      "Iteration 20 of 27\n",
      "Iteration 21 of 27\n",
      "Iteration 22 of 27\n",
      "Iteration 23 of 27\n",
      "Iteration 24 of 27\n",
      "Iteration 25 of 27\n",
      "Iteration 26 of 27\n",
      "Loading in kid features for layer 2...\n",
      "Shape of kid feature tensor: (396, 256)\n",
      "Loading in adult features for layer 2...\n",
      "Shape of adult feature tensor: (2700, 256)\n",
      "Getting and saving kid and adult RDMs ...\n",
      "Iteration 0 of 27\n",
      "Iteration 1 of 27\n",
      "Iteration 2 of 27\n",
      "Iteration 3 of 27\n",
      "Iteration 4 of 27\n",
      "Iteration 5 of 27\n",
      "Iteration 6 of 27\n",
      "Iteration 7 of 27\n",
      "Iteration 8 of 27\n",
      "Iteration 9 of 27\n",
      "Iteration 10 of 27\n",
      "Iteration 11 of 27\n",
      "Iteration 12 of 27\n",
      "Iteration 13 of 27\n",
      "Iteration 14 of 27\n",
      "Iteration 15 of 27\n",
      "Iteration 16 of 27\n",
      "Iteration 17 of 27\n",
      "Iteration 18 of 27\n",
      "Iteration 19 of 27\n",
      "Iteration 20 of 27\n",
      "Iteration 21 of 27\n",
      "Iteration 22 of 27\n",
      "Iteration 23 of 27\n",
      "Iteration 24 of 27\n",
      "Iteration 25 of 27\n",
      "Iteration 26 of 27\n",
      "Loading in kid features for layer 3...\n",
      "Shape of kid feature tensor: (396, 512)\n",
      "Loading in adult features for layer 3...\n",
      "Shape of adult feature tensor: (2700, 512)\n",
      "Getting and saving kid and adult RDMs ...\n",
      "Iteration 0 of 27\n",
      "Iteration 1 of 27\n",
      "Iteration 2 of 27\n",
      "Iteration 3 of 27\n",
      "Iteration 4 of 27\n",
      "Iteration 5 of 27\n",
      "Iteration 6 of 27\n",
      "Iteration 7 of 27\n",
      "Iteration 8 of 27\n",
      "Iteration 9 of 27\n",
      "Iteration 10 of 27\n",
      "Iteration 11 of 27\n",
      "Iteration 12 of 27\n",
      "Iteration 13 of 27\n",
      "Iteration 14 of 27\n",
      "Iteration 15 of 27\n",
      "Iteration 16 of 27\n",
      "Iteration 17 of 27\n",
      "Iteration 18 of 27\n",
      "Iteration 19 of 27\n",
      "Iteration 20 of 27\n",
      "Iteration 21 of 27\n",
      "Iteration 22 of 27\n",
      "Iteration 23 of 27\n",
      "Iteration 24 of 27\n",
      "Iteration 25 of 27\n",
      "Iteration 26 of 27\n",
      "Loading in kid features for layer 4...\n",
      "Shape of kid feature tensor: (396, 512)\n",
      "Loading in adult features for layer 4...\n",
      "Shape of adult feature tensor: (2700, 512)\n",
      "Getting and saving kid and adult RDMs ...\n",
      "Iteration 0 of 27\n",
      "Iteration 1 of 27\n",
      "Iteration 2 of 27\n",
      "Iteration 3 of 27\n",
      "Iteration 4 of 27\n",
      "Iteration 5 of 27\n",
      "Iteration 6 of 27\n",
      "Iteration 7 of 27\n",
      "Iteration 8 of 27\n",
      "Iteration 9 of 27\n",
      "Iteration 10 of 27\n",
      "Iteration 11 of 27\n",
      "Iteration 12 of 27\n",
      "Iteration 13 of 27\n",
      "Iteration 14 of 27\n",
      "Iteration 15 of 27\n",
      "Iteration 16 of 27\n",
      "Iteration 17 of 27\n",
      "Iteration 18 of 27\n",
      "Iteration 19 of 27\n",
      "Iteration 20 of 27\n",
      "Iteration 21 of 27\n",
      "Iteration 22 of 27\n",
      "Iteration 23 of 27\n",
      "Iteration 24 of 27\n",
      "Iteration 25 of 27\n",
      "Iteration 26 of 27\n",
      "Loading in kid features for layer 5...\n",
      "Shape of kid feature tensor: (396, 4096)\n",
      "Loading in adult features for layer 5...\n",
      "Shape of adult feature tensor: (2700, 4096)\n",
      "Getting and saving kid and adult RDMs ...\n",
      "Iteration 0 of 27\n",
      "Iteration 1 of 27\n",
      "Iteration 2 of 27\n",
      "Iteration 3 of 27\n",
      "Iteration 4 of 27\n",
      "Iteration 5 of 27\n",
      "Iteration 6 of 27\n",
      "Iteration 7 of 27\n",
      "Iteration 8 of 27\n",
      "Iteration 9 of 27\n",
      "Iteration 10 of 27\n",
      "Iteration 11 of 27\n",
      "Iteration 12 of 27\n",
      "Iteration 13 of 27\n",
      "Iteration 14 of 27\n",
      "Iteration 15 of 27\n",
      "Iteration 16 of 27\n",
      "Iteration 17 of 27\n",
      "Iteration 18 of 27\n",
      "Iteration 19 of 27\n",
      "Iteration 20 of 27\n",
      "Iteration 21 of 27\n",
      "Iteration 22 of 27\n",
      "Iteration 23 of 27\n",
      "Iteration 24 of 27\n",
      "Iteration 25 of 27\n",
      "Iteration 26 of 27\n",
      "Loading in kid features for layer 6...\n",
      "Shape of kid feature tensor: (396, 4096)\n",
      "Loading in adult features for layer 6...\n",
      "Shape of adult feature tensor: (2700, 4096)\n",
      "Getting and saving kid and adult RDMs ...\n",
      "Iteration 0 of 27\n",
      "Iteration 1 of 27\n",
      "Iteration 2 of 27\n",
      "Iteration 3 of 27\n",
      "Iteration 4 of 27\n",
      "Iteration 5 of 27\n",
      "Iteration 6 of 27\n",
      "Iteration 7 of 27\n",
      "Iteration 8 of 27\n",
      "Iteration 9 of 27\n",
      "Iteration 10 of 27\n",
      "Iteration 11 of 27\n",
      "Iteration 12 of 27\n",
      "Iteration 13 of 27\n",
      "Iteration 14 of 27\n",
      "Iteration 15 of 27\n",
      "Iteration 16 of 27\n",
      "Iteration 17 of 27\n",
      "Iteration 18 of 27\n",
      "Iteration 19 of 27\n",
      "Iteration 20 of 27\n",
      "Iteration 21 of 27\n",
      "Iteration 22 of 27\n",
      "Iteration 23 of 27\n",
      "Iteration 24 of 27\n",
      "Iteration 25 of 27\n",
      "Iteration 26 of 27\n",
      "Loading in kid features for layer 0...\n",
      "Shape of kid feature tensor: (396, 64)\n",
      "Loading in adult features for layer 0...\n",
      "Shape of adult feature tensor: (2700, 64)\n",
      "Getting and saving kid and adult RDMs ...\n",
      "Iteration 0 of 27\n",
      "Iteration 1 of 27\n",
      "Iteration 2 of 27\n",
      "Iteration 3 of 27\n",
      "Iteration 4 of 27\n",
      "Iteration 5 of 27\n",
      "Iteration 6 of 27\n",
      "Iteration 7 of 27\n",
      "Iteration 8 of 27\n",
      "Iteration 9 of 27\n",
      "Iteration 10 of 27\n",
      "Iteration 11 of 27\n",
      "Iteration 12 of 27\n",
      "Iteration 13 of 27\n",
      "Iteration 14 of 27\n",
      "Iteration 15 of 27\n",
      "Iteration 16 of 27\n",
      "Iteration 17 of 27\n",
      "Iteration 18 of 27\n",
      "Iteration 19 of 27\n",
      "Iteration 20 of 27\n",
      "Iteration 21 of 27\n",
      "Iteration 22 of 27\n",
      "Iteration 23 of 27\n",
      "Iteration 24 of 27\n",
      "Iteration 25 of 27\n",
      "Iteration 26 of 27\n",
      "Loading in kid features for layer 1...\n",
      "Shape of kid feature tensor: (396, 128)\n",
      "Loading in adult features for layer 1...\n",
      "Shape of adult feature tensor: (2700, 128)\n",
      "Getting and saving kid and adult RDMs ...\n",
      "Iteration 0 of 27\n",
      "Iteration 1 of 27\n",
      "Iteration 2 of 27\n",
      "Iteration 3 of 27\n",
      "Iteration 4 of 27\n",
      "Iteration 5 of 27\n",
      "Iteration 6 of 27\n",
      "Iteration 7 of 27\n",
      "Iteration 8 of 27\n",
      "Iteration 9 of 27\n",
      "Iteration 10 of 27\n",
      "Iteration 11 of 27\n",
      "Iteration 12 of 27\n",
      "Iteration 13 of 27\n",
      "Iteration 14 of 27\n",
      "Iteration 15 of 27\n",
      "Iteration 16 of 27\n",
      "Iteration 17 of 27\n",
      "Iteration 18 of 27\n",
      "Iteration 19 of 27\n",
      "Iteration 20 of 27\n",
      "Iteration 21 of 27\n",
      "Iteration 22 of 27\n",
      "Iteration 23 of 27\n",
      "Iteration 24 of 27\n",
      "Iteration 25 of 27\n",
      "Iteration 26 of 27\n",
      "Loading in kid features for layer 2...\n",
      "Shape of kid feature tensor: (396, 256)\n",
      "Loading in adult features for layer 2...\n",
      "Shape of adult feature tensor: (2700, 256)\n",
      "Getting and saving kid and adult RDMs ...\n",
      "Iteration 0 of 27\n",
      "Iteration 1 of 27\n",
      "Iteration 2 of 27\n",
      "Iteration 3 of 27\n",
      "Iteration 4 of 27\n",
      "Iteration 5 of 27\n",
      "Iteration 6 of 27\n",
      "Iteration 7 of 27\n",
      "Iteration 8 of 27\n",
      "Iteration 9 of 27\n",
      "Iteration 10 of 27\n",
      "Iteration 11 of 27\n",
      "Iteration 12 of 27\n",
      "Iteration 13 of 27\n",
      "Iteration 14 of 27\n",
      "Iteration 15 of 27\n",
      "Iteration 16 of 27\n",
      "Iteration 17 of 27\n",
      "Iteration 18 of 27\n",
      "Iteration 19 of 27\n",
      "Iteration 20 of 27\n",
      "Iteration 21 of 27\n",
      "Iteration 22 of 27\n",
      "Iteration 23 of 27\n",
      "Iteration 24 of 27\n",
      "Iteration 25 of 27\n",
      "Iteration 26 of 27\n",
      "Loading in kid features for layer 3...\n",
      "Shape of kid feature tensor: (396, 512)\n",
      "Loading in adult features for layer 3...\n",
      "Shape of adult feature tensor: (2700, 512)\n",
      "Getting and saving kid and adult RDMs ...\n",
      "Iteration 0 of 27\n",
      "Iteration 1 of 27\n",
      "Iteration 2 of 27\n",
      "Iteration 3 of 27\n",
      "Iteration 4 of 27\n",
      "Iteration 5 of 27\n",
      "Iteration 6 of 27\n",
      "Iteration 7 of 27\n",
      "Iteration 8 of 27\n",
      "Iteration 9 of 27\n",
      "Iteration 10 of 27\n",
      "Iteration 11 of 27\n",
      "Iteration 12 of 27\n",
      "Iteration 13 of 27\n",
      "Iteration 14 of 27\n",
      "Iteration 15 of 27\n",
      "Iteration 16 of 27\n",
      "Iteration 17 of 27\n",
      "Iteration 18 of 27\n",
      "Iteration 19 of 27\n",
      "Iteration 20 of 27\n",
      "Iteration 21 of 27\n",
      "Iteration 22 of 27\n",
      "Iteration 23 of 27\n",
      "Iteration 24 of 27\n",
      "Iteration 25 of 27\n",
      "Iteration 26 of 27\n",
      "Loading in kid features for layer 4...\n",
      "Shape of kid feature tensor: (396, 512)\n",
      "Loading in adult features for layer 4...\n",
      "Shape of adult feature tensor: (2700, 512)\n",
      "Getting and saving kid and adult RDMs ...\n",
      "Iteration 0 of 27\n",
      "Iteration 1 of 27\n",
      "Iteration 2 of 27\n",
      "Iteration 3 of 27\n",
      "Iteration 4 of 27\n",
      "Iteration 5 of 27\n",
      "Iteration 6 of 27\n",
      "Iteration 7 of 27\n",
      "Iteration 8 of 27\n",
      "Iteration 9 of 27\n",
      "Iteration 10 of 27\n",
      "Iteration 11 of 27\n",
      "Iteration 12 of 27\n",
      "Iteration 13 of 27\n",
      "Iteration 14 of 27\n",
      "Iteration 15 of 27\n",
      "Iteration 16 of 27\n",
      "Iteration 17 of 27\n",
      "Iteration 18 of 27\n",
      "Iteration 19 of 27\n",
      "Iteration 20 of 27\n",
      "Iteration 21 of 27\n",
      "Iteration 22 of 27\n"
     ]
    },
    {
     "name": "stdout",
     "output_type": "stream",
     "text": [
      "Iteration 23 of 27\n",
      "Iteration 24 of 27\n",
      "Iteration 25 of 27\n",
      "Iteration 26 of 27\n",
      "Loading in kid features for layer 5...\n",
      "Shape of kid feature tensor: (396, 4096)\n",
      "Loading in adult features for layer 5...\n",
      "Shape of adult feature tensor: (2700, 4096)\n",
      "Getting and saving kid and adult RDMs ...\n",
      "Iteration 0 of 27\n",
      "Iteration 1 of 27\n",
      "Iteration 2 of 27\n",
      "Iteration 3 of 27\n",
      "Iteration 4 of 27\n",
      "Iteration 5 of 27\n",
      "Iteration 6 of 27\n",
      "Iteration 7 of 27\n",
      "Iteration 8 of 27\n",
      "Iteration 9 of 27\n",
      "Iteration 10 of 27\n",
      "Iteration 11 of 27\n",
      "Iteration 12 of 27\n",
      "Iteration 13 of 27\n",
      "Iteration 14 of 27\n",
      "Iteration 15 of 27\n",
      "Iteration 16 of 27\n",
      "Iteration 17 of 27\n",
      "Iteration 18 of 27\n",
      "Iteration 19 of 27\n",
      "Iteration 20 of 27\n",
      "Iteration 21 of 27\n",
      "Iteration 22 of 27\n",
      "Iteration 23 of 27\n",
      "Iteration 24 of 27\n",
      "Iteration 25 of 27\n",
      "Iteration 26 of 27\n",
      "Loading in kid features for layer 6...\n",
      "Shape of kid feature tensor: (396, 4096)\n",
      "Loading in adult features for layer 6...\n",
      "Shape of adult feature tensor: (2700, 4096)\n",
      "Getting and saving kid and adult RDMs ...\n",
      "Iteration 0 of 27\n",
      "Iteration 1 of 27\n",
      "Iteration 2 of 27\n",
      "Iteration 3 of 27\n",
      "Iteration 4 of 27\n",
      "Iteration 5 of 27\n",
      "Iteration 6 of 27\n",
      "Iteration 7 of 27\n",
      "Iteration 8 of 27\n",
      "Iteration 9 of 27\n",
      "Iteration 10 of 27\n",
      "Iteration 11 of 27\n",
      "Iteration 12 of 27\n",
      "Iteration 13 of 27\n",
      "Iteration 14 of 27\n",
      "Iteration 15 of 27\n",
      "Iteration 16 of 27\n",
      "Iteration 17 of 27\n",
      "Iteration 18 of 27\n",
      "Iteration 19 of 27\n",
      "Iteration 20 of 27\n",
      "Iteration 21 of 27\n",
      "Iteration 22 of 27\n",
      "Iteration 23 of 27\n",
      "Iteration 24 of 27\n",
      "Iteration 25 of 27\n",
      "Iteration 26 of 27\n"
     ]
    },
    {
     "ename": "AttributeError",
     "evalue": "'numpy.ndarray' object has no attribute 'append'",
     "output_type": "error",
     "traceback": [
      "\u001b[0;31m---------------------------------------------------------------------------\u001b[0m",
      "\u001b[0;31mAttributeError\u001b[0m                            Traceback (most recent call last)",
      "\u001b[0;32m<ipython-input-87-62bc8db63d19>\u001b[0m in \u001b[0;36m<module>\u001b[0;34m()\u001b[0m\n\u001b[1;32m     56\u001b[0m             \u001b[0mnp\u001b[0m\u001b[0;34m.\u001b[0m\u001b[0msave\u001b[0m\u001b[0;34m(\u001b[0m\u001b[0;34m'./rdm/RDM_jackknife_{}_{}.npy'\u001b[0m\u001b[0;34m.\u001b[0m\u001b[0mformat\u001b[0m\u001b[0;34m(\u001b[0m\u001b[0;34m'adult'\u001b[0m\u001b[0;34m,\u001b[0m\u001b[0mlayer_num\u001b[0m\u001b[0;34m)\u001b[0m\u001b[0;34m,\u001b[0m\u001b[0mARDM\u001b[0m\u001b[0;34m)\u001b[0m\u001b[0;34m\u001b[0m\u001b[0m\n\u001b[1;32m     57\u001b[0m         \u001b[0;31m## cohort level aggregation\u001b[0m\u001b[0;34m\u001b[0m\u001b[0;34m\u001b[0m\u001b[0m\n\u001b[0;32m---> 58\u001b[0;31m         \u001b[0mCORMAT\u001b[0m\u001b[0;34m.\u001b[0m\u001b[0mappend\u001b[0m\u001b[0;34m(\u001b[0m\u001b[0mCormat\u001b[0m\u001b[0;34m)\u001b[0m\u001b[0;34m\u001b[0m\u001b[0m\n\u001b[0m\u001b[1;32m     59\u001b[0m \u001b[0;34m\u001b[0m\u001b[0m\n\u001b[1;32m     60\u001b[0m         \u001b[0;31m## save CORMAT\u001b[0m\u001b[0;34m\u001b[0m\u001b[0;34m\u001b[0m\u001b[0m\n",
      "\u001b[0;31mAttributeError\u001b[0m: 'numpy.ndarray' object has no attribute 'append'"
     ]
    }
   ],
   "source": [
    "## which layers\n",
    "lb = 0\n",
    "ub = 7\n",
    "nIter = len(these_labels)\n",
    "\n",
    "recomputeJacknife = 1\n",
    "cohorts = ['younger','older']\n",
    "CORMAT = []\n",
    "if recomputeJacknife:\n",
    "    for cohort in cohorts:\n",
    "        ## loop through all kid layers and save out their RDM\n",
    "        Cormat = [] ## cohort-level grouping of cross-cohort similarity\n",
    "        for layer_num in np.arange(lb,ub):\n",
    "            print 'Loading in kid features for layer {}...'.format(layer_num)    \n",
    "            ## load in kid features\n",
    "            KF, KM = load_features('kid',layer_num)\n",
    "            KF, KM = remove_practice_trials(KF, KM)\n",
    "            KM = KM.reset_index(drop=True)\n",
    "            KF, KM = preproc_kid(KF, KM, these_labels)\n",
    "            print 'Shape of kid feature tensor: {}'.format(np.shape(KF))    \n",
    "\n",
    "            print 'Loading in adult features for layer {}...'.format(layer_num)\n",
    "            AF, AM = load_features('adult',layer_num)\n",
    "            AF, AM = remove_practice_trials(AF, AM)\n",
    "            AM = AM.reset_index(drop=True)\n",
    "            AF, AM = adult_preproc(AF, AM, these_labels)\n",
    "            print 'Shape of adult feature tensor: {}'.format(np.shape(AF))           \n",
    "\n",
    "            ## get older kid RDM\n",
    "            print 'Getting and saving kid and adult RDMs ...'\n",
    "            KRDM = []\n",
    "            ARDM = []\n",
    "            cormat = [] ## layer-level grouping of cross-cohort similarity\n",
    "            for i in range(nIter):\n",
    "                print 'Iteration {} of {}'.format(i,nIter)\n",
    "                ## get RDM for this cohort, i.e., {'older', 'younger'}\n",
    "                ind = KM.index[KM['coarse_age'] == cohort]\n",
    "                meta = KM.loc[ind]\n",
    "                feat = KF[ind.tolist()]                    \n",
    "                krdm = get_RDM_resampled(meta, feat,sort_inds,i)\n",
    "                ## get RDM adult for adults, aggregate across iterations\n",
    "                ardm = get_RDM_resampled(AM, AF,sort_inds,i)        \n",
    "                if len(KRDM)==0:\n",
    "                    KRDM = krdm\n",
    "                    ARDM = ardm\n",
    "                else:\n",
    "                    KRDM = np.dstack((KRDM,krdm))\n",
    "                    ARDM = np.dstack((ARDM,ardm))                                  \n",
    "                ## compute similarity between RDMs\n",
    "                cormat.append(get_rdm_similarity(krdm,ardm))\n",
    "            ## layer level aggregation    \n",
    "            Cormat.append(cormat)\n",
    "            KRDM = np.array(KRDM)\n",
    "            ARDM = np.array(ARDM)\n",
    "            np.save('./rdm/RDM_jackknife_{}_{}.npy'.format(cohort,layer_num),KRDM)             \n",
    "            np.save('./rdm/RDM_jackknife_{}_{}.npy'.format('adult',layer_num),ARDM)         \n",
    "        ## cohort level aggregation    \n",
    "        CORMAT.append(Cormat)\n",
    "        \n",
    "        ## save CORMAT \n",
    "        CORMAT = np.array(CORMAT)\n",
    "        np.save('./rdm/CORMAT_JackknifedCohorts.npy',CORMAT)\n"
   ]
  },
  {
   "cell_type": "code",
   "execution_count": 123,
   "metadata": {},
   "outputs": [
    {
     "data": {
      "text/plain": [
       "(2, 7, 27)"
      ]
     },
     "execution_count": 123,
     "metadata": {},
     "output_type": "execute_result"
    }
   ],
   "source": [
    "if recomputeJacknife==0\n",
    "    #  Load CORMAT if we didn't just compute it \n",
    "    CORMAT = np.load('./rdm/CORMAT_JackknifedCohorts.npy')\n",
    "\n",
    "## CORMAT has dimensionality: num_cohorts x num_layers x num_categories\n",
    "num_categories = np.shape(np.array(CORMAT))[2]\n",
    "np.shape(np.array(CORMAT)) "
   ]
  },
  {
   "cell_type": "markdown",
   "metadata": {},
   "source": [
    "### Compute jacknife SEM based on simulations"
   ]
  },
  {
   "cell_type": "code",
   "execution_count": 124,
   "metadata": {
    "collapsed": true
   },
   "outputs": [],
   "source": [
    "## JACKKNIFE RESAMPLING OVER CLASSES (https://en.wikipedia.org/wiki/Jackknife_resampling)    \n",
    "# 1: exhaustively subset 15 of 16 categories, and compute cross-domain similarity in each case\n",
    "# 2: variance estimate = (n-1)/n  *   Sum([xi - x.i]^2)\n",
    "#          where x.i = (1/n) * Sum(xi), the average of all subsamples \n",
    "cohorts = ['younger','older']\n",
    "SEM_JACK = []\n",
    "\n",
    "for c,cohort in enumerate(cohorts):\n",
    "    sem_jack = []\n",
    "    for layer_num in np.arange(7):\n",
    "        jackvals = CORMAT[c,layer_num,:]\n",
    "        jackmean = np.mean(jackvals)\n",
    "        sem_jack.append(np.sqrt( (num_categories-1)/(num_categories) * np.array([(i-jackmean)**2 for i in jackvals]).sum()))\n",
    "    SEM_JACK.append(sem_jack)\n",
    "SEM_JACK = np.array(SEM_JACK)"
   ]
  },
  {
   "cell_type": "markdown",
   "metadata": {},
   "source": [
    "### Compute adult-adult noise ceiling"
   ]
  },
  {
   "cell_type": "code",
   "execution_count": 113,
   "metadata": {},
   "outputs": [
    {
     "name": "stdout",
     "output_type": "stream",
     "text": [
      "Layer 0 of 7\n",
      "Iteration 0 of 10\n",
      "(196, 64)\n",
      "(196, 64)\n",
      "(196, 64)\n",
      "(196, 64)\n",
      "(196, 64)\n",
      "Iteration 5 of 10\n",
      "(196, 64)\n",
      "(196, 64)\n",
      "(196, 64)\n",
      "(196, 64)\n",
      "(196, 64)\n",
      "Layer 1 of 7\n",
      "Iteration 0 of 10\n",
      "(196, 128)\n",
      "(196, 128)\n",
      "(196, 128)\n",
      "(196, 128)\n",
      "(196, 128)\n",
      "Iteration 5 of 10\n",
      "(196, 128)\n",
      "(196, 128)\n",
      "(196, 128)\n",
      "(196, 128)\n",
      "(196, 128)\n",
      "Layer 2 of 7\n",
      "Iteration 0 of 10\n",
      "(196, 256)\n",
      "(196, 256)\n",
      "(196, 256)\n",
      "(196, 256)\n",
      "(196, 256)\n",
      "Iteration 5 of 10\n",
      "(196, 256)\n",
      "(196, 256)\n",
      "(196, 256)\n",
      "(196, 256)\n",
      "(196, 256)\n",
      "Layer 3 of 7\n",
      "Iteration 0 of 10\n",
      "(196, 512)\n",
      "(196, 512)\n",
      "(196, 512)\n",
      "(196, 512)\n",
      "(196, 512)\n",
      "Iteration 5 of 10\n",
      "(196, 512)\n",
      "(196, 512)\n",
      "(196, 512)\n",
      "(196, 512)\n",
      "(196, 512)\n",
      "Layer 4 of 7\n",
      "Iteration 0 of 10\n",
      "(196, 512)\n",
      "(196, 512)\n",
      "(196, 512)\n",
      "(196, 512)\n",
      "(196, 512)\n",
      "Iteration 5 of 10\n",
      "(196, 512)\n",
      "(196, 512)\n",
      "(196, 512)\n",
      "(196, 512)\n",
      "(196, 512)\n",
      "Layer 5 of 7\n",
      "Iteration 0 of 10\n",
      "(196, 4096)\n",
      "(196, 4096)\n",
      "(196, 4096)\n",
      "(196, 4096)\n",
      "(196, 4096)\n",
      "Iteration 5 of 10\n",
      "(196, 4096)\n",
      "(196, 4096)\n",
      "(196, 4096)\n",
      "(196, 4096)\n",
      "(196, 4096)\n",
      "Layer 6 of 7\n",
      "Iteration 0 of 10\n",
      "(196, 4096)\n",
      "(196, 4096)\n",
      "(196, 4096)\n",
      "(196, 4096)\n",
      "(196, 4096)\n",
      "Iteration 5 of 10\n",
      "(196, 4096)\n",
      "(196, 4096)\n",
      "(196, 4096)\n",
      "(196, 4096)\n",
      "(196, 4096)\n"
     ]
    }
   ],
   "source": [
    "## How many sketches do we have from each class in kids? Take this number, divide by 2, to get approx number \n",
    "## in adults for consistency analysis. Divide by 2, because we already are dividing kid drawing dataset\n",
    "## into younger and older subcategories.\n",
    "\n",
    "## edit Jan 30 2018: Bria asked about estimating adult-adult consistency in a way that is \n",
    "## directly comparable in terms of dataset size to the kid-adult RDM correlations.\n",
    "## so to do this, we will estimate an RDM based on correlating noisy sub-sampled adult with \n",
    "## same rock-solid adult RDM on every go.\n",
    "\n",
    "## load in kid dataset in order to get num kid drawings per class\n",
    "YF, YM = load_features('kid',6)\n",
    "kid_num_per_class = zip(np.unique(YM.label.values),np.round(YM.groupby('label').count()['age'].values/2))\n",
    "knpc = dict(kid_num_per_class)\n",
    "knpc['bicycle'] = knpc.pop('bike') # deal with naming inconsistency\n",
    "\n",
    "##  initialize variables\n",
    "CORR_noisy_rock_adult = [] \n",
    "CORR_noisy_noisy_adult = []\n",
    "\n",
    "## \n",
    "num_layers=7\n",
    "for layer_num in np.arange(num_layers):\n",
    "    print('Layer {} of {}'.format(layer_num,num_layers))\n",
    "    AF, AM = load_features('adult',layer_num)    \n",
    "    AF, AM = remove_practice_trials(AF, AM)\n",
    "    AM = AM.reset_index(drop=True)\n",
    "    AF, AM = adult_preproc(AF, AM, these_labels)    \n",
    "    qats = np.unique(AM.label.values)\n",
    "    nIter = 10\n",
    "\n",
    "    noisy_rock_adult_sims = [] ## correlation between split RDM's\n",
    "    noisy_noisy_adult_sims = [] ## correlation between small RDM and noisy RDM\n",
    "    \n",
    "    ## load in rock-solid RDM estimated on 100 drawings per class\n",
    "    adult_rock_RDM = []\n",
    "    adult_rock_RDM = np.load('./rdm/RDM_adult_{}.npy'.format(layer_num)) \n",
    "    \n",
    "                             \n",
    "    for it in np.arange(nIter):\n",
    "        Meta = [] # initialize adult subsampled metadata csv -- same for both halves\n",
    "        Feat1 = [] # initialize adult subsampled feature matrix -- constitutes first half\n",
    "        Feat2 = [] # initialize adult subsampled feature matrix -- constitutes second half\n",
    "        if it%5==0:\n",
    "            print('Iteration {} of {}'.format(it,nIter))\n",
    "        for q in qats:\n",
    "            ind = AM.index[AM['label'] == q] # get indexes\n",
    "            meta = AM.loc[ind] # get metadata for this category\n",
    "            meta = meta.reset_index(drop=True)\n",
    "            feat = AF[ind.tolist()] # get features for this category\n",
    "            how_many = int(knpc[q]) ## look up approx(!) how many younger/older kid sketches we have from this class\n",
    "\n",
    "            ## Randomly sample\n",
    "            row_inds = np.random.RandomState(it).permutation(meta.shape[0])[:how_many]\n",
    "            metasamp = meta.loc[row_inds]\n",
    "            featsamp = feat[row_inds.tolist()] ## subsample first \"split-half\" feature mat\n",
    "\n",
    "            row_inds_2 = np.random.RandomState(it).permutation(meta.shape[0])[how_many*2:how_many*3] ## get the next drawings in the permuted list\n",
    "            featsamp2 = feat[row_inds_2.tolist()] ## subsample second \"split-half\" feature mat\n",
    "            metasamp2 = meta.loc[row_inds_2]\n",
    "\n",
    "            if len(Meta)==0:        \n",
    "                Meta = metasamp\n",
    "                Feat1 = featsamp\n",
    "                Feat2 = featsamp2\n",
    "            else:\n",
    "                Meta = pd.concat((Meta,metasamp))\n",
    "                Feat1 = np.vstack((Feat1,featsamp)) \n",
    "                Feat2 = np.vstack((Feat2,featsamp2))\n",
    "            \n",
    "        ## get class means        \n",
    "        Meta = Meta.reset_index(drop=True)\n",
    "        print np.shape(Feat1)\n",
    "        means1 = get_class_means(Feat1, Meta.label.values)\n",
    "        means2 = get_class_means(Feat2, Meta.label.values)\n",
    "\n",
    "        ## get RDM for each half\n",
    "        rdm1 = get_RDM(Meta,Feat1,sort_inds)\n",
    "        rdm2 = get_RDM(Meta,Feat2,sort_inds)\n",
    "                \n",
    "        dim = rdm1.shape[0]\n",
    "        noisy_rock_adult = stats.spearmanr(np.ravel(rdm1[np.triu_indices(dim,k=1)]), \\\n",
    "                              np.ravel(adult_rock_RDM[np.triu_indices(dim,k=1)]))[0]\n",
    "        noisy_noisy_adult = stats.spearmanr(np.ravel(rdm1[np.triu_indices(dim,k=1)]), \\\n",
    "                              np.ravel(rdm2[np.triu_indices(dim,k=1)]))[0]\n",
    "        noisy_rock_adult_sims.append(noisy_rock_adult)\n",
    "        noisy_noisy_adult_sims.append(noisy_noisy_adult)\n",
    "    CORR_noisy_rock_adult.append(noisy_rock_adult_sims)\n",
    "    CORR_noisy_noisy_adult.append(noisy_noisy_adult_sims)"
   ]
  },
  {
   "cell_type": "code",
   "execution_count": 115,
   "metadata": {
    "collapsed": true
   },
   "outputs": [],
   "source": [
    "## save out average values & rename variables\n",
    "adult_noisy_rock_layerwise = np.asarray(CORR_noisy_rock_adult)\n",
    "adult_noisy_noisy_layerwise = np.asarray(CORR_noisy_noisy_adult)\n",
    "np.save('./rdm/adult_noisy_rock_layerwise_archive.npy',adult_noisy_rock_layerwise)  \n",
    "np.save('./rdm/adult_noisy_noisy_layerwise_archive.npy',adult_noisy_noisy_layerwise)  "
   ]
  },
  {
   "cell_type": "markdown",
   "metadata": {},
   "source": [
    "### Jackknife resampling on class for noisy adult"
   ]
  },
  {
   "cell_type": "code",
   "execution_count": 116,
   "metadata": {},
   "outputs": [
    {
     "name": "stdout",
     "output_type": "stream",
     "text": [
      "Loading in adult features for layer 0...\n",
      "Shape of adult feature tensor: (2700, 64)\n",
      "Iteration 0 of 1\n",
      "Shape of adult feature tensor: (196, 64)\n",
      "Performing jackknife resampling ...\n",
      "Iteration 0 of 27\n",
      "Iteration 4 of 27\n",
      "Iteration 8 of 27\n",
      "Iteration 12 of 27\n",
      "Iteration 16 of 27\n",
      "Iteration 20 of 27\n",
      "Iteration 24 of 27\n",
      "Loading in adult features for layer 1...\n",
      "Shape of adult feature tensor: (2700, 128)\n",
      "Iteration 0 of 1\n",
      "Shape of adult feature tensor: (196, 128)\n",
      "Performing jackknife resampling ...\n",
      "Iteration 0 of 27\n",
      "Iteration 4 of 27\n",
      "Iteration 8 of 27\n",
      "Iteration 12 of 27\n",
      "Iteration 16 of 27\n",
      "Iteration 20 of 27\n",
      "Iteration 24 of 27\n",
      "Loading in adult features for layer 2...\n",
      "Shape of adult feature tensor: (2700, 256)\n",
      "Iteration 0 of 1\n",
      "Shape of adult feature tensor: (196, 256)\n",
      "Performing jackknife resampling ...\n",
      "Iteration 0 of 27\n",
      "Iteration 4 of 27\n",
      "Iteration 8 of 27\n",
      "Iteration 12 of 27\n",
      "Iteration 16 of 27\n",
      "Iteration 20 of 27\n",
      "Iteration 24 of 27\n",
      "Loading in adult features for layer 3...\n",
      "Shape of adult feature tensor: (2700, 512)\n",
      "Iteration 0 of 1\n",
      "Shape of adult feature tensor: (196, 512)\n",
      "Performing jackknife resampling ...\n",
      "Iteration 0 of 27\n",
      "Iteration 4 of 27\n",
      "Iteration 8 of 27\n",
      "Iteration 12 of 27\n",
      "Iteration 16 of 27\n",
      "Iteration 20 of 27\n",
      "Iteration 24 of 27\n",
      "Loading in adult features for layer 4...\n",
      "Shape of adult feature tensor: (2700, 512)\n",
      "Iteration 0 of 1\n",
      "Shape of adult feature tensor: (196, 512)\n",
      "Performing jackknife resampling ...\n",
      "Iteration 0 of 27\n",
      "Iteration 4 of 27\n",
      "Iteration 8 of 27\n",
      "Iteration 12 of 27\n",
      "Iteration 16 of 27\n",
      "Iteration 20 of 27\n",
      "Iteration 24 of 27\n",
      "Loading in adult features for layer 5...\n",
      "Shape of adult feature tensor: (2700, 4096)\n",
      "Iteration 0 of 1\n",
      "Shape of adult feature tensor: (196, 4096)\n",
      "Performing jackknife resampling ...\n",
      "Iteration 0 of 27\n",
      "Iteration 4 of 27\n",
      "Iteration 8 of 27\n",
      "Iteration 12 of 27\n",
      "Iteration 16 of 27\n",
      "Iteration 20 of 27\n",
      "Iteration 24 of 27\n",
      "Loading in adult features for layer 6...\n",
      "Shape of adult feature tensor: (2700, 4096)\n",
      "Iteration 0 of 1\n",
      "Shape of adult feature tensor: (196, 4096)\n",
      "Performing jackknife resampling ...\n",
      "Iteration 0 of 27\n",
      "Iteration 4 of 27\n",
      "Iteration 8 of 27\n",
      "Iteration 12 of 27\n",
      "Iteration 16 of 27\n",
      "Iteration 20 of 27\n",
      "Iteration 24 of 27\n"
     ]
    }
   ],
   "source": [
    "###### jackknife resampling on class for noisy adult -- rock-solid adult RDM similarity\n",
    "lb = 0\n",
    "ub = 7\n",
    "nIter = len(these_labels)\n",
    "Cormat = [] \n",
    "\n",
    "for layer_num in np.arange(lb,ub):\n",
    "    ARDM = [] \n",
    "    NARDM = []\n",
    "    \n",
    "    ### loading in all adult features\n",
    "    print 'Loading in adult features for layer {}...'.format(layer_num)\n",
    "    AF, AM = load_features('adult',layer_num)\n",
    "    AF, AM = remove_practice_trials(AF, AM)\n",
    "    AM = AM.reset_index(drop=True)\n",
    "    AF, AM = adult_preproc(AF, AM, these_labels)\n",
    "    print 'Shape of adult feature tensor: {}'.format(np.shape(AF)) \n",
    "\n",
    "    ## get categories\n",
    "    qats = np.unique(AM.label.values)\n",
    "    nIter = 1\n",
    "\n",
    "    Cor = [] ## correlation between split RDM's\n",
    "    for it in np.arange(nIter):\n",
    "        Meta = [] # initialize adult subsampled metadata csv -- same for both halves\n",
    "        Feat1 = [] # initialize adult subsampled feature matrix -- constitutes first half\n",
    "        Feat2 = [] # initialize adult subsampled feature matrix -- constitutes second half\n",
    "        if it%5==0:\n",
    "            print('Iteration {} of {}'.format(it,nIter))\n",
    "        for q in qats:\n",
    "            ind = AM.index[AM['label'] == q]\n",
    "            meta = AM.loc[ind]\n",
    "            meta = meta.reset_index(drop=True)\n",
    "            feat = AF[ind.tolist()]\n",
    "\n",
    "            how_many = int(knpc[q]) ## look up approx(!) how many younger/older kid sketches we have from this class\n",
    "            row_inds = np.random.RandomState(it).permutation(meta.shape[0])[:how_many]\n",
    "            metasamp = meta.loc[row_inds]\n",
    "            featsamp = feat[row_inds.tolist()] ## subsample \"split-half\" feature mat\n",
    "\n",
    "            if len(Meta)==0:\n",
    "                Meta = metasamp\n",
    "                Feat1 = featsamp\n",
    "            else:\n",
    "                Meta = pd.concat((Meta,metasamp))\n",
    "                Feat1 = np.vstack((Feat1,featsamp)) \n",
    "\n",
    "        ## define feature matrix and metadata         \n",
    "        NAM = Meta.reset_index(drop=True)\n",
    "        NAF = Feat1\n",
    "        print 'Shape of adult feature tensor: {}'.format(np.shape(NAF)) \n",
    "\n",
    "        ## jackknife resample through classes\n",
    "        print 'Performing jackknife resampling ...'\n",
    "        ARDM = []\n",
    "        NARDM = []\n",
    "        cormat = [] ## layer-level grouping of cross-cohort similarity\n",
    "        num_cats = 27\n",
    "        for i in range(num_cats):\n",
    "            if i%4==0:\n",
    "                print 'Iteration {} of {}'.format(i,num_cats)\n",
    "\n",
    "            ## get RDM adult for adults, aggregate across iterations\n",
    "            nardm = get_RDM_resampled(NAM, NAF,sort_inds,i) \n",
    "            ardm = get_RDM_resampled(AM,AF,sort_inds,i)\n",
    "            if len(ARDM)==0:\n",
    "                ARDM = ardm\n",
    "                NARDM = nardm\n",
    "            else:\n",
    "                ARDM = np.dstack((ARDM,ardm))   \n",
    "                NARDM = np.dstack((NARDM,nardm)) \n",
    "                \n",
    "            ## compute similarity between noisy-adult RDM and rock-solid RDM                                                \n",
    "            cormat.append(get_rdm_similarity(nardm,ardm))\n",
    "            \n",
    "        ## layer level aggregation    \n",
    "        Cormat.append(cormat)\n",
    "        ARDM = np.array(ARDM)  \n",
    "        NARDM = np.array(NARDM)\n",
    "        \n",
    "        ## save out jackknifed RDM        \n",
    "        np.save('./rdm/RDM_jackknife_{}_{}.npy'.format('noisy_adult',layer_num),NARDM)  \n",
    "        np.save('./rdm/RDM_jackknife_{}_{}.npy'.format('adult_micro',layer_num),ARDM)\n",
    "\n",
    "Cormat = np.array(Cormat)                      "
   ]
  },
  {
   "cell_type": "markdown",
   "metadata": {
    "collapsed": true
   },
   "source": [
    "#### Recreate averages and sems from jacknifed samples\n"
   ]
  },
  {
   "cell_type": "code",
   "execution_count": 119,
   "metadata": {
    "collapsed": true
   },
   "outputs": [],
   "source": [
    "lb = 0\n",
    "ub = 7\n",
    "iteration = 27\n",
    "# intialize\n",
    "older_younger = np.zeros((ub,iteration))\n",
    "noisy_micro = np.zeros((ub,iteration))\n",
    "older_noisy_adult = np.zeros((ub,iteration))\n",
    "younger_noisy_adult = np.zeros((ub,iteration))\n",
    "older_micro_adult = np.zeros((ub,iteration))\n",
    "younger_micro_adult = np.zeros((ub,iteration))\n",
    "\n",
    "for layer_num in np.arange(lb,ub):\n",
    "    YRDM = np.load('./rdm/RDM_jackknife_younger_{}.npy'.format(layer_num))\n",
    "    ORDM = np.load('./rdm/RDM_jackknife_older_{}.npy'.format(layer_num))\n",
    "    NARDM = np.load('./rdm/RDM_jackknife_noisy_adult_{}.npy'.format(layer_num))\n",
    "    ARDM = np.load('./rdm/RDM_jackknife_adult_micro_{}.npy'.format(layer_num))\n",
    "    \n",
    "    for iteration in np.arange(0,27):\n",
    "        yrdm = YRDM[:,:,iteration]\n",
    "        ordm = ORDM[:,:,iteration]\n",
    "        nardm = NARDM[:,:,iteration]\n",
    "        ardm = ARDM[:,:,iteration]\n",
    "        \n",
    "        older_younger[layer_num, iteration] = get_rdm_similarity(yrdm,ordm)\n",
    "        noisy_micro[layer_num, iteration] = get_rdm_similarity(ardm,nardm)\n",
    "        \n",
    "        older_noisy_adult[layer_num, iteration] = get_rdm_similarity(ordm,nardm)\n",
    "        younger_noisy_adult[layer_num, iteration] = get_rdm_similarity(yrdm,nardm)\n",
    "        \n",
    "        older_micro_adult[layer_num, iteration] = get_rdm_similarity(ordm,ardm)\n",
    "        younger_micro_adult[layer_num, iteration] = get_rdm_similarity(yrdm,ardm)\n",
    "        \n",
    "def get_jacknife_sem(cormat,num_categories):\n",
    "    sem_jack = []\n",
    "    for layer_num in np.arange(7):\n",
    "        jackvals = cormat[layer_num,:]\n",
    "        jackmean = np.mean(jackvals)\n",
    "        sem_jack.append(np.sqrt( (num_categories-1)/(num_categories) * np.array([(i-jackmean)**2 for i in jackvals]).sum()))\n",
    "    sem_jack=np.asarray(sem_jack)\n",
    "    return sem_jack\n",
    "\n",
    "num_categories = 27\n",
    "older_younger_sem = get_jacknife_sem(older_younger,num_categories)\n",
    "noisy_micro_sem = get_jacknife_sem(noisy_micro,num_categories)   \n",
    "older_noisy_adult_sem = get_jacknife_sem(older_noisy_adult,num_categories)   \n",
    "younger_noisy_adult_sem = get_jacknife_sem(younger_noisy_adult,num_categories)   \n",
    "older_micro_adult_sem = get_jacknife_sem(older_micro_adult,num_categories)   \n",
    "younger_micro_adult_sem = get_jacknife_sem(younger_micro_adult,num_categories)   "
   ]
  },
  {
   "cell_type": "code",
   "execution_count": 70,
   "metadata": {
    "collapsed": true
   },
   "outputs": [],
   "source": []
  },
  {
   "cell_type": "markdown",
   "metadata": {},
   "source": [
    "#### Make final plot and save out averages"
   ]
  },
  {
   "cell_type": "code",
   "execution_count": 120,
   "metadata": {},
   "outputs": [
    {
     "data": {
      "image/png": "[encoded data removed]",
      "text/plain": [
       "<matplotlib.figure.Figure at 0x7f19dee83990>"
      ]
     },
     "metadata": {},
     "output_type": "display_data"
    }
   ],
   "source": [
    "sns.set_context('talk')\n",
    "sns.set_style('white')\n",
    "plt.figure(figsize=(6,6))\n",
    "younger_color = [72/255, 29/255, 109/255]\n",
    "older_color=[32/255, 164/255, 134/255]\n",
    "\n",
    "# kids vs rock adults\n",
    "h = plt.errorbar(np.arange(1,8),younger_micro_adult.mean(1),yerr=[younger_micro_adult_sem,younger_micro_adult_sem], color=younger_color, ecolor=younger_color,label='younger vs. rock-solid adult')\n",
    "h = plt.errorbar(np.arange(1,8),older_micro_adult.mean(1),yerr=[older_micro_adult_sem,older_micro_adult_sem], color=older_color, ecolor=older_color,label='older vs. rock-solid adult')\n",
    "\n",
    "# kids vs noisy adults\n",
    "# h = plt.errorbar(np.arange(1,8),younger_noisy_adult.mean(1),yerr=[younger_noisy_adult_sem,younger_noisy_adult_sem], color=[0.6, 0.6, 0.8], ecolor=[0.6, 0.6, 0.8],label='younger vs. noisy adult')\n",
    "# h = plt.errorbar(np.arange(1,8),older_noisy_adult.mean(1),yerr=[older_noisy_adult_sem,older_noisy_adult_sem], color=[0.2, 0.2, 0.2], ecolor=[0.2, 0.2, 0.4],label='older vs. noisy adult')\n",
    "\n",
    "# adults v adults\n",
    "h = plt.errorbar(np.arange(1,8),noisy_micro.mean(1),yerr=[noisy_micro_sem,noisy_micro_sem], color=[0.2, 0.2, 0.2], ecolor=[0.2, 0.2, 0.2],label='noisy vs. rock-solid adult')\n",
    "\n",
    "# younger vs older kids\n",
    "# h = plt.errorbar(np.arange(1,8),older_younger.mean(1),yerr=[older_younger_sem,older_younger_sem], color=[0.2, 0.2, 0.6], ecolor=[0.2, 0.2, 0.6],label='older vs. younger kids ')\n",
    "\n",
    "\n",
    "plt.xlabel('model layer')\n",
    "plt.ylabel('between-cohort similarity')\n",
    "# plt.legend()\n",
    "plt.savefig('./plots/btw_cohort_similarity_noiseceiling.pdf')"
   ]
  },
  {
   "cell_type": "code",
   "execution_count": 121,
   "metadata": {},
   "outputs": [
    {
     "data": {
      "text/plain": [
       "array([ 0.39185093,  0.4725315 ,  0.45816176,  0.59760277,  0.63195731,\n",
       "        0.61747263,  0.63991577])"
      ]
     },
     "execution_count": 121,
     "metadata": {},
     "output_type": "execute_result"
    }
   ],
   "source": [
    "older_micro_adult.mean(1)"
   ]
  },
  {
   "cell_type": "code",
   "execution_count": 122,
   "metadata": {
    "collapsed": true
   },
   "outputs": [],
   "source": [
    "## save out cohort similarity csv for plotting in R\n",
    "df = pd.DataFrame({\n",
    "    'CorrYoungAdult':  younger_micro_adult.mean(1),\n",
    "    'SEMYoungAdult':younger_micro_adult_sem,\n",
    "    'CorrOldAdult':  older_micro_adult.mean(1),\n",
    "    'SEMOldAdult':  older_micro_adult_sem,\n",
    "    'CorrAdultAdult':  noisy_micro.mean(1),\n",
    "    'SEMAdultAdult':  noisy_micro_sem,\n",
    "})\n",
    "df.to_csv('./outputs-cogsci/CohortSimilarity_VGG19_27x27.csv') "
   ]
  },
  {
   "cell_type": "code",
   "execution_count": null,
   "metadata": {
    "collapsed": true
   },
   "outputs": [],
   "source": [
    "plt.matshow(NARDM_1[:,:,1])\n",
    "plt.colorbar()\n",
    "\n",
    "plt.matshow(ARDM_1[:,:,1])\n",
    "plt.colorbar()\n",
    "\n",
    "plt.matshow(YRDM_1[:,:,1])\n",
    "plt.colorbar()\n",
    "\n",
    "plt.matshow(ORDM_1[:,:,1])\n",
    "plt.colorbar()"
   ]
  }
 ],
 "metadata": {
  "kernelspec": {
   "display_name": "Python 2",
   "language": "python",
   "name": "python2"
  },
  "language_info": {
   "codemirror_mode": {
    "name": "ipython",
    "version": 2
   },
   "file_extension": ".py",
   "mimetype": "text/x-python",
   "name": "python",
   "nbconvert_exporter": "python",
   "pygments_lexer": "ipython2",
   "version": "2.7.12"
  }
 },
 "nbformat": 4,
 "nbformat_minor": 1
}
