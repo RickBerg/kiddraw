{
 "cells": [
  {
   "cell_type": "markdown",
   "metadata": {},
   "source": [
    "### Load required libraries"
   ]
  },
  {
   "cell_type": "code",
   "execution_count": null,
   "metadata": {
    "collapsed": true
   },
   "outputs": [],
   "source": []
  },
  {
   "cell_type": "code",
   "execution_count": 2,
   "metadata": {
    "collapsed": true
   },
   "outputs": [],
   "source": [
    "import os\n",
    "import urllib, cStringIO\n",
    "\n",
    "import pymongo as pm\n",
    "\n",
    "import matplotlib\n",
    "from matplotlib import pylab, mlab, pyplot\n",
    "%matplotlib inline\n",
    "from IPython.core.pylabtools import figsize, getfigs\n",
    "plt = pyplot\n",
    "import seaborn as sns\n",
    "sns.set_context('poster')\n",
    "sns.set_style('white')\n",
    "\n",
    "import numpy as np\n",
    "from __future__ import division\n",
    "import scipy.stats as stats\n",
    "\n",
    "import pandas as pd\n",
    "import json\n",
    "import re\n",
    "\n",
    "from PIL import Image\n",
    "import base64\n",
    "\n",
    "import seaborn as sns\n",
    "from glob import glob\n",
    "\n",
    "from scipy.spatial import distance"
   ]
  },
  {
   "cell_type": "markdown",
   "metadata": {},
   "source": [
    "### Load VGG feature analysis libraries and scripts"
   ]
  },
  {
   "cell_type": "code",
   "execution_count": 1,
   "metadata": {
    "collapsed": true
   },
   "outputs": [],
   "source": [
    "import torch\n",
    "import torchvision.models as models\n",
    "import torch.nn as nn\n",
    "import torchvision.transforms as transforms\n",
    "import torch.nn.functional as F\n",
    "from torch.autograd import Variable\n",
    "\n",
    "import scipy.stats as stats\n",
    "from scipy.stats import norm\n",
    "# import sklearn\n",
    "# from sklearn.model_selection import train_test_split, cross_val_score\n",
    "# from sklearn import svm\n",
    "# from sklearn import linear_model, datasets, neighbors\n",
    "\n",
    "from sklearn.cluster import AffinityPropagation\n",
    "# from sklearn import metrics\n",
    "\n",
    "from glob import glob\n",
    "import os\n",
    "\n",
    "import embedding as emb\n",
    "reload(emb)\n",
    "from embedding import *"
   ]
  },
  {
   "cell_type": "code",
   "execution_count": 3,
   "metadata": {},
   "outputs": [
    {
     "name": "stdout",
     "output_type": "stream",
     "text": [
      "Number of sketch paths = 8037 before filtering\n"
     ]
    }
   ],
   "source": [
    "# Retrieve sketch paths -- pngs rendered out in another step\n",
    "def list_files(path, ext='png'):\n",
    "    result = [y for x in os.walk(path) for y in glob(os.path.join(x[0], '*.%s' % ext))]\n",
    "    return result\n",
    "\n",
    "# extract metadata\n",
    "path_to_sketches = 'srcd-features/museumstation_sketches'\n",
    "sketch_paths = sorted(list_files(path_to_sketches))\n",
    "\n",
    "## number of sketch paths \n",
    "print 'Number of sketch paths = {} before filtering'.format(len(sketch_paths))\n",
    "png_sketch_count = len(sketch_paths)\n",
    "\n"
   ]
  },
  {
   "cell_type": "markdown",
   "metadata": {},
   "source": [
    "## extract features"
   ]
  },
  {
   "cell_type": "markdown",
   "metadata": {},
   "source": [
    "**Dec 28 2017 (updated Jan 14 2018):** <br>\n",
    " - From command line, extract features using `extract_features.py`. The default arguments are for the kid's drawings. <br>"
   ]
  },
  {
   "cell_type": "code",
   "execution_count": 4,
   "metadata": {
    "collapsed": true
   },
   "outputs": [],
   "source": [
    "# z-score normalization to \"center\" the sketch embeddings\n",
    "def normalize(X):\n",
    "    X = X - X.mean(0)\n",
    "    X = X / np.maximum(X.std(0), 1e-5)\n",
    "    return X\n",
    "\n",
    "def get_class_means(X, labels):    \n",
    "    # load in and normalizes features first\n",
    "    _mu = np.zeros((len(np.unique(labels)), np.shape(X)[1]))        \n",
    "    X = normalize(X)\n",
    "    for vi, v in enumerate(np.unique(np.asarray(labels))):\n",
    "        Xv = X[labels == v]\n",
    "        nv = float(Xv.shape[0])\n",
    "        if nv > 0:\n",
    "            _mu[vi] = Xv.mean(0)\n",
    "    return _mu\n",
    "\n",
    "def get_class_means_not_normalized(X, labels):    \n",
    "    _mu = np.zeros((len(np.unique(labels)), np.shape(X)[1]))        \n",
    "    for vi, v in enumerate(np.unique(np.asarray(labels))):\n",
    "        Xv = X[labels == v]\n",
    "        nv = float(Xv.shape[0])\n",
    "        if nv > 0:\n",
    "            _mu[vi] = Xv.mean(0)\n",
    "    return _mu\n",
    "\n",
    "def normalize_RDM(MAT):\n",
    "    X = MAT - MAT.mean(0).mean(0)\n",
    "    X = X / np.maximum(MAT.std(0).std(0), 1e-5)\n",
    "    return X\n",
    "\n",
    "def plot_rdm_by_class(Features,X,layer_num):\n",
    "    layers = ['P1','P2','P3','P4','P5','FC6','FC7']        \n",
    "    sns.set_style('white')\n",
    "    fig = plt.figure(figsize=(6,6))\n",
    "    labels = X.label.values\n",
    "    means = get_class_means(Features, labels)\n",
    "    CORRMAT = np.corrcoef(means)\n",
    "    plt.matshow(CORRMAT)\n",
    "    plt.colorbar()\n",
    "    if not os.path.exists('./plots'):\n",
    "        os.makedirs('./plots')\n",
    "    plt.savefig('./plots/RDM_by_view_{}.pdf'.format(layers[layer_num]))\n",
    "    \n",
    "def load_features(cohort, layer_num):\n",
    "    layers = ['P1','P2','P3','P4','P5','FC6','FC7']    \n",
    "    F = np.load('srcd-features/museumstation_features/FEATURES_{}_{}_Spatial_True.npy'.format(layers[layer_num],cohort))\n",
    "    M = pd.read_csv('srcd-features/museumstation_features/METADATA_{}.csv'.format(cohort)) \n",
    "    M = M[['label','age','session']]\n",
    "    return F, M\n",
    "\n",
    "def remove_practice_trials(KF,KM):\n",
    "    '''\n",
    "    remove \"circle\" and \"triangle\" trials from dataset\n",
    "    '''\n",
    "    practice_objects = ['circle','triangle']\n",
    "    _KF = KF[~KM['label'].isin(practice_objects),:]\n",
    "    _KM = KM[~KM['label'].isin(practice_objects)]\n",
    "    return _KF, _KM\n",
    "\n",
    "def flatten(x):\n",
    "    return [item for sublist in x for item in sublist]\n"
   ]
  },
  {
   "cell_type": "code",
   "execution_count": 5,
   "metadata": {},
   "outputs": [
    {
     "name": "stdout",
     "output_type": "stream",
     "text": [
      "Number of unique kids who contributed drawings = 1447\n",
      "Number of features for 7326 images in layer 6 = 4096\n",
      "Number of excluded drawings = 711\n"
     ]
    }
   ],
   "source": [
    "## CHOOSE LAYER IND FOR PLOTTING RDMS ETC\n",
    "layer_ind = 6\n",
    "\n",
    "## load in kid features\n",
    "KF, KM = load_features('kid',layer_ind)\n",
    "KF, KM = remove_practice_trials(KF, KM)\n",
    "KM = KM.reset_index(drop=True)\n",
    "\n",
    "print 'Number of unique kids who contributed drawings = {}'.format(np.size(np.unique(KM['session'].values)))\n",
    "print 'Number of features for {} images in layer {} = {}'.format(np.shape(KF)[0], layer_ind, np.shape(KF)[1])\n",
    "feature_sketch_count = np.shape(KF)[0]\n",
    "\n",
    "excluded_drawing_number = png_sketch_count - feature_sketch_count\n",
    "print 'Number of excluded drawings = {}'.format(excluded_drawing_number)\n"
   ]
  },
  {
   "cell_type": "code",
   "execution_count": 12,
   "metadata": {},
   "outputs": [
    {
     "data": {
      "text/plain": [
       "Int64Index([508, 509, 510, 511, 512, 513, 514, 515, 516, 517, 518, 519, 520,\n",
       "            521, 522, 523, 524, 525, 526, 527, 528, 529, 530, 531, 532, 533,\n",
       "            534, 535, 536, 537, 538, 539, 540, 541, 542, 543, 544, 545, 546,\n",
       "            547, 548, 549, 550, 551, 552, 553, 554, 555, 556, 557],\n",
       "           dtype='int64')"
      ]
     },
     "execution_count": 12,
     "metadata": {},
     "output_type": "execute_result"
    }
   ],
   "source": [
    " KM.index[KM['age'] == age] &  KM.index[KM['label'] == \"a bird\"]"
   ]
  },
  {
   "cell_type": "code",
   "execution_count": 14,
   "metadata": {},
   "outputs": [
    {
     "name": "stdout",
     "output_type": "stream",
     "text": [
      "We have 38 2-year olds who contributed 38 drawings of a dog\n",
      "We have 74 3-year olds who contributed 74 drawings of a dog\n",
      "We have 59 4-year olds who contributed 59 drawings of a dog\n",
      "We have 61 5-year olds who contributed 61 drawings of a dog\n",
      "We have 38 6-year olds who contributed 38 drawings of a dog\n",
      "We have 35 7-year olds who contributed 35 drawings of a dog\n",
      "We have 32 8-year olds who contributed 32 drawings of a dog\n",
      "We have 21 9-year olds who contributed 21 drawings of a dog\n",
      "We have 24 10-year olds who contributed 24 drawings of a dog\n",
      "We have 42 2-year olds who contributed 42 drawings of a fish\n",
      "We have 81 3-year olds who contributed 81 drawings of a fish\n",
      "We have 59 4-year olds who contributed 59 drawings of a fish\n",
      "We have 66 5-year olds who contributed 66 drawings of a fish\n",
      "We have 49 6-year olds who contributed 49 drawings of a fish\n",
      "We have 39 7-year olds who contributed 39 drawings of a fish\n",
      "We have 32 8-year olds who contributed 32 drawings of a fish\n",
      "We have 26 9-year olds who contributed 26 drawings of a fish\n",
      "We have 24 10-year olds who contributed 24 drawings of a fish\n",
      "We have 50 2-year olds who contributed 50 drawings of a bird\n",
      "We have 83 3-year olds who contributed 83 drawings of a bird\n",
      "We have 63 4-year olds who contributed 63 drawings of a bird\n",
      "We have 77 5-year olds who contributed 77 drawings of a bird\n",
      "We have 70 6-year olds who contributed 70 drawings of a bird\n",
      "We have 47 7-year olds who contributed 47 drawings of a bird\n",
      "We have 37 8-year olds who contributed 37 drawings of a bird\n",
      "We have 29 9-year olds who contributed 29 drawings of a bird\n",
      "We have 47 10-year olds who contributed 47 drawings of a bird\n",
      "We have 46 2-year olds who contributed 46 drawings of a rabbit\n",
      "We have 79 3-year olds who contributed 79 drawings of a rabbit\n",
      "We have 69 4-year olds who contributed 69 drawings of a rabbit\n",
      "We have 74 5-year olds who contributed 74 drawings of a rabbit\n",
      "We have 69 6-year olds who contributed 69 drawings of a rabbit\n",
      "We have 46 7-year olds who contributed 46 drawings of a rabbit\n",
      "We have 36 8-year olds who contributed 36 drawings of a rabbit\n",
      "We have 25 9-year olds who contributed 25 drawings of a rabbit\n",
      "We have 47 10-year olds who contributed 47 drawings of a rabbit\n"
     ]
    }
   ],
   "source": [
    "category_list = ['a dog','a fish','a bird','a rabbit']\n",
    "for cat in category_list:\n",
    "    for age in range(2,11):\n",
    "        ind = KM.index[KM['age'] == age]  &  KM.index[KM['label'] == cat] \n",
    "        KM_subset =  KM.loc[ind]\n",
    "        KF_subset =  KF[ind.tolist()]\n",
    "        print 'We have {} {}-year olds who contributed {} drawings of {}'.format(np.shape(np.unique(KM_subset['session']))[0],age, np.shape(KM_subset)[0],cat)"
   ]
  },
  {
   "cell_type": "code",
   "execution_count": null,
   "metadata": {
    "collapsed": true
   },
   "outputs": [],
   "source": [
    "for age in range(2,11):\n",
    "    ind = KM.index[KM['age'] == age]\n",
    "    KM_subset =  KM.loc[ind]\n",
    "    KF_subset =  KF[ind.tolist()]\n",
    "    print 'We have {} {}-year olds who contributed {} drawings'.format(np.shape(np.unique(KM_subset['session']))[0],age, np.shape(KM_subset)[0])"
   ]
  },
  {
   "cell_type": "markdown",
   "metadata": {
    "collapsed": true
   },
   "source": [
    "### Define subfunctions relevant for calculating RDMs and dprime metrics"
   ]
  },
  {
   "cell_type": "code",
   "execution_count": null,
   "metadata": {
    "collapsed": true
   },
   "outputs": [],
   "source": [
    "# Gets mean of each class (e.g., category) in a feature space\n",
    "def get_class_means_bl(F, M):  # just adapted to take in features and metadata directly  \n",
    "    X = F;\n",
    "    labels = M.label.values\n",
    "    _mu = np.zeros((len(np.unique(labels)), np.shape(X)[1]))        \n",
    "    for vi, v in enumerate(np.unique(np.asarray(labels))):\n",
    "        Xv = X[labels == v]\n",
    "        nv = float(Xv.shape[0])\n",
    "        if nv > 0:\n",
    "            _mu[vi] = Xv.mean(0)\n",
    "    return _mu\n",
    "\n",
    "# Gets \"std\" of each class (e.g., category) in a feature space\n",
    "def get_class_std(F,M,this_label):    \n",
    "    class_features = F[M.label.values==this_label]\n",
    "    class_mean = class_features.mean(0); # mean ovver rows, i.e. images\n",
    "    num_images = np.shape(class_features)[0] # number of images for this class in this set\n",
    "    # open variables\n",
    "    _dist = np.zeros(num_images)   \n",
    "    _dist_sq = np.zeros(num_images) \n",
    "    # for each image, get distance to category mean and square it\n",
    "    for vi in range(num_images): \n",
    "        _dist[vi] = distance.euclidean(class_features[vi],class_mean) ## get euclidean distance to mean\n",
    "        _dist_sq[vi] = _dist[vi]**2 # square each distance\n",
    "    dist_sum = sum(_dist_sq) / num_images; # sum these distances and divide by the number of IMAGES\n",
    "    return np.sqrt(dist_sum) #  get square root to make it a std (RMSE)\n",
    "\n",
    "def get_class_distances(F,M,this_label):    \n",
    "    class_features = F[M.label.values==this_label]\n",
    "    class_mean = class_features.mean(0); # mean ovver rows, i.e. images\n",
    "    num_images = np.shape(class_features)[0] # number of images for this class in this set\n",
    "    # open variables\n",
    "    _dist = np.zeros(num_images)   \n",
    "    _dist_sq = np.zeros(num_images) \n",
    "    # for each image, get distance to category mean and square it\n",
    "    for vi in range(num_images): \n",
    "        _dist[vi] = distance.euclidean(class_features[vi],class_mean) ## get euclidean distance to mean\n",
    "        _dist_sq[vi] = _dist[vi]**2 # square each distance\n",
    "    return (_dist_sq) # should be numImages x their squared deviations\n",
    "\n",
    "# Use mean and std to compute a higher-dimensional d-prime matrix\n",
    "def get_class_dprime(class_std, class_means,ordered_objs):\n",
    "    d_prime = np.zeros((len(np.unique(ordered_objs)), len(np.unique(ordered_objs)))); # n-class x n-class matrix      \n",
    "    for i, v in enumerate(ordered_objs): # go through each list of classes\n",
    "        for i2, v2 in enumerate(ordered_objs): # and each pair of classes\n",
    "            if i==i2: # if we're in the diagonal\n",
    "                d_prime[i,i2] = 0; # give dummy value when looking at same category, 0 = the same category\n",
    "            else:\n",
    "                sd1=class_std[i]; sd2=class_std[i2]; # grab class variance for each pair of categories\n",
    "                m1=class_means[i];  m2=class_means[i2]; # grab class means for each pair of categories\n",
    "                num = distance.euclidean(m1,m2) # distance between two mean vectors\n",
    "                denom = np.sqrt(.5*(sd1**2+sd2**2)); # calculate denominator \n",
    "                d=num/denom;\n",
    "                d_prime[i,i2] = d;  # fill in matrix\n",
    "    return d_prime;\n",
    "\n",
    "def get_class_rmse_only(class_std, class_means,ordered_objs):\n",
    "    rmse = np.zeros((len(np.unique(ordered_objs)), len(np.unique(ordered_objs)))); # n-class x n-class matrix      \n",
    "    for i, v in enumerate(ordered_objs): # go through each list of classes\n",
    "        for i2, v2 in enumerate(ordered_objs): # and each pair of classes\n",
    "            if i==i2: # if we're in the diagonal\n",
    "                rmse[i,i2] = 0; # give dummy value when looking at same category, 0 = the same category\n",
    "            else:\n",
    "                sd1=class_std[i]; sd2=class_std[i2]; # grab class variance for each pair of categories\n",
    "                m1=class_means[i];  m2=class_means[i2]; # grab class means for each pair of categories\n",
    "                num = distance.euclidean(m1,m2) # distance between two mean vectors\n",
    "                denom = np.sqrt(.5*(sd1**2+sd2**2)); # calculate denominator of dprime -- rmse\n",
    "                rmse[i,i2] = denom;\n",
    "    return rmse; \n",
    "\n",
    "def get_class_mdm(F,M,this_label):    \n",
    "    class_features = F[M.label.values==this_label]\n",
    "    class_median = np.median(class_features, axis=0) # MEDIAN ovver rows, i.e. images\n",
    "    num_images = np.shape(class_features)[0] # number of images for this class in this set\n",
    "    # open variables\n",
    "    _dist = np.zeros(num_images)   \n",
    "    _dist_sq = np.zeros(num_images) \n",
    "    # for each image, get distance to category mean and square it\n",
    "    for vi in range(num_images): \n",
    "        _dist[vi] = distance.euclidean(class_features[vi],class_median) ## get euclidean distance to mean\n",
    "        _dist_sq[vi] = _dist[vi]**2 # square each distance\n",
    "    _dist_median = np.median(_dist_sq)\n",
    "    return np.sqrt(_dist_median) #  get std?\n",
    "\n",
    "\n",
    "def get_two_class_discrim(F,M,target_class,confusion_class):    \n",
    "    target_class_features = F[M.label.values==target_class]\n",
    "    target_class_mean = np.median(target_class_features, axis=0); # MEDIAN ovver rows, i.e. images\n",
    "    num_target_images=np.shape(target_class_features)[0];\n",
    "    \n",
    "    conf_class_features = F[M.label.values==confusion_class]\n",
    "    conf_class_mean = np.median(conf_class_features, axis=0); # MEDIAN ovver rows, i.e. images\n",
    "    \n",
    "    # open variables\n",
    "    dist_target = np.zeros(num_target_images)   \n",
    "    dist_conf = np.zeros(num_target_images) \n",
    "    discrim_target_conf = np.zeros(num_target_images)\n",
    "    \n",
    "    # for each image, get distance to category mean and to distractor mean\n",
    "    for vi in range(num_target_images): \n",
    "        dist_target[vi] = distance.euclidean(target_class_features[vi],target_class_mean) ## get euclidean distance to mean\n",
    "        dist_conf[vi] = distance.euclidean(target_class_features[vi],conf_class_mean) ## get euclidean distance to conf mean\n",
    "        discrim_target_conf[vi]=dist_conf[vi]-dist_target[vi] ## subtract -- higher values: more discrim\n",
    "    return np.mean(discrim_target_conf)\n",
    "\n",
    "def show_confMatrix(confMatrix,ordered_objs,age):\n",
    "    sns.set_context('paper')\n",
    "    fig = plt.figure(figsize=(40,40))\n",
    "    plt.matshow(confMatrix, vmin=-2, vmax=10) # maximum pairwise value in data?\n",
    "    plt.xticks(range(len(ordered_objs)), ordered_objs, rotation=90,fontsize = 12);\n",
    "    plt.yticks(range(len(ordered_objs)), ordered_objs,fontsize = 12); \n",
    "    plt.colorbar()\n",
    "    for tick in pylab.gca().xaxis.iter_ticks():\n",
    "        tick[0].label2On = True\n",
    "        tick[0].label1On = False\n",
    "        tick[0].label2.set_rotation('vertical')\n",
    "        tick[0].tick1On = False\n",
    "        tick[0].tick2On = False\n",
    "    for tick in pylab.gca().yaxis.iter_ticks():\n",
    "        tick[0].tick1On = False\n",
    "        tick[0].tick2On = False \n",
    "    plt.savefig('./plots/RMSE_{}_Layer_{}.pdf'.format(age, layer_ind), bbox_inches=\"tight\")"
   ]
  },
  {
   "cell_type": "code",
   "execution_count": null,
   "metadata": {
    "collapsed": true
   },
   "outputs": [],
   "source": []
  },
  {
   "cell_type": "code",
   "execution_count": null,
   "metadata": {},
   "outputs": [],
   "source": [
    "confMatrixbyAge = np.zeros([np.shape(ordered_objs)[0],np.shape(ordered_objs)[0],9])\n",
    "for age in (2,3,4,5,6,7,8,9,10):\n",
    "    agei=age-2\n",
    "    ind = KM.index[KM['age'] == age]\n",
    "    KM_subset =  KM.loc[ind]\n",
    "    KF_subset =  KF[ind.tolist()]\n",
    "    plt.figure(age,figsize=(18,12))\n",
    "    \n",
    "    confMatrix = np.zeros([np.shape(ordered_objs)[0],np.shape(ordered_objs)[0]])\n",
    "    for t, target_label in enumerate(ordered_objs):\n",
    "        for c, conf_label in enumerate(ordered_objs):\n",
    "            confMatrix[t,c]=get_two_class_discrim(KF_subset,KM_subset,target_label,conf_label)  \n",
    "    \n",
    "    print np.mean(confMatrix[np.where(~np.eye(confMatrix.shape[0],dtype=bool))])\n",
    "    confMatrixbyAge[:,:,agei]=confMatrix\n"
   ]
  },
  {
   "cell_type": "code",
   "execution_count": null,
   "metadata": {},
   "outputs": [],
   "source": [
    "for age in (2,3,4,5,6,7,8,9,10):\n",
    "    print age\n",
    "    agei=age-2\n",
    "    show_confMatrix(confMatrixbyAge[:,:,agei],ordered_objs,age)"
   ]
  },
  {
   "cell_type": "code",
   "execution_count": null,
   "metadata": {
    "collapsed": true
   },
   "outputs": [],
   "source": []
  },
  {
   "cell_type": "code",
   "execution_count": null,
   "metadata": {},
   "outputs": [],
   "source": [
    "class_names = np.unique(KM.label.values)\n",
    "class_names"
   ]
  },
  {
   "cell_type": "code",
   "execution_count": null,
   "metadata": {
    "collapsed": true
   },
   "outputs": [],
   "source": [
    "# ## Look at distances each age group\n",
    "# # for age in (5,9):\n",
    "# #     print age\n",
    "# for age in (2,3,4,5,6,7,8,9,10):\n",
    "# # for age in (,10):\n",
    "#     ind = KM.index[KM['age'] == age]\n",
    "#     KM_subset =  KM.loc[ind]\n",
    "#     KF_subset =  KF[ind.tolist()]\n",
    "#     plt.figure(age,figsize=(18,12))\n",
    "\n",
    "#     _labels = np.unique(KM.label.values)\n",
    "#     for l, this_label in enumerate(_labels):\n",
    "#         these_distances = get_class_distances(KF_subset,KM_subset,this_label)\n",
    "#         these_distances.sort()\n",
    "        \n",
    "#         sns.distplot(these_distances, hist = False, kde = True,\n",
    "#              kde_kws = {'linewidth': 1,  'shade': False,},\n",
    "#              label = this_label)\n",
    "#         plt.legend(prop={'size': 12}, title = 'Category')\n",
    "# #         plt.ylim([0,np.max(these_distances)])\n",
    "        \n",
    "# #         plt.hist(these_distances)\n",
    "# #         plt.plot(np.log(these_distances))\n",
    "# #         plt.ylim([0,.001])\n",
    "# #         plt.title('age'+ ' '+ str(age))\n",
    "# #         plt.savefig('./plots/Class_distance_distribution_by_age_{}.pdf'.format(age), bbox_inches=\"tight\")\n",
    "\n",
    "\n"
   ]
  },
  {
   "cell_type": "code",
   "execution_count": null,
   "metadata": {
    "collapsed": true
   },
   "outputs": [],
   "source": []
  },
  {
   "cell_type": "markdown",
   "metadata": {},
   "source": [
    "### Try imagewise MDS"
   ]
  },
  {
   "cell_type": "code",
   "execution_count": null,
   "metadata": {
    "collapsed": true
   },
   "outputs": [],
   "source": [
    "## Import libaries\n",
    "from sklearn.metrics import pairwise\n",
    "from sklearn import manifold\n",
    "from sklearn.metrics import euclidean_distances\n",
    "from sklearn.decomposition import PCA\n",
    "seed = np.random.RandomState(seed=3)"
   ]
  },
  {
   "cell_type": "markdown",
   "metadata": {},
   "source": [
    "### Single class MDS at each age"
   ]
  },
  {
   "cell_type": "code",
   "execution_count": null,
   "metadata": {
    "collapsed": true
   },
   "outputs": [],
   "source": [
    "## Make an MDS plot of birds at each ages\n",
    "# for age in (2,3,4,5,6,7,8,9,10):\n",
    "#     ind = KM.index[KM['age'] == age]\n",
    "#     KM_subset =  KM.loc[ind]\n",
    "#     KF_subset =  KF[ind.tolist()]\n",
    "    \n",
    "#     class_features = KF_subset[KM_subset.label.values==\"a bird\"] \n",
    "#     imagewise_distances = pairwise.euclidean_distances(class_features)\n",
    "\n",
    "#     mds = manifold.MDS(n_components=2, max_iter=3000, eps=1e-9, random_state=seed,\n",
    "#                    dissimilarity=\"precomputed\", n_jobs=1)\n",
    "#     pos = mds.fit(imagewise_distances).embedding_\n",
    "\n",
    "#     plt.figure(age)\n",
    "#     s = 20 ## size of the dots\n",
    "#     plt.scatter(pos[:, 0], pos[:, 1], color='turquoise', s=s, lw=0, label='MDS')\n",
    "#     plt.title('age ' + str(age))"
   ]
  },
  {
   "cell_type": "markdown",
   "metadata": {},
   "source": [
    "### Look at multi-class MDS for each age"
   ]
  },
  {
   "cell_type": "code",
   "execution_count": null,
   "metadata": {},
   "outputs": [],
   "source": [
    "class_names"
   ]
  },
  {
   "cell_type": "code",
   "execution_count": null,
   "metadata": {},
   "outputs": [],
   "source": [
    "first_class='a person'\n",
    "second_class='a cup'\n",
    "third_class='a house'\n",
    "fig, axs = plt.subplots(3, 3, figsize=(9, 9), sharey=True, sharex=True)\n",
    "\n",
    "for agei, age in enumerate(range(2,11)):\n",
    "    ## Subset to the age and classes of interest\n",
    "    ind = KM.index[KM['age'] == age] & (KM.index[KM.label.values==first_class] | KM.index[KM.label.values==second_class] | KM.index[KM.label.values==third_class])\n",
    "    KM_subset =  KM.loc[ind]\n",
    "    KF_subset =  KF[ind.tolist()]\n",
    "    \n",
    "    plotColors = np.zeros([np.size(KM_subset.label),3])\n",
    "    for i,v in enumerate(np.asarray(KM_subset.label)):\n",
    "        if v==first_class:\n",
    "            plotColors[i]=[255,0,0]\n",
    "        elif v==second_class:\n",
    "            plotColors[i]=[0,0,255]\n",
    "        elif v==third_class:\n",
    "            plotColors[i]=[0,255,0]\n",
    "    \n",
    "    ## Compute distances on this subset\n",
    "    subset_distances = pairwise.euclidean_distances(KF_subset)\n",
    "    mds = manifold.MDS(n_components=2, max_iter=3000, eps=1e-9, random_state=seed,\n",
    "                       dissimilarity=\"precomputed\", n_jobs=1)\n",
    "    pos = mds.fit(subset_distances).embedding_\n",
    "    s = 10 ## size of the dots\n",
    "    ## sublot indexes, messy but OK for now\n",
    "    if agei<3: ## 0,1,2\n",
    "        plot_row=0\n",
    "        plot_col=agei\n",
    "    elif (agei>2) and (agei<6):\n",
    "        plot_row=1\n",
    "        plot_col=agei-3  \n",
    "    elif agei>5: # 6,7,8\n",
    "        plot_row=2\n",
    "        plot_col=agei-6\n",
    "    else:\n",
    "        error('badly specified plots')\n",
    "    \n",
    "    axs[plot_row,plot_col].scatter(pos[:, 0], pos[:, 1], c=plotColors/255.0, s=s, lw=0, label='MDS')\n",
    "#     axs[agei].title('age' + str(age) + \" \" + first_class + \" vs. \"+ second_class)\n",
    "    axs[plot_row,plot_col].set_xlim([-200,200])\n",
    "    axs[plot_row,plot_col].set_ylim([-200,200])\n",
    "    axs[plot_row,plot_col].set_title('age' + str(age))\n",
    "    \n",
    "plt.savefig('./plots-MDS/Distance_MDS_{}_{}_{}.pdf'.format(first_class,second_class,third_class), bbox_inches=\"tight\")\n"
   ]
  },
  {
   "cell_type": "code",
   "execution_count": null,
   "metadata": {},
   "outputs": [],
   "source": [
    "np.unique(KM_subset.age)[0]"
   ]
  },
  {
   "cell_type": "code",
   "execution_count": null,
   "metadata": {
    "collapsed": true
   },
   "outputs": [],
   "source": [
    "# class_features = KF[KM.label.values==this_item] \n",
    "# imagewise_distances = pairwise.euclidean_distances(class_features)\n",
    "\n",
    "# mds = manifold.MDS(n_components=2, max_iter=3000, eps=1e-9, random_state=seed,\n",
    "#                    dissimilarity=\"precomputed\", n_jobs=1)\n",
    "# pos = mds.fit(imagewise_distances).embedding_\n",
    "\n",
    "# plt.figure(age)\n",
    "# s = 20 ## size of the dots\n",
    "# plt.scatter(pos[:, 0], pos[:, 1], color='turquoise', s=s, lw=0, label='MDS')\n",
    "# plt.title('all ages' + this_item)"
   ]
  },
  {
   "cell_type": "markdown",
   "metadata": {},
   "source": [
    "### Look at which items are far vs. close to the center of a category"
   ]
  },
  {
   "cell_type": "code",
   "execution_count": null,
   "metadata": {
    "collapsed": true
   },
   "outputs": [],
   "source": [
    "## Get all squared distances in a given class \n",
    "avg_bird = np.where(bird_distances == np.min(bird_distances))\n",
    "weird_bird = np.where(bird_distances == np.max(bird_distances))\n",
    "M_bird = KM_subset[KM_subset.label.values=='a bird']"
   ]
  },
  {
   "cell_type": "code",
   "execution_count": null,
   "metadata": {},
   "outputs": [],
   "source": [
    "bird_distances.sort()\n",
    "plt.hist(bird_distances)"
   ]
  },
  {
   "cell_type": "code",
   "execution_count": null,
   "metadata": {},
   "outputs": [],
   "source": [
    "bird_distances[weird_bird]  == np.max(bird_distances)\n",
    "M_bird.session.values[weird_bird]"
   ]
  },
  {
   "cell_type": "code",
   "execution_count": null,
   "metadata": {},
   "outputs": [],
   "source": [
    "bird_distances.sort()\n",
    "this_bird = np.where(bird_distances == bird_distances[-22])\n",
    "M_bird.session.values[this_bird]"
   ]
  },
  {
   "cell_type": "code",
   "execution_count": null,
   "metadata": {},
   "outputs": [],
   "source": [
    "bird_distances.sort()\n",
    "this_bird = np.where(bird_distances == np.min(bird_distances))\n",
    "M_bird.session.values[this_bird]"
   ]
  },
  {
   "cell_type": "markdown",
   "metadata": {},
   "source": [
    "### Get sorting indexes for plotting dprimes and RDMs"
   ]
  },
  {
   "cell_type": "code",
   "execution_count": null,
   "metadata": {
    "collapsed": true
   },
   "outputs": [],
   "source": [
    "_labels = np.unique(KM.label.values)\n",
    "ordered_objs = ['an airplane', 'a bike', 'a car', 'a boat', 'a chair', 'a couch', 'a house', 'a cup', 'a bowl', 'a phone', 'a person', 'a bird', 'a dog', 'a fish', 'a rabbit', 'a tree']\n",
    "ordered_objs = np.asarray(ordered_objs)\n",
    "sort_inds = [np.where(_labels==ordered_objs[i])[0][0] for i in np.arange(len(ordered_objs))]"
   ]
  },
  {
   "cell_type": "markdown",
   "metadata": {},
   "source": [
    "### How consistent are category distance measures across age?"
   ]
  },
  {
   "cell_type": "code",
   "execution_count": null,
   "metadata": {
    "collapsed": true
   },
   "outputs": [],
   "source": [
    "# for age in range(2,11):\n",
    "#     ind = KM.index[KM['age'] == age]\n",
    "#     KM_subset =  KM.loc[ind]\n",
    "#     KF_subset =  KF[ind.tolist()]\n",
    "#     class_means = np.zeros(np.shape(class_list)[0])\n",
    "#     class_std = np.zeros(np.shape(class_list)[0]) \n",
    "#     #\n",
    "#     class_means = get_class_means_bl(KF_subset, KM_subset)\n",
    "#     ordered_means = class_means[sort_inds,:] # order these in same order!! \n",
    "\n",
    "#     agei = age-2\n",
    "#     for l, this_label in enumerate(ordered_objs): # goes through ordered list\n",
    "#         class_std[l] = get_class_std(KF_subset,KM_subset,this_label)"
   ]
  },
  {
   "cell_type": "markdown",
   "metadata": {},
   "source": [
    "### Calculate dprime in each age group"
   ]
  },
  {
   "cell_type": "code",
   "execution_count": null,
   "metadata": {},
   "outputs": [],
   "source": [
    "dprime_this_age = get_class_dprime(class_std, ordered_means, ordered_objs)\n",
    "np.shape(dprime_this_age)"
   ]
  },
  {
   "cell_type": "code",
   "execution_count": null,
   "metadata": {
    "collapsed": true
   },
   "outputs": [],
   "source": [
    "dim=16\n",
    "class_list = np.asarray(np.unique(KM.label.values))\n",
    "dprime_by_age = np.zeros([np.shape(class_list)[0], np.shape(class_list)[0], np.shape(range(2,11))[0]])\n",
    "rmse_by_age = np.zeros([np.shape(class_list)[0], np.shape(class_list)[0], np.shape(range(2,11))[0]])\n",
    "rmse_avg_by_age = np.zeros(np.shape(range(2,11)))\n",
    "rmse_std_by_age = np.zeros(np.shape(range(2,11)))\n",
    "dprime_avg_by_age = np.zeros(np.shape(range(2,11)))\n",
    "class_std_by_age = np.zeros([np.shape(class_list)[0],np.shape(range(2,11))[0]])\n",
    "\n",
    "for age in range(2,11):\n",
    "#     print age\n",
    "    ind = KM.index[KM['age'] == age]\n",
    "    KM_subset =  KM.loc[ind]\n",
    "    KF_subset =  KF[ind.tolist()]\n",
    "    class_means = np.zeros(np.shape(class_list)[0])\n",
    "    class_std = np.zeros(np.shape(class_list)[0]) \n",
    "    #\n",
    "    class_means = get_class_means_bl(KF_subset, KM_subset)\n",
    "    ordered_means = class_means[sort_inds,:] # order these in same order!! \n",
    "\n",
    "    agei = age-2\n",
    "    for l, this_label in enumerate(ordered_objs): # goes through ordered list\n",
    "        class_std[l] = get_class_mdm(KF_subset,KM_subset,this_label)\n",
    "    class_std_by_age[:,agei] = class_std\n",
    "    dprime_this_age = get_class_dprime(class_std, ordered_means, ordered_objs)\n",
    "    rmse_this_age = get_class_rmse_only(class_std,ordered_means, ordered_objs)\n",
    "    dprime_by_age[:,:,agei] = dprime_this_age\n",
    "    rmse_by_age[:,:,agei] = rmse_this_age\n",
    "    dprime_avg_by_age[agei] = np.mean(np.ravel(dprime_this_age[np.triu_indices(dim,k=1)]))\n",
    "    rmse_avg_by_age[agei] = np.mean(np.ravel(rmse_this_age[np.triu_indices(dim,k=1)]))\n",
    "    rmse_std_by_age[agei] = np.std(np.ravel(rmse_this_age[np.triu_indices(dim,k=1)]))\n"
   ]
  },
  {
   "cell_type": "code",
   "execution_count": null,
   "metadata": {},
   "outputs": [],
   "source": [
    "ordered_objs"
   ]
  },
  {
   "cell_type": "code",
   "execution_count": null,
   "metadata": {},
   "outputs": [],
   "source": [
    "for l, this_label in enumerate(ordered_objs):\n",
    "    matplotlib.pyplot.plot(np.arange(2,11),class_std_by_age[l,:])\n",
    "    np.std(class_std_by_age[l,:])\n",
    "    \n",
    "sns.color_palette(\"muted\")\n",
    "sns.set()\n",
    "## relative distances between categories -- correlation metric\n",
    "## absolute distances between categories -- nominator\n"
   ]
  },
  {
   "cell_type": "code",
   "execution_count": null,
   "metadata": {
    "collapsed": true
   },
   "outputs": [],
   "source": []
  },
  {
   "cell_type": "markdown",
   "metadata": {},
   "source": [
    "### Output average d-prime stats across category pairings"
   ]
  },
  {
   "cell_type": "code",
   "execution_count": null,
   "metadata": {},
   "outputs": [],
   "source": [
    "dim = 16\n",
    "for agei in range(0,9):\n",
    "    print 'average d prime of {} year old = {} '.format(agei+2, np.round(dprime_avg_by_age[agei],2))\n",
    "#     print 'max d prime of {} year old = {} '.format(agei+2,round(np.max(dprime_by_age[agei]),2))\n",
    "#     print ' {}-yrs, M={}'.format(agei+2, np.round(dprime_avg_by_age[agei],2))"
   ]
  },
  {
   "cell_type": "code",
   "execution_count": null,
   "metadata": {},
   "outputs": [],
   "source": [
    "dim = 16\n",
    "for agei in range(0,9):\n",
    "    print 'average rmse of {} year old = {} '.format(agei+2, np.round(rmse_avg_by_age[agei],2))\n",
    "#     print 'max d prime of {} year old = {} '.format(agei+2,round(np.max(dprime_by_age[agei]),2))\n",
    "#     print ' {}-yrs, M={}'.format(agei+2, np.round(dprime_avg_by_age[agei],2))\n",
    "\n",
    "dim = 16\n",
    "for agei in range(0,9):\n",
    "    print 'std rmse of {} year old = {} '.format(agei+2, np.round(rmse_std_by_age[agei],2))\n",
    "    \n"
   ]
  },
  {
   "cell_type": "markdown",
   "metadata": {},
   "source": [
    "### Quick plot of average dprime x age with std as errorbars "
   ]
  },
  {
   "cell_type": "code",
   "execution_count": null,
   "metadata": {
    "collapsed": true
   },
   "outputs": [],
   "source": [
    "# Quick plot of average dprime x age with std as \n",
    "# vals_to_avg = (dprime_by_age[np.triu_indices(dim,k=1)])\n",
    "# dprime_age_means = np.mean(vals_to_avg,0)\n",
    "# dprime_age_stds = np.std(vals_to_avg,0)\n",
    "# matplotlib.pyplot.errorbar(np.arange(2,11), dprime_age_means, yerr = dprime_age_stds )"
   ]
  },
  {
   "cell_type": "markdown",
   "metadata": {},
   "source": [
    "### Define a set of plotting functions for dprime/RDM"
   ]
  },
  {
   "cell_type": "code",
   "execution_count": null,
   "metadata": {
    "collapsed": true
   },
   "outputs": [],
   "source": [
    "def show_rmse(rmse,ordered_objs,age):\n",
    "    sns.set_context('paper')\n",
    "    fig = plt.figure(figsize=(40,40))\n",
    "    plt.matshow(rmse, vmin=0, vmax=100) # maximum pairwise value in data\n",
    "    plt.xticks(range(len(ordered_objs)), ordered_objs, rotation=90,fontsize = 12);\n",
    "    plt.yticks(range(len(ordered_objs)), ordered_objs,fontsize = 12); \n",
    "    plt.colorbar()\n",
    "    for tick in pylab.gca().xaxis.iter_ticks():\n",
    "        tick[0].label2On = True\n",
    "        tick[0].label1On = False\n",
    "        tick[0].label2.set_rotation('vertical')\n",
    "        tick[0].tick1On = False\n",
    "        tick[0].tick2On = False\n",
    "    for tick in pylab.gca().yaxis.iter_ticks():\n",
    "        tick[0].tick1On = False\n",
    "        tick[0].tick2On = False \n",
    "    plt.savefig('./plots/RMSE_{}_Layer_{}.pdf'.format(age, layer_ind), bbox_inches=\"tight\")\n",
    "\n",
    "def show_dprime(d_prime,ordered_objs,age):\n",
    "    sns.set_context('paper')\n",
    "    fig = plt.figure(figsize=(40,40))\n",
    "    plt.matshow(d_prime, vmin=0, vmax=.8) # maximum pairwise value in data\n",
    "    plt.xticks(range(len(ordered_objs)), ordered_objs, rotation=90,fontsize = 12);\n",
    "    plt.yticks(range(len(ordered_objs)), ordered_objs,fontsize = 12); \n",
    "    plt.colorbar()\n",
    "    for tick in pylab.gca().xaxis.iter_ticks():\n",
    "        tick[0].label2On = True\n",
    "        tick[0].label1On = False\n",
    "        tick[0].label2.set_rotation('vertical')\n",
    "        tick[0].tick1On = False\n",
    "        tick[0].tick2On = False\n",
    "    for tick in pylab.gca().yaxis.iter_ticks():\n",
    "        tick[0].tick1On = False\n",
    "        tick[0].tick2On = False \n",
    "    plt.savefig('./plots/Dprime_{}_Layer_{}.pdf'.format(age, layer_ind), bbox_inches=\"tight\")\n",
    "\n",
    "def showRDM(RDM,ordered_objs,age):\n",
    "    sns.set_context('paper')\n",
    "    fig = plt.figure(figsize=(30,30))\n",
    "    plt.matshow(RDM, vmin=0, vmax=2)\n",
    "    plt.xticks(range(len(ordered_objs)), ordered_objs, rotation=90);\n",
    "    plt.yticks(range(len(ordered_objs)), ordered_objs); \n",
    "    plt.colorbar()\n",
    "    for tick in pylab.gca().xaxis.iter_ticks():\n",
    "        tick[0].label2On = True\n",
    "        tick[0].label1On = False\n",
    "        tick[0].label2.set_rotation('vertical')\n",
    "        tick[0].tick1On = False\n",
    "        tick[0].tick2On = False\n",
    "    for tick in pylab.gca().yaxis.iter_ticks():\n",
    "        tick[0].tick1On = False\n",
    "        tick[0].tick2On = False  \n",
    "    plt.savefig('./plots/RDM_{}_Layer_{}.pdf'.format(age, layer_ind), bbox_inches=\"tight\")"
   ]
  },
  {
   "cell_type": "code",
   "execution_count": null,
   "metadata": {},
   "outputs": [],
   "source": [
    "np.max(rmse_by_age[:,:,0])"
   ]
  },
  {
   "cell_type": "code",
   "execution_count": null,
   "metadata": {},
   "outputs": [],
   "source": [
    "show_dprime(dprime_by_age[:,:,0],ordered_objs,'age2')\n",
    "show_rmse(rmse_by_age[:,:,0],ordered_objs,'age2')\n",
    "\n"
   ]
  },
  {
   "cell_type": "code",
   "execution_count": null,
   "metadata": {},
   "outputs": [],
   "source": [
    "show_dprime(dprime_by_age[:,:,1],ordered_objs,'age3')\n",
    "show_rmse(rmse_by_age[:,:,1],ordered_objs,'age3')"
   ]
  },
  {
   "cell_type": "code",
   "execution_count": null,
   "metadata": {},
   "outputs": [],
   "source": [
    "show_dprime(dprime_by_age[:,:,2],ordered_objs,'age4')\n",
    "show_rmse(rmse_by_age[:,:,2],ordered_objs,'age4')"
   ]
  },
  {
   "cell_type": "code",
   "execution_count": null,
   "metadata": {},
   "outputs": [],
   "source": [
    "show_dprime(dprime_by_age[:,:,3],ordered_objs,'age5')\n",
    "show_rmse(rmse_by_age[:,:,3],ordered_objs,'age5')"
   ]
  },
  {
   "cell_type": "code",
   "execution_count": null,
   "metadata": {},
   "outputs": [],
   "source": [
    "show_dprime(dprime_by_age[:,:,4],ordered_objs,'age6')\n",
    "show_rmse(rmse_by_age[:,:,4],ordered_objs,'age6')"
   ]
  },
  {
   "cell_type": "code",
   "execution_count": null,
   "metadata": {},
   "outputs": [],
   "source": [
    "show_dprime(dprime_by_age[:,:,5],ordered_objs,'age7')\n",
    "show_rmse(rmse_by_age[:,:,5],ordered_objs,'age7')"
   ]
  },
  {
   "cell_type": "code",
   "execution_count": null,
   "metadata": {},
   "outputs": [],
   "source": [
    "show_dprime(dprime_by_age[:,:,6],ordered_objs,'age8')\n",
    "show_rmse(rmse_by_age[:,:,6],ordered_objs,'age8')"
   ]
  },
  {
   "cell_type": "code",
   "execution_count": null,
   "metadata": {},
   "outputs": [],
   "source": [
    "show_dprime(dprime_by_age[:,:,7],ordered_objs,'age9')\n",
    "show_rmse(rmse_by_age[:,:,7],ordered_objs,'age9')"
   ]
  },
  {
   "cell_type": "code",
   "execution_count": null,
   "metadata": {},
   "outputs": [],
   "source": [
    "show_dprime(dprime_by_age[:,:,8],ordered_objs,'age10')\n",
    "show_rmse(rmse_by_age[:,:,8],ordered_objs,'age10')\n",
    "np.max(rmse_by_age[:,:,8])"
   ]
  },
  {
   "cell_type": "code",
   "execution_count": null,
   "metadata": {},
   "outputs": [],
   "source": [
    "rdm_by_age = np.zeros([np.shape(class_list)[0], np.shape(class_list)[0], np.shape(range(2,11))[0]])\n",
    "rdm_corr_age = np.zeros(np.shape(range(10,2,-1))[0])\n",
    "\n",
    "for age in range(10,1,-1):\n",
    "    agei = age-2\n",
    "    ind = KM.index[KM['age'] == age]\n",
    "    KM_subset =  KM.loc[ind]\n",
    "    KF_subset =  KF[ind.tolist()]\n",
    "\n",
    "    class_means = np.zeros(np.shape(class_list)[0])\n",
    "    class_means = get_class_means_bl(KF_subset, KM_subset)\n",
    "    ordered_means = class_means[sort_inds,:]\n",
    "    this_rdm = np.corrcoef(ordered_means)\n",
    "    this_rdm = 1 - this_rdm\n",
    "    if age==10:\n",
    "        oldest_rdm = this_rdm\n",
    "    else:\n",
    "        rdm_by_age[:,:,agei] = this_rdm\n",
    "        rdm_corr_age[agei] = stats.spearmanr(np.ravel(oldest_rdm[np.triu_indices(16,k=1)]),np.ravel(this_rdm[np.triu_indices(16,k=1)]))[0]\n",
    "        print 'rdm corr for age {} is {}'.format(age, rdm_corr_age[agei])"
   ]
  },
  {
   "cell_type": "code",
   "execution_count": null,
   "metadata": {},
   "outputs": [],
   "source": [
    "for age in range(2,10,1):\n",
    "    agei=age-2\n",
    "    print ' {}-yrs, r={}'.format(age, np.round(rdm_corr_age[agei],2))"
   ]
  },
  {
   "cell_type": "code",
   "execution_count": null,
   "metadata": {
    "collapsed": true
   },
   "outputs": [],
   "source": []
  },
  {
   "cell_type": "code",
   "execution_count": null,
   "metadata": {
    "collapsed": true
   },
   "outputs": [],
   "source": [
    "# colors = sns.color_palette(\"cubehelix\", 16) \n",
    "colors = sns.cubehelix_palette(16, start=.5, rot=-.75)\n",
    "colors = sns.color_palette(\"muted\",16)"
   ]
  },
  {
   "cell_type": "code",
   "execution_count": null,
   "metadata": {},
   "outputs": [],
   "source": [
    "fig, axs = plt.subplots(3, 3, figsize=(15, 15), sharey=True, sharex=True)\n",
    "s=20\n",
    "current_palette = sns.color_palette()\n",
    "\n",
    "\n",
    "for agei, age in enumerate(range(2,11)):\n",
    "    print agei\n",
    "    print age\n",
    "    this_rdm=rdm_by_age[:,:,agei]\n",
    "#     print np.shape(this_rdm)\n",
    "    \n",
    "    mds = manifold.MDS(n_components=2, max_iter=3000, eps=1e-9, random_state=seed,\n",
    "                       dissimilarity=\"precomputed\", n_jobs=1)\n",
    "    pos = mds.fit(this_rdm).embedding_\n",
    "\n",
    "    ## sublot indexes, messy but OK for now\n",
    "    if agei<3: ## 0,1,2\n",
    "        plot_row=0\n",
    "        plot_col=agei\n",
    "    elif (agei>2) and (agei<6):\n",
    "        plot_row=1\n",
    "        plot_col=agei-3  \n",
    "    elif agei>5: # 6,7,8\n",
    "        plot_row=2\n",
    "        plot_col=agei-6\n",
    "    else:\n",
    "        error('badly specified plots')\n",
    "\n",
    "    axs[plot_row,plot_col].scatter(pos[:, 0], pos[:, 1], c=colors, s=s, lw=0, label=ordered_objs)\n",
    "    for i, txt in enumerate(ordered_objs):\n",
    "        axs[plot_row,plot_col].annotate(txt, (pos[i,0], pos[i,1]))\n",
    "    \n",
    "#     sns.set_palette(sns.color_palette(\"cubehelix\", 16))\n",
    "#     axs[plot_row,plot_col].set_xlim([-200,200])\n",
    "#     axs[plot_row,plot_col].set_ylim([-200,200])\n",
    "    # axs[plot_row,plot_col].set_title('age' + str(age))    \n",
    "    # plt.savefig('./plots-MDS/Distance_MDS_{}_{}_{}.pdf'.format(first_class,second_class,third_class), bbox_inches=\"tight\")\n"
   ]
  },
  {
   "cell_type": "code",
   "execution_count": null,
   "metadata": {},
   "outputs": [],
   "source": [
    "showRDM(rdm_by_age[:,:,1],ordered_objs,'age3')"
   ]
  },
  {
   "cell_type": "code",
   "execution_count": null,
   "metadata": {},
   "outputs": [],
   "source": [
    "showRDM(rdm_by_age[:,:,2],ordered_objs,'age4')"
   ]
  },
  {
   "cell_type": "code",
   "execution_count": null,
   "metadata": {},
   "outputs": [],
   "source": [
    "showRDM(rdm_by_age[:,:,3],ordered_objs,'age5')\n"
   ]
  },
  {
   "cell_type": "code",
   "execution_count": null,
   "metadata": {},
   "outputs": [],
   "source": [
    "showRDM(rdm_by_age[:,:,4],ordered_objs,'age6')\n"
   ]
  },
  {
   "cell_type": "code",
   "execution_count": null,
   "metadata": {},
   "outputs": [],
   "source": [
    "showRDM(rdm_by_age[:,:,5],ordered_objs,'age7')\n"
   ]
  },
  {
   "cell_type": "code",
   "execution_count": null,
   "metadata": {},
   "outputs": [],
   "source": [
    "showRDM(rdm_by_age[:,:,6],ordered_objs,'age8')\n"
   ]
  },
  {
   "cell_type": "code",
   "execution_count": null,
   "metadata": {},
   "outputs": [],
   "source": [
    "showRDM(rdm_by_age[:,:,7],ordered_objs,'age9')"
   ]
  },
  {
   "cell_type": "code",
   "execution_count": null,
   "metadata": {
    "collapsed": true
   },
   "outputs": [],
   "source": []
  }
 ],
 "metadata": {
  "kernelspec": {
   "display_name": "Python 2",
   "language": "python",
   "name": "python2"
  },
  "language_info": {
   "codemirror_mode": {
    "name": "ipython",
    "version": 2
   },
   "file_extension": ".py",
   "mimetype": "text/x-python",
   "name": "python",
   "nbconvert_exporter": "python",
   "pygments_lexer": "ipython2",
   "version": "2.7.14"
  }
 },
 "nbformat": 4,
 "nbformat_minor": 1
}
