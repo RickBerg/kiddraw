{
 "cells": [
  {
   "cell_type": "code",
   "execution_count": 1,
   "metadata": {},
   "outputs": [],
   "source": [
    "from __future__ import division\n",
    "import os\n",
    "import urllib, cStringIO\n",
    "import pymongo as pm ## first establish ssh tunnel to server where database is running\n",
    "import base64\n",
    "import numpy as np\n",
    "from numpy import *\n",
    "import PIL\n",
    "from PIL import Image\n",
    "import base64\n",
    "import matplotlib\n",
    "%matplotlib inline\n",
    "from matplotlib import pylab, mlab, pyplot\n",
    "from IPython.core.pylabtools import figsize, getfigs\n",
    "plt = pyplot\n",
    "import seaborn as sns\n",
    "sns.set_context('poster')\n",
    "sns.set_style('white')\n",
    "from matplotlib.path import Path\n",
    "import matplotlib.patches as patches\n",
    "import cv2\n",
    "import pandas as pd\n",
    "from svgpathtools import parse_path\n",
    "import svg_distance_helpers as rsh"
   ]
  },
  {
   "cell_type": "markdown",
   "metadata": {},
   "source": [
    "#### directory and file hierarchy"
   ]
  },
  {
   "cell_type": "code",
   "execution_count": 19,
   "metadata": {},
   "outputs": [],
   "source": [
    "# directory & file hierarchy\n",
    "analysis_dir = os.getcwd()\n",
    "tracing_ref_pixel = os.path.join(analysis_dir, 'tracing_ref_pixel')\n",
    "tracing_ref_svg = os.path.join(analysis_dir, 'tracing_ref_svg')\n",
    "\n",
    "canvas_side = 819"
   ]
  },
  {
   "cell_type": "code",
   "execution_count": 23,
   "metadata": {},
   "outputs": [],
   "source": [
    "# set vars \n",
    "auth = pd.read_csv('auth.txt', header = None) # this auth.txt file contains the password for the sketchloop user\n",
    "pswd = auth.values[0][0]\n",
    "user = 'sketchloop'\n",
    "host = 'rxdhawkins.me' ## cocolab ip address\n",
    "\n",
    "# have to fix this to be able to analyze from local\n",
    "import pymongo as pm\n",
    "conn = pm.MongoClient('mongodb://sketchloop:' + pswd + '@127.0.0.1')\n",
    "db = conn['kiddraw']\n",
    "coll = db['cdm_run_v3']"
   ]
  },
  {
   "cell_type": "markdown",
   "metadata": {},
   "source": [
    "#### fetch an example tracing"
   ]
  },
  {
   "cell_type": "code",
   "execution_count": 24,
   "metadata": {},
   "outputs": [
    {
     "name": "stdout",
     "output_type": "stream",
     "text": [
      "1\n"
     ]
    }
   ],
   "source": [
    "imrecs = coll.find({'$and':[{'category':'square'},{'dataType':'finalImage'}, {'sessionId':'cdm_run_v31525894399483'}]}).sort('time')\n",
    "print imrecs.count()\n",
    "\n",
    "## retrieve example square tracing from db\n",
    "imrec = imrecs[0] "
   ]
  },
  {
   "cell_type": "code",
   "execution_count": 33,
   "metadata": {},
   "outputs": [
    {
     "name": "stdout",
     "output_type": "stream",
     "text": [
      "Number of strokes in this tracing: 3\n"
     ]
    }
   ],
   "source": [
    "## get list of vertices and codes for tracing \n",
    "try:\n",
    "    ## get the corresponding stroke records for this tracing\n",
    "    stroke_recs = coll.find({'$and': [{'sessionId':imrec['sessionId']}, \n",
    "                                      {'dataType':'stroke'},\n",
    "                                      {'trialNum': imrec['trialNum']}]}).sort('time')\n",
    "\n",
    "    print 'Number of strokes in this tracing: {}'.format(stroke_recs.count())    \n",
    "    \n",
    "    ## check to make sure that there is at least one stroke! \n",
    "    if stroke_recs.count()>0:\n",
    "\n",
    "        ## now make an svg list!\n",
    "        svg_list = rsh.make_svg_list(stroke_recs)\n",
    "\n",
    "        ## get verts and codes in all strokes\n",
    "        ## both verts_list and codes_list are 2D list. Each sublist represent a stroke\n",
    "        verts_list, codes_list = rsh.get_verts_and_codes(svg_list)\n",
    "        \n",
    "        ## Convert multiple strokes into one stroke\n",
    "        \n",
    "        \n",
    "except Exception as e:\n",
    "    print 'Oops, something went wrong! Here is the error:'  \n",
    "    print e\n",
    "    pass        "
   ]
  },
  {
   "cell_type": "markdown",
   "metadata": {},
   "source": [
    "#### preprocessing of tracing and visualization (if desired)\n"
   ]
  },
  {
   "cell_type": "code",
   "execution_count": 83,
   "metadata": {},
   "outputs": [
    {
     "data": {
      "image/png": "[encoded data removed]",
      "text/plain": [
       "<matplotlib.figure.Figure at 0x1c1a0cb150>"
      ]
     },
     "metadata": {},
     "output_type": "display_data"
    }
   ],
   "source": [
    "reallyRun = 1\n",
    "if reallyRun:\n",
    "    rsh.plot_shape(verts_list,codes_list, canvas_side)\n",
    "    "
   ]
  },
  {
   "cell_type": "code",
   "execution_count": 84,
   "metadata": {},
   "outputs": [],
   "source": [
    "## simplify tracing if it is a jungle of verts/horiz commands\n",
    "reallySimplify = 1\n",
    "\n",
    "if reallySimplify:\n",
    "    for index, verts in enumerate(verts_list):\n",
    "        _Verts,_Codes = rsh.simplify_verts_and_codes(verts,codes_list[index])\n",
    "        verts_list[index] = _Verts\n",
    "        codes_list[index] = _Codes\n"
   ]
  },
  {
   "cell_type": "code",
   "execution_count": 85,
   "metadata": {},
   "outputs": [
    {
     "data": {
      "image/png": "[encoded data removed]",
      "text/plain": [
       "<matplotlib.figure.Figure at 0x1c1b074bd0>"
      ]
     },
     "metadata": {},
     "output_type": "display_data"
    }
   ],
   "source": [
    "## examine tracing\n",
    "reallyRun = 1\n",
    "if reallyRun:\n",
    "    rsh.plot_shape(verts_list, codes_list, canvas_side)"
   ]
  },
  {
   "cell_type": "markdown",
   "metadata": {},
   "source": [
    "#### Get the reference shape and adjust it based on the canvas size"
   ]
  },
  {
   "cell_type": "code",
   "execution_count": 86,
   "metadata": {},
   "outputs": [
    {
     "name": "stdout",
     "output_type": "stream",
     "text": [
      "[[234, 234], [584, 234], [584, 584], [234, 584], [234, 234]]\n"
     ]
    }
   ],
   "source": [
    "## get vertices and codes for reference shape (in this example, a square)\n",
    "reload(rsh)\n",
    "square_file = os.path.join(tracing_ref_pixel, 'resize_square.png')\n",
    "ref_verts, ref_codes = rsh.get_ref_square(square_file, canvas_side)\n",
    "print ref_verts"
   ]
  },
  {
   "cell_type": "code",
   "execution_count": 87,
   "metadata": {},
   "outputs": [
    {
     "data": {
      "image/png": "[encoded data removed]",
      "text/plain": [
       "<matplotlib.figure.Figure at 0x1c1a409cd0>"
      ]
     },
     "metadata": {},
     "output_type": "display_data"
    }
   ],
   "source": [
    "## examine reference shape (in this example, a square)\n",
    "reallyRun = 1\n",
    "if reallyRun:\n",
    "    rsh.plot_stroke(ref_verts,ref_codes, canvas_side)"
   ]
  },
  {
   "cell_type": "markdown",
   "metadata": {},
   "source": [
    "#### Try different transformation on each stroke"
   ]
  },
  {
   "cell_type": "code",
   "execution_count": 92,
   "metadata": {},
   "outputs": [
    {
     "name": "stdout",
     "output_type": "stream",
     "text": [
      "dev 737.3905145161806\n",
      "err 737.3905145161806\n",
      "min_err 737.3905145161806\n",
      "dev 768.7565021855421\n",
      "err 768.7565021855421\n",
      "min_err 768.7565021855421\n",
      "dev 901.8024610707016\n",
      "err 901.8024610707016\n",
      "min_err 901.8024610707016\n"
     ]
    }
   ],
   "source": [
    "reload(rsh)\n",
    "tra_verts_list = []\n",
    "total_err = 0\n",
    "\n",
    "for verts in verts_list:\n",
    "    min_err, tra_verts = rsh.minimize_transformation_err(verts, ref_verts)\n",
    "    total_err += min_err\n",
    "    tra_verts_list.append(tra_verts)"
   ]
  },
  {
   "cell_type": "code",
   "execution_count": null,
   "metadata": {},
   "outputs": [],
   "source": [
    "reallyRun = 1\n",
    "if reallyRun:\n",
    "    rsh.plot_coregistered_shapes(ref_verts,ref_codes,tra_verts,tra_codes)"
   ]
  },
  {
   "cell_type": "markdown",
   "metadata": {},
   "source": [
    "##### test case for particular line segment AB on reference shape and point P on tracing (optional, sanity checks)"
   ]
  },
  {
   "cell_type": "code",
   "execution_count": 67,
   "metadata": {},
   "outputs": [],
   "source": [
    "run_tests = 0\n",
    "if run_tests:\n",
    "    ## toy case\n",
    "    A = np.array((0,0))\n",
    "    B = np.array((10,10))\n",
    "    P = np.array((20,5)) ## first point\n",
    "\n",
    "    ## get point C on A,B that minimizes distance from particular point on tracing to the line segment AB\n",
    "    C = rsh.get_closest_point_from_P_to_AB(A,B,P,verbose=False) \n",
    "    \n",
    "    ## example real case\n",
    "    a = ref_verts[0]\n",
    "    b = ref_verts[1]\n",
    "    p = tra_verts[1]\n",
    "    c,d = rsh.get_closest_point_from_P_to_AB(a,b,p,verbose=False) \n",
    "    print c,d    "
   ]
  },
  {
   "cell_type": "markdown",
   "metadata": {},
   "source": [
    "#### get \"corresponding points\" on the reference shape for each vertex in the tracing"
   ]
  },
  {
   "cell_type": "code",
   "execution_count": 68,
   "metadata": {},
   "outputs": [],
   "source": [
    "## cor_verts will be the same shape as the tra_verts, and lie on the reference shape\n",
    "## error will be computed as area between these two shapes\n",
    "cor_verts = np.zeros((np.shape(tra_verts)[0],2))\n",
    "for i,t in enumerate(tra_verts): ## loop through segments of the tracing\n",
    "    p = t ## endpoint of the current tracing segment\n",
    "    ## for a given point on the tracing, find the corresponding closest point on the reference shape\n",
    "    ref_gen = rsh.pairs(ref_verts)\n",
    "    D = 1e6 ## initialize at some crazy large value\n",
    "    for r in ref_gen:\n",
    "        a = r[0]\n",
    "        b = r[1]\n",
    "        c,d = rsh.get_closest_point_from_P_to_AB(a,b,p,verbose=False) \n",
    "        if d<D: ## if the shortest distance so far, then swap in for the value of D\n",
    "            D = d\n",
    "            C = c\n",
    "        else:\n",
    "            pass \n",
    "    cor_verts[i,:] = C ## assign the closest corresponding point to the \"corresponding vertices\" array"
   ]
  },
  {
   "cell_type": "code",
   "execution_count": 69,
   "metadata": {},
   "outputs": [
    {
     "data": {
      "image/png": "[encoded data removed]",
      "text/plain": [
       "<matplotlib.figure.Figure at 0x1a1af27250>"
      ]
     },
     "metadata": {},
     "output_type": "display_data"
    }
   ],
   "source": [
    "## test to make sure the corresponding points really lie on the reference shape\n",
    "reload(rsh)\n",
    "reallyRun = 1\n",
    "if reallyRun:\n",
    "    rsh.plot_corresponding_points_on_reference(tra_verts,tra_codes,ref_verts,ref_codes,cor_verts)"
   ]
  },
  {
   "cell_type": "markdown",
   "metadata": {},
   "source": [
    "#### actually get svg distance error now"
   ]
  },
  {
   "cell_type": "code",
   "execution_count": 70,
   "metadata": {},
   "outputs": [],
   "source": [
    "## iterate through each pair of line segments comprising the tracing verts\n",
    "## and corresponding verts, and increment error as area between the line\n",
    "## segments. \n",
    "## When line segments are non-intersecting and non-collinear, safe to use\n",
    "## general polygon area formula (add the trapezoid)\n",
    "## If line segments are parallel but not collinear, safe to use\n",
    "## general polygon area formula (add the trapezoid)\n",
    "## If line segments intersect, then add the resulting triangles\n",
    "## formed by the intersecting segments\n",
    "## If line segments are collinear, do not increment error, b/c perfectly on the line\n",
    "tracing_to_corresponding_error = rsh.get_area_between_tracing_and_corresponding_verts(tra_verts,cor_verts)\n",
    "\n",
    "## add to the above the deviation between the area of the reference\n",
    "## shape and the corresponding shape\n",
    "cor_area = rsh.get_area_polygon(cor_verts)\n",
    "ref_area = rsh.get_area_polygon(ref_verts)\n",
    "corresponding_to_reference_error = abs(abs(ref_area)-abs(cor_area))"
   ]
  },
  {
   "cell_type": "code",
   "execution_count": 71,
   "metadata": {},
   "outputs": [
    {
     "name": "stdout",
     "output_type": "stream",
     "text": [
      "SVG distance score = 430.230077949\n"
     ]
    }
   ],
   "source": [
    "## total error is sum of tracing_to_corresponding_error and corresponding_to_reference_error\n",
    "total_error = tracing_to_corresponding_error + tracing_to_corresponding_error\n",
    "\n",
    "svg_distance_score = np.sqrt(total_error)\n",
    "print 'SVG distance score = {}'.format(svg_distance_score)"
   ]
  },
  {
   "cell_type": "code",
   "execution_count": null,
   "metadata": {},
   "outputs": [],
   "source": []
  },
  {
   "cell_type": "code",
   "execution_count": null,
   "metadata": {},
   "outputs": [],
   "source": []
  },
  {
   "cell_type": "code",
   "execution_count": null,
   "metadata": {},
   "outputs": [],
   "source": []
  }
 ],
 "metadata": {
  "kernelspec": {
   "display_name": "Python 2",
   "language": "python",
   "name": "python2"
  },
  "language_info": {
   "codemirror_mode": {
    "name": "ipython",
    "version": 2
   },
   "file_extension": ".py",
   "mimetype": "text/x-python",
   "name": "python",
   "nbconvert_exporter": "python",
   "pygments_lexer": "ipython2",
   "version": "2.7.14"
  }
 },
 "nbformat": 4,
 "nbformat_minor": 1
}
