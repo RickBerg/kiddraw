{
 "cells": [
  {
   "cell_type": "code",
   "execution_count": 1,
   "metadata": {
    "collapsed": true
   },
   "outputs": [],
   "source": [
    "## this example adapted from a linear regression example at:\n",
    "## https://www.geeksforgeeks.org/linear-regression-using-pytorch/"
   ]
  },
  {
   "cell_type": "code",
   "execution_count": 2,
   "metadata": {
    "collapsed": true
   },
   "outputs": [],
   "source": [
    "import torch\n",
    "from torch.autograd import Variable"
   ]
  },
  {
   "cell_type": "code",
   "execution_count": 3,
   "metadata": {
    "collapsed": true
   },
   "outputs": [],
   "source": [
    "x_data = Variable(torch.Tensor([[0.0, 0.0], [1.0, 0.0], [2.0, 0.0]])) ## \"trace\"\n",
    "y_data = Variable(torch.Tensor([[0.0, 1.0], [1.0, 1.0], [2.0, 1.0]])) ## \"reference\""
   ]
  },
  {
   "cell_type": "code",
   "execution_count": 4,
   "metadata": {},
   "outputs": [
    {
     "data": {
      "text/plain": [
       "Variable containing:\n",
       " 0  0\n",
       " 1  0\n",
       " 2  0\n",
       "[torch.FloatTensor of size 3x2]"
      ]
     },
     "execution_count": 4,
     "metadata": {},
     "output_type": "execute_result"
    }
   ],
   "source": [
    "x_data"
   ]
  },
  {
   "cell_type": "code",
   "execution_count": 5,
   "metadata": {},
   "outputs": [
    {
     "data": {
      "text/plain": [
       "Variable containing:\n",
       " 0  1\n",
       " 1  1\n",
       " 2  1\n",
       "[torch.FloatTensor of size 3x2]"
      ]
     },
     "execution_count": 5,
     "metadata": {},
     "output_type": "execute_result"
    }
   ],
   "source": [
    "y_data"
   ]
  },
  {
   "cell_type": "code",
   "execution_count": 6,
   "metadata": {
    "collapsed": true
   },
   "outputs": [],
   "source": [
    "class LinearTransform(torch.nn.Module):\n",
    " \n",
    "    def __init__(self):\n",
    "        super(LinearTransform, self).__init__()\n",
    "        self.transform = torch.nn.Linear(2, 2, bias=True)  # two in and two out\n",
    " \n",
    "    def forward(self, x):\n",
    "        y_pred = self.transform(x)\n",
    "        return y_pred"
   ]
  },
  {
   "cell_type": "code",
   "execution_count": 7,
   "metadata": {
    "collapsed": true
   },
   "outputs": [],
   "source": [
    "# our model\n",
    "model = LinearTransform()"
   ]
  },
  {
   "cell_type": "code",
   "execution_count": 8,
   "metadata": {},
   "outputs": [],
   "source": [
    "# define a loss and optimizer\n",
    "\n",
    "## loss\n",
    "## TODO: this should perhaps be a different, to take into account the \n",
    "## \"cost\" of the transformation as measured by: (1) the \"area swept out by the stroke\n",
    "## upon being moved into place plus (2) the \"residual_area\" between the trace and reference\n",
    "criterion = torch.nn.MSELoss(size_average=True) \n",
    "\n",
    "## optimizier\n",
    "optimizer = torch.optim.SGD(model.parameters(), lr = 0.01)"
   ]
  },
  {
   "cell_type": "code",
   "execution_count": 9,
   "metadata": {},
   "outputs": [
    {
     "name": "stdout",
     "output_type": "stream",
     "text": [
      "epoch 0, loss 2.15526795387\n",
      "epoch 1000, loss 0.000698734715115\n",
      "epoch 2000, loss 2.60324418377e-06\n",
      "epoch 3000, loss 9.73721370201e-09\n",
      "epoch 4000, loss 4.51612636176e-11\n",
      "epoch 5000, loss 1.72377442181e-11\n",
      "epoch 6000, loss 1.72069233861e-11\n",
      "epoch 7000, loss 1.72058929604e-11\n",
      "epoch 8000, loss 1.72058929604e-11\n",
      "epoch 9000, loss 1.72058929604e-11\n"
     ]
    }
   ],
   "source": [
    "num_train_steps = 10000\n",
    "for i,epoch in enumerate(range(num_train_steps)):\n",
    " \n",
    "    # Forward pass: Compute predicted y by passing \n",
    "    # x to the model\n",
    "    pred_y = model(x_data)\n",
    " \n",
    "    # Compute and print loss\n",
    "    loss = criterion(pred_y, y_data)\n",
    " \n",
    "    # Zero gradients, perform a backward pass, \n",
    "    # and update the weights.\n",
    "    optimizer.zero_grad()\n",
    "    loss.backward()\n",
    "    optimizer.step()\n",
    "    \n",
    "    if i%1000==0:\n",
    "        print('epoch {}, loss {}'.format(epoch, loss.data[0]))\n"
   ]
  },
  {
   "cell_type": "code",
   "execution_count": 10,
   "metadata": {},
   "outputs": [
    {
     "data": {
      "text/plain": [
       "LinearTransform(\n",
       "  (transform): Linear(in_features=2, out_features=2, bias=True)\n",
       ")"
      ]
     },
     "execution_count": 10,
     "metadata": {},
     "output_type": "execute_result"
    }
   ],
   "source": [
    "## this will \"freeze\" the weights of the model so we can apply it\n",
    "model.eval()"
   ]
  },
  {
   "cell_type": "code",
   "execution_count": 11,
   "metadata": {},
   "outputs": [
    {
     "name": "stdout",
     "output_type": "stream",
     "text": [
      "weight matrix\n",
      "[[ 9.9999559e-01 -5.3012967e-02]\n",
      " [ 4.4102944e-06  6.4588648e-01]]\n",
      " \n",
      "bias matrix\n",
      "[4.4108119e-06 9.9999267e-01]\n"
     ]
    }
   ],
   "source": [
    "## uncomment the below to get the matrix in numpy form\n",
    "weight_matrix = model.transform.weight.data.numpy()\n",
    "print 'weight matrix'\n",
    "print weight_matrix\n",
    "print ' '\n",
    "bias_matrix = model.transform.bias.data.numpy()\n",
    "print 'bias matrix'\n",
    "print bias_matrix"
   ]
  },
  {
   "cell_type": "code",
   "execution_count": 14,
   "metadata": {},
   "outputs": [
    {
     "name": "stdout",
     "output_type": "stream",
     "text": [
      "('predict (after training)', \n",
      " 3.0000  1.0000\n",
      "[torch.FloatTensor of size 1x2]\n",
      ")\n"
     ]
    }
   ],
   "source": [
    "## does it handle a new point properly? (i.e., move it up by 1 unit along the y-axis?)\n",
    "new_var = Variable(torch.Tensor([[3.0,0.0]]))\n",
    "pred_y = model(new_var)\n",
    "print(\"predict (after training)\", model(new_var).data)"
   ]
  },
  {
   "cell_type": "code",
   "execution_count": null,
   "metadata": {},
   "outputs": [],
   "source": []
  },
  {
   "cell_type": "code",
   "execution_count": null,
   "metadata": {
    "collapsed": true
   },
   "outputs": [],
   "source": []
  }
 ],
 "metadata": {
  "kernelspec": {
   "display_name": "Python 2",
   "language": "python",
   "name": "python2"
  },
  "language_info": {
   "codemirror_mode": {
    "name": "ipython",
    "version": 2
   },
   "file_extension": ".py",
   "mimetype": "text/x-python",
   "name": "python",
   "nbconvert_exporter": "python",
   "pygments_lexer": "ipython2",
   "version": "2.7.12"
  }
 },
 "nbformat": 4,
 "nbformat_minor": 2
}
