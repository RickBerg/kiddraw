{
 "cells": [
  {
   "cell_type": "code",
   "execution_count": 1,
   "metadata": {},
   "outputs": [],
   "source": [
    "## remember to run conn_cocolab from the terminal before running cells in this notebook!\n",
    "from __future__ import division\n",
    "import os\n",
    "import urllib, cStringIO\n",
    "\n",
    "import pymongo as pm\n",
    "from PIL import Image\n",
    "import base64\n",
    "\n",
    "import numpy as np\n",
    "from numpy import *\n",
    "import os\n",
    "import PIL\n",
    "from PIL import Image\n",
    "import base64\n",
    "import matplotlib\n",
    "from matplotlib import pylab, mlab, pyplot\n",
    "%matplotlib inline\n",
    "from IPython.core.pylabtools import figsize, getfigs\n",
    "plt = pyplot\n",
    "import seaborn as sns\n",
    "sns.set_context('poster')\n",
    "sns.set_style('white')\n",
    "from matplotlib.path import Path\n",
    "import matplotlib.patches as patches\n",
    "\n",
    "\n",
    "import cStringIO\n",
    "import pandas as pd\n",
    "import pymongo as pm ## first establish ssh tunnel to server where database is running\n",
    "from matplotlib.path import Path\n",
    "import matplotlib.patches as patches\n",
    "from svgpathtools import parse_path"
   ]
  },
  {
   "cell_type": "code",
   "execution_count": 2,
   "metadata": {},
   "outputs": [],
   "source": [
    "# directory & file hierarchy\n",
    "exp_path = 'museumdraw'\n",
    "analysis_dir = os.getcwd()\n",
    "exp_dir = os.path.abspath(os.path.join(os.getcwd(),'../..','experiments'))\n",
    "##\n",
    "sketch_dir = os.path.join(analysis_dir,'sketches')\n",
    "if not os.path.exists(sketch_dir):\n",
    "    os.makedirs(sketch_dir)\n",
    "## dir where we can keep all sketches not binned by category    \n"
   ]
  },
  {
   "cell_type": "code",
   "execution_count": 3,
   "metadata": {},
   "outputs": [],
   "source": [
    "# set vars \n",
    "auth = pd.read_csv('auth.txt', header = None) # this auth.txt file contains the password for the sketchloop user\n",
    "pswd = auth.values[0][0]\n",
    "user = 'sketchloop'\n",
    "host = 'rxdhawkins.me' ## cocolab ip address\n",
    "\n",
    "# have to fix this to be able to analyze from local\n",
    "import pymongo as pm\n",
    "experiment_name = \"cdm_run_v3\"\n",
    "conn = pm.MongoClient('mongodb://sketchloop:' + pswd + '@127.0.0.1')\n",
    "db = conn['kiddraw']\n",
    "coll = db[experiment_name]\n"
   ]
  },
  {
   "cell_type": "code",
   "execution_count": 4,
   "metadata": {},
   "outputs": [
    {
     "name": "stdout",
     "output_type": "stream",
     "text": [
      "We currently have 819 valid sessions from cdm_run_v3.\n"
     ]
    }
   ],
   "source": [
    "# wave 1 of data collection (16 classes)\n",
    "time_threshold = 1510252452134 ## this is the timepoint after which real data started getting collected\n",
    "all_sessions = coll.distinct('sessionId') ## this returns ALL sessions in this collection. we will then filter on time_threshold\n",
    "valid_sessions = coll.find({'time':{'$gt': time_threshold}}).distinct('sessionId')\n",
    "practice_categories = ['square','shape','this circle']\n",
    "print 'We currently have {} valid sessions from {}.'.format(len(valid_sessions), experiment_name)"
   ]
  },
  {
   "cell_type": "code",
   "execution_count": null,
   "metadata": {},
   "outputs": [],
   "source": []
  },
  {
   "cell_type": "markdown",
   "metadata": {},
   "source": [
    "#### helper functions for svg rendering"
   ]
  },
  {
   "cell_type": "code",
   "execution_count": 5,
   "metadata": {},
   "outputs": [],
   "source": [
    "def polyline_pathmaker(lines):\n",
    "    x = []\n",
    "    y = []\n",
    "\n",
    "    codes = [Path.MOVETO] # start with moveto command always\n",
    "    for i,l in enumerate(lines):\n",
    "        for _i,_l in enumerate(l):\n",
    "            x.append(_l[0])\n",
    "            y.append(_l[1])\n",
    "            if _i<len(l)-1:\n",
    "                codes.append(Path.LINETO) # keep pen on page\n",
    "            else:\n",
    "                if i != len(lines)-1: # final vertex\n",
    "                    codes.append(Path.MOVETO)\n",
    "    verts = zip(x,y) \n",
    "    return verts, codes\n",
    "\n",
    "def path_renderer(verts, codes):\n",
    "    fig = plt.figure(figsize=(6,6))\n",
    "    ax = fig.add_subplot(111)\n",
    "    if len(verts)>0:\n",
    "        path = Path(verts, codes)\n",
    "        patch = patches.PathPatch(path, facecolor='none', lw=2)\n",
    "        ax.add_patch(patch)\n",
    "        ax.set_xlim(0,1638)\n",
    "        ax.set_ylim(0,1638) \n",
    "        ax.axis('off')\n",
    "        plt.gca().invert_yaxis() # y values increase as you go down in image\n",
    "        plt.show()\n",
    "    else:\n",
    "        ax.set_xlim(0,1638)\n",
    "        ax.set_ylim(0,1638)        \n",
    "        ax.axis('off')\n",
    "        plt.show()\n",
    "    plt.savefig()\n",
    "    plt.close()\n",
    "    \n",
    "def flatten(x):\n",
    "    return [val for sublist in x for val in sublist]"
   ]
  },
  {
   "cell_type": "code",
   "execution_count": 6,
   "metadata": {},
   "outputs": [],
   "source": [
    "def get_verts_and_codes(svg_list):\n",
    "    '''\n",
    "    parse into x,y coordinates and output list of lists of coordinates\n",
    "    \n",
    "    '''    \n",
    "    lines = []\n",
    "    Verts = []\n",
    "    Codes = []\n",
    "    for stroke_ind,stroke in enumerate(svg_list):\n",
    "        x = []\n",
    "        y = []\n",
    "        parsed = parse_path(stroke)\n",
    "        for i,p in enumerate(parsed):\n",
    "            if i!=len(parsed)-1: # last line segment\n",
    "                x.append(p.start.real)\n",
    "                y.append(p.start.imag)    \n",
    "            else:\n",
    "                x.append(p.start.real)\n",
    "                y.append(p.start.imag)     \n",
    "                x.append(p.end.real)\n",
    "                y.append(p.end.imag)\n",
    "        lines.append(zip(x,y))\n",
    "        verts, codes = polyline_pathmaker(lines)\n",
    "        Verts.append(verts)\n",
    "        Codes.append(codes) \n",
    "    return Verts, Codes\n",
    "    \n",
    "def make_svg_list(stroke_recs):\n",
    "    '''\n",
    "    grab sample drawing's strokes and make a list of svg strings from it\n",
    "    '''\n",
    "    svg_list = []\n",
    "    for single_stroke in stroke_recs:\n",
    "        svg_string = single_stroke['svg']\n",
    "        svg_list.append(svg_string)  \n",
    "        \n",
    "    return svg_list\n",
    "    \n",
    "    \n",
    "def render_and_save(Verts,\n",
    "                    Codes,\n",
    "                    line_width=5,\n",
    "                    imsize=6,\n",
    "                    canvas_size=809,\n",
    "                    session_id='SESSION_ID',\n",
    "                    age='AGE',\n",
    "                    trial_num='TRIAL_NUM',\n",
    "                    category='CATEGORY'):\n",
    "    \n",
    "    '''\n",
    "    input: \n",
    "        line_width: how wide of strokes do we want? (int)\n",
    "        imsize: how big of a picture do we want? (setting the size of the figure) \n",
    "        canvas_size: original canvas size on tablet?\n",
    "        out_path: where do you want to save your images? currently hardcoded below.        \n",
    "    output:\n",
    "        rendered sketches into nested directories\n",
    "    \n",
    "    '''\n",
    "    ## where do you want to save your cumulative drawings?\n",
    "    out_path = os.path.join('./cumulative_drawings','{}_{}'.format(session_id,age),'{}_{}'.format(trial_num,category))\n",
    "    if not os.path.exists('./cumulative_drawings'):\n",
    "        os.makedirs('./cumulative_drawings')\n",
    "    if not os.path.exists(os.path.join('cumulative_drawings','{}_{}'.format(session_id,age))):\n",
    "        os.makedirs(os.path.join('cumulative_drawings','{}_{}'.format(session_id,age)))\n",
    "\n",
    "    verts = Verts[0]\n",
    "    codes = Codes[0]\n",
    "    for i,verts in enumerate(Verts):\n",
    "        codes = Codes[i]\n",
    "        fig = plt.figure(figsize=(imsize,imsize), frameon=False)    \n",
    "        ax = plt.subplot(111)\n",
    "        ax.axis('off')\n",
    "        ax.set_xlim(0,canvas_size)\n",
    "        ax.set_ylim(0,canvas_size)\n",
    "        \n",
    "        # remove padding for xaxis and y axis\n",
    "        ax.axes.get_xaxis().set_visible(False)\n",
    "        ax.axes.get_yaxis().set_visible(False)\n",
    "        # remove further paddings\n",
    "        plt.subplots_adjust(top = 1, bottom = 0, right = 1, left = 0, \n",
    "            hspace = 0, wspace = 0)\n",
    "        \n",
    "        ### render sketch so far\n",
    "        if len(verts)>0:\n",
    "            path = Path(verts, codes)\n",
    "            patch = patches.PathPatch(path, facecolor='none', lw=line_width)\n",
    "            ax.add_patch(patch)\n",
    "            plt.gca().invert_yaxis() # y values increase as you go down in image\n",
    "#             plt.show()\n",
    "\n",
    "\n",
    "        ## save out as png \n",
    "        ## maybe to make it not render every single thing, use plt.ioff\n",
    "        if not os.path.exists(out_path):\n",
    "            os.makedirs(out_path)\n",
    "        fname = '{}_{}_{}_{}.png'.format(session_id,trial_num,category,i)\n",
    "        filepath = os.path.join(out_path,fname)\n",
    "        print filepath\n",
    "        \n",
    "        fig.savefig(filepath, bbox_inches='tight', pad_inches=0.0)\n",
    "        plt.close(fig)        "
   ]
  },
  {
   "cell_type": "code",
   "execution_count": null,
   "metadata": {},
   "outputs": [],
   "source": []
  },
  {
   "cell_type": "code",
   "execution_count": 7,
   "metadata": {
    "scrolled": false
   },
   "outputs": [
    {
     "name": "stdout",
     "output_type": "stream",
     "text": [
      "Great! Number of drawings made by this person: 8\n",
      "./cumulative_drawings/cdm_run_v31525887854758_age6/0_square/cdm_run_v31525887854758_0_square_0.png\n",
      "./cumulative_drawings/cdm_run_v31525887854758_age6/1_shape/cdm_run_v31525887854758_1_shape_0.png\n",
      "./cumulative_drawings/cdm_run_v31525887854758_age6/2_this circle/cdm_run_v31525887854758_2_this circle_0.png\n",
      "Great! Number of drawings made by this person: 3\n",
      "./cumulative_drawings/cdm_run_v31525889224904_age2/0_square/cdm_run_v31525889224904_0_square_0.png\n",
      "./cumulative_drawings/cdm_run_v31525889224904_age2/1_shape/cdm_run_v31525889224904_1_shape_0.png\n",
      "./cumulative_drawings/cdm_run_v31525889224904_age2/1_shape/cdm_run_v31525889224904_1_shape_1.png\n",
      "./cumulative_drawings/cdm_run_v31525889224904_age2/1_shape/cdm_run_v31525889224904_1_shape_2.png\n",
      "./cumulative_drawings/cdm_run_v31525889224904_age2/1_shape/cdm_run_v31525889224904_1_shape_3.png\n",
      "./cumulative_drawings/cdm_run_v31525889224904_age2/1_shape/cdm_run_v31525889224904_1_shape_4.png\n",
      "./cumulative_drawings/cdm_run_v31525889224904_age2/1_shape/cdm_run_v31525889224904_1_shape_5.png\n",
      "./cumulative_drawings/cdm_run_v31525889224904_age2/1_shape/cdm_run_v31525889224904_1_shape_6.png\n",
      "./cumulative_drawings/cdm_run_v31525889224904_age2/1_shape/cdm_run_v31525889224904_1_shape_7.png\n",
      "./cumulative_drawings/cdm_run_v31525889224904_age2/1_shape/cdm_run_v31525889224904_1_shape_8.png\n",
      "./cumulative_drawings/cdm_run_v31525889224904_age2/1_shape/cdm_run_v31525889224904_1_shape_9.png\n",
      "./cumulative_drawings/cdm_run_v31525889224904_age2/1_shape/cdm_run_v31525889224904_1_shape_10.png\n",
      "./cumulative_drawings/cdm_run_v31525889224904_age2/1_shape/cdm_run_v31525889224904_1_shape_11.png\n",
      "./cumulative_drawings/cdm_run_v31525889224904_age2/1_shape/cdm_run_v31525889224904_1_shape_12.png\n",
      "./cumulative_drawings/cdm_run_v31525889224904_age2/1_shape/cdm_run_v31525889224904_1_shape_13.png\n",
      "Oops, something went wrong! Here is the error:\n",
      "\n",
      "Great! Number of drawings made by this person: 8\n",
      "Oops, something went wrong! Here is the error:\n",
      "\n",
      "Great! Number of drawings made by this person: 12\n",
      "Oops, something went wrong! Here is the error:\n",
      "\n",
      "Great! Number of drawings made by this person: 5\n",
      "Oops, something went wrong! Here is the error:\n",
      "\n",
      "Great! Number of drawings made by this person: 3\n",
      "./cumulative_drawings/cdm_run_v31525892637212_age2/0_square/cdm_run_v31525892637212_0_square_0.png\n",
      "./cumulative_drawings/cdm_run_v31525892637212_age2/0_square/cdm_run_v31525892637212_0_square_1.png\n",
      "./cumulative_drawings/cdm_run_v31525892637212_age2/0_square/cdm_run_v31525892637212_0_square_2.png\n",
      "./cumulative_drawings/cdm_run_v31525892637212_age2/0_square/cdm_run_v31525892637212_0_square_3.png\n",
      "./cumulative_drawings/cdm_run_v31525892637212_age2/0_square/cdm_run_v31525892637212_0_square_4.png\n",
      "./cumulative_drawings/cdm_run_v31525892637212_age2/0_square/cdm_run_v31525892637212_0_square_5.png\n",
      "./cumulative_drawings/cdm_run_v31525892637212_age2/0_square/cdm_run_v31525892637212_0_square_6.png\n",
      "./cumulative_drawings/cdm_run_v31525892637212_age2/0_square/cdm_run_v31525892637212_0_square_7.png\n",
      "./cumulative_drawings/cdm_run_v31525892637212_age2/0_square/cdm_run_v31525892637212_0_square_8.png\n",
      "./cumulative_drawings/cdm_run_v31525892637212_age2/0_square/cdm_run_v31525892637212_0_square_9.png\n",
      "Oops, something went wrong! Here is the error:\n",
      "'codes' must be a 1D list or array with the same length of 'vertices'\n",
      "Great! Number of drawings made by this person: 3\n",
      "Oops, something went wrong! Here is the error:\n",
      "\n",
      "Great! Number of drawings made by this person: 11\n",
      "./cumulative_drawings/cdm_run_v31525893174061_age2/0_square/cdm_run_v31525893174061_0_square_0.png\n",
      "./cumulative_drawings/cdm_run_v31525893174061_age2/1_shape/cdm_run_v31525893174061_1_shape_0.png\n",
      "./cumulative_drawings/cdm_run_v31525893174061_age2/2_this circle/cdm_run_v31525893174061_2_this circle_0.png\n",
      "Great! Number of drawings made by this person: 7\n",
      "./cumulative_drawings/cdm_run_v31525893423612_age6/0_square/cdm_run_v31525893423612_0_square_0.png\n",
      "./cumulative_drawings/cdm_run_v31525893423612_age6/0_square/cdm_run_v31525893423612_0_square_1.png\n",
      "./cumulative_drawings/cdm_run_v31525893423612_age6/0_square/cdm_run_v31525893423612_0_square_2.png\n",
      "./cumulative_drawings/cdm_run_v31525893423612_age6/1_shape/cdm_run_v31525893423612_1_shape_0.png\n",
      "./cumulative_drawings/cdm_run_v31525893423612_age6/1_shape/cdm_run_v31525893423612_1_shape_1.png\n",
      "./cumulative_drawings/cdm_run_v31525893423612_age6/1_shape/cdm_run_v31525893423612_1_shape_2.png\n",
      "./cumulative_drawings/cdm_run_v31525893423612_age6/1_shape/cdm_run_v31525893423612_1_shape_3.png\n",
      "Oops, something went wrong! Here is the error:\n",
      "'codes' must be a 1D list or array with the same length of 'vertices'\n",
      "Great! Number of drawings made by this person: 4\n",
      "./cumulative_drawings/cdm_run_v31525893768237_age3/0_square/cdm_run_v31525893768237_0_square_0.png\n",
      "./cumulative_drawings/cdm_run_v31525893768237_age3/0_square/cdm_run_v31525893768237_0_square_1.png\n",
      "./cumulative_drawings/cdm_run_v31525893768237_age3/0_square/cdm_run_v31525893768237_0_square_2.png\n",
      "./cumulative_drawings/cdm_run_v31525893768237_age3/0_square/cdm_run_v31525893768237_0_square_3.png\n",
      "./cumulative_drawings/cdm_run_v31525893768237_age3/0_square/cdm_run_v31525893768237_0_square_4.png\n",
      "Oops, something went wrong! Here is the error:\n",
      "'codes' must be a 1D list or array with the same length of 'vertices'\n",
      "Great! Number of drawings made by this person: 12\n",
      "./cumulative_drawings/cdm_run_v31525893976840_age5/0_square/cdm_run_v31525893976840_0_square_0.png\n",
      "./cumulative_drawings/cdm_run_v31525893976840_age5/1_shape/cdm_run_v31525893976840_1_shape_0.png\n",
      "./cumulative_drawings/cdm_run_v31525893976840_age5/1_shape/cdm_run_v31525893976840_1_shape_1.png\n",
      "./cumulative_drawings/cdm_run_v31525893976840_age5/2_this circle/cdm_run_v31525893976840_2_this circle_0.png\n",
      "Great! Number of drawings made by this person: 4\n",
      "./cumulative_drawings/cdm_run_v31525894638556_age2/0_square/cdm_run_v31525894638556_0_square_0.png\n",
      "./cumulative_drawings/cdm_run_v31525894638556_age2/1_shape/cdm_run_v31525894638556_1_shape_0.png\n",
      "./cumulative_drawings/cdm_run_v31525894638556_age2/2_this circle/cdm_run_v31525894638556_2_this circle_0.png\n",
      "Great! Number of drawings made by this person: 5\n",
      "Oops, something went wrong! Here is the error:\n",
      "\n",
      "Great! Number of drawings made by this person: 10\n",
      "./cumulative_drawings/cdm_run_v31525895728803_age6/0_square/cdm_run_v31525895728803_0_square_0.png\n",
      "./cumulative_drawings/cdm_run_v31525895728803_age6/0_square/cdm_run_v31525895728803_0_square_1.png\n",
      "./cumulative_drawings/cdm_run_v31525895728803_age6/1_shape/cdm_run_v31525895728803_1_shape_0.png\n",
      "./cumulative_drawings/cdm_run_v31525895728803_age6/2_this circle/cdm_run_v31525895728803_2_this circle_0.png\n",
      "./cumulative_drawings/cdm_run_v31525895728803_age6/2_this circle/cdm_run_v31525895728803_2_this circle_1.png\n",
      "./cumulative_drawings/cdm_run_v31525895728803_age6/2_this circle/cdm_run_v31525895728803_2_this circle_2.png\n",
      "./cumulative_drawings/cdm_run_v31525895728803_age6/2_this circle/cdm_run_v31525895728803_2_this circle_3.png\n",
      "./cumulative_drawings/cdm_run_v31525895728803_age6/2_this circle/cdm_run_v31525895728803_2_this circle_4.png\n",
      "Great! Number of drawings made by this person: 6\n",
      "./cumulative_drawings/cdm_run_v31525897661521_age2/0_square/cdm_run_v31525897661521_0_square_0.png\n",
      "./cumulative_drawings/cdm_run_v31525897661521_age2/1_shape/cdm_run_v31525897661521_1_shape_0.png\n",
      "./cumulative_drawings/cdm_run_v31525897661521_age2/1_shape/cdm_run_v31525897661521_1_shape_1.png\n",
      "./cumulative_drawings/cdm_run_v31525897661521_age2/1_shape/cdm_run_v31525897661521_1_shape_2.png\n",
      "Oops, something went wrong! Here is the error:\n",
      "'codes' must be a 1D list or array with the same length of 'vertices'\n",
      "Great! Number of drawings made by this person: 12\n",
      "./cumulative_drawings/cdm_run_v31525899254114_age4/0_square/cdm_run_v31525899254114_0_square_0.png\n",
      "./cumulative_drawings/cdm_run_v31525899254114_age4/0_square/cdm_run_v31525899254114_0_square_1.png\n",
      "./cumulative_drawings/cdm_run_v31525899254114_age4/0_square/cdm_run_v31525899254114_0_square_2.png\n",
      "./cumulative_drawings/cdm_run_v31525899254114_age4/0_square/cdm_run_v31525899254114_0_square_3.png\n",
      "./cumulative_drawings/cdm_run_v31525899254114_age4/0_square/cdm_run_v31525899254114_0_square_4.png\n",
      "Oops, something went wrong! Here is the error:\n",
      "'codes' must be a 1D list or array with the same length of 'vertices'\n"
     ]
    },
    {
     "name": "stdout",
     "output_type": "stream",
     "text": [
      "Great! Number of drawings made by this person: 12\n",
      "./cumulative_drawings/cdm_run_v31525901322190_age2/0_square/cdm_run_v31525901322190_0_square_0.png\n",
      "./cumulative_drawings/cdm_run_v31525901322190_age2/0_square/cdm_run_v31525901322190_0_square_1.png\n",
      "Oops, something went wrong! Here is the error:\n",
      "'codes' must be a 1D list or array with the same length of 'vertices'\n",
      "Great! Number of drawings made by this person: 8\n",
      "./cumulative_drawings/cdm_run_v31525901714819_age3/0_square/cdm_run_v31525901714819_0_square_0.png\n",
      "./cumulative_drawings/cdm_run_v31525901714819_age3/0_square/cdm_run_v31525901714819_0_square_1.png\n",
      "Oops, something went wrong! Here is the error:\n",
      "'codes' must be a 1D list or array with the same length of 'vertices'\n",
      "Great! Number of drawings made by this person: 12\n",
      "./cumulative_drawings/cdm_run_v31525902126553_adult/0_square/cdm_run_v31525902126553_0_square_0.png\n",
      "./cumulative_drawings/cdm_run_v31525902126553_adult/1_shape/cdm_run_v31525902126553_1_shape_0.png\n",
      "./cumulative_drawings/cdm_run_v31525902126553_adult/2_this circle/cdm_run_v31525902126553_2_this circle_0.png\n",
      "Great! Number of drawings made by this person: 12\n",
      "./cumulative_drawings/cdm_run_v31525904067360_age3/0_square/cdm_run_v31525904067360_0_square_0.png\n",
      "./cumulative_drawings/cdm_run_v31525904067360_age3/0_square/cdm_run_v31525904067360_0_square_1.png\n",
      "./cumulative_drawings/cdm_run_v31525904067360_age3/0_square/cdm_run_v31525904067360_0_square_2.png\n",
      "./cumulative_drawings/cdm_run_v31525904067360_age3/0_square/cdm_run_v31525904067360_0_square_3.png\n",
      "./cumulative_drawings/cdm_run_v31525904067360_age3/0_square/cdm_run_v31525904067360_0_square_4.png\n",
      "Oops, something went wrong! Here is the error:\n",
      "'codes' must be a 1D list or array with the same length of 'vertices'\n",
      "Great! Number of drawings made by this person: 7\n",
      "./cumulative_drawings/cdm_run_v31525908206117_age4/0_square/cdm_run_v31525908206117_0_square_0.png\n",
      "./cumulative_drawings/cdm_run_v31525908206117_age4/0_square/cdm_run_v31525908206117_0_square_1.png\n",
      "./cumulative_drawings/cdm_run_v31525908206117_age4/0_square/cdm_run_v31525908206117_0_square_2.png\n",
      "./cumulative_drawings/cdm_run_v31525908206117_age4/0_square/cdm_run_v31525908206117_0_square_3.png\n",
      "./cumulative_drawings/cdm_run_v31525908206117_age4/0_square/cdm_run_v31525908206117_0_square_4.png\n",
      "./cumulative_drawings/cdm_run_v31525908206117_age4/0_square/cdm_run_v31525908206117_0_square_5.png\n",
      "./cumulative_drawings/cdm_run_v31525908206117_age4/0_square/cdm_run_v31525908206117_0_square_6.png\n",
      "./cumulative_drawings/cdm_run_v31525908206117_age4/0_square/cdm_run_v31525908206117_0_square_7.png\n",
      "Oops, something went wrong! Here is the error:\n",
      "'codes' must be a 1D list or array with the same length of 'vertices'\n",
      "Great! Number of drawings made by this person: 4\n",
      "./cumulative_drawings/cdm_run_v31525908387543_age4/0_square/cdm_run_v31525908387543_0_square_0.png\n",
      "./cumulative_drawings/cdm_run_v31525908387543_age4/1_shape/cdm_run_v31525908387543_1_shape_0.png\n",
      "./cumulative_drawings/cdm_run_v31525908387543_age4/1_shape/cdm_run_v31525908387543_1_shape_1.png\n",
      "./cumulative_drawings/cdm_run_v31525908387543_age4/2_this circle/cdm_run_v31525908387543_2_this circle_0.png\n",
      "Great! Number of drawings made by this person: 6\n",
      "./cumulative_drawings/cdm_run_v31525908911986_age8/0_square/cdm_run_v31525908911986_0_square_0.png\n",
      "Oops, something went wrong! Here is the error:\n",
      "\n",
      "Great! Number of drawings made by this person: 3\n",
      "./cumulative_drawings/cdm_run_v31525973096978_adult/0_square/cdm_run_v31525973096978_0_square_0.png\n",
      "./cumulative_drawings/cdm_run_v31525973096978_adult/0_square/cdm_run_v31525973096978_0_square_1.png\n",
      "./cumulative_drawings/cdm_run_v31525973096978_adult/0_square/cdm_run_v31525973096978_0_square_2.png\n",
      "./cumulative_drawings/cdm_run_v31525973096978_adult/1_shape/cdm_run_v31525973096978_1_shape_0.png\n",
      "./cumulative_drawings/cdm_run_v31525973096978_adult/1_shape/cdm_run_v31525973096978_1_shape_1.png\n",
      "./cumulative_drawings/cdm_run_v31525973096978_adult/1_shape/cdm_run_v31525973096978_1_shape_2.png\n",
      "./cumulative_drawings/cdm_run_v31525973096978_adult/2_this circle/cdm_run_v31525973096978_2_this circle_0.png\n",
      "./cumulative_drawings/cdm_run_v31525973096978_adult/2_this circle/cdm_run_v31525973096978_2_this circle_1.png\n",
      "./cumulative_drawings/cdm_run_v31525973096978_adult/2_this circle/cdm_run_v31525973096978_2_this circle_2.png\n",
      "Great! Number of drawings made by this person: 3\n",
      "Oops, something went wrong! Here is the error:\n",
      "\n",
      "Great! Number of drawings made by this person: 3\n",
      "Oops, something went wrong! Here is the error:\n",
      "\n",
      "Great! Number of drawings made by this person: 8\n",
      "./cumulative_drawings/cdm_run_v31525974358965_age6/0_square/cdm_run_v31525974358965_0_square_0.png\n",
      "Oops, something went wrong! Here is the error:\n",
      "\n",
      "Great! Number of drawings made by this person: 4\n",
      "./cumulative_drawings/cdm_run_v31525974676521_age6/0_square/cdm_run_v31525974676521_0_square_0.png\n",
      "./cumulative_drawings/cdm_run_v31525974676521_age6/1_shape/cdm_run_v31525974676521_1_shape_0.png\n",
      "Oops, something went wrong! Here is the error:\n",
      "\n",
      "Great! Number of drawings made by this person: 12\n",
      "./cumulative_drawings/cdm_run_v31525975379407_age4/0_square/cdm_run_v31525975379407_0_square_0.png\n",
      "./cumulative_drawings/cdm_run_v31525975379407_age4/1_shape/cdm_run_v31525975379407_1_shape_0.png\n",
      "./cumulative_drawings/cdm_run_v31525975379407_age4/1_shape/cdm_run_v31525975379407_1_shape_1.png\n",
      "./cumulative_drawings/cdm_run_v31525975379407_age4/1_shape/cdm_run_v31525975379407_1_shape_2.png\n",
      "./cumulative_drawings/cdm_run_v31525975379407_age4/1_shape/cdm_run_v31525975379407_1_shape_3.png\n",
      "Oops, something went wrong! Here is the error:\n",
      "'codes' must be a 1D list or array with the same length of 'vertices'\n",
      "Great! Number of drawings made by this person: 6\n",
      "./cumulative_drawings/cdm_run_v31525976032935_age6/0_square/cdm_run_v31525976032935_0_square_0.png\n",
      "./cumulative_drawings/cdm_run_v31525976032935_age6/0_square/cdm_run_v31525976032935_0_square_1.png\n",
      "./cumulative_drawings/cdm_run_v31525976032935_age6/1_shape/cdm_run_v31525976032935_1_shape_0.png\n",
      "./cumulative_drawings/cdm_run_v31525976032935_age6/1_shape/cdm_run_v31525976032935_1_shape_1.png\n",
      "Oops, something went wrong! Here is the error:\n",
      "'codes' must be a 1D list or array with the same length of 'vertices'\n",
      "Great! Number of drawings made by this person: 12\n",
      "./cumulative_drawings/cdm_run_v31525976865876_age5/0_square/cdm_run_v31525976865876_0_square_0.png\n",
      "./cumulative_drawings/cdm_run_v31525976865876_age5/0_square/cdm_run_v31525976865876_0_square_1.png\n",
      "./cumulative_drawings/cdm_run_v31525976865876_age5/1_shape/cdm_run_v31525976865876_1_shape_0.png\n",
      "./cumulative_drawings/cdm_run_v31525976865876_age5/2_this circle/cdm_run_v31525976865876_2_this circle_0.png\n",
      "./cumulative_drawings/cdm_run_v31525976865876_age5/2_this circle/cdm_run_v31525976865876_2_this circle_1.png\n",
      "Great! Number of drawings made by this person: 5\n",
      "Oops, something went wrong! Here is the error:\n",
      "\n",
      "Great! Number of drawings made by this person: 11\n",
      "./cumulative_drawings/cdm_run_v31525984464310_age4/0_square/cdm_run_v31525984464310_0_square_0.png\n",
      "./cumulative_drawings/cdm_run_v31525984464310_age4/1_shape/cdm_run_v31525984464310_1_shape_0.png\n",
      "./cumulative_drawings/cdm_run_v31525984464310_age4/1_shape/cdm_run_v31525984464310_1_shape_1.png\n",
      "./cumulative_drawings/cdm_run_v31525984464310_age4/1_shape/cdm_run_v31525984464310_1_shape_2.png\n",
      "./cumulative_drawings/cdm_run_v31525984464310_age4/1_shape/cdm_run_v31525984464310_1_shape_3.png\n",
      "Oops, something went wrong! Here is the error:\n",
      "'codes' must be a 1D list or array with the same length of 'vertices'\n",
      "Great! Number of drawings made by this person: 5\n",
      "./cumulative_drawings/cdm_run_v31525984944345_age3/0_square/cdm_run_v31525984944345_0_square_0.png\n",
      "./cumulative_drawings/cdm_run_v31525984944345_age3/1_shape/cdm_run_v31525984944345_1_shape_0.png\n",
      "./cumulative_drawings/cdm_run_v31525984944345_age3/1_shape/cdm_run_v31525984944345_1_shape_1.png\n",
      "./cumulative_drawings/cdm_run_v31525984944345_age3/1_shape/cdm_run_v31525984944345_1_shape_2.png\n",
      "Oops, something went wrong! Here is the error:\n",
      "\n",
      "Great! Number of drawings made by this person: 12\n",
      "./cumulative_drawings/cdm_run_v31525990258467_age2/0_square/cdm_run_v31525990258467_0_square_0.png\n",
      "Oops, something went wrong! Here is the error:\n",
      "'codes' must be a 1D list or array with the same length of 'vertices'\n"
     ]
    },
    {
     "name": "stdout",
     "output_type": "stream",
     "text": [
      "Great! Number of drawings made by this person: 6\n",
      "./cumulative_drawings/cdm_run_v31525992411710_age3/0_square/cdm_run_v31525992411710_0_square_0.png\n",
      "Oops, something went wrong! Here is the error:\n",
      "'codes' must be a 1D list or array with the same length of 'vertices'\n",
      "Great! Number of drawings made by this person: 12\n",
      "./cumulative_drawings/cdm_run_v31525992682386_age3/0_square/cdm_run_v31525992682386_0_square_0.png\n",
      "./cumulative_drawings/cdm_run_v31525992682386_age3/0_square/cdm_run_v31525992682386_0_square_1.png\n",
      "./cumulative_drawings/cdm_run_v31525992682386_age3/0_square/cdm_run_v31525992682386_0_square_2.png\n",
      "Oops, something went wrong! Here is the error:\n",
      "'codes' must be a 1D list or array with the same length of 'vertices'\n",
      "Great! Number of drawings made by this person: 6\n",
      "./cumulative_drawings/cdm_run_v31525993726883_age9/0_square/cdm_run_v31525993726883_0_square_0.png\n",
      "./cumulative_drawings/cdm_run_v31525993726883_age9/0_square/cdm_run_v31525993726883_0_square_1.png\n",
      "./cumulative_drawings/cdm_run_v31525993726883_age9/0_square/cdm_run_v31525993726883_0_square_2.png\n",
      "./cumulative_drawings/cdm_run_v31525993726883_age9/0_square/cdm_run_v31525993726883_0_square_3.png\n",
      "./cumulative_drawings/cdm_run_v31525993726883_age9/0_square/cdm_run_v31525993726883_0_square_4.png\n",
      "Oops, something went wrong! Here is the error:\n",
      "'codes' must be a 1D list or array with the same length of 'vertices'\n",
      "Great! Number of drawings made by this person: 3\n",
      "Oops, something went wrong! Here is the error:\n",
      "\n",
      "Great! Number of drawings made by this person: 4\n",
      "./cumulative_drawings/cdm_run_v31526060310716_age7/0_square/cdm_run_v31526060310716_0_square_0.png\n",
      "./cumulative_drawings/cdm_run_v31526060310716_age7/1_shape/cdm_run_v31526060310716_1_shape_0.png\n",
      "./cumulative_drawings/cdm_run_v31526060310716_age7/2_this circle/cdm_run_v31526060310716_2_this circle_0.png\n",
      "Great! Number of drawings made by this person: 12\n",
      "./cumulative_drawings/cdm_run_v31526060708396_age7/0_square/cdm_run_v31526060708396_0_square_0.png\n",
      "./cumulative_drawings/cdm_run_v31526060708396_age7/0_square/cdm_run_v31526060708396_0_square_1.png\n",
      "Oops, something went wrong! Here is the error:\n",
      "'codes' must be a 1D list or array with the same length of 'vertices'\n",
      "Great! Number of drawings made by this person: 5\n",
      "./cumulative_drawings/cdm_run_v31526060998610_age6/0_square/cdm_run_v31526060998610_0_square_0.png\n",
      "./cumulative_drawings/cdm_run_v31526060998610_age6/1_shape/cdm_run_v31526060998610_1_shape_0.png\n",
      "./cumulative_drawings/cdm_run_v31526060998610_age6/2_this circle/cdm_run_v31526060998610_2_this circle_0.png\n",
      "Great! Number of drawings made by this person: 12\n",
      "./cumulative_drawings/cdm_run_v31526061437727_age6/0_square/cdm_run_v31526061437727_0_square_0.png\n",
      "./cumulative_drawings/cdm_run_v31526061437727_age6/0_square/cdm_run_v31526061437727_0_square_1.png\n",
      "./cumulative_drawings/cdm_run_v31526061437727_age6/1_shape/cdm_run_v31526061437727_1_shape_0.png\n",
      "./cumulative_drawings/cdm_run_v31526061437727_age6/1_shape/cdm_run_v31526061437727_1_shape_1.png\n",
      "./cumulative_drawings/cdm_run_v31526061437727_age6/1_shape/cdm_run_v31526061437727_1_shape_2.png\n",
      "./cumulative_drawings/cdm_run_v31526061437727_age6/1_shape/cdm_run_v31526061437727_1_shape_3.png\n",
      "./cumulative_drawings/cdm_run_v31526061437727_age6/1_shape/cdm_run_v31526061437727_1_shape_4.png\n",
      "./cumulative_drawings/cdm_run_v31526061437727_age6/1_shape/cdm_run_v31526061437727_1_shape_5.png\n",
      "./cumulative_drawings/cdm_run_v31526061437727_age6/1_shape/cdm_run_v31526061437727_1_shape_6.png\n",
      "./cumulative_drawings/cdm_run_v31526061437727_age6/1_shape/cdm_run_v31526061437727_1_shape_7.png\n",
      "./cumulative_drawings/cdm_run_v31526061437727_age6/1_shape/cdm_run_v31526061437727_1_shape_8.png\n",
      "Oops, something went wrong! Here is the error:\n",
      "'codes' must be a 1D list or array with the same length of 'vertices'\n",
      "Great! Number of drawings made by this person: 6\n",
      "./cumulative_drawings/cdm_run_v31526061799166_age7/0_square/cdm_run_v31526061799166_0_square_0.png\n",
      "./cumulative_drawings/cdm_run_v31526061799166_age7/1_shape/cdm_run_v31526061799166_1_shape_0.png\n",
      "./cumulative_drawings/cdm_run_v31526061799166_age7/1_shape/cdm_run_v31526061799166_1_shape_1.png\n",
      "./cumulative_drawings/cdm_run_v31526061799166_age7/2_this circle/cdm_run_v31526061799166_2_this circle_0.png\n",
      "Great! Number of drawings made by this person: 4\n",
      "./cumulative_drawings/cdm_run_v31526061874268_age7/0_square/cdm_run_v31526061874268_0_square_0.png\n",
      "./cumulative_drawings/cdm_run_v31526061874268_age7/1_shape/cdm_run_v31526061874268_1_shape_0.png\n",
      "./cumulative_drawings/cdm_run_v31526061874268_age7/2_this circle/cdm_run_v31526061874268_2_this circle_0.png\n",
      "Great! Number of drawings made by this person: 12\n",
      "./cumulative_drawings/cdm_run_v31526061922561_age7/0_square/cdm_run_v31526061922561_0_square_0.png\n",
      "./cumulative_drawings/cdm_run_v31526061922561_age7/1_shape/cdm_run_v31526061922561_1_shape_0.png\n",
      "./cumulative_drawings/cdm_run_v31526061922561_age7/2_this circle/cdm_run_v31526061922561_2_this circle_0.png\n",
      "Great! Number of drawings made by this person: 10\n",
      "./cumulative_drawings/cdm_run_v31526063462438_age6/0_square/cdm_run_v31526063462438_0_square_0.png\n",
      "./cumulative_drawings/cdm_run_v31526063462438_age6/1_shape/cdm_run_v31526063462438_1_shape_0.png\n",
      "./cumulative_drawings/cdm_run_v31526063462438_age6/1_shape/cdm_run_v31526063462438_1_shape_1.png\n",
      "./cumulative_drawings/cdm_run_v31526063462438_age6/1_shape/cdm_run_v31526063462438_1_shape_2.png\n",
      "./cumulative_drawings/cdm_run_v31526063462438_age6/2_this circle/cdm_run_v31526063462438_2_this circle_0.png\n",
      "./cumulative_drawings/cdm_run_v31526063462438_age6/2_this circle/cdm_run_v31526063462438_2_this circle_1.png\n",
      "Great! Number of drawings made by this person: 7\n",
      "./cumulative_drawings/cdm_run_v31526063950237_age6/0_square/cdm_run_v31526063950237_0_square_0.png\n",
      "./cumulative_drawings/cdm_run_v31526063950237_age6/1_shape/cdm_run_v31526063950237_1_shape_0.png\n",
      "./cumulative_drawings/cdm_run_v31526063950237_age6/2_this circle/cdm_run_v31526063950237_2_this circle_0.png\n",
      "Great! Number of drawings made by this person: 6\n",
      "./cumulative_drawings/cdm_run_v31526064139398_age7/0_square/cdm_run_v31526064139398_0_square_0.png\n",
      "./cumulative_drawings/cdm_run_v31526064139398_age7/1_shape/cdm_run_v31526064139398_1_shape_0.png\n",
      "./cumulative_drawings/cdm_run_v31526064139398_age7/2_this circle/cdm_run_v31526064139398_2_this circle_0.png\n",
      "Great! Number of drawings made by this person: 5\n",
      "./cumulative_drawings/cdm_run_v31526064497532_age7/0_square/cdm_run_v31526064497532_0_square_0.png\n",
      "./cumulative_drawings/cdm_run_v31526064497532_age7/1_shape/cdm_run_v31526064497532_1_shape_0.png\n",
      "./cumulative_drawings/cdm_run_v31526064497532_age7/1_shape/cdm_run_v31526064497532_1_shape_1.png\n",
      "./cumulative_drawings/cdm_run_v31526064497532_age7/1_shape/cdm_run_v31526064497532_1_shape_2.png\n",
      "./cumulative_drawings/cdm_run_v31526064497532_age7/1_shape/cdm_run_v31526064497532_1_shape_3.png\n",
      "./cumulative_drawings/cdm_run_v31526064497532_age7/1_shape/cdm_run_v31526064497532_1_shape_4.png\n",
      "./cumulative_drawings/cdm_run_v31526064497532_age7/2_this circle/cdm_run_v31526064497532_2_this circle_0.png\n",
      "Great! Number of drawings made by this person: 12\n",
      "./cumulative_drawings/cdm_run_v31526064586872_age7/0_square/cdm_run_v31526064586872_0_square_0.png\n",
      "Oops, something went wrong! Here is the error:\n",
      "\n",
      "Great! Number of drawings made by this person: 4\n",
      "./cumulative_drawings/cdm_run_v31526064719488_age7/0_square/cdm_run_v31526064719488_0_square_0.png\n",
      "./cumulative_drawings/cdm_run_v31526064719488_age7/1_shape/cdm_run_v31526064719488_1_shape_0.png\n",
      "./cumulative_drawings/cdm_run_v31526064719488_age7/2_this circle/cdm_run_v31526064719488_2_this circle_0.png\n",
      "Great! Number of drawings made by this person: 12\n",
      "./cumulative_drawings/cdm_run_v31526064952740_age2/0_square/cdm_run_v31526064952740_0_square_0.png\n",
      "./cumulative_drawings/cdm_run_v31526064952740_age2/1_shape/cdm_run_v31526064952740_1_shape_0.png\n",
      "./cumulative_drawings/cdm_run_v31526064952740_age2/1_shape/cdm_run_v31526064952740_1_shape_1.png\n",
      "./cumulative_drawings/cdm_run_v31526064952740_age2/1_shape/cdm_run_v31526064952740_1_shape_2.png\n",
      "./cumulative_drawings/cdm_run_v31526064952740_age2/1_shape/cdm_run_v31526064952740_1_shape_3.png\n",
      "Oops, something went wrong! Here is the error:\n",
      "'codes' must be a 1D list or array with the same length of 'vertices'\n"
     ]
    },
    {
     "name": "stdout",
     "output_type": "stream",
     "text": [
      "Great! Number of drawings made by this person: 10\n",
      "Oops, something went wrong! Here is the error:\n",
      "\n",
      "Great! Number of drawings made by this person: 12\n",
      "./cumulative_drawings/cdm_run_v31526067194650_age2/0_square/cdm_run_v31526067194650_0_square_0.png\n",
      "./cumulative_drawings/cdm_run_v31526067194650_age2/1_shape/cdm_run_v31526067194650_1_shape_0.png\n",
      "./cumulative_drawings/cdm_run_v31526067194650_age2/1_shape/cdm_run_v31526067194650_1_shape_1.png\n",
      "./cumulative_drawings/cdm_run_v31526067194650_age2/1_shape/cdm_run_v31526067194650_1_shape_2.png\n",
      "./cumulative_drawings/cdm_run_v31526067194650_age2/2_this circle/cdm_run_v31526067194650_2_this circle_0.png\n",
      "Great! Number of drawings made by this person: 7\n",
      "./cumulative_drawings/cdm_run_v31526072349961_age5/0_square/cdm_run_v31526072349961_0_square_0.png\n",
      "./cumulative_drawings/cdm_run_v31526072349961_age5/0_square/cdm_run_v31526072349961_0_square_1.png\n",
      "./cumulative_drawings/cdm_run_v31526072349961_age5/1_shape/cdm_run_v31526072349961_1_shape_0.png\n",
      "./cumulative_drawings/cdm_run_v31526072349961_age5/1_shape/cdm_run_v31526072349961_1_shape_1.png\n",
      "./cumulative_drawings/cdm_run_v31526072349961_age5/1_shape/cdm_run_v31526072349961_1_shape_2.png\n",
      "./cumulative_drawings/cdm_run_v31526072349961_age5/1_shape/cdm_run_v31526072349961_1_shape_3.png\n",
      "./cumulative_drawings/cdm_run_v31526072349961_age5/1_shape/cdm_run_v31526072349961_1_shape_4.png\n",
      "./cumulative_drawings/cdm_run_v31526072349961_age5/2_this circle/cdm_run_v31526072349961_2_this circle_0.png\n",
      "Great! Number of drawings made by this person: 12\n",
      "./cumulative_drawings/cdm_run_v31526072947360_age5/0_square/cdm_run_v31526072947360_0_square_0.png\n",
      "./cumulative_drawings/cdm_run_v31526072947360_age5/1_shape/cdm_run_v31526072947360_1_shape_0.png\n",
      "./cumulative_drawings/cdm_run_v31526072947360_age5/1_shape/cdm_run_v31526072947360_1_shape_1.png\n",
      "./cumulative_drawings/cdm_run_v31526072947360_age5/1_shape/cdm_run_v31526072947360_1_shape_2.png\n",
      "./cumulative_drawings/cdm_run_v31526072947360_age5/1_shape/cdm_run_v31526072947360_1_shape_3.png\n",
      "./cumulative_drawings/cdm_run_v31526072947360_age5/2_this circle/cdm_run_v31526072947360_2_this circle_0.png\n",
      "./cumulative_drawings/cdm_run_v31526072947360_age5/2_this circle/cdm_run_v31526072947360_2_this circle_1.png\n",
      "./cumulative_drawings/cdm_run_v31526072947360_age5/2_this circle/cdm_run_v31526072947360_2_this circle_2.png\n",
      "Great! Number of drawings made by this person: 6\n",
      "./cumulative_drawings/cdm_run_v31526073488506_age4/0_square/cdm_run_v31526073488506_0_square_0.png\n",
      "./cumulative_drawings/cdm_run_v31526073488506_age4/1_shape/cdm_run_v31526073488506_1_shape_0.png\n",
      "./cumulative_drawings/cdm_run_v31526073488506_age4/1_shape/cdm_run_v31526073488506_1_shape_1.png\n",
      "./cumulative_drawings/cdm_run_v31526073488506_age4/2_this circle/cdm_run_v31526073488506_2_this circle_0.png\n",
      "Great! Number of drawings made by this person: 4\n",
      "Oops, something went wrong! Here is the error:\n",
      "\n",
      "Great! Number of drawings made by this person: 11\n",
      "./cumulative_drawings/cdm_run_v31526074471797_age8/0_square/cdm_run_v31526074471797_0_square_0.png\n",
      "./cumulative_drawings/cdm_run_v31526074471797_age8/0_square/cdm_run_v31526074471797_0_square_1.png\n",
      "./cumulative_drawings/cdm_run_v31526074471797_age8/0_square/cdm_run_v31526074471797_0_square_2.png\n",
      "./cumulative_drawings/cdm_run_v31526074471797_age8/0_square/cdm_run_v31526074471797_0_square_3.png\n",
      "./cumulative_drawings/cdm_run_v31526074471797_age8/0_square/cdm_run_v31526074471797_0_square_4.png\n",
      "./cumulative_drawings/cdm_run_v31526074471797_age8/1_shape/cdm_run_v31526074471797_1_shape_0.png\n",
      "./cumulative_drawings/cdm_run_v31526074471797_age8/2_this circle/cdm_run_v31526074471797_2_this circle_0.png\n",
      "Great! Number of drawings made by this person: 5\n",
      "./cumulative_drawings/cdm_run_v31526076014598_adult/0_square/cdm_run_v31526076014598_0_square_0.png\n",
      "./cumulative_drawings/cdm_run_v31526076014598_adult/0_square/cdm_run_v31526076014598_0_square_1.png\n",
      "./cumulative_drawings/cdm_run_v31526076014598_adult/0_square/cdm_run_v31526076014598_0_square_2.png\n",
      "./cumulative_drawings/cdm_run_v31526076014598_adult/0_square/cdm_run_v31526076014598_0_square_3.png\n",
      "./cumulative_drawings/cdm_run_v31526076014598_adult/0_square/cdm_run_v31526076014598_0_square_4.png\n",
      "Oops, something went wrong! Here is the error:\n",
      "'codes' must be a 1D list or array with the same length of 'vertices'\n",
      "Great! Number of drawings made by this person: 3\n"
     ]
    },
    {
     "name": "stderr",
     "output_type": "stream",
     "text": [
      "/Users/zixianchai/anaconda2/lib/python2.7/site-packages/matplotlib/pyplot.py:528: RuntimeWarning: More than 20 figures have been opened. Figures created through the pyplot interface (`matplotlib.pyplot.figure`) are retained until explicitly closed and may consume too much memory. (To control this warning, see the rcParam `figure.max_open_warning`).\n",
      "  max_open_warning, RuntimeWarning)\n"
     ]
    },
    {
     "name": "stdout",
     "output_type": "stream",
     "text": [
      "./cumulative_drawings/cdm_run_v31526078151101_age3/0_square/cdm_run_v31526078151101_0_square_0.png\n",
      "./cumulative_drawings/cdm_run_v31526078151101_age3/0_square/cdm_run_v31526078151101_0_square_1.png\n",
      "./cumulative_drawings/cdm_run_v31526078151101_age3/0_square/cdm_run_v31526078151101_0_square_2.png\n",
      "./cumulative_drawings/cdm_run_v31526078151101_age3/0_square/cdm_run_v31526078151101_0_square_3.png\n",
      "./cumulative_drawings/cdm_run_v31526078151101_age3/0_square/cdm_run_v31526078151101_0_square_4.png\n",
      "./cumulative_drawings/cdm_run_v31526078151101_age3/0_square/cdm_run_v31526078151101_0_square_5.png\n",
      "./cumulative_drawings/cdm_run_v31526078151101_age3/0_square/cdm_run_v31526078151101_0_square_6.png\n",
      "./cumulative_drawings/cdm_run_v31526078151101_age3/0_square/cdm_run_v31526078151101_0_square_7.png\n",
      "./cumulative_drawings/cdm_run_v31526078151101_age3/0_square/cdm_run_v31526078151101_0_square_8.png\n",
      "./cumulative_drawings/cdm_run_v31526078151101_age3/0_square/cdm_run_v31526078151101_0_square_9.png\n",
      "./cumulative_drawings/cdm_run_v31526078151101_age3/0_square/cdm_run_v31526078151101_0_square_10.png\n",
      "./cumulative_drawings/cdm_run_v31526078151101_age3/0_square/cdm_run_v31526078151101_0_square_11.png\n",
      "./cumulative_drawings/cdm_run_v31526078151101_age3/1_shape/cdm_run_v31526078151101_1_shape_0.png\n",
      "./cumulative_drawings/cdm_run_v31526078151101_age3/1_shape/cdm_run_v31526078151101_1_shape_1.png\n",
      "./cumulative_drawings/cdm_run_v31526078151101_age3/1_shape/cdm_run_v31526078151101_1_shape_2.png\n",
      "./cumulative_drawings/cdm_run_v31526078151101_age3/2_this circle/cdm_run_v31526078151101_2_this circle_0.png\n",
      "Great! Number of drawings made by this person: 12\n",
      "./cumulative_drawings/cdm_run_v31526078606222_age3/0_square/cdm_run_v31526078606222_0_square_0.png\n",
      "./cumulative_drawings/cdm_run_v31526078606222_age3/0_square/cdm_run_v31526078606222_0_square_1.png\n",
      "./cumulative_drawings/cdm_run_v31526078606222_age3/1_shape/cdm_run_v31526078606222_1_shape_0.png\n",
      "./cumulative_drawings/cdm_run_v31526078606222_age3/1_shape/cdm_run_v31526078606222_1_shape_1.png\n",
      "./cumulative_drawings/cdm_run_v31526078606222_age3/1_shape/cdm_run_v31526078606222_1_shape_2.png\n",
      "./cumulative_drawings/cdm_run_v31526078606222_age3/1_shape/cdm_run_v31526078606222_1_shape_3.png\n",
      "./cumulative_drawings/cdm_run_v31526078606222_age3/1_shape/cdm_run_v31526078606222_1_shape_4.png\n",
      "./cumulative_drawings/cdm_run_v31526078606222_age3/1_shape/cdm_run_v31526078606222_1_shape_5.png\n",
      "./cumulative_drawings/cdm_run_v31526078606222_age3/1_shape/cdm_run_v31526078606222_1_shape_6.png\n",
      "./cumulative_drawings/cdm_run_v31526078606222_age3/1_shape/cdm_run_v31526078606222_1_shape_7.png\n",
      "Oops, something went wrong! Here is the error:\n",
      "'codes' must be a 1D list or array with the same length of 'vertices'\n",
      "Great! Number of drawings made by this person: 11\n",
      "./cumulative_drawings/cdm_run_v31526078928446_age4/0_square/cdm_run_v31526078928446_0_square_0.png\n",
      "./cumulative_drawings/cdm_run_v31526078928446_age4/0_square/cdm_run_v31526078928446_0_square_1.png\n",
      "./cumulative_drawings/cdm_run_v31526078928446_age4/0_square/cdm_run_v31526078928446_0_square_2.png\n",
      "./cumulative_drawings/cdm_run_v31526078928446_age4/1_shape/cdm_run_v31526078928446_1_shape_0.png\n",
      "./cumulative_drawings/cdm_run_v31526078928446_age4/2_this circle/cdm_run_v31526078928446_2_this circle_0.png\n",
      "Great! Number of drawings made by this person: 12\n",
      "./cumulative_drawings/cdm_run_v31526143945119_adult/0_square/cdm_run_v31526143945119_0_square_0.png\n",
      "./cumulative_drawings/cdm_run_v31526143945119_adult/1_shape/cdm_run_v31526143945119_1_shape_0.png\n",
      "./cumulative_drawings/cdm_run_v31526143945119_adult/2_this circle/cdm_run_v31526143945119_2_this circle_0.png\n",
      "Great! Number of drawings made by this person: 6\n",
      "./cumulative_drawings/cdm_run_v31526144135278_age4/0_square/cdm_run_v31526144135278_0_square_0.png\n",
      "./cumulative_drawings/cdm_run_v31526144135278_age4/1_shape/cdm_run_v31526144135278_1_shape_0.png\n",
      "./cumulative_drawings/cdm_run_v31526144135278_age4/1_shape/cdm_run_v31526144135278_1_shape_1.png\n",
      "./cumulative_drawings/cdm_run_v31526144135278_age4/1_shape/cdm_run_v31526144135278_1_shape_2.png\n",
      "./cumulative_drawings/cdm_run_v31526144135278_age4/1_shape/cdm_run_v31526144135278_1_shape_3.png\n",
      "./cumulative_drawings/cdm_run_v31526144135278_age4/1_shape/cdm_run_v31526144135278_1_shape_4.png\n",
      "./cumulative_drawings/cdm_run_v31526144135278_age4/1_shape/cdm_run_v31526144135278_1_shape_5.png\n",
      "./cumulative_drawings/cdm_run_v31526144135278_age4/1_shape/cdm_run_v31526144135278_1_shape_6.png\n",
      "./cumulative_drawings/cdm_run_v31526144135278_age4/1_shape/cdm_run_v31526144135278_1_shape_7.png\n",
      "Oops, something went wrong! Here is the error:\n",
      "'codes' must be a 1D list or array with the same length of 'vertices'\n",
      "Great! Number of drawings made by this person: 5\n",
      "./cumulative_drawings/cdm_run_v31526148488690_age2/0_square/cdm_run_v31526148488690_0_square_0.png\n",
      "./cumulative_drawings/cdm_run_v31526148488690_age2/0_square/cdm_run_v31526148488690_0_square_1.png\n",
      "./cumulative_drawings/cdm_run_v31526148488690_age2/0_square/cdm_run_v31526148488690_0_square_2.png\n",
      "./cumulative_drawings/cdm_run_v31526148488690_age2/0_square/cdm_run_v31526148488690_0_square_3.png\n",
      "./cumulative_drawings/cdm_run_v31526148488690_age2/1_shape/cdm_run_v31526148488690_1_shape_0.png\n",
      "./cumulative_drawings/cdm_run_v31526148488690_age2/1_shape/cdm_run_v31526148488690_1_shape_1.png\n",
      "./cumulative_drawings/cdm_run_v31526148488690_age2/1_shape/cdm_run_v31526148488690_1_shape_2.png\n",
      "./cumulative_drawings/cdm_run_v31526148488690_age2/1_shape/cdm_run_v31526148488690_1_shape_3.png\n",
      "./cumulative_drawings/cdm_run_v31526148488690_age2/2_this circle/cdm_run_v31526148488690_2_this circle_0.png\n",
      "Great! Number of drawings made by this person: 6\n",
      "./cumulative_drawings/cdm_run_v31526148565492_age3/0_square/cdm_run_v31526148565492_0_square_0.png\n",
      "./cumulative_drawings/cdm_run_v31526148565492_age3/1_shape/cdm_run_v31526148565492_1_shape_0.png\n",
      "./cumulative_drawings/cdm_run_v31526148565492_age3/2_this circle/cdm_run_v31526148565492_2_this circle_0.png\n",
      "./cumulative_drawings/cdm_run_v31526148565492_age3/2_this circle/cdm_run_v31526148565492_2_this circle_1.png\n",
      "./cumulative_drawings/cdm_run_v31526148565492_age3/2_this circle/cdm_run_v31526148565492_2_this circle_2.png\n",
      "./cumulative_drawings/cdm_run_v31526148565492_age3/2_this circle/cdm_run_v31526148565492_2_this circle_3.png\n",
      "./cumulative_drawings/cdm_run_v31526148565492_age3/2_this circle/cdm_run_v31526148565492_2_this circle_4.png\n",
      "./cumulative_drawings/cdm_run_v31526148565492_age3/2_this circle/cdm_run_v31526148565492_2_this circle_5.png\n",
      "./cumulative_drawings/cdm_run_v31526148565492_age3/2_this circle/cdm_run_v31526148565492_2_this circle_6.png\n",
      "./cumulative_drawings/cdm_run_v31526148565492_age3/2_this circle/cdm_run_v31526148565492_2_this circle_7.png\n",
      "./cumulative_drawings/cdm_run_v31526148565492_age3/2_this circle/cdm_run_v31526148565492_2_this circle_8.png\n",
      "Great! Number of drawings made by this person: 4\n",
      "./cumulative_drawings/cdm_run_v31526148649096_age8/0_square/cdm_run_v31526148649096_0_square_0.png\n",
      "Oops, something went wrong! Here is the error:\n",
      "'codes' must be a 1D list or array with the same length of 'vertices'\n",
      "Great! Number of drawings made by this person: 4\n",
      "./cumulative_drawings/cdm_run_v31526148748919_age8/0_square/cdm_run_v31526148748919_0_square_0.png\n",
      "Oops, something went wrong! Here is the error:\n",
      "\n",
      "Great! Number of drawings made by this person: 7\n",
      "./cumulative_drawings/cdm_run_v31526149013447_adult/0_square/cdm_run_v31526149013447_0_square_0.png\n",
      "./cumulative_drawings/cdm_run_v31526149013447_adult/1_shape/cdm_run_v31526149013447_1_shape_0.png\n",
      "./cumulative_drawings/cdm_run_v31526149013447_adult/2_this circle/cdm_run_v31526149013447_2_this circle_0.png\n",
      "Great! Number of drawings made by this person: 6\n",
      "./cumulative_drawings/cdm_run_v31526150370058_age8/0_square/cdm_run_v31526150370058_0_square_0.png\n",
      "./cumulative_drawings/cdm_run_v31526150370058_age8/0_square/cdm_run_v31526150370058_0_square_1.png\n",
      "./cumulative_drawings/cdm_run_v31526150370058_age8/0_square/cdm_run_v31526150370058_0_square_2.png\n",
      "./cumulative_drawings/cdm_run_v31526150370058_age8/0_square/cdm_run_v31526150370058_0_square_3.png\n",
      "./cumulative_drawings/cdm_run_v31526150370058_age8/0_square/cdm_run_v31526150370058_0_square_4.png\n",
      "Oops, something went wrong! Here is the error:\n",
      "'codes' must be a 1D list or array with the same length of 'vertices'\n"
     ]
    },
    {
     "name": "stdout",
     "output_type": "stream",
     "text": [
      "Great! Number of drawings made by this person: 6\n",
      "./cumulative_drawings/cdm_run_v31526151383057_age10/0_square/cdm_run_v31526151383057_0_square_0.png\n",
      "./cumulative_drawings/cdm_run_v31526151383057_age10/0_square/cdm_run_v31526151383057_0_square_1.png\n",
      "./cumulative_drawings/cdm_run_v31526151383057_age10/1_shape/cdm_run_v31526151383057_1_shape_0.png\n",
      "./cumulative_drawings/cdm_run_v31526151383057_age10/2_this circle/cdm_run_v31526151383057_2_this circle_0.png\n",
      "Great! Number of drawings made by this person: 12\n",
      "./cumulative_drawings/cdm_run_v31526152332221_age10/0_square/cdm_run_v31526152332221_0_square_0.png\n",
      "./cumulative_drawings/cdm_run_v31526152332221_age10/0_square/cdm_run_v31526152332221_0_square_1.png\n",
      "./cumulative_drawings/cdm_run_v31526152332221_age10/0_square/cdm_run_v31526152332221_0_square_2.png\n",
      "./cumulative_drawings/cdm_run_v31526152332221_age10/1_shape/cdm_run_v31526152332221_1_shape_0.png\n",
      "./cumulative_drawings/cdm_run_v31526152332221_age10/2_this circle/cdm_run_v31526152332221_2_this circle_0.png\n",
      "Great! Number of drawings made by this person: 12\n",
      "./cumulative_drawings/cdm_run_v31526152658322_age2/0_square/cdm_run_v31526152658322_0_square_0.png\n",
      "./cumulative_drawings/cdm_run_v31526152658322_age2/0_square/cdm_run_v31526152658322_0_square_1.png\n",
      "./cumulative_drawings/cdm_run_v31526152658322_age2/0_square/cdm_run_v31526152658322_0_square_2.png\n",
      "./cumulative_drawings/cdm_run_v31526152658322_age2/0_square/cdm_run_v31526152658322_0_square_3.png\n",
      "Oops, something went wrong! Here is the error:\n",
      "'codes' must be a 1D list or array with the same length of 'vertices'\n",
      "Great! Number of drawings made by this person: 12\n",
      "./cumulative_drawings/cdm_run_v31526152868212_age8/0_square/cdm_run_v31526152868212_0_square_0.png\n",
      "./cumulative_drawings/cdm_run_v31526152868212_age8/1_shape/cdm_run_v31526152868212_1_shape_0.png\n",
      "./cumulative_drawings/cdm_run_v31526152868212_age8/1_shape/cdm_run_v31526152868212_1_shape_1.png\n",
      "./cumulative_drawings/cdm_run_v31526152868212_age8/1_shape/cdm_run_v31526152868212_1_shape_2.png\n",
      "./cumulative_drawings/cdm_run_v31526152868212_age8/2_this circle/cdm_run_v31526152868212_2_this circle_0.png\n",
      "Great! Number of drawings made by this person: 3\n",
      "./cumulative_drawings/cdm_run_v31526153674851_adult/0_square/cdm_run_v31526153674851_0_square_0.png\n",
      "./cumulative_drawings/cdm_run_v31526153674851_adult/0_square/cdm_run_v31526153674851_0_square_1.png\n",
      "./cumulative_drawings/cdm_run_v31526153674851_adult/0_square/cdm_run_v31526153674851_0_square_2.png\n",
      "./cumulative_drawings/cdm_run_v31526153674851_adult/1_shape/cdm_run_v31526153674851_1_shape_0.png\n",
      "./cumulative_drawings/cdm_run_v31526153674851_adult/1_shape/cdm_run_v31526153674851_1_shape_1.png\n",
      "Oops, something went wrong! Here is the error:\n",
      "\n",
      "Great! Number of drawings made by this person: 8\n",
      "./cumulative_drawings/cdm_run_v31526154008666_adult/0_square/cdm_run_v31526154008666_0_square_0.png\n",
      "./cumulative_drawings/cdm_run_v31526154008666_adult/1_shape/cdm_run_v31526154008666_1_shape_0.png\n",
      "./cumulative_drawings/cdm_run_v31526154008666_adult/1_shape/cdm_run_v31526154008666_1_shape_1.png\n",
      "./cumulative_drawings/cdm_run_v31526154008666_adult/2_this circle/cdm_run_v31526154008666_2_this circle_0.png\n",
      "Great! Number of drawings made by this person: 6\n",
      "./cumulative_drawings/cdm_run_v31526154337782_age3/0_square/cdm_run_v31526154337782_0_square_0.png\n",
      "./cumulative_drawings/cdm_run_v31526154337782_age3/0_square/cdm_run_v31526154337782_0_square_1.png\n",
      "./cumulative_drawings/cdm_run_v31526154337782_age3/0_square/cdm_run_v31526154337782_0_square_2.png\n",
      "./cumulative_drawings/cdm_run_v31526154337782_age3/0_square/cdm_run_v31526154337782_0_square_3.png\n",
      "./cumulative_drawings/cdm_run_v31526154337782_age3/0_square/cdm_run_v31526154337782_0_square_4.png\n",
      "./cumulative_drawings/cdm_run_v31526154337782_age3/1_shape/cdm_run_v31526154337782_1_shape_0.png\n",
      "./cumulative_drawings/cdm_run_v31526154337782_age3/2_this circle/cdm_run_v31526154337782_2_this circle_0.png\n",
      "Great! Number of drawings made by this person: 12\n",
      "./cumulative_drawings/cdm_run_v31526154627196_age3/0_square/cdm_run_v31526154627196_0_square_0.png\n",
      "./cumulative_drawings/cdm_run_v31526154627196_age3/0_square/cdm_run_v31526154627196_0_square_1.png\n",
      "./cumulative_drawings/cdm_run_v31526154627196_age3/1_shape/cdm_run_v31526154627196_1_shape_0.png\n",
      "./cumulative_drawings/cdm_run_v31526154627196_age3/2_this circle/cdm_run_v31526154627196_2_this circle_0.png\n",
      "Great! Number of drawings made by this person: 4\n",
      "./cumulative_drawings/cdm_run_v31526154829898_age3/0_square/cdm_run_v31526154829898_0_square_0.png\n",
      "./cumulative_drawings/cdm_run_v31526154829898_age3/1_shape/cdm_run_v31526154829898_1_shape_0.png\n",
      "./cumulative_drawings/cdm_run_v31526154829898_age3/2_this circle/cdm_run_v31526154829898_2_this circle_0.png\n",
      "./cumulative_drawings/cdm_run_v31526154829898_age3/2_this circle/cdm_run_v31526154829898_2_this circle_1.png\n",
      "./cumulative_drawings/cdm_run_v31526154829898_age3/2_this circle/cdm_run_v31526154829898_2_this circle_2.png\n",
      "./cumulative_drawings/cdm_run_v31526154829898_age3/2_this circle/cdm_run_v31526154829898_2_this circle_3.png\n",
      "Oops, something went wrong! Here is the error:\n",
      "'codes' must be a 1D list or array with the same length of 'vertices'\n",
      "Great! Number of drawings made by this person: 3\n",
      "./cumulative_drawings/cdm_run_v31526154949156_age2/0_square/cdm_run_v31526154949156_0_square_0.png\n",
      "./cumulative_drawings/cdm_run_v31526154949156_age2/1_shape/cdm_run_v31526154949156_1_shape_0.png\n",
      "./cumulative_drawings/cdm_run_v31526154949156_age2/1_shape/cdm_run_v31526154949156_1_shape_1.png\n",
      "./cumulative_drawings/cdm_run_v31526154949156_age2/1_shape/cdm_run_v31526154949156_1_shape_2.png\n",
      "./cumulative_drawings/cdm_run_v31526154949156_age2/1_shape/cdm_run_v31526154949156_1_shape_3.png\n",
      "./cumulative_drawings/cdm_run_v31526154949156_age2/1_shape/cdm_run_v31526154949156_1_shape_4.png\n",
      "./cumulative_drawings/cdm_run_v31526154949156_age2/1_shape/cdm_run_v31526154949156_1_shape_5.png\n",
      "Oops, something went wrong! Here is the error:\n",
      "'codes' must be a 1D list or array with the same length of 'vertices'\n",
      "Great! Number of drawings made by this person: 12\n",
      "./cumulative_drawings/cdm_run_v31526155592798_adult/0_square/cdm_run_v31526155592798_0_square_0.png\n",
      "./cumulative_drawings/cdm_run_v31526155592798_adult/0_square/cdm_run_v31526155592798_0_square_1.png\n",
      "./cumulative_drawings/cdm_run_v31526155592798_adult/1_shape/cdm_run_v31526155592798_1_shape_0.png\n",
      "./cumulative_drawings/cdm_run_v31526155592798_adult/2_this circle/cdm_run_v31526155592798_2_this circle_0.png\n",
      "./cumulative_drawings/cdm_run_v31526155592798_adult/2_this circle/cdm_run_v31526155592798_2_this circle_1.png\n",
      "./cumulative_drawings/cdm_run_v31526155592798_adult/2_this circle/cdm_run_v31526155592798_2_this circle_2.png\n",
      "./cumulative_drawings/cdm_run_v31526155592798_adult/2_this circle/cdm_run_v31526155592798_2_this circle_3.png\n",
      "./cumulative_drawings/cdm_run_v31526155592798_adult/2_this circle/cdm_run_v31526155592798_2_this circle_4.png\n",
      "./cumulative_drawings/cdm_run_v31526155592798_adult/2_this circle/cdm_run_v31526155592798_2_this circle_5.png\n",
      "./cumulative_drawings/cdm_run_v31526155592798_adult/2_this circle/cdm_run_v31526155592798_2_this circle_6.png\n",
      "./cumulative_drawings/cdm_run_v31526155592798_adult/2_this circle/cdm_run_v31526155592798_2_this circle_7.png\n",
      "./cumulative_drawings/cdm_run_v31526155592798_adult/2_this circle/cdm_run_v31526155592798_2_this circle_8.png\n",
      "./cumulative_drawings/cdm_run_v31526155592798_adult/2_this circle/cdm_run_v31526155592798_2_this circle_9.png\n",
      "./cumulative_drawings/cdm_run_v31526155592798_adult/2_this circle/cdm_run_v31526155592798_2_this circle_10.png\n",
      "./cumulative_drawings/cdm_run_v31526155592798_adult/2_this circle/cdm_run_v31526155592798_2_this circle_11.png\n",
      "./cumulative_drawings/cdm_run_v31526155592798_adult/2_this circle/cdm_run_v31526155592798_2_this circle_12.png\n",
      "./cumulative_drawings/cdm_run_v31526155592798_adult/2_this circle/cdm_run_v31526155592798_2_this circle_13.png\n",
      "./cumulative_drawings/cdm_run_v31526155592798_adult/2_this circle/cdm_run_v31526155592798_2_this circle_14.png\n",
      "Oops, something went wrong! Here is the error:\n",
      "'codes' must be a 1D list or array with the same length of 'vertices'\n",
      "Great! Number of drawings made by this person: 12\n"
     ]
    },
    {
     "name": "stdout",
     "output_type": "stream",
     "text": [
      "./cumulative_drawings/cdm_run_v31526155956525_age9/0_square/cdm_run_v31526155956525_0_square_0.png\n",
      "./cumulative_drawings/cdm_run_v31526155956525_age9/1_shape/cdm_run_v31526155956525_1_shape_0.png\n",
      "./cumulative_drawings/cdm_run_v31526155956525_age9/2_this circle/cdm_run_v31526155956525_2_this circle_0.png\n",
      "Great! Number of drawings made by this person: 11\n",
      "./cumulative_drawings/cdm_run_v31526157427450_age5/0_square/cdm_run_v31526157427450_0_square_0.png\n",
      "./cumulative_drawings/cdm_run_v31526157427450_age5/1_shape/cdm_run_v31526157427450_1_shape_0.png\n",
      "./cumulative_drawings/cdm_run_v31526157427450_age5/2_this circle/cdm_run_v31526157427450_2_this circle_0.png\n",
      "./cumulative_drawings/cdm_run_v31526157427450_age5/2_this circle/cdm_run_v31526157427450_2_this circle_1.png\n",
      "Great! Number of drawings made by this person: 9\n",
      "./cumulative_drawings/cdm_run_v31526157685006_age6/0_square/cdm_run_v31526157685006_0_square_0.png\n",
      "./cumulative_drawings/cdm_run_v31526157685006_age6/0_square/cdm_run_v31526157685006_0_square_1.png\n",
      "./cumulative_drawings/cdm_run_v31526157685006_age6/1_shape/cdm_run_v31526157685006_1_shape_0.png\n",
      "./cumulative_drawings/cdm_run_v31526157685006_age6/1_shape/cdm_run_v31526157685006_1_shape_1.png\n",
      "./cumulative_drawings/cdm_run_v31526157685006_age6/1_shape/cdm_run_v31526157685006_1_shape_2.png\n",
      "./cumulative_drawings/cdm_run_v31526157685006_age6/2_this circle/cdm_run_v31526157685006_2_this circle_0.png\n",
      "./cumulative_drawings/cdm_run_v31526157685006_age6/2_this circle/cdm_run_v31526157685006_2_this circle_1.png\n",
      "Great! Number of drawings made by this person: 12\n",
      "./cumulative_drawings/cdm_run_v31526158807742_age5/0_square/cdm_run_v31526158807742_0_square_0.png\n",
      "./cumulative_drawings/cdm_run_v31526158807742_age5/1_shape/cdm_run_v31526158807742_1_shape_0.png\n",
      "./cumulative_drawings/cdm_run_v31526158807742_age5/2_this circle/cdm_run_v31526158807742_2_this circle_0.png\n",
      "Great! Number of drawings made by this person: 8\n",
      "./cumulative_drawings/cdm_run_v31526160539320_age2/0_square/cdm_run_v31526160539320_0_square_0.png\n",
      "./cumulative_drawings/cdm_run_v31526160539320_age2/1_shape/cdm_run_v31526160539320_1_shape_0.png\n",
      "./cumulative_drawings/cdm_run_v31526160539320_age2/1_shape/cdm_run_v31526160539320_1_shape_1.png\n",
      "./cumulative_drawings/cdm_run_v31526160539320_age2/1_shape/cdm_run_v31526160539320_1_shape_2.png\n",
      "./cumulative_drawings/cdm_run_v31526160539320_age2/1_shape/cdm_run_v31526160539320_1_shape_3.png\n",
      "./cumulative_drawings/cdm_run_v31526160539320_age2/1_shape/cdm_run_v31526160539320_1_shape_4.png\n",
      "./cumulative_drawings/cdm_run_v31526160539320_age2/1_shape/cdm_run_v31526160539320_1_shape_5.png\n",
      "./cumulative_drawings/cdm_run_v31526160539320_age2/1_shape/cdm_run_v31526160539320_1_shape_6.png\n",
      "./cumulative_drawings/cdm_run_v31526160539320_age2/1_shape/cdm_run_v31526160539320_1_shape_7.png\n",
      "./cumulative_drawings/cdm_run_v31526160539320_age2/1_shape/cdm_run_v31526160539320_1_shape_8.png\n",
      "./cumulative_drawings/cdm_run_v31526160539320_age2/1_shape/cdm_run_v31526160539320_1_shape_9.png\n",
      "./cumulative_drawings/cdm_run_v31526160539320_age2/2_this circle/cdm_run_v31526160539320_2_this circle_0.png\n",
      "./cumulative_drawings/cdm_run_v31526160539320_age2/2_this circle/cdm_run_v31526160539320_2_this circle_1.png\n",
      "./cumulative_drawings/cdm_run_v31526160539320_age2/2_this circle/cdm_run_v31526160539320_2_this circle_2.png\n",
      "./cumulative_drawings/cdm_run_v31526160539320_age2/2_this circle/cdm_run_v31526160539320_2_this circle_3.png\n",
      "Oops, something went wrong! Here is the error:\n",
      "'codes' must be a 1D list or array with the same length of 'vertices'\n",
      "Great! Number of drawings made by this person: 12\n",
      "./cumulative_drawings/cdm_run_v31526160653931_adult/0_square/cdm_run_v31526160653931_0_square_0.png\n",
      "./cumulative_drawings/cdm_run_v31526160653931_adult/1_shape/cdm_run_v31526160653931_1_shape_0.png\n",
      "./cumulative_drawings/cdm_run_v31526160653931_adult/2_this circle/cdm_run_v31526160653931_2_this circle_0.png\n",
      "Great! Number of drawings made by this person: 4\n",
      "./cumulative_drawings/cdm_run_v31526160796383_age2/0_square/cdm_run_v31526160796383_0_square_0.png\n",
      "./cumulative_drawings/cdm_run_v31526160796383_age2/0_square/cdm_run_v31526160796383_0_square_1.png\n",
      "./cumulative_drawings/cdm_run_v31526160796383_age2/1_shape/cdm_run_v31526160796383_1_shape_0.png\n",
      "./cumulative_drawings/cdm_run_v31526160796383_age2/1_shape/cdm_run_v31526160796383_1_shape_1.png\n",
      "./cumulative_drawings/cdm_run_v31526160796383_age2/1_shape/cdm_run_v31526160796383_1_shape_2.png\n",
      "./cumulative_drawings/cdm_run_v31526160796383_age2/1_shape/cdm_run_v31526160796383_1_shape_3.png\n",
      "./cumulative_drawings/cdm_run_v31526160796383_age2/1_shape/cdm_run_v31526160796383_1_shape_4.png\n",
      "Oops, something went wrong! Here is the error:\n",
      "'codes' must be a 1D list or array with the same length of 'vertices'\n",
      "Great! Number of drawings made by this person: 8\n",
      "./cumulative_drawings/cdm_run_v31526162026170_age4/0_square/cdm_run_v31526162026170_0_square_0.png\n",
      "./cumulative_drawings/cdm_run_v31526162026170_age4/1_shape/cdm_run_v31526162026170_1_shape_0.png\n",
      "./cumulative_drawings/cdm_run_v31526162026170_age4/1_shape/cdm_run_v31526162026170_1_shape_1.png\n",
      "./cumulative_drawings/cdm_run_v31526162026170_age4/1_shape/cdm_run_v31526162026170_1_shape_2.png\n",
      "./cumulative_drawings/cdm_run_v31526162026170_age4/1_shape/cdm_run_v31526162026170_1_shape_3.png\n",
      "Oops, something went wrong! Here is the error:\n",
      "'codes' must be a 1D list or array with the same length of 'vertices'\n",
      "Great! Number of drawings made by this person: 12\n",
      "./cumulative_drawings/cdm_run_v31526162477315_age2/0_square/cdm_run_v31526162477315_0_square_0.png\n",
      "./cumulative_drawings/cdm_run_v31526162477315_age2/0_square/cdm_run_v31526162477315_0_square_1.png\n",
      "./cumulative_drawings/cdm_run_v31526162477315_age2/0_square/cdm_run_v31526162477315_0_square_2.png\n",
      "./cumulative_drawings/cdm_run_v31526162477315_age2/0_square/cdm_run_v31526162477315_0_square_3.png\n",
      "./cumulative_drawings/cdm_run_v31526162477315_age2/0_square/cdm_run_v31526162477315_0_square_4.png\n",
      "./cumulative_drawings/cdm_run_v31526162477315_age2/0_square/cdm_run_v31526162477315_0_square_5.png\n",
      "./cumulative_drawings/cdm_run_v31526162477315_age2/0_square/cdm_run_v31526162477315_0_square_6.png\n",
      "./cumulative_drawings/cdm_run_v31526162477315_age2/0_square/cdm_run_v31526162477315_0_square_7.png\n",
      "./cumulative_drawings/cdm_run_v31526162477315_age2/1_shape/cdm_run_v31526162477315_1_shape_0.png\n",
      "./cumulative_drawings/cdm_run_v31526162477315_age2/2_this circle/cdm_run_v31526162477315_2_this circle_0.png\n",
      "./cumulative_drawings/cdm_run_v31526162477315_age2/2_this circle/cdm_run_v31526162477315_2_this circle_1.png\n",
      "./cumulative_drawings/cdm_run_v31526162477315_age2/2_this circle/cdm_run_v31526162477315_2_this circle_2.png\n",
      "./cumulative_drawings/cdm_run_v31526162477315_age2/2_this circle/cdm_run_v31526162477315_2_this circle_3.png\n",
      "./cumulative_drawings/cdm_run_v31526162477315_age2/2_this circle/cdm_run_v31526162477315_2_this circle_4.png\n",
      "./cumulative_drawings/cdm_run_v31526162477315_age2/2_this circle/cdm_run_v31526162477315_2_this circle_5.png\n",
      "./cumulative_drawings/cdm_run_v31526162477315_age2/2_this circle/cdm_run_v31526162477315_2_this circle_6.png\n",
      "./cumulative_drawings/cdm_run_v31526162477315_age2/2_this circle/cdm_run_v31526162477315_2_this circle_7.png\n",
      "./cumulative_drawings/cdm_run_v31526162477315_age2/2_this circle/cdm_run_v31526162477315_2_this circle_8.png\n",
      "./cumulative_drawings/cdm_run_v31526162477315_age2/2_this circle/cdm_run_v31526162477315_2_this circle_9.png\n",
      "Oops, something went wrong! Here is the error:\n",
      "'codes' must be a 1D list or array with the same length of 'vertices'\n",
      "Great! Number of drawings made by this person: 7\n",
      "./cumulative_drawings/cdm_run_v31526163240923_adult/0_square/cdm_run_v31526163240923_0_square_0.png\n",
      "./cumulative_drawings/cdm_run_v31526163240923_adult/1_shape/cdm_run_v31526163240923_1_shape_0.png\n",
      "./cumulative_drawings/cdm_run_v31526163240923_adult/1_shape/cdm_run_v31526163240923_1_shape_1.png\n",
      "./cumulative_drawings/cdm_run_v31526163240923_adult/1_shape/cdm_run_v31526163240923_1_shape_2.png\n",
      "./cumulative_drawings/cdm_run_v31526163240923_adult/1_shape/cdm_run_v31526163240923_1_shape_3.png\n",
      "./cumulative_drawings/cdm_run_v31526163240923_adult/1_shape/cdm_run_v31526163240923_1_shape_4.png\n",
      "./cumulative_drawings/cdm_run_v31526163240923_adult/1_shape/cdm_run_v31526163240923_1_shape_5.png\n",
      "Oops, something went wrong! Here is the error:\n",
      "'codes' must be a 1D list or array with the same length of 'vertices'\n"
     ]
    },
    {
     "name": "stdout",
     "output_type": "stream",
     "text": [
      "Great! Number of drawings made by this person: 4\n",
      "./cumulative_drawings/cdm_run_v31526163636798_age2/0_square/cdm_run_v31526163636798_0_square_0.png\n",
      "./cumulative_drawings/cdm_run_v31526163636798_age2/0_square/cdm_run_v31526163636798_0_square_1.png\n",
      "./cumulative_drawings/cdm_run_v31526163636798_age2/0_square/cdm_run_v31526163636798_0_square_2.png\n",
      "./cumulative_drawings/cdm_run_v31526163636798_age2/0_square/cdm_run_v31526163636798_0_square_3.png\n",
      "./cumulative_drawings/cdm_run_v31526163636798_age2/0_square/cdm_run_v31526163636798_0_square_4.png\n",
      "./cumulative_drawings/cdm_run_v31526163636798_age2/0_square/cdm_run_v31526163636798_0_square_5.png\n",
      "./cumulative_drawings/cdm_run_v31526163636798_age2/0_square/cdm_run_v31526163636798_0_square_6.png\n",
      "./cumulative_drawings/cdm_run_v31526163636798_age2/0_square/cdm_run_v31526163636798_0_square_7.png\n",
      "Oops, something went wrong! Here is the error:\n",
      "'codes' must be a 1D list or array with the same length of 'vertices'\n",
      "Great! Number of drawings made by this person: 7\n",
      "./cumulative_drawings/cdm_run_v31526163910656_age8/0_square/cdm_run_v31526163910656_0_square_0.png\n",
      "./cumulative_drawings/cdm_run_v31526163910656_age8/1_shape/cdm_run_v31526163910656_1_shape_0.png\n",
      "./cumulative_drawings/cdm_run_v31526163910656_age8/2_this circle/cdm_run_v31526163910656_2_this circle_0.png\n",
      "Great! Number of drawings made by this person: 12\n",
      "./cumulative_drawings/cdm_run_v31526164238357_age8/0_square/cdm_run_v31526164238357_0_square_0.png\n",
      "./cumulative_drawings/cdm_run_v31526164238357_age8/1_shape/cdm_run_v31526164238357_1_shape_0.png\n",
      "./cumulative_drawings/cdm_run_v31526164238357_age8/2_this circle/cdm_run_v31526164238357_2_this circle_0.png\n",
      "Great! Number of drawings made by this person: 6\n",
      "./cumulative_drawings/cdm_run_v31526166383560_age4/0_square/cdm_run_v31526166383560_0_square_0.png\n",
      "./cumulative_drawings/cdm_run_v31526166383560_age4/0_square/cdm_run_v31526166383560_0_square_1.png\n",
      "./cumulative_drawings/cdm_run_v31526166383560_age4/0_square/cdm_run_v31526166383560_0_square_2.png\n",
      "./cumulative_drawings/cdm_run_v31526166383560_age4/0_square/cdm_run_v31526166383560_0_square_3.png\n",
      "./cumulative_drawings/cdm_run_v31526166383560_age4/0_square/cdm_run_v31526166383560_0_square_4.png\n",
      "./cumulative_drawings/cdm_run_v31526166383560_age4/0_square/cdm_run_v31526166383560_0_square_5.png\n",
      "./cumulative_drawings/cdm_run_v31526166383560_age4/0_square/cdm_run_v31526166383560_0_square_6.png\n",
      "./cumulative_drawings/cdm_run_v31526166383560_age4/0_square/cdm_run_v31526166383560_0_square_7.png\n",
      "./cumulative_drawings/cdm_run_v31526166383560_age4/0_square/cdm_run_v31526166383560_0_square_8.png\n",
      "./cumulative_drawings/cdm_run_v31526166383560_age4/0_square/cdm_run_v31526166383560_0_square_9.png\n",
      "./cumulative_drawings/cdm_run_v31526166383560_age4/0_square/cdm_run_v31526166383560_0_square_10.png\n",
      "./cumulative_drawings/cdm_run_v31526166383560_age4/0_square/cdm_run_v31526166383560_0_square_11.png\n",
      "./cumulative_drawings/cdm_run_v31526166383560_age4/0_square/cdm_run_v31526166383560_0_square_12.png\n",
      "./cumulative_drawings/cdm_run_v31526166383560_age4/0_square/cdm_run_v31526166383560_0_square_13.png\n",
      "./cumulative_drawings/cdm_run_v31526166383560_age4/0_square/cdm_run_v31526166383560_0_square_14.png\n",
      "Oops, something went wrong! Here is the error:\n",
      "'codes' must be a 1D list or array with the same length of 'vertices'\n",
      "Great! Number of drawings made by this person: 5\n",
      "./cumulative_drawings/cdm_run_v31526166579282_age4/0_square/cdm_run_v31526166579282_0_square_0.png\n",
      "./cumulative_drawings/cdm_run_v31526166579282_age4/1_shape/cdm_run_v31526166579282_1_shape_0.png\n",
      "./cumulative_drawings/cdm_run_v31526166579282_age4/2_this circle/cdm_run_v31526166579282_2_this circle_0.png\n",
      "Great! Number of drawings made by this person: 12\n",
      "./cumulative_drawings/cdm_run_v31526167651102_age4/0_square/cdm_run_v31526167651102_0_square_0.png\n",
      "./cumulative_drawings/cdm_run_v31526167651102_age4/1_shape/cdm_run_v31526167651102_1_shape_0.png\n",
      "./cumulative_drawings/cdm_run_v31526167651102_age4/1_shape/cdm_run_v31526167651102_1_shape_1.png\n",
      "./cumulative_drawings/cdm_run_v31526167651102_age4/1_shape/cdm_run_v31526167651102_1_shape_2.png\n",
      "./cumulative_drawings/cdm_run_v31526167651102_age4/1_shape/cdm_run_v31526167651102_1_shape_3.png\n",
      "./cumulative_drawings/cdm_run_v31526167651102_age4/1_shape/cdm_run_v31526167651102_1_shape_4.png\n",
      "./cumulative_drawings/cdm_run_v31526167651102_age4/2_this circle/cdm_run_v31526167651102_2_this circle_0.png\n",
      "Great! Number of drawings made by this person: 12\n",
      "./cumulative_drawings/cdm_run_v31526168752022_age6/0_square/cdm_run_v31526168752022_0_square_0.png\n",
      "./cumulative_drawings/cdm_run_v31526168752022_age6/1_shape/cdm_run_v31526168752022_1_shape_0.png\n",
      "./cumulative_drawings/cdm_run_v31526168752022_age6/1_shape/cdm_run_v31526168752022_1_shape_1.png\n",
      "./cumulative_drawings/cdm_run_v31526168752022_age6/1_shape/cdm_run_v31526168752022_1_shape_2.png\n",
      "./cumulative_drawings/cdm_run_v31526168752022_age6/1_shape/cdm_run_v31526168752022_1_shape_3.png\n",
      "./cumulative_drawings/cdm_run_v31526168752022_age6/1_shape/cdm_run_v31526168752022_1_shape_4.png\n",
      "./cumulative_drawings/cdm_run_v31526168752022_age6/1_shape/cdm_run_v31526168752022_1_shape_5.png\n",
      "./cumulative_drawings/cdm_run_v31526168752022_age6/1_shape/cdm_run_v31526168752022_1_shape_6.png\n",
      "./cumulative_drawings/cdm_run_v31526168752022_age6/2_this circle/cdm_run_v31526168752022_2_this circle_0.png\n",
      "Great! Number of drawings made by this person: 4\n",
      "./cumulative_drawings/cdm_run_v31526230799543_age4/0_square/cdm_run_v31526230799543_0_square_0.png\n",
      "./cumulative_drawings/cdm_run_v31526230799543_age4/1_shape/cdm_run_v31526230799543_1_shape_0.png\n",
      "./cumulative_drawings/cdm_run_v31526230799543_age4/1_shape/cdm_run_v31526230799543_1_shape_1.png\n",
      "Oops, something went wrong! Here is the error:\n",
      "'codes' must be a 1D list or array with the same length of 'vertices'\n",
      "Great! Number of drawings made by this person: 12\n",
      "./cumulative_drawings/cdm_run_v31526239192649_age4/0_square/cdm_run_v31526239192649_0_square_0.png\n",
      "./cumulative_drawings/cdm_run_v31526239192649_age4/1_shape/cdm_run_v31526239192649_1_shape_0.png\n",
      "./cumulative_drawings/cdm_run_v31526239192649_age4/2_this circle/cdm_run_v31526239192649_2_this circle_0.png\n",
      "./cumulative_drawings/cdm_run_v31526239192649_age4/2_this circle/cdm_run_v31526239192649_2_this circle_1.png\n",
      "Great! Number of drawings made by this person: 11\n",
      "./cumulative_drawings/cdm_run_v31526240601849_age6/0_square/cdm_run_v31526240601849_0_square_0.png\n",
      "./cumulative_drawings/cdm_run_v31526240601849_age6/0_square/cdm_run_v31526240601849_0_square_1.png\n",
      "./cumulative_drawings/cdm_run_v31526240601849_age6/1_shape/cdm_run_v31526240601849_1_shape_0.png\n",
      "./cumulative_drawings/cdm_run_v31526240601849_age6/2_this circle/cdm_run_v31526240601849_2_this circle_0.png\n",
      "Great! Number of drawings made by this person: 12\n",
      "./cumulative_drawings/cdm_run_v31526241319670_age2/0_square/cdm_run_v31526241319670_0_square_0.png\n",
      "./cumulative_drawings/cdm_run_v31526241319670_age2/0_square/cdm_run_v31526241319670_0_square_1.png\n",
      "./cumulative_drawings/cdm_run_v31526241319670_age2/0_square/cdm_run_v31526241319670_0_square_2.png\n",
      "./cumulative_drawings/cdm_run_v31526241319670_age2/1_shape/cdm_run_v31526241319670_1_shape_0.png\n",
      "./cumulative_drawings/cdm_run_v31526241319670_age2/1_shape/cdm_run_v31526241319670_1_shape_1.png\n",
      "./cumulative_drawings/cdm_run_v31526241319670_age2/1_shape/cdm_run_v31526241319670_1_shape_2.png\n",
      "./cumulative_drawings/cdm_run_v31526241319670_age2/1_shape/cdm_run_v31526241319670_1_shape_3.png\n",
      "./cumulative_drawings/cdm_run_v31526241319670_age2/1_shape/cdm_run_v31526241319670_1_shape_4.png\n",
      "./cumulative_drawings/cdm_run_v31526241319670_age2/1_shape/cdm_run_v31526241319670_1_shape_5.png\n",
      "Oops, something went wrong! Here is the error:\n",
      "'codes' must be a 1D list or array with the same length of 'vertices'\n",
      "Great! Number of drawings made by this person: 12\n",
      "./cumulative_drawings/cdm_run_v31526244386384_age7/0_square/cdm_run_v31526244386384_0_square_0.png\n",
      "./cumulative_drawings/cdm_run_v31526244386384_age7/1_shape/cdm_run_v31526244386384_1_shape_0.png\n",
      "./cumulative_drawings/cdm_run_v31526244386384_age7/2_this circle/cdm_run_v31526244386384_2_this circle_0.png\n",
      "Great! Number of drawings made by this person: 6\n",
      "./cumulative_drawings/cdm_run_v31526245726886_age3/0_square/cdm_run_v31526245726886_0_square_0.png\n"
     ]
    },
    {
     "name": "stdout",
     "output_type": "stream",
     "text": [
      "./cumulative_drawings/cdm_run_v31526245726886_age3/1_shape/cdm_run_v31526245726886_1_shape_0.png\n",
      "./cumulative_drawings/cdm_run_v31526245726886_age3/1_shape/cdm_run_v31526245726886_1_shape_1.png\n",
      "./cumulative_drawings/cdm_run_v31526245726886_age3/1_shape/cdm_run_v31526245726886_1_shape_2.png\n",
      "./cumulative_drawings/cdm_run_v31526245726886_age3/2_this circle/cdm_run_v31526245726886_2_this circle_0.png\n",
      "Great! Number of drawings made by this person: 10\n",
      "./cumulative_drawings/cdm_run_v31526247467722_age9/0_square/cdm_run_v31526247467722_0_square_0.png\n",
      "./cumulative_drawings/cdm_run_v31526247467722_age9/0_square/cdm_run_v31526247467722_0_square_1.png\n",
      "./cumulative_drawings/cdm_run_v31526247467722_age9/0_square/cdm_run_v31526247467722_0_square_2.png\n",
      "./cumulative_drawings/cdm_run_v31526247467722_age9/1_shape/cdm_run_v31526247467722_1_shape_0.png\n",
      "./cumulative_drawings/cdm_run_v31526247467722_age9/2_this circle/cdm_run_v31526247467722_2_this circle_0.png\n",
      "Great! Number of drawings made by this person: 7\n",
      "./cumulative_drawings/cdm_run_v31526249267204_age2/0_square/cdm_run_v31526249267204_0_square_0.png\n",
      "./cumulative_drawings/cdm_run_v31526249267204_age2/1_shape/cdm_run_v31526249267204_1_shape_0.png\n",
      "./cumulative_drawings/cdm_run_v31526249267204_age2/2_this circle/cdm_run_v31526249267204_2_this circle_0.png\n",
      "Great! Number of drawings made by this person: 7\n",
      "./cumulative_drawings/cdm_run_v31526249613486_adult/0_square/cdm_run_v31526249613486_0_square_0.png\n",
      "./cumulative_drawings/cdm_run_v31526249613486_adult/1_shape/cdm_run_v31526249613486_1_shape_0.png\n",
      "./cumulative_drawings/cdm_run_v31526249613486_adult/1_shape/cdm_run_v31526249613486_1_shape_1.png\n",
      "./cumulative_drawings/cdm_run_v31526249613486_adult/1_shape/cdm_run_v31526249613486_1_shape_2.png\n",
      "./cumulative_drawings/cdm_run_v31526249613486_adult/1_shape/cdm_run_v31526249613486_1_shape_3.png\n",
      "./cumulative_drawings/cdm_run_v31526249613486_adult/2_this circle/cdm_run_v31526249613486_2_this circle_0.png\n",
      "Great! Number of drawings made by this person: 12\n",
      "./cumulative_drawings/cdm_run_v31526249878999_age8/0_square/cdm_run_v31526249878999_0_square_0.png\n",
      "./cumulative_drawings/cdm_run_v31526249878999_age8/1_shape/cdm_run_v31526249878999_1_shape_0.png\n",
      "Oops, something went wrong! Here is the error:\n",
      "\n",
      "Great! Number of drawings made by this person: 11\n",
      "./cumulative_drawings/cdm_run_v31526250064091_age4/0_square/cdm_run_v31526250064091_0_square_0.png\n",
      "./cumulative_drawings/cdm_run_v31526250064091_age4/1_shape/cdm_run_v31526250064091_1_shape_0.png\n",
      "Oops, something went wrong! Here is the error:\n",
      "'codes' must be a 1D list or array with the same length of 'vertices'\n",
      "Great! Number of drawings made by this person: 3\n",
      "Oops, something went wrong! Here is the error:\n",
      "\n",
      "Great! Number of drawings made by this person: 11\n",
      "./cumulative_drawings/cdm_run_v31526251554792_age6/0_square/cdm_run_v31526251554792_0_square_0.png\n",
      "./cumulative_drawings/cdm_run_v31526251554792_age6/1_shape/cdm_run_v31526251554792_1_shape_0.png\n",
      "./cumulative_drawings/cdm_run_v31526251554792_age6/1_shape/cdm_run_v31526251554792_1_shape_1.png\n",
      "./cumulative_drawings/cdm_run_v31526251554792_age6/2_this circle/cdm_run_v31526251554792_2_this circle_0.png\n",
      "Great! Number of drawings made by this person: 12\n",
      "./cumulative_drawings/cdm_run_v31526251955281_age6/0_square/cdm_run_v31526251955281_0_square_0.png\n",
      "./cumulative_drawings/cdm_run_v31526251955281_age6/1_shape/cdm_run_v31526251955281_1_shape_0.png\n",
      "./cumulative_drawings/cdm_run_v31526251955281_age6/2_this circle/cdm_run_v31526251955281_2_this circle_0.png\n",
      "Great! Number of drawings made by this person: 12\n",
      "./cumulative_drawings/cdm_run_v31526252261677_age9/0_square/cdm_run_v31526252261677_0_square_0.png\n",
      "./cumulative_drawings/cdm_run_v31526252261677_age9/1_shape/cdm_run_v31526252261677_1_shape_0.png\n",
      "./cumulative_drawings/cdm_run_v31526252261677_age9/2_this circle/cdm_run_v31526252261677_2_this circle_0.png\n",
      "Great! Number of drawings made by this person: 12\n",
      "./cumulative_drawings/cdm_run_v31526252692974_age7/0_square/cdm_run_v31526252692974_0_square_0.png\n",
      "./cumulative_drawings/cdm_run_v31526252692974_age7/1_shape/cdm_run_v31526252692974_1_shape_0.png\n",
      "./cumulative_drawings/cdm_run_v31526252692974_age7/2_this circle/cdm_run_v31526252692974_2_this circle_0.png\n",
      "Great! Number of drawings made by this person: 12\n",
      "./cumulative_drawings/cdm_run_v31526253016255_age8/0_square/cdm_run_v31526253016255_0_square_0.png\n",
      "Oops, something went wrong! Here is the error:\n",
      "\n",
      "Great! Number of drawings made by this person: 12\n",
      "./cumulative_drawings/cdm_run_v31526253202063_age3/0_square/cdm_run_v31526253202063_0_square_0.png\n",
      "./cumulative_drawings/cdm_run_v31526253202063_age3/0_square/cdm_run_v31526253202063_0_square_1.png\n",
      "./cumulative_drawings/cdm_run_v31526253202063_age3/1_shape/cdm_run_v31526253202063_1_shape_0.png\n",
      "./cumulative_drawings/cdm_run_v31526253202063_age3/1_shape/cdm_run_v31526253202063_1_shape_1.png\n",
      "./cumulative_drawings/cdm_run_v31526253202063_age3/1_shape/cdm_run_v31526253202063_1_shape_2.png\n",
      "./cumulative_drawings/cdm_run_v31526253202063_age3/1_shape/cdm_run_v31526253202063_1_shape_3.png\n",
      "./cumulative_drawings/cdm_run_v31526253202063_age3/1_shape/cdm_run_v31526253202063_1_shape_4.png\n",
      "./cumulative_drawings/cdm_run_v31526253202063_age3/1_shape/cdm_run_v31526253202063_1_shape_5.png\n",
      "./cumulative_drawings/cdm_run_v31526253202063_age3/1_shape/cdm_run_v31526253202063_1_shape_6.png\n",
      "Oops, something went wrong! Here is the error:\n",
      "'codes' must be a 1D list or array with the same length of 'vertices'\n",
      "Great! Number of drawings made by this person: 9\n",
      "./cumulative_drawings/cdm_run_v31526253458184_age9/0_square/cdm_run_v31526253458184_0_square_0.png\n",
      "./cumulative_drawings/cdm_run_v31526253458184_age9/1_shape/cdm_run_v31526253458184_1_shape_0.png\n",
      "./cumulative_drawings/cdm_run_v31526253458184_age9/2_this circle/cdm_run_v31526253458184_2_this circle_0.png\n",
      "Great! Number of drawings made by this person: 12\n",
      "./cumulative_drawings/cdm_run_v31526254092272_age5/0_square/cdm_run_v31526254092272_0_square_0.png\n",
      "./cumulative_drawings/cdm_run_v31526254092272_age5/1_shape/cdm_run_v31526254092272_1_shape_0.png\n",
      "./cumulative_drawings/cdm_run_v31526254092272_age5/2_this circle/cdm_run_v31526254092272_2_this circle_0.png\n",
      "Great! Number of drawings made by this person: 12\n",
      "./cumulative_drawings/cdm_run_v31526254628791_age5/0_square/cdm_run_v31526254628791_0_square_0.png\n",
      "./cumulative_drawings/cdm_run_v31526254628791_age5/1_shape/cdm_run_v31526254628791_1_shape_0.png\n",
      "./cumulative_drawings/cdm_run_v31526254628791_age5/2_this circle/cdm_run_v31526254628791_2_this circle_0.png\n",
      "Great! Number of drawings made by this person: 11\n",
      "./cumulative_drawings/cdm_run_v31526254866517_age5/0_square/cdm_run_v31526254866517_0_square_0.png\n",
      "Oops, something went wrong! Here is the error:\n",
      "'codes' must be a 1D list or array with the same length of 'vertices'\n",
      "Great! Number of drawings made by this person: 3\n",
      "./cumulative_drawings/cdm_run_v31526403599614_age2/0_square/cdm_run_v31526403599614_0_square_0.png\n",
      "./cumulative_drawings/cdm_run_v31526403599614_age2/0_square/cdm_run_v31526403599614_0_square_1.png\n",
      "./cumulative_drawings/cdm_run_v31526403599614_age2/0_square/cdm_run_v31526403599614_0_square_2.png\n",
      "./cumulative_drawings/cdm_run_v31526403599614_age2/0_square/cdm_run_v31526403599614_0_square_3.png\n",
      "./cumulative_drawings/cdm_run_v31526403599614_age2/0_square/cdm_run_v31526403599614_0_square_4.png\n",
      "./cumulative_drawings/cdm_run_v31526403599614_age2/0_square/cdm_run_v31526403599614_0_square_5.png\n",
      "./cumulative_drawings/cdm_run_v31526403599614_age2/1_shape/cdm_run_v31526403599614_1_shape_0.png\n",
      "./cumulative_drawings/cdm_run_v31526403599614_age2/1_shape/cdm_run_v31526403599614_1_shape_1.png\n",
      "./cumulative_drawings/cdm_run_v31526403599614_age2/1_shape/cdm_run_v31526403599614_1_shape_2.png\n",
      "./cumulative_drawings/cdm_run_v31526403599614_age2/1_shape/cdm_run_v31526403599614_1_shape_3.png\n",
      "./cumulative_drawings/cdm_run_v31526403599614_age2/1_shape/cdm_run_v31526403599614_1_shape_4.png\n",
      "./cumulative_drawings/cdm_run_v31526403599614_age2/2_this circle/cdm_run_v31526403599614_2_this circle_0.png\n",
      "Great! Number of drawings made by this person: 6\n",
      "./cumulative_drawings/cdm_run_v31526409936551_age6/0_square/cdm_run_v31526409936551_0_square_0.png\n",
      "./cumulative_drawings/cdm_run_v31526409936551_age6/0_square/cdm_run_v31526409936551_0_square_1.png\n",
      "./cumulative_drawings/cdm_run_v31526409936551_age6/0_square/cdm_run_v31526409936551_0_square_2.png\n"
     ]
    },
    {
     "name": "stdout",
     "output_type": "stream",
     "text": [
      "./cumulative_drawings/cdm_run_v31526409936551_age6/0_square/cdm_run_v31526409936551_0_square_3.png\n",
      "Oops, something went wrong! Here is the error:\n",
      "'codes' must be a 1D list or array with the same length of 'vertices'\n",
      "Great! Number of drawings made by this person: 12\n",
      "./cumulative_drawings/cdm_run_v31526410266990_adult/0_square/cdm_run_v31526410266990_0_square_0.png\n",
      "./cumulative_drawings/cdm_run_v31526410266990_adult/0_square/cdm_run_v31526410266990_0_square_1.png\n",
      "./cumulative_drawings/cdm_run_v31526410266990_adult/1_shape/cdm_run_v31526410266990_1_shape_0.png\n",
      "./cumulative_drawings/cdm_run_v31526410266990_adult/1_shape/cdm_run_v31526410266990_1_shape_1.png\n",
      "./cumulative_drawings/cdm_run_v31526410266990_adult/1_shape/cdm_run_v31526410266990_1_shape_2.png\n",
      "./cumulative_drawings/cdm_run_v31526410266990_adult/1_shape/cdm_run_v31526410266990_1_shape_3.png\n",
      "./cumulative_drawings/cdm_run_v31526410266990_adult/2_this circle/cdm_run_v31526410266990_2_this circle_0.png\n",
      "Great! Number of drawings made by this person: 4\n",
      "./cumulative_drawings/cdm_run_v31526411112241_age2/0_square/cdm_run_v31526411112241_0_square_0.png\n",
      "./cumulative_drawings/cdm_run_v31526411112241_age2/0_square/cdm_run_v31526411112241_0_square_1.png\n",
      "./cumulative_drawings/cdm_run_v31526411112241_age2/0_square/cdm_run_v31526411112241_0_square_2.png\n",
      "./cumulative_drawings/cdm_run_v31526411112241_age2/1_shape/cdm_run_v31526411112241_1_shape_0.png\n",
      "./cumulative_drawings/cdm_run_v31526411112241_age2/1_shape/cdm_run_v31526411112241_1_shape_1.png\n",
      "Oops, something went wrong! Here is the error:\n",
      "'codes' must be a 1D list or array with the same length of 'vertices'\n",
      "Great! Number of drawings made by this person: 4\n",
      "./cumulative_drawings/cdm_run_v31526411171270_age2/0_square/cdm_run_v31526411171270_0_square_0.png\n",
      "./cumulative_drawings/cdm_run_v31526411171270_age2/0_square/cdm_run_v31526411171270_0_square_1.png\n",
      "./cumulative_drawings/cdm_run_v31526411171270_age2/0_square/cdm_run_v31526411171270_0_square_2.png\n",
      "./cumulative_drawings/cdm_run_v31526411171270_age2/0_square/cdm_run_v31526411171270_0_square_3.png\n",
      "./cumulative_drawings/cdm_run_v31526411171270_age2/1_shape/cdm_run_v31526411171270_1_shape_0.png\n",
      "./cumulative_drawings/cdm_run_v31526411171270_age2/1_shape/cdm_run_v31526411171270_1_shape_1.png\n",
      "Oops, something went wrong! Here is the error:\n",
      "'codes' must be a 1D list or array with the same length of 'vertices'\n",
      "Great! Number of drawings made by this person: 4\n",
      "./cumulative_drawings/cdm_run_v31526412933917_age3/0_square/cdm_run_v31526412933917_0_square_0.png\n",
      "./cumulative_drawings/cdm_run_v31526412933917_age3/0_square/cdm_run_v31526412933917_0_square_1.png\n",
      "./cumulative_drawings/cdm_run_v31526412933917_age3/0_square/cdm_run_v31526412933917_0_square_2.png\n",
      "./cumulative_drawings/cdm_run_v31526412933917_age3/0_square/cdm_run_v31526412933917_0_square_3.png\n",
      "./cumulative_drawings/cdm_run_v31526412933917_age3/0_square/cdm_run_v31526412933917_0_square_4.png\n",
      "./cumulative_drawings/cdm_run_v31526412933917_age3/0_square/cdm_run_v31526412933917_0_square_5.png\n",
      "./cumulative_drawings/cdm_run_v31526412933917_age3/0_square/cdm_run_v31526412933917_0_square_6.png\n",
      "./cumulative_drawings/cdm_run_v31526412933917_age3/0_square/cdm_run_v31526412933917_0_square_7.png\n",
      "./cumulative_drawings/cdm_run_v31526412933917_age3/0_square/cdm_run_v31526412933917_0_square_8.png\n",
      "./cumulative_drawings/cdm_run_v31526412933917_age3/0_square/cdm_run_v31526412933917_0_square_9.png\n",
      "./cumulative_drawings/cdm_run_v31526412933917_age3/1_shape/cdm_run_v31526412933917_1_shape_0.png\n",
      "./cumulative_drawings/cdm_run_v31526412933917_age3/1_shape/cdm_run_v31526412933917_1_shape_1.png\n",
      "./cumulative_drawings/cdm_run_v31526412933917_age3/1_shape/cdm_run_v31526412933917_1_shape_2.png\n",
      "./cumulative_drawings/cdm_run_v31526412933917_age3/1_shape/cdm_run_v31526412933917_1_shape_3.png\n",
      "Oops, something went wrong! Here is the error:\n",
      "'codes' must be a 1D list or array with the same length of 'vertices'\n",
      "Great! Number of drawings made by this person: 12\n",
      "./cumulative_drawings/cdm_run_v31526413722391_age2/0_square/cdm_run_v31526413722391_0_square_0.png\n",
      "./cumulative_drawings/cdm_run_v31526413722391_age2/0_square/cdm_run_v31526413722391_0_square_1.png\n",
      "./cumulative_drawings/cdm_run_v31526413722391_age2/0_square/cdm_run_v31526413722391_0_square_2.png\n",
      "./cumulative_drawings/cdm_run_v31526413722391_age2/0_square/cdm_run_v31526413722391_0_square_3.png\n",
      "Oops, something went wrong! Here is the error:\n",
      "'codes' must be a 1D list or array with the same length of 'vertices'\n",
      "Great! Number of drawings made by this person: 12\n",
      "./cumulative_drawings/cdm_run_v31526413939938_age8/0_square/cdm_run_v31526413939938_0_square_0.png\n",
      "./cumulative_drawings/cdm_run_v31526413939938_age8/1_shape/cdm_run_v31526413939938_1_shape_0.png\n",
      "./cumulative_drawings/cdm_run_v31526413939938_age8/2_this circle/cdm_run_v31526413939938_2_this circle_0.png\n",
      "Great! Number of drawings made by this person: 12\n",
      "./cumulative_drawings/cdm_run_v31526414161959_adult/0_square/cdm_run_v31526414161959_0_square_0.png\n",
      "./cumulative_drawings/cdm_run_v31526414161959_adult/1_shape/cdm_run_v31526414161959_1_shape_0.png\n",
      "./cumulative_drawings/cdm_run_v31526414161959_adult/2_this circle/cdm_run_v31526414161959_2_this circle_0.png\n",
      "Great! Number of drawings made by this person: 8\n",
      "./cumulative_drawings/cdm_run_v31526414368321_age2/0_square/cdm_run_v31526414368321_0_square_0.png\n",
      "./cumulative_drawings/cdm_run_v31526414368321_age2/0_square/cdm_run_v31526414368321_0_square_1.png\n",
      "./cumulative_drawings/cdm_run_v31526414368321_age2/0_square/cdm_run_v31526414368321_0_square_2.png\n",
      "./cumulative_drawings/cdm_run_v31526414368321_age2/0_square/cdm_run_v31526414368321_0_square_3.png\n",
      "Oops, something went wrong! Here is the error:\n",
      "'codes' must be a 1D list or array with the same length of 'vertices'\n",
      "Great! Number of drawings made by this person: 12\n",
      "./cumulative_drawings/cdm_run_v31526415298029_age3/0_square/cdm_run_v31526415298029_0_square_0.png\n",
      "./cumulative_drawings/cdm_run_v31526415298029_age3/1_shape/cdm_run_v31526415298029_1_shape_0.png\n",
      "./cumulative_drawings/cdm_run_v31526415298029_age3/1_shape/cdm_run_v31526415298029_1_shape_1.png\n",
      "./cumulative_drawings/cdm_run_v31526415298029_age3/1_shape/cdm_run_v31526415298029_1_shape_2.png\n",
      "./cumulative_drawings/cdm_run_v31526415298029_age3/1_shape/cdm_run_v31526415298029_1_shape_3.png\n",
      "./cumulative_drawings/cdm_run_v31526415298029_age3/2_this circle/cdm_run_v31526415298029_2_this circle_0.png\n",
      "Great! Number of drawings made by this person: 9\n",
      "./cumulative_drawings/cdm_run_v31526417227846_age4/0_square/cdm_run_v31526417227846_0_square_0.png\n",
      "Oops, something went wrong! Here is the error:\n",
      "'codes' must be a 1D list or array with the same length of 'vertices'\n",
      "Great! Number of drawings made by this person: 12\n",
      "./cumulative_drawings/cdm_run_v31526417564997_age7/0_square/cdm_run_v31526417564997_0_square_0.png\n",
      "./cumulative_drawings/cdm_run_v31526417564997_age7/1_shape/cdm_run_v31526417564997_1_shape_0.png\n",
      "./cumulative_drawings/cdm_run_v31526417564997_age7/1_shape/cdm_run_v31526417564997_1_shape_1.png\n",
      "./cumulative_drawings/cdm_run_v31526417564997_age7/2_this circle/cdm_run_v31526417564997_2_this circle_0.png\n",
      "Great! Number of drawings made by this person: 12\n",
      "./cumulative_drawings/cdm_run_v31526418564273_age5/0_square/cdm_run_v31526418564273_0_square_0.png\n",
      "./cumulative_drawings/cdm_run_v31526418564273_age5/0_square/cdm_run_v31526418564273_0_square_1.png\n",
      "./cumulative_drawings/cdm_run_v31526418564273_age5/1_shape/cdm_run_v31526418564273_1_shape_0.png\n",
      "./cumulative_drawings/cdm_run_v31526418564273_age5/2_this circle/cdm_run_v31526418564273_2_this circle_0.png\n",
      "Great! Number of drawings made by this person: 5\n",
      "./cumulative_drawings/cdm_run_v31526420267473_age5/0_square/cdm_run_v31526420267473_0_square_0.png\n",
      "./cumulative_drawings/cdm_run_v31526420267473_age5/0_square/cdm_run_v31526420267473_0_square_1.png\n",
      "./cumulative_drawings/cdm_run_v31526420267473_age5/0_square/cdm_run_v31526420267473_0_square_2.png\n",
      "./cumulative_drawings/cdm_run_v31526420267473_age5/0_square/cdm_run_v31526420267473_0_square_3.png\n",
      "./cumulative_drawings/cdm_run_v31526420267473_age5/1_shape/cdm_run_v31526420267473_1_shape_0.png\n",
      "./cumulative_drawings/cdm_run_v31526420267473_age5/2_this circle/cdm_run_v31526420267473_2_this circle_0.png\n",
      "./cumulative_drawings/cdm_run_v31526420267473_age5/2_this circle/cdm_run_v31526420267473_2_this circle_1.png\n",
      "./cumulative_drawings/cdm_run_v31526420267473_age5/2_this circle/cdm_run_v31526420267473_2_this circle_2.png\n",
      "./cumulative_drawings/cdm_run_v31526420267473_age5/2_this circle/cdm_run_v31526420267473_2_this circle_3.png\n"
     ]
    },
    {
     "name": "stdout",
     "output_type": "stream",
     "text": [
      "./cumulative_drawings/cdm_run_v31526420267473_age5/2_this circle/cdm_run_v31526420267473_2_this circle_4.png\n",
      "Oops, something went wrong! Here is the error:\n",
      "'codes' must be a 1D list or array with the same length of 'vertices'\n",
      "Great! Number of drawings made by this person: 5\n",
      "./cumulative_drawings/cdm_run_v31526420360572_age5/0_square/cdm_run_v31526420360572_0_square_0.png\n",
      "./cumulative_drawings/cdm_run_v31526420360572_age5/1_shape/cdm_run_v31526420360572_1_shape_0.png\n",
      "./cumulative_drawings/cdm_run_v31526420360572_age5/1_shape/cdm_run_v31526420360572_1_shape_1.png\n",
      "./cumulative_drawings/cdm_run_v31526420360572_age5/1_shape/cdm_run_v31526420360572_1_shape_2.png\n",
      "./cumulative_drawings/cdm_run_v31526420360572_age5/1_shape/cdm_run_v31526420360572_1_shape_3.png\n",
      "./cumulative_drawings/cdm_run_v31526420360572_age5/1_shape/cdm_run_v31526420360572_1_shape_4.png\n",
      "./cumulative_drawings/cdm_run_v31526420360572_age5/2_this circle/cdm_run_v31526420360572_2_this circle_0.png\n",
      "./cumulative_drawings/cdm_run_v31526420360572_age5/2_this circle/cdm_run_v31526420360572_2_this circle_1.png\n",
      "./cumulative_drawings/cdm_run_v31526420360572_age5/2_this circle/cdm_run_v31526420360572_2_this circle_2.png\n",
      "./cumulative_drawings/cdm_run_v31526420360572_age5/2_this circle/cdm_run_v31526420360572_2_this circle_3.png\n",
      "./cumulative_drawings/cdm_run_v31526420360572_age5/2_this circle/cdm_run_v31526420360572_2_this circle_4.png\n",
      "Great! Number of drawings made by this person: 5\n",
      "./cumulative_drawings/cdm_run_v31526422835385_age8/0_square/cdm_run_v31526422835385_0_square_0.png\n",
      "./cumulative_drawings/cdm_run_v31526422835385_age8/0_square/cdm_run_v31526422835385_0_square_1.png\n",
      "./cumulative_drawings/cdm_run_v31526422835385_age8/0_square/cdm_run_v31526422835385_0_square_2.png\n",
      "./cumulative_drawings/cdm_run_v31526422835385_age8/0_square/cdm_run_v31526422835385_0_square_3.png\n",
      "./cumulative_drawings/cdm_run_v31526422835385_age8/0_square/cdm_run_v31526422835385_0_square_4.png\n",
      "./cumulative_drawings/cdm_run_v31526422835385_age8/0_square/cdm_run_v31526422835385_0_square_5.png\n",
      "./cumulative_drawings/cdm_run_v31526422835385_age8/0_square/cdm_run_v31526422835385_0_square_6.png\n",
      "./cumulative_drawings/cdm_run_v31526422835385_age8/0_square/cdm_run_v31526422835385_0_square_7.png\n",
      "./cumulative_drawings/cdm_run_v31526422835385_age8/1_shape/cdm_run_v31526422835385_1_shape_0.png\n",
      "./cumulative_drawings/cdm_run_v31526422835385_age8/2_this circle/cdm_run_v31526422835385_2_this circle_0.png\n",
      "./cumulative_drawings/cdm_run_v31526422835385_age8/2_this circle/cdm_run_v31526422835385_2_this circle_1.png\n",
      "Oops, something went wrong! Here is the error:\n",
      "'codes' must be a 1D list or array with the same length of 'vertices'\n",
      "Great! Number of drawings made by this person: 12\n",
      "./cumulative_drawings/cdm_run_v31526423557040_age3/0_square/cdm_run_v31526423557040_0_square_0.png\n",
      "./cumulative_drawings/cdm_run_v31526423557040_age3/0_square/cdm_run_v31526423557040_0_square_1.png\n",
      "./cumulative_drawings/cdm_run_v31526423557040_age3/0_square/cdm_run_v31526423557040_0_square_2.png\n",
      "./cumulative_drawings/cdm_run_v31526423557040_age3/0_square/cdm_run_v31526423557040_0_square_3.png\n",
      "./cumulative_drawings/cdm_run_v31526423557040_age3/0_square/cdm_run_v31526423557040_0_square_4.png\n",
      "./cumulative_drawings/cdm_run_v31526423557040_age3/0_square/cdm_run_v31526423557040_0_square_5.png\n",
      "./cumulative_drawings/cdm_run_v31526423557040_age3/0_square/cdm_run_v31526423557040_0_square_6.png\n",
      "./cumulative_drawings/cdm_run_v31526423557040_age3/0_square/cdm_run_v31526423557040_0_square_7.png\n",
      "./cumulative_drawings/cdm_run_v31526423557040_age3/0_square/cdm_run_v31526423557040_0_square_8.png\n",
      "./cumulative_drawings/cdm_run_v31526423557040_age3/0_square/cdm_run_v31526423557040_0_square_9.png\n",
      "./cumulative_drawings/cdm_run_v31526423557040_age3/0_square/cdm_run_v31526423557040_0_square_10.png\n",
      "./cumulative_drawings/cdm_run_v31526423557040_age3/0_square/cdm_run_v31526423557040_0_square_11.png\n",
      "./cumulative_drawings/cdm_run_v31526423557040_age3/0_square/cdm_run_v31526423557040_0_square_12.png\n",
      "./cumulative_drawings/cdm_run_v31526423557040_age3/0_square/cdm_run_v31526423557040_0_square_13.png\n",
      "./cumulative_drawings/cdm_run_v31526423557040_age3/0_square/cdm_run_v31526423557040_0_square_14.png\n",
      "./cumulative_drawings/cdm_run_v31526423557040_age3/0_square/cdm_run_v31526423557040_0_square_15.png\n",
      "./cumulative_drawings/cdm_run_v31526423557040_age3/0_square/cdm_run_v31526423557040_0_square_16.png\n",
      "./cumulative_drawings/cdm_run_v31526423557040_age3/0_square/cdm_run_v31526423557040_0_square_17.png\n",
      "./cumulative_drawings/cdm_run_v31526423557040_age3/0_square/cdm_run_v31526423557040_0_square_18.png\n",
      "./cumulative_drawings/cdm_run_v31526423557040_age3/1_shape/cdm_run_v31526423557040_1_shape_0.png\n",
      "./cumulative_drawings/cdm_run_v31526423557040_age3/1_shape/cdm_run_v31526423557040_1_shape_1.png\n",
      "./cumulative_drawings/cdm_run_v31526423557040_age3/1_shape/cdm_run_v31526423557040_1_shape_2.png\n",
      "./cumulative_drawings/cdm_run_v31526423557040_age3/1_shape/cdm_run_v31526423557040_1_shape_3.png\n",
      "./cumulative_drawings/cdm_run_v31526423557040_age3/1_shape/cdm_run_v31526423557040_1_shape_4.png\n",
      "./cumulative_drawings/cdm_run_v31526423557040_age3/1_shape/cdm_run_v31526423557040_1_shape_5.png\n",
      "./cumulative_drawings/cdm_run_v31526423557040_age3/1_shape/cdm_run_v31526423557040_1_shape_6.png\n",
      "./cumulative_drawings/cdm_run_v31526423557040_age3/1_shape/cdm_run_v31526423557040_1_shape_7.png\n",
      "./cumulative_drawings/cdm_run_v31526423557040_age3/1_shape/cdm_run_v31526423557040_1_shape_8.png\n",
      "./cumulative_drawings/cdm_run_v31526423557040_age3/1_shape/cdm_run_v31526423557040_1_shape_9.png\n",
      "./cumulative_drawings/cdm_run_v31526423557040_age3/2_this circle/cdm_run_v31526423557040_2_this circle_0.png\n",
      "Great! Number of drawings made by this person: 12\n",
      "./cumulative_drawings/cdm_run_v31526424268311_age3/0_square/cdm_run_v31526424268311_0_square_0.png\n",
      "./cumulative_drawings/cdm_run_v31526424268311_age3/0_square/cdm_run_v31526424268311_0_square_1.png\n",
      "./cumulative_drawings/cdm_run_v31526424268311_age3/1_shape/cdm_run_v31526424268311_1_shape_0.png\n",
      "./cumulative_drawings/cdm_run_v31526424268311_age3/1_shape/cdm_run_v31526424268311_1_shape_1.png\n",
      "./cumulative_drawings/cdm_run_v31526424268311_age3/2_this circle/cdm_run_v31526424268311_2_this circle_0.png\n",
      "./cumulative_drawings/cdm_run_v31526424268311_age3/2_this circle/cdm_run_v31526424268311_2_this circle_1.png\n",
      "./cumulative_drawings/cdm_run_v31526424268311_age3/2_this circle/cdm_run_v31526424268311_2_this circle_2.png\n",
      "./cumulative_drawings/cdm_run_v31526424268311_age3/2_this circle/cdm_run_v31526424268311_2_this circle_3.png\n",
      "Oops, something went wrong! Here is the error:\n",
      "'codes' must be a 1D list or array with the same length of 'vertices'\n",
      "Great! Number of drawings made by this person: 9\n",
      "./cumulative_drawings/cdm_run_v31526491920836_age2/0_square/cdm_run_v31526491920836_0_square_0.png\n",
      "./cumulative_drawings/cdm_run_v31526491920836_age2/0_square/cdm_run_v31526491920836_0_square_1.png\n",
      "./cumulative_drawings/cdm_run_v31526491920836_age2/0_square/cdm_run_v31526491920836_0_square_2.png\n",
      "./cumulative_drawings/cdm_run_v31526491920836_age2/0_square/cdm_run_v31526491920836_0_square_3.png\n",
      "./cumulative_drawings/cdm_run_v31526491920836_age2/0_square/cdm_run_v31526491920836_0_square_4.png\n",
      "./cumulative_drawings/cdm_run_v31526491920836_age2/1_shape/cdm_run_v31526491920836_1_shape_0.png\n",
      "./cumulative_drawings/cdm_run_v31526491920836_age2/1_shape/cdm_run_v31526491920836_1_shape_1.png\n",
      "./cumulative_drawings/cdm_run_v31526491920836_age2/1_shape/cdm_run_v31526491920836_1_shape_2.png\n",
      "./cumulative_drawings/cdm_run_v31526491920836_age2/1_shape/cdm_run_v31526491920836_1_shape_3.png\n",
      "./cumulative_drawings/cdm_run_v31526491920836_age2/1_shape/cdm_run_v31526491920836_1_shape_4.png\n",
      "Oops, something went wrong! Here is the error:\n",
      "'codes' must be a 1D list or array with the same length of 'vertices'\n",
      "Great! Number of drawings made by this person: 12\n",
      "./cumulative_drawings/cdm_run_v31526492191665_age5/0_square/cdm_run_v31526492191665_0_square_0.png\n",
      "./cumulative_drawings/cdm_run_v31526492191665_age5/1_shape/cdm_run_v31526492191665_1_shape_0.png\n",
      "./cumulative_drawings/cdm_run_v31526492191665_age5/2_this circle/cdm_run_v31526492191665_2_this circle_0.png\n",
      "Great! Number of drawings made by this person: 12\n"
     ]
    },
    {
     "name": "stdout",
     "output_type": "stream",
     "text": [
      "./cumulative_drawings/cdm_run_v31526492679058_age2/0_square/cdm_run_v31526492679058_0_square_0.png\n",
      "./cumulative_drawings/cdm_run_v31526492679058_age2/0_square/cdm_run_v31526492679058_0_square_1.png\n",
      "./cumulative_drawings/cdm_run_v31526492679058_age2/0_square/cdm_run_v31526492679058_0_square_2.png\n",
      "./cumulative_drawings/cdm_run_v31526492679058_age2/0_square/cdm_run_v31526492679058_0_square_3.png\n",
      "Oops, something went wrong! Here is the error:\n",
      "'codes' must be a 1D list or array with the same length of 'vertices'\n",
      "Great! Number of drawings made by this person: 9\n",
      "./cumulative_drawings/cdm_run_v31526493024418_age2/0_square/cdm_run_v31526493024418_0_square_0.png\n",
      "./cumulative_drawings/cdm_run_v31526493024418_age2/1_shape/cdm_run_v31526493024418_1_shape_0.png\n",
      "Oops, something went wrong! Here is the error:\n",
      "'codes' must be a 1D list or array with the same length of 'vertices'\n",
      "Great! Number of drawings made by this person: 12\n",
      "./cumulative_drawings/cdm_run_v31526493522883_age2/0_square/cdm_run_v31526493522883_0_square_0.png\n",
      "./cumulative_drawings/cdm_run_v31526493522883_age2/0_square/cdm_run_v31526493522883_0_square_1.png\n",
      "./cumulative_drawings/cdm_run_v31526493522883_age2/1_shape/cdm_run_v31526493522883_1_shape_0.png\n",
      "./cumulative_drawings/cdm_run_v31526493522883_age2/2_this circle/cdm_run_v31526493522883_2_this circle_0.png\n",
      "./cumulative_drawings/cdm_run_v31526493522883_age2/2_this circle/cdm_run_v31526493522883_2_this circle_1.png\n",
      "Great! Number of drawings made by this person: 3\n",
      "./cumulative_drawings/cdm_run_v31526495821185_age3/0_square/cdm_run_v31526495821185_0_square_0.png\n",
      "./cumulative_drawings/cdm_run_v31526495821185_age3/0_square/cdm_run_v31526495821185_0_square_1.png\n",
      "./cumulative_drawings/cdm_run_v31526495821185_age3/1_shape/cdm_run_v31526495821185_1_shape_0.png\n",
      "./cumulative_drawings/cdm_run_v31526495821185_age3/1_shape/cdm_run_v31526495821185_1_shape_1.png\n",
      "Oops, something went wrong! Here is the error:\n",
      "'codes' must be a 1D list or array with the same length of 'vertices'\n",
      "Great! Number of drawings made by this person: 12\n",
      "./cumulative_drawings/cdm_run_v31526497092100_age2/0_square/cdm_run_v31526497092100_0_square_0.png\n",
      "./cumulative_drawings/cdm_run_v31526497092100_age2/1_shape/cdm_run_v31526497092100_1_shape_0.png\n",
      "./cumulative_drawings/cdm_run_v31526497092100_age2/1_shape/cdm_run_v31526497092100_1_shape_1.png\n",
      "./cumulative_drawings/cdm_run_v31526497092100_age2/1_shape/cdm_run_v31526497092100_1_shape_2.png\n",
      "./cumulative_drawings/cdm_run_v31526497092100_age2/1_shape/cdm_run_v31526497092100_1_shape_3.png\n",
      "./cumulative_drawings/cdm_run_v31526497092100_age2/1_shape/cdm_run_v31526497092100_1_shape_4.png\n",
      "./cumulative_drawings/cdm_run_v31526497092100_age2/1_shape/cdm_run_v31526497092100_1_shape_5.png\n",
      "./cumulative_drawings/cdm_run_v31526497092100_age2/2_this circle/cdm_run_v31526497092100_2_this circle_0.png\n",
      "./cumulative_drawings/cdm_run_v31526497092100_age2/2_this circle/cdm_run_v31526497092100_2_this circle_1.png\n",
      "Oops, something went wrong! Here is the error:\n",
      "'codes' must be a 1D list or array with the same length of 'vertices'\n",
      "Great! Number of drawings made by this person: 12\n",
      "./cumulative_drawings/cdm_run_v31526497714288_age4/0_square/cdm_run_v31526497714288_0_square_0.png\n",
      "./cumulative_drawings/cdm_run_v31526497714288_age4/0_square/cdm_run_v31526497714288_0_square_1.png\n",
      "./cumulative_drawings/cdm_run_v31526497714288_age4/0_square/cdm_run_v31526497714288_0_square_2.png\n",
      "./cumulative_drawings/cdm_run_v31526497714288_age4/0_square/cdm_run_v31526497714288_0_square_3.png\n",
      "./cumulative_drawings/cdm_run_v31526497714288_age4/0_square/cdm_run_v31526497714288_0_square_4.png\n",
      "./cumulative_drawings/cdm_run_v31526497714288_age4/0_square/cdm_run_v31526497714288_0_square_5.png\n",
      "./cumulative_drawings/cdm_run_v31526497714288_age4/0_square/cdm_run_v31526497714288_0_square_6.png\n",
      "./cumulative_drawings/cdm_run_v31526497714288_age4/1_shape/cdm_run_v31526497714288_1_shape_0.png\n",
      "./cumulative_drawings/cdm_run_v31526497714288_age4/2_this circle/cdm_run_v31526497714288_2_this circle_0.png\n",
      "./cumulative_drawings/cdm_run_v31526497714288_age4/2_this circle/cdm_run_v31526497714288_2_this circle_1.png\n",
      "./cumulative_drawings/cdm_run_v31526497714288_age4/2_this circle/cdm_run_v31526497714288_2_this circle_2.png\n",
      "Great! Number of drawings made by this person: 12\n",
      "./cumulative_drawings/cdm_run_v31526498176971_age2/0_square/cdm_run_v31526498176971_0_square_0.png\n",
      "./cumulative_drawings/cdm_run_v31526498176971_age2/1_shape/cdm_run_v31526498176971_1_shape_0.png\n",
      "./cumulative_drawings/cdm_run_v31526498176971_age2/2_this circle/cdm_run_v31526498176971_2_this circle_0.png\n",
      "./cumulative_drawings/cdm_run_v31526498176971_age2/2_this circle/cdm_run_v31526498176971_2_this circle_1.png\n",
      "Great! Number of drawings made by this person: 4\n",
      "./cumulative_drawings/cdm_run_v31526498731343_age2/0_square/cdm_run_v31526498731343_0_square_0.png\n",
      "./cumulative_drawings/cdm_run_v31526498731343_age2/0_square/cdm_run_v31526498731343_0_square_1.png\n",
      "./cumulative_drawings/cdm_run_v31526498731343_age2/0_square/cdm_run_v31526498731343_0_square_2.png\n",
      "./cumulative_drawings/cdm_run_v31526498731343_age2/0_square/cdm_run_v31526498731343_0_square_3.png\n",
      "./cumulative_drawings/cdm_run_v31526498731343_age2/0_square/cdm_run_v31526498731343_0_square_4.png\n",
      "./cumulative_drawings/cdm_run_v31526498731343_age2/0_square/cdm_run_v31526498731343_0_square_5.png\n",
      "./cumulative_drawings/cdm_run_v31526498731343_age2/0_square/cdm_run_v31526498731343_0_square_6.png\n",
      "./cumulative_drawings/cdm_run_v31526498731343_age2/0_square/cdm_run_v31526498731343_0_square_7.png\n",
      "./cumulative_drawings/cdm_run_v31526498731343_age2/0_square/cdm_run_v31526498731343_0_square_8.png\n",
      "./cumulative_drawings/cdm_run_v31526498731343_age2/1_shape/cdm_run_v31526498731343_1_shape_0.png\n",
      "./cumulative_drawings/cdm_run_v31526498731343_age2/1_shape/cdm_run_v31526498731343_1_shape_1.png\n",
      "./cumulative_drawings/cdm_run_v31526498731343_age2/1_shape/cdm_run_v31526498731343_1_shape_2.png\n",
      "./cumulative_drawings/cdm_run_v31526498731343_age2/1_shape/cdm_run_v31526498731343_1_shape_3.png\n",
      "./cumulative_drawings/cdm_run_v31526498731343_age2/1_shape/cdm_run_v31526498731343_1_shape_4.png\n",
      "./cumulative_drawings/cdm_run_v31526498731343_age2/2_this circle/cdm_run_v31526498731343_2_this circle_0.png\n",
      "./cumulative_drawings/cdm_run_v31526498731343_age2/2_this circle/cdm_run_v31526498731343_2_this circle_1.png\n",
      "./cumulative_drawings/cdm_run_v31526498731343_age2/2_this circle/cdm_run_v31526498731343_2_this circle_2.png\n",
      "./cumulative_drawings/cdm_run_v31526498731343_age2/2_this circle/cdm_run_v31526498731343_2_this circle_3.png\n",
      "./cumulative_drawings/cdm_run_v31526498731343_age2/2_this circle/cdm_run_v31526498731343_2_this circle_4.png\n",
      "./cumulative_drawings/cdm_run_v31526498731343_age2/2_this circle/cdm_run_v31526498731343_2_this circle_5.png\n",
      "./cumulative_drawings/cdm_run_v31526498731343_age2/2_this circle/cdm_run_v31526498731343_2_this circle_6.png\n",
      "./cumulative_drawings/cdm_run_v31526498731343_age2/2_this circle/cdm_run_v31526498731343_2_this circle_7.png\n",
      "./cumulative_drawings/cdm_run_v31526498731343_age2/2_this circle/cdm_run_v31526498731343_2_this circle_8.png\n",
      "./cumulative_drawings/cdm_run_v31526498731343_age2/2_this circle/cdm_run_v31526498731343_2_this circle_9.png\n",
      "./cumulative_drawings/cdm_run_v31526498731343_age2/2_this circle/cdm_run_v31526498731343_2_this circle_10.png\n",
      "./cumulative_drawings/cdm_run_v31526498731343_age2/2_this circle/cdm_run_v31526498731343_2_this circle_11.png\n",
      "./cumulative_drawings/cdm_run_v31526498731343_age2/2_this circle/cdm_run_v31526498731343_2_this circle_12.png\n",
      "./cumulative_drawings/cdm_run_v31526498731343_age2/2_this circle/cdm_run_v31526498731343_2_this circle_13.png\n",
      "Oops, something went wrong! Here is the error:\n",
      "'codes' must be a 1D list or array with the same length of 'vertices'\n",
      "Great! Number of drawings made by this person: 5\n",
      "Oops, something went wrong! Here is the error:\n",
      "\n",
      "Great! Number of drawings made by this person: 12\n",
      "./cumulative_drawings/cdm_run_v31526499554039_age5/0_square/cdm_run_v31526499554039_0_square_0.png\n",
      "./cumulative_drawings/cdm_run_v31526499554039_age5/0_square/cdm_run_v31526499554039_0_square_1.png\n",
      "./cumulative_drawings/cdm_run_v31526499554039_age5/1_shape/cdm_run_v31526499554039_1_shape_0.png\n"
     ]
    },
    {
     "name": "stdout",
     "output_type": "stream",
     "text": [
      "./cumulative_drawings/cdm_run_v31526499554039_age5/2_this circle/cdm_run_v31526499554039_2_this circle_0.png\n",
      "./cumulative_drawings/cdm_run_v31526499554039_age5/2_this circle/cdm_run_v31526499554039_2_this circle_1.png\n",
      "Great! Number of drawings made by this person: 4\n",
      "./cumulative_drawings/cdm_run_v31526500472039_age3/0_square/cdm_run_v31526500472039_0_square_0.png\n",
      "./cumulative_drawings/cdm_run_v31526500472039_age3/0_square/cdm_run_v31526500472039_0_square_1.png\n",
      "./cumulative_drawings/cdm_run_v31526500472039_age3/0_square/cdm_run_v31526500472039_0_square_2.png\n",
      "./cumulative_drawings/cdm_run_v31526500472039_age3/1_shape/cdm_run_v31526500472039_1_shape_0.png\n",
      "./cumulative_drawings/cdm_run_v31526500472039_age3/1_shape/cdm_run_v31526500472039_1_shape_1.png\n",
      "./cumulative_drawings/cdm_run_v31526500472039_age3/1_shape/cdm_run_v31526500472039_1_shape_2.png\n",
      "./cumulative_drawings/cdm_run_v31526500472039_age3/1_shape/cdm_run_v31526500472039_1_shape_3.png\n",
      "./cumulative_drawings/cdm_run_v31526500472039_age3/1_shape/cdm_run_v31526500472039_1_shape_4.png\n",
      "./cumulative_drawings/cdm_run_v31526500472039_age3/1_shape/cdm_run_v31526500472039_1_shape_5.png\n",
      "Oops, something went wrong! Here is the error:\n",
      "'codes' must be a 1D list or array with the same length of 'vertices'\n",
      "Great! Number of drawings made by this person: 11\n",
      "./cumulative_drawings/cdm_run_v31526501614452_age3/0_square/cdm_run_v31526501614452_0_square_0.png\n",
      "./cumulative_drawings/cdm_run_v31526501614452_age3/0_square/cdm_run_v31526501614452_0_square_1.png\n",
      "./cumulative_drawings/cdm_run_v31526501614452_age3/0_square/cdm_run_v31526501614452_0_square_2.png\n",
      "./cumulative_drawings/cdm_run_v31526501614452_age3/0_square/cdm_run_v31526501614452_0_square_3.png\n",
      "./cumulative_drawings/cdm_run_v31526501614452_age3/0_square/cdm_run_v31526501614452_0_square_4.png\n",
      "./cumulative_drawings/cdm_run_v31526501614452_age3/0_square/cdm_run_v31526501614452_0_square_5.png\n",
      "./cumulative_drawings/cdm_run_v31526501614452_age3/1_shape/cdm_run_v31526501614452_1_shape_0.png\n",
      "./cumulative_drawings/cdm_run_v31526501614452_age3/1_shape/cdm_run_v31526501614452_1_shape_1.png\n",
      "./cumulative_drawings/cdm_run_v31526501614452_age3/1_shape/cdm_run_v31526501614452_1_shape_2.png\n",
      "./cumulative_drawings/cdm_run_v31526501614452_age3/1_shape/cdm_run_v31526501614452_1_shape_3.png\n",
      "./cumulative_drawings/cdm_run_v31526501614452_age3/1_shape/cdm_run_v31526501614452_1_shape_4.png\n",
      "./cumulative_drawings/cdm_run_v31526501614452_age3/1_shape/cdm_run_v31526501614452_1_shape_5.png\n",
      "./cumulative_drawings/cdm_run_v31526501614452_age3/1_shape/cdm_run_v31526501614452_1_shape_6.png\n",
      "./cumulative_drawings/cdm_run_v31526501614452_age3/1_shape/cdm_run_v31526501614452_1_shape_7.png\n",
      "Oops, something went wrong! Here is the error:\n",
      "'codes' must be a 1D list or array with the same length of 'vertices'\n",
      "Great! Number of drawings made by this person: 8\n",
      "./cumulative_drawings/cdm_run_v31526501890472_age3/0_square/cdm_run_v31526501890472_0_square_0.png\n",
      "./cumulative_drawings/cdm_run_v31526501890472_age3/0_square/cdm_run_v31526501890472_0_square_1.png\n",
      "./cumulative_drawings/cdm_run_v31526501890472_age3/0_square/cdm_run_v31526501890472_0_square_2.png\n",
      "./cumulative_drawings/cdm_run_v31526501890472_age3/0_square/cdm_run_v31526501890472_0_square_3.png\n",
      "./cumulative_drawings/cdm_run_v31526501890472_age3/1_shape/cdm_run_v31526501890472_1_shape_0.png\n",
      "./cumulative_drawings/cdm_run_v31526501890472_age3/1_shape/cdm_run_v31526501890472_1_shape_1.png\n",
      "./cumulative_drawings/cdm_run_v31526501890472_age3/1_shape/cdm_run_v31526501890472_1_shape_2.png\n",
      "./cumulative_drawings/cdm_run_v31526501890472_age3/1_shape/cdm_run_v31526501890472_1_shape_3.png\n",
      "./cumulative_drawings/cdm_run_v31526501890472_age3/1_shape/cdm_run_v31526501890472_1_shape_4.png\n",
      "./cumulative_drawings/cdm_run_v31526501890472_age3/1_shape/cdm_run_v31526501890472_1_shape_5.png\n",
      "./cumulative_drawings/cdm_run_v31526501890472_age3/1_shape/cdm_run_v31526501890472_1_shape_6.png\n",
      "./cumulative_drawings/cdm_run_v31526501890472_age3/1_shape/cdm_run_v31526501890472_1_shape_7.png\n",
      "./cumulative_drawings/cdm_run_v31526501890472_age3/1_shape/cdm_run_v31526501890472_1_shape_8.png\n",
      "./cumulative_drawings/cdm_run_v31526501890472_age3/1_shape/cdm_run_v31526501890472_1_shape_9.png\n",
      "./cumulative_drawings/cdm_run_v31526501890472_age3/2_this circle/cdm_run_v31526501890472_2_this circle_0.png\n",
      "Great! Number of drawings made by this person: 12\n",
      "./cumulative_drawings/cdm_run_v31526502079646_age3/0_square/cdm_run_v31526502079646_0_square_0.png\n",
      "./cumulative_drawings/cdm_run_v31526502079646_age3/1_shape/cdm_run_v31526502079646_1_shape_0.png\n",
      "./cumulative_drawings/cdm_run_v31526502079646_age3/1_shape/cdm_run_v31526502079646_1_shape_1.png\n",
      "./cumulative_drawings/cdm_run_v31526502079646_age3/1_shape/cdm_run_v31526502079646_1_shape_2.png\n",
      "./cumulative_drawings/cdm_run_v31526502079646_age3/1_shape/cdm_run_v31526502079646_1_shape_3.png\n",
      "./cumulative_drawings/cdm_run_v31526502079646_age3/1_shape/cdm_run_v31526502079646_1_shape_4.png\n",
      "./cumulative_drawings/cdm_run_v31526502079646_age3/1_shape/cdm_run_v31526502079646_1_shape_5.png\n",
      "Oops, something went wrong! Here is the error:\n",
      "'codes' must be a 1D list or array with the same length of 'vertices'\n",
      "Great! Number of drawings made by this person: 8\n",
      "./cumulative_drawings/cdm_run_v31526502817047_age3/0_square/cdm_run_v31526502817047_0_square_0.png\n",
      "./cumulative_drawings/cdm_run_v31526502817047_age3/0_square/cdm_run_v31526502817047_0_square_1.png\n",
      "./cumulative_drawings/cdm_run_v31526502817047_age3/0_square/cdm_run_v31526502817047_0_square_2.png\n",
      "./cumulative_drawings/cdm_run_v31526502817047_age3/0_square/cdm_run_v31526502817047_0_square_3.png\n",
      "./cumulative_drawings/cdm_run_v31526502817047_age3/1_shape/cdm_run_v31526502817047_1_shape_0.png\n",
      "./cumulative_drawings/cdm_run_v31526502817047_age3/1_shape/cdm_run_v31526502817047_1_shape_1.png\n",
      "./cumulative_drawings/cdm_run_v31526502817047_age3/1_shape/cdm_run_v31526502817047_1_shape_2.png\n",
      "./cumulative_drawings/cdm_run_v31526502817047_age3/1_shape/cdm_run_v31526502817047_1_shape_3.png\n",
      "Oops, something went wrong! Here is the error:\n",
      "'codes' must be a 1D list or array with the same length of 'vertices'\n",
      "Great! Number of drawings made by this person: 3\n",
      "./cumulative_drawings/cdm_run_v31526503729609_age3/0_square/cdm_run_v31526503729609_0_square_0.png\n",
      "./cumulative_drawings/cdm_run_v31526503729609_age3/0_square/cdm_run_v31526503729609_0_square_1.png\n",
      "./cumulative_drawings/cdm_run_v31526503729609_age3/0_square/cdm_run_v31526503729609_0_square_2.png\n",
      "./cumulative_drawings/cdm_run_v31526503729609_age3/0_square/cdm_run_v31526503729609_0_square_3.png\n",
      "./cumulative_drawings/cdm_run_v31526503729609_age3/0_square/cdm_run_v31526503729609_0_square_4.png\n",
      "./cumulative_drawings/cdm_run_v31526503729609_age3/0_square/cdm_run_v31526503729609_0_square_5.png\n",
      "./cumulative_drawings/cdm_run_v31526503729609_age3/0_square/cdm_run_v31526503729609_0_square_6.png\n",
      "./cumulative_drawings/cdm_run_v31526503729609_age3/0_square/cdm_run_v31526503729609_0_square_7.png\n",
      "Oops, something went wrong! Here is the error:\n",
      "'codes' must be a 1D list or array with the same length of 'vertices'\n",
      "Great! Number of drawings made by this person: 9\n",
      "./cumulative_drawings/cdm_run_v31526503860486_age3/0_square/cdm_run_v31526503860486_0_square_0.png\n",
      "./cumulative_drawings/cdm_run_v31526503860486_age3/0_square/cdm_run_v31526503860486_0_square_1.png\n",
      "Oops, something went wrong! Here is the error:\n",
      "'codes' must be a 1D list or array with the same length of 'vertices'\n",
      "Great! Number of drawings made by this person: 8\n",
      "./cumulative_drawings/cdm_run_v31526504221167_age2/0_square/cdm_run_v31526504221167_0_square_0.png\n",
      "./cumulative_drawings/cdm_run_v31526504221167_age2/0_square/cdm_run_v31526504221167_0_square_1.png\n",
      "./cumulative_drawings/cdm_run_v31526504221167_age2/0_square/cdm_run_v31526504221167_0_square_2.png\n",
      "./cumulative_drawings/cdm_run_v31526504221167_age2/0_square/cdm_run_v31526504221167_0_square_3.png\n",
      "./cumulative_drawings/cdm_run_v31526504221167_age2/0_square/cdm_run_v31526504221167_0_square_4.png\n",
      "Oops, something went wrong! Here is the error:\n",
      "'codes' must be a 1D list or array with the same length of 'vertices'\n",
      "Great! Number of drawings made by this person: 12\n",
      "./cumulative_drawings/cdm_run_v31526506411620_age6/0_square/cdm_run_v31526506411620_0_square_0.png\n"
     ]
    },
    {
     "name": "stdout",
     "output_type": "stream",
     "text": [
      "./cumulative_drawings/cdm_run_v31526506411620_age6/1_shape/cdm_run_v31526506411620_1_shape_0.png\n",
      "./cumulative_drawings/cdm_run_v31526506411620_age6/2_this circle/cdm_run_v31526506411620_2_this circle_0.png\n",
      "./cumulative_drawings/cdm_run_v31526506411620_age6/2_this circle/cdm_run_v31526506411620_2_this circle_1.png\n",
      "Great! Number of drawings made by this person: 4\n",
      "./cumulative_drawings/cdm_run_v31526506824890_age4/0_square/cdm_run_v31526506824890_0_square_0.png\n",
      "./cumulative_drawings/cdm_run_v31526506824890_age4/1_shape/cdm_run_v31526506824890_1_shape_0.png\n",
      "./cumulative_drawings/cdm_run_v31526506824890_age4/1_shape/cdm_run_v31526506824890_1_shape_1.png\n",
      "Oops, something went wrong! Here is the error:\n",
      "'codes' must be a 1D list or array with the same length of 'vertices'\n",
      "Great! Number of drawings made by this person: 12\n",
      "./cumulative_drawings/cdm_run_v31526507469435_age4/0_square/cdm_run_v31526507469435_0_square_0.png\n",
      "./cumulative_drawings/cdm_run_v31526507469435_age4/0_square/cdm_run_v31526507469435_0_square_1.png\n",
      "./cumulative_drawings/cdm_run_v31526507469435_age4/0_square/cdm_run_v31526507469435_0_square_2.png\n",
      "./cumulative_drawings/cdm_run_v31526507469435_age4/0_square/cdm_run_v31526507469435_0_square_3.png\n",
      "./cumulative_drawings/cdm_run_v31526507469435_age4/0_square/cdm_run_v31526507469435_0_square_4.png\n",
      "./cumulative_drawings/cdm_run_v31526507469435_age4/0_square/cdm_run_v31526507469435_0_square_5.png\n",
      "./cumulative_drawings/cdm_run_v31526507469435_age4/0_square/cdm_run_v31526507469435_0_square_6.png\n",
      "./cumulative_drawings/cdm_run_v31526507469435_age4/0_square/cdm_run_v31526507469435_0_square_7.png\n",
      "./cumulative_drawings/cdm_run_v31526507469435_age4/0_square/cdm_run_v31526507469435_0_square_8.png\n",
      "./cumulative_drawings/cdm_run_v31526507469435_age4/0_square/cdm_run_v31526507469435_0_square_9.png\n",
      "Oops, something went wrong! Here is the error:\n",
      "'codes' must be a 1D list or array with the same length of 'vertices'\n",
      "Great! Number of drawings made by this person: 8\n",
      "./cumulative_drawings/cdm_run_v31526507684003_age3/0_square/cdm_run_v31526507684003_0_square_0.png\n",
      "./cumulative_drawings/cdm_run_v31526507684003_age3/0_square/cdm_run_v31526507684003_0_square_1.png\n",
      "./cumulative_drawings/cdm_run_v31526507684003_age3/0_square/cdm_run_v31526507684003_0_square_2.png\n",
      "./cumulative_drawings/cdm_run_v31526507684003_age3/0_square/cdm_run_v31526507684003_0_square_3.png\n",
      "./cumulative_drawings/cdm_run_v31526507684003_age3/0_square/cdm_run_v31526507684003_0_square_4.png\n",
      "./cumulative_drawings/cdm_run_v31526507684003_age3/0_square/cdm_run_v31526507684003_0_square_5.png\n",
      "./cumulative_drawings/cdm_run_v31526507684003_age3/0_square/cdm_run_v31526507684003_0_square_6.png\n",
      "./cumulative_drawings/cdm_run_v31526507684003_age3/0_square/cdm_run_v31526507684003_0_square_7.png\n",
      "./cumulative_drawings/cdm_run_v31526507684003_age3/0_square/cdm_run_v31526507684003_0_square_8.png\n",
      "Oops, something went wrong! Here is the error:\n",
      "'codes' must be a 1D list or array with the same length of 'vertices'\n",
      "Great! Number of drawings made by this person: 6\n",
      "./cumulative_drawings/cdm_run_v31526507850752_age4/0_square/cdm_run_v31526507850752_0_square_0.png\n",
      "./cumulative_drawings/cdm_run_v31526507850752_age4/1_shape/cdm_run_v31526507850752_1_shape_0.png\n",
      "./cumulative_drawings/cdm_run_v31526507850752_age4/2_this circle/cdm_run_v31526507850752_2_this circle_0.png\n",
      "./cumulative_drawings/cdm_run_v31526507850752_age4/2_this circle/cdm_run_v31526507850752_2_this circle_1.png\n",
      "./cumulative_drawings/cdm_run_v31526507850752_age4/2_this circle/cdm_run_v31526507850752_2_this circle_2.png\n",
      "./cumulative_drawings/cdm_run_v31526507850752_age4/2_this circle/cdm_run_v31526507850752_2_this circle_3.png\n",
      "./cumulative_drawings/cdm_run_v31526507850752_age4/2_this circle/cdm_run_v31526507850752_2_this circle_4.png\n",
      "Great! Number of drawings made by this person: 7\n",
      "./cumulative_drawings/cdm_run_v31526507939966_age4/0_square/cdm_run_v31526507939966_0_square_0.png\n",
      "./cumulative_drawings/cdm_run_v31526507939966_age4/1_shape/cdm_run_v31526507939966_1_shape_0.png\n",
      "./cumulative_drawings/cdm_run_v31526507939966_age4/2_this circle/cdm_run_v31526507939966_2_this circle_0.png\n",
      "Great! Number of drawings made by this person: 6\n",
      "./cumulative_drawings/cdm_run_v31526508668316_age7/0_square/cdm_run_v31526508668316_0_square_0.png\n",
      "./cumulative_drawings/cdm_run_v31526508668316_age7/1_shape/cdm_run_v31526508668316_1_shape_0.png\n",
      "./cumulative_drawings/cdm_run_v31526508668316_age7/1_shape/cdm_run_v31526508668316_1_shape_1.png\n",
      "./cumulative_drawings/cdm_run_v31526508668316_age7/2_this circle/cdm_run_v31526508668316_2_this circle_0.png\n",
      "Great! Number of drawings made by this person: 4\n",
      "./cumulative_drawings/cdm_run_v31526509143887_age3/0_square/cdm_run_v31526509143887_0_square_0.png\n",
      "./cumulative_drawings/cdm_run_v31526509143887_age3/0_square/cdm_run_v31526509143887_0_square_1.png\n",
      "./cumulative_drawings/cdm_run_v31526509143887_age3/0_square/cdm_run_v31526509143887_0_square_2.png\n",
      "./cumulative_drawings/cdm_run_v31526509143887_age3/0_square/cdm_run_v31526509143887_0_square_3.png\n",
      "./cumulative_drawings/cdm_run_v31526509143887_age3/0_square/cdm_run_v31526509143887_0_square_4.png\n",
      "./cumulative_drawings/cdm_run_v31526509143887_age3/1_shape/cdm_run_v31526509143887_1_shape_0.png\n",
      "./cumulative_drawings/cdm_run_v31526509143887_age3/1_shape/cdm_run_v31526509143887_1_shape_1.png\n",
      "./cumulative_drawings/cdm_run_v31526509143887_age3/1_shape/cdm_run_v31526509143887_1_shape_2.png\n",
      "./cumulative_drawings/cdm_run_v31526509143887_age3/1_shape/cdm_run_v31526509143887_1_shape_3.png\n",
      "./cumulative_drawings/cdm_run_v31526509143887_age3/1_shape/cdm_run_v31526509143887_1_shape_4.png\n",
      "./cumulative_drawings/cdm_run_v31526509143887_age3/1_shape/cdm_run_v31526509143887_1_shape_5.png\n",
      "./cumulative_drawings/cdm_run_v31526509143887_age3/1_shape/cdm_run_v31526509143887_1_shape_6.png\n",
      "./cumulative_drawings/cdm_run_v31526509143887_age3/1_shape/cdm_run_v31526509143887_1_shape_7.png\n",
      "./cumulative_drawings/cdm_run_v31526509143887_age3/1_shape/cdm_run_v31526509143887_1_shape_8.png\n",
      "./cumulative_drawings/cdm_run_v31526509143887_age3/1_shape/cdm_run_v31526509143887_1_shape_9.png\n",
      "./cumulative_drawings/cdm_run_v31526509143887_age3/1_shape/cdm_run_v31526509143887_1_shape_10.png\n",
      "./cumulative_drawings/cdm_run_v31526509143887_age3/1_shape/cdm_run_v31526509143887_1_shape_11.png\n",
      "./cumulative_drawings/cdm_run_v31526509143887_age3/1_shape/cdm_run_v31526509143887_1_shape_12.png\n",
      "./cumulative_drawings/cdm_run_v31526509143887_age3/1_shape/cdm_run_v31526509143887_1_shape_13.png\n",
      "./cumulative_drawings/cdm_run_v31526509143887_age3/1_shape/cdm_run_v31526509143887_1_shape_14.png\n",
      "./cumulative_drawings/cdm_run_v31526509143887_age3/1_shape/cdm_run_v31526509143887_1_shape_15.png\n",
      "./cumulative_drawings/cdm_run_v31526509143887_age3/1_shape/cdm_run_v31526509143887_1_shape_16.png\n",
      "./cumulative_drawings/cdm_run_v31526509143887_age3/1_shape/cdm_run_v31526509143887_1_shape_17.png\n",
      "./cumulative_drawings/cdm_run_v31526509143887_age3/1_shape/cdm_run_v31526509143887_1_shape_18.png\n",
      "./cumulative_drawings/cdm_run_v31526509143887_age3/1_shape/cdm_run_v31526509143887_1_shape_19.png\n",
      "./cumulative_drawings/cdm_run_v31526509143887_age3/1_shape/cdm_run_v31526509143887_1_shape_20.png\n",
      "./cumulative_drawings/cdm_run_v31526509143887_age3/1_shape/cdm_run_v31526509143887_1_shape_21.png\n",
      "./cumulative_drawings/cdm_run_v31526509143887_age3/1_shape/cdm_run_v31526509143887_1_shape_22.png\n",
      "./cumulative_drawings/cdm_run_v31526509143887_age3/1_shape/cdm_run_v31526509143887_1_shape_23.png\n",
      "./cumulative_drawings/cdm_run_v31526509143887_age3/1_shape/cdm_run_v31526509143887_1_shape_24.png\n",
      "./cumulative_drawings/cdm_run_v31526509143887_age3/1_shape/cdm_run_v31526509143887_1_shape_25.png\n",
      "./cumulative_drawings/cdm_run_v31526509143887_age3/1_shape/cdm_run_v31526509143887_1_shape_26.png\n",
      "./cumulative_drawings/cdm_run_v31526509143887_age3/1_shape/cdm_run_v31526509143887_1_shape_27.png\n",
      "./cumulative_drawings/cdm_run_v31526509143887_age3/1_shape/cdm_run_v31526509143887_1_shape_28.png\n",
      "Oops, something went wrong! Here is the error:\n",
      "'codes' must be a 1D list or array with the same length of 'vertices'\n",
      "Great! Number of drawings made by this person: 4\n",
      "Oops, something went wrong! Here is the error:\n",
      "\n",
      "Great! Number of drawings made by this person: 12\n"
     ]
    },
    {
     "name": "stdout",
     "output_type": "stream",
     "text": [
      "./cumulative_drawings/cdm_run_v31526580344270_adult/0_square/cdm_run_v31526580344270_0_square_0.png\n",
      "./cumulative_drawings/cdm_run_v31526580344270_adult/1_shape/cdm_run_v31526580344270_1_shape_0.png\n",
      "Oops, something went wrong! Here is the error:\n",
      "\n",
      "Great! Number of drawings made by this person: 11\n",
      "Oops, something went wrong! Here is the error:\n",
      "\n",
      "Great! Number of drawings made by this person: 4\n",
      "./cumulative_drawings/cdm_run_v31526581002319_age2/0_square/cdm_run_v31526581002319_0_square_0.png\n",
      "./cumulative_drawings/cdm_run_v31526581002319_age2/1_shape/cdm_run_v31526581002319_1_shape_0.png\n",
      "./cumulative_drawings/cdm_run_v31526581002319_age2/2_this circle/cdm_run_v31526581002319_2_this circle_0.png\n",
      "Great! Number of drawings made by this person: 7\n",
      "./cumulative_drawings/cdm_run_v31526581096926_age6/0_square/cdm_run_v31526581096926_0_square_0.png\n",
      "./cumulative_drawings/cdm_run_v31526581096926_age6/1_shape/cdm_run_v31526581096926_1_shape_0.png\n",
      "./cumulative_drawings/cdm_run_v31526581096926_age6/2_this circle/cdm_run_v31526581096926_2_this circle_0.png\n",
      "Great! Number of drawings made by this person: 3\n",
      "./cumulative_drawings/cdm_run_v31526581704526_age5/0_square/cdm_run_v31526581704526_0_square_0.png\n",
      "./cumulative_drawings/cdm_run_v31526581704526_age5/1_shape/cdm_run_v31526581704526_1_shape_0.png\n",
      "./cumulative_drawings/cdm_run_v31526581704526_age5/1_shape/cdm_run_v31526581704526_1_shape_1.png\n",
      "./cumulative_drawings/cdm_run_v31526581704526_age5/1_shape/cdm_run_v31526581704526_1_shape_2.png\n",
      "./cumulative_drawings/cdm_run_v31526581704526_age5/2_this circle/cdm_run_v31526581704526_2_this circle_0.png\n",
      "Oops, something went wrong! Here is the error:\n",
      "'codes' must be a 1D list or array with the same length of 'vertices'\n",
      "Great! Number of drawings made by this person: 4\n",
      "./cumulative_drawings/cdm_run_v31526582770784_age2/0_square/cdm_run_v31526582770784_0_square_0.png\n",
      "./cumulative_drawings/cdm_run_v31526582770784_age2/1_shape/cdm_run_v31526582770784_1_shape_0.png\n",
      "Oops, something went wrong! Here is the error:\n",
      "\n",
      "Great! Number of drawings made by this person: 6\n",
      "./cumulative_drawings/cdm_run_v31526583071756_age4/0_square/cdm_run_v31526583071756_0_square_0.png\n",
      "./cumulative_drawings/cdm_run_v31526583071756_age4/1_shape/cdm_run_v31526583071756_1_shape_0.png\n",
      "./cumulative_drawings/cdm_run_v31526583071756_age4/1_shape/cdm_run_v31526583071756_1_shape_1.png\n",
      "./cumulative_drawings/cdm_run_v31526583071756_age4/1_shape/cdm_run_v31526583071756_1_shape_2.png\n",
      "./cumulative_drawings/cdm_run_v31526583071756_age4/1_shape/cdm_run_v31526583071756_1_shape_3.png\n",
      "Oops, something went wrong! Here is the error:\n",
      "'codes' must be a 1D list or array with the same length of 'vertices'\n",
      "Great! Number of drawings made by this person: 7\n",
      "./cumulative_drawings/cdm_run_v31526583537981_age3/0_square/cdm_run_v31526583537981_0_square_0.png\n",
      "./cumulative_drawings/cdm_run_v31526583537981_age3/1_shape/cdm_run_v31526583537981_1_shape_0.png\n",
      "./cumulative_drawings/cdm_run_v31526583537981_age3/1_shape/cdm_run_v31526583537981_1_shape_1.png\n",
      "./cumulative_drawings/cdm_run_v31526583537981_age3/1_shape/cdm_run_v31526583537981_1_shape_2.png\n",
      "Oops, something went wrong! Here is the error:\n",
      "'codes' must be a 1D list or array with the same length of 'vertices'\n",
      "Great! Number of drawings made by this person: 3\n",
      "./cumulative_drawings/cdm_run_v31526583769672_age6/0_square/cdm_run_v31526583769672_0_square_0.png\n",
      "Oops, something went wrong! Here is the error:\n",
      "\n",
      "Great! Number of drawings made by this person: 5\n",
      "./cumulative_drawings/cdm_run_v31526583886859_age6/0_square/cdm_run_v31526583886859_0_square_0.png\n",
      "./cumulative_drawings/cdm_run_v31526583886859_age6/1_shape/cdm_run_v31526583886859_1_shape_0.png\n",
      "./cumulative_drawings/cdm_run_v31526583886859_age6/1_shape/cdm_run_v31526583886859_1_shape_1.png\n",
      "./cumulative_drawings/cdm_run_v31526583886859_age6/2_this circle/cdm_run_v31526583886859_2_this circle_0.png\n",
      "Great! Number of drawings made by this person: 12\n",
      "Oops, something went wrong! Here is the error:\n",
      "\n",
      "Great! Number of drawings made by this person: 6\n",
      "./cumulative_drawings/cdm_run_v31526584275728_age2/0_square/cdm_run_v31526584275728_0_square_0.png\n",
      "./cumulative_drawings/cdm_run_v31526584275728_age2/0_square/cdm_run_v31526584275728_0_square_1.png\n",
      "./cumulative_drawings/cdm_run_v31526584275728_age2/0_square/cdm_run_v31526584275728_0_square_2.png\n",
      "./cumulative_drawings/cdm_run_v31526584275728_age2/1_shape/cdm_run_v31526584275728_1_shape_0.png\n",
      "./cumulative_drawings/cdm_run_v31526584275728_age2/2_this circle/cdm_run_v31526584275728_2_this circle_0.png\n",
      "./cumulative_drawings/cdm_run_v31526584275728_age2/2_this circle/cdm_run_v31526584275728_2_this circle_1.png\n",
      "./cumulative_drawings/cdm_run_v31526584275728_age2/2_this circle/cdm_run_v31526584275728_2_this circle_2.png\n",
      "./cumulative_drawings/cdm_run_v31526584275728_age2/2_this circle/cdm_run_v31526584275728_2_this circle_3.png\n",
      "./cumulative_drawings/cdm_run_v31526584275728_age2/2_this circle/cdm_run_v31526584275728_2_this circle_4.png\n",
      "Great! Number of drawings made by this person: 7\n",
      "./cumulative_drawings/cdm_run_v31526584514437_age2/0_square/cdm_run_v31526584514437_0_square_0.png\n",
      "./cumulative_drawings/cdm_run_v31526584514437_age2/0_square/cdm_run_v31526584514437_0_square_1.png\n",
      "./cumulative_drawings/cdm_run_v31526584514437_age2/1_shape/cdm_run_v31526584514437_1_shape_0.png\n",
      "./cumulative_drawings/cdm_run_v31526584514437_age2/1_shape/cdm_run_v31526584514437_1_shape_1.png\n",
      "./cumulative_drawings/cdm_run_v31526584514437_age2/1_shape/cdm_run_v31526584514437_1_shape_2.png\n",
      "./cumulative_drawings/cdm_run_v31526584514437_age2/2_this circle/cdm_run_v31526584514437_2_this circle_0.png\n",
      "Oops, something went wrong! Here is the error:\n",
      "'codes' must be a 1D list or array with the same length of 'vertices'\n",
      "Great! Number of drawings made by this person: 3\n",
      "./cumulative_drawings/cdm_run_v31526585288203_age2/0_square/cdm_run_v31526585288203_0_square_0.png\n",
      "./cumulative_drawings/cdm_run_v31526585288203_age2/0_square/cdm_run_v31526585288203_0_square_1.png\n",
      "Oops, something went wrong! Here is the error:\n",
      "'codes' must be a 1D list or array with the same length of 'vertices'\n",
      "Great! Number of drawings made by this person: 12\n",
      "./cumulative_drawings/cdm_run_v31526585403449_age2/0_square/cdm_run_v31526585403449_0_square_0.png\n",
      "Oops, something went wrong! Here is the error:\n",
      "'codes' must be a 1D list or array with the same length of 'vertices'\n",
      "Great! Number of drawings made by this person: 6\n",
      "./cumulative_drawings/cdm_run_v31526588694293_age3/0_square/cdm_run_v31526588694293_0_square_0.png\n",
      "./cumulative_drawings/cdm_run_v31526588694293_age3/1_shape/cdm_run_v31526588694293_1_shape_0.png\n",
      "./cumulative_drawings/cdm_run_v31526588694293_age3/1_shape/cdm_run_v31526588694293_1_shape_1.png\n",
      "Oops, something went wrong! Here is the error:\n",
      "'codes' must be a 1D list or array with the same length of 'vertices'\n",
      "Great! Number of drawings made by this person: 11\n",
      "./cumulative_drawings/cdm_run_v31526588910402_adult/0_square/cdm_run_v31526588910402_0_square_0.png\n",
      "./cumulative_drawings/cdm_run_v31526588910402_adult/0_square/cdm_run_v31526588910402_0_square_1.png\n",
      "./cumulative_drawings/cdm_run_v31526588910402_adult/0_square/cdm_run_v31526588910402_0_square_2.png\n",
      "./cumulative_drawings/cdm_run_v31526588910402_adult/0_square/cdm_run_v31526588910402_0_square_3.png\n",
      "./cumulative_drawings/cdm_run_v31526588910402_adult/0_square/cdm_run_v31526588910402_0_square_4.png\n",
      "./cumulative_drawings/cdm_run_v31526588910402_adult/0_square/cdm_run_v31526588910402_0_square_5.png\n",
      "./cumulative_drawings/cdm_run_v31526588910402_adult/0_square/cdm_run_v31526588910402_0_square_6.png\n",
      "./cumulative_drawings/cdm_run_v31526588910402_adult/0_square/cdm_run_v31526588910402_0_square_7.png\n",
      "./cumulative_drawings/cdm_run_v31526588910402_adult/0_square/cdm_run_v31526588910402_0_square_8.png\n",
      "./cumulative_drawings/cdm_run_v31526588910402_adult/0_square/cdm_run_v31526588910402_0_square_9.png\n",
      "./cumulative_drawings/cdm_run_v31526588910402_adult/0_square/cdm_run_v31526588910402_0_square_10.png\n",
      "./cumulative_drawings/cdm_run_v31526588910402_adult/0_square/cdm_run_v31526588910402_0_square_11.png\n",
      "./cumulative_drawings/cdm_run_v31526588910402_adult/0_square/cdm_run_v31526588910402_0_square_12.png\n",
      "./cumulative_drawings/cdm_run_v31526588910402_adult/0_square/cdm_run_v31526588910402_0_square_13.png\n",
      "./cumulative_drawings/cdm_run_v31526588910402_adult/0_square/cdm_run_v31526588910402_0_square_14.png\n"
     ]
    },
    {
     "name": "stdout",
     "output_type": "stream",
     "text": [
      "./cumulative_drawings/cdm_run_v31526588910402_adult/0_square/cdm_run_v31526588910402_0_square_15.png\n",
      "./cumulative_drawings/cdm_run_v31526588910402_adult/0_square/cdm_run_v31526588910402_0_square_16.png\n",
      "./cumulative_drawings/cdm_run_v31526588910402_adult/0_square/cdm_run_v31526588910402_0_square_17.png\n",
      "./cumulative_drawings/cdm_run_v31526588910402_adult/0_square/cdm_run_v31526588910402_0_square_18.png\n",
      "./cumulative_drawings/cdm_run_v31526588910402_adult/0_square/cdm_run_v31526588910402_0_square_19.png\n",
      "./cumulative_drawings/cdm_run_v31526588910402_adult/0_square/cdm_run_v31526588910402_0_square_20.png\n",
      "./cumulative_drawings/cdm_run_v31526588910402_adult/0_square/cdm_run_v31526588910402_0_square_21.png\n",
      "./cumulative_drawings/cdm_run_v31526588910402_adult/0_square/cdm_run_v31526588910402_0_square_22.png\n",
      "./cumulative_drawings/cdm_run_v31526588910402_adult/0_square/cdm_run_v31526588910402_0_square_23.png\n",
      "./cumulative_drawings/cdm_run_v31526588910402_adult/0_square/cdm_run_v31526588910402_0_square_24.png\n",
      "./cumulative_drawings/cdm_run_v31526588910402_adult/0_square/cdm_run_v31526588910402_0_square_25.png\n",
      "./cumulative_drawings/cdm_run_v31526588910402_adult/0_square/cdm_run_v31526588910402_0_square_26.png\n",
      "./cumulative_drawings/cdm_run_v31526588910402_adult/0_square/cdm_run_v31526588910402_0_square_27.png\n",
      "./cumulative_drawings/cdm_run_v31526588910402_adult/0_square/cdm_run_v31526588910402_0_square_28.png\n",
      "./cumulative_drawings/cdm_run_v31526588910402_adult/0_square/cdm_run_v31526588910402_0_square_29.png\n",
      "./cumulative_drawings/cdm_run_v31526588910402_adult/0_square/cdm_run_v31526588910402_0_square_30.png\n",
      "./cumulative_drawings/cdm_run_v31526588910402_adult/0_square/cdm_run_v31526588910402_0_square_31.png\n",
      "./cumulative_drawings/cdm_run_v31526588910402_adult/0_square/cdm_run_v31526588910402_0_square_32.png\n",
      "./cumulative_drawings/cdm_run_v31526588910402_adult/0_square/cdm_run_v31526588910402_0_square_33.png\n",
      "./cumulative_drawings/cdm_run_v31526588910402_adult/0_square/cdm_run_v31526588910402_0_square_34.png\n",
      "./cumulative_drawings/cdm_run_v31526588910402_adult/0_square/cdm_run_v31526588910402_0_square_35.png\n",
      "./cumulative_drawings/cdm_run_v31526588910402_adult/1_shape/cdm_run_v31526588910402_1_shape_0.png\n",
      "Oops, something went wrong! Here is the error:\n",
      "'codes' must be a 1D list or array with the same length of 'vertices'\n",
      "Great! Number of drawings made by this person: 10\n",
      "./cumulative_drawings/cdm_run_v31526589361603_age3/0_square/cdm_run_v31526589361603_0_square_0.png\n",
      "./cumulative_drawings/cdm_run_v31526589361603_age3/0_square/cdm_run_v31526589361603_0_square_1.png\n",
      "./cumulative_drawings/cdm_run_v31526589361603_age3/0_square/cdm_run_v31526589361603_0_square_2.png\n",
      "./cumulative_drawings/cdm_run_v31526589361603_age3/0_square/cdm_run_v31526589361603_0_square_3.png\n",
      "./cumulative_drawings/cdm_run_v31526589361603_age3/0_square/cdm_run_v31526589361603_0_square_4.png\n",
      "./cumulative_drawings/cdm_run_v31526589361603_age3/0_square/cdm_run_v31526589361603_0_square_5.png\n",
      "./cumulative_drawings/cdm_run_v31526589361603_age3/0_square/cdm_run_v31526589361603_0_square_6.png\n",
      "./cumulative_drawings/cdm_run_v31526589361603_age3/0_square/cdm_run_v31526589361603_0_square_7.png\n",
      "./cumulative_drawings/cdm_run_v31526589361603_age3/0_square/cdm_run_v31526589361603_0_square_8.png\n",
      "./cumulative_drawings/cdm_run_v31526589361603_age3/0_square/cdm_run_v31526589361603_0_square_9.png\n",
      "./cumulative_drawings/cdm_run_v31526589361603_age3/0_square/cdm_run_v31526589361603_0_square_10.png\n",
      "./cumulative_drawings/cdm_run_v31526589361603_age3/0_square/cdm_run_v31526589361603_0_square_11.png\n",
      "./cumulative_drawings/cdm_run_v31526589361603_age3/0_square/cdm_run_v31526589361603_0_square_12.png\n",
      "./cumulative_drawings/cdm_run_v31526589361603_age3/0_square/cdm_run_v31526589361603_0_square_13.png\n",
      "./cumulative_drawings/cdm_run_v31526589361603_age3/0_square/cdm_run_v31526589361603_0_square_14.png\n",
      "./cumulative_drawings/cdm_run_v31526589361603_age3/0_square/cdm_run_v31526589361603_0_square_15.png\n",
      "Oops, something went wrong! Here is the error:\n",
      "'codes' must be a 1D list or array with the same length of 'vertices'\n",
      "Great! Number of drawings made by this person: 9\n",
      "Oops, something went wrong! Here is the error:\n",
      "\n",
      "Great! Number of drawings made by this person: 12\n",
      "./cumulative_drawings/cdm_run_v31526592878172_age4/0_square/cdm_run_v31526592878172_0_square_0.png\n",
      "./cumulative_drawings/cdm_run_v31526592878172_age4/1_shape/cdm_run_v31526592878172_1_shape_0.png\n",
      "./cumulative_drawings/cdm_run_v31526592878172_age4/2_this circle/cdm_run_v31526592878172_2_this circle_0.png\n",
      "Great! Number of drawings made by this person: 10\n",
      "./cumulative_drawings/cdm_run_v31526593619763_age9/0_square/cdm_run_v31526593619763_0_square_0.png\n",
      "./cumulative_drawings/cdm_run_v31526593619763_age9/1_shape/cdm_run_v31526593619763_1_shape_0.png\n",
      "./cumulative_drawings/cdm_run_v31526593619763_age9/2_this circle/cdm_run_v31526593619763_2_this circle_0.png\n",
      "Great! Number of drawings made by this person: 9\n",
      "./cumulative_drawings/cdm_run_v31526593921790_age3/0_square/cdm_run_v31526593921790_0_square_0.png\n",
      "Oops, something went wrong! Here is the error:\n",
      "'codes' must be a 1D list or array with the same length of 'vertices'\n",
      "Great! Number of drawings made by this person: 3\n",
      "./cumulative_drawings/cdm_run_v31526594227071_age2/0_square/cdm_run_v31526594227071_0_square_0.png\n",
      "./cumulative_drawings/cdm_run_v31526594227071_age2/0_square/cdm_run_v31526594227071_0_square_1.png\n",
      "./cumulative_drawings/cdm_run_v31526594227071_age2/0_square/cdm_run_v31526594227071_0_square_2.png\n",
      "./cumulative_drawings/cdm_run_v31526594227071_age2/0_square/cdm_run_v31526594227071_0_square_3.png\n",
      "./cumulative_drawings/cdm_run_v31526594227071_age2/0_square/cdm_run_v31526594227071_0_square_4.png\n",
      "./cumulative_drawings/cdm_run_v31526594227071_age2/0_square/cdm_run_v31526594227071_0_square_5.png\n",
      "./cumulative_drawings/cdm_run_v31526594227071_age2/1_shape/cdm_run_v31526594227071_1_shape_0.png\n",
      "./cumulative_drawings/cdm_run_v31526594227071_age2/1_shape/cdm_run_v31526594227071_1_shape_1.png\n",
      "./cumulative_drawings/cdm_run_v31526594227071_age2/1_shape/cdm_run_v31526594227071_1_shape_2.png\n",
      "./cumulative_drawings/cdm_run_v31526594227071_age2/1_shape/cdm_run_v31526594227071_1_shape_3.png\n",
      "Oops, something went wrong! Here is the error:\n",
      "'codes' must be a 1D list or array with the same length of 'vertices'\n",
      "Great! Number of drawings made by this person: 6\n",
      "./cumulative_drawings/cdm_run_v31526594287690_age5/0_square/cdm_run_v31526594287690_0_square_0.png\n",
      "./cumulative_drawings/cdm_run_v31526594287690_age5/0_square/cdm_run_v31526594287690_0_square_1.png\n",
      "./cumulative_drawings/cdm_run_v31526594287690_age5/0_square/cdm_run_v31526594287690_0_square_2.png\n",
      "./cumulative_drawings/cdm_run_v31526594287690_age5/0_square/cdm_run_v31526594287690_0_square_3.png\n",
      "./cumulative_drawings/cdm_run_v31526594287690_age5/0_square/cdm_run_v31526594287690_0_square_4.png\n",
      "./cumulative_drawings/cdm_run_v31526594287690_age5/0_square/cdm_run_v31526594287690_0_square_5.png\n",
      "./cumulative_drawings/cdm_run_v31526594287690_age5/1_shape/cdm_run_v31526594287690_1_shape_0.png\n",
      "./cumulative_drawings/cdm_run_v31526594287690_age5/1_shape/cdm_run_v31526594287690_1_shape_1.png\n",
      "./cumulative_drawings/cdm_run_v31526594287690_age5/1_shape/cdm_run_v31526594287690_1_shape_2.png\n",
      "./cumulative_drawings/cdm_run_v31526594287690_age5/2_this circle/cdm_run_v31526594287690_2_this circle_0.png\n",
      "Great! Number of drawings made by this person: 6\n",
      "./cumulative_drawings/cdm_run_v31526595753217_adult/0_square/cdm_run_v31526595753217_0_square_0.png\n",
      "./cumulative_drawings/cdm_run_v31526595753217_adult/0_square/cdm_run_v31526595753217_0_square_1.png\n",
      "./cumulative_drawings/cdm_run_v31526595753217_adult/0_square/cdm_run_v31526595753217_0_square_2.png\n",
      "./cumulative_drawings/cdm_run_v31526595753217_adult/1_shape/cdm_run_v31526595753217_1_shape_0.png\n",
      "./cumulative_drawings/cdm_run_v31526595753217_adult/1_shape/cdm_run_v31526595753217_1_shape_1.png\n",
      "./cumulative_drawings/cdm_run_v31526595753217_adult/1_shape/cdm_run_v31526595753217_1_shape_2.png\n",
      "./cumulative_drawings/cdm_run_v31526595753217_adult/1_shape/cdm_run_v31526595753217_1_shape_3.png\n",
      "./cumulative_drawings/cdm_run_v31526595753217_adult/2_this circle/cdm_run_v31526595753217_2_this circle_0.png\n",
      "./cumulative_drawings/cdm_run_v31526595753217_adult/2_this circle/cdm_run_v31526595753217_2_this circle_1.png\n"
     ]
    },
    {
     "name": "stdout",
     "output_type": "stream",
     "text": [
      "Great! Number of drawings made by this person: 4\n",
      "./cumulative_drawings/cdm_run_v31526598587970_age3/0_square/cdm_run_v31526598587970_0_square_0.png\n",
      "Oops, something went wrong! Here is the error:\n",
      "'codes' must be a 1D list or array with the same length of 'vertices'\n",
      "Great! Number of drawings made by this person: 12\n",
      "./cumulative_drawings/cdm_run_v31526598717979_age7/0_square/cdm_run_v31526598717979_0_square_0.png\n",
      "./cumulative_drawings/cdm_run_v31526598717979_age7/0_square/cdm_run_v31526598717979_0_square_1.png\n",
      "./cumulative_drawings/cdm_run_v31526598717979_age7/1_shape/cdm_run_v31526598717979_1_shape_0.png\n",
      "./cumulative_drawings/cdm_run_v31526598717979_age7/1_shape/cdm_run_v31526598717979_1_shape_1.png\n",
      "Oops, something went wrong! Here is the error:\n",
      "'codes' must be a 1D list or array with the same length of 'vertices'\n",
      "Great! Number of drawings made by this person: 6\n",
      "./cumulative_drawings/cdm_run_v31526598908203_age7/0_square/cdm_run_v31526598908203_0_square_0.png\n",
      "./cumulative_drawings/cdm_run_v31526598908203_age7/1_shape/cdm_run_v31526598908203_1_shape_0.png\n",
      "./cumulative_drawings/cdm_run_v31526598908203_age7/2_this circle/cdm_run_v31526598908203_2_this circle_0.png\n",
      "./cumulative_drawings/cdm_run_v31526598908203_age7/2_this circle/cdm_run_v31526598908203_2_this circle_1.png\n",
      "Great! Number of drawings made by this person: 9\n",
      "./cumulative_drawings/cdm_run_v31526599186312_age3/0_square/cdm_run_v31526599186312_0_square_0.png\n",
      "./cumulative_drawings/cdm_run_v31526599186312_age3/0_square/cdm_run_v31526599186312_0_square_1.png\n",
      "./cumulative_drawings/cdm_run_v31526599186312_age3/0_square/cdm_run_v31526599186312_0_square_2.png\n",
      "./cumulative_drawings/cdm_run_v31526599186312_age3/0_square/cdm_run_v31526599186312_0_square_3.png\n",
      "./cumulative_drawings/cdm_run_v31526599186312_age3/0_square/cdm_run_v31526599186312_0_square_4.png\n",
      "./cumulative_drawings/cdm_run_v31526599186312_age3/0_square/cdm_run_v31526599186312_0_square_5.png\n",
      "./cumulative_drawings/cdm_run_v31526599186312_age3/0_square/cdm_run_v31526599186312_0_square_6.png\n",
      "./cumulative_drawings/cdm_run_v31526599186312_age3/0_square/cdm_run_v31526599186312_0_square_7.png\n",
      "./cumulative_drawings/cdm_run_v31526599186312_age3/0_square/cdm_run_v31526599186312_0_square_8.png\n",
      "./cumulative_drawings/cdm_run_v31526599186312_age3/1_shape/cdm_run_v31526599186312_1_shape_0.png\n",
      "./cumulative_drawings/cdm_run_v31526599186312_age3/1_shape/cdm_run_v31526599186312_1_shape_1.png\n",
      "./cumulative_drawings/cdm_run_v31526599186312_age3/1_shape/cdm_run_v31526599186312_1_shape_2.png\n",
      "./cumulative_drawings/cdm_run_v31526599186312_age3/1_shape/cdm_run_v31526599186312_1_shape_3.png\n",
      "./cumulative_drawings/cdm_run_v31526599186312_age3/1_shape/cdm_run_v31526599186312_1_shape_4.png\n",
      "Oops, something went wrong! Here is the error:\n",
      "'codes' must be a 1D list or array with the same length of 'vertices'\n",
      "Great! Number of drawings made by this person: 12\n",
      "./cumulative_drawings/cdm_run_v31526600614970_age2/0_square/cdm_run_v31526600614970_0_square_0.png\n",
      "./cumulative_drawings/cdm_run_v31526600614970_age2/0_square/cdm_run_v31526600614970_0_square_1.png\n",
      "./cumulative_drawings/cdm_run_v31526600614970_age2/0_square/cdm_run_v31526600614970_0_square_2.png\n",
      "./cumulative_drawings/cdm_run_v31526600614970_age2/0_square/cdm_run_v31526600614970_0_square_3.png\n",
      "./cumulative_drawings/cdm_run_v31526600614970_age2/0_square/cdm_run_v31526600614970_0_square_4.png\n",
      "Oops, something went wrong! Here is the error:\n",
      "'codes' must be a 1D list or array with the same length of 'vertices'\n",
      "Great! Number of drawings made by this person: 12\n",
      "./cumulative_drawings/cdm_run_v31526665223948_age6/0_square/cdm_run_v31526665223948_0_square_0.png\n",
      "./cumulative_drawings/cdm_run_v31526665223948_age6/1_shape/cdm_run_v31526665223948_1_shape_0.png\n",
      "./cumulative_drawings/cdm_run_v31526665223948_age6/2_this circle/cdm_run_v31526665223948_2_this circle_0.png\n",
      "Great! Number of drawings made by this person: 12\n",
      "./cumulative_drawings/cdm_run_v31526665751276_age6/0_square/cdm_run_v31526665751276_0_square_0.png\n",
      "./cumulative_drawings/cdm_run_v31526665751276_age6/1_shape/cdm_run_v31526665751276_1_shape_0.png\n",
      "./cumulative_drawings/cdm_run_v31526665751276_age6/2_this circle/cdm_run_v31526665751276_2_this circle_0.png\n",
      "Great! Number of drawings made by this person: 9\n",
      "./cumulative_drawings/cdm_run_v31526666150080_age6/0_square/cdm_run_v31526666150080_0_square_0.png\n",
      "./cumulative_drawings/cdm_run_v31526666150080_age6/0_square/cdm_run_v31526666150080_0_square_1.png\n",
      "./cumulative_drawings/cdm_run_v31526666150080_age6/1_shape/cdm_run_v31526666150080_1_shape_0.png\n",
      "./cumulative_drawings/cdm_run_v31526666150080_age6/2_this circle/cdm_run_v31526666150080_2_this circle_0.png\n",
      "Great! Number of drawings made by this person: 4\n",
      "./cumulative_drawings/cdm_run_v31526666895291_age8/0_square/cdm_run_v31526666895291_0_square_0.png\n",
      "./cumulative_drawings/cdm_run_v31526666895291_age8/1_shape/cdm_run_v31526666895291_1_shape_0.png\n",
      "./cumulative_drawings/cdm_run_v31526666895291_age8/1_shape/cdm_run_v31526666895291_1_shape_1.png\n",
      "./cumulative_drawings/cdm_run_v31526666895291_age8/1_shape/cdm_run_v31526666895291_1_shape_2.png\n",
      "./cumulative_drawings/cdm_run_v31526666895291_age8/1_shape/cdm_run_v31526666895291_1_shape_3.png\n",
      "Oops, something went wrong! Here is the error:\n",
      "'codes' must be a 1D list or array with the same length of 'vertices'\n",
      "Great! Number of drawings made by this person: 5\n",
      "./cumulative_drawings/cdm_run_v31526668170810_adult/0_square/cdm_run_v31526668170810_0_square_0.png\n",
      "./cumulative_drawings/cdm_run_v31526668170810_adult/1_shape/cdm_run_v31526668170810_1_shape_0.png\n",
      "./cumulative_drawings/cdm_run_v31526668170810_adult/1_shape/cdm_run_v31526668170810_1_shape_1.png\n",
      "./cumulative_drawings/cdm_run_v31526668170810_adult/2_this circle/cdm_run_v31526668170810_2_this circle_0.png\n",
      "Great! Number of drawings made by this person: 5\n",
      "./cumulative_drawings/cdm_run_v31526669362249_age6/0_square/cdm_run_v31526669362249_0_square_0.png\n",
      "./cumulative_drawings/cdm_run_v31526669362249_age6/0_square/cdm_run_v31526669362249_0_square_1.png\n",
      "./cumulative_drawings/cdm_run_v31526669362249_age6/0_square/cdm_run_v31526669362249_0_square_2.png\n",
      "./cumulative_drawings/cdm_run_v31526669362249_age6/1_shape/cdm_run_v31526669362249_1_shape_0.png\n",
      "./cumulative_drawings/cdm_run_v31526669362249_age6/2_this circle/cdm_run_v31526669362249_2_this circle_0.png\n",
      "Great! Number of drawings made by this person: 12\n",
      "./cumulative_drawings/cdm_run_v31526671777923_age3/0_square/cdm_run_v31526671777923_0_square_0.png\n",
      "./cumulative_drawings/cdm_run_v31526671777923_age3/0_square/cdm_run_v31526671777923_0_square_1.png\n",
      "./cumulative_drawings/cdm_run_v31526671777923_age3/0_square/cdm_run_v31526671777923_0_square_2.png\n",
      "./cumulative_drawings/cdm_run_v31526671777923_age3/0_square/cdm_run_v31526671777923_0_square_3.png\n",
      "./cumulative_drawings/cdm_run_v31526671777923_age3/0_square/cdm_run_v31526671777923_0_square_4.png\n",
      "./cumulative_drawings/cdm_run_v31526671777923_age3/0_square/cdm_run_v31526671777923_0_square_5.png\n",
      "./cumulative_drawings/cdm_run_v31526671777923_age3/0_square/cdm_run_v31526671777923_0_square_6.png\n",
      "./cumulative_drawings/cdm_run_v31526671777923_age3/0_square/cdm_run_v31526671777923_0_square_7.png\n",
      "./cumulative_drawings/cdm_run_v31526671777923_age3/0_square/cdm_run_v31526671777923_0_square_8.png\n",
      "./cumulative_drawings/cdm_run_v31526671777923_age3/0_square/cdm_run_v31526671777923_0_square_9.png\n",
      "./cumulative_drawings/cdm_run_v31526671777923_age3/1_shape/cdm_run_v31526671777923_1_shape_0.png\n",
      "./cumulative_drawings/cdm_run_v31526671777923_age3/1_shape/cdm_run_v31526671777923_1_shape_1.png\n",
      "./cumulative_drawings/cdm_run_v31526671777923_age3/1_shape/cdm_run_v31526671777923_1_shape_2.png\n",
      "./cumulative_drawings/cdm_run_v31526671777923_age3/1_shape/cdm_run_v31526671777923_1_shape_3.png\n",
      "./cumulative_drawings/cdm_run_v31526671777923_age3/1_shape/cdm_run_v31526671777923_1_shape_4.png\n",
      "./cumulative_drawings/cdm_run_v31526671777923_age3/1_shape/cdm_run_v31526671777923_1_shape_5.png\n",
      "./cumulative_drawings/cdm_run_v31526671777923_age3/1_shape/cdm_run_v31526671777923_1_shape_6.png\n",
      "./cumulative_drawings/cdm_run_v31526671777923_age3/2_this circle/cdm_run_v31526671777923_2_this circle_0.png\n",
      "./cumulative_drawings/cdm_run_v31526671777923_age3/2_this circle/cdm_run_v31526671777923_2_this circle_1.png\n"
     ]
    },
    {
     "name": "stdout",
     "output_type": "stream",
     "text": [
      "Great! Number of drawings made by this person: 12\n",
      "./cumulative_drawings/cdm_run_v31526673903441_age4/0_square/cdm_run_v31526673903441_0_square_0.png\n",
      "./cumulative_drawings/cdm_run_v31526673903441_age4/1_shape/cdm_run_v31526673903441_1_shape_0.png\n",
      "./cumulative_drawings/cdm_run_v31526673903441_age4/1_shape/cdm_run_v31526673903441_1_shape_1.png\n",
      "./cumulative_drawings/cdm_run_v31526673903441_age4/1_shape/cdm_run_v31526673903441_1_shape_2.png\n",
      "./cumulative_drawings/cdm_run_v31526673903441_age4/1_shape/cdm_run_v31526673903441_1_shape_3.png\n",
      "./cumulative_drawings/cdm_run_v31526673903441_age4/1_shape/cdm_run_v31526673903441_1_shape_4.png\n",
      "./cumulative_drawings/cdm_run_v31526673903441_age4/1_shape/cdm_run_v31526673903441_1_shape_5.png\n",
      "./cumulative_drawings/cdm_run_v31526673903441_age4/1_shape/cdm_run_v31526673903441_1_shape_6.png\n",
      "./cumulative_drawings/cdm_run_v31526673903441_age4/1_shape/cdm_run_v31526673903441_1_shape_7.png\n",
      "./cumulative_drawings/cdm_run_v31526673903441_age4/1_shape/cdm_run_v31526673903441_1_shape_8.png\n",
      "./cumulative_drawings/cdm_run_v31526673903441_age4/1_shape/cdm_run_v31526673903441_1_shape_9.png\n",
      "./cumulative_drawings/cdm_run_v31526673903441_age4/1_shape/cdm_run_v31526673903441_1_shape_10.png\n",
      "./cumulative_drawings/cdm_run_v31526673903441_age4/1_shape/cdm_run_v31526673903441_1_shape_11.png\n",
      "Oops, something went wrong! Here is the error:\n",
      "'codes' must be a 1D list or array with the same length of 'vertices'\n",
      "Great! Number of drawings made by this person: 12\n",
      "./cumulative_drawings/cdm_run_v31526674232751_age5/0_square/cdm_run_v31526674232751_0_square_0.png\n",
      "Oops, something went wrong! Here is the error:\n",
      "'codes' must be a 1D list or array with the same length of 'vertices'\n",
      "Great! Number of drawings made by this person: 12\n",
      "./cumulative_drawings/cdm_run_v31526675307830_age4/0_square/cdm_run_v31526675307830_0_square_0.png\n",
      "./cumulative_drawings/cdm_run_v31526675307830_age4/0_square/cdm_run_v31526675307830_0_square_1.png\n",
      "./cumulative_drawings/cdm_run_v31526675307830_age4/1_shape/cdm_run_v31526675307830_1_shape_0.png\n",
      "./cumulative_drawings/cdm_run_v31526675307830_age4/2_this circle/cdm_run_v31526675307830_2_this circle_0.png\n",
      "Great! Number of drawings made by this person: 12\n",
      "./cumulative_drawings/cdm_run_v31526676243268_adult/0_square/cdm_run_v31526676243268_0_square_0.png\n",
      "./cumulative_drawings/cdm_run_v31526676243268_adult/1_shape/cdm_run_v31526676243268_1_shape_0.png\n",
      "./cumulative_drawings/cdm_run_v31526676243268_adult/2_this circle/cdm_run_v31526676243268_2_this circle_0.png\n",
      "Great! Number of drawings made by this person: 10\n",
      "./cumulative_drawings/cdm_run_v31526677237307_age3/0_square/cdm_run_v31526677237307_0_square_0.png\n",
      "./cumulative_drawings/cdm_run_v31526677237307_age3/0_square/cdm_run_v31526677237307_0_square_1.png\n",
      "./cumulative_drawings/cdm_run_v31526677237307_age3/0_square/cdm_run_v31526677237307_0_square_2.png\n",
      "./cumulative_drawings/cdm_run_v31526677237307_age3/0_square/cdm_run_v31526677237307_0_square_3.png\n",
      "./cumulative_drawings/cdm_run_v31526677237307_age3/0_square/cdm_run_v31526677237307_0_square_4.png\n",
      "./cumulative_drawings/cdm_run_v31526677237307_age3/1_shape/cdm_run_v31526677237307_1_shape_0.png\n",
      "./cumulative_drawings/cdm_run_v31526677237307_age3/1_shape/cdm_run_v31526677237307_1_shape_1.png\n",
      "./cumulative_drawings/cdm_run_v31526677237307_age3/1_shape/cdm_run_v31526677237307_1_shape_2.png\n",
      "./cumulative_drawings/cdm_run_v31526677237307_age3/1_shape/cdm_run_v31526677237307_1_shape_3.png\n",
      "./cumulative_drawings/cdm_run_v31526677237307_age3/1_shape/cdm_run_v31526677237307_1_shape_4.png\n",
      "Oops, something went wrong! Here is the error:\n",
      "'codes' must be a 1D list or array with the same length of 'vertices'\n",
      "Great! Number of drawings made by this person: 12\n",
      "./cumulative_drawings/cdm_run_v31526679898030_adult/0_square/cdm_run_v31526679898030_0_square_0.png\n",
      "./cumulative_drawings/cdm_run_v31526679898030_adult/1_shape/cdm_run_v31526679898030_1_shape_0.png\n",
      "./cumulative_drawings/cdm_run_v31526679898030_adult/2_this circle/cdm_run_v31526679898030_2_this circle_0.png\n",
      "Great! Number of drawings made by this person: 6\n",
      "./cumulative_drawings/cdm_run_v31526680185143_age2/0_square/cdm_run_v31526680185143_0_square_0.png\n",
      "./cumulative_drawings/cdm_run_v31526680185143_age2/0_square/cdm_run_v31526680185143_0_square_1.png\n",
      "./cumulative_drawings/cdm_run_v31526680185143_age2/0_square/cdm_run_v31526680185143_0_square_2.png\n",
      "./cumulative_drawings/cdm_run_v31526680185143_age2/0_square/cdm_run_v31526680185143_0_square_3.png\n",
      "./cumulative_drawings/cdm_run_v31526680185143_age2/1_shape/cdm_run_v31526680185143_1_shape_0.png\n",
      "./cumulative_drawings/cdm_run_v31526680185143_age2/1_shape/cdm_run_v31526680185143_1_shape_1.png\n",
      "./cumulative_drawings/cdm_run_v31526680185143_age2/1_shape/cdm_run_v31526680185143_1_shape_2.png\n",
      "./cumulative_drawings/cdm_run_v31526680185143_age2/1_shape/cdm_run_v31526680185143_1_shape_3.png\n",
      "./cumulative_drawings/cdm_run_v31526680185143_age2/1_shape/cdm_run_v31526680185143_1_shape_4.png\n",
      "./cumulative_drawings/cdm_run_v31526680185143_age2/1_shape/cdm_run_v31526680185143_1_shape_5.png\n",
      "./cumulative_drawings/cdm_run_v31526680185143_age2/1_shape/cdm_run_v31526680185143_1_shape_6.png\n",
      "./cumulative_drawings/cdm_run_v31526680185143_age2/1_shape/cdm_run_v31526680185143_1_shape_7.png\n",
      "./cumulative_drawings/cdm_run_v31526680185143_age2/1_shape/cdm_run_v31526680185143_1_shape_8.png\n",
      "./cumulative_drawings/cdm_run_v31526680185143_age2/1_shape/cdm_run_v31526680185143_1_shape_9.png\n",
      "Oops, something went wrong! Here is the error:\n",
      "'codes' must be a 1D list or array with the same length of 'vertices'\n",
      "Great! Number of drawings made by this person: 3\n",
      "./cumulative_drawings/cdm_run_v31526680929665_age2/0_square/cdm_run_v31526680929665_0_square_0.png\n",
      "./cumulative_drawings/cdm_run_v31526680929665_age2/1_shape/cdm_run_v31526680929665_1_shape_0.png\n",
      "./cumulative_drawings/cdm_run_v31526680929665_age2/2_this circle/cdm_run_v31526680929665_2_this circle_0.png\n",
      "./cumulative_drawings/cdm_run_v31526680929665_age2/2_this circle/cdm_run_v31526680929665_2_this circle_1.png\n",
      "./cumulative_drawings/cdm_run_v31526680929665_age2/2_this circle/cdm_run_v31526680929665_2_this circle_2.png\n",
      "./cumulative_drawings/cdm_run_v31526680929665_age2/2_this circle/cdm_run_v31526680929665_2_this circle_3.png\n",
      "Oops, something went wrong! Here is the error:\n",
      "'codes' must be a 1D list or array with the same length of 'vertices'\n",
      "Great! Number of drawings made by this person: 4\n",
      "./cumulative_drawings/cdm_run_v31526681047495_age2/0_square/cdm_run_v31526681047495_0_square_0.png\n",
      "./cumulative_drawings/cdm_run_v31526681047495_age2/0_square/cdm_run_v31526681047495_0_square_1.png\n",
      "./cumulative_drawings/cdm_run_v31526681047495_age2/0_square/cdm_run_v31526681047495_0_square_2.png\n",
      "./cumulative_drawings/cdm_run_v31526681047495_age2/0_square/cdm_run_v31526681047495_0_square_3.png\n",
      "Oops, something went wrong! Here is the error:\n",
      "'codes' must be a 1D list or array with the same length of 'vertices'\n",
      "Great! Number of drawings made by this person: 6\n",
      "./cumulative_drawings/cdm_run_v31526681102427_age3/0_square/cdm_run_v31526681102427_0_square_0.png\n",
      "./cumulative_drawings/cdm_run_v31526681102427_age3/0_square/cdm_run_v31526681102427_0_square_1.png\n",
      "./cumulative_drawings/cdm_run_v31526681102427_age3/0_square/cdm_run_v31526681102427_0_square_2.png\n",
      "./cumulative_drawings/cdm_run_v31526681102427_age3/0_square/cdm_run_v31526681102427_0_square_3.png\n",
      "./cumulative_drawings/cdm_run_v31526681102427_age3/0_square/cdm_run_v31526681102427_0_square_4.png\n",
      "./cumulative_drawings/cdm_run_v31526681102427_age3/1_shape/cdm_run_v31526681102427_1_shape_0.png\n",
      "./cumulative_drawings/cdm_run_v31526681102427_age3/2_this circle/cdm_run_v31526681102427_2_this circle_0.png\n",
      "./cumulative_drawings/cdm_run_v31526681102427_age3/2_this circle/cdm_run_v31526681102427_2_this circle_1.png\n",
      "./cumulative_drawings/cdm_run_v31526681102427_age3/2_this circle/cdm_run_v31526681102427_2_this circle_2.png\n",
      "Oops, something went wrong! Here is the error:\n",
      "'codes' must be a 1D list or array with the same length of 'vertices'\n",
      "Great! Number of drawings made by this person: 12\n",
      "./cumulative_drawings/cdm_run_v31526681463221_age5/0_square/cdm_run_v31526681463221_0_square_0.png\n",
      "./cumulative_drawings/cdm_run_v31526681463221_age5/0_square/cdm_run_v31526681463221_0_square_1.png\n"
     ]
    },
    {
     "name": "stdout",
     "output_type": "stream",
     "text": [
      "./cumulative_drawings/cdm_run_v31526681463221_age5/1_shape/cdm_run_v31526681463221_1_shape_0.png\n",
      "./cumulative_drawings/cdm_run_v31526681463221_age5/2_this circle/cdm_run_v31526681463221_2_this circle_0.png\n",
      "./cumulative_drawings/cdm_run_v31526681463221_age5/2_this circle/cdm_run_v31526681463221_2_this circle_1.png\n",
      "Great! Number of drawings made by this person: 12\n",
      "./cumulative_drawings/cdm_run_v31526682177815_adult/0_square/cdm_run_v31526682177815_0_square_0.png\n",
      "./cumulative_drawings/cdm_run_v31526682177815_adult/1_shape/cdm_run_v31526682177815_1_shape_0.png\n",
      "./cumulative_drawings/cdm_run_v31526682177815_adult/2_this circle/cdm_run_v31526682177815_2_this circle_0.png\n",
      "Great! Number of drawings made by this person: 11\n",
      "./cumulative_drawings/cdm_run_v31526749199535_adult/0_square/cdm_run_v31526749199535_0_square_0.png\n",
      "./cumulative_drawings/cdm_run_v31526749199535_adult/1_shape/cdm_run_v31526749199535_1_shape_0.png\n",
      "./cumulative_drawings/cdm_run_v31526749199535_adult/1_shape/cdm_run_v31526749199535_1_shape_1.png\n",
      "./cumulative_drawings/cdm_run_v31526749199535_adult/1_shape/cdm_run_v31526749199535_1_shape_2.png\n",
      "./cumulative_drawings/cdm_run_v31526749199535_adult/1_shape/cdm_run_v31526749199535_1_shape_3.png\n",
      "./cumulative_drawings/cdm_run_v31526749199535_adult/1_shape/cdm_run_v31526749199535_1_shape_4.png\n",
      "./cumulative_drawings/cdm_run_v31526749199535_adult/2_this circle/cdm_run_v31526749199535_2_this circle_0.png\n",
      "./cumulative_drawings/cdm_run_v31526749199535_adult/2_this circle/cdm_run_v31526749199535_2_this circle_1.png\n",
      "./cumulative_drawings/cdm_run_v31526749199535_adult/2_this circle/cdm_run_v31526749199535_2_this circle_2.png\n",
      "Great! Number of drawings made by this person: 12\n",
      "Oops, something went wrong! Here is the error:\n",
      "\n",
      "Great! Number of drawings made by this person: 5\n",
      "./cumulative_drawings/cdm_run_v31526752420466_age2/0_square/cdm_run_v31526752420466_0_square_0.png\n",
      "./cumulative_drawings/cdm_run_v31526752420466_age2/1_shape/cdm_run_v31526752420466_1_shape_0.png\n",
      "./cumulative_drawings/cdm_run_v31526752420466_age2/2_this circle/cdm_run_v31526752420466_2_this circle_0.png\n",
      "Great! Number of drawings made by this person: 4\n",
      "./cumulative_drawings/cdm_run_v31526753329532_age2/0_square/cdm_run_v31526753329532_0_square_0.png\n",
      "./cumulative_drawings/cdm_run_v31526753329532_age2/0_square/cdm_run_v31526753329532_0_square_1.png\n",
      "./cumulative_drawings/cdm_run_v31526753329532_age2/0_square/cdm_run_v31526753329532_0_square_2.png\n",
      "./cumulative_drawings/cdm_run_v31526753329532_age2/0_square/cdm_run_v31526753329532_0_square_3.png\n",
      "./cumulative_drawings/cdm_run_v31526753329532_age2/1_shape/cdm_run_v31526753329532_1_shape_0.png\n",
      "./cumulative_drawings/cdm_run_v31526753329532_age2/1_shape/cdm_run_v31526753329532_1_shape_1.png\n",
      "./cumulative_drawings/cdm_run_v31526753329532_age2/1_shape/cdm_run_v31526753329532_1_shape_2.png\n",
      "./cumulative_drawings/cdm_run_v31526753329532_age2/1_shape/cdm_run_v31526753329532_1_shape_3.png\n",
      "Oops, something went wrong! Here is the error:\n",
      "'codes' must be a 1D list or array with the same length of 'vertices'\n",
      "Great! Number of drawings made by this person: 3\n",
      "./cumulative_drawings/cdm_run_v31526754310894_age3/0_square/cdm_run_v31526754310894_0_square_0.png\n",
      "./cumulative_drawings/cdm_run_v31526754310894_age3/1_shape/cdm_run_v31526754310894_1_shape_0.png\n",
      "Oops, something went wrong! Here is the error:\n",
      "\n",
      "Great! Number of drawings made by this person: 7\n",
      "./cumulative_drawings/cdm_run_v31526756687249_age5/0_square/cdm_run_v31526756687249_0_square_0.png\n",
      "./cumulative_drawings/cdm_run_v31526756687249_age5/1_shape/cdm_run_v31526756687249_1_shape_0.png\n",
      "./cumulative_drawings/cdm_run_v31526756687249_age5/1_shape/cdm_run_v31526756687249_1_shape_1.png\n",
      "./cumulative_drawings/cdm_run_v31526756687249_age5/2_this circle/cdm_run_v31526756687249_2_this circle_0.png\n",
      "Great! Number of drawings made by this person: 12\n",
      "./cumulative_drawings/cdm_run_v31526757005823_age9/0_square/cdm_run_v31526757005823_0_square_0.png\n",
      "./cumulative_drawings/cdm_run_v31526757005823_age9/0_square/cdm_run_v31526757005823_0_square_1.png\n",
      "./cumulative_drawings/cdm_run_v31526757005823_age9/0_square/cdm_run_v31526757005823_0_square_2.png\n",
      "./cumulative_drawings/cdm_run_v31526757005823_age9/0_square/cdm_run_v31526757005823_0_square_3.png\n",
      "./cumulative_drawings/cdm_run_v31526757005823_age9/0_square/cdm_run_v31526757005823_0_square_4.png\n",
      "./cumulative_drawings/cdm_run_v31526757005823_age9/0_square/cdm_run_v31526757005823_0_square_5.png\n",
      "./cumulative_drawings/cdm_run_v31526757005823_age9/0_square/cdm_run_v31526757005823_0_square_6.png\n",
      "./cumulative_drawings/cdm_run_v31526757005823_age9/0_square/cdm_run_v31526757005823_0_square_7.png\n",
      "./cumulative_drawings/cdm_run_v31526757005823_age9/0_square/cdm_run_v31526757005823_0_square_8.png\n",
      "./cumulative_drawings/cdm_run_v31526757005823_age9/0_square/cdm_run_v31526757005823_0_square_9.png\n",
      "./cumulative_drawings/cdm_run_v31526757005823_age9/0_square/cdm_run_v31526757005823_0_square_10.png\n",
      "./cumulative_drawings/cdm_run_v31526757005823_age9/0_square/cdm_run_v31526757005823_0_square_11.png\n",
      "./cumulative_drawings/cdm_run_v31526757005823_age9/0_square/cdm_run_v31526757005823_0_square_12.png\n",
      "./cumulative_drawings/cdm_run_v31526757005823_age9/0_square/cdm_run_v31526757005823_0_square_13.png\n",
      "Oops, something went wrong! Here is the error:\n",
      "'codes' must be a 1D list or array with the same length of 'vertices'\n",
      "Great! Number of drawings made by this person: 12\n",
      "./cumulative_drawings/cdm_run_v31526757398790_age3/0_square/cdm_run_v31526757398790_0_square_0.png\n",
      "./cumulative_drawings/cdm_run_v31526757398790_age3/1_shape/cdm_run_v31526757398790_1_shape_0.png\n",
      "./cumulative_drawings/cdm_run_v31526757398790_age3/1_shape/cdm_run_v31526757398790_1_shape_1.png\n",
      "./cumulative_drawings/cdm_run_v31526757398790_age3/1_shape/cdm_run_v31526757398790_1_shape_2.png\n",
      "./cumulative_drawings/cdm_run_v31526757398790_age3/2_this circle/cdm_run_v31526757398790_2_this circle_0.png\n",
      "Great! Number of drawings made by this person: 3\n",
      "./cumulative_drawings/cdm_run_v31526757881135_age3/0_square/cdm_run_v31526757881135_0_square_0.png\n",
      "./cumulative_drawings/cdm_run_v31526757881135_age3/0_square/cdm_run_v31526757881135_0_square_1.png\n",
      "./cumulative_drawings/cdm_run_v31526757881135_age3/0_square/cdm_run_v31526757881135_0_square_2.png\n",
      "./cumulative_drawings/cdm_run_v31526757881135_age3/1_shape/cdm_run_v31526757881135_1_shape_0.png\n",
      "./cumulative_drawings/cdm_run_v31526757881135_age3/1_shape/cdm_run_v31526757881135_1_shape_1.png\n",
      "./cumulative_drawings/cdm_run_v31526757881135_age3/1_shape/cdm_run_v31526757881135_1_shape_2.png\n",
      "./cumulative_drawings/cdm_run_v31526757881135_age3/1_shape/cdm_run_v31526757881135_1_shape_3.png\n",
      "./cumulative_drawings/cdm_run_v31526757881135_age3/1_shape/cdm_run_v31526757881135_1_shape_4.png\n",
      "./cumulative_drawings/cdm_run_v31526757881135_age3/1_shape/cdm_run_v31526757881135_1_shape_5.png\n",
      "./cumulative_drawings/cdm_run_v31526757881135_age3/1_shape/cdm_run_v31526757881135_1_shape_6.png\n",
      "./cumulative_drawings/cdm_run_v31526757881135_age3/1_shape/cdm_run_v31526757881135_1_shape_7.png\n",
      "./cumulative_drawings/cdm_run_v31526757881135_age3/1_shape/cdm_run_v31526757881135_1_shape_8.png\n",
      "./cumulative_drawings/cdm_run_v31526757881135_age3/1_shape/cdm_run_v31526757881135_1_shape_9.png\n",
      "./cumulative_drawings/cdm_run_v31526757881135_age3/1_shape/cdm_run_v31526757881135_1_shape_10.png\n",
      "./cumulative_drawings/cdm_run_v31526757881135_age3/1_shape/cdm_run_v31526757881135_1_shape_11.png\n",
      "./cumulative_drawings/cdm_run_v31526757881135_age3/1_shape/cdm_run_v31526757881135_1_shape_12.png\n",
      "./cumulative_drawings/cdm_run_v31526757881135_age3/1_shape/cdm_run_v31526757881135_1_shape_13.png\n",
      "./cumulative_drawings/cdm_run_v31526757881135_age3/1_shape/cdm_run_v31526757881135_1_shape_14.png\n",
      "./cumulative_drawings/cdm_run_v31526757881135_age3/1_shape/cdm_run_v31526757881135_1_shape_15.png\n",
      "./cumulative_drawings/cdm_run_v31526757881135_age3/1_shape/cdm_run_v31526757881135_1_shape_16.png\n",
      "Oops, something went wrong! Here is the error:\n",
      "\n",
      "Great! Number of drawings made by this person: 11\n",
      "./cumulative_drawings/cdm_run_v31526758896291_age3/0_square/cdm_run_v31526758896291_0_square_0.png\n",
      "./cumulative_drawings/cdm_run_v31526758896291_age3/0_square/cdm_run_v31526758896291_0_square_1.png\n",
      "./cumulative_drawings/cdm_run_v31526758896291_age3/0_square/cdm_run_v31526758896291_0_square_2.png\n",
      "./cumulative_drawings/cdm_run_v31526758896291_age3/0_square/cdm_run_v31526758896291_0_square_3.png\n"
     ]
    },
    {
     "name": "stdout",
     "output_type": "stream",
     "text": [
      "Oops, something went wrong! Here is the error:\n",
      "'codes' must be a 1D list or array with the same length of 'vertices'\n",
      "Great! Number of drawings made by this person: 3\n",
      "Oops, something went wrong! Here is the error:\n",
      "\n",
      "Great! Number of drawings made by this person: 8\n",
      "./cumulative_drawings/cdm_run_v31526759675535_age6/0_square/cdm_run_v31526759675535_0_square_0.png\n",
      "./cumulative_drawings/cdm_run_v31526759675535_age6/1_shape/cdm_run_v31526759675535_1_shape_0.png\n",
      "./cumulative_drawings/cdm_run_v31526759675535_age6/2_this circle/cdm_run_v31526759675535_2_this circle_0.png\n",
      "Great! Number of drawings made by this person: 6\n",
      "./cumulative_drawings/cdm_run_v31526760363848_age3/0_square/cdm_run_v31526760363848_0_square_0.png\n",
      "./cumulative_drawings/cdm_run_v31526760363848_age3/1_shape/cdm_run_v31526760363848_1_shape_0.png\n",
      "./cumulative_drawings/cdm_run_v31526760363848_age3/2_this circle/cdm_run_v31526760363848_2_this circle_0.png\n",
      "Great! Number of drawings made by this person: 5\n",
      "./cumulative_drawings/cdm_run_v31526761507026_age4/0_square/cdm_run_v31526761507026_0_square_0.png\n",
      "./cumulative_drawings/cdm_run_v31526761507026_age4/0_square/cdm_run_v31526761507026_0_square_1.png\n",
      "./cumulative_drawings/cdm_run_v31526761507026_age4/0_square/cdm_run_v31526761507026_0_square_2.png\n",
      "./cumulative_drawings/cdm_run_v31526761507026_age4/0_square/cdm_run_v31526761507026_0_square_3.png\n",
      "./cumulative_drawings/cdm_run_v31526761507026_age4/0_square/cdm_run_v31526761507026_0_square_4.png\n",
      "./cumulative_drawings/cdm_run_v31526761507026_age4/0_square/cdm_run_v31526761507026_0_square_5.png\n",
      "./cumulative_drawings/cdm_run_v31526761507026_age4/1_shape/cdm_run_v31526761507026_1_shape_0.png\n",
      "./cumulative_drawings/cdm_run_v31526761507026_age4/2_this circle/cdm_run_v31526761507026_2_this circle_0.png\n",
      "./cumulative_drawings/cdm_run_v31526761507026_age4/2_this circle/cdm_run_v31526761507026_2_this circle_1.png\n",
      "Great! Number of drawings made by this person: 12\n",
      "./cumulative_drawings/cdm_run_v31526762362068_age5/0_square/cdm_run_v31526762362068_0_square_0.png\n",
      "./cumulative_drawings/cdm_run_v31526762362068_age5/1_shape/cdm_run_v31526762362068_1_shape_0.png\n",
      "./cumulative_drawings/cdm_run_v31526762362068_age5/2_this circle/cdm_run_v31526762362068_2_this circle_0.png\n",
      "Great! Number of drawings made by this person: 8\n",
      "./cumulative_drawings/cdm_run_v31526762829294_age3/0_square/cdm_run_v31526762829294_0_square_0.png\n",
      "./cumulative_drawings/cdm_run_v31526762829294_age3/0_square/cdm_run_v31526762829294_0_square_1.png\n",
      "./cumulative_drawings/cdm_run_v31526762829294_age3/0_square/cdm_run_v31526762829294_0_square_2.png\n",
      "./cumulative_drawings/cdm_run_v31526762829294_age3/0_square/cdm_run_v31526762829294_0_square_3.png\n",
      "./cumulative_drawings/cdm_run_v31526762829294_age3/1_shape/cdm_run_v31526762829294_1_shape_0.png\n",
      "./cumulative_drawings/cdm_run_v31526762829294_age3/2_this circle/cdm_run_v31526762829294_2_this circle_0.png\n",
      "Great! Number of drawings made by this person: 12\n",
      "./cumulative_drawings/cdm_run_v31526763016973_age3/0_square/cdm_run_v31526763016973_0_square_0.png\n",
      "./cumulative_drawings/cdm_run_v31526763016973_age3/1_shape/cdm_run_v31526763016973_1_shape_0.png\n",
      "./cumulative_drawings/cdm_run_v31526763016973_age3/2_this circle/cdm_run_v31526763016973_2_this circle_0.png\n",
      "Great! Number of drawings made by this person: 11\n",
      "./cumulative_drawings/cdm_run_v31526763408835_age4/0_square/cdm_run_v31526763408835_0_square_0.png\n",
      "./cumulative_drawings/cdm_run_v31526763408835_age4/1_shape/cdm_run_v31526763408835_1_shape_0.png\n",
      "./cumulative_drawings/cdm_run_v31526763408835_age4/2_this circle/cdm_run_v31526763408835_2_this circle_0.png\n",
      "Great! Number of drawings made by this person: 12\n",
      "./cumulative_drawings/cdm_run_v31526763707135_age4/0_square/cdm_run_v31526763707135_0_square_0.png\n",
      "./cumulative_drawings/cdm_run_v31526763707135_age4/1_shape/cdm_run_v31526763707135_1_shape_0.png\n",
      "./cumulative_drawings/cdm_run_v31526763707135_age4/2_this circle/cdm_run_v31526763707135_2_this circle_0.png\n",
      "Great! Number of drawings made by this person: 3\n",
      "./cumulative_drawings/cdm_run_v31526764026630_age2/0_square/cdm_run_v31526764026630_0_square_0.png\n",
      "./cumulative_drawings/cdm_run_v31526764026630_age2/0_square/cdm_run_v31526764026630_0_square_1.png\n",
      "./cumulative_drawings/cdm_run_v31526764026630_age2/0_square/cdm_run_v31526764026630_0_square_2.png\n",
      "./cumulative_drawings/cdm_run_v31526764026630_age2/0_square/cdm_run_v31526764026630_0_square_3.png\n",
      "./cumulative_drawings/cdm_run_v31526764026630_age2/0_square/cdm_run_v31526764026630_0_square_4.png\n",
      "./cumulative_drawings/cdm_run_v31526764026630_age2/0_square/cdm_run_v31526764026630_0_square_5.png\n",
      "./cumulative_drawings/cdm_run_v31526764026630_age2/0_square/cdm_run_v31526764026630_0_square_6.png\n",
      "Oops, something went wrong! Here is the error:\n",
      "'codes' must be a 1D list or array with the same length of 'vertices'\n",
      "Great! Number of drawings made by this person: 12\n",
      "./cumulative_drawings/cdm_run_v31526764663958_age10/0_square/cdm_run_v31526764663958_0_square_0.png\n",
      "./cumulative_drawings/cdm_run_v31526764663958_age10/0_square/cdm_run_v31526764663958_0_square_1.png\n",
      "./cumulative_drawings/cdm_run_v31526764663958_age10/1_shape/cdm_run_v31526764663958_1_shape_0.png\n",
      "./cumulative_drawings/cdm_run_v31526764663958_age10/2_this circle/cdm_run_v31526764663958_2_this circle_0.png\n",
      "./cumulative_drawings/cdm_run_v31526764663958_age10/2_this circle/cdm_run_v31526764663958_2_this circle_1.png\n",
      "Great! Number of drawings made by this person: 10\n",
      "./cumulative_drawings/cdm_run_v31526765218403_age10/0_square/cdm_run_v31526765218403_0_square_0.png\n",
      "./cumulative_drawings/cdm_run_v31526765218403_age10/1_shape/cdm_run_v31526765218403_1_shape_0.png\n",
      "./cumulative_drawings/cdm_run_v31526765218403_age10/2_this circle/cdm_run_v31526765218403_2_this circle_0.png\n",
      "Great! Number of drawings made by this person: 3\n",
      "./cumulative_drawings/cdm_run_v31526765744803_age4/0_square/cdm_run_v31526765744803_0_square_0.png\n",
      "./cumulative_drawings/cdm_run_v31526765744803_age4/0_square/cdm_run_v31526765744803_0_square_1.png\n",
      "./cumulative_drawings/cdm_run_v31526765744803_age4/0_square/cdm_run_v31526765744803_0_square_2.png\n",
      "./cumulative_drawings/cdm_run_v31526765744803_age4/0_square/cdm_run_v31526765744803_0_square_3.png\n",
      "./cumulative_drawings/cdm_run_v31526765744803_age4/0_square/cdm_run_v31526765744803_0_square_4.png\n",
      "Oops, something went wrong! Here is the error:\n",
      "'codes' must be a 1D list or array with the same length of 'vertices'\n",
      "Great! Number of drawings made by this person: 7\n",
      "./cumulative_drawings/cdm_run_v31526765931739_age3/0_square/cdm_run_v31526765931739_0_square_0.png\n",
      "./cumulative_drawings/cdm_run_v31526765931739_age3/0_square/cdm_run_v31526765931739_0_square_1.png\n",
      "./cumulative_drawings/cdm_run_v31526765931739_age3/0_square/cdm_run_v31526765931739_0_square_2.png\n",
      "./cumulative_drawings/cdm_run_v31526765931739_age3/0_square/cdm_run_v31526765931739_0_square_3.png\n",
      "./cumulative_drawings/cdm_run_v31526765931739_age3/0_square/cdm_run_v31526765931739_0_square_4.png\n",
      "./cumulative_drawings/cdm_run_v31526765931739_age3/1_shape/cdm_run_v31526765931739_1_shape_0.png\n",
      "./cumulative_drawings/cdm_run_v31526765931739_age3/1_shape/cdm_run_v31526765931739_1_shape_1.png\n",
      "./cumulative_drawings/cdm_run_v31526765931739_age3/1_shape/cdm_run_v31526765931739_1_shape_2.png\n",
      "./cumulative_drawings/cdm_run_v31526765931739_age3/1_shape/cdm_run_v31526765931739_1_shape_3.png\n",
      "Oops, something went wrong! Here is the error:\n",
      "'codes' must be a 1D list or array with the same length of 'vertices'\n",
      "Great! Number of drawings made by this person: 12\n",
      "Oops, something went wrong! Here is the error:\n",
      "\n",
      "Great! Number of drawings made by this person: 12\n",
      "./cumulative_drawings/cdm_run_v31526766453659_age5/0_square/cdm_run_v31526766453659_0_square_0.png\n",
      "./cumulative_drawings/cdm_run_v31526766453659_age5/1_shape/cdm_run_v31526766453659_1_shape_0.png\n",
      "./cumulative_drawings/cdm_run_v31526766453659_age5/2_this circle/cdm_run_v31526766453659_2_this circle_0.png\n",
      "Great! Number of drawings made by this person: 12\n",
      "./cumulative_drawings/cdm_run_v31526766708947_age5/0_square/cdm_run_v31526766708947_0_square_0.png\n",
      "./cumulative_drawings/cdm_run_v31526766708947_age5/1_shape/cdm_run_v31526766708947_1_shape_0.png\n",
      "./cumulative_drawings/cdm_run_v31526766708947_age5/2_this circle/cdm_run_v31526766708947_2_this circle_0.png\n"
     ]
    },
    {
     "name": "stdout",
     "output_type": "stream",
     "text": [
      "Great! Number of drawings made by this person: 4\n",
      "./cumulative_drawings/cdm_run_v31526766939394_age3/0_square/cdm_run_v31526766939394_0_square_0.png\n",
      "./cumulative_drawings/cdm_run_v31526766939394_age3/0_square/cdm_run_v31526766939394_0_square_1.png\n",
      "./cumulative_drawings/cdm_run_v31526766939394_age3/0_square/cdm_run_v31526766939394_0_square_2.png\n",
      "./cumulative_drawings/cdm_run_v31526766939394_age3/0_square/cdm_run_v31526766939394_0_square_3.png\n",
      "Oops, something went wrong! Here is the error:\n",
      "\n",
      "Great! Number of drawings made by this person: 5\n",
      "./cumulative_drawings/cdm_run_v31526767554598_age3/0_square/cdm_run_v31526767554598_0_square_0.png\n",
      "./cumulative_drawings/cdm_run_v31526767554598_age3/0_square/cdm_run_v31526767554598_0_square_1.png\n",
      "./cumulative_drawings/cdm_run_v31526767554598_age3/0_square/cdm_run_v31526767554598_0_square_2.png\n",
      "./cumulative_drawings/cdm_run_v31526767554598_age3/0_square/cdm_run_v31526767554598_0_square_3.png\n",
      "./cumulative_drawings/cdm_run_v31526767554598_age3/0_square/cdm_run_v31526767554598_0_square_4.png\n",
      "./cumulative_drawings/cdm_run_v31526767554598_age3/1_shape/cdm_run_v31526767554598_1_shape_0.png\n",
      "./cumulative_drawings/cdm_run_v31526767554598_age3/1_shape/cdm_run_v31526767554598_1_shape_1.png\n",
      "./cumulative_drawings/cdm_run_v31526767554598_age3/1_shape/cdm_run_v31526767554598_1_shape_2.png\n",
      "./cumulative_drawings/cdm_run_v31526767554598_age3/1_shape/cdm_run_v31526767554598_1_shape_3.png\n",
      "./cumulative_drawings/cdm_run_v31526767554598_age3/1_shape/cdm_run_v31526767554598_1_shape_4.png\n",
      "Oops, something went wrong! Here is the error:\n",
      "\n",
      "Great! Number of drawings made by this person: 11\n",
      "./cumulative_drawings/cdm_run_v31526767678558_age2/0_square/cdm_run_v31526767678558_0_square_0.png\n",
      "./cumulative_drawings/cdm_run_v31526767678558_age2/0_square/cdm_run_v31526767678558_0_square_1.png\n",
      "./cumulative_drawings/cdm_run_v31526767678558_age2/0_square/cdm_run_v31526767678558_0_square_2.png\n",
      "./cumulative_drawings/cdm_run_v31526767678558_age2/0_square/cdm_run_v31526767678558_0_square_3.png\n",
      "./cumulative_drawings/cdm_run_v31526767678558_age2/0_square/cdm_run_v31526767678558_0_square_4.png\n",
      "./cumulative_drawings/cdm_run_v31526767678558_age2/1_shape/cdm_run_v31526767678558_1_shape_0.png\n",
      "./cumulative_drawings/cdm_run_v31526767678558_age2/1_shape/cdm_run_v31526767678558_1_shape_1.png\n",
      "./cumulative_drawings/cdm_run_v31526767678558_age2/1_shape/cdm_run_v31526767678558_1_shape_2.png\n",
      "./cumulative_drawings/cdm_run_v31526767678558_age2/1_shape/cdm_run_v31526767678558_1_shape_3.png\n",
      "Oops, something went wrong! Here is the error:\n",
      "'codes' must be a 1D list or array with the same length of 'vertices'\n",
      "Great! Number of drawings made by this person: 8\n",
      "./cumulative_drawings/cdm_run_v31526768532130_age7/0_square/cdm_run_v31526768532130_0_square_0.png\n",
      "./cumulative_drawings/cdm_run_v31526768532130_age7/0_square/cdm_run_v31526768532130_0_square_1.png\n",
      "./cumulative_drawings/cdm_run_v31526768532130_age7/0_square/cdm_run_v31526768532130_0_square_2.png\n",
      "./cumulative_drawings/cdm_run_v31526768532130_age7/0_square/cdm_run_v31526768532130_0_square_3.png\n",
      "./cumulative_drawings/cdm_run_v31526768532130_age7/0_square/cdm_run_v31526768532130_0_square_4.png\n",
      "./cumulative_drawings/cdm_run_v31526768532130_age7/1_shape/cdm_run_v31526768532130_1_shape_0.png\n",
      "./cumulative_drawings/cdm_run_v31526768532130_age7/1_shape/cdm_run_v31526768532130_1_shape_1.png\n",
      "./cumulative_drawings/cdm_run_v31526768532130_age7/2_this circle/cdm_run_v31526768532130_2_this circle_0.png\n",
      "Great! Number of drawings made by this person: 12\n",
      "./cumulative_drawings/cdm_run_v31527009966236_age4/0_square/cdm_run_v31527009966236_0_square_0.png\n",
      "./cumulative_drawings/cdm_run_v31527009966236_age4/1_shape/cdm_run_v31527009966236_1_shape_0.png\n",
      "./cumulative_drawings/cdm_run_v31527009966236_age4/1_shape/cdm_run_v31527009966236_1_shape_1.png\n",
      "./cumulative_drawings/cdm_run_v31527009966236_age4/1_shape/cdm_run_v31527009966236_1_shape_2.png\n",
      "./cumulative_drawings/cdm_run_v31527009966236_age4/1_shape/cdm_run_v31527009966236_1_shape_3.png\n",
      "Oops, something went wrong! Here is the error:\n",
      "'codes' must be a 1D list or array with the same length of 'vertices'\n",
      "Great! Number of drawings made by this person: 4\n",
      "./cumulative_drawings/cdm_run_v31527010738007_age2/0_square/cdm_run_v31527010738007_0_square_0.png\n",
      "./cumulative_drawings/cdm_run_v31527010738007_age2/0_square/cdm_run_v31527010738007_0_square_1.png\n",
      "Oops, something went wrong! Here is the error:\n",
      "'codes' must be a 1D list or array with the same length of 'vertices'\n",
      "Great! Number of drawings made by this person: 3\n",
      "./cumulative_drawings/cdm_run_v31527014921221_age4/0_square/cdm_run_v31527014921221_0_square_0.png\n",
      "./cumulative_drawings/cdm_run_v31527014921221_age4/0_square/cdm_run_v31527014921221_0_square_1.png\n",
      "./cumulative_drawings/cdm_run_v31527014921221_age4/0_square/cdm_run_v31527014921221_0_square_2.png\n",
      "./cumulative_drawings/cdm_run_v31527014921221_age4/0_square/cdm_run_v31527014921221_0_square_3.png\n",
      "./cumulative_drawings/cdm_run_v31527014921221_age4/0_square/cdm_run_v31527014921221_0_square_4.png\n",
      "./cumulative_drawings/cdm_run_v31527014921221_age4/0_square/cdm_run_v31527014921221_0_square_5.png\n",
      "./cumulative_drawings/cdm_run_v31527014921221_age4/0_square/cdm_run_v31527014921221_0_square_6.png\n",
      "./cumulative_drawings/cdm_run_v31527014921221_age4/0_square/cdm_run_v31527014921221_0_square_7.png\n",
      "./cumulative_drawings/cdm_run_v31527014921221_age4/0_square/cdm_run_v31527014921221_0_square_8.png\n",
      "./cumulative_drawings/cdm_run_v31527014921221_age4/1_shape/cdm_run_v31527014921221_1_shape_0.png\n",
      "./cumulative_drawings/cdm_run_v31527014921221_age4/2_this circle/cdm_run_v31527014921221_2_this circle_0.png\n",
      "Great! Number of drawings made by this person: 8\n",
      "./cumulative_drawings/cdm_run_v31527015391114_age3/0_square/cdm_run_v31527015391114_0_square_0.png\n",
      "./cumulative_drawings/cdm_run_v31527015391114_age3/1_shape/cdm_run_v31527015391114_1_shape_0.png\n",
      "./cumulative_drawings/cdm_run_v31527015391114_age3/2_this circle/cdm_run_v31527015391114_2_this circle_0.png\n",
      "Great! Number of drawings made by this person: 5\n",
      "./cumulative_drawings/cdm_run_v31527015704037_age3/0_square/cdm_run_v31527015704037_0_square_0.png\n",
      "Oops, something went wrong! Here is the error:\n",
      "'codes' must be a 1D list or array with the same length of 'vertices'\n",
      "Great! Number of drawings made by this person: 4\n",
      "./cumulative_drawings/cdm_run_v31527016330371_age4/0_square/cdm_run_v31527016330371_0_square_0.png\n",
      "./cumulative_drawings/cdm_run_v31527016330371_age4/0_square/cdm_run_v31527016330371_0_square_1.png\n",
      "./cumulative_drawings/cdm_run_v31527016330371_age4/0_square/cdm_run_v31527016330371_0_square_2.png\n",
      "./cumulative_drawings/cdm_run_v31527016330371_age4/0_square/cdm_run_v31527016330371_0_square_3.png\n",
      "Oops, something went wrong! Here is the error:\n",
      "'codes' must be a 1D list or array with the same length of 'vertices'\n",
      "Great! Number of drawings made by this person: 3\n",
      "./cumulative_drawings/cdm_run_v31527016789305_adult/0_square/cdm_run_v31527016789305_0_square_0.png\n",
      "./cumulative_drawings/cdm_run_v31527016789305_adult/1_shape/cdm_run_v31527016789305_1_shape_0.png\n",
      "Oops, something went wrong! Here is the error:\n",
      "\n",
      "Great! Number of drawings made by this person: 3\n",
      "./cumulative_drawings/cdm_run_v31527017203887_age2/0_square/cdm_run_v31527017203887_0_square_0.png\n",
      "./cumulative_drawings/cdm_run_v31527017203887_age2/0_square/cdm_run_v31527017203887_0_square_1.png\n",
      "./cumulative_drawings/cdm_run_v31527017203887_age2/0_square/cdm_run_v31527017203887_0_square_2.png\n",
      "./cumulative_drawings/cdm_run_v31527017203887_age2/0_square/cdm_run_v31527017203887_0_square_3.png\n",
      "Oops, something went wrong! Here is the error:\n",
      "'codes' must be a 1D list or array with the same length of 'vertices'\n",
      "Great! Number of drawings made by this person: 6\n",
      "Oops, something went wrong! Here is the error:\n",
      "\n",
      "Great! Number of drawings made by this person: 12\n",
      "./cumulative_drawings/cdm_run_v31527709044988_adult/0_square/cdm_run_v31527709044988_0_square_0.png\n",
      "./cumulative_drawings/cdm_run_v31527709044988_adult/1_shape/cdm_run_v31527709044988_1_shape_0.png\n",
      "./cumulative_drawings/cdm_run_v31527709044988_adult/2_this circle/cdm_run_v31527709044988_2_this circle_0.png\n",
      "Great! Number of drawings made by this person: 10\n",
      "./cumulative_drawings/cdm_run_v31527709199308_adult/0_square/cdm_run_v31527709199308_0_square_0.png\n"
     ]
    },
    {
     "name": "stdout",
     "output_type": "stream",
     "text": [
      "./cumulative_drawings/cdm_run_v31527709199308_adult/1_shape/cdm_run_v31527709199308_1_shape_0.png\n",
      "./cumulative_drawings/cdm_run_v31527709199308_adult/2_this circle/cdm_run_v31527709199308_2_this circle_0.png\n",
      "Great! Number of drawings made by this person: 7\n",
      "Oops, something went wrong! Here is the error:\n",
      "\n",
      "Great! Number of drawings made by this person: 3\n",
      "./cumulative_drawings/cdm_run_v31527717845451_age4/0_square/cdm_run_v31527717845451_0_square_0.png\n",
      "./cumulative_drawings/cdm_run_v31527717845451_age4/1_shape/cdm_run_v31527717845451_1_shape_0.png\n",
      "./cumulative_drawings/cdm_run_v31527717845451_age4/2_this circle/cdm_run_v31527717845451_2_this circle_0.png\n",
      "./cumulative_drawings/cdm_run_v31527717845451_age4/2_this circle/cdm_run_v31527717845451_2_this circle_1.png\n",
      "./cumulative_drawings/cdm_run_v31527717845451_age4/2_this circle/cdm_run_v31527717845451_2_this circle_2.png\n",
      "./cumulative_drawings/cdm_run_v31527717845451_age4/2_this circle/cdm_run_v31527717845451_2_this circle_3.png\n",
      "./cumulative_drawings/cdm_run_v31527717845451_age4/2_this circle/cdm_run_v31527717845451_2_this circle_4.png\n",
      "./cumulative_drawings/cdm_run_v31527717845451_age4/2_this circle/cdm_run_v31527717845451_2_this circle_5.png\n",
      "./cumulative_drawings/cdm_run_v31527717845451_age4/2_this circle/cdm_run_v31527717845451_2_this circle_6.png\n",
      "./cumulative_drawings/cdm_run_v31527717845451_age4/2_this circle/cdm_run_v31527717845451_2_this circle_7.png\n",
      "Oops, something went wrong! Here is the error:\n",
      "'codes' must be a 1D list or array with the same length of 'vertices'\n",
      "Great! Number of drawings made by this person: 3\n",
      "./cumulative_drawings/cdm_run_v31527718445448_adult/0_square/cdm_run_v31527718445448_0_square_0.png\n",
      "./cumulative_drawings/cdm_run_v31527718445448_adult/0_square/cdm_run_v31527718445448_0_square_1.png\n",
      "./cumulative_drawings/cdm_run_v31527718445448_adult/1_shape/cdm_run_v31527718445448_1_shape_0.png\n",
      "./cumulative_drawings/cdm_run_v31527718445448_adult/2_this circle/cdm_run_v31527718445448_2_this circle_0.png\n",
      "./cumulative_drawings/cdm_run_v31527718445448_adult/2_this circle/cdm_run_v31527718445448_2_this circle_1.png\n",
      "Great! Number of drawings made by this person: 11\n",
      "./cumulative_drawings/cdm_run_v31527719230278_age4/0_square/cdm_run_v31527719230278_0_square_0.png\n",
      "./cumulative_drawings/cdm_run_v31527719230278_age4/0_square/cdm_run_v31527719230278_0_square_1.png\n",
      "./cumulative_drawings/cdm_run_v31527719230278_age4/1_shape/cdm_run_v31527719230278_1_shape_0.png\n",
      "./cumulative_drawings/cdm_run_v31527719230278_age4/1_shape/cdm_run_v31527719230278_1_shape_1.png\n",
      "./cumulative_drawings/cdm_run_v31527719230278_age4/1_shape/cdm_run_v31527719230278_1_shape_2.png\n",
      "Oops, something went wrong! Here is the error:\n",
      "'codes' must be a 1D list or array with the same length of 'vertices'\n",
      "Great! Number of drawings made by this person: 6\n",
      "./cumulative_drawings/cdm_run_v31527720557857_age2/0_square/cdm_run_v31527720557857_0_square_0.png\n",
      "./cumulative_drawings/cdm_run_v31527720557857_age2/0_square/cdm_run_v31527720557857_0_square_1.png\n",
      "./cumulative_drawings/cdm_run_v31527720557857_age2/1_shape/cdm_run_v31527720557857_1_shape_0.png\n",
      "./cumulative_drawings/cdm_run_v31527720557857_age2/2_this circle/cdm_run_v31527720557857_2_this circle_0.png\n",
      "Oops, something went wrong! Here is the error:\n",
      "'codes' must be a 1D list or array with the same length of 'vertices'\n",
      "Great! Number of drawings made by this person: 4\n",
      "Oops, something went wrong! Here is the error:\n",
      "\n",
      "Great! Number of drawings made by this person: 10\n",
      "./cumulative_drawings/cdm_run_v31527722645427_adult/0_square/cdm_run_v31527722645427_0_square_0.png\n",
      "./cumulative_drawings/cdm_run_v31527722645427_adult/0_square/cdm_run_v31527722645427_0_square_1.png\n",
      "./cumulative_drawings/cdm_run_v31527722645427_adult/1_shape/cdm_run_v31527722645427_1_shape_0.png\n",
      "./cumulative_drawings/cdm_run_v31527722645427_adult/2_this circle/cdm_run_v31527722645427_2_this circle_0.png\n",
      "Great! Number of drawings made by this person: 4\n",
      "./cumulative_drawings/cdm_run_v31527723845411_age4/0_square/cdm_run_v31527723845411_0_square_0.png\n",
      "./cumulative_drawings/cdm_run_v31527723845411_age4/1_shape/cdm_run_v31527723845411_1_shape_0.png\n",
      "./cumulative_drawings/cdm_run_v31527723845411_age4/1_shape/cdm_run_v31527723845411_1_shape_1.png\n",
      "./cumulative_drawings/cdm_run_v31527723845411_age4/1_shape/cdm_run_v31527723845411_1_shape_2.png\n",
      "./cumulative_drawings/cdm_run_v31527723845411_age4/1_shape/cdm_run_v31527723845411_1_shape_3.png\n",
      "Oops, something went wrong! Here is the error:\n",
      "'codes' must be a 1D list or array with the same length of 'vertices'\n",
      "Great! Number of drawings made by this person: 6\n",
      "./cumulative_drawings/cdm_run_v31527724445503_adult/0_square/cdm_run_v31527724445503_0_square_0.png\n",
      "./cumulative_drawings/cdm_run_v31527724445503_adult/0_square/cdm_run_v31527724445503_0_square_1.png\n",
      "./cumulative_drawings/cdm_run_v31527724445503_adult/0_square/cdm_run_v31527724445503_0_square_2.png\n",
      "./cumulative_drawings/cdm_run_v31527724445503_adult/1_shape/cdm_run_v31527724445503_1_shape_0.png\n",
      "./cumulative_drawings/cdm_run_v31527724445503_adult/1_shape/cdm_run_v31527724445503_1_shape_1.png\n",
      "./cumulative_drawings/cdm_run_v31527724445503_adult/1_shape/cdm_run_v31527724445503_1_shape_2.png\n",
      "./cumulative_drawings/cdm_run_v31527724445503_adult/1_shape/cdm_run_v31527724445503_1_shape_3.png\n",
      "./cumulative_drawings/cdm_run_v31527724445503_adult/1_shape/cdm_run_v31527724445503_1_shape_4.png\n",
      "Oops, something went wrong! Here is the error:\n",
      "'codes' must be a 1D list or array with the same length of 'vertices'\n",
      "Great! Number of drawings made by this person: 3\n",
      "./cumulative_drawings/cdm_run_v31527787116021_age6/0_square/cdm_run_v31527787116021_0_square_0.png\n",
      "./cumulative_drawings/cdm_run_v31527787116021_age6/0_square/cdm_run_v31527787116021_0_square_1.png\n",
      "./cumulative_drawings/cdm_run_v31527787116021_age6/0_square/cdm_run_v31527787116021_0_square_2.png\n",
      "./cumulative_drawings/cdm_run_v31527787116021_age6/1_shape/cdm_run_v31527787116021_1_shape_0.png\n",
      "./cumulative_drawings/cdm_run_v31527787116021_age6/2_this circle/cdm_run_v31527787116021_2_this circle_0.png\n",
      "Great! Number of drawings made by this person: 7\n",
      "./cumulative_drawings/cdm_run_v31527787275455_age6/0_square/cdm_run_v31527787275455_0_square_0.png\n",
      "./cumulative_drawings/cdm_run_v31527787275455_age6/0_square/cdm_run_v31527787275455_0_square_1.png\n",
      "./cumulative_drawings/cdm_run_v31527787275455_age6/0_square/cdm_run_v31527787275455_0_square_2.png\n",
      "Oops, something went wrong! Here is the error:\n",
      "'codes' must be a 1D list or array with the same length of 'vertices'\n",
      "Great! Number of drawings made by this person: 3\n",
      "./cumulative_drawings/cdm_run_v31527788044704_age7/0_square/cdm_run_v31527788044704_0_square_0.png\n",
      "./cumulative_drawings/cdm_run_v31527788044704_age7/1_shape/cdm_run_v31527788044704_1_shape_0.png\n",
      "./cumulative_drawings/cdm_run_v31527788044704_age7/1_shape/cdm_run_v31527788044704_1_shape_1.png\n",
      "./cumulative_drawings/cdm_run_v31527788044704_age7/1_shape/cdm_run_v31527788044704_1_shape_2.png\n",
      "./cumulative_drawings/cdm_run_v31527788044704_age7/1_shape/cdm_run_v31527788044704_1_shape_3.png\n",
      "./cumulative_drawings/cdm_run_v31527788044704_age7/1_shape/cdm_run_v31527788044704_1_shape_4.png\n",
      "./cumulative_drawings/cdm_run_v31527788044704_age7/1_shape/cdm_run_v31527788044704_1_shape_5.png\n",
      "./cumulative_drawings/cdm_run_v31527788044704_age7/1_shape/cdm_run_v31527788044704_1_shape_6.png\n",
      "./cumulative_drawings/cdm_run_v31527788044704_age7/1_shape/cdm_run_v31527788044704_1_shape_7.png\n",
      "./cumulative_drawings/cdm_run_v31527788044704_age7/1_shape/cdm_run_v31527788044704_1_shape_8.png\n",
      "./cumulative_drawings/cdm_run_v31527788044704_age7/1_shape/cdm_run_v31527788044704_1_shape_9.png\n",
      "./cumulative_drawings/cdm_run_v31527788044704_age7/1_shape/cdm_run_v31527788044704_1_shape_10.png\n",
      "./cumulative_drawings/cdm_run_v31527788044704_age7/1_shape/cdm_run_v31527788044704_1_shape_11.png\n",
      "./cumulative_drawings/cdm_run_v31527788044704_age7/1_shape/cdm_run_v31527788044704_1_shape_12.png\n",
      "./cumulative_drawings/cdm_run_v31527788044704_age7/1_shape/cdm_run_v31527788044704_1_shape_13.png\n",
      "./cumulative_drawings/cdm_run_v31527788044704_age7/1_shape/cdm_run_v31527788044704_1_shape_14.png\n",
      "./cumulative_drawings/cdm_run_v31527788044704_age7/1_shape/cdm_run_v31527788044704_1_shape_15.png\n",
      "./cumulative_drawings/cdm_run_v31527788044704_age7/1_shape/cdm_run_v31527788044704_1_shape_16.png\n",
      "./cumulative_drawings/cdm_run_v31527788044704_age7/1_shape/cdm_run_v31527788044704_1_shape_17.png\n"
     ]
    },
    {
     "name": "stdout",
     "output_type": "stream",
     "text": [
      "./cumulative_drawings/cdm_run_v31527788044704_age7/1_shape/cdm_run_v31527788044704_1_shape_18.png\n",
      "./cumulative_drawings/cdm_run_v31527788044704_age7/1_shape/cdm_run_v31527788044704_1_shape_19.png\n",
      "./cumulative_drawings/cdm_run_v31527788044704_age7/2_this circle/cdm_run_v31527788044704_2_this circle_0.png\n",
      "Great! Number of drawings made by this person: 3\n",
      "./cumulative_drawings/cdm_run_v31527788644727_age5/0_square/cdm_run_v31527788644727_0_square_0.png\n",
      "./cumulative_drawings/cdm_run_v31527788644727_age5/0_square/cdm_run_v31527788644727_0_square_1.png\n",
      "./cumulative_drawings/cdm_run_v31527788644727_age5/0_square/cdm_run_v31527788644727_0_square_2.png\n",
      "./cumulative_drawings/cdm_run_v31527788644727_age5/1_shape/cdm_run_v31527788644727_1_shape_0.png\n",
      "./cumulative_drawings/cdm_run_v31527788644727_age5/2_this circle/cdm_run_v31527788644727_2_this circle_0.png\n",
      "Great! Number of drawings made by this person: 9\n",
      "./cumulative_drawings/cdm_run_v31527789844695_age7/0_square/cdm_run_v31527789844695_0_square_0.png\n",
      "./cumulative_drawings/cdm_run_v31527789844695_age7/1_shape/cdm_run_v31527789844695_1_shape_0.png\n",
      "./cumulative_drawings/cdm_run_v31527789844695_age7/1_shape/cdm_run_v31527789844695_1_shape_1.png\n",
      "./cumulative_drawings/cdm_run_v31527789844695_age7/1_shape/cdm_run_v31527789844695_1_shape_2.png\n",
      "./cumulative_drawings/cdm_run_v31527789844695_age7/1_shape/cdm_run_v31527789844695_1_shape_3.png\n",
      "./cumulative_drawings/cdm_run_v31527789844695_age7/1_shape/cdm_run_v31527789844695_1_shape_4.png\n",
      "./cumulative_drawings/cdm_run_v31527789844695_age7/2_this circle/cdm_run_v31527789844695_2_this circle_0.png\n",
      "Great! Number of drawings made by this person: 6\n",
      "./cumulative_drawings/cdm_run_v31527790625173_age3/0_square/cdm_run_v31527790625173_0_square_0.png\n",
      "./cumulative_drawings/cdm_run_v31527790625173_age3/0_square/cdm_run_v31527790625173_0_square_1.png\n",
      "./cumulative_drawings/cdm_run_v31527790625173_age3/0_square/cdm_run_v31527790625173_0_square_2.png\n",
      "./cumulative_drawings/cdm_run_v31527790625173_age3/0_square/cdm_run_v31527790625173_0_square_3.png\n",
      "Oops, something went wrong! Here is the error:\n",
      "'codes' must be a 1D list or array with the same length of 'vertices'\n",
      "Great! Number of drawings made by this person: 12\n",
      "./cumulative_drawings/cdm_run_v31527792244684_age3/0_square/cdm_run_v31527792244684_0_square_0.png\n",
      "./cumulative_drawings/cdm_run_v31527792244684_age3/1_shape/cdm_run_v31527792244684_1_shape_0.png\n",
      "./cumulative_drawings/cdm_run_v31527792244684_age3/1_shape/cdm_run_v31527792244684_1_shape_1.png\n",
      "./cumulative_drawings/cdm_run_v31527792244684_age3/1_shape/cdm_run_v31527792244684_1_shape_2.png\n",
      "./cumulative_drawings/cdm_run_v31527792244684_age3/1_shape/cdm_run_v31527792244684_1_shape_3.png\n",
      "./cumulative_drawings/cdm_run_v31527792244684_age3/1_shape/cdm_run_v31527792244684_1_shape_4.png\n",
      "./cumulative_drawings/cdm_run_v31527792244684_age3/2_this circle/cdm_run_v31527792244684_2_this circle_0.png\n",
      "./cumulative_drawings/cdm_run_v31527792244684_age3/2_this circle/cdm_run_v31527792244684_2_this circle_1.png\n",
      "./cumulative_drawings/cdm_run_v31527792244684_age3/2_this circle/cdm_run_v31527792244684_2_this circle_2.png\n",
      "./cumulative_drawings/cdm_run_v31527792244684_age3/2_this circle/cdm_run_v31527792244684_2_this circle_3.png\n",
      "Great! Number of drawings made by this person: 12\n",
      "./cumulative_drawings/cdm_run_v31527792513328_age3/0_square/cdm_run_v31527792513328_0_square_0.png\n",
      "./cumulative_drawings/cdm_run_v31527792513328_age3/1_shape/cdm_run_v31527792513328_1_shape_0.png\n",
      "./cumulative_drawings/cdm_run_v31527792513328_age3/1_shape/cdm_run_v31527792513328_1_shape_1.png\n",
      "./cumulative_drawings/cdm_run_v31527792513328_age3/1_shape/cdm_run_v31527792513328_1_shape_2.png\n",
      "./cumulative_drawings/cdm_run_v31527792513328_age3/1_shape/cdm_run_v31527792513328_1_shape_3.png\n",
      "./cumulative_drawings/cdm_run_v31527792513328_age3/2_this circle/cdm_run_v31527792513328_2_this circle_0.png\n",
      "./cumulative_drawings/cdm_run_v31527792513328_age3/2_this circle/cdm_run_v31527792513328_2_this circle_1.png\n",
      "Oops, something went wrong! Here is the error:\n",
      "'codes' must be a 1D list or array with the same length of 'vertices'\n",
      "Great! Number of drawings made by this person: 11\n",
      "./cumulative_drawings/cdm_run_v31527793036538_age7/0_square/cdm_run_v31527793036538_0_square_0.png\n",
      "./cumulative_drawings/cdm_run_v31527793036538_age7/1_shape/cdm_run_v31527793036538_1_shape_0.png\n",
      "./cumulative_drawings/cdm_run_v31527793036538_age7/1_shape/cdm_run_v31527793036538_1_shape_1.png\n",
      "./cumulative_drawings/cdm_run_v31527793036538_age7/2_this circle/cdm_run_v31527793036538_2_this circle_0.png\n",
      "Great! Number of drawings made by this person: 5\n",
      "./cumulative_drawings/cdm_run_v31527794044672_age5/0_square/cdm_run_v31527794044672_0_square_0.png\n",
      "./cumulative_drawings/cdm_run_v31527794044672_age5/1_shape/cdm_run_v31527794044672_1_shape_0.png\n",
      "./cumulative_drawings/cdm_run_v31527794044672_age5/2_this circle/cdm_run_v31527794044672_2_this circle_0.png\n",
      "Great! Number of drawings made by this person: 11\n",
      "./cumulative_drawings/cdm_run_v31527794486129_adult/0_square/cdm_run_v31527794486129_0_square_0.png\n",
      "./cumulative_drawings/cdm_run_v31527794486129_adult/1_shape/cdm_run_v31527794486129_1_shape_0.png\n",
      "./cumulative_drawings/cdm_run_v31527794486129_adult/2_this circle/cdm_run_v31527794486129_2_this circle_0.png\n",
      "Great! Number of drawings made by this person: 12\n",
      "./cumulative_drawings/cdm_run_v31527794644630_age3/0_square/cdm_run_v31527794644630_0_square_0.png\n",
      "./cumulative_drawings/cdm_run_v31527794644630_age3/0_square/cdm_run_v31527794644630_0_square_1.png\n",
      "./cumulative_drawings/cdm_run_v31527794644630_age3/0_square/cdm_run_v31527794644630_0_square_2.png\n",
      "./cumulative_drawings/cdm_run_v31527794644630_age3/0_square/cdm_run_v31527794644630_0_square_3.png\n",
      "./cumulative_drawings/cdm_run_v31527794644630_age3/1_shape/cdm_run_v31527794644630_1_shape_0.png\n",
      "./cumulative_drawings/cdm_run_v31527794644630_age3/1_shape/cdm_run_v31527794644630_1_shape_1.png\n",
      "./cumulative_drawings/cdm_run_v31527794644630_age3/1_shape/cdm_run_v31527794644630_1_shape_2.png\n",
      "./cumulative_drawings/cdm_run_v31527794644630_age3/2_this circle/cdm_run_v31527794644630_2_this circle_0.png\n",
      "Great! Number of drawings made by this person: 9\n",
      "./cumulative_drawings/cdm_run_v31527795903170_age6/0_square/cdm_run_v31527795903170_0_square_0.png\n",
      "./cumulative_drawings/cdm_run_v31527795903170_age6/0_square/cdm_run_v31527795903170_0_square_1.png\n",
      "./cumulative_drawings/cdm_run_v31527795903170_age6/1_shape/cdm_run_v31527795903170_1_shape_0.png\n",
      "./cumulative_drawings/cdm_run_v31527795903170_age6/1_shape/cdm_run_v31527795903170_1_shape_1.png\n",
      "./cumulative_drawings/cdm_run_v31527795903170_age6/1_shape/cdm_run_v31527795903170_1_shape_2.png\n",
      "./cumulative_drawings/cdm_run_v31527795903170_age6/1_shape/cdm_run_v31527795903170_1_shape_3.png\n",
      "./cumulative_drawings/cdm_run_v31527795903170_age6/2_this circle/cdm_run_v31527795903170_2_this circle_0.png\n",
      "Great! Number of drawings made by this person: 6\n",
      "./cumulative_drawings/cdm_run_v31527796093103_age4/0_square/cdm_run_v31527796093103_0_square_0.png\n",
      "./cumulative_drawings/cdm_run_v31527796093103_age4/1_shape/cdm_run_v31527796093103_1_shape_0.png\n",
      "./cumulative_drawings/cdm_run_v31527796093103_age4/1_shape/cdm_run_v31527796093103_1_shape_1.png\n",
      "./cumulative_drawings/cdm_run_v31527796093103_age4/1_shape/cdm_run_v31527796093103_1_shape_2.png\n",
      "./cumulative_drawings/cdm_run_v31527796093103_age4/1_shape/cdm_run_v31527796093103_1_shape_3.png\n",
      "./cumulative_drawings/cdm_run_v31527796093103_age4/1_shape/cdm_run_v31527796093103_1_shape_4.png\n",
      "./cumulative_drawings/cdm_run_v31527796093103_age4/1_shape/cdm_run_v31527796093103_1_shape_5.png\n",
      "./cumulative_drawings/cdm_run_v31527796093103_age4/1_shape/cdm_run_v31527796093103_1_shape_6.png\n",
      "./cumulative_drawings/cdm_run_v31527796093103_age4/1_shape/cdm_run_v31527796093103_1_shape_7.png\n",
      "./cumulative_drawings/cdm_run_v31527796093103_age4/1_shape/cdm_run_v31527796093103_1_shape_8.png\n",
      "./cumulative_drawings/cdm_run_v31527796093103_age4/1_shape/cdm_run_v31527796093103_1_shape_9.png\n",
      "./cumulative_drawings/cdm_run_v31527796093103_age4/1_shape/cdm_run_v31527796093103_1_shape_10.png\n",
      "Oops, something went wrong! Here is the error:\n",
      "'codes' must be a 1D list or array with the same length of 'vertices'\n",
      "Great! Number of drawings made by this person: 10\n"
     ]
    },
    {
     "name": "stdout",
     "output_type": "stream",
     "text": [
      "./cumulative_drawings/cdm_run_v31527801844607_age3/0_square/cdm_run_v31527801844607_0_square_0.png\n",
      "./cumulative_drawings/cdm_run_v31527801844607_age3/0_square/cdm_run_v31527801844607_0_square_1.png\n",
      "./cumulative_drawings/cdm_run_v31527801844607_age3/0_square/cdm_run_v31527801844607_0_square_2.png\n",
      "./cumulative_drawings/cdm_run_v31527801844607_age3/0_square/cdm_run_v31527801844607_0_square_3.png\n",
      "./cumulative_drawings/cdm_run_v31527801844607_age3/0_square/cdm_run_v31527801844607_0_square_4.png\n",
      "Oops, something went wrong! Here is the error:\n",
      "'codes' must be a 1D list or array with the same length of 'vertices'\n",
      "Great! Number of drawings made by this person: 5\n",
      "./cumulative_drawings/cdm_run_v31527802444465_age5/0_square/cdm_run_v31527802444465_0_square_0.png\n",
      "./cumulative_drawings/cdm_run_v31527802444465_age5/1_shape/cdm_run_v31527802444465_1_shape_0.png\n",
      "./cumulative_drawings/cdm_run_v31527802444465_age5/1_shape/cdm_run_v31527802444465_1_shape_1.png\n",
      "./cumulative_drawings/cdm_run_v31527802444465_age5/2_this circle/cdm_run_v31527802444465_2_this circle_0.png\n",
      "./cumulative_drawings/cdm_run_v31527802444465_age5/2_this circle/cdm_run_v31527802444465_2_this circle_1.png\n",
      "./cumulative_drawings/cdm_run_v31527802444465_age5/2_this circle/cdm_run_v31527802444465_2_this circle_2.png\n",
      "./cumulative_drawings/cdm_run_v31527802444465_age5/2_this circle/cdm_run_v31527802444465_2_this circle_3.png\n",
      "./cumulative_drawings/cdm_run_v31527802444465_age5/2_this circle/cdm_run_v31527802444465_2_this circle_4.png\n",
      "./cumulative_drawings/cdm_run_v31527802444465_age5/2_this circle/cdm_run_v31527802444465_2_this circle_5.png\n",
      "./cumulative_drawings/cdm_run_v31527802444465_age5/2_this circle/cdm_run_v31527802444465_2_this circle_6.png\n",
      "./cumulative_drawings/cdm_run_v31527802444465_age5/2_this circle/cdm_run_v31527802444465_2_this circle_7.png\n",
      "./cumulative_drawings/cdm_run_v31527802444465_age5/2_this circle/cdm_run_v31527802444465_2_this circle_8.png\n",
      "Great! Number of drawings made by this person: 8\n",
      "./cumulative_drawings/cdm_run_v31527808321316_adult/0_square/cdm_run_v31527808321316_0_square_0.png\n",
      "./cumulative_drawings/cdm_run_v31527808321316_adult/0_square/cdm_run_v31527808321316_0_square_1.png\n",
      "./cumulative_drawings/cdm_run_v31527808321316_adult/1_shape/cdm_run_v31527808321316_1_shape_0.png\n",
      "./cumulative_drawings/cdm_run_v31527808321316_adult/2_this circle/cdm_run_v31527808321316_2_this circle_0.png\n",
      "Great! Number of drawings made by this person: 5\n",
      "Oops, something went wrong! Here is the error:\n",
      "\n",
      "Great! Number of drawings made by this person: 3\n",
      "./cumulative_drawings/cdm_run_v31527875999477_age3/0_square/cdm_run_v31527875999477_0_square_0.png\n",
      "./cumulative_drawings/cdm_run_v31527875999477_age3/0_square/cdm_run_v31527875999477_0_square_1.png\n",
      "Oops, something went wrong! Here is the error:\n",
      "'codes' must be a 1D list or array with the same length of 'vertices'\n",
      "Great! Number of drawings made by this person: 6\n",
      "./cumulative_drawings/cdm_run_v31527876268182_age8/0_square/cdm_run_v31527876268182_0_square_0.png\n",
      "./cumulative_drawings/cdm_run_v31527876268182_age8/0_square/cdm_run_v31527876268182_0_square_1.png\n",
      "./cumulative_drawings/cdm_run_v31527876268182_age8/0_square/cdm_run_v31527876268182_0_square_2.png\n",
      "./cumulative_drawings/cdm_run_v31527876268182_age8/0_square/cdm_run_v31527876268182_0_square_3.png\n",
      "./cumulative_drawings/cdm_run_v31527876268182_age8/0_square/cdm_run_v31527876268182_0_square_4.png\n",
      "./cumulative_drawings/cdm_run_v31527876268182_age8/0_square/cdm_run_v31527876268182_0_square_5.png\n",
      "Oops, something went wrong! Here is the error:\n",
      "'codes' must be a 1D list or array with the same length of 'vertices'\n",
      "Great! Number of drawings made by this person: 12\n",
      "./cumulative_drawings/cdm_run_v31527876599479_age9/0_square/cdm_run_v31527876599479_0_square_0.png\n",
      "./cumulative_drawings/cdm_run_v31527876599479_age9/1_shape/cdm_run_v31527876599479_1_shape_0.png\n",
      "./cumulative_drawings/cdm_run_v31527876599479_age9/1_shape/cdm_run_v31527876599479_1_shape_1.png\n",
      "./cumulative_drawings/cdm_run_v31527876599479_age9/2_this circle/cdm_run_v31527876599479_2_this circle_0.png\n",
      "Great! Number of drawings made by this person: 4\n",
      "./cumulative_drawings/cdm_run_v31527878540932_adult/0_square/cdm_run_v31527878540932_0_square_0.png\n",
      "Oops, something went wrong! Here is the error:\n",
      "\n",
      "Great! Number of drawings made by this person: 4\n",
      "./cumulative_drawings/cdm_run_v31527878846800_age7/0_square/cdm_run_v31527878846800_0_square_0.png\n",
      "./cumulative_drawings/cdm_run_v31527878846800_age7/0_square/cdm_run_v31527878846800_0_square_1.png\n",
      "./cumulative_drawings/cdm_run_v31527878846800_age7/0_square/cdm_run_v31527878846800_0_square_2.png\n",
      "./cumulative_drawings/cdm_run_v31527878846800_age7/0_square/cdm_run_v31527878846800_0_square_3.png\n",
      "./cumulative_drawings/cdm_run_v31527878846800_age7/0_square/cdm_run_v31527878846800_0_square_4.png\n",
      "./cumulative_drawings/cdm_run_v31527878846800_age7/0_square/cdm_run_v31527878846800_0_square_5.png\n",
      "Oops, something went wrong! Here is the error:\n",
      "'codes' must be a 1D list or array with the same length of 'vertices'\n",
      "Great! Number of drawings made by this person: 6\n",
      "./cumulative_drawings/cdm_run_v31527879648488_age3/0_square/cdm_run_v31527879648488_0_square_0.png\n",
      "./cumulative_drawings/cdm_run_v31527879648488_age3/0_square/cdm_run_v31527879648488_0_square_1.png\n",
      "./cumulative_drawings/cdm_run_v31527879648488_age3/1_shape/cdm_run_v31527879648488_1_shape_0.png\n",
      "./cumulative_drawings/cdm_run_v31527879648488_age3/1_shape/cdm_run_v31527879648488_1_shape_1.png\n",
      "./cumulative_drawings/cdm_run_v31527879648488_age3/1_shape/cdm_run_v31527879648488_1_shape_2.png\n",
      "./cumulative_drawings/cdm_run_v31527879648488_age3/1_shape/cdm_run_v31527879648488_1_shape_3.png\n",
      "./cumulative_drawings/cdm_run_v31527879648488_age3/1_shape/cdm_run_v31527879648488_1_shape_4.png\n",
      "./cumulative_drawings/cdm_run_v31527879648488_age3/1_shape/cdm_run_v31527879648488_1_shape_5.png\n",
      "./cumulative_drawings/cdm_run_v31527879648488_age3/1_shape/cdm_run_v31527879648488_1_shape_6.png\n",
      "./cumulative_drawings/cdm_run_v31527879648488_age3/1_shape/cdm_run_v31527879648488_1_shape_7.png\n",
      "./cumulative_drawings/cdm_run_v31527879648488_age3/2_this circle/cdm_run_v31527879648488_2_this circle_0.png\n",
      "./cumulative_drawings/cdm_run_v31527879648488_age3/2_this circle/cdm_run_v31527879648488_2_this circle_1.png\n",
      "./cumulative_drawings/cdm_run_v31527879648488_age3/2_this circle/cdm_run_v31527879648488_2_this circle_2.png\n",
      "./cumulative_drawings/cdm_run_v31527879648488_age3/2_this circle/cdm_run_v31527879648488_2_this circle_3.png\n",
      "./cumulative_drawings/cdm_run_v31527879648488_age3/2_this circle/cdm_run_v31527879648488_2_this circle_4.png\n",
      "./cumulative_drawings/cdm_run_v31527879648488_age3/2_this circle/cdm_run_v31527879648488_2_this circle_5.png\n",
      "./cumulative_drawings/cdm_run_v31527879648488_age3/2_this circle/cdm_run_v31527879648488_2_this circle_6.png\n",
      "./cumulative_drawings/cdm_run_v31527879648488_age3/2_this circle/cdm_run_v31527879648488_2_this circle_7.png\n",
      "Oops, something went wrong! Here is the error:\n",
      "'codes' must be a 1D list or array with the same length of 'vertices'\n",
      "Great! Number of drawings made by this person: 12\n",
      "./cumulative_drawings/cdm_run_v31527879780715_age3/0_square/cdm_run_v31527879780715_0_square_0.png\n",
      "./cumulative_drawings/cdm_run_v31527879780715_age3/1_shape/cdm_run_v31527879780715_1_shape_0.png\n",
      "./cumulative_drawings/cdm_run_v31527879780715_age3/1_shape/cdm_run_v31527879780715_1_shape_1.png\n",
      "./cumulative_drawings/cdm_run_v31527879780715_age3/1_shape/cdm_run_v31527879780715_1_shape_2.png\n",
      "./cumulative_drawings/cdm_run_v31527879780715_age3/1_shape/cdm_run_v31527879780715_1_shape_3.png\n",
      "Oops, something went wrong! Here is the error:\n",
      "'codes' must be a 1D list or array with the same length of 'vertices'\n",
      "Great! Number of drawings made by this person: 5\n",
      "./cumulative_drawings/cdm_run_v31527882194414_age4/0_square/cdm_run_v31527882194414_0_square_0.png\n",
      "./cumulative_drawings/cdm_run_v31527882194414_age4/0_square/cdm_run_v31527882194414_0_square_1.png\n",
      "./cumulative_drawings/cdm_run_v31527882194414_age4/0_square/cdm_run_v31527882194414_0_square_2.png\n",
      "./cumulative_drawings/cdm_run_v31527882194414_age4/0_square/cdm_run_v31527882194414_0_square_3.png\n",
      "Oops, something went wrong! Here is the error:\n",
      "'codes' must be a 1D list or array with the same length of 'vertices'\n"
     ]
    },
    {
     "name": "stdout",
     "output_type": "stream",
     "text": [
      "Great! Number of drawings made by this person: 4\n",
      "./cumulative_drawings/cdm_run_v31527885599398_age2/0_square/cdm_run_v31527885599398_0_square_0.png\n",
      "./cumulative_drawings/cdm_run_v31527885599398_age2/0_square/cdm_run_v31527885599398_0_square_1.png\n",
      "./cumulative_drawings/cdm_run_v31527885599398_age2/0_square/cdm_run_v31527885599398_0_square_2.png\n",
      "./cumulative_drawings/cdm_run_v31527885599398_age2/0_square/cdm_run_v31527885599398_0_square_3.png\n",
      "./cumulative_drawings/cdm_run_v31527885599398_age2/0_square/cdm_run_v31527885599398_0_square_4.png\n",
      "./cumulative_drawings/cdm_run_v31527885599398_age2/1_shape/cdm_run_v31527885599398_1_shape_0.png\n",
      "./cumulative_drawings/cdm_run_v31527885599398_age2/1_shape/cdm_run_v31527885599398_1_shape_1.png\n",
      "./cumulative_drawings/cdm_run_v31527885599398_age2/1_shape/cdm_run_v31527885599398_1_shape_2.png\n",
      "./cumulative_drawings/cdm_run_v31527885599398_age2/1_shape/cdm_run_v31527885599398_1_shape_3.png\n",
      "./cumulative_drawings/cdm_run_v31527885599398_age2/1_shape/cdm_run_v31527885599398_1_shape_4.png\n",
      "./cumulative_drawings/cdm_run_v31527885599398_age2/1_shape/cdm_run_v31527885599398_1_shape_5.png\n",
      "./cumulative_drawings/cdm_run_v31527885599398_age2/1_shape/cdm_run_v31527885599398_1_shape_6.png\n",
      "./cumulative_drawings/cdm_run_v31527885599398_age2/1_shape/cdm_run_v31527885599398_1_shape_7.png\n",
      "./cumulative_drawings/cdm_run_v31527885599398_age2/1_shape/cdm_run_v31527885599398_1_shape_8.png\n",
      "./cumulative_drawings/cdm_run_v31527885599398_age2/2_this circle/cdm_run_v31527885599398_2_this circle_0.png\n",
      "./cumulative_drawings/cdm_run_v31527885599398_age2/2_this circle/cdm_run_v31527885599398_2_this circle_1.png\n",
      "./cumulative_drawings/cdm_run_v31527885599398_age2/2_this circle/cdm_run_v31527885599398_2_this circle_2.png\n",
      "Great! Number of drawings made by this person: 12\n",
      "./cumulative_drawings/cdm_run_v31527887021132_adult/0_square/cdm_run_v31527887021132_0_square_0.png\n",
      "./cumulative_drawings/cdm_run_v31527887021132_adult/1_shape/cdm_run_v31527887021132_1_shape_0.png\n",
      "./cumulative_drawings/cdm_run_v31527887021132_adult/2_this circle/cdm_run_v31527887021132_2_this circle_0.png\n",
      "Great! Number of drawings made by this person: 5\n",
      "./cumulative_drawings/cdm_run_v31527887261747_age4/0_square/cdm_run_v31527887261747_0_square_0.png\n",
      "./cumulative_drawings/cdm_run_v31527887261747_age4/0_square/cdm_run_v31527887261747_0_square_1.png\n",
      "./cumulative_drawings/cdm_run_v31527887261747_age4/0_square/cdm_run_v31527887261747_0_square_2.png\n",
      "./cumulative_drawings/cdm_run_v31527887261747_age4/0_square/cdm_run_v31527887261747_0_square_3.png\n",
      "./cumulative_drawings/cdm_run_v31527887261747_age4/0_square/cdm_run_v31527887261747_0_square_4.png\n",
      "./cumulative_drawings/cdm_run_v31527887261747_age4/1_shape/cdm_run_v31527887261747_1_shape_0.png\n",
      "Oops, something went wrong! Here is the error:\n",
      "'codes' must be a 1D list or array with the same length of 'vertices'\n",
      "Great! Number of drawings made by this person: 7\n",
      "./cumulative_drawings/cdm_run_v31527888000058_age5/0_square/cdm_run_v31527888000058_0_square_0.png\n",
      "./cumulative_drawings/cdm_run_v31527888000058_age5/1_shape/cdm_run_v31527888000058_1_shape_0.png\n",
      "./cumulative_drawings/cdm_run_v31527888000058_age5/2_this circle/cdm_run_v31527888000058_2_this circle_0.png\n",
      "Great! Number of drawings made by this person: 12\n",
      "./cumulative_drawings/cdm_run_v31527888599306_age5/0_square/cdm_run_v31527888599306_0_square_0.png\n",
      "./cumulative_drawings/cdm_run_v31527888599306_age5/1_shape/cdm_run_v31527888599306_1_shape_0.png\n",
      "./cumulative_drawings/cdm_run_v31527888599306_age5/2_this circle/cdm_run_v31527888599306_2_this circle_0.png\n",
      "./cumulative_drawings/cdm_run_v31527888599306_age5/2_this circle/cdm_run_v31527888599306_2_this circle_1.png\n",
      "./cumulative_drawings/cdm_run_v31527888599306_age5/2_this circle/cdm_run_v31527888599306_2_this circle_2.png\n",
      "Great! Number of drawings made by this person: 12\n",
      "./cumulative_drawings/cdm_run_v31527888854913_age5/0_square/cdm_run_v31527888854913_0_square_0.png\n",
      "./cumulative_drawings/cdm_run_v31527888854913_age5/1_shape/cdm_run_v31527888854913_1_shape_0.png\n",
      "./cumulative_drawings/cdm_run_v31527888854913_age5/2_this circle/cdm_run_v31527888854913_2_this circle_0.png\n",
      "Great! Number of drawings made by this person: 10\n",
      "Oops, something went wrong! Here is the error:\n",
      "\n",
      "Great! Number of drawings made by this person: 4\n",
      "./cumulative_drawings/cdm_run_v31527891953380_adult/0_square/cdm_run_v31527891953380_0_square_0.png\n",
      "./cumulative_drawings/cdm_run_v31527891953380_adult/1_shape/cdm_run_v31527891953380_1_shape_0.png\n",
      "./cumulative_drawings/cdm_run_v31527891953380_adult/1_shape/cdm_run_v31527891953380_1_shape_1.png\n",
      "./cumulative_drawings/cdm_run_v31527891953380_adult/2_this circle/cdm_run_v31527891953380_2_this circle_0.png\n",
      "Great! Number of drawings made by this person: 10\n",
      "./cumulative_drawings/cdm_run_v31527892199324_age6/0_square/cdm_run_v31527892199324_0_square_0.png\n",
      "./cumulative_drawings/cdm_run_v31527892199324_age6/1_shape/cdm_run_v31527892199324_1_shape_0.png\n",
      "./cumulative_drawings/cdm_run_v31527892199324_age6/1_shape/cdm_run_v31527892199324_1_shape_1.png\n",
      "./cumulative_drawings/cdm_run_v31527892199324_age6/1_shape/cdm_run_v31527892199324_1_shape_2.png\n",
      "./cumulative_drawings/cdm_run_v31527892199324_age6/1_shape/cdm_run_v31527892199324_1_shape_3.png\n",
      "./cumulative_drawings/cdm_run_v31527892199324_age6/2_this circle/cdm_run_v31527892199324_2_this circle_0.png\n",
      "./cumulative_drawings/cdm_run_v31527892199324_age6/2_this circle/cdm_run_v31527892199324_2_this circle_1.png\n",
      "./cumulative_drawings/cdm_run_v31527892199324_age6/2_this circle/cdm_run_v31527892199324_2_this circle_2.png\n",
      "./cumulative_drawings/cdm_run_v31527892199324_age6/2_this circle/cdm_run_v31527892199324_2_this circle_3.png\n",
      "./cumulative_drawings/cdm_run_v31527892199324_age6/2_this circle/cdm_run_v31527892199324_2_this circle_4.png\n",
      "./cumulative_drawings/cdm_run_v31527892199324_age6/2_this circle/cdm_run_v31527892199324_2_this circle_5.png\n",
      "./cumulative_drawings/cdm_run_v31527892199324_age6/2_this circle/cdm_run_v31527892199324_2_this circle_6.png\n",
      "./cumulative_drawings/cdm_run_v31527892199324_age6/2_this circle/cdm_run_v31527892199324_2_this circle_7.png\n",
      "./cumulative_drawings/cdm_run_v31527892199324_age6/2_this circle/cdm_run_v31527892199324_2_this circle_8.png\n",
      "Great! Number of drawings made by this person: 9\n",
      "./cumulative_drawings/cdm_run_v31527892920729_adult/0_square/cdm_run_v31527892920729_0_square_0.png\n",
      "./cumulative_drawings/cdm_run_v31527892920729_adult/1_shape/cdm_run_v31527892920729_1_shape_0.png\n",
      "./cumulative_drawings/cdm_run_v31527892920729_adult/2_this circle/cdm_run_v31527892920729_2_this circle_0.png\n",
      "Great! Number of drawings made by this person: 9\n",
      "./cumulative_drawings/cdm_run_v31527894813892_age4/0_square/cdm_run_v31527894813892_0_square_0.png\n",
      "./cumulative_drawings/cdm_run_v31527894813892_age4/1_shape/cdm_run_v31527894813892_1_shape_0.png\n",
      "./cumulative_drawings/cdm_run_v31527894813892_age4/2_this circle/cdm_run_v31527894813892_2_this circle_0.png\n",
      "./cumulative_drawings/cdm_run_v31527894813892_age4/2_this circle/cdm_run_v31527894813892_2_this circle_1.png\n",
      "Great! Number of drawings made by this person: 5\n",
      "./cumulative_drawings/cdm_run_v31527895362525_age2/0_square/cdm_run_v31527895362525_0_square_0.png\n",
      "./cumulative_drawings/cdm_run_v31527895362525_age2/0_square/cdm_run_v31527895362525_0_square_1.png\n",
      "./cumulative_drawings/cdm_run_v31527895362525_age2/0_square/cdm_run_v31527895362525_0_square_2.png\n",
      "./cumulative_drawings/cdm_run_v31527895362525_age2/0_square/cdm_run_v31527895362525_0_square_3.png\n",
      "./cumulative_drawings/cdm_run_v31527895362525_age2/0_square/cdm_run_v31527895362525_0_square_4.png\n",
      "./cumulative_drawings/cdm_run_v31527895362525_age2/0_square/cdm_run_v31527895362525_0_square_5.png\n",
      "./cumulative_drawings/cdm_run_v31527895362525_age2/0_square/cdm_run_v31527895362525_0_square_6.png\n",
      "./cumulative_drawings/cdm_run_v31527895362525_age2/0_square/cdm_run_v31527895362525_0_square_7.png\n",
      "./cumulative_drawings/cdm_run_v31527895362525_age2/0_square/cdm_run_v31527895362525_0_square_8.png\n",
      "./cumulative_drawings/cdm_run_v31527895362525_age2/0_square/cdm_run_v31527895362525_0_square_9.png\n",
      "Oops, something went wrong! Here is the error:\n",
      "'codes' must be a 1D list or array with the same length of 'vertices'\n",
      "Great! Number of drawings made by this person: 12\n"
     ]
    },
    {
     "name": "stdout",
     "output_type": "stream",
     "text": [
      "./cumulative_drawings/cdm_run_v31527895799232_age4/0_square/cdm_run_v31527895799232_0_square_0.png\n",
      "./cumulative_drawings/cdm_run_v31527895799232_age4/0_square/cdm_run_v31527895799232_0_square_1.png\n",
      "./cumulative_drawings/cdm_run_v31527895799232_age4/1_shape/cdm_run_v31527895799232_1_shape_0.png\n",
      "./cumulative_drawings/cdm_run_v31527895799232_age4/1_shape/cdm_run_v31527895799232_1_shape_1.png\n",
      "./cumulative_drawings/cdm_run_v31527895799232_age4/1_shape/cdm_run_v31527895799232_1_shape_2.png\n",
      "./cumulative_drawings/cdm_run_v31527895799232_age4/1_shape/cdm_run_v31527895799232_1_shape_3.png\n",
      "./cumulative_drawings/cdm_run_v31527895799232_age4/2_this circle/cdm_run_v31527895799232_2_this circle_0.png\n",
      "Great! Number of drawings made by this person: 5\n",
      "Oops, something went wrong! Here is the error:\n",
      "\n",
      "Great! Number of drawings made by this person: 3\n",
      "Oops, something went wrong! Here is the error:\n",
      "\n",
      "Great! Number of drawings made by this person: 12\n",
      "Oops, something went wrong! Here is the error:\n",
      "\n",
      "Great! Number of drawings made by this person: 6\n",
      "./cumulative_drawings/cdm_run_v31527960599358_age8/0_square/cdm_run_v31527960599358_0_square_0.png\n",
      "./cumulative_drawings/cdm_run_v31527960599358_age8/1_shape/cdm_run_v31527960599358_1_shape_0.png\n",
      "./cumulative_drawings/cdm_run_v31527960599358_age8/2_this circle/cdm_run_v31527960599358_2_this circle_0.png\n",
      "Great! Number of drawings made by this person: 10\n",
      "./cumulative_drawings/cdm_run_v31527960931784_age8/0_square/cdm_run_v31527960931784_0_square_0.png\n",
      "./cumulative_drawings/cdm_run_v31527960931784_age8/1_shape/cdm_run_v31527960931784_1_shape_0.png\n",
      "./cumulative_drawings/cdm_run_v31527960931784_age8/2_this circle/cdm_run_v31527960931784_2_this circle_0.png\n",
      "Great! Number of drawings made by this person: 12\n",
      "./cumulative_drawings/cdm_run_v31527962399296_age2/0_square/cdm_run_v31527962399296_0_square_0.png\n",
      "./cumulative_drawings/cdm_run_v31527962399296_age2/1_shape/cdm_run_v31527962399296_1_shape_0.png\n",
      "./cumulative_drawings/cdm_run_v31527962399296_age2/1_shape/cdm_run_v31527962399296_1_shape_1.png\n",
      "./cumulative_drawings/cdm_run_v31527962399296_age2/1_shape/cdm_run_v31527962399296_1_shape_2.png\n",
      "./cumulative_drawings/cdm_run_v31527962399296_age2/1_shape/cdm_run_v31527962399296_1_shape_3.png\n",
      "Oops, something went wrong! Here is the error:\n",
      "'codes' must be a 1D list or array with the same length of 'vertices'\n",
      "Great! Number of drawings made by this person: 6\n",
      "./cumulative_drawings/cdm_run_v31527962824837_age2/0_square/cdm_run_v31527962824837_0_square_0.png\n",
      "./cumulative_drawings/cdm_run_v31527962824837_age2/0_square/cdm_run_v31527962824837_0_square_1.png\n",
      "./cumulative_drawings/cdm_run_v31527962824837_age2/0_square/cdm_run_v31527962824837_0_square_2.png\n",
      "./cumulative_drawings/cdm_run_v31527962824837_age2/0_square/cdm_run_v31527962824837_0_square_3.png\n",
      "./cumulative_drawings/cdm_run_v31527962824837_age2/0_square/cdm_run_v31527962824837_0_square_4.png\n",
      "Oops, something went wrong! Here is the error:\n",
      "'codes' must be a 1D list or array with the same length of 'vertices'\n",
      "Great! Number of drawings made by this person: 12\n",
      "./cumulative_drawings/cdm_run_v31527963107380_age3/0_square/cdm_run_v31527963107380_0_square_0.png\n",
      "./cumulative_drawings/cdm_run_v31527963107380_age3/0_square/cdm_run_v31527963107380_0_square_1.png\n",
      "./cumulative_drawings/cdm_run_v31527963107380_age3/0_square/cdm_run_v31527963107380_0_square_2.png\n",
      "./cumulative_drawings/cdm_run_v31527963107380_age3/0_square/cdm_run_v31527963107380_0_square_3.png\n",
      "./cumulative_drawings/cdm_run_v31527963107380_age3/0_square/cdm_run_v31527963107380_0_square_4.png\n",
      "./cumulative_drawings/cdm_run_v31527963107380_age3/0_square/cdm_run_v31527963107380_0_square_5.png\n",
      "./cumulative_drawings/cdm_run_v31527963107380_age3/0_square/cdm_run_v31527963107380_0_square_6.png\n",
      "./cumulative_drawings/cdm_run_v31527963107380_age3/0_square/cdm_run_v31527963107380_0_square_7.png\n",
      "./cumulative_drawings/cdm_run_v31527963107380_age3/0_square/cdm_run_v31527963107380_0_square_8.png\n",
      "./cumulative_drawings/cdm_run_v31527963107380_age3/0_square/cdm_run_v31527963107380_0_square_9.png\n",
      "./cumulative_drawings/cdm_run_v31527963107380_age3/0_square/cdm_run_v31527963107380_0_square_10.png\n",
      "./cumulative_drawings/cdm_run_v31527963107380_age3/0_square/cdm_run_v31527963107380_0_square_11.png\n",
      "./cumulative_drawings/cdm_run_v31527963107380_age3/1_shape/cdm_run_v31527963107380_1_shape_0.png\n",
      "./cumulative_drawings/cdm_run_v31527963107380_age3/1_shape/cdm_run_v31527963107380_1_shape_1.png\n",
      "./cumulative_drawings/cdm_run_v31527963107380_age3/1_shape/cdm_run_v31527963107380_1_shape_2.png\n",
      "./cumulative_drawings/cdm_run_v31527963107380_age3/1_shape/cdm_run_v31527963107380_1_shape_3.png\n",
      "./cumulative_drawings/cdm_run_v31527963107380_age3/1_shape/cdm_run_v31527963107380_1_shape_4.png\n",
      "Oops, something went wrong! Here is the error:\n",
      "'codes' must be a 1D list or array with the same length of 'vertices'\n",
      "Great! Number of drawings made by this person: 9\n",
      "Oops, something went wrong! Here is the error:\n",
      "\n",
      "Great! Number of drawings made by this person: 8\n",
      "./cumulative_drawings/cdm_run_v31527965399261_age3/0_square/cdm_run_v31527965399261_0_square_0.png\n",
      "./cumulative_drawings/cdm_run_v31527965399261_age3/0_square/cdm_run_v31527965399261_0_square_1.png\n",
      "./cumulative_drawings/cdm_run_v31527965399261_age3/0_square/cdm_run_v31527965399261_0_square_2.png\n",
      "./cumulative_drawings/cdm_run_v31527965399261_age3/0_square/cdm_run_v31527965399261_0_square_3.png\n",
      "./cumulative_drawings/cdm_run_v31527965399261_age3/0_square/cdm_run_v31527965399261_0_square_4.png\n",
      "./cumulative_drawings/cdm_run_v31527965399261_age3/1_shape/cdm_run_v31527965399261_1_shape_0.png\n",
      "./cumulative_drawings/cdm_run_v31527965399261_age3/1_shape/cdm_run_v31527965399261_1_shape_1.png\n",
      "./cumulative_drawings/cdm_run_v31527965399261_age3/1_shape/cdm_run_v31527965399261_1_shape_2.png\n",
      "./cumulative_drawings/cdm_run_v31527965399261_age3/1_shape/cdm_run_v31527965399261_1_shape_3.png\n",
      "./cumulative_drawings/cdm_run_v31527965399261_age3/1_shape/cdm_run_v31527965399261_1_shape_4.png\n",
      "./cumulative_drawings/cdm_run_v31527965399261_age3/1_shape/cdm_run_v31527965399261_1_shape_5.png\n",
      "Oops, something went wrong! Here is the error:\n",
      "'codes' must be a 1D list or array with the same length of 'vertices'\n",
      "Great! Number of drawings made by this person: 6\n",
      "./cumulative_drawings/cdm_run_v31527965999248_age3/0_square/cdm_run_v31527965999248_0_square_0.png\n",
      "./cumulative_drawings/cdm_run_v31527965999248_age3/1_shape/cdm_run_v31527965999248_1_shape_0.png\n",
      "./cumulative_drawings/cdm_run_v31527965999248_age3/1_shape/cdm_run_v31527965999248_1_shape_1.png\n",
      "./cumulative_drawings/cdm_run_v31527965999248_age3/1_shape/cdm_run_v31527965999248_1_shape_2.png\n",
      "./cumulative_drawings/cdm_run_v31527965999248_age3/1_shape/cdm_run_v31527965999248_1_shape_3.png\n",
      "Oops, something went wrong! Here is the error:\n",
      "'codes' must be a 1D list or array with the same length of 'vertices'\n",
      "Great! Number of drawings made by this person: 5\n",
      "./cumulative_drawings/cdm_run_v31527966780680_age4/0_square/cdm_run_v31527966780680_0_square_0.png\n",
      "./cumulative_drawings/cdm_run_v31527966780680_age4/1_shape/cdm_run_v31527966780680_1_shape_0.png\n",
      "./cumulative_drawings/cdm_run_v31527966780680_age4/1_shape/cdm_run_v31527966780680_1_shape_1.png\n",
      "./cumulative_drawings/cdm_run_v31527966780680_age4/1_shape/cdm_run_v31527966780680_1_shape_2.png\n",
      "./cumulative_drawings/cdm_run_v31527966780680_age4/2_this circle/cdm_run_v31527966780680_2_this circle_0.png\n",
      "./cumulative_drawings/cdm_run_v31527966780680_age4/2_this circle/cdm_run_v31527966780680_2_this circle_1.png\n",
      "./cumulative_drawings/cdm_run_v31527966780680_age4/2_this circle/cdm_run_v31527966780680_2_this circle_2.png\n",
      "./cumulative_drawings/cdm_run_v31527966780680_age4/2_this circle/cdm_run_v31527966780680_2_this circle_3.png\n",
      "./cumulative_drawings/cdm_run_v31527966780680_age4/2_this circle/cdm_run_v31527966780680_2_this circle_4.png\n",
      "./cumulative_drawings/cdm_run_v31527966780680_age4/2_this circle/cdm_run_v31527966780680_2_this circle_5.png\n",
      "./cumulative_drawings/cdm_run_v31527966780680_age4/2_this circle/cdm_run_v31527966780680_2_this circle_6.png\n",
      "Great! Number of drawings made by this person: 11\n",
      "./cumulative_drawings/cdm_run_v31527967199255_age3/0_square/cdm_run_v31527967199255_0_square_0.png\n",
      "./cumulative_drawings/cdm_run_v31527967199255_age3/0_square/cdm_run_v31527967199255_0_square_1.png\n"
     ]
    },
    {
     "name": "stdout",
     "output_type": "stream",
     "text": [
      "Oops, something went wrong! Here is the error:\n",
      "\n",
      "Great! Number of drawings made by this person: 4\n",
      "./cumulative_drawings/cdm_run_v31527967589959_adult/0_square/cdm_run_v31527967589959_0_square_0.png\n",
      "./cumulative_drawings/cdm_run_v31527967589959_adult/1_shape/cdm_run_v31527967589959_1_shape_0.png\n",
      "./cumulative_drawings/cdm_run_v31527967589959_adult/2_this circle/cdm_run_v31527967589959_2_this circle_0.png\n",
      "Great! Number of drawings made by this person: 6\n",
      "./cumulative_drawings/cdm_run_v31527968718676_age2/0_square/cdm_run_v31527968718676_0_square_0.png\n",
      "./cumulative_drawings/cdm_run_v31527968718676_age2/0_square/cdm_run_v31527968718676_0_square_1.png\n",
      "./cumulative_drawings/cdm_run_v31527968718676_age2/0_square/cdm_run_v31527968718676_0_square_2.png\n",
      "./cumulative_drawings/cdm_run_v31527968718676_age2/0_square/cdm_run_v31527968718676_0_square_3.png\n",
      "./cumulative_drawings/cdm_run_v31527968718676_age2/0_square/cdm_run_v31527968718676_0_square_4.png\n",
      "./cumulative_drawings/cdm_run_v31527968718676_age2/1_shape/cdm_run_v31527968718676_1_shape_0.png\n",
      "./cumulative_drawings/cdm_run_v31527968718676_age2/1_shape/cdm_run_v31527968718676_1_shape_1.png\n",
      "./cumulative_drawings/cdm_run_v31527968718676_age2/1_shape/cdm_run_v31527968718676_1_shape_2.png\n",
      "./cumulative_drawings/cdm_run_v31527968718676_age2/1_shape/cdm_run_v31527968718676_1_shape_3.png\n",
      "./cumulative_drawings/cdm_run_v31527968718676_age2/1_shape/cdm_run_v31527968718676_1_shape_4.png\n",
      "./cumulative_drawings/cdm_run_v31527968718676_age2/2_this circle/cdm_run_v31527968718676_2_this circle_0.png\n",
      "./cumulative_drawings/cdm_run_v31527968718676_age2/2_this circle/cdm_run_v31527968718676_2_this circle_1.png\n",
      "./cumulative_drawings/cdm_run_v31527968718676_age2/2_this circle/cdm_run_v31527968718676_2_this circle_2.png\n",
      "./cumulative_drawings/cdm_run_v31527968718676_age2/2_this circle/cdm_run_v31527968718676_2_this circle_3.png\n",
      "./cumulative_drawings/cdm_run_v31527968718676_age2/2_this circle/cdm_run_v31527968718676_2_this circle_4.png\n",
      "Great! Number of drawings made by this person: 6\n",
      "./cumulative_drawings/cdm_run_v31527968860506_age2/0_square/cdm_run_v31527968860506_0_square_0.png\n",
      "./cumulative_drawings/cdm_run_v31527968860506_age2/0_square/cdm_run_v31527968860506_0_square_1.png\n",
      "./cumulative_drawings/cdm_run_v31527968860506_age2/0_square/cdm_run_v31527968860506_0_square_2.png\n",
      "./cumulative_drawings/cdm_run_v31527968860506_age2/0_square/cdm_run_v31527968860506_0_square_3.png\n",
      "./cumulative_drawings/cdm_run_v31527968860506_age2/0_square/cdm_run_v31527968860506_0_square_4.png\n",
      "./cumulative_drawings/cdm_run_v31527968860506_age2/0_square/cdm_run_v31527968860506_0_square_5.png\n",
      "./cumulative_drawings/cdm_run_v31527968860506_age2/0_square/cdm_run_v31527968860506_0_square_6.png\n",
      "./cumulative_drawings/cdm_run_v31527968860506_age2/0_square/cdm_run_v31527968860506_0_square_7.png\n",
      "./cumulative_drawings/cdm_run_v31527968860506_age2/1_shape/cdm_run_v31527968860506_1_shape_0.png\n",
      "./cumulative_drawings/cdm_run_v31527968860506_age2/1_shape/cdm_run_v31527968860506_1_shape_1.png\n",
      "Oops, something went wrong! Here is the error:\n",
      "'codes' must be a 1D list or array with the same length of 'vertices'\n",
      "Great! Number of drawings made by this person: 12\n",
      "./cumulative_drawings/cdm_run_v31527969599198_age2/0_square/cdm_run_v31527969599198_0_square_0.png\n",
      "./cumulative_drawings/cdm_run_v31527969599198_age2/1_shape/cdm_run_v31527969599198_1_shape_0.png\n",
      "./cumulative_drawings/cdm_run_v31527969599198_age2/1_shape/cdm_run_v31527969599198_1_shape_1.png\n",
      "./cumulative_drawings/cdm_run_v31527969599198_age2/1_shape/cdm_run_v31527969599198_1_shape_2.png\n",
      "./cumulative_drawings/cdm_run_v31527969599198_age2/1_shape/cdm_run_v31527969599198_1_shape_3.png\n",
      "./cumulative_drawings/cdm_run_v31527969599198_age2/2_this circle/cdm_run_v31527969599198_2_this circle_0.png\n",
      "./cumulative_drawings/cdm_run_v31527969599198_age2/2_this circle/cdm_run_v31527969599198_2_this circle_1.png\n",
      "Great! Number of drawings made by this person: 8\n",
      "Oops, something went wrong! Here is the error:\n",
      "\n",
      "Great! Number of drawings made by this person: 8\n",
      "./cumulative_drawings/cdm_run_v31527970199200_age10/0_square/cdm_run_v31527970199200_0_square_0.png\n",
      "./cumulative_drawings/cdm_run_v31527970199200_age10/1_shape/cdm_run_v31527970199200_1_shape_0.png\n",
      "./cumulative_drawings/cdm_run_v31527970199200_age10/2_this circle/cdm_run_v31527970199200_2_this circle_0.png\n",
      "Great! Number of drawings made by this person: 4\n",
      "./cumulative_drawings/cdm_run_v31527970381589_age10/0_square/cdm_run_v31527970381589_0_square_0.png\n",
      "./cumulative_drawings/cdm_run_v31527970381589_age10/0_square/cdm_run_v31527970381589_0_square_1.png\n",
      "./cumulative_drawings/cdm_run_v31527970381589_age10/0_square/cdm_run_v31527970381589_0_square_2.png\n",
      "./cumulative_drawings/cdm_run_v31527970381589_age10/1_shape/cdm_run_v31527970381589_1_shape_0.png\n",
      "./cumulative_drawings/cdm_run_v31527970381589_age10/1_shape/cdm_run_v31527970381589_1_shape_1.png\n",
      "./cumulative_drawings/cdm_run_v31527970381589_age10/1_shape/cdm_run_v31527970381589_1_shape_2.png\n",
      "./cumulative_drawings/cdm_run_v31527970381589_age10/2_this circle/cdm_run_v31527970381589_2_this circle_0.png\n",
      "Great! Number of drawings made by this person: 12\n",
      "./cumulative_drawings/cdm_run_v31527970799228_age4/0_square/cdm_run_v31527970799228_0_square_0.png\n",
      "./cumulative_drawings/cdm_run_v31527970799228_age4/0_square/cdm_run_v31527970799228_0_square_1.png\n",
      "./cumulative_drawings/cdm_run_v31527970799228_age4/0_square/cdm_run_v31527970799228_0_square_2.png\n",
      "./cumulative_drawings/cdm_run_v31527970799228_age4/0_square/cdm_run_v31527970799228_0_square_3.png\n",
      "Oops, something went wrong! Here is the error:\n",
      "'codes' must be a 1D list or array with the same length of 'vertices'\n",
      "Great! Number of drawings made by this person: 12\n",
      "./cumulative_drawings/cdm_run_v31527971399240_age3/0_square/cdm_run_v31527971399240_0_square_0.png\n",
      "./cumulative_drawings/cdm_run_v31527971399240_age3/0_square/cdm_run_v31527971399240_0_square_1.png\n",
      "./cumulative_drawings/cdm_run_v31527971399240_age3/0_square/cdm_run_v31527971399240_0_square_2.png\n",
      "./cumulative_drawings/cdm_run_v31527971399240_age3/0_square/cdm_run_v31527971399240_0_square_3.png\n",
      "./cumulative_drawings/cdm_run_v31527971399240_age3/0_square/cdm_run_v31527971399240_0_square_4.png\n",
      "./cumulative_drawings/cdm_run_v31527971399240_age3/0_square/cdm_run_v31527971399240_0_square_5.png\n",
      "./cumulative_drawings/cdm_run_v31527971399240_age3/0_square/cdm_run_v31527971399240_0_square_6.png\n",
      "./cumulative_drawings/cdm_run_v31527971399240_age3/0_square/cdm_run_v31527971399240_0_square_7.png\n",
      "./cumulative_drawings/cdm_run_v31527971399240_age3/0_square/cdm_run_v31527971399240_0_square_8.png\n",
      "Oops, something went wrong! Here is the error:\n",
      "'codes' must be a 1D list or array with the same length of 'vertices'\n",
      "Great! Number of drawings made by this person: 5\n",
      "./cumulative_drawings/cdm_run_v31527972038759_age7/0_square/cdm_run_v31527972038759_0_square_0.png\n",
      "./cumulative_drawings/cdm_run_v31527972038759_age7/1_shape/cdm_run_v31527972038759_1_shape_0.png\n",
      "./cumulative_drawings/cdm_run_v31527972038759_age7/2_this circle/cdm_run_v31527972038759_2_this circle_0.png\n",
      "Great! Number of drawings made by this person: 10\n",
      "./cumulative_drawings/cdm_run_v31527972599108_age2/0_square/cdm_run_v31527972599108_0_square_0.png\n",
      "./cumulative_drawings/cdm_run_v31527972599108_age2/0_square/cdm_run_v31527972599108_0_square_1.png\n",
      "./cumulative_drawings/cdm_run_v31527972599108_age2/0_square/cdm_run_v31527972599108_0_square_2.png\n",
      "./cumulative_drawings/cdm_run_v31527972599108_age2/0_square/cdm_run_v31527972599108_0_square_3.png\n",
      "./cumulative_drawings/cdm_run_v31527972599108_age2/0_square/cdm_run_v31527972599108_0_square_4.png\n",
      "./cumulative_drawings/cdm_run_v31527972599108_age2/0_square/cdm_run_v31527972599108_0_square_5.png\n",
      "./cumulative_drawings/cdm_run_v31527972599108_age2/0_square/cdm_run_v31527972599108_0_square_6.png\n",
      "./cumulative_drawings/cdm_run_v31527972599108_age2/0_square/cdm_run_v31527972599108_0_square_7.png\n",
      "Oops, something went wrong! Here is the error:\n",
      "\n",
      "Great! Number of drawings made by this person: 8\n",
      "./cumulative_drawings/cdm_run_v31527974237867_age6/0_square/cdm_run_v31527974237867_0_square_0.png\n",
      "./cumulative_drawings/cdm_run_v31527974237867_age6/1_shape/cdm_run_v31527974237867_1_shape_0.png\n",
      "./cumulative_drawings/cdm_run_v31527974237867_age6/1_shape/cdm_run_v31527974237867_1_shape_1.png\n",
      "./cumulative_drawings/cdm_run_v31527974237867_age6/1_shape/cdm_run_v31527974237867_1_shape_2.png\n",
      "./cumulative_drawings/cdm_run_v31527974237867_age6/1_shape/cdm_run_v31527974237867_1_shape_3.png\n"
     ]
    },
    {
     "name": "stdout",
     "output_type": "stream",
     "text": [
      "./cumulative_drawings/cdm_run_v31527974237867_age6/1_shape/cdm_run_v31527974237867_1_shape_4.png\n",
      "./cumulative_drawings/cdm_run_v31527974237867_age6/1_shape/cdm_run_v31527974237867_1_shape_5.png\n",
      "./cumulative_drawings/cdm_run_v31527974237867_age6/2_this circle/cdm_run_v31527974237867_2_this circle_0.png\n",
      "./cumulative_drawings/cdm_run_v31527974237867_age6/2_this circle/cdm_run_v31527974237867_2_this circle_1.png\n",
      "./cumulative_drawings/cdm_run_v31527974237867_age6/2_this circle/cdm_run_v31527974237867_2_this circle_2.png\n",
      "Great! Number of drawings made by this person: 12\n",
      "./cumulative_drawings/cdm_run_v31527974399147_age6/0_square/cdm_run_v31527974399147_0_square_0.png\n",
      "./cumulative_drawings/cdm_run_v31527974399147_age6/1_shape/cdm_run_v31527974399147_1_shape_0.png\n",
      "./cumulative_drawings/cdm_run_v31527974399147_age6/1_shape/cdm_run_v31527974399147_1_shape_1.png\n",
      "./cumulative_drawings/cdm_run_v31527974399147_age6/1_shape/cdm_run_v31527974399147_1_shape_2.png\n",
      "./cumulative_drawings/cdm_run_v31527974399147_age6/1_shape/cdm_run_v31527974399147_1_shape_3.png\n",
      "./cumulative_drawings/cdm_run_v31527974399147_age6/1_shape/cdm_run_v31527974399147_1_shape_4.png\n",
      "./cumulative_drawings/cdm_run_v31527974399147_age6/2_this circle/cdm_run_v31527974399147_2_this circle_0.png\n",
      "Great! Number of drawings made by this person: 8\n",
      "./cumulative_drawings/cdm_run_v31527974678997_age6/0_square/cdm_run_v31527974678997_0_square_0.png\n",
      "./cumulative_drawings/cdm_run_v31527974678997_age6/1_shape/cdm_run_v31527974678997_1_shape_0.png\n",
      "Oops, something went wrong! Here is the error:\n",
      "'codes' must be a 1D list or array with the same length of 'vertices'\n",
      "Great! Number of drawings made by this person: 12\n",
      "./cumulative_drawings/cdm_run_v31527974999109_adult/0_square/cdm_run_v31527974999109_0_square_0.png\n",
      "./cumulative_drawings/cdm_run_v31527974999109_adult/1_shape/cdm_run_v31527974999109_1_shape_0.png\n",
      "./cumulative_drawings/cdm_run_v31527974999109_adult/2_this circle/cdm_run_v31527974999109_2_this circle_0.png\n",
      "Great! Number of drawings made by this person: 6\n",
      "./cumulative_drawings/cdm_run_v31527975212978_age4/0_square/cdm_run_v31527975212978_0_square_0.png\n",
      "./cumulative_drawings/cdm_run_v31527975212978_age4/1_shape/cdm_run_v31527975212978_1_shape_0.png\n",
      "./cumulative_drawings/cdm_run_v31527975212978_age4/1_shape/cdm_run_v31527975212978_1_shape_1.png\n",
      "./cumulative_drawings/cdm_run_v31527975212978_age4/1_shape/cdm_run_v31527975212978_1_shape_2.png\n",
      "./cumulative_drawings/cdm_run_v31527975212978_age4/1_shape/cdm_run_v31527975212978_1_shape_3.png\n",
      "./cumulative_drawings/cdm_run_v31527975212978_age4/1_shape/cdm_run_v31527975212978_1_shape_4.png\n",
      "./cumulative_drawings/cdm_run_v31527975212978_age4/1_shape/cdm_run_v31527975212978_1_shape_5.png\n",
      "./cumulative_drawings/cdm_run_v31527975212978_age4/1_shape/cdm_run_v31527975212978_1_shape_6.png\n",
      "./cumulative_drawings/cdm_run_v31527975212978_age4/1_shape/cdm_run_v31527975212978_1_shape_7.png\n",
      "./cumulative_drawings/cdm_run_v31527975212978_age4/1_shape/cdm_run_v31527975212978_1_shape_8.png\n",
      "./cumulative_drawings/cdm_run_v31527975212978_age4/1_shape/cdm_run_v31527975212978_1_shape_9.png\n",
      "./cumulative_drawings/cdm_run_v31527975212978_age4/2_this circle/cdm_run_v31527975212978_2_this circle_0.png\n",
      "Great! Number of drawings made by this person: 7\n",
      "./cumulative_drawings/cdm_run_v31527976577391_age10/0_square/cdm_run_v31527976577391_0_square_0.png\n",
      "./cumulative_drawings/cdm_run_v31527976577391_age10/0_square/cdm_run_v31527976577391_0_square_1.png\n",
      "./cumulative_drawings/cdm_run_v31527976577391_age10/0_square/cdm_run_v31527976577391_0_square_2.png\n",
      "./cumulative_drawings/cdm_run_v31527976577391_age10/1_shape/cdm_run_v31527976577391_1_shape_0.png\n",
      "./cumulative_drawings/cdm_run_v31527976577391_age10/1_shape/cdm_run_v31527976577391_1_shape_1.png\n",
      "./cumulative_drawings/cdm_run_v31527976577391_age10/1_shape/cdm_run_v31527976577391_1_shape_2.png\n",
      "./cumulative_drawings/cdm_run_v31527976577391_age10/2_this circle/cdm_run_v31527976577391_2_this circle_0.png\n",
      "Oops, something went wrong! Here is the error:\n",
      "'codes' must be a 1D list or array with the same length of 'vertices'\n",
      "Great! Number of drawings made by this person: 3\n",
      "./cumulative_drawings/cdm_run_v31527976799200_age4/0_square/cdm_run_v31527976799200_0_square_0.png\n",
      "./cumulative_drawings/cdm_run_v31527976799200_age4/0_square/cdm_run_v31527976799200_0_square_1.png\n",
      "Oops, something went wrong! Here is the error:\n",
      "'codes' must be a 1D list or array with the same length of 'vertices'\n",
      "Great! Number of drawings made by this person: 3\n",
      "./cumulative_drawings/cdm_run_v31527977786628_age6/0_square/cdm_run_v31527977786628_0_square_0.png\n",
      "./cumulative_drawings/cdm_run_v31527977786628_age6/1_shape/cdm_run_v31527977786628_1_shape_0.png\n",
      "./cumulative_drawings/cdm_run_v31527977786628_age6/2_this circle/cdm_run_v31527977786628_2_this circle_0.png\n",
      "./cumulative_drawings/cdm_run_v31527977786628_age6/2_this circle/cdm_run_v31527977786628_2_this circle_1.png\n",
      "Great! Number of drawings made by this person: 7\n",
      "./cumulative_drawings/cdm_run_v31527977844711_age6/0_square/cdm_run_v31527977844711_0_square_0.png\n",
      "./cumulative_drawings/cdm_run_v31527977844711_age6/1_shape/cdm_run_v31527977844711_1_shape_0.png\n",
      "./cumulative_drawings/cdm_run_v31527977844711_age6/2_this circle/cdm_run_v31527977844711_2_this circle_0.png\n",
      "Great! Number of drawings made by this person: 7\n",
      "./cumulative_drawings/cdm_run_v31527978599029_adult/0_square/cdm_run_v31527978599029_0_square_0.png\n",
      "./cumulative_drawings/cdm_run_v31527978599029_adult/1_shape/cdm_run_v31527978599029_1_shape_0.png\n",
      "./cumulative_drawings/cdm_run_v31527978599029_adult/2_this circle/cdm_run_v31527978599029_2_this circle_0.png\n",
      "Great! Number of drawings made by this person: 9\n",
      "./cumulative_drawings/cdm_run_v31527978734885_age3/0_square/cdm_run_v31527978734885_0_square_0.png\n",
      "./cumulative_drawings/cdm_run_v31527978734885_age3/0_square/cdm_run_v31527978734885_0_square_1.png\n",
      "./cumulative_drawings/cdm_run_v31527978734885_age3/0_square/cdm_run_v31527978734885_0_square_2.png\n",
      "./cumulative_drawings/cdm_run_v31527978734885_age3/0_square/cdm_run_v31527978734885_0_square_3.png\n",
      "./cumulative_drawings/cdm_run_v31527978734885_age3/1_shape/cdm_run_v31527978734885_1_shape_0.png\n",
      "./cumulative_drawings/cdm_run_v31527978734885_age3/1_shape/cdm_run_v31527978734885_1_shape_1.png\n",
      "./cumulative_drawings/cdm_run_v31527978734885_age3/1_shape/cdm_run_v31527978734885_1_shape_2.png\n",
      "./cumulative_drawings/cdm_run_v31527978734885_age3/2_this circle/cdm_run_v31527978734885_2_this circle_0.png\n",
      "Great! Number of drawings made by this person: 12\n",
      "./cumulative_drawings/cdm_run_v31527979199137_age3/0_square/cdm_run_v31527979199137_0_square_0.png\n",
      "./cumulative_drawings/cdm_run_v31527979199137_age3/1_shape/cdm_run_v31527979199137_1_shape_0.png\n",
      "./cumulative_drawings/cdm_run_v31527979199137_age3/2_this circle/cdm_run_v31527979199137_2_this circle_0.png\n",
      "Great! Number of drawings made by this person: 6\n",
      "./cumulative_drawings/cdm_run_v31527979692326_age5/0_square/cdm_run_v31527979692326_0_square_0.png\n",
      "./cumulative_drawings/cdm_run_v31527979692326_age5/1_shape/cdm_run_v31527979692326_1_shape_0.png\n",
      "./cumulative_drawings/cdm_run_v31527979692326_age5/1_shape/cdm_run_v31527979692326_1_shape_1.png\n",
      "./cumulative_drawings/cdm_run_v31527979692326_age5/2_this circle/cdm_run_v31527979692326_2_this circle_0.png\n",
      "Oops, something went wrong! Here is the error:\n",
      "'codes' must be a 1D list or array with the same length of 'vertices'\n",
      "Great! Number of drawings made by this person: 12\n",
      "./cumulative_drawings/cdm_run_v31527979799077_age5/0_square/cdm_run_v31527979799077_0_square_0.png\n",
      "./cumulative_drawings/cdm_run_v31527979799077_age5/0_square/cdm_run_v31527979799077_0_square_1.png\n",
      "./cumulative_drawings/cdm_run_v31527979799077_age5/1_shape/cdm_run_v31527979799077_1_shape_0.png\n",
      "./cumulative_drawings/cdm_run_v31527979799077_age5/1_shape/cdm_run_v31527979799077_1_shape_1.png\n",
      "./cumulative_drawings/cdm_run_v31527979799077_age5/2_this circle/cdm_run_v31527979799077_2_this circle_0.png\n",
      "Great! Number of drawings made by this person: 6\n",
      "./cumulative_drawings/cdm_run_v31527980064618_age4/0_square/cdm_run_v31527980064618_0_square_0.png\n",
      "./cumulative_drawings/cdm_run_v31527980064618_age4/0_square/cdm_run_v31527980064618_0_square_1.png\n",
      "./cumulative_drawings/cdm_run_v31527980064618_age4/1_shape/cdm_run_v31527980064618_1_shape_0.png\n",
      "./cumulative_drawings/cdm_run_v31527980064618_age4/1_shape/cdm_run_v31527980064618_1_shape_1.png\n"
     ]
    },
    {
     "name": "stdout",
     "output_type": "stream",
     "text": [
      "./cumulative_drawings/cdm_run_v31527980064618_age4/1_shape/cdm_run_v31527980064618_1_shape_2.png\n",
      "./cumulative_drawings/cdm_run_v31527980064618_age4/1_shape/cdm_run_v31527980064618_1_shape_3.png\n",
      "Oops, something went wrong! Here is the error:\n",
      "'codes' must be a 1D list or array with the same length of 'vertices'\n",
      "Great! Number of drawings made by this person: 12\n",
      "./cumulative_drawings/cdm_run_v31527980493619_adult/0_square/cdm_run_v31527980493619_0_square_0.png\n",
      "./cumulative_drawings/cdm_run_v31527980493619_adult/1_shape/cdm_run_v31527980493619_1_shape_0.png\n",
      "./cumulative_drawings/cdm_run_v31527980493619_adult/1_shape/cdm_run_v31527980493619_1_shape_1.png\n",
      "./cumulative_drawings/cdm_run_v31527980493619_adult/2_this circle/cdm_run_v31527980493619_2_this circle_0.png\n",
      "Great! Number of drawings made by this person: 4\n",
      "./cumulative_drawings/cdm_run_v31527980737934_age3/0_square/cdm_run_v31527980737934_0_square_0.png\n",
      "Oops, something went wrong! Here is the error:\n",
      "'codes' must be a 1D list or array with the same length of 'vertices'\n",
      "Great! Number of drawings made by this person: 12\n",
      "./cumulative_drawings/cdm_run_v31527980999104_age5/0_square/cdm_run_v31527980999104_0_square_0.png\n",
      "./cumulative_drawings/cdm_run_v31527980999104_age5/1_shape/cdm_run_v31527980999104_1_shape_0.png\n",
      "./cumulative_drawings/cdm_run_v31527980999104_age5/2_this circle/cdm_run_v31527980999104_2_this circle_0.png\n",
      "Great! Number of drawings made by this person: 12\n",
      "./cumulative_drawings/cdm_run_v31527981599050_age5/0_square/cdm_run_v31527981599050_0_square_0.png\n",
      "./cumulative_drawings/cdm_run_v31527981599050_age5/1_shape/cdm_run_v31527981599050_1_shape_0.png\n",
      "./cumulative_drawings/cdm_run_v31527981599050_age5/2_this circle/cdm_run_v31527981599050_2_this circle_0.png\n",
      "Great! Number of drawings made by this person: 6\n",
      "./cumulative_drawings/cdm_run_v31527982199109_age5/0_square/cdm_run_v31527982199109_0_square_0.png\n",
      "./cumulative_drawings/cdm_run_v31527982199109_age5/0_square/cdm_run_v31527982199109_0_square_1.png\n",
      "./cumulative_drawings/cdm_run_v31527982199109_age5/0_square/cdm_run_v31527982199109_0_square_2.png\n",
      "./cumulative_drawings/cdm_run_v31527982199109_age5/0_square/cdm_run_v31527982199109_0_square_3.png\n",
      "./cumulative_drawings/cdm_run_v31527982199109_age5/0_square/cdm_run_v31527982199109_0_square_4.png\n",
      "./cumulative_drawings/cdm_run_v31527982199109_age5/0_square/cdm_run_v31527982199109_0_square_5.png\n",
      "./cumulative_drawings/cdm_run_v31527982199109_age5/0_square/cdm_run_v31527982199109_0_square_6.png\n",
      "./cumulative_drawings/cdm_run_v31527982199109_age5/0_square/cdm_run_v31527982199109_0_square_7.png\n",
      "./cumulative_drawings/cdm_run_v31527982199109_age5/0_square/cdm_run_v31527982199109_0_square_8.png\n",
      "./cumulative_drawings/cdm_run_v31527982199109_age5/0_square/cdm_run_v31527982199109_0_square_9.png\n",
      "./cumulative_drawings/cdm_run_v31527982199109_age5/0_square/cdm_run_v31527982199109_0_square_10.png\n",
      "./cumulative_drawings/cdm_run_v31527982199109_age5/0_square/cdm_run_v31527982199109_0_square_11.png\n",
      "Oops, something went wrong! Here is the error:\n",
      "'codes' must be a 1D list or array with the same length of 'vertices'\n",
      "Great! Number of drawings made by this person: 11\n",
      "./cumulative_drawings/cdm_run_v31527982528073_age5/0_square/cdm_run_v31527982528073_0_square_0.png\n",
      "./cumulative_drawings/cdm_run_v31527982528073_age5/1_shape/cdm_run_v31527982528073_1_shape_0.png\n",
      "./cumulative_drawings/cdm_run_v31527982528073_age5/1_shape/cdm_run_v31527982528073_1_shape_1.png\n",
      "Oops, something went wrong! Here is the error:\n",
      "'codes' must be a 1D list or array with the same length of 'vertices'\n",
      "Great! Number of drawings made by this person: 12\n",
      "./cumulative_drawings/cdm_run_v31527982799096_age3/0_square/cdm_run_v31527982799096_0_square_0.png\n",
      "./cumulative_drawings/cdm_run_v31527982799096_age3/1_shape/cdm_run_v31527982799096_1_shape_0.png\n",
      "./cumulative_drawings/cdm_run_v31527982799096_age3/1_shape/cdm_run_v31527982799096_1_shape_1.png\n",
      "./cumulative_drawings/cdm_run_v31527982799096_age3/1_shape/cdm_run_v31527982799096_1_shape_2.png\n",
      "./cumulative_drawings/cdm_run_v31527982799096_age3/1_shape/cdm_run_v31527982799096_1_shape_3.png\n",
      "./cumulative_drawings/cdm_run_v31527982799096_age3/1_shape/cdm_run_v31527982799096_1_shape_4.png\n",
      "./cumulative_drawings/cdm_run_v31527982799096_age3/1_shape/cdm_run_v31527982799096_1_shape_5.png\n",
      "./cumulative_drawings/cdm_run_v31527982799096_age3/1_shape/cdm_run_v31527982799096_1_shape_6.png\n",
      "./cumulative_drawings/cdm_run_v31527982799096_age3/1_shape/cdm_run_v31527982799096_1_shape_7.png\n",
      "Oops, something went wrong! Here is the error:\n",
      "'codes' must be a 1D list or array with the same length of 'vertices'\n",
      "Great! Number of drawings made by this person: 8\n",
      "./cumulative_drawings/cdm_run_v31528052168660_age4/0_square/cdm_run_v31528052168660_0_square_0.png\n",
      "./cumulative_drawings/cdm_run_v31528052168660_age4/0_square/cdm_run_v31528052168660_0_square_1.png\n",
      "./cumulative_drawings/cdm_run_v31528052168660_age4/0_square/cdm_run_v31528052168660_0_square_2.png\n",
      "./cumulative_drawings/cdm_run_v31528052168660_age4/1_shape/cdm_run_v31528052168660_1_shape_0.png\n",
      "./cumulative_drawings/cdm_run_v31528052168660_age4/1_shape/cdm_run_v31528052168660_1_shape_1.png\n",
      "./cumulative_drawings/cdm_run_v31528052168660_age4/1_shape/cdm_run_v31528052168660_1_shape_2.png\n",
      "./cumulative_drawings/cdm_run_v31528052168660_age4/1_shape/cdm_run_v31528052168660_1_shape_3.png\n",
      "./cumulative_drawings/cdm_run_v31528052168660_age4/1_shape/cdm_run_v31528052168660_1_shape_4.png\n",
      "Oops, something went wrong! Here is the error:\n",
      "'codes' must be a 1D list or array with the same length of 'vertices'\n",
      "Great! Number of drawings made by this person: 6\n",
      "./cumulative_drawings/cdm_run_v31528052399312_age2/0_square/cdm_run_v31528052399312_0_square_0.png\n",
      "./cumulative_drawings/cdm_run_v31528052399312_age2/0_square/cdm_run_v31528052399312_0_square_1.png\n",
      "./cumulative_drawings/cdm_run_v31528052399312_age2/0_square/cdm_run_v31528052399312_0_square_2.png\n",
      "./cumulative_drawings/cdm_run_v31528052399312_age2/0_square/cdm_run_v31528052399312_0_square_3.png\n",
      "./cumulative_drawings/cdm_run_v31528052399312_age2/0_square/cdm_run_v31528052399312_0_square_4.png\n",
      "Oops, something went wrong! Here is the error:\n",
      "'codes' must be a 1D list or array with the same length of 'vertices'\n",
      "Great! Number of drawings made by this person: 4\n",
      "./cumulative_drawings/cdm_run_v31528052999270_age4/0_square/cdm_run_v31528052999270_0_square_0.png\n",
      "./cumulative_drawings/cdm_run_v31528052999270_age4/0_square/cdm_run_v31528052999270_0_square_1.png\n",
      "Oops, something went wrong! Here is the error:\n",
      "'codes' must be a 1D list or array with the same length of 'vertices'\n",
      "Great! Number of drawings made by this person: 4\n",
      "./cumulative_drawings/cdm_run_v31528053456447_age5/0_square/cdm_run_v31528053456447_0_square_0.png\n",
      "./cumulative_drawings/cdm_run_v31528053456447_age5/0_square/cdm_run_v31528053456447_0_square_1.png\n",
      "./cumulative_drawings/cdm_run_v31528053456447_age5/1_shape/cdm_run_v31528053456447_1_shape_0.png\n",
      "./cumulative_drawings/cdm_run_v31528053456447_age5/2_this circle/cdm_run_v31528053456447_2_this circle_0.png\n",
      "./cumulative_drawings/cdm_run_v31528053456447_age5/2_this circle/cdm_run_v31528053456447_2_this circle_1.png\n",
      "Great! Number of drawings made by this person: 7\n",
      "./cumulative_drawings/cdm_run_v31528053791790_age3/0_square/cdm_run_v31528053791790_0_square_0.png\n",
      "./cumulative_drawings/cdm_run_v31528053791790_age3/1_shape/cdm_run_v31528053791790_1_shape_0.png\n",
      "./cumulative_drawings/cdm_run_v31528053791790_age3/1_shape/cdm_run_v31528053791790_1_shape_1.png\n",
      "./cumulative_drawings/cdm_run_v31528053791790_age3/1_shape/cdm_run_v31528053791790_1_shape_2.png\n",
      "./cumulative_drawings/cdm_run_v31528053791790_age3/1_shape/cdm_run_v31528053791790_1_shape_3.png\n",
      "./cumulative_drawings/cdm_run_v31528053791790_age3/1_shape/cdm_run_v31528053791790_1_shape_4.png\n",
      "./cumulative_drawings/cdm_run_v31528053791790_age3/1_shape/cdm_run_v31528053791790_1_shape_5.png\n",
      "./cumulative_drawings/cdm_run_v31528053791790_age3/2_this circle/cdm_run_v31528053791790_2_this circle_0.png\n",
      "Great! Number of drawings made by this person: 5\n",
      "./cumulative_drawings/cdm_run_v31528056367003_adult/0_square/cdm_run_v31528056367003_0_square_0.png\n",
      "./cumulative_drawings/cdm_run_v31528056367003_adult/1_shape/cdm_run_v31528056367003_1_shape_0.png\n"
     ]
    },
    {
     "name": "stdout",
     "output_type": "stream",
     "text": [
      "./cumulative_drawings/cdm_run_v31528056367003_adult/2_this circle/cdm_run_v31528056367003_2_this circle_0.png\n",
      "Great! Number of drawings made by this person: 12\n",
      "./cumulative_drawings/cdm_run_v31528056599279_age10/0_square/cdm_run_v31528056599279_0_square_0.png\n",
      "./cumulative_drawings/cdm_run_v31528056599279_age10/1_shape/cdm_run_v31528056599279_1_shape_0.png\n",
      "./cumulative_drawings/cdm_run_v31528056599279_age10/2_this circle/cdm_run_v31528056599279_2_this circle_0.png\n",
      "Great! Number of drawings made by this person: 12\n",
      "./cumulative_drawings/cdm_run_v31528057199304_adult/0_square/cdm_run_v31528057199304_0_square_0.png\n",
      "Oops, something went wrong! Here is the error:\n",
      "\n",
      "Great! Number of drawings made by this person: 8\n",
      "./cumulative_drawings/cdm_run_v31528057652800_adult/0_square/cdm_run_v31528057652800_0_square_0.png\n",
      "./cumulative_drawings/cdm_run_v31528057652800_adult/0_square/cdm_run_v31528057652800_0_square_1.png\n",
      "./cumulative_drawings/cdm_run_v31528057652800_adult/1_shape/cdm_run_v31528057652800_1_shape_0.png\n",
      "./cumulative_drawings/cdm_run_v31528057652800_adult/2_this circle/cdm_run_v31528057652800_2_this circle_0.png\n",
      "Great! Number of drawings made by this person: 12\n",
      "Oops, something went wrong! Here is the error:\n",
      "\n",
      "Great! Number of drawings made by this person: 5\n",
      "./cumulative_drawings/cdm_run_v31528058399213_age4/0_square/cdm_run_v31528058399213_0_square_0.png\n",
      "./cumulative_drawings/cdm_run_v31528058399213_age4/1_shape/cdm_run_v31528058399213_1_shape_0.png\n",
      "./cumulative_drawings/cdm_run_v31528058399213_age4/2_this circle/cdm_run_v31528058399213_2_this circle_0.png\n",
      "Great! Number of drawings made by this person: 8\n",
      "./cumulative_drawings/cdm_run_v31528058761703_age5/0_square/cdm_run_v31528058761703_0_square_0.png\n",
      "./cumulative_drawings/cdm_run_v31528058761703_age5/1_shape/cdm_run_v31528058761703_1_shape_0.png\n",
      "./cumulative_drawings/cdm_run_v31528058761703_age5/1_shape/cdm_run_v31528058761703_1_shape_1.png\n",
      "./cumulative_drawings/cdm_run_v31528058761703_age5/1_shape/cdm_run_v31528058761703_1_shape_2.png\n",
      "./cumulative_drawings/cdm_run_v31528058761703_age5/1_shape/cdm_run_v31528058761703_1_shape_3.png\n",
      "Oops, something went wrong! Here is the error:\n",
      "'codes' must be a 1D list or array with the same length of 'vertices'\n",
      "Great! Number of drawings made by this person: 3\n",
      "./cumulative_drawings/cdm_run_v31528059107416_age2/0_square/cdm_run_v31528059107416_0_square_0.png\n",
      "Oops, something went wrong! Here is the error:\n",
      "'codes' must be a 1D list or array with the same length of 'vertices'\n",
      "Great! Number of drawings made by this person: 4\n",
      "./cumulative_drawings/cdm_run_v31528059244623_age2/0_square/cdm_run_v31528059244623_0_square_0.png\n",
      "Oops, something went wrong! Here is the error:\n",
      "'codes' must be a 1D list or array with the same length of 'vertices'\n",
      "Great! Number of drawings made by this person: 7\n",
      "./cumulative_drawings/cdm_run_v31528059599251_age2/0_square/cdm_run_v31528059599251_0_square_0.png\n",
      "Oops, something went wrong! Here is the error:\n",
      "'codes' must be a 1D list or array with the same length of 'vertices'\n",
      "Great! Number of drawings made by this person: 11\n",
      "./cumulative_drawings/cdm_run_v31528060444990_age3/0_square/cdm_run_v31528060444990_0_square_0.png\n",
      "./cumulative_drawings/cdm_run_v31528060444990_age3/0_square/cdm_run_v31528060444990_0_square_1.png\n",
      "./cumulative_drawings/cdm_run_v31528060444990_age3/0_square/cdm_run_v31528060444990_0_square_2.png\n",
      "./cumulative_drawings/cdm_run_v31528060444990_age3/0_square/cdm_run_v31528060444990_0_square_3.png\n",
      "./cumulative_drawings/cdm_run_v31528060444990_age3/0_square/cdm_run_v31528060444990_0_square_4.png\n",
      "./cumulative_drawings/cdm_run_v31528060444990_age3/0_square/cdm_run_v31528060444990_0_square_5.png\n",
      "./cumulative_drawings/cdm_run_v31528060444990_age3/0_square/cdm_run_v31528060444990_0_square_6.png\n",
      "./cumulative_drawings/cdm_run_v31528060444990_age3/0_square/cdm_run_v31528060444990_0_square_7.png\n",
      "./cumulative_drawings/cdm_run_v31528060444990_age3/0_square/cdm_run_v31528060444990_0_square_8.png\n",
      "./cumulative_drawings/cdm_run_v31528060444990_age3/1_shape/cdm_run_v31528060444990_1_shape_0.png\n",
      "./cumulative_drawings/cdm_run_v31528060444990_age3/1_shape/cdm_run_v31528060444990_1_shape_1.png\n",
      "./cumulative_drawings/cdm_run_v31528060444990_age3/1_shape/cdm_run_v31528060444990_1_shape_2.png\n",
      "./cumulative_drawings/cdm_run_v31528060444990_age3/1_shape/cdm_run_v31528060444990_1_shape_3.png\n",
      "./cumulative_drawings/cdm_run_v31528060444990_age3/1_shape/cdm_run_v31528060444990_1_shape_4.png\n",
      "./cumulative_drawings/cdm_run_v31528060444990_age3/1_shape/cdm_run_v31528060444990_1_shape_5.png\n",
      "./cumulative_drawings/cdm_run_v31528060444990_age3/1_shape/cdm_run_v31528060444990_1_shape_6.png\n",
      "./cumulative_drawings/cdm_run_v31528060444990_age3/2_this circle/cdm_run_v31528060444990_2_this circle_0.png\n",
      "./cumulative_drawings/cdm_run_v31528060444990_age3/2_this circle/cdm_run_v31528060444990_2_this circle_1.png\n",
      "./cumulative_drawings/cdm_run_v31528060444990_age3/2_this circle/cdm_run_v31528060444990_2_this circle_2.png\n",
      "./cumulative_drawings/cdm_run_v31528060444990_age3/2_this circle/cdm_run_v31528060444990_2_this circle_3.png\n",
      "./cumulative_drawings/cdm_run_v31528060444990_age3/2_this circle/cdm_run_v31528060444990_2_this circle_4.png\n",
      "Great! Number of drawings made by this person: 8\n",
      "./cumulative_drawings/cdm_run_v31528060993113_age5/0_square/cdm_run_v31528060993113_0_square_0.png\n",
      "./cumulative_drawings/cdm_run_v31528060993113_age5/1_shape/cdm_run_v31528060993113_1_shape_0.png\n",
      "./cumulative_drawings/cdm_run_v31528060993113_age5/2_this circle/cdm_run_v31528060993113_2_this circle_0.png\n",
      "Great! Number of drawings made by this person: 6\n",
      "./cumulative_drawings/cdm_run_v31528061180620_age10/0_square/cdm_run_v31528061180620_0_square_0.png\n",
      "./cumulative_drawings/cdm_run_v31528061180620_age10/0_square/cdm_run_v31528061180620_0_square_1.png\n",
      "Oops, something went wrong! Here is the error:\n",
      "'codes' must be a 1D list or array with the same length of 'vertices'\n",
      "Great! Number of drawings made by this person: 12\n",
      "./cumulative_drawings/cdm_run_v31528061399199_age5/0_square/cdm_run_v31528061399199_0_square_0.png\n",
      "./cumulative_drawings/cdm_run_v31528061399199_age5/1_shape/cdm_run_v31528061399199_1_shape_0.png\n",
      "./cumulative_drawings/cdm_run_v31528061399199_age5/2_this circle/cdm_run_v31528061399199_2_this circle_0.png\n",
      "Great! Number of drawings made by this person: 12\n",
      "./cumulative_drawings/cdm_run_v31528061696749_adult/0_square/cdm_run_v31528061696749_0_square_0.png\n",
      "./cumulative_drawings/cdm_run_v31528061696749_adult/1_shape/cdm_run_v31528061696749_1_shape_0.png\n",
      "./cumulative_drawings/cdm_run_v31528061696749_adult/2_this circle/cdm_run_v31528061696749_2_this circle_0.png\n",
      "Great! Number of drawings made by this person: 12\n",
      "./cumulative_drawings/cdm_run_v31528061999122_age3/0_square/cdm_run_v31528061999122_0_square_0.png\n",
      "./cumulative_drawings/cdm_run_v31528061999122_age3/0_square/cdm_run_v31528061999122_0_square_1.png\n",
      "./cumulative_drawings/cdm_run_v31528061999122_age3/0_square/cdm_run_v31528061999122_0_square_2.png\n",
      "./cumulative_drawings/cdm_run_v31528061999122_age3/0_square/cdm_run_v31528061999122_0_square_3.png\n",
      "Oops, something went wrong! Here is the error:\n",
      "'codes' must be a 1D list or array with the same length of 'vertices'\n",
      "Great! Number of drawings made by this person: 12\n",
      "./cumulative_drawings/cdm_run_v31528062667359_age6/0_square/cdm_run_v31528062667359_0_square_0.png\n",
      "./cumulative_drawings/cdm_run_v31528062667359_age6/0_square/cdm_run_v31528062667359_0_square_1.png\n",
      "./cumulative_drawings/cdm_run_v31528062667359_age6/0_square/cdm_run_v31528062667359_0_square_2.png\n",
      "./cumulative_drawings/cdm_run_v31528062667359_age6/0_square/cdm_run_v31528062667359_0_square_3.png\n",
      "./cumulative_drawings/cdm_run_v31528062667359_age6/1_shape/cdm_run_v31528062667359_1_shape_0.png\n",
      "./cumulative_drawings/cdm_run_v31528062667359_age6/1_shape/cdm_run_v31528062667359_1_shape_1.png\n",
      "./cumulative_drawings/cdm_run_v31528062667359_age6/1_shape/cdm_run_v31528062667359_1_shape_2.png\n",
      "./cumulative_drawings/cdm_run_v31528062667359_age6/1_shape/cdm_run_v31528062667359_1_shape_3.png\n",
      "./cumulative_drawings/cdm_run_v31528062667359_age6/1_shape/cdm_run_v31528062667359_1_shape_4.png\n",
      "./cumulative_drawings/cdm_run_v31528062667359_age6/2_this circle/cdm_run_v31528062667359_2_this circle_0.png\n"
     ]
    },
    {
     "name": "stdout",
     "output_type": "stream",
     "text": [
      "Great! Number of drawings made by this person: 12\n",
      "./cumulative_drawings/cdm_run_v31528063199159_age3/0_square/cdm_run_v31528063199159_0_square_0.png\n",
      "./cumulative_drawings/cdm_run_v31528063199159_age3/1_shape/cdm_run_v31528063199159_1_shape_0.png\n",
      "./cumulative_drawings/cdm_run_v31528063199159_age3/1_shape/cdm_run_v31528063199159_1_shape_1.png\n",
      "Oops, something went wrong! Here is the error:\n",
      "'codes' must be a 1D list or array with the same length of 'vertices'\n",
      "Great! Number of drawings made by this person: 9\n",
      "./cumulative_drawings/cdm_run_v31528063799169_age3/0_square/cdm_run_v31528063799169_0_square_0.png\n",
      "./cumulative_drawings/cdm_run_v31528063799169_age3/0_square/cdm_run_v31528063799169_0_square_1.png\n",
      "./cumulative_drawings/cdm_run_v31528063799169_age3/1_shape/cdm_run_v31528063799169_1_shape_0.png\n",
      "./cumulative_drawings/cdm_run_v31528063799169_age3/1_shape/cdm_run_v31528063799169_1_shape_1.png\n",
      "./cumulative_drawings/cdm_run_v31528063799169_age3/1_shape/cdm_run_v31528063799169_1_shape_2.png\n",
      "./cumulative_drawings/cdm_run_v31528063799169_age3/1_shape/cdm_run_v31528063799169_1_shape_3.png\n",
      "./cumulative_drawings/cdm_run_v31528063799169_age3/1_shape/cdm_run_v31528063799169_1_shape_4.png\n",
      "./cumulative_drawings/cdm_run_v31528063799169_age3/1_shape/cdm_run_v31528063799169_1_shape_5.png\n",
      "./cumulative_drawings/cdm_run_v31528063799169_age3/1_shape/cdm_run_v31528063799169_1_shape_6.png\n",
      "./cumulative_drawings/cdm_run_v31528063799169_age3/1_shape/cdm_run_v31528063799169_1_shape_7.png\n",
      "Oops, something went wrong! Here is the error:\n",
      "'codes' must be a 1D list or array with the same length of 'vertices'\n",
      "Great! Number of drawings made by this person: 10\n",
      "./cumulative_drawings/cdm_run_v31528064164353_age6/0_square/cdm_run_v31528064164353_0_square_0.png\n",
      "./cumulative_drawings/cdm_run_v31528064164353_age6/1_shape/cdm_run_v31528064164353_1_shape_0.png\n",
      "./cumulative_drawings/cdm_run_v31528064164353_age6/2_this circle/cdm_run_v31528064164353_2_this circle_0.png\n",
      "Great! Number of drawings made by this person: 12\n",
      "./cumulative_drawings/cdm_run_v31528064399165_age6/0_square/cdm_run_v31528064399165_0_square_0.png\n",
      "./cumulative_drawings/cdm_run_v31528064399165_age6/1_shape/cdm_run_v31528064399165_1_shape_0.png\n",
      "./cumulative_drawings/cdm_run_v31528064399165_age6/2_this circle/cdm_run_v31528064399165_2_this circle_0.png\n",
      "./cumulative_drawings/cdm_run_v31528064399165_age6/2_this circle/cdm_run_v31528064399165_2_this circle_1.png\n",
      "./cumulative_drawings/cdm_run_v31528064399165_age6/2_this circle/cdm_run_v31528064399165_2_this circle_2.png\n",
      "Great! Number of drawings made by this person: 11\n",
      "./cumulative_drawings/cdm_run_v31528064619442_age3/0_square/cdm_run_v31528064619442_0_square_0.png\n",
      "Oops, something went wrong! Here is the error:\n",
      "'codes' must be a 1D list or array with the same length of 'vertices'\n",
      "Great! Number of drawings made by this person: 12\n",
      "./cumulative_drawings/cdm_run_v31528064999186_age7/0_square/cdm_run_v31528064999186_0_square_0.png\n",
      "Oops, something went wrong! Here is the error:\n",
      "\n",
      "Great! Number of drawings made by this person: 5\n",
      "./cumulative_drawings/cdm_run_v31528065411124_age7/0_square/cdm_run_v31528065411124_0_square_0.png\n",
      "./cumulative_drawings/cdm_run_v31528065411124_age7/1_shape/cdm_run_v31528065411124_1_shape_0.png\n",
      "./cumulative_drawings/cdm_run_v31528065411124_age7/1_shape/cdm_run_v31528065411124_1_shape_1.png\n",
      "./cumulative_drawings/cdm_run_v31528065411124_age7/2_this circle/cdm_run_v31528065411124_2_this circle_0.png\n",
      "Great! Number of drawings made by this person: 6\n",
      "./cumulative_drawings/cdm_run_v31528065606112_age8/0_square/cdm_run_v31528065606112_0_square_0.png\n",
      "./cumulative_drawings/cdm_run_v31528065606112_age8/1_shape/cdm_run_v31528065606112_1_shape_0.png\n",
      "./cumulative_drawings/cdm_run_v31528065606112_age8/2_this circle/cdm_run_v31528065606112_2_this circle_0.png\n",
      "Great! Number of drawings made by this person: 12\n",
      "./cumulative_drawings/cdm_run_v31528065690229_age8/0_square/cdm_run_v31528065690229_0_square_0.png\n",
      "./cumulative_drawings/cdm_run_v31528065690229_age8/0_square/cdm_run_v31528065690229_0_square_1.png\n",
      "./cumulative_drawings/cdm_run_v31528065690229_age8/0_square/cdm_run_v31528065690229_0_square_2.png\n",
      "./cumulative_drawings/cdm_run_v31528065690229_age8/0_square/cdm_run_v31528065690229_0_square_3.png\n",
      "./cumulative_drawings/cdm_run_v31528065690229_age8/0_square/cdm_run_v31528065690229_0_square_4.png\n",
      "./cumulative_drawings/cdm_run_v31528065690229_age8/1_shape/cdm_run_v31528065690229_1_shape_0.png\n",
      "./cumulative_drawings/cdm_run_v31528065690229_age8/1_shape/cdm_run_v31528065690229_1_shape_1.png\n",
      "./cumulative_drawings/cdm_run_v31528065690229_age8/1_shape/cdm_run_v31528065690229_1_shape_2.png\n",
      "./cumulative_drawings/cdm_run_v31528065690229_age8/2_this circle/cdm_run_v31528065690229_2_this circle_0.png\n",
      "./cumulative_drawings/cdm_run_v31528065690229_age8/2_this circle/cdm_run_v31528065690229_2_this circle_1.png\n",
      "./cumulative_drawings/cdm_run_v31528065690229_age8/2_this circle/cdm_run_v31528065690229_2_this circle_2.png\n",
      "./cumulative_drawings/cdm_run_v31528065690229_age8/2_this circle/cdm_run_v31528065690229_2_this circle_3.png\n",
      "./cumulative_drawings/cdm_run_v31528065690229_age8/2_this circle/cdm_run_v31528065690229_2_this circle_4.png\n",
      "Great! Number of drawings made by this person: 12\n",
      "./cumulative_drawings/cdm_run_v31528065927196_age7/0_square/cdm_run_v31528065927196_0_square_0.png\n",
      "./cumulative_drawings/cdm_run_v31528065927196_age7/1_shape/cdm_run_v31528065927196_1_shape_0.png\n",
      "./cumulative_drawings/cdm_run_v31528065927196_age7/1_shape/cdm_run_v31528065927196_1_shape_1.png\n",
      "./cumulative_drawings/cdm_run_v31528065927196_age7/1_shape/cdm_run_v31528065927196_1_shape_2.png\n",
      "./cumulative_drawings/cdm_run_v31528065927196_age7/1_shape/cdm_run_v31528065927196_1_shape_3.png\n",
      "./cumulative_drawings/cdm_run_v31528065927196_age7/1_shape/cdm_run_v31528065927196_1_shape_4.png\n",
      "./cumulative_drawings/cdm_run_v31528065927196_age7/2_this circle/cdm_run_v31528065927196_2_this circle_0.png\n",
      "Great! Number of drawings made by this person: 3\n",
      "./cumulative_drawings/cdm_run_v31528066141579_age8/0_square/cdm_run_v31528066141579_0_square_0.png\n",
      "./cumulative_drawings/cdm_run_v31528066141579_age8/1_shape/cdm_run_v31528066141579_1_shape_0.png\n",
      "./cumulative_drawings/cdm_run_v31528066141579_age8/1_shape/cdm_run_v31528066141579_1_shape_1.png\n",
      "./cumulative_drawings/cdm_run_v31528066141579_age8/1_shape/cdm_run_v31528066141579_1_shape_2.png\n",
      "./cumulative_drawings/cdm_run_v31528066141579_age8/1_shape/cdm_run_v31528066141579_1_shape_3.png\n",
      "./cumulative_drawings/cdm_run_v31528066141579_age8/1_shape/cdm_run_v31528066141579_1_shape_4.png\n",
      "./cumulative_drawings/cdm_run_v31528066141579_age8/1_shape/cdm_run_v31528066141579_1_shape_5.png\n",
      "./cumulative_drawings/cdm_run_v31528066141579_age8/1_shape/cdm_run_v31528066141579_1_shape_6.png\n",
      "./cumulative_drawings/cdm_run_v31528066141579_age8/1_shape/cdm_run_v31528066141579_1_shape_7.png\n",
      "./cumulative_drawings/cdm_run_v31528066141579_age8/2_this circle/cdm_run_v31528066141579_2_this circle_0.png\n",
      "./cumulative_drawings/cdm_run_v31528066141579_age8/2_this circle/cdm_run_v31528066141579_2_this circle_1.png\n",
      "./cumulative_drawings/cdm_run_v31528066141579_age8/2_this circle/cdm_run_v31528066141579_2_this circle_2.png\n",
      "./cumulative_drawings/cdm_run_v31528066141579_age8/2_this circle/cdm_run_v31528066141579_2_this circle_3.png\n",
      "./cumulative_drawings/cdm_run_v31528066141579_age8/2_this circle/cdm_run_v31528066141579_2_this circle_4.png\n",
      "./cumulative_drawings/cdm_run_v31528066141579_age8/2_this circle/cdm_run_v31528066141579_2_this circle_5.png\n",
      "./cumulative_drawings/cdm_run_v31528066141579_age8/2_this circle/cdm_run_v31528066141579_2_this circle_6.png\n",
      "Great! Number of drawings made by this person: 3\n",
      "./cumulative_drawings/cdm_run_v31528066199108_age2/0_square/cdm_run_v31528066199108_0_square_0.png\n",
      "./cumulative_drawings/cdm_run_v31528066199108_age2/0_square/cdm_run_v31528066199108_0_square_1.png\n",
      "Oops, something went wrong! Here is the error:\n",
      "'codes' must be a 1D list or array with the same length of 'vertices'\n",
      "Great! Number of drawings made by this person: 4\n",
      "./cumulative_drawings/cdm_run_v31528066292174_age2/0_square/cdm_run_v31528066292174_0_square_0.png\n",
      "./cumulative_drawings/cdm_run_v31528066292174_age2/0_square/cdm_run_v31528066292174_0_square_1.png\n",
      "./cumulative_drawings/cdm_run_v31528066292174_age2/0_square/cdm_run_v31528066292174_0_square_2.png\n",
      "./cumulative_drawings/cdm_run_v31528066292174_age2/0_square/cdm_run_v31528066292174_0_square_3.png\n"
     ]
    },
    {
     "name": "stdout",
     "output_type": "stream",
     "text": [
      "./cumulative_drawings/cdm_run_v31528066292174_age2/0_square/cdm_run_v31528066292174_0_square_4.png\n",
      "./cumulative_drawings/cdm_run_v31528066292174_age2/0_square/cdm_run_v31528066292174_0_square_5.png\n",
      "Oops, something went wrong! Here is the error:\n",
      "'codes' must be a 1D list or array with the same length of 'vertices'\n",
      "Great! Number of drawings made by this person: 4\n",
      "./cumulative_drawings/cdm_run_v31528066515472_age2/0_square/cdm_run_v31528066515472_0_square_0.png\n",
      "./cumulative_drawings/cdm_run_v31528066515472_age2/0_square/cdm_run_v31528066515472_0_square_1.png\n",
      "./cumulative_drawings/cdm_run_v31528066515472_age2/1_shape/cdm_run_v31528066515472_1_shape_0.png\n",
      "./cumulative_drawings/cdm_run_v31528066515472_age2/2_this circle/cdm_run_v31528066515472_2_this circle_0.png\n",
      "./cumulative_drawings/cdm_run_v31528066515472_age2/2_this circle/cdm_run_v31528066515472_2_this circle_1.png\n",
      "./cumulative_drawings/cdm_run_v31528066515472_age2/2_this circle/cdm_run_v31528066515472_2_this circle_2.png\n",
      "./cumulative_drawings/cdm_run_v31528066515472_age2/2_this circle/cdm_run_v31528066515472_2_this circle_3.png\n",
      "./cumulative_drawings/cdm_run_v31528066515472_age2/2_this circle/cdm_run_v31528066515472_2_this circle_4.png\n",
      "./cumulative_drawings/cdm_run_v31528066515472_age2/2_this circle/cdm_run_v31528066515472_2_this circle_5.png\n",
      "./cumulative_drawings/cdm_run_v31528066515472_age2/2_this circle/cdm_run_v31528066515472_2_this circle_6.png\n",
      "./cumulative_drawings/cdm_run_v31528066515472_age2/2_this circle/cdm_run_v31528066515472_2_this circle_7.png\n",
      "Oops, something went wrong! Here is the error:\n",
      "'codes' must be a 1D list or array with the same length of 'vertices'\n",
      "Great! Number of drawings made by this person: 3\n",
      "./cumulative_drawings/cdm_run_v31528066858041_adult/0_square/cdm_run_v31528066858041_0_square_0.png\n",
      "./cumulative_drawings/cdm_run_v31528066858041_adult/1_shape/cdm_run_v31528066858041_1_shape_0.png\n",
      "Oops, something went wrong! Here is the error:\n",
      "\n",
      "Great! Number of drawings made by this person: 12\n",
      "./cumulative_drawings/cdm_run_v31528066914558_age5/0_square/cdm_run_v31528066914558_0_square_0.png\n",
      "./cumulative_drawings/cdm_run_v31528066914558_age5/1_shape/cdm_run_v31528066914558_1_shape_0.png\n",
      "./cumulative_drawings/cdm_run_v31528066914558_age5/2_this circle/cdm_run_v31528066914558_2_this circle_0.png\n",
      "Great! Number of drawings made by this person: 4\n",
      "./cumulative_drawings/cdm_run_v31528067399170_adult/0_square/cdm_run_v31528067399170_0_square_0.png\n",
      "./cumulative_drawings/cdm_run_v31528067399170_adult/1_shape/cdm_run_v31528067399170_1_shape_0.png\n",
      "./cumulative_drawings/cdm_run_v31528067399170_adult/1_shape/cdm_run_v31528067399170_1_shape_1.png\n",
      "./cumulative_drawings/cdm_run_v31528067399170_adult/2_this circle/cdm_run_v31528067399170_2_this circle_0.png\n",
      "./cumulative_drawings/cdm_run_v31528067399170_adult/2_this circle/cdm_run_v31528067399170_2_this circle_1.png\n",
      "./cumulative_drawings/cdm_run_v31528067399170_adult/2_this circle/cdm_run_v31528067399170_2_this circle_2.png\n",
      "./cumulative_drawings/cdm_run_v31528067399170_adult/2_this circle/cdm_run_v31528067399170_2_this circle_3.png\n",
      "./cumulative_drawings/cdm_run_v31528067399170_adult/2_this circle/cdm_run_v31528067399170_2_this circle_4.png\n",
      "./cumulative_drawings/cdm_run_v31528067399170_adult/2_this circle/cdm_run_v31528067399170_2_this circle_5.png\n",
      "./cumulative_drawings/cdm_run_v31528067399170_adult/2_this circle/cdm_run_v31528067399170_2_this circle_6.png\n",
      "./cumulative_drawings/cdm_run_v31528067399170_adult/2_this circle/cdm_run_v31528067399170_2_this circle_7.png\n",
      "./cumulative_drawings/cdm_run_v31528067399170_adult/2_this circle/cdm_run_v31528067399170_2_this circle_8.png\n",
      "./cumulative_drawings/cdm_run_v31528067399170_adult/2_this circle/cdm_run_v31528067399170_2_this circle_9.png\n",
      "./cumulative_drawings/cdm_run_v31528067399170_adult/2_this circle/cdm_run_v31528067399170_2_this circle_10.png\n",
      "./cumulative_drawings/cdm_run_v31528067399170_adult/2_this circle/cdm_run_v31528067399170_2_this circle_11.png\n",
      "./cumulative_drawings/cdm_run_v31528067399170_adult/2_this circle/cdm_run_v31528067399170_2_this circle_12.png\n",
      "./cumulative_drawings/cdm_run_v31528067399170_adult/2_this circle/cdm_run_v31528067399170_2_this circle_13.png\n",
      "./cumulative_drawings/cdm_run_v31528067399170_adult/2_this circle/cdm_run_v31528067399170_2_this circle_14.png\n",
      "./cumulative_drawings/cdm_run_v31528067399170_adult/2_this circle/cdm_run_v31528067399170_2_this circle_15.png\n",
      "./cumulative_drawings/cdm_run_v31528067399170_adult/2_this circle/cdm_run_v31528067399170_2_this circle_16.png\n",
      "./cumulative_drawings/cdm_run_v31528067399170_adult/2_this circle/cdm_run_v31528067399170_2_this circle_17.png\n",
      "./cumulative_drawings/cdm_run_v31528067399170_adult/2_this circle/cdm_run_v31528067399170_2_this circle_18.png\n",
      "./cumulative_drawings/cdm_run_v31528067399170_adult/2_this circle/cdm_run_v31528067399170_2_this circle_19.png\n",
      "./cumulative_drawings/cdm_run_v31528067399170_adult/2_this circle/cdm_run_v31528067399170_2_this circle_20.png\n",
      "./cumulative_drawings/cdm_run_v31528067399170_adult/2_this circle/cdm_run_v31528067399170_2_this circle_21.png\n",
      "./cumulative_drawings/cdm_run_v31528067399170_adult/2_this circle/cdm_run_v31528067399170_2_this circle_22.png\n",
      "./cumulative_drawings/cdm_run_v31528067399170_adult/2_this circle/cdm_run_v31528067399170_2_this circle_23.png\n",
      "./cumulative_drawings/cdm_run_v31528067399170_adult/2_this circle/cdm_run_v31528067399170_2_this circle_24.png\n",
      "./cumulative_drawings/cdm_run_v31528067399170_adult/2_this circle/cdm_run_v31528067399170_2_this circle_25.png\n",
      "./cumulative_drawings/cdm_run_v31528067399170_adult/2_this circle/cdm_run_v31528067399170_2_this circle_26.png\n",
      "./cumulative_drawings/cdm_run_v31528067399170_adult/2_this circle/cdm_run_v31528067399170_2_this circle_27.png\n",
      "./cumulative_drawings/cdm_run_v31528067399170_adult/2_this circle/cdm_run_v31528067399170_2_this circle_28.png\n",
      "./cumulative_drawings/cdm_run_v31528067399170_adult/2_this circle/cdm_run_v31528067399170_2_this circle_29.png\n",
      "Oops, something went wrong! Here is the error:\n",
      "'codes' must be a 1D list or array with the same length of 'vertices'\n",
      "Great! Number of drawings made by this person: 12\n",
      "./cumulative_drawings/cdm_run_v31528067999106_age5/0_square/cdm_run_v31528067999106_0_square_0.png\n",
      "./cumulative_drawings/cdm_run_v31528067999106_age5/1_shape/cdm_run_v31528067999106_1_shape_0.png\n",
      "./cumulative_drawings/cdm_run_v31528067999106_age5/2_this circle/cdm_run_v31528067999106_2_this circle_0.png\n",
      "Great! Number of drawings made by this person: 4\n",
      "./cumulative_drawings/cdm_run_v31528068300688_age2/0_square/cdm_run_v31528068300688_0_square_0.png\n",
      "./cumulative_drawings/cdm_run_v31528068300688_age2/1_shape/cdm_run_v31528068300688_1_shape_0.png\n",
      "./cumulative_drawings/cdm_run_v31528068300688_age2/1_shape/cdm_run_v31528068300688_1_shape_1.png\n",
      "./cumulative_drawings/cdm_run_v31528068300688_age2/1_shape/cdm_run_v31528068300688_1_shape_2.png\n",
      "./cumulative_drawings/cdm_run_v31528068300688_age2/1_shape/cdm_run_v31528068300688_1_shape_3.png\n",
      "Oops, something went wrong! Here is the error:\n",
      "'codes' must be a 1D list or array with the same length of 'vertices'\n",
      "Great! Number of drawings made by this person: 6\n",
      "./cumulative_drawings/cdm_run_v31528068401956_age5/0_square/cdm_run_v31528068401956_0_square_0.png\n",
      "./cumulative_drawings/cdm_run_v31528068401956_age5/1_shape/cdm_run_v31528068401956_1_shape_0.png\n",
      "./cumulative_drawings/cdm_run_v31528068401956_age5/1_shape/cdm_run_v31528068401956_1_shape_1.png\n",
      "./cumulative_drawings/cdm_run_v31528068401956_age5/1_shape/cdm_run_v31528068401956_1_shape_2.png\n",
      "./cumulative_drawings/cdm_run_v31528068401956_age5/1_shape/cdm_run_v31528068401956_1_shape_3.png\n",
      "./cumulative_drawings/cdm_run_v31528068401956_age5/1_shape/cdm_run_v31528068401956_1_shape_4.png\n",
      "Oops, something went wrong! Here is the error:\n",
      "'codes' must be a 1D list or array with the same length of 'vertices'\n",
      "Great! Number of drawings made by this person: 4\n",
      "./cumulative_drawings/cdm_run_v31528069199113_age7/0_square/cdm_run_v31528069199113_0_square_0.png\n",
      "./cumulative_drawings/cdm_run_v31528069199113_age7/1_shape/cdm_run_v31528069199113_1_shape_0.png\n",
      "./cumulative_drawings/cdm_run_v31528069199113_age7/1_shape/cdm_run_v31528069199113_1_shape_1.png\n",
      "./cumulative_drawings/cdm_run_v31528069199113_age7/2_this circle/cdm_run_v31528069199113_2_this circle_0.png\n"
     ]
    },
    {
     "name": "stdout",
     "output_type": "stream",
     "text": [
      "Great! Number of drawings made by this person: 10\n",
      "./cumulative_drawings/cdm_run_v31528135799225_age4/0_square/cdm_run_v31528135799225_0_square_0.png\n",
      "./cumulative_drawings/cdm_run_v31528135799225_age4/0_square/cdm_run_v31528135799225_0_square_1.png\n",
      "./cumulative_drawings/cdm_run_v31528135799225_age4/0_square/cdm_run_v31528135799225_0_square_2.png\n",
      "./cumulative_drawings/cdm_run_v31528135799225_age4/1_shape/cdm_run_v31528135799225_1_shape_0.png\n",
      "./cumulative_drawings/cdm_run_v31528135799225_age4/2_this circle/cdm_run_v31528135799225_2_this circle_0.png\n",
      "./cumulative_drawings/cdm_run_v31528135799225_age4/2_this circle/cdm_run_v31528135799225_2_this circle_1.png\n",
      "./cumulative_drawings/cdm_run_v31528135799225_age4/2_this circle/cdm_run_v31528135799225_2_this circle_2.png\n",
      "./cumulative_drawings/cdm_run_v31528135799225_age4/2_this circle/cdm_run_v31528135799225_2_this circle_3.png\n",
      "./cumulative_drawings/cdm_run_v31528135799225_age4/2_this circle/cdm_run_v31528135799225_2_this circle_4.png\n",
      "Great! Number of drawings made by this person: 11\n",
      "./cumulative_drawings/cdm_run_v31528136180481_age5/0_square/cdm_run_v31528136180481_0_square_0.png\n",
      "./cumulative_drawings/cdm_run_v31528136180481_age5/1_shape/cdm_run_v31528136180481_1_shape_0.png\n",
      "./cumulative_drawings/cdm_run_v31528136180481_age5/1_shape/cdm_run_v31528136180481_1_shape_1.png\n",
      "./cumulative_drawings/cdm_run_v31528136180481_age5/2_this circle/cdm_run_v31528136180481_2_this circle_0.png\n",
      "Great! Number of drawings made by this person: 6\n",
      "./cumulative_drawings/cdm_run_v31528136399273_age5/0_square/cdm_run_v31528136399273_0_square_0.png\n",
      "./cumulative_drawings/cdm_run_v31528136399273_age5/1_shape/cdm_run_v31528136399273_1_shape_0.png\n",
      "./cumulative_drawings/cdm_run_v31528136399273_age5/2_this circle/cdm_run_v31528136399273_2_this circle_0.png\n",
      "Great! Number of drawings made by this person: 5\n",
      "./cumulative_drawings/cdm_run_v31528136881460_age5/0_square/cdm_run_v31528136881460_0_square_0.png\n",
      "./cumulative_drawings/cdm_run_v31528136881460_age5/1_shape/cdm_run_v31528136881460_1_shape_0.png\n",
      "./cumulative_drawings/cdm_run_v31528136881460_age5/2_this circle/cdm_run_v31528136881460_2_this circle_0.png\n",
      "Great! Number of drawings made by this person: 9\n",
      "./cumulative_drawings/cdm_run_v31528136999209_age6/0_square/cdm_run_v31528136999209_0_square_0.png\n",
      "./cumulative_drawings/cdm_run_v31528136999209_age6/1_shape/cdm_run_v31528136999209_1_shape_0.png\n",
      "./cumulative_drawings/cdm_run_v31528136999209_age6/2_this circle/cdm_run_v31528136999209_2_this circle_0.png\n",
      "Great! Number of drawings made by this person: 12\n",
      "./cumulative_drawings/cdm_run_v31528137160060_age10/0_square/cdm_run_v31528137160060_0_square_0.png\n",
      "./cumulative_drawings/cdm_run_v31528137160060_age10/1_shape/cdm_run_v31528137160060_1_shape_0.png\n",
      "./cumulative_drawings/cdm_run_v31528137160060_age10/2_this circle/cdm_run_v31528137160060_2_this circle_0.png\n",
      "Oops, something went wrong! Here is the error:\n",
      "'codes' must be a 1D list or array with the same length of 'vertices'\n",
      "Great! Number of drawings made by this person: 4\n",
      "./cumulative_drawings/cdm_run_v31528137433578_age3/0_square/cdm_run_v31528137433578_0_square_0.png\n",
      "./cumulative_drawings/cdm_run_v31528137433578_age3/1_shape/cdm_run_v31528137433578_1_shape_0.png\n",
      "./cumulative_drawings/cdm_run_v31528137433578_age3/1_shape/cdm_run_v31528137433578_1_shape_1.png\n",
      "./cumulative_drawings/cdm_run_v31528137433578_age3/1_shape/cdm_run_v31528137433578_1_shape_2.png\n",
      "./cumulative_drawings/cdm_run_v31528137433578_age3/1_shape/cdm_run_v31528137433578_1_shape_3.png\n",
      "./cumulative_drawings/cdm_run_v31528137433578_age3/1_shape/cdm_run_v31528137433578_1_shape_4.png\n",
      "./cumulative_drawings/cdm_run_v31528137433578_age3/2_this circle/cdm_run_v31528137433578_2_this circle_0.png\n",
      "Great! Number of drawings made by this person: 12\n",
      "./cumulative_drawings/cdm_run_v31528137599244_age2/0_square/cdm_run_v31528137599244_0_square_0.png\n",
      "./cumulative_drawings/cdm_run_v31528137599244_age2/1_shape/cdm_run_v31528137599244_1_shape_0.png\n",
      "Oops, something went wrong! Here is the error:\n",
      "'codes' must be a 1D list or array with the same length of 'vertices'\n",
      "Great! Number of drawings made by this person: 5\n",
      "Oops, something went wrong! Here is the error:\n",
      "\n",
      "Great! Number of drawings made by this person: 6\n",
      "./cumulative_drawings/cdm_run_v31528139252267_age3/0_square/cdm_run_v31528139252267_0_square_0.png\n",
      "./cumulative_drawings/cdm_run_v31528139252267_age3/0_square/cdm_run_v31528139252267_0_square_1.png\n",
      "./cumulative_drawings/cdm_run_v31528139252267_age3/0_square/cdm_run_v31528139252267_0_square_2.png\n",
      "./cumulative_drawings/cdm_run_v31528139252267_age3/0_square/cdm_run_v31528139252267_0_square_3.png\n",
      "./cumulative_drawings/cdm_run_v31528139252267_age3/1_shape/cdm_run_v31528139252267_1_shape_0.png\n",
      "./cumulative_drawings/cdm_run_v31528139252267_age3/1_shape/cdm_run_v31528139252267_1_shape_1.png\n",
      "./cumulative_drawings/cdm_run_v31528139252267_age3/1_shape/cdm_run_v31528139252267_1_shape_2.png\n",
      "./cumulative_drawings/cdm_run_v31528139252267_age3/1_shape/cdm_run_v31528139252267_1_shape_3.png\n",
      "Oops, something went wrong! Here is the error:\n",
      "'codes' must be a 1D list or array with the same length of 'vertices'\n",
      "Great! Number of drawings made by this person: 8\n",
      "./cumulative_drawings/cdm_run_v31528140599196_age3/0_square/cdm_run_v31528140599196_0_square_0.png\n",
      "./cumulative_drawings/cdm_run_v31528140599196_age3/1_shape/cdm_run_v31528140599196_1_shape_0.png\n",
      "./cumulative_drawings/cdm_run_v31528140599196_age3/1_shape/cdm_run_v31528140599196_1_shape_1.png\n",
      "./cumulative_drawings/cdm_run_v31528140599196_age3/1_shape/cdm_run_v31528140599196_1_shape_2.png\n",
      "./cumulative_drawings/cdm_run_v31528140599196_age3/1_shape/cdm_run_v31528140599196_1_shape_3.png\n",
      "./cumulative_drawings/cdm_run_v31528140599196_age3/1_shape/cdm_run_v31528140599196_1_shape_4.png\n",
      "./cumulative_drawings/cdm_run_v31528140599196_age3/1_shape/cdm_run_v31528140599196_1_shape_5.png\n",
      "./cumulative_drawings/cdm_run_v31528140599196_age3/1_shape/cdm_run_v31528140599196_1_shape_6.png\n",
      "./cumulative_drawings/cdm_run_v31528140599196_age3/1_shape/cdm_run_v31528140599196_1_shape_7.png\n",
      "./cumulative_drawings/cdm_run_v31528140599196_age3/1_shape/cdm_run_v31528140599196_1_shape_8.png\n",
      "./cumulative_drawings/cdm_run_v31528140599196_age3/1_shape/cdm_run_v31528140599196_1_shape_9.png\n",
      "./cumulative_drawings/cdm_run_v31528140599196_age3/1_shape/cdm_run_v31528140599196_1_shape_10.png\n",
      "./cumulative_drawings/cdm_run_v31528140599196_age3/1_shape/cdm_run_v31528140599196_1_shape_11.png\n",
      "./cumulative_drawings/cdm_run_v31528140599196_age3/1_shape/cdm_run_v31528140599196_1_shape_12.png\n",
      "./cumulative_drawings/cdm_run_v31528140599196_age3/1_shape/cdm_run_v31528140599196_1_shape_13.png\n",
      "./cumulative_drawings/cdm_run_v31528140599196_age3/1_shape/cdm_run_v31528140599196_1_shape_14.png\n",
      "./cumulative_drawings/cdm_run_v31528140599196_age3/1_shape/cdm_run_v31528140599196_1_shape_15.png\n",
      "Oops, something went wrong! Here is the error:\n",
      "'codes' must be a 1D list or array with the same length of 'vertices'\n",
      "Great! Number of drawings made by this person: 3\n",
      "./cumulative_drawings/cdm_run_v31528142399205_age5/0_square/cdm_run_v31528142399205_0_square_0.png\n",
      "Oops, something went wrong! Here is the error:\n",
      "\n",
      "Great! Number of drawings made by this person: 3\n",
      "./cumulative_drawings/cdm_run_v31528147804559_age3/0_square/cdm_run_v31528147804559_0_square_0.png\n",
      "./cumulative_drawings/cdm_run_v31528147804559_age3/0_square/cdm_run_v31528147804559_0_square_1.png\n",
      "./cumulative_drawings/cdm_run_v31528147804559_age3/0_square/cdm_run_v31528147804559_0_square_2.png\n",
      "./cumulative_drawings/cdm_run_v31528147804559_age3/0_square/cdm_run_v31528147804559_0_square_3.png\n",
      "Oops, something went wrong! Here is the error:\n",
      "'codes' must be a 1D list or array with the same length of 'vertices'\n",
      "Great! Number of drawings made by this person: 6\n",
      "./cumulative_drawings/cdm_run_v31528148156599_age3/0_square/cdm_run_v31528148156599_0_square_0.png\n",
      "./cumulative_drawings/cdm_run_v31528148156599_age3/0_square/cdm_run_v31528148156599_0_square_1.png\n",
      "./cumulative_drawings/cdm_run_v31528148156599_age3/0_square/cdm_run_v31528148156599_0_square_2.png\n",
      "./cumulative_drawings/cdm_run_v31528148156599_age3/0_square/cdm_run_v31528148156599_0_square_3.png\n",
      "./cumulative_drawings/cdm_run_v31528148156599_age3/1_shape/cdm_run_v31528148156599_1_shape_0.png\n",
      "./cumulative_drawings/cdm_run_v31528148156599_age3/1_shape/cdm_run_v31528148156599_1_shape_1.png\n",
      "./cumulative_drawings/cdm_run_v31528148156599_age3/1_shape/cdm_run_v31528148156599_1_shape_2.png\n",
      "./cumulative_drawings/cdm_run_v31528148156599_age3/1_shape/cdm_run_v31528148156599_1_shape_3.png\n"
     ]
    },
    {
     "name": "stdout",
     "output_type": "stream",
     "text": [
      "./cumulative_drawings/cdm_run_v31528148156599_age3/1_shape/cdm_run_v31528148156599_1_shape_4.png\n",
      "./cumulative_drawings/cdm_run_v31528148156599_age3/1_shape/cdm_run_v31528148156599_1_shape_5.png\n",
      "./cumulative_drawings/cdm_run_v31528148156599_age3/1_shape/cdm_run_v31528148156599_1_shape_6.png\n",
      "./cumulative_drawings/cdm_run_v31528148156599_age3/1_shape/cdm_run_v31528148156599_1_shape_7.png\n",
      "Oops, something went wrong! Here is the error:\n",
      "'codes' must be a 1D list or array with the same length of 'vertices'\n",
      "Great! Number of drawings made by this person: 12\n",
      "./cumulative_drawings/cdm_run_v31528152599102_age5/0_square/cdm_run_v31528152599102_0_square_0.png\n",
      "./cumulative_drawings/cdm_run_v31528152599102_age5/1_shape/cdm_run_v31528152599102_1_shape_0.png\n",
      "./cumulative_drawings/cdm_run_v31528152599102_age5/2_this circle/cdm_run_v31528152599102_2_this circle_0.png\n",
      "Great! Number of drawings made by this person: 8\n",
      "./cumulative_drawings/cdm_run_v31528154999081_age4/0_square/cdm_run_v31528154999081_0_square_0.png\n",
      "./cumulative_drawings/cdm_run_v31528154999081_age4/0_square/cdm_run_v31528154999081_0_square_1.png\n",
      "./cumulative_drawings/cdm_run_v31528154999081_age4/0_square/cdm_run_v31528154999081_0_square_2.png\n",
      "Oops, something went wrong! Here is the error:\n",
      "'codes' must be a 1D list or array with the same length of 'vertices'\n",
      "Great! Number of drawings made by this person: 8\n",
      "./cumulative_drawings/cdm_run_v31528222799238_age3/0_square/cdm_run_v31528222799238_0_square_0.png\n",
      "./cumulative_drawings/cdm_run_v31528222799238_age3/0_square/cdm_run_v31528222799238_0_square_1.png\n",
      "./cumulative_drawings/cdm_run_v31528222799238_age3/1_shape/cdm_run_v31528222799238_1_shape_0.png\n",
      "./cumulative_drawings/cdm_run_v31528222799238_age3/1_shape/cdm_run_v31528222799238_1_shape_1.png\n",
      "Oops, something went wrong! Here is the error:\n",
      "'codes' must be a 1D list or array with the same length of 'vertices'\n",
      "Great! Number of drawings made by this person: 5\n",
      "./cumulative_drawings/cdm_run_v31528223120387_age3/0_square/cdm_run_v31528223120387_0_square_0.png\n",
      "./cumulative_drawings/cdm_run_v31528223120387_age3/0_square/cdm_run_v31528223120387_0_square_1.png\n",
      "./cumulative_drawings/cdm_run_v31528223120387_age3/0_square/cdm_run_v31528223120387_0_square_2.png\n",
      "./cumulative_drawings/cdm_run_v31528223120387_age3/0_square/cdm_run_v31528223120387_0_square_3.png\n",
      "./cumulative_drawings/cdm_run_v31528223120387_age3/0_square/cdm_run_v31528223120387_0_square_4.png\n",
      "./cumulative_drawings/cdm_run_v31528223120387_age3/0_square/cdm_run_v31528223120387_0_square_5.png\n",
      "Oops, something went wrong! Here is the error:\n",
      "'codes' must be a 1D list or array with the same length of 'vertices'\n",
      "Great! Number of drawings made by this person: 3\n",
      "./cumulative_drawings/cdm_run_v31528223248695_age3/0_square/cdm_run_v31528223248695_0_square_0.png\n",
      "./cumulative_drawings/cdm_run_v31528223248695_age3/1_shape/cdm_run_v31528223248695_1_shape_0.png\n",
      "./cumulative_drawings/cdm_run_v31528223248695_age3/1_shape/cdm_run_v31528223248695_1_shape_1.png\n",
      "./cumulative_drawings/cdm_run_v31528223248695_age3/1_shape/cdm_run_v31528223248695_1_shape_2.png\n",
      "./cumulative_drawings/cdm_run_v31528223248695_age3/1_shape/cdm_run_v31528223248695_1_shape_3.png\n",
      "Oops, something went wrong! Here is the error:\n",
      "'codes' must be a 1D list or array with the same length of 'vertices'\n",
      "Great! Number of drawings made by this person: 3\n",
      "./cumulative_drawings/cdm_run_v31528223399222_age3/0_square/cdm_run_v31528223399222_0_square_0.png\n",
      "Oops, something went wrong! Here is the error:\n",
      "\n",
      "Great! Number of drawings made by this person: 6\n",
      "Oops, something went wrong! Here is the error:\n",
      "\n",
      "Great! Number of drawings made by this person: 12\n",
      "./cumulative_drawings/cdm_run_v31528224184593_age5/0_square/cdm_run_v31528224184593_0_square_0.png\n",
      "./cumulative_drawings/cdm_run_v31528224184593_age5/0_square/cdm_run_v31528224184593_0_square_1.png\n",
      "./cumulative_drawings/cdm_run_v31528224184593_age5/1_shape/cdm_run_v31528224184593_1_shape_0.png\n",
      "./cumulative_drawings/cdm_run_v31528224184593_age5/1_shape/cdm_run_v31528224184593_1_shape_1.png\n",
      "./cumulative_drawings/cdm_run_v31528224184593_age5/2_this circle/cdm_run_v31528224184593_2_this circle_0.png\n",
      "Great! Number of drawings made by this person: 4\n",
      "./cumulative_drawings/cdm_run_v31528224495202_age5/0_square/cdm_run_v31528224495202_0_square_0.png\n",
      "./cumulative_drawings/cdm_run_v31528224495202_age5/1_shape/cdm_run_v31528224495202_1_shape_0.png\n",
      "./cumulative_drawings/cdm_run_v31528224495202_age5/2_this circle/cdm_run_v31528224495202_2_this circle_0.png\n",
      "Great! Number of drawings made by this person: 12\n",
      "./cumulative_drawings/cdm_run_v31528224599151_age5/0_square/cdm_run_v31528224599151_0_square_0.png\n",
      "./cumulative_drawings/cdm_run_v31528224599151_age5/1_shape/cdm_run_v31528224599151_1_shape_0.png\n",
      "./cumulative_drawings/cdm_run_v31528224599151_age5/1_shape/cdm_run_v31528224599151_1_shape_1.png\n",
      "./cumulative_drawings/cdm_run_v31528224599151_age5/1_shape/cdm_run_v31528224599151_1_shape_2.png\n",
      "./cumulative_drawings/cdm_run_v31528224599151_age5/2_this circle/cdm_run_v31528224599151_2_this circle_0.png\n",
      "Great! Number of drawings made by this person: 12\n",
      "./cumulative_drawings/cdm_run_v31528225564149_age3/0_square/cdm_run_v31528225564149_0_square_0.png\n",
      "./cumulative_drawings/cdm_run_v31528225564149_age3/0_square/cdm_run_v31528225564149_0_square_1.png\n",
      "./cumulative_drawings/cdm_run_v31528225564149_age3/0_square/cdm_run_v31528225564149_0_square_2.png\n",
      "./cumulative_drawings/cdm_run_v31528225564149_age3/0_square/cdm_run_v31528225564149_0_square_3.png\n",
      "./cumulative_drawings/cdm_run_v31528225564149_age3/1_shape/cdm_run_v31528225564149_1_shape_0.png\n",
      "./cumulative_drawings/cdm_run_v31528225564149_age3/1_shape/cdm_run_v31528225564149_1_shape_1.png\n",
      "./cumulative_drawings/cdm_run_v31528225564149_age3/1_shape/cdm_run_v31528225564149_1_shape_2.png\n",
      "./cumulative_drawings/cdm_run_v31528225564149_age3/1_shape/cdm_run_v31528225564149_1_shape_3.png\n",
      "./cumulative_drawings/cdm_run_v31528225564149_age3/2_this circle/cdm_run_v31528225564149_2_this circle_0.png\n",
      "./cumulative_drawings/cdm_run_v31528225564149_age3/2_this circle/cdm_run_v31528225564149_2_this circle_1.png\n",
      "./cumulative_drawings/cdm_run_v31528225564149_age3/2_this circle/cdm_run_v31528225564149_2_this circle_2.png\n",
      "./cumulative_drawings/cdm_run_v31528225564149_age3/2_this circle/cdm_run_v31528225564149_2_this circle_3.png\n",
      "Oops, something went wrong! Here is the error:\n",
      "'codes' must be a 1D list or array with the same length of 'vertices'\n",
      "Great! Number of drawings made by this person: 5\n",
      "./cumulative_drawings/cdm_run_v31528225799192_age3/0_square/cdm_run_v31528225799192_0_square_0.png\n",
      "./cumulative_drawings/cdm_run_v31528225799192_age3/0_square/cdm_run_v31528225799192_0_square_1.png\n",
      "./cumulative_drawings/cdm_run_v31528225799192_age3/0_square/cdm_run_v31528225799192_0_square_2.png\n",
      "./cumulative_drawings/cdm_run_v31528225799192_age3/0_square/cdm_run_v31528225799192_0_square_3.png\n",
      "./cumulative_drawings/cdm_run_v31528225799192_age3/1_shape/cdm_run_v31528225799192_1_shape_0.png\n",
      "./cumulative_drawings/cdm_run_v31528225799192_age3/1_shape/cdm_run_v31528225799192_1_shape_1.png\n",
      "./cumulative_drawings/cdm_run_v31528225799192_age3/1_shape/cdm_run_v31528225799192_1_shape_2.png\n",
      "./cumulative_drawings/cdm_run_v31528225799192_age3/1_shape/cdm_run_v31528225799192_1_shape_3.png\n",
      "./cumulative_drawings/cdm_run_v31528225799192_age3/2_this circle/cdm_run_v31528225799192_2_this circle_0.png\n",
      "./cumulative_drawings/cdm_run_v31528225799192_age3/2_this circle/cdm_run_v31528225799192_2_this circle_1.png\n",
      "Great! Number of drawings made by this person: 3\n",
      "./cumulative_drawings/cdm_run_v31528225963222_age3/0_square/cdm_run_v31528225963222_0_square_0.png\n",
      "./cumulative_drawings/cdm_run_v31528225963222_age3/0_square/cdm_run_v31528225963222_0_square_1.png\n",
      "./cumulative_drawings/cdm_run_v31528225963222_age3/0_square/cdm_run_v31528225963222_0_square_2.png\n",
      "./cumulative_drawings/cdm_run_v31528225963222_age3/1_shape/cdm_run_v31528225963222_1_shape_0.png\n",
      "./cumulative_drawings/cdm_run_v31528225963222_age3/1_shape/cdm_run_v31528225963222_1_shape_1.png\n",
      "./cumulative_drawings/cdm_run_v31528225963222_age3/1_shape/cdm_run_v31528225963222_1_shape_2.png\n",
      "./cumulative_drawings/cdm_run_v31528225963222_age3/1_shape/cdm_run_v31528225963222_1_shape_3.png\n"
     ]
    },
    {
     "name": "stdout",
     "output_type": "stream",
     "text": [
      "Oops, something went wrong! Here is the error:\n",
      "\n",
      "Great! Number of drawings made by this person: 4\n",
      "./cumulative_drawings/cdm_run_v31528226117078_age3/0_square/cdm_run_v31528226117078_0_square_0.png\n",
      "./cumulative_drawings/cdm_run_v31528226117078_age3/1_shape/cdm_run_v31528226117078_1_shape_0.png\n",
      "./cumulative_drawings/cdm_run_v31528226117078_age3/1_shape/cdm_run_v31528226117078_1_shape_1.png\n",
      "./cumulative_drawings/cdm_run_v31528226117078_age3/1_shape/cdm_run_v31528226117078_1_shape_2.png\n",
      "./cumulative_drawings/cdm_run_v31528226117078_age3/1_shape/cdm_run_v31528226117078_1_shape_3.png\n",
      "./cumulative_drawings/cdm_run_v31528226117078_age3/1_shape/cdm_run_v31528226117078_1_shape_4.png\n",
      "./cumulative_drawings/cdm_run_v31528226117078_age3/1_shape/cdm_run_v31528226117078_1_shape_5.png\n",
      "./cumulative_drawings/cdm_run_v31528226117078_age3/2_this circle/cdm_run_v31528226117078_2_this circle_0.png\n",
      "./cumulative_drawings/cdm_run_v31528226117078_age3/2_this circle/cdm_run_v31528226117078_2_this circle_1.png\n",
      "./cumulative_drawings/cdm_run_v31528226117078_age3/2_this circle/cdm_run_v31528226117078_2_this circle_2.png\n",
      "./cumulative_drawings/cdm_run_v31528226117078_age3/2_this circle/cdm_run_v31528226117078_2_this circle_3.png\n",
      "Great! Number of drawings made by this person: 12\n",
      "./cumulative_drawings/cdm_run_v31528226399223_adult/0_square/cdm_run_v31528226399223_0_square_0.png\n",
      "./cumulative_drawings/cdm_run_v31528226399223_adult/1_shape/cdm_run_v31528226399223_1_shape_0.png\n",
      "./cumulative_drawings/cdm_run_v31528226399223_adult/2_this circle/cdm_run_v31528226399223_2_this circle_0.png\n",
      "Great! Number of drawings made by this person: 12\n",
      "./cumulative_drawings/cdm_run_v31528227893962_age3/0_square/cdm_run_v31528227893962_0_square_0.png\n",
      "./cumulative_drawings/cdm_run_v31528227893962_age3/1_shape/cdm_run_v31528227893962_1_shape_0.png\n",
      "./cumulative_drawings/cdm_run_v31528227893962_age3/1_shape/cdm_run_v31528227893962_1_shape_1.png\n",
      "./cumulative_drawings/cdm_run_v31528227893962_age3/2_this circle/cdm_run_v31528227893962_2_this circle_0.png\n",
      "Great! Number of drawings made by this person: 5\n",
      "./cumulative_drawings/cdm_run_v31528228199254_age10/0_square/cdm_run_v31528228199254_0_square_0.png\n",
      "./cumulative_drawings/cdm_run_v31528228199254_age10/1_shape/cdm_run_v31528228199254_1_shape_0.png\n",
      "./cumulative_drawings/cdm_run_v31528228199254_age10/1_shape/cdm_run_v31528228199254_1_shape_1.png\n",
      "./cumulative_drawings/cdm_run_v31528228199254_age10/1_shape/cdm_run_v31528228199254_1_shape_2.png\n",
      "./cumulative_drawings/cdm_run_v31528228199254_age10/1_shape/cdm_run_v31528228199254_1_shape_3.png\n",
      "./cumulative_drawings/cdm_run_v31528228199254_age10/1_shape/cdm_run_v31528228199254_1_shape_4.png\n",
      "./cumulative_drawings/cdm_run_v31528228199254_age10/1_shape/cdm_run_v31528228199254_1_shape_5.png\n",
      "./cumulative_drawings/cdm_run_v31528228199254_age10/2_this circle/cdm_run_v31528228199254_2_this circle_0.png\n",
      "Great! Number of drawings made by this person: 10\n",
      "./cumulative_drawings/cdm_run_v31528229399210_age6/0_square/cdm_run_v31528229399210_0_square_0.png\n",
      "./cumulative_drawings/cdm_run_v31528229399210_age6/1_shape/cdm_run_v31528229399210_1_shape_0.png\n",
      "./cumulative_drawings/cdm_run_v31528229399210_age6/2_this circle/cdm_run_v31528229399210_2_this circle_0.png\n",
      "./cumulative_drawings/cdm_run_v31528229399210_age6/2_this circle/cdm_run_v31528229399210_2_this circle_1.png\n",
      "Great! Number of drawings made by this person: 6\n",
      "./cumulative_drawings/cdm_run_v31528229805777_adult/0_square/cdm_run_v31528229805777_0_square_0.png\n",
      "./cumulative_drawings/cdm_run_v31528229805777_adult/1_shape/cdm_run_v31528229805777_1_shape_0.png\n",
      "./cumulative_drawings/cdm_run_v31528229805777_adult/2_this circle/cdm_run_v31528229805777_2_this circle_0.png\n",
      "Great! Number of drawings made by this person: 3\n",
      "./cumulative_drawings/cdm_run_v31528229999189_age2/0_square/cdm_run_v31528229999189_0_square_0.png\n",
      "./cumulative_drawings/cdm_run_v31528229999189_age2/0_square/cdm_run_v31528229999189_0_square_1.png\n",
      "./cumulative_drawings/cdm_run_v31528229999189_age2/0_square/cdm_run_v31528229999189_0_square_2.png\n",
      "./cumulative_drawings/cdm_run_v31528229999189_age2/0_square/cdm_run_v31528229999189_0_square_3.png\n",
      "./cumulative_drawings/cdm_run_v31528229999189_age2/0_square/cdm_run_v31528229999189_0_square_4.png\n",
      "./cumulative_drawings/cdm_run_v31528229999189_age2/0_square/cdm_run_v31528229999189_0_square_5.png\n",
      "./cumulative_drawings/cdm_run_v31528229999189_age2/0_square/cdm_run_v31528229999189_0_square_6.png\n",
      "./cumulative_drawings/cdm_run_v31528229999189_age2/0_square/cdm_run_v31528229999189_0_square_7.png\n",
      "Oops, something went wrong! Here is the error:\n",
      "'codes' must be a 1D list or array with the same length of 'vertices'\n",
      "Great! Number of drawings made by this person: 12\n",
      "./cumulative_drawings/cdm_run_v31528232999187_age5/0_square/cdm_run_v31528232999187_0_square_0.png\n",
      "./cumulative_drawings/cdm_run_v31528232999187_age5/1_shape/cdm_run_v31528232999187_1_shape_0.png\n",
      "./cumulative_drawings/cdm_run_v31528232999187_age5/1_shape/cdm_run_v31528232999187_1_shape_1.png\n",
      "./cumulative_drawings/cdm_run_v31528232999187_age5/2_this circle/cdm_run_v31528232999187_2_this circle_0.png\n",
      "Great! Number of drawings made by this person: 11\n",
      "./cumulative_drawings/cdm_run_v31528233345287_age5/0_square/cdm_run_v31528233345287_0_square_0.png\n",
      "./cumulative_drawings/cdm_run_v31528233345287_age5/1_shape/cdm_run_v31528233345287_1_shape_0.png\n",
      "./cumulative_drawings/cdm_run_v31528233345287_age5/2_this circle/cdm_run_v31528233345287_2_this circle_0.png\n",
      "Great! Number of drawings made by this person: 3\n",
      "./cumulative_drawings/cdm_run_v31528234199167_age4/0_square/cdm_run_v31528234199167_0_square_0.png\n",
      "./cumulative_drawings/cdm_run_v31528234199167_age4/1_shape/cdm_run_v31528234199167_1_shape_0.png\n",
      "./cumulative_drawings/cdm_run_v31528234199167_age4/1_shape/cdm_run_v31528234199167_1_shape_1.png\n",
      "./cumulative_drawings/cdm_run_v31528234199167_age4/1_shape/cdm_run_v31528234199167_1_shape_2.png\n",
      "./cumulative_drawings/cdm_run_v31528234199167_age4/1_shape/cdm_run_v31528234199167_1_shape_3.png\n",
      "./cumulative_drawings/cdm_run_v31528234199167_age4/1_shape/cdm_run_v31528234199167_1_shape_4.png\n",
      "./cumulative_drawings/cdm_run_v31528234199167_age4/2_this circle/cdm_run_v31528234199167_2_this circle_0.png\n",
      "Great! Number of drawings made by this person: 7\n",
      "./cumulative_drawings/cdm_run_v31528234593237_age4/0_square/cdm_run_v31528234593237_0_square_0.png\n",
      "./cumulative_drawings/cdm_run_v31528234593237_age4/1_shape/cdm_run_v31528234593237_1_shape_0.png\n",
      "./cumulative_drawings/cdm_run_v31528234593237_age4/2_this circle/cdm_run_v31528234593237_2_this circle_0.png\n",
      "Great! Number of drawings made by this person: 5\n",
      "./cumulative_drawings/cdm_run_v31528238127782_age2/0_square/cdm_run_v31528238127782_0_square_0.png\n",
      "./cumulative_drawings/cdm_run_v31528238127782_age2/0_square/cdm_run_v31528238127782_0_square_1.png\n",
      "./cumulative_drawings/cdm_run_v31528238127782_age2/0_square/cdm_run_v31528238127782_0_square_2.png\n",
      "./cumulative_drawings/cdm_run_v31528238127782_age2/0_square/cdm_run_v31528238127782_0_square_3.png\n",
      "./cumulative_drawings/cdm_run_v31528238127782_age2/0_square/cdm_run_v31528238127782_0_square_4.png\n",
      "./cumulative_drawings/cdm_run_v31528238127782_age2/0_square/cdm_run_v31528238127782_0_square_5.png\n",
      "./cumulative_drawings/cdm_run_v31528238127782_age2/0_square/cdm_run_v31528238127782_0_square_6.png\n",
      "./cumulative_drawings/cdm_run_v31528238127782_age2/0_square/cdm_run_v31528238127782_0_square_7.png\n",
      "./cumulative_drawings/cdm_run_v31528238127782_age2/1_shape/cdm_run_v31528238127782_1_shape_0.png\n",
      "./cumulative_drawings/cdm_run_v31528238127782_age2/1_shape/cdm_run_v31528238127782_1_shape_1.png\n",
      "./cumulative_drawings/cdm_run_v31528238127782_age2/1_shape/cdm_run_v31528238127782_1_shape_2.png\n",
      "./cumulative_drawings/cdm_run_v31528238127782_age2/1_shape/cdm_run_v31528238127782_1_shape_3.png\n",
      "./cumulative_drawings/cdm_run_v31528238127782_age2/1_shape/cdm_run_v31528238127782_1_shape_4.png\n",
      "Oops, something went wrong! Here is the error:\n",
      "'codes' must be a 1D list or array with the same length of 'vertices'\n",
      "Great! Number of drawings made by this person: 10\n",
      "./cumulative_drawings/cdm_run_v31528238200865_age2/0_square/cdm_run_v31528238200865_0_square_0.png\n",
      "./cumulative_drawings/cdm_run_v31528238200865_age2/0_square/cdm_run_v31528238200865_0_square_1.png\n",
      "./cumulative_drawings/cdm_run_v31528238200865_age2/0_square/cdm_run_v31528238200865_0_square_2.png\n",
      "./cumulative_drawings/cdm_run_v31528238200865_age2/0_square/cdm_run_v31528238200865_0_square_3.png\n"
     ]
    },
    {
     "name": "stdout",
     "output_type": "stream",
     "text": [
      "./cumulative_drawings/cdm_run_v31528238200865_age2/0_square/cdm_run_v31528238200865_0_square_4.png\n",
      "./cumulative_drawings/cdm_run_v31528238200865_age2/1_shape/cdm_run_v31528238200865_1_shape_0.png\n",
      "./cumulative_drawings/cdm_run_v31528238200865_age2/1_shape/cdm_run_v31528238200865_1_shape_1.png\n",
      "./cumulative_drawings/cdm_run_v31528238200865_age2/1_shape/cdm_run_v31528238200865_1_shape_2.png\n",
      "./cumulative_drawings/cdm_run_v31528238200865_age2/1_shape/cdm_run_v31528238200865_1_shape_3.png\n",
      "./cumulative_drawings/cdm_run_v31528238200865_age2/1_shape/cdm_run_v31528238200865_1_shape_4.png\n",
      "./cumulative_drawings/cdm_run_v31528238200865_age2/1_shape/cdm_run_v31528238200865_1_shape_5.png\n",
      "./cumulative_drawings/cdm_run_v31528238200865_age2/1_shape/cdm_run_v31528238200865_1_shape_6.png\n",
      "./cumulative_drawings/cdm_run_v31528238200865_age2/1_shape/cdm_run_v31528238200865_1_shape_7.png\n",
      "./cumulative_drawings/cdm_run_v31528238200865_age2/1_shape/cdm_run_v31528238200865_1_shape_8.png\n",
      "./cumulative_drawings/cdm_run_v31528238200865_age2/1_shape/cdm_run_v31528238200865_1_shape_9.png\n",
      "./cumulative_drawings/cdm_run_v31528238200865_age2/1_shape/cdm_run_v31528238200865_1_shape_10.png\n",
      "./cumulative_drawings/cdm_run_v31528238200865_age2/2_this circle/cdm_run_v31528238200865_2_this circle_0.png\n",
      "Great! Number of drawings made by this person: 5\n",
      "./cumulative_drawings/cdm_run_v31528238432992_age2/0_square/cdm_run_v31528238432992_0_square_0.png\n",
      "./cumulative_drawings/cdm_run_v31528238432992_age2/0_square/cdm_run_v31528238432992_0_square_1.png\n",
      "./cumulative_drawings/cdm_run_v31528238432992_age2/0_square/cdm_run_v31528238432992_0_square_2.png\n",
      "./cumulative_drawings/cdm_run_v31528238432992_age2/0_square/cdm_run_v31528238432992_0_square_3.png\n",
      "./cumulative_drawings/cdm_run_v31528238432992_age2/0_square/cdm_run_v31528238432992_0_square_4.png\n",
      "./cumulative_drawings/cdm_run_v31528238432992_age2/0_square/cdm_run_v31528238432992_0_square_5.png\n",
      "Oops, something went wrong! Here is the error:\n",
      "'codes' must be a 1D list or array with the same length of 'vertices'\n",
      "Great! Number of drawings made by this person: 8\n",
      "./cumulative_drawings/cdm_run_v31528239723616_age2/0_square/cdm_run_v31528239723616_0_square_0.png\n",
      "./cumulative_drawings/cdm_run_v31528239723616_age2/1_shape/cdm_run_v31528239723616_1_shape_0.png\n",
      "./cumulative_drawings/cdm_run_v31528239723616_age2/1_shape/cdm_run_v31528239723616_1_shape_1.png\n",
      "./cumulative_drawings/cdm_run_v31528239723616_age2/1_shape/cdm_run_v31528239723616_1_shape_2.png\n",
      "./cumulative_drawings/cdm_run_v31528239723616_age2/2_this circle/cdm_run_v31528239723616_2_this circle_0.png\n",
      "Great! Number of drawings made by this person: 7\n",
      "./cumulative_drawings/cdm_run_v31528311599198_age3/0_square/cdm_run_v31528311599198_0_square_0.png\n",
      "./cumulative_drawings/cdm_run_v31528311599198_age3/0_square/cdm_run_v31528311599198_0_square_1.png\n",
      "./cumulative_drawings/cdm_run_v31528311599198_age3/0_square/cdm_run_v31528311599198_0_square_2.png\n",
      "./cumulative_drawings/cdm_run_v31528311599198_age3/0_square/cdm_run_v31528311599198_0_square_3.png\n",
      "./cumulative_drawings/cdm_run_v31528311599198_age3/1_shape/cdm_run_v31528311599198_1_shape_0.png\n",
      "./cumulative_drawings/cdm_run_v31528311599198_age3/1_shape/cdm_run_v31528311599198_1_shape_1.png\n",
      "./cumulative_drawings/cdm_run_v31528311599198_age3/1_shape/cdm_run_v31528311599198_1_shape_2.png\n",
      "./cumulative_drawings/cdm_run_v31528311599198_age3/1_shape/cdm_run_v31528311599198_1_shape_3.png\n",
      "./cumulative_drawings/cdm_run_v31528311599198_age3/1_shape/cdm_run_v31528311599198_1_shape_4.png\n",
      "./cumulative_drawings/cdm_run_v31528311599198_age3/1_shape/cdm_run_v31528311599198_1_shape_5.png\n",
      "./cumulative_drawings/cdm_run_v31528311599198_age3/1_shape/cdm_run_v31528311599198_1_shape_6.png\n",
      "./cumulative_drawings/cdm_run_v31528311599198_age3/1_shape/cdm_run_v31528311599198_1_shape_7.png\n",
      "./cumulative_drawings/cdm_run_v31528311599198_age3/1_shape/cdm_run_v31528311599198_1_shape_8.png\n",
      "Oops, something went wrong! Here is the error:\n",
      "'codes' must be a 1D list or array with the same length of 'vertices'\n",
      "Great! Number of drawings made by this person: 3\n",
      "Oops, something went wrong! Here is the error:\n",
      "\n",
      "Great! Number of drawings made by this person: 9\n",
      "./cumulative_drawings/cdm_run_v31528316999098_age4/0_square/cdm_run_v31528316999098_0_square_0.png\n",
      "./cumulative_drawings/cdm_run_v31528316999098_age4/0_square/cdm_run_v31528316999098_0_square_1.png\n",
      "Oops, something went wrong! Here is the error:\n",
      "'codes' must be a 1D list or array with the same length of 'vertices'\n",
      "Great! Number of drawings made by this person: 3\n",
      "./cumulative_drawings/cdm_run_v31528317511210_age4/0_square/cdm_run_v31528317511210_0_square_0.png\n",
      "./cumulative_drawings/cdm_run_v31528317511210_age4/1_shape/cdm_run_v31528317511210_1_shape_0.png\n",
      "./cumulative_drawings/cdm_run_v31528317511210_age4/1_shape/cdm_run_v31528317511210_1_shape_1.png\n",
      "./cumulative_drawings/cdm_run_v31528317511210_age4/1_shape/cdm_run_v31528317511210_1_shape_2.png\n",
      "./cumulative_drawings/cdm_run_v31528317511210_age4/1_shape/cdm_run_v31528317511210_1_shape_3.png\n",
      "Oops, something went wrong! Here is the error:\n",
      "'codes' must be a 1D list or array with the same length of 'vertices'\n",
      "Great! Number of drawings made by this person: 3\n",
      "./cumulative_drawings/cdm_run_v31528317599110_age2/0_square/cdm_run_v31528317599110_0_square_0.png\n",
      "./cumulative_drawings/cdm_run_v31528317599110_age2/0_square/cdm_run_v31528317599110_0_square_1.png\n",
      "./cumulative_drawings/cdm_run_v31528317599110_age2/0_square/cdm_run_v31528317599110_0_square_2.png\n",
      "./cumulative_drawings/cdm_run_v31528317599110_age2/0_square/cdm_run_v31528317599110_0_square_3.png\n",
      "Oops, something went wrong! Here is the error:\n",
      "'codes' must be a 1D list or array with the same length of 'vertices'\n",
      "Great! Number of drawings made by this person: 11\n",
      "Oops, something went wrong! Here is the error:\n",
      "\n",
      "Great! Number of drawings made by this person: 12\n",
      "./cumulative_drawings/cdm_run_v31528320073908_age6/0_square/cdm_run_v31528320073908_0_square_0.png\n",
      "./cumulative_drawings/cdm_run_v31528320073908_age6/1_shape/cdm_run_v31528320073908_1_shape_0.png\n",
      "./cumulative_drawings/cdm_run_v31528320073908_age6/2_this circle/cdm_run_v31528320073908_2_this circle_0.png\n",
      "Great! Number of drawings made by this person: 12\n",
      "./cumulative_drawings/cdm_run_v31528320279886_adult/0_square/cdm_run_v31528320279886_0_square_0.png\n",
      "./cumulative_drawings/cdm_run_v31528320279886_adult/1_shape/cdm_run_v31528320279886_1_shape_0.png\n",
      "./cumulative_drawings/cdm_run_v31528320279886_adult/2_this circle/cdm_run_v31528320279886_2_this circle_0.png\n",
      "Great! Number of drawings made by this person: 12\n",
      "./cumulative_drawings/cdm_run_v31528320599211_age3/0_square/cdm_run_v31528320599211_0_square_0.png\n",
      "./cumulative_drawings/cdm_run_v31528320599211_age3/0_square/cdm_run_v31528320599211_0_square_1.png\n",
      "./cumulative_drawings/cdm_run_v31528320599211_age3/0_square/cdm_run_v31528320599211_0_square_2.png\n",
      "./cumulative_drawings/cdm_run_v31528320599211_age3/0_square/cdm_run_v31528320599211_0_square_3.png\n",
      "./cumulative_drawings/cdm_run_v31528320599211_age3/0_square/cdm_run_v31528320599211_0_square_4.png\n",
      "./cumulative_drawings/cdm_run_v31528320599211_age3/0_square/cdm_run_v31528320599211_0_square_5.png\n",
      "./cumulative_drawings/cdm_run_v31528320599211_age3/0_square/cdm_run_v31528320599211_0_square_6.png\n",
      "./cumulative_drawings/cdm_run_v31528320599211_age3/0_square/cdm_run_v31528320599211_0_square_7.png\n",
      "./cumulative_drawings/cdm_run_v31528320599211_age3/0_square/cdm_run_v31528320599211_0_square_8.png\n",
      "./cumulative_drawings/cdm_run_v31528320599211_age3/1_shape/cdm_run_v31528320599211_1_shape_0.png\n",
      "./cumulative_drawings/cdm_run_v31528320599211_age3/1_shape/cdm_run_v31528320599211_1_shape_1.png\n",
      "./cumulative_drawings/cdm_run_v31528320599211_age3/1_shape/cdm_run_v31528320599211_1_shape_2.png\n",
      "./cumulative_drawings/cdm_run_v31528320599211_age3/1_shape/cdm_run_v31528320599211_1_shape_3.png\n",
      "./cumulative_drawings/cdm_run_v31528320599211_age3/1_shape/cdm_run_v31528320599211_1_shape_4.png\n",
      "./cumulative_drawings/cdm_run_v31528320599211_age3/1_shape/cdm_run_v31528320599211_1_shape_5.png\n",
      "./cumulative_drawings/cdm_run_v31528320599211_age3/1_shape/cdm_run_v31528320599211_1_shape_6.png\n",
      "./cumulative_drawings/cdm_run_v31528320599211_age3/1_shape/cdm_run_v31528320599211_1_shape_7.png\n",
      "./cumulative_drawings/cdm_run_v31528320599211_age3/1_shape/cdm_run_v31528320599211_1_shape_8.png\n",
      "./cumulative_drawings/cdm_run_v31528320599211_age3/1_shape/cdm_run_v31528320599211_1_shape_9.png\n"
     ]
    },
    {
     "name": "stdout",
     "output_type": "stream",
     "text": [
      "./cumulative_drawings/cdm_run_v31528320599211_age3/1_shape/cdm_run_v31528320599211_1_shape_10.png\n",
      "./cumulative_drawings/cdm_run_v31528320599211_age3/1_shape/cdm_run_v31528320599211_1_shape_11.png\n",
      "./cumulative_drawings/cdm_run_v31528320599211_age3/1_shape/cdm_run_v31528320599211_1_shape_12.png\n",
      "./cumulative_drawings/cdm_run_v31528320599211_age3/1_shape/cdm_run_v31528320599211_1_shape_13.png\n",
      "Oops, something went wrong! Here is the error:\n",
      "'codes' must be a 1D list or array with the same length of 'vertices'\n",
      "Great! Number of drawings made by this person: 3\n",
      "./cumulative_drawings/cdm_run_v31528321018911_age2/0_square/cdm_run_v31528321018911_0_square_0.png\n",
      "./cumulative_drawings/cdm_run_v31528321018911_age2/0_square/cdm_run_v31528321018911_0_square_1.png\n",
      "./cumulative_drawings/cdm_run_v31528321018911_age2/0_square/cdm_run_v31528321018911_0_square_2.png\n",
      "./cumulative_drawings/cdm_run_v31528321018911_age2/0_square/cdm_run_v31528321018911_0_square_3.png\n",
      "./cumulative_drawings/cdm_run_v31528321018911_age2/0_square/cdm_run_v31528321018911_0_square_4.png\n",
      "./cumulative_drawings/cdm_run_v31528321018911_age2/0_square/cdm_run_v31528321018911_0_square_5.png\n",
      "./cumulative_drawings/cdm_run_v31528321018911_age2/0_square/cdm_run_v31528321018911_0_square_6.png\n",
      "./cumulative_drawings/cdm_run_v31528321018911_age2/1_shape/cdm_run_v31528321018911_1_shape_0.png\n",
      "./cumulative_drawings/cdm_run_v31528321018911_age2/1_shape/cdm_run_v31528321018911_1_shape_1.png\n",
      "./cumulative_drawings/cdm_run_v31528321018911_age2/1_shape/cdm_run_v31528321018911_1_shape_2.png\n",
      "./cumulative_drawings/cdm_run_v31528321018911_age2/1_shape/cdm_run_v31528321018911_1_shape_3.png\n",
      "./cumulative_drawings/cdm_run_v31528321018911_age2/1_shape/cdm_run_v31528321018911_1_shape_4.png\n",
      "./cumulative_drawings/cdm_run_v31528321018911_age2/1_shape/cdm_run_v31528321018911_1_shape_5.png\n",
      "./cumulative_drawings/cdm_run_v31528321018911_age2/1_shape/cdm_run_v31528321018911_1_shape_6.png\n",
      "Oops, something went wrong! Here is the error:\n",
      "'codes' must be a 1D list or array with the same length of 'vertices'\n",
      "Great! Number of drawings made by this person: 12\n",
      "./cumulative_drawings/cdm_run_v31528321199079_age2/0_square/cdm_run_v31528321199079_0_square_0.png\n",
      "./cumulative_drawings/cdm_run_v31528321199079_age2/0_square/cdm_run_v31528321199079_0_square_1.png\n",
      "./cumulative_drawings/cdm_run_v31528321199079_age2/0_square/cdm_run_v31528321199079_0_square_2.png\n",
      "./cumulative_drawings/cdm_run_v31528321199079_age2/0_square/cdm_run_v31528321199079_0_square_3.png\n",
      "./cumulative_drawings/cdm_run_v31528321199079_age2/0_square/cdm_run_v31528321199079_0_square_4.png\n",
      "./cumulative_drawings/cdm_run_v31528321199079_age2/0_square/cdm_run_v31528321199079_0_square_5.png\n",
      "./cumulative_drawings/cdm_run_v31528321199079_age2/1_shape/cdm_run_v31528321199079_1_shape_0.png\n",
      "./cumulative_drawings/cdm_run_v31528321199079_age2/2_this circle/cdm_run_v31528321199079_2_this circle_0.png\n",
      "./cumulative_drawings/cdm_run_v31528321199079_age2/2_this circle/cdm_run_v31528321199079_2_this circle_1.png\n",
      "Great! Number of drawings made by this person: 3\n",
      "./cumulative_drawings/cdm_run_v31528322810163_age2/0_square/cdm_run_v31528322810163_0_square_0.png\n",
      "./cumulative_drawings/cdm_run_v31528322810163_age2/0_square/cdm_run_v31528322810163_0_square_1.png\n",
      "./cumulative_drawings/cdm_run_v31528322810163_age2/0_square/cdm_run_v31528322810163_0_square_2.png\n",
      "./cumulative_drawings/cdm_run_v31528322810163_age2/0_square/cdm_run_v31528322810163_0_square_3.png\n",
      "Oops, something went wrong! Here is the error:\n",
      "'codes' must be a 1D list or array with the same length of 'vertices'\n",
      "Great! Number of drawings made by this person: 5\n",
      "./cumulative_drawings/cdm_run_v31528322999057_age2/0_square/cdm_run_v31528322999057_0_square_0.png\n",
      "./cumulative_drawings/cdm_run_v31528322999057_age2/0_square/cdm_run_v31528322999057_0_square_1.png\n",
      "./cumulative_drawings/cdm_run_v31528322999057_age2/0_square/cdm_run_v31528322999057_0_square_2.png\n",
      "./cumulative_drawings/cdm_run_v31528322999057_age2/0_square/cdm_run_v31528322999057_0_square_3.png\n",
      "Oops, something went wrong! Here is the error:\n",
      "'codes' must be a 1D list or array with the same length of 'vertices'\n",
      "Great! Number of drawings made by this person: 12\n",
      "./cumulative_drawings/cdm_run_v31528323219648_age2/0_square/cdm_run_v31528323219648_0_square_0.png\n",
      "./cumulative_drawings/cdm_run_v31528323219648_age2/1_shape/cdm_run_v31528323219648_1_shape_0.png\n",
      "./cumulative_drawings/cdm_run_v31528323219648_age2/1_shape/cdm_run_v31528323219648_1_shape_1.png\n",
      "./cumulative_drawings/cdm_run_v31528323219648_age2/1_shape/cdm_run_v31528323219648_1_shape_2.png\n",
      "./cumulative_drawings/cdm_run_v31528323219648_age2/1_shape/cdm_run_v31528323219648_1_shape_3.png\n",
      "./cumulative_drawings/cdm_run_v31528323219648_age2/1_shape/cdm_run_v31528323219648_1_shape_4.png\n",
      "Oops, something went wrong! Here is the error:\n",
      "'codes' must be a 1D list or array with the same length of 'vertices'\n",
      "Great! Number of drawings made by this person: 5\n",
      "./cumulative_drawings/cdm_run_v31528323599125_age2/0_square/cdm_run_v31528323599125_0_square_0.png\n",
      "./cumulative_drawings/cdm_run_v31528323599125_age2/0_square/cdm_run_v31528323599125_0_square_1.png\n",
      "Oops, something went wrong! Here is the error:\n",
      "'codes' must be a 1D list or array with the same length of 'vertices'\n",
      "Great! Number of drawings made by this person: 7\n",
      "./cumulative_drawings/cdm_run_v31528324072022_age4/0_square/cdm_run_v31528324072022_0_square_0.png\n",
      "./cumulative_drawings/cdm_run_v31528324072022_age4/0_square/cdm_run_v31528324072022_0_square_1.png\n",
      "./cumulative_drawings/cdm_run_v31528324072022_age4/0_square/cdm_run_v31528324072022_0_square_2.png\n",
      "./cumulative_drawings/cdm_run_v31528324072022_age4/0_square/cdm_run_v31528324072022_0_square_3.png\n",
      "./cumulative_drawings/cdm_run_v31528324072022_age4/1_shape/cdm_run_v31528324072022_1_shape_0.png\n",
      "./cumulative_drawings/cdm_run_v31528324072022_age4/1_shape/cdm_run_v31528324072022_1_shape_1.png\n",
      "./cumulative_drawings/cdm_run_v31528324072022_age4/1_shape/cdm_run_v31528324072022_1_shape_2.png\n",
      "./cumulative_drawings/cdm_run_v31528324072022_age4/1_shape/cdm_run_v31528324072022_1_shape_3.png\n",
      "./cumulative_drawings/cdm_run_v31528324072022_age4/1_shape/cdm_run_v31528324072022_1_shape_4.png\n",
      "./cumulative_drawings/cdm_run_v31528324072022_age4/1_shape/cdm_run_v31528324072022_1_shape_5.png\n",
      "./cumulative_drawings/cdm_run_v31528324072022_age4/2_this circle/cdm_run_v31528324072022_2_this circle_0.png\n",
      "Great! Number of drawings made by this person: 4\n",
      "./cumulative_drawings/cdm_run_v31528324199127_adult/0_square/cdm_run_v31528324199127_0_square_0.png\n",
      "./cumulative_drawings/cdm_run_v31528324199127_adult/1_shape/cdm_run_v31528324199127_1_shape_0.png\n",
      "./cumulative_drawings/cdm_run_v31528324199127_adult/2_this circle/cdm_run_v31528324199127_2_this circle_0.png\n",
      "Great! Number of drawings made by this person: 12\n",
      "./cumulative_drawings/cdm_run_v31528324269381_age8/0_square/cdm_run_v31528324269381_0_square_0.png\n",
      "./cumulative_drawings/cdm_run_v31528324269381_age8/1_shape/cdm_run_v31528324269381_1_shape_0.png\n",
      "./cumulative_drawings/cdm_run_v31528324269381_age8/1_shape/cdm_run_v31528324269381_1_shape_1.png\n",
      "Oops, something went wrong! Here is the error:\n",
      "'codes' must be a 1D list or array with the same length of 'vertices'\n",
      "Great! Number of drawings made by this person: 3\n",
      "Oops, something went wrong! Here is the error:\n",
      "\n",
      "Great! Number of drawings made by this person: 8\n",
      "./cumulative_drawings/cdm_run_v31528324990435_age4/0_square/cdm_run_v31528324990435_0_square_0.png\n",
      "./cumulative_drawings/cdm_run_v31528324990435_age4/0_square/cdm_run_v31528324990435_0_square_1.png\n",
      "./cumulative_drawings/cdm_run_v31528324990435_age4/0_square/cdm_run_v31528324990435_0_square_2.png\n",
      "./cumulative_drawings/cdm_run_v31528324990435_age4/0_square/cdm_run_v31528324990435_0_square_3.png\n",
      "./cumulative_drawings/cdm_run_v31528324990435_age4/0_square/cdm_run_v31528324990435_0_square_4.png\n",
      "./cumulative_drawings/cdm_run_v31528324990435_age4/0_square/cdm_run_v31528324990435_0_square_5.png\n",
      "./cumulative_drawings/cdm_run_v31528324990435_age4/0_square/cdm_run_v31528324990435_0_square_6.png\n",
      "./cumulative_drawings/cdm_run_v31528324990435_age4/0_square/cdm_run_v31528324990435_0_square_7.png\n",
      "./cumulative_drawings/cdm_run_v31528324990435_age4/0_square/cdm_run_v31528324990435_0_square_8.png\n"
     ]
    },
    {
     "name": "stdout",
     "output_type": "stream",
     "text": [
      "./cumulative_drawings/cdm_run_v31528324990435_age4/1_shape/cdm_run_v31528324990435_1_shape_0.png\n",
      "./cumulative_drawings/cdm_run_v31528324990435_age4/1_shape/cdm_run_v31528324990435_1_shape_1.png\n",
      "./cumulative_drawings/cdm_run_v31528324990435_age4/1_shape/cdm_run_v31528324990435_1_shape_2.png\n",
      "./cumulative_drawings/cdm_run_v31528324990435_age4/1_shape/cdm_run_v31528324990435_1_shape_3.png\n",
      "./cumulative_drawings/cdm_run_v31528324990435_age4/1_shape/cdm_run_v31528324990435_1_shape_4.png\n",
      "./cumulative_drawings/cdm_run_v31528324990435_age4/1_shape/cdm_run_v31528324990435_1_shape_5.png\n",
      "./cumulative_drawings/cdm_run_v31528324990435_age4/1_shape/cdm_run_v31528324990435_1_shape_6.png\n",
      "./cumulative_drawings/cdm_run_v31528324990435_age4/1_shape/cdm_run_v31528324990435_1_shape_7.png\n",
      "./cumulative_drawings/cdm_run_v31528324990435_age4/1_shape/cdm_run_v31528324990435_1_shape_8.png\n",
      "Oops, something went wrong! Here is the error:\n",
      "'codes' must be a 1D list or array with the same length of 'vertices'\n",
      "Great! Number of drawings made by this person: 4\n",
      "./cumulative_drawings/cdm_run_v31528325399077_age2/0_square/cdm_run_v31528325399077_0_square_0.png\n",
      "Oops, something went wrong! Here is the error:\n",
      "\n",
      "Great! Number of drawings made by this person: 4\n",
      "./cumulative_drawings/cdm_run_v31528325498957_age2/0_square/cdm_run_v31528325498957_0_square_0.png\n",
      "./cumulative_drawings/cdm_run_v31528325498957_age2/0_square/cdm_run_v31528325498957_0_square_1.png\n",
      "./cumulative_drawings/cdm_run_v31528325498957_age2/0_square/cdm_run_v31528325498957_0_square_2.png\n",
      "./cumulative_drawings/cdm_run_v31528325498957_age2/0_square/cdm_run_v31528325498957_0_square_3.png\n",
      "./cumulative_drawings/cdm_run_v31528325498957_age2/0_square/cdm_run_v31528325498957_0_square_4.png\n",
      "./cumulative_drawings/cdm_run_v31528325498957_age2/0_square/cdm_run_v31528325498957_0_square_5.png\n",
      "./cumulative_drawings/cdm_run_v31528325498957_age2/0_square/cdm_run_v31528325498957_0_square_6.png\n",
      "./cumulative_drawings/cdm_run_v31528325498957_age2/0_square/cdm_run_v31528325498957_0_square_7.png\n",
      "./cumulative_drawings/cdm_run_v31528325498957_age2/0_square/cdm_run_v31528325498957_0_square_8.png\n",
      "./cumulative_drawings/cdm_run_v31528325498957_age2/0_square/cdm_run_v31528325498957_0_square_9.png\n",
      "Oops, something went wrong! Here is the error:\n",
      "'codes' must be a 1D list or array with the same length of 'vertices'\n"
     ]
    },
    {
     "data": {
      "image/png": "[encoded data removed]",
      "text/plain": [
       "<matplotlib.figure.Figure at 0x11b3c42d0>"
      ]
     },
     "metadata": {},
     "output_type": "display_data"
    },
    {
     "data": {
      "image/png": "[encoded data removed]",
      "text/plain": [
       "<matplotlib.figure.Figure at 0x11bd2c7d0>"
      ]
     },
     "metadata": {},
     "output_type": "display_data"
    },
    {
     "data": {
      "image/png": "[encoded data removed]",
      "text/plain": [
       "<matplotlib.figure.Figure at 0x11c381e50>"
      ]
     },
     "metadata": {},
     "output_type": "display_data"
    },
    {
     "data": {
      "image/png": "[encoded data removed]",
      "text/plain": [
       "<matplotlib.figure.Figure at 0x1a2166c490>"
      ]
     },
     "metadata": {},
     "output_type": "display_data"
    },
    {
     "data": {
      "image/png": "[encoded data removed]",
      "text/plain": [
       "<matplotlib.figure.Figure at 0x1a21b37f10>"
      ]
     },
     "metadata": {},
     "output_type": "display_data"
    },
    {
     "data": {
      "image/png": "[encoded data removed]",
      "text/plain": [
       "<matplotlib.figure.Figure at 0x1a2107e890>"
      ]
     },
     "metadata": {},
     "output_type": "display_data"
    },
    {
     "data": {
      "image/png": "[encoded data removed]",
      "text/plain": [
       "<matplotlib.figure.Figure at 0x1a217d1290>"
      ]
     },
     "metadata": {},
     "output_type": "display_data"
    },
    {
     "data": {
      "image/png": "[encoded data removed]",
      "text/plain": [
       "<matplotlib.figure.Figure at 0x1a227a9b10>"
      ]
     },
     "metadata": {},
     "output_type": "display_data"
    },
    {
     "data": {
      "image/png": "[encoded data removed]",
      "text/plain": [
       "<matplotlib.figure.Figure at 0x1a230d31d0>"
      ]
     },
     "metadata": {},
     "output_type": "display_data"
    },
    {
     "data": {
      "image/png": "[encoded data removed]",
      "text/plain": [
       "<matplotlib.figure.Figure at 0x1a244c4290>"
      ]
     },
     "metadata": {},
     "output_type": "display_data"
    },
    {
     "data": {
      "image/png": "[encoded data removed]",
      "text/plain": [
       "<matplotlib.figure.Figure at 0x1a24874c90>"
      ]
     },
     "metadata": {},
     "output_type": "display_data"
    },
    {
     "data": {
      "image/png": "[encoded data removed]",
      "text/plain": [
       "<matplotlib.figure.Figure at 0x1a255f7450>"
      ]
     },
     "metadata": {},
     "output_type": "display_data"
    },
    {
     "data": {
      "image/png": "[encoded data removed]",
      "text/plain": [
       "<matplotlib.figure.Figure at 0x1a2529bad0>"
      ]
     },
     "metadata": {},
     "output_type": "display_data"
    },
    {
     "data": {
      "image/png": "[encoded data removed]",
      "text/plain": [
       "<matplotlib.figure.Figure at 0x1a252e8e10>"
      ]
     },
     "metadata": {},
     "output_type": "display_data"
    },
    {
     "data": {
      "image/png": "[encoded data removed]",
      "text/plain": [
       "<matplotlib.figure.Figure at 0x1a2afc3c10>"
      ]
     },
     "metadata": {},
     "output_type": "display_data"
    },
    {
     "data": {
      "image/png": "[encoded data removed]",
      "text/plain": [
       "<matplotlib.figure.Figure at 0x1a283e6290>"
      ]
     },
     "metadata": {},
     "output_type": "display_data"
    },
    {
     "data": {
      "image/png": "[encoded data removed]",
      "text/plain": [
       "<matplotlib.figure.Figure at 0x1a25128b10>"
      ]
     },
     "metadata": {},
     "output_type": "display_data"
    },
    {
     "data": {
      "image/png": "[encoded data removed]",
      "text/plain": [
       "<matplotlib.figure.Figure at 0x1a2aa39350>"
      ]
     },
     "metadata": {},
     "output_type": "display_data"
    },
    {
     "data": {
      "image/png": "[encoded data removed]",
      "text/plain": [
       "<matplotlib.figure.Figure at 0x1a28680f90>"
      ]
     },
     "metadata": {},
     "output_type": "display_data"
    },
    {
     "data": {
      "image/png": "[encoded data removed]",
      "text/plain": [
       "<matplotlib.figure.Figure at 0x1a25d54410>"
      ]
     },
     "metadata": {},
     "output_type": "display_data"
    },
    {
     "data": {
      "image/png": "[encoded data removed]",
      "text/plain": [
       "<matplotlib.figure.Figure at 0x1a27da6650>"
      ]
     },
     "metadata": {},
     "output_type": "display_data"
    },
    {
     "data": {
      "image/png": "[encoded data removed]",
      "text/plain": [
       "<matplotlib.figure.Figure at 0x1a287c6c50>"
      ]
     },
     "metadata": {},
     "output_type": "display_data"
    },
    {
     "data": {
      "image/png": "[encoded data removed]",
      "text/plain": [
       "<matplotlib.figure.Figure at 0x1a28fbd210>"
      ]
     },
     "metadata": {},
     "output_type": "display_data"
    },
    {
     "data": {
      "image/png": "[encoded data removed]",
      "text/plain": [
       "<matplotlib.figure.Figure at 0x1a29948990>"
      ]
     },
     "metadata": {},
     "output_type": "display_data"
    },
    {
     "data": {
      "image/png": "[encoded data removed]",
      "text/plain": [
       "<matplotlib.figure.Figure at 0x1a3250ab50>"
      ]
     },
     "metadata": {},
     "output_type": "display_data"
    },
    {
     "data": {
      "image/png": "[encoded data removed]",
      "text/plain": [
       "<matplotlib.figure.Figure at 0x1a33f347d0>"
      ]
     },
     "metadata": {},
     "output_type": "display_data"
    },
    {
     "data": {
      "image/png": "[encoded data removed]",
      "text/plain": [
       "<matplotlib.figure.Figure at 0x1a351da150>"
      ]
     },
     "metadata": {},
     "output_type": "display_data"
    },
    {
     "data": {
      "image/png": "[encoded data removed]",
      "text/plain": [
       "<matplotlib.figure.Figure at 0x1a364afa90>"
      ]
     },
     "metadata": {},
     "output_type": "display_data"
    },
    {
     "data": {
      "image/png": "[encoded data removed]",
      "text/plain": [
       "<matplotlib.figure.Figure at 0x1a34b5d550>"
      ]
     },
     "metadata": {},
     "output_type": "display_data"
    },
    {
     "data": {
      "image/png": "[encoded data removed]",
      "text/plain": [
       "<matplotlib.figure.Figure at 0x1a386a5050>"
      ]
     },
     "metadata": {},
     "output_type": "display_data"
    },
    {
     "data": {
      "image/png": "[encoded data removed]",
      "text/plain": [
       "<matplotlib.figure.Figure at 0x1a39471910>"
      ]
     },
     "metadata": {},
     "output_type": "display_data"
    },
    {
     "data": {
      "image/png": "[encoded data removed]",
      "text/plain": [
       "<matplotlib.figure.Figure at 0x1a3a807f10>"
      ]
     },
     "metadata": {},
     "output_type": "display_data"
    },
    {
     "data": {
      "image/png": "[encoded data removed]",
      "text/plain": [
       "<matplotlib.figure.Figure at 0x1a389c0810>"
      ]
     },
     "metadata": {},
     "output_type": "display_data"
    },
    {
     "data": {
      "image/png": "[encoded data removed]",
      "text/plain": [
       "<matplotlib.figure.Figure at 0x1a3b2f4910>"
      ]
     },
     "metadata": {},
     "output_type": "display_data"
    },
    {
     "data": {
      "image/png": "[encoded data removed]",
      "text/plain": [
       "<matplotlib.figure.Figure at 0x1a3ca65c50>"
      ]
     },
     "metadata": {},
     "output_type": "display_data"
    },
    {
     "data": {
      "image/png": "[encoded data removed]",
      "text/plain": [
       "<matplotlib.figure.Figure at 0x1a3e0051d0>"
      ]
     },
     "metadata": {},
     "output_type": "display_data"
    },
    {
     "data": {
      "image/png": "[encoded data removed]",
      "text/plain": [
       "<matplotlib.figure.Figure at 0x1a3f4e3810>"
      ]
     },
     "metadata": {},
     "output_type": "display_data"
    },
    {
     "data": {
      "image/png": "[encoded data removed]",
      "text/plain": [
       "<matplotlib.figure.Figure at 0x1a3ed487d0>"
      ]
     },
     "metadata": {},
     "output_type": "display_data"
    },
    {
     "data": {
      "image/png": "[encoded data removed]",
      "text/plain": [
       "<matplotlib.figure.Figure at 0x1a42017f90>"
      ]
     },
     "metadata": {},
     "output_type": "display_data"
    },
    {
     "data": {
      "image/png": "[encoded data removed]",
      "text/plain": [
       "<matplotlib.figure.Figure at 0x1a90ce6310>"
      ]
     },
     "metadata": {},
     "output_type": "display_data"
    },
    {
     "data": {
      "image/png": "[encoded data removed]",
      "text/plain": [
       "<matplotlib.figure.Figure at 0x20b74acf50>"
      ]
     },
     "metadata": {},
     "output_type": "display_data"
    },
    {
     "data": {
      "image/png": "[encoded data removed]",
      "text/plain": [
       "<matplotlib.figure.Figure at 0x1a43b30450>"
      ]
     },
     "metadata": {},
     "output_type": "display_data"
    },
    {
     "data": {
      "image/png": "[encoded data removed]",
      "text/plain": [
       "<matplotlib.figure.Figure at 0x1a43745f90>"
      ]
     },
     "metadata": {},
     "output_type": "display_data"
    },
    {
     "data": {
      "image/png": "[encoded data removed]",
      "text/plain": [
       "<matplotlib.figure.Figure at 0x1bb5e531d0>"
      ]
     },
     "metadata": {},
     "output_type": "display_data"
    },
    {
     "data": {
      "image/png": "[encoded data removed]",
      "text/plain": [
       "<matplotlib.figure.Figure at 0x1ca8a0ab10>"
      ]
     },
     "metadata": {},
     "output_type": "display_data"
    },
    {
     "data": {
      "image/png": "[encoded data removed]",
      "text/plain": [
       "<matplotlib.figure.Figure at 0x1a43a4e3d0>"
      ]
     },
     "metadata": {},
     "output_type": "display_data"
    },
    {
     "data": {
      "image/png": "[encoded data removed]",
      "text/plain": [
       "<matplotlib.figure.Figure at 0x1a442426d0>"
      ]
     },
     "metadata": {},
     "output_type": "display_data"
    },
    {
     "data": {
      "image/png": "[encoded data removed]",
      "text/plain": [
       "<matplotlib.figure.Figure at 0x1d7dcb3a50>"
      ]
     },
     "metadata": {},
     "output_type": "display_data"
    },
    {
     "data": {
      "image/png": "[encoded data removed]",
      "text/plain": [
       "<matplotlib.figure.Figure at 0x20853e7f10>"
      ]
     },
     "metadata": {},
     "output_type": "display_data"
    },
    {
     "data": {
      "image/png": "[encoded data removed]",
      "text/plain": [
       "<matplotlib.figure.Figure at 0x1a454a03d0>"
      ]
     },
     "metadata": {},
     "output_type": "display_data"
    },
    {
     "data": {
      "image/png": "[encoded data removed]",
      "text/plain": [
       "<matplotlib.figure.Figure at 0x1a45731bd0>"
      ]
     },
     "metadata": {},
     "output_type": "display_data"
    },
    {
     "data": {
      "image/png": "[encoded data removed]",
      "text/plain": [
       "<matplotlib.figure.Figure at 0x1a455a6590>"
      ]
     },
     "metadata": {},
     "output_type": "display_data"
    },
    {
     "data": {
      "image/png": "[encoded data removed]",
      "text/plain": [
       "<matplotlib.figure.Figure at 0x1f480e8610>"
      ]
     },
     "metadata": {},
     "output_type": "display_data"
    },
    {
     "data": {
      "image/png": "[encoded data removed]",
      "text/plain": [
       "<matplotlib.figure.Figure at 0x1a51eca310>"
      ]
     },
     "metadata": {},
     "output_type": "display_data"
    },
    {
     "data": {
      "image/png": "[encoded data removed]",
      "text/plain": [
       "<matplotlib.figure.Figure at 0x1a619d4a50>"
      ]
     },
     "metadata": {},
     "output_type": "display_data"
    },
    {
     "data": {
      "image/png": "[encoded data removed]",
      "text/plain": [
       "<matplotlib.figure.Figure at 0x1e86a3f750>"
      ]
     },
     "metadata": {},
     "output_type": "display_data"
    },
    {
     "data": {
      "image/png": "[encoded data removed]",
      "text/plain": [
       "<matplotlib.figure.Figure at 0x1aec2cab10>"
      ]
     },
     "metadata": {},
     "output_type": "display_data"
    },
    {
     "data": {
      "image/png": "[encoded data removed]",
      "text/plain": [
       "<matplotlib.figure.Figure at 0x1bd985d2d0>"
      ]
     },
     "metadata": {},
     "output_type": "display_data"
    },
    {
     "data": {
      "image/png": "[encoded data removed]",
      "text/plain": [
       "<matplotlib.figure.Figure at 0x2055e997d0>"
      ]
     },
     "metadata": {},
     "output_type": "display_data"
    },
    {
     "data": {
      "image/png": "[encoded data removed]",
      "text/plain": [
       "<matplotlib.figure.Figure at 0x1b853d2090>"
      ]
     },
     "metadata": {},
     "output_type": "display_data"
    },
    {
     "data": {
      "image/png": "[encoded data removed]",
      "text/plain": [
       "<matplotlib.figure.Figure at 0x1a45abb750>"
      ]
     },
     "metadata": {},
     "output_type": "display_data"
    },
    {
     "data": {
      "image/png": "[encoded data removed]",
      "text/plain": [
       "<matplotlib.figure.Figure at 0x1a4619b3d0>"
      ]
     },
     "metadata": {},
     "output_type": "display_data"
    },
    {
     "data": {
      "image/png": "[encoded data removed]",
      "text/plain": [
       "<matplotlib.figure.Figure at 0x1a4c882750>"
      ]
     },
     "metadata": {},
     "output_type": "display_data"
    },
    {
     "data": {
      "image/png": "[encoded data removed]",
      "text/plain": [
       "<matplotlib.figure.Figure at 0x1a4c9f5550>"
      ]
     },
     "metadata": {},
     "output_type": "display_data"
    },
    {
     "data": {
      "image/png": "[encoded data removed]",
      "text/plain": [
       "<matplotlib.figure.Figure at 0x1a4ce23d50>"
      ]
     },
     "metadata": {},
     "output_type": "display_data"
    },
    {
     "data": {
      "image/png": "[encoded data removed]",
      "text/plain": [
       "<matplotlib.figure.Figure at 0x1a630f1c10>"
      ]
     },
     "metadata": {},
     "output_type": "display_data"
    },
    {
     "data": {
      "image/png": "[encoded data removed]",
      "text/plain": [
       "<matplotlib.figure.Figure at 0x1a66460bd0>"
      ]
     },
     "metadata": {},
     "output_type": "display_data"
    },
    {
     "data": {
      "image/png": "[encoded data removed]",
      "text/plain": [
       "<matplotlib.figure.Figure at 0x1a4d280190>"
      ]
     },
     "metadata": {},
     "output_type": "display_data"
    },
    {
     "data": {
      "image/png": "[encoded data removed]",
      "text/plain": [
       "<matplotlib.figure.Figure at 0x1a4d436b10>"
      ]
     },
     "metadata": {},
     "output_type": "display_data"
    },
    {
     "data": {
      "image/png": "[encoded data removed]",
      "text/plain": [
       "<matplotlib.figure.Figure at 0x1a50f52490>"
      ]
     },
     "metadata": {},
     "output_type": "display_data"
    },
    {
     "data": {
      "image/png": "[encoded data removed]",
      "text/plain": [
       "<matplotlib.figure.Figure at 0x1a4d8b0990>"
      ]
     },
     "metadata": {},
     "output_type": "display_data"
    },
    {
     "data": {
      "image/png": "[encoded data removed]",
      "text/plain": [
       "<matplotlib.figure.Figure at 0x1a4dad81d0>"
      ]
     },
     "metadata": {},
     "output_type": "display_data"
    },
    {
     "data": {
      "image/png": "[encoded data removed]",
      "text/plain": [
       "<matplotlib.figure.Figure at 0x1a4dc2dc50>"
      ]
     },
     "metadata": {},
     "output_type": "display_data"
    },
    {
     "data": {
      "image/png": "[encoded data removed]",
      "text/plain": [
       "<matplotlib.figure.Figure at 0x1a4e52b450>"
      ]
     },
     "metadata": {},
     "output_type": "display_data"
    },
    {
     "data": {
      "image/png": "[encoded data removed]",
      "text/plain": [
       "<matplotlib.figure.Figure at 0x1a647f9450>"
      ]
     },
     "metadata": {},
     "output_type": "display_data"
    },
    {
     "data": {
      "image/png": "[encoded data removed]",
      "text/plain": [
       "<matplotlib.figure.Figure at 0x1a5b870ad0>"
      ]
     },
     "metadata": {},
     "output_type": "display_data"
    },
    {
     "data": {
      "image/png": "[encoded data removed]",
      "text/plain": [
       "<matplotlib.figure.Figure at 0x1a51008350>"
      ]
     },
     "metadata": {},
     "output_type": "display_data"
    },
    {
     "data": {
      "image/png": "[encoded data removed]",
      "text/plain": [
       "<matplotlib.figure.Figure at 0x1a51a59bd0>"
      ]
     },
     "metadata": {},
     "output_type": "display_data"
    },
    {
     "data": {
      "image/png": "[encoded data removed]",
      "text/plain": [
       "<matplotlib.figure.Figure at 0x1a52745990>"
      ]
     },
     "metadata": {},
     "output_type": "display_data"
    },
    {
     "data": {
      "image/png": "[encoded data removed]",
      "text/plain": [
       "<matplotlib.figure.Figure at 0x1a507b3f50>"
      ]
     },
     "metadata": {},
     "output_type": "display_data"
    },
    {
     "data": {
      "image/png": "[encoded data removed]",
      "text/plain": [
       "<matplotlib.figure.Figure at 0x1a5366a590>"
      ]
     },
     "metadata": {},
     "output_type": "display_data"
    },
    {
     "data": {
      "image/png": "[encoded data removed]",
      "text/plain": [
       "<matplotlib.figure.Figure at 0x1a53daaed0>"
      ]
     },
     "metadata": {},
     "output_type": "display_data"
    },
    {
     "data": {
      "image/png": "[encoded data removed]",
      "text/plain": [
       "<matplotlib.figure.Figure at 0x1bc73295d0>"
      ]
     },
     "metadata": {},
     "output_type": "display_data"
    },
    {
     "data": {
      "image/png": "[encoded data removed]",
      "text/plain": [
       "<matplotlib.figure.Figure at 0x1d1e9d9e50>"
      ]
     },
     "metadata": {},
     "output_type": "display_data"
    },
    {
     "data": {
      "image/png": "[encoded data removed]",
      "text/plain": [
       "<matplotlib.figure.Figure at 0x1a545baed0>"
      ]
     },
     "metadata": {},
     "output_type": "display_data"
    },
    {
     "data": {
      "image/png": "[encoded data removed]",
      "text/plain": [
       "<matplotlib.figure.Figure at 0x1a54a62d50>"
      ]
     },
     "metadata": {},
     "output_type": "display_data"
    },
    {
     "data": {
      "image/png": "[encoded data removed]",
      "text/plain": [
       "<matplotlib.figure.Figure at 0x1a530842d0>"
      ]
     },
     "metadata": {},
     "output_type": "display_data"
    },
    {
     "data": {
      "image/png": "[encoded data removed]",
      "text/plain": [
       "<matplotlib.figure.Figure at 0x1a5259dbd0>"
      ]
     },
     "metadata": {},
     "output_type": "display_data"
    },
    {
     "data": {
      "image/png": "[encoded data removed]",
      "text/plain": [
       "<matplotlib.figure.Figure at 0x1a53aeb5d0>"
      ]
     },
     "metadata": {},
     "output_type": "display_data"
    },
    {
     "data": {
      "image/png": "[encoded data removed]",
      "text/plain": [
       "<matplotlib.figure.Figure at 0x20b14fedd0>"
      ]
     },
     "metadata": {},
     "output_type": "display_data"
    },
    {
     "data": {
      "image/png": "[encoded data removed]",
      "text/plain": [
       "<matplotlib.figure.Figure at 0x1a60a30110>"
      ]
     },
     "metadata": {},
     "output_type": "display_data"
    },
    {
     "data": {
      "image/png": "[encoded data removed]",
      "text/plain": [
       "<matplotlib.figure.Figure at 0x1a619ab6d0>"
      ]
     },
     "metadata": {},
     "output_type": "display_data"
    },
    {
     "data": {
      "image/png": "[encoded data removed]",
      "text/plain": [
       "<matplotlib.figure.Figure at 0x1a4f9e77d0>"
      ]
     },
     "metadata": {},
     "output_type": "display_data"
    },
    {
     "data": {
      "image/png": "[encoded data removed]",
      "text/plain": [
       "<matplotlib.figure.Figure at 0x1a4e18b810>"
      ]
     },
     "metadata": {},
     "output_type": "display_data"
    },
    {
     "data": {
      "image/png": "[encoded data removed]",
      "text/plain": [
       "<matplotlib.figure.Figure at 0x1a50c99f90>"
      ]
     },
     "metadata": {},
     "output_type": "display_data"
    },
    {
     "data": {
      "image/png": "[encoded data removed]",
      "text/plain": [
       "<matplotlib.figure.Figure at 0x1a51d86b90>"
      ]
     },
     "metadata": {},
     "output_type": "display_data"
    },
    {
     "data": {
      "image/png": "[encoded data removed]",
      "text/plain": [
       "<matplotlib.figure.Figure at 0x1a534e5e10>"
      ]
     },
     "metadata": {},
     "output_type": "display_data"
    },
    {
     "data": {
      "image/png": "[encoded data removed]",
      "text/plain": [
       "<matplotlib.figure.Figure at 0x1a544d2610>"
      ]
     },
     "metadata": {},
     "output_type": "display_data"
    },
    {
     "data": {
      "image/png": "[encoded data removed]",
      "text/plain": [
       "<matplotlib.figure.Figure at 0x1a53035b90>"
      ]
     },
     "metadata": {},
     "output_type": "display_data"
    },
    {
     "data": {
      "image/png": "[encoded data removed]",
      "text/plain": [
       "<matplotlib.figure.Figure at 0x1a59b3f710>"
      ]
     },
     "metadata": {},
     "output_type": "display_data"
    },
    {
     "data": {
      "image/png": "[encoded data removed]",
      "text/plain": [
       "<matplotlib.figure.Figure at 0x1a5b88bc90>"
      ]
     },
     "metadata": {},
     "output_type": "display_data"
    },
    {
     "data": {
      "image/png": "[encoded data removed]",
      "text/plain": [
       "<matplotlib.figure.Figure at 0x1a5ea3b950>"
      ]
     },
     "metadata": {},
     "output_type": "display_data"
    },
    {
     "data": {
      "image/png": "[encoded data removed]",
      "text/plain": [
       "<matplotlib.figure.Figure at 0x1a6035ad10>"
      ]
     },
     "metadata": {},
     "output_type": "display_data"
    },
    {
     "data": {
      "image/png": "[encoded data removed]",
      "text/plain": [
       "<matplotlib.figure.Figure at 0x1a60acdc10>"
      ]
     },
     "metadata": {},
     "output_type": "display_data"
    },
    {
     "data": {
      "image/png": "[encoded data removed]",
      "text/plain": [
       "<matplotlib.figure.Figure at 0x1a60d26450>"
      ]
     },
     "metadata": {},
     "output_type": "display_data"
    },
    {
     "data": {
      "image/png": "[encoded data removed]",
      "text/plain": [
       "<matplotlib.figure.Figure at 0x1a61fa6d90>"
      ]
     },
     "metadata": {},
     "output_type": "display_data"
    },
    {
     "data": {
      "image/png": "[encoded data removed]",
      "text/plain": [
       "<matplotlib.figure.Figure at 0x1a625776d0>"
      ]
     },
     "metadata": {},
     "output_type": "display_data"
    },
    {
     "data": {
      "image/png": "[encoded data removed]",
      "text/plain": [
       "<matplotlib.figure.Figure at 0x1a61d91c90>"
      ]
     },
     "metadata": {},
     "output_type": "display_data"
    },
    {
     "data": {
      "image/png": "[encoded data removed]",
      "text/plain": [
       "<matplotlib.figure.Figure at 0x1a7c11c550>"
      ]
     },
     "metadata": {},
     "output_type": "display_data"
    },
    {
     "data": {
      "image/png": "[encoded data removed]",
      "text/plain": [
       "<matplotlib.figure.Figure at 0x1a7d210b90>"
      ]
     },
     "metadata": {},
     "output_type": "display_data"
    },
    {
     "data": {
      "image/png": "[encoded data removed]",
      "text/plain": [
       "<matplotlib.figure.Figure at 0x1a8331ce10>"
      ]
     },
     "metadata": {},
     "output_type": "display_data"
    },
    {
     "data": {
      "image/png": "[encoded data removed]",
      "text/plain": [
       "<matplotlib.figure.Figure at 0x1a83c49690>"
      ]
     },
     "metadata": {},
     "output_type": "display_data"
    },
    {
     "data": {
      "image/png": "[encoded data removed]",
      "text/plain": [
       "<matplotlib.figure.Figure at 0x1a83769d10>"
      ]
     },
     "metadata": {},
     "output_type": "display_data"
    },
    {
     "data": {
      "image/png": "[encoded data removed]",
      "text/plain": [
       "<matplotlib.figure.Figure at 0x1a80fe7610>"
      ]
     },
     "metadata": {},
     "output_type": "display_data"
    },
    {
     "data": {
      "image/png": "[encoded data removed]",
      "text/plain": [
       "<matplotlib.figure.Figure at 0x1a7f0ead90>"
      ]
     },
     "metadata": {},
     "output_type": "display_data"
    },
    {
     "data": {
      "image/png": "[encoded data removed]",
      "text/plain": [
       "<matplotlib.figure.Figure at 0x1a801e43d0>"
      ]
     },
     "metadata": {},
     "output_type": "display_data"
    },
    {
     "data": {
      "image/png": "[encoded data removed]",
      "text/plain": [
       "<matplotlib.figure.Figure at 0x1a809a0050>"
      ]
     },
     "metadata": {},
     "output_type": "display_data"
    },
    {
     "data": {
      "image/png": "[encoded data removed]",
      "text/plain": [
       "<matplotlib.figure.Figure at 0x1a80c46790>"
      ]
     },
     "metadata": {},
     "output_type": "display_data"
    },
    {
     "data": {
      "image/png": "[encoded data removed]",
      "text/plain": [
       "<matplotlib.figure.Figure at 0x1a81e98b10>"
      ]
     },
     "metadata": {},
     "output_type": "display_data"
    },
    {
     "data": {
      "image/png": "[encoded data removed]",
      "text/plain": [
       "<matplotlib.figure.Figure at 0x1a80ad0a90>"
      ]
     },
     "metadata": {},
     "output_type": "display_data"
    },
    {
     "data": {
      "image/png": "[encoded data removed]",
      "text/plain": [
       "<matplotlib.figure.Figure at 0x1a817d5150>"
      ]
     },
     "metadata": {},
     "output_type": "display_data"
    },
    {
     "data": {
      "image/png": "[encoded data removed]",
      "text/plain": [
       "<matplotlib.figure.Figure at 0x1a81e17ad0>"
      ]
     },
     "metadata": {},
     "output_type": "display_data"
    },
    {
     "data": {
      "image/png": "[encoded data removed]",
      "text/plain": [
       "<matplotlib.figure.Figure at 0x1a82722210>"
      ]
     },
     "metadata": {},
     "output_type": "display_data"
    },
    {
     "data": {
      "image/png": "[encoded data removed]",
      "text/plain": [
       "<matplotlib.figure.Figure at 0x1a8c2e4ad0>"
      ]
     },
     "metadata": {},
     "output_type": "display_data"
    },
    {
     "data": {
      "image/png": "[encoded data removed]",
      "text/plain": [
       "<matplotlib.figure.Figure at 0x1a8cbbf290>"
      ]
     },
     "metadata": {},
     "output_type": "display_data"
    },
    {
     "data": {
      "image/png": "[encoded data removed]",
      "text/plain": [
       "<matplotlib.figure.Figure at 0x1a8ef5bc90>"
      ]
     },
     "metadata": {},
     "output_type": "display_data"
    },
    {
     "data": {
      "image/png": "[encoded data removed]",
      "text/plain": [
       "<matplotlib.figure.Figure at 0x1a909faf50>"
      ]
     },
     "metadata": {},
     "output_type": "display_data"
    },
    {
     "data": {
      "image/png": "[encoded data removed]",
      "text/plain": [
       "<matplotlib.figure.Figure at 0x1a916a2310>"
      ]
     },
     "metadata": {},
     "output_type": "display_data"
    },
    {
     "data": {
      "image/png": "[encoded data removed]",
      "text/plain": [
       "<matplotlib.figure.Figure at 0x1a930595d0>"
      ]
     },
     "metadata": {},
     "output_type": "display_data"
    },
    {
     "data": {
      "image/png": "[encoded data removed]",
      "text/plain": [
       "<matplotlib.figure.Figure at 0x1a94546b10>"
      ]
     },
     "metadata": {},
     "output_type": "display_data"
    },
    {
     "data": {
      "image/png": "[encoded data removed]",
      "text/plain": [
       "<matplotlib.figure.Figure at 0x1a94eb9290>"
      ]
     },
     "metadata": {},
     "output_type": "display_data"
    },
    {
     "data": {
      "image/png": "[encoded data removed]",
      "text/plain": [
       "<matplotlib.figure.Figure at 0x1a968db410>"
      ]
     },
     "metadata": {},
     "output_type": "display_data"
    },
    {
     "data": {
      "image/png": "[encoded data removed]",
      "text/plain": [
       "<matplotlib.figure.Figure at 0x1a94b5ac10>"
      ]
     },
     "metadata": {},
     "output_type": "display_data"
    },
    {
     "data": {
      "image/png": "[encoded data removed]",
      "text/plain": [
       "<matplotlib.figure.Figure at 0x1a973a8e10>"
      ]
     },
     "metadata": {},
     "output_type": "display_data"
    },
    {
     "data": {
      "image/png": "[encoded data removed]",
      "text/plain": [
       "<matplotlib.figure.Figure at 0x1a98d33350>"
      ]
     },
     "metadata": {},
     "output_type": "display_data"
    },
    {
     "data": {
      "image/png": "[encoded data removed]",
      "text/plain": [
       "<matplotlib.figure.Figure at 0x1a975add10>"
      ]
     },
     "metadata": {},
     "output_type": "display_data"
    },
    {
     "data": {
      "image/png": "[encoded data removed]",
      "text/plain": [
       "<matplotlib.figure.Figure at 0x1a98106590>"
      ]
     },
     "metadata": {},
     "output_type": "display_data"
    },
    {
     "data": {
      "image/png": "[encoded data removed]",
      "text/plain": [
       "<matplotlib.figure.Figure at 0x1a99e77b50>"
      ]
     },
     "metadata": {},
     "output_type": "display_data"
    },
    {
     "data": {
      "image/png": "[encoded data removed]",
      "text/plain": [
       "<matplotlib.figure.Figure at 0x1a9a264810>"
      ]
     },
     "metadata": {},
     "output_type": "display_data"
    },
    {
     "data": {
      "image/png": "[encoded data removed]",
      "text/plain": [
       "<matplotlib.figure.Figure at 0x1a9c1c1290>"
      ]
     },
     "metadata": {},
     "output_type": "display_data"
    },
    {
     "data": {
      "image/png": "[encoded data removed]",
      "text/plain": [
       "<matplotlib.figure.Figure at 0x1a9a78e450>"
      ]
     },
     "metadata": {},
     "output_type": "display_data"
    },
    {
     "data": {
      "image/png": "[encoded data removed]",
      "text/plain": [
       "<matplotlib.figure.Figure at 0x1a9a871710>"
      ]
     },
     "metadata": {},
     "output_type": "display_data"
    },
    {
     "data": {
      "image/png": "[encoded data removed]",
      "text/plain": [
       "<matplotlib.figure.Figure at 0x1a9a8ef850>"
      ]
     },
     "metadata": {},
     "output_type": "display_data"
    },
    {
     "data": {
      "image/png": "[encoded data removed]",
      "text/plain": [
       "<matplotlib.figure.Figure at 0x1a9acfa2d0>"
      ]
     },
     "metadata": {},
     "output_type": "display_data"
    },
    {
     "data": {
      "image/png": "[encoded data removed]",
      "text/plain": [
       "<matplotlib.figure.Figure at 0x1a9b212510>"
      ]
     },
     "metadata": {},
     "output_type": "display_data"
    },
    {
     "data": {
      "image/png": "[encoded data removed]",
      "text/plain": [
       "<matplotlib.figure.Figure at 0x1a9affc3d0>"
      ]
     },
     "metadata": {},
     "output_type": "display_data"
    },
    {
     "data": {
      "image/png": "[encoded data removed]",
      "text/plain": [
       "<matplotlib.figure.Figure at 0x1a9b9ddb10>"
      ]
     },
     "metadata": {},
     "output_type": "display_data"
    },
    {
     "data": {
      "image/png": "[encoded data removed]",
      "text/plain": [
       "<matplotlib.figure.Figure at 0x1a9bd62690>"
      ]
     },
     "metadata": {},
     "output_type": "display_data"
    },
    {
     "data": {
      "image/png": "[encoded data removed]",
      "text/plain": [
       "<matplotlib.figure.Figure at 0x1aa126ced0>"
      ]
     },
     "metadata": {},
     "output_type": "display_data"
    },
    {
     "data": {
      "image/png": "[encoded data removed]",
      "text/plain": [
       "<matplotlib.figure.Figure at 0x1aa415ee90>"
      ]
     },
     "metadata": {},
     "output_type": "display_data"
    },
    {
     "data": {
      "image/png": "[encoded data removed]",
      "text/plain": [
       "<matplotlib.figure.Figure at 0x1aa4bd0890>"
      ]
     },
     "metadata": {},
     "output_type": "display_data"
    },
    {
     "data": {
      "image/png": "[encoded data removed]",
      "text/plain": [
       "<matplotlib.figure.Figure at 0x1aa648ff90>"
      ]
     },
     "metadata": {},
     "output_type": "display_data"
    },
    {
     "data": {
      "image/png": "[encoded data removed]",
      "text/plain": [
       "<matplotlib.figure.Figure at 0x1aa5b8d110>"
      ]
     },
     "metadata": {},
     "output_type": "display_data"
    },
    {
     "data": {
      "image/png": "[encoded data removed]",
      "text/plain": [
       "<matplotlib.figure.Figure at 0x1aa8868990>"
      ]
     },
     "metadata": {},
     "output_type": "display_data"
    },
    {
     "data": {
      "image/png": "[encoded data removed]",
      "text/plain": [
       "<matplotlib.figure.Figure at 0x1aa5d01310>"
      ]
     },
     "metadata": {},
     "output_type": "display_data"
    },
    {
     "data": {
      "image/png": "[encoded data removed]",
      "text/plain": [
       "<matplotlib.figure.Figure at 0x1aaa88b350>"
      ]
     },
     "metadata": {},
     "output_type": "display_data"
    },
    {
     "data": {
      "image/png": "[encoded data removed]",
      "text/plain": [
       "<matplotlib.figure.Figure at 0x1aab2c7c10>"
      ]
     },
     "metadata": {},
     "output_type": "display_data"
    },
    {
     "data": {
      "image/png": "[encoded data removed]",
      "text/plain": [
       "<matplotlib.figure.Figure at 0x1aabae3410>"
      ]
     },
     "metadata": {},
     "output_type": "display_data"
    },
    {
     "data": {
      "image/png": "[encoded data removed]",
      "text/plain": [
       "<matplotlib.figure.Figure at 0x1aaccc3bd0>"
      ]
     },
     "metadata": {},
     "output_type": "display_data"
    },
    {
     "data": {
      "image/png": "[encoded data removed]",
      "text/plain": [
       "<matplotlib.figure.Figure at 0x1ab54f64d0>"
      ]
     },
     "metadata": {},
     "output_type": "display_data"
    },
    {
     "data": {
      "image/png": "[encoded data removed]",
      "text/plain": [
       "<matplotlib.figure.Figure at 0x1ab617ec10>"
      ]
     },
     "metadata": {},
     "output_type": "display_data"
    },
    {
     "data": {
      "image/png": "[encoded data removed]",
      "text/plain": [
       "<matplotlib.figure.Figure at 0x1aad208510>"
      ]
     },
     "metadata": {},
     "output_type": "display_data"
    },
    {
     "data": {
      "image/png": "[encoded data removed]",
      "text/plain": [
       "<matplotlib.figure.Figure at 0x1aadcb6f90>"
      ]
     },
     "metadata": {},
     "output_type": "display_data"
    },
    {
     "data": {
      "image/png": "[encoded data removed]",
      "text/plain": [
       "<matplotlib.figure.Figure at 0x1aad464850>"
      ]
     },
     "metadata": {},
     "output_type": "display_data"
    },
    {
     "data": {
      "image/png": "[encoded data removed]",
      "text/plain": [
       "<matplotlib.figure.Figure at 0x1aafe4d1d0>"
      ]
     },
     "metadata": {},
     "output_type": "display_data"
    },
    {
     "data": {
      "image/png": "[encoded data removed]",
      "text/plain": [
       "<matplotlib.figure.Figure at 0x1aadba2290>"
      ]
     },
     "metadata": {},
     "output_type": "display_data"
    },
    {
     "data": {
      "image/png": "[encoded data removed]",
      "text/plain": [
       "<matplotlib.figure.Figure at 0x1ab2ee0b90>"
      ]
     },
     "metadata": {},
     "output_type": "display_data"
    },
    {
     "data": {
      "image/png": "[encoded data removed]",
      "text/plain": [
       "<matplotlib.figure.Figure at 0x1ab4441f10>"
      ]
     },
     "metadata": {},
     "output_type": "display_data"
    },
    {
     "data": {
      "image/png": "[encoded data removed]",
      "text/plain": [
       "<matplotlib.figure.Figure at 0x1ab4d316d0>"
      ]
     },
     "metadata": {},
     "output_type": "display_data"
    },
    {
     "data": {
      "image/png": "[encoded data removed]",
      "text/plain": [
       "<matplotlib.figure.Figure at 0x1aaed54cd0>"
      ]
     },
     "metadata": {},
     "output_type": "display_data"
    },
    {
     "data": {
      "image/png": "[encoded data removed]",
      "text/plain": [
       "<matplotlib.figure.Figure at 0x1ab4a24690>"
      ]
     },
     "metadata": {},
     "output_type": "display_data"
    },
    {
     "data": {
      "image/png": "[encoded data removed]",
      "text/plain": [
       "<matplotlib.figure.Figure at 0x1ab3683090>"
      ]
     },
     "metadata": {},
     "output_type": "display_data"
    },
    {
     "data": {
      "image/png": "[encoded data removed]",
      "text/plain": [
       "<matplotlib.figure.Figure at 0x1ab3c2fa50>"
      ]
     },
     "metadata": {},
     "output_type": "display_data"
    },
    {
     "data": {
      "image/png": "[encoded data removed]",
      "text/plain": [
       "<matplotlib.figure.Figure at 0x1abc621cd0>"
      ]
     },
     "metadata": {},
     "output_type": "display_data"
    },
    {
     "data": {
      "image/png": "[encoded data removed]",
      "text/plain": [
       "<matplotlib.figure.Figure at 0x1abd7bd810>"
      ]
     },
     "metadata": {},
     "output_type": "display_data"
    },
    {
     "data": {
      "image/png": "[encoded data removed]",
      "text/plain": [
       "<matplotlib.figure.Figure at 0x1abea44cd0>"
      ]
     },
     "metadata": {},
     "output_type": "display_data"
    },
    {
     "data": {
      "image/png": "[encoded data removed]",
      "text/plain": [
       "<matplotlib.figure.Figure at 0x1abeed4710>"
      ]
     },
     "metadata": {},
     "output_type": "display_data"
    },
    {
     "data": {
      "image/png": "[encoded data removed]",
      "text/plain": [
       "<matplotlib.figure.Figure at 0x1abe2b2b10>"
      ]
     },
     "metadata": {},
     "output_type": "display_data"
    },
    {
     "data": {
      "image/png": "[encoded data removed]",
      "text/plain": [
       "<matplotlib.figure.Figure at 0x1abcfdaa90>"
      ]
     },
     "metadata": {},
     "output_type": "display_data"
    },
    {
     "data": {
      "image/png": "[encoded data removed]",
      "text/plain": [
       "<matplotlib.figure.Figure at 0x1ac0179c90>"
      ]
     },
     "metadata": {},
     "output_type": "display_data"
    },
    {
     "data": {
      "image/png": "[encoded data removed]",
      "text/plain": [
       "<matplotlib.figure.Figure at 0x1ac277a6d0>"
      ]
     },
     "metadata": {},
     "output_type": "display_data"
    },
    {
     "data": {
      "image/png": "[encoded data removed]",
      "text/plain": [
       "<matplotlib.figure.Figure at 0x1ac04eae10>"
      ]
     },
     "metadata": {},
     "output_type": "display_data"
    }
   ],
   "source": [
    "for i,s in enumerate(valid_sessions):  \n",
    "    image_recs = coll.find({'$and': [{'time': {'$gt': time_threshold}}, {'sessionId':s}, {'dataType':'finalImage'}]}).sort('time')    \n",
    "    num_drawings = image_recs.count()\n",
    "    if num_drawings > 2 :\n",
    "        print 'Great! Number of drawings made by this person: {}'.format(image_recs.count())        \n",
    "        ### now try looping through all images made during this session and render out\n",
    "        try:\n",
    "            image_recs = coll.find({'$and': [{'time': {'$gt': time_threshold}}, {'sessionId':s}, {'dataType':'finalImage'}]}).sort('time')    \n",
    "            for imrec in image_recs:         \n",
    "                if imrec['category'] in practice_categories: # only save practice category trials\n",
    "                    stroke_recs = coll.find({'$and': [{'time': {'$gt': time_threshold}}, \n",
    "                                                      {'sessionId':s}, \n",
    "                                                      {'dataType':'stroke'},\n",
    "                                                      {'trialNum': imrec['trialNum']}]}).sort('time')  \n",
    "                    ## check to make sure that there is at least one stroke! \n",
    "                    assert stroke_recs.count()>0\n",
    "\n",
    "                    ## some handy metadata for writing out the sketch PNG filename\n",
    "                    trial_num = stroke_recs[0]['trialNum']\n",
    "                    category = stroke_recs[0]['category']\n",
    "                    session_id = stroke_recs[0]['sessionId']\n",
    "                    age = stroke_recs[0]['age']\n",
    "\n",
    "                    ## now make an svg list!\n",
    "                    svg_list = make_svg_list(stroke_recs)\n",
    "\n",
    "                    ## now get me some verts and codes!\n",
    "                    Verts, Codes = get_verts_and_codes(svg_list)\n",
    "\n",
    "                    ## now render out your cumulative sketches and save out as pngs!\n",
    "                    render_and_save(Verts,\n",
    "                                    Codes,\n",
    "                                    line_width=5,\n",
    "                                    imsize=6,\n",
    "                                    canvas_size=809,\n",
    "                                    session_id=session_id,\n",
    "                                    age=age,\n",
    "                                    trial_num=trial_num,\n",
    "                                    category=category)\n",
    "\n",
    "        except Exception as e:\n",
    "            print 'Oops, something went wrong! Here is the error:'  \n",
    "            print e\n",
    "            pass\n"
   ]
  },
  {
   "cell_type": "code",
   "execution_count": null,
   "metadata": {},
   "outputs": [],
   "source": []
  },
  {
   "cell_type": "code",
   "execution_count": null,
   "metadata": {
    "scrolled": false
   },
   "outputs": [],
   "source": []
  },
  {
   "cell_type": "code",
   "execution_count": null,
   "metadata": {},
   "outputs": [],
   "source": []
  },
  {
   "cell_type": "code",
   "execution_count": null,
   "metadata": {},
   "outputs": [],
   "source": []
  },
  {
   "cell_type": "code",
   "execution_count": null,
   "metadata": {},
   "outputs": [],
   "source": []
  },
  {
   "cell_type": "code",
   "execution_count": null,
   "metadata": {},
   "outputs": [],
   "source": []
  },
  {
   "cell_type": "code",
   "execution_count": null,
   "metadata": {},
   "outputs": [],
   "source": []
  },
  {
   "cell_type": "code",
   "execution_count": null,
   "metadata": {
    "scrolled": false
   },
   "outputs": [],
   "source": []
  },
  {
   "cell_type": "code",
   "execution_count": null,
   "metadata": {},
   "outputs": [],
   "source": []
  },
  {
   "cell_type": "code",
   "execution_count": null,
   "metadata": {},
   "outputs": [],
   "source": []
  },
  {
   "cell_type": "code",
   "execution_count": null,
   "metadata": {},
   "outputs": [],
   "source": []
  }
 ],
 "metadata": {
  "kernelspec": {
   "display_name": "Python 2",
   "language": "python",
   "name": "python2"
  },
  "language_info": {
   "codemirror_mode": {
    "name": "ipython",
    "version": 2
   },
   "file_extension": ".py",
   "mimetype": "text/x-python",
   "name": "python",
   "nbconvert_exporter": "python",
   "pygments_lexer": "ipython2",
   "version": "2.7.14"
  }
 },
 "nbformat": 4,
 "nbformat_minor": 1
}
