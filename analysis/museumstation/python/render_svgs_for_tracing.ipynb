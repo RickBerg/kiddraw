{
 "cells": [
  {
   "cell_type": "code",
   "execution_count": 1,
   "metadata": {
    "collapsed": true
   },
   "outputs": [],
   "source": [
    "## remember to run conn_cocolab from the terminal before running cells in this notebook!\n",
    "from __future__ import division\n",
    "import os\n",
    "import urllib, cStringIO\n",
    "\n",
    "import pymongo as pm\n",
    "from PIL import Image\n",
    "import base64\n",
    "\n",
    "import numpy as np\n",
    "from numpy import *\n",
    "import os\n",
    "import PIL\n",
    "from PIL import Image\n",
    "import base64\n",
    "import matplotlib\n",
    "from matplotlib import pylab, mlab, pyplot\n",
    "%matplotlib inline\n",
    "from IPython.core.pylabtools import figsize, getfigs\n",
    "plt = pyplot\n",
    "import seaborn as sns\n",
    "sns.set_context('poster')\n",
    "sns.set_style('white')\n",
    "from matplotlib.path import Path\n",
    "import matplotlib.patches as patches\n",
    "\n",
    "\n",
    "import cStringIO\n",
    "import pandas as pd\n",
    "import pymongo as pm ## first establish ssh tunnel to server where database is running\n",
    "from matplotlib.path import Path\n",
    "import matplotlib.patches as patches\n",
    "from svgpathtools import parse_path"
   ]
  },
  {
   "cell_type": "code",
   "execution_count": 2,
   "metadata": {
    "collapsed": true
   },
   "outputs": [],
   "source": [
    "# directory & file hierarchy\n",
    "exp_path = 'museumdraw'\n",
    "analysis_dir = os.getcwd()\n",
    "exp_dir = os.path.abspath(os.path.join(os.getcwd(),'../..','experiments'))\n",
    "##\n",
    "sketch_dir = os.path.join(analysis_dir,'sketches')\n",
    "if not os.path.exists(sketch_dir):\n",
    "    os.makedirs(sketch_dir)\n",
    "## dir where we can keep all sketches not binned by category    \n"
   ]
  },
  {
   "cell_type": "code",
   "execution_count": 4,
   "metadata": {
    "collapsed": true
   },
   "outputs": [],
   "source": [
    "# set vars \n",
    "auth = pd.read_csv('auth.txt', header = None) # this auth.txt file contains the password for the sketchloop user\n",
    "pswd = auth.values[0][0]\n",
    "user = 'sketchloop'\n",
    "host = 'rxdhawkins.me' ## cocolab ip address\n",
    "\n",
    "# have to fix this to be able to analyze from local\n",
    "import pymongo as pm\n",
    "experiment_name = \"cdm_run_v3\"\n",
    "conn = pm.MongoClient('mongodb://sketchloop:' + pswd + '@127.0.0.1')\n",
    "db = conn['kiddraw']\n",
    "coll = db[experiment_name]\n"
   ]
  },
  {
   "cell_type": "code",
   "execution_count": 5,
   "metadata": {},
   "outputs": [
    {
     "name": "stdout",
     "output_type": "stream",
     "text": [
      "We currently have 1115 valid sessions from cdm_run_v3.\n"
     ]
    }
   ],
   "source": [
    "all_sessions = coll.distinct('sessionId') ## this returns ALL sessions in this collection. \n",
    "valid_sessions = coll.find().distinct('sessionId')\n",
    "practice_categories = ['square','shape','this circle']\n",
    "print 'We currently have {} valid sessions from {}.'.format(len(valid_sessions), experiment_name)"
   ]
  },
  {
   "cell_type": "code",
   "execution_count": null,
   "metadata": {
    "collapsed": true
   },
   "outputs": [],
   "source": []
  },
  {
   "cell_type": "markdown",
   "metadata": {},
   "source": [
    "#### helper functions for svg rendering"
   ]
  },
  {
   "cell_type": "code",
   "execution_count": 6,
   "metadata": {
    "collapsed": true
   },
   "outputs": [],
   "source": [
    "def polyline_pathmaker(lines):\n",
    "    x = []\n",
    "    y = []\n",
    "\n",
    "    codes = [Path.MOVETO] # start with moveto command always\n",
    "    for i,l in enumerate(lines):\n",
    "        for _i,_l in enumerate(l):\n",
    "            x.append(_l[0])\n",
    "            y.append(_l[1])\n",
    "            if _i<len(l)-1:\n",
    "                codes.append(Path.LINETO) # keep pen on page\n",
    "            else:\n",
    "                if i != len(lines)-1: # final vertex\n",
    "                    codes.append(Path.MOVETO)\n",
    "    verts = zip(x,y) \n",
    "    return verts, codes\n",
    "\n",
    "def path_renderer(verts, codes):\n",
    "    fig = plt.figure(figsize=(6,6))\n",
    "    ax = fig.add_subplot(111)\n",
    "    if len(verts)>0:\n",
    "        path = Path(verts, codes)\n",
    "        patch = patches.PathPatch(path, facecolor='none', lw=2)\n",
    "        ax.add_patch(patch)\n",
    "        ax.set_xlim(0,1638)\n",
    "        ax.set_ylim(0,1638) \n",
    "        ax.axis('off')\n",
    "        plt.gca().invert_yaxis() # y values increase as you go down in image\n",
    "        plt.show()\n",
    "    else:\n",
    "        ax.set_xlim(0,1638)\n",
    "        ax.set_ylim(0,1638)        \n",
    "        ax.axis('off')\n",
    "        plt.show()\n",
    "    plt.savefig()\n",
    "    plt.close()\n",
    "    \n",
    "def flatten(x):\n",
    "    return [val for sublist in x for val in sublist]"
   ]
  },
  {
   "cell_type": "code",
   "execution_count": 25,
   "metadata": {
    "collapsed": true
   },
   "outputs": [],
   "source": [
    "def get_verts_and_codes(svg_list):\n",
    "    '''\n",
    "    parse into x,y coordinates and output list of lists of coordinates\n",
    "    \n",
    "    '''    \n",
    "    lines = []\n",
    "    Verts = []\n",
    "    Codes = []\n",
    "    for stroke_ind,stroke in enumerate(svg_list):\n",
    "        x = []\n",
    "        y = []\n",
    "        parsed = parse_path(stroke)\n",
    "        for i,p in enumerate(parsed):\n",
    "            if i!=len(parsed)-1: # last line segment\n",
    "                x.append(p.start.real)\n",
    "                y.append(p.start.imag)    \n",
    "            else:\n",
    "                x.append(p.start.real)\n",
    "                y.append(p.start.imag)     \n",
    "                x.append(p.end.real)\n",
    "                y.append(p.end.imag)\n",
    "        lines.append(zip(x,y))\n",
    "        verts, codes = polyline_pathmaker(lines)\n",
    "        Verts.append(verts)\n",
    "        Codes.append(codes) \n",
    "    return Verts, Codes\n",
    "    \n",
    "def make_svg_list(stroke_recs):\n",
    "    '''\n",
    "    grab sample drawing's strokes and make a list of svg strings from it\n",
    "    '''\n",
    "    svg_list = []\n",
    "    for single_stroke in stroke_recs:\n",
    "        svg_string = single_stroke['svg']\n",
    "        svg_list.append(svg_string)  \n",
    "        \n",
    "    return svg_list\n",
    "    \n",
    "    \n",
    "def render_and_save(Verts,\n",
    "                    Codes,\n",
    "                    line_width=5,\n",
    "                    imsize=6,\n",
    "                    canvas_size=809,\n",
    "                    session_id='SESSION_ID',\n",
    "                    age='AGE',\n",
    "                    trial_num='TRIAL_NUM',\n",
    "                    category='CATEGORY'):\n",
    "    \n",
    "    '''\n",
    "    input: \n",
    "        line_width: how wide of strokes do we want? (int)\n",
    "        imsize: how big of a picture do we want? (setting the size of the figure) \n",
    "        canvas_size: original canvas size on tablet?\n",
    "        out_path: where do you want to save your images? currently hardcoded below.        \n",
    "    output:\n",
    "        rendered sketches into nested directories\n",
    "    \n",
    "    '''\n",
    "    ## where do you want to save your cumulative drawings?\n",
    "    out_path = os.path.join('./cumulative_drawings','{}_{}'.format(session_id,age),'{}_{}'.format(trial_num,category))\n",
    "    if not os.path.exists('./cumulative_drawings'):\n",
    "        os.makedirs('./cumulative_drawings')\n",
    "    if not os.path.exists(os.path.join('cumulative_drawings','{}_{}'.format(session_id,age))):\n",
    "        os.makedirs(os.path.join('cumulative_drawings','{}_{}'.format(session_id,age)))\n",
    "\n",
    "    verts = Verts[0]\n",
    "    codes = Codes[0]\n",
    "    for i,verts in enumerate(Verts):\n",
    "        codes = Codes[i]\n",
    "        fig = plt.figure(figsize=(imsize,imsize), frameon=False)    \n",
    "        ax = plt.subplot(111)\n",
    "        ax.axis('off')\n",
    "        ax.set_xlim(0,canvas_size)\n",
    "        ax.set_ylim(0,canvas_size)\n",
    "        \n",
    "        # remove padding for xaxis and y axis\n",
    "        ax.axes.get_xaxis().set_visible(False)\n",
    "        ax.axes.get_yaxis().set_visible(False)\n",
    "        # remove further paddings\n",
    "        plt.subplots_adjust(top = 1, bottom = 0, right = 1, left = 0, \n",
    "            hspace = 0, wspace = 0)\n",
    "        \n",
    "        ### render sketch so far\n",
    "        if len(verts)>0:\n",
    "            path = Path(verts, codes)\n",
    "            patch = patches.PathPatch(path, facecolor='none', lw=line_width)\n",
    "            ax.add_patch(patch)\n",
    "            plt.gca().invert_yaxis() # y values increase as you go down in image\n",
    "#             plt.show()\n",
    "\n",
    "\n",
    "        ## save out as png \n",
    "        ## maybe to make it not render every single thing, use plt.ioff\n",
    "        if not os.path.exists(out_path):\n",
    "            os.makedirs(out_path)\n",
    "        fname = '{}_{}_{}_{}.png'.format(session_id,trial_num,category,i)\n",
    "        filepath = os.path.join(out_path,fname)\n",
    "        print filepath\n",
    "        \n",
    "        fig.savefig(filepath, bbox_inches='tight', pad_inches=0.0)\n",
    "        plt.close(fig)        "
   ]
  },
  {
   "cell_type": "code",
   "execution_count": 33,
   "metadata": {},
   "outputs": [
    {
     "data": {
      "text/plain": [
       "u'cdm_run_v31527966780680'"
      ]
     },
     "execution_count": 33,
     "metadata": {},
     "output_type": "execute_result"
    }
   ],
   "source": [
    "these_image_recs = coll.find({'$and': [{'dataType':'finalImage'},{'category':'an airplane'},{'age':'age4'}]}).sort('time')\n",
    "these_image_recs.count()\n",
    "these_image_recs[0]['sessionId']"
   ]
  },
  {
   "cell_type": "code",
   "execution_count": 34,
   "metadata": {},
   "outputs": [
    {
     "name": "stdout",
     "output_type": "stream",
     "text": [
      "./cumulative_drawings/cdm_run_v31527966780680_age4/4_an airplane/cdm_run_v31527966780680_4_an airplane_0.png\n",
      "./cumulative_drawings/cdm_run_v31527966780680_age4/4_an airplane/cdm_run_v31527966780680_4_an airplane_1.png\n",
      "./cumulative_drawings/cdm_run_v31527966780680_age4/4_an airplane/cdm_run_v31527966780680_4_an airplane_2.png\n",
      "./cumulative_drawings/cdm_run_v31527966780680_age4/4_an airplane/cdm_run_v31527966780680_4_an airplane_3.png\n",
      "./cumulative_drawings/cdm_run_v31527966780680_age4/4_an airplane/cdm_run_v31527966780680_4_an airplane_4.png\n",
      "./cumulative_drawings/cdm_run_v31527969790348_age4/7_an airplane/cdm_run_v31527969790348_7_an airplane_0.png\n",
      "./cumulative_drawings/cdm_run_v31527969790348_age4/7_an airplane/cdm_run_v31527969790348_7_an airplane_1.png\n",
      "./cumulative_drawings/cdm_run_v31527969790348_age4/7_an airplane/cdm_run_v31527969790348_7_an airplane_2.png\n",
      "./cumulative_drawings/cdm_run_v31527969790348_age4/7_an airplane/cdm_run_v31527969790348_7_an airplane_3.png\n",
      "./cumulative_drawings/cdm_run_v31527969790348_age4/7_an airplane/cdm_run_v31527969790348_7_an airplane_4.png\n",
      "./cumulative_drawings/cdm_run_v31527969790348_age4/7_an airplane/cdm_run_v31527969790348_7_an airplane_5.png\n",
      "./cumulative_drawings/cdm_run_v31527969790348_age4/7_an airplane/cdm_run_v31527969790348_7_an airplane_6.png\n",
      "./cumulative_drawings/cdm_run_v31527969790348_age4/7_an airplane/cdm_run_v31527969790348_7_an airplane_7.png\n",
      "./cumulative_drawings/cdm_run_v31527969790348_age4/7_an airplane/cdm_run_v31527969790348_7_an airplane_8.png\n",
      "./cumulative_drawings/cdm_run_v31527969790348_age4/7_an airplane/cdm_run_v31527969790348_7_an airplane_9.png\n",
      "./cumulative_drawings/cdm_run_v31527969790348_age4/7_an airplane/cdm_run_v31527969790348_7_an airplane_10.png\n",
      "./cumulative_drawings/cdm_run_v31527969790348_age4/7_an airplane/cdm_run_v31527969790348_7_an airplane_11.png\n",
      "./cumulative_drawings/cdm_run_v31527969790348_age4/7_an airplane/cdm_run_v31527969790348_7_an airplane_12.png\n",
      "./cumulative_drawings/cdm_run_v31527969790348_age4/7_an airplane/cdm_run_v31527969790348_7_an airplane_13.png\n",
      "./cumulative_drawings/cdm_run_v31527970799228_age4/4_an airplane/cdm_run_v31527970799228_4_an airplane_0.png\n",
      "./cumulative_drawings/cdm_run_v31527970799228_age4/4_an airplane/cdm_run_v31527970799228_4_an airplane_1.png\n",
      "./cumulative_drawings/cdm_run_v31527970799228_age4/4_an airplane/cdm_run_v31527970799228_4_an airplane_2.png\n",
      "./cumulative_drawings/cdm_run_v31527970799228_age4/4_an airplane/cdm_run_v31527970799228_4_an airplane_3.png\n",
      "./cumulative_drawings/cdm_run_v31527970799228_age4/4_an airplane/cdm_run_v31527970799228_4_an airplane_4.png\n",
      "./cumulative_drawings/cdm_run_v31527970799228_age4/4_an airplane/cdm_run_v31527970799228_4_an airplane_5.png\n",
      "./cumulative_drawings/cdm_run_v31527970799228_age4/4_an airplane/cdm_run_v31527970799228_4_an airplane_6.png\n",
      "./cumulative_drawings/cdm_run_v31527980064618_age4/4_an airplane/cdm_run_v31527980064618_4_an airplane_0.png\n",
      "./cumulative_drawings/cdm_run_v31527980064618_age4/4_an airplane/cdm_run_v31527980064618_4_an airplane_1.png\n",
      "./cumulative_drawings/cdm_run_v31527980064618_age4/4_an airplane/cdm_run_v31527980064618_4_an airplane_2.png\n",
      "Oops, something went wrong! Here is the error:\n",
      "'codes' must be a 1D list or array with the same length of 'vertices'\n",
      "./cumulative_drawings/cdm_run_v31528052168660_age4/5_an airplane/cdm_run_v31528052168660_5_an airplane_0.png\n",
      "./cumulative_drawings/cdm_run_v31528052168660_age4/5_an airplane/cdm_run_v31528052168660_5_an airplane_1.png\n",
      "./cumulative_drawings/cdm_run_v31528052168660_age4/5_an airplane/cdm_run_v31528052168660_5_an airplane_2.png\n",
      "./cumulative_drawings/cdm_run_v31528052168660_age4/5_an airplane/cdm_run_v31528052168660_5_an airplane_3.png\n",
      "./cumulative_drawings/cdm_run_v31528052168660_age4/5_an airplane/cdm_run_v31528052168660_5_an airplane_4.png\n",
      "Oops, something went wrong! Here is the error:\n",
      "'codes' must be a 1D list or array with the same length of 'vertices'\n",
      "./cumulative_drawings/cdm_run_v31528135799225_age4/9_an airplane/cdm_run_v31528135799225_9_an airplane_0.png\n",
      "./cumulative_drawings/cdm_run_v31528135799225_age4/9_an airplane/cdm_run_v31528135799225_9_an airplane_1.png\n",
      "./cumulative_drawings/cdm_run_v31528135799225_age4/9_an airplane/cdm_run_v31528135799225_9_an airplane_2.png\n",
      "./cumulative_drawings/cdm_run_v31528135799225_age4/9_an airplane/cdm_run_v31528135799225_9_an airplane_3.png\n",
      "./cumulative_drawings/cdm_run_v31528135799225_age4/9_an airplane/cdm_run_v31528135799225_9_an airplane_4.png\n",
      "./cumulative_drawings/cdm_run_v31528316999098_age4/7_an airplane/cdm_run_v31528316999098_7_an airplane_0.png\n",
      "./cumulative_drawings/cdm_run_v31528316999098_age4/7_an airplane/cdm_run_v31528316999098_7_an airplane_1.png\n",
      "./cumulative_drawings/cdm_run_v31528316999098_age4/7_an airplane/cdm_run_v31528316999098_7_an airplane_2.png\n",
      "./cumulative_drawings/cdm_run_v31528316999098_age4/7_an airplane/cdm_run_v31528316999098_7_an airplane_3.png\n",
      "./cumulative_drawings/cdm_run_v31528316999098_age4/7_an airplane/cdm_run_v31528316999098_7_an airplane_4.png\n",
      "./cumulative_drawings/cdm_run_v31528316999098_age4/7_an airplane/cdm_run_v31528316999098_7_an airplane_5.png\n",
      "./cumulative_drawings/cdm_run_v31528324072022_age4/5_an airplane/cdm_run_v31528324072022_5_an airplane_0.png\n",
      "./cumulative_drawings/cdm_run_v31528324990435_age4/7_an airplane/cdm_run_v31528324990435_7_an airplane_0.png\n",
      "./cumulative_drawings/cdm_run_v31528324990435_age4/7_an airplane/cdm_run_v31528324990435_7_an airplane_1.png\n",
      "./cumulative_drawings/cdm_run_v31528324990435_age4/7_an airplane/cdm_run_v31528324990435_7_an airplane_2.png\n",
      "./cumulative_drawings/cdm_run_v31528324990435_age4/7_an airplane/cdm_run_v31528324990435_7_an airplane_3.png\n",
      "./cumulative_drawings/cdm_run_v31528324990435_age4/7_an airplane/cdm_run_v31528324990435_7_an airplane_4.png\n",
      "./cumulative_drawings/cdm_run_v31528324990435_age4/7_an airplane/cdm_run_v31528324990435_7_an airplane_5.png\n",
      "./cumulative_drawings/cdm_run_v31528324990435_age4/7_an airplane/cdm_run_v31528324990435_7_an airplane_6.png\n",
      "./cumulative_drawings/cdm_run_v31528324990435_age4/7_an airplane/cdm_run_v31528324990435_7_an airplane_7.png\n",
      "./cumulative_drawings/cdm_run_v31528324990435_age4/7_an airplane/cdm_run_v31528324990435_7_an airplane_8.png\n",
      "./cumulative_drawings/cdm_run_v31528324990435_age4/7_an airplane/cdm_run_v31528324990435_7_an airplane_9.png\n",
      "./cumulative_drawings/cdm_run_v31528324990435_age4/7_an airplane/cdm_run_v31528324990435_7_an airplane_10.png\n",
      "./cumulative_drawings/cdm_run_v31528324990435_age4/7_an airplane/cdm_run_v31528324990435_7_an airplane_11.png\n",
      "./cumulative_drawings/cdm_run_v31528324990435_age4/7_an airplane/cdm_run_v31528324990435_7_an airplane_12.png\n",
      "./cumulative_drawings/cdm_run_v31528324990435_age4/7_an airplane/cdm_run_v31528324990435_7_an airplane_13.png\n",
      "./cumulative_drawings/cdm_run_v31528324990435_age4/7_an airplane/cdm_run_v31528324990435_7_an airplane_14.png\n",
      "./cumulative_drawings/cdm_run_v31528324990435_age4/7_an airplane/cdm_run_v31528324990435_7_an airplane_15.png\n",
      "./cumulative_drawings/cdm_run_v31528324990435_age4/7_an airplane/cdm_run_v31528324990435_7_an airplane_16.png\n",
      "Oops, something went wrong! Here is the error:\n",
      "'codes' must be a 1D list or array with the same length of 'vertices'\n",
      "./cumulative_drawings/cdm_run_v31528494599151_age4/3_an airplane/cdm_run_v31528494599151_3_an airplane_0.png\n",
      "./cumulative_drawings/cdm_run_v31528494599151_age4/3_an airplane/cdm_run_v31528494599151_3_an airplane_1.png\n",
      "./cumulative_drawings/cdm_run_v31528494599151_age4/3_an airplane/cdm_run_v31528494599151_3_an airplane_2.png\n",
      "./cumulative_drawings/cdm_run_v31528494599151_age4/3_an airplane/cdm_run_v31528494599151_3_an airplane_3.png\n",
      "./cumulative_drawings/cdm_run_v31528494599151_age4/3_an airplane/cdm_run_v31528494599151_3_an airplane_4.png\n",
      "./cumulative_drawings/cdm_run_v31528494599151_age4/3_an airplane/cdm_run_v31528494599151_3_an airplane_5.png\n",
      "./cumulative_drawings/cdm_run_v31528494599151_age4/3_an airplane/cdm_run_v31528494599151_3_an airplane_6.png\n",
      "./cumulative_drawings/cdm_run_v31528494599151_age4/3_an airplane/cdm_run_v31528494599151_3_an airplane_7.png\n",
      "./cumulative_drawings/cdm_run_v31528494599151_age4/3_an airplane/cdm_run_v31528494599151_3_an airplane_8.png\n",
      "./cumulative_drawings/cdm_run_v31528494599151_age4/3_an airplane/cdm_run_v31528494599151_3_an airplane_9.png\n"
     ]
    },
    {
     "name": "stdout",
     "output_type": "stream",
     "text": [
      "./cumulative_drawings/cdm_run_v31528499399037_age4/9_an airplane/cdm_run_v31528499399037_9_an airplane_0.png\n",
      "./cumulative_drawings/cdm_run_v31528499399037_age4/9_an airplane/cdm_run_v31528499399037_9_an airplane_1.png\n",
      "./cumulative_drawings/cdm_run_v31528499399037_age4/9_an airplane/cdm_run_v31528499399037_9_an airplane_2.png\n",
      "./cumulative_drawings/cdm_run_v31528499399037_age4/9_an airplane/cdm_run_v31528499399037_9_an airplane_3.png\n",
      "./cumulative_drawings/cdm_run_v31528499399037_age4/9_an airplane/cdm_run_v31528499399037_9_an airplane_4.png\n",
      "./cumulative_drawings/cdm_run_v31528499399037_age4/9_an airplane/cdm_run_v31528499399037_9_an airplane_5.png\n",
      "./cumulative_drawings/cdm_run_v31528499399037_age4/9_an airplane/cdm_run_v31528499399037_9_an airplane_6.png\n",
      "./cumulative_drawings/cdm_run_v31528499399037_age4/9_an airplane/cdm_run_v31528499399037_9_an airplane_7.png\n",
      "./cumulative_drawings/cdm_run_v31528499399037_age4/9_an airplane/cdm_run_v31528499399037_9_an airplane_8.png\n",
      "./cumulative_drawings/cdm_run_v31528499399037_age4/9_an airplane/cdm_run_v31528499399037_9_an airplane_9.png\n",
      "./cumulative_drawings/cdm_run_v31528572599284_age4/10_an airplane/cdm_run_v31528572599284_10_an airplane_0.png\n",
      "./cumulative_drawings/cdm_run_v31528572599284_age4/10_an airplane/cdm_run_v31528572599284_10_an airplane_1.png\n",
      "./cumulative_drawings/cdm_run_v31528572599284_age4/10_an airplane/cdm_run_v31528572599284_10_an airplane_2.png\n",
      "./cumulative_drawings/cdm_run_v31528572599284_age4/10_an airplane/cdm_run_v31528572599284_10_an airplane_3.png\n",
      "./cumulative_drawings/cdm_run_v31528572599284_age4/10_an airplane/cdm_run_v31528572599284_10_an airplane_4.png\n",
      "./cumulative_drawings/cdm_run_v31528572599284_age4/10_an airplane/cdm_run_v31528572599284_10_an airplane_5.png\n",
      "./cumulative_drawings/cdm_run_v31528572599284_age4/10_an airplane/cdm_run_v31528572599284_10_an airplane_6.png\n",
      "./cumulative_drawings/cdm_run_v31528572599284_age4/10_an airplane/cdm_run_v31528572599284_10_an airplane_7.png\n",
      "./cumulative_drawings/cdm_run_v31528572599284_age4/10_an airplane/cdm_run_v31528572599284_10_an airplane_8.png\n",
      "./cumulative_drawings/cdm_run_v31528572599284_age4/10_an airplane/cdm_run_v31528572599284_10_an airplane_9.png\n",
      "./cumulative_drawings/cdm_run_v31528572599284_age4/10_an airplane/cdm_run_v31528572599284_10_an airplane_10.png\n",
      "./cumulative_drawings/cdm_run_v31528572599284_age4/10_an airplane/cdm_run_v31528572599284_10_an airplane_11.png\n",
      "./cumulative_drawings/cdm_run_v31528572599284_age4/10_an airplane/cdm_run_v31528572599284_10_an airplane_12.png\n",
      "./cumulative_drawings/cdm_run_v31528572599284_age4/10_an airplane/cdm_run_v31528572599284_10_an airplane_13.png\n",
      "Oops, something went wrong! Here is the error:\n",
      "'codes' must be a 1D list or array with the same length of 'vertices'\n",
      "./cumulative_drawings/cdm_run_v31528580999095_age4/8_an airplane/cdm_run_v31528580999095_8_an airplane_0.png\n",
      "./cumulative_drawings/cdm_run_v31528580999095_age4/8_an airplane/cdm_run_v31528580999095_8_an airplane_1.png\n",
      "./cumulative_drawings/cdm_run_v31528580999095_age4/8_an airplane/cdm_run_v31528580999095_8_an airplane_2.png\n",
      "./cumulative_drawings/cdm_run_v31528580999095_age4/8_an airplane/cdm_run_v31528580999095_8_an airplane_3.png\n",
      "Oops, something went wrong! Here is the error:\n",
      "'codes' must be a 1D list or array with the same length of 'vertices'\n",
      "./cumulative_drawings/cdm_run_v31528581653329_age4/5_an airplane/cdm_run_v31528581653329_5_an airplane_0.png\n",
      "./cumulative_drawings/cdm_run_v31528581653329_age4/5_an airplane/cdm_run_v31528581653329_5_an airplane_1.png\n",
      "./cumulative_drawings/cdm_run_v31528581653329_age4/5_an airplane/cdm_run_v31528581653329_5_an airplane_2.png\n",
      "./cumulative_drawings/cdm_run_v31528581653329_age4/5_an airplane/cdm_run_v31528581653329_5_an airplane_3.png\n",
      "./cumulative_drawings/cdm_run_v31528581653329_age4/5_an airplane/cdm_run_v31528581653329_5_an airplane_4.png\n",
      "./cumulative_drawings/cdm_run_v31528581653329_age4/5_an airplane/cdm_run_v31528581653329_5_an airplane_5.png\n",
      "./cumulative_drawings/cdm_run_v31528581653329_age4/5_an airplane/cdm_run_v31528581653329_5_an airplane_6.png\n",
      "./cumulative_drawings/cdm_run_v31528581653329_age4/5_an airplane/cdm_run_v31528581653329_5_an airplane_7.png\n",
      "./cumulative_drawings/cdm_run_v31528581653329_age4/5_an airplane/cdm_run_v31528581653329_5_an airplane_8.png\n",
      "./cumulative_drawings/cdm_run_v31528581653329_age4/5_an airplane/cdm_run_v31528581653329_5_an airplane_9.png\n",
      "./cumulative_drawings/cdm_run_v31528585199054_age4/9_an airplane/cdm_run_v31528585199054_9_an airplane_0.png\n",
      "./cumulative_drawings/cdm_run_v31528585199054_age4/9_an airplane/cdm_run_v31528585199054_9_an airplane_1.png\n",
      "Oops, something went wrong! Here is the error:\n",
      "'codes' must be a 1D list or array with the same length of 'vertices'\n",
      "./cumulative_drawings/cdm_run_v31528843580055_age4/7_an airplane/cdm_run_v31528843580055_7_an airplane_0.png\n",
      "./cumulative_drawings/cdm_run_v31528843580055_age4/7_an airplane/cdm_run_v31528843580055_7_an airplane_1.png\n",
      "./cumulative_drawings/cdm_run_v31528843580055_age4/7_an airplane/cdm_run_v31528843580055_7_an airplane_2.png\n",
      "Oops, something went wrong! Here is the error:\n",
      "'codes' must be a 1D list or array with the same length of 'vertices'\n",
      "./cumulative_drawings/cdm_run_v31528845599021_age4/6_an airplane/cdm_run_v31528845599021_6_an airplane_0.png\n",
      "./cumulative_drawings/cdm_run_v31528845599021_age4/6_an airplane/cdm_run_v31528845599021_6_an airplane_1.png\n",
      "./cumulative_drawings/cdm_run_v31528845599021_age4/6_an airplane/cdm_run_v31528845599021_6_an airplane_2.png\n",
      "./cumulative_drawings/cdm_run_v31528845599021_age4/6_an airplane/cdm_run_v31528845599021_6_an airplane_3.png\n",
      "./cumulative_drawings/cdm_run_v31528845599021_age4/6_an airplane/cdm_run_v31528845599021_6_an airplane_4.png\n",
      "./cumulative_drawings/cdm_run_v31528845599021_age4/6_an airplane/cdm_run_v31528845599021_6_an airplane_5.png\n",
      "./cumulative_drawings/cdm_run_v31528845599021_age4/6_an airplane/cdm_run_v31528845599021_6_an airplane_6.png\n",
      "./cumulative_drawings/cdm_run_v31528845599021_age4/6_an airplane/cdm_run_v31528845599021_6_an airplane_7.png\n",
      "./cumulative_drawings/cdm_run_v31528845599021_age4/6_an airplane/cdm_run_v31528845599021_6_an airplane_8.png\n",
      "Oops, something went wrong! Here is the error:\n",
      "'codes' must be a 1D list or array with the same length of 'vertices'\n"
     ]
    },
    {
     "data": {
      "image/png": "[encoded data removed]",
      "text/plain": [
       "<matplotlib.figure.Figure at 0x1a25264cd0>"
      ]
     },
     "metadata": {},
     "output_type": "display_data"
    },
    {
     "data": {
      "image/png": "[encoded data removed]",
      "text/plain": [
       "<matplotlib.figure.Figure at 0x1a1e8ff3d0>"
      ]
     },
     "metadata": {},
     "output_type": "display_data"
    },
    {
     "data": {
      "image/png": "[encoded data removed]",
      "text/plain": [
       "<matplotlib.figure.Figure at 0x1a1b3ca810>"
      ]
     },
     "metadata": {},
     "output_type": "display_data"
    },
    {
     "data": {
      "image/png": "[encoded data removed]",
      "text/plain": [
       "<matplotlib.figure.Figure at 0x1a1d9a3950>"
      ]
     },
     "metadata": {},
     "output_type": "display_data"
    },
    {
     "data": {
      "image/png": "[encoded data removed]",
      "text/plain": [
       "<matplotlib.figure.Figure at 0x1a1c9cc290>"
      ]
     },
     "metadata": {},
     "output_type": "display_data"
    },
    {
     "data": {
      "image/png": "[encoded data removed]",
      "text/plain": [
       "<matplotlib.figure.Figure at 0x1a22da69d0>"
      ]
     },
     "metadata": {},
     "output_type": "display_data"
    },
    {
     "data": {
      "image/png": "[encoded data removed]",
      "text/plain": [
       "<matplotlib.figure.Figure at 0x1a1f62a3d0>"
      ]
     },
     "metadata": {},
     "output_type": "display_data"
    },
    {
     "data": {
      "image/png": "[encoded data removed]",
      "text/plain": [
       "<matplotlib.figure.Figure at 0x1a1eebdb90>"
      ]
     },
     "metadata": {},
     "output_type": "display_data"
    }
   ],
   "source": [
    "for imrec in these_image_recs:      \n",
    "        s = imrec['sessionId']\n",
    "        stroke_recs = coll.find({'$and': [{'sessionId':s}, \n",
    "                                          {'dataType':'stroke'},\n",
    "                                          {'trialNum': imrec['trialNum']}]}).sort('time')  \n",
    "        try:\n",
    "        ## check to make sure that there is at least one stroke! \n",
    "            if stroke_recs.count()>0:\n",
    "\n",
    "                ## some handy metadata for writing out the sketch PNG filename\n",
    "                trial_num = imrec['trialNum']\n",
    "                category = imrec['category']\n",
    "                session_id = imrec['sessionId']\n",
    "                age = imrec['age']\n",
    "\n",
    "                ## now make an svg list!\n",
    "                svg_list = make_svg_list(stroke_recs)\n",
    "\n",
    "                ## now get me some verts and codes!\n",
    "                Verts, Codes = get_verts_and_codes(svg_list)\n",
    "\n",
    "                ## now render out your cumulative sketches and save out as pngs!\n",
    "                render_and_save(Verts,\n",
    "                                Codes,\n",
    "                                line_width=5,\n",
    "                                imsize=6,\n",
    "                                canvas_size=809,\n",
    "                                session_id=session_id,\n",
    "                                age=age,\n",
    "                                trial_num=trial_num,\n",
    "                                category=category)\n",
    "\n",
    "        except Exception as e:\n",
    "            print 'Oops, something went wrong! Here is the error:'  \n",
    "            print e\n",
    "            pass\n"
   ]
  },
  {
   "cell_type": "code",
   "execution_count": 31,
   "metadata": {
    "scrolled": false
   },
   "outputs": [],
   "source": [
    "# for i,s in enumerate(valid_sessions):  \n",
    "#     image_recs = coll.find({'$and': [{'time': {'$gt': time_threshold}}, {'sessionId':s}, {'dataType':'finalImage'}]}).sort('time')    \n",
    "#     num_drawings = image_recs.count()\n",
    "#     if num_drawings > 2 :\n",
    "#         print 'Great! Number of drawings made by this person: {}'.format(image_recs.count())        \n",
    "#         ### now try looping through all images made during this session and render out\n",
    "#         try:\n",
    "#             image_recs = coll.find({'$and': [{'time': {'$gt': time_threshold}}, {'sessionId':s}, {'dataType':'finalImage'}]}).sort('time')    \n",
    "#             for imrec in image_recs:         \n",
    "#                 if imrec['category'] in practice_categories: # only save practice category trials\n",
    "#                     stroke_recs = coll.find({'$and': [{'time': {'$gt': time_threshold}}, \n",
    "#                                                       {'sessionId':s}, \n",
    "#                                                       {'dataType':'stroke'},\n",
    "#                                                       {'trialNum': imrec['trialNum']}]}).sort('time')  \n",
    "#                     ## check to make sure that there is at least one stroke! \n",
    "#                     assert stroke_recs.count()>0\n",
    "\n",
    "#                     ## some handy metadata for writing out the sketch PNG filename\n",
    "#                     trial_num = stroke_recs[0]['trialNum']\n",
    "#                     category = stroke_recs[0]['category']\n",
    "#                     session_id = stroke_recs[0]['sessionId']\n",
    "#                     age = stroke_recs[0]['age']\n",
    "\n",
    "#                     ## now make an svg list!\n",
    "#                     svg_list = make_svg_list(stroke_recs)\n",
    "\n",
    "#                     ## now get me some verts and codes!\n",
    "#                     Verts, Codes = get_verts_and_codes(svg_list)\n",
    "\n",
    "#                     ## now render out your cumulative sketches and save out as pngs!\n",
    "#                     render_and_save(Verts,\n",
    "#                                     Codes,\n",
    "#                                     line_width=5,\n",
    "#                                     imsize=6,\n",
    "#                                     canvas_size=809,\n",
    "#                                     session_id=session_id,\n",
    "#                                     age=age,\n",
    "#                                     trial_num=trial_num,\n",
    "#                                     category=category)\n",
    "\n",
    "#         except Exception as e:\n",
    "#             print 'Oops, something went wrong! Here is the error:'  \n",
    "#             print e\n",
    "#             pass\n"
   ]
  },
  {
   "cell_type": "code",
   "execution_count": null,
   "metadata": {
    "collapsed": true
   },
   "outputs": [],
   "source": []
  },
  {
   "cell_type": "code",
   "execution_count": null,
   "metadata": {
    "collapsed": true,
    "scrolled": false
   },
   "outputs": [],
   "source": []
  },
  {
   "cell_type": "code",
   "execution_count": null,
   "metadata": {
    "collapsed": true
   },
   "outputs": [],
   "source": []
  },
  {
   "cell_type": "code",
   "execution_count": null,
   "metadata": {
    "collapsed": true
   },
   "outputs": [],
   "source": []
  },
  {
   "cell_type": "code",
   "execution_count": null,
   "metadata": {
    "collapsed": true
   },
   "outputs": [],
   "source": []
  },
  {
   "cell_type": "code",
   "execution_count": null,
   "metadata": {
    "collapsed": true
   },
   "outputs": [],
   "source": []
  },
  {
   "cell_type": "code",
   "execution_count": null,
   "metadata": {
    "collapsed": true
   },
   "outputs": [],
   "source": []
  },
  {
   "cell_type": "code",
   "execution_count": null,
   "metadata": {
    "collapsed": true,
    "scrolled": false
   },
   "outputs": [],
   "source": []
  },
  {
   "cell_type": "code",
   "execution_count": null,
   "metadata": {
    "collapsed": true
   },
   "outputs": [],
   "source": []
  },
  {
   "cell_type": "code",
   "execution_count": null,
   "metadata": {
    "collapsed": true
   },
   "outputs": [],
   "source": []
  },
  {
   "cell_type": "code",
   "execution_count": null,
   "metadata": {
    "collapsed": true
   },
   "outputs": [],
   "source": []
  }
 ],
 "metadata": {
  "kernelspec": {
   "display_name": "Python 2",
   "language": "python",
   "name": "python2"
  },
  "language_info": {
   "codemirror_mode": {
    "name": "ipython",
    "version": 2
   },
   "file_extension": ".py",
   "mimetype": "text/x-python",
   "name": "python",
   "nbconvert_exporter": "python",
   "pygments_lexer": "ipython2",
   "version": "2.7.14"
  }
 },
 "nbformat": 4,
 "nbformat_minor": 1
}
