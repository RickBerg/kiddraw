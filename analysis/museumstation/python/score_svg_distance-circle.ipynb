{
 "cells": [
  {
   "cell_type": "code",
   "execution_count": 147,
   "metadata": {},
   "outputs": [],
   "source": [
    "from __future__ import division\n",
    "import os\n",
    "import urllib, cStringIO\n",
    "import pymongo as pm ## first establish ssh tunnel to server where database is running\n",
    "import base64\n",
    "import numpy as np\n",
    "from numpy import *\n",
    "import PIL\n",
    "from PIL import Image\n",
    "import base64\n",
    "import matplotlib\n",
    "%matplotlib inline\n",
    "from matplotlib import pylab, mlab, pyplot\n",
    "from IPython.core.pylabtools import figsize, getfigs\n",
    "plt = pyplot\n",
    "import seaborn as sns\n",
    "sns.set_context('poster')\n",
    "sns.set_style('white')\n",
    "from matplotlib.path import Path\n",
    "import matplotlib.patches as patches\n",
    "\n",
    "import pandas as pd\n",
    "from svgpathtools import parse_path"
   ]
  },
  {
   "cell_type": "markdown",
   "metadata": {},
   "source": [
    "#### directory and file hierarchy"
   ]
  },
  {
   "cell_type": "code",
   "execution_count": 148,
   "metadata": {},
   "outputs": [
    {
     "data": {
      "text/plain": [
       "<module 'svg_distance_helpers' from 'svg_distance_helpers.py'>"
      ]
     },
     "execution_count": 148,
     "metadata": {},
     "output_type": "execute_result"
    }
   ],
   "source": [
    "# directory & file hierarchy\n",
    "exp_path = 'museumdraw'\n",
    "analysis_dir = os.getcwd()\n",
    "exp_dir = os.path.abspath(os.path.join(os.getcwd(),'../..','experiments'))\n",
    "##\n",
    "sketch_dir = os.path.join(analysis_dir,'sketches')\n",
    "if not os.path.exists(sketch_dir):\n",
    "    os.makedirs(sketch_dir)\n",
    "## dir where we can keep all sketches not binned by category    \n",
    "\n",
    "import sys\n",
    "## add helpers to python path\n",
    "if os.path.abspath(os.getcwd()) not in sys.path:\n",
    "    sys.path.append(os.path.abspath(os.getcwd()))\n",
    "    \n",
    "import svg_distance_helpers as rsh\n",
    "reload(rsh)"
   ]
  },
  {
   "cell_type": "code",
   "execution_count": 79,
   "metadata": {},
   "outputs": [],
   "source": [
    "# set vars \n",
    "auth = pd.read_csv('auth.txt', header = None) # this auth.txt file contains the password for the sketchloop user\n",
    "pswd = auth.values[0][0]\n",
    "user = 'sketchloop'\n",
    "host = 'rxdhawkins.me' ## cocolab ip address\n",
    "\n",
    "# have to fix this to be able to analyze from local\n",
    "import pymongo as pm\n",
    "conn = pm.MongoClient('mongodb://sketchloop:' + pswd + '@127.0.0.1')\n",
    "db = conn['kiddraw']\n",
    "coll = db['cdm_run_v3']"
   ]
  },
  {
   "cell_type": "markdown",
   "metadata": {},
   "source": [
    "#### fetch an example tracing"
   ]
  },
  {
   "cell_type": "code",
   "execution_count": 94,
   "metadata": {},
   "outputs": [],
   "source": [
    "imrecs = coll.find({'$and':[{'category':'this circle'},{'dataType':'finalImage'},{'sessionId': 'cdm_run_v31525893174061'}]}).sort('time')\n",
    "imrec = imrecs[0]"
   ]
  },
  {
   "cell_type": "code",
   "execution_count": 95,
   "metadata": {},
   "outputs": [
    {
     "name": "stdout",
     "output_type": "stream",
     "text": [
      "Number of strokes in this tracing: 1\n"
     ]
    }
   ],
   "source": [
    "## get list of vertices and codes for tracing \n",
    "try:\n",
    "    ## get the corresponding stroke records for this tracing\n",
    "    stroke_recs = coll.find({'$and': [{'sessionId':imrec['sessionId']}, \n",
    "                                      {'dataType':'stroke'},\n",
    "                                      {'trialNum': imrec['trialNum']}]}).sort('time')\n",
    "\n",
    "    print 'Number of strokes in this tracing: {}'.format(stroke_recs.count())    \n",
    "    \n",
    "    ## check to make sure that there is at least one stroke! \n",
    "    if stroke_recs.count()>0:\n",
    "\n",
    "        ## now make an svg list!\n",
    "        svg_list = rsh.make_svg_list(stroke_recs)\n",
    "\n",
    "        ## now get me some verts and codes!\n",
    "        __Verts, __Codes = rsh.get_verts_and_codes(svg_list)\n",
    "        \n",
    "except Exception as e:\n",
    "    print 'Oops, something went wrong! Here is the error:'  \n",
    "    print e\n",
    "    pass        "
   ]
  },
  {
   "cell_type": "markdown",
   "metadata": {},
   "source": [
    "#### preprocessing of tracing and visualization (if desired)"
   ]
  },
  {
   "cell_type": "code",
   "execution_count": 96,
   "metadata": {},
   "outputs": [],
   "source": [
    "## simplify tracing if it is a jungle of verts/horiz commands\n",
    "reallySimplify = 1\n",
    "if reallySimplify:\n",
    "    _Verts,_Codes = rsh.simplify_verts_and_codes(__Verts,__Codes)\n",
    "else:\n",
    "    _Verts = np.array(__Verts[0])\n",
    "    _Codes = __Codes[0]"
   ]
  },
  {
   "cell_type": "code",
   "execution_count": 97,
   "metadata": {},
   "outputs": [],
   "source": [
    "## make sure the last vertex of the tracing \n",
    "## is equal to the first vertex so the\n",
    "## polygon centroid formula works\n",
    "if np.sum(_Verts[0][-1] - _Verts[0][0]) != 0:\n",
    "    _Verts = np.vstack((_Verts,_Verts[0]))\n",
    "    _Codes.append(2)\n",
    "assert len(_Verts)==len(_Codes)"
   ]
  },
  {
   "cell_type": "code",
   "execution_count": 98,
   "metadata": {},
   "outputs": [
    {
     "data": {
      "image/png": "[encoded data removed]",
      "text/plain": [
       "<matplotlib.figure.Figure at 0x1a1e5e24d0>"
      ]
     },
     "metadata": {},
     "output_type": "display_data"
    }
   ],
   "source": [
    "## examine tracing\n",
    "reallyRun = 1\n",
    "if reallyRun:\n",
    "    rsh.plot_shape(_Verts,_Codes)"
   ]
  },
  {
   "cell_type": "code",
   "execution_count": 149,
   "metadata": {},
   "outputs": [
    {
     "name": "stdout",
     "output_type": "stream",
     "text": [
      "delta (308.6219126102067, 15.28119945612635)\n",
      "new point (708, 415)\n",
      "delta (307.48857568402644, 30.52500325649039)\n",
      "new point (707, 430)\n",
      "delta (305.6027626868324, 45.694107258765904)\n",
      "new point (705, 445)\n",
      "delta (302.9690885190372, 60.75139012355015)\n",
      "new point (702, 460)\n",
      "delta (299.5939982226582, 75.66000415650187)\n",
      "new point (699, 475)\n",
      "delta (295.4857512092194, 90.38346548082396)\n",
      "new point (695, 490)\n",
      "delta (290.6544010475878, 104.88574331942363)\n",
      "new point (690, 504)\n",
      "delta (285.1117708612053, 119.13134816826168)\n",
      "new point (685, 519)\n",
      "delta (278.8714243949247, 133.085418645116)\n",
      "new point (678, 533)\n",
      "delta (271.9486328222532, 146.71380680122547)\n",
      "new point (671, 546)\n",
      "delta (264.36033737423145, 159.98316168704298)\n",
      "new point (664, 559)\n",
      "delta (256.1251078814026, 172.8610109675975)\n",
      "new point (656, 572)\n",
      "delta (247.26309733032528, 185.31584038773937)\n",
      "new point (647, 585)\n",
      "delta (237.7959925458381, 197.31717089280323)\n",
      "new point (637, 597)\n",
      "delta (227.74696111976542, 208.83563321596256)\n",
      "new point (627, 608)\n",
      "delta (217.140594715938, 219.84303974974685)\n",
      "new point (617, 619)\n",
      "delta (206.00284889027034, 230.31245352584054)\n",
      "new point (606, 630)\n",
      "delta (194.36097957316645, 240.21825413435835)\n",
      "new point (594, 640)\n",
      "delta (182.24347636969054, 249.53620042128165)\n",
      "new point (582, 649)\n",
      "delta (169.67999284072937, 258.24348981062434)\n",
      "new point (569, 658)\n",
      "delta (156.7012739357599, 266.3188141061573)\n",
      "new point (556, 666)\n",
      "delta (143.33908075480562, 273.7424116361353)\n",
      "new point (543, 673)\n",
      "delta (129.62611282370275, 280.4961156134193)\n",
      "new point (529, 680)\n",
      "delta (115.59592807288111, 286.56339859264875)\n",
      "new point (515, 686)\n",
      "delta (101.2828607154846, 291.92941291567)\n",
      "new point (501, 691)\n",
      "delta (86.72193722579878, 296.5810270462435)\n",
      "new point (486, 696)\n",
      "delta (71.9487906235982, 300.506857705114)\n",
      "new point (471, 700)\n",
      "delta (56.99957327417659, 303.69729772680193)\n",
      "new point (456, 703)\n",
      "delta (41.91086841745031, 306.14453956994754)\n",
      "new point (441, 706)\n",
      "delta (26.71960064264044, 307.84259442367267)\n",
      "new point (426, 707)\n",
      "delta (11.46294552761502, 308.78730686320466)\n",
      "new point (411, 708)\n",
      "delta (-3.8217613359791307, 308.97636501889724)\n",
      "new point (396, 708)\n",
      "delta (-19.097115709165944, 308.40930623376255)\n",
      "new point (380, 708)\n",
      "delta (-34.32573624008061, 307.0875181956708)\n",
      "new point (365, 707)\n",
      "delta (-49.47035594240138, 305.01423554144503)\n",
      "new point (350, 705)\n",
      "delta (-64.49391339391055, 302.1945319411633)\n",
      "new point (335, 702)\n",
      "delta (-79.35964343200438, 298.63530768203736)\n",
      "new point (320, 698)\n",
      "delta (-94.03116712420746, 294.34527278225374)\n",
      "new point (305, 694)\n",
      "delta (-108.47258079351596, 289.3349256760997)\n",
      "new point (291, 689)\n",
      "delta (-122.64854388071215, 283.6165275225353)\n",
      "new point (277, 683)\n",
      "delta (-136.52436542863447, 277.20407220008275)\n",
      "new point (263, 677)\n",
      "delta (-150.06608897676335, 270.11325206146057)\n",
      "new point (249, 670)\n",
      "delta (-163.2405756583699, 262.36141953176735)\n",
      "new point (236, 662)\n",
      "delta (-176.0155852968758, 253.96754464418922)\n",
      "new point (223, 653)\n",
      "delta (-188.35985530296873, 244.95216861715)\n",
      "new point (211, 644)\n",
      "delta (-200.243177179396, 235.33735358650785)\n",
      "new point (199, 635)\n",
      "delta (-211.63647044622027, 225.14662861581144)\n",
      "new point (188, 625)\n",
      "delta (-222.51185380562652, 214.40493211673908)\n",
      "new point (177, 614)\n",
      "delta (-232.8427133721304, 203.1385508206257)\n",
      "new point (167, 603)\n",
      "delta (-242.60376780121516, 191.37505545042717)\n",
      "new point (157, 591)\n",
      "delta (-251.77113015701852, 179.14323325054076)\n",
      "new point (148, 579)\n",
      "delta (-260.3223663676674, 166.47301753959388)\n",
      "new point (139, 566)\n",
      "delta (-268.2365501252111, 153.39541445859814)\n",
      "new point (131, 553)\n",
      "delta (-275.4943140958034, 139.94242709372597)\n",
      "new point (124, 539)\n",
      "delta (-282.077897314814, 126.1469771593963)\n",
      "new point (117, 526)\n",
      "delta (-287.97118865088527, 112.04282443332214)\n",
      "new point (112, 512)\n",
      "delta (-293.1597662325703, 97.664484140678)\n",
      "new point (106, 497)\n",
      "delta (-297.63093274106905, 83.04714248955973)\n",
      "new point (102, 483)\n",
      "delta (-301.37374648269525, 68.22657056443728)\n",
      "new point (98, 468)\n",
      "delta (-304.37904816503436, 53.23903678831627)\n",
      "new point (95, 453)\n",
      "delta (-306.6394833112668, 38.12121816783022)\n",
      "new point (93, 438)\n",
      "delta (-308.14952025780536, 22.910110538458632)\n",
      "new point (91, 422)\n",
      "delta (-308.90546369120267, 7.642938029518497)\n",
      "new point (91, 407)\n",
      "delta (-308.90546369120267, -7.6429380295184215)\n",
      "new point (91, 392)\n",
      "delta (-308.14952025780536, -22.910110538458692)\n",
      "new point (91, 377)\n",
      "delta (-306.6394833112668, -38.12121816783014)\n",
      "new point (93, 361)\n",
      "delta (-304.37904816503436, -53.23903678831621)\n",
      "new point (95, 346)\n",
      "delta (-301.37374648269525, -68.22657056443721)\n",
      "new point (98, 331)\n",
      "delta (-297.630932741069, -83.0471424895598)\n",
      "new point (102, 316)\n",
      "delta (-293.1597662325703, -97.66448414067793)\n",
      "new point (106, 302)\n",
      "delta (-287.97118865088527, -112.04282443332207)\n",
      "new point (112, 287)\n",
      "delta (-282.07789731481404, -126.14697715939623)\n",
      "new point (117, 273)\n",
      "delta (-275.4943140958034, -139.94242709372602)\n",
      "new point (124, 260)\n",
      "delta (-268.2365501252112, -153.39541445859808)\n",
      "new point (131, 246)\n",
      "delta (-260.3223663676675, -166.47301753959383)\n",
      "new point (139, 233)\n",
      "delta (-251.77113015701855, -179.14323325054067)\n",
      "new point (148, 220)\n",
      "delta (-242.60376780121513, -191.3750554504272)\n",
      "new point (157, 208)\n",
      "delta (-232.84271337213042, -203.13855082062562)\n",
      "new point (167, 196)\n",
      "delta (-222.51185380562657, -214.40493211673902)\n",
      "new point (177, 185)\n",
      "delta (-211.63647044622024, -225.1466286158115)\n",
      "new point (188, 174)\n",
      "delta (-200.2431771793961, -235.3373535865078)\n",
      "new point (199, 164)\n",
      "delta (-188.35985530296878, -244.95216861714994)\n",
      "new point (211, 155)\n",
      "delta (-176.01558529687588, -253.96754464418916)\n",
      "new point (223, 146)\n",
      "delta (-163.24057565836983, -262.36141953176735)\n",
      "new point (236, 137)\n",
      "delta (-150.06608897676333, -270.11325206146057)\n",
      "new point (249, 129)\n",
      "delta (-136.5243654286344, -277.20407220008275)\n",
      "new point (263, 122)\n",
      "delta (-122.64854388071228, -283.61652752253525)\n",
      "new point (277, 116)\n",
      "delta (-108.47258079351609, -289.3349256760997)\n",
      "new point (291, 110)\n",
      "delta (-94.03116712420753, -294.34527278225374)\n",
      "new point (305, 105)\n",
      "delta (-79.35964343200443, -298.63530768203736)\n",
      "new point (320, 101)\n",
      "delta (-64.49391339391055, -302.1945319411633)\n",
      "new point (335, 97)\n",
      "delta (-49.47035594240139, -305.01423554144503)\n",
      "new point (350, 94)\n",
      "delta (-34.325736240080545, -307.0875181956708)\n",
      "new point (365, 92)\n",
      "delta (-19.097115709165884, -308.40930623376255)\n",
      "new point (380, 91)\n",
      "delta (-3.8217613359792746, -308.97636501889724)\n",
      "new point (396, 91)\n",
      "delta (11.462945527614943, -308.78730686320466)\n",
      "new point (411, 91)\n",
      "delta (26.719600642640373, -307.84259442367267)\n",
      "new point (426, 92)\n",
      "delta (41.910868417450295, -306.14453956994754)\n",
      "new point (441, 93)\n",
      "delta (56.99957327417658, -303.69729772680193)\n",
      "new point (456, 96)\n",
      "delta (71.94879062359824, -300.506857705114)\n",
      "new point (471, 99)\n",
      "delta (86.72193722579883, -296.5810270462435)\n",
      "new point (486, 103)\n",
      "delta (101.28286071548449, -291.92941291567)\n",
      "new point (501, 108)\n",
      "delta (115.59592807288098, -286.5633985926488)\n",
      "new point (515, 113)\n",
      "delta (129.6261128237027, -280.4961156134193)\n",
      "new point (529, 119)\n",
      "delta (143.33908075480556, -273.7424116361353)\n",
      "new point (543, 126)\n",
      "delta (156.70127393575987, -266.3188141061573)\n",
      "new point (556, 133)\n",
      "delta (169.67999284072937, -258.24348981062434)\n",
      "new point (569, 141)\n",
      "delta (182.24347636969057, -249.53620042128165)\n",
      "new point (582, 150)\n",
      "delta (194.3609795731665, -240.2182541343583)\n",
      "new point (594, 159)\n",
      "delta (206.0028488902702, -230.31245352584062)\n",
      "new point (606, 169)\n",
      "delta (217.14059471593788, -219.84303974974694)\n",
      "new point (617, 180)\n",
      "delta (227.74696111976542, -208.83563321596264)\n",
      "new point (627, 191)\n",
      "delta (237.79599254583806, -197.3171708928033)\n",
      "new point (637, 202)\n",
      "delta (247.26309733032528, -185.31584038773937)\n",
      "new point (647, 214)\n",
      "delta (256.12510788140264, -172.86101096759748)\n",
      "new point (656, 227)\n",
      "delta (264.3603373742315, -159.98316168704292)\n",
      "new point (664, 240)\n",
      "delta (271.94863282225316, -146.7138068012256)\n",
      "new point (671, 253)\n",
      "delta (278.87142439492465, -133.08541864511608)\n",
      "new point (678, 266)\n",
      "delta (285.11177086120523, -119.13134816826177)\n",
      "new point (685, 280)\n",
      "delta (290.6544010475877, -104.88574331942365)\n",
      "new point (690, 295)\n",
      "delta (295.4857512092194, -90.38346548082396)\n",
      "new point (695, 309)\n",
      "delta (299.59399822265823, -75.66000415650186)\n",
      "new point (699, 324)\n",
      "delta (302.9690885190372, -60.7513901235501)\n",
      "new point (702, 339)\n",
      "delta (305.6027626868324, -45.69410725876582)\n",
      "new point (705, 354)\n",
      "delta (307.4885756840264, -30.52500325649054)\n",
      "new point (707, 369)\n",
      "delta (308.6219126102067, -15.281199456126462)\n",
      "new point (708, 384)\n",
      "[(709.0, 400), (708, 415), (707, 430), (705, 445), (702, 460), (699, 475), (695, 490), (690, 504), (685, 519), (678, 533), (671, 546), (664, 559), (656, 572), (647, 585), (637, 597), (627, 608), (617, 619), (606, 630), (594, 640), (582, 649), (569, 658), (556, 666), (543, 673), (529, 680), (515, 686), (501, 691), (486, 696), (471, 700), (456, 703), (441, 706), (426, 707), (411, 708), (396, 708), (380, 708), (365, 707), (350, 705), (335, 702), (320, 698), (305, 694), (291, 689), (277, 683), (263, 677), (249, 670), (236, 662), (223, 653), (211, 644), (199, 635), (188, 625), (177, 614), (167, 603), (157, 591), (148, 579), (139, 566), (131, 553), (124, 539), (117, 526), (112, 512), (106, 497), (102, 483), (98, 468), (95, 453), (93, 438), (91, 422), (91, 407), (91, 392), (91, 377), (93, 361), (95, 346), (98, 331), (102, 316), (106, 302), (112, 287), (117, 273), (124, 260), (131, 246), (139, 233), (148, 220), (157, 208), (167, 196), (177, 185), (188, 174), (199, 164), (211, 155), (223, 146), (236, 137), (249, 129), (263, 122), (277, 116), (291, 110), (305, 105), (320, 101), (335, 97), (350, 94), (365, 92), (380, 91), (396, 91), (411, 91), (426, 92), (441, 93), (456, 96), (471, 99), (486, 103), (501, 108), (515, 113), (529, 119), (543, 126), (556, 133), (569, 141), (582, 150), (594, 159), (606, 169), (617, 180), (627, 191), (637, 202), (647, 214), (656, 227), (664, 240), (671, 253), (678, 266), (685, 280), (690, 295), (695, 309), (699, 324), (702, 339), (705, 354), (707, 369), (708, 384), (709.0, 400)]\n"
     ]
    }
   ],
   "source": [
    "## get vertices and codes for reference shape (in this example, a square)\n",
    "Verts, Codes = rsh.get_ref_circle(_Verts,_Codes)"
   ]
  },
  {
   "cell_type": "code",
   "execution_count": 150,
   "metadata": {},
   "outputs": [
    {
     "data": {
      "image/png": "[encoded data removed]",
      "text/plain": [
       "<matplotlib.figure.Figure at 0x1a1dda6790>"
      ]
     },
     "metadata": {},
     "output_type": "display_data"
    }
   ],
   "source": [
    "## examine reference shape (in this example, a square)\n",
    "reallyRun = 1\n",
    "if reallyRun:\n",
    "    rsh.plot_shape(Verts,Codes)"
   ]
  },
  {
   "cell_type": "code",
   "execution_count": 151,
   "metadata": {},
   "outputs": [],
   "source": [
    "## get centroid of both shapes\n",
    "ref_cx,ref_cy = rsh.get_centroid_polygon(Verts)\n",
    "tra_cx,tra_cy = rsh.get_centroid_polygon(_Verts)\n",
    "\n",
    "ref_centroid = np.array((ref_cx,ref_cy))\n",
    "tra_centroid = np.array((tra_cx,tra_cy))"
   ]
  },
  {
   "cell_type": "code",
   "execution_count": 152,
   "metadata": {},
   "outputs": [],
   "source": [
    "## get verts and codes for the reference and tracing\n",
    "ref_verts = Verts-ref_centroid\n",
    "ref_codes = Codes\n",
    "tra_verts = _Verts-tra_centroid\n",
    "tra_codes = _Codes"
   ]
  },
  {
   "cell_type": "code",
   "execution_count": 153,
   "metadata": {},
   "outputs": [
    {
     "data": {
      "image/png": "[encoded data removed]",
      "text/plain": [
       "<matplotlib.figure.Figure at 0x1a1eea82d0>"
      ]
     },
     "metadata": {},
     "output_type": "display_data"
    }
   ],
   "source": [
    "reallyRun = 1\n",
    "if reallyRun:\n",
    "    rsh.plot_coregistered_shapes(ref_verts,ref_codes,tra_verts,tra_codes)"
   ]
  },
  {
   "cell_type": "markdown",
   "metadata": {},
   "source": [
    "##### test case for particular line segment AB on reference shape and point P on tracing (optional, sanity checks)"
   ]
  },
  {
   "cell_type": "code",
   "execution_count": 154,
   "metadata": {},
   "outputs": [],
   "source": [
    "run_tests = 0\n",
    "if run_tests:\n",
    "    ## toy case\n",
    "    A = np.array((0,0))\n",
    "    B = np.array((10,10))\n",
    "    P = np.array((20,5)) ## first point\n",
    "\n",
    "    ## get point C on A,B that minimizes distance from particular point on tracing to the line segment AB\n",
    "    C = rsh.get_closest_point_from_P_to_AB(A,B,P,verbose=False) \n",
    "    \n",
    "    ## example real case\n",
    "    a = ref_verts[0]\n",
    "    b = ref_verts[1]\n",
    "    p = tra_verts[1]\n",
    "    c,d = rsh.get_closest_point_from_P_to_AB(a,b,p,verbose=False) \n",
    "    print c,d    "
   ]
  },
  {
   "cell_type": "markdown",
   "metadata": {},
   "source": [
    "#### get \"corresponding points\" on the reference shape for each vertex in the tracing"
   ]
  },
  {
   "cell_type": "code",
   "execution_count": 155,
   "metadata": {},
   "outputs": [
    {
     "ename": "AssertionError",
     "evalue": "",
     "output_type": "error",
     "traceback": [
      "\u001b[0;31m---------------------------------------------------------------------------\u001b[0m",
      "\u001b[0;31mAssertionError\u001b[0m                            Traceback (most recent call last)",
      "\u001b[0;32m<ipython-input-155-44cd4818b1ae>\u001b[0m in \u001b[0;36m<module>\u001b[0;34m()\u001b[0m\n\u001b[1;32m     10\u001b[0m         \u001b[0ma\u001b[0m \u001b[0;34m=\u001b[0m \u001b[0mr\u001b[0m\u001b[0;34m[\u001b[0m\u001b[0;36m0\u001b[0m\u001b[0;34m]\u001b[0m\u001b[0;34m\u001b[0m\u001b[0m\n\u001b[1;32m     11\u001b[0m         \u001b[0mb\u001b[0m \u001b[0;34m=\u001b[0m \u001b[0mr\u001b[0m\u001b[0;34m[\u001b[0m\u001b[0;36m1\u001b[0m\u001b[0;34m]\u001b[0m\u001b[0;34m\u001b[0m\u001b[0m\n\u001b[0;32m---> 12\u001b[0;31m         \u001b[0mc\u001b[0m\u001b[0;34m,\u001b[0m\u001b[0md\u001b[0m \u001b[0;34m=\u001b[0m \u001b[0mrsh\u001b[0m\u001b[0;34m.\u001b[0m\u001b[0mget_closest_point_from_P_to_AB\u001b[0m\u001b[0;34m(\u001b[0m\u001b[0ma\u001b[0m\u001b[0;34m,\u001b[0m\u001b[0mb\u001b[0m\u001b[0;34m,\u001b[0m\u001b[0mp\u001b[0m\u001b[0;34m,\u001b[0m\u001b[0mverbose\u001b[0m\u001b[0;34m=\u001b[0m\u001b[0mFalse\u001b[0m\u001b[0;34m)\u001b[0m\u001b[0;34m\u001b[0m\u001b[0m\n\u001b[0m\u001b[1;32m     13\u001b[0m         \u001b[0;32mif\u001b[0m \u001b[0md\u001b[0m\u001b[0;34m<\u001b[0m\u001b[0mD\u001b[0m\u001b[0;34m:\u001b[0m \u001b[0;31m## if the shortest distance so far, then swap in for the value of D\u001b[0m\u001b[0;34m\u001b[0m\u001b[0m\n\u001b[1;32m     14\u001b[0m             \u001b[0mD\u001b[0m \u001b[0;34m=\u001b[0m \u001b[0md\u001b[0m\u001b[0;34m\u001b[0m\u001b[0m\n",
      "\u001b[0;32m/Users/zixianchai/Desktop/Kid/kiddraw/analysis/museumstation/python/svg_distance_helpers.py\u001b[0m in \u001b[0;36mget_closest_point_from_P_to_AB\u001b[0;34m(A, B, P, verbose)\u001b[0m\n\u001b[1;32m    307\u001b[0m     '''\n\u001b[1;32m    308\u001b[0m \u001b[0;34m\u001b[0m\u001b[0m\n\u001b[0;32m--> 309\u001b[0;31m     \u001b[0;32massert\u001b[0m \u001b[0mnp\u001b[0m\u001b[0;34m.\u001b[0m\u001b[0msum\u001b[0m\u001b[0;34m(\u001b[0m\u001b[0mA\u001b[0m\u001b[0;34m-\u001b[0m\u001b[0mB\u001b[0m\u001b[0;34m)\u001b[0m \u001b[0;34m!=\u001b[0m \u001b[0;36m0\u001b[0m \u001b[0;31m## A and B are not the same\u001b[0m\u001b[0;34m\u001b[0m\u001b[0m\n\u001b[0m\u001b[1;32m    310\u001b[0m \u001b[0;34m\u001b[0m\u001b[0m\n\u001b[1;32m    311\u001b[0m     \u001b[0mt\u001b[0m \u001b[0;34m=\u001b[0m \u001b[0mfind_t_minimizing_P_to_AB\u001b[0m\u001b[0;34m(\u001b[0m\u001b[0mA\u001b[0m\u001b[0;34m,\u001b[0m\u001b[0mB\u001b[0m\u001b[0;34m,\u001b[0m\u001b[0mP\u001b[0m\u001b[0;34m)\u001b[0m \u001b[0;31m## proportion of the distance from A to B (get this by evaluating fn find_t_minimizing_P_to_AB)\u001b[0m\u001b[0;34m\u001b[0m\u001b[0m\n",
      "\u001b[0;31mAssertionError\u001b[0m: "
     ]
    }
   ],
   "source": [
    "## cor_verts will be the same shape as the tra_verts, and lie on the reference shape\n",
    "## error will be computed as area between these two shapes\n",
    "cor_verts = np.zeros((np.shape(tra_verts)[0],2))\n",
    "for i,t in enumerate(tra_verts): ## loop through segments of the tracing\n",
    "    p = t ## endpoint of the current tracing segment\n",
    "    ## for a given point on the tracing, find the corresponding closest point on the reference shape\n",
    "    ref_gen = rsh.pairs(ref_verts)\n",
    "    D = 1e6 ## initialize at some crazy large value\n",
    "    for r in ref_gen:\n",
    "        a = r[0]\n",
    "        b = r[1]\n",
    "        c,d = rsh.get_closest_point_from_P_to_AB(a,b,p,verbose=False) \n",
    "        if d<D: ## if the shortest distance so far, then swap in for the value of D\n",
    "            D = d\n",
    "            C = c\n",
    "        else:\n",
    "            pass \n",
    "    cor_verts[i,:] = C ## assign the closest corresponding point to the \"corresponding vertices\" array"
   ]
  },
  {
   "cell_type": "code",
   "execution_count": 156,
   "metadata": {},
   "outputs": [
    {
     "data": {
      "image/png": "[encoded data removed]",
      "text/plain": [
       "<matplotlib.figure.Figure at 0x1a1e30a350>"
      ]
     },
     "metadata": {},
     "output_type": "display_data"
    }
   ],
   "source": [
    "## test to make sure the corresponding points really lie on the reference shape\n",
    "reload(rsh)\n",
    "reallyRun = 1\n",
    "if reallyRun:\n",
    "    rsh.plot_corresponding_points_on_reference(tra_verts,tra_codes,ref_verts,ref_codes,cor_verts)"
   ]
  },
  {
   "cell_type": "markdown",
   "metadata": {},
   "source": [
    "#### actually get svg distance error now"
   ]
  },
  {
   "cell_type": "code",
   "execution_count": 157,
   "metadata": {},
   "outputs": [
    {
     "ename": "UnboundLocalError",
     "evalue": "local variable 'x1' referenced before assignment",
     "output_type": "error",
     "traceback": [
      "\u001b[0;31m---------------------------------------------------------------------------\u001b[0m",
      "\u001b[0;31mUnboundLocalError\u001b[0m                         Traceback (most recent call last)",
      "\u001b[0;32m<ipython-input-157-5524d1d943eb>\u001b[0m in \u001b[0;36m<module>\u001b[0;34m()\u001b[0m\n\u001b[1;32m      9\u001b[0m \u001b[0;31m## formed by the intersecting segments\u001b[0m\u001b[0;34m\u001b[0m\u001b[0;34m\u001b[0m\u001b[0m\n\u001b[1;32m     10\u001b[0m \u001b[0;31m## If line segments are collinear, do not increment error, b/c perfectly on the line\u001b[0m\u001b[0;34m\u001b[0m\u001b[0;34m\u001b[0m\u001b[0m\n\u001b[0;32m---> 11\u001b[0;31m \u001b[0mtracing_to_corresponding_error\u001b[0m \u001b[0;34m=\u001b[0m \u001b[0mrsh\u001b[0m\u001b[0;34m.\u001b[0m\u001b[0mget_area_between_tracing_and_corresponding_verts\u001b[0m\u001b[0;34m(\u001b[0m\u001b[0mtra_verts\u001b[0m\u001b[0;34m,\u001b[0m\u001b[0mcor_verts\u001b[0m\u001b[0;34m)\u001b[0m\u001b[0;34m\u001b[0m\u001b[0m\n\u001b[0m\u001b[1;32m     12\u001b[0m \u001b[0;34m\u001b[0m\u001b[0m\n\u001b[1;32m     13\u001b[0m \u001b[0;31m## add to the above the deviation between the area of the reference\u001b[0m\u001b[0;34m\u001b[0m\u001b[0;34m\u001b[0m\u001b[0m\n",
      "\u001b[0;32m/Users/zixianchai/Desktop/Kid/kiddraw/analysis/museumstation/python/svg_distance_helpers.pyc\u001b[0m in \u001b[0;36mget_area_between_tracing_and_corresponding_verts\u001b[0;34m(tra_verts, cor_verts, verbose)\u001b[0m\n\u001b[1;32m    546\u001b[0m             \u001b[0;32mif\u001b[0m \u001b[0mverbose\u001b[0m\u001b[0;34m==\u001b[0m\u001b[0mTrue\u001b[0m\u001b[0;34m:\u001b[0m\u001b[0;34m\u001b[0m\u001b[0m\n\u001b[1;32m    547\u001b[0m                 \u001b[0;32mprint\u001b[0m \u001b[0;34m'segments are parallel (but not collinear), increment error'\u001b[0m\u001b[0;34m\u001b[0m\u001b[0m\n\u001b[0;32m--> 548\u001b[0;31m             \u001b[0mtrapezoid_verts\u001b[0m \u001b[0;34m=\u001b[0m \u001b[0;34m[\u001b[0m\u001b[0;34m(\u001b[0m\u001b[0mx1\u001b[0m\u001b[0;34m,\u001b[0m\u001b[0my1\u001b[0m\u001b[0;34m)\u001b[0m\u001b[0;34m,\u001b[0m\u001b[0;34m(\u001b[0m\u001b[0mx2\u001b[0m\u001b[0;34m,\u001b[0m\u001b[0my2\u001b[0m\u001b[0;34m)\u001b[0m\u001b[0;34m,\u001b[0m\u001b[0;34m(\u001b[0m\u001b[0mu1\u001b[0m\u001b[0;34m,\u001b[0m\u001b[0mv1\u001b[0m\u001b[0;34m)\u001b[0m\u001b[0;34m,\u001b[0m\u001b[0;34m(\u001b[0m\u001b[0mu2\u001b[0m\u001b[0;34m,\u001b[0m\u001b[0mv2\u001b[0m\u001b[0;34m)\u001b[0m\u001b[0;34m,\u001b[0m\u001b[0;34m(\u001b[0m\u001b[0mx1\u001b[0m\u001b[0;34m,\u001b[0m\u001b[0mv1\u001b[0m\u001b[0;34m)\u001b[0m\u001b[0;34m]\u001b[0m\u001b[0;34m\u001b[0m\u001b[0m\n\u001b[0m\u001b[1;32m    549\u001b[0m             \u001b[0marea\u001b[0m \u001b[0;34m=\u001b[0m \u001b[0mget_area_polygon\u001b[0m\u001b[0;34m(\u001b[0m\u001b[0mtrapezoid_verts\u001b[0m\u001b[0;34m)\u001b[0m\u001b[0;34m\u001b[0m\u001b[0m\n\u001b[1;32m    550\u001b[0m             \u001b[0mthis_error\u001b[0m \u001b[0;34m=\u001b[0m \u001b[0mnp\u001b[0m\u001b[0;34m.\u001b[0m\u001b[0mabs\u001b[0m\u001b[0;34m(\u001b[0m\u001b[0marea\u001b[0m\u001b[0;34m)\u001b[0m\u001b[0;34m\u001b[0m\u001b[0m\n",
      "\u001b[0;31mUnboundLocalError\u001b[0m: local variable 'x1' referenced before assignment"
     ]
    }
   ],
   "source": [
    "## iterate through each pair of line segments comprising the tracing verts\n",
    "## and corresponding verts, and increment error as area between the line\n",
    "## segments. \n",
    "## When line segments are non-intersecting and non-collinear, safe to use\n",
    "## general polygon area formula (add the trapezoid)\n",
    "## If line segments are parallel but not collinear, safe to use\n",
    "## general polygon area formula (add the trapezoid)\n",
    "## If line segments intersect, then add the resulting triangles\n",
    "## formed by the intersecting segments\n",
    "## If line segments are collinear, do not increment error, b/c perfectly on the line\n",
    "tracing_to_corresponding_error = rsh.get_area_between_tracing_and_corresponding_verts(tra_verts,cor_verts)\n",
    "\n",
    "## add to the above the deviation between the area of the reference\n",
    "## shape and the corresponding shape\n",
    "cor_area = rsh.get_area_polygon(cor_verts)\n",
    "ref_area = rsh.get_area_polygon(ref_verts)\n",
    "corresponding_to_reference_error = abs(abs(ref_area)-abs(cor_area))"
   ]
  },
  {
   "cell_type": "code",
   "execution_count": 158,
   "metadata": {},
   "outputs": [
    {
     "name": "stdout",
     "output_type": "stream",
     "text": [
      "SVG distance score = 114.121254846\n"
     ]
    }
   ],
   "source": [
    "## total error is sum of tracing_to_corresponding_error and corresponding_to_reference_error\n",
    "total_error = tracing_to_corresponding_error + tracing_to_corresponding_error\n",
    "\n",
    "svg_distance_score = np.sqrt(total_error)\n",
    "print 'SVG distance score = {}'.format(svg_distance_score)"
   ]
  },
  {
   "cell_type": "code",
   "execution_count": null,
   "metadata": {},
   "outputs": [],
   "source": []
  },
  {
   "cell_type": "code",
   "execution_count": null,
   "metadata": {},
   "outputs": [],
   "source": []
  }
 ],
 "metadata": {
  "kernelspec": {
   "display_name": "Python 2",
   "language": "python",
   "name": "python2"
  },
  "language_info": {
   "codemirror_mode": {
    "name": "ipython",
    "version": 2
   },
   "file_extension": ".py",
   "mimetype": "text/x-python",
   "name": "python",
   "nbconvert_exporter": "python",
   "pygments_lexer": "ipython2",
   "version": "2.7.14"
  }
 },
 "nbformat": 4,
 "nbformat_minor": 1
}
