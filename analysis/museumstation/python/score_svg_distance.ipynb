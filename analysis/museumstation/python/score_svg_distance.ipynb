{
 "cells": [
  {
   "cell_type": "code",
   "execution_count": 222,
   "metadata": {
    "collapsed": false
   },
   "outputs": [],
   "source": [
    "from __future__ import division\n",
    "import os\n",
    "import urllib, cStringIO\n",
    "import pymongo as pm ## first establish ssh tunnel to server where database is running\n",
    "import base64\n",
    "import numpy as np\n",
    "from numpy import *\n",
    "import PIL\n",
    "from PIL import Image\n",
    "import base64\n",
    "import matplotlib\n",
    "%matplotlib inline\n",
    "from matplotlib import pylab, mlab, pyplot\n",
    "from IPython.core.pylabtools import figsize, getfigs\n",
    "plt = pyplot\n",
    "import seaborn as sns\n",
    "sns.set_context('poster')\n",
    "sns.set_style('white')\n",
    "from matplotlib.path import Path\n",
    "import matplotlib.patches as patches\n",
    "\n",
    "import pandas as pd\n",
    "from svgpathtools import parse_path"
   ]
  },
  {
   "cell_type": "markdown",
   "metadata": {},
   "source": [
    "#### directory and file hierarchy"
   ]
  },
  {
   "cell_type": "code",
   "execution_count": 2,
   "metadata": {
    "collapsed": false
   },
   "outputs": [
    {
     "data": {
      "text/plain": [
       "<module 'svg_distance_helpers' from 'svg_distance_helpers.pyc'>"
      ]
     },
     "execution_count": 2,
     "metadata": {},
     "output_type": "execute_result"
    }
   ],
   "source": [
    "# directory & file hierarchy\n",
    "exp_path = 'museumdraw'\n",
    "analysis_dir = os.getcwd()\n",
    "exp_dir = os.path.abspath(os.path.join(os.getcwd(),'../..','experiments'))\n",
    "##\n",
    "sketch_dir = os.path.join(analysis_dir,'sketches')\n",
    "if not os.path.exists(sketch_dir):\n",
    "    os.makedirs(sketch_dir)\n",
    "## dir where we can keep all sketches not binned by category    \n",
    "\n",
    "import sys\n",
    "## add helpers to python path\n",
    "if os.path.abspath(os.getcwd()) not in sys.path:\n",
    "    sys.path.append(os.path.abspath(os.getcwd()))\n",
    "    \n",
    "import svg_distance_helpers as rsh\n",
    "reload(rsh)"
   ]
  },
  {
   "cell_type": "code",
   "execution_count": 3,
   "metadata": {
    "collapsed": false
   },
   "outputs": [],
   "source": [
    "# set vars \n",
    "auth = pd.read_csv('auth.txt', header = None) # this auth.txt file contains the password for the sketchloop user\n",
    "pswd = auth.values[0][0]\n",
    "user = 'sketchloop'\n",
    "host = 'rxdhawkins.me' ## cocolab ip address\n",
    "\n",
    "# have to fix this to be able to analyze from local\n",
    "import pymongo as pm\n",
    "conn = pm.MongoClient('mongodb://sketchloop:' + pswd + '@127.0.0.1')\n",
    "db = conn['kiddraw']\n",
    "coll = db['cdm_run_v3']"
   ]
  },
  {
   "cell_type": "markdown",
   "metadata": {},
   "source": [
    "#### fetch an example tracing"
   ]
  },
  {
   "cell_type": "code",
   "execution_count": 4,
   "metadata": {
    "collapsed": false
   },
   "outputs": [
    {
     "name": "stdout",
     "output_type": "stream",
     "text": [
      "2493\n"
     ]
    }
   ],
   "source": [
    "imrecs = coll.find({'$and':[{'category':'square'},{'dataType':'finalImage'}]}).sort('time')\n",
    "print imrecs.count()\n",
    "\n",
    "## retrieve example square tracing from db\n",
    "imrec = imrecs[90] "
   ]
  },
  {
   "cell_type": "code",
   "execution_count": 5,
   "metadata": {
    "collapsed": false
   },
   "outputs": [
    {
     "name": "stdout",
     "output_type": "stream",
     "text": [
      "Number of strokes in this tracing: 1\n"
     ]
    }
   ],
   "source": [
    "## get list of vertices and codes for tracing \n",
    "try:\n",
    "    ## get the corresponding stroke records for this tracing\n",
    "    stroke_recs = coll.find({'$and': [{'sessionId':imrec['sessionId']}, \n",
    "                                      {'dataType':'stroke'},\n",
    "                                      {'trialNum': imrec['trialNum']}]}).sort('time')\n",
    "\n",
    "    print 'Number of strokes in this tracing: {}'.format(stroke_recs.count())    \n",
    "    \n",
    "    ## check to make sure that there is at least one stroke! \n",
    "    if stroke_recs.count()>0:\n",
    "\n",
    "        ## now make an svg list!\n",
    "        svg_list = rsh.make_svg_list(stroke_recs)\n",
    "\n",
    "        ## now get me some verts and codes!\n",
    "        __Verts, __Codes = rsh.get_verts_and_codes(svg_list)\n",
    "        \n",
    "except Exception as e:\n",
    "    print 'Oops, something went wrong! Here is the error:'  \n",
    "    print e\n",
    "    pass        "
   ]
  },
  {
   "cell_type": "markdown",
   "metadata": {},
   "source": [
    "#### preprocessing of tracing and visualization (if desired)"
   ]
  },
  {
   "cell_type": "code",
   "execution_count": 24,
   "metadata": {
    "collapsed": false
   },
   "outputs": [],
   "source": [
    "## simplify tracing a bit if it is a jungle of verts/horiz commands\n",
    "_Verts,_Codes = rsh.simplify_verts_and_codes(__Verts,__Codes)"
   ]
  },
  {
   "cell_type": "code",
   "execution_count": 25,
   "metadata": {
    "collapsed": true
   },
   "outputs": [],
   "source": [
    "## make sure the last vertex of the tracing \n",
    "## is equal to the first vertex so the\n",
    "## polygon centroid formula works\n",
    "if np.sum(_Verts[-1] - _Verts[0]) != 0:\n",
    "    _Verts = np.vstack((_Verts,_Verts[0]))\n",
    "    _Codes.append(2)"
   ]
  },
  {
   "cell_type": "code",
   "execution_count": 26,
   "metadata": {
    "collapsed": false
   },
   "outputs": [],
   "source": [
    "## examine tracing\n",
    "reallyRun = 0\n",
    "if reallyRun:\n",
    "    rsh.plot_shape(_Verts,_Codes)"
   ]
  },
  {
   "cell_type": "code",
   "execution_count": 27,
   "metadata": {
    "collapsed": false
   },
   "outputs": [],
   "source": [
    "## get vertices and codes for reference shape (in this example, a square)\n",
    "Verts, Codes = rsh.get_nearest_reference_square_to_tracing(_Verts,_Codes)"
   ]
  },
  {
   "cell_type": "code",
   "execution_count": 28,
   "metadata": {
    "collapsed": false
   },
   "outputs": [],
   "source": [
    "## examine reference shape (in this example, a square)\n",
    "reallyRun = 0\n",
    "if reallyRun:\n",
    "    rsh.plot_shape(Verts,Codes)"
   ]
  },
  {
   "cell_type": "code",
   "execution_count": 29,
   "metadata": {
    "collapsed": false
   },
   "outputs": [],
   "source": [
    "## get centroid of both shapes\n",
    "ref_cx,ref_cy = rsh.get_centroid_polygon(Verts)\n",
    "tra_cx,tra_cy = rsh.get_centroid_polygon(_Verts)\n",
    "\n",
    "ref_centroid = np.array((ref_cx,ref_cy))\n",
    "tra_centroid = np.array((tra_cx,tra_cy))"
   ]
  },
  {
   "cell_type": "code",
   "execution_count": 30,
   "metadata": {
    "collapsed": false
   },
   "outputs": [
    {
     "name": "stdout",
     "output_type": "stream",
     "text": [
      "411.49999999999994 405.67188\n",
      "412.20421909124275 406.9746849046484\n"
     ]
    }
   ],
   "source": [
    "print ref_cx,ref_cy\n",
    "print tra_cx,tra_cy"
   ]
  },
  {
   "cell_type": "code",
   "execution_count": 31,
   "metadata": {
    "collapsed": false
   },
   "outputs": [],
   "source": [
    "## get verts and codes for the reference and tracing\n",
    "ref_verts = Verts-ref_centroid\n",
    "ref_codes = Codes\n",
    "tra_verts = _Verts-tra_centroid\n",
    "tra_codes = _Codes"
   ]
  },
  {
   "cell_type": "code",
   "execution_count": 58,
   "metadata": {
    "collapsed": false
   },
   "outputs": [
    {
     "data": {
      "image/png": "[encoded data removed]",
      "text/plain": [
       "<matplotlib.figure.Figure at 0x10cb893d0>"
      ]
     },
     "metadata": {},
     "output_type": "display_data"
    }
   ],
   "source": [
    "rsh.plot_coregistered_shapes(ref_verts,ref_codes,tra_verts,tra_codes)"
   ]
  },
  {
   "cell_type": "code",
   "execution_count": null,
   "metadata": {
    "collapsed": true
   },
   "outputs": [],
   "source": []
  },
  {
   "cell_type": "markdown",
   "metadata": {},
   "source": [
    "#### test case for particular line segment AB on reference shape and point P on tracing"
   ]
  },
  {
   "cell_type": "code",
   "execution_count": 249,
   "metadata": {
    "collapsed": false
   },
   "outputs": [],
   "source": [
    "A = np.array((0,0))\n",
    "B = np.array((10,10))\n",
    "P = np.array((20,5)) ## first point\n",
    "\n",
    "## get point C on A,B that minimizes distance from particular point on tracing to the line segment AB\n",
    "C = rsh.get_closest_point_from_P_to_AB(A,B,P,verbose=False) "
   ]
  },
  {
   "cell_type": "code",
   "execution_count": null,
   "metadata": {
    "collapsed": false
   },
   "outputs": [],
   "source": [
    "a = ref_verts[0]\n",
    "b = ref_verts[1]\n",
    "p = tra_verts[1]\n",
    "c,d = rsh.get_closest_point_from_P_to_AB(a,b,p,verbose=False) \n",
    "print c,d"
   ]
  },
  {
   "cell_type": "code",
   "execution_count": null,
   "metadata": {
    "collapsed": false
   },
   "outputs": [],
   "source": []
  },
  {
   "cell_type": "markdown",
   "metadata": {},
   "source": [
    "#### get corresponding points on the reference shape for each vertex in the tracing"
   ]
  },
  {
   "cell_type": "code",
   "execution_count": 56,
   "metadata": {
    "collapsed": false
   },
   "outputs": [],
   "source": [
    "cor_verts = np.zeros((np.shape(tra_verts)[0],2))\n",
    "for i,t in enumerate(tra_verts): ## loop through segments of the tracing\n",
    "    p = t ## endpoint of the current tracing segment\n",
    "    ## for a given point on the tracing, find the corresponding closest point on the reference shape\n",
    "    ref_gen = rsh.pairs(ref_verts)\n",
    "    D = 1e6 ## initialize at some crazy large value\n",
    "    for r in ref_gen:\n",
    "        a = r[0]\n",
    "        b = r[1]\n",
    "        c,d = rsh.get_closest_point_from_P_to_AB(a,b,p,verbose=False) \n",
    "        if d<D: ## if the shortest distance so far, then swap in for the value of D\n",
    "            D = d\n",
    "            C = c\n",
    "        else:\n",
    "            pass \n",
    "    cor_verts[i,:] = C ## assign the closest corresponding point to the \"corresponding vertices\" array"
   ]
  },
  {
   "cell_type": "code",
   "execution_count": 61,
   "metadata": {
    "collapsed": false
   },
   "outputs": [],
   "source": [
    "## test to make sure the corresponding points really lie on the reference shape\n",
    "reload(rsh)\n",
    "reallyRun = 0\n",
    "if reallyRun:\n",
    "    rsh.plot_corresponding_points_on_reference(tra_verts,tra_codes,ref_verts,ref_codes,cor_verts)"
   ]
  },
  {
   "cell_type": "code",
   "execution_count": 55,
   "metadata": {
    "collapsed": false
   },
   "outputs": [],
   "source": []
  },
  {
   "cell_type": "code",
   "execution_count": null,
   "metadata": {
    "collapsed": false
   },
   "outputs": [],
   "source": []
  },
  {
   "cell_type": "code",
   "execution_count": 62,
   "metadata": {
    "collapsed": false
   },
   "outputs": [
    {
     "name": "stdout",
     "output_type": "stream",
     "text": [
      "(array([5., 5.]), 0.0)\n"
     ]
    }
   ],
   "source": [
    "A = np.array((0,0))\n",
    "B = np.array((10,10))\n",
    "P = np.array((5,5)) ## first point\n",
    "\n",
    "## get point C on A,B that minimizes distance from particular point on tracing to the line segment AB\n",
    "C = rsh.get_closest_point_from_P_to_AB(A,B,P,verbose=False) \n",
    "print C"
   ]
  },
  {
   "cell_type": "code",
   "execution_count": null,
   "metadata": {
    "collapsed": false
   },
   "outputs": [],
   "source": []
  },
  {
   "cell_type": "code",
   "execution_count": null,
   "metadata": {
    "collapsed": false
   },
   "outputs": [],
   "source": []
  },
  {
   "cell_type": "code",
   "execution_count": 259,
   "metadata": {
    "collapsed": false
   },
   "outputs": [],
   "source": [
    "def near(a, b, rtol=1e-5, atol=1e-8):\n",
    "    return abs(a - b) < (atol + rtol * abs(b))\n",
    "\n",
    "def det(a, b):\n",
    "    return a[0] * b[1] - a[1] * b[0]\n",
    "\n",
    "def line_intersection(line1, line2,verbose=False):    \n",
    "    '''\n",
    "    see: https://stackoverflow.com/questions/15297590/improve-in-coding-saving-how-to-check-if-two-line-segments-are-crossing-in-pytho\n",
    "    \n",
    "    Return the coordinates of a point of intersection given two lines.\n",
    "    Return None if the lines are parallel, but non-collinear.\n",
    "    Return an arbitrary point of intersection if the lines are collinear.\n",
    "\n",
    "    Parameters:\n",
    "    line1 and line2: lines given by 2 points (a 2-tuple of (x,y)-coords).    \n",
    "    '''\n",
    "    collinear = False\n",
    "    (x1,y1), (x2,y2) = line1\n",
    "    (u1,v1), (u2,v2) = line2\n",
    "    (a,b), (c,d) = (x2-x1, u1-u2), (y2-y1, v1-v2)\n",
    "    e, f = u1-x1, v1-y1\n",
    "    # Solve ((a,b), (c,d)) * (t,s) = (e,f)\n",
    "    denom = float(a*d - b*c)\n",
    "    if near(denom, 0):\n",
    "        # parallel\n",
    "        # If collinear, the equation is solvable with t = 0.\n",
    "        # When t=0, s would have to equal e/b and f/d\n",
    "        try:\n",
    "            if (b==0): ## lines are both vertical, check if collinear\n",
    "                ## https://math.stackexchange.com/questions/1102258/how-to-determine-if-some-line-segments-are-collinear \n",
    "                ## Three points are collinear if the determinant \n",
    "                ## (see below) is zero\n",
    "                if near(x1*y2 + x2*v1 + u1*y1 - x1*v1 - x2*y1 - u1*y2,0):\n",
    "                    if verbose==True:\n",
    "                        print 'vertical, parallel and collinear'\n",
    "                        collinear=True\n",
    "                        return collinear\n",
    "                else:\n",
    "                    if verbose==True:\n",
    "                        print 'vertical, parallel but not collinear'\n",
    "                        return None\n",
    "            elif d==0: ## lines are both horizontal, check if collinear\n",
    "                if near(x1*y2 + x2*v1 + u1*y1 - x1*v1 - x2*y1 - u1*y2,0):\n",
    "                    if verbose==True:                        \n",
    "                        print 'horizontal, parallel and collinear' \n",
    "                        collinear=True                                                \n",
    "                        return collinear\n",
    "                else:\n",
    "                    if verbose==True:\n",
    "                        print 'horizontal, parallel but not collinear'  \n",
    "                        return None\n",
    "            elif near(float(e)/b, float(f)/d):\n",
    "                # collinear\n",
    "                px = x1\n",
    "                py = y1\n",
    "                collinear=True  \n",
    "                print 'point of intersection returned'                \n",
    "                return px, py, collinear\n",
    "            else:\n",
    "                if verbose==True:\n",
    "                    print 'neither horizontal nor vertical, but parallel and non-collinear'\n",
    "                    return None\n",
    "        except:\n",
    "            print 'Case unknown'\n",
    "            \n",
    "    else:\n",
    "        t = (e*d - b*f)/denom\n",
    "        # s = (a*f - e*c)/denom\n",
    "        px = x1 + t*(x2-x1)\n",
    "        py = y1 + t*(y2-y1)\n",
    "        return px, py\n",
    "    \n",
    "def check_if_intersection_on_line_segments(x1,y1,x2,y2,u1,v1,u2,v2,px,py,verbose=False):    \n",
    "    ## check if segments intersect at a point within the line segments\n",
    "    ## if within, then go ahead and increment error by adding the triangles\n",
    "    ## if outside, increment error as trapezoid\n",
    "    A = np.array((x1,y1))\n",
    "    B = np.array((x2,y2))\n",
    "    P = np.array((px,py))\n",
    "    C, dist1 = rsh.get_closest_point_from_P_to_AB(A,B,P,verbose=False)\n",
    "    A = np.array((u1,v1))\n",
    "    B = np.array((u2,v2))\n",
    "    P = np.array((px,py))\n",
    "    C, dist2 = rsh.get_closest_point_from_P_to_AB(A,B,P,verbose=False)\n",
    "\n",
    "    if (near(dist1,0)) or (near(dist2,0)):\n",
    "        if verbose==True:\n",
    "            print 'point of intersection is on the line segment'\n",
    "        return px,py\n",
    "    else:\n",
    "        return None    "
   ]
  },
  {
   "cell_type": "code",
   "execution_count": null,
   "metadata": {
    "collapsed": true
   },
   "outputs": [],
   "source": []
  },
  {
   "cell_type": "code",
   "execution_count": 260,
   "metadata": {
    "collapsed": false
   },
   "outputs": [],
   "source": [
    "def get_area_between_tracing_and_corresponding_verts(tra_verts,cor_verts,verbose=False):\n",
    "    total_error = 0\n",
    "    tra_gen = rsh.pairs(tra_verts)\n",
    "    cor_gen = rsh.pairs(cor_verts)\n",
    "    for i,t in enumerate(zip(tra_gen,cor_gen)):\n",
    "\n",
    "        tra_vert_1 = tuple(t[0][0]) ## tra vert 1\n",
    "        tra_vert_2 = tuple(t[0][1]) ## tra vert 2\n",
    "        cor_vert_1 = tuple(t[1][0]) ## cor vert 2\n",
    "        cor_vert_2 = tuple(t[1][1]) ## cor vert 2\n",
    "        line1 = tuple((tra_vert_1,tra_vert_2))\n",
    "        line2 = tuple((cor_vert_1,cor_vert_2))\n",
    "\n",
    "        ## determine whether these two segments intersect\n",
    "        out = line_intersection(line1,line2,verbose=True)\n",
    "\n",
    "        if type(out)==bool:\n",
    "            if verbose==True:\n",
    "                print 'segments are collinear, do not increment error'\n",
    "            this_error = 0\n",
    "        elif (type(out)==tuple):\n",
    "            px,py = out\n",
    "            (x1,y1), (x2,y2) = line1\n",
    "            (u1,v1), (u2,v2) = line2\n",
    "            check = check_if_intersection_on_line_segments(x1,y1,x2,y2,u1,v1,u2,v2,px,py,verbose=verbose)        \n",
    "            if check==None:\n",
    "                if verbose==True:\n",
    "                    print 'segments do not intersect, increment error by whole trapezoid'            \n",
    "                trapezoid_verts = [(x1,y1),(x2,y2),(u1,v1),(u2,v2),(x1,v1)]\n",
    "                area = rsh.get_area_polygon(trapezoid_verts)\n",
    "                this_error = np.abs(area)\n",
    "            elif type(check)==tuple:\n",
    "                if verbose==True:                \n",
    "                    print 'segments do intersect, increment error by two triangles'            \n",
    "                px,py = check            \n",
    "                triangle_verts_1 = [(x1,y1),(px,py),(u1,v1),(x1,y1)]\n",
    "                triangle_verts_2 = [(px,py),(u2,v2),(x2,y2),(px,py)]\n",
    "                area1 = rsh.get_area_polygon(triangle_verts_1)\n",
    "                area2 = rsh.get_area_polygon(triangle_verts_2)    \n",
    "                this_error = np.abs(area1) + np.abs(area2) \n",
    "        elif out==None:\n",
    "            if verbose==True:            \n",
    "                print 'segments are parallel (but not collinear), increment error'\n",
    "            trapezoid_verts = [(x1,y1),(x2,y2),(u1,v1),(u2,v2),(x1,v1)]\n",
    "            area = rsh.get_area_polygon(trapezoid_verts)\n",
    "            this_error = np.abs(area)\n",
    "\n",
    "        ## increment total_error by this_error\n",
    "        total_error += this_error\n",
    "    return total_error\n",
    "\n"
   ]
  },
  {
   "cell_type": "code",
   "execution_count": 261,
   "metadata": {
    "collapsed": false
   },
   "outputs": [],
   "source": [
    "total_error = get_area_between_tracing_and_corresponding_verts(tra_verts,cor_verts)"
   ]
  },
  {
   "cell_type": "code",
   "execution_count": null,
   "metadata": {
    "collapsed": false
   },
   "outputs": [],
   "source": []
  },
  {
   "cell_type": "code",
   "execution_count": 262,
   "metadata": {
    "collapsed": false
   },
   "outputs": [
    {
     "data": {
      "text/plain": [
       "80.69591317900604"
      ]
     },
     "execution_count": 262,
     "metadata": {},
     "output_type": "execute_result"
    }
   ],
   "source": [
    "np.sqrt(total_error)"
   ]
  },
  {
   "cell_type": "code",
   "execution_count": null,
   "metadata": {
    "collapsed": false
   },
   "outputs": [],
   "source": []
  },
  {
   "cell_type": "code",
   "execution_count": null,
   "metadata": {
    "collapsed": false
   },
   "outputs": [],
   "source": []
  },
  {
   "cell_type": "code",
   "execution_count": null,
   "metadata": {
    "collapsed": true
   },
   "outputs": [],
   "source": []
  }
 ],
 "metadata": {
  "kernelspec": {
   "display_name": "Python 2",
   "language": "python",
   "name": "python2"
  },
  "language_info": {
   "codemirror_mode": {
    "name": "ipython",
    "version": 2
   },
   "file_extension": ".py",
   "mimetype": "text/x-python",
   "name": "python",
   "nbconvert_exporter": "python",
   "pygments_lexer": "ipython2",
   "version": "2.7.13"
  }
 },
 "nbformat": 4,
 "nbformat_minor": 1
}
