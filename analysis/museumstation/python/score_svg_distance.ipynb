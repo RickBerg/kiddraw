{
 "cells": [
  {
   "cell_type": "code",
   "execution_count": 1,
   "metadata": {
    "collapsed": false
   },
   "outputs": [],
   "source": [
    "from __future__ import division\n",
    "import os\n",
    "import urllib, cStringIO\n",
    "import pymongo as pm ## first establish ssh tunnel to server where database is running\n",
    "import base64\n",
    "import numpy as np\n",
    "from numpy import *\n",
    "import PIL\n",
    "from PIL import Image\n",
    "import base64\n",
    "import matplotlib\n",
    "from matplotlib import pylab, mlab, pyplot\n",
    "from IPython.core.pylabtools import figsize, getfigs\n",
    "plt = pyplot\n",
    "import seaborn as sns\n",
    "sns.set_context('poster')\n",
    "sns.set_style('white')\n",
    "from matplotlib.path import Path\n",
    "import matplotlib.patches as patches\n",
    "\n",
    "import pandas as pd\n",
    "from svgpathtools import parse_path"
   ]
  },
  {
   "cell_type": "markdown",
   "metadata": {},
   "source": [
    "#### directory and file hierarchy"
   ]
  },
  {
   "cell_type": "code",
   "execution_count": 2,
   "metadata": {
    "collapsed": false
   },
   "outputs": [
    {
     "data": {
      "text/plain": [
       "<module 'svg_distance_helpers' from 'svg_distance_helpers.pyc'>"
      ]
     },
     "execution_count": 2,
     "metadata": {},
     "output_type": "execute_result"
    }
   ],
   "source": [
    "# directory & file hierarchy\n",
    "exp_path = 'museumdraw'\n",
    "analysis_dir = os.getcwd()\n",
    "exp_dir = os.path.abspath(os.path.join(os.getcwd(),'../..','experiments'))\n",
    "##\n",
    "sketch_dir = os.path.join(analysis_dir,'sketches')\n",
    "if not os.path.exists(sketch_dir):\n",
    "    os.makedirs(sketch_dir)\n",
    "## dir where we can keep all sketches not binned by category    \n",
    "\n",
    "import sys\n",
    "## add helpers to python path\n",
    "if os.path.abspath(os.getcwd()) not in sys.path:\n",
    "    sys.path.append(os.path.abspath(os.getcwd()))\n",
    "    \n",
    "import svg_distance_helpers as rsh\n",
    "reload(rsh)"
   ]
  },
  {
   "cell_type": "code",
   "execution_count": 3,
   "metadata": {
    "collapsed": false
   },
   "outputs": [],
   "source": [
    "# set vars \n",
    "auth = pd.read_csv('auth.txt', header = None) # this auth.txt file contains the password for the sketchloop user\n",
    "pswd = auth.values[0][0]\n",
    "user = 'sketchloop'\n",
    "host = 'rxdhawkins.me' ## cocolab ip address\n",
    "\n",
    "# have to fix this to be able to analyze from local\n",
    "import pymongo as pm\n",
    "conn = pm.MongoClient('mongodb://sketchloop:' + pswd + '@127.0.0.1')\n",
    "db = conn['kiddraw']\n",
    "coll = db['cdm_run_v3']"
   ]
  },
  {
   "cell_type": "markdown",
   "metadata": {},
   "source": [
    "#### fetch an example tracing"
   ]
  },
  {
   "cell_type": "code",
   "execution_count": 4,
   "metadata": {
    "collapsed": false
   },
   "outputs": [
    {
     "name": "stdout",
     "output_type": "stream",
     "text": [
      "2493\n"
     ]
    }
   ],
   "source": [
    "imrecs = coll.find({'$and':[{'category':'square'},{'dataType':'finalImage'}]}).sort('time')\n",
    "print imrecs.count()\n",
    "\n",
    "## retrieve example square tracing from db\n",
    "imrec = imrecs[90] "
   ]
  },
  {
   "cell_type": "code",
   "execution_count": 5,
   "metadata": {
    "collapsed": false
   },
   "outputs": [
    {
     "name": "stdout",
     "output_type": "stream",
     "text": [
      "Number of strokes in this tracing: 1\n"
     ]
    }
   ],
   "source": [
    "## get list of vertices and codes for tracing \n",
    "try:\n",
    "    ## get the corresponding stroke records for this tracing\n",
    "    stroke_recs = coll.find({'$and': [{'sessionId':imrec['sessionId']}, \n",
    "                                      {'dataType':'stroke'},\n",
    "                                      {'trialNum': imrec['trialNum']}]}).sort('time')\n",
    "\n",
    "    print 'Number of strokes in this tracing: {}'.format(stroke_recs.count())    \n",
    "    \n",
    "    ## check to make sure that there is at least one stroke! \n",
    "    if stroke_recs.count()>0:\n",
    "\n",
    "        ## now make an svg list!\n",
    "        svg_list = rsh.make_svg_list(stroke_recs)\n",
    "\n",
    "        ## now get me some verts and codes!\n",
    "        __Verts, __Codes = rsh.get_verts_and_codes(svg_list)\n",
    "        \n",
    "except Exception as e:\n",
    "    print 'Oops, something went wrong! Here is the error:'  \n",
    "    print e\n",
    "    pass        "
   ]
  },
  {
   "cell_type": "markdown",
   "metadata": {},
   "source": [
    "#### preprocessing of tracing and visualization (if desired)"
   ]
  },
  {
   "cell_type": "code",
   "execution_count": 24,
   "metadata": {
    "collapsed": false
   },
   "outputs": [],
   "source": [
    "## simplify tracing a bit if it is a jungle of verts/horiz commands\n",
    "_Verts,_Codes = rsh.simplify_verts_and_codes(__Verts,__Codes)"
   ]
  },
  {
   "cell_type": "code",
   "execution_count": 25,
   "metadata": {
    "collapsed": true
   },
   "outputs": [],
   "source": [
    "## make sure the last vertex of the tracing \n",
    "## is equal to the first vertex so the\n",
    "## polygon centroid formula works\n",
    "if np.sum(_Verts[-1] - _Verts[0]) != 0:\n",
    "    _Verts = np.vstack((_Verts,_Verts[0]))\n",
    "    _Codes.append(2)"
   ]
  },
  {
   "cell_type": "code",
   "execution_count": 26,
   "metadata": {
    "collapsed": false
   },
   "outputs": [],
   "source": [
    "## examine tracing\n",
    "reallyRun = 0\n",
    "if reallyRun:\n",
    "    rsh.plot_shape(_Verts,_Codes)"
   ]
  },
  {
   "cell_type": "code",
   "execution_count": 27,
   "metadata": {
    "collapsed": false
   },
   "outputs": [],
   "source": [
    "## get vertices and codes for reference shape (in this example, a square)\n",
    "Verts, Codes = rsh.get_nearest_reference_square_to_tracing(_Verts,_Codes)"
   ]
  },
  {
   "cell_type": "code",
   "execution_count": 28,
   "metadata": {
    "collapsed": false
   },
   "outputs": [],
   "source": [
    "## examine reference shape (in this example, a square)\n",
    "reallyRun = 0\n",
    "if reallyRun:\n",
    "    rsh.plot_shape(Verts,Codes)"
   ]
  },
  {
   "cell_type": "code",
   "execution_count": 29,
   "metadata": {
    "collapsed": false
   },
   "outputs": [],
   "source": [
    "## get centroid of both shapes\n",
    "ref_cx,ref_cy = rsh.get_centroid_polygon(Verts)\n",
    "tra_cx,tra_cy = rsh.get_centroid_polygon(_Verts)\n",
    "\n",
    "ref_centroid = np.array((ref_cx,ref_cy))\n",
    "tra_centroid = np.array((tra_cx,tra_cy))"
   ]
  },
  {
   "cell_type": "code",
   "execution_count": 30,
   "metadata": {
    "collapsed": false
   },
   "outputs": [
    {
     "name": "stdout",
     "output_type": "stream",
     "text": [
      "411.49999999999994 405.67188\n",
      "412.20421909124275 406.9746849046484\n"
     ]
    }
   ],
   "source": [
    "print ref_cx,ref_cy\n",
    "print tra_cx,tra_cy"
   ]
  },
  {
   "cell_type": "code",
   "execution_count": 31,
   "metadata": {
    "collapsed": false
   },
   "outputs": [],
   "source": [
    "## get verts and codes for the reference and tracing\n",
    "ref_verts = Verts-ref_centroid\n",
    "ref_codes = Codes\n",
    "tra_verts = _Verts-tra_centroid\n",
    "tra_codes = _Codes"
   ]
  },
  {
   "cell_type": "code",
   "execution_count": 37,
   "metadata": {
    "collapsed": false
   },
   "outputs": [
    {
     "data": {
      "image/png": "[encoded data removed]",
      "text/plain": [
       "<matplotlib.figure.Figure at 0x10c059d10>"
      ]
     },
     "metadata": {},
     "output_type": "display_data"
    }
   ],
   "source": [
    "rsh.plot_coregistered_shapes(ref_verts,ref_codes,tra_verts,tra_codes)"
   ]
  },
  {
   "cell_type": "code",
   "execution_count": null,
   "metadata": {
    "collapsed": true
   },
   "outputs": [],
   "source": []
  },
  {
   "cell_type": "markdown",
   "metadata": {},
   "source": [
    "#### test case for particular line segment AB on reference shape and point P on tracing"
   ]
  },
  {
   "cell_type": "code",
   "execution_count": 249,
   "metadata": {
    "collapsed": false
   },
   "outputs": [],
   "source": [
    "A = np.array((0,0))\n",
    "B = np.array((10,10))\n",
    "P = np.array((20,5)) ## first point\n",
    "\n",
    "## get point C on A,B that minimizes distance from particular point on tracing to the line segment AB\n",
    "C = rsh.get_closest_point_from_P_to_AB(A,B,P,verbose=False) "
   ]
  },
  {
   "cell_type": "code",
   "execution_count": null,
   "metadata": {
    "collapsed": false
   },
   "outputs": [],
   "source": []
  },
  {
   "cell_type": "code",
   "execution_count": 299,
   "metadata": {
    "collapsed": false
   },
   "outputs": [
    {
     "name": "stdout",
     "output_type": "stream",
     "text": [
      "[-140.8 -143.2] 75.29245632592767\n"
     ]
    }
   ],
   "source": [
    "a = ref_verts[0]\n",
    "b = ref_verts[1]\n",
    "p = tra_verts[1]\n",
    "c,d = rsh.get_closest_point_from_P_to_AB(a,b,p,verbose=False) \n",
    "print c,d"
   ]
  },
  {
   "cell_type": "code",
   "execution_count": 280,
   "metadata": {
    "collapsed": false
   },
   "outputs": [],
   "source": []
  },
  {
   "cell_type": "code",
   "execution_count": 321,
   "metadata": {
    "collapsed": false
   },
   "outputs": [
    {
     "data": {
      "text/plain": [
       "<module 'svg_distance_helpers' from 'svg_distance_helpers.py'>"
      ]
     },
     "execution_count": 321,
     "metadata": {},
     "output_type": "execute_result"
    }
   ],
   "source": [
    "reload(rsh)"
   ]
  },
  {
   "cell_type": "code",
   "execution_count": 353,
   "metadata": {
    "collapsed": false
   },
   "outputs": [],
   "source": [
    "cor_verts = np.zeros((np.shape(tra_verts)[0],2))\n",
    "for i,t in enumerate(tra_verts): ## loop through segments of the tracing\n",
    "    p = t ## endpoint of the current tracing segment\n",
    "    ## for a given point on the tracing, find the corresponding closest point on the reference shape\n",
    "    ref_gen = rsh.pairs(ref_verts)\n",
    "    D = 1e6 ## initialize at some crazy large value\n",
    "    for r in ref_gen:\n",
    "        a = r[0]\n",
    "        b = r[1]\n",
    "        c,d = rsh.get_closest_point_from_P_to_AB(a,b,p,verbose=False) \n",
    "        if d<D: ## if the shortest distance so far, then swap in for the value of D\n",
    "            D = d\n",
    "            C = c\n",
    "        else:\n",
    "            pass \n",
    "    cor_verts[i,:] = C ## assign the closest corresponding point to the \"corresponding vertices\" array"
   ]
  },
  {
   "cell_type": "code",
   "execution_count": 34,
   "metadata": {
    "collapsed": false
   },
   "outputs": [
    {
     "data": {
      "image/png": "[encoded data removed]",
      "text/plain": [
       "<matplotlib.figure.Figure at 0x10b4a7a50>"
      ]
     },
     "metadata": {},
     "output_type": "display_data"
    }
   ],
   "source": [
    "fig = plt.figure(figsize=(8,8))    \n",
    "ax = plt.subplot(111)\n",
    "ax.axis('off')\n",
    "ax.set_xlim(-300,300)\n",
    "ax.set_ylim(-300,300)\n",
    "# path = Path(cor_verts, tra_codes)\n",
    "# patch = patches.PathPatch(path, edgecolor='red',facecolor='none', lw=3)\n",
    "# ax.add_patch(patch)\n",
    "path = Path(tra_verts, tra_codes)\n",
    "patch = patches.PathPatch(path, edgecolor='blue', facecolor='none', lw=3)\n",
    "ax.add_patch(patch)\n",
    "path = Path(ref_verts, ref_codes)\n",
    "patch = patches.PathPatch(path, edgecolor='red',facecolor='none', lw=3)\n",
    "ax.add_patch(patch)\n",
    "plt.gca().invert_yaxis() # y values increase as you go down in image\n",
    "plt.show() "
   ]
  },
  {
   "cell_type": "code",
   "execution_count": null,
   "metadata": {
    "collapsed": false
   },
   "outputs": [],
   "source": []
  },
  {
   "cell_type": "code",
   "execution_count": null,
   "metadata": {
    "collapsed": false
   },
   "outputs": [],
   "source": []
  },
  {
   "cell_type": "code",
   "execution_count": 331,
   "metadata": {
    "collapsed": false
   },
   "outputs": [
    {
     "data": {
      "text/plain": [
       "array([0., 0.])"
      ]
     },
     "execution_count": 331,
     "metadata": {},
     "output_type": "execute_result"
    }
   ],
   "source": [
    "cor_verts[1]"
   ]
  },
  {
   "cell_type": "code",
   "execution_count": 310,
   "metadata": {
    "collapsed": false
   },
   "outputs": [
    {
     "data": {
      "text/plain": [
       "array([[-140.8, -143.2],\n",
       "       [-140.8, -143.2]])"
      ]
     },
     "execution_count": 310,
     "metadata": {},
     "output_type": "execute_result"
    }
   ],
   "source": [
    "np.vstack((C,C))"
   ]
  },
  {
   "cell_type": "code",
   "execution_count": 314,
   "metadata": {
    "collapsed": false
   },
   "outputs": [],
   "source": [
    "cor_verts = np.zeros((np.shape(tra_verts)[0],2))"
   ]
  },
  {
   "cell_type": "code",
   "execution_count": 318,
   "metadata": {
    "collapsed": false
   },
   "outputs": [
    {
     "name": "stdout",
     "output_type": "stream",
     "text": [
      "0 (array([-161.03571429, -180.96428571]), array([-162.03571429,  -70.96428571]))\n",
      "1 (array([-162.03571429,  -70.96428571]), array([-163.03571429,  -60.96428571]))\n",
      "2 (array([-163.03571429,  -60.96428571]), array([-164.03571429,  -51.96428571]))\n",
      "3 (array([-164.03571429,  -51.96428571]), array([-165.03571429,  -41.96428571]))\n",
      "4 (array([-165.03571429,  -41.96428571]), array([-166.03571429,  -38.96428571]))\n",
      "5 (array([-166.03571429,  -38.96428571]), array([-167.03571429,   83.03571429]))\n",
      "6 (array([-167.03571429,   83.03571429]), array([-166.03571429,  100.03571429]))\n",
      "7 (array([-166.03571429,  100.03571429]), array([-165.03571429,  112.03571429]))\n",
      "8 (array([-165.03571429,  112.03571429]), array([-164.03571429,  137.03571429]))\n",
      "9 (array([-164.03571429,  137.03571429]), array([-163.03571429,  148.03571429]))\n",
      "10 (array([-163.03571429,  148.03571429]), array([-162.03571429,  152.03571429]))\n",
      "11 (array([-162.03571429,  152.03571429]), array([-153.03571429,  153.03571429]))\n",
      "12 (array([-153.03571429,  153.03571429]), array([-151.03571429,  152.03571429]))\n",
      "13 (array([-151.03571429,  152.03571429]), array([-149.03571429,  151.03571429]))\n",
      "14 (array([-149.03571429,  151.03571429]), array([-142.03571429,  150.03571429]))\n",
      "15 (array([-142.03571429,  150.03571429]), array([-104.03571429,  149.03571429]))\n",
      "16 (array([-104.03571429,  149.03571429]), array([-98.03571429, 150.03571429]))\n",
      "17 (array([-98.03571429, 150.03571429]), array([-92.03571429, 151.03571429]))\n",
      "18 (array([-92.03571429, 151.03571429]), array([-89.03571429, 152.03571429]))\n",
      "19 (array([-89.03571429, 152.03571429]), array([-76.03571429, 153.03571429]))\n",
      "20 (array([-76.03571429, 153.03571429]), array([-64.03571429, 154.03571429]))\n",
      "21 (array([-64.03571429, 154.03571429]), array([ 93.96428571, 155.03571429]))\n",
      "22 (array([ 93.96428571, 155.03571429]), array([132.96428571, 154.03571429]))\n",
      "23 (array([132.96428571, 154.03571429]), array([140.96428571, 153.03571429]))\n",
      "24 (array([140.96428571, 153.03571429]), array([151.96428571, 152.03571429]))\n",
      "25 (array([151.96428571, 152.03571429]), array([173.96428571, 150.03571429]))\n",
      "26 (array([173.96428571, 150.03571429]), array([177.96428571, 149.03571429]))\n",
      "27 (array([177.96428571, 149.03571429]), array([178.96428571, 147.03571429]))\n",
      "28 (array([178.96428571, 147.03571429]), array([180.96428571, 142.03571429]))\n",
      "29 (array([180.96428571, 142.03571429]), array([181.96428571, 138.03571429]))\n",
      "30 (array([181.96428571, 138.03571429]), array([180.96428571, 102.03571429]))\n",
      "31 (array([180.96428571, 102.03571429]), array([179.96428571,  92.03571429]))\n",
      "32 (array([179.96428571,  92.03571429]), array([178.96428571,  83.03571429]))\n",
      "33 (array([178.96428571,  83.03571429]), array([177.96428571,  65.03571429]))\n",
      "34 (array([177.96428571,  65.03571429]), array([176.96428571,  50.03571429]))\n",
      "35 (array([176.96428571,  50.03571429]), array([175.96428571, -57.96428571]))\n",
      "36 (array([175.96428571, -57.96428571]), array([176.96428571, -72.96428571]))\n",
      "37 (array([176.96428571, -72.96428571]), array([ 177.96428571, -117.96428571]))\n",
      "38 (array([ 177.96428571, -117.96428571]), array([ 176.96428571, -131.96428571]))\n",
      "39 (array([ 176.96428571, -131.96428571]), array([ 175.96428571, -170.96428571]))\n",
      "40 (array([ 175.96428571, -170.96428571]), array([ 167.96428571, -195.96428571]))\n",
      "41 (array([ 167.96428571, -195.96428571]), array([ 143.96428571, -196.96428571]))\n",
      "42 (array([ 143.96428571, -196.96428571]), array([ 132.96428571, -197.96428571]))\n",
      "43 (array([ 132.96428571, -197.96428571]), array([ 129.96428571, -198.96428571]))\n",
      "44 (array([ 129.96428571, -198.96428571]), array([ 122.96428571, -199.96428571]))\n",
      "45 (array([ 122.96428571, -199.96428571]), array([ 116.96428571, -200.96428571]))\n",
      "46 (array([ 116.96428571, -200.96428571]), array([   4.96428571, -201.96428571]))\n",
      "47 (array([   4.96428571, -201.96428571]), array([ -63.03571429, -202.96428571]))\n",
      "48 (array([ -63.03571429, -202.96428571]), array([ -77.03571429, -201.96428571]))\n",
      "49 (array([ -77.03571429, -201.96428571]), array([ -91.03571429, -200.96428571]))\n",
      "50 (array([ -91.03571429, -200.96428571]), array([-103.03571429, -199.96428571]))\n",
      "51 (array([-103.03571429, -199.96428571]), array([-116.03571429, -198.96428571]))\n",
      "52 (array([-116.03571429, -198.96428571]), array([-143.03571429, -196.96428571]))\n",
      "53 (array([-143.03571429, -196.96428571]), array([-162.03571429, -194.96428571]))\n",
      "54 (array([-162.03571429, -194.96428571]), array([-170.03571429, -192.96428571]))\n"
     ]
    }
   ],
   "source": [
    "tra_gen = rsh.pairs(tra_verts)\n",
    "\n",
    "for i,t in enumerate(tra_gen):\n",
    "    print i,t"
   ]
  },
  {
   "cell_type": "code",
   "execution_count": null,
   "metadata": {
    "collapsed": false
   },
   "outputs": [],
   "source": []
  },
  {
   "cell_type": "code",
   "execution_count": null,
   "metadata": {
    "collapsed": true
   },
   "outputs": [],
   "source": []
  }
 ],
 "metadata": {
  "kernelspec": {
   "display_name": "Python 2",
   "language": "python",
   "name": "python2"
  },
  "language_info": {
   "codemirror_mode": {
    "name": "ipython",
    "version": 2
   },
   "file_extension": ".py",
   "mimetype": "text/x-python",
   "name": "python",
   "nbconvert_exporter": "python",
   "pygments_lexer": "ipython2",
   "version": "2.7.13"
  }
 },
 "nbformat": 4,
 "nbformat_minor": 1
}
