{
 "cells": [
  {
   "cell_type": "markdown",
   "metadata": {},
   "source": [
    "# Tracing Task Analysis"
   ]
  },
  {
   "cell_type": "code",
   "execution_count": 1,
   "metadata": {},
   "outputs": [],
   "source": [
    "import cv2\n",
    "import numpy as np\n",
    "import scipy.stats as stats\n",
    "import os\n",
    "import pandas as pd\n",
    "import matplotlib\n",
    "from matplotlib import pylab, mlab, pyplot\n",
    "import svgpathtools"
   ]
  },
  {
   "cell_type": "code",
   "execution_count": 2,
   "metadata": {},
   "outputs": [],
   "source": [
    "# file path\n",
    "analysis_dir = os.getcwd()\n",
    "tracing_dir = os.path.join(analysis_dir, 'tracing')\n",
    "sketch_dir = os.path.join(analysis_dir, 'sketches')\n",
    "data_dir = os.path.join(analysis_dir, 'usage_data')"
   ]
  },
  {
   "cell_type": "markdown",
   "metadata": {},
   "source": [
    "### Compute F1 Scores"
   ]
  },
  {
   "cell_type": "code",
   "execution_count": 23,
   "metadata": {},
   "outputs": [
    {
     "name": "stdout",
     "output_type": "stream",
     "text": [
      "(1200, 1200)\n",
      "(949, 700)\n",
      "(500, 500)\n"
     ]
    }
   ],
   "source": [
    "tracing = ['square', 'shape', 'this circle']\n",
    "f1_scores = []\n",
    "\n",
    "for t in tracing:\n",
    "    # find the tracing image and corresponding sketch folder\n",
    "    fname = t + '.png'\n",
    "    fpath = os.path.join(tracing_dir,fname)\n",
    "    img_trace = cv2.imread(fpath)\n",
    "    \n",
    "    # turn white pixels into black. Keep all pixels not on the shape black\n",
    "    pixels_trace = np.argwhere(img_trace.sum(axis=2) == 255*3)\n",
    "    for p in pixels_trace:\n",
    "        img_trace[p[0]][p[1]] = [0,0,0]\n",
    "    \n",
    "    \n",
    "    # add padding to the tracing image. In the experiment, the tracing image only occupied 70% of the canvas\n",
    "    old_size = img_trace.shape[:2]\n",
    "    print str(old_size)\n",
    "    ratio = 0.7\n",
    "    color = [0, 0, 0]\n",
    "    new_width = old_size[1]/ratio\n",
    "    left = int((new_width - old_size[1])/2)\n",
    "    right = left\n",
    "    top = int((new_width - old_size[0])/2)\n",
    "    bottom = top\n",
    "    img_trace = cv2.copyMakeBorder(img_trace, top, bottom, left, right, cv2.BORDER_CONSTANT, value=color)\n",
    "    cv2.imwrite(os.path.join(tracing_dir, 'resize1_' + fname), img_trace)\n",
    "        \n",
    "    # resize the tracing image to the same size as the drawing image\n",
    "    rows, cols = 150, 150 # the size of any drawing image\n",
    "    img_trace = cv2.resize(img_trace, (rows, cols), interpolation = cv2.INTER_AREA)\n",
    "    cv2.imwrite(os.path.join(tracing_dir, 'resize_' + fname), img_trace)\n",
    "\n",
    "    # get drawings from the sketchs folder\n",
    "    exp_versions = ['cdm_run_v2', 'cdm_run_v3']\n",
    "    for version in exp_versions:\n",
    "        draw_img_dir = os.path.join(sketch_dir,version,t)\n",
    "    \n",
    "        # calculate F1 score for drawings \n",
    "        for index, img in enumerate(os.listdir(draw_img_dir)):\n",
    "            if not img.endswith('.png'): continue\n",
    "\n",
    "            session_id = img.split('_')[-1].replace('.png','')\n",
    "            age = img.split('_')[2].replace('age','')\n",
    "            if age == 'adult':\n",
    "                age = -1\n",
    "            else:\n",
    "                age = int(age)\n",
    "\n",
    "            # import images\n",
    "            draw_fname = os.path.join(draw_img_dir, img)\n",
    "            img_draw = cv2.imread(draw_fname, cv2.IMREAD_UNCHANGED)\n",
    "\n",
    "            # true positive: pixel was tracing shape & drawer traced there: number of pixels that overlapped (HITS)\n",
    "            # false positive: pixel was not tracing shape & drawer traced there: number of pixels that were drawn NOT on the shape (false alarms)\n",
    "            # true negative; pixel was NOT tracing shape & drawer DID not draw there (white pixels outside of tracing shape) (correct rejections)\n",
    "            # false negatives: pixel WAS the tracing shape & drawer DID NOT tracer there: number of pixels that should have been traced and were not (MISS)\n",
    "            true_positive, true_negative, false_positive, false_negative = 0, 0, 0, 0\n",
    "\n",
    "            for i in range(rows):\n",
    "                for j in range(cols):\n",
    "                    if sum(img_draw[i][j]) > 0:\n",
    "                        if sum(img_trace[i][j])>0:\n",
    "                            true_positive +=1\n",
    "                        else:\n",
    "                            false_positive += 1\n",
    "\n",
    "                    else:\n",
    "                        if 255*3 > sum(img_trace[i][j]) > 0:\n",
    "                            false_negative +=1\n",
    "                        else:\n",
    "                            true_negative += 1\n",
    "\n",
    "            # calculate precision and recall\n",
    "            precision, recall = 0, 0\n",
    "            if true_positive != 0:\n",
    "                precision = float(true_positive)/(true_positive + false_positive)\n",
    "                recall = float(true_positive)/(true_positive + false_negative)\n",
    "\n",
    "            # calculate the F1 score\n",
    "            f1 = 0\n",
    "            if precision + recall != 0:\n",
    "                f1 = 2 * (precision * recall) / (precision + recall)\n",
    "\n",
    "            f1_scores.append([session_id, age, t, f1])\n",
    "\n"
   ]
  },
  {
   "cell_type": "code",
   "execution_count": 24,
   "metadata": {},
   "outputs": [
    {
     "name": "stdout",
     "output_type": "stream",
     "text": [
      "1433\n",
      "(3, 21314, 347, 836)\n",
      "this circle_sketch_age9_cdm_run_v31526757005823.png\n",
      "0.00504625735913\n"
     ]
    }
   ],
   "source": [
    "# write data to cvs files\n",
    "print(len(f1_scores))\n",
    "print (true_positive, true_negative, false_positive, false_negative)\n",
    "print (img)\n",
    "print f1"
   ]
  },
  {
   "cell_type": "code",
   "execution_count": 25,
   "metadata": {},
   "outputs": [],
   "source": [
    "# write data to csv files\n",
    "data = pd.DataFrame(f1_scores)\n",
    "data.columns = ['sessionID', 'age', 'tracing_item', 'f1_score']\n",
    "data.to_csv(os.path.join(data_dir,'f1_scores.csv'))"
   ]
  },
  {
   "cell_type": "markdown",
   "metadata": {},
   "source": [
    "### Visualization"
   ]
  },
  {
   "cell_type": "markdown",
   "metadata": {},
   "source": [
    "#### Basic Visualization"
   ]
  },
  {
   "cell_type": "code",
   "execution_count": 26,
   "metadata": {},
   "outputs": [
    {
     "data": {
      "text/plain": [
       "Text(0.5,0,u'f1_scores')"
      ]
     },
     "execution_count": 26,
     "metadata": {},
     "output_type": "execute_result"
    },
    {
     "data": {
      "image/png": "[encoded data removed]",
      "text/plain": [
       "<matplotlib.figure.Figure at 0x11c02de10>"
      ]
     },
     "metadata": {},
     "output_type": "display_data"
    }
   ],
   "source": [
    "# show the F1 score ranges\n",
    "plt = pyplot\n",
    "fig = plt.figure(figsize=(4,4))\n",
    "h = plt.hist(data.f1_score.values,normed=True)\n",
    "plt.ylabel('proportion')\n",
    "plt.xlabel('f1_scores')"
   ]
  },
  {
   "cell_type": "code",
   "execution_count": 27,
   "metadata": {},
   "outputs": [
    {
     "data": {
      "image/png": "[encoded data removed]",
      "text/plain": [
       "<matplotlib.figure.Figure at 0x11bcd9850>"
      ]
     },
     "metadata": {},
     "output_type": "display_data"
    },
    {
     "data": {
      "image/png": "[encoded data removed]",
      "text/plain": [
       "<matplotlib.figure.Figure at 0x11bf470d0>"
      ]
     },
     "metadata": {},
     "output_type": "display_data"
    },
    {
     "data": {
      "image/png": "[encoded data removed]",
      "text/plain": [
       "<matplotlib.figure.Figure at 0x11ed3b790>"
      ]
     },
     "metadata": {},
     "output_type": "display_data"
    }
   ],
   "source": [
    "for index, t in enumerate(tracing):\n",
    "    t_data = data.loc[data['tracing_item'] == t]\n",
    "    fig = plt.figure(figsize=(4,4))\n",
    "    h = plt.hist(t_data.f1_score.values,normed=True)\n",
    "    plt.ylabel('proportion')\n",
    "    plt.xlabel(t + ' f1_scores')"
   ]
  },
  {
   "cell_type": "markdown",
   "metadata": {},
   "source": [
    "#### Age and F1 Scores (Absolute)"
   ]
  },
  {
   "cell_type": "code",
   "execution_count": 45,
   "metadata": {},
   "outputs": [
    {
     "data": {
      "text/plain": [
       "<matplotlib.legend.Legend at 0x1a20683b90>"
      ]
     },
     "execution_count": 45,
     "metadata": {},
     "output_type": "execute_result"
    },
    {
     "data": {
      "image/png": "[encoded data removed]",
      "text/plain": [
       "<matplotlib.figure.Figure at 0x1a20683bd0>"
      ]
     },
     "metadata": {},
     "output_type": "display_data"
    }
   ],
   "source": [
    "# Age and F1 score\n",
    "min_age, max_age = 2, 10\n",
    "age_range = range(min_age, max_age+1)\n",
    "\n",
    "fig = plt.figure(figsize=(6,6))\n",
    "line_list = []\n",
    "for t in tracing:\n",
    "    age_avg = []\n",
    "    for age in age_range:\n",
    "        current_age = data.loc[(data['age'] == age) & (data['tracing_item'] == t)]\n",
    "        current_f1_scores = current_age.f1_score.values\n",
    "        current_avg = np.average(current_f1_scores)\n",
    "        if len(current_f1_scores)==0:\n",
    "            age_avg.append(0)\n",
    "        else:\n",
    "            age_avg.append(current_avg)    \n",
    "\n",
    "    p, = plt.plot(age_range, age_avg)\n",
    "    line_list.append(p)\n",
    "    plt.ylabel(t +' f1_scores')\n",
    "    plt.xlabel('age')\n",
    "\n",
    "plt.legend(line_list, tracing)\n"
   ]
  },
  {
   "cell_type": "code",
   "execution_count": 46,
   "metadata": {},
   "outputs": [
    {
     "name": "stdout",
     "output_type": "stream",
     "text": [
      "('square', (0.4146606985452822, 1.3684085931921176e-25))\n",
      "('shape', (0.44218904555980304, 4.605915072924256e-24))\n",
      "('this circle', (0.29289594207151975, 6.496452786520216e-09))\n"
     ]
    }
   ],
   "source": [
    "# correlations\n",
    "for t in tracing:\n",
    "    current_shape = data.loc[data['tracing_item'] == t]\n",
    "    current_f1_scores = current_shape.f1_score.values\n",
    "    current_age = current_shape.age.values\n",
    "    print (t, stats.pearsonr(current_f1_scores, current_age))\n",
    "#     corr = current_shape['age'].corr(current_shape['f1_score'])\n",
    "#     print (t, corr)"
   ]
  },
  {
   "cell_type": "markdown",
   "metadata": {},
   "source": [
    "#### Shape and F1 Scores"
   ]
  },
  {
   "cell_type": "code",
   "execution_count": 29,
   "metadata": {},
   "outputs": [
    {
     "data": {
      "text/plain": [
       "Text(0,0.5,u'average f1_scores')"
      ]
     },
     "execution_count": 29,
     "metadata": {},
     "output_type": "execute_result"
    },
    {
     "data": {
      "image/png": "[encoded data removed]",
      "text/plain": [
       "<matplotlib.figure.Figure at 0x11bea6050>"
      ]
     },
     "metadata": {},
     "output_type": "display_data"
    }
   ],
   "source": [
    "# Age and F1 score\n",
    "tracing_avg = []\n",
    "for t in tracing:\n",
    "    current_shape = data.loc[(data['tracing_item'] == t)]\n",
    "    current_f1_scores = current_shape.f1_score.values\n",
    "    current_avg = np.average(current_f1_scores)\n",
    "    if len(current_f1_scores)==0:\n",
    "        tracing_avg.append(0)\n",
    "    else:\n",
    "        tracing_avg.append(current_avg)    \n",
    "\n",
    "fig = plt.figure(figsize=(4,4))\n",
    "p = plt.bar(tracing, tracing_avg)\n",
    "plt.ylabel('average f1_scores')\n",
    "\n"
   ]
  },
  {
   "cell_type": "code",
   "execution_count": null,
   "metadata": {},
   "outputs": [],
   "source": []
  }
 ],
 "metadata": {
  "kernelspec": {
   "display_name": "Python 2",
   "language": "python",
   "name": "python2"
  },
  "language_info": {
   "codemirror_mode": {
    "name": "ipython",
    "version": 2
   },
   "file_extension": ".py",
   "mimetype": "text/x-python",
   "name": "python",
   "nbconvert_exporter": "python",
   "pygments_lexer": "ipython2",
   "version": "2.7.14"
  }
 },
 "nbformat": 4,
 "nbformat_minor": 2
}
