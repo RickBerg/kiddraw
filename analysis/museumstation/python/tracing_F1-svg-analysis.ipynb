{
 "cells": [
  {
   "cell_type": "markdown",
   "metadata": {},
   "source": [
    "# Tracing Task Analysis"
   ]
  },
  {
   "cell_type": "code",
   "execution_count": 6,
   "metadata": {},
   "outputs": [],
   "source": [
    "import cv2\n",
    "import numpy as np\n",
    "import scipy.stats as stats\n",
    "import os\n",
    "import pandas as pd\n",
    "import matplotlib\n",
    "from matplotlib import pylab, mlab, pyplot\n",
    "import svgpathtools"
   ]
  },
  {
   "cell_type": "code",
   "execution_count": 7,
   "metadata": {},
   "outputs": [],
   "source": [
    "# file path\n",
    "analysis_dir = os.getcwd()\n",
    "sketch_dir = os.path.join(analysis_dir, 'cumulative_drawings')\n",
    "#sketch_dir = os.path.join(analysis_dir, 'test')\n",
    "data_dir = os.path.join(analysis_dir, 'usage_data')\n",
    "\n",
    "tracing_dir = os.path.join(analysis_dir, 'tracing')\n",
    "t_analysis_dir = os.path.join(analysis_dir,'tracing_analysis')\n",
    "tracing = ['square','shape', 'this circle']\n",
    "f1_folders = ['0-0', '0-0.25', '0.25-0.5', '0.5-0.75', '0.75-1']\n",
    "for t in tracing:\n",
    "    t_folder = os.path.join(t_analysis_dir, t)\n",
    "    if not os.path.exists(t_folder):\n",
    "        os.makedirs(t_folder)\n",
    "    \n",
    "    for f in f1_folders:\n",
    "        f_folder = os.path.join(t_folder,f)\n",
    "        if not os.path.exists(f_folder):\n",
    "            os.makedirs(f_folder)\n",
    "        "
   ]
  },
  {
   "cell_type": "markdown",
   "metadata": {},
   "source": [
    "### Compute F1 Scores"
   ]
  },
  {
   "cell_type": "code",
   "execution_count": 8,
   "metadata": {},
   "outputs": [],
   "source": [
    "\n",
    "f1_scores = []\n",
    "trace_img_list = []\n",
    "\n",
    "for t in tracing:\n",
    "        \n",
    "    # find the tracing image and corresponding sketch folder\n",
    "    fname = t + '.png'\n",
    "    fpath = os.path.join(tracing_dir,fname)\n",
    "    img_trace = cv2.imread(fpath)\n",
    "    \n",
    "    # turn white pixels into black. Keep all pixels not on the shape black\n",
    "    pixels_trace = np.argwhere(img_trace.sum(axis=2) == 255*3)\n",
    "    for p in pixels_trace:\n",
    "        img_trace[p[0]][p[1]] = [0,0,0]\n",
    "    \n",
    "    \n",
    "    # add padding to the tracing image. In the experiment, the tracing image only occupied 70% of the canvas\n",
    "    old_size = img_trace.shape[:2]\n",
    "    ratio = 0.7\n",
    "    color = [0, 0, 0]\n",
    "    new_width = old_size[1]/ratio\n",
    "    left = int((new_width - old_size[1])/2)\n",
    "    right = left\n",
    "    top = int((new_width - old_size[0])/2)\n",
    "    bottom = top\n",
    "    img_trace = cv2.copyMakeBorder(img_trace, top, bottom, left, right, cv2.BORDER_CONSTANT, value=color)\n",
    "    cv2.imwrite(os.path.join(tracing_dir, 'resize1_' + fname), img_trace)\n",
    "        \n",
    "    # resize the tracing image to the same size as the drawing image\n",
    "    rows, cols = 432, 432 # the size of a given drawing image\n",
    "    img_trace = cv2.resize(img_trace, (rows, cols))\n",
    "    cv2.imwrite(os.path.join(tracing_dir, 'resize_' + fname), img_trace)\n",
    "    trace_img_list.append(img_trace)"
   ]
  },
  {
   "cell_type": "code",
   "execution_count": 10,
   "metadata": {},
   "outputs": [],
   "source": [
    "# get drawings from the sketchs folder\n",
    "for kid in os.listdir(sketch_dir):\n",
    "    if not kid.startswith('cdm'): continue\n",
    "        \n",
    "    for t_index, t in enumerate(tracing):\n",
    "        # get the analysis folder and tracing image\n",
    "        t_folder = os.path.join(t_analysis_dir,t)\n",
    "        img_trace = trace_img_list[t_index]\n",
    "        session_id = kid.split('_')[2]\n",
    "        \n",
    "        age = kid.split('_')[3].replace('age','')\n",
    "        if age == 'adult':\n",
    "            age = 11\n",
    "        else:\n",
    "            age = int(age)\n",
    "\n",
    "        trace_folder = str(t_index) + '_' + t\n",
    "        draw_img_dir = os.path.join(sketch_dir,kid,trace_folder)\n",
    "\n",
    "        if not os.path.exists(draw_img_dir): continue\n",
    "\n",
    "        ## calculate F1 score for drawings \n",
    "\n",
    "        # import drawing\n",
    "        file_list = sorted(os.listdir(draw_img_dir))\n",
    "        img = file_list[-1]\n",
    "        draw_fname = os.path.join(draw_img_dir, img)\n",
    "        img_draw = cv2.imread(draw_fname)\n",
    "\n",
    "        # true positive: pixel was tracing shape & drawer traced there: number of pixels that overlapped (HITS)\n",
    "        # false positive: pixel was not tracing shape & drawer traced there: number of pixels that were drawn NOT on the shape (false alarms)\n",
    "        # true negative; pixel was NOT tracing shape & drawer DID not draw there (white pixels outside of tracing shape) (correct rejections)\n",
    "        # false negatives: pixel WAS the tracing shape & drawer DID NOT tracer there: number of pixels that should have been traced and were not (MISS)\n",
    "        true_positive, true_negative, false_positive, false_negative = 0, 0, 0, 0\n",
    "\n",
    "        for i in range(rows):\n",
    "            for j in range(cols):\n",
    "                # the background color of drawing is white and the background color of tracing is black\n",
    "\n",
    "                if 255*3 > sum(img_draw[i][j]): # non-white pixels\n",
    "                    if 255*3 > sum(img_trace[i][j])>0: # non-black pixels\n",
    "                        true_positive +=1\n",
    "                    else:\n",
    "                        false_positive += 1\n",
    "\n",
    "                else: # white background pixels on the drawing\n",
    "                    if 255*3 > sum(img_trace[i][j]) > 0:\n",
    "                        false_negative +=1\n",
    "                    else:\n",
    "                        true_negative += 1\n",
    "\n",
    "        # calculate precision and recall\n",
    "        precision, recall = 0, 0\n",
    "        if true_positive != 0:\n",
    "            precision = float(true_positive)/(true_positive + false_positive)\n",
    "            recall = float(true_positive)/(true_positive + false_negative)\n",
    "\n",
    "        # calculate the F1 score\n",
    "        f1 = 0\n",
    "        if precision + recall != 0:\n",
    "            f1 = 2 * (precision * recall) / (precision + recall)\n",
    "#         print f1\n",
    "#         print precision, recall\n",
    "#         print true_positive, false_positive, false_negative\n",
    "        f1_scores.append([session_id, age, t, f1, precision, recall, true_positive, true_negative, false_positive, false_negative])\n",
    "    \n",
    "        # put the image into the tracing analysis folder\n",
    "        if f1 == 0:\n",
    "            f_folder = f1_folders[0]\n",
    "        elif 0 < f1 <= 0.25:\n",
    "            f_folder = f1_folders[1]\n",
    "        elif 0.25 < f1 <= 0.5:\n",
    "            f_folder = f1_folders[2]\n",
    "        elif 0.5 < f1 <=0.75:\n",
    "            f_folder = f1_folders[3]\n",
    "        else:\n",
    "            f_folder = f1_folders[4]\n",
    "            \n",
    "        filename = 'age{}_f1{}_p{}_r{}.png'.format(age, f1, precision, recall) \n",
    "        cv2.imwrite(os.path.join(t_folder,f_folder,filename), img_draw)\n",
    "            "
   ]
  },
  {
   "cell_type": "code",
   "execution_count": 11,
   "metadata": {},
   "outputs": [
    {
     "name": "stdout",
     "output_type": "stream",
     "text": [
      "997\n",
      "(466, 179446, 3558, 3154)\n",
      "cdm_run_v31528325498957_0_square_9.png\n",
      "0.121925693354\n"
     ]
    }
   ],
   "source": [
    "# write data to cvs files\n",
    "print(len(f1_scores))\n",
    "print (true_positive, true_negative, false_positive, false_negative)\n",
    "print (img)\n",
    "print f1"
   ]
  },
  {
   "cell_type": "code",
   "execution_count": 12,
   "metadata": {},
   "outputs": [],
   "source": [
    "# write data to csv files\n",
    "data = pd.DataFrame(f1_scores)\n",
    "data.columns = ['sessionID', 'age', 'tracing_item', 'f1_score', 'precision', 'recall', 'tp', 'tn','fp', 'fn']\n",
    "data.to_csv(os.path.join(data_dir,'f1_scores_svg_all.csv'))"
   ]
  },
  {
   "cell_type": "markdown",
   "metadata": {},
   "source": [
    "### Visualization"
   ]
  },
  {
   "cell_type": "markdown",
   "metadata": {},
   "source": [
    "#### Basic Visualization"
   ]
  },
  {
   "cell_type": "code",
   "execution_count": 13,
   "metadata": {},
   "outputs": [
    {
     "data": {
      "text/plain": [
       "Text(0.5,0,u'f1_scores')"
      ]
     },
     "execution_count": 13,
     "metadata": {},
     "output_type": "execute_result"
    },
    {
     "data": {
      "image/png": "[encoded data removed]",
      "text/plain": [
       "<matplotlib.figure.Figure at 0x110c50b90>"
      ]
     },
     "metadata": {},
     "output_type": "display_data"
    }
   ],
   "source": [
    "# show the F1 score ranges\n",
    "plt = pyplot\n",
    "fig = plt.figure(figsize=(4,4))\n",
    "h = plt.hist(data.f1_score.values,normed=True)\n",
    "plt.ylabel('proportion')\n",
    "plt.xlabel('f1_scores')"
   ]
  },
  {
   "cell_type": "code",
   "execution_count": 14,
   "metadata": {},
   "outputs": [
    {
     "data": {
      "image/png": "[encoded data removed]",
      "text/plain": [
       "<matplotlib.figure.Figure at 0x110c0c510>"
      ]
     },
     "metadata": {},
     "output_type": "display_data"
    },
    {
     "data": {
      "image/png": "[encoded data removed]",
      "text/plain": [
       "<matplotlib.figure.Figure at 0x110c0c5d0>"
      ]
     },
     "metadata": {},
     "output_type": "display_data"
    },
    {
     "data": {
      "image/png": "[encoded data removed]",
      "text/plain": [
       "<matplotlib.figure.Figure at 0x115cc5050>"
      ]
     },
     "metadata": {},
     "output_type": "display_data"
    }
   ],
   "source": [
    "for index, t in enumerate(tracing):\n",
    "    t_data = data.loc[data['tracing_item'] == t]\n",
    "    fig = plt.figure(figsize=(4,4))\n",
    "    h = plt.hist(t_data.f1_score.values,normed=True)\n",
    "    plt.ylabel('proportion')\n",
    "    plt.xlabel(t + ' f1_scores')"
   ]
  },
  {
   "cell_type": "markdown",
   "metadata": {},
   "source": [
    "#### Age and F1 Scores (Absolute)"
   ]
  },
  {
   "cell_type": "code",
   "execution_count": 16,
   "metadata": {},
   "outputs": [
    {
     "data": {
      "text/plain": [
       "<matplotlib.legend.Legend at 0x115ec2390>"
      ]
     },
     "execution_count": 16,
     "metadata": {},
     "output_type": "execute_result"
    },
    {
     "data": {
      "image/png": "[encoded data removed]",
      "text/plain": [
       "<matplotlib.figure.Figure at 0x115ec24d0>"
      ]
     },
     "metadata": {},
     "output_type": "display_data"
    }
   ],
   "source": [
    "# Age and F1 score\n",
    "min_age, max_age = 2, 11\n",
    "age_range = range(min_age, max_age+1)\n",
    "\n",
    "fig = plt.figure(figsize=(6,6))\n",
    "line_list = []\n",
    "for t in tracing:\n",
    "    age_avg = []\n",
    "    for age in age_range:\n",
    "        current_age = data.loc[(data['age'] == age) & (data['tracing_item'] == t)]\n",
    "        current_f1_scores = current_age.f1_score.values\n",
    "        current_avg = np.average(current_f1_scores)\n",
    "        if len(current_f1_scores)==0:\n",
    "            age_avg.append(0)\n",
    "        else:\n",
    "            age_avg.append(current_avg)    \n",
    "\n",
    "    p, = plt.plot(age_range, age_avg)\n",
    "    line_list.append(p)\n",
    "    plt.ylabel(t +' f1_scores')\n",
    "    plt.xlabel('age')\n",
    "\n",
    "plt.legend(line_list, tracing)\n"
   ]
  },
  {
   "cell_type": "code",
   "execution_count": null,
   "metadata": {},
   "outputs": [],
   "source": [
    "# correlations\n",
    "for t in tracing:\n",
    "    current_shape = data.loc[data['tracing_item'] == t]\n",
    "    current_f1_scores = current_shape.f1_score.values\n",
    "    current_age = current_shape.age.values\n",
    "    print (t, stats.spearmanr(current_f1_scores, current_age))\n"
   ]
  },
  {
   "cell_type": "markdown",
   "metadata": {},
   "source": [
    "#### Shape and F1 Scores"
   ]
  },
  {
   "cell_type": "code",
   "execution_count": null,
   "metadata": {},
   "outputs": [],
   "source": [
    "# Age and F1 score\n",
    "tracing_avg = []\n",
    "for t in tracing:\n",
    "    current_shape = data.loc[(data['tracing_item'] == t)]\n",
    "    current_f1_scores = current_shape.f1_score.values\n",
    "    current_avg = np.average(current_f1_scores)\n",
    "    if len(current_f1_scores)==0:\n",
    "        tracing_avg.append(0)\n",
    "    else:\n",
    "        tracing_avg.append(current_avg)    \n",
    "\n",
    "fig = plt.figure(figsize=(4,4))\n",
    "p = plt.bar(tracing, tracing_avg)\n",
    "plt.ylabel('average f1_scores')\n",
    "\n"
   ]
  },
  {
   "cell_type": "code",
   "execution_count": null,
   "metadata": {},
   "outputs": [],
   "source": []
  },
  {
   "cell_type": "code",
   "execution_count": null,
   "metadata": {},
   "outputs": [],
   "source": []
  }
 ],
 "metadata": {
  "kernelspec": {
   "display_name": "Python 2",
   "language": "python",
   "name": "python2"
  },
  "language_info": {
   "codemirror_mode": {
    "name": "ipython",
    "version": 2
   },
   "file_extension": ".py",
   "mimetype": "text/x-python",
   "name": "python",
   "nbconvert_exporter": "python",
   "pygments_lexer": "ipython2",
   "version": "2.7.14"
  }
 },
 "nbformat": 4,
 "nbformat_minor": 2
}
