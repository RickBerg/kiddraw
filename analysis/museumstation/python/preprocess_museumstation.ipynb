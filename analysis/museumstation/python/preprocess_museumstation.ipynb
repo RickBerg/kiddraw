{
 "cells": [
  {
   "cell_type": "code",
   "execution_count": 1,
   "metadata": {
    "collapsed": true
   },
   "outputs": [],
   "source": [
    "## remember to run conn_cocolab from the terminal before running cells in this notebook!\n",
    "\n",
    "import os\n",
    "import urllib, cStringIO\n",
    "\n",
    "import pymongo as pm\n",
    "\n",
    "import matplotlib\n",
    "from matplotlib import pylab, mlab, pyplot\n",
    "%matplotlib inline\n",
    "from IPython.core.pylabtools import figsize, getfigs\n",
    "plt = pyplot\n",
    "import seaborn as sns\n",
    "sns.set_context('poster')\n",
    "sns.set_style('white')\n",
    "\n",
    "import numpy as np\n",
    "from __future__ import division\n",
    "import scipy.stats as stats\n",
    "import pandas as pd\n",
    "import json\n",
    "import re\n",
    "\n",
    "from PIL import Image\n",
    "import base64\n",
    "import datetime"
   ]
  },
  {
   "cell_type": "markdown",
   "metadata": {},
   "source": [
    "### file hierarchy and database connection vars"
   ]
  },
  {
   "cell_type": "code",
   "execution_count": 2,
   "metadata": {
    "collapsed": true
   },
   "outputs": [],
   "source": [
    "# directory & file hierarchy\n",
    "iterationName = 'cdm_run_v3'\n",
    "exp_path = 'museumstation'\n",
    "analysis_dir = os.getcwd()\n",
    "exp_dir = os.path.abspath(os.path.join(os.getcwd(),'../..','experiments'))\n",
    "##\n",
    "sketch_dir = os.path.join(analysis_dir,'sketches')\n",
    "if not os.path.exists(sketch_dir):\n",
    "    os.makedirs(sketch_dir)\n",
    "## dir where we can keep all sketches not binned by category    \n"
   ]
  },
  {
   "cell_type": "code",
   "execution_count": 3,
   "metadata": {
    "collapsed": true
   },
   "outputs": [],
   "source": [
    "# set vars \n",
    "auth = pd.read_csv('auth.txt', header = None) # this auth.txt file contains the password for the sketchloop user\n",
    "pswd = auth.values[0][0]\n",
    "user = 'sketchloop'\n",
    "host = 'rxdhawkins.me' ## cocolab ip address\n",
    "\n",
    "# have to fix this to be able to analyze from local\n",
    "import pymongo as pm\n",
    "conn = pm.MongoClient('mongodb://sketchloop:' + pswd + '@127.0.0.1')\n",
    "db = conn['kiddraw']\n",
    "coll = db['cdm_run_v3']\n"
   ]
  },
  {
   "cell_type": "code",
   "execution_count": null,
   "metadata": {
    "collapsed": true
   },
   "outputs": [],
   "source": []
  },
  {
   "cell_type": "code",
   "execution_count": null,
   "metadata": {
    "collapsed": true
   },
   "outputs": [],
   "source": []
  },
  {
   "cell_type": "markdown",
   "metadata": {},
   "source": [
    "### Preprocessing data and rendering images"
   ]
  },
  {
   "cell_type": "markdown",
   "metadata": {},
   "source": [
    "Notes:\n",
    "There are two types of records in the database: 'stroke' and 'finalImage'. This is stored under the key: 'dataType'.\n",
    "The 'stroke'-type of record contains the svg string information. Every stroke event is stored as a separate record.\n",
    "The session identifier is called \"sessionId\".\n",
    "\n",
    "\n"
   ]
  },
  {
   "cell_type": "code",
   "execution_count": 4,
   "metadata": {},
   "outputs": [
    {
     "name": "stdout",
     "output_type": "stream",
     "text": [
      "We currently have 2960 valid sessions from cdm_run_v3.\n",
      "We currently have 15994 total drawings from cdm_run_v3.\n",
      "The last drawing was made at 2018-08-01T23:33:48.404Z.\n"
     ]
    }
   ],
   "source": [
    "# wave 1 of data collection (16 classes)\n",
    "experiment_name = 'cdm_run_v3'\n",
    "time_threshold = 1510252452134 ## this is the timepoint after which real data started getting collected\n",
    "all_sessions = coll.distinct('sessionId') ## this returns ALL sessions in this collection. we will then filter on time_threshold\n",
    "valid_sessions = coll.find({'time':{'$gt': time_threshold}}).distinct('sessionId')\n",
    "image_recs_all = coll.find({'$and': [{'dataType':'finalImage'}]})\n",
    "numImages = image_recs_all.count()\n",
    "lastImage = image_recs_all[numImages - 1]\n",
    "lastestDate = lastImage['date']\n",
    "\n",
    "print 'We currently have {} valid sessions from {}.'.format(len(valid_sessions), iterationName)\n",
    "print 'We currently have {} total drawings from {}.'.format(numImages, iterationName)\n",
    "print 'The last drawing was made at {}.'.format(lastestDate)"
   ]
  },
  {
   "cell_type": "code",
   "execution_count": null,
   "metadata": {
    "collapsed": true
   },
   "outputs": [],
   "source": []
  },
  {
   "cell_type": "markdown",
   "metadata": {},
   "source": [
    "### How many of these drawings are from kids and not on practice trials?"
   ]
  },
  {
   "cell_type": "code",
   "execution_count": 5,
   "metadata": {},
   "outputs": [
    {
     "name": "stdout",
     "output_type": "stream",
     "text": [
      "We currently have 14331 raw images from kids in cdm_run_v3.\n"
     ]
    }
   ],
   "source": [
    "image_recs_kids = coll.find({'$and': [{'dataType':'finalImage'},{'age':{\"$ne\": 'adult'}}]})\n",
    "print 'We currently have {} raw images from kids in {}.'.format(image_recs_kids.count(), iterationName)\n"
   ]
  },
  {
   "cell_type": "code",
   "execution_count": 6,
   "metadata": {},
   "outputs": [
    {
     "name": "stdout",
     "output_type": "stream",
     "text": [
      "We currently have 8157 non-practice trials from kids in cdm_run_v3.\n"
     ]
    }
   ],
   "source": [
    "image_recs_kids_not_practice = coll.find({'$and': [{'dataType':'finalImage'},{'age':{\"$ne\": 'adult'}},{'category':{\"$nin\": ['square','this circle','shape']}}]})\n",
    "print 'We currently have {} non-practice trials from kids in {}.'.format(image_recs_kids_not_practice.count(), iterationName)"
   ]
  },
  {
   "cell_type": "code",
   "execution_count": null,
   "metadata": {
    "collapsed": true
   },
   "outputs": [],
   "source": []
  },
  {
   "cell_type": "markdown",
   "metadata": {},
   "source": [
    "### Get out number of drawings per age and class"
   ]
  },
  {
   "cell_type": "code",
   "execution_count": 13,
   "metadata": {},
   "outputs": [],
   "source": [
    "ages = {'age2','age3','age4','age5','age6','age7','age8','age9','age10'}\n",
    "# categories_run1 = {\n",
    "# 'a boat',\n",
    "# 'a car',\n",
    "# 'a cup',\n",
    "# 'a dog',\n",
    "# 'a fish',\n",
    "# 'a house',\n",
    "# 'a person',\n",
    "# 'a tree'}\n",
    "\n",
    "# categories_run2 = {'an airplane',\n",
    "# 'a bike',\n",
    "# 'a bird',\n",
    "# 'a bowl',\n",
    "# 'a chair',\n",
    "# 'a couch',\n",
    "# 'a phone',\n",
    "# 'a rabbit'}\n",
    "\n",
    "\n",
    "categories = {\n",
    "'an airplane',\n",
    "'a bike',\n",
    "'a bird',\n",
    "'a bowl',\n",
    "'a chair',\n",
    "'a couch',\n",
    "'a phone',\n",
    "'a rabbit',\n",
    "'a boat',\n",
    "'a car',\n",
    "'a cup',\n",
    "'a dog',\n",
    "'a fish',\n",
    "'a house',\n",
    "'a person',\n",
    "'a tree'}\n"
   ]
  },
  {
   "cell_type": "code",
   "execution_count": 14,
   "metadata": {
    "collapsed": true
   },
   "outputs": [],
   "source": [
    "## Counts by age and clas\n",
    "counts=[]\n",
    "category=[]\n",
    "age=[]\n",
    "\n",
    "for thiscat in categories:\n",
    "    for thisage in ages:\n",
    "        thissubset = coll.find({'$and': [{'dataType':'finalImage'},{'age':thisage},{'category':thiscat}]})\n",
    "#         print 'We have {} drawings for {} and {} '.format(thissubset.count(),thisage, thiscat)\n",
    "        counts.append(thissubset.count())\n",
    "        category.append(thiscat)\n",
    "        age.append(thisage)"
   ]
  },
  {
   "cell_type": "code",
   "execution_count": null,
   "metadata": {},
   "outputs": [],
   "source": []
  },
  {
   "cell_type": "code",
   "execution_count": 10,
   "metadata": {
    "collapsed": true
   },
   "outputs": [],
   "source": [
    "# Counts by class only\n",
    "cat_counts=[]\n",
    "for thiscat in categories:\n",
    "    thissubset = coll.find({'$and': [{'dataType':'finalImage'},{'age':{\"$ne\": 'adult'}},{'category':thiscat}]})\n",
    "    cat_counts.append(thissubset.count())"
   ]
  },
  {
   "cell_type": "code",
   "execution_count": 15,
   "metadata": {
    "collapsed": true
   },
   "outputs": [],
   "source": [
    "C = pd.DataFrame([counts,category,age])\n",
    "C = C.transpose()\n",
    "C.columns = ['counts','category','age']"
   ]
  },
  {
   "cell_type": "code",
   "execution_count": 12,
   "metadata": {},
   "outputs": [
    {
     "data": {
      "text/plain": [
       "[313, 330, 331, 326, 324, 336, 338, 319]"
      ]
     },
     "execution_count": 12,
     "metadata": {},
     "output_type": "execute_result"
    }
   ],
   "source": [
    "cat_counts"
   ]
  },
  {
   "cell_type": "markdown",
   "metadata": {},
   "source": [
    "### Make some basic plots"
   ]
  },
  {
   "cell_type": "code",
   "execution_count": 16,
   "metadata": {},
   "outputs": [
    {
     "data": {
      "image/png": "[encoded data removed]",
      "text/plain": [
       "<matplotlib.figure.Figure at 0x1a0ece9a10>"
      ]
     },
     "metadata": {},
     "output_type": "display_data"
    },
    {
     "data": {
      "image/png": "[encoded data removed]",
      "text/plain": [
       "<matplotlib.figure.Figure at 0x1a172692d0>"
      ]
     },
     "metadata": {},
     "output_type": "display_data"
    }
   ],
   "source": [
    "# df.loc[df['column_name'] == some_value]\n",
    "bike = C.loc[C['category']==\"a bowl\"]\n",
    "plt.figure(figsize=(14,4))\n",
    "plt.subplot(1,3,1)\n",
    "g=sns.barplot(data=bike,x='age',y='counts')\n",
    "for item in g.get_xticklabels():\n",
    "    item.set_rotation(45)\n",
    "    \n",
    "    \n",
    "couch = C.loc[C['category']==\"a person\"]\n",
    "plt.figure(figsize=(14,4))\n",
    "plt.subplot(1,3,1)\n",
    "g=sns.barplot(data=couch,x='age',y='counts')\n",
    "for item in g.get_xticklabels():\n",
    "    item.set_rotation(45)"
   ]
  },
  {
   "cell_type": "code",
   "execution_count": 46,
   "metadata": {
    "collapsed": true
   },
   "outputs": [],
   "source": [
    "\n",
    "\n",
    "# plt.figure(figsize=(14,4))\n",
    "# plt.subplot(1,3,1)\n",
    "# sns.barplot(data=C,x='age',y='counts')\n",
    "# # set_xticklabels(rotation=30)\n",
    "\n",
    "# plt.figure(figsize=(14,4))\n",
    "# plt.subplot(1,3,1)\n",
    "# sns.barplot(data=C,x='category',y='counts')\n"
   ]
  },
  {
   "cell_type": "code",
   "execution_count": 47,
   "metadata": {},
   "outputs": [
    {
     "data": {
      "text/plain": [
       "<matplotlib.axes._subplots.AxesSubplot at 0x1a1f465250>"
      ]
     },
     "execution_count": 47,
     "metadata": {},
     "output_type": "execute_result"
    },
    {
     "data": {
      "image/png": "[encoded data removed]",
      "text/plain": [
       "<Figure size 1008x288 with 1 Axes>"
      ]
     },
     "metadata": {},
     "output_type": "display_data"
    }
   ],
   "source": [
    "plt.figure(figsize=(14,4))\n",
    "plt.subplot(1,3,1)\n",
    "sns.barplot(data=C,x='category',y='counts')\n"
   ]
  },
  {
   "cell_type": "code",
   "execution_count": 19,
   "metadata": {},
   "outputs": [
    {
     "name": "stdout",
     "output_type": "stream",
     "text": [
      "skipping image\n",
      "skipping image\n",
      "skipping image\n",
      "skipping image\n",
      "skipping image\n",
      "skipping image\n",
      "skipping image\n",
      "skipping image\n",
      "skipping image\n",
      "skipping image\n",
      "skipping image\n",
      "skipping image\n",
      "skipping image\n",
      "skipping image\n",
      "skipping image\n",
      "skipping image\n",
      "skipping image\n",
      "skipping image\n",
      "skipping image\n",
      "skipping image\n",
      "skipping image\n",
      "skipping image\n",
      "skipping image\n",
      "skipping image\n",
      "skipping image\n",
      "skipping image\n",
      "skipping image\n",
      "skipping image\n",
      "skipping image\n",
      "skipping image\n",
      "skipping image\n",
      "skipping image\n",
      "skipping image\n",
      "skipping image\n",
      "skipping image\n",
      "skipping image\n",
      "skipping image\n",
      "skipping image\n",
      "skipping image\n",
      "skipping image\n",
      "skipping image\n",
      "skipping image\n",
      "skipping image\n",
      "skipping image\n",
      "skipping image\n",
      "skipping image\n",
      "skipping image\n",
      "skipping image\n",
      "skipping image\n",
      "skipping image\n",
      "skipping image\n",
      "skipping image\n",
      "skipping image\n",
      "skipping image\n",
      "skipping image\n",
      "skipping image\n",
      "skipping image\n",
      "skipping image\n",
      "skipping image\n",
      "skipping image\n",
      "skipping image\n",
      "skipping image\n",
      "skipping image\n",
      "skipping image\n",
      "skipping image\n",
      "skipping image\n",
      "skipping image\n",
      "skipping image\n",
      "skipping image\n",
      "skipping image\n",
      "skipping image\n",
      "skipping image\n",
      "skipping image\n",
      "skipping image\n",
      "skipping image\n",
      "skipping image\n",
      "skipping image\n",
      "skipping image\n",
      "skipping image\n",
      "skipping image\n",
      "skipping image\n",
      "skipping image\n",
      "skipping image\n",
      "skipping image\n",
      "skipping image\n",
      "skipping image\n",
      "skipping image\n",
      "skipping image\n",
      "skipping image\n",
      "skipping image\n",
      "skipping image\n",
      "skipping image\n",
      "skipping image\n",
      "skipping image\n",
      "skipping image\n",
      "skipping image\n",
      "skipping image\n",
      "skipping image\n",
      "skipping image\n",
      "skipping image\n",
      "skipping image\n",
      "skipping image\n",
      "skipping image\n",
      "skipping image\n",
      "skipping image\n",
      "skipping image\n",
      "skipping image\n",
      "skipping image\n",
      "skipping image\n",
      "skipping image\n",
      "skipping image\n",
      "skipping image\n",
      "skipping image\n",
      "skipping image\n",
      "skipping image\n",
      "skipping image\n",
      "skipping image\n",
      "skipping image\n",
      "skipping image\n",
      "skipping image\n",
      "skipping image\n",
      "skipping image\n",
      "skipping image\n",
      "skipping image\n",
      "skipping image\n",
      "skipping image\n",
      "skipping image\n",
      "skipping image\n",
      "skipping image\n",
      "skipping image\n",
      "skipping image\n",
      "skipping image\n",
      "skipping image\n",
      "skipping image\n",
      "skipping image\n",
      "skipping image\n",
      "skipping image\n",
      "skipping image\n",
      "skipping image\n",
      "skipping image\n",
      "skipping image\n",
      "skipping image\n",
      "skipping image\n",
      "skipping image\n",
      "skipping image\n",
      "skipping image\n",
      "skipping image\n",
      "skipping image\n"
     ]
    },
    {
     "ename": "KeyboardInterrupt",
     "evalue": "",
     "output_type": "error",
     "traceback": [
      "\u001b[0;31m---------------------------------------------------------------------------\u001b[0m",
      "\u001b[0;31mKeyboardInterrupt\u001b[0m                         Traceback (most recent call last)",
      "\u001b[0;32m<ipython-input-19-0eeba39d23e6>\u001b[0m in \u001b[0;36m<module>\u001b[0;34m()\u001b[0m\n\u001b[1;32m     17\u001b[0m                                   \u001b[0;34m{\u001b[0m\u001b[0;34m'dataType'\u001b[0m\u001b[0;34m:\u001b[0m\u001b[0;34m'stroke'\u001b[0m\u001b[0;34m}\u001b[0m\u001b[0;34m,\u001b[0m\u001b[0;34m\u001b[0m\u001b[0m\n\u001b[1;32m     18\u001b[0m                                   {'trialNum': imrec['trialNum']}]}).sort('time')   \n\u001b[0;32m---> 19\u001b[0;31m                 \u001b[0;32mif\u001b[0m \u001b[0mstroke_recs\u001b[0m\u001b[0;34m.\u001b[0m\u001b[0mcount\u001b[0m\u001b[0;34m(\u001b[0m\u001b[0;34m)\u001b[0m \u001b[0;34m>\u001b[0m \u001b[0;36m0\u001b[0m \u001b[0;32mand\u001b[0m \u001b[0mimrec\u001b[0m\u001b[0;34m[\u001b[0m\u001b[0;34m'age'\u001b[0m\u001b[0;34m]\u001b[0m\u001b[0;34m!=\u001b[0m\u001b[0;34m'adult'\u001b[0m\u001b[0;34m:\u001b[0m\u001b[0;34m\u001b[0m\u001b[0m\n\u001b[0m\u001b[1;32m     20\u001b[0m                     \u001b[0mimgData\u001b[0m \u001b[0;34m=\u001b[0m \u001b[0mimrec\u001b[0m\u001b[0;34m[\u001b[0m\u001b[0;34m'imgData'\u001b[0m\u001b[0;34m]\u001b[0m\u001b[0;34m;\u001b[0m\u001b[0;34m\u001b[0m\u001b[0m\n\u001b[1;32m     21\u001b[0m                     \u001b[0;32mwith\u001b[0m \u001b[0mopen\u001b[0m\u001b[0;34m(\u001b[0m\u001b[0mfname\u001b[0m\u001b[0;34m,\u001b[0m \u001b[0;34m\"wb\"\u001b[0m\u001b[0;34m)\u001b[0m \u001b[0;32mas\u001b[0m \u001b[0mfh\u001b[0m\u001b[0;34m:\u001b[0m\u001b[0;34m\u001b[0m\u001b[0m\n",
      "\u001b[0;32m/Users/brialong/.local/lib/python2.7/site-packages/pymongo/cursor.pyc\u001b[0m in \u001b[0;36mcount\u001b[0;34m(self, with_limit_and_skip)\u001b[0m\n\u001b[1;32m    725\u001b[0m                 \u001b[0mcmd\u001b[0m\u001b[0;34m[\u001b[0m\u001b[0;34m\"skip\"\u001b[0m\u001b[0;34m]\u001b[0m \u001b[0;34m=\u001b[0m \u001b[0mself\u001b[0m\u001b[0;34m.\u001b[0m\u001b[0m__skip\u001b[0m\u001b[0;34m\u001b[0m\u001b[0m\n\u001b[1;32m    726\u001b[0m \u001b[0;34m\u001b[0m\u001b[0m\n\u001b[0;32m--> 727\u001b[0;31m         \u001b[0;32mreturn\u001b[0m \u001b[0mself\u001b[0m\u001b[0;34m.\u001b[0m\u001b[0m__collection\u001b[0m\u001b[0;34m.\u001b[0m\u001b[0m_count\u001b[0m\u001b[0;34m(\u001b[0m\u001b[0mcmd\u001b[0m\u001b[0;34m,\u001b[0m \u001b[0mself\u001b[0m\u001b[0;34m.\u001b[0m\u001b[0m__collation\u001b[0m\u001b[0;34m)\u001b[0m\u001b[0;34m\u001b[0m\u001b[0m\n\u001b[0m\u001b[1;32m    728\u001b[0m \u001b[0;34m\u001b[0m\u001b[0m\n\u001b[1;32m    729\u001b[0m     \u001b[0;32mdef\u001b[0m \u001b[0mdistinct\u001b[0m\u001b[0;34m(\u001b[0m\u001b[0mself\u001b[0m\u001b[0;34m,\u001b[0m \u001b[0mkey\u001b[0m\u001b[0;34m)\u001b[0m\u001b[0;34m:\u001b[0m\u001b[0;34m\u001b[0m\u001b[0m\n",
      "\u001b[0;32m/Users/brialong/.local/lib/python2.7/site-packages/pymongo/collection.pyc\u001b[0m in \u001b[0;36m_count\u001b[0;34m(self, cmd, collation)\u001b[0m\n\u001b[1;32m   1348\u001b[0m                 \u001b[0mcodec_options\u001b[0m\u001b[0;34m=\u001b[0m\u001b[0mself\u001b[0m\u001b[0;34m.\u001b[0m\u001b[0m__write_response_codec_options\u001b[0m\u001b[0;34m,\u001b[0m\u001b[0;34m\u001b[0m\u001b[0m\n\u001b[1;32m   1349\u001b[0m                 \u001b[0mread_concern\u001b[0m\u001b[0;34m=\u001b[0m\u001b[0mself\u001b[0m\u001b[0;34m.\u001b[0m\u001b[0mread_concern\u001b[0m\u001b[0;34m,\u001b[0m\u001b[0;34m\u001b[0m\u001b[0m\n\u001b[0;32m-> 1350\u001b[0;31m                 collation=collation)\n\u001b[0m\u001b[1;32m   1351\u001b[0m         \u001b[0;32mif\u001b[0m \u001b[0mres\u001b[0m\u001b[0;34m.\u001b[0m\u001b[0mget\u001b[0m\u001b[0;34m(\u001b[0m\u001b[0;34m\"errmsg\"\u001b[0m\u001b[0;34m,\u001b[0m \u001b[0;34m\"\"\u001b[0m\u001b[0;34m)\u001b[0m \u001b[0;34m==\u001b[0m \u001b[0;34m\"ns missing\"\u001b[0m\u001b[0;34m:\u001b[0m\u001b[0;34m\u001b[0m\u001b[0m\n\u001b[1;32m   1352\u001b[0m             \u001b[0;32mreturn\u001b[0m \u001b[0;36m0\u001b[0m\u001b[0;34m\u001b[0m\u001b[0m\n",
      "\u001b[0;32m/Users/brialong/.local/lib/python2.7/site-packages/pymongo/collection.pyc\u001b[0m in \u001b[0;36m_command\u001b[0;34m(self, sock_info, command, slave_ok, read_preference, codec_options, check, allowable_errors, read_concern, write_concern, parse_write_concern_error, collation)\u001b[0m\n\u001b[1;32m    230\u001b[0m             \u001b[0mwrite_concern\u001b[0m\u001b[0;34m=\u001b[0m\u001b[0mwrite_concern\u001b[0m\u001b[0;34m,\u001b[0m\u001b[0;34m\u001b[0m\u001b[0m\n\u001b[1;32m    231\u001b[0m             \u001b[0mparse_write_concern_error\u001b[0m\u001b[0;34m=\u001b[0m\u001b[0mparse_write_concern_error\u001b[0m\u001b[0;34m,\u001b[0m\u001b[0;34m\u001b[0m\u001b[0m\n\u001b[0;32m--> 232\u001b[0;31m             collation=collation)\n\u001b[0m\u001b[1;32m    233\u001b[0m \u001b[0;34m\u001b[0m\u001b[0m\n\u001b[1;32m    234\u001b[0m     \u001b[0;32mdef\u001b[0m \u001b[0m__create\u001b[0m\u001b[0;34m(\u001b[0m\u001b[0mself\u001b[0m\u001b[0;34m,\u001b[0m \u001b[0moptions\u001b[0m\u001b[0;34m,\u001b[0m \u001b[0mcollation\u001b[0m\u001b[0;34m)\u001b[0m\u001b[0;34m:\u001b[0m\u001b[0;34m\u001b[0m\u001b[0m\n",
      "\u001b[0;32m/Users/brialong/.local/lib/python2.7/site-packages/pymongo/pool.pyc\u001b[0m in \u001b[0;36mcommand\u001b[0;34m(self, dbname, spec, slave_ok, read_preference, codec_options, check, allowable_errors, check_keys, read_concern, write_concern, parse_write_concern_error, collation)\u001b[0m\n\u001b[1;32m    480\u001b[0m         \u001b[0;31m# Catch socket.error, KeyboardInterrupt, etc. and close ourselves.\u001b[0m\u001b[0;34m\u001b[0m\u001b[0;34m\u001b[0m\u001b[0m\n\u001b[1;32m    481\u001b[0m         \u001b[0;32mexcept\u001b[0m \u001b[0mBaseException\u001b[0m \u001b[0;32mas\u001b[0m \u001b[0merror\u001b[0m\u001b[0;34m:\u001b[0m\u001b[0;34m\u001b[0m\u001b[0m\n\u001b[0;32m--> 482\u001b[0;31m             \u001b[0mself\u001b[0m\u001b[0;34m.\u001b[0m\u001b[0m_raise_connection_failure\u001b[0m\u001b[0;34m(\u001b[0m\u001b[0merror\u001b[0m\u001b[0;34m)\u001b[0m\u001b[0;34m\u001b[0m\u001b[0m\n\u001b[0m\u001b[1;32m    483\u001b[0m \u001b[0;34m\u001b[0m\u001b[0m\n\u001b[1;32m    484\u001b[0m     \u001b[0;32mdef\u001b[0m \u001b[0msend_message\u001b[0m\u001b[0;34m(\u001b[0m\u001b[0mself\u001b[0m\u001b[0;34m,\u001b[0m \u001b[0mmessage\u001b[0m\u001b[0;34m,\u001b[0m \u001b[0mmax_doc_size\u001b[0m\u001b[0;34m)\u001b[0m\u001b[0;34m:\u001b[0m\u001b[0;34m\u001b[0m\u001b[0m\n",
      "\u001b[0;32m/Users/brialong/.local/lib/python2.7/site-packages/pymongo/pool.pyc\u001b[0m in \u001b[0;36m_raise_connection_failure\u001b[0;34m(self, error)\u001b[0m\n\u001b[1;32m    608\u001b[0m             \u001b[0m_raise_connection_failure\u001b[0m\u001b[0;34m(\u001b[0m\u001b[0mself\u001b[0m\u001b[0;34m.\u001b[0m\u001b[0maddress\u001b[0m\u001b[0;34m,\u001b[0m \u001b[0merror\u001b[0m\u001b[0;34m)\u001b[0m\u001b[0;34m\u001b[0m\u001b[0m\n\u001b[1;32m    609\u001b[0m         \u001b[0;32melse\u001b[0m\u001b[0;34m:\u001b[0m\u001b[0;34m\u001b[0m\u001b[0m\n\u001b[0;32m--> 610\u001b[0;31m             \u001b[0;32mraise\u001b[0m \u001b[0merror\u001b[0m\u001b[0;34m\u001b[0m\u001b[0m\n\u001b[0m\u001b[1;32m    611\u001b[0m \u001b[0;34m\u001b[0m\u001b[0m\n\u001b[1;32m    612\u001b[0m     \u001b[0;32mdef\u001b[0m \u001b[0m__eq__\u001b[0m\u001b[0;34m(\u001b[0m\u001b[0mself\u001b[0m\u001b[0;34m,\u001b[0m \u001b[0mother\u001b[0m\u001b[0;34m)\u001b[0m\u001b[0;34m:\u001b[0m\u001b[0;34m\u001b[0m\u001b[0m\n",
      "\u001b[0;31mKeyboardInterrupt\u001b[0m: "
     ]
    }
   ],
   "source": [
    "if really_run_this:\n",
    "    imsize = 224 ## img writing size, optimized for CNN\n",
    "    for s in valid_sessions:\n",
    "        this_collection = coll\n",
    "        image_recs = this_collection.find({'$and': [{'time': {'$gt': time_threshold}}, {'sessionId':s}, {'dataType':'finalImage'}]}).sort('time')    \n",
    "        for imrec in image_recs:                                                            \n",
    "            category_dir = os.path.join(sketch_dir,imrec['category'])\n",
    "            if not os.path.exists(category_dir):\n",
    "                os.makedirs(category_dir)\n",
    "            fname = os.path.join(category_dir,'{}_sketch_{}_{}.png'.format(imrec['category'], imrec['age'],imrec['sessionId']))\n",
    "            if os.path.isfile(fname):\n",
    "                ## skip this image!\n",
    "                print('skipping image')\n",
    "            else:\n",
    "                stroke_recs = this_collection.find({'$and': [{'time': {'$gt': time_threshold}}, \n",
    "                                  {'sessionId':s}, \n",
    "                                  {'dataType':'stroke'},\n",
    "                                  {'trialNum': imrec['trialNum']}]}).sort('time')   \n",
    "                if stroke_recs.count() > 0 and imrec['age']!='adult':\n",
    "                    imgData = imrec['imgData'];\n",
    "                    with open(fname, \"wb\") as fh:\n",
    "                        fh.write(imgData.decode('base64'))                        "
   ]
  },
  {
   "cell_type": "code",
   "execution_count": 30,
   "metadata": {},
   "outputs": [
    {
     "data": {
      "text/plain": [
       "0"
      ]
     },
     "execution_count": 30,
     "metadata": {},
     "output_type": "execute_result"
    }
   ],
   "source": []
  },
  {
   "cell_type": "code",
   "execution_count": null,
   "metadata": {},
   "outputs": [],
   "source": []
  },
  {
   "cell_type": "code",
   "execution_count": 18,
   "metadata": {},
   "outputs": [
    {
     "ename": "AutoReconnect",
     "evalue": "connection closed",
     "output_type": "error",
     "traceback": [
      "\u001b[0;31m---------------------------------------------------------------------------\u001b[0m",
      "\u001b[0;31mAutoReconnect\u001b[0m                             Traceback (most recent call last)",
      "\u001b[0;32m<ipython-input-18-f9cd993095a7>\u001b[0m in \u001b[0;36m<module>\u001b[0;34m()\u001b[0m\n\u001b[1;32m     50\u001b[0m                             \u001b[0m_svg\u001b[0m \u001b[0;34m=\u001b[0m \u001b[0;34m[\u001b[0m\u001b[0;34m]\u001b[0m \u001b[0;31m# this keeps track of the strokes from THIS final image\u001b[0m\u001b[0;34m\u001b[0m\u001b[0m\n\u001b[1;32m     51\u001b[0m                             \u001b[0m_svg_times\u001b[0m \u001b[0;34m=\u001b[0m \u001b[0;34m[\u001b[0m\u001b[0;34m]\u001b[0m\u001b[0;34m\u001b[0m\u001b[0m\n\u001b[0;32m---> 52\u001b[0;31m                             \u001b[0;32mfor\u001b[0m \u001b[0mstrec\u001b[0m \u001b[0;32min\u001b[0m \u001b[0mstroke_recs\u001b[0m\u001b[0;34m:\u001b[0m\u001b[0;34m\u001b[0m\u001b[0m\n\u001b[0m\u001b[1;32m     53\u001b[0m                                 \u001b[0m_svg\u001b[0m\u001b[0;34m.\u001b[0m\u001b[0mappend\u001b[0m\u001b[0;34m(\u001b[0m\u001b[0mstrec\u001b[0m\u001b[0;34m[\u001b[0m\u001b[0;34m'svg'\u001b[0m\u001b[0;34m]\u001b[0m\u001b[0;34m)\u001b[0m\u001b[0;34m\u001b[0m\u001b[0m\n\u001b[1;32m     54\u001b[0m                                 \u001b[0m_svg_times\u001b[0m\u001b[0;34m.\u001b[0m\u001b[0mappend\u001b[0m\u001b[0;34m(\u001b[0m\u001b[0mstrec\u001b[0m\u001b[0;34m[\u001b[0m\u001b[0;34m'time'\u001b[0m\u001b[0;34m]\u001b[0m\u001b[0;34m)\u001b[0m\u001b[0;34m\u001b[0m\u001b[0m\n",
      "\u001b[0;32m/Users/brialong/.local/lib/python2.7/site-packages/pymongo/cursor.pyc\u001b[0m in \u001b[0;36mnext\u001b[0;34m(self)\u001b[0m\n\u001b[1;32m   1130\u001b[0m         \u001b[0;32mif\u001b[0m \u001b[0mself\u001b[0m\u001b[0;34m.\u001b[0m\u001b[0m__empty\u001b[0m\u001b[0;34m:\u001b[0m\u001b[0;34m\u001b[0m\u001b[0m\n\u001b[1;32m   1131\u001b[0m             \u001b[0;32mraise\u001b[0m \u001b[0mStopIteration\u001b[0m\u001b[0;34m\u001b[0m\u001b[0m\n\u001b[0;32m-> 1132\u001b[0;31m         \u001b[0;32mif\u001b[0m \u001b[0mlen\u001b[0m\u001b[0;34m(\u001b[0m\u001b[0mself\u001b[0m\u001b[0;34m.\u001b[0m\u001b[0m__data\u001b[0m\u001b[0;34m)\u001b[0m \u001b[0;32mor\u001b[0m \u001b[0mself\u001b[0m\u001b[0;34m.\u001b[0m\u001b[0m_refresh\u001b[0m\u001b[0;34m(\u001b[0m\u001b[0;34m)\u001b[0m\u001b[0;34m:\u001b[0m\u001b[0;34m\u001b[0m\u001b[0m\n\u001b[0m\u001b[1;32m   1133\u001b[0m             \u001b[0;32mif\u001b[0m \u001b[0mself\u001b[0m\u001b[0;34m.\u001b[0m\u001b[0m__manipulate\u001b[0m\u001b[0;34m:\u001b[0m\u001b[0;34m\u001b[0m\u001b[0m\n\u001b[1;32m   1134\u001b[0m                 \u001b[0m_db\u001b[0m \u001b[0;34m=\u001b[0m \u001b[0mself\u001b[0m\u001b[0;34m.\u001b[0m\u001b[0m__collection\u001b[0m\u001b[0;34m.\u001b[0m\u001b[0mdatabase\u001b[0m\u001b[0;34m\u001b[0m\u001b[0m\n",
      "\u001b[0;32m/Users/brialong/.local/lib/python2.7/site-packages/pymongo/cursor.pyc\u001b[0m in \u001b[0;36m_refresh\u001b[0;34m(self)\u001b[0m\n\u001b[1;32m   1053\u001b[0m                                        \u001b[0mself\u001b[0m\u001b[0;34m.\u001b[0m\u001b[0m__batch_size\u001b[0m\u001b[0;34m,\u001b[0m\u001b[0;34m\u001b[0m\u001b[0m\n\u001b[1;32m   1054\u001b[0m                                        \u001b[0mself\u001b[0m\u001b[0;34m.\u001b[0m\u001b[0m__read_concern\u001b[0m\u001b[0;34m,\u001b[0m\u001b[0;34m\u001b[0m\u001b[0m\n\u001b[0;32m-> 1055\u001b[0;31m                                        self.__collation))\n\u001b[0m\u001b[1;32m   1056\u001b[0m             \u001b[0;32mif\u001b[0m \u001b[0;32mnot\u001b[0m \u001b[0mself\u001b[0m\u001b[0;34m.\u001b[0m\u001b[0m__id\u001b[0m\u001b[0;34m:\u001b[0m\u001b[0;34m\u001b[0m\u001b[0m\n\u001b[1;32m   1057\u001b[0m                 \u001b[0mself\u001b[0m\u001b[0;34m.\u001b[0m\u001b[0m__killed\u001b[0m \u001b[0;34m=\u001b[0m \u001b[0mTrue\u001b[0m\u001b[0;34m\u001b[0m\u001b[0m\n",
      "\u001b[0;32m/Users/brialong/.local/lib/python2.7/site-packages/pymongo/cursor.pyc\u001b[0m in \u001b[0;36m__send_message\u001b[0;34m(self, operation)\u001b[0m\n\u001b[1;32m    890\u001b[0m             \u001b[0;32mtry\u001b[0m\u001b[0;34m:\u001b[0m\u001b[0;34m\u001b[0m\u001b[0m\n\u001b[1;32m    891\u001b[0m                 response = client._send_message_with_response(operation,\n\u001b[0;32m--> 892\u001b[0;31m                                                               **kwargs)\n\u001b[0m\u001b[1;32m    893\u001b[0m                 \u001b[0mself\u001b[0m\u001b[0;34m.\u001b[0m\u001b[0m__address\u001b[0m \u001b[0;34m=\u001b[0m \u001b[0mresponse\u001b[0m\u001b[0;34m.\u001b[0m\u001b[0maddress\u001b[0m\u001b[0;34m\u001b[0m\u001b[0m\n\u001b[1;32m    894\u001b[0m                 \u001b[0;32mif\u001b[0m \u001b[0mself\u001b[0m\u001b[0;34m.\u001b[0m\u001b[0m__exhaust\u001b[0m\u001b[0;34m:\u001b[0m\u001b[0;34m\u001b[0m\u001b[0m\n",
      "\u001b[0;32m/Users/brialong/.local/lib/python2.7/site-packages/pymongo/mongo_client.pyc\u001b[0m in \u001b[0;36m_send_message_with_response\u001b[0;34m(self, operation, read_preference, exhaust, address)\u001b[0m\n\u001b[1;32m    948\u001b[0m             \u001b[0mself\u001b[0m\u001b[0;34m.\u001b[0m\u001b[0m__all_credentials\u001b[0m\u001b[0;34m,\u001b[0m\u001b[0;34m\u001b[0m\u001b[0m\n\u001b[1;32m    949\u001b[0m             \u001b[0mself\u001b[0m\u001b[0;34m.\u001b[0m\u001b[0m_event_listeners\u001b[0m\u001b[0;34m,\u001b[0m\u001b[0;34m\u001b[0m\u001b[0m\n\u001b[0;32m--> 950\u001b[0;31m             exhaust)\n\u001b[0m\u001b[1;32m    951\u001b[0m \u001b[0;34m\u001b[0m\u001b[0m\n\u001b[1;32m    952\u001b[0m     \u001b[0;32mdef\u001b[0m \u001b[0m_reset_on_error\u001b[0m\u001b[0;34m(\u001b[0m\u001b[0mself\u001b[0m\u001b[0;34m,\u001b[0m \u001b[0mserver\u001b[0m\u001b[0;34m,\u001b[0m \u001b[0mfunc\u001b[0m\u001b[0;34m,\u001b[0m \u001b[0;34m*\u001b[0m\u001b[0margs\u001b[0m\u001b[0;34m,\u001b[0m \u001b[0;34m**\u001b[0m\u001b[0mkwargs\u001b[0m\u001b[0;34m)\u001b[0m\u001b[0;34m:\u001b[0m\u001b[0;34m\u001b[0m\u001b[0m\n",
      "\u001b[0;32m/Users/brialong/.local/lib/python2.7/site-packages/pymongo/mongo_client.pyc\u001b[0m in \u001b[0;36m_reset_on_error\u001b[0;34m(self, server, func, *args, **kwargs)\u001b[0m\n\u001b[1;32m    959\u001b[0m         \"\"\"\n\u001b[1;32m    960\u001b[0m         \u001b[0;32mtry\u001b[0m\u001b[0;34m:\u001b[0m\u001b[0;34m\u001b[0m\u001b[0m\n\u001b[0;32m--> 961\u001b[0;31m             \u001b[0;32mreturn\u001b[0m \u001b[0mfunc\u001b[0m\u001b[0;34m(\u001b[0m\u001b[0;34m*\u001b[0m\u001b[0margs\u001b[0m\u001b[0;34m,\u001b[0m \u001b[0;34m**\u001b[0m\u001b[0mkwargs\u001b[0m\u001b[0;34m)\u001b[0m\u001b[0;34m\u001b[0m\u001b[0m\n\u001b[0m\u001b[1;32m    962\u001b[0m         \u001b[0;32mexcept\u001b[0m \u001b[0mNetworkTimeout\u001b[0m\u001b[0;34m:\u001b[0m\u001b[0;34m\u001b[0m\u001b[0m\n\u001b[1;32m    963\u001b[0m             \u001b[0;31m# The socket has been closed. Don't reset the server.\u001b[0m\u001b[0;34m\u001b[0m\u001b[0;34m\u001b[0m\u001b[0m\n",
      "\u001b[0;32m/Users/brialong/.local/lib/python2.7/site-packages/pymongo/server.pyc\u001b[0m in \u001b[0;36msend_message_with_response\u001b[0;34m(self, operation, set_slave_okay, all_credentials, listeners, exhaust)\u001b[0m\n\u001b[1;32m    134\u001b[0m             \u001b[0;32mtry\u001b[0m\u001b[0;34m:\u001b[0m\u001b[0;34m\u001b[0m\u001b[0m\n\u001b[1;32m    135\u001b[0m                 \u001b[0msock_info\u001b[0m\u001b[0;34m.\u001b[0m\u001b[0msend_message\u001b[0m\u001b[0;34m(\u001b[0m\u001b[0mdata\u001b[0m\u001b[0;34m,\u001b[0m \u001b[0mmax_doc_size\u001b[0m\u001b[0;34m)\u001b[0m\u001b[0;34m\u001b[0m\u001b[0m\n\u001b[0;32m--> 136\u001b[0;31m                 \u001b[0mresponse_data\u001b[0m \u001b[0;34m=\u001b[0m \u001b[0msock_info\u001b[0m\u001b[0;34m.\u001b[0m\u001b[0mreceive_message\u001b[0m\u001b[0;34m(\u001b[0m\u001b[0;36m1\u001b[0m\u001b[0;34m,\u001b[0m \u001b[0mrequest_id\u001b[0m\u001b[0;34m)\u001b[0m\u001b[0;34m\u001b[0m\u001b[0m\n\u001b[0m\u001b[1;32m    137\u001b[0m             \u001b[0;32mexcept\u001b[0m \u001b[0mException\u001b[0m \u001b[0;32mas\u001b[0m \u001b[0mexc\u001b[0m\u001b[0;34m:\u001b[0m\u001b[0;34m\u001b[0m\u001b[0m\n\u001b[1;32m    138\u001b[0m                 \u001b[0;32mif\u001b[0m \u001b[0mpublish\u001b[0m\u001b[0;34m:\u001b[0m\u001b[0;34m\u001b[0m\u001b[0m\n",
      "\u001b[0;32m/Users/brialong/.local/lib/python2.7/site-packages/pymongo/pool.pyc\u001b[0m in \u001b[0;36mreceive_message\u001b[0;34m(self, operation, request_id)\u001b[0m\n\u001b[1;32m    508\u001b[0m                 self.sock, operation, request_id, self.max_message_size)\n\u001b[1;32m    509\u001b[0m         \u001b[0;32mexcept\u001b[0m \u001b[0mBaseException\u001b[0m \u001b[0;32mas\u001b[0m \u001b[0merror\u001b[0m\u001b[0;34m:\u001b[0m\u001b[0;34m\u001b[0m\u001b[0m\n\u001b[0;32m--> 510\u001b[0;31m             \u001b[0mself\u001b[0m\u001b[0;34m.\u001b[0m\u001b[0m_raise_connection_failure\u001b[0m\u001b[0;34m(\u001b[0m\u001b[0merror\u001b[0m\u001b[0;34m)\u001b[0m\u001b[0;34m\u001b[0m\u001b[0m\n\u001b[0m\u001b[1;32m    511\u001b[0m \u001b[0;34m\u001b[0m\u001b[0m\n\u001b[1;32m    512\u001b[0m     \u001b[0;32mdef\u001b[0m \u001b[0mlegacy_write\u001b[0m\u001b[0;34m(\u001b[0m\u001b[0mself\u001b[0m\u001b[0;34m,\u001b[0m \u001b[0mrequest_id\u001b[0m\u001b[0;34m,\u001b[0m \u001b[0mmsg\u001b[0m\u001b[0;34m,\u001b[0m \u001b[0mmax_doc_size\u001b[0m\u001b[0;34m,\u001b[0m \u001b[0mwith_last_error\u001b[0m\u001b[0;34m)\u001b[0m\u001b[0;34m:\u001b[0m\u001b[0;34m\u001b[0m\u001b[0m\n",
      "\u001b[0;32m/Users/brialong/.local/lib/python2.7/site-packages/pymongo/pool.pyc\u001b[0m in \u001b[0;36m_raise_connection_failure\u001b[0;34m(self, error)\u001b[0m\n\u001b[1;32m    608\u001b[0m             \u001b[0m_raise_connection_failure\u001b[0m\u001b[0;34m(\u001b[0m\u001b[0mself\u001b[0m\u001b[0;34m.\u001b[0m\u001b[0maddress\u001b[0m\u001b[0;34m,\u001b[0m \u001b[0merror\u001b[0m\u001b[0;34m)\u001b[0m\u001b[0;34m\u001b[0m\u001b[0m\n\u001b[1;32m    609\u001b[0m         \u001b[0;32melse\u001b[0m\u001b[0;34m:\u001b[0m\u001b[0;34m\u001b[0m\u001b[0m\n\u001b[0;32m--> 610\u001b[0;31m             \u001b[0;32mraise\u001b[0m \u001b[0merror\u001b[0m\u001b[0;34m\u001b[0m\u001b[0m\n\u001b[0m\u001b[1;32m    611\u001b[0m \u001b[0;34m\u001b[0m\u001b[0m\n\u001b[1;32m    612\u001b[0m     \u001b[0;32mdef\u001b[0m \u001b[0m__eq__\u001b[0m\u001b[0;34m(\u001b[0m\u001b[0mself\u001b[0m\u001b[0;34m,\u001b[0m \u001b[0mother\u001b[0m\u001b[0;34m)\u001b[0m\u001b[0;34m:\u001b[0m\u001b[0;34m\u001b[0m\u001b[0m\n",
      "\u001b[0;31mAutoReconnect\u001b[0m: connection closed"
     ]
    }
   ],
   "source": [
    "really_run_this = 1\n",
    "if really_run_this:\n",
    "    ## img writing parameters\n",
    "    imsize = 224\n",
    "    \n",
    "    ## desired output: a dataframe that has trials on the rows, and the following columns:\n",
    "    ## category, age, number of strokes, mean_pixel_intensity, bounding_box_coordinates_LTRB, list of strokes, \n",
    "    ## PNG string, submission_time, submission_date\n",
    "    ## to be saved out as a nice tidy CSV\n",
    "    session_id = []\n",
    "    trial_num = []\n",
    "    category = []\n",
    "    age = []\n",
    "    num_strokes = []\n",
    "    mean_pixel_intensity = []\n",
    "    bounding_box_coords = []\n",
    "    svg = []\n",
    "    svg_times = []\n",
    "    png = []\n",
    "    submit_time = []\n",
    "    submit_date = []\n",
    "    submit_date_readable = []\n",
    "    draw_duration = []\n",
    "    filename = []\n",
    "    for s in valid_sessions:\n",
    "        this_collection = coll\n",
    "        image_recs = this_collection.find({'$and': [{'time': {'$gt': time_threshold}}, {'sessionId':s}, {'dataType':'finalImage'}]}).sort('time')    \n",
    "        for imrec in image_recs:                                                            \n",
    "                stroke_recs = this_collection.find({'$and': [{'time': {'$gt': time_threshold}}, \n",
    "                                                  {'sessionId':s}, \n",
    "                                                  {'dataType':'stroke'},\n",
    "                                                  {'trialNum': imrec['trialNum']}]}).sort('time')   \n",
    "\n",
    "                if 'age' in imrec.keys():\n",
    "                    if imrec['age'] != 'adult':\n",
    "                        \n",
    "                        os.path.isfile(path)\n",
    "                        \n",
    "                        if stroke_recs.count() > 0: ## only include trials if the drawings are not blank   \n",
    "                            \n",
    "                           \n",
    "                            \n",
    "                            session_id.append(imrec['sessionId'])        \n",
    "                            trial_num.append(imrec['trialNum']) \n",
    "                            category.append(imrec['category'])\n",
    "                            age.append(imrec['age'])\n",
    "                            \n",
    "                            png.append(imrec['imgData'])\n",
    "                            submit_time.append(imrec['time'])\n",
    "                            readadble_date = datetime.datetime.fromtimestamp(imrec['time']/1000.0).strftime('%Y-%m-%d %H:%M:%S.%f')\n",
    "                            submit_date_readable.append(readadble_date)\n",
    "                        \n",
    "                            submit_date.append(imrec['date'])\n",
    "                            filename.append(os.path.join(sketch_dir,'{}_sketch_{}_{}.png'.format(imrec['category'], imrec['age'],imrec['sessionId'])))\n",
    "                            num_strokes.append(stroke_recs.count())\n",
    "                            _svg = [] # this keeps track of the strokes from THIS final image\n",
    "                            _svg_times = []\n",
    "                            for strec in stroke_recs:\n",
    "                                _svg.append(strec['svg'])\n",
    "                                _svg_times.append(strec['time'])\n",
    "                            draw_duration.append((_svg_times[-1] - _svg_times[0])/1000) ## in seconds\n",
    "                            svg.append(_svg)\n",
    "                            svg_times.append(_svg_times)\n",
    "\n",
    "                            ## and write out image data here too\n",
    "                            imgData = imrec['imgData'];\n",
    "                            filestr = base64.b64decode(imgData)\n",
    "                            category_dir = os.path.join(sketch_dir,imrec['category'])\n",
    "                            if not os.path.exists(category_dir):\n",
    "                                os.makedirs(category_dir)\n",
    "                            fname = os.path.join(category_dir,'{}_sketch_{}_{}.png'.format(imrec['category'], imrec['age'],imrec['sessionId']))\n",
    "                            with open(fname, \"wb\") as fh:\n",
    "                                fh.write(imgData.decode('base64'))  \n",
    "                        "
   ]
  },
  {
   "cell_type": "code",
   "execution_count": 61,
   "metadata": {
    "collapsed": true
   },
   "outputs": [],
   "source": [
    "really_run_this = 1\n",
    "if really_run_this:\n",
    "    ## img writing parameters\n",
    "    imsize = 224\n",
    "    \n",
    "    ## desired output: a dataframe that has trials on the rows, and the following columns:\n",
    "    ## category, age, number of strokes, mean_pixel_intensity, bounding_box_coordinates_LTRB, list of strokes, \n",
    "    ## PNG string, submission_time, submission_date\n",
    "    ## to be saved out as a nice tidy CSV\n",
    "    session_id = []\n",
    "    trial_num = []\n",
    "    category = []\n",
    "    age = []\n",
    "    num_strokes = []\n",
    "    mean_pixel_intensity = []\n",
    "    bounding_box_coords = []\n",
    "    svg = []\n",
    "    svg_times = []\n",
    "    png = []\n",
    "    submit_time = []\n",
    "    submit_date = []\n",
    "    submit_date_readable = []\n",
    "    draw_duration = []\n",
    "    filename = []\n",
    "    \n",
    "    for cat in ['a boat','a car','a cup','a dog','a fish','a house','a person','a tree']:\n",
    "        imgcount = 0\n",
    "        this_collection = coll\n",
    "        image_recs = this_collection.find({'$and': [{'time': {'$gt': time_threshold}}, {'category':cat},{'dataType':'finalImage'}]}).sort('time')   \n",
    "        for imrec in image_recs:  \n",
    "                if imgcount < 100:\n",
    "                    stroke_recs = this_collection.find({'$and': [{'time': {'$gt': time_threshold}}, \n",
    "                                                      {'sessionId':imrec['sessionId']}, \n",
    "                                                      {'dataType':'stroke'},\n",
    "                                                      {'trialNum': imrec['trialNum']}]}).sort('time')   \n",
    "\n",
    "                    if 'age' in imrec.keys():\n",
    "                        if imrec['age'] != 'adult':\n",
    "                            if stroke_recs.count() > 0: ## only include trials if the drawings are not blank    \n",
    "                                imgcount += 1\n",
    "                                session_id.append(imrec['sessionId'])        \n",
    "                                trial_num.append(imrec['trialNum']) \n",
    "                                category.append(imrec['category'])\n",
    "                                age.append(imrec['age'])\n",
    "\n",
    "                                png.append(imrec['imgData'])\n",
    "                                submit_time.append(imrec['time'])\n",
    "                                readadble_date = datetime.datetime.fromtimestamp(imrec['time']/1000.0).strftime('%Y-%m-%d %H:%M:%S.%f')\n",
    "                                submit_date_readable.append(readadble_date)\n",
    "\n",
    "                                submit_date.append(imrec['date'])\n",
    "                                filename.append(os.path.join(sketch_dir,'{}_{}.png'.format(imrec['category'], imgcount)))\n",
    "                                num_strokes.append(stroke_recs.count())\n",
    "                                _svg = [] # this keeps track of the strokes from THIS final image\n",
    "                                _svg_times = []\n",
    "                                for strec in stroke_recs:\n",
    "                                    _svg.append(strec['svg'])\n",
    "                                    _svg_times.append(strec['time'])\n",
    "                                draw_duration.append((_svg_times[-1] - _svg_times[0])/1000) ## in seconds\n",
    "                                svg.append(_svg)\n",
    "                                svg_times.append(_svg_times)\n",
    "\n",
    "                                ## and write out image data here too\n",
    "                                imgData = imrec['imgData'];\n",
    "                                filestr = base64.b64decode(imgData)\n",
    "                                category_dir = os.path.join(sketch_dir,imrec['category'])\n",
    "                                if not os.path.exists(category_dir):\n",
    "                                    os.makedirs(category_dir)\n",
    "                                fname = os.path.join(category_dir,'{}_{}.png'.format(imrec['category'],imgcount))\n",
    "                                with open(fname, \"wb\") as fh:\n",
    "                                    fh.write(imgData.decode('base64'))  \n"
   ]
  },
  {
   "cell_type": "code",
   "execution_count": null,
   "metadata": {
    "collapsed": true
   },
   "outputs": [],
   "source": [
    "submit_date_readable[-100]"
   ]
  },
  {
   "cell_type": "code",
   "execution_count": 62,
   "metadata": {
    "collapsed": true
   },
   "outputs": [],
   "source": [
    "if really_run_this:\n",
    "    X = pd.DataFrame([category,age,num_strokes,filename])\n",
    "    X = X.transpose()\n",
    "    X.columns = ['category','age','num_strokes', 'filename']\n",
    "    X.to_csv(\"scribble_annotate.csv\")"
   ]
  },
  {
   "cell_type": "code",
   "execution_count": null,
   "metadata": {
    "collapsed": true
   },
   "outputs": [],
   "source": [
    "if really_run_this:\n",
    "    X_out = pd.DataFrame([session_id,trial_num,category,age,submit_time,submit_date,num_strokes,draw_duration,filename])\n",
    "    X_out = X_out.transpose()\n",
    "    X_out.columns = ['session_id','trial_num','category','age','submit_time','submit_date','num_strokes','draw_duration', 'filename']\n",
    "\n",
    "    X_out.to_csv('May31th_usage.csv')"
   ]
  },
  {
   "cell_type": "code",
   "execution_count": null,
   "metadata": {
    "collapsed": true
   },
   "outputs": [],
   "source": [
    "# def get_bounding_box(img):\n",
    "#     rows = np.any(img, axis=1)\n",
    "#     cols = np.any(img, axis=0)\n",
    "#     rmin, rmax = np.where(rows)[0][[0, -1]]\n",
    "#     cmin, cmax = np.where(cols)[0][[0, -1]]\n",
    "#     return rmin, rmax, cmin, cmax\n",
    "\n",
    "# merged_experiment_name = 'E1cd'\n",
    "\n",
    "# if really_run_this:\n",
    "\n",
    "#     ## add mean pixel intensity (amount of ink spilled) & bounding box coords \n",
    "#     mean_intensity = []\n",
    "#     bounding_box = []\n",
    "#     imsize = 100\n",
    "#     numpix = imsize**2\n",
    "#     thresh = 250\n",
    "#     for i,_d in X.iterrows():\n",
    "#         imgData = _d['png']\n",
    "#         filestr = base64.b64decode(imgData)\n",
    "#         fname = os.path.join('sketch.png')\n",
    "#         with open(fname, \"wb\") as fh:\n",
    "#             fh.write(imgData.decode('base64'))\n",
    "#         im = Image.open(fname).resize((imsize,imsize))\n",
    "#         _im = np.array(im)\n",
    "#         mean_intensity.append(len(np.where(_im[:,:,3].flatten()>thresh)[0])/numpix)\n",
    "#         # bounding box part\n",
    "#         rmin, rmax, cmin, cmax = get_bounding_box(np.array(Image.open(fname)))\n",
    "#         bounding_box.append(tuple((rmin, rmax, cmin, cmax)))\n",
    "\n",
    "#     ## add to dataframe    \n",
    "#     X = X.assign(mean_intensity=pd.Series(mean_intensity).values)\n",
    "#     X = X.assign(bounding_box=pd.Series(bounding_box).values)\n",
    "    \n",
    "#     # save out csv\n",
    "#     if not os.path.exists('../preprocessed_data'):\n",
    "#         os.makedirs('../preprocessed_data')\n",
    "#     X.to_csv('../preprocessed_data/museumdraw_{}_data.csv'.format(merged_experiment_name))\n"
   ]
  },
  {
   "cell_type": "code",
   "execution_count": null,
   "metadata": {
    "collapsed": true
   },
   "outputs": [],
   "source": []
  },
  {
   "cell_type": "markdown",
   "metadata": {},
   "source": [
    "### load drawing metadata csv back in"
   ]
  },
  {
   "cell_type": "code",
   "execution_count": null,
   "metadata": {
    "collapsed": true
   },
   "outputs": [],
   "source": [
    "plt.hist(X.age,normed=False)\n",
    "plt.xticks(rotation=90)\n",
    "len(X.age)\n",
    "sum(X.age != 'adult')"
   ]
  },
  {
   "cell_type": "markdown",
   "metadata": {},
   "source": [
    "### Basic visualizations"
   ]
  },
  {
   "cell_type": "code",
   "execution_count": null,
   "metadata": {
    "collapsed": true
   },
   "outputs": [],
   "source": [
    "np.sum(X.draw_duration.values>25)"
   ]
  },
  {
   "cell_type": "code",
   "execution_count": null,
   "metadata": {
    "collapsed": true
   },
   "outputs": [],
   "source": [
    "fig = plt.figure(figsize=(4,4))\n",
    "h = plt.hist(X.num_strokes.values,normed=True)\n",
    "plt.ylabel('proportion')\n",
    "plt.xlabel('number of strokes')"
   ]
  },
  {
   "cell_type": "code",
   "execution_count": null,
   "metadata": {
    "collapsed": true
   },
   "outputs": [],
   "source": [
    "fig = plt.figure(figsize=(4,4))\n",
    "h = plt.hist(X.draw_duration.values,normed=True)\n",
    "plt.ylabel('proportion')\n",
    "plt.xlabel('draw duration')"
   ]
  },
  {
   "cell_type": "code",
   "execution_count": null,
   "metadata": {
    "collapsed": true
   },
   "outputs": [],
   "source": [
    "plt.figure(figsize=(14,4))\n",
    "\n",
    "plt.subplot(1,3,1)\n",
    "seq = np.arange(4,10)\n",
    "sns.barplot(data=X,x='age',y='num_strokes',order=seq,palette=\"Greens_d\")\n",
    "plt.ylabel('number of strokes')\n",
    "\n",
    "plt.subplot(1,3,2)\n",
    "seq = np.arange(4,10)\n",
    "\n",
    "sns.barplot(data=X,x='age',y='draw_duration',order=seq, palette=\"Greens_d\")\n",
    "plt.ylabel('draw duration (s)')\n",
    "\n",
    "# plt.subplot(1,3,3)\n",
    "# seq = np.arange(4,10)\n",
    "# sns.barplot(data=X,x='age',y='mean_intensity',order=seq,palette=\"Greens_d\")\n",
    "# plt.ylabel('mean pixel intensity')\n",
    "\n",
    "plt.tight_layout()"
   ]
  },
  {
   "cell_type": "code",
   "execution_count": null,
   "metadata": {
    "collapsed": true
   },
   "outputs": [],
   "source": [
    "X.category"
   ]
  },
  {
   "cell_type": "code",
   "execution_count": null,
   "metadata": {
    "collapsed": true
   },
   "outputs": [],
   "source": [
    "unique = X.drop_duplicates([\"session_id\"])\n",
    "unique.count()\n",
    "# sum(unique.age != 'adult')\n",
    "sum(unique.age != 'adult')"
   ]
  },
  {
   "cell_type": "code",
   "execution_count": null,
   "metadata": {
    "collapsed": true
   },
   "outputs": [],
   "source": [
    "X."
   ]
  },
  {
   "cell_type": "code",
   "execution_count": null,
   "metadata": {
    "collapsed": true
   },
   "outputs": [],
   "source": [
    "unique"
   ]
  },
  {
   "cell_type": "code",
   "execution_count": null,
   "metadata": {
    "collapsed": true
   },
   "outputs": [],
   "source": [
    "categories = [i for i in os.listdir('sketches') if i != '.DS_Store']\n",
    "num_ims = 0\n",
    "ims_per_cat = []\n",
    "for c in categories:\n",
    "    num_ims += len([i for i in os.listdir(os.path.join('sketches',c)) if i != '.DS_Store'])\n",
    "    ims_per_cat.append(len([i for i in os.listdir(os.path.join('sketches',c)) if i != '.DS_Store']))\n",
    "    \n",
    "print num_ims\n",
    "print ims_per_cat"
   ]
  },
  {
   "cell_type": "code",
   "execution_count": null,
   "metadata": {
    "collapsed": true
   },
   "outputs": [],
   "source": []
  },
  {
   "cell_type": "code",
   "execution_count": null,
   "metadata": {
    "collapsed": true
   },
   "outputs": [],
   "source": []
  },
  {
   "cell_type": "code",
   "execution_count": null,
   "metadata": {
    "collapsed": true
   },
   "outputs": [],
   "source": []
  },
  {
   "cell_type": "code",
   "execution_count": null,
   "metadata": {
    "collapsed": true
   },
   "outputs": [],
   "source": []
  },
  {
   "cell_type": "code",
   "execution_count": null,
   "metadata": {
    "collapsed": true
   },
   "outputs": [],
   "source": []
  },
  {
   "cell_type": "code",
   "execution_count": null,
   "metadata": {
    "collapsed": true
   },
   "outputs": [],
   "source": []
  }
 ],
 "metadata": {
  "kernelspec": {
   "display_name": "Python 2",
   "language": "python",
   "name": "python2"
  },
  "language_info": {
   "codemirror_mode": {
    "name": "ipython",
    "version": 2
   },
   "file_extension": ".py",
   "mimetype": "text/x-python",
   "name": "python",
   "nbconvert_exporter": "python",
   "pygments_lexer": "ipython2",
   "version": "2.7.14"
  }
 },
 "nbformat": 4,
 "nbformat_minor": 1
}
