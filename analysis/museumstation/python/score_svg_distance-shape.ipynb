{
 "cells": [
  {
   "cell_type": "code",
   "execution_count": 1,
   "metadata": {},
   "outputs": [],
   "source": [
    "from __future__ import division\n",
    "import os\n",
    "import urllib, cStringIO\n",
    "import pymongo as pm ## first establish ssh tunnel to server where database is running\n",
    "import base64\n",
    "import numpy as np\n",
    "from numpy import *\n",
    "import PIL\n",
    "from PIL import Image\n",
    "import base64\n",
    "import matplotlib\n",
    "%matplotlib inline\n",
    "from matplotlib import pylab, mlab, pyplot\n",
    "from IPython.core.pylabtools import figsize, getfigs\n",
    "plt = pyplot\n",
    "import seaborn as sns\n",
    "sns.set_context('poster')\n",
    "sns.set_style('white')\n",
    "from matplotlib.path import Path\n",
    "import matplotlib.patches as patches\n",
    "\n",
    "import pandas as pd\n",
    "from svgpathtools import parse_path"
   ]
  },
  {
   "cell_type": "markdown",
   "metadata": {},
   "source": [
    "#### directory and file hierarchy"
   ]
  },
  {
   "cell_type": "code",
   "execution_count": 2,
   "metadata": {},
   "outputs": [
    {
     "data": {
      "text/plain": [
       "<module 'svg_distance_helpers' from 'svg_distance_helpers.pyc'>"
      ]
     },
     "execution_count": 2,
     "metadata": {},
     "output_type": "execute_result"
    }
   ],
   "source": [
    "# directory & file hierarchy\n",
    "analysis_dir = os.getcwd()\n",
    "exp_dir = os.path.abspath(os.path.join(os.getcwd(),'../..','experiments'))\n",
    "tracing_dir = os.path.join(analysis_dir, 'tracing')\n",
    "sketch_dir = os.path.join(analysis_dir,'sketches')\n",
    "if not os.path.exists(sketch_dir):\n",
    "    os.makedirs(sketch_dir)\n",
    "## dir where we can keep all sketches not binned by category    \n",
    "\n",
    "import sys\n",
    "## add helpers to python path\n",
    "if os.path.abspath(os.getcwd()) not in sys.path:\n",
    "    sys.path.append(os.path.abspath(os.getcwd()))\n",
    "    \n",
    "import svg_distance_helpers as rsh\n",
    "reload(rsh)"
   ]
  },
  {
   "cell_type": "code",
   "execution_count": 3,
   "metadata": {},
   "outputs": [],
   "source": [
    "# set vars \n",
    "auth = pd.read_csv('auth.txt', header = None) # this auth.txt file contains the password for the sketchloop user\n",
    "pswd = auth.values[0][0]\n",
    "user = 'sketchloop'\n",
    "host = 'rxdhawkins.me' ## cocolab ip address\n",
    "\n",
    "# have to fix this to be able to analyze from local\n",
    "import pymongo as pm\n",
    "conn = pm.MongoClient('mongodb://sketchloop:' + pswd + '@127.0.0.1')\n",
    "db = conn['kiddraw']\n",
    "coll = db['cdm_run_v3']"
   ]
  },
  {
   "cell_type": "markdown",
   "metadata": {},
   "source": [
    "#### fetch an example tracing"
   ]
  },
  {
   "cell_type": "code",
   "execution_count": 4,
   "metadata": {},
   "outputs": [
    {
     "name": "stdout",
     "output_type": "stream",
     "text": [
      "1\n"
     ]
    }
   ],
   "source": [
    "imrecs = coll.find({'$and':[{'category':'shape'},{'dataType':'finalImage'}, {'sessionId':'cdm_run_v31525893174061'}]}).sort('time')\n",
    "print imrecs.count()\n",
    "\n",
    "## retrieve example square tracing from db\n",
    "imrec = imrecs[0] "
   ]
  },
  {
   "cell_type": "code",
   "execution_count": 5,
   "metadata": {},
   "outputs": [
    {
     "name": "stdout",
     "output_type": "stream",
     "text": [
      "Number of strokes in this tracing: 1\n"
     ]
    }
   ],
   "source": [
    "## get list of vertices and codes for tracing \n",
    "try:\n",
    "    ## get the corresponding stroke records for this tracing\n",
    "    stroke_recs = coll.find({'$and': [{'sessionId':imrec['sessionId']}, \n",
    "                                      {'dataType':'stroke'},\n",
    "                                      {'trialNum': imrec['trialNum']}]}).sort('time')\n",
    "\n",
    "    print 'Number of strokes in this tracing: {}'.format(stroke_recs.count())    \n",
    "    \n",
    "    ## check to make sure that there is at least one stroke! \n",
    "    if stroke_recs.count()>0:\n",
    "\n",
    "        ## now make an svg list!\n",
    "        svg_list = rsh.make_svg_list(stroke_recs)\n",
    "\n",
    "        ## now get me some verts and codes!\n",
    "        __Verts, __Codes = rsh.get_verts_and_codes(svg_list)\n",
    "        \n",
    "except Exception as e:\n",
    "    print 'Oops, something went wrong! Here is the error:'  \n",
    "    print e\n",
    "    pass        "
   ]
  },
  {
   "cell_type": "markdown",
   "metadata": {},
   "source": [
    "#### preprocessing of tracing and visualization (if desired)"
   ]
  },
  {
   "cell_type": "code",
   "execution_count": 21,
   "metadata": {},
   "outputs": [],
   "source": [
    "## simplify tracing if it is a jungle of verts/horiz commands\n",
    "reallySimplify = 1\n",
    "if reallySimplify:\n",
    "    _Verts,_Codes = rsh.simplify_verts_and_codes(__Verts,__Codes)\n",
    "else:\n",
    "    if len(__Verts) == 1:\n",
    "        _Verts = np.array(__Verts[0])\n",
    "        _Codes = __Codes[0]\n",
    "        \n",
    "    else:\n",
    "        _Verts, _Codes = rsh.multistroke_to_one(__Verts, __Codes)"
   ]
  },
  {
   "cell_type": "code",
   "execution_count": 22,
   "metadata": {},
   "outputs": [],
   "source": [
    "## make sure the last vertex of the tracing \n",
    "## is equal to the first vertex so the\n",
    "## polygon centroid formula works\n",
    "if np.sum(_Verts[0][-1] - _Verts[0][0]) != 0:\n",
    "    _Verts = np.vstack((_Verts,_Verts[0]))\n",
    "    _Codes.append(2)\n",
    "assert len(_Verts)==len(_Codes)"
   ]
  },
  {
   "cell_type": "code",
   "execution_count": 23,
   "metadata": {},
   "outputs": [
    {
     "data": {
      "image/png": "[encoded data removed]",
      "text/plain": [
       "<matplotlib.figure.Figure at 0x108dd9890>"
      ]
     },
     "metadata": {},
     "output_type": "display_data"
    }
   ],
   "source": [
    "## examine tracing\n",
    "reload(rsh)\n",
    "reallyRun = 1\n",
    "if reallyRun:\n",
    "    rsh.plot_shape(_Verts,_Codes)"
   ]
  },
  {
   "cell_type": "code",
   "execution_count": 50,
   "metadata": {},
   "outputs": [],
   "source": [
    "shape_fname = os.path.join(tracing_dir, \"shape.svg\")\n",
    "shape_svg = open(shape_fname, 'r').read()\n",
    "Verts, Codes = rsh.get_verts_and_codes([shape_svg])"
   ]
  },
  {
   "cell_type": "code",
   "execution_count": 51,
   "metadata": {},
   "outputs": [
    {
     "data": {
      "image/png": "[encoded data removed]",
      "text/plain": [
       "<matplotlib.figure.Figure at 0x110dce490>"
      ]
     },
     "metadata": {},
     "output_type": "display_data"
    }
   ],
   "source": [
    "## examine reference shape (in this example, a square)\n",
    "reload(rsh)\n",
    "Verts = Verts[0]\n",
    "Codes = Codes[0]\n",
    "reallyRun = 1\n",
    "if reallyRun:\n",
    "    rsh.plot_shape(Verts,Codes)"
   ]
  },
  {
   "cell_type": "code",
   "execution_count": 26,
   "metadata": {},
   "outputs": [],
   "source": [
    "## make sure the last vertex of the ref shape \n",
    "## is equal to the first vertex so the\n",
    "## polygon centroid formula works\n",
    "if np.sum(Verts[0][-1] - Verts[0][0]) != 0:\n",
    "    Verts = np.vstack((Verts,Verts[0]))\n",
    "    Codes.append(2)\n",
    "assert len(Verts)==len(Codes)"
   ]
  },
  {
   "cell_type": "code",
   "execution_count": 27,
   "metadata": {},
   "outputs": [
    {
     "name": "stdout",
     "output_type": "stream",
     "text": [
      "step -0.01\n",
      "err 420.45576887221205\n",
      "delta_err 3.730146883497639\n",
      "scale_factor 0.9999\n",
      "step -0.01\n",
      "err 416.85871918790536\n",
      "delta_err -3.5970496843066826\n",
      "scale_factor 0.989901\n",
      "step -0.01\n",
      "err 413.8595465620847\n",
      "delta_err -2.999172625820677\n",
      "scale_factor 0.98000199\n",
      "step -0.01\n",
      "err 410.8921816239965\n",
      "delta_err -2.967364938088167\n",
      "scale_factor 0.9702019701\n",
      "step -0.01\n",
      "err 408.88507590848104\n",
      "delta_err -2.007105715515479\n",
      "scale_factor 0.960499950399\n",
      "step -0.01\n",
      "err 408.6868325735181\n",
      "delta_err -0.1982433349629673\n",
      "scale_factor 0.950894950895\n"
     ]
    }
   ],
   "source": [
    "reload(rsh)\n",
    "tra_verts, tra_codes, ref_verts, ref_codes, cor_verts = rsh.minimize_scaling_err(_Verts, _Codes, Verts, Codes)"
   ]
  },
  {
   "cell_type": "code",
   "execution_count": 28,
   "metadata": {},
   "outputs": [
    {
     "name": "stdout",
     "output_type": "stream",
     "text": [
      "408.6868325735181\n"
     ]
    }
   ],
   "source": [
    "# align tracing and reference shape\n",
    "tra_verts, tra_codes, ref_verts, ref_codes = rsh.align_tracing_and_ref(tra_verts, tra_codes, ref_verts, ref_codes)\n",
    "# find corresponding shape\n",
    "cor_verts = rsh.get_corresponding_verts(tra_verts, ref_verts)\n",
    "\n",
    "# error = tracing_ref error + cor_ref error\n",
    "error = rsh.get_distance_error(tra_verts, cor_verts, ref_verts)\n",
    "print error\n"
   ]
  },
  {
   "cell_type": "code",
   "execution_count": 29,
   "metadata": {},
   "outputs": [
    {
     "data": {
      "image/png": "[encoded data removed]",
      "text/plain": [
       "<matplotlib.figure.Figure at 0x109f2d590>"
      ]
     },
     "metadata": {},
     "output_type": "display_data"
    }
   ],
   "source": [
    "reallyRun = 1\n",
    "if reallyRun:\n",
    "    rsh.plot_coregistered_shapes(ref_verts,ref_codes,tra_verts,tra_codes)"
   ]
  },
  {
   "cell_type": "markdown",
   "metadata": {},
   "source": [
    "##### test case for particular line segment AB on reference shape and point P on tracing (optional, sanity checks)"
   ]
  },
  {
   "cell_type": "code",
   "execution_count": 30,
   "metadata": {},
   "outputs": [],
   "source": [
    "run_tests = 0\n",
    "if run_tests:\n",
    "    ## toy case\n",
    "    A = np.array((0,0))\n",
    "    B = np.array((10,10))\n",
    "    P = np.array((20,5)) ## first point\n",
    "\n",
    "    ## get point C on A,B that minimizes distance from particular point on tracing to the line segment AB\n",
    "    C = rsh.get_closest_point_from_P_to_AB(A,B,P,verbose=False) \n",
    "    \n",
    "    ## example real case\n",
    "    a = ref_verts[0]\n",
    "    b = ref_verts[1]\n",
    "    p = tra_verts[1]\n",
    "    c,d = rsh.get_closest_point_from_P_to_AB(a,b,p,verbose=False) \n",
    "    print c,d    "
   ]
  },
  {
   "cell_type": "markdown",
   "metadata": {},
   "source": [
    "#### get \"corresponding points\" on the reference shape for each vertex in the tracing"
   ]
  },
  {
   "cell_type": "code",
   "execution_count": 31,
   "metadata": {},
   "outputs": [],
   "source": [
    "## cor_verts will be the same shape as the tra_verts, and lie on the reference shape\n",
    "## error will be computed as area between these two shapes\n",
    "cor_verts = np.zeros((np.shape(tra_verts)[0],2))\n",
    "for i,t in enumerate(tra_verts): ## loop through segments of the tracing\n",
    "    p = t ## endpoint of the current tracing segment\n",
    "    ## for a given point on the tracing, find the corresponding closest point on the reference shape\n",
    "    ref_gen = rsh.pairs(ref_verts)\n",
    "    D = 1e6 ## initialize at some crazy large value\n",
    "    for r in ref_gen:\n",
    "        a = r[0]\n",
    "        b = r[1]\n",
    "        if a[0] == b[0] and a[1] == b[1]: continue\n",
    "        c,d = rsh.get_closest_point_from_P_to_AB(a,b,p,verbose=False) \n",
    "        if d<D: ## if the shortest distance so far, then swap in for the value of D\n",
    "            D = d\n",
    "            C = c\n",
    "        else:\n",
    "            pass \n",
    "    cor_verts[i,:] = C ## assign the closest corresponding point to the \"corresponding vertices\" array"
   ]
  },
  {
   "cell_type": "code",
   "execution_count": 32,
   "metadata": {},
   "outputs": [
    {
     "data": {
      "image/png": "[encoded data removed]",
      "text/plain": [
       "<matplotlib.figure.Figure at 0x110758fd0>"
      ]
     },
     "metadata": {},
     "output_type": "display_data"
    }
   ],
   "source": [
    "## test to make sure the corresponding points really lie on the reference shape\n",
    "reload(rsh)\n",
    "reallyRun = 1\n",
    "if reallyRun:\n",
    "    rsh.plot_corresponding_points_on_reference(tra_verts,tra_codes,ref_verts,ref_codes,cor_verts)"
   ]
  },
  {
   "cell_type": "markdown",
   "metadata": {},
   "source": [
    "#### actually get svg distance error now"
   ]
  },
  {
   "cell_type": "code",
   "execution_count": 33,
   "metadata": {
    "scrolled": false
   },
   "outputs": [],
   "source": [
    "reload(rsh)\n",
    "## iterate through each pair of line segments comprising the tracing verts\n",
    "## and corresponding verts, and increment error as area between the line\n",
    "## segments. \n",
    "## When line segments are non-intersecting and non-collinear, safe to use\n",
    "## general polygon area formula (add the trapezoid)\n",
    "## If line segments are parallel but not collinear, safe to use\n",
    "## general polygon area formula (add the trapezoid)\n",
    "## If line segments intersect, then add the resulting triangles\n",
    "## formed by the intersecting segments\n",
    "## If line segments are collinear, do not increment error, b/c perfectly on the line\n",
    "tracing_to_corresponding_error = rsh.get_area_between_tracing_and_corresponding_verts(tra_verts,cor_verts)\n",
    "\n",
    "## add to the above the deviation between the area of the reference\n",
    "## shape and the corresponding shape\n",
    "cor_area = rsh.get_area_polygon(cor_verts)\n",
    "ref_area = rsh.get_area_polygon(ref_verts)\n",
    "corresponding_to_reference_error = abs(abs(ref_area)-abs(cor_area))"
   ]
  },
  {
   "cell_type": "code",
   "execution_count": 34,
   "metadata": {},
   "outputs": [
    {
     "name": "stdout",
     "output_type": "stream",
     "text": [
      "SVG distance score = 408.686832574\n"
     ]
    }
   ],
   "source": [
    "## total error is sum of tracing_to_corresponding_error and corresponding_to_reference_error\n",
    "total_error = tracing_to_corresponding_error + tracing_to_corresponding_error\n",
    "\n",
    "svg_distance_score = np.sqrt(total_error)\n",
    "print 'SVG distance score = {}'.format(svg_distance_score)"
   ]
  },
  {
   "cell_type": "code",
   "execution_count": null,
   "metadata": {},
   "outputs": [],
   "source": []
  },
  {
   "cell_type": "code",
   "execution_count": null,
   "metadata": {},
   "outputs": [],
   "source": []
  }
 ],
 "metadata": {
  "kernelspec": {
   "display_name": "Python 2",
   "language": "python",
   "name": "python2"
  },
  "language_info": {
   "codemirror_mode": {
    "name": "ipython",
    "version": 2
   },
   "file_extension": ".py",
   "mimetype": "text/x-python",
   "name": "python",
   "nbconvert_exporter": "python",
   "pygments_lexer": "ipython2",
   "version": "2.7.14"
  }
 },
 "nbformat": 4,
 "nbformat_minor": 1
}
