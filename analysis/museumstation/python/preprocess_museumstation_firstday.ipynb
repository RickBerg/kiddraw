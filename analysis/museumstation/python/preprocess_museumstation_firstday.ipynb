{
 "cells": [
  {
   "cell_type": "code",
   "execution_count": 6,
   "metadata": {},
   "outputs": [],
   "source": [
    "## remember to run conn_cocolab from the terminal before running cells in this notebook!\n",
    "import os\n",
    "#import urllib, cStringIO\n",
    "\n",
    "import pymongo as pm\n",
    "\n",
    "import matplotlib\n",
    "from matplotlib import pylab, mlab, pyplot\n",
    "%matplotlib inline\n",
    "from IPython.core.pylabtools import figsize, getfigs\n",
    "plt = pyplot\n",
    "import seaborn as sns\n",
    "sns.set_context('poster')\n",
    "sns.set_style('white')\n",
    "\n",
    "import numpy as np\n",
    "from __future__ import division\n",
    "import scipy.stats as stats\n",
    "import pandas as pd\n",
    "import json\n",
    "import re\n",
    "\n",
    "from PIL import Image\n",
    "import base64"
   ]
  },
  {
   "cell_type": "markdown",
   "metadata": {},
   "source": [
    "### file hierarchy and database connection vars"
   ]
  },
  {
   "cell_type": "code",
   "execution_count": 7,
   "metadata": {},
   "outputs": [],
   "source": [
    "# directory & file hierarchy\n",
    "iterationName = 'cdm_run_v2'\n",
    "exp_path = 'museumstation'\n",
    "analysis_dir = os.getcwd()\n",
    "exp_dir = os.path.abspath(os.path.join(os.getcwd(),'../..','experiments'))\n",
    "##\n",
    "sketch_dir = os.path.join(analysis_dir,'sketches')\n",
    "if not os.path.exists(sketch_dir):\n",
    "    os.makedirs(sketch_dir)\n",
    "## dir where we can keep all sketches not binned by category    \n"
   ]
  },
  {
   "cell_type": "code",
   "execution_count": 8,
   "metadata": {},
   "outputs": [],
   "source": [
    "# set vars \n",
    "auth = pd.read_csv('auth.txt', header = None) # this auth.txt file contains the password for the sketchloop user\n",
    "pswd = auth.values[0][0]\n",
    "user = 'sketchloop'\n",
    "host = 'rxdhawkins.me' ## cocolab ip address\n",
    "\n",
    "# have to fix this to be able to analyze from local\n",
    "import pymongo as pm\n",
    "conn = pm.MongoClient('mongodb://sketchloop:' + pswd + '@127.0.0.1')\n",
    "db = conn['kiddraw']\n",
    "coll = db['cdm_run_v2']\n"
   ]
  },
  {
   "cell_type": "code",
   "execution_count": null,
   "metadata": {},
   "outputs": [],
   "source": []
  },
  {
   "cell_type": "code",
   "execution_count": null,
   "metadata": {},
   "outputs": [],
   "source": []
  },
  {
   "cell_type": "markdown",
   "metadata": {},
   "source": [
    "### Preprocessing data and rendering images"
   ]
  },
  {
   "cell_type": "markdown",
   "metadata": {},
   "source": [
    "Notes:\n",
    "There are two types of records in the database: 'stroke' and 'finalImage'. This is stored under the key: 'dataType'.\n",
    "The 'stroke'-type of record contains the svg string information. Every stroke event is stored as a separate record.\n",
    "The session identifier is called \"sessionId\".\n",
    "\n",
    "\n"
   ]
  },
  {
   "cell_type": "code",
   "execution_count": 10,
   "metadata": {},
   "outputs": [
    {
     "name": "stdout",
     "output_type": "stream",
     "text": [
      "We currently have 381 valid sessions from cdm_run_v2.\n"
     ]
    }
   ],
   "source": [
    "# wave 1 of data collection (16 classes)\n",
    "experiment_name = 'cdm_run_v2'\n",
    "time_threshold = 1510252452134 ## this is the timepoint after which real data started getting collected\n",
    "all_sessions = coll.distinct('sessionId') ## this returns ALL sessions in this collection. we will then filter on time_threshold\n",
    "valid_sessions = coll.find({'time':{'$gt': time_threshold}}).distinct('sessionId')\n",
    "print 'We currently have {} valid sessions from {}.'.format(len(valid_sessions), experiment_name)\n"
   ]
  },
  {
   "cell_type": "code",
   "execution_count": 11,
   "metadata": {},
   "outputs": [
    {
     "data": {
      "text/plain": [
       "381"
      ]
     },
     "execution_count": 11,
     "metadata": {},
     "output_type": "execute_result"
    }
   ],
   "source": [
    "len(valid_sessions)"
   ]
  },
  {
   "cell_type": "code",
   "execution_count": 12,
   "metadata": {},
   "outputs": [
    {
     "ename": "AttributeError",
     "evalue": "'str' object has no attribute 'decode'",
     "output_type": "error",
     "traceback": [
      "\u001b[0;31m---------------------------------------------------------------------------\u001b[0m",
      "\u001b[0;31mAttributeError\u001b[0m                            Traceback (most recent call last)",
      "\u001b[0;32m<ipython-input-12-ea49c22fc82d>\u001b[0m in \u001b[0;36m<module>\u001b[0;34m()\u001b[0m\n\u001b[1;32m     61\u001b[0m                             \u001b[0mfname\u001b[0m \u001b[0;34m=\u001b[0m \u001b[0mos\u001b[0m\u001b[0;34m.\u001b[0m\u001b[0mpath\u001b[0m\u001b[0;34m.\u001b[0m\u001b[0mjoin\u001b[0m\u001b[0;34m(\u001b[0m\u001b[0mcategory_dir\u001b[0m\u001b[0;34m,\u001b[0m\u001b[0;34m'{}_sketch_{}_{}.png'\u001b[0m\u001b[0;34m.\u001b[0m\u001b[0mformat\u001b[0m\u001b[0;34m(\u001b[0m\u001b[0mimrec\u001b[0m\u001b[0;34m[\u001b[0m\u001b[0;34m'category'\u001b[0m\u001b[0;34m]\u001b[0m\u001b[0;34m,\u001b[0m \u001b[0mimrec\u001b[0m\u001b[0;34m[\u001b[0m\u001b[0;34m'age'\u001b[0m\u001b[0;34m]\u001b[0m\u001b[0;34m,\u001b[0m\u001b[0mimrec\u001b[0m\u001b[0;34m[\u001b[0m\u001b[0;34m'sessionId'\u001b[0m\u001b[0;34m]\u001b[0m\u001b[0;34m)\u001b[0m\u001b[0;34m)\u001b[0m\u001b[0;34m\u001b[0m\u001b[0m\n\u001b[1;32m     62\u001b[0m                             \u001b[0;32mwith\u001b[0m \u001b[0mopen\u001b[0m\u001b[0;34m(\u001b[0m\u001b[0mfname\u001b[0m\u001b[0;34m,\u001b[0m \u001b[0;34m\"wb\"\u001b[0m\u001b[0;34m)\u001b[0m \u001b[0;32mas\u001b[0m \u001b[0mfh\u001b[0m\u001b[0;34m:\u001b[0m\u001b[0;34m\u001b[0m\u001b[0m\n\u001b[0;32m---> 63\u001b[0;31m                                 \u001b[0mfh\u001b[0m\u001b[0;34m.\u001b[0m\u001b[0mwrite\u001b[0m\u001b[0;34m(\u001b[0m\u001b[0mimgData\u001b[0m\u001b[0;34m.\u001b[0m\u001b[0mdecode\u001b[0m\u001b[0;34m(\u001b[0m\u001b[0;34m'base64'\u001b[0m\u001b[0;34m)\u001b[0m\u001b[0;34m)\u001b[0m\u001b[0;34m\u001b[0m\u001b[0m\n\u001b[0m\u001b[1;32m     64\u001b[0m \u001b[0;34m\u001b[0m\u001b[0m\n",
      "\u001b[0;31mAttributeError\u001b[0m: 'str' object has no attribute 'decode'"
     ]
    }
   ],
   "source": [
    "really_run_this = 1\n",
    "if really_run_this:\n",
    "    ## img writing parameters\n",
    "    imsize = 224\n",
    "    \n",
    "    ## desired output: a dataframe that has trials on the rows, and the following columns:\n",
    "    ## category, age, number of strokes, mean_pixel_intensity, bounding_box_coordinates_LTRB, list of strokes, \n",
    "    ## PNG string, submission_time, submission_date\n",
    "    ## to be saved out as a nice tidy CSV\n",
    "    session_id = []\n",
    "    trial_num = []\n",
    "    category = []\n",
    "    age = []\n",
    "    num_strokes = []\n",
    "    mean_pixel_intensity = []\n",
    "    bounding_box_coords = []\n",
    "    svg = []\n",
    "    svg_times = []\n",
    "    png = []\n",
    "    submit_time = []\n",
    "    submit_date = []\n",
    "    draw_duration = []\n",
    "    filename = []\n",
    "    for s in valid_sessions:\n",
    "        this_collection = coll\n",
    "        image_recs = this_collection.find({'$and': [{'time': {'$gt': time_threshold}}, {'sessionId':s}, {'dataType':'finalImage'}]}).sort('time')    \n",
    "        for imrec in image_recs:                                                            \n",
    "                stroke_recs = this_collection.find({'$and': [{'time': {'$gt': time_threshold}}, \n",
    "                                                  {'sessionId':s}, \n",
    "                                                  {'dataType':'stroke'},\n",
    "                                                  {'trialNum': imrec['trialNum']}]}).sort('time')   \n",
    "\n",
    "                if 'age' in imrec.keys():\n",
    "                    if imrec['age'] != 'adult':\n",
    "                        if stroke_recs.count() > 0: ## only include trials if the drawings are not blank            \n",
    "                            session_id.append(imrec['sessionId'])        \n",
    "                            trial_num.append(imrec['trialNum']) \n",
    "                            category.append(imrec['category'])\n",
    "                            age.append(imrec['age'])\n",
    "                            \n",
    "                            png.append(imrec['imgData'])\n",
    "                            submit_time.append(imrec['time'])\n",
    "                            submit_date.append(imrec['date'])\n",
    "                            filename.append(os.path.join(sketch_dir,'{}_sketch_{}_{}.png'.format(imrec['category'], imrec['age'],imrec['sessionId'])))\n",
    "                            num_strokes.append(stroke_recs.count())\n",
    "                            _svg = [] # this keeps track of the strokes from THIS final image\n",
    "                            _svg_times = []\n",
    "                            for strec in stroke_recs:\n",
    "                                _svg.append(strec['svg'])\n",
    "                                _svg_times.append(strec['time'])\n",
    "                            draw_duration.append((_svg_times[-1] - _svg_times[0])/1000) ## in seconds\n",
    "                            svg.append(_svg)\n",
    "                            svg_times.append(_svg_times)\n",
    "\n",
    "                            ## and write out image data here too\n",
    "                            imgData = imrec['imgData'];\n",
    "                            filestr = base64.b64decode(imgData)\n",
    "                            category_dir = os.path.join(sketch_dir,imrec['category'])\n",
    "                            if not os.path.exists(category_dir):\n",
    "                                os.makedirs(category_dir)\n",
    "                            fname = os.path.join(category_dir,'{}_sketch_{}_{}.png'.format(imrec['category'], imrec['age'],imrec['sessionId']))\n",
    "                            with open(fname, \"wb\") as fh:\n",
    "                                fh.write(imgData.decode('base64'))  \n",
    "                        "
   ]
  },
  {
   "cell_type": "code",
   "execution_count": null,
   "metadata": {},
   "outputs": [],
   "source": [
    "X."
   ]
  },
  {
   "cell_type": "code",
   "execution_count": null,
   "metadata": {},
   "outputs": [],
   "source": [
    "if really_run_this:\n",
    "    X = pd.DataFrame([session_id,trial_num,category,age,submit_time,submit_date,num_strokes,svg,svg_times,png,draw_duration,filename])\n",
    "    X = X.transpose()\n",
    "    X.columns = ['session_id','trial_num','category','age','submit_time','submit_date','num_strokes','svg','svg_times','png','draw_duration', 'filename']\n",
    "\n"
   ]
  },
  {
   "cell_type": "code",
   "execution_count": null,
   "metadata": {},
   "outputs": [],
   "source": [
    "if really_run_this:\n",
    "    X_out = pd.DataFrame([session_id,trial_num,category,age,submit_time,submit_date,num_strokes,draw_duration,filename])\n",
    "    X_out = X_out.transpose()\n",
    "    X_out.columns = ['session_id','trial_num','category','age','submit_time','submit_date','num_strokes','draw_duration', 'filename']\n",
    "\n",
    "    X_out.to_csv('May4th_usage.csv')"
   ]
  },
  {
   "cell_type": "code",
   "execution_count": null,
   "metadata": {},
   "outputs": [],
   "source": [
    "# def get_bounding_box(img):\n",
    "#     rows = np.any(img, axis=1)\n",
    "#     cols = np.any(img, axis=0)\n",
    "#     rmin, rmax = np.where(rows)[0][[0, -1]]\n",
    "#     cmin, cmax = np.where(cols)[0][[0, -1]]\n",
    "#     return rmin, rmax, cmin, cmax\n",
    "\n",
    "# merged_experiment_name = 'E1cd'\n",
    "\n",
    "# if really_run_this:\n",
    "\n",
    "#     ## add mean pixel intensity (amount of ink spilled) & bounding box coords \n",
    "#     mean_intensity = []\n",
    "#     bounding_box = []\n",
    "#     imsize = 100\n",
    "#     numpix = imsize**2\n",
    "#     thresh = 250\n",
    "#     for i,_d in X.iterrows():\n",
    "#         imgData = _d['png']\n",
    "#         filestr = base64.b64decode(imgData)\n",
    "#         fname = os.path.join('sketch.png')\n",
    "#         with open(fname, \"wb\") as fh:\n",
    "#             fh.write(imgData.decode('base64'))\n",
    "#         im = Image.open(fname).resize((imsize,imsize))\n",
    "#         _im = np.array(im)\n",
    "#         mean_intensity.append(len(np.where(_im[:,:,3].flatten()>thresh)[0])/numpix)\n",
    "#         # bounding box part\n",
    "#         rmin, rmax, cmin, cmax = get_bounding_box(np.array(Image.open(fname)))\n",
    "#         bounding_box.append(tuple((rmin, rmax, cmin, cmax)))\n",
    "\n",
    "#     ## add to dataframe    \n",
    "#     X = X.assign(mean_intensity=pd.Series(mean_intensity).values)\n",
    "#     X = X.assign(bounding_box=pd.Series(bounding_box).values)\n",
    "    \n",
    "#     # save out csv\n",
    "#     if not os.path.exists('../preprocessed_data'):\n",
    "#         os.makedirs('../preprocessed_data')\n",
    "#     X.to_csv('../preprocessed_data/museumdraw_{}_data.csv'.format(merged_experiment_name))\n"
   ]
  },
  {
   "cell_type": "code",
   "execution_count": null,
   "metadata": {},
   "outputs": [],
   "source": [
    "sum(X.age )"
   ]
  },
  {
   "cell_type": "markdown",
   "metadata": {},
   "source": [
    "### load drawing metadata csv back in"
   ]
  },
  {
   "cell_type": "code",
   "execution_count": null,
   "metadata": {},
   "outputs": [],
   "source": [
    "plt.hist(X.age,normed=False)\n",
    "plt.xticks(rotation=90)\n",
    "len(X.age)\n",
    "sum(X.age != 'adult')"
   ]
  },
  {
   "cell_type": "markdown",
   "metadata": {},
   "source": [
    "### Basic visualizations"
   ]
  },
  {
   "cell_type": "code",
   "execution_count": null,
   "metadata": {},
   "outputs": [],
   "source": [
    "np.sum(X.draw_duration.values>25)"
   ]
  },
  {
   "cell_type": "code",
   "execution_count": 5,
   "metadata": {},
   "outputs": [
    {
     "ename": "NameError",
     "evalue": "name 'X' is not defined",
     "output_type": "error",
     "traceback": [
      "\u001b[0;31m---------------------------------------------------------------------------\u001b[0m",
      "\u001b[0;31mNameError\u001b[0m                                 Traceback (most recent call last)",
      "\u001b[0;32m<ipython-input-5-041cab15e6bf>\u001b[0m in \u001b[0;36m<module>\u001b[0;34m()\u001b[0m\n\u001b[1;32m      1\u001b[0m \u001b[0mfig\u001b[0m \u001b[0;34m=\u001b[0m \u001b[0mplt\u001b[0m\u001b[0;34m.\u001b[0m\u001b[0mfigure\u001b[0m\u001b[0;34m(\u001b[0m\u001b[0mfigsize\u001b[0m\u001b[0;34m=\u001b[0m\u001b[0;34m(\u001b[0m\u001b[0;36m4\u001b[0m\u001b[0;34m,\u001b[0m\u001b[0;36m4\u001b[0m\u001b[0;34m)\u001b[0m\u001b[0;34m)\u001b[0m\u001b[0;34m\u001b[0m\u001b[0m\n\u001b[0;32m----> 2\u001b[0;31m \u001b[0mh\u001b[0m \u001b[0;34m=\u001b[0m \u001b[0mplt\u001b[0m\u001b[0;34m.\u001b[0m\u001b[0mhist\u001b[0m\u001b[0;34m(\u001b[0m\u001b[0mX\u001b[0m\u001b[0;34m.\u001b[0m\u001b[0mnum_strokes\u001b[0m\u001b[0;34m.\u001b[0m\u001b[0mvalues\u001b[0m\u001b[0;34m,\u001b[0m\u001b[0mnormed\u001b[0m\u001b[0;34m=\u001b[0m\u001b[0;32mTrue\u001b[0m\u001b[0;34m)\u001b[0m\u001b[0;34m\u001b[0m\u001b[0m\n\u001b[0m\u001b[1;32m      3\u001b[0m \u001b[0mplt\u001b[0m\u001b[0;34m.\u001b[0m\u001b[0mylabel\u001b[0m\u001b[0;34m(\u001b[0m\u001b[0;34m'proportion'\u001b[0m\u001b[0;34m)\u001b[0m\u001b[0;34m\u001b[0m\u001b[0m\n\u001b[1;32m      4\u001b[0m \u001b[0mplt\u001b[0m\u001b[0;34m.\u001b[0m\u001b[0mxlabel\u001b[0m\u001b[0;34m(\u001b[0m\u001b[0;34m'number of strokes'\u001b[0m\u001b[0;34m)\u001b[0m\u001b[0;34m\u001b[0m\u001b[0m\n",
      "\u001b[0;31mNameError\u001b[0m: name 'X' is not defined"
     ]
    },
    {
     "data": {
      "text/plain": [
       "<matplotlib.figure.Figure at 0x1049c3668>"
      ]
     },
     "metadata": {},
     "output_type": "display_data"
    }
   ],
   "source": [
    "fig = plt.figure(figsize=(4,4))\n",
    "h = plt.hist(X.num_strokes.values,normed=True)\n",
    "plt.ylabel('proportion')\n",
    "plt.xlabel('number of strokes')"
   ]
  },
  {
   "cell_type": "code",
   "execution_count": null,
   "metadata": {},
   "outputs": [],
   "source": [
    "fig = plt.figure(figsize=(4,4))\n",
    "h = plt.hist(X.draw_duration.values,normed=True)\n",
    "plt.ylabel('proportion')\n",
    "plt.xlabel('draw duration')"
   ]
  },
  {
   "cell_type": "code",
   "execution_count": null,
   "metadata": {},
   "outputs": [],
   "source": [
    "plt.figure(figsize=(14,4))\n",
    "\n",
    "plt.subplot(1,3,1)\n",
    "seq = np.arange(4,10)\n",
    "sns.barplot(data=X,x='age',y='num_strokes',order=seq,palette=\"Greens_d\")\n",
    "plt.ylabel('number of strokes')\n",
    "\n",
    "plt.subplot(1,3,2)\n",
    "seq = np.arange(4,10)\n",
    "\n",
    "sns.barplot(data=X,x='age',y='draw_duration',order=seq, palette=\"Greens_d\")\n",
    "plt.ylabel('draw duration (s)')\n",
    "\n",
    "# plt.subplot(1,3,3)\n",
    "# seq = np.arange(4,10)\n",
    "# sns.barplot(data=X,x='age',y='mean_intensity',order=seq,palette=\"Greens_d\")\n",
    "# plt.ylabel('mean pixel intensity')\n",
    "\n",
    "plt.tight_layout()"
   ]
  },
  {
   "cell_type": "code",
   "execution_count": null,
   "metadata": {},
   "outputs": [],
   "source": [
    "X.category"
   ]
  },
  {
   "cell_type": "code",
   "execution_count": null,
   "metadata": {},
   "outputs": [],
   "source": [
    "unique = X.drop_duplicates([\"session_id\"])\n",
    "unique.count()\n",
    "# sum(unique.age != 'adult')\n",
    "sum(unique.age != 'adult')"
   ]
  },
  {
   "cell_type": "code",
   "execution_count": null,
   "metadata": {},
   "outputs": [],
   "source": [
    "X."
   ]
  },
  {
   "cell_type": "code",
   "execution_count": null,
   "metadata": {},
   "outputs": [],
   "source": [
    "unique"
   ]
  },
  {
   "cell_type": "code",
   "execution_count": null,
   "metadata": {},
   "outputs": [],
   "source": [
    "categories = [i for i in os.listdir('sketches') if i != '.DS_Store']\n",
    "num_ims = 0\n",
    "ims_per_cat = []\n",
    "for c in categories:\n",
    "    num_ims += len([i for i in os.listdir(os.path.join('sketches',c)) if i != '.DS_Store'])\n",
    "    ims_per_cat.append(len([i for i in os.listdir(os.path.join('sketches',c)) if i != '.DS_Store']))\n",
    "    \n",
    "print num_ims\n",
    "print ims_per_cat"
   ]
  },
  {
   "cell_type": "code",
   "execution_count": null,
   "metadata": {},
   "outputs": [],
   "source": []
  },
  {
   "cell_type": "code",
   "execution_count": null,
   "metadata": {},
   "outputs": [],
   "source": []
  },
  {
   "cell_type": "code",
   "execution_count": null,
   "metadata": {},
   "outputs": [],
   "source": []
  },
  {
   "cell_type": "code",
   "execution_count": null,
   "metadata": {},
   "outputs": [],
   "source": []
  },
  {
   "cell_type": "code",
   "execution_count": null,
   "metadata": {},
   "outputs": [],
   "source": []
  },
  {
   "cell_type": "code",
   "execution_count": null,
   "metadata": {},
   "outputs": [],
   "source": []
  }
 ],
 "metadata": {
  "kernelspec": {
   "display_name": "Python 3",
   "language": "python",
   "name": "python3"
  },
  "language_info": {
   "codemirror_mode": {
    "name": "ipython",
    "version": 3
   },
   "file_extension": ".py",
   "mimetype": "text/x-python",
   "name": "python",
   "nbconvert_exporter": "python",
   "pygments_lexer": "ipython3",
   "version": "3.6.3"
  }
 },
 "nbformat": 4,
 "nbformat_minor": 1
}
