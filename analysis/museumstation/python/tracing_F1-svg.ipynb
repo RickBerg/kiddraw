{
 "cells": [
  {
   "cell_type": "markdown",
   "metadata": {},
   "source": [
    "# Tracing Task Analysis"
   ]
  },
  {
   "cell_type": "code",
   "execution_count": 1,
   "metadata": {},
   "outputs": [],
   "source": [
    "import cv2\n",
    "import numpy as np\n",
    "import scipy.stats as stats\n",
    "import os\n",
    "import pandas as pd\n",
    "import matplotlib\n",
    "from matplotlib import pylab, mlab, pyplot\n",
    "import svgpathtools"
   ]
  },
  {
   "cell_type": "code",
   "execution_count": 2,
   "metadata": {},
   "outputs": [],
   "source": [
    "# file path\n",
    "analysis_dir = os.getcwd()\n",
    "sketch_dir = os.path.join(analysis_dir, 'cumulative_drawings')\n",
    "#sketch_dir = os.path.join(analysis_dir, 'test')\n",
    "data_dir = os.path.join(analysis_dir, 'usage_data')\n",
    "\n",
    "tracing_dir = os.path.join(analysis_dir, 'tracing')\n",
    "t_analysis_dir = os.path.join(analysis_dir,'tracing_analysis')\n",
    "tracing = ['square','shape', 'this circle']\n",
    "f1_folders = ['0-0', '0-0.25', '0.25-0.5', '0.5-0.75', '0.75-1']\n",
    "for t in tracing:\n",
    "    t_folder = os.path.join(t_analysis_dir, t)\n",
    "    if not os.path.exists(t_folder):\n",
    "        os.makedirs(t_folder)\n",
    "    \n",
    "    for f in f1_folders:\n",
    "        f_folder = os.path.join(t_folder,f)\n",
    "        if not os.path.exists(f_folder):\n",
    "            os.makedirs(f_folder)\n",
    "        "
   ]
  },
  {
   "cell_type": "markdown",
   "metadata": {},
   "source": [
    "### Compute F1 Scores"
   ]
  },
  {
   "cell_type": "code",
   "execution_count": null,
   "metadata": {},
   "outputs": [],
   "source": [
    "\n",
    "f1_scores = []\n",
    "trace_img_list = []\n",
    "\n",
    "for t in tracing:\n",
    "        \n",
    "    # find the tracing image and corresponding sketch folder\n",
    "    fname = t + '.png'\n",
    "    fpath = os.path.join(tracing_dir,fname)\n",
    "    img_trace = cv2.imread(fpath)\n",
    "    \n",
    "    # turn white pixels into black. Keep all pixels not on the shape black\n",
    "    pixels_trace = np.argwhere(img_trace.sum(axis=2) == 255*3)\n",
    "    for p in pixels_trace:\n",
    "        img_trace[p[0]][p[1]] = [0,0,0]\n",
    "    \n",
    "    \n",
    "    # add padding to the tracing image. In the experiment, the tracing image only occupied 70% of the canvas\n",
    "    old_size = img_trace.shape[:2]\n",
    "    ratio = 0.7\n",
    "    color = [0, 0, 0]\n",
    "    new_width = old_size[1]/ratio\n",
    "    left = int((new_width - old_size[1])/2)\n",
    "    right = left\n",
    "    top = int((new_width - old_size[0])/2)\n",
    "    bottom = top\n",
    "    img_trace = cv2.copyMakeBorder(img_trace, top, bottom, left, right, cv2.BORDER_CONSTANT, value=color)\n",
    "    cv2.imwrite(os.path.join(tracing_dir, 'resize1_' + fname), img_trace)\n",
    "        \n",
    "    # resize the tracing image to the same size as the drawing image\n",
    "    rows, cols = 432, 432 # the size of a given drawing image\n",
    "    img_trace = cv2.resize(img_trace, (rows, cols))\n",
    "    cv2.imwrite(os.path.join(tracing_dir, 'resize_' + fname), img_trace)\n",
    "    trace_img_list.append(img_trace)"
   ]
  },
  {
   "cell_type": "code",
   "execution_count": null,
   "metadata": {},
   "outputs": [],
   "source": [
    "# get drawings from the sketchs folder\n",
    "for kid in os.listdir(sketch_dir):\n",
    "    if not kid.startswith('cdm'): continue\n",
    "        \n",
    "    for t_index, t in enumerate(tracing):\n",
    "        # get the analysis folder and tracing image\n",
    "        t_folder = os.path.join(t_analysis_dir,t)\n",
    "        img_trace = trace_img_list[t_index]\n",
    "        session_id = kid.split('_')[2]\n",
    "        \n",
    "        age = kid.split('_')[3].replace('age','')\n",
    "        if age == 'adult':\n",
    "            age = 11\n",
    "        else:\n",
    "            age = int(age)\n",
    "\n",
    "        trace_folder = str(t_index) + '_' + t\n",
    "        draw_img_dir = os.path.join(sketch_dir,kid,trace_folder)\n",
    "\n",
    "        if not os.path.exists(draw_img_dir): continue\n",
    "\n",
    "        ## calculate F1 score for drawings \n",
    "\n",
    "        # import drawing\n",
    "        file_list = sorted(os.listdir(draw_img_dir))\n",
    "        img = file_list[-1]\n",
    "        draw_fname = os.path.join(draw_img_dir, img)\n",
    "        img_draw = cv2.imread(draw_fname)\n",
    "\n",
    "        # true positive: pixel was tracing shape & drawer traced there: number of pixels that overlapped (HITS)\n",
    "        # false positive: pixel was not tracing shape & drawer traced there: number of pixels that were drawn NOT on the shape (false alarms)\n",
    "        # true negative; pixel was NOT tracing shape & drawer DID not draw there (white pixels outside of tracing shape) (correct rejections)\n",
    "        # false negatives: pixel WAS the tracing shape & drawer DID NOT tracer there: number of pixels that should have been traced and were not (MISS)\n",
    "        true_positive, true_negative, false_positive, false_negative = 0, 0, 0, 0\n",
    "\n",
    "        for i in range(rows):\n",
    "            for j in range(cols):\n",
    "                # the background color of drawing is white and the background color of tracing is black\n",
    "\n",
    "                if 255*3 > sum(img_draw[i][j]): # non-white pixels\n",
    "                    if 255*3 > sum(img_trace[i][j])>0: # non-black pixels\n",
    "                        true_positive +=1\n",
    "                    else:\n",
    "                        false_positive += 1\n",
    "\n",
    "                else: # white background pixels on the drawing\n",
    "                    if 255*3 > sum(img_trace[i][j]) > 0:\n",
    "                        false_negative +=1\n",
    "                    else:\n",
    "                        true_negative += 1\n",
    "\n",
    "        # calculate precision and recall\n",
    "        precision, recall = 0, 0\n",
    "        if true_positive != 0:\n",
    "            precision = float(true_positive)/(true_positive + false_positive)\n",
    "            recall = float(true_positive)/(true_positive + false_negative)\n",
    "\n",
    "        # calculate the F1 score\n",
    "        f1 = 0\n",
    "        if precision + recall != 0:\n",
    "            f1 = 2 * (precision * recall) / (precision + recall)\n",
    "#         print f1\n",
    "#         print precision, recall\n",
    "#         print true_positive, false_positive, false_negative\n",
    "        f1_scores.append([session_id, age, t, f1, precision, recall, true_positive, true_negative, false_positive, false_negative])\n",
    "    \n",
    "        # put the image into the tracing analysis folder\n",
    "        if f1 == 0:\n",
    "            f_folder = f1_folders[0]\n",
    "        elif 0 < f1 <= 0.25:\n",
    "            f_folder = f1_folders[1]\n",
    "        elif 0.25 < f1 <= 0.5:\n",
    "            f_folder = f1_folders[2]\n",
    "        elif 0.5 < f1 <=0.75:\n",
    "            f_folder = f1_folders[3]\n",
    "        else:\n",
    "            f_folder = f1_folders[4]\n",
    "            \n",
    "        filename = 'age{}_f1{}_p{}_r{}.png'.format(age, f1, precision, recall) \n",
    "        cv2.imwrite(os.path.join(t_folder,f_folder,filename), img_draw)\n",
    "            "
   ]
  },
  {
   "cell_type": "code",
   "execution_count": null,
   "metadata": {},
   "outputs": [],
   "source": [
    "# write data to cvs files\n",
    "print(len(f1_scores))\n",
    "print (true_positive, true_negative, false_positive, false_negative)\n",
    "print (img)\n",
    "print f1"
   ]
  },
  {
   "cell_type": "code",
   "execution_count": null,
   "metadata": {},
   "outputs": [],
   "source": [
    "# write data to csv files\n",
    "data = pd.DataFrame(f1_scores)\n",
    "data.columns = ['sessionID', 'age', 'tracing_item', 'f1_score', 'precision', 'recall', 'tp', 'tn','fp', 'fn']\n",
    "data.to_csv(os.path.join(data_dir,'f1_scores_svg_all.csv'))"
   ]
  },
  {
   "cell_type": "markdown",
   "metadata": {},
   "source": [
    "### Visualization"
   ]
  },
  {
   "cell_type": "markdown",
   "metadata": {},
   "source": [
    "#### Basic Visualization"
   ]
  },
  {
   "cell_type": "code",
   "execution_count": 4,
   "metadata": {},
   "outputs": [
    {
     "data": {
      "text/plain": [
       "Text(0.5,0,u'f1_scores')"
      ]
     },
     "execution_count": 4,
     "metadata": {},
     "output_type": "execute_result"
    },
    {
     "data": {
      "image/png": "[encoded data removed]",
      "text/plain": [
       "<matplotlib.figure.Figure at 0x10abb6510>"
      ]
     },
     "metadata": {},
     "output_type": "display_data"
    }
   ],
   "source": [
    "# show the F1 score ranges\n",
    "data = pd.read_csv(os.path.join(data_dir, 'f1_scores_svg_all.csv'))\n",
    "plt = pyplot\n",
    "fig = plt.figure(figsize=(4,4))\n",
    "h = plt.hist(data.f1_score.values,normed=True)\n",
    "plt.ylabel('proportion')\n",
    "plt.xlabel('f1_scores')"
   ]
  },
  {
   "cell_type": "code",
   "execution_count": 5,
   "metadata": {},
   "outputs": [
    {
     "data": {
      "image/png": "[encoded data removed]",
      "text/plain": [
       "<matplotlib.figure.Figure at 0x10afc7910>"
      ]
     },
     "metadata": {},
     "output_type": "display_data"
    },
    {
     "data": {
      "image/png": "[encoded data removed]",
      "text/plain": [
       "<matplotlib.figure.Figure at 0x10afc74d0>"
      ]
     },
     "metadata": {},
     "output_type": "display_data"
    },
    {
     "data": {
      "image/png": "[encoded data removed]",
      "text/plain": [
       "<matplotlib.figure.Figure at 0x10b053710>"
      ]
     },
     "metadata": {},
     "output_type": "display_data"
    }
   ],
   "source": [
    "for index, t in enumerate(tracing):\n",
    "    t_data = data.loc[data['tracing_item'] == t]\n",
    "    fig = plt.figure(figsize=(4,4))\n",
    "    h = plt.hist(t_data.f1_score.values,normed=True)\n",
    "    plt.ylabel('proportion')\n",
    "    plt.xlabel(t + ' f1_scores')"
   ]
  },
  {
   "cell_type": "markdown",
   "metadata": {},
   "source": [
    "#### Age and F1 Scores (Absolute)"
   ]
  },
  {
   "cell_type": "code",
   "execution_count": 7,
   "metadata": {},
   "outputs": [
    {
     "data": {
      "text/plain": [
       "<matplotlib.legend.Legend at 0x10c475c10>"
      ]
     },
     "execution_count": 7,
     "metadata": {},
     "output_type": "execute_result"
    },
    {
     "data": {
      "image/png": "[encoded data removed]",
      "text/plain": [
       "<matplotlib.figure.Figure at 0x10c475890>"
      ]
     },
     "metadata": {},
     "output_type": "display_data"
    }
   ],
   "source": [
    "# Age and F1 score\n",
    "min_age, max_age = 2, 10\n",
    "age_range = range(min_age, max_age+1)\n",
    "\n",
    "fig = plt.figure(figsize=(6,6))\n",
    "line_list = []\n",
    "for t in tracing:\n",
    "    age_avg = []\n",
    "    for age in age_range:\n",
    "        current_age = data.loc[(data['age'] == age) & (data['tracing_item'] == t)]\n",
    "        current_f1_scores = current_age.f1_score.values\n",
    "        current_avg = np.average(current_f1_scores)\n",
    "        if len(current_f1_scores)==0:\n",
    "            age_avg.append(0)\n",
    "        else:\n",
    "            age_avg.append(current_avg)    \n",
    "\n",
    "    p, = plt.plot(age_range, age_avg)\n",
    "    line_list.append(p)\n",
    "    plt.ylabel(t +' f1_scores')\n",
    "    plt.xlabel('age')\n",
    "\n",
    "plt.legend(line_list, tracing)\n"
   ]
  },
  {
   "cell_type": "code",
   "execution_count": 22,
   "metadata": {},
   "outputs": [
    {
     "data": {
      "image/png": "[encoded data removed]",
      "text/plain": [
       "<matplotlib.figure.Figure at 0x1a15238390>"
      ]
     },
     "metadata": {},
     "output_type": "display_data"
    }
   ],
   "source": [
    "# Age and F1 score\n",
    "plt.figure(figsize=(18,5))\n",
    "\n",
    "for ti, t in enumerate(tracing):\n",
    "    age = []\n",
    "    f1_list = []\n",
    "    current_trace = data.loc[(data['tracing_item'] == t)& (data['age']!= 11)]\n",
    "    for index, row in current_trace.iterrows():\n",
    "        age.append(row['age'])\n",
    "        f1_list.append(row['f1_score'])\n",
    "    plt.subplot(1,3,ti+1)\n",
    "    h = plt.scatter(age, f1_list)\n",
    "    plt.ylabel(t +' f1_scores')\n",
    "    plt.xlabel('age')\n",
    "\n",
    "\n"
   ]
  },
  {
   "cell_type": "code",
   "execution_count": null,
   "metadata": {},
   "outputs": [],
   "source": [
    "# correlations\n",
    "for t in tracing:\n",
    "    current_shape = data.loc[data['tracing_item'] == t]\n",
    "    current_f1_scores = current_shape.f1_score.values\n",
    "    current_age = current_shape.age.values\n",
    "    print (t, stats.spearmanr(current_f1_scores, current_age))\n"
   ]
  },
  {
   "cell_type": "markdown",
   "metadata": {},
   "source": [
    "#### Shape and F1 Scores"
   ]
  },
  {
   "cell_type": "code",
   "execution_count": null,
   "metadata": {},
   "outputs": [],
   "source": [
    "# Age and F1 score\n",
    "tracing_avg = []\n",
    "for t in tracing:\n",
    "    current_shape = data.loc[(data['tracing_item'] == t)]\n",
    "    current_f1_scores = current_shape.f1_score.values\n",
    "    current_avg = np.average(current_f1_scores)\n",
    "    if len(current_f1_scores)==0:\n",
    "        tracing_avg.append(0)\n",
    "    else:\n",
    "        tracing_avg.append(current_avg)    \n",
    "\n",
    "fig = plt.figure(figsize=(4,4))\n",
    "p = plt.bar(tracing, tracing_avg)\n",
    "plt.ylabel('average f1_scores')\n",
    "\n"
   ]
  },
  {
   "cell_type": "markdown",
   "metadata": {},
   "source": [
    "### Tracing and Drawing"
   ]
  },
  {
   "cell_type": "code",
   "execution_count": 12,
   "metadata": {},
   "outputs": [],
   "source": [
    "def n_by_m_tracing(n, m, score_name, tracing_item, data):\n",
    "    \"\"\"\n",
    "    For n (age groups) by m (tracing scores) analysis of drawings:\n",
    "    a. Divide age ranges into n groups and tracing scores into m groups\n",
    "    b. Pull corresponding category drawings in each group\n",
    "    c. Drawings in each group is stored in a separate folder\n",
    "    \n",
    "    \"\"\"\n",
    "    # make a folder to pull images into different groups\n",
    "    img_folder = os.path.join(t_analysis_dir, '{}_{}_{}by{}'.format(tracing_item, score_name, n, m))\n",
    "    if not os.path.exists(img_folder):\n",
    "        os.makedirs(img_folder)\n",
    "        \n",
    "    # get the corresponding tracing data\n",
    "    tracing_col = data.loc[(data['tracing_item'] == tracing_item)]\n",
    "\n",
    "    \n",
    "    # divide the tracing scores into m ranges\n",
    "    score_groups = []\n",
    "    min_score = 0.0\n",
    "    max_score = 1.0\n",
    "    step = round((max_score - min_score)/m, 2)\n",
    "\n",
    "    for i in range(m):\n",
    "        range_min = min_score + i * step\n",
    "        range_max = min_score + (i+1) * step\n",
    "        score_groups.append((range_min, range_max))\n",
    "\n",
    "    # divide age groups into n ranges\n",
    "    min_age, max_age = 2, 10\n",
    "    step = (max_age - min_age + 1)/n\n",
    "    age_groups = []\n",
    "    for age in range(min_age, max_age + 1, step):\n",
    "        age_groups.append((age, age + step))\n",
    "    age_groups.append((11, 12))\n",
    "    \n",
    "    # create n age folders and each folder has m score folders\n",
    "    for ag in age_groups:\n",
    "        age_folder = os.path.join(img_folder, 'age{}-{}'.format(str(ag[0]), str(ag[1]-1)) )\n",
    "        if not os.path.exists(age_folder):\n",
    "            os.makedirs(age_folder)\n",
    "\n",
    "        for sr in score_groups:\n",
    "            score_folder = os.path.join(age_folder, '{}-{}'.format(str(sr[0]), str(sr[1]) ) )\n",
    "            if not os.path.exists(score_folder):\n",
    "                os.makedirs(score_folder)\n",
    "\n",
    "                \n",
    "    # for each user in the selected tracing data\n",
    "    for index, row in data.iterrows():\n",
    "        age = int(row['age'])\n",
    "        score = float(row[score_name])\n",
    "        sessionID = row['sessionID']\n",
    "        \n",
    "        # determin age and score range\n",
    "        for ag in age_groups:\n",
    "            if ag[0] <= age < ag[1]:\n",
    "                current_ag = ag\n",
    "                break\n",
    "        \n",
    "        for sg in score_groups:\n",
    "            if sg[0] <= score < sg[1]:\n",
    "                current_sg = sg\n",
    "                break\n",
    "        \n",
    "        # find the corresponding folder\n",
    "        current_age_folder = os.path.join(img_folder, 'age{}-{}'.format(str(current_ag[0]), str(current_ag[1]-1) ) )\n",
    "        current_score_folder = os.path.join(current_age_folder, '{}-{}'.format(str(current_sg[0]), str(current_sg[1])) )\n",
    "        \n",
    "        # find the corresponding drawings\n",
    "        if age == 11:\n",
    "            user_folder = os.path.join('cumulative_drawings','cdm_run_{}_adult'.format(sessionID))\n",
    "        else:\n",
    "            user_folder = os.path.join('cumulative_drawings','cdm_run_{}_age{}'.format(sessionID,age))\n",
    "        \n",
    "        # copy the drawing into the group folder by categories\n",
    "        for folder_name in os.listdir(user_folder):\n",
    "            if folder_name == '.DS_Store':\n",
    "                continue\n",
    "                    \n",
    "            cat_name = folder_name.split('_')[1]\n",
    "            cat_folder = os.path.join(current_score_folder, cat_name)\n",
    "            if not os.path.exists(cat_folder):\n",
    "                os.makedirs(cat_folder)\n",
    "                \n",
    "            cat_draw_folder = os.path.join(user_folder, folder_name)\n",
    "            final_drawing = os.listdir(cat_draw_folder)[-1]\n",
    "            cat_draw = cv2.imread(os.path.join(cat_draw_folder,final_drawing))\n",
    "            new_fname = 'age{}_{}{}.png'.format(age, score_name, score)\n",
    "            cv2.imwrite(os.path.join(cat_folder,new_fname), cat_draw)\n",
    "                                  \n",
    "            "
   ]
  },
  {
   "cell_type": "markdown",
   "metadata": {},
   "source": [
    "#### age groups x f1 scores analysis"
   ]
  },
  {
   "cell_type": "code",
   "execution_count": 15,
   "metadata": {},
   "outputs": [],
   "source": [
    "# set the number of groups needed and make folders\n",
    "n, m =  3, 4  # n: the number of age groups   m: the number of different f1/recall/precision ranges\n",
    "df = pd.read_csv(os.path.join(data_dir,'f1_scores_svg_all.csv'))\n",
    "\n",
    "for t in ['shape']:\n",
    "    data = df.loc[df['tracing_item'] == t]\n",
    "    score_names = ['f1_score']\n",
    "    for s in score_names:\n",
    "        n_by_m_tracing(n, m, s, t, data)"
   ]
  },
  {
   "cell_type": "code",
   "execution_count": null,
   "metadata": {},
   "outputs": [],
   "source": []
  }
 ],
 "metadata": {
  "kernelspec": {
   "display_name": "Python 2",
   "language": "python",
   "name": "python2"
  },
  "language_info": {
   "codemirror_mode": {
    "name": "ipython",
    "version": 2
   },
   "file_extension": ".py",
   "mimetype": "text/x-python",
   "name": "python",
   "nbconvert_exporter": "python",
   "pygments_lexer": "ipython2",
   "version": "2.7.14"
  }
 },
 "nbformat": 4,
 "nbformat_minor": 2
}
